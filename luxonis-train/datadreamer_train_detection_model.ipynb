{
 "cells": [
  {
   "cell_type": "markdown",
   "metadata": {},
   "source": [
    "# Training an Object Detection Model\n",
    "\n",
    "## 🌟 Overview\n",
    "In this tutorial we'll go through the process of training a custom object detection model. We'll first create a dataset, setup the training configuration and then use it to train our own NN model. We'll also validate the performance of our model, export it and make it ready for a deployment on a Luxonis device.\n",
    "\n",
    "## 📜 Table of Contents\n",
    "- [🛠️ Installation](#️-installation)\n",
    "- [🗃️ Data Preparation](#️-data-preparation)\n",
    "    - [🧐 Generating Object Detection Annotation](#-generating-object-detection-annotation)\n",
    "    - [💾 LuxonisDataset](#-luxonisdataset)\n",
    "- [🏋️‍♂️ Training](#️️-training)\n",
    "    - [⚙️ Configuration](#️-configuration)\n",
    "    - [🦾 Train](#-train)\n",
    "- [✍ Test](#-test)\n",
    "    - [🧠 Infer](#-infer)\n",
    "- [🗂️ Export and Archive](#️-export-and-archive)\n",
    "- [🤖 Deploy](#-deploy)\n",
    "- [📷 DepthAI Script](#-depthai-script)\n"
   ]
  },
  {
   "cell_type": "markdown",
   "metadata": {},
   "source": [
    "## 🛠️ Installation"
   ]
  },
  {
   "cell_type": "markdown",
   "metadata": {},
   "source": [
    "The main focus of this tutorial is using [`LuxonisTrain`](https://github.com/luxonis/luxonis-train) together with [`DataDreamer`](https://github.com/luxonis/datadreamer). [`LuxonisTrain`](https://github.com/luxonis/luxonis-train) is a user-friendly tool designed to streamline the training of deep learning models, especially for edge devices. [`DataDreamer`](https://github.com/luxonis/datadreamer) is an advanced toolkit for generating synthetic datasets and annotating images using the latest foundational models. We'll download our images from [`Kaggle`](https://www.kaggle.com/), generate annotations and store it in `LuxonisDataset`."
   ]
  },
  {
   "cell_type": "code",
   "execution_count": 1,
   "metadata": {},
   "outputs": [
    {
     "name": "stdout",
     "output_type": "stream",
     "text": [
      "\n",
      "\u001b[1m[\u001b[0m\u001b[34;49mnotice\u001b[0m\u001b[1;39;49m]\u001b[0m\u001b[39;49m A new release of pip is available: \u001b[0m\u001b[31;49m24.0\u001b[0m\u001b[39;49m -> \u001b[0m\u001b[32;49m24.3.1\u001b[0m\n",
      "\u001b[1m[\u001b[0m\u001b[34;49mnotice\u001b[0m\u001b[1;39;49m]\u001b[0m\u001b[39;49m To update, run: \u001b[0m\u001b[32;49mpip install --upgrade pip\u001b[0m\n"
     ]
    }
   ],
   "source": [
    "!pip install -q kaggle datadreamer@git+https://github.com/luxonis/datadreamer.git@fix/luxonis-dataset-bbox-computation luxonis-train==0.1.0 luxonis-ml==0.4.1\n",
    "# !pip install -q kaggle datadreamer@git+https://github.com/luxonis/datadreamer.git@dev luxonis-train==0.1.0 luxonis-ml==0.4.1"
   ]
  },
  {
   "cell_type": "markdown",
   "metadata": {},
   "source": [
    "## 🗃️ Data Preparation"
   ]
  },
  {
   "cell_type": "markdown",
   "metadata": {},
   "source": [
    "First, we need to download and prepare our dataset. For this example, we'll use a publicly available dataset from Kaggle called [`Cats and Dogs 40`](https://www.kaggle.com/datasets/stefancomanita/cats-and-dogs-40). This dataset is originally an image classification dataset. However, we will utilize the aforementioned [`DataDreamer`](https://github.com/luxonis/datadreamer) toolkit to generate object detection annotation for the images. Therefore, our task is to train a model that is able to detect cats and dogs. \n",
    "\n",
    "To download the dataset, we'll run this:"
   ]
  },
  {
   "cell_type": "code",
   "execution_count": 2,
   "metadata": {},
   "outputs": [
    {
     "name": "stdout",
     "output_type": "stream",
     "text": [
      "Dataset URL: https://www.kaggle.com/datasets/stefancomanita/cats-and-dogs-40\n",
      "License(s): CC0-1.0\n",
      "Downloading cats-and-dogs-40.zip to data\n",
      "  0%|                                                | 0.00/445k [00:00<?, ?B/s]\n",
      "100%|████████████████████████████████████████| 445k/445k [00:00<00:00, 17.8MB/s]\n"
     ]
    }
   ],
   "source": [
    "!rm -r ./data/catsAndDogs40/\n",
    "!kaggle datasets download -d stefancomanita/cats-and-dogs-40 -p data --unzip"
   ]
  },
  {
   "cell_type": "markdown",
   "metadata": {},
   "source": [
    "We'll move images to one place:"
   ]
  },
  {
   "cell_type": "code",
   "execution_count": 3,
   "metadata": {},
   "outputs": [
    {
     "name": "stdout",
     "output_type": "stream",
     "text": [
      "80\n"
     ]
    }
   ],
   "source": [
    "!rm -r catdogs_dataset/\n",
    "!mkdir catdogs_dataset\n",
    "!for file in ./data/catsAndDogs40/train/cat/*.jpg; do mv \"$file\" \"${file%.*}_train_cat.${file##*.}\"; done && cp ./data/catsAndDogs40/train/cat/*.jpg ./catdogs_dataset/\n",
    "!for file in ./data/catsAndDogs40/train/dog/*.jpg; do mv \"$file\" \"${file%.*}_train_dog.${file##*.}\"; done && cp ./data/catsAndDogs40/train/dog/*.jpg ./catdogs_dataset/\n",
    "!for file in ./data/catsAndDogs40/test/cat/*.jpg; do mv \"$file\" \"${file%.*}_test_cat.${file##*.}\"; done && cp ./data/catsAndDogs40/test/cat/*.jpg ./catdogs_dataset/\n",
    "!for file in ./data/catsAndDogs40/test/dog/*.jpg; do mv \"$file\" \"${file%.*}_test_dog.${file##*.}\"; done && cp ./data/catsAndDogs40/test/dog/*.jpg ./catdogs_dataset/\n",
    "!ls ./catdogs_dataset/ | wc -l"
   ]
  },
  {
   "cell_type": "markdown",
   "metadata": {},
   "source": [
    "### 🧐 Generating Object Detection Annotation"
   ]
  },
  {
   "cell_type": "markdown",
   "metadata": {},
   "source": [
    "Now, we will use the [`DataDreamer`](https://github.com/luxonis/datadreamer) toolkit to annotate the `80` images. The toolkit will detect cats and dogs in each image and generate bounding boxes for each animal. Furthermore, using `--dataset_format luxonis-dataset` will convert the data to the correct format: `LuxonisDataset`, which we need for the training.\n",
    "\n",
    "To discover all available DataDreamer arguments, please refer to [here](https://github.com/luxonis/datadreamer?tab=readme-ov-file#-main-parameters)."
   ]
  },
  {
   "cell_type": "code",
   "execution_count": 4,
   "metadata": {},
   "outputs": [
    {
     "name": "stdout",
     "output_type": "stream",
     "text": [
      "2024-11-03 20:13:46.585560: I tensorflow/core/util/port.cc:113] oneDNN custom operations are on. You may see slightly different numerical results due to floating-point round-off errors from different computation orders. To turn them off, set the environment variable `TF_ENABLE_ONEDNN_OPTS=0`.\n",
      "2024-11-03 20:13:46.639350: E external/local_xla/xla/stream_executor/cuda/cuda_dnn.cc:9261] Unable to register cuDNN factory: Attempting to register factory for plugin cuDNN when one has already been registered\n",
      "2024-11-03 20:13:46.639397: E external/local_xla/xla/stream_executor/cuda/cuda_fft.cc:607] Unable to register cuFFT factory: Attempting to register factory for plugin cuFFT when one has already been registered\n",
      "2024-11-03 20:13:46.641124: E external/local_xla/xla/stream_executor/cuda/cuda_blas.cc:1515] Unable to register cuBLAS factory: Attempting to register factory for plugin cuBLAS when one has already been registered\n",
      "2024-11-03 20:13:46.649550: I tensorflow/core/platform/cpu_feature_guard.cc:182] This TensorFlow binary is optimized to use available CPU instructions in performance-critical operations.\n",
      "To enable the following instructions: AVX2 AVX512F AVX512_VNNI FMA, in other operations, rebuild TensorFlow with the appropriate compiler flags.\n",
      "2024-11-03 20:13:47.595891: W tensorflow/compiler/tf2tensorrt/utils/py_utils.cc:38] TF-TRT Warning: Could not find TensorRT\n",
      "[nltk_data] Downloading package wordnet to /home/jovyan/nltk_data...\n",
      "[nltk_data]   Package wordnet is already up-to-date!\n",
      "\u001b[32mINFO    \u001b[0m Profanity filter is checking classes: \u001b[1m[\u001b[0m\u001b[32m'cat'\u001b[0m,   \u001b]8;id=112931;file:///opt/conda/lib/python3.11/site-packages/datadreamer/prompt_generation/profanity_filter.py\u001b\\\u001b[2mprofanity_filter.py\u001b[0m\u001b]8;;\u001b\\\u001b[2m:\u001b[0m\u001b]8;id=879234;file:///opt/conda/lib/python3.11/site-packages/datadreamer/prompt_generation/profanity_filter.py#170\u001b\\\u001b[2m170\u001b[0m\u001b]8;;\u001b\\\n",
      "         \u001b[32m'dog'\u001b[0m\u001b[1m]\u001b[0m                                          \u001b[2m                       \u001b[0m\n",
      "\u001b[32mINFO    \u001b[0m Initializing OWLv2 large model\u001b[33m...\u001b[0m                 \u001b]8;id=348334;file:///opt/conda/lib/python3.11/site-packages/datadreamer/dataset_annotation/owlv2_annotator.py\u001b\\\u001b[2mowlv2_annotator.py\u001b[0m\u001b]8;;\u001b\\\u001b[2m:\u001b[0m\u001b]8;id=357352;file:///opt/conda/lib/python3.11/site-packages/datadreamer/dataset_annotation/owlv2_annotator.py#60\u001b\\\u001b[2m60\u001b[0m\u001b]8;;\u001b\\\n",
      "Annotating images: 100%|████████████████████████| 80/80 [02:06<00:00,  1.58s/it]\n",
      "\u001b[32mINFO    \u001b[0m Deleted dataset cat_dogs_dataset                 \u001b]8;id=350010;file:///opt/conda/lib/python3.11/site-packages/luxonis_ml/data/datasets/luxonis_dataset.py\u001b\\\u001b[2mluxonis_dataset.py\u001b[0m\u001b]8;;\u001b\\\u001b[2m:\u001b[0m\u001b]8;id=735775;file:///opt/conda/lib/python3.11/site-packages/luxonis_ml/data/datasets/luxonis_dataset.py#373\u001b\\\u001b[2m373\u001b[0m\u001b]8;;\u001b\\\n",
      "\u001b[32mINFO    \u001b[0m Using local dataset                    \u001b]8;id=91869;file:///opt/conda/lib/python3.11/site-packages/datadreamer/utils/luxonis_dataset_converter.py\u001b\\\u001b[2mluxonis_dataset_converter.py\u001b[0m\u001b]8;;\u001b\\\u001b[2m:\u001b[0m\u001b]8;id=921310;file:///opt/conda/lib/python3.11/site-packages/datadreamer/utils/luxonis_dataset_converter.py#154\u001b\\\u001b[2m154\u001b[0m\u001b]8;;\u001b\\\n",
      "\u001b[32mINFO    \u001b[0m Class \u001b[3;31mdog\u001b[0m\u001b[39;49m doesn't belong to any existing task. \u001b[0m  \u001b]8;id=767598;file:///opt/conda/lib/python3.11/site-packages/luxonis_ml/data/datasets/luxonis_dataset.py\u001b\\\u001b[2mluxonis_dataset.py\u001b[0m\u001b]8;;\u001b\\\u001b[2m:\u001b[0m\u001b]8;id=470099;file:///opt/conda/lib/python3.11/site-packages/luxonis_ml/data/datasets/luxonis_dataset.py#399\u001b\\\u001b[2m399\u001b[0m\u001b]8;;\u001b\\\n",
      "         \u001b[39;49mAutogenerated task \u001b[0m\u001b[3;35;49mclassification\u001b[0m\u001b[39;49m will be used.\u001b[0m  \u001b[2m                      \u001b[0m\n",
      "\u001b[32mINFO    \u001b[0m Class \u001b[3;31mdog\u001b[0m\u001b[39;49m doesn't belong to any existing task. \u001b[0m  \u001b]8;id=699545;file:///opt/conda/lib/python3.11/site-packages/luxonis_ml/data/datasets/luxonis_dataset.py\u001b\\\u001b[2mluxonis_dataset.py\u001b[0m\u001b]8;;\u001b\\\u001b[2m:\u001b[0m\u001b]8;id=149081;file:///opt/conda/lib/python3.11/site-packages/luxonis_ml/data/datasets/luxonis_dataset.py#399\u001b\\\u001b[2m399\u001b[0m\u001b]8;;\u001b\\\n",
      "         \u001b[39;49mAutogenerated task \u001b[0m\u001b[3;35;49mboundingbox\u001b[0m\u001b[39;49m will be used.\u001b[0m     \u001b[2m                      \u001b[0m\n",
      "\u001b[32mINFO    \u001b[0m Class \u001b[3;31mcat\u001b[0m\u001b[39;49m doesn't belong to any existing task. \u001b[0m  \u001b]8;id=305976;file:///opt/conda/lib/python3.11/site-packages/luxonis_ml/data/datasets/luxonis_dataset.py\u001b\\\u001b[2mluxonis_dataset.py\u001b[0m\u001b]8;;\u001b\\\u001b[2m:\u001b[0m\u001b]8;id=955410;file:///opt/conda/lib/python3.11/site-packages/luxonis_ml/data/datasets/luxonis_dataset.py#399\u001b\\\u001b[2m399\u001b[0m\u001b]8;;\u001b\\\n",
      "         \u001b[39;49mAutogenerated task \u001b[0m\u001b[3;35;49mclassification\u001b[0m\u001b[39;49m will be used.\u001b[0m  \u001b[2m                      \u001b[0m\n",
      "\u001b[32mINFO    \u001b[0m Class \u001b[3;31mcat\u001b[0m\u001b[39;49m doesn't belong to any existing task. \u001b[0m  \u001b]8;id=492089;file:///opt/conda/lib/python3.11/site-packages/luxonis_ml/data/datasets/luxonis_dataset.py\u001b\\\u001b[2mluxonis_dataset.py\u001b[0m\u001b]8;;\u001b\\\u001b[2m:\u001b[0m\u001b]8;id=878536;file:///opt/conda/lib/python3.11/site-packages/luxonis_ml/data/datasets/luxonis_dataset.py#399\u001b\\\u001b[2m399\u001b[0m\u001b]8;;\u001b\\\n",
      "         \u001b[39;49mAutogenerated task \u001b[0m\u001b[3;35;49mboundingbox\u001b[0m\u001b[39;49m will be used.\u001b[0m     \u001b[2m                      \u001b[0m\n",
      "\u001b[32mINFO    \u001b[0m Generating UUIDs\u001b[33m...\u001b[0m                              \u001b]8;id=840430;file:///opt/conda/lib/python3.11/site-packages/luxonis_ml/data/datasets/luxonis_dataset.py\u001b\\\u001b[2mluxonis_dataset.py\u001b[0m\u001b]8;;\u001b\\\u001b[2m:\u001b[0m\u001b]8;id=506421;file:///opt/conda/lib/python3.11/site-packages/luxonis_ml/data/datasets/luxonis_dataset.py#478\u001b\\\u001b[2m478\u001b[0m\u001b]8;;\u001b\\\n",
      "\u001b[32mINFO    \u001b[0m Checking arrays\u001b[33m...\u001b[0m                               \u001b]8;id=592250;file:///opt/conda/lib/python3.11/site-packages/luxonis_ml/data/datasets/luxonis_dataset.py\u001b\\\u001b[2mluxonis_dataset.py\u001b[0m\u001b]8;;\u001b\\\u001b[2m:\u001b[0m\u001b]8;id=848652;file:///opt/conda/lib/python3.11/site-packages/luxonis_ml/data/datasets/luxonis_dataset.py#438\u001b\\\u001b[2m438\u001b[0m\u001b]8;;\u001b\\\n",
      "\u001b[2K\u001b[35mProcessing arrays...\u001b[0m \u001b[90m━━━━━━━━━━━━━━━━━━━━━━━━━━━━━━━━━━━━━━\u001b[0m \u001b[35m100%\u001b[0m \u001b[32m192/192\u001b[0m \u001b[36m0:00:00\u001b[0m0m\n",
      "\u001b[?25h\u001b[32mINFO    \u001b[0m Saving annotations\u001b[33m...\u001b[0m                            \u001b]8;id=677542;file:///opt/conda/lib/python3.11/site-packages/luxonis_ml/data/datasets/luxonis_dataset.py\u001b\\\u001b[2mluxonis_dataset.py\u001b[0m\u001b]8;;\u001b\\\u001b[2m:\u001b[0m\u001b]8;id=537659;file:///opt/conda/lib/python3.11/site-packages/luxonis_ml/data/datasets/luxonis_dataset.py#497\u001b\\\u001b[2m497\u001b[0m\u001b]8;;\u001b\\\n",
      "\u001b[2K\u001b[35mProcessing data...\u001b[0m \u001b[90m━━━━━━━━━━━━━━━━━━━━━━━━━━━━━━━━━━━━━━━━\u001b[0m \u001b[35m100%\u001b[0m \u001b[32m192/192\u001b[0m \u001b[36m0:00:00\u001b[0m\n",
      "\u001b[?25h\u001b[32mINFO    \u001b[0m Detected new classes for task classification:    \u001b]8;id=699041;file:///opt/conda/lib/python3.11/site-packages/luxonis_ml/data/datasets/luxonis_dataset.py\u001b\\\u001b[2mluxonis_dataset.py\u001b[0m\u001b]8;;\u001b\\\u001b[2m:\u001b[0m\u001b]8;id=625480;file:///opt/conda/lib/python3.11/site-packages/luxonis_ml/data/datasets/luxonis_dataset.py#584\u001b\\\u001b[2m584\u001b[0m\u001b]8;;\u001b\\\n",
      "         \u001b[1m[\u001b[0m\u001b[32m'dog'\u001b[0m, \u001b[32m'cat'\u001b[0m\u001b[1m]\u001b[0m                                   \u001b[2m                      \u001b[0m\n",
      "\u001b[32mINFO    \u001b[0m Detected new classes for task boundingbox:       \u001b]8;id=700941;file:///opt/conda/lib/python3.11/site-packages/luxonis_ml/data/datasets/luxonis_dataset.py\u001b\\\u001b[2mluxonis_dataset.py\u001b[0m\u001b]8;;\u001b\\\u001b[2m:\u001b[0m\u001b]8;id=439873;file:///opt/conda/lib/python3.11/site-packages/luxonis_ml/data/datasets/luxonis_dataset.py#584\u001b\\\u001b[2m584\u001b[0m\u001b]8;;\u001b\\\n",
      "         \u001b[1m[\u001b[0m\u001b[32m'dog'\u001b[0m, \u001b[32m'cat'\u001b[0m\u001b[1m]\u001b[0m                                   \u001b[2m                      \u001b[0m\n"
     ]
    }
   ],
   "source": [
    "!datadreamer --save_dir catdogs_dataset \\\n",
    "            --class_names cat dog \\\n",
    "            --prompts_number 80 \\\n",
    "            --num_objects_range 1 1 \\\n",
    "            --image_annotator owlv2 \\\n",
    "            --annotator_size large \\\n",
    "            --seed 123 \\\n",
    "            --annotate_only \\\n",
    "            --disable_lm_filter \\\n",
    "            --conf_threshold 0.32 \\\n",
    "            --annotation_iou_threshold 0.4 \\\n",
    "            --dataset_name cat_dogs_dataset \\\n",
    "            --dataset_format luxonis-dataset \\\n",
    "            --split_ratios 0.7 0.15 0.15 \\\n",
    "            --device cuda"
   ]
  },
  {
   "cell_type": "markdown",
   "metadata": {},
   "source": [
    "Now, let's visualize the generated bounding boxes for one image."
   ]
  },
  {
   "cell_type": "code",
   "execution_count": 5,
   "metadata": {},
   "outputs": [
    {
     "data": {
      "image/jpeg": "[encoded data removed]",
      "text/plain": [
       "<IPython.core.display.Image object>"
      ]
     },
     "execution_count": 5,
     "metadata": {},
     "output_type": "execute_result"
    }
   ],
   "source": [
    "from IPython.display import Image\n",
    "Image(filename='catdogs_dataset/bboxes_visualization/bbox_5.jpg') "
   ]
  },
  {
   "cell_type": "markdown",
   "metadata": {},
   "source": [
    "### 💾 LuxonisDataset"
   ]
  },
  {
   "cell_type": "markdown",
   "metadata": {},
   "source": [
    "Thanks to the `DataDreamer`, our dataset is already in the correct format: `LuxonisDataset`."
   ]
  },
  {
   "cell_type": "markdown",
   "metadata": {},
   "source": [
    "To verify that the data is correctly loaded and split into subsets we can check the dataset's information and visualizations of the annotations."
   ]
  },
  {
   "cell_type": "code",
   "execution_count": 6,
   "metadata": {},
   "outputs": [
    {
     "name": "stdout",
     "output_type": "stream",
     "text": [
      "╭────────── Dataset Info ──────────╮\n",
      "│ \u001b[1;35mName: \u001b[0m\u001b[36mcat_dogs_dataset\u001b[0m           │\n",
      "│                                  │\n",
      "│ ╭─ Split Sizes ─╮                │\n",
      "│ │ \u001b[1;35mtrain: \u001b[0m\u001b[36m56\u001b[0m     │                │\n",
      "│ │ \u001b[1;35mval: \u001b[0m\u001b[36m12\u001b[0m       │                │\n",
      "│ │ \u001b[1;35mtest: \u001b[0m\u001b[36m12\u001b[0m      │                │\n",
      "│ │ \u001b[92m─────────────\u001b[0m │                │\n",
      "│ │ \u001b[1;35mTotal: \u001b[0m\u001b[36m80\u001b[0m     │                │\n",
      "│ ╰───────────────╯                │\n",
      "│ \u001b[3m            Classes             \u001b[0m │\n",
      "│ ╭────────────────┬─────────────╮ │\n",
      "│ │\u001b[1;3;35m \u001b[0m\u001b[1;3;35mTask          \u001b[0m\u001b[1;3;35m \u001b[0m│\u001b[1;3;35m \u001b[0m\u001b[1;3;35mClass Names\u001b[0m\u001b[1;3;35m \u001b[0m│ │\n",
      "│ ├────────────────┼─────────────┤ │\n",
      "│ │\u001b[33m \u001b[0m\u001b[33mclassification\u001b[0m\u001b[33m \u001b[0m│\u001b[33m \u001b[0m\u001b[33mdog, cat   \u001b[0m\u001b[33m \u001b[0m│ │\n",
      "│ │\u001b[36m \u001b[0m\u001b[36mboundingbox   \u001b[0m\u001b[36m \u001b[0m│\u001b[36m \u001b[0m\u001b[36mdog, cat   \u001b[0m\u001b[36m \u001b[0m│ │\n",
      "│ ╰────────────────┴─────────────╯ │\n",
      "╰──────────────────────────────────╯\n"
     ]
    }
   ],
   "source": [
    "!luxonis_ml data info cat_dogs_dataset"
   ]
  },
  {
   "cell_type": "code",
   "execution_count": 61,
   "metadata": {},
   "outputs": [],
   "source": [
    "!luxonis_ml data inspect cat_dogs_dataset # NOTE: If you are on Google Colab this command will not work"
   ]
  },
  {
   "cell_type": "markdown",
   "metadata": {},
   "source": [
    "## 🏋️‍♂️ Training"
   ]
  },
  {
   "cell_type": "markdown",
   "metadata": {},
   "source": [
    "### ⚙️ Configuration"
   ]
  },
  {
   "cell_type": "markdown",
   "metadata": {},
   "source": [
    "We have prepared the dataset, and we are almost ready for the actual training. The last step is just to set up our training configuration file. The whole training process in `LuxonisTrain` doesn't require any coding. We advise you to take one of the base configuration files from [here](https://github.com/luxonis/luxonis-train/tree/main/configs) depending on the task and then edit you to fit your needs.\n",
    "\n",
    "In our case we are training an object detection and thus we'll take a [`detection_light_model.yaml`](https://github.com/luxonis/luxonis-train/blob/main/configs/detection_light_model.yaml) as a starting point. There are a lot of parameters that we can change, and we advise you to go through the [`documentation`](https://github.com/luxonis/luxonis-train/blob/main/configs/README.md) to find all of them. In this tutorial, we'll only go through some basic ones to get you started on your journey.\n",
    "\n",
    "#### Model\n",
    "In this section, you can either choose one of the predefined architectures (all of them listed [here](https://github.com/luxonis/luxonis-train/tree/main/luxonis_train/config/predefined_models)) or create a completely custom neural network by connection different nodes, losses, metrics, and visualizers together. We'll go with the predefined `DetectionModel`.\n",
    "\n",
    "#### Loader\n",
    "This section of the config referes to the data loading. You can either set up your custom Loader or use the default one with the LuxonisDataset. In our case, we'll go with the second option, and all we need to do is to set `dataset_name` to `cat_dogs_dataset`\n",
    "\n",
    "#### Trainer\n",
    "In this section, we can set up everything connected to actual training. You can change preprocessing, batch size, epochs, add callbacks, augmentations, change optimizers, schedulers and many more. Please refer to the [full documentation](https://github.com/luxonis/luxonis-train/tree/main/configs). \n",
    "\n",
    "**Augmentations**\n",
    "In our case, we'll leave most of the things as they are; the only change will be adding some augmentations. We use [`Albumentations`](https://albumentations.ai/) for our augmentations with the addition of some custom ones like Mosaic4 and MixUp. You can use [this demo](https://demo.albumentations.ai/) to experiment and find those that work for your specific training run. We can add some Affine transforms; for this specific training run, we'll add some Affine transforms, HorizontalFlip, and ColorJitter, but feel free to edit this.\n",
    "\n",
    "**Callbacks**\n",
    "Callbacks are very helpful when we want to merge more functionalities into a single training run. For example, we want first to train the model then evaluate it on test subset, export it and create an archive. All of these steps can be defined through the config and done by a single call. For the purpose of a nicer explanation we won't be using them in this tutorial but feel free to set them up on your own. You can check out all the available callbacks [here](https://github.com/luxonis/luxonis-train/tree/main/luxonis_train/callbacks)"
   ]
  },
  {
   "cell_type": "markdown",
   "metadata": {},
   "source": [
    "Below is a starting point for your config. As mentioned we already made some changes to it so it works with this tutorial (change of model name, dataset name and addition of augmentations) but feel free to edit it further and make it your own. When you are done editing you can just execute the cell and the file will be written and ready to use.\n",
    "\n",
    "**Note**: In case you don't have enough compute on your machine you can either use [Google Colab](https://colab.research.google.com/) (with GPU enabled) or you can try lowering number of epochs and/or batch size but in that case performance might drop."
   ]
  },
  {
   "cell_type": "code",
   "execution_count": null,
   "metadata": {},
   "outputs": [
    {
     "name": "stdout",
     "output_type": "stream",
     "text": [
      "Overwriting cat_dog_detection_config.yaml\n"
     ]
    }
   ],
   "source": [
    "%%writefile cat_dog_detection_config.yaml\n",
    "model:\n",
    "  name: cat_dog_detection_model\n",
    "  predefined_model:\n",
    "    name: DetectionModel\n",
    "    params:\n",
    "      variant: light\n",
    "\n",
    "loader:\n",
    "  params:\n",
    "    dataset_name: cat_dogs_dataset\n",
    "\n",
    "trainer:\n",
    "  preprocessing:\n",
    "    train_image_size: [160, 160]\n",
    "    keep_aspect_ratio: true\n",
    "    normalize:\n",
    "      active: true\n",
    "\n",
    "    augmentations:\n",
    "      - name: Affine\n",
    "        params:\n",
    "          scale: [0.7, 1.7]\n",
    "          rotate: 20\n",
    "          shear: 5\n",
    "          p: 0.3\n",
    "      - name: HorizontalFlip\n",
    "        params:\n",
    "          p: 0.3\n",
    "      - name: ColorJitter\n",
    "        params:\n",
    "          brightness: [0.8, 1.2]\n",
    "          contrast: [0.8, 1.2]\n",
    "          saturation: [0.8, 1.2]\n",
    "          hue: 0\n",
    "          p: 0.2\n",
    "\n",
    "  batch_size: 8\n",
    "  epochs: &epochs 200\n",
    "  n_workers: 8\n",
    "  validation_interval: 10\n",
    "  n_log_images: 8\n",
    "\n",
    "  optimizer:\n",
    "    name: SGD\n",
    "    params:\n",
    "      lr: 0.05\n",
    "      momentum: 0.937\n",
    "      weight_decay: 0.0005\n",
    "      dampening: 0.0\n",
    "      nesterov: true\n",
    "\n",
    "  scheduler:\n",
    "    name: CosineAnnealingLR\n",
    "    params:\n",
    "      T_max: *epochs\n",
    "      eta_min: 0.0002\n",
    "      last_epoch: -1"
   ]
  },
  {
   "cell_type": "markdown",
   "metadata": {},
   "source": [
    "### 🦾 Train"
   ]
  },
  {
   "cell_type": "markdown",
   "metadata": {},
   "source": [
    "To start the training we just need to initialize the `LuxonisModel`, pass it the path to the configuration file and call the `train()` method on it.\n",
    "\n",
    "**Note**: LuxonisTrain also supports all these commands through usage of its CLI ([docs here](https://github.com/luxonis/luxonis-train/tree/main?tab=readme-ov-file#-cli)), no code required. We won't use them for tutorial purposes but when you do it yourself feel free to use them."
   ]
  },
  {
   "cell_type": "code",
   "execution_count": 8,
   "metadata": {},
   "outputs": [
    {
     "data": {
      "text/html": [
       "<pre style=\"white-space:pre;overflow-x:auto;line-height:normal;font-family:Menlo,'DejaVu Sans Mono',consolas,'Courier New',monospace\"><span style=\"color: #008000; text-decoration-color: #008000\">INFO    </span> GPU available: <span style=\"color: #00ff00; text-decoration-color: #00ff00; font-style: italic\">True</span> <span style=\"font-weight: bold\">(</span>cuda<span style=\"font-weight: bold\">)</span>, used: <span style=\"color: #00ff00; text-decoration-color: #00ff00; font-style: italic\">True</span>                                                     <a href=\"file:///opt/conda/lib/python3.11/site-packages/lightning_utilities/core/rank_zero.py\" target=\"_blank\"><span style=\"color: #7f7f7f; text-decoration-color: #7f7f7f\">rank_zero.py</span></a><span style=\"color: #7f7f7f; text-decoration-color: #7f7f7f\">:</span><a href=\"file:///opt/conda/lib/python3.11/site-packages/lightning_utilities/core/rank_zero.py#64\" target=\"_blank\"><span style=\"color: #7f7f7f; text-decoration-color: #7f7f7f\">64</span></a>\n",
       "</pre>\n"
      ],
      "text/plain": [
       "\u001b[32mINFO    \u001b[0m GPU available: \u001b[3;92mTrue\u001b[0m \u001b[1m(\u001b[0mcuda\u001b[1m)\u001b[0m, used: \u001b[3;92mTrue\u001b[0m                                                     \u001b]8;id=714844;file:///opt/conda/lib/python3.11/site-packages/lightning_utilities/core/rank_zero.py\u001b\\\u001b[2mrank_zero.py\u001b[0m\u001b]8;;\u001b\\\u001b[2m:\u001b[0m\u001b]8;id=374835;file:///opt/conda/lib/python3.11/site-packages/lightning_utilities/core/rank_zero.py#64\u001b\\\u001b[2m64\u001b[0m\u001b]8;;\u001b\\\n"
      ]
     },
     "metadata": {},
     "output_type": "display_data"
    },
    {
     "data": {
      "text/html": [
       "<pre style=\"white-space:pre;overflow-x:auto;line-height:normal;font-family:Menlo,'DejaVu Sans Mono',consolas,'Courier New',monospace\"><span style=\"color: #008000; text-decoration-color: #008000\">INFO    </span> TPU available: <span style=\"color: #ff0000; text-decoration-color: #ff0000; font-style: italic\">False</span>, using: <span style=\"color: #008080; text-decoration-color: #008080; font-weight: bold\">0</span> TPU cores                                                   <a href=\"file:///opt/conda/lib/python3.11/site-packages/lightning_utilities/core/rank_zero.py\" target=\"_blank\"><span style=\"color: #7f7f7f; text-decoration-color: #7f7f7f\">rank_zero.py</span></a><span style=\"color: #7f7f7f; text-decoration-color: #7f7f7f\">:</span><a href=\"file:///opt/conda/lib/python3.11/site-packages/lightning_utilities/core/rank_zero.py#64\" target=\"_blank\"><span style=\"color: #7f7f7f; text-decoration-color: #7f7f7f\">64</span></a>\n",
       "</pre>\n"
      ],
      "text/plain": [
       "\u001b[32mINFO    \u001b[0m TPU available: \u001b[3;91mFalse\u001b[0m, using: \u001b[1;36m0\u001b[0m TPU cores                                                   \u001b]8;id=457782;file:///opt/conda/lib/python3.11/site-packages/lightning_utilities/core/rank_zero.py\u001b\\\u001b[2mrank_zero.py\u001b[0m\u001b]8;;\u001b\\\u001b[2m:\u001b[0m\u001b]8;id=346461;file:///opt/conda/lib/python3.11/site-packages/lightning_utilities/core/rank_zero.py#64\u001b\\\u001b[2m64\u001b[0m\u001b]8;;\u001b\\\n"
      ]
     },
     "metadata": {},
     "output_type": "display_data"
    },
    {
     "data": {
      "text/html": [
       "<pre style=\"white-space:pre;overflow-x:auto;line-height:normal;font-family:Menlo,'DejaVu Sans Mono',consolas,'Courier New',monospace\"><span style=\"color: #008000; text-decoration-color: #008000\">INFO    </span> HPU available: <span style=\"color: #ff0000; text-decoration-color: #ff0000; font-style: italic\">False</span>, using: <span style=\"color: #008080; text-decoration-color: #008080; font-weight: bold\">0</span> HPUs                                                        <a href=\"file:///opt/conda/lib/python3.11/site-packages/lightning_utilities/core/rank_zero.py\" target=\"_blank\"><span style=\"color: #7f7f7f; text-decoration-color: #7f7f7f\">rank_zero.py</span></a><span style=\"color: #7f7f7f; text-decoration-color: #7f7f7f\">:</span><a href=\"file:///opt/conda/lib/python3.11/site-packages/lightning_utilities/core/rank_zero.py#64\" target=\"_blank\"><span style=\"color: #7f7f7f; text-decoration-color: #7f7f7f\">64</span></a>\n",
       "</pre>\n"
      ],
      "text/plain": [
       "\u001b[32mINFO    \u001b[0m HPU available: \u001b[3;91mFalse\u001b[0m, using: \u001b[1;36m0\u001b[0m HPUs                                                        \u001b]8;id=408889;file:///opt/conda/lib/python3.11/site-packages/lightning_utilities/core/rank_zero.py\u001b\\\u001b[2mrank_zero.py\u001b[0m\u001b]8;;\u001b\\\u001b[2m:\u001b[0m\u001b]8;id=619122;file:///opt/conda/lib/python3.11/site-packages/lightning_utilities/core/rank_zero.py#64\u001b\\\u001b[2m64\u001b[0m\u001b]8;;\u001b\\\n"
      ]
     },
     "metadata": {},
     "output_type": "display_data"
    },
    {
     "data": {
      "text/html": [
       "<pre style=\"white-space:pre;overflow-x:auto;line-height:normal;font-family:Menlo,'DejaVu Sans Mono',consolas,'Courier New',monospace\"><span style=\"color: #008000; text-decoration-color: #008000\">INFO    </span> Train loader - splits: <span style=\"font-weight: bold\">[</span><span style=\"color: #008000; text-decoration-color: #008000\">'train'</span><span style=\"font-weight: bold\">]</span>, size: <span style=\"color: #008080; text-decoration-color: #008080; font-weight: bold\">56</span>                                                     <a href=\"file:///opt/conda/lib/python3.11/site-packages/luxonis_train/core/core.py\" target=\"_blank\"><span style=\"color: #7f7f7f; text-decoration-color: #7f7f7f\">core.py</span></a><span style=\"color: #7f7f7f; text-decoration-color: #7f7f7f\">:</span><a href=\"file:///opt/conda/lib/python3.11/site-packages/luxonis_train/core/core.py#156\" target=\"_blank\"><span style=\"color: #7f7f7f; text-decoration-color: #7f7f7f\">156</span></a>\n",
       "</pre>\n"
      ],
      "text/plain": [
       "\u001b[32mINFO    \u001b[0m Train loader - splits: \u001b[1m[\u001b[0m\u001b[32m'train'\u001b[0m\u001b[1m]\u001b[0m, size: \u001b[1;36m56\u001b[0m                                                     \u001b]8;id=681385;file:///opt/conda/lib/python3.11/site-packages/luxonis_train/core/core.py\u001b\\\u001b[2mcore.py\u001b[0m\u001b]8;;\u001b\\\u001b[2m:\u001b[0m\u001b]8;id=268993;file:///opt/conda/lib/python3.11/site-packages/luxonis_train/core/core.py#156\u001b\\\u001b[2m156\u001b[0m\u001b]8;;\u001b\\\n"
      ]
     },
     "metadata": {},
     "output_type": "display_data"
    },
    {
     "data": {
      "text/html": [
       "<pre style=\"white-space:pre;overflow-x:auto;line-height:normal;font-family:Menlo,'DejaVu Sans Mono',consolas,'Courier New',monospace\"><span style=\"color: #008000; text-decoration-color: #008000\">INFO    </span> Val loader - splits: <span style=\"font-weight: bold\">[</span><span style=\"color: #008000; text-decoration-color: #008000\">'val'</span><span style=\"font-weight: bold\">]</span>, size: <span style=\"color: #008080; text-decoration-color: #008080; font-weight: bold\">12</span>                                                         <a href=\"file:///opt/conda/lib/python3.11/site-packages/luxonis_train/core/core.py\" target=\"_blank\"><span style=\"color: #7f7f7f; text-decoration-color: #7f7f7f\">core.py</span></a><span style=\"color: #7f7f7f; text-decoration-color: #7f7f7f\">:</span><a href=\"file:///opt/conda/lib/python3.11/site-packages/luxonis_train/core/core.py#156\" target=\"_blank\"><span style=\"color: #7f7f7f; text-decoration-color: #7f7f7f\">156</span></a>\n",
       "</pre>\n"
      ],
      "text/plain": [
       "\u001b[32mINFO    \u001b[0m Val loader - splits: \u001b[1m[\u001b[0m\u001b[32m'val'\u001b[0m\u001b[1m]\u001b[0m, size: \u001b[1;36m12\u001b[0m                                                         \u001b]8;id=52299;file:///opt/conda/lib/python3.11/site-packages/luxonis_train/core/core.py\u001b\\\u001b[2mcore.py\u001b[0m\u001b]8;;\u001b\\\u001b[2m:\u001b[0m\u001b]8;id=255015;file:///opt/conda/lib/python3.11/site-packages/luxonis_train/core/core.py#156\u001b\\\u001b[2m156\u001b[0m\u001b]8;;\u001b\\\n"
      ]
     },
     "metadata": {},
     "output_type": "display_data"
    },
    {
     "data": {
      "text/html": [
       "<pre style=\"white-space:pre;overflow-x:auto;line-height:normal;font-family:Menlo,'DejaVu Sans Mono',consolas,'Courier New',monospace\"><span style=\"color: #008000; text-decoration-color: #008000\">INFO    </span> Test loader - splits: <span style=\"font-weight: bold\">[</span><span style=\"color: #008000; text-decoration-color: #008000\">'test'</span><span style=\"font-weight: bold\">]</span>, size: <span style=\"color: #008080; text-decoration-color: #008080; font-weight: bold\">12</span>                                                       <a href=\"file:///opt/conda/lib/python3.11/site-packages/luxonis_train/core/core.py\" target=\"_blank\"><span style=\"color: #7f7f7f; text-decoration-color: #7f7f7f\">core.py</span></a><span style=\"color: #7f7f7f; text-decoration-color: #7f7f7f\">:</span><a href=\"file:///opt/conda/lib/python3.11/site-packages/luxonis_train/core/core.py#156\" target=\"_blank\"><span style=\"color: #7f7f7f; text-decoration-color: #7f7f7f\">156</span></a>\n",
       "</pre>\n"
      ],
      "text/plain": [
       "\u001b[32mINFO    \u001b[0m Test loader - splits: \u001b[1m[\u001b[0m\u001b[32m'test'\u001b[0m\u001b[1m]\u001b[0m, size: \u001b[1;36m12\u001b[0m                                                       \u001b]8;id=199636;file:///opt/conda/lib/python3.11/site-packages/luxonis_train/core/core.py\u001b\\\u001b[2mcore.py\u001b[0m\u001b]8;;\u001b\\\u001b[2m:\u001b[0m\u001b]8;id=680588;file:///opt/conda/lib/python3.11/site-packages/luxonis_train/core/core.py#156\u001b\\\u001b[2m156\u001b[0m\u001b]8;;\u001b\\\n"
      ]
     },
     "metadata": {},
     "output_type": "display_data"
    },
    {
     "data": {
      "text/html": [
       "<pre style=\"white-space:pre;overflow-x:auto;line-height:normal;font-family:Menlo,'DejaVu Sans Mono',consolas,'Courier New',monospace\"><span style=\"color: #008000; text-decoration-color: #008000\">INFO    </span> Checkpoints will be saved in: output/<span style=\"color: #008080; text-decoration-color: #008080; font-weight: bold\">19</span>-rose-vulture                                           <a href=\"file:///opt/conda/lib/python3.11/site-packages/luxonis_train/core/core.py\" target=\"_blank\"><span style=\"color: #7f7f7f; text-decoration-color: #7f7f7f\">core.py</span></a><span style=\"color: #7f7f7f; text-decoration-color: #7f7f7f\">:</span><a href=\"file:///opt/conda/lib/python3.11/site-packages/luxonis_train/core/core.py#257\" target=\"_blank\"><span style=\"color: #7f7f7f; text-decoration-color: #7f7f7f\">257</span></a>\n",
       "</pre>\n"
      ],
      "text/plain": [
       "\u001b[32mINFO    \u001b[0m Checkpoints will be saved in: output/\u001b[1;36m19\u001b[0m-rose-vulture                                           \u001b]8;id=693679;file:///opt/conda/lib/python3.11/site-packages/luxonis_train/core/core.py\u001b\\\u001b[2mcore.py\u001b[0m\u001b]8;;\u001b\\\u001b[2m:\u001b[0m\u001b]8;id=706512;file:///opt/conda/lib/python3.11/site-packages/luxonis_train/core/core.py#257\u001b\\\u001b[2m257\u001b[0m\u001b]8;;\u001b\\\n"
      ]
     },
     "metadata": {},
     "output_type": "display_data"
    },
    {
     "data": {
      "text/html": [
       "<pre style=\"white-space:pre;overflow-x:auto;line-height:normal;font-family:Menlo,'DejaVu Sans Mono',consolas,'Courier New',monospace\"><span style=\"color: #008000; text-decoration-color: #008000\">INFO    </span> Starting training<span style=\"color: #808000; text-decoration-color: #808000\">...</span>                                                                           <a href=\"file:///opt/conda/lib/python3.11/site-packages/luxonis_train/core/core.py\" target=\"_blank\"><span style=\"color: #7f7f7f; text-decoration-color: #7f7f7f\">core.py</span></a><span style=\"color: #7f7f7f; text-decoration-color: #7f7f7f\">:</span><a href=\"file:///opt/conda/lib/python3.11/site-packages/luxonis_train/core/core.py#258\" target=\"_blank\"><span style=\"color: #7f7f7f; text-decoration-color: #7f7f7f\">258</span></a>\n",
       "</pre>\n"
      ],
      "text/plain": [
       "\u001b[32mINFO    \u001b[0m Starting training\u001b[33m...\u001b[0m                                                                           \u001b]8;id=382084;file:///opt/conda/lib/python3.11/site-packages/luxonis_train/core/core.py\u001b\\\u001b[2mcore.py\u001b[0m\u001b]8;;\u001b\\\u001b[2m:\u001b[0m\u001b]8;id=374318;file:///opt/conda/lib/python3.11/site-packages/luxonis_train/core/core.py#258\u001b\\\u001b[2m258\u001b[0m\u001b]8;;\u001b\\\n"
      ]
     },
     "metadata": {},
     "output_type": "display_data"
    },
    {
     "data": {
      "text/html": [
       "<pre style=\"white-space:pre;overflow-x:auto;line-height:normal;font-family:Menlo,'DejaVu Sans Mono',consolas,'Courier New',monospace\"><span style=\"color: #008000; text-decoration-color: #008000\">INFO    </span> The following callbacks returned in `LightningModule.configure_callbacks` will override    <a href=\"file:///opt/conda/lib/python3.11/site-packages/lightning_utilities/core/rank_zero.py\" target=\"_blank\"><span style=\"color: #7f7f7f; text-decoration-color: #7f7f7f\">rank_zero.py</span></a><span style=\"color: #7f7f7f; text-decoration-color: #7f7f7f\">:</span><a href=\"file:///opt/conda/lib/python3.11/site-packages/lightning_utilities/core/rank_zero.py#64\" target=\"_blank\"><span style=\"color: #7f7f7f; text-decoration-color: #7f7f7f\">64</span></a>\n",
       "         existing callbacks passed to Trainer: ModelCheckpoint, RichModelSummary                    <span style=\"color: #7f7f7f; text-decoration-color: #7f7f7f\">               </span>\n",
       "</pre>\n"
      ],
      "text/plain": [
       "\u001b[32mINFO    \u001b[0m The following callbacks returned in `LightningModule.configure_callbacks` will override    \u001b]8;id=880843;file:///opt/conda/lib/python3.11/site-packages/lightning_utilities/core/rank_zero.py\u001b\\\u001b[2mrank_zero.py\u001b[0m\u001b]8;;\u001b\\\u001b[2m:\u001b[0m\u001b]8;id=574662;file:///opt/conda/lib/python3.11/site-packages/lightning_utilities/core/rank_zero.py#64\u001b\\\u001b[2m64\u001b[0m\u001b]8;;\u001b\\\n",
       "         existing callbacks passed to Trainer: ModelCheckpoint, RichModelSummary                    \u001b[2m               \u001b[0m\n"
      ]
     },
     "metadata": {},
     "output_type": "display_data"
    },
    {
     "data": {
      "text/html": [
       "<pre style=\"white-space:pre;overflow-x:auto;line-height:normal;font-family:Menlo,'DejaVu Sans Mono',consolas,'Courier New',monospace\"><span style=\"color: #008000; text-decoration-color: #008000\">INFO    </span> You are using a CUDA device <span style=\"font-weight: bold\">(</span><span style=\"color: #008000; text-decoration-color: #008000\">'NVIDIA L4'</span><span style=\"font-weight: bold\">)</span> that has Tensor Cores. To properly utilize them, <a href=\"file:///opt/conda/lib/python3.11/site-packages/lightning_utilities/core/rank_zero.py\" target=\"_blank\"><span style=\"color: #7f7f7f; text-decoration-color: #7f7f7f\">rank_zero.py</span></a><span style=\"color: #7f7f7f; text-decoration-color: #7f7f7f\">:</span><a href=\"file:///opt/conda/lib/python3.11/site-packages/lightning_utilities/core/rank_zero.py#64\" target=\"_blank\"><span style=\"color: #7f7f7f; text-decoration-color: #7f7f7f\">64</span></a>\n",
       "         you should set `<span style=\"color: #800080; text-decoration-color: #800080; font-weight: bold\">torch.set_float32_matmul_precision</span><span style=\"font-weight: bold\">(</span><span style=\"color: #008000; text-decoration-color: #008000\">'medium'</span> | <span style=\"color: #008000; text-decoration-color: #008000\">'high'</span><span style=\"font-weight: bold\">)</span>` which will          <span style=\"color: #7f7f7f; text-decoration-color: #7f7f7f\">               </span>\n",
       "         trade-off precision for performance. For more details, read                                <span style=\"color: #7f7f7f; text-decoration-color: #7f7f7f\">               </span>\n",
       "         <span style=\"color: #0000ff; text-decoration-color: #0000ff; text-decoration: underline\">https://pytorch.org/docs/stable/generated/torch.set_float32_matmul_precision.html#torch.se</span> <span style=\"color: #7f7f7f; text-decoration-color: #7f7f7f\">               </span>\n",
       "         <span style=\"color: #0000ff; text-decoration-color: #0000ff; text-decoration: underline\">t_float32_matmul_precision</span>                                                                 <span style=\"color: #7f7f7f; text-decoration-color: #7f7f7f\">               </span>\n",
       "</pre>\n"
      ],
      "text/plain": [
       "\u001b[32mINFO    \u001b[0m You are using a CUDA device \u001b[1m(\u001b[0m\u001b[32m'NVIDIA L4'\u001b[0m\u001b[1m)\u001b[0m that has Tensor Cores. To properly utilize them, \u001b]8;id=730974;file:///opt/conda/lib/python3.11/site-packages/lightning_utilities/core/rank_zero.py\u001b\\\u001b[2mrank_zero.py\u001b[0m\u001b]8;;\u001b\\\u001b[2m:\u001b[0m\u001b]8;id=596826;file:///opt/conda/lib/python3.11/site-packages/lightning_utilities/core/rank_zero.py#64\u001b\\\u001b[2m64\u001b[0m\u001b]8;;\u001b\\\n",
       "         you should set `\u001b[1;35mtorch.set_float32_matmul_precision\u001b[0m\u001b[1m(\u001b[0m\u001b[32m'medium'\u001b[0m | \u001b[32m'high'\u001b[0m\u001b[1m)\u001b[0m` which will          \u001b[2m               \u001b[0m\n",
       "         trade-off precision for performance. For more details, read                                \u001b[2m               \u001b[0m\n",
       "         \u001b[4;94mhttps://pytorch.org/docs/stable/generated/torch.set_float32_matmul_precision.html#torch.se\u001b[0m \u001b[2m               \u001b[0m\n",
       "         \u001b[4;94mt_float32_matmul_precision\u001b[0m                                                                 \u001b[2m               \u001b[0m\n"
      ]
     },
     "metadata": {},
     "output_type": "display_data"
    },
    {
     "name": "stderr",
     "output_type": "stream",
     "text": [
      "2024-11-03 20:16:09.094920: I tensorflow/core/util/port.cc:113] oneDNN custom operations are on. You may see slightly different numerical results due to floating-point round-off errors from different computation orders. To turn them off, set the environment variable `TF_ENABLE_ONEDNN_OPTS=0`.\n",
      "2024-11-03 20:16:09.140449: E external/local_xla/xla/stream_executor/cuda/cuda_dnn.cc:9261] Unable to register cuDNN factory: Attempting to register factory for plugin cuDNN when one has already been registered\n",
      "2024-11-03 20:16:09.140486: E external/local_xla/xla/stream_executor/cuda/cuda_fft.cc:607] Unable to register cuFFT factory: Attempting to register factory for plugin cuFFT when one has already been registered\n",
      "2024-11-03 20:16:09.142042: E external/local_xla/xla/stream_executor/cuda/cuda_blas.cc:1515] Unable to register cuBLAS factory: Attempting to register factory for plugin cuBLAS when one has already been registered\n",
      "2024-11-03 20:16:09.151234: I tensorflow/core/platform/cpu_feature_guard.cc:182] This TensorFlow binary is optimized to use available CPU instructions in performance-critical operations.\n",
      "To enable the following instructions: AVX2 AVX512F AVX512_VNNI FMA, in other operations, rebuild TensorFlow with the appropriate compiler flags.\n",
      "2024-11-03 20:16:10.283261: W tensorflow/compiler/tf2tensorrt/utils/py_utils.cc:38] TF-TRT Warning: Could not find TensorRT\n",
      "LOCAL_RANK: 0 - CUDA_VISIBLE_DEVICES: [0]\n"
     ]
    },
    {
     "data": {
      "text/html": [
       "<pre style=\"white-space:pre;overflow-x:auto;line-height:normal;font-family:Menlo,'DejaVu Sans Mono',consolas,'Courier New',monospace\">┏━━━┳━━━━━━━━━━━━━━━━━━━━━━━━━━━━┳━━━━━━━━━━━━━━━━━━━┳━━━━━━━━┳━━━━━━━┓\n",
       "┃<span style=\"color: #800080; text-decoration-color: #800080; font-weight: bold\">   </span>┃<span style=\"color: #800080; text-decoration-color: #800080; font-weight: bold\"> Name                       </span>┃<span style=\"color: #800080; text-decoration-color: #800080; font-weight: bold\"> Type              </span>┃<span style=\"color: #800080; text-decoration-color: #800080; font-weight: bold\"> Params </span>┃<span style=\"color: #800080; text-decoration-color: #800080; font-weight: bold\"> Mode  </span>┃\n",
       "┡━━━╇━━━━━━━━━━━━━━━━━━━━━━━━━━━━╇━━━━━━━━━━━━━━━━━━━╇━━━━━━━━╇━━━━━━━┩\n",
       "│<span style=\"color: #7f7f7f; text-decoration-color: #7f7f7f\"> 0 </span>│ nodes                      │ ModuleDict        │  4.7 M │ train │\n",
       "│<span style=\"color: #7f7f7f; text-decoration-color: #7f7f7f\"> 1 </span>│ nodes.detection_backbone   │ EfficientRep      │  3.1 M │ train │\n",
       "│<span style=\"color: #7f7f7f; text-decoration-color: #7f7f7f\"> 2 </span>│ nodes.detection_neck       │ RepPANNeck        │  1.2 M │ train │\n",
       "│<span style=\"color: #7f7f7f; text-decoration-color: #7f7f7f\"> 3 </span>│ nodes.detection_head       │ EfficientBBoxHead │  411 K │ train │\n",
       "│<span style=\"color: #7f7f7f; text-decoration-color: #7f7f7f\"> 4 </span>│ losses                     │ ModuleDict        │  411 K │ train │\n",
       "│<span style=\"color: #7f7f7f; text-decoration-color: #7f7f7f\"> 5 </span>│ losses.detection_head      │ ModuleDict        │  411 K │ train │\n",
       "│<span style=\"color: #7f7f7f; text-decoration-color: #7f7f7f\"> 6 </span>│ metrics                    │ ModuleDict        │  411 K │ train │\n",
       "│<span style=\"color: #7f7f7f; text-decoration-color: #7f7f7f\"> 7 </span>│ metrics.detection_head     │ ModuleDict        │  411 K │ train │\n",
       "│<span style=\"color: #7f7f7f; text-decoration-color: #7f7f7f\"> 8 </span>│ visualizers                │ ModuleDict        │  411 K │ train │\n",
       "│<span style=\"color: #7f7f7f; text-decoration-color: #7f7f7f\"> 9 </span>│ visualizers.detection_head │ ModuleDict        │  411 K │ train │\n",
       "└───┴────────────────────────────┴───────────────────┴────────┴───────┘\n",
       "</pre>\n"
      ],
      "text/plain": [
       "┏━━━┳━━━━━━━━━━━━━━━━━━━━━━━━━━━━┳━━━━━━━━━━━━━━━━━━━┳━━━━━━━━┳━━━━━━━┓\n",
       "┃\u001b[1;35m \u001b[0m\u001b[1;35m \u001b[0m\u001b[1;35m \u001b[0m┃\u001b[1;35m \u001b[0m\u001b[1;35mName                      \u001b[0m\u001b[1;35m \u001b[0m┃\u001b[1;35m \u001b[0m\u001b[1;35mType             \u001b[0m\u001b[1;35m \u001b[0m┃\u001b[1;35m \u001b[0m\u001b[1;35mParams\u001b[0m\u001b[1;35m \u001b[0m┃\u001b[1;35m \u001b[0m\u001b[1;35mMode \u001b[0m\u001b[1;35m \u001b[0m┃\n",
       "┡━━━╇━━━━━━━━━━━━━━━━━━━━━━━━━━━━╇━━━━━━━━━━━━━━━━━━━╇━━━━━━━━╇━━━━━━━┩\n",
       "│\u001b[2m \u001b[0m\u001b[2m0\u001b[0m\u001b[2m \u001b[0m│ nodes                      │ ModuleDict        │  4.7 M │ train │\n",
       "│\u001b[2m \u001b[0m\u001b[2m1\u001b[0m\u001b[2m \u001b[0m│ nodes.detection_backbone   │ EfficientRep      │  3.1 M │ train │\n",
       "│\u001b[2m \u001b[0m\u001b[2m2\u001b[0m\u001b[2m \u001b[0m│ nodes.detection_neck       │ RepPANNeck        │  1.2 M │ train │\n",
       "│\u001b[2m \u001b[0m\u001b[2m3\u001b[0m\u001b[2m \u001b[0m│ nodes.detection_head       │ EfficientBBoxHead │  411 K │ train │\n",
       "│\u001b[2m \u001b[0m\u001b[2m4\u001b[0m\u001b[2m \u001b[0m│ losses                     │ ModuleDict        │  411 K │ train │\n",
       "│\u001b[2m \u001b[0m\u001b[2m5\u001b[0m\u001b[2m \u001b[0m│ losses.detection_head      │ ModuleDict        │  411 K │ train │\n",
       "│\u001b[2m \u001b[0m\u001b[2m6\u001b[0m\u001b[2m \u001b[0m│ metrics                    │ ModuleDict        │  411 K │ train │\n",
       "│\u001b[2m \u001b[0m\u001b[2m7\u001b[0m\u001b[2m \u001b[0m│ metrics.detection_head     │ ModuleDict        │  411 K │ train │\n",
       "│\u001b[2m \u001b[0m\u001b[2m8\u001b[0m\u001b[2m \u001b[0m│ visualizers                │ ModuleDict        │  411 K │ train │\n",
       "│\u001b[2m \u001b[0m\u001b[2m9\u001b[0m\u001b[2m \u001b[0m│ visualizers.detection_head │ ModuleDict        │  411 K │ train │\n",
       "└───┴────────────────────────────┴───────────────────┴────────┴───────┘\n"
      ]
     },
     "metadata": {},
     "output_type": "display_data"
    },
    {
     "data": {
      "text/html": [
       "<pre style=\"white-space:pre;overflow-x:auto;line-height:normal;font-family:Menlo,'DejaVu Sans Mono',consolas,'Courier New',monospace\"><span style=\"font-weight: bold\">Trainable params</span>: 4.7 M                                                                                            \n",
       "<span style=\"font-weight: bold\">Non-trainable params</span>: 0                                                                                            \n",
       "<span style=\"font-weight: bold\">Total params</span>: 4.7 M                                                                                                \n",
       "<span style=\"font-weight: bold\">Total estimated model params size (MB)</span>: 18                                                                         \n",
       "<span style=\"font-weight: bold\">Modules in train mode</span>: 537                                                                                         \n",
       "<span style=\"font-weight: bold\">Modules in eval mode</span>: 0                                                                                            \n",
       "</pre>\n"
      ],
      "text/plain": [
       "\u001b[1mTrainable params\u001b[0m: 4.7 M                                                                                            \n",
       "\u001b[1mNon-trainable params\u001b[0m: 0                                                                                            \n",
       "\u001b[1mTotal params\u001b[0m: 4.7 M                                                                                                \n",
       "\u001b[1mTotal estimated model params size (MB)\u001b[0m: 18                                                                         \n",
       "\u001b[1mModules in train mode\u001b[0m: 537                                                                                         \n",
       "\u001b[1mModules in eval mode\u001b[0m: 0                                                                                            \n"
      ]
     },
     "metadata": {},
     "output_type": "display_data"
    },
    {
     "data": {
      "application/vnd.jupyter.widget-view+json": {
       "model_id": "442c800ac0ed4547b45b6001453d0083",
       "version_major": 2,
       "version_minor": 0
      },
      "text/plain": [
       "Output()"
      ]
     },
     "metadata": {},
     "output_type": "display_data"
    },
    {
     "data": {
      "text/html": [
       "<pre style=\"white-space:pre;overflow-x:auto;line-height:normal;font-family:Menlo,'DejaVu Sans Mono',consolas,'Courier New',monospace\"><span style=\"color: #008000; text-decoration-color: #008000\">INFO    </span> Switching to Task Aligned Assigner after <span style=\"color: #008080; text-decoration-color: #008080; font-weight: bold\">0</span> warmup epochs.                   <a href=\"file:///opt/conda/lib/python3.11/site-packages/luxonis_train/attached_modules/losses/adaptive_detection_loss.py\" target=\"_blank\"><span style=\"color: #7f7f7f; text-decoration-color: #7f7f7f\">adaptive_detection_loss.py</span></a><span style=\"color: #7f7f7f; text-decoration-color: #7f7f7f\">:</span><a href=\"file:///opt/conda/lib/python3.11/site-packages/luxonis_train/attached_modules/losses/adaptive_detection_loss.py#209\" target=\"_blank\"><span style=\"color: #7f7f7f; text-decoration-color: #7f7f7f\">209</span></a>\n",
       "</pre>\n"
      ],
      "text/plain": [
       "\u001b[32mINFO    \u001b[0m Switching to Task Aligned Assigner after \u001b[1;36m0\u001b[0m warmup epochs.                   \u001b]8;id=948677;file:///opt/conda/lib/python3.11/site-packages/luxonis_train/attached_modules/losses/adaptive_detection_loss.py\u001b\\\u001b[2madaptive_detection_loss.py\u001b[0m\u001b]8;;\u001b\\\u001b[2m:\u001b[0m\u001b]8;id=552498;file:///opt/conda/lib/python3.11/site-packages/luxonis_train/attached_modules/losses/adaptive_detection_loss.py#209\u001b\\\u001b[2m209\u001b[0m\u001b]8;;\u001b\\\n"
      ]
     },
     "metadata": {},
     "output_type": "display_data"
    },
    {
     "data": {
      "text/html": [
       "<pre style=\"white-space:pre;overflow-x:auto;line-height:normal;font-family:Menlo,'DejaVu Sans Mono',consolas,'Courier New',monospace\"><span style=\"color: #808000; text-decoration-color: #808000\">WARNING </span> <span style=\"color: #800080; text-decoration-color: #800080\">/opt/conda/lib/python3.11/site-packages/torchvision/</span><span style=\"color: #ff00ff; text-decoration-color: #ff00ff\">utils.py</span>:<span style=\"color: #008080; text-decoration-color: #008080; font-weight: bold\">209</span>: UserWarning: boxes        <a href=\"file:///opt/conda/lib/python3.11/site-packages/luxonis_ml/utils/logging.py\" target=\"_blank\"><span style=\"color: #7f7f7f; text-decoration-color: #7f7f7f\">logging.py</span></a><span style=\"color: #7f7f7f; text-decoration-color: #7f7f7f\">:</span><a href=\"file:///opt/conda/lib/python3.11/site-packages/luxonis_ml/utils/logging.py#121\" target=\"_blank\"><span style=\"color: #7f7f7f; text-decoration-color: #7f7f7f\">121</span></a>\n",
       "         doesn't contain any box. No box was drawn                                                   <span style=\"color: #7f7f7f; text-decoration-color: #7f7f7f\">              </span>\n",
       "           <span style=\"color: #800080; text-decoration-color: #800080; font-weight: bold\">warnings.warn</span><span style=\"font-weight: bold\">(</span><span style=\"color: #008000; text-decoration-color: #008000\">\"boxes doesn't contain any box. No box was drawn\"</span><span style=\"font-weight: bold\">)</span>                          <span style=\"color: #7f7f7f; text-decoration-color: #7f7f7f\">              </span>\n",
       "                                                                                                     <span style=\"color: #7f7f7f; text-decoration-color: #7f7f7f\">              </span>\n",
       "</pre>\n"
      ],
      "text/plain": [
       "\u001b[33mWARNING \u001b[0m \u001b[35m/opt/conda/lib/python3.11/site-packages/torchvision/\u001b[0m\u001b[95mutils.py\u001b[0m:\u001b[1;36m209\u001b[0m: UserWarning: boxes        \u001b]8;id=614067;file:///opt/conda/lib/python3.11/site-packages/luxonis_ml/utils/logging.py\u001b\\\u001b[2mlogging.py\u001b[0m\u001b]8;;\u001b\\\u001b[2m:\u001b[0m\u001b]8;id=807668;file:///opt/conda/lib/python3.11/site-packages/luxonis_ml/utils/logging.py#121\u001b\\\u001b[2m121\u001b[0m\u001b]8;;\u001b\\\n",
       "         doesn't contain any box. No box was drawn                                                   \u001b[2m              \u001b[0m\n",
       "           \u001b[1;35mwarnings.warn\u001b[0m\u001b[1m(\u001b[0m\u001b[32m\"boxes doesn't contain any box. No box was drawn\"\u001b[0m\u001b[1m)\u001b[0m                          \u001b[2m              \u001b[0m\n",
       "                                                                                                     \u001b[2m              \u001b[0m\n"
      ]
     },
     "metadata": {},
     "output_type": "display_data"
    },
    {
     "data": {
      "text/html": [
       "<pre style=\"white-space:pre;overflow-x:auto;line-height:normal;font-family:Menlo,'DejaVu Sans Mono',consolas,'Courier New',monospace\"><span style=\"color: #008000; text-decoration-color: #008000\">INFO    </span> Computing metrics on val subset <span style=\"color: #808000; text-decoration-color: #808000\">...</span>                                               <a href=\"file:///opt/conda/lib/python3.11/site-packages/luxonis_train/models/luxonis_lightning.py\" target=\"_blank\"><span style=\"color: #7f7f7f; text-decoration-color: #7f7f7f\">luxonis_lightning.py</span></a><span style=\"color: #7f7f7f; text-decoration-color: #7f7f7f\">:</span><a href=\"file:///opt/conda/lib/python3.11/site-packages/luxonis_train/models/luxonis_lightning.py#732\" target=\"_blank\"><span style=\"color: #7f7f7f; text-decoration-color: #7f7f7f\">732</span></a>\n",
       "</pre>\n"
      ],
      "text/plain": [
       "\u001b[32mINFO    \u001b[0m Computing metrics on val subset \u001b[33m...\u001b[0m                                               \u001b]8;id=715902;file:///opt/conda/lib/python3.11/site-packages/luxonis_train/models/luxonis_lightning.py\u001b\\\u001b[2mluxonis_lightning.py\u001b[0m\u001b]8;;\u001b\\\u001b[2m:\u001b[0m\u001b]8;id=158795;file:///opt/conda/lib/python3.11/site-packages/luxonis_train/models/luxonis_lightning.py#732\u001b\\\u001b[2m732\u001b[0m\u001b]8;;\u001b\\\n"
      ]
     },
     "metadata": {},
     "output_type": "display_data"
    },
    {
     "data": {
      "text/html": [
       "<pre style=\"white-space:pre;overflow-x:auto;line-height:normal;font-family:Menlo,'DejaVu Sans Mono',consolas,'Courier New',monospace\"><span style=\"color: #008000; text-decoration-color: #008000\">INFO    </span> Metrics computed.                                                                 <a href=\"file:///opt/conda/lib/python3.11/site-packages/luxonis_train/models/luxonis_lightning.py\" target=\"_blank\"><span style=\"color: #7f7f7f; text-decoration-color: #7f7f7f\">luxonis_lightning.py</span></a><span style=\"color: #7f7f7f; text-decoration-color: #7f7f7f\">:</span><a href=\"file:///opt/conda/lib/python3.11/site-packages/luxonis_train/models/luxonis_lightning.py#734\" target=\"_blank\"><span style=\"color: #7f7f7f; text-decoration-color: #7f7f7f\">734</span></a>\n",
       "</pre>\n"
      ],
      "text/plain": [
       "\u001b[32mINFO    \u001b[0m Metrics computed.                                                                 \u001b]8;id=344036;file:///opt/conda/lib/python3.11/site-packages/luxonis_train/models/luxonis_lightning.py\u001b\\\u001b[2mluxonis_lightning.py\u001b[0m\u001b]8;;\u001b\\\u001b[2m:\u001b[0m\u001b]8;id=769006;file:///opt/conda/lib/python3.11/site-packages/luxonis_train/models/luxonis_lightning.py#734\u001b\\\u001b[2m734\u001b[0m\u001b]8;;\u001b\\\n"
      ]
     },
     "metadata": {},
     "output_type": "display_data"
    },
    {
     "data": {
      "text/html": [
       "<pre style=\"white-space:pre;overflow-x:auto;line-height:normal;font-family:Menlo,'DejaVu Sans Mono',consolas,'Courier New',monospace\"><span style=\"color: #008000; text-decoration-color: #008000\">INFO    </span> Validation loss: <span style=\"color: #008080; text-decoration-color: #008080; font-weight: bold\">3.0586</span>                                                           <a href=\"file:///opt/conda/lib/python3.11/site-packages/luxonis_train/models/luxonis_lightning.py\" target=\"_blank\"><span style=\"color: #7f7f7f; text-decoration-color: #7f7f7f\">luxonis_lightning.py</span></a><span style=\"color: #7f7f7f; text-decoration-color: #7f7f7f\">:</span><a href=\"file:///opt/conda/lib/python3.11/site-packages/luxonis_train/models/luxonis_lightning.py#915\" target=\"_blank\"><span style=\"color: #7f7f7f; text-decoration-color: #7f7f7f\">915</span></a>\n",
       "</pre>\n"
      ],
      "text/plain": [
       "\u001b[32mINFO    \u001b[0m Validation loss: \u001b[1;36m3.0586\u001b[0m                                                           \u001b]8;id=286456;file:///opt/conda/lib/python3.11/site-packages/luxonis_train/models/luxonis_lightning.py\u001b\\\u001b[2mluxonis_lightning.py\u001b[0m\u001b]8;;\u001b\\\u001b[2m:\u001b[0m\u001b]8;id=762101;file:///opt/conda/lib/python3.11/site-packages/luxonis_train/models/luxonis_lightning.py#915\u001b\\\u001b[2m915\u001b[0m\u001b]8;;\u001b\\\n"
      ]
     },
     "metadata": {},
     "output_type": "display_data"
    },
    {
     "data": {
      "text/html": [
       "<pre style=\"white-space:pre;overflow-x:auto;line-height:normal;font-family:Menlo,'DejaVu Sans Mono',consolas,'Courier New',monospace\"><span style=\"color: #800080; text-decoration-color: #800080; font-weight: bold\">─────────────────────────────────────────────────── </span>Validation<span style=\"color: #800080; text-decoration-color: #800080; font-weight: bold\"> ────────────────────────────────────────────────────</span>\n",
       "</pre>\n"
      ],
      "text/plain": [
       "\u001b[1;35m─────────────────────────────────────────────────── \u001b[0mValidation\u001b[1;35m ────────────────────────────────────────────────────\u001b[0m\n"
      ]
     },
     "metadata": {},
     "output_type": "display_data"
    },
    {
     "data": {
      "text/html": [
       "<pre style=\"white-space:pre;overflow-x:auto;line-height:normal;font-family:Menlo,'DejaVu Sans Mono',consolas,'Courier New',monospace\"><span style=\"color: #800080; text-decoration-color: #800080; font-weight: bold\">Loss:</span> <span style=\"color: #c0c0c0; text-decoration-color: #c0c0c0; font-weight: bold\">3.0586304664611816</span>\n",
       "</pre>\n"
      ],
      "text/plain": [
       "\u001b[1;35mLoss:\u001b[0m \u001b[1;37m3.0586304664611816\u001b[0m\n"
      ]
     },
     "metadata": {},
     "output_type": "display_data"
    },
    {
     "data": {
      "text/html": [
       "<pre style=\"white-space:pre;overflow-x:auto;line-height:normal;font-family:Menlo,'DejaVu Sans Mono',consolas,'Courier New',monospace\"><span style=\"color: #800080; text-decoration-color: #800080; font-weight: bold\">Metrics:</span>\n",
       "</pre>\n"
      ],
      "text/plain": [
       "\u001b[1;35mMetrics:\u001b[0m\n"
      ]
     },
     "metadata": {},
     "output_type": "display_data"
    },
    {
     "data": {
      "text/html": [
       "<pre style=\"white-space:pre;overflow-x:auto;line-height:normal;font-family:Menlo,'DejaVu Sans Mono',consolas,'Courier New',monospace\"><span style=\"font-style: italic\">       detection_head       </span>\n",
       "┏━━━━━━━━━━━━━━━┳━━━━━━━━━━┓\n",
       "┃<span style=\"color: #800080; text-decoration-color: #800080; font-weight: bold\"> Name          </span>┃<span style=\"color: #800080; text-decoration-color: #800080; font-weight: bold\"> Value    </span>┃\n",
       "┡━━━━━━━━━━━━━━━╇━━━━━━━━━━┩\n",
       "│<span style=\"color: #800080; text-decoration-color: #800080\"> detection_map </span>│<span style=\"color: #c0c0c0; text-decoration-color: #c0c0c0\"> 0.00000  </span>│\n",
       "│<span style=\"color: #800080; text-decoration-color: #800080\"> map_50        </span>│<span style=\"color: #c0c0c0; text-decoration-color: #c0c0c0\"> 0.00000  </span>│\n",
       "│<span style=\"color: #800080; text-decoration-color: #800080\"> map_75        </span>│<span style=\"color: #c0c0c0; text-decoration-color: #c0c0c0\"> 0.00000  </span>│\n",
       "│<span style=\"color: #800080; text-decoration-color: #800080\"> map_small     </span>│<span style=\"color: #c0c0c0; text-decoration-color: #c0c0c0\"> -1.00000 </span>│\n",
       "│<span style=\"color: #800080; text-decoration-color: #800080\"> map_medium    </span>│<span style=\"color: #c0c0c0; text-decoration-color: #c0c0c0\"> 0.00000  </span>│\n",
       "│<span style=\"color: #800080; text-decoration-color: #800080\"> map_large     </span>│<span style=\"color: #c0c0c0; text-decoration-color: #c0c0c0\"> 0.00000  </span>│\n",
       "│<span style=\"color: #800080; text-decoration-color: #800080\"> mar_1         </span>│<span style=\"color: #c0c0c0; text-decoration-color: #c0c0c0\"> 0.00000  </span>│\n",
       "│<span style=\"color: #800080; text-decoration-color: #800080\"> mar_10        </span>│<span style=\"color: #c0c0c0; text-decoration-color: #c0c0c0\"> 0.00000  </span>│\n",
       "│<span style=\"color: #800080; text-decoration-color: #800080\"> mar_100       </span>│<span style=\"color: #c0c0c0; text-decoration-color: #c0c0c0\"> 0.00000  </span>│\n",
       "│<span style=\"color: #800080; text-decoration-color: #800080\"> mar_small     </span>│<span style=\"color: #c0c0c0; text-decoration-color: #c0c0c0\"> -1.00000 </span>│\n",
       "│<span style=\"color: #800080; text-decoration-color: #800080\"> mar_medium    </span>│<span style=\"color: #c0c0c0; text-decoration-color: #c0c0c0\"> 0.00000  </span>│\n",
       "│<span style=\"color: #800080; text-decoration-color: #800080\"> mar_large     </span>│<span style=\"color: #c0c0c0; text-decoration-color: #c0c0c0\"> 0.00000  </span>│\n",
       "│<span style=\"color: #800080; text-decoration-color: #800080\"> f1_small      </span>│<span style=\"color: #c0c0c0; text-decoration-color: #c0c0c0\"> -1.00000 </span>│\n",
       "│<span style=\"color: #800080; text-decoration-color: #800080\"> f1_medium     </span>│<span style=\"color: #c0c0c0; text-decoration-color: #c0c0c0\"> nan      </span>│\n",
       "│<span style=\"color: #800080; text-decoration-color: #800080\"> f1_large      </span>│<span style=\"color: #c0c0c0; text-decoration-color: #c0c0c0\"> nan      </span>│\n",
       "└───────────────┴──────────┘\n",
       "</pre>\n"
      ],
      "text/plain": [
       "\u001b[3m       detection_head       \u001b[0m\n",
       "┏━━━━━━━━━━━━━━━┳━━━━━━━━━━┓\n",
       "┃\u001b[1;35m \u001b[0m\u001b[1;35mName         \u001b[0m\u001b[1;35m \u001b[0m┃\u001b[1;35m \u001b[0m\u001b[1;35mValue   \u001b[0m\u001b[1;35m \u001b[0m┃\n",
       "┡━━━━━━━━━━━━━━━╇━━━━━━━━━━┩\n",
       "│\u001b[35m \u001b[0m\u001b[35mdetection_map\u001b[0m\u001b[35m \u001b[0m│\u001b[37m \u001b[0m\u001b[37m0.00000 \u001b[0m\u001b[37m \u001b[0m│\n",
       "│\u001b[35m \u001b[0m\u001b[35mmap_50       \u001b[0m\u001b[35m \u001b[0m│\u001b[37m \u001b[0m\u001b[37m0.00000 \u001b[0m\u001b[37m \u001b[0m│\n",
       "│\u001b[35m \u001b[0m\u001b[35mmap_75       \u001b[0m\u001b[35m \u001b[0m│\u001b[37m \u001b[0m\u001b[37m0.00000 \u001b[0m\u001b[37m \u001b[0m│\n",
       "│\u001b[35m \u001b[0m\u001b[35mmap_small    \u001b[0m\u001b[35m \u001b[0m│\u001b[37m \u001b[0m\u001b[37m-1.00000\u001b[0m\u001b[37m \u001b[0m│\n",
       "│\u001b[35m \u001b[0m\u001b[35mmap_medium   \u001b[0m\u001b[35m \u001b[0m│\u001b[37m \u001b[0m\u001b[37m0.00000 \u001b[0m\u001b[37m \u001b[0m│\n",
       "│\u001b[35m \u001b[0m\u001b[35mmap_large    \u001b[0m\u001b[35m \u001b[0m│\u001b[37m \u001b[0m\u001b[37m0.00000 \u001b[0m\u001b[37m \u001b[0m│\n",
       "│\u001b[35m \u001b[0m\u001b[35mmar_1        \u001b[0m\u001b[35m \u001b[0m│\u001b[37m \u001b[0m\u001b[37m0.00000 \u001b[0m\u001b[37m \u001b[0m│\n",
       "│\u001b[35m \u001b[0m\u001b[35mmar_10       \u001b[0m\u001b[35m \u001b[0m│\u001b[37m \u001b[0m\u001b[37m0.00000 \u001b[0m\u001b[37m \u001b[0m│\n",
       "│\u001b[35m \u001b[0m\u001b[35mmar_100      \u001b[0m\u001b[35m \u001b[0m│\u001b[37m \u001b[0m\u001b[37m0.00000 \u001b[0m\u001b[37m \u001b[0m│\n",
       "│\u001b[35m \u001b[0m\u001b[35mmar_small    \u001b[0m\u001b[35m \u001b[0m│\u001b[37m \u001b[0m\u001b[37m-1.00000\u001b[0m\u001b[37m \u001b[0m│\n",
       "│\u001b[35m \u001b[0m\u001b[35mmar_medium   \u001b[0m\u001b[35m \u001b[0m│\u001b[37m \u001b[0m\u001b[37m0.00000 \u001b[0m\u001b[37m \u001b[0m│\n",
       "│\u001b[35m \u001b[0m\u001b[35mmar_large    \u001b[0m\u001b[35m \u001b[0m│\u001b[37m \u001b[0m\u001b[37m0.00000 \u001b[0m\u001b[37m \u001b[0m│\n",
       "│\u001b[35m \u001b[0m\u001b[35mf1_small     \u001b[0m\u001b[35m \u001b[0m│\u001b[37m \u001b[0m\u001b[37m-1.00000\u001b[0m\u001b[37m \u001b[0m│\n",
       "│\u001b[35m \u001b[0m\u001b[35mf1_medium    \u001b[0m\u001b[35m \u001b[0m│\u001b[37m \u001b[0m\u001b[37mnan     \u001b[0m\u001b[37m \u001b[0m│\n",
       "│\u001b[35m \u001b[0m\u001b[35mf1_large     \u001b[0m\u001b[35m \u001b[0m│\u001b[37m \u001b[0m\u001b[37mnan     \u001b[0m\u001b[37m \u001b[0m│\n",
       "└───────────────┴──────────┘\n"
      ]
     },
     "metadata": {},
     "output_type": "display_data"
    },
    {
     "data": {
      "text/html": [
       "<pre style=\"white-space:pre;overflow-x:auto;line-height:normal;font-family:Menlo,'DejaVu Sans Mono',consolas,'Courier New',monospace\"><span style=\"color: #800080; text-decoration-color: #800080; font-weight: bold\">───────────────────────────────────────────────────────────────────────────────────────────────────────────────────</span>\n",
       "</pre>\n"
      ],
      "text/plain": [
       "\u001b[1;35m───────────────────────────────────────────────────────────────────────────────────────────────────────────────────\u001b[0m\n"
      ]
     },
     "metadata": {},
     "output_type": "display_data"
    },
    {
     "data": {
      "text/html": [
       "<pre style=\"white-space:pre;overflow-x:auto;line-height:normal;font-family:Menlo,'DejaVu Sans Mono',consolas,'Courier New',monospace\"><span style=\"color: #008000; text-decoration-color: #008000\">INFO    </span> Validation main metric <span style=\"font-weight: bold\">(</span>detection_head/detection_map<span style=\"font-weight: bold\">)</span>: <span style=\"color: #008080; text-decoration-color: #008080; font-weight: bold\">0.0000</span>                     <a href=\"file:///opt/conda/lib/python3.11/site-packages/luxonis_train/models/luxonis_lightning.py\" target=\"_blank\"><span style=\"color: #7f7f7f; text-decoration-color: #7f7f7f\">luxonis_lightning.py</span></a><span style=\"color: #7f7f7f; text-decoration-color: #7f7f7f\">:</span><a href=\"file:///opt/conda/lib/python3.11/site-packages/luxonis_train/models/luxonis_lightning.py#924\" target=\"_blank\"><span style=\"color: #7f7f7f; text-decoration-color: #7f7f7f\">924</span></a>\n",
       "</pre>\n"
      ],
      "text/plain": [
       "\u001b[32mINFO    \u001b[0m Validation main metric \u001b[1m(\u001b[0mdetection_head/detection_map\u001b[1m)\u001b[0m: \u001b[1;36m0.0000\u001b[0m                     \u001b]8;id=123128;file:///opt/conda/lib/python3.11/site-packages/luxonis_train/models/luxonis_lightning.py\u001b\\\u001b[2mluxonis_lightning.py\u001b[0m\u001b]8;;\u001b\\\u001b[2m:\u001b[0m\u001b]8;id=685424;file:///opt/conda/lib/python3.11/site-packages/luxonis_train/models/luxonis_lightning.py#924\u001b\\\u001b[2m924\u001b[0m\u001b]8;;\u001b\\\n"
      ]
     },
     "metadata": {},
     "output_type": "display_data"
    },
    {
     "data": {
      "text/html": [
       "<pre style=\"white-space:pre;overflow-x:auto;line-height:normal;font-family:Menlo,'DejaVu Sans Mono',consolas,'Courier New',monospace\"><span style=\"color: #808000; text-decoration-color: #808000\">WARNING </span> <span style=\"color: #800080; text-decoration-color: #800080\">/opt/conda/lib/python3.11/site-packages/lightning/pytorch/loops/</span><span style=\"color: #ff00ff; text-decoration-color: #ff00ff\">fit_loop.py</span>:<span style=\"color: #008080; text-decoration-color: #008080; font-weight: bold\">298</span>: The number <a href=\"file:///opt/conda/lib/python3.11/site-packages/luxonis_ml/utils/logging.py\" target=\"_blank\"><span style=\"color: #7f7f7f; text-decoration-color: #7f7f7f\">logging.py</span></a><span style=\"color: #7f7f7f; text-decoration-color: #7f7f7f\">:</span><a href=\"file:///opt/conda/lib/python3.11/site-packages/luxonis_ml/utils/logging.py#121\" target=\"_blank\"><span style=\"color: #7f7f7f; text-decoration-color: #7f7f7f\">121</span></a>\n",
       "         of training batches <span style=\"font-weight: bold\">(</span><span style=\"color: #008080; text-decoration-color: #008080; font-weight: bold\">7</span><span style=\"font-weight: bold\">)</span> is smaller than the logging interval <span style=\"color: #800080; text-decoration-color: #800080; font-weight: bold\">Trainer</span><span style=\"font-weight: bold\">(</span><span style=\"color: #808000; text-decoration-color: #808000\">log_every_n_steps</span>=<span style=\"color: #008080; text-decoration-color: #008080; font-weight: bold\">50</span><span style=\"font-weight: bold\">)</span>. <span style=\"color: #7f7f7f; text-decoration-color: #7f7f7f\">              </span>\n",
       "         Set a lower value for log_every_n_steps if you want to see logs for the training epoch.     <span style=\"color: #7f7f7f; text-decoration-color: #7f7f7f\">              </span>\n",
       "                                                                                                     <span style=\"color: #7f7f7f; text-decoration-color: #7f7f7f\">              </span>\n",
       "</pre>\n"
      ],
      "text/plain": [
       "\u001b[33mWARNING \u001b[0m \u001b[35m/opt/conda/lib/python3.11/site-packages/lightning/pytorch/loops/\u001b[0m\u001b[95mfit_loop.py\u001b[0m:\u001b[1;36m298\u001b[0m: The number \u001b]8;id=68527;file:///opt/conda/lib/python3.11/site-packages/luxonis_ml/utils/logging.py\u001b\\\u001b[2mlogging.py\u001b[0m\u001b]8;;\u001b\\\u001b[2m:\u001b[0m\u001b]8;id=177593;file:///opt/conda/lib/python3.11/site-packages/luxonis_ml/utils/logging.py#121\u001b\\\u001b[2m121\u001b[0m\u001b]8;;\u001b\\\n",
       "         of training batches \u001b[1m(\u001b[0m\u001b[1;36m7\u001b[0m\u001b[1m)\u001b[0m is smaller than the logging interval \u001b[1;35mTrainer\u001b[0m\u001b[1m(\u001b[0m\u001b[33mlog_every_n_steps\u001b[0m=\u001b[1;36m50\u001b[0m\u001b[1m)\u001b[0m. \u001b[2m              \u001b[0m\n",
       "         Set a lower value for log_every_n_steps if you want to see logs for the training epoch.     \u001b[2m              \u001b[0m\n",
       "                                                                                                     \u001b[2m              \u001b[0m\n"
      ]
     },
     "metadata": {},
     "output_type": "display_data"
    },
    {
     "data": {
      "text/html": [
       "<pre style=\"white-space:pre;overflow-x:auto;line-height:normal;font-family:Menlo,'DejaVu Sans Mono',consolas,'Courier New',monospace\"></pre>\n"
      ],
      "text/plain": []
     },
     "metadata": {},
     "output_type": "display_data"
    },
    {
     "data": {
      "text/html": [
       "<pre style=\"white-space:pre;overflow-x:auto;line-height:normal;font-family:Menlo,'DejaVu Sans Mono',consolas,'Courier New',monospace\">\n",
       "</pre>\n"
      ],
      "text/plain": [
       "\n"
      ]
     },
     "metadata": {},
     "output_type": "display_data"
    },
    {
     "data": {
      "application/vnd.jupyter.widget-view+json": {
       "model_id": "dd2b7c9471ee4b4b8105028349e30b0a",
       "version_major": 2,
       "version_minor": 0
      },
      "text/plain": [
       "Output()"
      ]
     },
     "metadata": {},
     "output_type": "display_data"
    },
    {
     "data": {
      "text/html": [
       "<pre style=\"white-space:pre;overflow-x:auto;line-height:normal;font-family:Menlo,'DejaVu Sans Mono',consolas,'Courier New',monospace\"></pre>\n"
      ],
      "text/plain": []
     },
     "metadata": {},
     "output_type": "display_data"
    },
    {
     "data": {
      "text/html": [
       "<pre style=\"white-space:pre;overflow-x:auto;line-height:normal;font-family:Menlo,'DejaVu Sans Mono',consolas,'Courier New',monospace\">\n",
       "</pre>\n"
      ],
      "text/plain": [
       "\n"
      ]
     },
     "metadata": {},
     "output_type": "display_data"
    },
    {
     "data": {
      "application/vnd.jupyter.widget-view+json": {
       "model_id": "56c521b9f04e4b35a0ac8a5ed5b70844",
       "version_major": 2,
       "version_minor": 0
      },
      "text/plain": [
       "Output()"
      ]
     },
     "metadata": {},
     "output_type": "display_data"
    },
    {
     "data": {
      "text/html": [
       "<pre style=\"white-space:pre;overflow-x:auto;line-height:normal;font-family:Menlo,'DejaVu Sans Mono',consolas,'Courier New',monospace\"></pre>\n"
      ],
      "text/plain": []
     },
     "metadata": {},
     "output_type": "display_data"
    },
    {
     "data": {
      "text/html": [
       "<pre style=\"white-space:pre;overflow-x:auto;line-height:normal;font-family:Menlo,'DejaVu Sans Mono',consolas,'Courier New',monospace\">\n",
       "</pre>\n"
      ],
      "text/plain": [
       "\n"
      ]
     },
     "metadata": {},
     "output_type": "display_data"
    },
    {
     "data": {
      "application/vnd.jupyter.widget-view+json": {
       "model_id": "a7352426754d4ea89aa9f547b5a18d50",
       "version_major": 2,
       "version_minor": 0
      },
      "text/plain": [
       "Output()"
      ]
     },
     "metadata": {},
     "output_type": "display_data"
    },
    {
     "data": {
      "text/html": [
       "<pre style=\"white-space:pre;overflow-x:auto;line-height:normal;font-family:Menlo,'DejaVu Sans Mono',consolas,'Courier New',monospace\"></pre>\n"
      ],
      "text/plain": []
     },
     "metadata": {},
     "output_type": "display_data"
    },
    {
     "data": {
      "text/html": [
       "<pre style=\"white-space:pre;overflow-x:auto;line-height:normal;font-family:Menlo,'DejaVu Sans Mono',consolas,'Courier New',monospace\">\n",
       "</pre>\n"
      ],
      "text/plain": [
       "\n"
      ]
     },
     "metadata": {},
     "output_type": "display_data"
    },
    {
     "data": {
      "application/vnd.jupyter.widget-view+json": {
       "model_id": "602efbfa8bba43b7b065e3859d654aed",
       "version_major": 2,
       "version_minor": 0
      },
      "text/plain": [
       "Output()"
      ]
     },
     "metadata": {},
     "output_type": "display_data"
    },
    {
     "data": {
      "text/html": [
       "<pre style=\"white-space:pre;overflow-x:auto;line-height:normal;font-family:Menlo,'DejaVu Sans Mono',consolas,'Courier New',monospace\"></pre>\n"
      ],
      "text/plain": []
     },
     "metadata": {},
     "output_type": "display_data"
    },
    {
     "data": {
      "text/html": [
       "<pre style=\"white-space:pre;overflow-x:auto;line-height:normal;font-family:Menlo,'DejaVu Sans Mono',consolas,'Courier New',monospace\">\n",
       "</pre>\n"
      ],
      "text/plain": [
       "\n"
      ]
     },
     "metadata": {},
     "output_type": "display_data"
    },
    {
     "data": {
      "application/vnd.jupyter.widget-view+json": {
       "model_id": "8cef2d2a2cc24ad8bd943d3c53857640",
       "version_major": 2,
       "version_minor": 0
      },
      "text/plain": [
       "Output()"
      ]
     },
     "metadata": {},
     "output_type": "display_data"
    },
    {
     "data": {
      "text/html": [
       "<pre style=\"white-space:pre;overflow-x:auto;line-height:normal;font-family:Menlo,'DejaVu Sans Mono',consolas,'Courier New',monospace\"></pre>\n"
      ],
      "text/plain": []
     },
     "metadata": {},
     "output_type": "display_data"
    },
    {
     "data": {
      "text/html": [
       "<pre style=\"white-space:pre;overflow-x:auto;line-height:normal;font-family:Menlo,'DejaVu Sans Mono',consolas,'Courier New',monospace\">\n",
       "</pre>\n"
      ],
      "text/plain": [
       "\n"
      ]
     },
     "metadata": {},
     "output_type": "display_data"
    },
    {
     "data": {
      "application/vnd.jupyter.widget-view+json": {
       "model_id": "1263c2f655fb4b30988c59c60490ddde",
       "version_major": 2,
       "version_minor": 0
      },
      "text/plain": [
       "Output()"
      ]
     },
     "metadata": {},
     "output_type": "display_data"
    },
    {
     "data": {
      "text/html": [
       "<pre style=\"white-space:pre;overflow-x:auto;line-height:normal;font-family:Menlo,'DejaVu Sans Mono',consolas,'Courier New',monospace\"></pre>\n"
      ],
      "text/plain": []
     },
     "metadata": {},
     "output_type": "display_data"
    },
    {
     "data": {
      "text/html": [
       "<pre style=\"white-space:pre;overflow-x:auto;line-height:normal;font-family:Menlo,'DejaVu Sans Mono',consolas,'Courier New',monospace\">\n",
       "</pre>\n"
      ],
      "text/plain": [
       "\n"
      ]
     },
     "metadata": {},
     "output_type": "display_data"
    },
    {
     "data": {
      "application/vnd.jupyter.widget-view+json": {
       "model_id": "dbe9dcdf85c4497699623ba05255e830",
       "version_major": 2,
       "version_minor": 0
      },
      "text/plain": [
       "Output()"
      ]
     },
     "metadata": {},
     "output_type": "display_data"
    },
    {
     "data": {
      "text/html": [
       "<pre style=\"white-space:pre;overflow-x:auto;line-height:normal;font-family:Menlo,'DejaVu Sans Mono',consolas,'Courier New',monospace\"></pre>\n"
      ],
      "text/plain": []
     },
     "metadata": {},
     "output_type": "display_data"
    },
    {
     "data": {
      "text/html": [
       "<pre style=\"white-space:pre;overflow-x:auto;line-height:normal;font-family:Menlo,'DejaVu Sans Mono',consolas,'Courier New',monospace\">\n",
       "</pre>\n"
      ],
      "text/plain": [
       "\n"
      ]
     },
     "metadata": {},
     "output_type": "display_data"
    },
    {
     "data": {
      "application/vnd.jupyter.widget-view+json": {
       "model_id": "299d6a24442d420db638a2423b008754",
       "version_major": 2,
       "version_minor": 0
      },
      "text/plain": [
       "Output()"
      ]
     },
     "metadata": {},
     "output_type": "display_data"
    },
    {
     "data": {
      "text/html": [
       "<pre style=\"white-space:pre;overflow-x:auto;line-height:normal;font-family:Menlo,'DejaVu Sans Mono',consolas,'Courier New',monospace\"></pre>\n"
      ],
      "text/plain": []
     },
     "metadata": {},
     "output_type": "display_data"
    },
    {
     "data": {
      "text/html": [
       "<pre style=\"white-space:pre;overflow-x:auto;line-height:normal;font-family:Menlo,'DejaVu Sans Mono',consolas,'Courier New',monospace\">\n",
       "</pre>\n"
      ],
      "text/plain": [
       "\n"
      ]
     },
     "metadata": {},
     "output_type": "display_data"
    },
    {
     "data": {
      "application/vnd.jupyter.widget-view+json": {
       "model_id": "2a311c02e7b242c4aba9f61cd33674ff",
       "version_major": 2,
       "version_minor": 0
      },
      "text/plain": [
       "Output()"
      ]
     },
     "metadata": {},
     "output_type": "display_data"
    },
    {
     "data": {
      "text/html": [
       "<pre style=\"white-space:pre;overflow-x:auto;line-height:normal;font-family:Menlo,'DejaVu Sans Mono',consolas,'Courier New',monospace\"><span style=\"color: #008000; text-decoration-color: #008000\">INFO    </span> Computing metrics on val subset <span style=\"color: #808000; text-decoration-color: #808000\">...</span>                                               <a href=\"file:///opt/conda/lib/python3.11/site-packages/luxonis_train/models/luxonis_lightning.py\" target=\"_blank\"><span style=\"color: #7f7f7f; text-decoration-color: #7f7f7f\">luxonis_lightning.py</span></a><span style=\"color: #7f7f7f; text-decoration-color: #7f7f7f\">:</span><a href=\"file:///opt/conda/lib/python3.11/site-packages/luxonis_train/models/luxonis_lightning.py#732\" target=\"_blank\"><span style=\"color: #7f7f7f; text-decoration-color: #7f7f7f\">732</span></a>\n",
       "</pre>\n"
      ],
      "text/plain": [
       "\u001b[32mINFO    \u001b[0m Computing metrics on val subset \u001b[33m...\u001b[0m                                               \u001b]8;id=862690;file:///opt/conda/lib/python3.11/site-packages/luxonis_train/models/luxonis_lightning.py\u001b\\\u001b[2mluxonis_lightning.py\u001b[0m\u001b]8;;\u001b\\\u001b[2m:\u001b[0m\u001b]8;id=992723;file:///opt/conda/lib/python3.11/site-packages/luxonis_train/models/luxonis_lightning.py#732\u001b\\\u001b[2m732\u001b[0m\u001b]8;;\u001b\\\n"
      ]
     },
     "metadata": {},
     "output_type": "display_data"
    },
    {
     "data": {
      "text/html": [
       "<pre style=\"white-space:pre;overflow-x:auto;line-height:normal;font-family:Menlo,'DejaVu Sans Mono',consolas,'Courier New',monospace\"><span style=\"color: #008000; text-decoration-color: #008000\">INFO    </span> Metrics computed.                                                                 <a href=\"file:///opt/conda/lib/python3.11/site-packages/luxonis_train/models/luxonis_lightning.py\" target=\"_blank\"><span style=\"color: #7f7f7f; text-decoration-color: #7f7f7f\">luxonis_lightning.py</span></a><span style=\"color: #7f7f7f; text-decoration-color: #7f7f7f\">:</span><a href=\"file:///opt/conda/lib/python3.11/site-packages/luxonis_train/models/luxonis_lightning.py#734\" target=\"_blank\"><span style=\"color: #7f7f7f; text-decoration-color: #7f7f7f\">734</span></a>\n",
       "</pre>\n"
      ],
      "text/plain": [
       "\u001b[32mINFO    \u001b[0m Metrics computed.                                                                 \u001b]8;id=497674;file:///opt/conda/lib/python3.11/site-packages/luxonis_train/models/luxonis_lightning.py\u001b\\\u001b[2mluxonis_lightning.py\u001b[0m\u001b]8;;\u001b\\\u001b[2m:\u001b[0m\u001b]8;id=952524;file:///opt/conda/lib/python3.11/site-packages/luxonis_train/models/luxonis_lightning.py#734\u001b\\\u001b[2m734\u001b[0m\u001b]8;;\u001b\\\n"
      ]
     },
     "metadata": {},
     "output_type": "display_data"
    },
    {
     "data": {
      "text/html": [
       "<pre style=\"white-space:pre;overflow-x:auto;line-height:normal;font-family:Menlo,'DejaVu Sans Mono',consolas,'Courier New',monospace\"><span style=\"color: #008000; text-decoration-color: #008000\">INFO    </span> Validation loss: <span style=\"color: #008080; text-decoration-color: #008080; font-weight: bold\">1.5043</span>                                                           <a href=\"file:///opt/conda/lib/python3.11/site-packages/luxonis_train/models/luxonis_lightning.py\" target=\"_blank\"><span style=\"color: #7f7f7f; text-decoration-color: #7f7f7f\">luxonis_lightning.py</span></a><span style=\"color: #7f7f7f; text-decoration-color: #7f7f7f\">:</span><a href=\"file:///opt/conda/lib/python3.11/site-packages/luxonis_train/models/luxonis_lightning.py#915\" target=\"_blank\"><span style=\"color: #7f7f7f; text-decoration-color: #7f7f7f\">915</span></a>\n",
       "</pre>\n"
      ],
      "text/plain": [
       "\u001b[32mINFO    \u001b[0m Validation loss: \u001b[1;36m1.5043\u001b[0m                                                           \u001b]8;id=715902;file:///opt/conda/lib/python3.11/site-packages/luxonis_train/models/luxonis_lightning.py\u001b\\\u001b[2mluxonis_lightning.py\u001b[0m\u001b]8;;\u001b\\\u001b[2m:\u001b[0m\u001b]8;id=158795;file:///opt/conda/lib/python3.11/site-packages/luxonis_train/models/luxonis_lightning.py#915\u001b\\\u001b[2m915\u001b[0m\u001b]8;;\u001b\\\n"
      ]
     },
     "metadata": {},
     "output_type": "display_data"
    },
    {
     "data": {
      "text/html": [
       "<pre style=\"white-space:pre;overflow-x:auto;line-height:normal;font-family:Menlo,'DejaVu Sans Mono',consolas,'Courier New',monospace\"><span style=\"color: #800080; text-decoration-color: #800080; font-weight: bold\">─────────────────────────────────────────────────── </span>Validation<span style=\"color: #800080; text-decoration-color: #800080; font-weight: bold\"> ────────────────────────────────────────────────────</span>\n",
       "</pre>\n"
      ],
      "text/plain": [
       "\u001b[1;35m─────────────────────────────────────────────────── \u001b[0mValidation\u001b[1;35m ────────────────────────────────────────────────────\u001b[0m\n"
      ]
     },
     "metadata": {},
     "output_type": "display_data"
    },
    {
     "data": {
      "text/html": [
       "<pre style=\"white-space:pre;overflow-x:auto;line-height:normal;font-family:Menlo,'DejaVu Sans Mono',consolas,'Courier New',monospace\"><span style=\"color: #800080; text-decoration-color: #800080; font-weight: bold\">Loss:</span> <span style=\"color: #c0c0c0; text-decoration-color: #c0c0c0; font-weight: bold\">1.5042516589164734</span>\n",
       "</pre>\n"
      ],
      "text/plain": [
       "\u001b[1;35mLoss:\u001b[0m \u001b[1;37m1.5042516589164734\u001b[0m\n"
      ]
     },
     "metadata": {},
     "output_type": "display_data"
    },
    {
     "data": {
      "text/html": [
       "<pre style=\"white-space:pre;overflow-x:auto;line-height:normal;font-family:Menlo,'DejaVu Sans Mono',consolas,'Courier New',monospace\"><span style=\"color: #800080; text-decoration-color: #800080; font-weight: bold\">Metrics:</span>\n",
       "</pre>\n"
      ],
      "text/plain": [
       "\u001b[1;35mMetrics:\u001b[0m\n"
      ]
     },
     "metadata": {},
     "output_type": "display_data"
    },
    {
     "data": {
      "text/html": [
       "<pre style=\"white-space:pre;overflow-x:auto;line-height:normal;font-family:Menlo,'DejaVu Sans Mono',consolas,'Courier New',monospace\"><span style=\"font-style: italic\">       detection_head       </span>\n",
       "┏━━━━━━━━━━━━━━━┳━━━━━━━━━━┓\n",
       "┃<span style=\"color: #800080; text-decoration-color: #800080; font-weight: bold\"> Name          </span>┃<span style=\"color: #800080; text-decoration-color: #800080; font-weight: bold\"> Value    </span>┃\n",
       "┡━━━━━━━━━━━━━━━╇━━━━━━━━━━┩\n",
       "│<span style=\"color: #800080; text-decoration-color: #800080\"> detection_map </span>│<span style=\"color: #c0c0c0; text-decoration-color: #c0c0c0\"> 0.21017  </span>│\n",
       "│<span style=\"color: #800080; text-decoration-color: #800080\"> map_50        </span>│<span style=\"color: #c0c0c0; text-decoration-color: #c0c0c0\"> 0.28893  </span>│\n",
       "│<span style=\"color: #800080; text-decoration-color: #800080\"> map_75        </span>│<span style=\"color: #c0c0c0; text-decoration-color: #c0c0c0\"> 0.21962  </span>│\n",
       "│<span style=\"color: #800080; text-decoration-color: #800080\"> map_small     </span>│<span style=\"color: #c0c0c0; text-decoration-color: #c0c0c0\"> -1.00000 </span>│\n",
       "│<span style=\"color: #800080; text-decoration-color: #800080\"> map_medium    </span>│<span style=\"color: #c0c0c0; text-decoration-color: #c0c0c0\"> 0.00000  </span>│\n",
       "│<span style=\"color: #800080; text-decoration-color: #800080\"> map_large     </span>│<span style=\"color: #c0c0c0; text-decoration-color: #c0c0c0\"> 0.36517  </span>│\n",
       "│<span style=\"color: #800080; text-decoration-color: #800080\"> mar_1         </span>│<span style=\"color: #c0c0c0; text-decoration-color: #c0c0c0\"> 0.24464  </span>│\n",
       "│<span style=\"color: #800080; text-decoration-color: #800080\"> mar_10        </span>│<span style=\"color: #c0c0c0; text-decoration-color: #c0c0c0\"> 0.24464  </span>│\n",
       "│<span style=\"color: #800080; text-decoration-color: #800080\"> mar_100       </span>│<span style=\"color: #c0c0c0; text-decoration-color: #c0c0c0\"> 0.24464  </span>│\n",
       "│<span style=\"color: #800080; text-decoration-color: #800080\"> mar_small     </span>│<span style=\"color: #c0c0c0; text-decoration-color: #c0c0c0\"> -1.00000 </span>│\n",
       "│<span style=\"color: #800080; text-decoration-color: #800080\"> mar_medium    </span>│<span style=\"color: #c0c0c0; text-decoration-color: #c0c0c0\"> 0.00000  </span>│\n",
       "│<span style=\"color: #800080; text-decoration-color: #800080\"> mar_large     </span>│<span style=\"color: #c0c0c0; text-decoration-color: #c0c0c0\"> 0.50714  </span>│\n",
       "│<span style=\"color: #800080; text-decoration-color: #800080\"> f1_small      </span>│<span style=\"color: #c0c0c0; text-decoration-color: #c0c0c0\"> -1.00000 </span>│\n",
       "│<span style=\"color: #800080; text-decoration-color: #800080\"> f1_medium     </span>│<span style=\"color: #c0c0c0; text-decoration-color: #c0c0c0\"> nan      </span>│\n",
       "│<span style=\"color: #800080; text-decoration-color: #800080\"> f1_large      </span>│<span style=\"color: #c0c0c0; text-decoration-color: #c0c0c0\"> 0.42460  </span>│\n",
       "└───────────────┴──────────┘\n",
       "</pre>\n"
      ],
      "text/plain": [
       "\u001b[3m       detection_head       \u001b[0m\n",
       "┏━━━━━━━━━━━━━━━┳━━━━━━━━━━┓\n",
       "┃\u001b[1;35m \u001b[0m\u001b[1;35mName         \u001b[0m\u001b[1;35m \u001b[0m┃\u001b[1;35m \u001b[0m\u001b[1;35mValue   \u001b[0m\u001b[1;35m \u001b[0m┃\n",
       "┡━━━━━━━━━━━━━━━╇━━━━━━━━━━┩\n",
       "│\u001b[35m \u001b[0m\u001b[35mdetection_map\u001b[0m\u001b[35m \u001b[0m│\u001b[37m \u001b[0m\u001b[37m0.21017 \u001b[0m\u001b[37m \u001b[0m│\n",
       "│\u001b[35m \u001b[0m\u001b[35mmap_50       \u001b[0m\u001b[35m \u001b[0m│\u001b[37m \u001b[0m\u001b[37m0.28893 \u001b[0m\u001b[37m \u001b[0m│\n",
       "│\u001b[35m \u001b[0m\u001b[35mmap_75       \u001b[0m\u001b[35m \u001b[0m│\u001b[37m \u001b[0m\u001b[37m0.21962 \u001b[0m\u001b[37m \u001b[0m│\n",
       "│\u001b[35m \u001b[0m\u001b[35mmap_small    \u001b[0m\u001b[35m \u001b[0m│\u001b[37m \u001b[0m\u001b[37m-1.00000\u001b[0m\u001b[37m \u001b[0m│\n",
       "│\u001b[35m \u001b[0m\u001b[35mmap_medium   \u001b[0m\u001b[35m \u001b[0m│\u001b[37m \u001b[0m\u001b[37m0.00000 \u001b[0m\u001b[37m \u001b[0m│\n",
       "│\u001b[35m \u001b[0m\u001b[35mmap_large    \u001b[0m\u001b[35m \u001b[0m│\u001b[37m \u001b[0m\u001b[37m0.36517 \u001b[0m\u001b[37m \u001b[0m│\n",
       "│\u001b[35m \u001b[0m\u001b[35mmar_1        \u001b[0m\u001b[35m \u001b[0m│\u001b[37m \u001b[0m\u001b[37m0.24464 \u001b[0m\u001b[37m \u001b[0m│\n",
       "│\u001b[35m \u001b[0m\u001b[35mmar_10       \u001b[0m\u001b[35m \u001b[0m│\u001b[37m \u001b[0m\u001b[37m0.24464 \u001b[0m\u001b[37m \u001b[0m│\n",
       "│\u001b[35m \u001b[0m\u001b[35mmar_100      \u001b[0m\u001b[35m \u001b[0m│\u001b[37m \u001b[0m\u001b[37m0.24464 \u001b[0m\u001b[37m \u001b[0m│\n",
       "│\u001b[35m \u001b[0m\u001b[35mmar_small    \u001b[0m\u001b[35m \u001b[0m│\u001b[37m \u001b[0m\u001b[37m-1.00000\u001b[0m\u001b[37m \u001b[0m│\n",
       "│\u001b[35m \u001b[0m\u001b[35mmar_medium   \u001b[0m\u001b[35m \u001b[0m│\u001b[37m \u001b[0m\u001b[37m0.00000 \u001b[0m\u001b[37m \u001b[0m│\n",
       "│\u001b[35m \u001b[0m\u001b[35mmar_large    \u001b[0m\u001b[35m \u001b[0m│\u001b[37m \u001b[0m\u001b[37m0.50714 \u001b[0m\u001b[37m \u001b[0m│\n",
       "│\u001b[35m \u001b[0m\u001b[35mf1_small     \u001b[0m\u001b[35m \u001b[0m│\u001b[37m \u001b[0m\u001b[37m-1.00000\u001b[0m\u001b[37m \u001b[0m│\n",
       "│\u001b[35m \u001b[0m\u001b[35mf1_medium    \u001b[0m\u001b[35m \u001b[0m│\u001b[37m \u001b[0m\u001b[37mnan     \u001b[0m\u001b[37m \u001b[0m│\n",
       "│\u001b[35m \u001b[0m\u001b[35mf1_large     \u001b[0m\u001b[35m \u001b[0m│\u001b[37m \u001b[0m\u001b[37m0.42460 \u001b[0m\u001b[37m \u001b[0m│\n",
       "└───────────────┴──────────┘\n"
      ]
     },
     "metadata": {},
     "output_type": "display_data"
    },
    {
     "data": {
      "text/html": [
       "<pre style=\"white-space:pre;overflow-x:auto;line-height:normal;font-family:Menlo,'DejaVu Sans Mono',consolas,'Courier New',monospace\"><span style=\"color: #800080; text-decoration-color: #800080; font-weight: bold\">───────────────────────────────────────────────────────────────────────────────────────────────────────────────────</span>\n",
       "</pre>\n"
      ],
      "text/plain": [
       "\u001b[1;35m───────────────────────────────────────────────────────────────────────────────────────────────────────────────────\u001b[0m\n"
      ]
     },
     "metadata": {},
     "output_type": "display_data"
    },
    {
     "data": {
      "text/html": [
       "<pre style=\"white-space:pre;overflow-x:auto;line-height:normal;font-family:Menlo,'DejaVu Sans Mono',consolas,'Courier New',monospace\"><span style=\"color: #008000; text-decoration-color: #008000\">INFO    </span> Validation main metric <span style=\"font-weight: bold\">(</span>detection_head/detection_map<span style=\"font-weight: bold\">)</span>: <span style=\"color: #008080; text-decoration-color: #008080; font-weight: bold\">0.2102</span>                     <a href=\"file:///opt/conda/lib/python3.11/site-packages/luxonis_train/models/luxonis_lightning.py\" target=\"_blank\"><span style=\"color: #7f7f7f; text-decoration-color: #7f7f7f\">luxonis_lightning.py</span></a><span style=\"color: #7f7f7f; text-decoration-color: #7f7f7f\">:</span><a href=\"file:///opt/conda/lib/python3.11/site-packages/luxonis_train/models/luxonis_lightning.py#924\" target=\"_blank\"><span style=\"color: #7f7f7f; text-decoration-color: #7f7f7f\">924</span></a>\n",
       "</pre>\n"
      ],
      "text/plain": [
       "\u001b[32mINFO    \u001b[0m Validation main metric \u001b[1m(\u001b[0mdetection_head/detection_map\u001b[1m)\u001b[0m: \u001b[1;36m0.2102\u001b[0m                     \u001b]8;id=885422;file:///opt/conda/lib/python3.11/site-packages/luxonis_train/models/luxonis_lightning.py\u001b\\\u001b[2mluxonis_lightning.py\u001b[0m\u001b]8;;\u001b\\\u001b[2m:\u001b[0m\u001b]8;id=344036;file:///opt/conda/lib/python3.11/site-packages/luxonis_train/models/luxonis_lightning.py#924\u001b\\\u001b[2m924\u001b[0m\u001b]8;;\u001b\\\n"
      ]
     },
     "metadata": {},
     "output_type": "display_data"
    },
    {
     "data": {
      "text/html": [
       "<pre style=\"white-space:pre;overflow-x:auto;line-height:normal;font-family:Menlo,'DejaVu Sans Mono',consolas,'Courier New',monospace\"></pre>\n"
      ],
      "text/plain": []
     },
     "metadata": {},
     "output_type": "display_data"
    },
    {
     "data": {
      "text/html": [
       "<pre style=\"white-space:pre;overflow-x:auto;line-height:normal;font-family:Menlo,'DejaVu Sans Mono',consolas,'Courier New',monospace\">\n",
       "</pre>\n"
      ],
      "text/plain": [
       "\n"
      ]
     },
     "metadata": {},
     "output_type": "display_data"
    },
    {
     "data": {
      "application/vnd.jupyter.widget-view+json": {
       "model_id": "fc6f29a0a1624ce2aeb63a498df456ee",
       "version_major": 2,
       "version_minor": 0
      },
      "text/plain": [
       "Output()"
      ]
     },
     "metadata": {},
     "output_type": "display_data"
    },
    {
     "data": {
      "text/html": [
       "<pre style=\"white-space:pre;overflow-x:auto;line-height:normal;font-family:Menlo,'DejaVu Sans Mono',consolas,'Courier New',monospace\"></pre>\n"
      ],
      "text/plain": []
     },
     "metadata": {},
     "output_type": "display_data"
    },
    {
     "data": {
      "text/html": [
       "<pre style=\"white-space:pre;overflow-x:auto;line-height:normal;font-family:Menlo,'DejaVu Sans Mono',consolas,'Courier New',monospace\">\n",
       "</pre>\n"
      ],
      "text/plain": [
       "\n"
      ]
     },
     "metadata": {},
     "output_type": "display_data"
    },
    {
     "data": {
      "application/vnd.jupyter.widget-view+json": {
       "model_id": "427961b5d17b4b90970390c66b263950",
       "version_major": 2,
       "version_minor": 0
      },
      "text/plain": [
       "Output()"
      ]
     },
     "metadata": {},
     "output_type": "display_data"
    },
    {
     "data": {
      "text/html": [
       "<pre style=\"white-space:pre;overflow-x:auto;line-height:normal;font-family:Menlo,'DejaVu Sans Mono',consolas,'Courier New',monospace\"></pre>\n"
      ],
      "text/plain": []
     },
     "metadata": {},
     "output_type": "display_data"
    },
    {
     "data": {
      "text/html": [
       "<pre style=\"white-space:pre;overflow-x:auto;line-height:normal;font-family:Menlo,'DejaVu Sans Mono',consolas,'Courier New',monospace\">\n",
       "</pre>\n"
      ],
      "text/plain": [
       "\n"
      ]
     },
     "metadata": {},
     "output_type": "display_data"
    },
    {
     "data": {
      "application/vnd.jupyter.widget-view+json": {
       "model_id": "8ad1907b2e1c44ab8117ab1b8cccc528",
       "version_major": 2,
       "version_minor": 0
      },
      "text/plain": [
       "Output()"
      ]
     },
     "metadata": {},
     "output_type": "display_data"
    },
    {
     "data": {
      "text/html": [
       "<pre style=\"white-space:pre;overflow-x:auto;line-height:normal;font-family:Menlo,'DejaVu Sans Mono',consolas,'Courier New',monospace\"></pre>\n"
      ],
      "text/plain": []
     },
     "metadata": {},
     "output_type": "display_data"
    },
    {
     "data": {
      "text/html": [
       "<pre style=\"white-space:pre;overflow-x:auto;line-height:normal;font-family:Menlo,'DejaVu Sans Mono',consolas,'Courier New',monospace\">\n",
       "</pre>\n"
      ],
      "text/plain": [
       "\n"
      ]
     },
     "metadata": {},
     "output_type": "display_data"
    },
    {
     "data": {
      "application/vnd.jupyter.widget-view+json": {
       "model_id": "495a61e0db79431f818a8bf36561c849",
       "version_major": 2,
       "version_minor": 0
      },
      "text/plain": [
       "Output()"
      ]
     },
     "metadata": {},
     "output_type": "display_data"
    },
    {
     "data": {
      "text/html": [
       "<pre style=\"white-space:pre;overflow-x:auto;line-height:normal;font-family:Menlo,'DejaVu Sans Mono',consolas,'Courier New',monospace\"></pre>\n"
      ],
      "text/plain": []
     },
     "metadata": {},
     "output_type": "display_data"
    },
    {
     "data": {
      "text/html": [
       "<pre style=\"white-space:pre;overflow-x:auto;line-height:normal;font-family:Menlo,'DejaVu Sans Mono',consolas,'Courier New',monospace\">\n",
       "</pre>\n"
      ],
      "text/plain": [
       "\n"
      ]
     },
     "metadata": {},
     "output_type": "display_data"
    },
    {
     "data": {
      "application/vnd.jupyter.widget-view+json": {
       "model_id": "1fbb57e9b1504f96bca4dc6c1b16bb30",
       "version_major": 2,
       "version_minor": 0
      },
      "text/plain": [
       "Output()"
      ]
     },
     "metadata": {},
     "output_type": "display_data"
    },
    {
     "data": {
      "text/html": [
       "<pre style=\"white-space:pre;overflow-x:auto;line-height:normal;font-family:Menlo,'DejaVu Sans Mono',consolas,'Courier New',monospace\"></pre>\n"
      ],
      "text/plain": []
     },
     "metadata": {},
     "output_type": "display_data"
    },
    {
     "data": {
      "text/html": [
       "<pre style=\"white-space:pre;overflow-x:auto;line-height:normal;font-family:Menlo,'DejaVu Sans Mono',consolas,'Courier New',monospace\">\n",
       "</pre>\n"
      ],
      "text/plain": [
       "\n"
      ]
     },
     "metadata": {},
     "output_type": "display_data"
    },
    {
     "data": {
      "application/vnd.jupyter.widget-view+json": {
       "model_id": "cf548cca5adb407c852bf8bdb9b6483b",
       "version_major": 2,
       "version_minor": 0
      },
      "text/plain": [
       "Output()"
      ]
     },
     "metadata": {},
     "output_type": "display_data"
    },
    {
     "data": {
      "text/html": [
       "<pre style=\"white-space:pre;overflow-x:auto;line-height:normal;font-family:Menlo,'DejaVu Sans Mono',consolas,'Courier New',monospace\"></pre>\n"
      ],
      "text/plain": []
     },
     "metadata": {},
     "output_type": "display_data"
    },
    {
     "data": {
      "text/html": [
       "<pre style=\"white-space:pre;overflow-x:auto;line-height:normal;font-family:Menlo,'DejaVu Sans Mono',consolas,'Courier New',monospace\">\n",
       "</pre>\n"
      ],
      "text/plain": [
       "\n"
      ]
     },
     "metadata": {},
     "output_type": "display_data"
    },
    {
     "data": {
      "application/vnd.jupyter.widget-view+json": {
       "model_id": "663c0206bd6b45f9888fd73b70c13486",
       "version_major": 2,
       "version_minor": 0
      },
      "text/plain": [
       "Output()"
      ]
     },
     "metadata": {},
     "output_type": "display_data"
    },
    {
     "data": {
      "text/html": [
       "<pre style=\"white-space:pre;overflow-x:auto;line-height:normal;font-family:Menlo,'DejaVu Sans Mono',consolas,'Courier New',monospace\"></pre>\n"
      ],
      "text/plain": []
     },
     "metadata": {},
     "output_type": "display_data"
    },
    {
     "data": {
      "text/html": [
       "<pre style=\"white-space:pre;overflow-x:auto;line-height:normal;font-family:Menlo,'DejaVu Sans Mono',consolas,'Courier New',monospace\">\n",
       "</pre>\n"
      ],
      "text/plain": [
       "\n"
      ]
     },
     "metadata": {},
     "output_type": "display_data"
    },
    {
     "data": {
      "application/vnd.jupyter.widget-view+json": {
       "model_id": "3fb55bd24c4941a19d3dabfafd81b78f",
       "version_major": 2,
       "version_minor": 0
      },
      "text/plain": [
       "Output()"
      ]
     },
     "metadata": {},
     "output_type": "display_data"
    },
    {
     "data": {
      "text/html": [
       "<pre style=\"white-space:pre;overflow-x:auto;line-height:normal;font-family:Menlo,'DejaVu Sans Mono',consolas,'Courier New',monospace\"></pre>\n"
      ],
      "text/plain": []
     },
     "metadata": {},
     "output_type": "display_data"
    },
    {
     "data": {
      "text/html": [
       "<pre style=\"white-space:pre;overflow-x:auto;line-height:normal;font-family:Menlo,'DejaVu Sans Mono',consolas,'Courier New',monospace\">\n",
       "</pre>\n"
      ],
      "text/plain": [
       "\n"
      ]
     },
     "metadata": {},
     "output_type": "display_data"
    },
    {
     "data": {
      "application/vnd.jupyter.widget-view+json": {
       "model_id": "d29fdb9746ea4a39be5cf993c90c9c0e",
       "version_major": 2,
       "version_minor": 0
      },
      "text/plain": [
       "Output()"
      ]
     },
     "metadata": {},
     "output_type": "display_data"
    },
    {
     "data": {
      "text/html": [
       "<pre style=\"white-space:pre;overflow-x:auto;line-height:normal;font-family:Menlo,'DejaVu Sans Mono',consolas,'Courier New',monospace\"></pre>\n"
      ],
      "text/plain": []
     },
     "metadata": {},
     "output_type": "display_data"
    },
    {
     "data": {
      "text/html": [
       "<pre style=\"white-space:pre;overflow-x:auto;line-height:normal;font-family:Menlo,'DejaVu Sans Mono',consolas,'Courier New',monospace\">\n",
       "</pre>\n"
      ],
      "text/plain": [
       "\n"
      ]
     },
     "metadata": {},
     "output_type": "display_data"
    },
    {
     "data": {
      "application/vnd.jupyter.widget-view+json": {
       "model_id": "f4724f198b3f4b9c8ab48419edd3e9f3",
       "version_major": 2,
       "version_minor": 0
      },
      "text/plain": [
       "Output()"
      ]
     },
     "metadata": {},
     "output_type": "display_data"
    },
    {
     "data": {
      "text/html": [
       "<pre style=\"white-space:pre;overflow-x:auto;line-height:normal;font-family:Menlo,'DejaVu Sans Mono',consolas,'Courier New',monospace\"><span style=\"color: #008000; text-decoration-color: #008000\">INFO    </span> Computing metrics on val subset <span style=\"color: #808000; text-decoration-color: #808000\">...</span>                                               <a href=\"file:///opt/conda/lib/python3.11/site-packages/luxonis_train/models/luxonis_lightning.py\" target=\"_blank\"><span style=\"color: #7f7f7f; text-decoration-color: #7f7f7f\">luxonis_lightning.py</span></a><span style=\"color: #7f7f7f; text-decoration-color: #7f7f7f\">:</span><a href=\"file:///opt/conda/lib/python3.11/site-packages/luxonis_train/models/luxonis_lightning.py#732\" target=\"_blank\"><span style=\"color: #7f7f7f; text-decoration-color: #7f7f7f\">732</span></a>\n",
       "</pre>\n"
      ],
      "text/plain": [
       "\u001b[32mINFO    \u001b[0m Computing metrics on val subset \u001b[33m...\u001b[0m                                               \u001b]8;id=574271;file:///opt/conda/lib/python3.11/site-packages/luxonis_train/models/luxonis_lightning.py\u001b\\\u001b[2mluxonis_lightning.py\u001b[0m\u001b]8;;\u001b\\\u001b[2m:\u001b[0m\u001b]8;id=311095;file:///opt/conda/lib/python3.11/site-packages/luxonis_train/models/luxonis_lightning.py#732\u001b\\\u001b[2m732\u001b[0m\u001b]8;;\u001b\\\n"
      ]
     },
     "metadata": {},
     "output_type": "display_data"
    },
    {
     "data": {
      "text/html": [
       "<pre style=\"white-space:pre;overflow-x:auto;line-height:normal;font-family:Menlo,'DejaVu Sans Mono',consolas,'Courier New',monospace\"><span style=\"color: #008000; text-decoration-color: #008000\">INFO    </span> Metrics computed.                                                                 <a href=\"file:///opt/conda/lib/python3.11/site-packages/luxonis_train/models/luxonis_lightning.py\" target=\"_blank\"><span style=\"color: #7f7f7f; text-decoration-color: #7f7f7f\">luxonis_lightning.py</span></a><span style=\"color: #7f7f7f; text-decoration-color: #7f7f7f\">:</span><a href=\"file:///opt/conda/lib/python3.11/site-packages/luxonis_train/models/luxonis_lightning.py#734\" target=\"_blank\"><span style=\"color: #7f7f7f; text-decoration-color: #7f7f7f\">734</span></a>\n",
       "</pre>\n"
      ],
      "text/plain": [
       "\u001b[32mINFO    \u001b[0m Metrics computed.                                                                 \u001b]8;id=882769;file:///opt/conda/lib/python3.11/site-packages/luxonis_train/models/luxonis_lightning.py\u001b\\\u001b[2mluxonis_lightning.py\u001b[0m\u001b]8;;\u001b\\\u001b[2m:\u001b[0m\u001b]8;id=875343;file:///opt/conda/lib/python3.11/site-packages/luxonis_train/models/luxonis_lightning.py#734\u001b\\\u001b[2m734\u001b[0m\u001b]8;;\u001b\\\n"
      ]
     },
     "metadata": {},
     "output_type": "display_data"
    },
    {
     "data": {
      "text/html": [
       "<pre style=\"white-space:pre;overflow-x:auto;line-height:normal;font-family:Menlo,'DejaVu Sans Mono',consolas,'Courier New',monospace\"><span style=\"color: #008000; text-decoration-color: #008000\">INFO    </span> Validation loss: <span style=\"color: #008080; text-decoration-color: #008080; font-weight: bold\">1.3775</span>                                                           <a href=\"file:///opt/conda/lib/python3.11/site-packages/luxonis_train/models/luxonis_lightning.py\" target=\"_blank\"><span style=\"color: #7f7f7f; text-decoration-color: #7f7f7f\">luxonis_lightning.py</span></a><span style=\"color: #7f7f7f; text-decoration-color: #7f7f7f\">:</span><a href=\"file:///opt/conda/lib/python3.11/site-packages/luxonis_train/models/luxonis_lightning.py#915\" target=\"_blank\"><span style=\"color: #7f7f7f; text-decoration-color: #7f7f7f\">915</span></a>\n",
       "</pre>\n"
      ],
      "text/plain": [
       "\u001b[32mINFO    \u001b[0m Validation loss: \u001b[1;36m1.3775\u001b[0m                                                           \u001b]8;id=926471;file:///opt/conda/lib/python3.11/site-packages/luxonis_train/models/luxonis_lightning.py\u001b\\\u001b[2mluxonis_lightning.py\u001b[0m\u001b]8;;\u001b\\\u001b[2m:\u001b[0m\u001b]8;id=437997;file:///opt/conda/lib/python3.11/site-packages/luxonis_train/models/luxonis_lightning.py#915\u001b\\\u001b[2m915\u001b[0m\u001b]8;;\u001b\\\n"
      ]
     },
     "metadata": {},
     "output_type": "display_data"
    },
    {
     "data": {
      "text/html": [
       "<pre style=\"white-space:pre;overflow-x:auto;line-height:normal;font-family:Menlo,'DejaVu Sans Mono',consolas,'Courier New',monospace\"><span style=\"color: #800080; text-decoration-color: #800080; font-weight: bold\">─────────────────────────────────────────────────── </span>Validation<span style=\"color: #800080; text-decoration-color: #800080; font-weight: bold\"> ────────────────────────────────────────────────────</span>\n",
       "</pre>\n"
      ],
      "text/plain": [
       "\u001b[1;35m─────────────────────────────────────────────────── \u001b[0mValidation\u001b[1;35m ────────────────────────────────────────────────────\u001b[0m\n"
      ]
     },
     "metadata": {},
     "output_type": "display_data"
    },
    {
     "data": {
      "text/html": [
       "<pre style=\"white-space:pre;overflow-x:auto;line-height:normal;font-family:Menlo,'DejaVu Sans Mono',consolas,'Courier New',monospace\"><span style=\"color: #800080; text-decoration-color: #800080; font-weight: bold\">Loss:</span> <span style=\"color: #c0c0c0; text-decoration-color: #c0c0c0; font-weight: bold\">1.3775282502174377</span>\n",
       "</pre>\n"
      ],
      "text/plain": [
       "\u001b[1;35mLoss:\u001b[0m \u001b[1;37m1.3775282502174377\u001b[0m\n"
      ]
     },
     "metadata": {},
     "output_type": "display_data"
    },
    {
     "data": {
      "text/html": [
       "<pre style=\"white-space:pre;overflow-x:auto;line-height:normal;font-family:Menlo,'DejaVu Sans Mono',consolas,'Courier New',monospace\"><span style=\"color: #800080; text-decoration-color: #800080; font-weight: bold\">Metrics:</span>\n",
       "</pre>\n"
      ],
      "text/plain": [
       "\u001b[1;35mMetrics:\u001b[0m\n"
      ]
     },
     "metadata": {},
     "output_type": "display_data"
    },
    {
     "data": {
      "text/html": [
       "<pre style=\"white-space:pre;overflow-x:auto;line-height:normal;font-family:Menlo,'DejaVu Sans Mono',consolas,'Courier New',monospace\"><span style=\"font-style: italic\">       detection_head       </span>\n",
       "┏━━━━━━━━━━━━━━━┳━━━━━━━━━━┓\n",
       "┃<span style=\"color: #800080; text-decoration-color: #800080; font-weight: bold\"> Name          </span>┃<span style=\"color: #800080; text-decoration-color: #800080; font-weight: bold\"> Value    </span>┃\n",
       "┡━━━━━━━━━━━━━━━╇━━━━━━━━━━┩\n",
       "│<span style=\"color: #800080; text-decoration-color: #800080\"> detection_map </span>│<span style=\"color: #c0c0c0; text-decoration-color: #c0c0c0\"> 0.27108  </span>│\n",
       "│<span style=\"color: #800080; text-decoration-color: #800080\"> map_50        </span>│<span style=\"color: #c0c0c0; text-decoration-color: #c0c0c0\"> 0.43495  </span>│\n",
       "│<span style=\"color: #800080; text-decoration-color: #800080\"> map_75        </span>│<span style=\"color: #c0c0c0; text-decoration-color: #c0c0c0\"> 0.23267  </span>│\n",
       "│<span style=\"color: #800080; text-decoration-color: #800080\"> map_small     </span>│<span style=\"color: #c0c0c0; text-decoration-color: #c0c0c0\"> -1.00000 </span>│\n",
       "│<span style=\"color: #800080; text-decoration-color: #800080\"> map_medium    </span>│<span style=\"color: #c0c0c0; text-decoration-color: #c0c0c0\"> 0.03366  </span>│\n",
       "│<span style=\"color: #800080; text-decoration-color: #800080\"> map_large     </span>│<span style=\"color: #c0c0c0; text-decoration-color: #c0c0c0\"> 0.32806  </span>│\n",
       "│<span style=\"color: #800080; text-decoration-color: #800080\"> mar_1         </span>│<span style=\"color: #c0c0c0; text-decoration-color: #c0c0c0\"> 0.40982  </span>│\n",
       "│<span style=\"color: #800080; text-decoration-color: #800080\"> mar_10        </span>│<span style=\"color: #c0c0c0; text-decoration-color: #c0c0c0\"> 0.40982  </span>│\n",
       "│<span style=\"color: #800080; text-decoration-color: #800080\"> mar_100       </span>│<span style=\"color: #c0c0c0; text-decoration-color: #c0c0c0\"> 0.40982  </span>│\n",
       "│<span style=\"color: #800080; text-decoration-color: #800080\"> mar_small     </span>│<span style=\"color: #c0c0c0; text-decoration-color: #c0c0c0\"> -1.00000 </span>│\n",
       "│<span style=\"color: #800080; text-decoration-color: #800080\"> mar_medium    </span>│<span style=\"color: #c0c0c0; text-decoration-color: #c0c0c0\"> 0.03333  </span>│\n",
       "│<span style=\"color: #800080; text-decoration-color: #800080\"> mar_large     </span>│<span style=\"color: #c0c0c0; text-decoration-color: #c0c0c0\"> 0.60357  </span>│\n",
       "│<span style=\"color: #800080; text-decoration-color: #800080\"> f1_small      </span>│<span style=\"color: #c0c0c0; text-decoration-color: #c0c0c0\"> -1.00000 </span>│\n",
       "│<span style=\"color: #800080; text-decoration-color: #800080\"> f1_medium     </span>│<span style=\"color: #c0c0c0; text-decoration-color: #c0c0c0\"> 0.03350  </span>│\n",
       "│<span style=\"color: #800080; text-decoration-color: #800080\"> f1_large      </span>│<span style=\"color: #c0c0c0; text-decoration-color: #c0c0c0\"> 0.42507  </span>│\n",
       "└───────────────┴──────────┘\n",
       "</pre>\n"
      ],
      "text/plain": [
       "\u001b[3m       detection_head       \u001b[0m\n",
       "┏━━━━━━━━━━━━━━━┳━━━━━━━━━━┓\n",
       "┃\u001b[1;35m \u001b[0m\u001b[1;35mName         \u001b[0m\u001b[1;35m \u001b[0m┃\u001b[1;35m \u001b[0m\u001b[1;35mValue   \u001b[0m\u001b[1;35m \u001b[0m┃\n",
       "┡━━━━━━━━━━━━━━━╇━━━━━━━━━━┩\n",
       "│\u001b[35m \u001b[0m\u001b[35mdetection_map\u001b[0m\u001b[35m \u001b[0m│\u001b[37m \u001b[0m\u001b[37m0.27108 \u001b[0m\u001b[37m \u001b[0m│\n",
       "│\u001b[35m \u001b[0m\u001b[35mmap_50       \u001b[0m\u001b[35m \u001b[0m│\u001b[37m \u001b[0m\u001b[37m0.43495 \u001b[0m\u001b[37m \u001b[0m│\n",
       "│\u001b[35m \u001b[0m\u001b[35mmap_75       \u001b[0m\u001b[35m \u001b[0m│\u001b[37m \u001b[0m\u001b[37m0.23267 \u001b[0m\u001b[37m \u001b[0m│\n",
       "│\u001b[35m \u001b[0m\u001b[35mmap_small    \u001b[0m\u001b[35m \u001b[0m│\u001b[37m \u001b[0m\u001b[37m-1.00000\u001b[0m\u001b[37m \u001b[0m│\n",
       "│\u001b[35m \u001b[0m\u001b[35mmap_medium   \u001b[0m\u001b[35m \u001b[0m│\u001b[37m \u001b[0m\u001b[37m0.03366 \u001b[0m\u001b[37m \u001b[0m│\n",
       "│\u001b[35m \u001b[0m\u001b[35mmap_large    \u001b[0m\u001b[35m \u001b[0m│\u001b[37m \u001b[0m\u001b[37m0.32806 \u001b[0m\u001b[37m \u001b[0m│\n",
       "│\u001b[35m \u001b[0m\u001b[35mmar_1        \u001b[0m\u001b[35m \u001b[0m│\u001b[37m \u001b[0m\u001b[37m0.40982 \u001b[0m\u001b[37m \u001b[0m│\n",
       "│\u001b[35m \u001b[0m\u001b[35mmar_10       \u001b[0m\u001b[35m \u001b[0m│\u001b[37m \u001b[0m\u001b[37m0.40982 \u001b[0m\u001b[37m \u001b[0m│\n",
       "│\u001b[35m \u001b[0m\u001b[35mmar_100      \u001b[0m\u001b[35m \u001b[0m│\u001b[37m \u001b[0m\u001b[37m0.40982 \u001b[0m\u001b[37m \u001b[0m│\n",
       "│\u001b[35m \u001b[0m\u001b[35mmar_small    \u001b[0m\u001b[35m \u001b[0m│\u001b[37m \u001b[0m\u001b[37m-1.00000\u001b[0m\u001b[37m \u001b[0m│\n",
       "│\u001b[35m \u001b[0m\u001b[35mmar_medium   \u001b[0m\u001b[35m \u001b[0m│\u001b[37m \u001b[0m\u001b[37m0.03333 \u001b[0m\u001b[37m \u001b[0m│\n",
       "│\u001b[35m \u001b[0m\u001b[35mmar_large    \u001b[0m\u001b[35m \u001b[0m│\u001b[37m \u001b[0m\u001b[37m0.60357 \u001b[0m\u001b[37m \u001b[0m│\n",
       "│\u001b[35m \u001b[0m\u001b[35mf1_small     \u001b[0m\u001b[35m \u001b[0m│\u001b[37m \u001b[0m\u001b[37m-1.00000\u001b[0m\u001b[37m \u001b[0m│\n",
       "│\u001b[35m \u001b[0m\u001b[35mf1_medium    \u001b[0m\u001b[35m \u001b[0m│\u001b[37m \u001b[0m\u001b[37m0.03350 \u001b[0m\u001b[37m \u001b[0m│\n",
       "│\u001b[35m \u001b[0m\u001b[35mf1_large     \u001b[0m\u001b[35m \u001b[0m│\u001b[37m \u001b[0m\u001b[37m0.42507 \u001b[0m\u001b[37m \u001b[0m│\n",
       "└───────────────┴──────────┘\n"
      ]
     },
     "metadata": {},
     "output_type": "display_data"
    },
    {
     "data": {
      "text/html": [
       "<pre style=\"white-space:pre;overflow-x:auto;line-height:normal;font-family:Menlo,'DejaVu Sans Mono',consolas,'Courier New',monospace\"><span style=\"color: #800080; text-decoration-color: #800080; font-weight: bold\">───────────────────────────────────────────────────────────────────────────────────────────────────────────────────</span>\n",
       "</pre>\n"
      ],
      "text/plain": [
       "\u001b[1;35m───────────────────────────────────────────────────────────────────────────────────────────────────────────────────\u001b[0m\n"
      ]
     },
     "metadata": {},
     "output_type": "display_data"
    },
    {
     "data": {
      "text/html": [
       "<pre style=\"white-space:pre;overflow-x:auto;line-height:normal;font-family:Menlo,'DejaVu Sans Mono',consolas,'Courier New',monospace\"><span style=\"color: #008000; text-decoration-color: #008000\">INFO    </span> Validation main metric <span style=\"font-weight: bold\">(</span>detection_head/detection_map<span style=\"font-weight: bold\">)</span>: <span style=\"color: #008080; text-decoration-color: #008080; font-weight: bold\">0.2711</span>                     <a href=\"file:///opt/conda/lib/python3.11/site-packages/luxonis_train/models/luxonis_lightning.py\" target=\"_blank\"><span style=\"color: #7f7f7f; text-decoration-color: #7f7f7f\">luxonis_lightning.py</span></a><span style=\"color: #7f7f7f; text-decoration-color: #7f7f7f\">:</span><a href=\"file:///opt/conda/lib/python3.11/site-packages/luxonis_train/models/luxonis_lightning.py#924\" target=\"_blank\"><span style=\"color: #7f7f7f; text-decoration-color: #7f7f7f\">924</span></a>\n",
       "</pre>\n"
      ],
      "text/plain": [
       "\u001b[32mINFO    \u001b[0m Validation main metric \u001b[1m(\u001b[0mdetection_head/detection_map\u001b[1m)\u001b[0m: \u001b[1;36m0.2711\u001b[0m                     \u001b]8;id=835089;file:///opt/conda/lib/python3.11/site-packages/luxonis_train/models/luxonis_lightning.py\u001b\\\u001b[2mluxonis_lightning.py\u001b[0m\u001b]8;;\u001b\\\u001b[2m:\u001b[0m\u001b]8;id=732534;file:///opt/conda/lib/python3.11/site-packages/luxonis_train/models/luxonis_lightning.py#924\u001b\\\u001b[2m924\u001b[0m\u001b]8;;\u001b\\\n"
      ]
     },
     "metadata": {},
     "output_type": "display_data"
    },
    {
     "data": {
      "text/html": [
       "<pre style=\"white-space:pre;overflow-x:auto;line-height:normal;font-family:Menlo,'DejaVu Sans Mono',consolas,'Courier New',monospace\"></pre>\n"
      ],
      "text/plain": []
     },
     "metadata": {},
     "output_type": "display_data"
    },
    {
     "data": {
      "text/html": [
       "<pre style=\"white-space:pre;overflow-x:auto;line-height:normal;font-family:Menlo,'DejaVu Sans Mono',consolas,'Courier New',monospace\">\n",
       "</pre>\n"
      ],
      "text/plain": [
       "\n"
      ]
     },
     "metadata": {},
     "output_type": "display_data"
    },
    {
     "data": {
      "application/vnd.jupyter.widget-view+json": {
       "model_id": "f506ad2b41e24e4c872b7547b0fb932f",
       "version_major": 2,
       "version_minor": 0
      },
      "text/plain": [
       "Output()"
      ]
     },
     "metadata": {},
     "output_type": "display_data"
    },
    {
     "data": {
      "text/html": [
       "<pre style=\"white-space:pre;overflow-x:auto;line-height:normal;font-family:Menlo,'DejaVu Sans Mono',consolas,'Courier New',monospace\"></pre>\n"
      ],
      "text/plain": []
     },
     "metadata": {},
     "output_type": "display_data"
    },
    {
     "data": {
      "text/html": [
       "<pre style=\"white-space:pre;overflow-x:auto;line-height:normal;font-family:Menlo,'DejaVu Sans Mono',consolas,'Courier New',monospace\">\n",
       "</pre>\n"
      ],
      "text/plain": [
       "\n"
      ]
     },
     "metadata": {},
     "output_type": "display_data"
    },
    {
     "data": {
      "application/vnd.jupyter.widget-view+json": {
       "model_id": "8e30dc33c6cb49a1a222d035f6e47759",
       "version_major": 2,
       "version_minor": 0
      },
      "text/plain": [
       "Output()"
      ]
     },
     "metadata": {},
     "output_type": "display_data"
    },
    {
     "data": {
      "text/html": [
       "<pre style=\"white-space:pre;overflow-x:auto;line-height:normal;font-family:Menlo,'DejaVu Sans Mono',consolas,'Courier New',monospace\"></pre>\n"
      ],
      "text/plain": []
     },
     "metadata": {},
     "output_type": "display_data"
    },
    {
     "data": {
      "text/html": [
       "<pre style=\"white-space:pre;overflow-x:auto;line-height:normal;font-family:Menlo,'DejaVu Sans Mono',consolas,'Courier New',monospace\">\n",
       "</pre>\n"
      ],
      "text/plain": [
       "\n"
      ]
     },
     "metadata": {},
     "output_type": "display_data"
    },
    {
     "data": {
      "application/vnd.jupyter.widget-view+json": {
       "model_id": "9a9b4b128aba41c6a8ec0d5f7c4fd7c7",
       "version_major": 2,
       "version_minor": 0
      },
      "text/plain": [
       "Output()"
      ]
     },
     "metadata": {},
     "output_type": "display_data"
    },
    {
     "data": {
      "text/html": [
       "<pre style=\"white-space:pre;overflow-x:auto;line-height:normal;font-family:Menlo,'DejaVu Sans Mono',consolas,'Courier New',monospace\"></pre>\n"
      ],
      "text/plain": []
     },
     "metadata": {},
     "output_type": "display_data"
    },
    {
     "data": {
      "text/html": [
       "<pre style=\"white-space:pre;overflow-x:auto;line-height:normal;font-family:Menlo,'DejaVu Sans Mono',consolas,'Courier New',monospace\">\n",
       "</pre>\n"
      ],
      "text/plain": [
       "\n"
      ]
     },
     "metadata": {},
     "output_type": "display_data"
    },
    {
     "data": {
      "application/vnd.jupyter.widget-view+json": {
       "model_id": "83a81d5a1f5c4d888ac86432d70646f1",
       "version_major": 2,
       "version_minor": 0
      },
      "text/plain": [
       "Output()"
      ]
     },
     "metadata": {},
     "output_type": "display_data"
    },
    {
     "data": {
      "text/html": [
       "<pre style=\"white-space:pre;overflow-x:auto;line-height:normal;font-family:Menlo,'DejaVu Sans Mono',consolas,'Courier New',monospace\"></pre>\n"
      ],
      "text/plain": []
     },
     "metadata": {},
     "output_type": "display_data"
    },
    {
     "data": {
      "text/html": [
       "<pre style=\"white-space:pre;overflow-x:auto;line-height:normal;font-family:Menlo,'DejaVu Sans Mono',consolas,'Courier New',monospace\">\n",
       "</pre>\n"
      ],
      "text/plain": [
       "\n"
      ]
     },
     "metadata": {},
     "output_type": "display_data"
    },
    {
     "data": {
      "application/vnd.jupyter.widget-view+json": {
       "model_id": "060c3a6dc8de4006a8a631d482f6cdec",
       "version_major": 2,
       "version_minor": 0
      },
      "text/plain": [
       "Output()"
      ]
     },
     "metadata": {},
     "output_type": "display_data"
    },
    {
     "data": {
      "text/html": [
       "<pre style=\"white-space:pre;overflow-x:auto;line-height:normal;font-family:Menlo,'DejaVu Sans Mono',consolas,'Courier New',monospace\"></pre>\n"
      ],
      "text/plain": []
     },
     "metadata": {},
     "output_type": "display_data"
    },
    {
     "data": {
      "text/html": [
       "<pre style=\"white-space:pre;overflow-x:auto;line-height:normal;font-family:Menlo,'DejaVu Sans Mono',consolas,'Courier New',monospace\">\n",
       "</pre>\n"
      ],
      "text/plain": [
       "\n"
      ]
     },
     "metadata": {},
     "output_type": "display_data"
    },
    {
     "data": {
      "application/vnd.jupyter.widget-view+json": {
       "model_id": "9659ffd1c31f40fbbfdece9da4f9fa38",
       "version_major": 2,
       "version_minor": 0
      },
      "text/plain": [
       "Output()"
      ]
     },
     "metadata": {},
     "output_type": "display_data"
    },
    {
     "data": {
      "text/html": [
       "<pre style=\"white-space:pre;overflow-x:auto;line-height:normal;font-family:Menlo,'DejaVu Sans Mono',consolas,'Courier New',monospace\"></pre>\n"
      ],
      "text/plain": []
     },
     "metadata": {},
     "output_type": "display_data"
    },
    {
     "data": {
      "text/html": [
       "<pre style=\"white-space:pre;overflow-x:auto;line-height:normal;font-family:Menlo,'DejaVu Sans Mono',consolas,'Courier New',monospace\">\n",
       "</pre>\n"
      ],
      "text/plain": [
       "\n"
      ]
     },
     "metadata": {},
     "output_type": "display_data"
    },
    {
     "data": {
      "application/vnd.jupyter.widget-view+json": {
       "model_id": "8366cb5113054f6e9e8426bb79b11cbb",
       "version_major": 2,
       "version_minor": 0
      },
      "text/plain": [
       "Output()"
      ]
     },
     "metadata": {},
     "output_type": "display_data"
    },
    {
     "data": {
      "text/html": [
       "<pre style=\"white-space:pre;overflow-x:auto;line-height:normal;font-family:Menlo,'DejaVu Sans Mono',consolas,'Courier New',monospace\"></pre>\n"
      ],
      "text/plain": []
     },
     "metadata": {},
     "output_type": "display_data"
    },
    {
     "data": {
      "text/html": [
       "<pre style=\"white-space:pre;overflow-x:auto;line-height:normal;font-family:Menlo,'DejaVu Sans Mono',consolas,'Courier New',monospace\">\n",
       "</pre>\n"
      ],
      "text/plain": [
       "\n"
      ]
     },
     "metadata": {},
     "output_type": "display_data"
    },
    {
     "data": {
      "application/vnd.jupyter.widget-view+json": {
       "model_id": "f53d6c593de74d658eae02ddd0fbcd97",
       "version_major": 2,
       "version_minor": 0
      },
      "text/plain": [
       "Output()"
      ]
     },
     "metadata": {},
     "output_type": "display_data"
    },
    {
     "data": {
      "text/html": [
       "<pre style=\"white-space:pre;overflow-x:auto;line-height:normal;font-family:Menlo,'DejaVu Sans Mono',consolas,'Courier New',monospace\"></pre>\n"
      ],
      "text/plain": []
     },
     "metadata": {},
     "output_type": "display_data"
    },
    {
     "data": {
      "text/html": [
       "<pre style=\"white-space:pre;overflow-x:auto;line-height:normal;font-family:Menlo,'DejaVu Sans Mono',consolas,'Courier New',monospace\">\n",
       "</pre>\n"
      ],
      "text/plain": [
       "\n"
      ]
     },
     "metadata": {},
     "output_type": "display_data"
    },
    {
     "data": {
      "application/vnd.jupyter.widget-view+json": {
       "model_id": "233d0098a060401e90bbf3238193587f",
       "version_major": 2,
       "version_minor": 0
      },
      "text/plain": [
       "Output()"
      ]
     },
     "metadata": {},
     "output_type": "display_data"
    },
    {
     "data": {
      "text/html": [
       "<pre style=\"white-space:pre;overflow-x:auto;line-height:normal;font-family:Menlo,'DejaVu Sans Mono',consolas,'Courier New',monospace\"></pre>\n"
      ],
      "text/plain": []
     },
     "metadata": {},
     "output_type": "display_data"
    },
    {
     "data": {
      "text/html": [
       "<pre style=\"white-space:pre;overflow-x:auto;line-height:normal;font-family:Menlo,'DejaVu Sans Mono',consolas,'Courier New',monospace\">\n",
       "</pre>\n"
      ],
      "text/plain": [
       "\n"
      ]
     },
     "metadata": {},
     "output_type": "display_data"
    },
    {
     "data": {
      "application/vnd.jupyter.widget-view+json": {
       "model_id": "e2f227311f1a461bbf96a7efe43ec0b6",
       "version_major": 2,
       "version_minor": 0
      },
      "text/plain": [
       "Output()"
      ]
     },
     "metadata": {},
     "output_type": "display_data"
    },
    {
     "data": {
      "text/html": [
       "<pre style=\"white-space:pre;overflow-x:auto;line-height:normal;font-family:Menlo,'DejaVu Sans Mono',consolas,'Courier New',monospace\"><span style=\"color: #008000; text-decoration-color: #008000\">INFO    </span> Computing metrics on val subset <span style=\"color: #808000; text-decoration-color: #808000\">...</span>                                               <a href=\"file:///opt/conda/lib/python3.11/site-packages/luxonis_train/models/luxonis_lightning.py\" target=\"_blank\"><span style=\"color: #7f7f7f; text-decoration-color: #7f7f7f\">luxonis_lightning.py</span></a><span style=\"color: #7f7f7f; text-decoration-color: #7f7f7f\">:</span><a href=\"file:///opt/conda/lib/python3.11/site-packages/luxonis_train/models/luxonis_lightning.py#732\" target=\"_blank\"><span style=\"color: #7f7f7f; text-decoration-color: #7f7f7f\">732</span></a>\n",
       "</pre>\n"
      ],
      "text/plain": [
       "\u001b[32mINFO    \u001b[0m Computing metrics on val subset \u001b[33m...\u001b[0m                                               \u001b]8;id=547765;file:///opt/conda/lib/python3.11/site-packages/luxonis_train/models/luxonis_lightning.py\u001b\\\u001b[2mluxonis_lightning.py\u001b[0m\u001b]8;;\u001b\\\u001b[2m:\u001b[0m\u001b]8;id=362240;file:///opt/conda/lib/python3.11/site-packages/luxonis_train/models/luxonis_lightning.py#732\u001b\\\u001b[2m732\u001b[0m\u001b]8;;\u001b\\\n"
      ]
     },
     "metadata": {},
     "output_type": "display_data"
    },
    {
     "data": {
      "text/html": [
       "<pre style=\"white-space:pre;overflow-x:auto;line-height:normal;font-family:Menlo,'DejaVu Sans Mono',consolas,'Courier New',monospace\"><span style=\"color: #008000; text-decoration-color: #008000\">INFO    </span> Metrics computed.                                                                 <a href=\"file:///opt/conda/lib/python3.11/site-packages/luxonis_train/models/luxonis_lightning.py\" target=\"_blank\"><span style=\"color: #7f7f7f; text-decoration-color: #7f7f7f\">luxonis_lightning.py</span></a><span style=\"color: #7f7f7f; text-decoration-color: #7f7f7f\">:</span><a href=\"file:///opt/conda/lib/python3.11/site-packages/luxonis_train/models/luxonis_lightning.py#734\" target=\"_blank\"><span style=\"color: #7f7f7f; text-decoration-color: #7f7f7f\">734</span></a>\n",
       "</pre>\n"
      ],
      "text/plain": [
       "\u001b[32mINFO    \u001b[0m Metrics computed.                                                                 \u001b]8;id=917227;file:///opt/conda/lib/python3.11/site-packages/luxonis_train/models/luxonis_lightning.py\u001b\\\u001b[2mluxonis_lightning.py\u001b[0m\u001b]8;;\u001b\\\u001b[2m:\u001b[0m\u001b]8;id=168392;file:///opt/conda/lib/python3.11/site-packages/luxonis_train/models/luxonis_lightning.py#734\u001b\\\u001b[2m734\u001b[0m\u001b]8;;\u001b\\\n"
      ]
     },
     "metadata": {},
     "output_type": "display_data"
    },
    {
     "data": {
      "text/html": [
       "<pre style=\"white-space:pre;overflow-x:auto;line-height:normal;font-family:Menlo,'DejaVu Sans Mono',consolas,'Courier New',monospace\"><span style=\"color: #008000; text-decoration-color: #008000\">INFO    </span> Validation loss: <span style=\"color: #008080; text-decoration-color: #008080; font-weight: bold\">1.4616</span>                                                           <a href=\"file:///opt/conda/lib/python3.11/site-packages/luxonis_train/models/luxonis_lightning.py\" target=\"_blank\"><span style=\"color: #7f7f7f; text-decoration-color: #7f7f7f\">luxonis_lightning.py</span></a><span style=\"color: #7f7f7f; text-decoration-color: #7f7f7f\">:</span><a href=\"file:///opt/conda/lib/python3.11/site-packages/luxonis_train/models/luxonis_lightning.py#915\" target=\"_blank\"><span style=\"color: #7f7f7f; text-decoration-color: #7f7f7f\">915</span></a>\n",
       "</pre>\n"
      ],
      "text/plain": [
       "\u001b[32mINFO    \u001b[0m Validation loss: \u001b[1;36m1.4616\u001b[0m                                                           \u001b]8;id=782066;file:///opt/conda/lib/python3.11/site-packages/luxonis_train/models/luxonis_lightning.py\u001b\\\u001b[2mluxonis_lightning.py\u001b[0m\u001b]8;;\u001b\\\u001b[2m:\u001b[0m\u001b]8;id=387584;file:///opt/conda/lib/python3.11/site-packages/luxonis_train/models/luxonis_lightning.py#915\u001b\\\u001b[2m915\u001b[0m\u001b]8;;\u001b\\\n"
      ]
     },
     "metadata": {},
     "output_type": "display_data"
    },
    {
     "data": {
      "text/html": [
       "<pre style=\"white-space:pre;overflow-x:auto;line-height:normal;font-family:Menlo,'DejaVu Sans Mono',consolas,'Courier New',monospace\"><span style=\"color: #800080; text-decoration-color: #800080; font-weight: bold\">─────────────────────────────────────────────────── </span>Validation<span style=\"color: #800080; text-decoration-color: #800080; font-weight: bold\"> ────────────────────────────────────────────────────</span>\n",
       "</pre>\n"
      ],
      "text/plain": [
       "\u001b[1;35m─────────────────────────────────────────────────── \u001b[0mValidation\u001b[1;35m ────────────────────────────────────────────────────\u001b[0m\n"
      ]
     },
     "metadata": {},
     "output_type": "display_data"
    },
    {
     "data": {
      "text/html": [
       "<pre style=\"white-space:pre;overflow-x:auto;line-height:normal;font-family:Menlo,'DejaVu Sans Mono',consolas,'Courier New',monospace\"><span style=\"color: #800080; text-decoration-color: #800080; font-weight: bold\">Loss:</span> <span style=\"color: #c0c0c0; text-decoration-color: #c0c0c0; font-weight: bold\">1.4615551233291626</span>\n",
       "</pre>\n"
      ],
      "text/plain": [
       "\u001b[1;35mLoss:\u001b[0m \u001b[1;37m1.4615551233291626\u001b[0m\n"
      ]
     },
     "metadata": {},
     "output_type": "display_data"
    },
    {
     "data": {
      "text/html": [
       "<pre style=\"white-space:pre;overflow-x:auto;line-height:normal;font-family:Menlo,'DejaVu Sans Mono',consolas,'Courier New',monospace\"><span style=\"color: #800080; text-decoration-color: #800080; font-weight: bold\">Metrics:</span>\n",
       "</pre>\n"
      ],
      "text/plain": [
       "\u001b[1;35mMetrics:\u001b[0m\n"
      ]
     },
     "metadata": {},
     "output_type": "display_data"
    },
    {
     "data": {
      "text/html": [
       "<pre style=\"white-space:pre;overflow-x:auto;line-height:normal;font-family:Menlo,'DejaVu Sans Mono',consolas,'Courier New',monospace\"><span style=\"font-style: italic\">       detection_head       </span>\n",
       "┏━━━━━━━━━━━━━━━┳━━━━━━━━━━┓\n",
       "┃<span style=\"color: #800080; text-decoration-color: #800080; font-weight: bold\"> Name          </span>┃<span style=\"color: #800080; text-decoration-color: #800080; font-weight: bold\"> Value    </span>┃\n",
       "┡━━━━━━━━━━━━━━━╇━━━━━━━━━━┩\n",
       "│<span style=\"color: #800080; text-decoration-color: #800080\"> detection_map </span>│<span style=\"color: #c0c0c0; text-decoration-color: #c0c0c0\"> 0.19975  </span>│\n",
       "│<span style=\"color: #800080; text-decoration-color: #800080\"> map_50        </span>│<span style=\"color: #c0c0c0; text-decoration-color: #c0c0c0\"> 0.27764  </span>│\n",
       "│<span style=\"color: #800080; text-decoration-color: #800080\"> map_75        </span>│<span style=\"color: #c0c0c0; text-decoration-color: #c0c0c0\"> 0.23432  </span>│\n",
       "│<span style=\"color: #800080; text-decoration-color: #800080\"> map_small     </span>│<span style=\"color: #c0c0c0; text-decoration-color: #c0c0c0\"> -1.00000 </span>│\n",
       "│<span style=\"color: #800080; text-decoration-color: #800080\"> map_medium    </span>│<span style=\"color: #c0c0c0; text-decoration-color: #c0c0c0\"> 0.00000  </span>│\n",
       "│<span style=\"color: #800080; text-decoration-color: #800080\"> map_large     </span>│<span style=\"color: #c0c0c0; text-decoration-color: #c0c0c0\"> 0.27715  </span>│\n",
       "│<span style=\"color: #800080; text-decoration-color: #800080\"> mar_1         </span>│<span style=\"color: #c0c0c0; text-decoration-color: #c0c0c0\"> 0.34554  </span>│\n",
       "│<span style=\"color: #800080; text-decoration-color: #800080\"> mar_10        </span>│<span style=\"color: #c0c0c0; text-decoration-color: #c0c0c0\"> 0.34554  </span>│\n",
       "│<span style=\"color: #800080; text-decoration-color: #800080\"> mar_100       </span>│<span style=\"color: #c0c0c0; text-decoration-color: #c0c0c0\"> 0.34554  </span>│\n",
       "│<span style=\"color: #800080; text-decoration-color: #800080\"> mar_small     </span>│<span style=\"color: #c0c0c0; text-decoration-color: #c0c0c0\"> -1.00000 </span>│\n",
       "│<span style=\"color: #800080; text-decoration-color: #800080\"> mar_medium    </span>│<span style=\"color: #c0c0c0; text-decoration-color: #c0c0c0\"> 0.00000  </span>│\n",
       "│<span style=\"color: #800080; text-decoration-color: #800080\"> mar_large     </span>│<span style=\"color: #c0c0c0; text-decoration-color: #c0c0c0\"> 0.58929  </span>│\n",
       "│<span style=\"color: #800080; text-decoration-color: #800080\"> f1_small      </span>│<span style=\"color: #c0c0c0; text-decoration-color: #c0c0c0\"> -1.00000 </span>│\n",
       "│<span style=\"color: #800080; text-decoration-color: #800080\"> f1_medium     </span>│<span style=\"color: #c0c0c0; text-decoration-color: #c0c0c0\"> nan      </span>│\n",
       "│<span style=\"color: #800080; text-decoration-color: #800080\"> f1_large      </span>│<span style=\"color: #c0c0c0; text-decoration-color: #c0c0c0\"> 0.37699  </span>│\n",
       "└───────────────┴──────────┘\n",
       "</pre>\n"
      ],
      "text/plain": [
       "\u001b[3m       detection_head       \u001b[0m\n",
       "┏━━━━━━━━━━━━━━━┳━━━━━━━━━━┓\n",
       "┃\u001b[1;35m \u001b[0m\u001b[1;35mName         \u001b[0m\u001b[1;35m \u001b[0m┃\u001b[1;35m \u001b[0m\u001b[1;35mValue   \u001b[0m\u001b[1;35m \u001b[0m┃\n",
       "┡━━━━━━━━━━━━━━━╇━━━━━━━━━━┩\n",
       "│\u001b[35m \u001b[0m\u001b[35mdetection_map\u001b[0m\u001b[35m \u001b[0m│\u001b[37m \u001b[0m\u001b[37m0.19975 \u001b[0m\u001b[37m \u001b[0m│\n",
       "│\u001b[35m \u001b[0m\u001b[35mmap_50       \u001b[0m\u001b[35m \u001b[0m│\u001b[37m \u001b[0m\u001b[37m0.27764 \u001b[0m\u001b[37m \u001b[0m│\n",
       "│\u001b[35m \u001b[0m\u001b[35mmap_75       \u001b[0m\u001b[35m \u001b[0m│\u001b[37m \u001b[0m\u001b[37m0.23432 \u001b[0m\u001b[37m \u001b[0m│\n",
       "│\u001b[35m \u001b[0m\u001b[35mmap_small    \u001b[0m\u001b[35m \u001b[0m│\u001b[37m \u001b[0m\u001b[37m-1.00000\u001b[0m\u001b[37m \u001b[0m│\n",
       "│\u001b[35m \u001b[0m\u001b[35mmap_medium   \u001b[0m\u001b[35m \u001b[0m│\u001b[37m \u001b[0m\u001b[37m0.00000 \u001b[0m\u001b[37m \u001b[0m│\n",
       "│\u001b[35m \u001b[0m\u001b[35mmap_large    \u001b[0m\u001b[35m \u001b[0m│\u001b[37m \u001b[0m\u001b[37m0.27715 \u001b[0m\u001b[37m \u001b[0m│\n",
       "│\u001b[35m \u001b[0m\u001b[35mmar_1        \u001b[0m\u001b[35m \u001b[0m│\u001b[37m \u001b[0m\u001b[37m0.34554 \u001b[0m\u001b[37m \u001b[0m│\n",
       "│\u001b[35m \u001b[0m\u001b[35mmar_10       \u001b[0m\u001b[35m \u001b[0m│\u001b[37m \u001b[0m\u001b[37m0.34554 \u001b[0m\u001b[37m \u001b[0m│\n",
       "│\u001b[35m \u001b[0m\u001b[35mmar_100      \u001b[0m\u001b[35m \u001b[0m│\u001b[37m \u001b[0m\u001b[37m0.34554 \u001b[0m\u001b[37m \u001b[0m│\n",
       "│\u001b[35m \u001b[0m\u001b[35mmar_small    \u001b[0m\u001b[35m \u001b[0m│\u001b[37m \u001b[0m\u001b[37m-1.00000\u001b[0m\u001b[37m \u001b[0m│\n",
       "│\u001b[35m \u001b[0m\u001b[35mmar_medium   \u001b[0m\u001b[35m \u001b[0m│\u001b[37m \u001b[0m\u001b[37m0.00000 \u001b[0m\u001b[37m \u001b[0m│\n",
       "│\u001b[35m \u001b[0m\u001b[35mmar_large    \u001b[0m\u001b[35m \u001b[0m│\u001b[37m \u001b[0m\u001b[37m0.58929 \u001b[0m\u001b[37m \u001b[0m│\n",
       "│\u001b[35m \u001b[0m\u001b[35mf1_small     \u001b[0m\u001b[35m \u001b[0m│\u001b[37m \u001b[0m\u001b[37m-1.00000\u001b[0m\u001b[37m \u001b[0m│\n",
       "│\u001b[35m \u001b[0m\u001b[35mf1_medium    \u001b[0m\u001b[35m \u001b[0m│\u001b[37m \u001b[0m\u001b[37mnan     \u001b[0m\u001b[37m \u001b[0m│\n",
       "│\u001b[35m \u001b[0m\u001b[35mf1_large     \u001b[0m\u001b[35m \u001b[0m│\u001b[37m \u001b[0m\u001b[37m0.37699 \u001b[0m\u001b[37m \u001b[0m│\n",
       "└───────────────┴──────────┘\n"
      ]
     },
     "metadata": {},
     "output_type": "display_data"
    },
    {
     "data": {
      "text/html": [
       "<pre style=\"white-space:pre;overflow-x:auto;line-height:normal;font-family:Menlo,'DejaVu Sans Mono',consolas,'Courier New',monospace\"><span style=\"color: #800080; text-decoration-color: #800080; font-weight: bold\">───────────────────────────────────────────────────────────────────────────────────────────────────────────────────</span>\n",
       "</pre>\n"
      ],
      "text/plain": [
       "\u001b[1;35m───────────────────────────────────────────────────────────────────────────────────────────────────────────────────\u001b[0m\n"
      ]
     },
     "metadata": {},
     "output_type": "display_data"
    },
    {
     "data": {
      "text/html": [
       "<pre style=\"white-space:pre;overflow-x:auto;line-height:normal;font-family:Menlo,'DejaVu Sans Mono',consolas,'Courier New',monospace\"><span style=\"color: #008000; text-decoration-color: #008000\">INFO    </span> Validation main metric <span style=\"font-weight: bold\">(</span>detection_head/detection_map<span style=\"font-weight: bold\">)</span>: <span style=\"color: #008080; text-decoration-color: #008080; font-weight: bold\">0.1998</span>                     <a href=\"file:///opt/conda/lib/python3.11/site-packages/luxonis_train/models/luxonis_lightning.py\" target=\"_blank\"><span style=\"color: #7f7f7f; text-decoration-color: #7f7f7f\">luxonis_lightning.py</span></a><span style=\"color: #7f7f7f; text-decoration-color: #7f7f7f\">:</span><a href=\"file:///opt/conda/lib/python3.11/site-packages/luxonis_train/models/luxonis_lightning.py#924\" target=\"_blank\"><span style=\"color: #7f7f7f; text-decoration-color: #7f7f7f\">924</span></a>\n",
       "</pre>\n"
      ],
      "text/plain": [
       "\u001b[32mINFO    \u001b[0m Validation main metric \u001b[1m(\u001b[0mdetection_head/detection_map\u001b[1m)\u001b[0m: \u001b[1;36m0.1998\u001b[0m                     \u001b]8;id=363845;file:///opt/conda/lib/python3.11/site-packages/luxonis_train/models/luxonis_lightning.py\u001b\\\u001b[2mluxonis_lightning.py\u001b[0m\u001b]8;;\u001b\\\u001b[2m:\u001b[0m\u001b]8;id=292507;file:///opt/conda/lib/python3.11/site-packages/luxonis_train/models/luxonis_lightning.py#924\u001b\\\u001b[2m924\u001b[0m\u001b]8;;\u001b\\\n"
      ]
     },
     "metadata": {},
     "output_type": "display_data"
    },
    {
     "data": {
      "text/html": [
       "<pre style=\"white-space:pre;overflow-x:auto;line-height:normal;font-family:Menlo,'DejaVu Sans Mono',consolas,'Courier New',monospace\"></pre>\n"
      ],
      "text/plain": []
     },
     "metadata": {},
     "output_type": "display_data"
    },
    {
     "data": {
      "text/html": [
       "<pre style=\"white-space:pre;overflow-x:auto;line-height:normal;font-family:Menlo,'DejaVu Sans Mono',consolas,'Courier New',monospace\">\n",
       "</pre>\n"
      ],
      "text/plain": [
       "\n"
      ]
     },
     "metadata": {},
     "output_type": "display_data"
    },
    {
     "data": {
      "application/vnd.jupyter.widget-view+json": {
       "model_id": "23892477652542169b4452388f55ec0e",
       "version_major": 2,
       "version_minor": 0
      },
      "text/plain": [
       "Output()"
      ]
     },
     "metadata": {},
     "output_type": "display_data"
    },
    {
     "data": {
      "text/html": [
       "<pre style=\"white-space:pre;overflow-x:auto;line-height:normal;font-family:Menlo,'DejaVu Sans Mono',consolas,'Courier New',monospace\"></pre>\n"
      ],
      "text/plain": []
     },
     "metadata": {},
     "output_type": "display_data"
    },
    {
     "data": {
      "text/html": [
       "<pre style=\"white-space:pre;overflow-x:auto;line-height:normal;font-family:Menlo,'DejaVu Sans Mono',consolas,'Courier New',monospace\">\n",
       "</pre>\n"
      ],
      "text/plain": [
       "\n"
      ]
     },
     "metadata": {},
     "output_type": "display_data"
    },
    {
     "data": {
      "application/vnd.jupyter.widget-view+json": {
       "model_id": "bca4668e3c5c466d85fb8b3f08663f91",
       "version_major": 2,
       "version_minor": 0
      },
      "text/plain": [
       "Output()"
      ]
     },
     "metadata": {},
     "output_type": "display_data"
    },
    {
     "data": {
      "text/html": [
       "<pre style=\"white-space:pre;overflow-x:auto;line-height:normal;font-family:Menlo,'DejaVu Sans Mono',consolas,'Courier New',monospace\"></pre>\n"
      ],
      "text/plain": []
     },
     "metadata": {},
     "output_type": "display_data"
    },
    {
     "data": {
      "text/html": [
       "<pre style=\"white-space:pre;overflow-x:auto;line-height:normal;font-family:Menlo,'DejaVu Sans Mono',consolas,'Courier New',monospace\">\n",
       "</pre>\n"
      ],
      "text/plain": [
       "\n"
      ]
     },
     "metadata": {},
     "output_type": "display_data"
    },
    {
     "data": {
      "application/vnd.jupyter.widget-view+json": {
       "model_id": "2c5c9d32651e4aaab68a2f3468a93e91",
       "version_major": 2,
       "version_minor": 0
      },
      "text/plain": [
       "Output()"
      ]
     },
     "metadata": {},
     "output_type": "display_data"
    },
    {
     "data": {
      "text/html": [
       "<pre style=\"white-space:pre;overflow-x:auto;line-height:normal;font-family:Menlo,'DejaVu Sans Mono',consolas,'Courier New',monospace\"></pre>\n"
      ],
      "text/plain": []
     },
     "metadata": {},
     "output_type": "display_data"
    },
    {
     "data": {
      "text/html": [
       "<pre style=\"white-space:pre;overflow-x:auto;line-height:normal;font-family:Menlo,'DejaVu Sans Mono',consolas,'Courier New',monospace\">\n",
       "</pre>\n"
      ],
      "text/plain": [
       "\n"
      ]
     },
     "metadata": {},
     "output_type": "display_data"
    },
    {
     "data": {
      "application/vnd.jupyter.widget-view+json": {
       "model_id": "a84e6af9b6d3476b87c9f671bf40ef3a",
       "version_major": 2,
       "version_minor": 0
      },
      "text/plain": [
       "Output()"
      ]
     },
     "metadata": {},
     "output_type": "display_data"
    },
    {
     "data": {
      "text/html": [
       "<pre style=\"white-space:pre;overflow-x:auto;line-height:normal;font-family:Menlo,'DejaVu Sans Mono',consolas,'Courier New',monospace\"></pre>\n"
      ],
      "text/plain": []
     },
     "metadata": {},
     "output_type": "display_data"
    },
    {
     "data": {
      "text/html": [
       "<pre style=\"white-space:pre;overflow-x:auto;line-height:normal;font-family:Menlo,'DejaVu Sans Mono',consolas,'Courier New',monospace\">\n",
       "</pre>\n"
      ],
      "text/plain": [
       "\n"
      ]
     },
     "metadata": {},
     "output_type": "display_data"
    },
    {
     "data": {
      "application/vnd.jupyter.widget-view+json": {
       "model_id": "0837d8d1a40b490998d917ab83b41587",
       "version_major": 2,
       "version_minor": 0
      },
      "text/plain": [
       "Output()"
      ]
     },
     "metadata": {},
     "output_type": "display_data"
    },
    {
     "data": {
      "text/html": [
       "<pre style=\"white-space:pre;overflow-x:auto;line-height:normal;font-family:Menlo,'DejaVu Sans Mono',consolas,'Courier New',monospace\"></pre>\n"
      ],
      "text/plain": []
     },
     "metadata": {},
     "output_type": "display_data"
    },
    {
     "data": {
      "text/html": [
       "<pre style=\"white-space:pre;overflow-x:auto;line-height:normal;font-family:Menlo,'DejaVu Sans Mono',consolas,'Courier New',monospace\">\n",
       "</pre>\n"
      ],
      "text/plain": [
       "\n"
      ]
     },
     "metadata": {},
     "output_type": "display_data"
    },
    {
     "data": {
      "application/vnd.jupyter.widget-view+json": {
       "model_id": "f00a993b5a8d406e81a1a51a99ebd336",
       "version_major": 2,
       "version_minor": 0
      },
      "text/plain": [
       "Output()"
      ]
     },
     "metadata": {},
     "output_type": "display_data"
    },
    {
     "data": {
      "text/html": [
       "<pre style=\"white-space:pre;overflow-x:auto;line-height:normal;font-family:Menlo,'DejaVu Sans Mono',consolas,'Courier New',monospace\"></pre>\n"
      ],
      "text/plain": []
     },
     "metadata": {},
     "output_type": "display_data"
    },
    {
     "data": {
      "text/html": [
       "<pre style=\"white-space:pre;overflow-x:auto;line-height:normal;font-family:Menlo,'DejaVu Sans Mono',consolas,'Courier New',monospace\">\n",
       "</pre>\n"
      ],
      "text/plain": [
       "\n"
      ]
     },
     "metadata": {},
     "output_type": "display_data"
    },
    {
     "data": {
      "application/vnd.jupyter.widget-view+json": {
       "model_id": "abdfc398911c4df4928983f5a4645f2f",
       "version_major": 2,
       "version_minor": 0
      },
      "text/plain": [
       "Output()"
      ]
     },
     "metadata": {},
     "output_type": "display_data"
    },
    {
     "data": {
      "text/html": [
       "<pre style=\"white-space:pre;overflow-x:auto;line-height:normal;font-family:Menlo,'DejaVu Sans Mono',consolas,'Courier New',monospace\"></pre>\n"
      ],
      "text/plain": []
     },
     "metadata": {},
     "output_type": "display_data"
    },
    {
     "data": {
      "text/html": [
       "<pre style=\"white-space:pre;overflow-x:auto;line-height:normal;font-family:Menlo,'DejaVu Sans Mono',consolas,'Courier New',monospace\">\n",
       "</pre>\n"
      ],
      "text/plain": [
       "\n"
      ]
     },
     "metadata": {},
     "output_type": "display_data"
    },
    {
     "data": {
      "application/vnd.jupyter.widget-view+json": {
       "model_id": "7b1a97cf21054f8bbdf973b98dd57a2c",
       "version_major": 2,
       "version_minor": 0
      },
      "text/plain": [
       "Output()"
      ]
     },
     "metadata": {},
     "output_type": "display_data"
    },
    {
     "data": {
      "text/html": [
       "<pre style=\"white-space:pre;overflow-x:auto;line-height:normal;font-family:Menlo,'DejaVu Sans Mono',consolas,'Courier New',monospace\"></pre>\n"
      ],
      "text/plain": []
     },
     "metadata": {},
     "output_type": "display_data"
    },
    {
     "data": {
      "text/html": [
       "<pre style=\"white-space:pre;overflow-x:auto;line-height:normal;font-family:Menlo,'DejaVu Sans Mono',consolas,'Courier New',monospace\">\n",
       "</pre>\n"
      ],
      "text/plain": [
       "\n"
      ]
     },
     "metadata": {},
     "output_type": "display_data"
    },
    {
     "data": {
      "application/vnd.jupyter.widget-view+json": {
       "model_id": "dab2646d99e64a8993ddb2d9b93ce5f1",
       "version_major": 2,
       "version_minor": 0
      },
      "text/plain": [
       "Output()"
      ]
     },
     "metadata": {},
     "output_type": "display_data"
    },
    {
     "data": {
      "text/html": [
       "<pre style=\"white-space:pre;overflow-x:auto;line-height:normal;font-family:Menlo,'DejaVu Sans Mono',consolas,'Courier New',monospace\"></pre>\n"
      ],
      "text/plain": []
     },
     "metadata": {},
     "output_type": "display_data"
    },
    {
     "data": {
      "text/html": [
       "<pre style=\"white-space:pre;overflow-x:auto;line-height:normal;font-family:Menlo,'DejaVu Sans Mono',consolas,'Courier New',monospace\">\n",
       "</pre>\n"
      ],
      "text/plain": [
       "\n"
      ]
     },
     "metadata": {},
     "output_type": "display_data"
    },
    {
     "data": {
      "application/vnd.jupyter.widget-view+json": {
       "model_id": "fa26359db91c47d48e3de0b185ff875c",
       "version_major": 2,
       "version_minor": 0
      },
      "text/plain": [
       "Output()"
      ]
     },
     "metadata": {},
     "output_type": "display_data"
    },
    {
     "data": {
      "text/html": [
       "<pre style=\"white-space:pre;overflow-x:auto;line-height:normal;font-family:Menlo,'DejaVu Sans Mono',consolas,'Courier New',monospace\"><span style=\"color: #008000; text-decoration-color: #008000\">INFO    </span> Computing metrics on val subset <span style=\"color: #808000; text-decoration-color: #808000\">...</span>                                               <a href=\"file:///opt/conda/lib/python3.11/site-packages/luxonis_train/models/luxonis_lightning.py\" target=\"_blank\"><span style=\"color: #7f7f7f; text-decoration-color: #7f7f7f\">luxonis_lightning.py</span></a><span style=\"color: #7f7f7f; text-decoration-color: #7f7f7f\">:</span><a href=\"file:///opt/conda/lib/python3.11/site-packages/luxonis_train/models/luxonis_lightning.py#732\" target=\"_blank\"><span style=\"color: #7f7f7f; text-decoration-color: #7f7f7f\">732</span></a>\n",
       "</pre>\n"
      ],
      "text/plain": [
       "\u001b[32mINFO    \u001b[0m Computing metrics on val subset \u001b[33m...\u001b[0m                                               \u001b]8;id=336216;file:///opt/conda/lib/python3.11/site-packages/luxonis_train/models/luxonis_lightning.py\u001b\\\u001b[2mluxonis_lightning.py\u001b[0m\u001b]8;;\u001b\\\u001b[2m:\u001b[0m\u001b]8;id=387155;file:///opt/conda/lib/python3.11/site-packages/luxonis_train/models/luxonis_lightning.py#732\u001b\\\u001b[2m732\u001b[0m\u001b]8;;\u001b\\\n"
      ]
     },
     "metadata": {},
     "output_type": "display_data"
    },
    {
     "data": {
      "text/html": [
       "<pre style=\"white-space:pre;overflow-x:auto;line-height:normal;font-family:Menlo,'DejaVu Sans Mono',consolas,'Courier New',monospace\"><span style=\"color: #008000; text-decoration-color: #008000\">INFO    </span> Metrics computed.                                                                 <a href=\"file:///opt/conda/lib/python3.11/site-packages/luxonis_train/models/luxonis_lightning.py\" target=\"_blank\"><span style=\"color: #7f7f7f; text-decoration-color: #7f7f7f\">luxonis_lightning.py</span></a><span style=\"color: #7f7f7f; text-decoration-color: #7f7f7f\">:</span><a href=\"file:///opt/conda/lib/python3.11/site-packages/luxonis_train/models/luxonis_lightning.py#734\" target=\"_blank\"><span style=\"color: #7f7f7f; text-decoration-color: #7f7f7f\">734</span></a>\n",
       "</pre>\n"
      ],
      "text/plain": [
       "\u001b[32mINFO    \u001b[0m Metrics computed.                                                                 \u001b]8;id=484278;file:///opt/conda/lib/python3.11/site-packages/luxonis_train/models/luxonis_lightning.py\u001b\\\u001b[2mluxonis_lightning.py\u001b[0m\u001b]8;;\u001b\\\u001b[2m:\u001b[0m\u001b]8;id=127576;file:///opt/conda/lib/python3.11/site-packages/luxonis_train/models/luxonis_lightning.py#734\u001b\\\u001b[2m734\u001b[0m\u001b]8;;\u001b\\\n"
      ]
     },
     "metadata": {},
     "output_type": "display_data"
    },
    {
     "data": {
      "text/html": [
       "<pre style=\"white-space:pre;overflow-x:auto;line-height:normal;font-family:Menlo,'DejaVu Sans Mono',consolas,'Courier New',monospace\"><span style=\"color: #008000; text-decoration-color: #008000\">INFO    </span> Validation loss: <span style=\"color: #008080; text-decoration-color: #008080; font-weight: bold\">1.4003</span>                                                           <a href=\"file:///opt/conda/lib/python3.11/site-packages/luxonis_train/models/luxonis_lightning.py\" target=\"_blank\"><span style=\"color: #7f7f7f; text-decoration-color: #7f7f7f\">luxonis_lightning.py</span></a><span style=\"color: #7f7f7f; text-decoration-color: #7f7f7f\">:</span><a href=\"file:///opt/conda/lib/python3.11/site-packages/luxonis_train/models/luxonis_lightning.py#915\" target=\"_blank\"><span style=\"color: #7f7f7f; text-decoration-color: #7f7f7f\">915</span></a>\n",
       "</pre>\n"
      ],
      "text/plain": [
       "\u001b[32mINFO    \u001b[0m Validation loss: \u001b[1;36m1.4003\u001b[0m                                                           \u001b]8;id=512677;file:///opt/conda/lib/python3.11/site-packages/luxonis_train/models/luxonis_lightning.py\u001b\\\u001b[2mluxonis_lightning.py\u001b[0m\u001b]8;;\u001b\\\u001b[2m:\u001b[0m\u001b]8;id=626733;file:///opt/conda/lib/python3.11/site-packages/luxonis_train/models/luxonis_lightning.py#915\u001b\\\u001b[2m915\u001b[0m\u001b]8;;\u001b\\\n"
      ]
     },
     "metadata": {},
     "output_type": "display_data"
    },
    {
     "data": {
      "text/html": [
       "<pre style=\"white-space:pre;overflow-x:auto;line-height:normal;font-family:Menlo,'DejaVu Sans Mono',consolas,'Courier New',monospace\"><span style=\"color: #800080; text-decoration-color: #800080; font-weight: bold\">─────────────────────────────────────────────────── </span>Validation<span style=\"color: #800080; text-decoration-color: #800080; font-weight: bold\"> ────────────────────────────────────────────────────</span>\n",
       "</pre>\n"
      ],
      "text/plain": [
       "\u001b[1;35m─────────────────────────────────────────────────── \u001b[0mValidation\u001b[1;35m ────────────────────────────────────────────────────\u001b[0m\n"
      ]
     },
     "metadata": {},
     "output_type": "display_data"
    },
    {
     "data": {
      "text/html": [
       "<pre style=\"white-space:pre;overflow-x:auto;line-height:normal;font-family:Menlo,'DejaVu Sans Mono',consolas,'Courier New',monospace\"><span style=\"color: #800080; text-decoration-color: #800080; font-weight: bold\">Loss:</span> <span style=\"color: #c0c0c0; text-decoration-color: #c0c0c0; font-weight: bold\">1.4003124833106995</span>\n",
       "</pre>\n"
      ],
      "text/plain": [
       "\u001b[1;35mLoss:\u001b[0m \u001b[1;37m1.4003124833106995\u001b[0m\n"
      ]
     },
     "metadata": {},
     "output_type": "display_data"
    },
    {
     "data": {
      "text/html": [
       "<pre style=\"white-space:pre;overflow-x:auto;line-height:normal;font-family:Menlo,'DejaVu Sans Mono',consolas,'Courier New',monospace\"><span style=\"color: #800080; text-decoration-color: #800080; font-weight: bold\">Metrics:</span>\n",
       "</pre>\n"
      ],
      "text/plain": [
       "\u001b[1;35mMetrics:\u001b[0m\n"
      ]
     },
     "metadata": {},
     "output_type": "display_data"
    },
    {
     "data": {
      "text/html": [
       "<pre style=\"white-space:pre;overflow-x:auto;line-height:normal;font-family:Menlo,'DejaVu Sans Mono',consolas,'Courier New',monospace\"><span style=\"font-style: italic\">       detection_head       </span>\n",
       "┏━━━━━━━━━━━━━━━┳━━━━━━━━━━┓\n",
       "┃<span style=\"color: #800080; text-decoration-color: #800080; font-weight: bold\"> Name          </span>┃<span style=\"color: #800080; text-decoration-color: #800080; font-weight: bold\"> Value    </span>┃\n",
       "┡━━━━━━━━━━━━━━━╇━━━━━━━━━━┩\n",
       "│<span style=\"color: #800080; text-decoration-color: #800080\"> detection_map </span>│<span style=\"color: #c0c0c0; text-decoration-color: #c0c0c0\"> 0.24122  </span>│\n",
       "│<span style=\"color: #800080; text-decoration-color: #800080\"> map_50        </span>│<span style=\"color: #c0c0c0; text-decoration-color: #c0c0c0\"> 0.27503  </span>│\n",
       "│<span style=\"color: #800080; text-decoration-color: #800080\"> map_75        </span>│<span style=\"color: #c0c0c0; text-decoration-color: #c0c0c0\"> 0.27503  </span>│\n",
       "│<span style=\"color: #800080; text-decoration-color: #800080\"> map_small     </span>│<span style=\"color: #c0c0c0; text-decoration-color: #c0c0c0\"> -1.00000 </span>│\n",
       "│<span style=\"color: #800080; text-decoration-color: #800080\"> map_medium    </span>│<span style=\"color: #c0c0c0; text-decoration-color: #c0c0c0\"> 0.00000  </span>│\n",
       "│<span style=\"color: #800080; text-decoration-color: #800080\"> map_large     </span>│<span style=\"color: #c0c0c0; text-decoration-color: #c0c0c0\"> 0.30954  </span>│\n",
       "│<span style=\"color: #800080; text-decoration-color: #800080\"> mar_1         </span>│<span style=\"color: #c0c0c0; text-decoration-color: #c0c0c0\"> 0.33839  </span>│\n",
       "│<span style=\"color: #800080; text-decoration-color: #800080\"> mar_10        </span>│<span style=\"color: #c0c0c0; text-decoration-color: #c0c0c0\"> 0.33839  </span>│\n",
       "│<span style=\"color: #800080; text-decoration-color: #800080\"> mar_100       </span>│<span style=\"color: #c0c0c0; text-decoration-color: #c0c0c0\"> 0.33839  </span>│\n",
       "│<span style=\"color: #800080; text-decoration-color: #800080\"> mar_small     </span>│<span style=\"color: #c0c0c0; text-decoration-color: #c0c0c0\"> -1.00000 </span>│\n",
       "│<span style=\"color: #800080; text-decoration-color: #800080\"> mar_medium    </span>│<span style=\"color: #c0c0c0; text-decoration-color: #c0c0c0\"> 0.00000  </span>│\n",
       "│<span style=\"color: #800080; text-decoration-color: #800080\"> mar_large     </span>│<span style=\"color: #c0c0c0; text-decoration-color: #c0c0c0\"> 0.58214  </span>│\n",
       "│<span style=\"color: #800080; text-decoration-color: #800080\"> f1_small      </span>│<span style=\"color: #c0c0c0; text-decoration-color: #c0c0c0\"> -1.00000 </span>│\n",
       "│<span style=\"color: #800080; text-decoration-color: #800080\"> f1_medium     </span>│<span style=\"color: #c0c0c0; text-decoration-color: #c0c0c0\"> nan      </span>│\n",
       "│<span style=\"color: #800080; text-decoration-color: #800080\"> f1_large      </span>│<span style=\"color: #c0c0c0; text-decoration-color: #c0c0c0\"> 0.40417  </span>│\n",
       "└───────────────┴──────────┘\n",
       "</pre>\n"
      ],
      "text/plain": [
       "\u001b[3m       detection_head       \u001b[0m\n",
       "┏━━━━━━━━━━━━━━━┳━━━━━━━━━━┓\n",
       "┃\u001b[1;35m \u001b[0m\u001b[1;35mName         \u001b[0m\u001b[1;35m \u001b[0m┃\u001b[1;35m \u001b[0m\u001b[1;35mValue   \u001b[0m\u001b[1;35m \u001b[0m┃\n",
       "┡━━━━━━━━━━━━━━━╇━━━━━━━━━━┩\n",
       "│\u001b[35m \u001b[0m\u001b[35mdetection_map\u001b[0m\u001b[35m \u001b[0m│\u001b[37m \u001b[0m\u001b[37m0.24122 \u001b[0m\u001b[37m \u001b[0m│\n",
       "│\u001b[35m \u001b[0m\u001b[35mmap_50       \u001b[0m\u001b[35m \u001b[0m│\u001b[37m \u001b[0m\u001b[37m0.27503 \u001b[0m\u001b[37m \u001b[0m│\n",
       "│\u001b[35m \u001b[0m\u001b[35mmap_75       \u001b[0m\u001b[35m \u001b[0m│\u001b[37m \u001b[0m\u001b[37m0.27503 \u001b[0m\u001b[37m \u001b[0m│\n",
       "│\u001b[35m \u001b[0m\u001b[35mmap_small    \u001b[0m\u001b[35m \u001b[0m│\u001b[37m \u001b[0m\u001b[37m-1.00000\u001b[0m\u001b[37m \u001b[0m│\n",
       "│\u001b[35m \u001b[0m\u001b[35mmap_medium   \u001b[0m\u001b[35m \u001b[0m│\u001b[37m \u001b[0m\u001b[37m0.00000 \u001b[0m\u001b[37m \u001b[0m│\n",
       "│\u001b[35m \u001b[0m\u001b[35mmap_large    \u001b[0m\u001b[35m \u001b[0m│\u001b[37m \u001b[0m\u001b[37m0.30954 \u001b[0m\u001b[37m \u001b[0m│\n",
       "│\u001b[35m \u001b[0m\u001b[35mmar_1        \u001b[0m\u001b[35m \u001b[0m│\u001b[37m \u001b[0m\u001b[37m0.33839 \u001b[0m\u001b[37m \u001b[0m│\n",
       "│\u001b[35m \u001b[0m\u001b[35mmar_10       \u001b[0m\u001b[35m \u001b[0m│\u001b[37m \u001b[0m\u001b[37m0.33839 \u001b[0m\u001b[37m \u001b[0m│\n",
       "│\u001b[35m \u001b[0m\u001b[35mmar_100      \u001b[0m\u001b[35m \u001b[0m│\u001b[37m \u001b[0m\u001b[37m0.33839 \u001b[0m\u001b[37m \u001b[0m│\n",
       "│\u001b[35m \u001b[0m\u001b[35mmar_small    \u001b[0m\u001b[35m \u001b[0m│\u001b[37m \u001b[0m\u001b[37m-1.00000\u001b[0m\u001b[37m \u001b[0m│\n",
       "│\u001b[35m \u001b[0m\u001b[35mmar_medium   \u001b[0m\u001b[35m \u001b[0m│\u001b[37m \u001b[0m\u001b[37m0.00000 \u001b[0m\u001b[37m \u001b[0m│\n",
       "│\u001b[35m \u001b[0m\u001b[35mmar_large    \u001b[0m\u001b[35m \u001b[0m│\u001b[37m \u001b[0m\u001b[37m0.58214 \u001b[0m\u001b[37m \u001b[0m│\n",
       "│\u001b[35m \u001b[0m\u001b[35mf1_small     \u001b[0m\u001b[35m \u001b[0m│\u001b[37m \u001b[0m\u001b[37m-1.00000\u001b[0m\u001b[37m \u001b[0m│\n",
       "│\u001b[35m \u001b[0m\u001b[35mf1_medium    \u001b[0m\u001b[35m \u001b[0m│\u001b[37m \u001b[0m\u001b[37mnan     \u001b[0m\u001b[37m \u001b[0m│\n",
       "│\u001b[35m \u001b[0m\u001b[35mf1_large     \u001b[0m\u001b[35m \u001b[0m│\u001b[37m \u001b[0m\u001b[37m0.40417 \u001b[0m\u001b[37m \u001b[0m│\n",
       "└───────────────┴──────────┘\n"
      ]
     },
     "metadata": {},
     "output_type": "display_data"
    },
    {
     "data": {
      "text/html": [
       "<pre style=\"white-space:pre;overflow-x:auto;line-height:normal;font-family:Menlo,'DejaVu Sans Mono',consolas,'Courier New',monospace\"><span style=\"color: #800080; text-decoration-color: #800080; font-weight: bold\">───────────────────────────────────────────────────────────────────────────────────────────────────────────────────</span>\n",
       "</pre>\n"
      ],
      "text/plain": [
       "\u001b[1;35m───────────────────────────────────────────────────────────────────────────────────────────────────────────────────\u001b[0m\n"
      ]
     },
     "metadata": {},
     "output_type": "display_data"
    },
    {
     "data": {
      "text/html": [
       "<pre style=\"white-space:pre;overflow-x:auto;line-height:normal;font-family:Menlo,'DejaVu Sans Mono',consolas,'Courier New',monospace\"><span style=\"color: #008000; text-decoration-color: #008000\">INFO    </span> Validation main metric <span style=\"font-weight: bold\">(</span>detection_head/detection_map<span style=\"font-weight: bold\">)</span>: <span style=\"color: #008080; text-decoration-color: #008080; font-weight: bold\">0.2412</span>                     <a href=\"file:///opt/conda/lib/python3.11/site-packages/luxonis_train/models/luxonis_lightning.py\" target=\"_blank\"><span style=\"color: #7f7f7f; text-decoration-color: #7f7f7f\">luxonis_lightning.py</span></a><span style=\"color: #7f7f7f; text-decoration-color: #7f7f7f\">:</span><a href=\"file:///opt/conda/lib/python3.11/site-packages/luxonis_train/models/luxonis_lightning.py#924\" target=\"_blank\"><span style=\"color: #7f7f7f; text-decoration-color: #7f7f7f\">924</span></a>\n",
       "</pre>\n"
      ],
      "text/plain": [
       "\u001b[32mINFO    \u001b[0m Validation main metric \u001b[1m(\u001b[0mdetection_head/detection_map\u001b[1m)\u001b[0m: \u001b[1;36m0.2412\u001b[0m                     \u001b]8;id=451141;file:///opt/conda/lib/python3.11/site-packages/luxonis_train/models/luxonis_lightning.py\u001b\\\u001b[2mluxonis_lightning.py\u001b[0m\u001b]8;;\u001b\\\u001b[2m:\u001b[0m\u001b]8;id=151839;file:///opt/conda/lib/python3.11/site-packages/luxonis_train/models/luxonis_lightning.py#924\u001b\\\u001b[2m924\u001b[0m\u001b]8;;\u001b\\\n"
      ]
     },
     "metadata": {},
     "output_type": "display_data"
    },
    {
     "data": {
      "text/html": [
       "<pre style=\"white-space:pre;overflow-x:auto;line-height:normal;font-family:Menlo,'DejaVu Sans Mono',consolas,'Courier New',monospace\"></pre>\n"
      ],
      "text/plain": []
     },
     "metadata": {},
     "output_type": "display_data"
    },
    {
     "data": {
      "text/html": [
       "<pre style=\"white-space:pre;overflow-x:auto;line-height:normal;font-family:Menlo,'DejaVu Sans Mono',consolas,'Courier New',monospace\">\n",
       "</pre>\n"
      ],
      "text/plain": [
       "\n"
      ]
     },
     "metadata": {},
     "output_type": "display_data"
    },
    {
     "data": {
      "application/vnd.jupyter.widget-view+json": {
       "model_id": "3738b2a98d864b4a9d5b4984d73901f3",
       "version_major": 2,
       "version_minor": 0
      },
      "text/plain": [
       "Output()"
      ]
     },
     "metadata": {},
     "output_type": "display_data"
    },
    {
     "data": {
      "text/html": [
       "<pre style=\"white-space:pre;overflow-x:auto;line-height:normal;font-family:Menlo,'DejaVu Sans Mono',consolas,'Courier New',monospace\"></pre>\n"
      ],
      "text/plain": []
     },
     "metadata": {},
     "output_type": "display_data"
    },
    {
     "data": {
      "text/html": [
       "<pre style=\"white-space:pre;overflow-x:auto;line-height:normal;font-family:Menlo,'DejaVu Sans Mono',consolas,'Courier New',monospace\">\n",
       "</pre>\n"
      ],
      "text/plain": [
       "\n"
      ]
     },
     "metadata": {},
     "output_type": "display_data"
    },
    {
     "data": {
      "application/vnd.jupyter.widget-view+json": {
       "model_id": "133e121f36984612ab16f37df59f2dec",
       "version_major": 2,
       "version_minor": 0
      },
      "text/plain": [
       "Output()"
      ]
     },
     "metadata": {},
     "output_type": "display_data"
    },
    {
     "data": {
      "text/html": [
       "<pre style=\"white-space:pre;overflow-x:auto;line-height:normal;font-family:Menlo,'DejaVu Sans Mono',consolas,'Courier New',monospace\"></pre>\n"
      ],
      "text/plain": []
     },
     "metadata": {},
     "output_type": "display_data"
    },
    {
     "data": {
      "text/html": [
       "<pre style=\"white-space:pre;overflow-x:auto;line-height:normal;font-family:Menlo,'DejaVu Sans Mono',consolas,'Courier New',monospace\">\n",
       "</pre>\n"
      ],
      "text/plain": [
       "\n"
      ]
     },
     "metadata": {},
     "output_type": "display_data"
    },
    {
     "data": {
      "application/vnd.jupyter.widget-view+json": {
       "model_id": "07657eee428b45ce97034df3d1e0cec8",
       "version_major": 2,
       "version_minor": 0
      },
      "text/plain": [
       "Output()"
      ]
     },
     "metadata": {},
     "output_type": "display_data"
    },
    {
     "data": {
      "text/html": [
       "<pre style=\"white-space:pre;overflow-x:auto;line-height:normal;font-family:Menlo,'DejaVu Sans Mono',consolas,'Courier New',monospace\"></pre>\n"
      ],
      "text/plain": []
     },
     "metadata": {},
     "output_type": "display_data"
    },
    {
     "data": {
      "text/html": [
       "<pre style=\"white-space:pre;overflow-x:auto;line-height:normal;font-family:Menlo,'DejaVu Sans Mono',consolas,'Courier New',monospace\">\n",
       "</pre>\n"
      ],
      "text/plain": [
       "\n"
      ]
     },
     "metadata": {},
     "output_type": "display_data"
    },
    {
     "data": {
      "application/vnd.jupyter.widget-view+json": {
       "model_id": "089b9a05a8cf411fbef50510f36c5728",
       "version_major": 2,
       "version_minor": 0
      },
      "text/plain": [
       "Output()"
      ]
     },
     "metadata": {},
     "output_type": "display_data"
    },
    {
     "data": {
      "text/html": [
       "<pre style=\"white-space:pre;overflow-x:auto;line-height:normal;font-family:Menlo,'DejaVu Sans Mono',consolas,'Courier New',monospace\"></pre>\n"
      ],
      "text/plain": []
     },
     "metadata": {},
     "output_type": "display_data"
    },
    {
     "data": {
      "text/html": [
       "<pre style=\"white-space:pre;overflow-x:auto;line-height:normal;font-family:Menlo,'DejaVu Sans Mono',consolas,'Courier New',monospace\">\n",
       "</pre>\n"
      ],
      "text/plain": [
       "\n"
      ]
     },
     "metadata": {},
     "output_type": "display_data"
    },
    {
     "data": {
      "application/vnd.jupyter.widget-view+json": {
       "model_id": "a8bef2b5566a4a6baa457fa36f4cc562",
       "version_major": 2,
       "version_minor": 0
      },
      "text/plain": [
       "Output()"
      ]
     },
     "metadata": {},
     "output_type": "display_data"
    },
    {
     "data": {
      "text/html": [
       "<pre style=\"white-space:pre;overflow-x:auto;line-height:normal;font-family:Menlo,'DejaVu Sans Mono',consolas,'Courier New',monospace\"></pre>\n"
      ],
      "text/plain": []
     },
     "metadata": {},
     "output_type": "display_data"
    },
    {
     "data": {
      "text/html": [
       "<pre style=\"white-space:pre;overflow-x:auto;line-height:normal;font-family:Menlo,'DejaVu Sans Mono',consolas,'Courier New',monospace\">\n",
       "</pre>\n"
      ],
      "text/plain": [
       "\n"
      ]
     },
     "metadata": {},
     "output_type": "display_data"
    },
    {
     "data": {
      "application/vnd.jupyter.widget-view+json": {
       "model_id": "40742842e87947599da493498bbfa365",
       "version_major": 2,
       "version_minor": 0
      },
      "text/plain": [
       "Output()"
      ]
     },
     "metadata": {},
     "output_type": "display_data"
    },
    {
     "data": {
      "text/html": [
       "<pre style=\"white-space:pre;overflow-x:auto;line-height:normal;font-family:Menlo,'DejaVu Sans Mono',consolas,'Courier New',monospace\"></pre>\n"
      ],
      "text/plain": []
     },
     "metadata": {},
     "output_type": "display_data"
    },
    {
     "data": {
      "text/html": [
       "<pre style=\"white-space:pre;overflow-x:auto;line-height:normal;font-family:Menlo,'DejaVu Sans Mono',consolas,'Courier New',monospace\">\n",
       "</pre>\n"
      ],
      "text/plain": [
       "\n"
      ]
     },
     "metadata": {},
     "output_type": "display_data"
    },
    {
     "data": {
      "application/vnd.jupyter.widget-view+json": {
       "model_id": "8febab268107430ab8162044686b8626",
       "version_major": 2,
       "version_minor": 0
      },
      "text/plain": [
       "Output()"
      ]
     },
     "metadata": {},
     "output_type": "display_data"
    },
    {
     "data": {
      "text/html": [
       "<pre style=\"white-space:pre;overflow-x:auto;line-height:normal;font-family:Menlo,'DejaVu Sans Mono',consolas,'Courier New',monospace\"></pre>\n"
      ],
      "text/plain": []
     },
     "metadata": {},
     "output_type": "display_data"
    },
    {
     "data": {
      "text/html": [
       "<pre style=\"white-space:pre;overflow-x:auto;line-height:normal;font-family:Menlo,'DejaVu Sans Mono',consolas,'Courier New',monospace\">\n",
       "</pre>\n"
      ],
      "text/plain": [
       "\n"
      ]
     },
     "metadata": {},
     "output_type": "display_data"
    },
    {
     "data": {
      "application/vnd.jupyter.widget-view+json": {
       "model_id": "65357788173b47a381ce464e87977e48",
       "version_major": 2,
       "version_minor": 0
      },
      "text/plain": [
       "Output()"
      ]
     },
     "metadata": {},
     "output_type": "display_data"
    },
    {
     "data": {
      "text/html": [
       "<pre style=\"white-space:pre;overflow-x:auto;line-height:normal;font-family:Menlo,'DejaVu Sans Mono',consolas,'Courier New',monospace\"></pre>\n"
      ],
      "text/plain": []
     },
     "metadata": {},
     "output_type": "display_data"
    },
    {
     "data": {
      "text/html": [
       "<pre style=\"white-space:pre;overflow-x:auto;line-height:normal;font-family:Menlo,'DejaVu Sans Mono',consolas,'Courier New',monospace\">\n",
       "</pre>\n"
      ],
      "text/plain": [
       "\n"
      ]
     },
     "metadata": {},
     "output_type": "display_data"
    },
    {
     "data": {
      "application/vnd.jupyter.widget-view+json": {
       "model_id": "65c4ae5616024439b325e09dc6e71bb6",
       "version_major": 2,
       "version_minor": 0
      },
      "text/plain": [
       "Output()"
      ]
     },
     "metadata": {},
     "output_type": "display_data"
    },
    {
     "data": {
      "text/html": [
       "<pre style=\"white-space:pre;overflow-x:auto;line-height:normal;font-family:Menlo,'DejaVu Sans Mono',consolas,'Courier New',monospace\"></pre>\n"
      ],
      "text/plain": []
     },
     "metadata": {},
     "output_type": "display_data"
    },
    {
     "data": {
      "text/html": [
       "<pre style=\"white-space:pre;overflow-x:auto;line-height:normal;font-family:Menlo,'DejaVu Sans Mono',consolas,'Courier New',monospace\">\n",
       "</pre>\n"
      ],
      "text/plain": [
       "\n"
      ]
     },
     "metadata": {},
     "output_type": "display_data"
    },
    {
     "data": {
      "application/vnd.jupyter.widget-view+json": {
       "model_id": "f196550f3f4149959ebf6e3fd812c360",
       "version_major": 2,
       "version_minor": 0
      },
      "text/plain": [
       "Output()"
      ]
     },
     "metadata": {},
     "output_type": "display_data"
    },
    {
     "data": {
      "text/html": [
       "<pre style=\"white-space:pre;overflow-x:auto;line-height:normal;font-family:Menlo,'DejaVu Sans Mono',consolas,'Courier New',monospace\"><span style=\"color: #008000; text-decoration-color: #008000\">INFO    </span> Computing metrics on val subset <span style=\"color: #808000; text-decoration-color: #808000\">...</span>                                               <a href=\"file:///opt/conda/lib/python3.11/site-packages/luxonis_train/models/luxonis_lightning.py\" target=\"_blank\"><span style=\"color: #7f7f7f; text-decoration-color: #7f7f7f\">luxonis_lightning.py</span></a><span style=\"color: #7f7f7f; text-decoration-color: #7f7f7f\">:</span><a href=\"file:///opt/conda/lib/python3.11/site-packages/luxonis_train/models/luxonis_lightning.py#732\" target=\"_blank\"><span style=\"color: #7f7f7f; text-decoration-color: #7f7f7f\">732</span></a>\n",
       "</pre>\n"
      ],
      "text/plain": [
       "\u001b[32mINFO    \u001b[0m Computing metrics on val subset \u001b[33m...\u001b[0m                                               \u001b]8;id=718942;file:///opt/conda/lib/python3.11/site-packages/luxonis_train/models/luxonis_lightning.py\u001b\\\u001b[2mluxonis_lightning.py\u001b[0m\u001b]8;;\u001b\\\u001b[2m:\u001b[0m\u001b]8;id=537760;file:///opt/conda/lib/python3.11/site-packages/luxonis_train/models/luxonis_lightning.py#732\u001b\\\u001b[2m732\u001b[0m\u001b]8;;\u001b\\\n"
      ]
     },
     "metadata": {},
     "output_type": "display_data"
    },
    {
     "data": {
      "text/html": [
       "<pre style=\"white-space:pre;overflow-x:auto;line-height:normal;font-family:Menlo,'DejaVu Sans Mono',consolas,'Courier New',monospace\"><span style=\"color: #008000; text-decoration-color: #008000\">INFO    </span> Metrics computed.                                                                 <a href=\"file:///opt/conda/lib/python3.11/site-packages/luxonis_train/models/luxonis_lightning.py\" target=\"_blank\"><span style=\"color: #7f7f7f; text-decoration-color: #7f7f7f\">luxonis_lightning.py</span></a><span style=\"color: #7f7f7f; text-decoration-color: #7f7f7f\">:</span><a href=\"file:///opt/conda/lib/python3.11/site-packages/luxonis_train/models/luxonis_lightning.py#734\" target=\"_blank\"><span style=\"color: #7f7f7f; text-decoration-color: #7f7f7f\">734</span></a>\n",
       "</pre>\n"
      ],
      "text/plain": [
       "\u001b[32mINFO    \u001b[0m Metrics computed.                                                                 \u001b]8;id=830983;file:///opt/conda/lib/python3.11/site-packages/luxonis_train/models/luxonis_lightning.py\u001b\\\u001b[2mluxonis_lightning.py\u001b[0m\u001b]8;;\u001b\\\u001b[2m:\u001b[0m\u001b]8;id=782343;file:///opt/conda/lib/python3.11/site-packages/luxonis_train/models/luxonis_lightning.py#734\u001b\\\u001b[2m734\u001b[0m\u001b]8;;\u001b\\\n"
      ]
     },
     "metadata": {},
     "output_type": "display_data"
    },
    {
     "data": {
      "text/html": [
       "<pre style=\"white-space:pre;overflow-x:auto;line-height:normal;font-family:Menlo,'DejaVu Sans Mono',consolas,'Courier New',monospace\"><span style=\"color: #008000; text-decoration-color: #008000\">INFO    </span> Validation loss: <span style=\"color: #008080; text-decoration-color: #008080; font-weight: bold\">1.4191</span>                                                           <a href=\"file:///opt/conda/lib/python3.11/site-packages/luxonis_train/models/luxonis_lightning.py\" target=\"_blank\"><span style=\"color: #7f7f7f; text-decoration-color: #7f7f7f\">luxonis_lightning.py</span></a><span style=\"color: #7f7f7f; text-decoration-color: #7f7f7f\">:</span><a href=\"file:///opt/conda/lib/python3.11/site-packages/luxonis_train/models/luxonis_lightning.py#915\" target=\"_blank\"><span style=\"color: #7f7f7f; text-decoration-color: #7f7f7f\">915</span></a>\n",
       "</pre>\n"
      ],
      "text/plain": [
       "\u001b[32mINFO    \u001b[0m Validation loss: \u001b[1;36m1.4191\u001b[0m                                                           \u001b]8;id=357849;file:///opt/conda/lib/python3.11/site-packages/luxonis_train/models/luxonis_lightning.py\u001b\\\u001b[2mluxonis_lightning.py\u001b[0m\u001b]8;;\u001b\\\u001b[2m:\u001b[0m\u001b]8;id=4150;file:///opt/conda/lib/python3.11/site-packages/luxonis_train/models/luxonis_lightning.py#915\u001b\\\u001b[2m915\u001b[0m\u001b]8;;\u001b\\\n"
      ]
     },
     "metadata": {},
     "output_type": "display_data"
    },
    {
     "data": {
      "text/html": [
       "<pre style=\"white-space:pre;overflow-x:auto;line-height:normal;font-family:Menlo,'DejaVu Sans Mono',consolas,'Courier New',monospace\"><span style=\"color: #800080; text-decoration-color: #800080; font-weight: bold\">─────────────────────────────────────────────────── </span>Validation<span style=\"color: #800080; text-decoration-color: #800080; font-weight: bold\"> ────────────────────────────────────────────────────</span>\n",
       "</pre>\n"
      ],
      "text/plain": [
       "\u001b[1;35m─────────────────────────────────────────────────── \u001b[0mValidation\u001b[1;35m ────────────────────────────────────────────────────\u001b[0m\n"
      ]
     },
     "metadata": {},
     "output_type": "display_data"
    },
    {
     "data": {
      "text/html": [
       "<pre style=\"white-space:pre;overflow-x:auto;line-height:normal;font-family:Menlo,'DejaVu Sans Mono',consolas,'Courier New',monospace\"><span style=\"color: #800080; text-decoration-color: #800080; font-weight: bold\">Loss:</span> <span style=\"color: #c0c0c0; text-decoration-color: #c0c0c0; font-weight: bold\">1.4190561771392822</span>\n",
       "</pre>\n"
      ],
      "text/plain": [
       "\u001b[1;35mLoss:\u001b[0m \u001b[1;37m1.4190561771392822\u001b[0m\n"
      ]
     },
     "metadata": {},
     "output_type": "display_data"
    },
    {
     "data": {
      "text/html": [
       "<pre style=\"white-space:pre;overflow-x:auto;line-height:normal;font-family:Menlo,'DejaVu Sans Mono',consolas,'Courier New',monospace\"><span style=\"color: #800080; text-decoration-color: #800080; font-weight: bold\">Metrics:</span>\n",
       "</pre>\n"
      ],
      "text/plain": [
       "\u001b[1;35mMetrics:\u001b[0m\n"
      ]
     },
     "metadata": {},
     "output_type": "display_data"
    },
    {
     "data": {
      "text/html": [
       "<pre style=\"white-space:pre;overflow-x:auto;line-height:normal;font-family:Menlo,'DejaVu Sans Mono',consolas,'Courier New',monospace\"><span style=\"font-style: italic\">       detection_head       </span>\n",
       "┏━━━━━━━━━━━━━━━┳━━━━━━━━━━┓\n",
       "┃<span style=\"color: #800080; text-decoration-color: #800080; font-weight: bold\"> Name          </span>┃<span style=\"color: #800080; text-decoration-color: #800080; font-weight: bold\"> Value    </span>┃\n",
       "┡━━━━━━━━━━━━━━━╇━━━━━━━━━━┩\n",
       "│<span style=\"color: #800080; text-decoration-color: #800080\"> detection_map </span>│<span style=\"color: #c0c0c0; text-decoration-color: #c0c0c0\"> 0.33193  </span>│\n",
       "│<span style=\"color: #800080; text-decoration-color: #800080\"> map_50        </span>│<span style=\"color: #c0c0c0; text-decoration-color: #c0c0c0\"> 0.45792  </span>│\n",
       "│<span style=\"color: #800080; text-decoration-color: #800080\"> map_75        </span>│<span style=\"color: #c0c0c0; text-decoration-color: #c0c0c0\"> 0.29059  </span>│\n",
       "│<span style=\"color: #800080; text-decoration-color: #800080\"> map_small     </span>│<span style=\"color: #c0c0c0; text-decoration-color: #c0c0c0\"> -1.00000 </span>│\n",
       "│<span style=\"color: #800080; text-decoration-color: #800080\"> map_medium    </span>│<span style=\"color: #c0c0c0; text-decoration-color: #c0c0c0\"> 0.00000  </span>│\n",
       "│<span style=\"color: #800080; text-decoration-color: #800080\"> map_large     </span>│<span style=\"color: #c0c0c0; text-decoration-color: #c0c0c0\"> 0.38762  </span>│\n",
       "│<span style=\"color: #800080; text-decoration-color: #800080\"> mar_1         </span>│<span style=\"color: #c0c0c0; text-decoration-color: #c0c0c0\"> 0.40357  </span>│\n",
       "│<span style=\"color: #800080; text-decoration-color: #800080\"> mar_10        </span>│<span style=\"color: #c0c0c0; text-decoration-color: #c0c0c0\"> 0.40357  </span>│\n",
       "│<span style=\"color: #800080; text-decoration-color: #800080\"> mar_100       </span>│<span style=\"color: #c0c0c0; text-decoration-color: #c0c0c0\"> 0.40357  </span>│\n",
       "│<span style=\"color: #800080; text-decoration-color: #800080\"> mar_small     </span>│<span style=\"color: #c0c0c0; text-decoration-color: #c0c0c0\"> -1.00000 </span>│\n",
       "│<span style=\"color: #800080; text-decoration-color: #800080\"> mar_medium    </span>│<span style=\"color: #c0c0c0; text-decoration-color: #c0c0c0\"> 0.00000  </span>│\n",
       "│<span style=\"color: #800080; text-decoration-color: #800080\"> mar_large     </span>│<span style=\"color: #c0c0c0; text-decoration-color: #c0c0c0\"> 0.62857  </span>│\n",
       "│<span style=\"color: #800080; text-decoration-color: #800080\"> f1_small      </span>│<span style=\"color: #c0c0c0; text-decoration-color: #c0c0c0\"> -1.00000 </span>│\n",
       "│<span style=\"color: #800080; text-decoration-color: #800080\"> f1_medium     </span>│<span style=\"color: #c0c0c0; text-decoration-color: #c0c0c0\"> nan      </span>│\n",
       "│<span style=\"color: #800080; text-decoration-color: #800080\"> f1_large      </span>│<span style=\"color: #c0c0c0; text-decoration-color: #c0c0c0\"> 0.47953  </span>│\n",
       "└───────────────┴──────────┘\n",
       "</pre>\n"
      ],
      "text/plain": [
       "\u001b[3m       detection_head       \u001b[0m\n",
       "┏━━━━━━━━━━━━━━━┳━━━━━━━━━━┓\n",
       "┃\u001b[1;35m \u001b[0m\u001b[1;35mName         \u001b[0m\u001b[1;35m \u001b[0m┃\u001b[1;35m \u001b[0m\u001b[1;35mValue   \u001b[0m\u001b[1;35m \u001b[0m┃\n",
       "┡━━━━━━━━━━━━━━━╇━━━━━━━━━━┩\n",
       "│\u001b[35m \u001b[0m\u001b[35mdetection_map\u001b[0m\u001b[35m \u001b[0m│\u001b[37m \u001b[0m\u001b[37m0.33193 \u001b[0m\u001b[37m \u001b[0m│\n",
       "│\u001b[35m \u001b[0m\u001b[35mmap_50       \u001b[0m\u001b[35m \u001b[0m│\u001b[37m \u001b[0m\u001b[37m0.45792 \u001b[0m\u001b[37m \u001b[0m│\n",
       "│\u001b[35m \u001b[0m\u001b[35mmap_75       \u001b[0m\u001b[35m \u001b[0m│\u001b[37m \u001b[0m\u001b[37m0.29059 \u001b[0m\u001b[37m \u001b[0m│\n",
       "│\u001b[35m \u001b[0m\u001b[35mmap_small    \u001b[0m\u001b[35m \u001b[0m│\u001b[37m \u001b[0m\u001b[37m-1.00000\u001b[0m\u001b[37m \u001b[0m│\n",
       "│\u001b[35m \u001b[0m\u001b[35mmap_medium   \u001b[0m\u001b[35m \u001b[0m│\u001b[37m \u001b[0m\u001b[37m0.00000 \u001b[0m\u001b[37m \u001b[0m│\n",
       "│\u001b[35m \u001b[0m\u001b[35mmap_large    \u001b[0m\u001b[35m \u001b[0m│\u001b[37m \u001b[0m\u001b[37m0.38762 \u001b[0m\u001b[37m \u001b[0m│\n",
       "│\u001b[35m \u001b[0m\u001b[35mmar_1        \u001b[0m\u001b[35m \u001b[0m│\u001b[37m \u001b[0m\u001b[37m0.40357 \u001b[0m\u001b[37m \u001b[0m│\n",
       "│\u001b[35m \u001b[0m\u001b[35mmar_10       \u001b[0m\u001b[35m \u001b[0m│\u001b[37m \u001b[0m\u001b[37m0.40357 \u001b[0m\u001b[37m \u001b[0m│\n",
       "│\u001b[35m \u001b[0m\u001b[35mmar_100      \u001b[0m\u001b[35m \u001b[0m│\u001b[37m \u001b[0m\u001b[37m0.40357 \u001b[0m\u001b[37m \u001b[0m│\n",
       "│\u001b[35m \u001b[0m\u001b[35mmar_small    \u001b[0m\u001b[35m \u001b[0m│\u001b[37m \u001b[0m\u001b[37m-1.00000\u001b[0m\u001b[37m \u001b[0m│\n",
       "│\u001b[35m \u001b[0m\u001b[35mmar_medium   \u001b[0m\u001b[35m \u001b[0m│\u001b[37m \u001b[0m\u001b[37m0.00000 \u001b[0m\u001b[37m \u001b[0m│\n",
       "│\u001b[35m \u001b[0m\u001b[35mmar_large    \u001b[0m\u001b[35m \u001b[0m│\u001b[37m \u001b[0m\u001b[37m0.62857 \u001b[0m\u001b[37m \u001b[0m│\n",
       "│\u001b[35m \u001b[0m\u001b[35mf1_small     \u001b[0m\u001b[35m \u001b[0m│\u001b[37m \u001b[0m\u001b[37m-1.00000\u001b[0m\u001b[37m \u001b[0m│\n",
       "│\u001b[35m \u001b[0m\u001b[35mf1_medium    \u001b[0m\u001b[35m \u001b[0m│\u001b[37m \u001b[0m\u001b[37mnan     \u001b[0m\u001b[37m \u001b[0m│\n",
       "│\u001b[35m \u001b[0m\u001b[35mf1_large     \u001b[0m\u001b[35m \u001b[0m│\u001b[37m \u001b[0m\u001b[37m0.47953 \u001b[0m\u001b[37m \u001b[0m│\n",
       "└───────────────┴──────────┘\n"
      ]
     },
     "metadata": {},
     "output_type": "display_data"
    },
    {
     "data": {
      "text/html": [
       "<pre style=\"white-space:pre;overflow-x:auto;line-height:normal;font-family:Menlo,'DejaVu Sans Mono',consolas,'Courier New',monospace\"><span style=\"color: #800080; text-decoration-color: #800080; font-weight: bold\">───────────────────────────────────────────────────────────────────────────────────────────────────────────────────</span>\n",
       "</pre>\n"
      ],
      "text/plain": [
       "\u001b[1;35m───────────────────────────────────────────────────────────────────────────────────────────────────────────────────\u001b[0m\n"
      ]
     },
     "metadata": {},
     "output_type": "display_data"
    },
    {
     "data": {
      "text/html": [
       "<pre style=\"white-space:pre;overflow-x:auto;line-height:normal;font-family:Menlo,'DejaVu Sans Mono',consolas,'Courier New',monospace\"><span style=\"color: #008000; text-decoration-color: #008000\">INFO    </span> Validation main metric <span style=\"font-weight: bold\">(</span>detection_head/detection_map<span style=\"font-weight: bold\">)</span>: <span style=\"color: #008080; text-decoration-color: #008080; font-weight: bold\">0.3319</span>                     <a href=\"file:///opt/conda/lib/python3.11/site-packages/luxonis_train/models/luxonis_lightning.py\" target=\"_blank\"><span style=\"color: #7f7f7f; text-decoration-color: #7f7f7f\">luxonis_lightning.py</span></a><span style=\"color: #7f7f7f; text-decoration-color: #7f7f7f\">:</span><a href=\"file:///opt/conda/lib/python3.11/site-packages/luxonis_train/models/luxonis_lightning.py#924\" target=\"_blank\"><span style=\"color: #7f7f7f; text-decoration-color: #7f7f7f\">924</span></a>\n",
       "</pre>\n"
      ],
      "text/plain": [
       "\u001b[32mINFO    \u001b[0m Validation main metric \u001b[1m(\u001b[0mdetection_head/detection_map\u001b[1m)\u001b[0m: \u001b[1;36m0.3319\u001b[0m                     \u001b]8;id=991613;file:///opt/conda/lib/python3.11/site-packages/luxonis_train/models/luxonis_lightning.py\u001b\\\u001b[2mluxonis_lightning.py\u001b[0m\u001b]8;;\u001b\\\u001b[2m:\u001b[0m\u001b]8;id=15803;file:///opt/conda/lib/python3.11/site-packages/luxonis_train/models/luxonis_lightning.py#924\u001b\\\u001b[2m924\u001b[0m\u001b]8;;\u001b\\\n"
      ]
     },
     "metadata": {},
     "output_type": "display_data"
    },
    {
     "data": {
      "text/html": [
       "<pre style=\"white-space:pre;overflow-x:auto;line-height:normal;font-family:Menlo,'DejaVu Sans Mono',consolas,'Courier New',monospace\"></pre>\n"
      ],
      "text/plain": []
     },
     "metadata": {},
     "output_type": "display_data"
    },
    {
     "data": {
      "text/html": [
       "<pre style=\"white-space:pre;overflow-x:auto;line-height:normal;font-family:Menlo,'DejaVu Sans Mono',consolas,'Courier New',monospace\">\n",
       "</pre>\n"
      ],
      "text/plain": [
       "\n"
      ]
     },
     "metadata": {},
     "output_type": "display_data"
    },
    {
     "data": {
      "application/vnd.jupyter.widget-view+json": {
       "model_id": "c9eb56a446824bcebf80014e352e06b6",
       "version_major": 2,
       "version_minor": 0
      },
      "text/plain": [
       "Output()"
      ]
     },
     "metadata": {},
     "output_type": "display_data"
    },
    {
     "data": {
      "text/html": [
       "<pre style=\"white-space:pre;overflow-x:auto;line-height:normal;font-family:Menlo,'DejaVu Sans Mono',consolas,'Courier New',monospace\"></pre>\n"
      ],
      "text/plain": []
     },
     "metadata": {},
     "output_type": "display_data"
    },
    {
     "data": {
      "text/html": [
       "<pre style=\"white-space:pre;overflow-x:auto;line-height:normal;font-family:Menlo,'DejaVu Sans Mono',consolas,'Courier New',monospace\">\n",
       "</pre>\n"
      ],
      "text/plain": [
       "\n"
      ]
     },
     "metadata": {},
     "output_type": "display_data"
    },
    {
     "data": {
      "application/vnd.jupyter.widget-view+json": {
       "model_id": "f8fd6cfa18cd4aa484cfd5e84f2c8284",
       "version_major": 2,
       "version_minor": 0
      },
      "text/plain": [
       "Output()"
      ]
     },
     "metadata": {},
     "output_type": "display_data"
    },
    {
     "data": {
      "text/html": [
       "<pre style=\"white-space:pre;overflow-x:auto;line-height:normal;font-family:Menlo,'DejaVu Sans Mono',consolas,'Courier New',monospace\"></pre>\n"
      ],
      "text/plain": []
     },
     "metadata": {},
     "output_type": "display_data"
    },
    {
     "data": {
      "text/html": [
       "<pre style=\"white-space:pre;overflow-x:auto;line-height:normal;font-family:Menlo,'DejaVu Sans Mono',consolas,'Courier New',monospace\">\n",
       "</pre>\n"
      ],
      "text/plain": [
       "\n"
      ]
     },
     "metadata": {},
     "output_type": "display_data"
    },
    {
     "data": {
      "application/vnd.jupyter.widget-view+json": {
       "model_id": "b9998f0ecab84d3f99404f666389484a",
       "version_major": 2,
       "version_minor": 0
      },
      "text/plain": [
       "Output()"
      ]
     },
     "metadata": {},
     "output_type": "display_data"
    },
    {
     "data": {
      "text/html": [
       "<pre style=\"white-space:pre;overflow-x:auto;line-height:normal;font-family:Menlo,'DejaVu Sans Mono',consolas,'Courier New',monospace\"></pre>\n"
      ],
      "text/plain": []
     },
     "metadata": {},
     "output_type": "display_data"
    },
    {
     "data": {
      "text/html": [
       "<pre style=\"white-space:pre;overflow-x:auto;line-height:normal;font-family:Menlo,'DejaVu Sans Mono',consolas,'Courier New',monospace\">\n",
       "</pre>\n"
      ],
      "text/plain": [
       "\n"
      ]
     },
     "metadata": {},
     "output_type": "display_data"
    },
    {
     "data": {
      "application/vnd.jupyter.widget-view+json": {
       "model_id": "a6e3698f664c40ae9b22fc375d496d84",
       "version_major": 2,
       "version_minor": 0
      },
      "text/plain": [
       "Output()"
      ]
     },
     "metadata": {},
     "output_type": "display_data"
    },
    {
     "data": {
      "text/html": [
       "<pre style=\"white-space:pre;overflow-x:auto;line-height:normal;font-family:Menlo,'DejaVu Sans Mono',consolas,'Courier New',monospace\"></pre>\n"
      ],
      "text/plain": []
     },
     "metadata": {},
     "output_type": "display_data"
    },
    {
     "data": {
      "text/html": [
       "<pre style=\"white-space:pre;overflow-x:auto;line-height:normal;font-family:Menlo,'DejaVu Sans Mono',consolas,'Courier New',monospace\">\n",
       "</pre>\n"
      ],
      "text/plain": [
       "\n"
      ]
     },
     "metadata": {},
     "output_type": "display_data"
    },
    {
     "data": {
      "application/vnd.jupyter.widget-view+json": {
       "model_id": "4d14f91f480e40f298f33dbf5c08c3ad",
       "version_major": 2,
       "version_minor": 0
      },
      "text/plain": [
       "Output()"
      ]
     },
     "metadata": {},
     "output_type": "display_data"
    },
    {
     "data": {
      "text/html": [
       "<pre style=\"white-space:pre;overflow-x:auto;line-height:normal;font-family:Menlo,'DejaVu Sans Mono',consolas,'Courier New',monospace\"></pre>\n"
      ],
      "text/plain": []
     },
     "metadata": {},
     "output_type": "display_data"
    },
    {
     "data": {
      "text/html": [
       "<pre style=\"white-space:pre;overflow-x:auto;line-height:normal;font-family:Menlo,'DejaVu Sans Mono',consolas,'Courier New',monospace\">\n",
       "</pre>\n"
      ],
      "text/plain": [
       "\n"
      ]
     },
     "metadata": {},
     "output_type": "display_data"
    },
    {
     "data": {
      "application/vnd.jupyter.widget-view+json": {
       "model_id": "ffc3f304b77e4fe58f5948b1c587febe",
       "version_major": 2,
       "version_minor": 0
      },
      "text/plain": [
       "Output()"
      ]
     },
     "metadata": {},
     "output_type": "display_data"
    },
    {
     "data": {
      "text/html": [
       "<pre style=\"white-space:pre;overflow-x:auto;line-height:normal;font-family:Menlo,'DejaVu Sans Mono',consolas,'Courier New',monospace\"></pre>\n"
      ],
      "text/plain": []
     },
     "metadata": {},
     "output_type": "display_data"
    },
    {
     "data": {
      "text/html": [
       "<pre style=\"white-space:pre;overflow-x:auto;line-height:normal;font-family:Menlo,'DejaVu Sans Mono',consolas,'Courier New',monospace\">\n",
       "</pre>\n"
      ],
      "text/plain": [
       "\n"
      ]
     },
     "metadata": {},
     "output_type": "display_data"
    },
    {
     "data": {
      "application/vnd.jupyter.widget-view+json": {
       "model_id": "ff6e60744c37461099e293c0b0e5029a",
       "version_major": 2,
       "version_minor": 0
      },
      "text/plain": [
       "Output()"
      ]
     },
     "metadata": {},
     "output_type": "display_data"
    },
    {
     "data": {
      "text/html": [
       "<pre style=\"white-space:pre;overflow-x:auto;line-height:normal;font-family:Menlo,'DejaVu Sans Mono',consolas,'Courier New',monospace\"></pre>\n"
      ],
      "text/plain": []
     },
     "metadata": {},
     "output_type": "display_data"
    },
    {
     "data": {
      "text/html": [
       "<pre style=\"white-space:pre;overflow-x:auto;line-height:normal;font-family:Menlo,'DejaVu Sans Mono',consolas,'Courier New',monospace\">\n",
       "</pre>\n"
      ],
      "text/plain": [
       "\n"
      ]
     },
     "metadata": {},
     "output_type": "display_data"
    },
    {
     "data": {
      "application/vnd.jupyter.widget-view+json": {
       "model_id": "f1e55d3021f04582b8d8179a5573ccee",
       "version_major": 2,
       "version_minor": 0
      },
      "text/plain": [
       "Output()"
      ]
     },
     "metadata": {},
     "output_type": "display_data"
    },
    {
     "data": {
      "text/html": [
       "<pre style=\"white-space:pre;overflow-x:auto;line-height:normal;font-family:Menlo,'DejaVu Sans Mono',consolas,'Courier New',monospace\"></pre>\n"
      ],
      "text/plain": []
     },
     "metadata": {},
     "output_type": "display_data"
    },
    {
     "data": {
      "text/html": [
       "<pre style=\"white-space:pre;overflow-x:auto;line-height:normal;font-family:Menlo,'DejaVu Sans Mono',consolas,'Courier New',monospace\">\n",
       "</pre>\n"
      ],
      "text/plain": [
       "\n"
      ]
     },
     "metadata": {},
     "output_type": "display_data"
    },
    {
     "data": {
      "application/vnd.jupyter.widget-view+json": {
       "model_id": "ebdd4a8a801046caafccfa51f7f6415a",
       "version_major": 2,
       "version_minor": 0
      },
      "text/plain": [
       "Output()"
      ]
     },
     "metadata": {},
     "output_type": "display_data"
    },
    {
     "data": {
      "text/html": [
       "<pre style=\"white-space:pre;overflow-x:auto;line-height:normal;font-family:Menlo,'DejaVu Sans Mono',consolas,'Courier New',monospace\"></pre>\n"
      ],
      "text/plain": []
     },
     "metadata": {},
     "output_type": "display_data"
    },
    {
     "data": {
      "text/html": [
       "<pre style=\"white-space:pre;overflow-x:auto;line-height:normal;font-family:Menlo,'DejaVu Sans Mono',consolas,'Courier New',monospace\">\n",
       "</pre>\n"
      ],
      "text/plain": [
       "\n"
      ]
     },
     "metadata": {},
     "output_type": "display_data"
    },
    {
     "data": {
      "application/vnd.jupyter.widget-view+json": {
       "model_id": "03c6d3578c2c4f8c9e85a00546d427ad",
       "version_major": 2,
       "version_minor": 0
      },
      "text/plain": [
       "Output()"
      ]
     },
     "metadata": {},
     "output_type": "display_data"
    },
    {
     "data": {
      "text/html": [
       "<pre style=\"white-space:pre;overflow-x:auto;line-height:normal;font-family:Menlo,'DejaVu Sans Mono',consolas,'Courier New',monospace\"><span style=\"color: #008000; text-decoration-color: #008000\">INFO    </span> Computing metrics on val subset <span style=\"color: #808000; text-decoration-color: #808000\">...</span>                                               <a href=\"file:///opt/conda/lib/python3.11/site-packages/luxonis_train/models/luxonis_lightning.py\" target=\"_blank\"><span style=\"color: #7f7f7f; text-decoration-color: #7f7f7f\">luxonis_lightning.py</span></a><span style=\"color: #7f7f7f; text-decoration-color: #7f7f7f\">:</span><a href=\"file:///opt/conda/lib/python3.11/site-packages/luxonis_train/models/luxonis_lightning.py#732\" target=\"_blank\"><span style=\"color: #7f7f7f; text-decoration-color: #7f7f7f\">732</span></a>\n",
       "</pre>\n"
      ],
      "text/plain": [
       "\u001b[32mINFO    \u001b[0m Computing metrics on val subset \u001b[33m...\u001b[0m                                               \u001b]8;id=214635;file:///opt/conda/lib/python3.11/site-packages/luxonis_train/models/luxonis_lightning.py\u001b\\\u001b[2mluxonis_lightning.py\u001b[0m\u001b]8;;\u001b\\\u001b[2m:\u001b[0m\u001b]8;id=717219;file:///opt/conda/lib/python3.11/site-packages/luxonis_train/models/luxonis_lightning.py#732\u001b\\\u001b[2m732\u001b[0m\u001b]8;;\u001b\\\n"
      ]
     },
     "metadata": {},
     "output_type": "display_data"
    },
    {
     "data": {
      "text/html": [
       "<pre style=\"white-space:pre;overflow-x:auto;line-height:normal;font-family:Menlo,'DejaVu Sans Mono',consolas,'Courier New',monospace\"><span style=\"color: #008000; text-decoration-color: #008000\">INFO    </span> Metrics computed.                                                                 <a href=\"file:///opt/conda/lib/python3.11/site-packages/luxonis_train/models/luxonis_lightning.py\" target=\"_blank\"><span style=\"color: #7f7f7f; text-decoration-color: #7f7f7f\">luxonis_lightning.py</span></a><span style=\"color: #7f7f7f; text-decoration-color: #7f7f7f\">:</span><a href=\"file:///opt/conda/lib/python3.11/site-packages/luxonis_train/models/luxonis_lightning.py#734\" target=\"_blank\"><span style=\"color: #7f7f7f; text-decoration-color: #7f7f7f\">734</span></a>\n",
       "</pre>\n"
      ],
      "text/plain": [
       "\u001b[32mINFO    \u001b[0m Metrics computed.                                                                 \u001b]8;id=553496;file:///opt/conda/lib/python3.11/site-packages/luxonis_train/models/luxonis_lightning.py\u001b\\\u001b[2mluxonis_lightning.py\u001b[0m\u001b]8;;\u001b\\\u001b[2m:\u001b[0m\u001b]8;id=143952;file:///opt/conda/lib/python3.11/site-packages/luxonis_train/models/luxonis_lightning.py#734\u001b\\\u001b[2m734\u001b[0m\u001b]8;;\u001b\\\n"
      ]
     },
     "metadata": {},
     "output_type": "display_data"
    },
    {
     "data": {
      "text/html": [
       "<pre style=\"white-space:pre;overflow-x:auto;line-height:normal;font-family:Menlo,'DejaVu Sans Mono',consolas,'Courier New',monospace\"><span style=\"color: #008000; text-decoration-color: #008000\">INFO    </span> Validation loss: <span style=\"color: #008080; text-decoration-color: #008080; font-weight: bold\">1.3787</span>                                                           <a href=\"file:///opt/conda/lib/python3.11/site-packages/luxonis_train/models/luxonis_lightning.py\" target=\"_blank\"><span style=\"color: #7f7f7f; text-decoration-color: #7f7f7f\">luxonis_lightning.py</span></a><span style=\"color: #7f7f7f; text-decoration-color: #7f7f7f\">:</span><a href=\"file:///opt/conda/lib/python3.11/site-packages/luxonis_train/models/luxonis_lightning.py#915\" target=\"_blank\"><span style=\"color: #7f7f7f; text-decoration-color: #7f7f7f\">915</span></a>\n",
       "</pre>\n"
      ],
      "text/plain": [
       "\u001b[32mINFO    \u001b[0m Validation loss: \u001b[1;36m1.3787\u001b[0m                                                           \u001b]8;id=256730;file:///opt/conda/lib/python3.11/site-packages/luxonis_train/models/luxonis_lightning.py\u001b\\\u001b[2mluxonis_lightning.py\u001b[0m\u001b]8;;\u001b\\\u001b[2m:\u001b[0m\u001b]8;id=985282;file:///opt/conda/lib/python3.11/site-packages/luxonis_train/models/luxonis_lightning.py#915\u001b\\\u001b[2m915\u001b[0m\u001b]8;;\u001b\\\n"
      ]
     },
     "metadata": {},
     "output_type": "display_data"
    },
    {
     "data": {
      "text/html": [
       "<pre style=\"white-space:pre;overflow-x:auto;line-height:normal;font-family:Menlo,'DejaVu Sans Mono',consolas,'Courier New',monospace\"><span style=\"color: #800080; text-decoration-color: #800080; font-weight: bold\">─────────────────────────────────────────────────── </span>Validation<span style=\"color: #800080; text-decoration-color: #800080; font-weight: bold\"> ────────────────────────────────────────────────────</span>\n",
       "</pre>\n"
      ],
      "text/plain": [
       "\u001b[1;35m─────────────────────────────────────────────────── \u001b[0mValidation\u001b[1;35m ────────────────────────────────────────────────────\u001b[0m\n"
      ]
     },
     "metadata": {},
     "output_type": "display_data"
    },
    {
     "data": {
      "text/html": [
       "<pre style=\"white-space:pre;overflow-x:auto;line-height:normal;font-family:Menlo,'DejaVu Sans Mono',consolas,'Courier New',monospace\"><span style=\"color: #800080; text-decoration-color: #800080; font-weight: bold\">Loss:</span> <span style=\"color: #c0c0c0; text-decoration-color: #c0c0c0; font-weight: bold\">1.378732442855835</span>\n",
       "</pre>\n"
      ],
      "text/plain": [
       "\u001b[1;35mLoss:\u001b[0m \u001b[1;37m1.378732442855835\u001b[0m\n"
      ]
     },
     "metadata": {},
     "output_type": "display_data"
    },
    {
     "data": {
      "text/html": [
       "<pre style=\"white-space:pre;overflow-x:auto;line-height:normal;font-family:Menlo,'DejaVu Sans Mono',consolas,'Courier New',monospace\"><span style=\"color: #800080; text-decoration-color: #800080; font-weight: bold\">Metrics:</span>\n",
       "</pre>\n"
      ],
      "text/plain": [
       "\u001b[1;35mMetrics:\u001b[0m\n"
      ]
     },
     "metadata": {},
     "output_type": "display_data"
    },
    {
     "data": {
      "text/html": [
       "<pre style=\"white-space:pre;overflow-x:auto;line-height:normal;font-family:Menlo,'DejaVu Sans Mono',consolas,'Courier New',monospace\"><span style=\"font-style: italic\">       detection_head       </span>\n",
       "┏━━━━━━━━━━━━━━━┳━━━━━━━━━━┓\n",
       "┃<span style=\"color: #800080; text-decoration-color: #800080; font-weight: bold\"> Name          </span>┃<span style=\"color: #800080; text-decoration-color: #800080; font-weight: bold\"> Value    </span>┃\n",
       "┡━━━━━━━━━━━━━━━╇━━━━━━━━━━┩\n",
       "│<span style=\"color: #800080; text-decoration-color: #800080\"> detection_map </span>│<span style=\"color: #c0c0c0; text-decoration-color: #c0c0c0\"> 0.28002  </span>│\n",
       "│<span style=\"color: #800080; text-decoration-color: #800080\"> map_50        </span>│<span style=\"color: #c0c0c0; text-decoration-color: #c0c0c0\"> 0.35252  </span>│\n",
       "│<span style=\"color: #800080; text-decoration-color: #800080\"> map_75        </span>│<span style=\"color: #c0c0c0; text-decoration-color: #c0c0c0\"> 0.31093  </span>│\n",
       "│<span style=\"color: #800080; text-decoration-color: #800080\"> map_small     </span>│<span style=\"color: #c0c0c0; text-decoration-color: #c0c0c0\"> -1.00000 </span>│\n",
       "│<span style=\"color: #800080; text-decoration-color: #800080\"> map_medium    </span>│<span style=\"color: #c0c0c0; text-decoration-color: #c0c0c0\"> 0.00000  </span>│\n",
       "│<span style=\"color: #800080; text-decoration-color: #800080\"> map_large     </span>│<span style=\"color: #c0c0c0; text-decoration-color: #c0c0c0\"> 0.34151  </span>│\n",
       "│<span style=\"color: #800080; text-decoration-color: #800080\"> mar_1         </span>│<span style=\"color: #c0c0c0; text-decoration-color: #c0c0c0\"> 0.42411  </span>│\n",
       "│<span style=\"color: #800080; text-decoration-color: #800080\"> mar_10        </span>│<span style=\"color: #c0c0c0; text-decoration-color: #c0c0c0\"> 0.42411  </span>│\n",
       "│<span style=\"color: #800080; text-decoration-color: #800080\"> mar_100       </span>│<span style=\"color: #c0c0c0; text-decoration-color: #c0c0c0\"> 0.42411  </span>│\n",
       "│<span style=\"color: #800080; text-decoration-color: #800080\"> mar_small     </span>│<span style=\"color: #c0c0c0; text-decoration-color: #c0c0c0\"> -1.00000 </span>│\n",
       "│<span style=\"color: #800080; text-decoration-color: #800080\"> mar_medium    </span>│<span style=\"color: #c0c0c0; text-decoration-color: #c0c0c0\"> 0.00000  </span>│\n",
       "│<span style=\"color: #800080; text-decoration-color: #800080\"> mar_large     </span>│<span style=\"color: #c0c0c0; text-decoration-color: #c0c0c0\"> 0.66786  </span>│\n",
       "│<span style=\"color: #800080; text-decoration-color: #800080\"> f1_small      </span>│<span style=\"color: #c0c0c0; text-decoration-color: #c0c0c0\"> -1.00000 </span>│\n",
       "│<span style=\"color: #800080; text-decoration-color: #800080\"> f1_medium     </span>│<span style=\"color: #c0c0c0; text-decoration-color: #c0c0c0\"> nan      </span>│\n",
       "│<span style=\"color: #800080; text-decoration-color: #800080\"> f1_large      </span>│<span style=\"color: #c0c0c0; text-decoration-color: #c0c0c0\"> 0.45193  </span>│\n",
       "└───────────────┴──────────┘\n",
       "</pre>\n"
      ],
      "text/plain": [
       "\u001b[3m       detection_head       \u001b[0m\n",
       "┏━━━━━━━━━━━━━━━┳━━━━━━━━━━┓\n",
       "┃\u001b[1;35m \u001b[0m\u001b[1;35mName         \u001b[0m\u001b[1;35m \u001b[0m┃\u001b[1;35m \u001b[0m\u001b[1;35mValue   \u001b[0m\u001b[1;35m \u001b[0m┃\n",
       "┡━━━━━━━━━━━━━━━╇━━━━━━━━━━┩\n",
       "│\u001b[35m \u001b[0m\u001b[35mdetection_map\u001b[0m\u001b[35m \u001b[0m│\u001b[37m \u001b[0m\u001b[37m0.28002 \u001b[0m\u001b[37m \u001b[0m│\n",
       "│\u001b[35m \u001b[0m\u001b[35mmap_50       \u001b[0m\u001b[35m \u001b[0m│\u001b[37m \u001b[0m\u001b[37m0.35252 \u001b[0m\u001b[37m \u001b[0m│\n",
       "│\u001b[35m \u001b[0m\u001b[35mmap_75       \u001b[0m\u001b[35m \u001b[0m│\u001b[37m \u001b[0m\u001b[37m0.31093 \u001b[0m\u001b[37m \u001b[0m│\n",
       "│\u001b[35m \u001b[0m\u001b[35mmap_small    \u001b[0m\u001b[35m \u001b[0m│\u001b[37m \u001b[0m\u001b[37m-1.00000\u001b[0m\u001b[37m \u001b[0m│\n",
       "│\u001b[35m \u001b[0m\u001b[35mmap_medium   \u001b[0m\u001b[35m \u001b[0m│\u001b[37m \u001b[0m\u001b[37m0.00000 \u001b[0m\u001b[37m \u001b[0m│\n",
       "│\u001b[35m \u001b[0m\u001b[35mmap_large    \u001b[0m\u001b[35m \u001b[0m│\u001b[37m \u001b[0m\u001b[37m0.34151 \u001b[0m\u001b[37m \u001b[0m│\n",
       "│\u001b[35m \u001b[0m\u001b[35mmar_1        \u001b[0m\u001b[35m \u001b[0m│\u001b[37m \u001b[0m\u001b[37m0.42411 \u001b[0m\u001b[37m \u001b[0m│\n",
       "│\u001b[35m \u001b[0m\u001b[35mmar_10       \u001b[0m\u001b[35m \u001b[0m│\u001b[37m \u001b[0m\u001b[37m0.42411 \u001b[0m\u001b[37m \u001b[0m│\n",
       "│\u001b[35m \u001b[0m\u001b[35mmar_100      \u001b[0m\u001b[35m \u001b[0m│\u001b[37m \u001b[0m\u001b[37m0.42411 \u001b[0m\u001b[37m \u001b[0m│\n",
       "│\u001b[35m \u001b[0m\u001b[35mmar_small    \u001b[0m\u001b[35m \u001b[0m│\u001b[37m \u001b[0m\u001b[37m-1.00000\u001b[0m\u001b[37m \u001b[0m│\n",
       "│\u001b[35m \u001b[0m\u001b[35mmar_medium   \u001b[0m\u001b[35m \u001b[0m│\u001b[37m \u001b[0m\u001b[37m0.00000 \u001b[0m\u001b[37m \u001b[0m│\n",
       "│\u001b[35m \u001b[0m\u001b[35mmar_large    \u001b[0m\u001b[35m \u001b[0m│\u001b[37m \u001b[0m\u001b[37m0.66786 \u001b[0m\u001b[37m \u001b[0m│\n",
       "│\u001b[35m \u001b[0m\u001b[35mf1_small     \u001b[0m\u001b[35m \u001b[0m│\u001b[37m \u001b[0m\u001b[37m-1.00000\u001b[0m\u001b[37m \u001b[0m│\n",
       "│\u001b[35m \u001b[0m\u001b[35mf1_medium    \u001b[0m\u001b[35m \u001b[0m│\u001b[37m \u001b[0m\u001b[37mnan     \u001b[0m\u001b[37m \u001b[0m│\n",
       "│\u001b[35m \u001b[0m\u001b[35mf1_large     \u001b[0m\u001b[35m \u001b[0m│\u001b[37m \u001b[0m\u001b[37m0.45193 \u001b[0m\u001b[37m \u001b[0m│\n",
       "└───────────────┴──────────┘\n"
      ]
     },
     "metadata": {},
     "output_type": "display_data"
    },
    {
     "data": {
      "text/html": [
       "<pre style=\"white-space:pre;overflow-x:auto;line-height:normal;font-family:Menlo,'DejaVu Sans Mono',consolas,'Courier New',monospace\"><span style=\"color: #800080; text-decoration-color: #800080; font-weight: bold\">───────────────────────────────────────────────────────────────────────────────────────────────────────────────────</span>\n",
       "</pre>\n"
      ],
      "text/plain": [
       "\u001b[1;35m───────────────────────────────────────────────────────────────────────────────────────────────────────────────────\u001b[0m\n"
      ]
     },
     "metadata": {},
     "output_type": "display_data"
    },
    {
     "data": {
      "text/html": [
       "<pre style=\"white-space:pre;overflow-x:auto;line-height:normal;font-family:Menlo,'DejaVu Sans Mono',consolas,'Courier New',monospace\"><span style=\"color: #008000; text-decoration-color: #008000\">INFO    </span> Validation main metric <span style=\"font-weight: bold\">(</span>detection_head/detection_map<span style=\"font-weight: bold\">)</span>: <span style=\"color: #008080; text-decoration-color: #008080; font-weight: bold\">0.2800</span>                     <a href=\"file:///opt/conda/lib/python3.11/site-packages/luxonis_train/models/luxonis_lightning.py\" target=\"_blank\"><span style=\"color: #7f7f7f; text-decoration-color: #7f7f7f\">luxonis_lightning.py</span></a><span style=\"color: #7f7f7f; text-decoration-color: #7f7f7f\">:</span><a href=\"file:///opt/conda/lib/python3.11/site-packages/luxonis_train/models/luxonis_lightning.py#924\" target=\"_blank\"><span style=\"color: #7f7f7f; text-decoration-color: #7f7f7f\">924</span></a>\n",
       "</pre>\n"
      ],
      "text/plain": [
       "\u001b[32mINFO    \u001b[0m Validation main metric \u001b[1m(\u001b[0mdetection_head/detection_map\u001b[1m)\u001b[0m: \u001b[1;36m0.2800\u001b[0m                     \u001b]8;id=132273;file:///opt/conda/lib/python3.11/site-packages/luxonis_train/models/luxonis_lightning.py\u001b\\\u001b[2mluxonis_lightning.py\u001b[0m\u001b]8;;\u001b\\\u001b[2m:\u001b[0m\u001b]8;id=13773;file:///opt/conda/lib/python3.11/site-packages/luxonis_train/models/luxonis_lightning.py#924\u001b\\\u001b[2m924\u001b[0m\u001b]8;;\u001b\\\n"
      ]
     },
     "metadata": {},
     "output_type": "display_data"
    },
    {
     "data": {
      "text/html": [
       "<pre style=\"white-space:pre;overflow-x:auto;line-height:normal;font-family:Menlo,'DejaVu Sans Mono',consolas,'Courier New',monospace\"></pre>\n"
      ],
      "text/plain": []
     },
     "metadata": {},
     "output_type": "display_data"
    },
    {
     "data": {
      "text/html": [
       "<pre style=\"white-space:pre;overflow-x:auto;line-height:normal;font-family:Menlo,'DejaVu Sans Mono',consolas,'Courier New',monospace\">\n",
       "</pre>\n"
      ],
      "text/plain": [
       "\n"
      ]
     },
     "metadata": {},
     "output_type": "display_data"
    },
    {
     "data": {
      "application/vnd.jupyter.widget-view+json": {
       "model_id": "30c8decafdca471ca929186a920e4053",
       "version_major": 2,
       "version_minor": 0
      },
      "text/plain": [
       "Output()"
      ]
     },
     "metadata": {},
     "output_type": "display_data"
    },
    {
     "data": {
      "text/html": [
       "<pre style=\"white-space:pre;overflow-x:auto;line-height:normal;font-family:Menlo,'DejaVu Sans Mono',consolas,'Courier New',monospace\"></pre>\n"
      ],
      "text/plain": []
     },
     "metadata": {},
     "output_type": "display_data"
    },
    {
     "data": {
      "text/html": [
       "<pre style=\"white-space:pre;overflow-x:auto;line-height:normal;font-family:Menlo,'DejaVu Sans Mono',consolas,'Courier New',monospace\">\n",
       "</pre>\n"
      ],
      "text/plain": [
       "\n"
      ]
     },
     "metadata": {},
     "output_type": "display_data"
    },
    {
     "data": {
      "application/vnd.jupyter.widget-view+json": {
       "model_id": "47ca090c8e684d13a69b42152e7fa500",
       "version_major": 2,
       "version_minor": 0
      },
      "text/plain": [
       "Output()"
      ]
     },
     "metadata": {},
     "output_type": "display_data"
    },
    {
     "data": {
      "text/html": [
       "<pre style=\"white-space:pre;overflow-x:auto;line-height:normal;font-family:Menlo,'DejaVu Sans Mono',consolas,'Courier New',monospace\"></pre>\n"
      ],
      "text/plain": []
     },
     "metadata": {},
     "output_type": "display_data"
    },
    {
     "data": {
      "text/html": [
       "<pre style=\"white-space:pre;overflow-x:auto;line-height:normal;font-family:Menlo,'DejaVu Sans Mono',consolas,'Courier New',monospace\">\n",
       "</pre>\n"
      ],
      "text/plain": [
       "\n"
      ]
     },
     "metadata": {},
     "output_type": "display_data"
    },
    {
     "data": {
      "application/vnd.jupyter.widget-view+json": {
       "model_id": "fdcf1bb988844f49bbef6bf2e76f4d6d",
       "version_major": 2,
       "version_minor": 0
      },
      "text/plain": [
       "Output()"
      ]
     },
     "metadata": {},
     "output_type": "display_data"
    },
    {
     "data": {
      "text/html": [
       "<pre style=\"white-space:pre;overflow-x:auto;line-height:normal;font-family:Menlo,'DejaVu Sans Mono',consolas,'Courier New',monospace\"></pre>\n"
      ],
      "text/plain": []
     },
     "metadata": {},
     "output_type": "display_data"
    },
    {
     "data": {
      "text/html": [
       "<pre style=\"white-space:pre;overflow-x:auto;line-height:normal;font-family:Menlo,'DejaVu Sans Mono',consolas,'Courier New',monospace\">\n",
       "</pre>\n"
      ],
      "text/plain": [
       "\n"
      ]
     },
     "metadata": {},
     "output_type": "display_data"
    },
    {
     "data": {
      "application/vnd.jupyter.widget-view+json": {
       "model_id": "af034edb10f74c20a1e46ec0e3b83f06",
       "version_major": 2,
       "version_minor": 0
      },
      "text/plain": [
       "Output()"
      ]
     },
     "metadata": {},
     "output_type": "display_data"
    },
    {
     "data": {
      "text/html": [
       "<pre style=\"white-space:pre;overflow-x:auto;line-height:normal;font-family:Menlo,'DejaVu Sans Mono',consolas,'Courier New',monospace\"></pre>\n"
      ],
      "text/plain": []
     },
     "metadata": {},
     "output_type": "display_data"
    },
    {
     "data": {
      "text/html": [
       "<pre style=\"white-space:pre;overflow-x:auto;line-height:normal;font-family:Menlo,'DejaVu Sans Mono',consolas,'Courier New',monospace\">\n",
       "</pre>\n"
      ],
      "text/plain": [
       "\n"
      ]
     },
     "metadata": {},
     "output_type": "display_data"
    },
    {
     "data": {
      "application/vnd.jupyter.widget-view+json": {
       "model_id": "35067c06afad4359979d653d5b1a93de",
       "version_major": 2,
       "version_minor": 0
      },
      "text/plain": [
       "Output()"
      ]
     },
     "metadata": {},
     "output_type": "display_data"
    },
    {
     "data": {
      "text/html": [
       "<pre style=\"white-space:pre;overflow-x:auto;line-height:normal;font-family:Menlo,'DejaVu Sans Mono',consolas,'Courier New',monospace\"></pre>\n"
      ],
      "text/plain": []
     },
     "metadata": {},
     "output_type": "display_data"
    },
    {
     "data": {
      "text/html": [
       "<pre style=\"white-space:pre;overflow-x:auto;line-height:normal;font-family:Menlo,'DejaVu Sans Mono',consolas,'Courier New',monospace\">\n",
       "</pre>\n"
      ],
      "text/plain": [
       "\n"
      ]
     },
     "metadata": {},
     "output_type": "display_data"
    },
    {
     "data": {
      "application/vnd.jupyter.widget-view+json": {
       "model_id": "c92c1fb7272f4101a7a5f4f0c899e457",
       "version_major": 2,
       "version_minor": 0
      },
      "text/plain": [
       "Output()"
      ]
     },
     "metadata": {},
     "output_type": "display_data"
    },
    {
     "data": {
      "text/html": [
       "<pre style=\"white-space:pre;overflow-x:auto;line-height:normal;font-family:Menlo,'DejaVu Sans Mono',consolas,'Courier New',monospace\"></pre>\n"
      ],
      "text/plain": []
     },
     "metadata": {},
     "output_type": "display_data"
    },
    {
     "data": {
      "text/html": [
       "<pre style=\"white-space:pre;overflow-x:auto;line-height:normal;font-family:Menlo,'DejaVu Sans Mono',consolas,'Courier New',monospace\">\n",
       "</pre>\n"
      ],
      "text/plain": [
       "\n"
      ]
     },
     "metadata": {},
     "output_type": "display_data"
    },
    {
     "data": {
      "application/vnd.jupyter.widget-view+json": {
       "model_id": "c725dd545f6c4a888e6446fd86d5a6ae",
       "version_major": 2,
       "version_minor": 0
      },
      "text/plain": [
       "Output()"
      ]
     },
     "metadata": {},
     "output_type": "display_data"
    },
    {
     "data": {
      "text/html": [
       "<pre style=\"white-space:pre;overflow-x:auto;line-height:normal;font-family:Menlo,'DejaVu Sans Mono',consolas,'Courier New',monospace\"></pre>\n"
      ],
      "text/plain": []
     },
     "metadata": {},
     "output_type": "display_data"
    },
    {
     "data": {
      "text/html": [
       "<pre style=\"white-space:pre;overflow-x:auto;line-height:normal;font-family:Menlo,'DejaVu Sans Mono',consolas,'Courier New',monospace\">\n",
       "</pre>\n"
      ],
      "text/plain": [
       "\n"
      ]
     },
     "metadata": {},
     "output_type": "display_data"
    },
    {
     "data": {
      "application/vnd.jupyter.widget-view+json": {
       "model_id": "004d23c82776488ab6d1c84354d4e704",
       "version_major": 2,
       "version_minor": 0
      },
      "text/plain": [
       "Output()"
      ]
     },
     "metadata": {},
     "output_type": "display_data"
    },
    {
     "data": {
      "text/html": [
       "<pre style=\"white-space:pre;overflow-x:auto;line-height:normal;font-family:Menlo,'DejaVu Sans Mono',consolas,'Courier New',monospace\"></pre>\n"
      ],
      "text/plain": []
     },
     "metadata": {},
     "output_type": "display_data"
    },
    {
     "data": {
      "text/html": [
       "<pre style=\"white-space:pre;overflow-x:auto;line-height:normal;font-family:Menlo,'DejaVu Sans Mono',consolas,'Courier New',monospace\">\n",
       "</pre>\n"
      ],
      "text/plain": [
       "\n"
      ]
     },
     "metadata": {},
     "output_type": "display_data"
    },
    {
     "data": {
      "application/vnd.jupyter.widget-view+json": {
       "model_id": "983920407498473aa0f8e7c06a570f31",
       "version_major": 2,
       "version_minor": 0
      },
      "text/plain": [
       "Output()"
      ]
     },
     "metadata": {},
     "output_type": "display_data"
    },
    {
     "data": {
      "text/html": [
       "<pre style=\"white-space:pre;overflow-x:auto;line-height:normal;font-family:Menlo,'DejaVu Sans Mono',consolas,'Courier New',monospace\"></pre>\n"
      ],
      "text/plain": []
     },
     "metadata": {},
     "output_type": "display_data"
    },
    {
     "data": {
      "text/html": [
       "<pre style=\"white-space:pre;overflow-x:auto;line-height:normal;font-family:Menlo,'DejaVu Sans Mono',consolas,'Courier New',monospace\">\n",
       "</pre>\n"
      ],
      "text/plain": [
       "\n"
      ]
     },
     "metadata": {},
     "output_type": "display_data"
    },
    {
     "data": {
      "application/vnd.jupyter.widget-view+json": {
       "model_id": "cf866b7d493446a485b0e88b3d8f8485",
       "version_major": 2,
       "version_minor": 0
      },
      "text/plain": [
       "Output()"
      ]
     },
     "metadata": {},
     "output_type": "display_data"
    },
    {
     "data": {
      "text/html": [
       "<pre style=\"white-space:pre;overflow-x:auto;line-height:normal;font-family:Menlo,'DejaVu Sans Mono',consolas,'Courier New',monospace\"><span style=\"color: #008000; text-decoration-color: #008000\">INFO    </span> Computing metrics on val subset <span style=\"color: #808000; text-decoration-color: #808000\">...</span>                                               <a href=\"file:///opt/conda/lib/python3.11/site-packages/luxonis_train/models/luxonis_lightning.py\" target=\"_blank\"><span style=\"color: #7f7f7f; text-decoration-color: #7f7f7f\">luxonis_lightning.py</span></a><span style=\"color: #7f7f7f; text-decoration-color: #7f7f7f\">:</span><a href=\"file:///opt/conda/lib/python3.11/site-packages/luxonis_train/models/luxonis_lightning.py#732\" target=\"_blank\"><span style=\"color: #7f7f7f; text-decoration-color: #7f7f7f\">732</span></a>\n",
       "</pre>\n"
      ],
      "text/plain": [
       "\u001b[32mINFO    \u001b[0m Computing metrics on val subset \u001b[33m...\u001b[0m                                               \u001b]8;id=219915;file:///opt/conda/lib/python3.11/site-packages/luxonis_train/models/luxonis_lightning.py\u001b\\\u001b[2mluxonis_lightning.py\u001b[0m\u001b]8;;\u001b\\\u001b[2m:\u001b[0m\u001b]8;id=423865;file:///opt/conda/lib/python3.11/site-packages/luxonis_train/models/luxonis_lightning.py#732\u001b\\\u001b[2m732\u001b[0m\u001b]8;;\u001b\\\n"
      ]
     },
     "metadata": {},
     "output_type": "display_data"
    },
    {
     "data": {
      "text/html": [
       "<pre style=\"white-space:pre;overflow-x:auto;line-height:normal;font-family:Menlo,'DejaVu Sans Mono',consolas,'Courier New',monospace\"><span style=\"color: #008000; text-decoration-color: #008000\">INFO    </span> Metrics computed.                                                                 <a href=\"file:///opt/conda/lib/python3.11/site-packages/luxonis_train/models/luxonis_lightning.py\" target=\"_blank\"><span style=\"color: #7f7f7f; text-decoration-color: #7f7f7f\">luxonis_lightning.py</span></a><span style=\"color: #7f7f7f; text-decoration-color: #7f7f7f\">:</span><a href=\"file:///opt/conda/lib/python3.11/site-packages/luxonis_train/models/luxonis_lightning.py#734\" target=\"_blank\"><span style=\"color: #7f7f7f; text-decoration-color: #7f7f7f\">734</span></a>\n",
       "</pre>\n"
      ],
      "text/plain": [
       "\u001b[32mINFO    \u001b[0m Metrics computed.                                                                 \u001b]8;id=800518;file:///opt/conda/lib/python3.11/site-packages/luxonis_train/models/luxonis_lightning.py\u001b\\\u001b[2mluxonis_lightning.py\u001b[0m\u001b]8;;\u001b\\\u001b[2m:\u001b[0m\u001b]8;id=655233;file:///opt/conda/lib/python3.11/site-packages/luxonis_train/models/luxonis_lightning.py#734\u001b\\\u001b[2m734\u001b[0m\u001b]8;;\u001b\\\n"
      ]
     },
     "metadata": {},
     "output_type": "display_data"
    },
    {
     "data": {
      "text/html": [
       "<pre style=\"white-space:pre;overflow-x:auto;line-height:normal;font-family:Menlo,'DejaVu Sans Mono',consolas,'Courier New',monospace\"><span style=\"color: #008000; text-decoration-color: #008000\">INFO    </span> Validation loss: <span style=\"color: #008080; text-decoration-color: #008080; font-weight: bold\">1.4874</span>                                                           <a href=\"file:///opt/conda/lib/python3.11/site-packages/luxonis_train/models/luxonis_lightning.py\" target=\"_blank\"><span style=\"color: #7f7f7f; text-decoration-color: #7f7f7f\">luxonis_lightning.py</span></a><span style=\"color: #7f7f7f; text-decoration-color: #7f7f7f\">:</span><a href=\"file:///opt/conda/lib/python3.11/site-packages/luxonis_train/models/luxonis_lightning.py#915\" target=\"_blank\"><span style=\"color: #7f7f7f; text-decoration-color: #7f7f7f\">915</span></a>\n",
       "</pre>\n"
      ],
      "text/plain": [
       "\u001b[32mINFO    \u001b[0m Validation loss: \u001b[1;36m1.4874\u001b[0m                                                           \u001b]8;id=755191;file:///opt/conda/lib/python3.11/site-packages/luxonis_train/models/luxonis_lightning.py\u001b\\\u001b[2mluxonis_lightning.py\u001b[0m\u001b]8;;\u001b\\\u001b[2m:\u001b[0m\u001b]8;id=700449;file:///opt/conda/lib/python3.11/site-packages/luxonis_train/models/luxonis_lightning.py#915\u001b\\\u001b[2m915\u001b[0m\u001b]8;;\u001b\\\n"
      ]
     },
     "metadata": {},
     "output_type": "display_data"
    },
    {
     "data": {
      "text/html": [
       "<pre style=\"white-space:pre;overflow-x:auto;line-height:normal;font-family:Menlo,'DejaVu Sans Mono',consolas,'Courier New',monospace\"><span style=\"color: #800080; text-decoration-color: #800080; font-weight: bold\">─────────────────────────────────────────────────── </span>Validation<span style=\"color: #800080; text-decoration-color: #800080; font-weight: bold\"> ────────────────────────────────────────────────────</span>\n",
       "</pre>\n"
      ],
      "text/plain": [
       "\u001b[1;35m─────────────────────────────────────────────────── \u001b[0mValidation\u001b[1;35m ────────────────────────────────────────────────────\u001b[0m\n"
      ]
     },
     "metadata": {},
     "output_type": "display_data"
    },
    {
     "data": {
      "text/html": [
       "<pre style=\"white-space:pre;overflow-x:auto;line-height:normal;font-family:Menlo,'DejaVu Sans Mono',consolas,'Courier New',monospace\"><span style=\"color: #800080; text-decoration-color: #800080; font-weight: bold\">Loss:</span> <span style=\"color: #c0c0c0; text-decoration-color: #c0c0c0; font-weight: bold\">1.4874083995819092</span>\n",
       "</pre>\n"
      ],
      "text/plain": [
       "\u001b[1;35mLoss:\u001b[0m \u001b[1;37m1.4874083995819092\u001b[0m\n"
      ]
     },
     "metadata": {},
     "output_type": "display_data"
    },
    {
     "data": {
      "text/html": [
       "<pre style=\"white-space:pre;overflow-x:auto;line-height:normal;font-family:Menlo,'DejaVu Sans Mono',consolas,'Courier New',monospace\"><span style=\"color: #800080; text-decoration-color: #800080; font-weight: bold\">Metrics:</span>\n",
       "</pre>\n"
      ],
      "text/plain": [
       "\u001b[1;35mMetrics:\u001b[0m\n"
      ]
     },
     "metadata": {},
     "output_type": "display_data"
    },
    {
     "data": {
      "text/html": [
       "<pre style=\"white-space:pre;overflow-x:auto;line-height:normal;font-family:Menlo,'DejaVu Sans Mono',consolas,'Courier New',monospace\"><span style=\"font-style: italic\">       detection_head       </span>\n",
       "┏━━━━━━━━━━━━━━━┳━━━━━━━━━━┓\n",
       "┃<span style=\"color: #800080; text-decoration-color: #800080; font-weight: bold\"> Name          </span>┃<span style=\"color: #800080; text-decoration-color: #800080; font-weight: bold\"> Value    </span>┃\n",
       "┡━━━━━━━━━━━━━━━╇━━━━━━━━━━┩\n",
       "│<span style=\"color: #800080; text-decoration-color: #800080\"> detection_map </span>│<span style=\"color: #c0c0c0; text-decoration-color: #c0c0c0\"> 0.17879  </span>│\n",
       "│<span style=\"color: #800080; text-decoration-color: #800080\"> map_50        </span>│<span style=\"color: #c0c0c0; text-decoration-color: #c0c0c0\"> 0.23479  </span>│\n",
       "│<span style=\"color: #800080; text-decoration-color: #800080\"> map_75        </span>│<span style=\"color: #c0c0c0; text-decoration-color: #c0c0c0\"> 0.16851  </span>│\n",
       "│<span style=\"color: #800080; text-decoration-color: #800080\"> map_small     </span>│<span style=\"color: #c0c0c0; text-decoration-color: #c0c0c0\"> -1.00000 </span>│\n",
       "│<span style=\"color: #800080; text-decoration-color: #800080\"> map_medium    </span>│<span style=\"color: #c0c0c0; text-decoration-color: #c0c0c0\"> 0.00000  </span>│\n",
       "│<span style=\"color: #800080; text-decoration-color: #800080\"> map_large     </span>│<span style=\"color: #c0c0c0; text-decoration-color: #c0c0c0\"> 0.26292  </span>│\n",
       "│<span style=\"color: #800080; text-decoration-color: #800080\"> mar_1         </span>│<span style=\"color: #c0c0c0; text-decoration-color: #c0c0c0\"> 0.38839  </span>│\n",
       "│<span style=\"color: #800080; text-decoration-color: #800080\"> mar_10        </span>│<span style=\"color: #c0c0c0; text-decoration-color: #c0c0c0\"> 0.38839  </span>│\n",
       "│<span style=\"color: #800080; text-decoration-color: #800080\"> mar_100       </span>│<span style=\"color: #c0c0c0; text-decoration-color: #c0c0c0\"> 0.38839  </span>│\n",
       "│<span style=\"color: #800080; text-decoration-color: #800080\"> mar_small     </span>│<span style=\"color: #c0c0c0; text-decoration-color: #c0c0c0\"> -1.00000 </span>│\n",
       "│<span style=\"color: #800080; text-decoration-color: #800080\"> mar_medium    </span>│<span style=\"color: #c0c0c0; text-decoration-color: #c0c0c0\"> 0.00000  </span>│\n",
       "│<span style=\"color: #800080; text-decoration-color: #800080\"> mar_large     </span>│<span style=\"color: #c0c0c0; text-decoration-color: #c0c0c0\"> 0.63214  </span>│\n",
       "│<span style=\"color: #800080; text-decoration-color: #800080\"> f1_small      </span>│<span style=\"color: #c0c0c0; text-decoration-color: #c0c0c0\"> -1.00000 </span>│\n",
       "│<span style=\"color: #800080; text-decoration-color: #800080\"> f1_medium     </span>│<span style=\"color: #c0c0c0; text-decoration-color: #c0c0c0\"> nan      </span>│\n",
       "│<span style=\"color: #800080; text-decoration-color: #800080\"> f1_large      </span>│<span style=\"color: #c0c0c0; text-decoration-color: #c0c0c0\"> 0.37138  </span>│\n",
       "└───────────────┴──────────┘\n",
       "</pre>\n"
      ],
      "text/plain": [
       "\u001b[3m       detection_head       \u001b[0m\n",
       "┏━━━━━━━━━━━━━━━┳━━━━━━━━━━┓\n",
       "┃\u001b[1;35m \u001b[0m\u001b[1;35mName         \u001b[0m\u001b[1;35m \u001b[0m┃\u001b[1;35m \u001b[0m\u001b[1;35mValue   \u001b[0m\u001b[1;35m \u001b[0m┃\n",
       "┡━━━━━━━━━━━━━━━╇━━━━━━━━━━┩\n",
       "│\u001b[35m \u001b[0m\u001b[35mdetection_map\u001b[0m\u001b[35m \u001b[0m│\u001b[37m \u001b[0m\u001b[37m0.17879 \u001b[0m\u001b[37m \u001b[0m│\n",
       "│\u001b[35m \u001b[0m\u001b[35mmap_50       \u001b[0m\u001b[35m \u001b[0m│\u001b[37m \u001b[0m\u001b[37m0.23479 \u001b[0m\u001b[37m \u001b[0m│\n",
       "│\u001b[35m \u001b[0m\u001b[35mmap_75       \u001b[0m\u001b[35m \u001b[0m│\u001b[37m \u001b[0m\u001b[37m0.16851 \u001b[0m\u001b[37m \u001b[0m│\n",
       "│\u001b[35m \u001b[0m\u001b[35mmap_small    \u001b[0m\u001b[35m \u001b[0m│\u001b[37m \u001b[0m\u001b[37m-1.00000\u001b[0m\u001b[37m \u001b[0m│\n",
       "│\u001b[35m \u001b[0m\u001b[35mmap_medium   \u001b[0m\u001b[35m \u001b[0m│\u001b[37m \u001b[0m\u001b[37m0.00000 \u001b[0m\u001b[37m \u001b[0m│\n",
       "│\u001b[35m \u001b[0m\u001b[35mmap_large    \u001b[0m\u001b[35m \u001b[0m│\u001b[37m \u001b[0m\u001b[37m0.26292 \u001b[0m\u001b[37m \u001b[0m│\n",
       "│\u001b[35m \u001b[0m\u001b[35mmar_1        \u001b[0m\u001b[35m \u001b[0m│\u001b[37m \u001b[0m\u001b[37m0.38839 \u001b[0m\u001b[37m \u001b[0m│\n",
       "│\u001b[35m \u001b[0m\u001b[35mmar_10       \u001b[0m\u001b[35m \u001b[0m│\u001b[37m \u001b[0m\u001b[37m0.38839 \u001b[0m\u001b[37m \u001b[0m│\n",
       "│\u001b[35m \u001b[0m\u001b[35mmar_100      \u001b[0m\u001b[35m \u001b[0m│\u001b[37m \u001b[0m\u001b[37m0.38839 \u001b[0m\u001b[37m \u001b[0m│\n",
       "│\u001b[35m \u001b[0m\u001b[35mmar_small    \u001b[0m\u001b[35m \u001b[0m│\u001b[37m \u001b[0m\u001b[37m-1.00000\u001b[0m\u001b[37m \u001b[0m│\n",
       "│\u001b[35m \u001b[0m\u001b[35mmar_medium   \u001b[0m\u001b[35m \u001b[0m│\u001b[37m \u001b[0m\u001b[37m0.00000 \u001b[0m\u001b[37m \u001b[0m│\n",
       "│\u001b[35m \u001b[0m\u001b[35mmar_large    \u001b[0m\u001b[35m \u001b[0m│\u001b[37m \u001b[0m\u001b[37m0.63214 \u001b[0m\u001b[37m \u001b[0m│\n",
       "│\u001b[35m \u001b[0m\u001b[35mf1_small     \u001b[0m\u001b[35m \u001b[0m│\u001b[37m \u001b[0m\u001b[37m-1.00000\u001b[0m\u001b[37m \u001b[0m│\n",
       "│\u001b[35m \u001b[0m\u001b[35mf1_medium    \u001b[0m\u001b[35m \u001b[0m│\u001b[37m \u001b[0m\u001b[37mnan     \u001b[0m\u001b[37m \u001b[0m│\n",
       "│\u001b[35m \u001b[0m\u001b[35mf1_large     \u001b[0m\u001b[35m \u001b[0m│\u001b[37m \u001b[0m\u001b[37m0.37138 \u001b[0m\u001b[37m \u001b[0m│\n",
       "└───────────────┴──────────┘\n"
      ]
     },
     "metadata": {},
     "output_type": "display_data"
    },
    {
     "data": {
      "text/html": [
       "<pre style=\"white-space:pre;overflow-x:auto;line-height:normal;font-family:Menlo,'DejaVu Sans Mono',consolas,'Courier New',monospace\"><span style=\"color: #800080; text-decoration-color: #800080; font-weight: bold\">───────────────────────────────────────────────────────────────────────────────────────────────────────────────────</span>\n",
       "</pre>\n"
      ],
      "text/plain": [
       "\u001b[1;35m───────────────────────────────────────────────────────────────────────────────────────────────────────────────────\u001b[0m\n"
      ]
     },
     "metadata": {},
     "output_type": "display_data"
    },
    {
     "data": {
      "text/html": [
       "<pre style=\"white-space:pre;overflow-x:auto;line-height:normal;font-family:Menlo,'DejaVu Sans Mono',consolas,'Courier New',monospace\"><span style=\"color: #008000; text-decoration-color: #008000\">INFO    </span> Validation main metric <span style=\"font-weight: bold\">(</span>detection_head/detection_map<span style=\"font-weight: bold\">)</span>: <span style=\"color: #008080; text-decoration-color: #008080; font-weight: bold\">0.1788</span>                     <a href=\"file:///opt/conda/lib/python3.11/site-packages/luxonis_train/models/luxonis_lightning.py\" target=\"_blank\"><span style=\"color: #7f7f7f; text-decoration-color: #7f7f7f\">luxonis_lightning.py</span></a><span style=\"color: #7f7f7f; text-decoration-color: #7f7f7f\">:</span><a href=\"file:///opt/conda/lib/python3.11/site-packages/luxonis_train/models/luxonis_lightning.py#924\" target=\"_blank\"><span style=\"color: #7f7f7f; text-decoration-color: #7f7f7f\">924</span></a>\n",
       "</pre>\n"
      ],
      "text/plain": [
       "\u001b[32mINFO    \u001b[0m Validation main metric \u001b[1m(\u001b[0mdetection_head/detection_map\u001b[1m)\u001b[0m: \u001b[1;36m0.1788\u001b[0m                     \u001b]8;id=459535;file:///opt/conda/lib/python3.11/site-packages/luxonis_train/models/luxonis_lightning.py\u001b\\\u001b[2mluxonis_lightning.py\u001b[0m\u001b]8;;\u001b\\\u001b[2m:\u001b[0m\u001b]8;id=1909;file:///opt/conda/lib/python3.11/site-packages/luxonis_train/models/luxonis_lightning.py#924\u001b\\\u001b[2m924\u001b[0m\u001b]8;;\u001b\\\n"
      ]
     },
     "metadata": {},
     "output_type": "display_data"
    },
    {
     "data": {
      "text/html": [
       "<pre style=\"white-space:pre;overflow-x:auto;line-height:normal;font-family:Menlo,'DejaVu Sans Mono',consolas,'Courier New',monospace\"></pre>\n"
      ],
      "text/plain": []
     },
     "metadata": {},
     "output_type": "display_data"
    },
    {
     "data": {
      "text/html": [
       "<pre style=\"white-space:pre;overflow-x:auto;line-height:normal;font-family:Menlo,'DejaVu Sans Mono',consolas,'Courier New',monospace\">\n",
       "</pre>\n"
      ],
      "text/plain": [
       "\n"
      ]
     },
     "metadata": {},
     "output_type": "display_data"
    },
    {
     "data": {
      "application/vnd.jupyter.widget-view+json": {
       "model_id": "e1681edaed624533ac7bdb80530d1c2c",
       "version_major": 2,
       "version_minor": 0
      },
      "text/plain": [
       "Output()"
      ]
     },
     "metadata": {},
     "output_type": "display_data"
    },
    {
     "data": {
      "text/html": [
       "<pre style=\"white-space:pre;overflow-x:auto;line-height:normal;font-family:Menlo,'DejaVu Sans Mono',consolas,'Courier New',monospace\"></pre>\n"
      ],
      "text/plain": []
     },
     "metadata": {},
     "output_type": "display_data"
    },
    {
     "data": {
      "text/html": [
       "<pre style=\"white-space:pre;overflow-x:auto;line-height:normal;font-family:Menlo,'DejaVu Sans Mono',consolas,'Courier New',monospace\">\n",
       "</pre>\n"
      ],
      "text/plain": [
       "\n"
      ]
     },
     "metadata": {},
     "output_type": "display_data"
    },
    {
     "data": {
      "application/vnd.jupyter.widget-view+json": {
       "model_id": "b37acf5f09f345e7965e7c5c91b59194",
       "version_major": 2,
       "version_minor": 0
      },
      "text/plain": [
       "Output()"
      ]
     },
     "metadata": {},
     "output_type": "display_data"
    },
    {
     "data": {
      "text/html": [
       "<pre style=\"white-space:pre;overflow-x:auto;line-height:normal;font-family:Menlo,'DejaVu Sans Mono',consolas,'Courier New',monospace\"></pre>\n"
      ],
      "text/plain": []
     },
     "metadata": {},
     "output_type": "display_data"
    },
    {
     "data": {
      "text/html": [
       "<pre style=\"white-space:pre;overflow-x:auto;line-height:normal;font-family:Menlo,'DejaVu Sans Mono',consolas,'Courier New',monospace\">\n",
       "</pre>\n"
      ],
      "text/plain": [
       "\n"
      ]
     },
     "metadata": {},
     "output_type": "display_data"
    },
    {
     "data": {
      "application/vnd.jupyter.widget-view+json": {
       "model_id": "5ca9806be85548728c03a0bc4551c66f",
       "version_major": 2,
       "version_minor": 0
      },
      "text/plain": [
       "Output()"
      ]
     },
     "metadata": {},
     "output_type": "display_data"
    },
    {
     "data": {
      "text/html": [
       "<pre style=\"white-space:pre;overflow-x:auto;line-height:normal;font-family:Menlo,'DejaVu Sans Mono',consolas,'Courier New',monospace\"></pre>\n"
      ],
      "text/plain": []
     },
     "metadata": {},
     "output_type": "display_data"
    },
    {
     "data": {
      "text/html": [
       "<pre style=\"white-space:pre;overflow-x:auto;line-height:normal;font-family:Menlo,'DejaVu Sans Mono',consolas,'Courier New',monospace\">\n",
       "</pre>\n"
      ],
      "text/plain": [
       "\n"
      ]
     },
     "metadata": {},
     "output_type": "display_data"
    },
    {
     "data": {
      "application/vnd.jupyter.widget-view+json": {
       "model_id": "91cf29f4f5f042f596c3bc309ffea05d",
       "version_major": 2,
       "version_minor": 0
      },
      "text/plain": [
       "Output()"
      ]
     },
     "metadata": {},
     "output_type": "display_data"
    },
    {
     "data": {
      "text/html": [
       "<pre style=\"white-space:pre;overflow-x:auto;line-height:normal;font-family:Menlo,'DejaVu Sans Mono',consolas,'Courier New',monospace\"></pre>\n"
      ],
      "text/plain": []
     },
     "metadata": {},
     "output_type": "display_data"
    },
    {
     "data": {
      "text/html": [
       "<pre style=\"white-space:pre;overflow-x:auto;line-height:normal;font-family:Menlo,'DejaVu Sans Mono',consolas,'Courier New',monospace\">\n",
       "</pre>\n"
      ],
      "text/plain": [
       "\n"
      ]
     },
     "metadata": {},
     "output_type": "display_data"
    },
    {
     "data": {
      "application/vnd.jupyter.widget-view+json": {
       "model_id": "2366c9a0abe14e0694221f5def26e39e",
       "version_major": 2,
       "version_minor": 0
      },
      "text/plain": [
       "Output()"
      ]
     },
     "metadata": {},
     "output_type": "display_data"
    },
    {
     "data": {
      "text/html": [
       "<pre style=\"white-space:pre;overflow-x:auto;line-height:normal;font-family:Menlo,'DejaVu Sans Mono',consolas,'Courier New',monospace\"></pre>\n"
      ],
      "text/plain": []
     },
     "metadata": {},
     "output_type": "display_data"
    },
    {
     "data": {
      "text/html": [
       "<pre style=\"white-space:pre;overflow-x:auto;line-height:normal;font-family:Menlo,'DejaVu Sans Mono',consolas,'Courier New',monospace\">\n",
       "</pre>\n"
      ],
      "text/plain": [
       "\n"
      ]
     },
     "metadata": {},
     "output_type": "display_data"
    },
    {
     "data": {
      "application/vnd.jupyter.widget-view+json": {
       "model_id": "6507f27f3587476aa3ec01f672ecd3e3",
       "version_major": 2,
       "version_minor": 0
      },
      "text/plain": [
       "Output()"
      ]
     },
     "metadata": {},
     "output_type": "display_data"
    },
    {
     "data": {
      "text/html": [
       "<pre style=\"white-space:pre;overflow-x:auto;line-height:normal;font-family:Menlo,'DejaVu Sans Mono',consolas,'Courier New',monospace\"></pre>\n"
      ],
      "text/plain": []
     },
     "metadata": {},
     "output_type": "display_data"
    },
    {
     "data": {
      "text/html": [
       "<pre style=\"white-space:pre;overflow-x:auto;line-height:normal;font-family:Menlo,'DejaVu Sans Mono',consolas,'Courier New',monospace\">\n",
       "</pre>\n"
      ],
      "text/plain": [
       "\n"
      ]
     },
     "metadata": {},
     "output_type": "display_data"
    },
    {
     "data": {
      "application/vnd.jupyter.widget-view+json": {
       "model_id": "71df1b265d8c446d874226f8fd89e380",
       "version_major": 2,
       "version_minor": 0
      },
      "text/plain": [
       "Output()"
      ]
     },
     "metadata": {},
     "output_type": "display_data"
    },
    {
     "data": {
      "text/html": [
       "<pre style=\"white-space:pre;overflow-x:auto;line-height:normal;font-family:Menlo,'DejaVu Sans Mono',consolas,'Courier New',monospace\"></pre>\n"
      ],
      "text/plain": []
     },
     "metadata": {},
     "output_type": "display_data"
    },
    {
     "data": {
      "text/html": [
       "<pre style=\"white-space:pre;overflow-x:auto;line-height:normal;font-family:Menlo,'DejaVu Sans Mono',consolas,'Courier New',monospace\">\n",
       "</pre>\n"
      ],
      "text/plain": [
       "\n"
      ]
     },
     "metadata": {},
     "output_type": "display_data"
    },
    {
     "data": {
      "application/vnd.jupyter.widget-view+json": {
       "model_id": "64cc022477104c57b061fb24081b1280",
       "version_major": 2,
       "version_minor": 0
      },
      "text/plain": [
       "Output()"
      ]
     },
     "metadata": {},
     "output_type": "display_data"
    },
    {
     "data": {
      "text/html": [
       "<pre style=\"white-space:pre;overflow-x:auto;line-height:normal;font-family:Menlo,'DejaVu Sans Mono',consolas,'Courier New',monospace\"></pre>\n"
      ],
      "text/plain": []
     },
     "metadata": {},
     "output_type": "display_data"
    },
    {
     "data": {
      "text/html": [
       "<pre style=\"white-space:pre;overflow-x:auto;line-height:normal;font-family:Menlo,'DejaVu Sans Mono',consolas,'Courier New',monospace\">\n",
       "</pre>\n"
      ],
      "text/plain": [
       "\n"
      ]
     },
     "metadata": {},
     "output_type": "display_data"
    },
    {
     "data": {
      "application/vnd.jupyter.widget-view+json": {
       "model_id": "535cf947d1774c82a6af0ece75c96804",
       "version_major": 2,
       "version_minor": 0
      },
      "text/plain": [
       "Output()"
      ]
     },
     "metadata": {},
     "output_type": "display_data"
    },
    {
     "data": {
      "text/html": [
       "<pre style=\"white-space:pre;overflow-x:auto;line-height:normal;font-family:Menlo,'DejaVu Sans Mono',consolas,'Courier New',monospace\"></pre>\n"
      ],
      "text/plain": []
     },
     "metadata": {},
     "output_type": "display_data"
    },
    {
     "data": {
      "text/html": [
       "<pre style=\"white-space:pre;overflow-x:auto;line-height:normal;font-family:Menlo,'DejaVu Sans Mono',consolas,'Courier New',monospace\">\n",
       "</pre>\n"
      ],
      "text/plain": [
       "\n"
      ]
     },
     "metadata": {},
     "output_type": "display_data"
    },
    {
     "data": {
      "application/vnd.jupyter.widget-view+json": {
       "model_id": "b1b9c0a524c74c3891b83eabc8265aa4",
       "version_major": 2,
       "version_minor": 0
      },
      "text/plain": [
       "Output()"
      ]
     },
     "metadata": {},
     "output_type": "display_data"
    },
    {
     "data": {
      "text/html": [
       "<pre style=\"white-space:pre;overflow-x:auto;line-height:normal;font-family:Menlo,'DejaVu Sans Mono',consolas,'Courier New',monospace\"><span style=\"color: #008000; text-decoration-color: #008000\">INFO    </span> Computing metrics on val subset <span style=\"color: #808000; text-decoration-color: #808000\">...</span>                                               <a href=\"file:///opt/conda/lib/python3.11/site-packages/luxonis_train/models/luxonis_lightning.py\" target=\"_blank\"><span style=\"color: #7f7f7f; text-decoration-color: #7f7f7f\">luxonis_lightning.py</span></a><span style=\"color: #7f7f7f; text-decoration-color: #7f7f7f\">:</span><a href=\"file:///opt/conda/lib/python3.11/site-packages/luxonis_train/models/luxonis_lightning.py#732\" target=\"_blank\"><span style=\"color: #7f7f7f; text-decoration-color: #7f7f7f\">732</span></a>\n",
       "</pre>\n"
      ],
      "text/plain": [
       "\u001b[32mINFO    \u001b[0m Computing metrics on val subset \u001b[33m...\u001b[0m                                               \u001b]8;id=473418;file:///opt/conda/lib/python3.11/site-packages/luxonis_train/models/luxonis_lightning.py\u001b\\\u001b[2mluxonis_lightning.py\u001b[0m\u001b]8;;\u001b\\\u001b[2m:\u001b[0m\u001b]8;id=430469;file:///opt/conda/lib/python3.11/site-packages/luxonis_train/models/luxonis_lightning.py#732\u001b\\\u001b[2m732\u001b[0m\u001b]8;;\u001b\\\n"
      ]
     },
     "metadata": {},
     "output_type": "display_data"
    },
    {
     "data": {
      "text/html": [
       "<pre style=\"white-space:pre;overflow-x:auto;line-height:normal;font-family:Menlo,'DejaVu Sans Mono',consolas,'Courier New',monospace\"><span style=\"color: #008000; text-decoration-color: #008000\">INFO    </span> Metrics computed.                                                                 <a href=\"file:///opt/conda/lib/python3.11/site-packages/luxonis_train/models/luxonis_lightning.py\" target=\"_blank\"><span style=\"color: #7f7f7f; text-decoration-color: #7f7f7f\">luxonis_lightning.py</span></a><span style=\"color: #7f7f7f; text-decoration-color: #7f7f7f\">:</span><a href=\"file:///opt/conda/lib/python3.11/site-packages/luxonis_train/models/luxonis_lightning.py#734\" target=\"_blank\"><span style=\"color: #7f7f7f; text-decoration-color: #7f7f7f\">734</span></a>\n",
       "</pre>\n"
      ],
      "text/plain": [
       "\u001b[32mINFO    \u001b[0m Metrics computed.                                                                 \u001b]8;id=478064;file:///opt/conda/lib/python3.11/site-packages/luxonis_train/models/luxonis_lightning.py\u001b\\\u001b[2mluxonis_lightning.py\u001b[0m\u001b]8;;\u001b\\\u001b[2m:\u001b[0m\u001b]8;id=657888;file:///opt/conda/lib/python3.11/site-packages/luxonis_train/models/luxonis_lightning.py#734\u001b\\\u001b[2m734\u001b[0m\u001b]8;;\u001b\\\n"
      ]
     },
     "metadata": {},
     "output_type": "display_data"
    },
    {
     "data": {
      "text/html": [
       "<pre style=\"white-space:pre;overflow-x:auto;line-height:normal;font-family:Menlo,'DejaVu Sans Mono',consolas,'Courier New',monospace\"><span style=\"color: #008000; text-decoration-color: #008000\">INFO    </span> Validation loss: <span style=\"color: #008080; text-decoration-color: #008080; font-weight: bold\">1.3627</span>                                                           <a href=\"file:///opt/conda/lib/python3.11/site-packages/luxonis_train/models/luxonis_lightning.py\" target=\"_blank\"><span style=\"color: #7f7f7f; text-decoration-color: #7f7f7f\">luxonis_lightning.py</span></a><span style=\"color: #7f7f7f; text-decoration-color: #7f7f7f\">:</span><a href=\"file:///opt/conda/lib/python3.11/site-packages/luxonis_train/models/luxonis_lightning.py#915\" target=\"_blank\"><span style=\"color: #7f7f7f; text-decoration-color: #7f7f7f\">915</span></a>\n",
       "</pre>\n"
      ],
      "text/plain": [
       "\u001b[32mINFO    \u001b[0m Validation loss: \u001b[1;36m1.3627\u001b[0m                                                           \u001b]8;id=735215;file:///opt/conda/lib/python3.11/site-packages/luxonis_train/models/luxonis_lightning.py\u001b\\\u001b[2mluxonis_lightning.py\u001b[0m\u001b]8;;\u001b\\\u001b[2m:\u001b[0m\u001b]8;id=492259;file:///opt/conda/lib/python3.11/site-packages/luxonis_train/models/luxonis_lightning.py#915\u001b\\\u001b[2m915\u001b[0m\u001b]8;;\u001b\\\n"
      ]
     },
     "metadata": {},
     "output_type": "display_data"
    },
    {
     "data": {
      "text/html": [
       "<pre style=\"white-space:pre;overflow-x:auto;line-height:normal;font-family:Menlo,'DejaVu Sans Mono',consolas,'Courier New',monospace\"><span style=\"color: #800080; text-decoration-color: #800080; font-weight: bold\">─────────────────────────────────────────────────── </span>Validation<span style=\"color: #800080; text-decoration-color: #800080; font-weight: bold\"> ────────────────────────────────────────────────────</span>\n",
       "</pre>\n"
      ],
      "text/plain": [
       "\u001b[1;35m─────────────────────────────────────────────────── \u001b[0mValidation\u001b[1;35m ────────────────────────────────────────────────────\u001b[0m\n"
      ]
     },
     "metadata": {},
     "output_type": "display_data"
    },
    {
     "data": {
      "text/html": [
       "<pre style=\"white-space:pre;overflow-x:auto;line-height:normal;font-family:Menlo,'DejaVu Sans Mono',consolas,'Courier New',monospace\"><span style=\"color: #800080; text-decoration-color: #800080; font-weight: bold\">Loss:</span> <span style=\"color: #c0c0c0; text-decoration-color: #c0c0c0; font-weight: bold\">1.3626983165740967</span>\n",
       "</pre>\n"
      ],
      "text/plain": [
       "\u001b[1;35mLoss:\u001b[0m \u001b[1;37m1.3626983165740967\u001b[0m\n"
      ]
     },
     "metadata": {},
     "output_type": "display_data"
    },
    {
     "data": {
      "text/html": [
       "<pre style=\"white-space:pre;overflow-x:auto;line-height:normal;font-family:Menlo,'DejaVu Sans Mono',consolas,'Courier New',monospace\"><span style=\"color: #800080; text-decoration-color: #800080; font-weight: bold\">Metrics:</span>\n",
       "</pre>\n"
      ],
      "text/plain": [
       "\u001b[1;35mMetrics:\u001b[0m\n"
      ]
     },
     "metadata": {},
     "output_type": "display_data"
    },
    {
     "data": {
      "text/html": [
       "<pre style=\"white-space:pre;overflow-x:auto;line-height:normal;font-family:Menlo,'DejaVu Sans Mono',consolas,'Courier New',monospace\"><span style=\"font-style: italic\">       detection_head       </span>\n",
       "┏━━━━━━━━━━━━━━━┳━━━━━━━━━━┓\n",
       "┃<span style=\"color: #800080; text-decoration-color: #800080; font-weight: bold\"> Name          </span>┃<span style=\"color: #800080; text-decoration-color: #800080; font-weight: bold\"> Value    </span>┃\n",
       "┡━━━━━━━━━━━━━━━╇━━━━━━━━━━┩\n",
       "│<span style=\"color: #800080; text-decoration-color: #800080\"> detection_map </span>│<span style=\"color: #c0c0c0; text-decoration-color: #c0c0c0\"> 0.28333  </span>│\n",
       "│<span style=\"color: #800080; text-decoration-color: #800080\"> map_50        </span>│<span style=\"color: #c0c0c0; text-decoration-color: #c0c0c0\"> 0.36762  </span>│\n",
       "│<span style=\"color: #800080; text-decoration-color: #800080\"> map_75        </span>│<span style=\"color: #c0c0c0; text-decoration-color: #c0c0c0\"> 0.31014  </span>│\n",
       "│<span style=\"color: #800080; text-decoration-color: #800080\"> map_small     </span>│<span style=\"color: #c0c0c0; text-decoration-color: #c0c0c0\"> -1.00000 </span>│\n",
       "│<span style=\"color: #800080; text-decoration-color: #800080\"> map_medium    </span>│<span style=\"color: #c0c0c0; text-decoration-color: #c0c0c0\"> 0.11782  </span>│\n",
       "│<span style=\"color: #800080; text-decoration-color: #800080\"> map_large     </span>│<span style=\"color: #c0c0c0; text-decoration-color: #c0c0c0\"> 0.32528  </span>│\n",
       "│<span style=\"color: #800080; text-decoration-color: #800080\"> mar_1         </span>│<span style=\"color: #c0c0c0; text-decoration-color: #c0c0c0\"> 0.40982  </span>│\n",
       "│<span style=\"color: #800080; text-decoration-color: #800080\"> mar_10        </span>│<span style=\"color: #c0c0c0; text-decoration-color: #c0c0c0\"> 0.44107  </span>│\n",
       "│<span style=\"color: #800080; text-decoration-color: #800080\"> mar_100       </span>│<span style=\"color: #c0c0c0; text-decoration-color: #c0c0c0\"> 0.44107  </span>│\n",
       "│<span style=\"color: #800080; text-decoration-color: #800080\"> mar_small     </span>│<span style=\"color: #c0c0c0; text-decoration-color: #c0c0c0\"> -1.00000 </span>│\n",
       "│<span style=\"color: #800080; text-decoration-color: #800080\"> mar_medium    </span>│<span style=\"color: #c0c0c0; text-decoration-color: #c0c0c0\"> 0.11667  </span>│\n",
       "│<span style=\"color: #800080; text-decoration-color: #800080\"> mar_large     </span>│<span style=\"color: #c0c0c0; text-decoration-color: #c0c0c0\"> 0.60357  </span>│\n",
       "│<span style=\"color: #800080; text-decoration-color: #800080\"> f1_small      </span>│<span style=\"color: #c0c0c0; text-decoration-color: #c0c0c0\"> -1.00000 </span>│\n",
       "│<span style=\"color: #800080; text-decoration-color: #800080\"> f1_medium     </span>│<span style=\"color: #c0c0c0; text-decoration-color: #c0c0c0\"> 0.11724  </span>│\n",
       "│<span style=\"color: #800080; text-decoration-color: #800080\"> f1_large      </span>│<span style=\"color: #c0c0c0; text-decoration-color: #c0c0c0\"> 0.42273  </span>│\n",
       "└───────────────┴──────────┘\n",
       "</pre>\n"
      ],
      "text/plain": [
       "\u001b[3m       detection_head       \u001b[0m\n",
       "┏━━━━━━━━━━━━━━━┳━━━━━━━━━━┓\n",
       "┃\u001b[1;35m \u001b[0m\u001b[1;35mName         \u001b[0m\u001b[1;35m \u001b[0m┃\u001b[1;35m \u001b[0m\u001b[1;35mValue   \u001b[0m\u001b[1;35m \u001b[0m┃\n",
       "┡━━━━━━━━━━━━━━━╇━━━━━━━━━━┩\n",
       "│\u001b[35m \u001b[0m\u001b[35mdetection_map\u001b[0m\u001b[35m \u001b[0m│\u001b[37m \u001b[0m\u001b[37m0.28333 \u001b[0m\u001b[37m \u001b[0m│\n",
       "│\u001b[35m \u001b[0m\u001b[35mmap_50       \u001b[0m\u001b[35m \u001b[0m│\u001b[37m \u001b[0m\u001b[37m0.36762 \u001b[0m\u001b[37m \u001b[0m│\n",
       "│\u001b[35m \u001b[0m\u001b[35mmap_75       \u001b[0m\u001b[35m \u001b[0m│\u001b[37m \u001b[0m\u001b[37m0.31014 \u001b[0m\u001b[37m \u001b[0m│\n",
       "│\u001b[35m \u001b[0m\u001b[35mmap_small    \u001b[0m\u001b[35m \u001b[0m│\u001b[37m \u001b[0m\u001b[37m-1.00000\u001b[0m\u001b[37m \u001b[0m│\n",
       "│\u001b[35m \u001b[0m\u001b[35mmap_medium   \u001b[0m\u001b[35m \u001b[0m│\u001b[37m \u001b[0m\u001b[37m0.11782 \u001b[0m\u001b[37m \u001b[0m│\n",
       "│\u001b[35m \u001b[0m\u001b[35mmap_large    \u001b[0m\u001b[35m \u001b[0m│\u001b[37m \u001b[0m\u001b[37m0.32528 \u001b[0m\u001b[37m \u001b[0m│\n",
       "│\u001b[35m \u001b[0m\u001b[35mmar_1        \u001b[0m\u001b[35m \u001b[0m│\u001b[37m \u001b[0m\u001b[37m0.40982 \u001b[0m\u001b[37m \u001b[0m│\n",
       "│\u001b[35m \u001b[0m\u001b[35mmar_10       \u001b[0m\u001b[35m \u001b[0m│\u001b[37m \u001b[0m\u001b[37m0.44107 \u001b[0m\u001b[37m \u001b[0m│\n",
       "│\u001b[35m \u001b[0m\u001b[35mmar_100      \u001b[0m\u001b[35m \u001b[0m│\u001b[37m \u001b[0m\u001b[37m0.44107 \u001b[0m\u001b[37m \u001b[0m│\n",
       "│\u001b[35m \u001b[0m\u001b[35mmar_small    \u001b[0m\u001b[35m \u001b[0m│\u001b[37m \u001b[0m\u001b[37m-1.00000\u001b[0m\u001b[37m \u001b[0m│\n",
       "│\u001b[35m \u001b[0m\u001b[35mmar_medium   \u001b[0m\u001b[35m \u001b[0m│\u001b[37m \u001b[0m\u001b[37m0.11667 \u001b[0m\u001b[37m \u001b[0m│\n",
       "│\u001b[35m \u001b[0m\u001b[35mmar_large    \u001b[0m\u001b[35m \u001b[0m│\u001b[37m \u001b[0m\u001b[37m0.60357 \u001b[0m\u001b[37m \u001b[0m│\n",
       "│\u001b[35m \u001b[0m\u001b[35mf1_small     \u001b[0m\u001b[35m \u001b[0m│\u001b[37m \u001b[0m\u001b[37m-1.00000\u001b[0m\u001b[37m \u001b[0m│\n",
       "│\u001b[35m \u001b[0m\u001b[35mf1_medium    \u001b[0m\u001b[35m \u001b[0m│\u001b[37m \u001b[0m\u001b[37m0.11724 \u001b[0m\u001b[37m \u001b[0m│\n",
       "│\u001b[35m \u001b[0m\u001b[35mf1_large     \u001b[0m\u001b[35m \u001b[0m│\u001b[37m \u001b[0m\u001b[37m0.42273 \u001b[0m\u001b[37m \u001b[0m│\n",
       "└───────────────┴──────────┘\n"
      ]
     },
     "metadata": {},
     "output_type": "display_data"
    },
    {
     "data": {
      "text/html": [
       "<pre style=\"white-space:pre;overflow-x:auto;line-height:normal;font-family:Menlo,'DejaVu Sans Mono',consolas,'Courier New',monospace\"><span style=\"color: #800080; text-decoration-color: #800080; font-weight: bold\">───────────────────────────────────────────────────────────────────────────────────────────────────────────────────</span>\n",
       "</pre>\n"
      ],
      "text/plain": [
       "\u001b[1;35m───────────────────────────────────────────────────────────────────────────────────────────────────────────────────\u001b[0m\n"
      ]
     },
     "metadata": {},
     "output_type": "display_data"
    },
    {
     "data": {
      "text/html": [
       "<pre style=\"white-space:pre;overflow-x:auto;line-height:normal;font-family:Menlo,'DejaVu Sans Mono',consolas,'Courier New',monospace\"><span style=\"color: #008000; text-decoration-color: #008000\">INFO    </span> Validation main metric <span style=\"font-weight: bold\">(</span>detection_head/detection_map<span style=\"font-weight: bold\">)</span>: <span style=\"color: #008080; text-decoration-color: #008080; font-weight: bold\">0.2833</span>                     <a href=\"file:///opt/conda/lib/python3.11/site-packages/luxonis_train/models/luxonis_lightning.py\" target=\"_blank\"><span style=\"color: #7f7f7f; text-decoration-color: #7f7f7f\">luxonis_lightning.py</span></a><span style=\"color: #7f7f7f; text-decoration-color: #7f7f7f\">:</span><a href=\"file:///opt/conda/lib/python3.11/site-packages/luxonis_train/models/luxonis_lightning.py#924\" target=\"_blank\"><span style=\"color: #7f7f7f; text-decoration-color: #7f7f7f\">924</span></a>\n",
       "</pre>\n"
      ],
      "text/plain": [
       "\u001b[32mINFO    \u001b[0m Validation main metric \u001b[1m(\u001b[0mdetection_head/detection_map\u001b[1m)\u001b[0m: \u001b[1;36m0.2833\u001b[0m                     \u001b]8;id=714059;file:///opt/conda/lib/python3.11/site-packages/luxonis_train/models/luxonis_lightning.py\u001b\\\u001b[2mluxonis_lightning.py\u001b[0m\u001b]8;;\u001b\\\u001b[2m:\u001b[0m\u001b]8;id=139509;file:///opt/conda/lib/python3.11/site-packages/luxonis_train/models/luxonis_lightning.py#924\u001b\\\u001b[2m924\u001b[0m\u001b]8;;\u001b\\\n"
      ]
     },
     "metadata": {},
     "output_type": "display_data"
    },
    {
     "data": {
      "text/html": [
       "<pre style=\"white-space:pre;overflow-x:auto;line-height:normal;font-family:Menlo,'DejaVu Sans Mono',consolas,'Courier New',monospace\"></pre>\n"
      ],
      "text/plain": []
     },
     "metadata": {},
     "output_type": "display_data"
    },
    {
     "data": {
      "text/html": [
       "<pre style=\"white-space:pre;overflow-x:auto;line-height:normal;font-family:Menlo,'DejaVu Sans Mono',consolas,'Courier New',monospace\">\n",
       "</pre>\n"
      ],
      "text/plain": [
       "\n"
      ]
     },
     "metadata": {},
     "output_type": "display_data"
    },
    {
     "data": {
      "application/vnd.jupyter.widget-view+json": {
       "model_id": "47411fad111d43139aa6fbf9c42528c7",
       "version_major": 2,
       "version_minor": 0
      },
      "text/plain": [
       "Output()"
      ]
     },
     "metadata": {},
     "output_type": "display_data"
    },
    {
     "data": {
      "text/html": [
       "<pre style=\"white-space:pre;overflow-x:auto;line-height:normal;font-family:Menlo,'DejaVu Sans Mono',consolas,'Courier New',monospace\"></pre>\n"
      ],
      "text/plain": []
     },
     "metadata": {},
     "output_type": "display_data"
    },
    {
     "data": {
      "text/html": [
       "<pre style=\"white-space:pre;overflow-x:auto;line-height:normal;font-family:Menlo,'DejaVu Sans Mono',consolas,'Courier New',monospace\">\n",
       "</pre>\n"
      ],
      "text/plain": [
       "\n"
      ]
     },
     "metadata": {},
     "output_type": "display_data"
    },
    {
     "data": {
      "application/vnd.jupyter.widget-view+json": {
       "model_id": "53447e7e98bc426d9cdf862ff5b8b98f",
       "version_major": 2,
       "version_minor": 0
      },
      "text/plain": [
       "Output()"
      ]
     },
     "metadata": {},
     "output_type": "display_data"
    },
    {
     "data": {
      "text/html": [
       "<pre style=\"white-space:pre;overflow-x:auto;line-height:normal;font-family:Menlo,'DejaVu Sans Mono',consolas,'Courier New',monospace\"></pre>\n"
      ],
      "text/plain": []
     },
     "metadata": {},
     "output_type": "display_data"
    },
    {
     "data": {
      "text/html": [
       "<pre style=\"white-space:pre;overflow-x:auto;line-height:normal;font-family:Menlo,'DejaVu Sans Mono',consolas,'Courier New',monospace\">\n",
       "</pre>\n"
      ],
      "text/plain": [
       "\n"
      ]
     },
     "metadata": {},
     "output_type": "display_data"
    },
    {
     "data": {
      "application/vnd.jupyter.widget-view+json": {
       "model_id": "166a691e660f43e8829cefd012ac089d",
       "version_major": 2,
       "version_minor": 0
      },
      "text/plain": [
       "Output()"
      ]
     },
     "metadata": {},
     "output_type": "display_data"
    },
    {
     "data": {
      "text/html": [
       "<pre style=\"white-space:pre;overflow-x:auto;line-height:normal;font-family:Menlo,'DejaVu Sans Mono',consolas,'Courier New',monospace\"></pre>\n"
      ],
      "text/plain": []
     },
     "metadata": {},
     "output_type": "display_data"
    },
    {
     "data": {
      "text/html": [
       "<pre style=\"white-space:pre;overflow-x:auto;line-height:normal;font-family:Menlo,'DejaVu Sans Mono',consolas,'Courier New',monospace\">\n",
       "</pre>\n"
      ],
      "text/plain": [
       "\n"
      ]
     },
     "metadata": {},
     "output_type": "display_data"
    },
    {
     "data": {
      "application/vnd.jupyter.widget-view+json": {
       "model_id": "d847116e82d0426b83cab88a2c2c494b",
       "version_major": 2,
       "version_minor": 0
      },
      "text/plain": [
       "Output()"
      ]
     },
     "metadata": {},
     "output_type": "display_data"
    },
    {
     "data": {
      "text/html": [
       "<pre style=\"white-space:pre;overflow-x:auto;line-height:normal;font-family:Menlo,'DejaVu Sans Mono',consolas,'Courier New',monospace\"></pre>\n"
      ],
      "text/plain": []
     },
     "metadata": {},
     "output_type": "display_data"
    },
    {
     "data": {
      "text/html": [
       "<pre style=\"white-space:pre;overflow-x:auto;line-height:normal;font-family:Menlo,'DejaVu Sans Mono',consolas,'Courier New',monospace\">\n",
       "</pre>\n"
      ],
      "text/plain": [
       "\n"
      ]
     },
     "metadata": {},
     "output_type": "display_data"
    },
    {
     "data": {
      "application/vnd.jupyter.widget-view+json": {
       "model_id": "90dbf981d0314076938a5ef1efade023",
       "version_major": 2,
       "version_minor": 0
      },
      "text/plain": [
       "Output()"
      ]
     },
     "metadata": {},
     "output_type": "display_data"
    },
    {
     "data": {
      "text/html": [
       "<pre style=\"white-space:pre;overflow-x:auto;line-height:normal;font-family:Menlo,'DejaVu Sans Mono',consolas,'Courier New',monospace\"></pre>\n"
      ],
      "text/plain": []
     },
     "metadata": {},
     "output_type": "display_data"
    },
    {
     "data": {
      "text/html": [
       "<pre style=\"white-space:pre;overflow-x:auto;line-height:normal;font-family:Menlo,'DejaVu Sans Mono',consolas,'Courier New',monospace\">\n",
       "</pre>\n"
      ],
      "text/plain": [
       "\n"
      ]
     },
     "metadata": {},
     "output_type": "display_data"
    },
    {
     "data": {
      "application/vnd.jupyter.widget-view+json": {
       "model_id": "563a06222a354d17b6ad35158873cdc2",
       "version_major": 2,
       "version_minor": 0
      },
      "text/plain": [
       "Output()"
      ]
     },
     "metadata": {},
     "output_type": "display_data"
    },
    {
     "data": {
      "text/html": [
       "<pre style=\"white-space:pre;overflow-x:auto;line-height:normal;font-family:Menlo,'DejaVu Sans Mono',consolas,'Courier New',monospace\"></pre>\n"
      ],
      "text/plain": []
     },
     "metadata": {},
     "output_type": "display_data"
    },
    {
     "data": {
      "text/html": [
       "<pre style=\"white-space:pre;overflow-x:auto;line-height:normal;font-family:Menlo,'DejaVu Sans Mono',consolas,'Courier New',monospace\">\n",
       "</pre>\n"
      ],
      "text/plain": [
       "\n"
      ]
     },
     "metadata": {},
     "output_type": "display_data"
    },
    {
     "data": {
      "application/vnd.jupyter.widget-view+json": {
       "model_id": "97413c393ec443c889396eed1485ec46",
       "version_major": 2,
       "version_minor": 0
      },
      "text/plain": [
       "Output()"
      ]
     },
     "metadata": {},
     "output_type": "display_data"
    },
    {
     "data": {
      "text/html": [
       "<pre style=\"white-space:pre;overflow-x:auto;line-height:normal;font-family:Menlo,'DejaVu Sans Mono',consolas,'Courier New',monospace\"></pre>\n"
      ],
      "text/plain": []
     },
     "metadata": {},
     "output_type": "display_data"
    },
    {
     "data": {
      "text/html": [
       "<pre style=\"white-space:pre;overflow-x:auto;line-height:normal;font-family:Menlo,'DejaVu Sans Mono',consolas,'Courier New',monospace\">\n",
       "</pre>\n"
      ],
      "text/plain": [
       "\n"
      ]
     },
     "metadata": {},
     "output_type": "display_data"
    },
    {
     "data": {
      "application/vnd.jupyter.widget-view+json": {
       "model_id": "a08ed21f9141449e8a0139cc1cbcdf34",
       "version_major": 2,
       "version_minor": 0
      },
      "text/plain": [
       "Output()"
      ]
     },
     "metadata": {},
     "output_type": "display_data"
    },
    {
     "data": {
      "text/html": [
       "<pre style=\"white-space:pre;overflow-x:auto;line-height:normal;font-family:Menlo,'DejaVu Sans Mono',consolas,'Courier New',monospace\"></pre>\n"
      ],
      "text/plain": []
     },
     "metadata": {},
     "output_type": "display_data"
    },
    {
     "data": {
      "text/html": [
       "<pre style=\"white-space:pre;overflow-x:auto;line-height:normal;font-family:Menlo,'DejaVu Sans Mono',consolas,'Courier New',monospace\">\n",
       "</pre>\n"
      ],
      "text/plain": [
       "\n"
      ]
     },
     "metadata": {},
     "output_type": "display_data"
    },
    {
     "data": {
      "application/vnd.jupyter.widget-view+json": {
       "model_id": "9c266d9861744fb18630f87cb317b6b3",
       "version_major": 2,
       "version_minor": 0
      },
      "text/plain": [
       "Output()"
      ]
     },
     "metadata": {},
     "output_type": "display_data"
    },
    {
     "data": {
      "text/html": [
       "<pre style=\"white-space:pre;overflow-x:auto;line-height:normal;font-family:Menlo,'DejaVu Sans Mono',consolas,'Courier New',monospace\"></pre>\n"
      ],
      "text/plain": []
     },
     "metadata": {},
     "output_type": "display_data"
    },
    {
     "data": {
      "text/html": [
       "<pre style=\"white-space:pre;overflow-x:auto;line-height:normal;font-family:Menlo,'DejaVu Sans Mono',consolas,'Courier New',monospace\">\n",
       "</pre>\n"
      ],
      "text/plain": [
       "\n"
      ]
     },
     "metadata": {},
     "output_type": "display_data"
    },
    {
     "data": {
      "application/vnd.jupyter.widget-view+json": {
       "model_id": "6dbd136f30f140e2abd008ce927906f8",
       "version_major": 2,
       "version_minor": 0
      },
      "text/plain": [
       "Output()"
      ]
     },
     "metadata": {},
     "output_type": "display_data"
    },
    {
     "data": {
      "text/html": [
       "<pre style=\"white-space:pre;overflow-x:auto;line-height:normal;font-family:Menlo,'DejaVu Sans Mono',consolas,'Courier New',monospace\"><span style=\"color: #008000; text-decoration-color: #008000\">INFO    </span> Computing metrics on val subset <span style=\"color: #808000; text-decoration-color: #808000\">...</span>                                               <a href=\"file:///opt/conda/lib/python3.11/site-packages/luxonis_train/models/luxonis_lightning.py\" target=\"_blank\"><span style=\"color: #7f7f7f; text-decoration-color: #7f7f7f\">luxonis_lightning.py</span></a><span style=\"color: #7f7f7f; text-decoration-color: #7f7f7f\">:</span><a href=\"file:///opt/conda/lib/python3.11/site-packages/luxonis_train/models/luxonis_lightning.py#732\" target=\"_blank\"><span style=\"color: #7f7f7f; text-decoration-color: #7f7f7f\">732</span></a>\n",
       "</pre>\n"
      ],
      "text/plain": [
       "\u001b[32mINFO    \u001b[0m Computing metrics on val subset \u001b[33m...\u001b[0m                                               \u001b]8;id=748709;file:///opt/conda/lib/python3.11/site-packages/luxonis_train/models/luxonis_lightning.py\u001b\\\u001b[2mluxonis_lightning.py\u001b[0m\u001b]8;;\u001b\\\u001b[2m:\u001b[0m\u001b]8;id=322766;file:///opt/conda/lib/python3.11/site-packages/luxonis_train/models/luxonis_lightning.py#732\u001b\\\u001b[2m732\u001b[0m\u001b]8;;\u001b\\\n"
      ]
     },
     "metadata": {},
     "output_type": "display_data"
    },
    {
     "data": {
      "text/html": [
       "<pre style=\"white-space:pre;overflow-x:auto;line-height:normal;font-family:Menlo,'DejaVu Sans Mono',consolas,'Courier New',monospace\"><span style=\"color: #008000; text-decoration-color: #008000\">INFO    </span> Metrics computed.                                                                 <a href=\"file:///opt/conda/lib/python3.11/site-packages/luxonis_train/models/luxonis_lightning.py\" target=\"_blank\"><span style=\"color: #7f7f7f; text-decoration-color: #7f7f7f\">luxonis_lightning.py</span></a><span style=\"color: #7f7f7f; text-decoration-color: #7f7f7f\">:</span><a href=\"file:///opt/conda/lib/python3.11/site-packages/luxonis_train/models/luxonis_lightning.py#734\" target=\"_blank\"><span style=\"color: #7f7f7f; text-decoration-color: #7f7f7f\">734</span></a>\n",
       "</pre>\n"
      ],
      "text/plain": [
       "\u001b[32mINFO    \u001b[0m Metrics computed.                                                                 \u001b]8;id=375113;file:///opt/conda/lib/python3.11/site-packages/luxonis_train/models/luxonis_lightning.py\u001b\\\u001b[2mluxonis_lightning.py\u001b[0m\u001b]8;;\u001b\\\u001b[2m:\u001b[0m\u001b]8;id=430981;file:///opt/conda/lib/python3.11/site-packages/luxonis_train/models/luxonis_lightning.py#734\u001b\\\u001b[2m734\u001b[0m\u001b]8;;\u001b\\\n"
      ]
     },
     "metadata": {},
     "output_type": "display_data"
    },
    {
     "data": {
      "text/html": [
       "<pre style=\"white-space:pre;overflow-x:auto;line-height:normal;font-family:Menlo,'DejaVu Sans Mono',consolas,'Courier New',monospace\"><span style=\"color: #008000; text-decoration-color: #008000\">INFO    </span> Validation loss: <span style=\"color: #008080; text-decoration-color: #008080; font-weight: bold\">1.4873</span>                                                           <a href=\"file:///opt/conda/lib/python3.11/site-packages/luxonis_train/models/luxonis_lightning.py\" target=\"_blank\"><span style=\"color: #7f7f7f; text-decoration-color: #7f7f7f\">luxonis_lightning.py</span></a><span style=\"color: #7f7f7f; text-decoration-color: #7f7f7f\">:</span><a href=\"file:///opt/conda/lib/python3.11/site-packages/luxonis_train/models/luxonis_lightning.py#915\" target=\"_blank\"><span style=\"color: #7f7f7f; text-decoration-color: #7f7f7f\">915</span></a>\n",
       "</pre>\n"
      ],
      "text/plain": [
       "\u001b[32mINFO    \u001b[0m Validation loss: \u001b[1;36m1.4873\u001b[0m                                                           \u001b]8;id=621801;file:///opt/conda/lib/python3.11/site-packages/luxonis_train/models/luxonis_lightning.py\u001b\\\u001b[2mluxonis_lightning.py\u001b[0m\u001b]8;;\u001b\\\u001b[2m:\u001b[0m\u001b]8;id=272230;file:///opt/conda/lib/python3.11/site-packages/luxonis_train/models/luxonis_lightning.py#915\u001b\\\u001b[2m915\u001b[0m\u001b]8;;\u001b\\\n"
      ]
     },
     "metadata": {},
     "output_type": "display_data"
    },
    {
     "data": {
      "text/html": [
       "<pre style=\"white-space:pre;overflow-x:auto;line-height:normal;font-family:Menlo,'DejaVu Sans Mono',consolas,'Courier New',monospace\"><span style=\"color: #800080; text-decoration-color: #800080; font-weight: bold\">─────────────────────────────────────────────────── </span>Validation<span style=\"color: #800080; text-decoration-color: #800080; font-weight: bold\"> ────────────────────────────────────────────────────</span>\n",
       "</pre>\n"
      ],
      "text/plain": [
       "\u001b[1;35m─────────────────────────────────────────────────── \u001b[0mValidation\u001b[1;35m ────────────────────────────────────────────────────\u001b[0m\n"
      ]
     },
     "metadata": {},
     "output_type": "display_data"
    },
    {
     "data": {
      "text/html": [
       "<pre style=\"white-space:pre;overflow-x:auto;line-height:normal;font-family:Menlo,'DejaVu Sans Mono',consolas,'Courier New',monospace\"><span style=\"color: #800080; text-decoration-color: #800080; font-weight: bold\">Loss:</span> <span style=\"color: #c0c0c0; text-decoration-color: #c0c0c0; font-weight: bold\">1.4873000979423523</span>\n",
       "</pre>\n"
      ],
      "text/plain": [
       "\u001b[1;35mLoss:\u001b[0m \u001b[1;37m1.4873000979423523\u001b[0m\n"
      ]
     },
     "metadata": {},
     "output_type": "display_data"
    },
    {
     "data": {
      "text/html": [
       "<pre style=\"white-space:pre;overflow-x:auto;line-height:normal;font-family:Menlo,'DejaVu Sans Mono',consolas,'Courier New',monospace\"><span style=\"color: #800080; text-decoration-color: #800080; font-weight: bold\">Metrics:</span>\n",
       "</pre>\n"
      ],
      "text/plain": [
       "\u001b[1;35mMetrics:\u001b[0m\n"
      ]
     },
     "metadata": {},
     "output_type": "display_data"
    },
    {
     "data": {
      "text/html": [
       "<pre style=\"white-space:pre;overflow-x:auto;line-height:normal;font-family:Menlo,'DejaVu Sans Mono',consolas,'Courier New',monospace\"><span style=\"font-style: italic\">       detection_head       </span>\n",
       "┏━━━━━━━━━━━━━━━┳━━━━━━━━━━┓\n",
       "┃<span style=\"color: #800080; text-decoration-color: #800080; font-weight: bold\"> Name          </span>┃<span style=\"color: #800080; text-decoration-color: #800080; font-weight: bold\"> Value    </span>┃\n",
       "┡━━━━━━━━━━━━━━━╇━━━━━━━━━━┩\n",
       "│<span style=\"color: #800080; text-decoration-color: #800080\"> detection_map </span>│<span style=\"color: #c0c0c0; text-decoration-color: #c0c0c0\"> 0.17195  </span>│\n",
       "│<span style=\"color: #800080; text-decoration-color: #800080\"> map_50        </span>│<span style=\"color: #c0c0c0; text-decoration-color: #c0c0c0\"> 0.21664  </span>│\n",
       "│<span style=\"color: #800080; text-decoration-color: #800080\"> map_75        </span>│<span style=\"color: #c0c0c0; text-decoration-color: #c0c0c0\"> 0.17420  </span>│\n",
       "│<span style=\"color: #800080; text-decoration-color: #800080\"> map_small     </span>│<span style=\"color: #c0c0c0; text-decoration-color: #c0c0c0\"> -1.00000 </span>│\n",
       "│<span style=\"color: #800080; text-decoration-color: #800080\"> map_medium    </span>│<span style=\"color: #c0c0c0; text-decoration-color: #c0c0c0\"> 0.00000  </span>│\n",
       "│<span style=\"color: #800080; text-decoration-color: #800080\"> map_large     </span>│<span style=\"color: #c0c0c0; text-decoration-color: #c0c0c0\"> 0.25937  </span>│\n",
       "│<span style=\"color: #800080; text-decoration-color: #800080\"> mar_1         </span>│<span style=\"color: #c0c0c0; text-decoration-color: #c0c0c0\"> 0.28036  </span>│\n",
       "│<span style=\"color: #800080; text-decoration-color: #800080\"> mar_10        </span>│<span style=\"color: #c0c0c0; text-decoration-color: #c0c0c0\"> 0.32411  </span>│\n",
       "│<span style=\"color: #800080; text-decoration-color: #800080\"> mar_100       </span>│<span style=\"color: #c0c0c0; text-decoration-color: #c0c0c0\"> 0.32411  </span>│\n",
       "│<span style=\"color: #800080; text-decoration-color: #800080\"> mar_small     </span>│<span style=\"color: #c0c0c0; text-decoration-color: #c0c0c0\"> -1.00000 </span>│\n",
       "│<span style=\"color: #800080; text-decoration-color: #800080\"> mar_medium    </span>│<span style=\"color: #c0c0c0; text-decoration-color: #c0c0c0\"> 0.00000  </span>│\n",
       "│<span style=\"color: #800080; text-decoration-color: #800080\"> mar_large     </span>│<span style=\"color: #c0c0c0; text-decoration-color: #c0c0c0\"> 0.56786  </span>│\n",
       "│<span style=\"color: #800080; text-decoration-color: #800080\"> f1_small      </span>│<span style=\"color: #c0c0c0; text-decoration-color: #c0c0c0\"> -1.00000 </span>│\n",
       "│<span style=\"color: #800080; text-decoration-color: #800080\"> f1_medium     </span>│<span style=\"color: #c0c0c0; text-decoration-color: #c0c0c0\"> nan      </span>│\n",
       "│<span style=\"color: #800080; text-decoration-color: #800080\"> f1_large      </span>│<span style=\"color: #c0c0c0; text-decoration-color: #c0c0c0\"> 0.35610  </span>│\n",
       "└───────────────┴──────────┘\n",
       "</pre>\n"
      ],
      "text/plain": [
       "\u001b[3m       detection_head       \u001b[0m\n",
       "┏━━━━━━━━━━━━━━━┳━━━━━━━━━━┓\n",
       "┃\u001b[1;35m \u001b[0m\u001b[1;35mName         \u001b[0m\u001b[1;35m \u001b[0m┃\u001b[1;35m \u001b[0m\u001b[1;35mValue   \u001b[0m\u001b[1;35m \u001b[0m┃\n",
       "┡━━━━━━━━━━━━━━━╇━━━━━━━━━━┩\n",
       "│\u001b[35m \u001b[0m\u001b[35mdetection_map\u001b[0m\u001b[35m \u001b[0m│\u001b[37m \u001b[0m\u001b[37m0.17195 \u001b[0m\u001b[37m \u001b[0m│\n",
       "│\u001b[35m \u001b[0m\u001b[35mmap_50       \u001b[0m\u001b[35m \u001b[0m│\u001b[37m \u001b[0m\u001b[37m0.21664 \u001b[0m\u001b[37m \u001b[0m│\n",
       "│\u001b[35m \u001b[0m\u001b[35mmap_75       \u001b[0m\u001b[35m \u001b[0m│\u001b[37m \u001b[0m\u001b[37m0.17420 \u001b[0m\u001b[37m \u001b[0m│\n",
       "│\u001b[35m \u001b[0m\u001b[35mmap_small    \u001b[0m\u001b[35m \u001b[0m│\u001b[37m \u001b[0m\u001b[37m-1.00000\u001b[0m\u001b[37m \u001b[0m│\n",
       "│\u001b[35m \u001b[0m\u001b[35mmap_medium   \u001b[0m\u001b[35m \u001b[0m│\u001b[37m \u001b[0m\u001b[37m0.00000 \u001b[0m\u001b[37m \u001b[0m│\n",
       "│\u001b[35m \u001b[0m\u001b[35mmap_large    \u001b[0m\u001b[35m \u001b[0m│\u001b[37m \u001b[0m\u001b[37m0.25937 \u001b[0m\u001b[37m \u001b[0m│\n",
       "│\u001b[35m \u001b[0m\u001b[35mmar_1        \u001b[0m\u001b[35m \u001b[0m│\u001b[37m \u001b[0m\u001b[37m0.28036 \u001b[0m\u001b[37m \u001b[0m│\n",
       "│\u001b[35m \u001b[0m\u001b[35mmar_10       \u001b[0m\u001b[35m \u001b[0m│\u001b[37m \u001b[0m\u001b[37m0.32411 \u001b[0m\u001b[37m \u001b[0m│\n",
       "│\u001b[35m \u001b[0m\u001b[35mmar_100      \u001b[0m\u001b[35m \u001b[0m│\u001b[37m \u001b[0m\u001b[37m0.32411 \u001b[0m\u001b[37m \u001b[0m│\n",
       "│\u001b[35m \u001b[0m\u001b[35mmar_small    \u001b[0m\u001b[35m \u001b[0m│\u001b[37m \u001b[0m\u001b[37m-1.00000\u001b[0m\u001b[37m \u001b[0m│\n",
       "│\u001b[35m \u001b[0m\u001b[35mmar_medium   \u001b[0m\u001b[35m \u001b[0m│\u001b[37m \u001b[0m\u001b[37m0.00000 \u001b[0m\u001b[37m \u001b[0m│\n",
       "│\u001b[35m \u001b[0m\u001b[35mmar_large    \u001b[0m\u001b[35m \u001b[0m│\u001b[37m \u001b[0m\u001b[37m0.56786 \u001b[0m\u001b[37m \u001b[0m│\n",
       "│\u001b[35m \u001b[0m\u001b[35mf1_small     \u001b[0m\u001b[35m \u001b[0m│\u001b[37m \u001b[0m\u001b[37m-1.00000\u001b[0m\u001b[37m \u001b[0m│\n",
       "│\u001b[35m \u001b[0m\u001b[35mf1_medium    \u001b[0m\u001b[35m \u001b[0m│\u001b[37m \u001b[0m\u001b[37mnan     \u001b[0m\u001b[37m \u001b[0m│\n",
       "│\u001b[35m \u001b[0m\u001b[35mf1_large     \u001b[0m\u001b[35m \u001b[0m│\u001b[37m \u001b[0m\u001b[37m0.35610 \u001b[0m\u001b[37m \u001b[0m│\n",
       "└───────────────┴──────────┘\n"
      ]
     },
     "metadata": {},
     "output_type": "display_data"
    },
    {
     "data": {
      "text/html": [
       "<pre style=\"white-space:pre;overflow-x:auto;line-height:normal;font-family:Menlo,'DejaVu Sans Mono',consolas,'Courier New',monospace\"><span style=\"color: #800080; text-decoration-color: #800080; font-weight: bold\">───────────────────────────────────────────────────────────────────────────────────────────────────────────────────</span>\n",
       "</pre>\n"
      ],
      "text/plain": [
       "\u001b[1;35m───────────────────────────────────────────────────────────────────────────────────────────────────────────────────\u001b[0m\n"
      ]
     },
     "metadata": {},
     "output_type": "display_data"
    },
    {
     "data": {
      "text/html": [
       "<pre style=\"white-space:pre;overflow-x:auto;line-height:normal;font-family:Menlo,'DejaVu Sans Mono',consolas,'Courier New',monospace\"><span style=\"color: #008000; text-decoration-color: #008000\">INFO    </span> Validation main metric <span style=\"font-weight: bold\">(</span>detection_head/detection_map<span style=\"font-weight: bold\">)</span>: <span style=\"color: #008080; text-decoration-color: #008080; font-weight: bold\">0.1719</span>                     <a href=\"file:///opt/conda/lib/python3.11/site-packages/luxonis_train/models/luxonis_lightning.py\" target=\"_blank\"><span style=\"color: #7f7f7f; text-decoration-color: #7f7f7f\">luxonis_lightning.py</span></a><span style=\"color: #7f7f7f; text-decoration-color: #7f7f7f\">:</span><a href=\"file:///opt/conda/lib/python3.11/site-packages/luxonis_train/models/luxonis_lightning.py#924\" target=\"_blank\"><span style=\"color: #7f7f7f; text-decoration-color: #7f7f7f\">924</span></a>\n",
       "</pre>\n"
      ],
      "text/plain": [
       "\u001b[32mINFO    \u001b[0m Validation main metric \u001b[1m(\u001b[0mdetection_head/detection_map\u001b[1m)\u001b[0m: \u001b[1;36m0.1719\u001b[0m                     \u001b]8;id=803631;file:///opt/conda/lib/python3.11/site-packages/luxonis_train/models/luxonis_lightning.py\u001b\\\u001b[2mluxonis_lightning.py\u001b[0m\u001b]8;;\u001b\\\u001b[2m:\u001b[0m\u001b]8;id=28898;file:///opt/conda/lib/python3.11/site-packages/luxonis_train/models/luxonis_lightning.py#924\u001b\\\u001b[2m924\u001b[0m\u001b]8;;\u001b\\\n"
      ]
     },
     "metadata": {},
     "output_type": "display_data"
    },
    {
     "data": {
      "text/html": [
       "<pre style=\"white-space:pre;overflow-x:auto;line-height:normal;font-family:Menlo,'DejaVu Sans Mono',consolas,'Courier New',monospace\"></pre>\n"
      ],
      "text/plain": []
     },
     "metadata": {},
     "output_type": "display_data"
    },
    {
     "data": {
      "text/html": [
       "<pre style=\"white-space:pre;overflow-x:auto;line-height:normal;font-family:Menlo,'DejaVu Sans Mono',consolas,'Courier New',monospace\">\n",
       "</pre>\n"
      ],
      "text/plain": [
       "\n"
      ]
     },
     "metadata": {},
     "output_type": "display_data"
    },
    {
     "data": {
      "application/vnd.jupyter.widget-view+json": {
       "model_id": "08c70eb2cba249b0999ce9d18fec6bf8",
       "version_major": 2,
       "version_minor": 0
      },
      "text/plain": [
       "Output()"
      ]
     },
     "metadata": {},
     "output_type": "display_data"
    },
    {
     "data": {
      "text/html": [
       "<pre style=\"white-space:pre;overflow-x:auto;line-height:normal;font-family:Menlo,'DejaVu Sans Mono',consolas,'Courier New',monospace\"></pre>\n"
      ],
      "text/plain": []
     },
     "metadata": {},
     "output_type": "display_data"
    },
    {
     "data": {
      "text/html": [
       "<pre style=\"white-space:pre;overflow-x:auto;line-height:normal;font-family:Menlo,'DejaVu Sans Mono',consolas,'Courier New',monospace\">\n",
       "</pre>\n"
      ],
      "text/plain": [
       "\n"
      ]
     },
     "metadata": {},
     "output_type": "display_data"
    },
    {
     "data": {
      "application/vnd.jupyter.widget-view+json": {
       "model_id": "6f20ddd112e74153aabbae183751567d",
       "version_major": 2,
       "version_minor": 0
      },
      "text/plain": [
       "Output()"
      ]
     },
     "metadata": {},
     "output_type": "display_data"
    },
    {
     "data": {
      "text/html": [
       "<pre style=\"white-space:pre;overflow-x:auto;line-height:normal;font-family:Menlo,'DejaVu Sans Mono',consolas,'Courier New',monospace\"></pre>\n"
      ],
      "text/plain": []
     },
     "metadata": {},
     "output_type": "display_data"
    },
    {
     "data": {
      "text/html": [
       "<pre style=\"white-space:pre;overflow-x:auto;line-height:normal;font-family:Menlo,'DejaVu Sans Mono',consolas,'Courier New',monospace\">\n",
       "</pre>\n"
      ],
      "text/plain": [
       "\n"
      ]
     },
     "metadata": {},
     "output_type": "display_data"
    },
    {
     "data": {
      "application/vnd.jupyter.widget-view+json": {
       "model_id": "c939cea63cef4ca39d4211fcbc8f2b8a",
       "version_major": 2,
       "version_minor": 0
      },
      "text/plain": [
       "Output()"
      ]
     },
     "metadata": {},
     "output_type": "display_data"
    },
    {
     "data": {
      "text/html": [
       "<pre style=\"white-space:pre;overflow-x:auto;line-height:normal;font-family:Menlo,'DejaVu Sans Mono',consolas,'Courier New',monospace\"></pre>\n"
      ],
      "text/plain": []
     },
     "metadata": {},
     "output_type": "display_data"
    },
    {
     "data": {
      "text/html": [
       "<pre style=\"white-space:pre;overflow-x:auto;line-height:normal;font-family:Menlo,'DejaVu Sans Mono',consolas,'Courier New',monospace\">\n",
       "</pre>\n"
      ],
      "text/plain": [
       "\n"
      ]
     },
     "metadata": {},
     "output_type": "display_data"
    },
    {
     "data": {
      "application/vnd.jupyter.widget-view+json": {
       "model_id": "fe626f6f5e014eceb5811331d4c2dedd",
       "version_major": 2,
       "version_minor": 0
      },
      "text/plain": [
       "Output()"
      ]
     },
     "metadata": {},
     "output_type": "display_data"
    },
    {
     "data": {
      "text/html": [
       "<pre style=\"white-space:pre;overflow-x:auto;line-height:normal;font-family:Menlo,'DejaVu Sans Mono',consolas,'Courier New',monospace\"></pre>\n"
      ],
      "text/plain": []
     },
     "metadata": {},
     "output_type": "display_data"
    },
    {
     "data": {
      "text/html": [
       "<pre style=\"white-space:pre;overflow-x:auto;line-height:normal;font-family:Menlo,'DejaVu Sans Mono',consolas,'Courier New',monospace\">\n",
       "</pre>\n"
      ],
      "text/plain": [
       "\n"
      ]
     },
     "metadata": {},
     "output_type": "display_data"
    },
    {
     "data": {
      "application/vnd.jupyter.widget-view+json": {
       "model_id": "d415be48349142378a57326a69df1437",
       "version_major": 2,
       "version_minor": 0
      },
      "text/plain": [
       "Output()"
      ]
     },
     "metadata": {},
     "output_type": "display_data"
    },
    {
     "data": {
      "text/html": [
       "<pre style=\"white-space:pre;overflow-x:auto;line-height:normal;font-family:Menlo,'DejaVu Sans Mono',consolas,'Courier New',monospace\"></pre>\n"
      ],
      "text/plain": []
     },
     "metadata": {},
     "output_type": "display_data"
    },
    {
     "data": {
      "text/html": [
       "<pre style=\"white-space:pre;overflow-x:auto;line-height:normal;font-family:Menlo,'DejaVu Sans Mono',consolas,'Courier New',monospace\">\n",
       "</pre>\n"
      ],
      "text/plain": [
       "\n"
      ]
     },
     "metadata": {},
     "output_type": "display_data"
    },
    {
     "data": {
      "application/vnd.jupyter.widget-view+json": {
       "model_id": "6f8cf575c301409e8d3c679d6c028678",
       "version_major": 2,
       "version_minor": 0
      },
      "text/plain": [
       "Output()"
      ]
     },
     "metadata": {},
     "output_type": "display_data"
    },
    {
     "data": {
      "text/html": [
       "<pre style=\"white-space:pre;overflow-x:auto;line-height:normal;font-family:Menlo,'DejaVu Sans Mono',consolas,'Courier New',monospace\"></pre>\n"
      ],
      "text/plain": []
     },
     "metadata": {},
     "output_type": "display_data"
    },
    {
     "data": {
      "text/html": [
       "<pre style=\"white-space:pre;overflow-x:auto;line-height:normal;font-family:Menlo,'DejaVu Sans Mono',consolas,'Courier New',monospace\">\n",
       "</pre>\n"
      ],
      "text/plain": [
       "\n"
      ]
     },
     "metadata": {},
     "output_type": "display_data"
    },
    {
     "data": {
      "application/vnd.jupyter.widget-view+json": {
       "model_id": "5735566e78c2415cba11c5e963f8a83c",
       "version_major": 2,
       "version_minor": 0
      },
      "text/plain": [
       "Output()"
      ]
     },
     "metadata": {},
     "output_type": "display_data"
    },
    {
     "data": {
      "text/html": [
       "<pre style=\"white-space:pre;overflow-x:auto;line-height:normal;font-family:Menlo,'DejaVu Sans Mono',consolas,'Courier New',monospace\"></pre>\n"
      ],
      "text/plain": []
     },
     "metadata": {},
     "output_type": "display_data"
    },
    {
     "data": {
      "text/html": [
       "<pre style=\"white-space:pre;overflow-x:auto;line-height:normal;font-family:Menlo,'DejaVu Sans Mono',consolas,'Courier New',monospace\">\n",
       "</pre>\n"
      ],
      "text/plain": [
       "\n"
      ]
     },
     "metadata": {},
     "output_type": "display_data"
    },
    {
     "data": {
      "application/vnd.jupyter.widget-view+json": {
       "model_id": "89652622883f4a988c0547fb01a67601",
       "version_major": 2,
       "version_minor": 0
      },
      "text/plain": [
       "Output()"
      ]
     },
     "metadata": {},
     "output_type": "display_data"
    },
    {
     "data": {
      "text/html": [
       "<pre style=\"white-space:pre;overflow-x:auto;line-height:normal;font-family:Menlo,'DejaVu Sans Mono',consolas,'Courier New',monospace\"></pre>\n"
      ],
      "text/plain": []
     },
     "metadata": {},
     "output_type": "display_data"
    },
    {
     "data": {
      "text/html": [
       "<pre style=\"white-space:pre;overflow-x:auto;line-height:normal;font-family:Menlo,'DejaVu Sans Mono',consolas,'Courier New',monospace\">\n",
       "</pre>\n"
      ],
      "text/plain": [
       "\n"
      ]
     },
     "metadata": {},
     "output_type": "display_data"
    },
    {
     "data": {
      "application/vnd.jupyter.widget-view+json": {
       "model_id": "61fff55cb2cc4643b91203db07ae4ec2",
       "version_major": 2,
       "version_minor": 0
      },
      "text/plain": [
       "Output()"
      ]
     },
     "metadata": {},
     "output_type": "display_data"
    },
    {
     "data": {
      "text/html": [
       "<pre style=\"white-space:pre;overflow-x:auto;line-height:normal;font-family:Menlo,'DejaVu Sans Mono',consolas,'Courier New',monospace\"></pre>\n"
      ],
      "text/plain": []
     },
     "metadata": {},
     "output_type": "display_data"
    },
    {
     "data": {
      "text/html": [
       "<pre style=\"white-space:pre;overflow-x:auto;line-height:normal;font-family:Menlo,'DejaVu Sans Mono',consolas,'Courier New',monospace\">\n",
       "</pre>\n"
      ],
      "text/plain": [
       "\n"
      ]
     },
     "metadata": {},
     "output_type": "display_data"
    },
    {
     "data": {
      "application/vnd.jupyter.widget-view+json": {
       "model_id": "1ed7b04b862942fcbc8ade4684f983d3",
       "version_major": 2,
       "version_minor": 0
      },
      "text/plain": [
       "Output()"
      ]
     },
     "metadata": {},
     "output_type": "display_data"
    },
    {
     "data": {
      "text/html": [
       "<pre style=\"white-space:pre;overflow-x:auto;line-height:normal;font-family:Menlo,'DejaVu Sans Mono',consolas,'Courier New',monospace\"><span style=\"color: #008000; text-decoration-color: #008000\">INFO    </span> Computing metrics on val subset <span style=\"color: #808000; text-decoration-color: #808000\">...</span>                                               <a href=\"file:///opt/conda/lib/python3.11/site-packages/luxonis_train/models/luxonis_lightning.py\" target=\"_blank\"><span style=\"color: #7f7f7f; text-decoration-color: #7f7f7f\">luxonis_lightning.py</span></a><span style=\"color: #7f7f7f; text-decoration-color: #7f7f7f\">:</span><a href=\"file:///opt/conda/lib/python3.11/site-packages/luxonis_train/models/luxonis_lightning.py#732\" target=\"_blank\"><span style=\"color: #7f7f7f; text-decoration-color: #7f7f7f\">732</span></a>\n",
       "</pre>\n"
      ],
      "text/plain": [
       "\u001b[32mINFO    \u001b[0m Computing metrics on val subset \u001b[33m...\u001b[0m                                               \u001b]8;id=347538;file:///opt/conda/lib/python3.11/site-packages/luxonis_train/models/luxonis_lightning.py\u001b\\\u001b[2mluxonis_lightning.py\u001b[0m\u001b]8;;\u001b\\\u001b[2m:\u001b[0m\u001b]8;id=340272;file:///opt/conda/lib/python3.11/site-packages/luxonis_train/models/luxonis_lightning.py#732\u001b\\\u001b[2m732\u001b[0m\u001b]8;;\u001b\\\n"
      ]
     },
     "metadata": {},
     "output_type": "display_data"
    },
    {
     "data": {
      "text/html": [
       "<pre style=\"white-space:pre;overflow-x:auto;line-height:normal;font-family:Menlo,'DejaVu Sans Mono',consolas,'Courier New',monospace\"><span style=\"color: #008000; text-decoration-color: #008000\">INFO    </span> Metrics computed.                                                                 <a href=\"file:///opt/conda/lib/python3.11/site-packages/luxonis_train/models/luxonis_lightning.py\" target=\"_blank\"><span style=\"color: #7f7f7f; text-decoration-color: #7f7f7f\">luxonis_lightning.py</span></a><span style=\"color: #7f7f7f; text-decoration-color: #7f7f7f\">:</span><a href=\"file:///opt/conda/lib/python3.11/site-packages/luxonis_train/models/luxonis_lightning.py#734\" target=\"_blank\"><span style=\"color: #7f7f7f; text-decoration-color: #7f7f7f\">734</span></a>\n",
       "</pre>\n"
      ],
      "text/plain": [
       "\u001b[32mINFO    \u001b[0m Metrics computed.                                                                 \u001b]8;id=730226;file:///opt/conda/lib/python3.11/site-packages/luxonis_train/models/luxonis_lightning.py\u001b\\\u001b[2mluxonis_lightning.py\u001b[0m\u001b]8;;\u001b\\\u001b[2m:\u001b[0m\u001b]8;id=11636;file:///opt/conda/lib/python3.11/site-packages/luxonis_train/models/luxonis_lightning.py#734\u001b\\\u001b[2m734\u001b[0m\u001b]8;;\u001b\\\n"
      ]
     },
     "metadata": {},
     "output_type": "display_data"
    },
    {
     "data": {
      "text/html": [
       "<pre style=\"white-space:pre;overflow-x:auto;line-height:normal;font-family:Menlo,'DejaVu Sans Mono',consolas,'Courier New',monospace\"><span style=\"color: #008000; text-decoration-color: #008000\">INFO    </span> Validation loss: <span style=\"color: #008080; text-decoration-color: #008080; font-weight: bold\">1.4934</span>                                                           <a href=\"file:///opt/conda/lib/python3.11/site-packages/luxonis_train/models/luxonis_lightning.py\" target=\"_blank\"><span style=\"color: #7f7f7f; text-decoration-color: #7f7f7f\">luxonis_lightning.py</span></a><span style=\"color: #7f7f7f; text-decoration-color: #7f7f7f\">:</span><a href=\"file:///opt/conda/lib/python3.11/site-packages/luxonis_train/models/luxonis_lightning.py#915\" target=\"_blank\"><span style=\"color: #7f7f7f; text-decoration-color: #7f7f7f\">915</span></a>\n",
       "</pre>\n"
      ],
      "text/plain": [
       "\u001b[32mINFO    \u001b[0m Validation loss: \u001b[1;36m1.4934\u001b[0m                                                           \u001b]8;id=789395;file:///opt/conda/lib/python3.11/site-packages/luxonis_train/models/luxonis_lightning.py\u001b\\\u001b[2mluxonis_lightning.py\u001b[0m\u001b]8;;\u001b\\\u001b[2m:\u001b[0m\u001b]8;id=924402;file:///opt/conda/lib/python3.11/site-packages/luxonis_train/models/luxonis_lightning.py#915\u001b\\\u001b[2m915\u001b[0m\u001b]8;;\u001b\\\n"
      ]
     },
     "metadata": {},
     "output_type": "display_data"
    },
    {
     "data": {
      "text/html": [
       "<pre style=\"white-space:pre;overflow-x:auto;line-height:normal;font-family:Menlo,'DejaVu Sans Mono',consolas,'Courier New',monospace\"><span style=\"color: #800080; text-decoration-color: #800080; font-weight: bold\">─────────────────────────────────────────────────── </span>Validation<span style=\"color: #800080; text-decoration-color: #800080; font-weight: bold\"> ────────────────────────────────────────────────────</span>\n",
       "</pre>\n"
      ],
      "text/plain": [
       "\u001b[1;35m─────────────────────────────────────────────────── \u001b[0mValidation\u001b[1;35m ────────────────────────────────────────────────────\u001b[0m\n"
      ]
     },
     "metadata": {},
     "output_type": "display_data"
    },
    {
     "data": {
      "text/html": [
       "<pre style=\"white-space:pre;overflow-x:auto;line-height:normal;font-family:Menlo,'DejaVu Sans Mono',consolas,'Courier New',monospace\"><span style=\"color: #800080; text-decoration-color: #800080; font-weight: bold\">Loss:</span> <span style=\"color: #c0c0c0; text-decoration-color: #c0c0c0; font-weight: bold\">1.4934165477752686</span>\n",
       "</pre>\n"
      ],
      "text/plain": [
       "\u001b[1;35mLoss:\u001b[0m \u001b[1;37m1.4934165477752686\u001b[0m\n"
      ]
     },
     "metadata": {},
     "output_type": "display_data"
    },
    {
     "data": {
      "text/html": [
       "<pre style=\"white-space:pre;overflow-x:auto;line-height:normal;font-family:Menlo,'DejaVu Sans Mono',consolas,'Courier New',monospace\"><span style=\"color: #800080; text-decoration-color: #800080; font-weight: bold\">Metrics:</span>\n",
       "</pre>\n"
      ],
      "text/plain": [
       "\u001b[1;35mMetrics:\u001b[0m\n"
      ]
     },
     "metadata": {},
     "output_type": "display_data"
    },
    {
     "data": {
      "text/html": [
       "<pre style=\"white-space:pre;overflow-x:auto;line-height:normal;font-family:Menlo,'DejaVu Sans Mono',consolas,'Courier New',monospace\"><span style=\"font-style: italic\">       detection_head       </span>\n",
       "┏━━━━━━━━━━━━━━━┳━━━━━━━━━━┓\n",
       "┃<span style=\"color: #800080; text-decoration-color: #800080; font-weight: bold\"> Name          </span>┃<span style=\"color: #800080; text-decoration-color: #800080; font-weight: bold\"> Value    </span>┃\n",
       "┡━━━━━━━━━━━━━━━╇━━━━━━━━━━┩\n",
       "│<span style=\"color: #800080; text-decoration-color: #800080\"> detection_map </span>│<span style=\"color: #c0c0c0; text-decoration-color: #c0c0c0\"> 0.17509  </span>│\n",
       "│<span style=\"color: #800080; text-decoration-color: #800080\"> map_50        </span>│<span style=\"color: #c0c0c0; text-decoration-color: #c0c0c0\"> 0.27008  </span>│\n",
       "│<span style=\"color: #800080; text-decoration-color: #800080\"> map_75        </span>│<span style=\"color: #c0c0c0; text-decoration-color: #c0c0c0\"> 0.17079  </span>│\n",
       "│<span style=\"color: #800080; text-decoration-color: #800080\"> map_small     </span>│<span style=\"color: #c0c0c0; text-decoration-color: #c0c0c0\"> -1.00000 </span>│\n",
       "│<span style=\"color: #800080; text-decoration-color: #800080\"> map_medium    </span>│<span style=\"color: #c0c0c0; text-decoration-color: #c0c0c0\"> 0.00000  </span>│\n",
       "│<span style=\"color: #800080; text-decoration-color: #800080\"> map_large     </span>│<span style=\"color: #c0c0c0; text-decoration-color: #c0c0c0\"> 0.30831  </span>│\n",
       "│<span style=\"color: #800080; text-decoration-color: #800080\"> mar_1         </span>│<span style=\"color: #c0c0c0; text-decoration-color: #c0c0c0\"> 0.29018  </span>│\n",
       "│<span style=\"color: #800080; text-decoration-color: #800080\"> mar_10        </span>│<span style=\"color: #c0c0c0; text-decoration-color: #c0c0c0\"> 0.29018  </span>│\n",
       "│<span style=\"color: #800080; text-decoration-color: #800080\"> mar_100       </span>│<span style=\"color: #c0c0c0; text-decoration-color: #c0c0c0\"> 0.29018  </span>│\n",
       "│<span style=\"color: #800080; text-decoration-color: #800080\"> mar_small     </span>│<span style=\"color: #c0c0c0; text-decoration-color: #c0c0c0\"> -1.00000 </span>│\n",
       "│<span style=\"color: #800080; text-decoration-color: #800080\"> mar_medium    </span>│<span style=\"color: #c0c0c0; text-decoration-color: #c0c0c0\"> 0.00000  </span>│\n",
       "│<span style=\"color: #800080; text-decoration-color: #800080\"> mar_large     </span>│<span style=\"color: #c0c0c0; text-decoration-color: #c0c0c0\"> 0.49643  </span>│\n",
       "│<span style=\"color: #800080; text-decoration-color: #800080\"> f1_small      </span>│<span style=\"color: #c0c0c0; text-decoration-color: #c0c0c0\"> -1.00000 </span>│\n",
       "│<span style=\"color: #800080; text-decoration-color: #800080\"> f1_medium     </span>│<span style=\"color: #c0c0c0; text-decoration-color: #c0c0c0\"> nan      </span>│\n",
       "│<span style=\"color: #800080; text-decoration-color: #800080\"> f1_large      </span>│<span style=\"color: #c0c0c0; text-decoration-color: #c0c0c0\"> 0.38038  </span>│\n",
       "└───────────────┴──────────┘\n",
       "</pre>\n"
      ],
      "text/plain": [
       "\u001b[3m       detection_head       \u001b[0m\n",
       "┏━━━━━━━━━━━━━━━┳━━━━━━━━━━┓\n",
       "┃\u001b[1;35m \u001b[0m\u001b[1;35mName         \u001b[0m\u001b[1;35m \u001b[0m┃\u001b[1;35m \u001b[0m\u001b[1;35mValue   \u001b[0m\u001b[1;35m \u001b[0m┃\n",
       "┡━━━━━━━━━━━━━━━╇━━━━━━━━━━┩\n",
       "│\u001b[35m \u001b[0m\u001b[35mdetection_map\u001b[0m\u001b[35m \u001b[0m│\u001b[37m \u001b[0m\u001b[37m0.17509 \u001b[0m\u001b[37m \u001b[0m│\n",
       "│\u001b[35m \u001b[0m\u001b[35mmap_50       \u001b[0m\u001b[35m \u001b[0m│\u001b[37m \u001b[0m\u001b[37m0.27008 \u001b[0m\u001b[37m \u001b[0m│\n",
       "│\u001b[35m \u001b[0m\u001b[35mmap_75       \u001b[0m\u001b[35m \u001b[0m│\u001b[37m \u001b[0m\u001b[37m0.17079 \u001b[0m\u001b[37m \u001b[0m│\n",
       "│\u001b[35m \u001b[0m\u001b[35mmap_small    \u001b[0m\u001b[35m \u001b[0m│\u001b[37m \u001b[0m\u001b[37m-1.00000\u001b[0m\u001b[37m \u001b[0m│\n",
       "│\u001b[35m \u001b[0m\u001b[35mmap_medium   \u001b[0m\u001b[35m \u001b[0m│\u001b[37m \u001b[0m\u001b[37m0.00000 \u001b[0m\u001b[37m \u001b[0m│\n",
       "│\u001b[35m \u001b[0m\u001b[35mmap_large    \u001b[0m\u001b[35m \u001b[0m│\u001b[37m \u001b[0m\u001b[37m0.30831 \u001b[0m\u001b[37m \u001b[0m│\n",
       "│\u001b[35m \u001b[0m\u001b[35mmar_1        \u001b[0m\u001b[35m \u001b[0m│\u001b[37m \u001b[0m\u001b[37m0.29018 \u001b[0m\u001b[37m \u001b[0m│\n",
       "│\u001b[35m \u001b[0m\u001b[35mmar_10       \u001b[0m\u001b[35m \u001b[0m│\u001b[37m \u001b[0m\u001b[37m0.29018 \u001b[0m\u001b[37m \u001b[0m│\n",
       "│\u001b[35m \u001b[0m\u001b[35mmar_100      \u001b[0m\u001b[35m \u001b[0m│\u001b[37m \u001b[0m\u001b[37m0.29018 \u001b[0m\u001b[37m \u001b[0m│\n",
       "│\u001b[35m \u001b[0m\u001b[35mmar_small    \u001b[0m\u001b[35m \u001b[0m│\u001b[37m \u001b[0m\u001b[37m-1.00000\u001b[0m\u001b[37m \u001b[0m│\n",
       "│\u001b[35m \u001b[0m\u001b[35mmar_medium   \u001b[0m\u001b[35m \u001b[0m│\u001b[37m \u001b[0m\u001b[37m0.00000 \u001b[0m\u001b[37m \u001b[0m│\n",
       "│\u001b[35m \u001b[0m\u001b[35mmar_large    \u001b[0m\u001b[35m \u001b[0m│\u001b[37m \u001b[0m\u001b[37m0.49643 \u001b[0m\u001b[37m \u001b[0m│\n",
       "│\u001b[35m \u001b[0m\u001b[35mf1_small     \u001b[0m\u001b[35m \u001b[0m│\u001b[37m \u001b[0m\u001b[37m-1.00000\u001b[0m\u001b[37m \u001b[0m│\n",
       "│\u001b[35m \u001b[0m\u001b[35mf1_medium    \u001b[0m\u001b[35m \u001b[0m│\u001b[37m \u001b[0m\u001b[37mnan     \u001b[0m\u001b[37m \u001b[0m│\n",
       "│\u001b[35m \u001b[0m\u001b[35mf1_large     \u001b[0m\u001b[35m \u001b[0m│\u001b[37m \u001b[0m\u001b[37m0.38038 \u001b[0m\u001b[37m \u001b[0m│\n",
       "└───────────────┴──────────┘\n"
      ]
     },
     "metadata": {},
     "output_type": "display_data"
    },
    {
     "data": {
      "text/html": [
       "<pre style=\"white-space:pre;overflow-x:auto;line-height:normal;font-family:Menlo,'DejaVu Sans Mono',consolas,'Courier New',monospace\"><span style=\"color: #800080; text-decoration-color: #800080; font-weight: bold\">───────────────────────────────────────────────────────────────────────────────────────────────────────────────────</span>\n",
       "</pre>\n"
      ],
      "text/plain": [
       "\u001b[1;35m───────────────────────────────────────────────────────────────────────────────────────────────────────────────────\u001b[0m\n"
      ]
     },
     "metadata": {},
     "output_type": "display_data"
    },
    {
     "data": {
      "text/html": [
       "<pre style=\"white-space:pre;overflow-x:auto;line-height:normal;font-family:Menlo,'DejaVu Sans Mono',consolas,'Courier New',monospace\"><span style=\"color: #008000; text-decoration-color: #008000\">INFO    </span> Validation main metric <span style=\"font-weight: bold\">(</span>detection_head/detection_map<span style=\"font-weight: bold\">)</span>: <span style=\"color: #008080; text-decoration-color: #008080; font-weight: bold\">0.1751</span>                     <a href=\"file:///opt/conda/lib/python3.11/site-packages/luxonis_train/models/luxonis_lightning.py\" target=\"_blank\"><span style=\"color: #7f7f7f; text-decoration-color: #7f7f7f\">luxonis_lightning.py</span></a><span style=\"color: #7f7f7f; text-decoration-color: #7f7f7f\">:</span><a href=\"file:///opt/conda/lib/python3.11/site-packages/luxonis_train/models/luxonis_lightning.py#924\" target=\"_blank\"><span style=\"color: #7f7f7f; text-decoration-color: #7f7f7f\">924</span></a>\n",
       "</pre>\n"
      ],
      "text/plain": [
       "\u001b[32mINFO    \u001b[0m Validation main metric \u001b[1m(\u001b[0mdetection_head/detection_map\u001b[1m)\u001b[0m: \u001b[1;36m0.1751\u001b[0m                     \u001b]8;id=965713;file:///opt/conda/lib/python3.11/site-packages/luxonis_train/models/luxonis_lightning.py\u001b\\\u001b[2mluxonis_lightning.py\u001b[0m\u001b]8;;\u001b\\\u001b[2m:\u001b[0m\u001b]8;id=360257;file:///opt/conda/lib/python3.11/site-packages/luxonis_train/models/luxonis_lightning.py#924\u001b\\\u001b[2m924\u001b[0m\u001b]8;;\u001b\\\n"
      ]
     },
     "metadata": {},
     "output_type": "display_data"
    },
    {
     "data": {
      "text/html": [
       "<pre style=\"white-space:pre;overflow-x:auto;line-height:normal;font-family:Menlo,'DejaVu Sans Mono',consolas,'Courier New',monospace\"></pre>\n"
      ],
      "text/plain": []
     },
     "metadata": {},
     "output_type": "display_data"
    },
    {
     "data": {
      "text/html": [
       "<pre style=\"white-space:pre;overflow-x:auto;line-height:normal;font-family:Menlo,'DejaVu Sans Mono',consolas,'Courier New',monospace\">\n",
       "</pre>\n"
      ],
      "text/plain": [
       "\n"
      ]
     },
     "metadata": {},
     "output_type": "display_data"
    },
    {
     "data": {
      "application/vnd.jupyter.widget-view+json": {
       "model_id": "d0573ab30b0a4dfea63f9c2c5fea9fce",
       "version_major": 2,
       "version_minor": 0
      },
      "text/plain": [
       "Output()"
      ]
     },
     "metadata": {},
     "output_type": "display_data"
    },
    {
     "data": {
      "text/html": [
       "<pre style=\"white-space:pre;overflow-x:auto;line-height:normal;font-family:Menlo,'DejaVu Sans Mono',consolas,'Courier New',monospace\"></pre>\n"
      ],
      "text/plain": []
     },
     "metadata": {},
     "output_type": "display_data"
    },
    {
     "data": {
      "text/html": [
       "<pre style=\"white-space:pre;overflow-x:auto;line-height:normal;font-family:Menlo,'DejaVu Sans Mono',consolas,'Courier New',monospace\">\n",
       "</pre>\n"
      ],
      "text/plain": [
       "\n"
      ]
     },
     "metadata": {},
     "output_type": "display_data"
    },
    {
     "data": {
      "application/vnd.jupyter.widget-view+json": {
       "model_id": "fd5395ccc2084b08aab269068a704f30",
       "version_major": 2,
       "version_minor": 0
      },
      "text/plain": [
       "Output()"
      ]
     },
     "metadata": {},
     "output_type": "display_data"
    },
    {
     "data": {
      "text/html": [
       "<pre style=\"white-space:pre;overflow-x:auto;line-height:normal;font-family:Menlo,'DejaVu Sans Mono',consolas,'Courier New',monospace\"></pre>\n"
      ],
      "text/plain": []
     },
     "metadata": {},
     "output_type": "display_data"
    },
    {
     "data": {
      "text/html": [
       "<pre style=\"white-space:pre;overflow-x:auto;line-height:normal;font-family:Menlo,'DejaVu Sans Mono',consolas,'Courier New',monospace\">\n",
       "</pre>\n"
      ],
      "text/plain": [
       "\n"
      ]
     },
     "metadata": {},
     "output_type": "display_data"
    },
    {
     "data": {
      "application/vnd.jupyter.widget-view+json": {
       "model_id": "753ac25096654ec2b5f01bef263561db",
       "version_major": 2,
       "version_minor": 0
      },
      "text/plain": [
       "Output()"
      ]
     },
     "metadata": {},
     "output_type": "display_data"
    },
    {
     "data": {
      "text/html": [
       "<pre style=\"white-space:pre;overflow-x:auto;line-height:normal;font-family:Menlo,'DejaVu Sans Mono',consolas,'Courier New',monospace\"></pre>\n"
      ],
      "text/plain": []
     },
     "metadata": {},
     "output_type": "display_data"
    },
    {
     "data": {
      "text/html": [
       "<pre style=\"white-space:pre;overflow-x:auto;line-height:normal;font-family:Menlo,'DejaVu Sans Mono',consolas,'Courier New',monospace\">\n",
       "</pre>\n"
      ],
      "text/plain": [
       "\n"
      ]
     },
     "metadata": {},
     "output_type": "display_data"
    },
    {
     "data": {
      "application/vnd.jupyter.widget-view+json": {
       "model_id": "7e21a43c374d4c42b3637f640ee0acc8",
       "version_major": 2,
       "version_minor": 0
      },
      "text/plain": [
       "Output()"
      ]
     },
     "metadata": {},
     "output_type": "display_data"
    },
    {
     "data": {
      "text/html": [
       "<pre style=\"white-space:pre;overflow-x:auto;line-height:normal;font-family:Menlo,'DejaVu Sans Mono',consolas,'Courier New',monospace\"></pre>\n"
      ],
      "text/plain": []
     },
     "metadata": {},
     "output_type": "display_data"
    },
    {
     "data": {
      "text/html": [
       "<pre style=\"white-space:pre;overflow-x:auto;line-height:normal;font-family:Menlo,'DejaVu Sans Mono',consolas,'Courier New',monospace\">\n",
       "</pre>\n"
      ],
      "text/plain": [
       "\n"
      ]
     },
     "metadata": {},
     "output_type": "display_data"
    },
    {
     "data": {
      "application/vnd.jupyter.widget-view+json": {
       "model_id": "bb12383dd2a8418d8d23a7dac338d89f",
       "version_major": 2,
       "version_minor": 0
      },
      "text/plain": [
       "Output()"
      ]
     },
     "metadata": {},
     "output_type": "display_data"
    },
    {
     "data": {
      "text/html": [
       "<pre style=\"white-space:pre;overflow-x:auto;line-height:normal;font-family:Menlo,'DejaVu Sans Mono',consolas,'Courier New',monospace\"></pre>\n"
      ],
      "text/plain": []
     },
     "metadata": {},
     "output_type": "display_data"
    },
    {
     "data": {
      "text/html": [
       "<pre style=\"white-space:pre;overflow-x:auto;line-height:normal;font-family:Menlo,'DejaVu Sans Mono',consolas,'Courier New',monospace\">\n",
       "</pre>\n"
      ],
      "text/plain": [
       "\n"
      ]
     },
     "metadata": {},
     "output_type": "display_data"
    },
    {
     "data": {
      "application/vnd.jupyter.widget-view+json": {
       "model_id": "e86edcede2b44f639e565bd0c432ca63",
       "version_major": 2,
       "version_minor": 0
      },
      "text/plain": [
       "Output()"
      ]
     },
     "metadata": {},
     "output_type": "display_data"
    },
    {
     "data": {
      "text/html": [
       "<pre style=\"white-space:pre;overflow-x:auto;line-height:normal;font-family:Menlo,'DejaVu Sans Mono',consolas,'Courier New',monospace\"></pre>\n"
      ],
      "text/plain": []
     },
     "metadata": {},
     "output_type": "display_data"
    },
    {
     "data": {
      "text/html": [
       "<pre style=\"white-space:pre;overflow-x:auto;line-height:normal;font-family:Menlo,'DejaVu Sans Mono',consolas,'Courier New',monospace\">\n",
       "</pre>\n"
      ],
      "text/plain": [
       "\n"
      ]
     },
     "metadata": {},
     "output_type": "display_data"
    },
    {
     "data": {
      "application/vnd.jupyter.widget-view+json": {
       "model_id": "253fe912ec6e426d99f7885eff8d4e3c",
       "version_major": 2,
       "version_minor": 0
      },
      "text/plain": [
       "Output()"
      ]
     },
     "metadata": {},
     "output_type": "display_data"
    },
    {
     "data": {
      "text/html": [
       "<pre style=\"white-space:pre;overflow-x:auto;line-height:normal;font-family:Menlo,'DejaVu Sans Mono',consolas,'Courier New',monospace\"></pre>\n"
      ],
      "text/plain": []
     },
     "metadata": {},
     "output_type": "display_data"
    },
    {
     "data": {
      "text/html": [
       "<pre style=\"white-space:pre;overflow-x:auto;line-height:normal;font-family:Menlo,'DejaVu Sans Mono',consolas,'Courier New',monospace\">\n",
       "</pre>\n"
      ],
      "text/plain": [
       "\n"
      ]
     },
     "metadata": {},
     "output_type": "display_data"
    },
    {
     "data": {
      "application/vnd.jupyter.widget-view+json": {
       "model_id": "bbaa1d3421d6454b8db05f2d709fc7a7",
       "version_major": 2,
       "version_minor": 0
      },
      "text/plain": [
       "Output()"
      ]
     },
     "metadata": {},
     "output_type": "display_data"
    },
    {
     "data": {
      "text/html": [
       "<pre style=\"white-space:pre;overflow-x:auto;line-height:normal;font-family:Menlo,'DejaVu Sans Mono',consolas,'Courier New',monospace\"></pre>\n"
      ],
      "text/plain": []
     },
     "metadata": {},
     "output_type": "display_data"
    },
    {
     "data": {
      "text/html": [
       "<pre style=\"white-space:pre;overflow-x:auto;line-height:normal;font-family:Menlo,'DejaVu Sans Mono',consolas,'Courier New',monospace\">\n",
       "</pre>\n"
      ],
      "text/plain": [
       "\n"
      ]
     },
     "metadata": {},
     "output_type": "display_data"
    },
    {
     "data": {
      "application/vnd.jupyter.widget-view+json": {
       "model_id": "7a0d5641c99a476f94fce3619b6ab67e",
       "version_major": 2,
       "version_minor": 0
      },
      "text/plain": [
       "Output()"
      ]
     },
     "metadata": {},
     "output_type": "display_data"
    },
    {
     "data": {
      "text/html": [
       "<pre style=\"white-space:pre;overflow-x:auto;line-height:normal;font-family:Menlo,'DejaVu Sans Mono',consolas,'Courier New',monospace\"></pre>\n"
      ],
      "text/plain": []
     },
     "metadata": {},
     "output_type": "display_data"
    },
    {
     "data": {
      "text/html": [
       "<pre style=\"white-space:pre;overflow-x:auto;line-height:normal;font-family:Menlo,'DejaVu Sans Mono',consolas,'Courier New',monospace\">\n",
       "</pre>\n"
      ],
      "text/plain": [
       "\n"
      ]
     },
     "metadata": {},
     "output_type": "display_data"
    },
    {
     "data": {
      "application/vnd.jupyter.widget-view+json": {
       "model_id": "48a8f0fdd03b4c89b58809250759e630",
       "version_major": 2,
       "version_minor": 0
      },
      "text/plain": [
       "Output()"
      ]
     },
     "metadata": {},
     "output_type": "display_data"
    },
    {
     "data": {
      "text/html": [
       "<pre style=\"white-space:pre;overflow-x:auto;line-height:normal;font-family:Menlo,'DejaVu Sans Mono',consolas,'Courier New',monospace\"><span style=\"color: #008000; text-decoration-color: #008000\">INFO    </span> Computing metrics on val subset <span style=\"color: #808000; text-decoration-color: #808000\">...</span>                                               <a href=\"file:///opt/conda/lib/python3.11/site-packages/luxonis_train/models/luxonis_lightning.py\" target=\"_blank\"><span style=\"color: #7f7f7f; text-decoration-color: #7f7f7f\">luxonis_lightning.py</span></a><span style=\"color: #7f7f7f; text-decoration-color: #7f7f7f\">:</span><a href=\"file:///opt/conda/lib/python3.11/site-packages/luxonis_train/models/luxonis_lightning.py#732\" target=\"_blank\"><span style=\"color: #7f7f7f; text-decoration-color: #7f7f7f\">732</span></a>\n",
       "</pre>\n"
      ],
      "text/plain": [
       "\u001b[32mINFO    \u001b[0m Computing metrics on val subset \u001b[33m...\u001b[0m                                               \u001b]8;id=31895;file:///opt/conda/lib/python3.11/site-packages/luxonis_train/models/luxonis_lightning.py\u001b\\\u001b[2mluxonis_lightning.py\u001b[0m\u001b]8;;\u001b\\\u001b[2m:\u001b[0m\u001b]8;id=991952;file:///opt/conda/lib/python3.11/site-packages/luxonis_train/models/luxonis_lightning.py#732\u001b\\\u001b[2m732\u001b[0m\u001b]8;;\u001b\\\n"
      ]
     },
     "metadata": {},
     "output_type": "display_data"
    },
    {
     "data": {
      "text/html": [
       "<pre style=\"white-space:pre;overflow-x:auto;line-height:normal;font-family:Menlo,'DejaVu Sans Mono',consolas,'Courier New',monospace\"><span style=\"color: #008000; text-decoration-color: #008000\">INFO    </span> Metrics computed.                                                                 <a href=\"file:///opt/conda/lib/python3.11/site-packages/luxonis_train/models/luxonis_lightning.py\" target=\"_blank\"><span style=\"color: #7f7f7f; text-decoration-color: #7f7f7f\">luxonis_lightning.py</span></a><span style=\"color: #7f7f7f; text-decoration-color: #7f7f7f\">:</span><a href=\"file:///opt/conda/lib/python3.11/site-packages/luxonis_train/models/luxonis_lightning.py#734\" target=\"_blank\"><span style=\"color: #7f7f7f; text-decoration-color: #7f7f7f\">734</span></a>\n",
       "</pre>\n"
      ],
      "text/plain": [
       "\u001b[32mINFO    \u001b[0m Metrics computed.                                                                 \u001b]8;id=73679;file:///opt/conda/lib/python3.11/site-packages/luxonis_train/models/luxonis_lightning.py\u001b\\\u001b[2mluxonis_lightning.py\u001b[0m\u001b]8;;\u001b\\\u001b[2m:\u001b[0m\u001b]8;id=291842;file:///opt/conda/lib/python3.11/site-packages/luxonis_train/models/luxonis_lightning.py#734\u001b\\\u001b[2m734\u001b[0m\u001b]8;;\u001b\\\n"
      ]
     },
     "metadata": {},
     "output_type": "display_data"
    },
    {
     "data": {
      "text/html": [
       "<pre style=\"white-space:pre;overflow-x:auto;line-height:normal;font-family:Menlo,'DejaVu Sans Mono',consolas,'Courier New',monospace\"><span style=\"color: #008000; text-decoration-color: #008000\">INFO    </span> Validation loss: <span style=\"color: #008080; text-decoration-color: #008080; font-weight: bold\">1.5864</span>                                                           <a href=\"file:///opt/conda/lib/python3.11/site-packages/luxonis_train/models/luxonis_lightning.py\" target=\"_blank\"><span style=\"color: #7f7f7f; text-decoration-color: #7f7f7f\">luxonis_lightning.py</span></a><span style=\"color: #7f7f7f; text-decoration-color: #7f7f7f\">:</span><a href=\"file:///opt/conda/lib/python3.11/site-packages/luxonis_train/models/luxonis_lightning.py#915\" target=\"_blank\"><span style=\"color: #7f7f7f; text-decoration-color: #7f7f7f\">915</span></a>\n",
       "</pre>\n"
      ],
      "text/plain": [
       "\u001b[32mINFO    \u001b[0m Validation loss: \u001b[1;36m1.5864\u001b[0m                                                           \u001b]8;id=154959;file:///opt/conda/lib/python3.11/site-packages/luxonis_train/models/luxonis_lightning.py\u001b\\\u001b[2mluxonis_lightning.py\u001b[0m\u001b]8;;\u001b\\\u001b[2m:\u001b[0m\u001b]8;id=301553;file:///opt/conda/lib/python3.11/site-packages/luxonis_train/models/luxonis_lightning.py#915\u001b\\\u001b[2m915\u001b[0m\u001b]8;;\u001b\\\n"
      ]
     },
     "metadata": {},
     "output_type": "display_data"
    },
    {
     "data": {
      "text/html": [
       "<pre style=\"white-space:pre;overflow-x:auto;line-height:normal;font-family:Menlo,'DejaVu Sans Mono',consolas,'Courier New',monospace\"><span style=\"color: #800080; text-decoration-color: #800080; font-weight: bold\">─────────────────────────────────────────────────── </span>Validation<span style=\"color: #800080; text-decoration-color: #800080; font-weight: bold\"> ────────────────────────────────────────────────────</span>\n",
       "</pre>\n"
      ],
      "text/plain": [
       "\u001b[1;35m─────────────────────────────────────────────────── \u001b[0mValidation\u001b[1;35m ────────────────────────────────────────────────────\u001b[0m\n"
      ]
     },
     "metadata": {},
     "output_type": "display_data"
    },
    {
     "data": {
      "text/html": [
       "<pre style=\"white-space:pre;overflow-x:auto;line-height:normal;font-family:Menlo,'DejaVu Sans Mono',consolas,'Courier New',monospace\"><span style=\"color: #800080; text-decoration-color: #800080; font-weight: bold\">Loss:</span> <span style=\"color: #c0c0c0; text-decoration-color: #c0c0c0; font-weight: bold\">1.5863916873931885</span>\n",
       "</pre>\n"
      ],
      "text/plain": [
       "\u001b[1;35mLoss:\u001b[0m \u001b[1;37m1.5863916873931885\u001b[0m\n"
      ]
     },
     "metadata": {},
     "output_type": "display_data"
    },
    {
     "data": {
      "text/html": [
       "<pre style=\"white-space:pre;overflow-x:auto;line-height:normal;font-family:Menlo,'DejaVu Sans Mono',consolas,'Courier New',monospace\"><span style=\"color: #800080; text-decoration-color: #800080; font-weight: bold\">Metrics:</span>\n",
       "</pre>\n"
      ],
      "text/plain": [
       "\u001b[1;35mMetrics:\u001b[0m\n"
      ]
     },
     "metadata": {},
     "output_type": "display_data"
    },
    {
     "data": {
      "text/html": [
       "<pre style=\"white-space:pre;overflow-x:auto;line-height:normal;font-family:Menlo,'DejaVu Sans Mono',consolas,'Courier New',monospace\"><span style=\"font-style: italic\">       detection_head       </span>\n",
       "┏━━━━━━━━━━━━━━━┳━━━━━━━━━━┓\n",
       "┃<span style=\"color: #800080; text-decoration-color: #800080; font-weight: bold\"> Name          </span>┃<span style=\"color: #800080; text-decoration-color: #800080; font-weight: bold\"> Value    </span>┃\n",
       "┡━━━━━━━━━━━━━━━╇━━━━━━━━━━┩\n",
       "│<span style=\"color: #800080; text-decoration-color: #800080\"> detection_map </span>│<span style=\"color: #c0c0c0; text-decoration-color: #c0c0c0\"> 0.12959  </span>│\n",
       "│<span style=\"color: #800080; text-decoration-color: #800080\"> map_50        </span>│<span style=\"color: #c0c0c0; text-decoration-color: #c0c0c0\"> 0.17360  </span>│\n",
       "│<span style=\"color: #800080; text-decoration-color: #800080\"> map_75        </span>│<span style=\"color: #c0c0c0; text-decoration-color: #c0c0c0\"> 0.13647  </span>│\n",
       "│<span style=\"color: #800080; text-decoration-color: #800080\"> map_small     </span>│<span style=\"color: #c0c0c0; text-decoration-color: #c0c0c0\"> -1.00000 </span>│\n",
       "│<span style=\"color: #800080; text-decoration-color: #800080\"> map_medium    </span>│<span style=\"color: #c0c0c0; text-decoration-color: #c0c0c0\"> 0.00000  </span>│\n",
       "│<span style=\"color: #800080; text-decoration-color: #800080\"> map_large     </span>│<span style=\"color: #c0c0c0; text-decoration-color: #c0c0c0\"> 0.18849  </span>│\n",
       "│<span style=\"color: #800080; text-decoration-color: #800080\"> mar_1         </span>│<span style=\"color: #c0c0c0; text-decoration-color: #c0c0c0\"> 0.25893  </span>│\n",
       "│<span style=\"color: #800080; text-decoration-color: #800080\"> mar_10        </span>│<span style=\"color: #c0c0c0; text-decoration-color: #c0c0c0\"> 0.30268  </span>│\n",
       "│<span style=\"color: #800080; text-decoration-color: #800080\"> mar_100       </span>│<span style=\"color: #c0c0c0; text-decoration-color: #c0c0c0\"> 0.30268  </span>│\n",
       "│<span style=\"color: #800080; text-decoration-color: #800080\"> mar_small     </span>│<span style=\"color: #c0c0c0; text-decoration-color: #c0c0c0\"> -1.00000 </span>│\n",
       "│<span style=\"color: #800080; text-decoration-color: #800080\"> mar_medium    </span>│<span style=\"color: #c0c0c0; text-decoration-color: #c0c0c0\"> 0.00000  </span>│\n",
       "│<span style=\"color: #800080; text-decoration-color: #800080\"> mar_large     </span>│<span style=\"color: #c0c0c0; text-decoration-color: #c0c0c0\"> 0.54643  </span>│\n",
       "│<span style=\"color: #800080; text-decoration-color: #800080\"> f1_small      </span>│<span style=\"color: #c0c0c0; text-decoration-color: #c0c0c0\"> -1.00000 </span>│\n",
       "│<span style=\"color: #800080; text-decoration-color: #800080\"> f1_medium     </span>│<span style=\"color: #c0c0c0; text-decoration-color: #c0c0c0\"> nan      </span>│\n",
       "│<span style=\"color: #800080; text-decoration-color: #800080\"> f1_large      </span>│<span style=\"color: #c0c0c0; text-decoration-color: #c0c0c0\"> 0.28029  </span>│\n",
       "└───────────────┴──────────┘\n",
       "</pre>\n"
      ],
      "text/plain": [
       "\u001b[3m       detection_head       \u001b[0m\n",
       "┏━━━━━━━━━━━━━━━┳━━━━━━━━━━┓\n",
       "┃\u001b[1;35m \u001b[0m\u001b[1;35mName         \u001b[0m\u001b[1;35m \u001b[0m┃\u001b[1;35m \u001b[0m\u001b[1;35mValue   \u001b[0m\u001b[1;35m \u001b[0m┃\n",
       "┡━━━━━━━━━━━━━━━╇━━━━━━━━━━┩\n",
       "│\u001b[35m \u001b[0m\u001b[35mdetection_map\u001b[0m\u001b[35m \u001b[0m│\u001b[37m \u001b[0m\u001b[37m0.12959 \u001b[0m\u001b[37m \u001b[0m│\n",
       "│\u001b[35m \u001b[0m\u001b[35mmap_50       \u001b[0m\u001b[35m \u001b[0m│\u001b[37m \u001b[0m\u001b[37m0.17360 \u001b[0m\u001b[37m \u001b[0m│\n",
       "│\u001b[35m \u001b[0m\u001b[35mmap_75       \u001b[0m\u001b[35m \u001b[0m│\u001b[37m \u001b[0m\u001b[37m0.13647 \u001b[0m\u001b[37m \u001b[0m│\n",
       "│\u001b[35m \u001b[0m\u001b[35mmap_small    \u001b[0m\u001b[35m \u001b[0m│\u001b[37m \u001b[0m\u001b[37m-1.00000\u001b[0m\u001b[37m \u001b[0m│\n",
       "│\u001b[35m \u001b[0m\u001b[35mmap_medium   \u001b[0m\u001b[35m \u001b[0m│\u001b[37m \u001b[0m\u001b[37m0.00000 \u001b[0m\u001b[37m \u001b[0m│\n",
       "│\u001b[35m \u001b[0m\u001b[35mmap_large    \u001b[0m\u001b[35m \u001b[0m│\u001b[37m \u001b[0m\u001b[37m0.18849 \u001b[0m\u001b[37m \u001b[0m│\n",
       "│\u001b[35m \u001b[0m\u001b[35mmar_1        \u001b[0m\u001b[35m \u001b[0m│\u001b[37m \u001b[0m\u001b[37m0.25893 \u001b[0m\u001b[37m \u001b[0m│\n",
       "│\u001b[35m \u001b[0m\u001b[35mmar_10       \u001b[0m\u001b[35m \u001b[0m│\u001b[37m \u001b[0m\u001b[37m0.30268 \u001b[0m\u001b[37m \u001b[0m│\n",
       "│\u001b[35m \u001b[0m\u001b[35mmar_100      \u001b[0m\u001b[35m \u001b[0m│\u001b[37m \u001b[0m\u001b[37m0.30268 \u001b[0m\u001b[37m \u001b[0m│\n",
       "│\u001b[35m \u001b[0m\u001b[35mmar_small    \u001b[0m\u001b[35m \u001b[0m│\u001b[37m \u001b[0m\u001b[37m-1.00000\u001b[0m\u001b[37m \u001b[0m│\n",
       "│\u001b[35m \u001b[0m\u001b[35mmar_medium   \u001b[0m\u001b[35m \u001b[0m│\u001b[37m \u001b[0m\u001b[37m0.00000 \u001b[0m\u001b[37m \u001b[0m│\n",
       "│\u001b[35m \u001b[0m\u001b[35mmar_large    \u001b[0m\u001b[35m \u001b[0m│\u001b[37m \u001b[0m\u001b[37m0.54643 \u001b[0m\u001b[37m \u001b[0m│\n",
       "│\u001b[35m \u001b[0m\u001b[35mf1_small     \u001b[0m\u001b[35m \u001b[0m│\u001b[37m \u001b[0m\u001b[37m-1.00000\u001b[0m\u001b[37m \u001b[0m│\n",
       "│\u001b[35m \u001b[0m\u001b[35mf1_medium    \u001b[0m\u001b[35m \u001b[0m│\u001b[37m \u001b[0m\u001b[37mnan     \u001b[0m\u001b[37m \u001b[0m│\n",
       "│\u001b[35m \u001b[0m\u001b[35mf1_large     \u001b[0m\u001b[35m \u001b[0m│\u001b[37m \u001b[0m\u001b[37m0.28029 \u001b[0m\u001b[37m \u001b[0m│\n",
       "└───────────────┴──────────┘\n"
      ]
     },
     "metadata": {},
     "output_type": "display_data"
    },
    {
     "data": {
      "text/html": [
       "<pre style=\"white-space:pre;overflow-x:auto;line-height:normal;font-family:Menlo,'DejaVu Sans Mono',consolas,'Courier New',monospace\"><span style=\"color: #800080; text-decoration-color: #800080; font-weight: bold\">───────────────────────────────────────────────────────────────────────────────────────────────────────────────────</span>\n",
       "</pre>\n"
      ],
      "text/plain": [
       "\u001b[1;35m───────────────────────────────────────────────────────────────────────────────────────────────────────────────────\u001b[0m\n"
      ]
     },
     "metadata": {},
     "output_type": "display_data"
    },
    {
     "data": {
      "text/html": [
       "<pre style=\"white-space:pre;overflow-x:auto;line-height:normal;font-family:Menlo,'DejaVu Sans Mono',consolas,'Courier New',monospace\"><span style=\"color: #008000; text-decoration-color: #008000\">INFO    </span> Validation main metric <span style=\"font-weight: bold\">(</span>detection_head/detection_map<span style=\"font-weight: bold\">)</span>: <span style=\"color: #008080; text-decoration-color: #008080; font-weight: bold\">0.1296</span>                     <a href=\"file:///opt/conda/lib/python3.11/site-packages/luxonis_train/models/luxonis_lightning.py\" target=\"_blank\"><span style=\"color: #7f7f7f; text-decoration-color: #7f7f7f\">luxonis_lightning.py</span></a><span style=\"color: #7f7f7f; text-decoration-color: #7f7f7f\">:</span><a href=\"file:///opt/conda/lib/python3.11/site-packages/luxonis_train/models/luxonis_lightning.py#924\" target=\"_blank\"><span style=\"color: #7f7f7f; text-decoration-color: #7f7f7f\">924</span></a>\n",
       "</pre>\n"
      ],
      "text/plain": [
       "\u001b[32mINFO    \u001b[0m Validation main metric \u001b[1m(\u001b[0mdetection_head/detection_map\u001b[1m)\u001b[0m: \u001b[1;36m0.1296\u001b[0m                     \u001b]8;id=870912;file:///opt/conda/lib/python3.11/site-packages/luxonis_train/models/luxonis_lightning.py\u001b\\\u001b[2mluxonis_lightning.py\u001b[0m\u001b]8;;\u001b\\\u001b[2m:\u001b[0m\u001b]8;id=200884;file:///opt/conda/lib/python3.11/site-packages/luxonis_train/models/luxonis_lightning.py#924\u001b\\\u001b[2m924\u001b[0m\u001b]8;;\u001b\\\n"
      ]
     },
     "metadata": {},
     "output_type": "display_data"
    },
    {
     "data": {
      "text/html": [
       "<pre style=\"white-space:pre;overflow-x:auto;line-height:normal;font-family:Menlo,'DejaVu Sans Mono',consolas,'Courier New',monospace\"></pre>\n"
      ],
      "text/plain": []
     },
     "metadata": {},
     "output_type": "display_data"
    },
    {
     "data": {
      "text/html": [
       "<pre style=\"white-space:pre;overflow-x:auto;line-height:normal;font-family:Menlo,'DejaVu Sans Mono',consolas,'Courier New',monospace\">\n",
       "</pre>\n"
      ],
      "text/plain": [
       "\n"
      ]
     },
     "metadata": {},
     "output_type": "display_data"
    },
    {
     "data": {
      "application/vnd.jupyter.widget-view+json": {
       "model_id": "996f170ecebe43478ae1f5b91dd7ee2b",
       "version_major": 2,
       "version_minor": 0
      },
      "text/plain": [
       "Output()"
      ]
     },
     "metadata": {},
     "output_type": "display_data"
    },
    {
     "data": {
      "text/html": [
       "<pre style=\"white-space:pre;overflow-x:auto;line-height:normal;font-family:Menlo,'DejaVu Sans Mono',consolas,'Courier New',monospace\"></pre>\n"
      ],
      "text/plain": []
     },
     "metadata": {},
     "output_type": "display_data"
    },
    {
     "data": {
      "text/html": [
       "<pre style=\"white-space:pre;overflow-x:auto;line-height:normal;font-family:Menlo,'DejaVu Sans Mono',consolas,'Courier New',monospace\">\n",
       "</pre>\n"
      ],
      "text/plain": [
       "\n"
      ]
     },
     "metadata": {},
     "output_type": "display_data"
    },
    {
     "data": {
      "application/vnd.jupyter.widget-view+json": {
       "model_id": "7f05d7327f67471f82714925c341842b",
       "version_major": 2,
       "version_minor": 0
      },
      "text/plain": [
       "Output()"
      ]
     },
     "metadata": {},
     "output_type": "display_data"
    },
    {
     "data": {
      "text/html": [
       "<pre style=\"white-space:pre;overflow-x:auto;line-height:normal;font-family:Menlo,'DejaVu Sans Mono',consolas,'Courier New',monospace\"></pre>\n"
      ],
      "text/plain": []
     },
     "metadata": {},
     "output_type": "display_data"
    },
    {
     "data": {
      "text/html": [
       "<pre style=\"white-space:pre;overflow-x:auto;line-height:normal;font-family:Menlo,'DejaVu Sans Mono',consolas,'Courier New',monospace\">\n",
       "</pre>\n"
      ],
      "text/plain": [
       "\n"
      ]
     },
     "metadata": {},
     "output_type": "display_data"
    },
    {
     "data": {
      "application/vnd.jupyter.widget-view+json": {
       "model_id": "29122ea71aea46879f3e9d2dda6de2b1",
       "version_major": 2,
       "version_minor": 0
      },
      "text/plain": [
       "Output()"
      ]
     },
     "metadata": {},
     "output_type": "display_data"
    },
    {
     "data": {
      "text/html": [
       "<pre style=\"white-space:pre;overflow-x:auto;line-height:normal;font-family:Menlo,'DejaVu Sans Mono',consolas,'Courier New',monospace\"></pre>\n"
      ],
      "text/plain": []
     },
     "metadata": {},
     "output_type": "display_data"
    },
    {
     "data": {
      "text/html": [
       "<pre style=\"white-space:pre;overflow-x:auto;line-height:normal;font-family:Menlo,'DejaVu Sans Mono',consolas,'Courier New',monospace\">\n",
       "</pre>\n"
      ],
      "text/plain": [
       "\n"
      ]
     },
     "metadata": {},
     "output_type": "display_data"
    },
    {
     "data": {
      "application/vnd.jupyter.widget-view+json": {
       "model_id": "934ffd4dfbd14180a99d0a78a4b5df77",
       "version_major": 2,
       "version_minor": 0
      },
      "text/plain": [
       "Output()"
      ]
     },
     "metadata": {},
     "output_type": "display_data"
    },
    {
     "data": {
      "text/html": [
       "<pre style=\"white-space:pre;overflow-x:auto;line-height:normal;font-family:Menlo,'DejaVu Sans Mono',consolas,'Courier New',monospace\"></pre>\n"
      ],
      "text/plain": []
     },
     "metadata": {},
     "output_type": "display_data"
    },
    {
     "data": {
      "text/html": [
       "<pre style=\"white-space:pre;overflow-x:auto;line-height:normal;font-family:Menlo,'DejaVu Sans Mono',consolas,'Courier New',monospace\">\n",
       "</pre>\n"
      ],
      "text/plain": [
       "\n"
      ]
     },
     "metadata": {},
     "output_type": "display_data"
    },
    {
     "data": {
      "application/vnd.jupyter.widget-view+json": {
       "model_id": "b402fec1e12d456daa28eee2ac8e0c53",
       "version_major": 2,
       "version_minor": 0
      },
      "text/plain": [
       "Output()"
      ]
     },
     "metadata": {},
     "output_type": "display_data"
    },
    {
     "data": {
      "text/html": [
       "<pre style=\"white-space:pre;overflow-x:auto;line-height:normal;font-family:Menlo,'DejaVu Sans Mono',consolas,'Courier New',monospace\"></pre>\n"
      ],
      "text/plain": []
     },
     "metadata": {},
     "output_type": "display_data"
    },
    {
     "data": {
      "text/html": [
       "<pre style=\"white-space:pre;overflow-x:auto;line-height:normal;font-family:Menlo,'DejaVu Sans Mono',consolas,'Courier New',monospace\">\n",
       "</pre>\n"
      ],
      "text/plain": [
       "\n"
      ]
     },
     "metadata": {},
     "output_type": "display_data"
    },
    {
     "data": {
      "application/vnd.jupyter.widget-view+json": {
       "model_id": "868cef664bb04b67bbd7a59ea10de6ed",
       "version_major": 2,
       "version_minor": 0
      },
      "text/plain": [
       "Output()"
      ]
     },
     "metadata": {},
     "output_type": "display_data"
    },
    {
     "data": {
      "text/html": [
       "<pre style=\"white-space:pre;overflow-x:auto;line-height:normal;font-family:Menlo,'DejaVu Sans Mono',consolas,'Courier New',monospace\"></pre>\n"
      ],
      "text/plain": []
     },
     "metadata": {},
     "output_type": "display_data"
    },
    {
     "data": {
      "text/html": [
       "<pre style=\"white-space:pre;overflow-x:auto;line-height:normal;font-family:Menlo,'DejaVu Sans Mono',consolas,'Courier New',monospace\">\n",
       "</pre>\n"
      ],
      "text/plain": [
       "\n"
      ]
     },
     "metadata": {},
     "output_type": "display_data"
    },
    {
     "data": {
      "application/vnd.jupyter.widget-view+json": {
       "model_id": "0bbfbeb6fa064f96ae18e802d6136482",
       "version_major": 2,
       "version_minor": 0
      },
      "text/plain": [
       "Output()"
      ]
     },
     "metadata": {},
     "output_type": "display_data"
    },
    {
     "data": {
      "text/html": [
       "<pre style=\"white-space:pre;overflow-x:auto;line-height:normal;font-family:Menlo,'DejaVu Sans Mono',consolas,'Courier New',monospace\"></pre>\n"
      ],
      "text/plain": []
     },
     "metadata": {},
     "output_type": "display_data"
    },
    {
     "data": {
      "text/html": [
       "<pre style=\"white-space:pre;overflow-x:auto;line-height:normal;font-family:Menlo,'DejaVu Sans Mono',consolas,'Courier New',monospace\">\n",
       "</pre>\n"
      ],
      "text/plain": [
       "\n"
      ]
     },
     "metadata": {},
     "output_type": "display_data"
    },
    {
     "data": {
      "application/vnd.jupyter.widget-view+json": {
       "model_id": "317ac5b41b474686b0c34d2037264d8b",
       "version_major": 2,
       "version_minor": 0
      },
      "text/plain": [
       "Output()"
      ]
     },
     "metadata": {},
     "output_type": "display_data"
    },
    {
     "data": {
      "text/html": [
       "<pre style=\"white-space:pre;overflow-x:auto;line-height:normal;font-family:Menlo,'DejaVu Sans Mono',consolas,'Courier New',monospace\"></pre>\n"
      ],
      "text/plain": []
     },
     "metadata": {},
     "output_type": "display_data"
    },
    {
     "data": {
      "text/html": [
       "<pre style=\"white-space:pre;overflow-x:auto;line-height:normal;font-family:Menlo,'DejaVu Sans Mono',consolas,'Courier New',monospace\">\n",
       "</pre>\n"
      ],
      "text/plain": [
       "\n"
      ]
     },
     "metadata": {},
     "output_type": "display_data"
    },
    {
     "data": {
      "application/vnd.jupyter.widget-view+json": {
       "model_id": "d7c3770122384a42aaa66953000a059b",
       "version_major": 2,
       "version_minor": 0
      },
      "text/plain": [
       "Output()"
      ]
     },
     "metadata": {},
     "output_type": "display_data"
    },
    {
     "data": {
      "text/html": [
       "<pre style=\"white-space:pre;overflow-x:auto;line-height:normal;font-family:Menlo,'DejaVu Sans Mono',consolas,'Courier New',monospace\"></pre>\n"
      ],
      "text/plain": []
     },
     "metadata": {},
     "output_type": "display_data"
    },
    {
     "data": {
      "text/html": [
       "<pre style=\"white-space:pre;overflow-x:auto;line-height:normal;font-family:Menlo,'DejaVu Sans Mono',consolas,'Courier New',monospace\">\n",
       "</pre>\n"
      ],
      "text/plain": [
       "\n"
      ]
     },
     "metadata": {},
     "output_type": "display_data"
    },
    {
     "data": {
      "application/vnd.jupyter.widget-view+json": {
       "model_id": "f065f89385e943cfa87a909e1c08e0db",
       "version_major": 2,
       "version_minor": 0
      },
      "text/plain": [
       "Output()"
      ]
     },
     "metadata": {},
     "output_type": "display_data"
    },
    {
     "data": {
      "text/html": [
       "<pre style=\"white-space:pre;overflow-x:auto;line-height:normal;font-family:Menlo,'DejaVu Sans Mono',consolas,'Courier New',monospace\"><span style=\"color: #008000; text-decoration-color: #008000\">INFO    </span> Computing metrics on val subset <span style=\"color: #808000; text-decoration-color: #808000\">...</span>                                               <a href=\"file:///opt/conda/lib/python3.11/site-packages/luxonis_train/models/luxonis_lightning.py\" target=\"_blank\"><span style=\"color: #7f7f7f; text-decoration-color: #7f7f7f\">luxonis_lightning.py</span></a><span style=\"color: #7f7f7f; text-decoration-color: #7f7f7f\">:</span><a href=\"file:///opt/conda/lib/python3.11/site-packages/luxonis_train/models/luxonis_lightning.py#732\" target=\"_blank\"><span style=\"color: #7f7f7f; text-decoration-color: #7f7f7f\">732</span></a>\n",
       "</pre>\n"
      ],
      "text/plain": [
       "\u001b[32mINFO    \u001b[0m Computing metrics on val subset \u001b[33m...\u001b[0m                                               \u001b]8;id=277922;file:///opt/conda/lib/python3.11/site-packages/luxonis_train/models/luxonis_lightning.py\u001b\\\u001b[2mluxonis_lightning.py\u001b[0m\u001b]8;;\u001b\\\u001b[2m:\u001b[0m\u001b]8;id=756601;file:///opt/conda/lib/python3.11/site-packages/luxonis_train/models/luxonis_lightning.py#732\u001b\\\u001b[2m732\u001b[0m\u001b]8;;\u001b\\\n"
      ]
     },
     "metadata": {},
     "output_type": "display_data"
    },
    {
     "data": {
      "text/html": [
       "<pre style=\"white-space:pre;overflow-x:auto;line-height:normal;font-family:Menlo,'DejaVu Sans Mono',consolas,'Courier New',monospace\"><span style=\"color: #008000; text-decoration-color: #008000\">INFO    </span> Metrics computed.                                                                 <a href=\"file:///opt/conda/lib/python3.11/site-packages/luxonis_train/models/luxonis_lightning.py\" target=\"_blank\"><span style=\"color: #7f7f7f; text-decoration-color: #7f7f7f\">luxonis_lightning.py</span></a><span style=\"color: #7f7f7f; text-decoration-color: #7f7f7f\">:</span><a href=\"file:///opt/conda/lib/python3.11/site-packages/luxonis_train/models/luxonis_lightning.py#734\" target=\"_blank\"><span style=\"color: #7f7f7f; text-decoration-color: #7f7f7f\">734</span></a>\n",
       "</pre>\n"
      ],
      "text/plain": [
       "\u001b[32mINFO    \u001b[0m Metrics computed.                                                                 \u001b]8;id=382807;file:///opt/conda/lib/python3.11/site-packages/luxonis_train/models/luxonis_lightning.py\u001b\\\u001b[2mluxonis_lightning.py\u001b[0m\u001b]8;;\u001b\\\u001b[2m:\u001b[0m\u001b]8;id=9651;file:///opt/conda/lib/python3.11/site-packages/luxonis_train/models/luxonis_lightning.py#734\u001b\\\u001b[2m734\u001b[0m\u001b]8;;\u001b\\\n"
      ]
     },
     "metadata": {},
     "output_type": "display_data"
    },
    {
     "data": {
      "text/html": [
       "<pre style=\"white-space:pre;overflow-x:auto;line-height:normal;font-family:Menlo,'DejaVu Sans Mono',consolas,'Courier New',monospace\"><span style=\"color: #008000; text-decoration-color: #008000\">INFO    </span> Validation loss: <span style=\"color: #008080; text-decoration-color: #008080; font-weight: bold\">1.6044</span>                                                           <a href=\"file:///opt/conda/lib/python3.11/site-packages/luxonis_train/models/luxonis_lightning.py\" target=\"_blank\"><span style=\"color: #7f7f7f; text-decoration-color: #7f7f7f\">luxonis_lightning.py</span></a><span style=\"color: #7f7f7f; text-decoration-color: #7f7f7f\">:</span><a href=\"file:///opt/conda/lib/python3.11/site-packages/luxonis_train/models/luxonis_lightning.py#915\" target=\"_blank\"><span style=\"color: #7f7f7f; text-decoration-color: #7f7f7f\">915</span></a>\n",
       "</pre>\n"
      ],
      "text/plain": [
       "\u001b[32mINFO    \u001b[0m Validation loss: \u001b[1;36m1.6044\u001b[0m                                                           \u001b]8;id=443423;file:///opt/conda/lib/python3.11/site-packages/luxonis_train/models/luxonis_lightning.py\u001b\\\u001b[2mluxonis_lightning.py\u001b[0m\u001b]8;;\u001b\\\u001b[2m:\u001b[0m\u001b]8;id=421146;file:///opt/conda/lib/python3.11/site-packages/luxonis_train/models/luxonis_lightning.py#915\u001b\\\u001b[2m915\u001b[0m\u001b]8;;\u001b\\\n"
      ]
     },
     "metadata": {},
     "output_type": "display_data"
    },
    {
     "data": {
      "text/html": [
       "<pre style=\"white-space:pre;overflow-x:auto;line-height:normal;font-family:Menlo,'DejaVu Sans Mono',consolas,'Courier New',monospace\"><span style=\"color: #800080; text-decoration-color: #800080; font-weight: bold\">─────────────────────────────────────────────────── </span>Validation<span style=\"color: #800080; text-decoration-color: #800080; font-weight: bold\"> ────────────────────────────────────────────────────</span>\n",
       "</pre>\n"
      ],
      "text/plain": [
       "\u001b[1;35m─────────────────────────────────────────────────── \u001b[0mValidation\u001b[1;35m ────────────────────────────────────────────────────\u001b[0m\n"
      ]
     },
     "metadata": {},
     "output_type": "display_data"
    },
    {
     "data": {
      "text/html": [
       "<pre style=\"white-space:pre;overflow-x:auto;line-height:normal;font-family:Menlo,'DejaVu Sans Mono',consolas,'Courier New',monospace\"><span style=\"color: #800080; text-decoration-color: #800080; font-weight: bold\">Loss:</span> <span style=\"color: #c0c0c0; text-decoration-color: #c0c0c0; font-weight: bold\">1.6043875217437744</span>\n",
       "</pre>\n"
      ],
      "text/plain": [
       "\u001b[1;35mLoss:\u001b[0m \u001b[1;37m1.6043875217437744\u001b[0m\n"
      ]
     },
     "metadata": {},
     "output_type": "display_data"
    },
    {
     "data": {
      "text/html": [
       "<pre style=\"white-space:pre;overflow-x:auto;line-height:normal;font-family:Menlo,'DejaVu Sans Mono',consolas,'Courier New',monospace\"><span style=\"color: #800080; text-decoration-color: #800080; font-weight: bold\">Metrics:</span>\n",
       "</pre>\n"
      ],
      "text/plain": [
       "\u001b[1;35mMetrics:\u001b[0m\n"
      ]
     },
     "metadata": {},
     "output_type": "display_data"
    },
    {
     "data": {
      "text/html": [
       "<pre style=\"white-space:pre;overflow-x:auto;line-height:normal;font-family:Menlo,'DejaVu Sans Mono',consolas,'Courier New',monospace\"><span style=\"font-style: italic\">       detection_head       </span>\n",
       "┏━━━━━━━━━━━━━━━┳━━━━━━━━━━┓\n",
       "┃<span style=\"color: #800080; text-decoration-color: #800080; font-weight: bold\"> Name          </span>┃<span style=\"color: #800080; text-decoration-color: #800080; font-weight: bold\"> Value    </span>┃\n",
       "┡━━━━━━━━━━━━━━━╇━━━━━━━━━━┩\n",
       "│<span style=\"color: #800080; text-decoration-color: #800080\"> detection_map </span>│<span style=\"color: #c0c0c0; text-decoration-color: #c0c0c0\"> 0.12512  </span>│\n",
       "│<span style=\"color: #800080; text-decoration-color: #800080\"> map_50        </span>│<span style=\"color: #c0c0c0; text-decoration-color: #c0c0c0\"> 0.17673  </span>│\n",
       "│<span style=\"color: #800080; text-decoration-color: #800080\"> map_75        </span>│<span style=\"color: #c0c0c0; text-decoration-color: #c0c0c0\"> 0.08894  </span>│\n",
       "│<span style=\"color: #800080; text-decoration-color: #800080\"> map_small     </span>│<span style=\"color: #c0c0c0; text-decoration-color: #c0c0c0\"> -1.00000 </span>│\n",
       "│<span style=\"color: #800080; text-decoration-color: #800080\"> map_medium    </span>│<span style=\"color: #c0c0c0; text-decoration-color: #c0c0c0\"> 0.00337  </span>│\n",
       "│<span style=\"color: #800080; text-decoration-color: #800080\"> map_large     </span>│<span style=\"color: #c0c0c0; text-decoration-color: #c0c0c0\"> 0.15092  </span>│\n",
       "│<span style=\"color: #800080; text-decoration-color: #800080\"> mar_1         </span>│<span style=\"color: #c0c0c0; text-decoration-color: #c0c0c0\"> 0.21607  </span>│\n",
       "│<span style=\"color: #800080; text-decoration-color: #800080\"> mar_10        </span>│<span style=\"color: #c0c0c0; text-decoration-color: #c0c0c0\"> 0.29375  </span>│\n",
       "│<span style=\"color: #800080; text-decoration-color: #800080\"> mar_100       </span>│<span style=\"color: #c0c0c0; text-decoration-color: #c0c0c0\"> 0.29375  </span>│\n",
       "│<span style=\"color: #800080; text-decoration-color: #800080\"> mar_small     </span>│<span style=\"color: #c0c0c0; text-decoration-color: #c0c0c0\"> -1.00000 </span>│\n",
       "│<span style=\"color: #800080; text-decoration-color: #800080\"> mar_medium    </span>│<span style=\"color: #c0c0c0; text-decoration-color: #c0c0c0\"> 0.01667  </span>│\n",
       "│<span style=\"color: #800080; text-decoration-color: #800080\"> mar_large     </span>│<span style=\"color: #c0c0c0; text-decoration-color: #c0c0c0\"> 0.40000  </span>│\n",
       "│<span style=\"color: #800080; text-decoration-color: #800080\"> f1_small      </span>│<span style=\"color: #c0c0c0; text-decoration-color: #c0c0c0\"> -1.00000 </span>│\n",
       "│<span style=\"color: #800080; text-decoration-color: #800080\"> f1_medium     </span>│<span style=\"color: #c0c0c0; text-decoration-color: #c0c0c0\"> 0.00560  </span>│\n",
       "│<span style=\"color: #800080; text-decoration-color: #800080\"> f1_large      </span>│<span style=\"color: #c0c0c0; text-decoration-color: #c0c0c0\"> 0.21916  </span>│\n",
       "└───────────────┴──────────┘\n",
       "</pre>\n"
      ],
      "text/plain": [
       "\u001b[3m       detection_head       \u001b[0m\n",
       "┏━━━━━━━━━━━━━━━┳━━━━━━━━━━┓\n",
       "┃\u001b[1;35m \u001b[0m\u001b[1;35mName         \u001b[0m\u001b[1;35m \u001b[0m┃\u001b[1;35m \u001b[0m\u001b[1;35mValue   \u001b[0m\u001b[1;35m \u001b[0m┃\n",
       "┡━━━━━━━━━━━━━━━╇━━━━━━━━━━┩\n",
       "│\u001b[35m \u001b[0m\u001b[35mdetection_map\u001b[0m\u001b[35m \u001b[0m│\u001b[37m \u001b[0m\u001b[37m0.12512 \u001b[0m\u001b[37m \u001b[0m│\n",
       "│\u001b[35m \u001b[0m\u001b[35mmap_50       \u001b[0m\u001b[35m \u001b[0m│\u001b[37m \u001b[0m\u001b[37m0.17673 \u001b[0m\u001b[37m \u001b[0m│\n",
       "│\u001b[35m \u001b[0m\u001b[35mmap_75       \u001b[0m\u001b[35m \u001b[0m│\u001b[37m \u001b[0m\u001b[37m0.08894 \u001b[0m\u001b[37m \u001b[0m│\n",
       "│\u001b[35m \u001b[0m\u001b[35mmap_small    \u001b[0m\u001b[35m \u001b[0m│\u001b[37m \u001b[0m\u001b[37m-1.00000\u001b[0m\u001b[37m \u001b[0m│\n",
       "│\u001b[35m \u001b[0m\u001b[35mmap_medium   \u001b[0m\u001b[35m \u001b[0m│\u001b[37m \u001b[0m\u001b[37m0.00337 \u001b[0m\u001b[37m \u001b[0m│\n",
       "│\u001b[35m \u001b[0m\u001b[35mmap_large    \u001b[0m\u001b[35m \u001b[0m│\u001b[37m \u001b[0m\u001b[37m0.15092 \u001b[0m\u001b[37m \u001b[0m│\n",
       "│\u001b[35m \u001b[0m\u001b[35mmar_1        \u001b[0m\u001b[35m \u001b[0m│\u001b[37m \u001b[0m\u001b[37m0.21607 \u001b[0m\u001b[37m \u001b[0m│\n",
       "│\u001b[35m \u001b[0m\u001b[35mmar_10       \u001b[0m\u001b[35m \u001b[0m│\u001b[37m \u001b[0m\u001b[37m0.29375 \u001b[0m\u001b[37m \u001b[0m│\n",
       "│\u001b[35m \u001b[0m\u001b[35mmar_100      \u001b[0m\u001b[35m \u001b[0m│\u001b[37m \u001b[0m\u001b[37m0.29375 \u001b[0m\u001b[37m \u001b[0m│\n",
       "│\u001b[35m \u001b[0m\u001b[35mmar_small    \u001b[0m\u001b[35m \u001b[0m│\u001b[37m \u001b[0m\u001b[37m-1.00000\u001b[0m\u001b[37m \u001b[0m│\n",
       "│\u001b[35m \u001b[0m\u001b[35mmar_medium   \u001b[0m\u001b[35m \u001b[0m│\u001b[37m \u001b[0m\u001b[37m0.01667 \u001b[0m\u001b[37m \u001b[0m│\n",
       "│\u001b[35m \u001b[0m\u001b[35mmar_large    \u001b[0m\u001b[35m \u001b[0m│\u001b[37m \u001b[0m\u001b[37m0.40000 \u001b[0m\u001b[37m \u001b[0m│\n",
       "│\u001b[35m \u001b[0m\u001b[35mf1_small     \u001b[0m\u001b[35m \u001b[0m│\u001b[37m \u001b[0m\u001b[37m-1.00000\u001b[0m\u001b[37m \u001b[0m│\n",
       "│\u001b[35m \u001b[0m\u001b[35mf1_medium    \u001b[0m\u001b[35m \u001b[0m│\u001b[37m \u001b[0m\u001b[37m0.00560 \u001b[0m\u001b[37m \u001b[0m│\n",
       "│\u001b[35m \u001b[0m\u001b[35mf1_large     \u001b[0m\u001b[35m \u001b[0m│\u001b[37m \u001b[0m\u001b[37m0.21916 \u001b[0m\u001b[37m \u001b[0m│\n",
       "└───────────────┴──────────┘\n"
      ]
     },
     "metadata": {},
     "output_type": "display_data"
    },
    {
     "data": {
      "text/html": [
       "<pre style=\"white-space:pre;overflow-x:auto;line-height:normal;font-family:Menlo,'DejaVu Sans Mono',consolas,'Courier New',monospace\"><span style=\"color: #800080; text-decoration-color: #800080; font-weight: bold\">───────────────────────────────────────────────────────────────────────────────────────────────────────────────────</span>\n",
       "</pre>\n"
      ],
      "text/plain": [
       "\u001b[1;35m───────────────────────────────────────────────────────────────────────────────────────────────────────────────────\u001b[0m\n"
      ]
     },
     "metadata": {},
     "output_type": "display_data"
    },
    {
     "data": {
      "text/html": [
       "<pre style=\"white-space:pre;overflow-x:auto;line-height:normal;font-family:Menlo,'DejaVu Sans Mono',consolas,'Courier New',monospace\"><span style=\"color: #008000; text-decoration-color: #008000\">INFO    </span> Validation main metric <span style=\"font-weight: bold\">(</span>detection_head/detection_map<span style=\"font-weight: bold\">)</span>: <span style=\"color: #008080; text-decoration-color: #008080; font-weight: bold\">0.1251</span>                     <a href=\"file:///opt/conda/lib/python3.11/site-packages/luxonis_train/models/luxonis_lightning.py\" target=\"_blank\"><span style=\"color: #7f7f7f; text-decoration-color: #7f7f7f\">luxonis_lightning.py</span></a><span style=\"color: #7f7f7f; text-decoration-color: #7f7f7f\">:</span><a href=\"file:///opt/conda/lib/python3.11/site-packages/luxonis_train/models/luxonis_lightning.py#924\" target=\"_blank\"><span style=\"color: #7f7f7f; text-decoration-color: #7f7f7f\">924</span></a>\n",
       "</pre>\n"
      ],
      "text/plain": [
       "\u001b[32mINFO    \u001b[0m Validation main metric \u001b[1m(\u001b[0mdetection_head/detection_map\u001b[1m)\u001b[0m: \u001b[1;36m0.1251\u001b[0m                     \u001b]8;id=358527;file:///opt/conda/lib/python3.11/site-packages/luxonis_train/models/luxonis_lightning.py\u001b\\\u001b[2mluxonis_lightning.py\u001b[0m\u001b]8;;\u001b\\\u001b[2m:\u001b[0m\u001b]8;id=362027;file:///opt/conda/lib/python3.11/site-packages/luxonis_train/models/luxonis_lightning.py#924\u001b\\\u001b[2m924\u001b[0m\u001b]8;;\u001b\\\n"
      ]
     },
     "metadata": {},
     "output_type": "display_data"
    },
    {
     "data": {
      "text/html": [
       "<pre style=\"white-space:pre;overflow-x:auto;line-height:normal;font-family:Menlo,'DejaVu Sans Mono',consolas,'Courier New',monospace\"></pre>\n"
      ],
      "text/plain": []
     },
     "metadata": {},
     "output_type": "display_data"
    },
    {
     "data": {
      "text/html": [
       "<pre style=\"white-space:pre;overflow-x:auto;line-height:normal;font-family:Menlo,'DejaVu Sans Mono',consolas,'Courier New',monospace\">\n",
       "</pre>\n"
      ],
      "text/plain": [
       "\n"
      ]
     },
     "metadata": {},
     "output_type": "display_data"
    },
    {
     "data": {
      "application/vnd.jupyter.widget-view+json": {
       "model_id": "fe7b750f91e246b69ed9b504fa1a2356",
       "version_major": 2,
       "version_minor": 0
      },
      "text/plain": [
       "Output()"
      ]
     },
     "metadata": {},
     "output_type": "display_data"
    },
    {
     "data": {
      "text/html": [
       "<pre style=\"white-space:pre;overflow-x:auto;line-height:normal;font-family:Menlo,'DejaVu Sans Mono',consolas,'Courier New',monospace\"></pre>\n"
      ],
      "text/plain": []
     },
     "metadata": {},
     "output_type": "display_data"
    },
    {
     "data": {
      "text/html": [
       "<pre style=\"white-space:pre;overflow-x:auto;line-height:normal;font-family:Menlo,'DejaVu Sans Mono',consolas,'Courier New',monospace\">\n",
       "</pre>\n"
      ],
      "text/plain": [
       "\n"
      ]
     },
     "metadata": {},
     "output_type": "display_data"
    },
    {
     "data": {
      "application/vnd.jupyter.widget-view+json": {
       "model_id": "93313fe7765e457bbce65bfbf43b4bd9",
       "version_major": 2,
       "version_minor": 0
      },
      "text/plain": [
       "Output()"
      ]
     },
     "metadata": {},
     "output_type": "display_data"
    },
    {
     "data": {
      "text/html": [
       "<pre style=\"white-space:pre;overflow-x:auto;line-height:normal;font-family:Menlo,'DejaVu Sans Mono',consolas,'Courier New',monospace\"></pre>\n"
      ],
      "text/plain": []
     },
     "metadata": {},
     "output_type": "display_data"
    },
    {
     "data": {
      "text/html": [
       "<pre style=\"white-space:pre;overflow-x:auto;line-height:normal;font-family:Menlo,'DejaVu Sans Mono',consolas,'Courier New',monospace\">\n",
       "</pre>\n"
      ],
      "text/plain": [
       "\n"
      ]
     },
     "metadata": {},
     "output_type": "display_data"
    },
    {
     "data": {
      "application/vnd.jupyter.widget-view+json": {
       "model_id": "99f2826fdc834a2c820b6d36715cd995",
       "version_major": 2,
       "version_minor": 0
      },
      "text/plain": [
       "Output()"
      ]
     },
     "metadata": {},
     "output_type": "display_data"
    },
    {
     "data": {
      "text/html": [
       "<pre style=\"white-space:pre;overflow-x:auto;line-height:normal;font-family:Menlo,'DejaVu Sans Mono',consolas,'Courier New',monospace\"></pre>\n"
      ],
      "text/plain": []
     },
     "metadata": {},
     "output_type": "display_data"
    },
    {
     "data": {
      "text/html": [
       "<pre style=\"white-space:pre;overflow-x:auto;line-height:normal;font-family:Menlo,'DejaVu Sans Mono',consolas,'Courier New',monospace\">\n",
       "</pre>\n"
      ],
      "text/plain": [
       "\n"
      ]
     },
     "metadata": {},
     "output_type": "display_data"
    },
    {
     "data": {
      "application/vnd.jupyter.widget-view+json": {
       "model_id": "9447adae6c8b45bf86e832e4ad79f96e",
       "version_major": 2,
       "version_minor": 0
      },
      "text/plain": [
       "Output()"
      ]
     },
     "metadata": {},
     "output_type": "display_data"
    },
    {
     "data": {
      "text/html": [
       "<pre style=\"white-space:pre;overflow-x:auto;line-height:normal;font-family:Menlo,'DejaVu Sans Mono',consolas,'Courier New',monospace\"></pre>\n"
      ],
      "text/plain": []
     },
     "metadata": {},
     "output_type": "display_data"
    },
    {
     "data": {
      "text/html": [
       "<pre style=\"white-space:pre;overflow-x:auto;line-height:normal;font-family:Menlo,'DejaVu Sans Mono',consolas,'Courier New',monospace\">\n",
       "</pre>\n"
      ],
      "text/plain": [
       "\n"
      ]
     },
     "metadata": {},
     "output_type": "display_data"
    },
    {
     "data": {
      "application/vnd.jupyter.widget-view+json": {
       "model_id": "db5a94998ab9497d8302f0c3f9b82a4d",
       "version_major": 2,
       "version_minor": 0
      },
      "text/plain": [
       "Output()"
      ]
     },
     "metadata": {},
     "output_type": "display_data"
    },
    {
     "data": {
      "text/html": [
       "<pre style=\"white-space:pre;overflow-x:auto;line-height:normal;font-family:Menlo,'DejaVu Sans Mono',consolas,'Courier New',monospace\"></pre>\n"
      ],
      "text/plain": []
     },
     "metadata": {},
     "output_type": "display_data"
    },
    {
     "data": {
      "text/html": [
       "<pre style=\"white-space:pre;overflow-x:auto;line-height:normal;font-family:Menlo,'DejaVu Sans Mono',consolas,'Courier New',monospace\">\n",
       "</pre>\n"
      ],
      "text/plain": [
       "\n"
      ]
     },
     "metadata": {},
     "output_type": "display_data"
    },
    {
     "data": {
      "application/vnd.jupyter.widget-view+json": {
       "model_id": "91510df5cc6440ea899e5b3f55c2d479",
       "version_major": 2,
       "version_minor": 0
      },
      "text/plain": [
       "Output()"
      ]
     },
     "metadata": {},
     "output_type": "display_data"
    },
    {
     "data": {
      "text/html": [
       "<pre style=\"white-space:pre;overflow-x:auto;line-height:normal;font-family:Menlo,'DejaVu Sans Mono',consolas,'Courier New',monospace\"></pre>\n"
      ],
      "text/plain": []
     },
     "metadata": {},
     "output_type": "display_data"
    },
    {
     "data": {
      "text/html": [
       "<pre style=\"white-space:pre;overflow-x:auto;line-height:normal;font-family:Menlo,'DejaVu Sans Mono',consolas,'Courier New',monospace\">\n",
       "</pre>\n"
      ],
      "text/plain": [
       "\n"
      ]
     },
     "metadata": {},
     "output_type": "display_data"
    },
    {
     "data": {
      "application/vnd.jupyter.widget-view+json": {
       "model_id": "16ce9d7e403e4c07b1f9b72caf243cca",
       "version_major": 2,
       "version_minor": 0
      },
      "text/plain": [
       "Output()"
      ]
     },
     "metadata": {},
     "output_type": "display_data"
    },
    {
     "data": {
      "text/html": [
       "<pre style=\"white-space:pre;overflow-x:auto;line-height:normal;font-family:Menlo,'DejaVu Sans Mono',consolas,'Courier New',monospace\"></pre>\n"
      ],
      "text/plain": []
     },
     "metadata": {},
     "output_type": "display_data"
    },
    {
     "data": {
      "text/html": [
       "<pre style=\"white-space:pre;overflow-x:auto;line-height:normal;font-family:Menlo,'DejaVu Sans Mono',consolas,'Courier New',monospace\">\n",
       "</pre>\n"
      ],
      "text/plain": [
       "\n"
      ]
     },
     "metadata": {},
     "output_type": "display_data"
    },
    {
     "data": {
      "application/vnd.jupyter.widget-view+json": {
       "model_id": "67837859c558447ba3481439b2258dc6",
       "version_major": 2,
       "version_minor": 0
      },
      "text/plain": [
       "Output()"
      ]
     },
     "metadata": {},
     "output_type": "display_data"
    },
    {
     "data": {
      "text/html": [
       "<pre style=\"white-space:pre;overflow-x:auto;line-height:normal;font-family:Menlo,'DejaVu Sans Mono',consolas,'Courier New',monospace\"></pre>\n"
      ],
      "text/plain": []
     },
     "metadata": {},
     "output_type": "display_data"
    },
    {
     "data": {
      "text/html": [
       "<pre style=\"white-space:pre;overflow-x:auto;line-height:normal;font-family:Menlo,'DejaVu Sans Mono',consolas,'Courier New',monospace\">\n",
       "</pre>\n"
      ],
      "text/plain": [
       "\n"
      ]
     },
     "metadata": {},
     "output_type": "display_data"
    },
    {
     "data": {
      "application/vnd.jupyter.widget-view+json": {
       "model_id": "44d791ce39ef432ea5bbb85d43c3be03",
       "version_major": 2,
       "version_minor": 0
      },
      "text/plain": [
       "Output()"
      ]
     },
     "metadata": {},
     "output_type": "display_data"
    },
    {
     "data": {
      "text/html": [
       "<pre style=\"white-space:pre;overflow-x:auto;line-height:normal;font-family:Menlo,'DejaVu Sans Mono',consolas,'Courier New',monospace\"></pre>\n"
      ],
      "text/plain": []
     },
     "metadata": {},
     "output_type": "display_data"
    },
    {
     "data": {
      "text/html": [
       "<pre style=\"white-space:pre;overflow-x:auto;line-height:normal;font-family:Menlo,'DejaVu Sans Mono',consolas,'Courier New',monospace\">\n",
       "</pre>\n"
      ],
      "text/plain": [
       "\n"
      ]
     },
     "metadata": {},
     "output_type": "display_data"
    },
    {
     "data": {
      "application/vnd.jupyter.widget-view+json": {
       "model_id": "187f9a564438408eae06ee5d77112da9",
       "version_major": 2,
       "version_minor": 0
      },
      "text/plain": [
       "Output()"
      ]
     },
     "metadata": {},
     "output_type": "display_data"
    },
    {
     "data": {
      "text/html": [
       "<pre style=\"white-space:pre;overflow-x:auto;line-height:normal;font-family:Menlo,'DejaVu Sans Mono',consolas,'Courier New',monospace\"><span style=\"color: #008000; text-decoration-color: #008000\">INFO    </span> Computing metrics on val subset <span style=\"color: #808000; text-decoration-color: #808000\">...</span>                                               <a href=\"file:///opt/conda/lib/python3.11/site-packages/luxonis_train/models/luxonis_lightning.py\" target=\"_blank\"><span style=\"color: #7f7f7f; text-decoration-color: #7f7f7f\">luxonis_lightning.py</span></a><span style=\"color: #7f7f7f; text-decoration-color: #7f7f7f\">:</span><a href=\"file:///opt/conda/lib/python3.11/site-packages/luxonis_train/models/luxonis_lightning.py#732\" target=\"_blank\"><span style=\"color: #7f7f7f; text-decoration-color: #7f7f7f\">732</span></a>\n",
       "</pre>\n"
      ],
      "text/plain": [
       "\u001b[32mINFO    \u001b[0m Computing metrics on val subset \u001b[33m...\u001b[0m                                               \u001b]8;id=823421;file:///opt/conda/lib/python3.11/site-packages/luxonis_train/models/luxonis_lightning.py\u001b\\\u001b[2mluxonis_lightning.py\u001b[0m\u001b]8;;\u001b\\\u001b[2m:\u001b[0m\u001b]8;id=543716;file:///opt/conda/lib/python3.11/site-packages/luxonis_train/models/luxonis_lightning.py#732\u001b\\\u001b[2m732\u001b[0m\u001b]8;;\u001b\\\n"
      ]
     },
     "metadata": {},
     "output_type": "display_data"
    },
    {
     "data": {
      "text/html": [
       "<pre style=\"white-space:pre;overflow-x:auto;line-height:normal;font-family:Menlo,'DejaVu Sans Mono',consolas,'Courier New',monospace\"><span style=\"color: #008000; text-decoration-color: #008000\">INFO    </span> Metrics computed.                                                                 <a href=\"file:///opt/conda/lib/python3.11/site-packages/luxonis_train/models/luxonis_lightning.py\" target=\"_blank\"><span style=\"color: #7f7f7f; text-decoration-color: #7f7f7f\">luxonis_lightning.py</span></a><span style=\"color: #7f7f7f; text-decoration-color: #7f7f7f\">:</span><a href=\"file:///opt/conda/lib/python3.11/site-packages/luxonis_train/models/luxonis_lightning.py#734\" target=\"_blank\"><span style=\"color: #7f7f7f; text-decoration-color: #7f7f7f\">734</span></a>\n",
       "</pre>\n"
      ],
      "text/plain": [
       "\u001b[32mINFO    \u001b[0m Metrics computed.                                                                 \u001b]8;id=534212;file:///opt/conda/lib/python3.11/site-packages/luxonis_train/models/luxonis_lightning.py\u001b\\\u001b[2mluxonis_lightning.py\u001b[0m\u001b]8;;\u001b\\\u001b[2m:\u001b[0m\u001b]8;id=905909;file:///opt/conda/lib/python3.11/site-packages/luxonis_train/models/luxonis_lightning.py#734\u001b\\\u001b[2m734\u001b[0m\u001b]8;;\u001b\\\n"
      ]
     },
     "metadata": {},
     "output_type": "display_data"
    },
    {
     "data": {
      "text/html": [
       "<pre style=\"white-space:pre;overflow-x:auto;line-height:normal;font-family:Menlo,'DejaVu Sans Mono',consolas,'Courier New',monospace\"><span style=\"color: #008000; text-decoration-color: #008000\">INFO    </span> Validation loss: <span style=\"color: #008080; text-decoration-color: #008080; font-weight: bold\">1.4445</span>                                                           <a href=\"file:///opt/conda/lib/python3.11/site-packages/luxonis_train/models/luxonis_lightning.py\" target=\"_blank\"><span style=\"color: #7f7f7f; text-decoration-color: #7f7f7f\">luxonis_lightning.py</span></a><span style=\"color: #7f7f7f; text-decoration-color: #7f7f7f\">:</span><a href=\"file:///opt/conda/lib/python3.11/site-packages/luxonis_train/models/luxonis_lightning.py#915\" target=\"_blank\"><span style=\"color: #7f7f7f; text-decoration-color: #7f7f7f\">915</span></a>\n",
       "</pre>\n"
      ],
      "text/plain": [
       "\u001b[32mINFO    \u001b[0m Validation loss: \u001b[1;36m1.4445\u001b[0m                                                           \u001b]8;id=483176;file:///opt/conda/lib/python3.11/site-packages/luxonis_train/models/luxonis_lightning.py\u001b\\\u001b[2mluxonis_lightning.py\u001b[0m\u001b]8;;\u001b\\\u001b[2m:\u001b[0m\u001b]8;id=262986;file:///opt/conda/lib/python3.11/site-packages/luxonis_train/models/luxonis_lightning.py#915\u001b\\\u001b[2m915\u001b[0m\u001b]8;;\u001b\\\n"
      ]
     },
     "metadata": {},
     "output_type": "display_data"
    },
    {
     "data": {
      "text/html": [
       "<pre style=\"white-space:pre;overflow-x:auto;line-height:normal;font-family:Menlo,'DejaVu Sans Mono',consolas,'Courier New',monospace\"><span style=\"color: #800080; text-decoration-color: #800080; font-weight: bold\">─────────────────────────────────────────────────── </span>Validation<span style=\"color: #800080; text-decoration-color: #800080; font-weight: bold\"> ────────────────────────────────────────────────────</span>\n",
       "</pre>\n"
      ],
      "text/plain": [
       "\u001b[1;35m─────────────────────────────────────────────────── \u001b[0mValidation\u001b[1;35m ────────────────────────────────────────────────────\u001b[0m\n"
      ]
     },
     "metadata": {},
     "output_type": "display_data"
    },
    {
     "data": {
      "text/html": [
       "<pre style=\"white-space:pre;overflow-x:auto;line-height:normal;font-family:Menlo,'DejaVu Sans Mono',consolas,'Courier New',monospace\"><span style=\"color: #800080; text-decoration-color: #800080; font-weight: bold\">Loss:</span> <span style=\"color: #c0c0c0; text-decoration-color: #c0c0c0; font-weight: bold\">1.4444674849510193</span>\n",
       "</pre>\n"
      ],
      "text/plain": [
       "\u001b[1;35mLoss:\u001b[0m \u001b[1;37m1.4444674849510193\u001b[0m\n"
      ]
     },
     "metadata": {},
     "output_type": "display_data"
    },
    {
     "data": {
      "text/html": [
       "<pre style=\"white-space:pre;overflow-x:auto;line-height:normal;font-family:Menlo,'DejaVu Sans Mono',consolas,'Courier New',monospace\"><span style=\"color: #800080; text-decoration-color: #800080; font-weight: bold\">Metrics:</span>\n",
       "</pre>\n"
      ],
      "text/plain": [
       "\u001b[1;35mMetrics:\u001b[0m\n"
      ]
     },
     "metadata": {},
     "output_type": "display_data"
    },
    {
     "data": {
      "text/html": [
       "<pre style=\"white-space:pre;overflow-x:auto;line-height:normal;font-family:Menlo,'DejaVu Sans Mono',consolas,'Courier New',monospace\"><span style=\"font-style: italic\">       detection_head       </span>\n",
       "┏━━━━━━━━━━━━━━━┳━━━━━━━━━━┓\n",
       "┃<span style=\"color: #800080; text-decoration-color: #800080; font-weight: bold\"> Name          </span>┃<span style=\"color: #800080; text-decoration-color: #800080; font-weight: bold\"> Value    </span>┃\n",
       "┡━━━━━━━━━━━━━━━╇━━━━━━━━━━┩\n",
       "│<span style=\"color: #800080; text-decoration-color: #800080\"> detection_map </span>│<span style=\"color: #c0c0c0; text-decoration-color: #c0c0c0\"> 0.23591  </span>│\n",
       "│<span style=\"color: #800080; text-decoration-color: #800080\"> map_50        </span>│<span style=\"color: #c0c0c0; text-decoration-color: #c0c0c0\"> 0.31023  </span>│\n",
       "│<span style=\"color: #800080; text-decoration-color: #800080\"> map_75        </span>│<span style=\"color: #c0c0c0; text-decoration-color: #c0c0c0\"> 0.25248  </span>│\n",
       "│<span style=\"color: #800080; text-decoration-color: #800080\"> map_small     </span>│<span style=\"color: #c0c0c0; text-decoration-color: #c0c0c0\"> -1.00000 </span>│\n",
       "│<span style=\"color: #800080; text-decoration-color: #800080\"> map_medium    </span>│<span style=\"color: #c0c0c0; text-decoration-color: #c0c0c0\"> 0.08416  </span>│\n",
       "│<span style=\"color: #800080; text-decoration-color: #800080\"> map_large     </span>│<span style=\"color: #c0c0c0; text-decoration-color: #c0c0c0\"> 0.30154  </span>│\n",
       "│<span style=\"color: #800080; text-decoration-color: #800080\"> mar_1         </span>│<span style=\"color: #c0c0c0; text-decoration-color: #c0c0c0\"> 0.25804  </span>│\n",
       "│<span style=\"color: #800080; text-decoration-color: #800080\"> mar_10        </span>│<span style=\"color: #c0c0c0; text-decoration-color: #c0c0c0\"> 0.34554  </span>│\n",
       "│<span style=\"color: #800080; text-decoration-color: #800080\"> mar_100       </span>│<span style=\"color: #c0c0c0; text-decoration-color: #c0c0c0\"> 0.34554  </span>│\n",
       "│<span style=\"color: #800080; text-decoration-color: #800080\"> mar_small     </span>│<span style=\"color: #c0c0c0; text-decoration-color: #c0c0c0\"> -1.00000 </span>│\n",
       "│<span style=\"color: #800080; text-decoration-color: #800080\"> mar_medium    </span>│<span style=\"color: #c0c0c0; text-decoration-color: #c0c0c0\"> 0.15000  </span>│\n",
       "│<span style=\"color: #800080; text-decoration-color: #800080\"> mar_large     </span>│<span style=\"color: #c0c0c0; text-decoration-color: #c0c0c0\"> 0.51429  </span>│\n",
       "│<span style=\"color: #800080; text-decoration-color: #800080\"> f1_small      </span>│<span style=\"color: #c0c0c0; text-decoration-color: #c0c0c0\"> -1.00000 </span>│\n",
       "│<span style=\"color: #800080; text-decoration-color: #800080\"> f1_medium     </span>│<span style=\"color: #c0c0c0; text-decoration-color: #c0c0c0\"> 0.10782  </span>│\n",
       "│<span style=\"color: #800080; text-decoration-color: #800080\"> f1_large      </span>│<span style=\"color: #c0c0c0; text-decoration-color: #c0c0c0\"> 0.38017  </span>│\n",
       "└───────────────┴──────────┘\n",
       "</pre>\n"
      ],
      "text/plain": [
       "\u001b[3m       detection_head       \u001b[0m\n",
       "┏━━━━━━━━━━━━━━━┳━━━━━━━━━━┓\n",
       "┃\u001b[1;35m \u001b[0m\u001b[1;35mName         \u001b[0m\u001b[1;35m \u001b[0m┃\u001b[1;35m \u001b[0m\u001b[1;35mValue   \u001b[0m\u001b[1;35m \u001b[0m┃\n",
       "┡━━━━━━━━━━━━━━━╇━━━━━━━━━━┩\n",
       "│\u001b[35m \u001b[0m\u001b[35mdetection_map\u001b[0m\u001b[35m \u001b[0m│\u001b[37m \u001b[0m\u001b[37m0.23591 \u001b[0m\u001b[37m \u001b[0m│\n",
       "│\u001b[35m \u001b[0m\u001b[35mmap_50       \u001b[0m\u001b[35m \u001b[0m│\u001b[37m \u001b[0m\u001b[37m0.31023 \u001b[0m\u001b[37m \u001b[0m│\n",
       "│\u001b[35m \u001b[0m\u001b[35mmap_75       \u001b[0m\u001b[35m \u001b[0m│\u001b[37m \u001b[0m\u001b[37m0.25248 \u001b[0m\u001b[37m \u001b[0m│\n",
       "│\u001b[35m \u001b[0m\u001b[35mmap_small    \u001b[0m\u001b[35m \u001b[0m│\u001b[37m \u001b[0m\u001b[37m-1.00000\u001b[0m\u001b[37m \u001b[0m│\n",
       "│\u001b[35m \u001b[0m\u001b[35mmap_medium   \u001b[0m\u001b[35m \u001b[0m│\u001b[37m \u001b[0m\u001b[37m0.08416 \u001b[0m\u001b[37m \u001b[0m│\n",
       "│\u001b[35m \u001b[0m\u001b[35mmap_large    \u001b[0m\u001b[35m \u001b[0m│\u001b[37m \u001b[0m\u001b[37m0.30154 \u001b[0m\u001b[37m \u001b[0m│\n",
       "│\u001b[35m \u001b[0m\u001b[35mmar_1        \u001b[0m\u001b[35m \u001b[0m│\u001b[37m \u001b[0m\u001b[37m0.25804 \u001b[0m\u001b[37m \u001b[0m│\n",
       "│\u001b[35m \u001b[0m\u001b[35mmar_10       \u001b[0m\u001b[35m \u001b[0m│\u001b[37m \u001b[0m\u001b[37m0.34554 \u001b[0m\u001b[37m \u001b[0m│\n",
       "│\u001b[35m \u001b[0m\u001b[35mmar_100      \u001b[0m\u001b[35m \u001b[0m│\u001b[37m \u001b[0m\u001b[37m0.34554 \u001b[0m\u001b[37m \u001b[0m│\n",
       "│\u001b[35m \u001b[0m\u001b[35mmar_small    \u001b[0m\u001b[35m \u001b[0m│\u001b[37m \u001b[0m\u001b[37m-1.00000\u001b[0m\u001b[37m \u001b[0m│\n",
       "│\u001b[35m \u001b[0m\u001b[35mmar_medium   \u001b[0m\u001b[35m \u001b[0m│\u001b[37m \u001b[0m\u001b[37m0.15000 \u001b[0m\u001b[37m \u001b[0m│\n",
       "│\u001b[35m \u001b[0m\u001b[35mmar_large    \u001b[0m\u001b[35m \u001b[0m│\u001b[37m \u001b[0m\u001b[37m0.51429 \u001b[0m\u001b[37m \u001b[0m│\n",
       "│\u001b[35m \u001b[0m\u001b[35mf1_small     \u001b[0m\u001b[35m \u001b[0m│\u001b[37m \u001b[0m\u001b[37m-1.00000\u001b[0m\u001b[37m \u001b[0m│\n",
       "│\u001b[35m \u001b[0m\u001b[35mf1_medium    \u001b[0m\u001b[35m \u001b[0m│\u001b[37m \u001b[0m\u001b[37m0.10782 \u001b[0m\u001b[37m \u001b[0m│\n",
       "│\u001b[35m \u001b[0m\u001b[35mf1_large     \u001b[0m\u001b[35m \u001b[0m│\u001b[37m \u001b[0m\u001b[37m0.38017 \u001b[0m\u001b[37m \u001b[0m│\n",
       "└───────────────┴──────────┘\n"
      ]
     },
     "metadata": {},
     "output_type": "display_data"
    },
    {
     "data": {
      "text/html": [
       "<pre style=\"white-space:pre;overflow-x:auto;line-height:normal;font-family:Menlo,'DejaVu Sans Mono',consolas,'Courier New',monospace\"><span style=\"color: #800080; text-decoration-color: #800080; font-weight: bold\">───────────────────────────────────────────────────────────────────────────────────────────────────────────────────</span>\n",
       "</pre>\n"
      ],
      "text/plain": [
       "\u001b[1;35m───────────────────────────────────────────────────────────────────────────────────────────────────────────────────\u001b[0m\n"
      ]
     },
     "metadata": {},
     "output_type": "display_data"
    },
    {
     "data": {
      "text/html": [
       "<pre style=\"white-space:pre;overflow-x:auto;line-height:normal;font-family:Menlo,'DejaVu Sans Mono',consolas,'Courier New',monospace\"><span style=\"color: #008000; text-decoration-color: #008000\">INFO    </span> Validation main metric <span style=\"font-weight: bold\">(</span>detection_head/detection_map<span style=\"font-weight: bold\">)</span>: <span style=\"color: #008080; text-decoration-color: #008080; font-weight: bold\">0.2359</span>                     <a href=\"file:///opt/conda/lib/python3.11/site-packages/luxonis_train/models/luxonis_lightning.py\" target=\"_blank\"><span style=\"color: #7f7f7f; text-decoration-color: #7f7f7f\">luxonis_lightning.py</span></a><span style=\"color: #7f7f7f; text-decoration-color: #7f7f7f\">:</span><a href=\"file:///opt/conda/lib/python3.11/site-packages/luxonis_train/models/luxonis_lightning.py#924\" target=\"_blank\"><span style=\"color: #7f7f7f; text-decoration-color: #7f7f7f\">924</span></a>\n",
       "</pre>\n"
      ],
      "text/plain": [
       "\u001b[32mINFO    \u001b[0m Validation main metric \u001b[1m(\u001b[0mdetection_head/detection_map\u001b[1m)\u001b[0m: \u001b[1;36m0.2359\u001b[0m                     \u001b]8;id=300174;file:///opt/conda/lib/python3.11/site-packages/luxonis_train/models/luxonis_lightning.py\u001b\\\u001b[2mluxonis_lightning.py\u001b[0m\u001b]8;;\u001b\\\u001b[2m:\u001b[0m\u001b]8;id=797440;file:///opt/conda/lib/python3.11/site-packages/luxonis_train/models/luxonis_lightning.py#924\u001b\\\u001b[2m924\u001b[0m\u001b]8;;\u001b\\\n"
      ]
     },
     "metadata": {},
     "output_type": "display_data"
    },
    {
     "data": {
      "text/html": [
       "<pre style=\"white-space:pre;overflow-x:auto;line-height:normal;font-family:Menlo,'DejaVu Sans Mono',consolas,'Courier New',monospace\"></pre>\n"
      ],
      "text/plain": []
     },
     "metadata": {},
     "output_type": "display_data"
    },
    {
     "data": {
      "text/html": [
       "<pre style=\"white-space:pre;overflow-x:auto;line-height:normal;font-family:Menlo,'DejaVu Sans Mono',consolas,'Courier New',monospace\">\n",
       "</pre>\n"
      ],
      "text/plain": [
       "\n"
      ]
     },
     "metadata": {},
     "output_type": "display_data"
    },
    {
     "data": {
      "application/vnd.jupyter.widget-view+json": {
       "model_id": "c938fc87d0c74a8b9e9fa507b1ca7ff2",
       "version_major": 2,
       "version_minor": 0
      },
      "text/plain": [
       "Output()"
      ]
     },
     "metadata": {},
     "output_type": "display_data"
    },
    {
     "data": {
      "text/html": [
       "<pre style=\"white-space:pre;overflow-x:auto;line-height:normal;font-family:Menlo,'DejaVu Sans Mono',consolas,'Courier New',monospace\"></pre>\n"
      ],
      "text/plain": []
     },
     "metadata": {},
     "output_type": "display_data"
    },
    {
     "data": {
      "text/html": [
       "<pre style=\"white-space:pre;overflow-x:auto;line-height:normal;font-family:Menlo,'DejaVu Sans Mono',consolas,'Courier New',monospace\">\n",
       "</pre>\n"
      ],
      "text/plain": [
       "\n"
      ]
     },
     "metadata": {},
     "output_type": "display_data"
    },
    {
     "data": {
      "application/vnd.jupyter.widget-view+json": {
       "model_id": "5393b39ffe834aa7a2786dc34c6941a5",
       "version_major": 2,
       "version_minor": 0
      },
      "text/plain": [
       "Output()"
      ]
     },
     "metadata": {},
     "output_type": "display_data"
    },
    {
     "data": {
      "text/html": [
       "<pre style=\"white-space:pre;overflow-x:auto;line-height:normal;font-family:Menlo,'DejaVu Sans Mono',consolas,'Courier New',monospace\"></pre>\n"
      ],
      "text/plain": []
     },
     "metadata": {},
     "output_type": "display_data"
    },
    {
     "data": {
      "text/html": [
       "<pre style=\"white-space:pre;overflow-x:auto;line-height:normal;font-family:Menlo,'DejaVu Sans Mono',consolas,'Courier New',monospace\">\n",
       "</pre>\n"
      ],
      "text/plain": [
       "\n"
      ]
     },
     "metadata": {},
     "output_type": "display_data"
    },
    {
     "data": {
      "application/vnd.jupyter.widget-view+json": {
       "model_id": "f94b72407e0044528654d32145cc4ba1",
       "version_major": 2,
       "version_minor": 0
      },
      "text/plain": [
       "Output()"
      ]
     },
     "metadata": {},
     "output_type": "display_data"
    },
    {
     "data": {
      "text/html": [
       "<pre style=\"white-space:pre;overflow-x:auto;line-height:normal;font-family:Menlo,'DejaVu Sans Mono',consolas,'Courier New',monospace\"></pre>\n"
      ],
      "text/plain": []
     },
     "metadata": {},
     "output_type": "display_data"
    },
    {
     "data": {
      "text/html": [
       "<pre style=\"white-space:pre;overflow-x:auto;line-height:normal;font-family:Menlo,'DejaVu Sans Mono',consolas,'Courier New',monospace\">\n",
       "</pre>\n"
      ],
      "text/plain": [
       "\n"
      ]
     },
     "metadata": {},
     "output_type": "display_data"
    },
    {
     "data": {
      "application/vnd.jupyter.widget-view+json": {
       "model_id": "26fabf4c7e424252b8901a24cf81d638",
       "version_major": 2,
       "version_minor": 0
      },
      "text/plain": [
       "Output()"
      ]
     },
     "metadata": {},
     "output_type": "display_data"
    },
    {
     "data": {
      "text/html": [
       "<pre style=\"white-space:pre;overflow-x:auto;line-height:normal;font-family:Menlo,'DejaVu Sans Mono',consolas,'Courier New',monospace\"></pre>\n"
      ],
      "text/plain": []
     },
     "metadata": {},
     "output_type": "display_data"
    },
    {
     "data": {
      "text/html": [
       "<pre style=\"white-space:pre;overflow-x:auto;line-height:normal;font-family:Menlo,'DejaVu Sans Mono',consolas,'Courier New',monospace\">\n",
       "</pre>\n"
      ],
      "text/plain": [
       "\n"
      ]
     },
     "metadata": {},
     "output_type": "display_data"
    },
    {
     "data": {
      "application/vnd.jupyter.widget-view+json": {
       "model_id": "f091ac76228048d1be7e73576896a4f9",
       "version_major": 2,
       "version_minor": 0
      },
      "text/plain": [
       "Output()"
      ]
     },
     "metadata": {},
     "output_type": "display_data"
    },
    {
     "data": {
      "text/html": [
       "<pre style=\"white-space:pre;overflow-x:auto;line-height:normal;font-family:Menlo,'DejaVu Sans Mono',consolas,'Courier New',monospace\"></pre>\n"
      ],
      "text/plain": []
     },
     "metadata": {},
     "output_type": "display_data"
    },
    {
     "data": {
      "text/html": [
       "<pre style=\"white-space:pre;overflow-x:auto;line-height:normal;font-family:Menlo,'DejaVu Sans Mono',consolas,'Courier New',monospace\">\n",
       "</pre>\n"
      ],
      "text/plain": [
       "\n"
      ]
     },
     "metadata": {},
     "output_type": "display_data"
    },
    {
     "data": {
      "application/vnd.jupyter.widget-view+json": {
       "model_id": "5ec9126f3c4e41e0bb526744a739fb15",
       "version_major": 2,
       "version_minor": 0
      },
      "text/plain": [
       "Output()"
      ]
     },
     "metadata": {},
     "output_type": "display_data"
    },
    {
     "data": {
      "text/html": [
       "<pre style=\"white-space:pre;overflow-x:auto;line-height:normal;font-family:Menlo,'DejaVu Sans Mono',consolas,'Courier New',monospace\"></pre>\n"
      ],
      "text/plain": []
     },
     "metadata": {},
     "output_type": "display_data"
    },
    {
     "data": {
      "text/html": [
       "<pre style=\"white-space:pre;overflow-x:auto;line-height:normal;font-family:Menlo,'DejaVu Sans Mono',consolas,'Courier New',monospace\">\n",
       "</pre>\n"
      ],
      "text/plain": [
       "\n"
      ]
     },
     "metadata": {},
     "output_type": "display_data"
    },
    {
     "data": {
      "application/vnd.jupyter.widget-view+json": {
       "model_id": "d7b804167b344b5ba1d6da6102e75515",
       "version_major": 2,
       "version_minor": 0
      },
      "text/plain": [
       "Output()"
      ]
     },
     "metadata": {},
     "output_type": "display_data"
    },
    {
     "data": {
      "text/html": [
       "<pre style=\"white-space:pre;overflow-x:auto;line-height:normal;font-family:Menlo,'DejaVu Sans Mono',consolas,'Courier New',monospace\"></pre>\n"
      ],
      "text/plain": []
     },
     "metadata": {},
     "output_type": "display_data"
    },
    {
     "data": {
      "text/html": [
       "<pre style=\"white-space:pre;overflow-x:auto;line-height:normal;font-family:Menlo,'DejaVu Sans Mono',consolas,'Courier New',monospace\">\n",
       "</pre>\n"
      ],
      "text/plain": [
       "\n"
      ]
     },
     "metadata": {},
     "output_type": "display_data"
    },
    {
     "data": {
      "application/vnd.jupyter.widget-view+json": {
       "model_id": "46f9be44c0604474a6fcec1fc56b9ba2",
       "version_major": 2,
       "version_minor": 0
      },
      "text/plain": [
       "Output()"
      ]
     },
     "metadata": {},
     "output_type": "display_data"
    },
    {
     "data": {
      "text/html": [
       "<pre style=\"white-space:pre;overflow-x:auto;line-height:normal;font-family:Menlo,'DejaVu Sans Mono',consolas,'Courier New',monospace\"></pre>\n"
      ],
      "text/plain": []
     },
     "metadata": {},
     "output_type": "display_data"
    },
    {
     "data": {
      "text/html": [
       "<pre style=\"white-space:pre;overflow-x:auto;line-height:normal;font-family:Menlo,'DejaVu Sans Mono',consolas,'Courier New',monospace\">\n",
       "</pre>\n"
      ],
      "text/plain": [
       "\n"
      ]
     },
     "metadata": {},
     "output_type": "display_data"
    },
    {
     "data": {
      "application/vnd.jupyter.widget-view+json": {
       "model_id": "7026bbdae8bc45acae1c2c301a2f1eff",
       "version_major": 2,
       "version_minor": 0
      },
      "text/plain": [
       "Output()"
      ]
     },
     "metadata": {},
     "output_type": "display_data"
    },
    {
     "data": {
      "text/html": [
       "<pre style=\"white-space:pre;overflow-x:auto;line-height:normal;font-family:Menlo,'DejaVu Sans Mono',consolas,'Courier New',monospace\"></pre>\n"
      ],
      "text/plain": []
     },
     "metadata": {},
     "output_type": "display_data"
    },
    {
     "data": {
      "text/html": [
       "<pre style=\"white-space:pre;overflow-x:auto;line-height:normal;font-family:Menlo,'DejaVu Sans Mono',consolas,'Courier New',monospace\">\n",
       "</pre>\n"
      ],
      "text/plain": [
       "\n"
      ]
     },
     "metadata": {},
     "output_type": "display_data"
    },
    {
     "data": {
      "application/vnd.jupyter.widget-view+json": {
       "model_id": "cf72c040ea5d46e2b4b07d3b6704a595",
       "version_major": 2,
       "version_minor": 0
      },
      "text/plain": [
       "Output()"
      ]
     },
     "metadata": {},
     "output_type": "display_data"
    },
    {
     "data": {
      "text/html": [
       "<pre style=\"white-space:pre;overflow-x:auto;line-height:normal;font-family:Menlo,'DejaVu Sans Mono',consolas,'Courier New',monospace\"><span style=\"color: #008000; text-decoration-color: #008000\">INFO    </span> Computing metrics on val subset <span style=\"color: #808000; text-decoration-color: #808000\">...</span>                                               <a href=\"file:///opt/conda/lib/python3.11/site-packages/luxonis_train/models/luxonis_lightning.py\" target=\"_blank\"><span style=\"color: #7f7f7f; text-decoration-color: #7f7f7f\">luxonis_lightning.py</span></a><span style=\"color: #7f7f7f; text-decoration-color: #7f7f7f\">:</span><a href=\"file:///opt/conda/lib/python3.11/site-packages/luxonis_train/models/luxonis_lightning.py#732\" target=\"_blank\"><span style=\"color: #7f7f7f; text-decoration-color: #7f7f7f\">732</span></a>\n",
       "</pre>\n"
      ],
      "text/plain": [
       "\u001b[32mINFO    \u001b[0m Computing metrics on val subset \u001b[33m...\u001b[0m                                               \u001b]8;id=64597;file:///opt/conda/lib/python3.11/site-packages/luxonis_train/models/luxonis_lightning.py\u001b\\\u001b[2mluxonis_lightning.py\u001b[0m\u001b]8;;\u001b\\\u001b[2m:\u001b[0m\u001b]8;id=501011;file:///opt/conda/lib/python3.11/site-packages/luxonis_train/models/luxonis_lightning.py#732\u001b\\\u001b[2m732\u001b[0m\u001b]8;;\u001b\\\n"
      ]
     },
     "metadata": {},
     "output_type": "display_data"
    },
    {
     "data": {
      "text/html": [
       "<pre style=\"white-space:pre;overflow-x:auto;line-height:normal;font-family:Menlo,'DejaVu Sans Mono',consolas,'Courier New',monospace\"><span style=\"color: #008000; text-decoration-color: #008000\">INFO    </span> Metrics computed.                                                                 <a href=\"file:///opt/conda/lib/python3.11/site-packages/luxonis_train/models/luxonis_lightning.py\" target=\"_blank\"><span style=\"color: #7f7f7f; text-decoration-color: #7f7f7f\">luxonis_lightning.py</span></a><span style=\"color: #7f7f7f; text-decoration-color: #7f7f7f\">:</span><a href=\"file:///opt/conda/lib/python3.11/site-packages/luxonis_train/models/luxonis_lightning.py#734\" target=\"_blank\"><span style=\"color: #7f7f7f; text-decoration-color: #7f7f7f\">734</span></a>\n",
       "</pre>\n"
      ],
      "text/plain": [
       "\u001b[32mINFO    \u001b[0m Metrics computed.                                                                 \u001b]8;id=374442;file:///opt/conda/lib/python3.11/site-packages/luxonis_train/models/luxonis_lightning.py\u001b\\\u001b[2mluxonis_lightning.py\u001b[0m\u001b]8;;\u001b\\\u001b[2m:\u001b[0m\u001b]8;id=89647;file:///opt/conda/lib/python3.11/site-packages/luxonis_train/models/luxonis_lightning.py#734\u001b\\\u001b[2m734\u001b[0m\u001b]8;;\u001b\\\n"
      ]
     },
     "metadata": {},
     "output_type": "display_data"
    },
    {
     "data": {
      "text/html": [
       "<pre style=\"white-space:pre;overflow-x:auto;line-height:normal;font-family:Menlo,'DejaVu Sans Mono',consolas,'Courier New',monospace\"><span style=\"color: #008000; text-decoration-color: #008000\">INFO    </span> Validation loss: <span style=\"color: #008080; text-decoration-color: #008080; font-weight: bold\">1.3866</span>                                                           <a href=\"file:///opt/conda/lib/python3.11/site-packages/luxonis_train/models/luxonis_lightning.py\" target=\"_blank\"><span style=\"color: #7f7f7f; text-decoration-color: #7f7f7f\">luxonis_lightning.py</span></a><span style=\"color: #7f7f7f; text-decoration-color: #7f7f7f\">:</span><a href=\"file:///opt/conda/lib/python3.11/site-packages/luxonis_train/models/luxonis_lightning.py#915\" target=\"_blank\"><span style=\"color: #7f7f7f; text-decoration-color: #7f7f7f\">915</span></a>\n",
       "</pre>\n"
      ],
      "text/plain": [
       "\u001b[32mINFO    \u001b[0m Validation loss: \u001b[1;36m1.3866\u001b[0m                                                           \u001b]8;id=635652;file:///opt/conda/lib/python3.11/site-packages/luxonis_train/models/luxonis_lightning.py\u001b\\\u001b[2mluxonis_lightning.py\u001b[0m\u001b]8;;\u001b\\\u001b[2m:\u001b[0m\u001b]8;id=13669;file:///opt/conda/lib/python3.11/site-packages/luxonis_train/models/luxonis_lightning.py#915\u001b\\\u001b[2m915\u001b[0m\u001b]8;;\u001b\\\n"
      ]
     },
     "metadata": {},
     "output_type": "display_data"
    },
    {
     "data": {
      "text/html": [
       "<pre style=\"white-space:pre;overflow-x:auto;line-height:normal;font-family:Menlo,'DejaVu Sans Mono',consolas,'Courier New',monospace\"><span style=\"color: #800080; text-decoration-color: #800080; font-weight: bold\">─────────────────────────────────────────────────── </span>Validation<span style=\"color: #800080; text-decoration-color: #800080; font-weight: bold\"> ────────────────────────────────────────────────────</span>\n",
       "</pre>\n"
      ],
      "text/plain": [
       "\u001b[1;35m─────────────────────────────────────────────────── \u001b[0mValidation\u001b[1;35m ────────────────────────────────────────────────────\u001b[0m\n"
      ]
     },
     "metadata": {},
     "output_type": "display_data"
    },
    {
     "data": {
      "text/html": [
       "<pre style=\"white-space:pre;overflow-x:auto;line-height:normal;font-family:Menlo,'DejaVu Sans Mono',consolas,'Courier New',monospace\"><span style=\"color: #800080; text-decoration-color: #800080; font-weight: bold\">Loss:</span> <span style=\"color: #c0c0c0; text-decoration-color: #c0c0c0; font-weight: bold\">1.3866226077079773</span>\n",
       "</pre>\n"
      ],
      "text/plain": [
       "\u001b[1;35mLoss:\u001b[0m \u001b[1;37m1.3866226077079773\u001b[0m\n"
      ]
     },
     "metadata": {},
     "output_type": "display_data"
    },
    {
     "data": {
      "text/html": [
       "<pre style=\"white-space:pre;overflow-x:auto;line-height:normal;font-family:Menlo,'DejaVu Sans Mono',consolas,'Courier New',monospace\"><span style=\"color: #800080; text-decoration-color: #800080; font-weight: bold\">Metrics:</span>\n",
       "</pre>\n"
      ],
      "text/plain": [
       "\u001b[1;35mMetrics:\u001b[0m\n"
      ]
     },
     "metadata": {},
     "output_type": "display_data"
    },
    {
     "data": {
      "text/html": [
       "<pre style=\"white-space:pre;overflow-x:auto;line-height:normal;font-family:Menlo,'DejaVu Sans Mono',consolas,'Courier New',monospace\"><span style=\"font-style: italic\">       detection_head       </span>\n",
       "┏━━━━━━━━━━━━━━━┳━━━━━━━━━━┓\n",
       "┃<span style=\"color: #800080; text-decoration-color: #800080; font-weight: bold\"> Name          </span>┃<span style=\"color: #800080; text-decoration-color: #800080; font-weight: bold\"> Value    </span>┃\n",
       "┡━━━━━━━━━━━━━━━╇━━━━━━━━━━┩\n",
       "│<span style=\"color: #800080; text-decoration-color: #800080\"> detection_map </span>│<span style=\"color: #c0c0c0; text-decoration-color: #c0c0c0\"> 0.30677  </span>│\n",
       "│<span style=\"color: #800080; text-decoration-color: #800080\"> map_50        </span>│<span style=\"color: #c0c0c0; text-decoration-color: #c0c0c0\"> 0.39113  </span>│\n",
       "│<span style=\"color: #800080; text-decoration-color: #800080\"> map_75        </span>│<span style=\"color: #c0c0c0; text-decoration-color: #c0c0c0\"> 0.32294  </span>│\n",
       "│<span style=\"color: #800080; text-decoration-color: #800080\"> map_small     </span>│<span style=\"color: #c0c0c0; text-decoration-color: #c0c0c0\"> -1.00000 </span>│\n",
       "│<span style=\"color: #800080; text-decoration-color: #800080\"> map_medium    </span>│<span style=\"color: #c0c0c0; text-decoration-color: #c0c0c0\"> 0.00000  </span>│\n",
       "│<span style=\"color: #800080; text-decoration-color: #800080\"> map_large     </span>│<span style=\"color: #c0c0c0; text-decoration-color: #c0c0c0\"> 0.43885  </span>│\n",
       "│<span style=\"color: #800080; text-decoration-color: #800080\"> mar_1         </span>│<span style=\"color: #c0c0c0; text-decoration-color: #c0c0c0\"> 0.40179  </span>│\n",
       "│<span style=\"color: #800080; text-decoration-color: #800080\"> mar_10        </span>│<span style=\"color: #c0c0c0; text-decoration-color: #c0c0c0\"> 0.44554  </span>│\n",
       "│<span style=\"color: #800080; text-decoration-color: #800080\"> mar_100       </span>│<span style=\"color: #c0c0c0; text-decoration-color: #c0c0c0\"> 0.44554  </span>│\n",
       "│<span style=\"color: #800080; text-decoration-color: #800080\"> mar_small     </span>│<span style=\"color: #c0c0c0; text-decoration-color: #c0c0c0\"> -1.00000 </span>│\n",
       "│<span style=\"color: #800080; text-decoration-color: #800080\"> mar_medium    </span>│<span style=\"color: #c0c0c0; text-decoration-color: #c0c0c0\"> 0.00000  </span>│\n",
       "│<span style=\"color: #800080; text-decoration-color: #800080\"> mar_large     </span>│<span style=\"color: #c0c0c0; text-decoration-color: #c0c0c0\"> 0.68929  </span>│\n",
       "│<span style=\"color: #800080; text-decoration-color: #800080\"> f1_small      </span>│<span style=\"color: #c0c0c0; text-decoration-color: #c0c0c0\"> -1.00000 </span>│\n",
       "│<span style=\"color: #800080; text-decoration-color: #800080\"> f1_medium     </span>│<span style=\"color: #c0c0c0; text-decoration-color: #c0c0c0\"> nan      </span>│\n",
       "│<span style=\"color: #800080; text-decoration-color: #800080\"> f1_large      </span>│<span style=\"color: #c0c0c0; text-decoration-color: #c0c0c0\"> 0.53627  </span>│\n",
       "└───────────────┴──────────┘\n",
       "</pre>\n"
      ],
      "text/plain": [
       "\u001b[3m       detection_head       \u001b[0m\n",
       "┏━━━━━━━━━━━━━━━┳━━━━━━━━━━┓\n",
       "┃\u001b[1;35m \u001b[0m\u001b[1;35mName         \u001b[0m\u001b[1;35m \u001b[0m┃\u001b[1;35m \u001b[0m\u001b[1;35mValue   \u001b[0m\u001b[1;35m \u001b[0m┃\n",
       "┡━━━━━━━━━━━━━━━╇━━━━━━━━━━┩\n",
       "│\u001b[35m \u001b[0m\u001b[35mdetection_map\u001b[0m\u001b[35m \u001b[0m│\u001b[37m \u001b[0m\u001b[37m0.30677 \u001b[0m\u001b[37m \u001b[0m│\n",
       "│\u001b[35m \u001b[0m\u001b[35mmap_50       \u001b[0m\u001b[35m \u001b[0m│\u001b[37m \u001b[0m\u001b[37m0.39113 \u001b[0m\u001b[37m \u001b[0m│\n",
       "│\u001b[35m \u001b[0m\u001b[35mmap_75       \u001b[0m\u001b[35m \u001b[0m│\u001b[37m \u001b[0m\u001b[37m0.32294 \u001b[0m\u001b[37m \u001b[0m│\n",
       "│\u001b[35m \u001b[0m\u001b[35mmap_small    \u001b[0m\u001b[35m \u001b[0m│\u001b[37m \u001b[0m\u001b[37m-1.00000\u001b[0m\u001b[37m \u001b[0m│\n",
       "│\u001b[35m \u001b[0m\u001b[35mmap_medium   \u001b[0m\u001b[35m \u001b[0m│\u001b[37m \u001b[0m\u001b[37m0.00000 \u001b[0m\u001b[37m \u001b[0m│\n",
       "│\u001b[35m \u001b[0m\u001b[35mmap_large    \u001b[0m\u001b[35m \u001b[0m│\u001b[37m \u001b[0m\u001b[37m0.43885 \u001b[0m\u001b[37m \u001b[0m│\n",
       "│\u001b[35m \u001b[0m\u001b[35mmar_1        \u001b[0m\u001b[35m \u001b[0m│\u001b[37m \u001b[0m\u001b[37m0.40179 \u001b[0m\u001b[37m \u001b[0m│\n",
       "│\u001b[35m \u001b[0m\u001b[35mmar_10       \u001b[0m\u001b[35m \u001b[0m│\u001b[37m \u001b[0m\u001b[37m0.44554 \u001b[0m\u001b[37m \u001b[0m│\n",
       "│\u001b[35m \u001b[0m\u001b[35mmar_100      \u001b[0m\u001b[35m \u001b[0m│\u001b[37m \u001b[0m\u001b[37m0.44554 \u001b[0m\u001b[37m \u001b[0m│\n",
       "│\u001b[35m \u001b[0m\u001b[35mmar_small    \u001b[0m\u001b[35m \u001b[0m│\u001b[37m \u001b[0m\u001b[37m-1.00000\u001b[0m\u001b[37m \u001b[0m│\n",
       "│\u001b[35m \u001b[0m\u001b[35mmar_medium   \u001b[0m\u001b[35m \u001b[0m│\u001b[37m \u001b[0m\u001b[37m0.00000 \u001b[0m\u001b[37m \u001b[0m│\n",
       "│\u001b[35m \u001b[0m\u001b[35mmar_large    \u001b[0m\u001b[35m \u001b[0m│\u001b[37m \u001b[0m\u001b[37m0.68929 \u001b[0m\u001b[37m \u001b[0m│\n",
       "│\u001b[35m \u001b[0m\u001b[35mf1_small     \u001b[0m\u001b[35m \u001b[0m│\u001b[37m \u001b[0m\u001b[37m-1.00000\u001b[0m\u001b[37m \u001b[0m│\n",
       "│\u001b[35m \u001b[0m\u001b[35mf1_medium    \u001b[0m\u001b[35m \u001b[0m│\u001b[37m \u001b[0m\u001b[37mnan     \u001b[0m\u001b[37m \u001b[0m│\n",
       "│\u001b[35m \u001b[0m\u001b[35mf1_large     \u001b[0m\u001b[35m \u001b[0m│\u001b[37m \u001b[0m\u001b[37m0.53627 \u001b[0m\u001b[37m \u001b[0m│\n",
       "└───────────────┴──────────┘\n"
      ]
     },
     "metadata": {},
     "output_type": "display_data"
    },
    {
     "data": {
      "text/html": [
       "<pre style=\"white-space:pre;overflow-x:auto;line-height:normal;font-family:Menlo,'DejaVu Sans Mono',consolas,'Courier New',monospace\"><span style=\"color: #800080; text-decoration-color: #800080; font-weight: bold\">───────────────────────────────────────────────────────────────────────────────────────────────────────────────────</span>\n",
       "</pre>\n"
      ],
      "text/plain": [
       "\u001b[1;35m───────────────────────────────────────────────────────────────────────────────────────────────────────────────────\u001b[0m\n"
      ]
     },
     "metadata": {},
     "output_type": "display_data"
    },
    {
     "data": {
      "text/html": [
       "<pre style=\"white-space:pre;overflow-x:auto;line-height:normal;font-family:Menlo,'DejaVu Sans Mono',consolas,'Courier New',monospace\"><span style=\"color: #008000; text-decoration-color: #008000\">INFO    </span> Validation main metric <span style=\"font-weight: bold\">(</span>detection_head/detection_map<span style=\"font-weight: bold\">)</span>: <span style=\"color: #008080; text-decoration-color: #008080; font-weight: bold\">0.3068</span>                     <a href=\"file:///opt/conda/lib/python3.11/site-packages/luxonis_train/models/luxonis_lightning.py\" target=\"_blank\"><span style=\"color: #7f7f7f; text-decoration-color: #7f7f7f\">luxonis_lightning.py</span></a><span style=\"color: #7f7f7f; text-decoration-color: #7f7f7f\">:</span><a href=\"file:///opt/conda/lib/python3.11/site-packages/luxonis_train/models/luxonis_lightning.py#924\" target=\"_blank\"><span style=\"color: #7f7f7f; text-decoration-color: #7f7f7f\">924</span></a>\n",
       "</pre>\n"
      ],
      "text/plain": [
       "\u001b[32mINFO    \u001b[0m Validation main metric \u001b[1m(\u001b[0mdetection_head/detection_map\u001b[1m)\u001b[0m: \u001b[1;36m0.3068\u001b[0m                     \u001b]8;id=179551;file:///opt/conda/lib/python3.11/site-packages/luxonis_train/models/luxonis_lightning.py\u001b\\\u001b[2mluxonis_lightning.py\u001b[0m\u001b]8;;\u001b\\\u001b[2m:\u001b[0m\u001b]8;id=663550;file:///opt/conda/lib/python3.11/site-packages/luxonis_train/models/luxonis_lightning.py#924\u001b\\\u001b[2m924\u001b[0m\u001b]8;;\u001b\\\n"
      ]
     },
     "metadata": {},
     "output_type": "display_data"
    },
    {
     "data": {
      "text/html": [
       "<pre style=\"white-space:pre;overflow-x:auto;line-height:normal;font-family:Menlo,'DejaVu Sans Mono',consolas,'Courier New',monospace\"></pre>\n"
      ],
      "text/plain": []
     },
     "metadata": {},
     "output_type": "display_data"
    },
    {
     "data": {
      "text/html": [
       "<pre style=\"white-space:pre;overflow-x:auto;line-height:normal;font-family:Menlo,'DejaVu Sans Mono',consolas,'Courier New',monospace\">\n",
       "</pre>\n"
      ],
      "text/plain": [
       "\n"
      ]
     },
     "metadata": {},
     "output_type": "display_data"
    },
    {
     "data": {
      "application/vnd.jupyter.widget-view+json": {
       "model_id": "14cfa173b8894f46b512ef64d075a915",
       "version_major": 2,
       "version_minor": 0
      },
      "text/plain": [
       "Output()"
      ]
     },
     "metadata": {},
     "output_type": "display_data"
    },
    {
     "data": {
      "text/html": [
       "<pre style=\"white-space:pre;overflow-x:auto;line-height:normal;font-family:Menlo,'DejaVu Sans Mono',consolas,'Courier New',monospace\"></pre>\n"
      ],
      "text/plain": []
     },
     "metadata": {},
     "output_type": "display_data"
    },
    {
     "data": {
      "text/html": [
       "<pre style=\"white-space:pre;overflow-x:auto;line-height:normal;font-family:Menlo,'DejaVu Sans Mono',consolas,'Courier New',monospace\">\n",
       "</pre>\n"
      ],
      "text/plain": [
       "\n"
      ]
     },
     "metadata": {},
     "output_type": "display_data"
    },
    {
     "data": {
      "application/vnd.jupyter.widget-view+json": {
       "model_id": "083e763cc1764d9abcfa92b7308f5de8",
       "version_major": 2,
       "version_minor": 0
      },
      "text/plain": [
       "Output()"
      ]
     },
     "metadata": {},
     "output_type": "display_data"
    },
    {
     "data": {
      "text/html": [
       "<pre style=\"white-space:pre;overflow-x:auto;line-height:normal;font-family:Menlo,'DejaVu Sans Mono',consolas,'Courier New',monospace\"></pre>\n"
      ],
      "text/plain": []
     },
     "metadata": {},
     "output_type": "display_data"
    },
    {
     "data": {
      "text/html": [
       "<pre style=\"white-space:pre;overflow-x:auto;line-height:normal;font-family:Menlo,'DejaVu Sans Mono',consolas,'Courier New',monospace\">\n",
       "</pre>\n"
      ],
      "text/plain": [
       "\n"
      ]
     },
     "metadata": {},
     "output_type": "display_data"
    },
    {
     "data": {
      "application/vnd.jupyter.widget-view+json": {
       "model_id": "a12e4155d6f749288e7359c89865f5d6",
       "version_major": 2,
       "version_minor": 0
      },
      "text/plain": [
       "Output()"
      ]
     },
     "metadata": {},
     "output_type": "display_data"
    },
    {
     "data": {
      "text/html": [
       "<pre style=\"white-space:pre;overflow-x:auto;line-height:normal;font-family:Menlo,'DejaVu Sans Mono',consolas,'Courier New',monospace\"></pre>\n"
      ],
      "text/plain": []
     },
     "metadata": {},
     "output_type": "display_data"
    },
    {
     "data": {
      "text/html": [
       "<pre style=\"white-space:pre;overflow-x:auto;line-height:normal;font-family:Menlo,'DejaVu Sans Mono',consolas,'Courier New',monospace\">\n",
       "</pre>\n"
      ],
      "text/plain": [
       "\n"
      ]
     },
     "metadata": {},
     "output_type": "display_data"
    },
    {
     "data": {
      "application/vnd.jupyter.widget-view+json": {
       "model_id": "5204bdbeebc041f09ec270dddd6f4673",
       "version_major": 2,
       "version_minor": 0
      },
      "text/plain": [
       "Output()"
      ]
     },
     "metadata": {},
     "output_type": "display_data"
    },
    {
     "data": {
      "text/html": [
       "<pre style=\"white-space:pre;overflow-x:auto;line-height:normal;font-family:Menlo,'DejaVu Sans Mono',consolas,'Courier New',monospace\"></pre>\n"
      ],
      "text/plain": []
     },
     "metadata": {},
     "output_type": "display_data"
    },
    {
     "data": {
      "text/html": [
       "<pre style=\"white-space:pre;overflow-x:auto;line-height:normal;font-family:Menlo,'DejaVu Sans Mono',consolas,'Courier New',monospace\">\n",
       "</pre>\n"
      ],
      "text/plain": [
       "\n"
      ]
     },
     "metadata": {},
     "output_type": "display_data"
    },
    {
     "data": {
      "application/vnd.jupyter.widget-view+json": {
       "model_id": "9bcf7cc9791647f7bf047e08a82c77b3",
       "version_major": 2,
       "version_minor": 0
      },
      "text/plain": [
       "Output()"
      ]
     },
     "metadata": {},
     "output_type": "display_data"
    },
    {
     "data": {
      "text/html": [
       "<pre style=\"white-space:pre;overflow-x:auto;line-height:normal;font-family:Menlo,'DejaVu Sans Mono',consolas,'Courier New',monospace\"></pre>\n"
      ],
      "text/plain": []
     },
     "metadata": {},
     "output_type": "display_data"
    },
    {
     "data": {
      "text/html": [
       "<pre style=\"white-space:pre;overflow-x:auto;line-height:normal;font-family:Menlo,'DejaVu Sans Mono',consolas,'Courier New',monospace\">\n",
       "</pre>\n"
      ],
      "text/plain": [
       "\n"
      ]
     },
     "metadata": {},
     "output_type": "display_data"
    },
    {
     "data": {
      "application/vnd.jupyter.widget-view+json": {
       "model_id": "bab8476aa06a42d88571edfd85dc77e4",
       "version_major": 2,
       "version_minor": 0
      },
      "text/plain": [
       "Output()"
      ]
     },
     "metadata": {},
     "output_type": "display_data"
    },
    {
     "data": {
      "text/html": [
       "<pre style=\"white-space:pre;overflow-x:auto;line-height:normal;font-family:Menlo,'DejaVu Sans Mono',consolas,'Courier New',monospace\"></pre>\n"
      ],
      "text/plain": []
     },
     "metadata": {},
     "output_type": "display_data"
    },
    {
     "data": {
      "text/html": [
       "<pre style=\"white-space:pre;overflow-x:auto;line-height:normal;font-family:Menlo,'DejaVu Sans Mono',consolas,'Courier New',monospace\">\n",
       "</pre>\n"
      ],
      "text/plain": [
       "\n"
      ]
     },
     "metadata": {},
     "output_type": "display_data"
    },
    {
     "data": {
      "application/vnd.jupyter.widget-view+json": {
       "model_id": "90de200298a447ca901396f795c206b6",
       "version_major": 2,
       "version_minor": 0
      },
      "text/plain": [
       "Output()"
      ]
     },
     "metadata": {},
     "output_type": "display_data"
    },
    {
     "data": {
      "text/html": [
       "<pre style=\"white-space:pre;overflow-x:auto;line-height:normal;font-family:Menlo,'DejaVu Sans Mono',consolas,'Courier New',monospace\"></pre>\n"
      ],
      "text/plain": []
     },
     "metadata": {},
     "output_type": "display_data"
    },
    {
     "data": {
      "text/html": [
       "<pre style=\"white-space:pre;overflow-x:auto;line-height:normal;font-family:Menlo,'DejaVu Sans Mono',consolas,'Courier New',monospace\">\n",
       "</pre>\n"
      ],
      "text/plain": [
       "\n"
      ]
     },
     "metadata": {},
     "output_type": "display_data"
    },
    {
     "data": {
      "application/vnd.jupyter.widget-view+json": {
       "model_id": "917d6d534c1e499e8e0d7be17a7934a6",
       "version_major": 2,
       "version_minor": 0
      },
      "text/plain": [
       "Output()"
      ]
     },
     "metadata": {},
     "output_type": "display_data"
    },
    {
     "data": {
      "text/html": [
       "<pre style=\"white-space:pre;overflow-x:auto;line-height:normal;font-family:Menlo,'DejaVu Sans Mono',consolas,'Courier New',monospace\"></pre>\n"
      ],
      "text/plain": []
     },
     "metadata": {},
     "output_type": "display_data"
    },
    {
     "data": {
      "text/html": [
       "<pre style=\"white-space:pre;overflow-x:auto;line-height:normal;font-family:Menlo,'DejaVu Sans Mono',consolas,'Courier New',monospace\">\n",
       "</pre>\n"
      ],
      "text/plain": [
       "\n"
      ]
     },
     "metadata": {},
     "output_type": "display_data"
    },
    {
     "data": {
      "application/vnd.jupyter.widget-view+json": {
       "model_id": "16505ef11e1a4b699441984035eae324",
       "version_major": 2,
       "version_minor": 0
      },
      "text/plain": [
       "Output()"
      ]
     },
     "metadata": {},
     "output_type": "display_data"
    },
    {
     "data": {
      "text/html": [
       "<pre style=\"white-space:pre;overflow-x:auto;line-height:normal;font-family:Menlo,'DejaVu Sans Mono',consolas,'Courier New',monospace\"></pre>\n"
      ],
      "text/plain": []
     },
     "metadata": {},
     "output_type": "display_data"
    },
    {
     "data": {
      "text/html": [
       "<pre style=\"white-space:pre;overflow-x:auto;line-height:normal;font-family:Menlo,'DejaVu Sans Mono',consolas,'Courier New',monospace\">\n",
       "</pre>\n"
      ],
      "text/plain": [
       "\n"
      ]
     },
     "metadata": {},
     "output_type": "display_data"
    },
    {
     "data": {
      "application/vnd.jupyter.widget-view+json": {
       "model_id": "d1a0f20255bc47fd83624862f0e379bc",
       "version_major": 2,
       "version_minor": 0
      },
      "text/plain": [
       "Output()"
      ]
     },
     "metadata": {},
     "output_type": "display_data"
    },
    {
     "data": {
      "text/html": [
       "<pre style=\"white-space:pre;overflow-x:auto;line-height:normal;font-family:Menlo,'DejaVu Sans Mono',consolas,'Courier New',monospace\"><span style=\"color: #008000; text-decoration-color: #008000\">INFO    </span> Computing metrics on val subset <span style=\"color: #808000; text-decoration-color: #808000\">...</span>                                               <a href=\"file:///opt/conda/lib/python3.11/site-packages/luxonis_train/models/luxonis_lightning.py\" target=\"_blank\"><span style=\"color: #7f7f7f; text-decoration-color: #7f7f7f\">luxonis_lightning.py</span></a><span style=\"color: #7f7f7f; text-decoration-color: #7f7f7f\">:</span><a href=\"file:///opt/conda/lib/python3.11/site-packages/luxonis_train/models/luxonis_lightning.py#732\" target=\"_blank\"><span style=\"color: #7f7f7f; text-decoration-color: #7f7f7f\">732</span></a>\n",
       "</pre>\n"
      ],
      "text/plain": [
       "\u001b[32mINFO    \u001b[0m Computing metrics on val subset \u001b[33m...\u001b[0m                                               \u001b]8;id=699226;file:///opt/conda/lib/python3.11/site-packages/luxonis_train/models/luxonis_lightning.py\u001b\\\u001b[2mluxonis_lightning.py\u001b[0m\u001b]8;;\u001b\\\u001b[2m:\u001b[0m\u001b]8;id=163645;file:///opt/conda/lib/python3.11/site-packages/luxonis_train/models/luxonis_lightning.py#732\u001b\\\u001b[2m732\u001b[0m\u001b]8;;\u001b\\\n"
      ]
     },
     "metadata": {},
     "output_type": "display_data"
    },
    {
     "data": {
      "text/html": [
       "<pre style=\"white-space:pre;overflow-x:auto;line-height:normal;font-family:Menlo,'DejaVu Sans Mono',consolas,'Courier New',monospace\"><span style=\"color: #008000; text-decoration-color: #008000\">INFO    </span> Metrics computed.                                                                 <a href=\"file:///opt/conda/lib/python3.11/site-packages/luxonis_train/models/luxonis_lightning.py\" target=\"_blank\"><span style=\"color: #7f7f7f; text-decoration-color: #7f7f7f\">luxonis_lightning.py</span></a><span style=\"color: #7f7f7f; text-decoration-color: #7f7f7f\">:</span><a href=\"file:///opt/conda/lib/python3.11/site-packages/luxonis_train/models/luxonis_lightning.py#734\" target=\"_blank\"><span style=\"color: #7f7f7f; text-decoration-color: #7f7f7f\">734</span></a>\n",
       "</pre>\n"
      ],
      "text/plain": [
       "\u001b[32mINFO    \u001b[0m Metrics computed.                                                                 \u001b]8;id=414730;file:///opt/conda/lib/python3.11/site-packages/luxonis_train/models/luxonis_lightning.py\u001b\\\u001b[2mluxonis_lightning.py\u001b[0m\u001b]8;;\u001b\\\u001b[2m:\u001b[0m\u001b]8;id=982454;file:///opt/conda/lib/python3.11/site-packages/luxonis_train/models/luxonis_lightning.py#734\u001b\\\u001b[2m734\u001b[0m\u001b]8;;\u001b\\\n"
      ]
     },
     "metadata": {},
     "output_type": "display_data"
    },
    {
     "data": {
      "text/html": [
       "<pre style=\"white-space:pre;overflow-x:auto;line-height:normal;font-family:Menlo,'DejaVu Sans Mono',consolas,'Courier New',monospace\"><span style=\"color: #008000; text-decoration-color: #008000\">INFO    </span> Validation loss: <span style=\"color: #008080; text-decoration-color: #008080; font-weight: bold\">1.4156</span>                                                           <a href=\"file:///opt/conda/lib/python3.11/site-packages/luxonis_train/models/luxonis_lightning.py\" target=\"_blank\"><span style=\"color: #7f7f7f; text-decoration-color: #7f7f7f\">luxonis_lightning.py</span></a><span style=\"color: #7f7f7f; text-decoration-color: #7f7f7f\">:</span><a href=\"file:///opt/conda/lib/python3.11/site-packages/luxonis_train/models/luxonis_lightning.py#915\" target=\"_blank\"><span style=\"color: #7f7f7f; text-decoration-color: #7f7f7f\">915</span></a>\n",
       "</pre>\n"
      ],
      "text/plain": [
       "\u001b[32mINFO    \u001b[0m Validation loss: \u001b[1;36m1.4156\u001b[0m                                                           \u001b]8;id=375724;file:///opt/conda/lib/python3.11/site-packages/luxonis_train/models/luxonis_lightning.py\u001b\\\u001b[2mluxonis_lightning.py\u001b[0m\u001b]8;;\u001b\\\u001b[2m:\u001b[0m\u001b]8;id=186902;file:///opt/conda/lib/python3.11/site-packages/luxonis_train/models/luxonis_lightning.py#915\u001b\\\u001b[2m915\u001b[0m\u001b]8;;\u001b\\\n"
      ]
     },
     "metadata": {},
     "output_type": "display_data"
    },
    {
     "data": {
      "text/html": [
       "<pre style=\"white-space:pre;overflow-x:auto;line-height:normal;font-family:Menlo,'DejaVu Sans Mono',consolas,'Courier New',monospace\"><span style=\"color: #800080; text-decoration-color: #800080; font-weight: bold\">─────────────────────────────────────────────────── </span>Validation<span style=\"color: #800080; text-decoration-color: #800080; font-weight: bold\"> ────────────────────────────────────────────────────</span>\n",
       "</pre>\n"
      ],
      "text/plain": [
       "\u001b[1;35m─────────────────────────────────────────────────── \u001b[0mValidation\u001b[1;35m ────────────────────────────────────────────────────\u001b[0m\n"
      ]
     },
     "metadata": {},
     "output_type": "display_data"
    },
    {
     "data": {
      "text/html": [
       "<pre style=\"white-space:pre;overflow-x:auto;line-height:normal;font-family:Menlo,'DejaVu Sans Mono',consolas,'Courier New',monospace\"><span style=\"color: #800080; text-decoration-color: #800080; font-weight: bold\">Loss:</span> <span style=\"color: #c0c0c0; text-decoration-color: #c0c0c0; font-weight: bold\">1.4156389236450195</span>\n",
       "</pre>\n"
      ],
      "text/plain": [
       "\u001b[1;35mLoss:\u001b[0m \u001b[1;37m1.4156389236450195\u001b[0m\n"
      ]
     },
     "metadata": {},
     "output_type": "display_data"
    },
    {
     "data": {
      "text/html": [
       "<pre style=\"white-space:pre;overflow-x:auto;line-height:normal;font-family:Menlo,'DejaVu Sans Mono',consolas,'Courier New',monospace\"><span style=\"color: #800080; text-decoration-color: #800080; font-weight: bold\">Metrics:</span>\n",
       "</pre>\n"
      ],
      "text/plain": [
       "\u001b[1;35mMetrics:\u001b[0m\n"
      ]
     },
     "metadata": {},
     "output_type": "display_data"
    },
    {
     "data": {
      "text/html": [
       "<pre style=\"white-space:pre;overflow-x:auto;line-height:normal;font-family:Menlo,'DejaVu Sans Mono',consolas,'Courier New',monospace\"><span style=\"font-style: italic\">       detection_head       </span>\n",
       "┏━━━━━━━━━━━━━━━┳━━━━━━━━━━┓\n",
       "┃<span style=\"color: #800080; text-decoration-color: #800080; font-weight: bold\"> Name          </span>┃<span style=\"color: #800080; text-decoration-color: #800080; font-weight: bold\"> Value    </span>┃\n",
       "┡━━━━━━━━━━━━━━━╇━━━━━━━━━━┩\n",
       "│<span style=\"color: #800080; text-decoration-color: #800080\"> detection_map </span>│<span style=\"color: #c0c0c0; text-decoration-color: #c0c0c0\"> 0.22792  </span>│\n",
       "│<span style=\"color: #800080; text-decoration-color: #800080\"> map_50        </span>│<span style=\"color: #c0c0c0; text-decoration-color: #c0c0c0\"> 0.30767  </span>│\n",
       "│<span style=\"color: #800080; text-decoration-color: #800080\"> map_75        </span>│<span style=\"color: #c0c0c0; text-decoration-color: #c0c0c0\"> 0.20289  </span>│\n",
       "│<span style=\"color: #800080; text-decoration-color: #800080\"> map_small     </span>│<span style=\"color: #c0c0c0; text-decoration-color: #c0c0c0\"> -1.00000 </span>│\n",
       "│<span style=\"color: #800080; text-decoration-color: #800080\"> map_medium    </span>│<span style=\"color: #c0c0c0; text-decoration-color: #c0c0c0\"> 0.03871  </span>│\n",
       "│<span style=\"color: #800080; text-decoration-color: #800080\"> map_large     </span>│<span style=\"color: #c0c0c0; text-decoration-color: #c0c0c0\"> 0.25998  </span>│\n",
       "│<span style=\"color: #800080; text-decoration-color: #800080\"> mar_1         </span>│<span style=\"color: #c0c0c0; text-decoration-color: #c0c0c0\"> 0.28036  </span>│\n",
       "│<span style=\"color: #800080; text-decoration-color: #800080\"> mar_10        </span>│<span style=\"color: #c0c0c0; text-decoration-color: #c0c0c0\"> 0.34911  </span>│\n",
       "│<span style=\"color: #800080; text-decoration-color: #800080\"> mar_100       </span>│<span style=\"color: #c0c0c0; text-decoration-color: #c0c0c0\"> 0.34911  </span>│\n",
       "│<span style=\"color: #800080; text-decoration-color: #800080\"> mar_small     </span>│<span style=\"color: #c0c0c0; text-decoration-color: #c0c0c0\"> -1.00000 </span>│\n",
       "│<span style=\"color: #800080; text-decoration-color: #800080\"> mar_medium    </span>│<span style=\"color: #c0c0c0; text-decoration-color: #c0c0c0\"> 0.13333  </span>│\n",
       "│<span style=\"color: #800080; text-decoration-color: #800080\"> mar_large     </span>│<span style=\"color: #c0c0c0; text-decoration-color: #c0c0c0\"> 0.46786  </span>│\n",
       "│<span style=\"color: #800080; text-decoration-color: #800080\"> f1_small      </span>│<span style=\"color: #c0c0c0; text-decoration-color: #c0c0c0\"> -1.00000 </span>│\n",
       "│<span style=\"color: #800080; text-decoration-color: #800080\"> f1_medium     </span>│<span style=\"color: #c0c0c0; text-decoration-color: #c0c0c0\"> 0.06000  </span>│\n",
       "│<span style=\"color: #800080; text-decoration-color: #800080\"> f1_large      </span>│<span style=\"color: #c0c0c0; text-decoration-color: #c0c0c0\"> 0.33424  </span>│\n",
       "└───────────────┴──────────┘\n",
       "</pre>\n"
      ],
      "text/plain": [
       "\u001b[3m       detection_head       \u001b[0m\n",
       "┏━━━━━━━━━━━━━━━┳━━━━━━━━━━┓\n",
       "┃\u001b[1;35m \u001b[0m\u001b[1;35mName         \u001b[0m\u001b[1;35m \u001b[0m┃\u001b[1;35m \u001b[0m\u001b[1;35mValue   \u001b[0m\u001b[1;35m \u001b[0m┃\n",
       "┡━━━━━━━━━━━━━━━╇━━━━━━━━━━┩\n",
       "│\u001b[35m \u001b[0m\u001b[35mdetection_map\u001b[0m\u001b[35m \u001b[0m│\u001b[37m \u001b[0m\u001b[37m0.22792 \u001b[0m\u001b[37m \u001b[0m│\n",
       "│\u001b[35m \u001b[0m\u001b[35mmap_50       \u001b[0m\u001b[35m \u001b[0m│\u001b[37m \u001b[0m\u001b[37m0.30767 \u001b[0m\u001b[37m \u001b[0m│\n",
       "│\u001b[35m \u001b[0m\u001b[35mmap_75       \u001b[0m\u001b[35m \u001b[0m│\u001b[37m \u001b[0m\u001b[37m0.20289 \u001b[0m\u001b[37m \u001b[0m│\n",
       "│\u001b[35m \u001b[0m\u001b[35mmap_small    \u001b[0m\u001b[35m \u001b[0m│\u001b[37m \u001b[0m\u001b[37m-1.00000\u001b[0m\u001b[37m \u001b[0m│\n",
       "│\u001b[35m \u001b[0m\u001b[35mmap_medium   \u001b[0m\u001b[35m \u001b[0m│\u001b[37m \u001b[0m\u001b[37m0.03871 \u001b[0m\u001b[37m \u001b[0m│\n",
       "│\u001b[35m \u001b[0m\u001b[35mmap_large    \u001b[0m\u001b[35m \u001b[0m│\u001b[37m \u001b[0m\u001b[37m0.25998 \u001b[0m\u001b[37m \u001b[0m│\n",
       "│\u001b[35m \u001b[0m\u001b[35mmar_1        \u001b[0m\u001b[35m \u001b[0m│\u001b[37m \u001b[0m\u001b[37m0.28036 \u001b[0m\u001b[37m \u001b[0m│\n",
       "│\u001b[35m \u001b[0m\u001b[35mmar_10       \u001b[0m\u001b[35m \u001b[0m│\u001b[37m \u001b[0m\u001b[37m0.34911 \u001b[0m\u001b[37m \u001b[0m│\n",
       "│\u001b[35m \u001b[0m\u001b[35mmar_100      \u001b[0m\u001b[35m \u001b[0m│\u001b[37m \u001b[0m\u001b[37m0.34911 \u001b[0m\u001b[37m \u001b[0m│\n",
       "│\u001b[35m \u001b[0m\u001b[35mmar_small    \u001b[0m\u001b[35m \u001b[0m│\u001b[37m \u001b[0m\u001b[37m-1.00000\u001b[0m\u001b[37m \u001b[0m│\n",
       "│\u001b[35m \u001b[0m\u001b[35mmar_medium   \u001b[0m\u001b[35m \u001b[0m│\u001b[37m \u001b[0m\u001b[37m0.13333 \u001b[0m\u001b[37m \u001b[0m│\n",
       "│\u001b[35m \u001b[0m\u001b[35mmar_large    \u001b[0m\u001b[35m \u001b[0m│\u001b[37m \u001b[0m\u001b[37m0.46786 \u001b[0m\u001b[37m \u001b[0m│\n",
       "│\u001b[35m \u001b[0m\u001b[35mf1_small     \u001b[0m\u001b[35m \u001b[0m│\u001b[37m \u001b[0m\u001b[37m-1.00000\u001b[0m\u001b[37m \u001b[0m│\n",
       "│\u001b[35m \u001b[0m\u001b[35mf1_medium    \u001b[0m\u001b[35m \u001b[0m│\u001b[37m \u001b[0m\u001b[37m0.06000 \u001b[0m\u001b[37m \u001b[0m│\n",
       "│\u001b[35m \u001b[0m\u001b[35mf1_large     \u001b[0m\u001b[35m \u001b[0m│\u001b[37m \u001b[0m\u001b[37m0.33424 \u001b[0m\u001b[37m \u001b[0m│\n",
       "└───────────────┴──────────┘\n"
      ]
     },
     "metadata": {},
     "output_type": "display_data"
    },
    {
     "data": {
      "text/html": [
       "<pre style=\"white-space:pre;overflow-x:auto;line-height:normal;font-family:Menlo,'DejaVu Sans Mono',consolas,'Courier New',monospace\"><span style=\"color: #800080; text-decoration-color: #800080; font-weight: bold\">───────────────────────────────────────────────────────────────────────────────────────────────────────────────────</span>\n",
       "</pre>\n"
      ],
      "text/plain": [
       "\u001b[1;35m───────────────────────────────────────────────────────────────────────────────────────────────────────────────────\u001b[0m\n"
      ]
     },
     "metadata": {},
     "output_type": "display_data"
    },
    {
     "data": {
      "text/html": [
       "<pre style=\"white-space:pre;overflow-x:auto;line-height:normal;font-family:Menlo,'DejaVu Sans Mono',consolas,'Courier New',monospace\"><span style=\"color: #008000; text-decoration-color: #008000\">INFO    </span> Validation main metric <span style=\"font-weight: bold\">(</span>detection_head/detection_map<span style=\"font-weight: bold\">)</span>: <span style=\"color: #008080; text-decoration-color: #008080; font-weight: bold\">0.2279</span>                     <a href=\"file:///opt/conda/lib/python3.11/site-packages/luxonis_train/models/luxonis_lightning.py\" target=\"_blank\"><span style=\"color: #7f7f7f; text-decoration-color: #7f7f7f\">luxonis_lightning.py</span></a><span style=\"color: #7f7f7f; text-decoration-color: #7f7f7f\">:</span><a href=\"file:///opt/conda/lib/python3.11/site-packages/luxonis_train/models/luxonis_lightning.py#924\" target=\"_blank\"><span style=\"color: #7f7f7f; text-decoration-color: #7f7f7f\">924</span></a>\n",
       "</pre>\n"
      ],
      "text/plain": [
       "\u001b[32mINFO    \u001b[0m Validation main metric \u001b[1m(\u001b[0mdetection_head/detection_map\u001b[1m)\u001b[0m: \u001b[1;36m0.2279\u001b[0m                     \u001b]8;id=558353;file:///opt/conda/lib/python3.11/site-packages/luxonis_train/models/luxonis_lightning.py\u001b\\\u001b[2mluxonis_lightning.py\u001b[0m\u001b]8;;\u001b\\\u001b[2m:\u001b[0m\u001b]8;id=254608;file:///opt/conda/lib/python3.11/site-packages/luxonis_train/models/luxonis_lightning.py#924\u001b\\\u001b[2m924\u001b[0m\u001b]8;;\u001b\\\n"
      ]
     },
     "metadata": {},
     "output_type": "display_data"
    },
    {
     "data": {
      "text/html": [
       "<pre style=\"white-space:pre;overflow-x:auto;line-height:normal;font-family:Menlo,'DejaVu Sans Mono',consolas,'Courier New',monospace\"></pre>\n"
      ],
      "text/plain": []
     },
     "metadata": {},
     "output_type": "display_data"
    },
    {
     "data": {
      "text/html": [
       "<pre style=\"white-space:pre;overflow-x:auto;line-height:normal;font-family:Menlo,'DejaVu Sans Mono',consolas,'Courier New',monospace\">\n",
       "</pre>\n"
      ],
      "text/plain": [
       "\n"
      ]
     },
     "metadata": {},
     "output_type": "display_data"
    },
    {
     "data": {
      "application/vnd.jupyter.widget-view+json": {
       "model_id": "23a77cda948c443387a024b56833cf98",
       "version_major": 2,
       "version_minor": 0
      },
      "text/plain": [
       "Output()"
      ]
     },
     "metadata": {},
     "output_type": "display_data"
    },
    {
     "data": {
      "text/html": [
       "<pre style=\"white-space:pre;overflow-x:auto;line-height:normal;font-family:Menlo,'DejaVu Sans Mono',consolas,'Courier New',monospace\"></pre>\n"
      ],
      "text/plain": []
     },
     "metadata": {},
     "output_type": "display_data"
    },
    {
     "data": {
      "text/html": [
       "<pre style=\"white-space:pre;overflow-x:auto;line-height:normal;font-family:Menlo,'DejaVu Sans Mono',consolas,'Courier New',monospace\">\n",
       "</pre>\n"
      ],
      "text/plain": [
       "\n"
      ]
     },
     "metadata": {},
     "output_type": "display_data"
    },
    {
     "data": {
      "application/vnd.jupyter.widget-view+json": {
       "model_id": "381693860d7444259c6be91e6e625543",
       "version_major": 2,
       "version_minor": 0
      },
      "text/plain": [
       "Output()"
      ]
     },
     "metadata": {},
     "output_type": "display_data"
    },
    {
     "data": {
      "text/html": [
       "<pre style=\"white-space:pre;overflow-x:auto;line-height:normal;font-family:Menlo,'DejaVu Sans Mono',consolas,'Courier New',monospace\"></pre>\n"
      ],
      "text/plain": []
     },
     "metadata": {},
     "output_type": "display_data"
    },
    {
     "data": {
      "text/html": [
       "<pre style=\"white-space:pre;overflow-x:auto;line-height:normal;font-family:Menlo,'DejaVu Sans Mono',consolas,'Courier New',monospace\">\n",
       "</pre>\n"
      ],
      "text/plain": [
       "\n"
      ]
     },
     "metadata": {},
     "output_type": "display_data"
    },
    {
     "data": {
      "application/vnd.jupyter.widget-view+json": {
       "model_id": "d198692d8def4e38af8efa451dfabd27",
       "version_major": 2,
       "version_minor": 0
      },
      "text/plain": [
       "Output()"
      ]
     },
     "metadata": {},
     "output_type": "display_data"
    },
    {
     "data": {
      "text/html": [
       "<pre style=\"white-space:pre;overflow-x:auto;line-height:normal;font-family:Menlo,'DejaVu Sans Mono',consolas,'Courier New',monospace\"></pre>\n"
      ],
      "text/plain": []
     },
     "metadata": {},
     "output_type": "display_data"
    },
    {
     "data": {
      "text/html": [
       "<pre style=\"white-space:pre;overflow-x:auto;line-height:normal;font-family:Menlo,'DejaVu Sans Mono',consolas,'Courier New',monospace\">\n",
       "</pre>\n"
      ],
      "text/plain": [
       "\n"
      ]
     },
     "metadata": {},
     "output_type": "display_data"
    },
    {
     "data": {
      "application/vnd.jupyter.widget-view+json": {
       "model_id": "520cfa61b5224b7cacda2741cfc47f21",
       "version_major": 2,
       "version_minor": 0
      },
      "text/plain": [
       "Output()"
      ]
     },
     "metadata": {},
     "output_type": "display_data"
    },
    {
     "data": {
      "text/html": [
       "<pre style=\"white-space:pre;overflow-x:auto;line-height:normal;font-family:Menlo,'DejaVu Sans Mono',consolas,'Courier New',monospace\"></pre>\n"
      ],
      "text/plain": []
     },
     "metadata": {},
     "output_type": "display_data"
    },
    {
     "data": {
      "text/html": [
       "<pre style=\"white-space:pre;overflow-x:auto;line-height:normal;font-family:Menlo,'DejaVu Sans Mono',consolas,'Courier New',monospace\">\n",
       "</pre>\n"
      ],
      "text/plain": [
       "\n"
      ]
     },
     "metadata": {},
     "output_type": "display_data"
    },
    {
     "data": {
      "application/vnd.jupyter.widget-view+json": {
       "model_id": "7284df2d0df34c9c97824402cef80a20",
       "version_major": 2,
       "version_minor": 0
      },
      "text/plain": [
       "Output()"
      ]
     },
     "metadata": {},
     "output_type": "display_data"
    },
    {
     "data": {
      "text/html": [
       "<pre style=\"white-space:pre;overflow-x:auto;line-height:normal;font-family:Menlo,'DejaVu Sans Mono',consolas,'Courier New',monospace\"></pre>\n"
      ],
      "text/plain": []
     },
     "metadata": {},
     "output_type": "display_data"
    },
    {
     "data": {
      "text/html": [
       "<pre style=\"white-space:pre;overflow-x:auto;line-height:normal;font-family:Menlo,'DejaVu Sans Mono',consolas,'Courier New',monospace\">\n",
       "</pre>\n"
      ],
      "text/plain": [
       "\n"
      ]
     },
     "metadata": {},
     "output_type": "display_data"
    },
    {
     "data": {
      "application/vnd.jupyter.widget-view+json": {
       "model_id": "7b8322a2839b415f971fd5362056a3fa",
       "version_major": 2,
       "version_minor": 0
      },
      "text/plain": [
       "Output()"
      ]
     },
     "metadata": {},
     "output_type": "display_data"
    },
    {
     "data": {
      "text/html": [
       "<pre style=\"white-space:pre;overflow-x:auto;line-height:normal;font-family:Menlo,'DejaVu Sans Mono',consolas,'Courier New',monospace\"></pre>\n"
      ],
      "text/plain": []
     },
     "metadata": {},
     "output_type": "display_data"
    },
    {
     "data": {
      "text/html": [
       "<pre style=\"white-space:pre;overflow-x:auto;line-height:normal;font-family:Menlo,'DejaVu Sans Mono',consolas,'Courier New',monospace\">\n",
       "</pre>\n"
      ],
      "text/plain": [
       "\n"
      ]
     },
     "metadata": {},
     "output_type": "display_data"
    },
    {
     "data": {
      "application/vnd.jupyter.widget-view+json": {
       "model_id": "28e312d28db94ef2ae85337cc48e73c0",
       "version_major": 2,
       "version_minor": 0
      },
      "text/plain": [
       "Output()"
      ]
     },
     "metadata": {},
     "output_type": "display_data"
    },
    {
     "data": {
      "text/html": [
       "<pre style=\"white-space:pre;overflow-x:auto;line-height:normal;font-family:Menlo,'DejaVu Sans Mono',consolas,'Courier New',monospace\"></pre>\n"
      ],
      "text/plain": []
     },
     "metadata": {},
     "output_type": "display_data"
    },
    {
     "data": {
      "text/html": [
       "<pre style=\"white-space:pre;overflow-x:auto;line-height:normal;font-family:Menlo,'DejaVu Sans Mono',consolas,'Courier New',monospace\">\n",
       "</pre>\n"
      ],
      "text/plain": [
       "\n"
      ]
     },
     "metadata": {},
     "output_type": "display_data"
    },
    {
     "data": {
      "application/vnd.jupyter.widget-view+json": {
       "model_id": "07f69d75bc8147e68298ffc5165a2052",
       "version_major": 2,
       "version_minor": 0
      },
      "text/plain": [
       "Output()"
      ]
     },
     "metadata": {},
     "output_type": "display_data"
    },
    {
     "data": {
      "text/html": [
       "<pre style=\"white-space:pre;overflow-x:auto;line-height:normal;font-family:Menlo,'DejaVu Sans Mono',consolas,'Courier New',monospace\"></pre>\n"
      ],
      "text/plain": []
     },
     "metadata": {},
     "output_type": "display_data"
    },
    {
     "data": {
      "text/html": [
       "<pre style=\"white-space:pre;overflow-x:auto;line-height:normal;font-family:Menlo,'DejaVu Sans Mono',consolas,'Courier New',monospace\">\n",
       "</pre>\n"
      ],
      "text/plain": [
       "\n"
      ]
     },
     "metadata": {},
     "output_type": "display_data"
    },
    {
     "data": {
      "application/vnd.jupyter.widget-view+json": {
       "model_id": "487e94eff6cc4595a7c5baaae12307ae",
       "version_major": 2,
       "version_minor": 0
      },
      "text/plain": [
       "Output()"
      ]
     },
     "metadata": {},
     "output_type": "display_data"
    },
    {
     "data": {
      "text/html": [
       "<pre style=\"white-space:pre;overflow-x:auto;line-height:normal;font-family:Menlo,'DejaVu Sans Mono',consolas,'Courier New',monospace\"></pre>\n"
      ],
      "text/plain": []
     },
     "metadata": {},
     "output_type": "display_data"
    },
    {
     "data": {
      "text/html": [
       "<pre style=\"white-space:pre;overflow-x:auto;line-height:normal;font-family:Menlo,'DejaVu Sans Mono',consolas,'Courier New',monospace\">\n",
       "</pre>\n"
      ],
      "text/plain": [
       "\n"
      ]
     },
     "metadata": {},
     "output_type": "display_data"
    },
    {
     "data": {
      "application/vnd.jupyter.widget-view+json": {
       "model_id": "5461643f47474410a2173ae021f6354b",
       "version_major": 2,
       "version_minor": 0
      },
      "text/plain": [
       "Output()"
      ]
     },
     "metadata": {},
     "output_type": "display_data"
    },
    {
     "data": {
      "text/html": [
       "<pre style=\"white-space:pre;overflow-x:auto;line-height:normal;font-family:Menlo,'DejaVu Sans Mono',consolas,'Courier New',monospace\"><span style=\"color: #008000; text-decoration-color: #008000\">INFO    </span> Computing metrics on val subset <span style=\"color: #808000; text-decoration-color: #808000\">...</span>                                               <a href=\"file:///opt/conda/lib/python3.11/site-packages/luxonis_train/models/luxonis_lightning.py\" target=\"_blank\"><span style=\"color: #7f7f7f; text-decoration-color: #7f7f7f\">luxonis_lightning.py</span></a><span style=\"color: #7f7f7f; text-decoration-color: #7f7f7f\">:</span><a href=\"file:///opt/conda/lib/python3.11/site-packages/luxonis_train/models/luxonis_lightning.py#732\" target=\"_blank\"><span style=\"color: #7f7f7f; text-decoration-color: #7f7f7f\">732</span></a>\n",
       "</pre>\n"
      ],
      "text/plain": [
       "\u001b[32mINFO    \u001b[0m Computing metrics on val subset \u001b[33m...\u001b[0m                                               \u001b]8;id=779801;file:///opt/conda/lib/python3.11/site-packages/luxonis_train/models/luxonis_lightning.py\u001b\\\u001b[2mluxonis_lightning.py\u001b[0m\u001b]8;;\u001b\\\u001b[2m:\u001b[0m\u001b]8;id=53014;file:///opt/conda/lib/python3.11/site-packages/luxonis_train/models/luxonis_lightning.py#732\u001b\\\u001b[2m732\u001b[0m\u001b]8;;\u001b\\\n"
      ]
     },
     "metadata": {},
     "output_type": "display_data"
    },
    {
     "data": {
      "text/html": [
       "<pre style=\"white-space:pre;overflow-x:auto;line-height:normal;font-family:Menlo,'DejaVu Sans Mono',consolas,'Courier New',monospace\"><span style=\"color: #008000; text-decoration-color: #008000\">INFO    </span> Metrics computed.                                                                 <a href=\"file:///opt/conda/lib/python3.11/site-packages/luxonis_train/models/luxonis_lightning.py\" target=\"_blank\"><span style=\"color: #7f7f7f; text-decoration-color: #7f7f7f\">luxonis_lightning.py</span></a><span style=\"color: #7f7f7f; text-decoration-color: #7f7f7f\">:</span><a href=\"file:///opt/conda/lib/python3.11/site-packages/luxonis_train/models/luxonis_lightning.py#734\" target=\"_blank\"><span style=\"color: #7f7f7f; text-decoration-color: #7f7f7f\">734</span></a>\n",
       "</pre>\n"
      ],
      "text/plain": [
       "\u001b[32mINFO    \u001b[0m Metrics computed.                                                                 \u001b]8;id=691263;file:///opt/conda/lib/python3.11/site-packages/luxonis_train/models/luxonis_lightning.py\u001b\\\u001b[2mluxonis_lightning.py\u001b[0m\u001b]8;;\u001b\\\u001b[2m:\u001b[0m\u001b]8;id=885944;file:///opt/conda/lib/python3.11/site-packages/luxonis_train/models/luxonis_lightning.py#734\u001b\\\u001b[2m734\u001b[0m\u001b]8;;\u001b\\\n"
      ]
     },
     "metadata": {},
     "output_type": "display_data"
    },
    {
     "data": {
      "text/html": [
       "<pre style=\"white-space:pre;overflow-x:auto;line-height:normal;font-family:Menlo,'DejaVu Sans Mono',consolas,'Courier New',monospace\"><span style=\"color: #008000; text-decoration-color: #008000\">INFO    </span> Validation loss: <span style=\"color: #008080; text-decoration-color: #008080; font-weight: bold\">1.3995</span>                                                           <a href=\"file:///opt/conda/lib/python3.11/site-packages/luxonis_train/models/luxonis_lightning.py\" target=\"_blank\"><span style=\"color: #7f7f7f; text-decoration-color: #7f7f7f\">luxonis_lightning.py</span></a><span style=\"color: #7f7f7f; text-decoration-color: #7f7f7f\">:</span><a href=\"file:///opt/conda/lib/python3.11/site-packages/luxonis_train/models/luxonis_lightning.py#915\" target=\"_blank\"><span style=\"color: #7f7f7f; text-decoration-color: #7f7f7f\">915</span></a>\n",
       "</pre>\n"
      ],
      "text/plain": [
       "\u001b[32mINFO    \u001b[0m Validation loss: \u001b[1;36m1.3995\u001b[0m                                                           \u001b]8;id=505486;file:///opt/conda/lib/python3.11/site-packages/luxonis_train/models/luxonis_lightning.py\u001b\\\u001b[2mluxonis_lightning.py\u001b[0m\u001b]8;;\u001b\\\u001b[2m:\u001b[0m\u001b]8;id=337319;file:///opt/conda/lib/python3.11/site-packages/luxonis_train/models/luxonis_lightning.py#915\u001b\\\u001b[2m915\u001b[0m\u001b]8;;\u001b\\\n"
      ]
     },
     "metadata": {},
     "output_type": "display_data"
    },
    {
     "data": {
      "text/html": [
       "<pre style=\"white-space:pre;overflow-x:auto;line-height:normal;font-family:Menlo,'DejaVu Sans Mono',consolas,'Courier New',monospace\"><span style=\"color: #800080; text-decoration-color: #800080; font-weight: bold\">─────────────────────────────────────────────────── </span>Validation<span style=\"color: #800080; text-decoration-color: #800080; font-weight: bold\"> ────────────────────────────────────────────────────</span>\n",
       "</pre>\n"
      ],
      "text/plain": [
       "\u001b[1;35m─────────────────────────────────────────────────── \u001b[0mValidation\u001b[1;35m ────────────────────────────────────────────────────\u001b[0m\n"
      ]
     },
     "metadata": {},
     "output_type": "display_data"
    },
    {
     "data": {
      "text/html": [
       "<pre style=\"white-space:pre;overflow-x:auto;line-height:normal;font-family:Menlo,'DejaVu Sans Mono',consolas,'Courier New',monospace\"><span style=\"color: #800080; text-decoration-color: #800080; font-weight: bold\">Loss:</span> <span style=\"color: #c0c0c0; text-decoration-color: #c0c0c0; font-weight: bold\">1.399507224559784</span>\n",
       "</pre>\n"
      ],
      "text/plain": [
       "\u001b[1;35mLoss:\u001b[0m \u001b[1;37m1.399507224559784\u001b[0m\n"
      ]
     },
     "metadata": {},
     "output_type": "display_data"
    },
    {
     "data": {
      "text/html": [
       "<pre style=\"white-space:pre;overflow-x:auto;line-height:normal;font-family:Menlo,'DejaVu Sans Mono',consolas,'Courier New',monospace\"><span style=\"color: #800080; text-decoration-color: #800080; font-weight: bold\">Metrics:</span>\n",
       "</pre>\n"
      ],
      "text/plain": [
       "\u001b[1;35mMetrics:\u001b[0m\n"
      ]
     },
     "metadata": {},
     "output_type": "display_data"
    },
    {
     "data": {
      "text/html": [
       "<pre style=\"white-space:pre;overflow-x:auto;line-height:normal;font-family:Menlo,'DejaVu Sans Mono',consolas,'Courier New',monospace\"><span style=\"font-style: italic\">       detection_head       </span>\n",
       "┏━━━━━━━━━━━━━━━┳━━━━━━━━━━┓\n",
       "┃<span style=\"color: #800080; text-decoration-color: #800080; font-weight: bold\"> Name          </span>┃<span style=\"color: #800080; text-decoration-color: #800080; font-weight: bold\"> Value    </span>┃\n",
       "┡━━━━━━━━━━━━━━━╇━━━━━━━━━━┩\n",
       "│<span style=\"color: #800080; text-decoration-color: #800080\"> detection_map </span>│<span style=\"color: #c0c0c0; text-decoration-color: #c0c0c0\"> 0.31058  </span>│\n",
       "│<span style=\"color: #800080; text-decoration-color: #800080\"> map_50        </span>│<span style=\"color: #c0c0c0; text-decoration-color: #c0c0c0\"> 0.43485  </span>│\n",
       "│<span style=\"color: #800080; text-decoration-color: #800080\"> map_75        </span>│<span style=\"color: #c0c0c0; text-decoration-color: #c0c0c0\"> 0.30693  </span>│\n",
       "│<span style=\"color: #800080; text-decoration-color: #800080\"> map_small     </span>│<span style=\"color: #c0c0c0; text-decoration-color: #c0c0c0\"> -1.00000 </span>│\n",
       "│<span style=\"color: #800080; text-decoration-color: #800080\"> map_medium    </span>│<span style=\"color: #c0c0c0; text-decoration-color: #c0c0c0\"> 0.06452  </span>│\n",
       "│<span style=\"color: #800080; text-decoration-color: #800080\"> map_large     </span>│<span style=\"color: #c0c0c0; text-decoration-color: #c0c0c0\"> 0.42676  </span>│\n",
       "│<span style=\"color: #800080; text-decoration-color: #800080\"> mar_1         </span>│<span style=\"color: #c0c0c0; text-decoration-color: #c0c0c0\"> 0.39464  </span>│\n",
       "│<span style=\"color: #800080; text-decoration-color: #800080\"> mar_10        </span>│<span style=\"color: #c0c0c0; text-decoration-color: #c0c0c0\"> 0.43214  </span>│\n",
       "│<span style=\"color: #800080; text-decoration-color: #800080\"> mar_100       </span>│<span style=\"color: #c0c0c0; text-decoration-color: #c0c0c0\"> 0.43214  </span>│\n",
       "│<span style=\"color: #800080; text-decoration-color: #800080\"> mar_small     </span>│<span style=\"color: #c0c0c0; text-decoration-color: #c0c0c0\"> -1.00000 </span>│\n",
       "│<span style=\"color: #800080; text-decoration-color: #800080\"> mar_medium    </span>│<span style=\"color: #c0c0c0; text-decoration-color: #c0c0c0\"> 0.15000  </span>│\n",
       "│<span style=\"color: #800080; text-decoration-color: #800080\"> mar_large     </span>│<span style=\"color: #c0c0c0; text-decoration-color: #c0c0c0\"> 0.58214  </span>│\n",
       "│<span style=\"color: #800080; text-decoration-color: #800080\"> f1_small      </span>│<span style=\"color: #c0c0c0; text-decoration-color: #c0c0c0\"> -1.00000 </span>│\n",
       "│<span style=\"color: #800080; text-decoration-color: #800080\"> f1_medium     </span>│<span style=\"color: #c0c0c0; text-decoration-color: #c0c0c0\"> 0.09023  </span>│\n",
       "│<span style=\"color: #800080; text-decoration-color: #800080\"> f1_large      </span>│<span style=\"color: #c0c0c0; text-decoration-color: #c0c0c0\"> 0.49248  </span>│\n",
       "└───────────────┴──────────┘\n",
       "</pre>\n"
      ],
      "text/plain": [
       "\u001b[3m       detection_head       \u001b[0m\n",
       "┏━━━━━━━━━━━━━━━┳━━━━━━━━━━┓\n",
       "┃\u001b[1;35m \u001b[0m\u001b[1;35mName         \u001b[0m\u001b[1;35m \u001b[0m┃\u001b[1;35m \u001b[0m\u001b[1;35mValue   \u001b[0m\u001b[1;35m \u001b[0m┃\n",
       "┡━━━━━━━━━━━━━━━╇━━━━━━━━━━┩\n",
       "│\u001b[35m \u001b[0m\u001b[35mdetection_map\u001b[0m\u001b[35m \u001b[0m│\u001b[37m \u001b[0m\u001b[37m0.31058 \u001b[0m\u001b[37m \u001b[0m│\n",
       "│\u001b[35m \u001b[0m\u001b[35mmap_50       \u001b[0m\u001b[35m \u001b[0m│\u001b[37m \u001b[0m\u001b[37m0.43485 \u001b[0m\u001b[37m \u001b[0m│\n",
       "│\u001b[35m \u001b[0m\u001b[35mmap_75       \u001b[0m\u001b[35m \u001b[0m│\u001b[37m \u001b[0m\u001b[37m0.30693 \u001b[0m\u001b[37m \u001b[0m│\n",
       "│\u001b[35m \u001b[0m\u001b[35mmap_small    \u001b[0m\u001b[35m \u001b[0m│\u001b[37m \u001b[0m\u001b[37m-1.00000\u001b[0m\u001b[37m \u001b[0m│\n",
       "│\u001b[35m \u001b[0m\u001b[35mmap_medium   \u001b[0m\u001b[35m \u001b[0m│\u001b[37m \u001b[0m\u001b[37m0.06452 \u001b[0m\u001b[37m \u001b[0m│\n",
       "│\u001b[35m \u001b[0m\u001b[35mmap_large    \u001b[0m\u001b[35m \u001b[0m│\u001b[37m \u001b[0m\u001b[37m0.42676 \u001b[0m\u001b[37m \u001b[0m│\n",
       "│\u001b[35m \u001b[0m\u001b[35mmar_1        \u001b[0m\u001b[35m \u001b[0m│\u001b[37m \u001b[0m\u001b[37m0.39464 \u001b[0m\u001b[37m \u001b[0m│\n",
       "│\u001b[35m \u001b[0m\u001b[35mmar_10       \u001b[0m\u001b[35m \u001b[0m│\u001b[37m \u001b[0m\u001b[37m0.43214 \u001b[0m\u001b[37m \u001b[0m│\n",
       "│\u001b[35m \u001b[0m\u001b[35mmar_100      \u001b[0m\u001b[35m \u001b[0m│\u001b[37m \u001b[0m\u001b[37m0.43214 \u001b[0m\u001b[37m \u001b[0m│\n",
       "│\u001b[35m \u001b[0m\u001b[35mmar_small    \u001b[0m\u001b[35m \u001b[0m│\u001b[37m \u001b[0m\u001b[37m-1.00000\u001b[0m\u001b[37m \u001b[0m│\n",
       "│\u001b[35m \u001b[0m\u001b[35mmar_medium   \u001b[0m\u001b[35m \u001b[0m│\u001b[37m \u001b[0m\u001b[37m0.15000 \u001b[0m\u001b[37m \u001b[0m│\n",
       "│\u001b[35m \u001b[0m\u001b[35mmar_large    \u001b[0m\u001b[35m \u001b[0m│\u001b[37m \u001b[0m\u001b[37m0.58214 \u001b[0m\u001b[37m \u001b[0m│\n",
       "│\u001b[35m \u001b[0m\u001b[35mf1_small     \u001b[0m\u001b[35m \u001b[0m│\u001b[37m \u001b[0m\u001b[37m-1.00000\u001b[0m\u001b[37m \u001b[0m│\n",
       "│\u001b[35m \u001b[0m\u001b[35mf1_medium    \u001b[0m\u001b[35m \u001b[0m│\u001b[37m \u001b[0m\u001b[37m0.09023 \u001b[0m\u001b[37m \u001b[0m│\n",
       "│\u001b[35m \u001b[0m\u001b[35mf1_large     \u001b[0m\u001b[35m \u001b[0m│\u001b[37m \u001b[0m\u001b[37m0.49248 \u001b[0m\u001b[37m \u001b[0m│\n",
       "└───────────────┴──────────┘\n"
      ]
     },
     "metadata": {},
     "output_type": "display_data"
    },
    {
     "data": {
      "text/html": [
       "<pre style=\"white-space:pre;overflow-x:auto;line-height:normal;font-family:Menlo,'DejaVu Sans Mono',consolas,'Courier New',monospace\"><span style=\"color: #800080; text-decoration-color: #800080; font-weight: bold\">───────────────────────────────────────────────────────────────────────────────────────────────────────────────────</span>\n",
       "</pre>\n"
      ],
      "text/plain": [
       "\u001b[1;35m───────────────────────────────────────────────────────────────────────────────────────────────────────────────────\u001b[0m\n"
      ]
     },
     "metadata": {},
     "output_type": "display_data"
    },
    {
     "data": {
      "text/html": [
       "<pre style=\"white-space:pre;overflow-x:auto;line-height:normal;font-family:Menlo,'DejaVu Sans Mono',consolas,'Courier New',monospace\"><span style=\"color: #008000; text-decoration-color: #008000\">INFO    </span> Validation main metric <span style=\"font-weight: bold\">(</span>detection_head/detection_map<span style=\"font-weight: bold\">)</span>: <span style=\"color: #008080; text-decoration-color: #008080; font-weight: bold\">0.3106</span>                     <a href=\"file:///opt/conda/lib/python3.11/site-packages/luxonis_train/models/luxonis_lightning.py\" target=\"_blank\"><span style=\"color: #7f7f7f; text-decoration-color: #7f7f7f\">luxonis_lightning.py</span></a><span style=\"color: #7f7f7f; text-decoration-color: #7f7f7f\">:</span><a href=\"file:///opt/conda/lib/python3.11/site-packages/luxonis_train/models/luxonis_lightning.py#924\" target=\"_blank\"><span style=\"color: #7f7f7f; text-decoration-color: #7f7f7f\">924</span></a>\n",
       "</pre>\n"
      ],
      "text/plain": [
       "\u001b[32mINFO    \u001b[0m Validation main metric \u001b[1m(\u001b[0mdetection_head/detection_map\u001b[1m)\u001b[0m: \u001b[1;36m0.3106\u001b[0m                     \u001b]8;id=137221;file:///opt/conda/lib/python3.11/site-packages/luxonis_train/models/luxonis_lightning.py\u001b\\\u001b[2mluxonis_lightning.py\u001b[0m\u001b]8;;\u001b\\\u001b[2m:\u001b[0m\u001b]8;id=412409;file:///opt/conda/lib/python3.11/site-packages/luxonis_train/models/luxonis_lightning.py#924\u001b\\\u001b[2m924\u001b[0m\u001b]8;;\u001b\\\n"
      ]
     },
     "metadata": {},
     "output_type": "display_data"
    },
    {
     "data": {
      "text/html": [
       "<pre style=\"white-space:pre;overflow-x:auto;line-height:normal;font-family:Menlo,'DejaVu Sans Mono',consolas,'Courier New',monospace\"></pre>\n"
      ],
      "text/plain": []
     },
     "metadata": {},
     "output_type": "display_data"
    },
    {
     "data": {
      "text/html": [
       "<pre style=\"white-space:pre;overflow-x:auto;line-height:normal;font-family:Menlo,'DejaVu Sans Mono',consolas,'Courier New',monospace\">\n",
       "</pre>\n"
      ],
      "text/plain": [
       "\n"
      ]
     },
     "metadata": {},
     "output_type": "display_data"
    },
    {
     "data": {
      "application/vnd.jupyter.widget-view+json": {
       "model_id": "1b816c26c5e84bf98e087f07e69c1097",
       "version_major": 2,
       "version_minor": 0
      },
      "text/plain": [
       "Output()"
      ]
     },
     "metadata": {},
     "output_type": "display_data"
    },
    {
     "data": {
      "text/html": [
       "<pre style=\"white-space:pre;overflow-x:auto;line-height:normal;font-family:Menlo,'DejaVu Sans Mono',consolas,'Courier New',monospace\"></pre>\n"
      ],
      "text/plain": []
     },
     "metadata": {},
     "output_type": "display_data"
    },
    {
     "data": {
      "text/html": [
       "<pre style=\"white-space:pre;overflow-x:auto;line-height:normal;font-family:Menlo,'DejaVu Sans Mono',consolas,'Courier New',monospace\">\n",
       "</pre>\n"
      ],
      "text/plain": [
       "\n"
      ]
     },
     "metadata": {},
     "output_type": "display_data"
    },
    {
     "data": {
      "application/vnd.jupyter.widget-view+json": {
       "model_id": "784200c4948c44409726299b3e40b2b1",
       "version_major": 2,
       "version_minor": 0
      },
      "text/plain": [
       "Output()"
      ]
     },
     "metadata": {},
     "output_type": "display_data"
    },
    {
     "data": {
      "text/html": [
       "<pre style=\"white-space:pre;overflow-x:auto;line-height:normal;font-family:Menlo,'DejaVu Sans Mono',consolas,'Courier New',monospace\"></pre>\n"
      ],
      "text/plain": []
     },
     "metadata": {},
     "output_type": "display_data"
    },
    {
     "data": {
      "text/html": [
       "<pre style=\"white-space:pre;overflow-x:auto;line-height:normal;font-family:Menlo,'DejaVu Sans Mono',consolas,'Courier New',monospace\">\n",
       "</pre>\n"
      ],
      "text/plain": [
       "\n"
      ]
     },
     "metadata": {},
     "output_type": "display_data"
    },
    {
     "data": {
      "application/vnd.jupyter.widget-view+json": {
       "model_id": "88700d4fe59144f9852839b97eebe532",
       "version_major": 2,
       "version_minor": 0
      },
      "text/plain": [
       "Output()"
      ]
     },
     "metadata": {},
     "output_type": "display_data"
    },
    {
     "data": {
      "text/html": [
       "<pre style=\"white-space:pre;overflow-x:auto;line-height:normal;font-family:Menlo,'DejaVu Sans Mono',consolas,'Courier New',monospace\"></pre>\n"
      ],
      "text/plain": []
     },
     "metadata": {},
     "output_type": "display_data"
    },
    {
     "data": {
      "text/html": [
       "<pre style=\"white-space:pre;overflow-x:auto;line-height:normal;font-family:Menlo,'DejaVu Sans Mono',consolas,'Courier New',monospace\">\n",
       "</pre>\n"
      ],
      "text/plain": [
       "\n"
      ]
     },
     "metadata": {},
     "output_type": "display_data"
    },
    {
     "data": {
      "application/vnd.jupyter.widget-view+json": {
       "model_id": "569e1dde688f4f1aaff761cd552c327e",
       "version_major": 2,
       "version_minor": 0
      },
      "text/plain": [
       "Output()"
      ]
     },
     "metadata": {},
     "output_type": "display_data"
    },
    {
     "data": {
      "text/html": [
       "<pre style=\"white-space:pre;overflow-x:auto;line-height:normal;font-family:Menlo,'DejaVu Sans Mono',consolas,'Courier New',monospace\"></pre>\n"
      ],
      "text/plain": []
     },
     "metadata": {},
     "output_type": "display_data"
    },
    {
     "data": {
      "text/html": [
       "<pre style=\"white-space:pre;overflow-x:auto;line-height:normal;font-family:Menlo,'DejaVu Sans Mono',consolas,'Courier New',monospace\">\n",
       "</pre>\n"
      ],
      "text/plain": [
       "\n"
      ]
     },
     "metadata": {},
     "output_type": "display_data"
    },
    {
     "data": {
      "application/vnd.jupyter.widget-view+json": {
       "model_id": "fe3342c762774fcca057f7aa27bad7c1",
       "version_major": 2,
       "version_minor": 0
      },
      "text/plain": [
       "Output()"
      ]
     },
     "metadata": {},
     "output_type": "display_data"
    },
    {
     "data": {
      "text/html": [
       "<pre style=\"white-space:pre;overflow-x:auto;line-height:normal;font-family:Menlo,'DejaVu Sans Mono',consolas,'Courier New',monospace\"></pre>\n"
      ],
      "text/plain": []
     },
     "metadata": {},
     "output_type": "display_data"
    },
    {
     "data": {
      "text/html": [
       "<pre style=\"white-space:pre;overflow-x:auto;line-height:normal;font-family:Menlo,'DejaVu Sans Mono',consolas,'Courier New',monospace\">\n",
       "</pre>\n"
      ],
      "text/plain": [
       "\n"
      ]
     },
     "metadata": {},
     "output_type": "display_data"
    },
    {
     "data": {
      "application/vnd.jupyter.widget-view+json": {
       "model_id": "21adbd10836a4de3afe98103697aca2c",
       "version_major": 2,
       "version_minor": 0
      },
      "text/plain": [
       "Output()"
      ]
     },
     "metadata": {},
     "output_type": "display_data"
    },
    {
     "data": {
      "text/html": [
       "<pre style=\"white-space:pre;overflow-x:auto;line-height:normal;font-family:Menlo,'DejaVu Sans Mono',consolas,'Courier New',monospace\"></pre>\n"
      ],
      "text/plain": []
     },
     "metadata": {},
     "output_type": "display_data"
    },
    {
     "data": {
      "text/html": [
       "<pre style=\"white-space:pre;overflow-x:auto;line-height:normal;font-family:Menlo,'DejaVu Sans Mono',consolas,'Courier New',monospace\">\n",
       "</pre>\n"
      ],
      "text/plain": [
       "\n"
      ]
     },
     "metadata": {},
     "output_type": "display_data"
    },
    {
     "data": {
      "application/vnd.jupyter.widget-view+json": {
       "model_id": "22c9fe175f8d485ab4d4ade8fe538405",
       "version_major": 2,
       "version_minor": 0
      },
      "text/plain": [
       "Output()"
      ]
     },
     "metadata": {},
     "output_type": "display_data"
    },
    {
     "data": {
      "text/html": [
       "<pre style=\"white-space:pre;overflow-x:auto;line-height:normal;font-family:Menlo,'DejaVu Sans Mono',consolas,'Courier New',monospace\"></pre>\n"
      ],
      "text/plain": []
     },
     "metadata": {},
     "output_type": "display_data"
    },
    {
     "data": {
      "text/html": [
       "<pre style=\"white-space:pre;overflow-x:auto;line-height:normal;font-family:Menlo,'DejaVu Sans Mono',consolas,'Courier New',monospace\">\n",
       "</pre>\n"
      ],
      "text/plain": [
       "\n"
      ]
     },
     "metadata": {},
     "output_type": "display_data"
    },
    {
     "data": {
      "application/vnd.jupyter.widget-view+json": {
       "model_id": "a949aa99e33444fea83c968126dc3121",
       "version_major": 2,
       "version_minor": 0
      },
      "text/plain": [
       "Output()"
      ]
     },
     "metadata": {},
     "output_type": "display_data"
    },
    {
     "data": {
      "text/html": [
       "<pre style=\"white-space:pre;overflow-x:auto;line-height:normal;font-family:Menlo,'DejaVu Sans Mono',consolas,'Courier New',monospace\"></pre>\n"
      ],
      "text/plain": []
     },
     "metadata": {},
     "output_type": "display_data"
    },
    {
     "data": {
      "text/html": [
       "<pre style=\"white-space:pre;overflow-x:auto;line-height:normal;font-family:Menlo,'DejaVu Sans Mono',consolas,'Courier New',monospace\">\n",
       "</pre>\n"
      ],
      "text/plain": [
       "\n"
      ]
     },
     "metadata": {},
     "output_type": "display_data"
    },
    {
     "data": {
      "application/vnd.jupyter.widget-view+json": {
       "model_id": "48d42b0f8d0940ed9ca58abc9b818086",
       "version_major": 2,
       "version_minor": 0
      },
      "text/plain": [
       "Output()"
      ]
     },
     "metadata": {},
     "output_type": "display_data"
    },
    {
     "data": {
      "text/html": [
       "<pre style=\"white-space:pre;overflow-x:auto;line-height:normal;font-family:Menlo,'DejaVu Sans Mono',consolas,'Courier New',monospace\"></pre>\n"
      ],
      "text/plain": []
     },
     "metadata": {},
     "output_type": "display_data"
    },
    {
     "data": {
      "text/html": [
       "<pre style=\"white-space:pre;overflow-x:auto;line-height:normal;font-family:Menlo,'DejaVu Sans Mono',consolas,'Courier New',monospace\">\n",
       "</pre>\n"
      ],
      "text/plain": [
       "\n"
      ]
     },
     "metadata": {},
     "output_type": "display_data"
    },
    {
     "data": {
      "application/vnd.jupyter.widget-view+json": {
       "model_id": "a45f54865c474478b20f4660369bdc6c",
       "version_major": 2,
       "version_minor": 0
      },
      "text/plain": [
       "Output()"
      ]
     },
     "metadata": {},
     "output_type": "display_data"
    },
    {
     "data": {
      "text/html": [
       "<pre style=\"white-space:pre;overflow-x:auto;line-height:normal;font-family:Menlo,'DejaVu Sans Mono',consolas,'Courier New',monospace\"><span style=\"color: #008000; text-decoration-color: #008000\">INFO    </span> Computing metrics on val subset <span style=\"color: #808000; text-decoration-color: #808000\">...</span>                                               <a href=\"file:///opt/conda/lib/python3.11/site-packages/luxonis_train/models/luxonis_lightning.py\" target=\"_blank\"><span style=\"color: #7f7f7f; text-decoration-color: #7f7f7f\">luxonis_lightning.py</span></a><span style=\"color: #7f7f7f; text-decoration-color: #7f7f7f\">:</span><a href=\"file:///opt/conda/lib/python3.11/site-packages/luxonis_train/models/luxonis_lightning.py#732\" target=\"_blank\"><span style=\"color: #7f7f7f; text-decoration-color: #7f7f7f\">732</span></a>\n",
       "</pre>\n"
      ],
      "text/plain": [
       "\u001b[32mINFO    \u001b[0m Computing metrics on val subset \u001b[33m...\u001b[0m                                               \u001b]8;id=670362;file:///opt/conda/lib/python3.11/site-packages/luxonis_train/models/luxonis_lightning.py\u001b\\\u001b[2mluxonis_lightning.py\u001b[0m\u001b]8;;\u001b\\\u001b[2m:\u001b[0m\u001b]8;id=123630;file:///opt/conda/lib/python3.11/site-packages/luxonis_train/models/luxonis_lightning.py#732\u001b\\\u001b[2m732\u001b[0m\u001b]8;;\u001b\\\n"
      ]
     },
     "metadata": {},
     "output_type": "display_data"
    },
    {
     "data": {
      "text/html": [
       "<pre style=\"white-space:pre;overflow-x:auto;line-height:normal;font-family:Menlo,'DejaVu Sans Mono',consolas,'Courier New',monospace\"><span style=\"color: #008000; text-decoration-color: #008000\">INFO    </span> Metrics computed.                                                                 <a href=\"file:///opt/conda/lib/python3.11/site-packages/luxonis_train/models/luxonis_lightning.py\" target=\"_blank\"><span style=\"color: #7f7f7f; text-decoration-color: #7f7f7f\">luxonis_lightning.py</span></a><span style=\"color: #7f7f7f; text-decoration-color: #7f7f7f\">:</span><a href=\"file:///opt/conda/lib/python3.11/site-packages/luxonis_train/models/luxonis_lightning.py#734\" target=\"_blank\"><span style=\"color: #7f7f7f; text-decoration-color: #7f7f7f\">734</span></a>\n",
       "</pre>\n"
      ],
      "text/plain": [
       "\u001b[32mINFO    \u001b[0m Metrics computed.                                                                 \u001b]8;id=615226;file:///opt/conda/lib/python3.11/site-packages/luxonis_train/models/luxonis_lightning.py\u001b\\\u001b[2mluxonis_lightning.py\u001b[0m\u001b]8;;\u001b\\\u001b[2m:\u001b[0m\u001b]8;id=809198;file:///opt/conda/lib/python3.11/site-packages/luxonis_train/models/luxonis_lightning.py#734\u001b\\\u001b[2m734\u001b[0m\u001b]8;;\u001b\\\n"
      ]
     },
     "metadata": {},
     "output_type": "display_data"
    },
    {
     "data": {
      "text/html": [
       "<pre style=\"white-space:pre;overflow-x:auto;line-height:normal;font-family:Menlo,'DejaVu Sans Mono',consolas,'Courier New',monospace\"><span style=\"color: #008000; text-decoration-color: #008000\">INFO    </span> Validation loss: <span style=\"color: #008080; text-decoration-color: #008080; font-weight: bold\">1.3748</span>                                                           <a href=\"file:///opt/conda/lib/python3.11/site-packages/luxonis_train/models/luxonis_lightning.py\" target=\"_blank\"><span style=\"color: #7f7f7f; text-decoration-color: #7f7f7f\">luxonis_lightning.py</span></a><span style=\"color: #7f7f7f; text-decoration-color: #7f7f7f\">:</span><a href=\"file:///opt/conda/lib/python3.11/site-packages/luxonis_train/models/luxonis_lightning.py#915\" target=\"_blank\"><span style=\"color: #7f7f7f; text-decoration-color: #7f7f7f\">915</span></a>\n",
       "</pre>\n"
      ],
      "text/plain": [
       "\u001b[32mINFO    \u001b[0m Validation loss: \u001b[1;36m1.3748\u001b[0m                                                           \u001b]8;id=618892;file:///opt/conda/lib/python3.11/site-packages/luxonis_train/models/luxonis_lightning.py\u001b\\\u001b[2mluxonis_lightning.py\u001b[0m\u001b]8;;\u001b\\\u001b[2m:\u001b[0m\u001b]8;id=795965;file:///opt/conda/lib/python3.11/site-packages/luxonis_train/models/luxonis_lightning.py#915\u001b\\\u001b[2m915\u001b[0m\u001b]8;;\u001b\\\n"
      ]
     },
     "metadata": {},
     "output_type": "display_data"
    },
    {
     "data": {
      "text/html": [
       "<pre style=\"white-space:pre;overflow-x:auto;line-height:normal;font-family:Menlo,'DejaVu Sans Mono',consolas,'Courier New',monospace\"><span style=\"color: #800080; text-decoration-color: #800080; font-weight: bold\">─────────────────────────────────────────────────── </span>Validation<span style=\"color: #800080; text-decoration-color: #800080; font-weight: bold\"> ────────────────────────────────────────────────────</span>\n",
       "</pre>\n"
      ],
      "text/plain": [
       "\u001b[1;35m─────────────────────────────────────────────────── \u001b[0mValidation\u001b[1;35m ────────────────────────────────────────────────────\u001b[0m\n"
      ]
     },
     "metadata": {},
     "output_type": "display_data"
    },
    {
     "data": {
      "text/html": [
       "<pre style=\"white-space:pre;overflow-x:auto;line-height:normal;font-family:Menlo,'DejaVu Sans Mono',consolas,'Courier New',monospace\"><span style=\"color: #800080; text-decoration-color: #800080; font-weight: bold\">Loss:</span> <span style=\"color: #c0c0c0; text-decoration-color: #c0c0c0; font-weight: bold\">1.3748390078544617</span>\n",
       "</pre>\n"
      ],
      "text/plain": [
       "\u001b[1;35mLoss:\u001b[0m \u001b[1;37m1.3748390078544617\u001b[0m\n"
      ]
     },
     "metadata": {},
     "output_type": "display_data"
    },
    {
     "data": {
      "text/html": [
       "<pre style=\"white-space:pre;overflow-x:auto;line-height:normal;font-family:Menlo,'DejaVu Sans Mono',consolas,'Courier New',monospace\"><span style=\"color: #800080; text-decoration-color: #800080; font-weight: bold\">Metrics:</span>\n",
       "</pre>\n"
      ],
      "text/plain": [
       "\u001b[1;35mMetrics:\u001b[0m\n"
      ]
     },
     "metadata": {},
     "output_type": "display_data"
    },
    {
     "data": {
      "text/html": [
       "<pre style=\"white-space:pre;overflow-x:auto;line-height:normal;font-family:Menlo,'DejaVu Sans Mono',consolas,'Courier New',monospace\"><span style=\"font-style: italic\">       detection_head       </span>\n",
       "┏━━━━━━━━━━━━━━━┳━━━━━━━━━━┓\n",
       "┃<span style=\"color: #800080; text-decoration-color: #800080; font-weight: bold\"> Name          </span>┃<span style=\"color: #800080; text-decoration-color: #800080; font-weight: bold\"> Value    </span>┃\n",
       "┡━━━━━━━━━━━━━━━╇━━━━━━━━━━┩\n",
       "│<span style=\"color: #800080; text-decoration-color: #800080\"> detection_map </span>│<span style=\"color: #c0c0c0; text-decoration-color: #c0c0c0\"> 0.24692  </span>│\n",
       "│<span style=\"color: #800080; text-decoration-color: #800080\"> map_50        </span>│<span style=\"color: #c0c0c0; text-decoration-color: #c0c0c0\"> 0.33543  </span>│\n",
       "│<span style=\"color: #800080; text-decoration-color: #800080\"> map_75        </span>│<span style=\"color: #c0c0c0; text-decoration-color: #c0c0c0\"> 0.22640  </span>│\n",
       "│<span style=\"color: #800080; text-decoration-color: #800080\"> map_small     </span>│<span style=\"color: #c0c0c0; text-decoration-color: #c0c0c0\"> -1.00000 </span>│\n",
       "│<span style=\"color: #800080; text-decoration-color: #800080\"> map_medium    </span>│<span style=\"color: #c0c0c0; text-decoration-color: #c0c0c0\"> 0.04208  </span>│\n",
       "│<span style=\"color: #800080; text-decoration-color: #800080\"> map_large     </span>│<span style=\"color: #c0c0c0; text-decoration-color: #c0c0c0\"> 0.36904  </span>│\n",
       "│<span style=\"color: #800080; text-decoration-color: #800080\"> mar_1         </span>│<span style=\"color: #c0c0c0; text-decoration-color: #c0c0c0\"> 0.20893  </span>│\n",
       "│<span style=\"color: #800080; text-decoration-color: #800080\"> mar_10        </span>│<span style=\"color: #c0c0c0; text-decoration-color: #c0c0c0\"> 0.34286  </span>│\n",
       "│<span style=\"color: #800080; text-decoration-color: #800080\"> mar_100       </span>│<span style=\"color: #c0c0c0; text-decoration-color: #c0c0c0\"> 0.34286  </span>│\n",
       "│<span style=\"color: #800080; text-decoration-color: #800080\"> mar_small     </span>│<span style=\"color: #c0c0c0; text-decoration-color: #c0c0c0\"> -1.00000 </span>│\n",
       "│<span style=\"color: #800080; text-decoration-color: #800080\"> mar_medium    </span>│<span style=\"color: #c0c0c0; text-decoration-color: #c0c0c0\"> 0.08333  </span>│\n",
       "│<span style=\"color: #800080; text-decoration-color: #800080\"> mar_large     </span>│<span style=\"color: #c0c0c0; text-decoration-color: #c0c0c0\"> 0.51786  </span>│\n",
       "│<span style=\"color: #800080; text-decoration-color: #800080\"> f1_small      </span>│<span style=\"color: #c0c0c0; text-decoration-color: #c0c0c0\"> -1.00000 </span>│\n",
       "│<span style=\"color: #800080; text-decoration-color: #800080\"> f1_medium     </span>│<span style=\"color: #c0c0c0; text-decoration-color: #c0c0c0\"> 0.05592  </span>│\n",
       "│<span style=\"color: #800080; text-decoration-color: #800080\"> f1_large      </span>│<span style=\"color: #c0c0c0; text-decoration-color: #c0c0c0\"> 0.43096  </span>│\n",
       "└───────────────┴──────────┘\n",
       "</pre>\n"
      ],
      "text/plain": [
       "\u001b[3m       detection_head       \u001b[0m\n",
       "┏━━━━━━━━━━━━━━━┳━━━━━━━━━━┓\n",
       "┃\u001b[1;35m \u001b[0m\u001b[1;35mName         \u001b[0m\u001b[1;35m \u001b[0m┃\u001b[1;35m \u001b[0m\u001b[1;35mValue   \u001b[0m\u001b[1;35m \u001b[0m┃\n",
       "┡━━━━━━━━━━━━━━━╇━━━━━━━━━━┩\n",
       "│\u001b[35m \u001b[0m\u001b[35mdetection_map\u001b[0m\u001b[35m \u001b[0m│\u001b[37m \u001b[0m\u001b[37m0.24692 \u001b[0m\u001b[37m \u001b[0m│\n",
       "│\u001b[35m \u001b[0m\u001b[35mmap_50       \u001b[0m\u001b[35m \u001b[0m│\u001b[37m \u001b[0m\u001b[37m0.33543 \u001b[0m\u001b[37m \u001b[0m│\n",
       "│\u001b[35m \u001b[0m\u001b[35mmap_75       \u001b[0m\u001b[35m \u001b[0m│\u001b[37m \u001b[0m\u001b[37m0.22640 \u001b[0m\u001b[37m \u001b[0m│\n",
       "│\u001b[35m \u001b[0m\u001b[35mmap_small    \u001b[0m\u001b[35m \u001b[0m│\u001b[37m \u001b[0m\u001b[37m-1.00000\u001b[0m\u001b[37m \u001b[0m│\n",
       "│\u001b[35m \u001b[0m\u001b[35mmap_medium   \u001b[0m\u001b[35m \u001b[0m│\u001b[37m \u001b[0m\u001b[37m0.04208 \u001b[0m\u001b[37m \u001b[0m│\n",
       "│\u001b[35m \u001b[0m\u001b[35mmap_large    \u001b[0m\u001b[35m \u001b[0m│\u001b[37m \u001b[0m\u001b[37m0.36904 \u001b[0m\u001b[37m \u001b[0m│\n",
       "│\u001b[35m \u001b[0m\u001b[35mmar_1        \u001b[0m\u001b[35m \u001b[0m│\u001b[37m \u001b[0m\u001b[37m0.20893 \u001b[0m\u001b[37m \u001b[0m│\n",
       "│\u001b[35m \u001b[0m\u001b[35mmar_10       \u001b[0m\u001b[35m \u001b[0m│\u001b[37m \u001b[0m\u001b[37m0.34286 \u001b[0m\u001b[37m \u001b[0m│\n",
       "│\u001b[35m \u001b[0m\u001b[35mmar_100      \u001b[0m\u001b[35m \u001b[0m│\u001b[37m \u001b[0m\u001b[37m0.34286 \u001b[0m\u001b[37m \u001b[0m│\n",
       "│\u001b[35m \u001b[0m\u001b[35mmar_small    \u001b[0m\u001b[35m \u001b[0m│\u001b[37m \u001b[0m\u001b[37m-1.00000\u001b[0m\u001b[37m \u001b[0m│\n",
       "│\u001b[35m \u001b[0m\u001b[35mmar_medium   \u001b[0m\u001b[35m \u001b[0m│\u001b[37m \u001b[0m\u001b[37m0.08333 \u001b[0m\u001b[37m \u001b[0m│\n",
       "│\u001b[35m \u001b[0m\u001b[35mmar_large    \u001b[0m\u001b[35m \u001b[0m│\u001b[37m \u001b[0m\u001b[37m0.51786 \u001b[0m\u001b[37m \u001b[0m│\n",
       "│\u001b[35m \u001b[0m\u001b[35mf1_small     \u001b[0m\u001b[35m \u001b[0m│\u001b[37m \u001b[0m\u001b[37m-1.00000\u001b[0m\u001b[37m \u001b[0m│\n",
       "│\u001b[35m \u001b[0m\u001b[35mf1_medium    \u001b[0m\u001b[35m \u001b[0m│\u001b[37m \u001b[0m\u001b[37m0.05592 \u001b[0m\u001b[37m \u001b[0m│\n",
       "│\u001b[35m \u001b[0m\u001b[35mf1_large     \u001b[0m\u001b[35m \u001b[0m│\u001b[37m \u001b[0m\u001b[37m0.43096 \u001b[0m\u001b[37m \u001b[0m│\n",
       "└───────────────┴──────────┘\n"
      ]
     },
     "metadata": {},
     "output_type": "display_data"
    },
    {
     "data": {
      "text/html": [
       "<pre style=\"white-space:pre;overflow-x:auto;line-height:normal;font-family:Menlo,'DejaVu Sans Mono',consolas,'Courier New',monospace\"><span style=\"color: #800080; text-decoration-color: #800080; font-weight: bold\">───────────────────────────────────────────────────────────────────────────────────────────────────────────────────</span>\n",
       "</pre>\n"
      ],
      "text/plain": [
       "\u001b[1;35m───────────────────────────────────────────────────────────────────────────────────────────────────────────────────\u001b[0m\n"
      ]
     },
     "metadata": {},
     "output_type": "display_data"
    },
    {
     "data": {
      "text/html": [
       "<pre style=\"white-space:pre;overflow-x:auto;line-height:normal;font-family:Menlo,'DejaVu Sans Mono',consolas,'Courier New',monospace\"><span style=\"color: #008000; text-decoration-color: #008000\">INFO    </span> Validation main metric <span style=\"font-weight: bold\">(</span>detection_head/detection_map<span style=\"font-weight: bold\">)</span>: <span style=\"color: #008080; text-decoration-color: #008080; font-weight: bold\">0.2469</span>                     <a href=\"file:///opt/conda/lib/python3.11/site-packages/luxonis_train/models/luxonis_lightning.py\" target=\"_blank\"><span style=\"color: #7f7f7f; text-decoration-color: #7f7f7f\">luxonis_lightning.py</span></a><span style=\"color: #7f7f7f; text-decoration-color: #7f7f7f\">:</span><a href=\"file:///opt/conda/lib/python3.11/site-packages/luxonis_train/models/luxonis_lightning.py#924\" target=\"_blank\"><span style=\"color: #7f7f7f; text-decoration-color: #7f7f7f\">924</span></a>\n",
       "</pre>\n"
      ],
      "text/plain": [
       "\u001b[32mINFO    \u001b[0m Validation main metric \u001b[1m(\u001b[0mdetection_head/detection_map\u001b[1m)\u001b[0m: \u001b[1;36m0.2469\u001b[0m                     \u001b]8;id=169795;file:///opt/conda/lib/python3.11/site-packages/luxonis_train/models/luxonis_lightning.py\u001b\\\u001b[2mluxonis_lightning.py\u001b[0m\u001b]8;;\u001b\\\u001b[2m:\u001b[0m\u001b]8;id=229994;file:///opt/conda/lib/python3.11/site-packages/luxonis_train/models/luxonis_lightning.py#924\u001b\\\u001b[2m924\u001b[0m\u001b]8;;\u001b\\\n"
      ]
     },
     "metadata": {},
     "output_type": "display_data"
    },
    {
     "data": {
      "text/html": [
       "<pre style=\"white-space:pre;overflow-x:auto;line-height:normal;font-family:Menlo,'DejaVu Sans Mono',consolas,'Courier New',monospace\"></pre>\n"
      ],
      "text/plain": []
     },
     "metadata": {},
     "output_type": "display_data"
    },
    {
     "data": {
      "text/html": [
       "<pre style=\"white-space:pre;overflow-x:auto;line-height:normal;font-family:Menlo,'DejaVu Sans Mono',consolas,'Courier New',monospace\">\n",
       "</pre>\n"
      ],
      "text/plain": [
       "\n"
      ]
     },
     "metadata": {},
     "output_type": "display_data"
    },
    {
     "data": {
      "application/vnd.jupyter.widget-view+json": {
       "model_id": "d03d55ee3f4641b79f2c9e303be8be08",
       "version_major": 2,
       "version_minor": 0
      },
      "text/plain": [
       "Output()"
      ]
     },
     "metadata": {},
     "output_type": "display_data"
    },
    {
     "data": {
      "text/html": [
       "<pre style=\"white-space:pre;overflow-x:auto;line-height:normal;font-family:Menlo,'DejaVu Sans Mono',consolas,'Courier New',monospace\"></pre>\n"
      ],
      "text/plain": []
     },
     "metadata": {},
     "output_type": "display_data"
    },
    {
     "data": {
      "text/html": [
       "<pre style=\"white-space:pre;overflow-x:auto;line-height:normal;font-family:Menlo,'DejaVu Sans Mono',consolas,'Courier New',monospace\">\n",
       "</pre>\n"
      ],
      "text/plain": [
       "\n"
      ]
     },
     "metadata": {},
     "output_type": "display_data"
    },
    {
     "data": {
      "application/vnd.jupyter.widget-view+json": {
       "model_id": "326e505ae120430b8ae5a74490d6d6e0",
       "version_major": 2,
       "version_minor": 0
      },
      "text/plain": [
       "Output()"
      ]
     },
     "metadata": {},
     "output_type": "display_data"
    },
    {
     "data": {
      "text/html": [
       "<pre style=\"white-space:pre;overflow-x:auto;line-height:normal;font-family:Menlo,'DejaVu Sans Mono',consolas,'Courier New',monospace\"></pre>\n"
      ],
      "text/plain": []
     },
     "metadata": {},
     "output_type": "display_data"
    },
    {
     "data": {
      "text/html": [
       "<pre style=\"white-space:pre;overflow-x:auto;line-height:normal;font-family:Menlo,'DejaVu Sans Mono',consolas,'Courier New',monospace\">\n",
       "</pre>\n"
      ],
      "text/plain": [
       "\n"
      ]
     },
     "metadata": {},
     "output_type": "display_data"
    },
    {
     "data": {
      "application/vnd.jupyter.widget-view+json": {
       "model_id": "84a1927bebb4405e90ee74cedb5314c2",
       "version_major": 2,
       "version_minor": 0
      },
      "text/plain": [
       "Output()"
      ]
     },
     "metadata": {},
     "output_type": "display_data"
    },
    {
     "data": {
      "text/html": [
       "<pre style=\"white-space:pre;overflow-x:auto;line-height:normal;font-family:Menlo,'DejaVu Sans Mono',consolas,'Courier New',monospace\"></pre>\n"
      ],
      "text/plain": []
     },
     "metadata": {},
     "output_type": "display_data"
    },
    {
     "data": {
      "text/html": [
       "<pre style=\"white-space:pre;overflow-x:auto;line-height:normal;font-family:Menlo,'DejaVu Sans Mono',consolas,'Courier New',monospace\">\n",
       "</pre>\n"
      ],
      "text/plain": [
       "\n"
      ]
     },
     "metadata": {},
     "output_type": "display_data"
    },
    {
     "data": {
      "application/vnd.jupyter.widget-view+json": {
       "model_id": "b5750a8b0b234ca1a2c6426fd587c71d",
       "version_major": 2,
       "version_minor": 0
      },
      "text/plain": [
       "Output()"
      ]
     },
     "metadata": {},
     "output_type": "display_data"
    },
    {
     "data": {
      "text/html": [
       "<pre style=\"white-space:pre;overflow-x:auto;line-height:normal;font-family:Menlo,'DejaVu Sans Mono',consolas,'Courier New',monospace\"></pre>\n"
      ],
      "text/plain": []
     },
     "metadata": {},
     "output_type": "display_data"
    },
    {
     "data": {
      "text/html": [
       "<pre style=\"white-space:pre;overflow-x:auto;line-height:normal;font-family:Menlo,'DejaVu Sans Mono',consolas,'Courier New',monospace\">\n",
       "</pre>\n"
      ],
      "text/plain": [
       "\n"
      ]
     },
     "metadata": {},
     "output_type": "display_data"
    },
    {
     "data": {
      "application/vnd.jupyter.widget-view+json": {
       "model_id": "ac4679ac781c44b0b5cef28990cce2c8",
       "version_major": 2,
       "version_minor": 0
      },
      "text/plain": [
       "Output()"
      ]
     },
     "metadata": {},
     "output_type": "display_data"
    },
    {
     "data": {
      "text/html": [
       "<pre style=\"white-space:pre;overflow-x:auto;line-height:normal;font-family:Menlo,'DejaVu Sans Mono',consolas,'Courier New',monospace\"></pre>\n"
      ],
      "text/plain": []
     },
     "metadata": {},
     "output_type": "display_data"
    },
    {
     "data": {
      "text/html": [
       "<pre style=\"white-space:pre;overflow-x:auto;line-height:normal;font-family:Menlo,'DejaVu Sans Mono',consolas,'Courier New',monospace\">\n",
       "</pre>\n"
      ],
      "text/plain": [
       "\n"
      ]
     },
     "metadata": {},
     "output_type": "display_data"
    },
    {
     "data": {
      "application/vnd.jupyter.widget-view+json": {
       "model_id": "48ece5153c3244a4b14d00ca39feebcb",
       "version_major": 2,
       "version_minor": 0
      },
      "text/plain": [
       "Output()"
      ]
     },
     "metadata": {},
     "output_type": "display_data"
    },
    {
     "data": {
      "text/html": [
       "<pre style=\"white-space:pre;overflow-x:auto;line-height:normal;font-family:Menlo,'DejaVu Sans Mono',consolas,'Courier New',monospace\"></pre>\n"
      ],
      "text/plain": []
     },
     "metadata": {},
     "output_type": "display_data"
    },
    {
     "data": {
      "text/html": [
       "<pre style=\"white-space:pre;overflow-x:auto;line-height:normal;font-family:Menlo,'DejaVu Sans Mono',consolas,'Courier New',monospace\">\n",
       "</pre>\n"
      ],
      "text/plain": [
       "\n"
      ]
     },
     "metadata": {},
     "output_type": "display_data"
    },
    {
     "data": {
      "application/vnd.jupyter.widget-view+json": {
       "model_id": "e51699bd58054841912a0e288c76c883",
       "version_major": 2,
       "version_minor": 0
      },
      "text/plain": [
       "Output()"
      ]
     },
     "metadata": {},
     "output_type": "display_data"
    },
    {
     "data": {
      "text/html": [
       "<pre style=\"white-space:pre;overflow-x:auto;line-height:normal;font-family:Menlo,'DejaVu Sans Mono',consolas,'Courier New',monospace\"></pre>\n"
      ],
      "text/plain": []
     },
     "metadata": {},
     "output_type": "display_data"
    },
    {
     "data": {
      "text/html": [
       "<pre style=\"white-space:pre;overflow-x:auto;line-height:normal;font-family:Menlo,'DejaVu Sans Mono',consolas,'Courier New',monospace\">\n",
       "</pre>\n"
      ],
      "text/plain": [
       "\n"
      ]
     },
     "metadata": {},
     "output_type": "display_data"
    },
    {
     "data": {
      "application/vnd.jupyter.widget-view+json": {
       "model_id": "deb2101ad8304704af386aee1a8b2cf0",
       "version_major": 2,
       "version_minor": 0
      },
      "text/plain": [
       "Output()"
      ]
     },
     "metadata": {},
     "output_type": "display_data"
    },
    {
     "data": {
      "text/html": [
       "<pre style=\"white-space:pre;overflow-x:auto;line-height:normal;font-family:Menlo,'DejaVu Sans Mono',consolas,'Courier New',monospace\"></pre>\n"
      ],
      "text/plain": []
     },
     "metadata": {},
     "output_type": "display_data"
    },
    {
     "data": {
      "text/html": [
       "<pre style=\"white-space:pre;overflow-x:auto;line-height:normal;font-family:Menlo,'DejaVu Sans Mono',consolas,'Courier New',monospace\">\n",
       "</pre>\n"
      ],
      "text/plain": [
       "\n"
      ]
     },
     "metadata": {},
     "output_type": "display_data"
    },
    {
     "data": {
      "application/vnd.jupyter.widget-view+json": {
       "model_id": "3038d1f70ae14c5f90872cfc3dba1ae7",
       "version_major": 2,
       "version_minor": 0
      },
      "text/plain": [
       "Output()"
      ]
     },
     "metadata": {},
     "output_type": "display_data"
    },
    {
     "data": {
      "text/html": [
       "<pre style=\"white-space:pre;overflow-x:auto;line-height:normal;font-family:Menlo,'DejaVu Sans Mono',consolas,'Courier New',monospace\"></pre>\n"
      ],
      "text/plain": []
     },
     "metadata": {},
     "output_type": "display_data"
    },
    {
     "data": {
      "text/html": [
       "<pre style=\"white-space:pre;overflow-x:auto;line-height:normal;font-family:Menlo,'DejaVu Sans Mono',consolas,'Courier New',monospace\">\n",
       "</pre>\n"
      ],
      "text/plain": [
       "\n"
      ]
     },
     "metadata": {},
     "output_type": "display_data"
    },
    {
     "data": {
      "application/vnd.jupyter.widget-view+json": {
       "model_id": "8d5268cc33bf4c56ad441a4a90971751",
       "version_major": 2,
       "version_minor": 0
      },
      "text/plain": [
       "Output()"
      ]
     },
     "metadata": {},
     "output_type": "display_data"
    },
    {
     "data": {
      "text/html": [
       "<pre style=\"white-space:pre;overflow-x:auto;line-height:normal;font-family:Menlo,'DejaVu Sans Mono',consolas,'Courier New',monospace\"><span style=\"color: #008000; text-decoration-color: #008000\">INFO    </span> Computing metrics on val subset <span style=\"color: #808000; text-decoration-color: #808000\">...</span>                                               <a href=\"file:///opt/conda/lib/python3.11/site-packages/luxonis_train/models/luxonis_lightning.py\" target=\"_blank\"><span style=\"color: #7f7f7f; text-decoration-color: #7f7f7f\">luxonis_lightning.py</span></a><span style=\"color: #7f7f7f; text-decoration-color: #7f7f7f\">:</span><a href=\"file:///opt/conda/lib/python3.11/site-packages/luxonis_train/models/luxonis_lightning.py#732\" target=\"_blank\"><span style=\"color: #7f7f7f; text-decoration-color: #7f7f7f\">732</span></a>\n",
       "</pre>\n"
      ],
      "text/plain": [
       "\u001b[32mINFO    \u001b[0m Computing metrics on val subset \u001b[33m...\u001b[0m                                               \u001b]8;id=363820;file:///opt/conda/lib/python3.11/site-packages/luxonis_train/models/luxonis_lightning.py\u001b\\\u001b[2mluxonis_lightning.py\u001b[0m\u001b]8;;\u001b\\\u001b[2m:\u001b[0m\u001b]8;id=549117;file:///opt/conda/lib/python3.11/site-packages/luxonis_train/models/luxonis_lightning.py#732\u001b\\\u001b[2m732\u001b[0m\u001b]8;;\u001b\\\n"
      ]
     },
     "metadata": {},
     "output_type": "display_data"
    },
    {
     "data": {
      "text/html": [
       "<pre style=\"white-space:pre;overflow-x:auto;line-height:normal;font-family:Menlo,'DejaVu Sans Mono',consolas,'Courier New',monospace\"><span style=\"color: #008000; text-decoration-color: #008000\">INFO    </span> Metrics computed.                                                                 <a href=\"file:///opt/conda/lib/python3.11/site-packages/luxonis_train/models/luxonis_lightning.py\" target=\"_blank\"><span style=\"color: #7f7f7f; text-decoration-color: #7f7f7f\">luxonis_lightning.py</span></a><span style=\"color: #7f7f7f; text-decoration-color: #7f7f7f\">:</span><a href=\"file:///opt/conda/lib/python3.11/site-packages/luxonis_train/models/luxonis_lightning.py#734\" target=\"_blank\"><span style=\"color: #7f7f7f; text-decoration-color: #7f7f7f\">734</span></a>\n",
       "</pre>\n"
      ],
      "text/plain": [
       "\u001b[32mINFO    \u001b[0m Metrics computed.                                                                 \u001b]8;id=329470;file:///opt/conda/lib/python3.11/site-packages/luxonis_train/models/luxonis_lightning.py\u001b\\\u001b[2mluxonis_lightning.py\u001b[0m\u001b]8;;\u001b\\\u001b[2m:\u001b[0m\u001b]8;id=976134;file:///opt/conda/lib/python3.11/site-packages/luxonis_train/models/luxonis_lightning.py#734\u001b\\\u001b[2m734\u001b[0m\u001b]8;;\u001b\\\n"
      ]
     },
     "metadata": {},
     "output_type": "display_data"
    },
    {
     "data": {
      "text/html": [
       "<pre style=\"white-space:pre;overflow-x:auto;line-height:normal;font-family:Menlo,'DejaVu Sans Mono',consolas,'Courier New',monospace\"><span style=\"color: #008000; text-decoration-color: #008000\">INFO    </span> Validation loss: <span style=\"color: #008080; text-decoration-color: #008080; font-weight: bold\">1.3451</span>                                                           <a href=\"file:///opt/conda/lib/python3.11/site-packages/luxonis_train/models/luxonis_lightning.py\" target=\"_blank\"><span style=\"color: #7f7f7f; text-decoration-color: #7f7f7f\">luxonis_lightning.py</span></a><span style=\"color: #7f7f7f; text-decoration-color: #7f7f7f\">:</span><a href=\"file:///opt/conda/lib/python3.11/site-packages/luxonis_train/models/luxonis_lightning.py#915\" target=\"_blank\"><span style=\"color: #7f7f7f; text-decoration-color: #7f7f7f\">915</span></a>\n",
       "</pre>\n"
      ],
      "text/plain": [
       "\u001b[32mINFO    \u001b[0m Validation loss: \u001b[1;36m1.3451\u001b[0m                                                           \u001b]8;id=30557;file:///opt/conda/lib/python3.11/site-packages/luxonis_train/models/luxonis_lightning.py\u001b\\\u001b[2mluxonis_lightning.py\u001b[0m\u001b]8;;\u001b\\\u001b[2m:\u001b[0m\u001b]8;id=941051;file:///opt/conda/lib/python3.11/site-packages/luxonis_train/models/luxonis_lightning.py#915\u001b\\\u001b[2m915\u001b[0m\u001b]8;;\u001b\\\n"
      ]
     },
     "metadata": {},
     "output_type": "display_data"
    },
    {
     "data": {
      "text/html": [
       "<pre style=\"white-space:pre;overflow-x:auto;line-height:normal;font-family:Menlo,'DejaVu Sans Mono',consolas,'Courier New',monospace\"><span style=\"color: #800080; text-decoration-color: #800080; font-weight: bold\">─────────────────────────────────────────────────── </span>Validation<span style=\"color: #800080; text-decoration-color: #800080; font-weight: bold\"> ────────────────────────────────────────────────────</span>\n",
       "</pre>\n"
      ],
      "text/plain": [
       "\u001b[1;35m─────────────────────────────────────────────────── \u001b[0mValidation\u001b[1;35m ────────────────────────────────────────────────────\u001b[0m\n"
      ]
     },
     "metadata": {},
     "output_type": "display_data"
    },
    {
     "data": {
      "text/html": [
       "<pre style=\"white-space:pre;overflow-x:auto;line-height:normal;font-family:Menlo,'DejaVu Sans Mono',consolas,'Courier New',monospace\"><span style=\"color: #800080; text-decoration-color: #800080; font-weight: bold\">Loss:</span> <span style=\"color: #c0c0c0; text-decoration-color: #c0c0c0; font-weight: bold\">1.3450707793235779</span>\n",
       "</pre>\n"
      ],
      "text/plain": [
       "\u001b[1;35mLoss:\u001b[0m \u001b[1;37m1.3450707793235779\u001b[0m\n"
      ]
     },
     "metadata": {},
     "output_type": "display_data"
    },
    {
     "data": {
      "text/html": [
       "<pre style=\"white-space:pre;overflow-x:auto;line-height:normal;font-family:Menlo,'DejaVu Sans Mono',consolas,'Courier New',monospace\"><span style=\"color: #800080; text-decoration-color: #800080; font-weight: bold\">Metrics:</span>\n",
       "</pre>\n"
      ],
      "text/plain": [
       "\u001b[1;35mMetrics:\u001b[0m\n"
      ]
     },
     "metadata": {},
     "output_type": "display_data"
    },
    {
     "data": {
      "text/html": [
       "<pre style=\"white-space:pre;overflow-x:auto;line-height:normal;font-family:Menlo,'DejaVu Sans Mono',consolas,'Courier New',monospace\"><span style=\"font-style: italic\">       detection_head       </span>\n",
       "┏━━━━━━━━━━━━━━━┳━━━━━━━━━━┓\n",
       "┃<span style=\"color: #800080; text-decoration-color: #800080; font-weight: bold\"> Name          </span>┃<span style=\"color: #800080; text-decoration-color: #800080; font-weight: bold\"> Value    </span>┃\n",
       "┡━━━━━━━━━━━━━━━╇━━━━━━━━━━┩\n",
       "│<span style=\"color: #800080; text-decoration-color: #800080\"> detection_map </span>│<span style=\"color: #c0c0c0; text-decoration-color: #c0c0c0\"> 0.27703  </span>│\n",
       "│<span style=\"color: #800080; text-decoration-color: #800080\"> map_50        </span>│<span style=\"color: #c0c0c0; text-decoration-color: #c0c0c0\"> 0.39317  </span>│\n",
       "│<span style=\"color: #800080; text-decoration-color: #800080\"> map_75        </span>│<span style=\"color: #c0c0c0; text-decoration-color: #c0c0c0\"> 0.23451  </span>│\n",
       "│<span style=\"color: #800080; text-decoration-color: #800080\"> map_small     </span>│<span style=\"color: #c0c0c0; text-decoration-color: #c0c0c0\"> -1.00000 </span>│\n",
       "│<span style=\"color: #800080; text-decoration-color: #800080\"> map_medium    </span>│<span style=\"color: #c0c0c0; text-decoration-color: #c0c0c0\"> 0.12343  </span>│\n",
       "│<span style=\"color: #800080; text-decoration-color: #800080\"> map_large     </span>│<span style=\"color: #c0c0c0; text-decoration-color: #c0c0c0\"> 0.31590  </span>│\n",
       "│<span style=\"color: #800080; text-decoration-color: #800080\"> mar_1         </span>│<span style=\"color: #c0c0c0; text-decoration-color: #c0c0c0\"> 0.29911  </span>│\n",
       "│<span style=\"color: #800080; text-decoration-color: #800080\"> mar_10        </span>│<span style=\"color: #c0c0c0; text-decoration-color: #c0c0c0\"> 0.44554  </span>│\n",
       "│<span style=\"color: #800080; text-decoration-color: #800080\"> mar_100       </span>│<span style=\"color: #c0c0c0; text-decoration-color: #c0c0c0\"> 0.44554  </span>│\n",
       "│<span style=\"color: #800080; text-decoration-color: #800080\"> mar_small     </span>│<span style=\"color: #c0c0c0; text-decoration-color: #c0c0c0\"> -1.00000 </span>│\n",
       "│<span style=\"color: #800080; text-decoration-color: #800080\"> mar_medium    </span>│<span style=\"color: #c0c0c0; text-decoration-color: #c0c0c0\"> 0.16667  </span>│\n",
       "│<span style=\"color: #800080; text-decoration-color: #800080\"> mar_large     </span>│<span style=\"color: #c0c0c0; text-decoration-color: #c0c0c0\"> 0.58929  </span>│\n",
       "│<span style=\"color: #800080; text-decoration-color: #800080\"> f1_small      </span>│<span style=\"color: #c0c0c0; text-decoration-color: #c0c0c0\"> -1.00000 </span>│\n",
       "│<span style=\"color: #800080; text-decoration-color: #800080\"> f1_medium     </span>│<span style=\"color: #c0c0c0; text-decoration-color: #c0c0c0\"> 0.14183  </span>│\n",
       "│<span style=\"color: #800080; text-decoration-color: #800080\"> f1_large      </span>│<span style=\"color: #c0c0c0; text-decoration-color: #c0c0c0\"> 0.41131  </span>│\n",
       "└───────────────┴──────────┘\n",
       "</pre>\n"
      ],
      "text/plain": [
       "\u001b[3m       detection_head       \u001b[0m\n",
       "┏━━━━━━━━━━━━━━━┳━━━━━━━━━━┓\n",
       "┃\u001b[1;35m \u001b[0m\u001b[1;35mName         \u001b[0m\u001b[1;35m \u001b[0m┃\u001b[1;35m \u001b[0m\u001b[1;35mValue   \u001b[0m\u001b[1;35m \u001b[0m┃\n",
       "┡━━━━━━━━━━━━━━━╇━━━━━━━━━━┩\n",
       "│\u001b[35m \u001b[0m\u001b[35mdetection_map\u001b[0m\u001b[35m \u001b[0m│\u001b[37m \u001b[0m\u001b[37m0.27703 \u001b[0m\u001b[37m \u001b[0m│\n",
       "│\u001b[35m \u001b[0m\u001b[35mmap_50       \u001b[0m\u001b[35m \u001b[0m│\u001b[37m \u001b[0m\u001b[37m0.39317 \u001b[0m\u001b[37m \u001b[0m│\n",
       "│\u001b[35m \u001b[0m\u001b[35mmap_75       \u001b[0m\u001b[35m \u001b[0m│\u001b[37m \u001b[0m\u001b[37m0.23451 \u001b[0m\u001b[37m \u001b[0m│\n",
       "│\u001b[35m \u001b[0m\u001b[35mmap_small    \u001b[0m\u001b[35m \u001b[0m│\u001b[37m \u001b[0m\u001b[37m-1.00000\u001b[0m\u001b[37m \u001b[0m│\n",
       "│\u001b[35m \u001b[0m\u001b[35mmap_medium   \u001b[0m\u001b[35m \u001b[0m│\u001b[37m \u001b[0m\u001b[37m0.12343 \u001b[0m\u001b[37m \u001b[0m│\n",
       "│\u001b[35m \u001b[0m\u001b[35mmap_large    \u001b[0m\u001b[35m \u001b[0m│\u001b[37m \u001b[0m\u001b[37m0.31590 \u001b[0m\u001b[37m \u001b[0m│\n",
       "│\u001b[35m \u001b[0m\u001b[35mmar_1        \u001b[0m\u001b[35m \u001b[0m│\u001b[37m \u001b[0m\u001b[37m0.29911 \u001b[0m\u001b[37m \u001b[0m│\n",
       "│\u001b[35m \u001b[0m\u001b[35mmar_10       \u001b[0m\u001b[35m \u001b[0m│\u001b[37m \u001b[0m\u001b[37m0.44554 \u001b[0m\u001b[37m \u001b[0m│\n",
       "│\u001b[35m \u001b[0m\u001b[35mmar_100      \u001b[0m\u001b[35m \u001b[0m│\u001b[37m \u001b[0m\u001b[37m0.44554 \u001b[0m\u001b[37m \u001b[0m│\n",
       "│\u001b[35m \u001b[0m\u001b[35mmar_small    \u001b[0m\u001b[35m \u001b[0m│\u001b[37m \u001b[0m\u001b[37m-1.00000\u001b[0m\u001b[37m \u001b[0m│\n",
       "│\u001b[35m \u001b[0m\u001b[35mmar_medium   \u001b[0m\u001b[35m \u001b[0m│\u001b[37m \u001b[0m\u001b[37m0.16667 \u001b[0m\u001b[37m \u001b[0m│\n",
       "│\u001b[35m \u001b[0m\u001b[35mmar_large    \u001b[0m\u001b[35m \u001b[0m│\u001b[37m \u001b[0m\u001b[37m0.58929 \u001b[0m\u001b[37m \u001b[0m│\n",
       "│\u001b[35m \u001b[0m\u001b[35mf1_small     \u001b[0m\u001b[35m \u001b[0m│\u001b[37m \u001b[0m\u001b[37m-1.00000\u001b[0m\u001b[37m \u001b[0m│\n",
       "│\u001b[35m \u001b[0m\u001b[35mf1_medium    \u001b[0m\u001b[35m \u001b[0m│\u001b[37m \u001b[0m\u001b[37m0.14183 \u001b[0m\u001b[37m \u001b[0m│\n",
       "│\u001b[35m \u001b[0m\u001b[35mf1_large     \u001b[0m\u001b[35m \u001b[0m│\u001b[37m \u001b[0m\u001b[37m0.41131 \u001b[0m\u001b[37m \u001b[0m│\n",
       "└───────────────┴──────────┘\n"
      ]
     },
     "metadata": {},
     "output_type": "display_data"
    },
    {
     "data": {
      "text/html": [
       "<pre style=\"white-space:pre;overflow-x:auto;line-height:normal;font-family:Menlo,'DejaVu Sans Mono',consolas,'Courier New',monospace\"><span style=\"color: #800080; text-decoration-color: #800080; font-weight: bold\">───────────────────────────────────────────────────────────────────────────────────────────────────────────────────</span>\n",
       "</pre>\n"
      ],
      "text/plain": [
       "\u001b[1;35m───────────────────────────────────────────────────────────────────────────────────────────────────────────────────\u001b[0m\n"
      ]
     },
     "metadata": {},
     "output_type": "display_data"
    },
    {
     "data": {
      "text/html": [
       "<pre style=\"white-space:pre;overflow-x:auto;line-height:normal;font-family:Menlo,'DejaVu Sans Mono',consolas,'Courier New',monospace\"><span style=\"color: #008000; text-decoration-color: #008000\">INFO    </span> Validation main metric <span style=\"font-weight: bold\">(</span>detection_head/detection_map<span style=\"font-weight: bold\">)</span>: <span style=\"color: #008080; text-decoration-color: #008080; font-weight: bold\">0.2770</span>                     <a href=\"file:///opt/conda/lib/python3.11/site-packages/luxonis_train/models/luxonis_lightning.py\" target=\"_blank\"><span style=\"color: #7f7f7f; text-decoration-color: #7f7f7f\">luxonis_lightning.py</span></a><span style=\"color: #7f7f7f; text-decoration-color: #7f7f7f\">:</span><a href=\"file:///opt/conda/lib/python3.11/site-packages/luxonis_train/models/luxonis_lightning.py#924\" target=\"_blank\"><span style=\"color: #7f7f7f; text-decoration-color: #7f7f7f\">924</span></a>\n",
       "</pre>\n"
      ],
      "text/plain": [
       "\u001b[32mINFO    \u001b[0m Validation main metric \u001b[1m(\u001b[0mdetection_head/detection_map\u001b[1m)\u001b[0m: \u001b[1;36m0.2770\u001b[0m                     \u001b]8;id=757948;file:///opt/conda/lib/python3.11/site-packages/luxonis_train/models/luxonis_lightning.py\u001b\\\u001b[2mluxonis_lightning.py\u001b[0m\u001b]8;;\u001b\\\u001b[2m:\u001b[0m\u001b]8;id=91798;file:///opt/conda/lib/python3.11/site-packages/luxonis_train/models/luxonis_lightning.py#924\u001b\\\u001b[2m924\u001b[0m\u001b]8;;\u001b\\\n"
      ]
     },
     "metadata": {},
     "output_type": "display_data"
    },
    {
     "data": {
      "text/html": [
       "<pre style=\"white-space:pre;overflow-x:auto;line-height:normal;font-family:Menlo,'DejaVu Sans Mono',consolas,'Courier New',monospace\"></pre>\n"
      ],
      "text/plain": []
     },
     "metadata": {},
     "output_type": "display_data"
    },
    {
     "data": {
      "text/html": [
       "<pre style=\"white-space:pre;overflow-x:auto;line-height:normal;font-family:Menlo,'DejaVu Sans Mono',consolas,'Courier New',monospace\">\n",
       "</pre>\n"
      ],
      "text/plain": [
       "\n"
      ]
     },
     "metadata": {},
     "output_type": "display_data"
    },
    {
     "data": {
      "application/vnd.jupyter.widget-view+json": {
       "model_id": "fc024ea8e49f435bba15f185c0319fd9",
       "version_major": 2,
       "version_minor": 0
      },
      "text/plain": [
       "Output()"
      ]
     },
     "metadata": {},
     "output_type": "display_data"
    },
    {
     "data": {
      "text/html": [
       "<pre style=\"white-space:pre;overflow-x:auto;line-height:normal;font-family:Menlo,'DejaVu Sans Mono',consolas,'Courier New',monospace\"></pre>\n"
      ],
      "text/plain": []
     },
     "metadata": {},
     "output_type": "display_data"
    },
    {
     "data": {
      "text/html": [
       "<pre style=\"white-space:pre;overflow-x:auto;line-height:normal;font-family:Menlo,'DejaVu Sans Mono',consolas,'Courier New',monospace\">\n",
       "</pre>\n"
      ],
      "text/plain": [
       "\n"
      ]
     },
     "metadata": {},
     "output_type": "display_data"
    },
    {
     "data": {
      "application/vnd.jupyter.widget-view+json": {
       "model_id": "183f02cc8e714e8697c9e9bf658de169",
       "version_major": 2,
       "version_minor": 0
      },
      "text/plain": [
       "Output()"
      ]
     },
     "metadata": {},
     "output_type": "display_data"
    },
    {
     "data": {
      "text/html": [
       "<pre style=\"white-space:pre;overflow-x:auto;line-height:normal;font-family:Menlo,'DejaVu Sans Mono',consolas,'Courier New',monospace\"></pre>\n"
      ],
      "text/plain": []
     },
     "metadata": {},
     "output_type": "display_data"
    },
    {
     "data": {
      "text/html": [
       "<pre style=\"white-space:pre;overflow-x:auto;line-height:normal;font-family:Menlo,'DejaVu Sans Mono',consolas,'Courier New',monospace\">\n",
       "</pre>\n"
      ],
      "text/plain": [
       "\n"
      ]
     },
     "metadata": {},
     "output_type": "display_data"
    },
    {
     "data": {
      "application/vnd.jupyter.widget-view+json": {
       "model_id": "60c1cab346824af5acd9108de62813d7",
       "version_major": 2,
       "version_minor": 0
      },
      "text/plain": [
       "Output()"
      ]
     },
     "metadata": {},
     "output_type": "display_data"
    },
    {
     "data": {
      "text/html": [
       "<pre style=\"white-space:pre;overflow-x:auto;line-height:normal;font-family:Menlo,'DejaVu Sans Mono',consolas,'Courier New',monospace\"></pre>\n"
      ],
      "text/plain": []
     },
     "metadata": {},
     "output_type": "display_data"
    },
    {
     "data": {
      "text/html": [
       "<pre style=\"white-space:pre;overflow-x:auto;line-height:normal;font-family:Menlo,'DejaVu Sans Mono',consolas,'Courier New',monospace\">\n",
       "</pre>\n"
      ],
      "text/plain": [
       "\n"
      ]
     },
     "metadata": {},
     "output_type": "display_data"
    },
    {
     "data": {
      "application/vnd.jupyter.widget-view+json": {
       "model_id": "7e1ea2db70ad4815ac15a7202be8140e",
       "version_major": 2,
       "version_minor": 0
      },
      "text/plain": [
       "Output()"
      ]
     },
     "metadata": {},
     "output_type": "display_data"
    },
    {
     "data": {
      "text/html": [
       "<pre style=\"white-space:pre;overflow-x:auto;line-height:normal;font-family:Menlo,'DejaVu Sans Mono',consolas,'Courier New',monospace\"></pre>\n"
      ],
      "text/plain": []
     },
     "metadata": {},
     "output_type": "display_data"
    },
    {
     "data": {
      "text/html": [
       "<pre style=\"white-space:pre;overflow-x:auto;line-height:normal;font-family:Menlo,'DejaVu Sans Mono',consolas,'Courier New',monospace\">\n",
       "</pre>\n"
      ],
      "text/plain": [
       "\n"
      ]
     },
     "metadata": {},
     "output_type": "display_data"
    },
    {
     "data": {
      "application/vnd.jupyter.widget-view+json": {
       "model_id": "dbe0fa51e37045008a33574d30cb32ec",
       "version_major": 2,
       "version_minor": 0
      },
      "text/plain": [
       "Output()"
      ]
     },
     "metadata": {},
     "output_type": "display_data"
    },
    {
     "data": {
      "text/html": [
       "<pre style=\"white-space:pre;overflow-x:auto;line-height:normal;font-family:Menlo,'DejaVu Sans Mono',consolas,'Courier New',monospace\"></pre>\n"
      ],
      "text/plain": []
     },
     "metadata": {},
     "output_type": "display_data"
    },
    {
     "data": {
      "text/html": [
       "<pre style=\"white-space:pre;overflow-x:auto;line-height:normal;font-family:Menlo,'DejaVu Sans Mono',consolas,'Courier New',monospace\">\n",
       "</pre>\n"
      ],
      "text/plain": [
       "\n"
      ]
     },
     "metadata": {},
     "output_type": "display_data"
    },
    {
     "data": {
      "application/vnd.jupyter.widget-view+json": {
       "model_id": "91192d4cb9074bc1a4557cbb582cfc90",
       "version_major": 2,
       "version_minor": 0
      },
      "text/plain": [
       "Output()"
      ]
     },
     "metadata": {},
     "output_type": "display_data"
    },
    {
     "data": {
      "text/html": [
       "<pre style=\"white-space:pre;overflow-x:auto;line-height:normal;font-family:Menlo,'DejaVu Sans Mono',consolas,'Courier New',monospace\"></pre>\n"
      ],
      "text/plain": []
     },
     "metadata": {},
     "output_type": "display_data"
    },
    {
     "data": {
      "text/html": [
       "<pre style=\"white-space:pre;overflow-x:auto;line-height:normal;font-family:Menlo,'DejaVu Sans Mono',consolas,'Courier New',monospace\">\n",
       "</pre>\n"
      ],
      "text/plain": [
       "\n"
      ]
     },
     "metadata": {},
     "output_type": "display_data"
    },
    {
     "data": {
      "application/vnd.jupyter.widget-view+json": {
       "model_id": "a1a85c6f79a54b93a8299a8bcbba38af",
       "version_major": 2,
       "version_minor": 0
      },
      "text/plain": [
       "Output()"
      ]
     },
     "metadata": {},
     "output_type": "display_data"
    },
    {
     "data": {
      "text/html": [
       "<pre style=\"white-space:pre;overflow-x:auto;line-height:normal;font-family:Menlo,'DejaVu Sans Mono',consolas,'Courier New',monospace\"></pre>\n"
      ],
      "text/plain": []
     },
     "metadata": {},
     "output_type": "display_data"
    },
    {
     "data": {
      "text/html": [
       "<pre style=\"white-space:pre;overflow-x:auto;line-height:normal;font-family:Menlo,'DejaVu Sans Mono',consolas,'Courier New',monospace\">\n",
       "</pre>\n"
      ],
      "text/plain": [
       "\n"
      ]
     },
     "metadata": {},
     "output_type": "display_data"
    },
    {
     "data": {
      "application/vnd.jupyter.widget-view+json": {
       "model_id": "7424875362bf474da7464b93679591e5",
       "version_major": 2,
       "version_minor": 0
      },
      "text/plain": [
       "Output()"
      ]
     },
     "metadata": {},
     "output_type": "display_data"
    },
    {
     "data": {
      "text/html": [
       "<pre style=\"white-space:pre;overflow-x:auto;line-height:normal;font-family:Menlo,'DejaVu Sans Mono',consolas,'Courier New',monospace\"></pre>\n"
      ],
      "text/plain": []
     },
     "metadata": {},
     "output_type": "display_data"
    },
    {
     "data": {
      "text/html": [
       "<pre style=\"white-space:pre;overflow-x:auto;line-height:normal;font-family:Menlo,'DejaVu Sans Mono',consolas,'Courier New',monospace\">\n",
       "</pre>\n"
      ],
      "text/plain": [
       "\n"
      ]
     },
     "metadata": {},
     "output_type": "display_data"
    },
    {
     "data": {
      "application/vnd.jupyter.widget-view+json": {
       "model_id": "f43676e512e147e3b45ffb25d229fd2d",
       "version_major": 2,
       "version_minor": 0
      },
      "text/plain": [
       "Output()"
      ]
     },
     "metadata": {},
     "output_type": "display_data"
    },
    {
     "data": {
      "text/html": [
       "<pre style=\"white-space:pre;overflow-x:auto;line-height:normal;font-family:Menlo,'DejaVu Sans Mono',consolas,'Courier New',monospace\"></pre>\n"
      ],
      "text/plain": []
     },
     "metadata": {},
     "output_type": "display_data"
    },
    {
     "data": {
      "text/html": [
       "<pre style=\"white-space:pre;overflow-x:auto;line-height:normal;font-family:Menlo,'DejaVu Sans Mono',consolas,'Courier New',monospace\">\n",
       "</pre>\n"
      ],
      "text/plain": [
       "\n"
      ]
     },
     "metadata": {},
     "output_type": "display_data"
    },
    {
     "data": {
      "application/vnd.jupyter.widget-view+json": {
       "model_id": "3d742ece2c294967a01ec317485b5267",
       "version_major": 2,
       "version_minor": 0
      },
      "text/plain": [
       "Output()"
      ]
     },
     "metadata": {},
     "output_type": "display_data"
    },
    {
     "data": {
      "text/html": [
       "<pre style=\"white-space:pre;overflow-x:auto;line-height:normal;font-family:Menlo,'DejaVu Sans Mono',consolas,'Courier New',monospace\"><span style=\"color: #008000; text-decoration-color: #008000\">INFO    </span> Computing metrics on val subset <span style=\"color: #808000; text-decoration-color: #808000\">...</span>                                               <a href=\"file:///opt/conda/lib/python3.11/site-packages/luxonis_train/models/luxonis_lightning.py\" target=\"_blank\"><span style=\"color: #7f7f7f; text-decoration-color: #7f7f7f\">luxonis_lightning.py</span></a><span style=\"color: #7f7f7f; text-decoration-color: #7f7f7f\">:</span><a href=\"file:///opt/conda/lib/python3.11/site-packages/luxonis_train/models/luxonis_lightning.py#732\" target=\"_blank\"><span style=\"color: #7f7f7f; text-decoration-color: #7f7f7f\">732</span></a>\n",
       "</pre>\n"
      ],
      "text/plain": [
       "\u001b[32mINFO    \u001b[0m Computing metrics on val subset \u001b[33m...\u001b[0m                                               \u001b]8;id=269880;file:///opt/conda/lib/python3.11/site-packages/luxonis_train/models/luxonis_lightning.py\u001b\\\u001b[2mluxonis_lightning.py\u001b[0m\u001b]8;;\u001b\\\u001b[2m:\u001b[0m\u001b]8;id=466600;file:///opt/conda/lib/python3.11/site-packages/luxonis_train/models/luxonis_lightning.py#732\u001b\\\u001b[2m732\u001b[0m\u001b]8;;\u001b\\\n"
      ]
     },
     "metadata": {},
     "output_type": "display_data"
    },
    {
     "data": {
      "text/html": [
       "<pre style=\"white-space:pre;overflow-x:auto;line-height:normal;font-family:Menlo,'DejaVu Sans Mono',consolas,'Courier New',monospace\"><span style=\"color: #008000; text-decoration-color: #008000\">INFO    </span> Metrics computed.                                                                 <a href=\"file:///opt/conda/lib/python3.11/site-packages/luxonis_train/models/luxonis_lightning.py\" target=\"_blank\"><span style=\"color: #7f7f7f; text-decoration-color: #7f7f7f\">luxonis_lightning.py</span></a><span style=\"color: #7f7f7f; text-decoration-color: #7f7f7f\">:</span><a href=\"file:///opt/conda/lib/python3.11/site-packages/luxonis_train/models/luxonis_lightning.py#734\" target=\"_blank\"><span style=\"color: #7f7f7f; text-decoration-color: #7f7f7f\">734</span></a>\n",
       "</pre>\n"
      ],
      "text/plain": [
       "\u001b[32mINFO    \u001b[0m Metrics computed.                                                                 \u001b]8;id=524898;file:///opt/conda/lib/python3.11/site-packages/luxonis_train/models/luxonis_lightning.py\u001b\\\u001b[2mluxonis_lightning.py\u001b[0m\u001b]8;;\u001b\\\u001b[2m:\u001b[0m\u001b]8;id=224622;file:///opt/conda/lib/python3.11/site-packages/luxonis_train/models/luxonis_lightning.py#734\u001b\\\u001b[2m734\u001b[0m\u001b]8;;\u001b\\\n"
      ]
     },
     "metadata": {},
     "output_type": "display_data"
    },
    {
     "data": {
      "text/html": [
       "<pre style=\"white-space:pre;overflow-x:auto;line-height:normal;font-family:Menlo,'DejaVu Sans Mono',consolas,'Courier New',monospace\"><span style=\"color: #008000; text-decoration-color: #008000\">INFO    </span> Validation loss: <span style=\"color: #008080; text-decoration-color: #008080; font-weight: bold\">1.3927</span>                                                           <a href=\"file:///opt/conda/lib/python3.11/site-packages/luxonis_train/models/luxonis_lightning.py\" target=\"_blank\"><span style=\"color: #7f7f7f; text-decoration-color: #7f7f7f\">luxonis_lightning.py</span></a><span style=\"color: #7f7f7f; text-decoration-color: #7f7f7f\">:</span><a href=\"file:///opt/conda/lib/python3.11/site-packages/luxonis_train/models/luxonis_lightning.py#915\" target=\"_blank\"><span style=\"color: #7f7f7f; text-decoration-color: #7f7f7f\">915</span></a>\n",
       "</pre>\n"
      ],
      "text/plain": [
       "\u001b[32mINFO    \u001b[0m Validation loss: \u001b[1;36m1.3927\u001b[0m                                                           \u001b]8;id=849210;file:///opt/conda/lib/python3.11/site-packages/luxonis_train/models/luxonis_lightning.py\u001b\\\u001b[2mluxonis_lightning.py\u001b[0m\u001b]8;;\u001b\\\u001b[2m:\u001b[0m\u001b]8;id=164567;file:///opt/conda/lib/python3.11/site-packages/luxonis_train/models/luxonis_lightning.py#915\u001b\\\u001b[2m915\u001b[0m\u001b]8;;\u001b\\\n"
      ]
     },
     "metadata": {},
     "output_type": "display_data"
    },
    {
     "data": {
      "text/html": [
       "<pre style=\"white-space:pre;overflow-x:auto;line-height:normal;font-family:Menlo,'DejaVu Sans Mono',consolas,'Courier New',monospace\"><span style=\"color: #800080; text-decoration-color: #800080; font-weight: bold\">─────────────────────────────────────────────────── </span>Validation<span style=\"color: #800080; text-decoration-color: #800080; font-weight: bold\"> ────────────────────────────────────────────────────</span>\n",
       "</pre>\n"
      ],
      "text/plain": [
       "\u001b[1;35m─────────────────────────────────────────────────── \u001b[0mValidation\u001b[1;35m ────────────────────────────────────────────────────\u001b[0m\n"
      ]
     },
     "metadata": {},
     "output_type": "display_data"
    },
    {
     "data": {
      "text/html": [
       "<pre style=\"white-space:pre;overflow-x:auto;line-height:normal;font-family:Menlo,'DejaVu Sans Mono',consolas,'Courier New',monospace\"><span style=\"color: #800080; text-decoration-color: #800080; font-weight: bold\">Loss:</span> <span style=\"color: #c0c0c0; text-decoration-color: #c0c0c0; font-weight: bold\">1.39266836643219</span>\n",
       "</pre>\n"
      ],
      "text/plain": [
       "\u001b[1;35mLoss:\u001b[0m \u001b[1;37m1.39266836643219\u001b[0m\n"
      ]
     },
     "metadata": {},
     "output_type": "display_data"
    },
    {
     "data": {
      "text/html": [
       "<pre style=\"white-space:pre;overflow-x:auto;line-height:normal;font-family:Menlo,'DejaVu Sans Mono',consolas,'Courier New',monospace\"><span style=\"color: #800080; text-decoration-color: #800080; font-weight: bold\">Metrics:</span>\n",
       "</pre>\n"
      ],
      "text/plain": [
       "\u001b[1;35mMetrics:\u001b[0m\n"
      ]
     },
     "metadata": {},
     "output_type": "display_data"
    },
    {
     "data": {
      "text/html": [
       "<pre style=\"white-space:pre;overflow-x:auto;line-height:normal;font-family:Menlo,'DejaVu Sans Mono',consolas,'Courier New',monospace\"><span style=\"font-style: italic\">       detection_head       </span>\n",
       "┏━━━━━━━━━━━━━━━┳━━━━━━━━━━┓\n",
       "┃<span style=\"color: #800080; text-decoration-color: #800080; font-weight: bold\"> Name          </span>┃<span style=\"color: #800080; text-decoration-color: #800080; font-weight: bold\"> Value    </span>┃\n",
       "┡━━━━━━━━━━━━━━━╇━━━━━━━━━━┩\n",
       "│<span style=\"color: #800080; text-decoration-color: #800080\"> detection_map </span>│<span style=\"color: #c0c0c0; text-decoration-color: #c0c0c0\"> 0.30507  </span>│\n",
       "│<span style=\"color: #800080; text-decoration-color: #800080\"> map_50        </span>│<span style=\"color: #c0c0c0; text-decoration-color: #c0c0c0\"> 0.40686  </span>│\n",
       "│<span style=\"color: #800080; text-decoration-color: #800080\"> map_75        </span>│<span style=\"color: #c0c0c0; text-decoration-color: #c0c0c0\"> 0.28761  </span>│\n",
       "│<span style=\"color: #800080; text-decoration-color: #800080\"> map_small     </span>│<span style=\"color: #c0c0c0; text-decoration-color: #c0c0c0\"> -1.00000 </span>│\n",
       "│<span style=\"color: #800080; text-decoration-color: #800080\"> map_medium    </span>│<span style=\"color: #c0c0c0; text-decoration-color: #c0c0c0\"> 0.09257  </span>│\n",
       "│<span style=\"color: #800080; text-decoration-color: #800080\"> map_large     </span>│<span style=\"color: #c0c0c0; text-decoration-color: #c0c0c0\"> 0.36581  </span>│\n",
       "│<span style=\"color: #800080; text-decoration-color: #800080\"> mar_1         </span>│<span style=\"color: #c0c0c0; text-decoration-color: #c0c0c0\"> 0.41339  </span>│\n",
       "│<span style=\"color: #800080; text-decoration-color: #800080\"> mar_10        </span>│<span style=\"color: #c0c0c0; text-decoration-color: #c0c0c0\"> 0.48214  </span>│\n",
       "│<span style=\"color: #800080; text-decoration-color: #800080\"> mar_100       </span>│<span style=\"color: #c0c0c0; text-decoration-color: #c0c0c0\"> 0.48214  </span>│\n",
       "│<span style=\"color: #800080; text-decoration-color: #800080\"> mar_small     </span>│<span style=\"color: #c0c0c0; text-decoration-color: #c0c0c0\"> -1.00000 </span>│\n",
       "│<span style=\"color: #800080; text-decoration-color: #800080\"> mar_medium    </span>│<span style=\"color: #c0c0c0; text-decoration-color: #c0c0c0\"> 0.15000  </span>│\n",
       "│<span style=\"color: #800080; text-decoration-color: #800080\"> mar_large     </span>│<span style=\"color: #c0c0c0; text-decoration-color: #c0c0c0\"> 0.63214  </span>│\n",
       "│<span style=\"color: #800080; text-decoration-color: #800080\"> f1_small      </span>│<span style=\"color: #c0c0c0; text-decoration-color: #c0c0c0\"> -1.00000 </span>│\n",
       "│<span style=\"color: #800080; text-decoration-color: #800080\"> f1_medium     </span>│<span style=\"color: #c0c0c0; text-decoration-color: #c0c0c0\"> 0.11449  </span>│\n",
       "│<span style=\"color: #800080; text-decoration-color: #800080\"> f1_large      </span>│<span style=\"color: #c0c0c0; text-decoration-color: #c0c0c0\"> 0.46344  </span>│\n",
       "└───────────────┴──────────┘\n",
       "</pre>\n"
      ],
      "text/plain": [
       "\u001b[3m       detection_head       \u001b[0m\n",
       "┏━━━━━━━━━━━━━━━┳━━━━━━━━━━┓\n",
       "┃\u001b[1;35m \u001b[0m\u001b[1;35mName         \u001b[0m\u001b[1;35m \u001b[0m┃\u001b[1;35m \u001b[0m\u001b[1;35mValue   \u001b[0m\u001b[1;35m \u001b[0m┃\n",
       "┡━━━━━━━━━━━━━━━╇━━━━━━━━━━┩\n",
       "│\u001b[35m \u001b[0m\u001b[35mdetection_map\u001b[0m\u001b[35m \u001b[0m│\u001b[37m \u001b[0m\u001b[37m0.30507 \u001b[0m\u001b[37m \u001b[0m│\n",
       "│\u001b[35m \u001b[0m\u001b[35mmap_50       \u001b[0m\u001b[35m \u001b[0m│\u001b[37m \u001b[0m\u001b[37m0.40686 \u001b[0m\u001b[37m \u001b[0m│\n",
       "│\u001b[35m \u001b[0m\u001b[35mmap_75       \u001b[0m\u001b[35m \u001b[0m│\u001b[37m \u001b[0m\u001b[37m0.28761 \u001b[0m\u001b[37m \u001b[0m│\n",
       "│\u001b[35m \u001b[0m\u001b[35mmap_small    \u001b[0m\u001b[35m \u001b[0m│\u001b[37m \u001b[0m\u001b[37m-1.00000\u001b[0m\u001b[37m \u001b[0m│\n",
       "│\u001b[35m \u001b[0m\u001b[35mmap_medium   \u001b[0m\u001b[35m \u001b[0m│\u001b[37m \u001b[0m\u001b[37m0.09257 \u001b[0m\u001b[37m \u001b[0m│\n",
       "│\u001b[35m \u001b[0m\u001b[35mmap_large    \u001b[0m\u001b[35m \u001b[0m│\u001b[37m \u001b[0m\u001b[37m0.36581 \u001b[0m\u001b[37m \u001b[0m│\n",
       "│\u001b[35m \u001b[0m\u001b[35mmar_1        \u001b[0m\u001b[35m \u001b[0m│\u001b[37m \u001b[0m\u001b[37m0.41339 \u001b[0m\u001b[37m \u001b[0m│\n",
       "│\u001b[35m \u001b[0m\u001b[35mmar_10       \u001b[0m\u001b[35m \u001b[0m│\u001b[37m \u001b[0m\u001b[37m0.48214 \u001b[0m\u001b[37m \u001b[0m│\n",
       "│\u001b[35m \u001b[0m\u001b[35mmar_100      \u001b[0m\u001b[35m \u001b[0m│\u001b[37m \u001b[0m\u001b[37m0.48214 \u001b[0m\u001b[37m \u001b[0m│\n",
       "│\u001b[35m \u001b[0m\u001b[35mmar_small    \u001b[0m\u001b[35m \u001b[0m│\u001b[37m \u001b[0m\u001b[37m-1.00000\u001b[0m\u001b[37m \u001b[0m│\n",
       "│\u001b[35m \u001b[0m\u001b[35mmar_medium   \u001b[0m\u001b[35m \u001b[0m│\u001b[37m \u001b[0m\u001b[37m0.15000 \u001b[0m\u001b[37m \u001b[0m│\n",
       "│\u001b[35m \u001b[0m\u001b[35mmar_large    \u001b[0m\u001b[35m \u001b[0m│\u001b[37m \u001b[0m\u001b[37m0.63214 \u001b[0m\u001b[37m \u001b[0m│\n",
       "│\u001b[35m \u001b[0m\u001b[35mf1_small     \u001b[0m\u001b[35m \u001b[0m│\u001b[37m \u001b[0m\u001b[37m-1.00000\u001b[0m\u001b[37m \u001b[0m│\n",
       "│\u001b[35m \u001b[0m\u001b[35mf1_medium    \u001b[0m\u001b[35m \u001b[0m│\u001b[37m \u001b[0m\u001b[37m0.11449 \u001b[0m\u001b[37m \u001b[0m│\n",
       "│\u001b[35m \u001b[0m\u001b[35mf1_large     \u001b[0m\u001b[35m \u001b[0m│\u001b[37m \u001b[0m\u001b[37m0.46344 \u001b[0m\u001b[37m \u001b[0m│\n",
       "└───────────────┴──────────┘\n"
      ]
     },
     "metadata": {},
     "output_type": "display_data"
    },
    {
     "data": {
      "text/html": [
       "<pre style=\"white-space:pre;overflow-x:auto;line-height:normal;font-family:Menlo,'DejaVu Sans Mono',consolas,'Courier New',monospace\"><span style=\"color: #800080; text-decoration-color: #800080; font-weight: bold\">───────────────────────────────────────────────────────────────────────────────────────────────────────────────────</span>\n",
       "</pre>\n"
      ],
      "text/plain": [
       "\u001b[1;35m───────────────────────────────────────────────────────────────────────────────────────────────────────────────────\u001b[0m\n"
      ]
     },
     "metadata": {},
     "output_type": "display_data"
    },
    {
     "data": {
      "text/html": [
       "<pre style=\"white-space:pre;overflow-x:auto;line-height:normal;font-family:Menlo,'DejaVu Sans Mono',consolas,'Courier New',monospace\"><span style=\"color: #008000; text-decoration-color: #008000\">INFO    </span> Validation main metric <span style=\"font-weight: bold\">(</span>detection_head/detection_map<span style=\"font-weight: bold\">)</span>: <span style=\"color: #008080; text-decoration-color: #008080; font-weight: bold\">0.3051</span>                     <a href=\"file:///opt/conda/lib/python3.11/site-packages/luxonis_train/models/luxonis_lightning.py\" target=\"_blank\"><span style=\"color: #7f7f7f; text-decoration-color: #7f7f7f\">luxonis_lightning.py</span></a><span style=\"color: #7f7f7f; text-decoration-color: #7f7f7f\">:</span><a href=\"file:///opt/conda/lib/python3.11/site-packages/luxonis_train/models/luxonis_lightning.py#924\" target=\"_blank\"><span style=\"color: #7f7f7f; text-decoration-color: #7f7f7f\">924</span></a>\n",
       "</pre>\n"
      ],
      "text/plain": [
       "\u001b[32mINFO    \u001b[0m Validation main metric \u001b[1m(\u001b[0mdetection_head/detection_map\u001b[1m)\u001b[0m: \u001b[1;36m0.3051\u001b[0m                     \u001b]8;id=529186;file:///opt/conda/lib/python3.11/site-packages/luxonis_train/models/luxonis_lightning.py\u001b\\\u001b[2mluxonis_lightning.py\u001b[0m\u001b]8;;\u001b\\\u001b[2m:\u001b[0m\u001b]8;id=308909;file:///opt/conda/lib/python3.11/site-packages/luxonis_train/models/luxonis_lightning.py#924\u001b\\\u001b[2m924\u001b[0m\u001b]8;;\u001b\\\n"
      ]
     },
     "metadata": {},
     "output_type": "display_data"
    },
    {
     "data": {
      "text/html": [
       "<pre style=\"white-space:pre;overflow-x:auto;line-height:normal;font-family:Menlo,'DejaVu Sans Mono',consolas,'Courier New',monospace\"></pre>\n"
      ],
      "text/plain": []
     },
     "metadata": {},
     "output_type": "display_data"
    },
    {
     "data": {
      "text/html": [
       "<pre style=\"white-space:pre;overflow-x:auto;line-height:normal;font-family:Menlo,'DejaVu Sans Mono',consolas,'Courier New',monospace\">\n",
       "</pre>\n"
      ],
      "text/plain": [
       "\n"
      ]
     },
     "metadata": {},
     "output_type": "display_data"
    },
    {
     "data": {
      "application/vnd.jupyter.widget-view+json": {
       "model_id": "bf90356417084bd190c556a31b2fbb93",
       "version_major": 2,
       "version_minor": 0
      },
      "text/plain": [
       "Output()"
      ]
     },
     "metadata": {},
     "output_type": "display_data"
    },
    {
     "data": {
      "text/html": [
       "<pre style=\"white-space:pre;overflow-x:auto;line-height:normal;font-family:Menlo,'DejaVu Sans Mono',consolas,'Courier New',monospace\"></pre>\n"
      ],
      "text/plain": []
     },
     "metadata": {},
     "output_type": "display_data"
    },
    {
     "data": {
      "text/html": [
       "<pre style=\"white-space:pre;overflow-x:auto;line-height:normal;font-family:Menlo,'DejaVu Sans Mono',consolas,'Courier New',monospace\">\n",
       "</pre>\n"
      ],
      "text/plain": [
       "\n"
      ]
     },
     "metadata": {},
     "output_type": "display_data"
    },
    {
     "data": {
      "application/vnd.jupyter.widget-view+json": {
       "model_id": "473e1f17311c4315b8cab8d606e13e8a",
       "version_major": 2,
       "version_minor": 0
      },
      "text/plain": [
       "Output()"
      ]
     },
     "metadata": {},
     "output_type": "display_data"
    },
    {
     "data": {
      "text/html": [
       "<pre style=\"white-space:pre;overflow-x:auto;line-height:normal;font-family:Menlo,'DejaVu Sans Mono',consolas,'Courier New',monospace\"></pre>\n"
      ],
      "text/plain": []
     },
     "metadata": {},
     "output_type": "display_data"
    },
    {
     "data": {
      "text/html": [
       "<pre style=\"white-space:pre;overflow-x:auto;line-height:normal;font-family:Menlo,'DejaVu Sans Mono',consolas,'Courier New',monospace\">\n",
       "</pre>\n"
      ],
      "text/plain": [
       "\n"
      ]
     },
     "metadata": {},
     "output_type": "display_data"
    },
    {
     "data": {
      "application/vnd.jupyter.widget-view+json": {
       "model_id": "c72bb387131f48b496a1a896256011ac",
       "version_major": 2,
       "version_minor": 0
      },
      "text/plain": [
       "Output()"
      ]
     },
     "metadata": {},
     "output_type": "display_data"
    },
    {
     "data": {
      "text/html": [
       "<pre style=\"white-space:pre;overflow-x:auto;line-height:normal;font-family:Menlo,'DejaVu Sans Mono',consolas,'Courier New',monospace\"></pre>\n"
      ],
      "text/plain": []
     },
     "metadata": {},
     "output_type": "display_data"
    },
    {
     "data": {
      "text/html": [
       "<pre style=\"white-space:pre;overflow-x:auto;line-height:normal;font-family:Menlo,'DejaVu Sans Mono',consolas,'Courier New',monospace\">\n",
       "</pre>\n"
      ],
      "text/plain": [
       "\n"
      ]
     },
     "metadata": {},
     "output_type": "display_data"
    },
    {
     "data": {
      "application/vnd.jupyter.widget-view+json": {
       "model_id": "7769d4ea29314ff18d41699e238d771a",
       "version_major": 2,
       "version_minor": 0
      },
      "text/plain": [
       "Output()"
      ]
     },
     "metadata": {},
     "output_type": "display_data"
    },
    {
     "data": {
      "text/html": [
       "<pre style=\"white-space:pre;overflow-x:auto;line-height:normal;font-family:Menlo,'DejaVu Sans Mono',consolas,'Courier New',monospace\"></pre>\n"
      ],
      "text/plain": []
     },
     "metadata": {},
     "output_type": "display_data"
    },
    {
     "data": {
      "text/html": [
       "<pre style=\"white-space:pre;overflow-x:auto;line-height:normal;font-family:Menlo,'DejaVu Sans Mono',consolas,'Courier New',monospace\">\n",
       "</pre>\n"
      ],
      "text/plain": [
       "\n"
      ]
     },
     "metadata": {},
     "output_type": "display_data"
    },
    {
     "data": {
      "application/vnd.jupyter.widget-view+json": {
       "model_id": "7c067387f05c42008a08e80073784caa",
       "version_major": 2,
       "version_minor": 0
      },
      "text/plain": [
       "Output()"
      ]
     },
     "metadata": {},
     "output_type": "display_data"
    },
    {
     "data": {
      "text/html": [
       "<pre style=\"white-space:pre;overflow-x:auto;line-height:normal;font-family:Menlo,'DejaVu Sans Mono',consolas,'Courier New',monospace\"></pre>\n"
      ],
      "text/plain": []
     },
     "metadata": {},
     "output_type": "display_data"
    },
    {
     "data": {
      "text/html": [
       "<pre style=\"white-space:pre;overflow-x:auto;line-height:normal;font-family:Menlo,'DejaVu Sans Mono',consolas,'Courier New',monospace\">\n",
       "</pre>\n"
      ],
      "text/plain": [
       "\n"
      ]
     },
     "metadata": {},
     "output_type": "display_data"
    },
    {
     "data": {
      "application/vnd.jupyter.widget-view+json": {
       "model_id": "11a1ea577e2c4eee9bbc5cfa037a3973",
       "version_major": 2,
       "version_minor": 0
      },
      "text/plain": [
       "Output()"
      ]
     },
     "metadata": {},
     "output_type": "display_data"
    },
    {
     "data": {
      "text/html": [
       "<pre style=\"white-space:pre;overflow-x:auto;line-height:normal;font-family:Menlo,'DejaVu Sans Mono',consolas,'Courier New',monospace\"></pre>\n"
      ],
      "text/plain": []
     },
     "metadata": {},
     "output_type": "display_data"
    },
    {
     "data": {
      "text/html": [
       "<pre style=\"white-space:pre;overflow-x:auto;line-height:normal;font-family:Menlo,'DejaVu Sans Mono',consolas,'Courier New',monospace\">\n",
       "</pre>\n"
      ],
      "text/plain": [
       "\n"
      ]
     },
     "metadata": {},
     "output_type": "display_data"
    },
    {
     "data": {
      "application/vnd.jupyter.widget-view+json": {
       "model_id": "ee4e5baa14c14d48acd1e37c837e43f7",
       "version_major": 2,
       "version_minor": 0
      },
      "text/plain": [
       "Output()"
      ]
     },
     "metadata": {},
     "output_type": "display_data"
    },
    {
     "data": {
      "text/html": [
       "<pre style=\"white-space:pre;overflow-x:auto;line-height:normal;font-family:Menlo,'DejaVu Sans Mono',consolas,'Courier New',monospace\"></pre>\n"
      ],
      "text/plain": []
     },
     "metadata": {},
     "output_type": "display_data"
    },
    {
     "data": {
      "text/html": [
       "<pre style=\"white-space:pre;overflow-x:auto;line-height:normal;font-family:Menlo,'DejaVu Sans Mono',consolas,'Courier New',monospace\">\n",
       "</pre>\n"
      ],
      "text/plain": [
       "\n"
      ]
     },
     "metadata": {},
     "output_type": "display_data"
    },
    {
     "data": {
      "application/vnd.jupyter.widget-view+json": {
       "model_id": "d073b9a4a96644f98559002b009dc647",
       "version_major": 2,
       "version_minor": 0
      },
      "text/plain": [
       "Output()"
      ]
     },
     "metadata": {},
     "output_type": "display_data"
    },
    {
     "data": {
      "text/html": [
       "<pre style=\"white-space:pre;overflow-x:auto;line-height:normal;font-family:Menlo,'DejaVu Sans Mono',consolas,'Courier New',monospace\"></pre>\n"
      ],
      "text/plain": []
     },
     "metadata": {},
     "output_type": "display_data"
    },
    {
     "data": {
      "text/html": [
       "<pre style=\"white-space:pre;overflow-x:auto;line-height:normal;font-family:Menlo,'DejaVu Sans Mono',consolas,'Courier New',monospace\">\n",
       "</pre>\n"
      ],
      "text/plain": [
       "\n"
      ]
     },
     "metadata": {},
     "output_type": "display_data"
    },
    {
     "data": {
      "application/vnd.jupyter.widget-view+json": {
       "model_id": "8dfa3f7f39f34cd2a0c6c10544213aaf",
       "version_major": 2,
       "version_minor": 0
      },
      "text/plain": [
       "Output()"
      ]
     },
     "metadata": {},
     "output_type": "display_data"
    },
    {
     "data": {
      "text/html": [
       "<pre style=\"white-space:pre;overflow-x:auto;line-height:normal;font-family:Menlo,'DejaVu Sans Mono',consolas,'Courier New',monospace\"></pre>\n"
      ],
      "text/plain": []
     },
     "metadata": {},
     "output_type": "display_data"
    },
    {
     "data": {
      "text/html": [
       "<pre style=\"white-space:pre;overflow-x:auto;line-height:normal;font-family:Menlo,'DejaVu Sans Mono',consolas,'Courier New',monospace\">\n",
       "</pre>\n"
      ],
      "text/plain": [
       "\n"
      ]
     },
     "metadata": {},
     "output_type": "display_data"
    },
    {
     "data": {
      "application/vnd.jupyter.widget-view+json": {
       "model_id": "a18a6435ad43421e9cd73e2898c69fce",
       "version_major": 2,
       "version_minor": 0
      },
      "text/plain": [
       "Output()"
      ]
     },
     "metadata": {},
     "output_type": "display_data"
    },
    {
     "data": {
      "text/html": [
       "<pre style=\"white-space:pre;overflow-x:auto;line-height:normal;font-family:Menlo,'DejaVu Sans Mono',consolas,'Courier New',monospace\"><span style=\"color: #008000; text-decoration-color: #008000\">INFO    </span> Computing metrics on val subset <span style=\"color: #808000; text-decoration-color: #808000\">...</span>                                               <a href=\"file:///opt/conda/lib/python3.11/site-packages/luxonis_train/models/luxonis_lightning.py\" target=\"_blank\"><span style=\"color: #7f7f7f; text-decoration-color: #7f7f7f\">luxonis_lightning.py</span></a><span style=\"color: #7f7f7f; text-decoration-color: #7f7f7f\">:</span><a href=\"file:///opt/conda/lib/python3.11/site-packages/luxonis_train/models/luxonis_lightning.py#732\" target=\"_blank\"><span style=\"color: #7f7f7f; text-decoration-color: #7f7f7f\">732</span></a>\n",
       "</pre>\n"
      ],
      "text/plain": [
       "\u001b[32mINFO    \u001b[0m Computing metrics on val subset \u001b[33m...\u001b[0m                                               \u001b]8;id=472291;file:///opt/conda/lib/python3.11/site-packages/luxonis_train/models/luxonis_lightning.py\u001b\\\u001b[2mluxonis_lightning.py\u001b[0m\u001b]8;;\u001b\\\u001b[2m:\u001b[0m\u001b]8;id=839753;file:///opt/conda/lib/python3.11/site-packages/luxonis_train/models/luxonis_lightning.py#732\u001b\\\u001b[2m732\u001b[0m\u001b]8;;\u001b\\\n"
      ]
     },
     "metadata": {},
     "output_type": "display_data"
    },
    {
     "data": {
      "text/html": [
       "<pre style=\"white-space:pre;overflow-x:auto;line-height:normal;font-family:Menlo,'DejaVu Sans Mono',consolas,'Courier New',monospace\"><span style=\"color: #008000; text-decoration-color: #008000\">INFO    </span> Metrics computed.                                                                 <a href=\"file:///opt/conda/lib/python3.11/site-packages/luxonis_train/models/luxonis_lightning.py\" target=\"_blank\"><span style=\"color: #7f7f7f; text-decoration-color: #7f7f7f\">luxonis_lightning.py</span></a><span style=\"color: #7f7f7f; text-decoration-color: #7f7f7f\">:</span><a href=\"file:///opt/conda/lib/python3.11/site-packages/luxonis_train/models/luxonis_lightning.py#734\" target=\"_blank\"><span style=\"color: #7f7f7f; text-decoration-color: #7f7f7f\">734</span></a>\n",
       "</pre>\n"
      ],
      "text/plain": [
       "\u001b[32mINFO    \u001b[0m Metrics computed.                                                                 \u001b]8;id=803178;file:///opt/conda/lib/python3.11/site-packages/luxonis_train/models/luxonis_lightning.py\u001b\\\u001b[2mluxonis_lightning.py\u001b[0m\u001b]8;;\u001b\\\u001b[2m:\u001b[0m\u001b]8;id=842731;file:///opt/conda/lib/python3.11/site-packages/luxonis_train/models/luxonis_lightning.py#734\u001b\\\u001b[2m734\u001b[0m\u001b]8;;\u001b\\\n"
      ]
     },
     "metadata": {},
     "output_type": "display_data"
    },
    {
     "data": {
      "text/html": [
       "<pre style=\"white-space:pre;overflow-x:auto;line-height:normal;font-family:Menlo,'DejaVu Sans Mono',consolas,'Courier New',monospace\"><span style=\"color: #008000; text-decoration-color: #008000\">INFO    </span> Validation loss: <span style=\"color: #008080; text-decoration-color: #008080; font-weight: bold\">1.3497</span>                                                           <a href=\"file:///opt/conda/lib/python3.11/site-packages/luxonis_train/models/luxonis_lightning.py\" target=\"_blank\"><span style=\"color: #7f7f7f; text-decoration-color: #7f7f7f\">luxonis_lightning.py</span></a><span style=\"color: #7f7f7f; text-decoration-color: #7f7f7f\">:</span><a href=\"file:///opt/conda/lib/python3.11/site-packages/luxonis_train/models/luxonis_lightning.py#915\" target=\"_blank\"><span style=\"color: #7f7f7f; text-decoration-color: #7f7f7f\">915</span></a>\n",
       "</pre>\n"
      ],
      "text/plain": [
       "\u001b[32mINFO    \u001b[0m Validation loss: \u001b[1;36m1.3497\u001b[0m                                                           \u001b]8;id=55667;file:///opt/conda/lib/python3.11/site-packages/luxonis_train/models/luxonis_lightning.py\u001b\\\u001b[2mluxonis_lightning.py\u001b[0m\u001b]8;;\u001b\\\u001b[2m:\u001b[0m\u001b]8;id=440573;file:///opt/conda/lib/python3.11/site-packages/luxonis_train/models/luxonis_lightning.py#915\u001b\\\u001b[2m915\u001b[0m\u001b]8;;\u001b\\\n"
      ]
     },
     "metadata": {},
     "output_type": "display_data"
    },
    {
     "data": {
      "text/html": [
       "<pre style=\"white-space:pre;overflow-x:auto;line-height:normal;font-family:Menlo,'DejaVu Sans Mono',consolas,'Courier New',monospace\"><span style=\"color: #800080; text-decoration-color: #800080; font-weight: bold\">─────────────────────────────────────────────────── </span>Validation<span style=\"color: #800080; text-decoration-color: #800080; font-weight: bold\"> ────────────────────────────────────────────────────</span>\n",
       "</pre>\n"
      ],
      "text/plain": [
       "\u001b[1;35m─────────────────────────────────────────────────── \u001b[0mValidation\u001b[1;35m ────────────────────────────────────────────────────\u001b[0m\n"
      ]
     },
     "metadata": {},
     "output_type": "display_data"
    },
    {
     "data": {
      "text/html": [
       "<pre style=\"white-space:pre;overflow-x:auto;line-height:normal;font-family:Menlo,'DejaVu Sans Mono',consolas,'Courier New',monospace\"><span style=\"color: #800080; text-decoration-color: #800080; font-weight: bold\">Loss:</span> <span style=\"color: #c0c0c0; text-decoration-color: #c0c0c0; font-weight: bold\">1.3496578335762024</span>\n",
       "</pre>\n"
      ],
      "text/plain": [
       "\u001b[1;35mLoss:\u001b[0m \u001b[1;37m1.3496578335762024\u001b[0m\n"
      ]
     },
     "metadata": {},
     "output_type": "display_data"
    },
    {
     "data": {
      "text/html": [
       "<pre style=\"white-space:pre;overflow-x:auto;line-height:normal;font-family:Menlo,'DejaVu Sans Mono',consolas,'Courier New',monospace\"><span style=\"color: #800080; text-decoration-color: #800080; font-weight: bold\">Metrics:</span>\n",
       "</pre>\n"
      ],
      "text/plain": [
       "\u001b[1;35mMetrics:\u001b[0m\n"
      ]
     },
     "metadata": {},
     "output_type": "display_data"
    },
    {
     "data": {
      "text/html": [
       "<pre style=\"white-space:pre;overflow-x:auto;line-height:normal;font-family:Menlo,'DejaVu Sans Mono',consolas,'Courier New',monospace\"><span style=\"font-style: italic\">       detection_head       </span>\n",
       "┏━━━━━━━━━━━━━━━┳━━━━━━━━━━┓\n",
       "┃<span style=\"color: #800080; text-decoration-color: #800080; font-weight: bold\"> Name          </span>┃<span style=\"color: #800080; text-decoration-color: #800080; font-weight: bold\"> Value    </span>┃\n",
       "┡━━━━━━━━━━━━━━━╇━━━━━━━━━━┩\n",
       "│<span style=\"color: #800080; text-decoration-color: #800080\"> detection_map </span>│<span style=\"color: #c0c0c0; text-decoration-color: #c0c0c0\"> 0.31376  </span>│\n",
       "│<span style=\"color: #800080; text-decoration-color: #800080\"> map_50        </span>│<span style=\"color: #c0c0c0; text-decoration-color: #c0c0c0\"> 0.41700  </span>│\n",
       "│<span style=\"color: #800080; text-decoration-color: #800080\"> map_75        </span>│<span style=\"color: #c0c0c0; text-decoration-color: #c0c0c0\"> 0.29521  </span>│\n",
       "│<span style=\"color: #800080; text-decoration-color: #800080\"> map_small     </span>│<span style=\"color: #c0c0c0; text-decoration-color: #c0c0c0\"> -1.00000 </span>│\n",
       "│<span style=\"color: #800080; text-decoration-color: #800080\"> map_medium    </span>│<span style=\"color: #c0c0c0; text-decoration-color: #c0c0c0\"> 0.10941  </span>│\n",
       "│<span style=\"color: #800080; text-decoration-color: #800080\"> map_large     </span>│<span style=\"color: #c0c0c0; text-decoration-color: #c0c0c0\"> 0.42940  </span>│\n",
       "│<span style=\"color: #800080; text-decoration-color: #800080\"> mar_1         </span>│<span style=\"color: #c0c0c0; text-decoration-color: #c0c0c0\"> 0.37054  </span>│\n",
       "│<span style=\"color: #800080; text-decoration-color: #800080\"> mar_10        </span>│<span style=\"color: #c0c0c0; text-decoration-color: #c0c0c0\"> 0.43929  </span>│\n",
       "│<span style=\"color: #800080; text-decoration-color: #800080\"> mar_100       </span>│<span style=\"color: #c0c0c0; text-decoration-color: #c0c0c0\"> 0.43929  </span>│\n",
       "│<span style=\"color: #800080; text-decoration-color: #800080\"> mar_small     </span>│<span style=\"color: #c0c0c0; text-decoration-color: #c0c0c0\"> -1.00000 </span>│\n",
       "│<span style=\"color: #800080; text-decoration-color: #800080\"> mar_medium    </span>│<span style=\"color: #c0c0c0; text-decoration-color: #c0c0c0\"> 0.15000  </span>│\n",
       "│<span style=\"color: #800080; text-decoration-color: #800080\"> mar_large     </span>│<span style=\"color: #c0c0c0; text-decoration-color: #c0c0c0\"> 0.58929  </span>│\n",
       "│<span style=\"color: #800080; text-decoration-color: #800080\"> f1_small      </span>│<span style=\"color: #c0c0c0; text-decoration-color: #c0c0c0\"> -1.00000 </span>│\n",
       "│<span style=\"color: #800080; text-decoration-color: #800080\"> f1_medium     </span>│<span style=\"color: #c0c0c0; text-decoration-color: #c0c0c0\"> 0.12653  </span>│\n",
       "│<span style=\"color: #800080; text-decoration-color: #800080\"> f1_large      </span>│<span style=\"color: #c0c0c0; text-decoration-color: #c0c0c0\"> 0.49679  </span>│\n",
       "└───────────────┴──────────┘\n",
       "</pre>\n"
      ],
      "text/plain": [
       "\u001b[3m       detection_head       \u001b[0m\n",
       "┏━━━━━━━━━━━━━━━┳━━━━━━━━━━┓\n",
       "┃\u001b[1;35m \u001b[0m\u001b[1;35mName         \u001b[0m\u001b[1;35m \u001b[0m┃\u001b[1;35m \u001b[0m\u001b[1;35mValue   \u001b[0m\u001b[1;35m \u001b[0m┃\n",
       "┡━━━━━━━━━━━━━━━╇━━━━━━━━━━┩\n",
       "│\u001b[35m \u001b[0m\u001b[35mdetection_map\u001b[0m\u001b[35m \u001b[0m│\u001b[37m \u001b[0m\u001b[37m0.31376 \u001b[0m\u001b[37m \u001b[0m│\n",
       "│\u001b[35m \u001b[0m\u001b[35mmap_50       \u001b[0m\u001b[35m \u001b[0m│\u001b[37m \u001b[0m\u001b[37m0.41700 \u001b[0m\u001b[37m \u001b[0m│\n",
       "│\u001b[35m \u001b[0m\u001b[35mmap_75       \u001b[0m\u001b[35m \u001b[0m│\u001b[37m \u001b[0m\u001b[37m0.29521 \u001b[0m\u001b[37m \u001b[0m│\n",
       "│\u001b[35m \u001b[0m\u001b[35mmap_small    \u001b[0m\u001b[35m \u001b[0m│\u001b[37m \u001b[0m\u001b[37m-1.00000\u001b[0m\u001b[37m \u001b[0m│\n",
       "│\u001b[35m \u001b[0m\u001b[35mmap_medium   \u001b[0m\u001b[35m \u001b[0m│\u001b[37m \u001b[0m\u001b[37m0.10941 \u001b[0m\u001b[37m \u001b[0m│\n",
       "│\u001b[35m \u001b[0m\u001b[35mmap_large    \u001b[0m\u001b[35m \u001b[0m│\u001b[37m \u001b[0m\u001b[37m0.42940 \u001b[0m\u001b[37m \u001b[0m│\n",
       "│\u001b[35m \u001b[0m\u001b[35mmar_1        \u001b[0m\u001b[35m \u001b[0m│\u001b[37m \u001b[0m\u001b[37m0.37054 \u001b[0m\u001b[37m \u001b[0m│\n",
       "│\u001b[35m \u001b[0m\u001b[35mmar_10       \u001b[0m\u001b[35m \u001b[0m│\u001b[37m \u001b[0m\u001b[37m0.43929 \u001b[0m\u001b[37m \u001b[0m│\n",
       "│\u001b[35m \u001b[0m\u001b[35mmar_100      \u001b[0m\u001b[35m \u001b[0m│\u001b[37m \u001b[0m\u001b[37m0.43929 \u001b[0m\u001b[37m \u001b[0m│\n",
       "│\u001b[35m \u001b[0m\u001b[35mmar_small    \u001b[0m\u001b[35m \u001b[0m│\u001b[37m \u001b[0m\u001b[37m-1.00000\u001b[0m\u001b[37m \u001b[0m│\n",
       "│\u001b[35m \u001b[0m\u001b[35mmar_medium   \u001b[0m\u001b[35m \u001b[0m│\u001b[37m \u001b[0m\u001b[37m0.15000 \u001b[0m\u001b[37m \u001b[0m│\n",
       "│\u001b[35m \u001b[0m\u001b[35mmar_large    \u001b[0m\u001b[35m \u001b[0m│\u001b[37m \u001b[0m\u001b[37m0.58929 \u001b[0m\u001b[37m \u001b[0m│\n",
       "│\u001b[35m \u001b[0m\u001b[35mf1_small     \u001b[0m\u001b[35m \u001b[0m│\u001b[37m \u001b[0m\u001b[37m-1.00000\u001b[0m\u001b[37m \u001b[0m│\n",
       "│\u001b[35m \u001b[0m\u001b[35mf1_medium    \u001b[0m\u001b[35m \u001b[0m│\u001b[37m \u001b[0m\u001b[37m0.12653 \u001b[0m\u001b[37m \u001b[0m│\n",
       "│\u001b[35m \u001b[0m\u001b[35mf1_large     \u001b[0m\u001b[35m \u001b[0m│\u001b[37m \u001b[0m\u001b[37m0.49679 \u001b[0m\u001b[37m \u001b[0m│\n",
       "└───────────────┴──────────┘\n"
      ]
     },
     "metadata": {},
     "output_type": "display_data"
    },
    {
     "data": {
      "text/html": [
       "<pre style=\"white-space:pre;overflow-x:auto;line-height:normal;font-family:Menlo,'DejaVu Sans Mono',consolas,'Courier New',monospace\"><span style=\"color: #800080; text-decoration-color: #800080; font-weight: bold\">───────────────────────────────────────────────────────────────────────────────────────────────────────────────────</span>\n",
       "</pre>\n"
      ],
      "text/plain": [
       "\u001b[1;35m───────────────────────────────────────────────────────────────────────────────────────────────────────────────────\u001b[0m\n"
      ]
     },
     "metadata": {},
     "output_type": "display_data"
    },
    {
     "data": {
      "text/html": [
       "<pre style=\"white-space:pre;overflow-x:auto;line-height:normal;font-family:Menlo,'DejaVu Sans Mono',consolas,'Courier New',monospace\"><span style=\"color: #008000; text-decoration-color: #008000\">INFO    </span> Validation main metric <span style=\"font-weight: bold\">(</span>detection_head/detection_map<span style=\"font-weight: bold\">)</span>: <span style=\"color: #008080; text-decoration-color: #008080; font-weight: bold\">0.3138</span>                     <a href=\"file:///opt/conda/lib/python3.11/site-packages/luxonis_train/models/luxonis_lightning.py\" target=\"_blank\"><span style=\"color: #7f7f7f; text-decoration-color: #7f7f7f\">luxonis_lightning.py</span></a><span style=\"color: #7f7f7f; text-decoration-color: #7f7f7f\">:</span><a href=\"file:///opt/conda/lib/python3.11/site-packages/luxonis_train/models/luxonis_lightning.py#924\" target=\"_blank\"><span style=\"color: #7f7f7f; text-decoration-color: #7f7f7f\">924</span></a>\n",
       "</pre>\n"
      ],
      "text/plain": [
       "\u001b[32mINFO    \u001b[0m Validation main metric \u001b[1m(\u001b[0mdetection_head/detection_map\u001b[1m)\u001b[0m: \u001b[1;36m0.3138\u001b[0m                     \u001b]8;id=889523;file:///opt/conda/lib/python3.11/site-packages/luxonis_train/models/luxonis_lightning.py\u001b\\\u001b[2mluxonis_lightning.py\u001b[0m\u001b]8;;\u001b\\\u001b[2m:\u001b[0m\u001b]8;id=80749;file:///opt/conda/lib/python3.11/site-packages/luxonis_train/models/luxonis_lightning.py#924\u001b\\\u001b[2m924\u001b[0m\u001b]8;;\u001b\\\n"
      ]
     },
     "metadata": {},
     "output_type": "display_data"
    },
    {
     "data": {
      "text/html": [
       "<pre style=\"white-space:pre;overflow-x:auto;line-height:normal;font-family:Menlo,'DejaVu Sans Mono',consolas,'Courier New',monospace\"><span style=\"color: #008000; text-decoration-color: #008000\">INFO    </span> `Trainer.fit` stopped: `<span style=\"color: #808000; text-decoration-color: #808000\">max_epochs</span>=<span style=\"color: #008080; text-decoration-color: #008080; font-weight: bold\">200</span>` reached.                                           <a href=\"file:///opt/conda/lib/python3.11/site-packages/lightning_utilities/core/rank_zero.py\" target=\"_blank\"><span style=\"color: #7f7f7f; text-decoration-color: #7f7f7f\">rank_zero.py</span></a><span style=\"color: #7f7f7f; text-decoration-color: #7f7f7f\">:</span><a href=\"file:///opt/conda/lib/python3.11/site-packages/lightning_utilities/core/rank_zero.py#64\" target=\"_blank\"><span style=\"color: #7f7f7f; text-decoration-color: #7f7f7f\">64</span></a>\n",
       "</pre>\n"
      ],
      "text/plain": [
       "\u001b[32mINFO    \u001b[0m `Trainer.fit` stopped: `\u001b[33mmax_epochs\u001b[0m=\u001b[1;36m200\u001b[0m` reached.                                           \u001b]8;id=487769;file:///opt/conda/lib/python3.11/site-packages/lightning_utilities/core/rank_zero.py\u001b\\\u001b[2mrank_zero.py\u001b[0m\u001b]8;;\u001b\\\u001b[2m:\u001b[0m\u001b]8;id=176584;file:///opt/conda/lib/python3.11/site-packages/lightning_utilities/core/rank_zero.py#64\u001b\\\u001b[2m64\u001b[0m\u001b]8;;\u001b\\\n"
      ]
     },
     "metadata": {},
     "output_type": "display_data"
    },
    {
     "data": {
      "text/html": [
       "<pre style=\"white-space:pre;overflow-x:auto;line-height:normal;font-family:Menlo,'DejaVu Sans Mono',consolas,'Courier New',monospace\"></pre>\n"
      ],
      "text/plain": []
     },
     "metadata": {},
     "output_type": "display_data"
    },
    {
     "data": {
      "text/html": [
       "<pre style=\"white-space:pre;overflow-x:auto;line-height:normal;font-family:Menlo,'DejaVu Sans Mono',consolas,'Courier New',monospace\">\n",
       "</pre>\n"
      ],
      "text/plain": [
       "\n"
      ]
     },
     "metadata": {},
     "output_type": "display_data"
    },
    {
     "data": {
      "text/html": [
       "<pre style=\"white-space:pre;overflow-x:auto;line-height:normal;font-family:Menlo,'DejaVu Sans Mono',consolas,'Courier New',monospace\"><span style=\"color: #008000; text-decoration-color: #008000\">INFO    </span> Training finished                                                                              <a href=\"file:///opt/conda/lib/python3.11/site-packages/luxonis_train/core/core.py\" target=\"_blank\"><span style=\"color: #7f7f7f; text-decoration-color: #7f7f7f\">core.py</span></a><span style=\"color: #7f7f7f; text-decoration-color: #7f7f7f\">:</span><a href=\"file:///opt/conda/lib/python3.11/site-packages/luxonis_train/core/core.py#265\" target=\"_blank\"><span style=\"color: #7f7f7f; text-decoration-color: #7f7f7f\">265</span></a>\n",
       "</pre>\n"
      ],
      "text/plain": [
       "\u001b[32mINFO    \u001b[0m Training finished                                                                              \u001b]8;id=228089;file:///opt/conda/lib/python3.11/site-packages/luxonis_train/core/core.py\u001b\\\u001b[2mcore.py\u001b[0m\u001b]8;;\u001b\\\u001b[2m:\u001b[0m\u001b]8;id=280941;file:///opt/conda/lib/python3.11/site-packages/luxonis_train/core/core.py#265\u001b\\\u001b[2m265\u001b[0m\u001b]8;;\u001b\\\n"
      ]
     },
     "metadata": {},
     "output_type": "display_data"
    },
    {
     "data": {
      "text/html": [
       "<pre style=\"white-space:pre;overflow-x:auto;line-height:normal;font-family:Menlo,'DejaVu Sans Mono',consolas,'Courier New',monospace\"><span style=\"color: #008000; text-decoration-color: #008000\">INFO    </span> Checkpoints saved in: output/<span style=\"color: #008080; text-decoration-color: #008080; font-weight: bold\">19</span>-rose-vulture                                                   <a href=\"file:///opt/conda/lib/python3.11/site-packages/luxonis_train/core/core.py\" target=\"_blank\"><span style=\"color: #7f7f7f; text-decoration-color: #7f7f7f\">core.py</span></a><span style=\"color: #7f7f7f; text-decoration-color: #7f7f7f\">:</span><a href=\"file:///opt/conda/lib/python3.11/site-packages/luxonis_train/core/core.py#266\" target=\"_blank\"><span style=\"color: #7f7f7f; text-decoration-color: #7f7f7f\">266</span></a>\n",
       "</pre>\n"
      ],
      "text/plain": [
       "\u001b[32mINFO    \u001b[0m Checkpoints saved in: output/\u001b[1;36m19\u001b[0m-rose-vulture                                                   \u001b]8;id=25466;file:///opt/conda/lib/python3.11/site-packages/luxonis_train/core/core.py\u001b\\\u001b[2mcore.py\u001b[0m\u001b]8;;\u001b\\\u001b[2m:\u001b[0m\u001b]8;id=170663;file:///opt/conda/lib/python3.11/site-packages/luxonis_train/core/core.py#266\u001b\\\u001b[2m266\u001b[0m\u001b]8;;\u001b\\\n"
      ]
     },
     "metadata": {},
     "output_type": "display_data"
    }
   ],
   "source": [
    "from luxonis_train import LuxonisModel\n",
    "\n",
    "config_path = \"cat_dog_detection_config.yaml\"\n",
    "\n",
    "luxonis_model = LuxonisModel(config_path)\n",
    "luxonis_model.train()"
   ]
  },
  {
   "cell_type": "markdown",
   "metadata": {},
   "source": [
    "`LuxonisTrain` already implements automatic tracking of our training runs. By default, `Tensorboard` is used, and to look at the losses, metrics, and visualizations during training, we can inspect the logs. If you check the `output` folder, you'll see that every run creates a new directory in it, and each run also has its own training logs in the `./output/tensorboard_logs` where the name of the folder matches the run's name. To make all the subsequent commands work automatically, please set the name of your run below."
   ]
  },
  {
   "cell_type": "code",
   "execution_count": 9,
   "metadata": {},
   "outputs": [],
   "source": [
    "RUN_NAME = \"output/19-rose-vulture\""
   ]
  },
  {
   "cell_type": "code",
   "execution_count": 10,
   "metadata": {},
   "outputs": [
    {
     "data": {
      "text/html": [
       "\n",
       "      <iframe id=\"tensorboard-frame-9ae099e96bc84d18\" width=\"100%\" height=\"800\" frameborder=\"0\">\n",
       "      </iframe>\n",
       "      <script>\n",
       "        (function() {\n",
       "          const frame = document.getElementById(\"tensorboard-frame-9ae099e96bc84d18\");\n",
       "          const url = new URL(\"/\", window.location);\n",
       "          const port = 6006;\n",
       "          if (port) {\n",
       "            url.port = port;\n",
       "          }\n",
       "          frame.src = url;\n",
       "        })();\n",
       "      </script>\n",
       "    "
      ],
      "text/plain": [
       "<IPython.core.display.HTML object>"
      ]
     },
     "metadata": {},
     "output_type": "display_data"
    }
   ],
   "source": [
    "%load_ext tensorboard\n",
    "%tensorboard --logdir output/tensorboard_logs/{RUN_NAME}/ # TODO: Change the name of the training run"
   ]
  },
  {
   "cell_type": "markdown",
   "metadata": {},
   "source": [
    "## ✍ Test"
   ]
  },
  {
   "cell_type": "markdown",
   "metadata": {},
   "source": [
    "Now we have a model that we are happy with, that seems to perform well on the validation set. The next step is to check its performance on the testing set. This is a collection of images that we've kept hidden from the model so far and should be only used to objectively evaluate if the model is good or not. Since this is an object detection task we use mean average precision metric to quantitatively check the model performance.\n",
    "\n",
    "If you check out ran directory you'll see two folders inside: `best_val_metric` and `min_val_loss`. Both of these have checkpoint files that were generated during trainig based on best validation metric performance and minimal validation loss respectively. For evaluation we'll want to use one of these checkpoints, we recommend you use one that has lowest validation loss."
   ]
  },
  {
   "cell_type": "code",
   "execution_count": 11,
   "metadata": {},
   "outputs": [
    {
     "data": {
      "text/html": [
       "<pre style=\"white-space:pre;overflow-x:auto;line-height:normal;font-family:Menlo,'DejaVu Sans Mono',consolas,'Courier New',monospace\"><span style=\"color: #008000; text-decoration-color: #008000\">INFO    </span> Loaded checkpoint from                                                            <a href=\"file:///opt/conda/lib/python3.11/site-packages/luxonis_train/models/luxonis_lightning.py\" target=\"_blank\"><span style=\"color: #7f7f7f; text-decoration-color: #7f7f7f\">luxonis_lightning.py</span></a><span style=\"color: #7f7f7f; text-decoration-color: #7f7f7f\">:</span><a href=\"file:///opt/conda/lib/python3.11/site-packages/luxonis_train/models/luxonis_lightning.py#860\" target=\"_blank\"><span style=\"color: #7f7f7f; text-decoration-color: #7f7f7f\">860</span></a>\n",
       "         <span style=\"color: #800080; text-decoration-color: #800080\">/home/jovyan/output/19-rose-vulture/min_val_loss/</span><span style=\"color: #ff00ff; text-decoration-color: #ff00ff\">cat_dog_detection_model_loss</span>=<span style=\"color: #008080; text-decoration-color: #008080; font-weight: bold\">1.</span>3 <span style=\"color: #7f7f7f; text-decoration-color: #7f7f7f\">                        </span>\n",
       "         451_179.ckpt.                                                                     <span style=\"color: #7f7f7f; text-decoration-color: #7f7f7f\">                        </span>\n",
       "</pre>\n"
      ],
      "text/plain": [
       "\u001b[32mINFO    \u001b[0m Loaded checkpoint from                                                            \u001b]8;id=884196;file:///opt/conda/lib/python3.11/site-packages/luxonis_train/models/luxonis_lightning.py\u001b\\\u001b[2mluxonis_lightning.py\u001b[0m\u001b]8;;\u001b\\\u001b[2m:\u001b[0m\u001b]8;id=531792;file:///opt/conda/lib/python3.11/site-packages/luxonis_train/models/luxonis_lightning.py#860\u001b\\\u001b[2m860\u001b[0m\u001b]8;;\u001b\\\n",
       "         \u001b[35m/home/jovyan/output/19-rose-vulture/min_val_loss/\u001b[0m\u001b[95mcat_dog_detection_model_loss\u001b[0m=\u001b[1;36m1\u001b[0m\u001b[1;36m.\u001b[0m3 \u001b[2m                        \u001b[0m\n",
       "         451_179.ckpt.                                                                     \u001b[2m                        \u001b[0m\n"
      ]
     },
     "metadata": {},
     "output_type": "display_data"
    },
    {
     "data": {
      "text/html": [
       "<pre style=\"white-space:pre;overflow-x:auto;line-height:normal;font-family:Menlo,'DejaVu Sans Mono',consolas,'Courier New',monospace\"><span style=\"color: #008000; text-decoration-color: #008000\">INFO    </span> The following callbacks returned in `LightningModule.configure_callbacks` will override    <a href=\"file:///opt/conda/lib/python3.11/site-packages/lightning_utilities/core/rank_zero.py\" target=\"_blank\"><span style=\"color: #7f7f7f; text-decoration-color: #7f7f7f\">rank_zero.py</span></a><span style=\"color: #7f7f7f; text-decoration-color: #7f7f7f\">:</span><a href=\"file:///opt/conda/lib/python3.11/site-packages/lightning_utilities/core/rank_zero.py#64\" target=\"_blank\"><span style=\"color: #7f7f7f; text-decoration-color: #7f7f7f\">64</span></a>\n",
       "         existing callbacks passed to Trainer: ModelCheckpoint, RichModelSummary                    <span style=\"color: #7f7f7f; text-decoration-color: #7f7f7f\">               </span>\n",
       "</pre>\n"
      ],
      "text/plain": [
       "\u001b[32mINFO    \u001b[0m The following callbacks returned in `LightningModule.configure_callbacks` will override    \u001b]8;id=276373;file:///opt/conda/lib/python3.11/site-packages/lightning_utilities/core/rank_zero.py\u001b\\\u001b[2mrank_zero.py\u001b[0m\u001b]8;;\u001b\\\u001b[2m:\u001b[0m\u001b]8;id=59018;file:///opt/conda/lib/python3.11/site-packages/lightning_utilities/core/rank_zero.py#64\u001b\\\u001b[2m64\u001b[0m\u001b]8;;\u001b\\\n",
       "         existing callbacks passed to Trainer: ModelCheckpoint, RichModelSummary                    \u001b[2m               \u001b[0m\n"
      ]
     },
     "metadata": {},
     "output_type": "display_data"
    },
    {
     "name": "stderr",
     "output_type": "stream",
     "text": [
      "LOCAL_RANK: 0 - CUDA_VISIBLE_DEVICES: [0]\n"
     ]
    },
    {
     "data": {
      "application/vnd.jupyter.widget-view+json": {
       "model_id": "8585a555a93d43a284970c9406dc3056",
       "version_major": 2,
       "version_minor": 0
      },
      "text/plain": [
       "Output()"
      ]
     },
     "metadata": {},
     "output_type": "display_data"
    },
    {
     "data": {
      "text/html": [
       "<pre style=\"white-space:pre;overflow-x:auto;line-height:normal;font-family:Menlo,'DejaVu Sans Mono',consolas,'Courier New',monospace\"><span style=\"color: #008000; text-decoration-color: #008000\">INFO    </span> Computing metrics on test subset <span style=\"color: #808000; text-decoration-color: #808000\">...</span>                                              <a href=\"file:///opt/conda/lib/python3.11/site-packages/luxonis_train/models/luxonis_lightning.py\" target=\"_blank\"><span style=\"color: #7f7f7f; text-decoration-color: #7f7f7f\">luxonis_lightning.py</span></a><span style=\"color: #7f7f7f; text-decoration-color: #7f7f7f\">:</span><a href=\"file:///opt/conda/lib/python3.11/site-packages/luxonis_train/models/luxonis_lightning.py#732\" target=\"_blank\"><span style=\"color: #7f7f7f; text-decoration-color: #7f7f7f\">732</span></a>\n",
       "</pre>\n"
      ],
      "text/plain": [
       "\u001b[32mINFO    \u001b[0m Computing metrics on test subset \u001b[33m...\u001b[0m                                              \u001b]8;id=939583;file:///opt/conda/lib/python3.11/site-packages/luxonis_train/models/luxonis_lightning.py\u001b\\\u001b[2mluxonis_lightning.py\u001b[0m\u001b]8;;\u001b\\\u001b[2m:\u001b[0m\u001b]8;id=942924;file:///opt/conda/lib/python3.11/site-packages/luxonis_train/models/luxonis_lightning.py#732\u001b\\\u001b[2m732\u001b[0m\u001b]8;;\u001b\\\n"
      ]
     },
     "metadata": {},
     "output_type": "display_data"
    },
    {
     "data": {
      "text/html": [
       "<pre style=\"white-space:pre;overflow-x:auto;line-height:normal;font-family:Menlo,'DejaVu Sans Mono',consolas,'Courier New',monospace\"><span style=\"color: #008000; text-decoration-color: #008000\">INFO    </span> Metrics computed.                                                                 <a href=\"file:///opt/conda/lib/python3.11/site-packages/luxonis_train/models/luxonis_lightning.py\" target=\"_blank\"><span style=\"color: #7f7f7f; text-decoration-color: #7f7f7f\">luxonis_lightning.py</span></a><span style=\"color: #7f7f7f; text-decoration-color: #7f7f7f\">:</span><a href=\"file:///opt/conda/lib/python3.11/site-packages/luxonis_train/models/luxonis_lightning.py#734\" target=\"_blank\"><span style=\"color: #7f7f7f; text-decoration-color: #7f7f7f\">734</span></a>\n",
       "</pre>\n"
      ],
      "text/plain": [
       "\u001b[32mINFO    \u001b[0m Metrics computed.                                                                 \u001b]8;id=97834;file:///opt/conda/lib/python3.11/site-packages/luxonis_train/models/luxonis_lightning.py\u001b\\\u001b[2mluxonis_lightning.py\u001b[0m\u001b]8;;\u001b\\\u001b[2m:\u001b[0m\u001b]8;id=738912;file:///opt/conda/lib/python3.11/site-packages/luxonis_train/models/luxonis_lightning.py#734\u001b\\\u001b[2m734\u001b[0m\u001b]8;;\u001b\\\n"
      ]
     },
     "metadata": {},
     "output_type": "display_data"
    },
    {
     "data": {
      "text/html": [
       "<pre style=\"white-space:pre;overflow-x:auto;line-height:normal;font-family:Menlo,'DejaVu Sans Mono',consolas,'Courier New',monospace\"><span style=\"color: #008000; text-decoration-color: #008000\">INFO    </span> Test loss: <span style=\"color: #008080; text-decoration-color: #008080; font-weight: bold\">1.4114</span>                                                                 <a href=\"file:///opt/conda/lib/python3.11/site-packages/luxonis_train/models/luxonis_lightning.py\" target=\"_blank\"><span style=\"color: #7f7f7f; text-decoration-color: #7f7f7f\">luxonis_lightning.py</span></a><span style=\"color: #7f7f7f; text-decoration-color: #7f7f7f\">:</span><a href=\"file:///opt/conda/lib/python3.11/site-packages/luxonis_train/models/luxonis_lightning.py#915\" target=\"_blank\"><span style=\"color: #7f7f7f; text-decoration-color: #7f7f7f\">915</span></a>\n",
       "</pre>\n"
      ],
      "text/plain": [
       "\u001b[32mINFO    \u001b[0m Test loss: \u001b[1;36m1.4114\u001b[0m                                                                 \u001b]8;id=148665;file:///opt/conda/lib/python3.11/site-packages/luxonis_train/models/luxonis_lightning.py\u001b\\\u001b[2mluxonis_lightning.py\u001b[0m\u001b]8;;\u001b\\\u001b[2m:\u001b[0m\u001b]8;id=15996;file:///opt/conda/lib/python3.11/site-packages/luxonis_train/models/luxonis_lightning.py#915\u001b\\\u001b[2m915\u001b[0m\u001b]8;;\u001b\\\n"
      ]
     },
     "metadata": {},
     "output_type": "display_data"
    },
    {
     "data": {
      "text/html": [
       "<pre style=\"white-space:pre;overflow-x:auto;line-height:normal;font-family:Menlo,'DejaVu Sans Mono',consolas,'Courier New',monospace\"><span style=\"color: #800080; text-decoration-color: #800080; font-weight: bold\">────────────────────────────────────────────────────── </span>Test<span style=\"color: #800080; text-decoration-color: #800080; font-weight: bold\"> ───────────────────────────────────────────────────────</span>\n",
       "</pre>\n"
      ],
      "text/plain": [
       "\u001b[1;35m────────────────────────────────────────────────────── \u001b[0mTest\u001b[1;35m ───────────────────────────────────────────────────────\u001b[0m\n"
      ]
     },
     "metadata": {},
     "output_type": "display_data"
    },
    {
     "data": {
      "text/html": [
       "<pre style=\"white-space:pre;overflow-x:auto;line-height:normal;font-family:Menlo,'DejaVu Sans Mono',consolas,'Courier New',monospace\"><span style=\"color: #800080; text-decoration-color: #800080; font-weight: bold\">Loss:</span> <span style=\"color: #c0c0c0; text-decoration-color: #c0c0c0; font-weight: bold\">1.4114233255386353</span>\n",
       "</pre>\n"
      ],
      "text/plain": [
       "\u001b[1;35mLoss:\u001b[0m \u001b[1;37m1.4114233255386353\u001b[0m\n"
      ]
     },
     "metadata": {},
     "output_type": "display_data"
    },
    {
     "data": {
      "text/html": [
       "<pre style=\"white-space:pre;overflow-x:auto;line-height:normal;font-family:Menlo,'DejaVu Sans Mono',consolas,'Courier New',monospace\"><span style=\"color: #800080; text-decoration-color: #800080; font-weight: bold\">Metrics:</span>\n",
       "</pre>\n"
      ],
      "text/plain": [
       "\u001b[1;35mMetrics:\u001b[0m\n"
      ]
     },
     "metadata": {},
     "output_type": "display_data"
    },
    {
     "data": {
      "text/html": [
       "<pre style=\"white-space:pre;overflow-x:auto;line-height:normal;font-family:Menlo,'DejaVu Sans Mono',consolas,'Courier New',monospace\"><span style=\"font-style: italic\">       detection_head       </span>\n",
       "┏━━━━━━━━━━━━━━━┳━━━━━━━━━━┓\n",
       "┃<span style=\"color: #800080; text-decoration-color: #800080; font-weight: bold\"> Name          </span>┃<span style=\"color: #800080; text-decoration-color: #800080; font-weight: bold\"> Value    </span>┃\n",
       "┡━━━━━━━━━━━━━━━╇━━━━━━━━━━┩\n",
       "│<span style=\"color: #800080; text-decoration-color: #800080\"> detection_map </span>│<span style=\"color: #c0c0c0; text-decoration-color: #c0c0c0\"> 0.30728  </span>│\n",
       "│<span style=\"color: #800080; text-decoration-color: #800080\"> map_50        </span>│<span style=\"color: #c0c0c0; text-decoration-color: #c0c0c0\"> 0.50219  </span>│\n",
       "│<span style=\"color: #800080; text-decoration-color: #800080\"> map_75        </span>│<span style=\"color: #c0c0c0; text-decoration-color: #c0c0c0\"> 0.27153  </span>│\n",
       "│<span style=\"color: #800080; text-decoration-color: #800080\"> map_small     </span>│<span style=\"color: #c0c0c0; text-decoration-color: #c0c0c0\"> -1.00000 </span>│\n",
       "│<span style=\"color: #800080; text-decoration-color: #800080\"> map_medium    </span>│<span style=\"color: #c0c0c0; text-decoration-color: #c0c0c0\"> -1.00000 </span>│\n",
       "│<span style=\"color: #800080; text-decoration-color: #800080\"> map_large     </span>│<span style=\"color: #c0c0c0; text-decoration-color: #c0c0c0\"> 0.32917  </span>│\n",
       "│<span style=\"color: #800080; text-decoration-color: #800080\"> mar_1         </span>│<span style=\"color: #c0c0c0; text-decoration-color: #c0c0c0\"> 0.34167  </span>│\n",
       "│<span style=\"color: #800080; text-decoration-color: #800080\"> mar_10        </span>│<span style=\"color: #c0c0c0; text-decoration-color: #c0c0c0\"> 0.42500  </span>│\n",
       "│<span style=\"color: #800080; text-decoration-color: #800080\"> mar_100       </span>│<span style=\"color: #c0c0c0; text-decoration-color: #c0c0c0\"> 0.42500  </span>│\n",
       "│<span style=\"color: #800080; text-decoration-color: #800080\"> mar_small     </span>│<span style=\"color: #c0c0c0; text-decoration-color: #c0c0c0\"> -1.00000 </span>│\n",
       "│<span style=\"color: #800080; text-decoration-color: #800080\"> mar_medium    </span>│<span style=\"color: #c0c0c0; text-decoration-color: #c0c0c0\"> -1.00000 </span>│\n",
       "│<span style=\"color: #800080; text-decoration-color: #800080\"> mar_large     </span>│<span style=\"color: #c0c0c0; text-decoration-color: #c0c0c0\"> 0.42500  </span>│\n",
       "│<span style=\"color: #800080; text-decoration-color: #800080\"> f1_small      </span>│<span style=\"color: #c0c0c0; text-decoration-color: #c0c0c0\"> -1.00000 </span>│\n",
       "│<span style=\"color: #800080; text-decoration-color: #800080\"> f1_medium     </span>│<span style=\"color: #c0c0c0; text-decoration-color: #c0c0c0\"> -1.00000 </span>│\n",
       "│<span style=\"color: #800080; text-decoration-color: #800080\"> f1_large      </span>│<span style=\"color: #c0c0c0; text-decoration-color: #c0c0c0\"> 0.37099  </span>│\n",
       "└───────────────┴──────────┘\n",
       "</pre>\n"
      ],
      "text/plain": [
       "\u001b[3m       detection_head       \u001b[0m\n",
       "┏━━━━━━━━━━━━━━━┳━━━━━━━━━━┓\n",
       "┃\u001b[1;35m \u001b[0m\u001b[1;35mName         \u001b[0m\u001b[1;35m \u001b[0m┃\u001b[1;35m \u001b[0m\u001b[1;35mValue   \u001b[0m\u001b[1;35m \u001b[0m┃\n",
       "┡━━━━━━━━━━━━━━━╇━━━━━━━━━━┩\n",
       "│\u001b[35m \u001b[0m\u001b[35mdetection_map\u001b[0m\u001b[35m \u001b[0m│\u001b[37m \u001b[0m\u001b[37m0.30728 \u001b[0m\u001b[37m \u001b[0m│\n",
       "│\u001b[35m \u001b[0m\u001b[35mmap_50       \u001b[0m\u001b[35m \u001b[0m│\u001b[37m \u001b[0m\u001b[37m0.50219 \u001b[0m\u001b[37m \u001b[0m│\n",
       "│\u001b[35m \u001b[0m\u001b[35mmap_75       \u001b[0m\u001b[35m \u001b[0m│\u001b[37m \u001b[0m\u001b[37m0.27153 \u001b[0m\u001b[37m \u001b[0m│\n",
       "│\u001b[35m \u001b[0m\u001b[35mmap_small    \u001b[0m\u001b[35m \u001b[0m│\u001b[37m \u001b[0m\u001b[37m-1.00000\u001b[0m\u001b[37m \u001b[0m│\n",
       "│\u001b[35m \u001b[0m\u001b[35mmap_medium   \u001b[0m\u001b[35m \u001b[0m│\u001b[37m \u001b[0m\u001b[37m-1.00000\u001b[0m\u001b[37m \u001b[0m│\n",
       "│\u001b[35m \u001b[0m\u001b[35mmap_large    \u001b[0m\u001b[35m \u001b[0m│\u001b[37m \u001b[0m\u001b[37m0.32917 \u001b[0m\u001b[37m \u001b[0m│\n",
       "│\u001b[35m \u001b[0m\u001b[35mmar_1        \u001b[0m\u001b[35m \u001b[0m│\u001b[37m \u001b[0m\u001b[37m0.34167 \u001b[0m\u001b[37m \u001b[0m│\n",
       "│\u001b[35m \u001b[0m\u001b[35mmar_10       \u001b[0m\u001b[35m \u001b[0m│\u001b[37m \u001b[0m\u001b[37m0.42500 \u001b[0m\u001b[37m \u001b[0m│\n",
       "│\u001b[35m \u001b[0m\u001b[35mmar_100      \u001b[0m\u001b[35m \u001b[0m│\u001b[37m \u001b[0m\u001b[37m0.42500 \u001b[0m\u001b[37m \u001b[0m│\n",
       "│\u001b[35m \u001b[0m\u001b[35mmar_small    \u001b[0m\u001b[35m \u001b[0m│\u001b[37m \u001b[0m\u001b[37m-1.00000\u001b[0m\u001b[37m \u001b[0m│\n",
       "│\u001b[35m \u001b[0m\u001b[35mmar_medium   \u001b[0m\u001b[35m \u001b[0m│\u001b[37m \u001b[0m\u001b[37m-1.00000\u001b[0m\u001b[37m \u001b[0m│\n",
       "│\u001b[35m \u001b[0m\u001b[35mmar_large    \u001b[0m\u001b[35m \u001b[0m│\u001b[37m \u001b[0m\u001b[37m0.42500 \u001b[0m\u001b[37m \u001b[0m│\n",
       "│\u001b[35m \u001b[0m\u001b[35mf1_small     \u001b[0m\u001b[35m \u001b[0m│\u001b[37m \u001b[0m\u001b[37m-1.00000\u001b[0m\u001b[37m \u001b[0m│\n",
       "│\u001b[35m \u001b[0m\u001b[35mf1_medium    \u001b[0m\u001b[35m \u001b[0m│\u001b[37m \u001b[0m\u001b[37m-1.00000\u001b[0m\u001b[37m \u001b[0m│\n",
       "│\u001b[35m \u001b[0m\u001b[35mf1_large     \u001b[0m\u001b[35m \u001b[0m│\u001b[37m \u001b[0m\u001b[37m0.37099 \u001b[0m\u001b[37m \u001b[0m│\n",
       "└───────────────┴──────────┘\n"
      ]
     },
     "metadata": {},
     "output_type": "display_data"
    },
    {
     "data": {
      "text/html": [
       "<pre style=\"white-space:pre;overflow-x:auto;line-height:normal;font-family:Menlo,'DejaVu Sans Mono',consolas,'Courier New',monospace\"><span style=\"color: #800080; text-decoration-color: #800080; font-weight: bold\">───────────────────────────────────────────────────────────────────────────────────────────────────────────────────</span>\n",
       "</pre>\n"
      ],
      "text/plain": [
       "\u001b[1;35m───────────────────────────────────────────────────────────────────────────────────────────────────────────────────\u001b[0m\n"
      ]
     },
     "metadata": {},
     "output_type": "display_data"
    },
    {
     "data": {
      "text/html": [
       "<pre style=\"white-space:pre;overflow-x:auto;line-height:normal;font-family:Menlo,'DejaVu Sans Mono',consolas,'Courier New',monospace\"><span style=\"color: #008000; text-decoration-color: #008000\">INFO    </span> Test main metric <span style=\"font-weight: bold\">(</span>detection_head/detection_map<span style=\"font-weight: bold\">)</span>: <span style=\"color: #008080; text-decoration-color: #008080; font-weight: bold\">0.3073</span>                           <a href=\"file:///opt/conda/lib/python3.11/site-packages/luxonis_train/models/luxonis_lightning.py\" target=\"_blank\"><span style=\"color: #7f7f7f; text-decoration-color: #7f7f7f\">luxonis_lightning.py</span></a><span style=\"color: #7f7f7f; text-decoration-color: #7f7f7f\">:</span><a href=\"file:///opt/conda/lib/python3.11/site-packages/luxonis_train/models/luxonis_lightning.py#924\" target=\"_blank\"><span style=\"color: #7f7f7f; text-decoration-color: #7f7f7f\">924</span></a>\n",
       "</pre>\n"
      ],
      "text/plain": [
       "\u001b[32mINFO    \u001b[0m Test main metric \u001b[1m(\u001b[0mdetection_head/detection_map\u001b[1m)\u001b[0m: \u001b[1;36m0.3073\u001b[0m                           \u001b]8;id=988047;file:///opt/conda/lib/python3.11/site-packages/luxonis_train/models/luxonis_lightning.py\u001b\\\u001b[2mluxonis_lightning.py\u001b[0m\u001b]8;;\u001b\\\u001b[2m:\u001b[0m\u001b]8;id=362488;file:///opt/conda/lib/python3.11/site-packages/luxonis_train/models/luxonis_lightning.py#924\u001b\\\u001b[2m924\u001b[0m\u001b]8;;\u001b\\\n"
      ]
     },
     "metadata": {},
     "output_type": "display_data"
    },
    {
     "data": {
      "text/html": [
       "<pre style=\"white-space:pre;overflow-x:auto;line-height:normal;font-family:Menlo,'DejaVu Sans Mono',consolas,'Courier New',monospace\">┏━━━━━━━━━━━━━━━━━━━━━━━━━━━━━━━━━━━━━━━━━━━━━━━┳━━━━━━━━━━━━━━━━━━━━━━━━━━━━━━━━━━━━━━━━━━━━━━━┓\n",
       "┃<span style=\"font-weight: bold\">                  Test metric                  </span>┃<span style=\"font-weight: bold\">                 DataLoader 0                  </span>┃\n",
       "┡━━━━━━━━━━━━━━━━━━━━━━━━━━━━━━━━━━━━━━━━━━━━━━━╇━━━━━━━━━━━━━━━━━━━━━━━━━━━━━━━━━━━━━━━━━━━━━━━┩\n",
       "│<span style=\"color: #008080; text-decoration-color: #008080\">                   test/loss                   </span>│<span style=\"color: #800080; text-decoration-color: #800080\">              1.4114233255386353               </span>│\n",
       "│<span style=\"color: #008080; text-decoration-color: #008080\">    test/loss/detection_head/detection_loss    </span>│<span style=\"color: #800080; text-decoration-color: #800080\">              1.4114233255386353               </span>│\n",
       "│<span style=\"color: #008080; text-decoration-color: #008080\"> test/loss/detection_head/detection_loss/class </span>│<span style=\"color: #800080; text-decoration-color: #800080\">              0.9030523896217346               </span>│\n",
       "│<span style=\"color: #008080; text-decoration-color: #008080\">  test/loss/detection_head/detection_loss/iou  </span>│<span style=\"color: #800080; text-decoration-color: #800080\">              0.20334835350513458              </span>│\n",
       "│<span style=\"color: #008080; text-decoration-color: #008080\">   test/metric/detection_head/detection_map    </span>│<span style=\"color: #800080; text-decoration-color: #800080\">              0.30728429555892944              </span>│\n",
       "│<span style=\"color: #008080; text-decoration-color: #008080\">      test/metric/detection_head/f1_large      </span>│<span style=\"color: #800080; text-decoration-color: #800080\">              0.3709937036037445               </span>│\n",
       "│<span style=\"color: #008080; text-decoration-color: #008080\">     test/metric/detection_head/f1_medium      </span>│<span style=\"color: #800080; text-decoration-color: #800080\">                     -1.0                      </span>│\n",
       "│<span style=\"color: #008080; text-decoration-color: #008080\">      test/metric/detection_head/f1_small      </span>│<span style=\"color: #800080; text-decoration-color: #800080\">                     -1.0                      </span>│\n",
       "│<span style=\"color: #008080; text-decoration-color: #008080\">       test/metric/detection_head/map_50       </span>│<span style=\"color: #800080; text-decoration-color: #800080\">              0.5021923780441284               </span>│\n",
       "│<span style=\"color: #008080; text-decoration-color: #008080\">       test/metric/detection_head/map_75       </span>│<span style=\"color: #800080; text-decoration-color: #800080\">              0.27153465151786804              </span>│\n",
       "│<span style=\"color: #008080; text-decoration-color: #008080\">     test/metric/detection_head/map_large      </span>│<span style=\"color: #800080; text-decoration-color: #800080\">              0.3291654884815216               </span>│\n",
       "│<span style=\"color: #008080; text-decoration-color: #008080\">     test/metric/detection_head/map_medium     </span>│<span style=\"color: #800080; text-decoration-color: #800080\">                     -1.0                      </span>│\n",
       "│<span style=\"color: #008080; text-decoration-color: #008080\">     test/metric/detection_head/map_small      </span>│<span style=\"color: #800080; text-decoration-color: #800080\">                     -1.0                      </span>│\n",
       "│<span style=\"color: #008080; text-decoration-color: #008080\">       test/metric/detection_head/mar_1        </span>│<span style=\"color: #800080; text-decoration-color: #800080\">              0.34166666865348816              </span>│\n",
       "│<span style=\"color: #008080; text-decoration-color: #008080\">       test/metric/detection_head/mar_10       </span>│<span style=\"color: #800080; text-decoration-color: #800080\">              0.42500001192092896              </span>│\n",
       "│<span style=\"color: #008080; text-decoration-color: #008080\">      test/metric/detection_head/mar_100       </span>│<span style=\"color: #800080; text-decoration-color: #800080\">              0.42500001192092896              </span>│\n",
       "│<span style=\"color: #008080; text-decoration-color: #008080\">     test/metric/detection_head/mar_large      </span>│<span style=\"color: #800080; text-decoration-color: #800080\">              0.42500001192092896              </span>│\n",
       "│<span style=\"color: #008080; text-decoration-color: #008080\">     test/metric/detection_head/mar_medium     </span>│<span style=\"color: #800080; text-decoration-color: #800080\">                     -1.0                      </span>│\n",
       "│<span style=\"color: #008080; text-decoration-color: #008080\">     test/metric/detection_head/mar_small      </span>│<span style=\"color: #800080; text-decoration-color: #800080\">                     -1.0                      </span>│\n",
       "└───────────────────────────────────────────────┴───────────────────────────────────────────────┘\n",
       "</pre>\n"
      ],
      "text/plain": [
       "┏━━━━━━━━━━━━━━━━━━━━━━━━━━━━━━━━━━━━━━━━━━━━━━━┳━━━━━━━━━━━━━━━━━━━━━━━━━━━━━━━━━━━━━━━━━━━━━━━┓\n",
       "┃\u001b[1m \u001b[0m\u001b[1m                 Test metric                 \u001b[0m\u001b[1m \u001b[0m┃\u001b[1m \u001b[0m\u001b[1m                DataLoader 0                 \u001b[0m\u001b[1m \u001b[0m┃\n",
       "┡━━━━━━━━━━━━━━━━━━━━━━━━━━━━━━━━━━━━━━━━━━━━━━━╇━━━━━━━━━━━━━━━━━━━━━━━━━━━━━━━━━━━━━━━━━━━━━━━┩\n",
       "│\u001b[36m \u001b[0m\u001b[36m                  test/loss                  \u001b[0m\u001b[36m \u001b[0m│\u001b[35m \u001b[0m\u001b[35m             1.4114233255386353              \u001b[0m\u001b[35m \u001b[0m│\n",
       "│\u001b[36m \u001b[0m\u001b[36m   test/loss/detection_head/detection_loss   \u001b[0m\u001b[36m \u001b[0m│\u001b[35m \u001b[0m\u001b[35m             1.4114233255386353              \u001b[0m\u001b[35m \u001b[0m│\n",
       "│\u001b[36m \u001b[0m\u001b[36mtest/loss/detection_head/detection_loss/class\u001b[0m\u001b[36m \u001b[0m│\u001b[35m \u001b[0m\u001b[35m             0.9030523896217346              \u001b[0m\u001b[35m \u001b[0m│\n",
       "│\u001b[36m \u001b[0m\u001b[36m test/loss/detection_head/detection_loss/iou \u001b[0m\u001b[36m \u001b[0m│\u001b[35m \u001b[0m\u001b[35m             0.20334835350513458             \u001b[0m\u001b[35m \u001b[0m│\n",
       "│\u001b[36m \u001b[0m\u001b[36m  test/metric/detection_head/detection_map   \u001b[0m\u001b[36m \u001b[0m│\u001b[35m \u001b[0m\u001b[35m             0.30728429555892944             \u001b[0m\u001b[35m \u001b[0m│\n",
       "│\u001b[36m \u001b[0m\u001b[36m     test/metric/detection_head/f1_large     \u001b[0m\u001b[36m \u001b[0m│\u001b[35m \u001b[0m\u001b[35m             0.3709937036037445              \u001b[0m\u001b[35m \u001b[0m│\n",
       "│\u001b[36m \u001b[0m\u001b[36m    test/metric/detection_head/f1_medium     \u001b[0m\u001b[36m \u001b[0m│\u001b[35m \u001b[0m\u001b[35m                    -1.0                     \u001b[0m\u001b[35m \u001b[0m│\n",
       "│\u001b[36m \u001b[0m\u001b[36m     test/metric/detection_head/f1_small     \u001b[0m\u001b[36m \u001b[0m│\u001b[35m \u001b[0m\u001b[35m                    -1.0                     \u001b[0m\u001b[35m \u001b[0m│\n",
       "│\u001b[36m \u001b[0m\u001b[36m      test/metric/detection_head/map_50      \u001b[0m\u001b[36m \u001b[0m│\u001b[35m \u001b[0m\u001b[35m             0.5021923780441284              \u001b[0m\u001b[35m \u001b[0m│\n",
       "│\u001b[36m \u001b[0m\u001b[36m      test/metric/detection_head/map_75      \u001b[0m\u001b[36m \u001b[0m│\u001b[35m \u001b[0m\u001b[35m             0.27153465151786804             \u001b[0m\u001b[35m \u001b[0m│\n",
       "│\u001b[36m \u001b[0m\u001b[36m    test/metric/detection_head/map_large     \u001b[0m\u001b[36m \u001b[0m│\u001b[35m \u001b[0m\u001b[35m             0.3291654884815216              \u001b[0m\u001b[35m \u001b[0m│\n",
       "│\u001b[36m \u001b[0m\u001b[36m    test/metric/detection_head/map_medium    \u001b[0m\u001b[36m \u001b[0m│\u001b[35m \u001b[0m\u001b[35m                    -1.0                     \u001b[0m\u001b[35m \u001b[0m│\n",
       "│\u001b[36m \u001b[0m\u001b[36m    test/metric/detection_head/map_small     \u001b[0m\u001b[36m \u001b[0m│\u001b[35m \u001b[0m\u001b[35m                    -1.0                     \u001b[0m\u001b[35m \u001b[0m│\n",
       "│\u001b[36m \u001b[0m\u001b[36m      test/metric/detection_head/mar_1       \u001b[0m\u001b[36m \u001b[0m│\u001b[35m \u001b[0m\u001b[35m             0.34166666865348816             \u001b[0m\u001b[35m \u001b[0m│\n",
       "│\u001b[36m \u001b[0m\u001b[36m      test/metric/detection_head/mar_10      \u001b[0m\u001b[36m \u001b[0m│\u001b[35m \u001b[0m\u001b[35m             0.42500001192092896             \u001b[0m\u001b[35m \u001b[0m│\n",
       "│\u001b[36m \u001b[0m\u001b[36m     test/metric/detection_head/mar_100      \u001b[0m\u001b[36m \u001b[0m│\u001b[35m \u001b[0m\u001b[35m             0.42500001192092896             \u001b[0m\u001b[35m \u001b[0m│\n",
       "│\u001b[36m \u001b[0m\u001b[36m    test/metric/detection_head/mar_large     \u001b[0m\u001b[36m \u001b[0m│\u001b[35m \u001b[0m\u001b[35m             0.42500001192092896             \u001b[0m\u001b[35m \u001b[0m│\n",
       "│\u001b[36m \u001b[0m\u001b[36m    test/metric/detection_head/mar_medium    \u001b[0m\u001b[36m \u001b[0m│\u001b[35m \u001b[0m\u001b[35m                    -1.0                     \u001b[0m\u001b[35m \u001b[0m│\n",
       "│\u001b[36m \u001b[0m\u001b[36m    test/metric/detection_head/mar_small     \u001b[0m\u001b[36m \u001b[0m│\u001b[35m \u001b[0m\u001b[35m                    -1.0                     \u001b[0m\u001b[35m \u001b[0m│\n",
       "└───────────────────────────────────────────────┴───────────────────────────────────────────────┘\n"
      ]
     },
     "metadata": {},
     "output_type": "display_data"
    },
    {
     "data": {
      "text/html": [
       "<pre style=\"white-space:pre;overflow-x:auto;line-height:normal;font-family:Menlo,'DejaVu Sans Mono',consolas,'Courier New',monospace\"></pre>\n"
      ],
      "text/plain": []
     },
     "metadata": {},
     "output_type": "display_data"
    },
    {
     "data": {
      "text/html": [
       "<pre style=\"white-space:pre;overflow-x:auto;line-height:normal;font-family:Menlo,'DejaVu Sans Mono',consolas,'Courier New',monospace\">\n",
       "</pre>\n"
      ],
      "text/plain": [
       "\n"
      ]
     },
     "metadata": {},
     "output_type": "display_data"
    }
   ],
   "source": [
    "weights = luxonis_model.get_min_loss_checkpoint_path() # gets checkpoint where validation loss was the lowest\n",
    "# weights = luxonis_model.get_best_metric_checkpoint_path() # gets checkpoint where validation metric was the highest\n",
    "\n",
    "metrics = luxonis_model.test(view=\"test\", weights=weights)"
   ]
  },
  {
   "cell_type": "markdown",
   "metadata": {},
   "source": [
    "### 🧠 Infer"
   ]
  },
  {
   "cell_type": "markdown",
   "metadata": {},
   "source": [
    "Usually, we also want to check the qualitative performance of our model, i.e., how well it visually predicts on the test images. This is called inference, and we can perform it either on one of the views (e.g., test) or a random image, directory of images, or whole video (for more details, refer to the [docs](https://github.com/luxonis/luxonis-train/tree/main?tab=readme-ov-file#inference)). In our case, we'll infer or test images."
   ]
  },
  {
   "cell_type": "code",
   "execution_count": 12,
   "metadata": {},
   "outputs": [
    {
     "data": {
      "text/html": [
       "<pre style=\"white-space:pre;overflow-x:auto;line-height:normal;font-family:Menlo,'DejaVu Sans Mono',consolas,'Courier New',monospace\"><span style=\"color: #008000; text-decoration-color: #008000\">INFO    </span> Loaded checkpoint from                                                            <a href=\"file:///opt/conda/lib/python3.11/site-packages/luxonis_train/models/luxonis_lightning.py\" target=\"_blank\"><span style=\"color: #7f7f7f; text-decoration-color: #7f7f7f\">luxonis_lightning.py</span></a><span style=\"color: #7f7f7f; text-decoration-color: #7f7f7f\">:</span><a href=\"file:///opt/conda/lib/python3.11/site-packages/luxonis_train/models/luxonis_lightning.py#860\" target=\"_blank\"><span style=\"color: #7f7f7f; text-decoration-color: #7f7f7f\">860</span></a>\n",
       "         <span style=\"color: #800080; text-decoration-color: #800080\">/home/jovyan/output/19-rose-vulture/min_val_loss/</span><span style=\"color: #ff00ff; text-decoration-color: #ff00ff\">cat_dog_detection_model_loss</span>=<span style=\"color: #008080; text-decoration-color: #008080; font-weight: bold\">1.</span>3 <span style=\"color: #7f7f7f; text-decoration-color: #7f7f7f\">                        </span>\n",
       "         451_179.ckpt.                                                                     <span style=\"color: #7f7f7f; text-decoration-color: #7f7f7f\">                        </span>\n",
       "</pre>\n"
      ],
      "text/plain": [
       "\u001b[32mINFO    \u001b[0m Loaded checkpoint from                                                            \u001b]8;id=54625;file:///opt/conda/lib/python3.11/site-packages/luxonis_train/models/luxonis_lightning.py\u001b\\\u001b[2mluxonis_lightning.py\u001b[0m\u001b]8;;\u001b\\\u001b[2m:\u001b[0m\u001b]8;id=28220;file:///opt/conda/lib/python3.11/site-packages/luxonis_train/models/luxonis_lightning.py#860\u001b\\\u001b[2m860\u001b[0m\u001b]8;;\u001b\\\n",
       "         \u001b[35m/home/jovyan/output/19-rose-vulture/min_val_loss/\u001b[0m\u001b[95mcat_dog_detection_model_loss\u001b[0m=\u001b[1;36m1\u001b[0m\u001b[1;36m.\u001b[0m3 \u001b[2m                        \u001b[0m\n",
       "         451_179.ckpt.                                                                     \u001b[2m                        \u001b[0m\n"
      ]
     },
     "metadata": {},
     "output_type": "display_data"
    },
    {
     "data": {
      "text/html": [
       "<pre style=\"white-space:pre;overflow-x:auto;line-height:normal;font-family:Menlo,'DejaVu Sans Mono',consolas,'Courier New',monospace\"><span style=\"color: #800000; text-decoration-color: #800000\">╭─────────────────────────────── </span><span style=\"color: #800000; text-decoration-color: #800000; font-weight: bold\">Traceback </span><span style=\"color: #bf7f7f; text-decoration-color: #bf7f7f; font-weight: bold\">(most recent call last)</span><span style=\"color: #800000; text-decoration-color: #800000\"> ────────────────────────────────╮</span>\n",
       "<span style=\"color: #800000; text-decoration-color: #800000\">│</span> in <span style=\"color: #00ff00; text-decoration-color: #00ff00\">&lt;module&gt;</span>:<span style=\"color: #0000ff; text-decoration-color: #0000ff\">1</span>                                                                                    <span style=\"color: #800000; text-decoration-color: #800000\">│</span>\n",
       "<span style=\"color: #800000; text-decoration-color: #800000\">│</span>                                                                                                  <span style=\"color: #800000; text-decoration-color: #800000\">│</span>\n",
       "<span style=\"color: #800000; text-decoration-color: #800000\">│</span> <span style=\"color: #800000; text-decoration-color: #800000\">❱ </span>1 luxonis_model.infer(                                                                         <span style=\"color: #800000; text-decoration-color: #800000\">│</span>\n",
       "<span style=\"color: #800000; text-decoration-color: #800000\">│</span>   <span style=\"color: #7f7f7f; text-decoration-color: #7f7f7f\">2 </span><span style=\"color: #7f7f7f; text-decoration-color: #7f7f7f\">│   </span>weights=weights,                                                                         <span style=\"color: #800000; text-decoration-color: #800000\">│</span>\n",
       "<span style=\"color: #800000; text-decoration-color: #800000\">│</span>   <span style=\"color: #7f7f7f; text-decoration-color: #7f7f7f\">3 </span><span style=\"color: #7f7f7f; text-decoration-color: #7f7f7f\">│   </span>view=<span style=\"color: #808000; text-decoration-color: #808000\">\"test\"</span>                                                                              <span style=\"color: #800000; text-decoration-color: #800000\">│</span>\n",
       "<span style=\"color: #800000; text-decoration-color: #800000\">│</span>   <span style=\"color: #7f7f7f; text-decoration-color: #7f7f7f\">4 </span>)                                                                                            <span style=\"color: #800000; text-decoration-color: #800000\">│</span>\n",
       "<span style=\"color: #800000; text-decoration-color: #800000\">│</span>                                                                                                  <span style=\"color: #800000; text-decoration-color: #800000\">│</span>\n",
       "<span style=\"color: #800000; text-decoration-color: #800000\">│</span> <span style=\"color: #bfbf7f; text-decoration-color: #bfbf7f\">/opt/conda/lib/python3.11/site-packages/luxonis_train/core/</span><span style=\"color: #808000; text-decoration-color: #808000; font-weight: bold\">core.py</span>:<span style=\"color: #0000ff; text-decoration-color: #0000ff\">493</span> in <span style=\"color: #00ff00; text-decoration-color: #00ff00\">infer</span>                  <span style=\"color: #800000; text-decoration-color: #800000\">│</span>\n",
       "<span style=\"color: #800000; text-decoration-color: #800000\">│</span>                                                                                                  <span style=\"color: #800000; text-decoration-color: #800000\">│</span>\n",
       "<span style=\"color: #800000; text-decoration-color: #800000\">│</span>   <span style=\"color: #7f7f7f; text-decoration-color: #7f7f7f\">490 </span><span style=\"color: #7f7f7f; text-decoration-color: #7f7f7f\">│   │   │   │   │   │   </span><span style=\"color: #808000; text-decoration-color: #808000\">f\"Source path {</span>source_path<span style=\"color: #808000; text-decoration-color: #808000\">} is not a valid file or directory.\"</span>     <span style=\"color: #800000; text-decoration-color: #800000\">│</span>\n",
       "<span style=\"color: #800000; text-decoration-color: #800000\">│</span>   <span style=\"color: #7f7f7f; text-decoration-color: #7f7f7f\">491 </span><span style=\"color: #7f7f7f; text-decoration-color: #7f7f7f\">│   │   │   │   │   </span>)                                                                      <span style=\"color: #800000; text-decoration-color: #800000\">│</span>\n",
       "<span style=\"color: #800000; text-decoration-color: #800000\">│</span>   <span style=\"color: #7f7f7f; text-decoration-color: #7f7f7f\">492 </span><span style=\"color: #7f7f7f; text-decoration-color: #7f7f7f\">│   │   │   </span><span style=\"color: #0000ff; text-decoration-color: #0000ff\">else</span>:                                                                          <span style=\"color: #800000; text-decoration-color: #800000\">│</span>\n",
       "<span style=\"color: #800000; text-decoration-color: #800000\">│</span> <span style=\"color: #800000; text-decoration-color: #800000\">❱ </span>493 <span style=\"color: #7f7f7f; text-decoration-color: #7f7f7f\">│   │   │   │   </span>infer_from_dataset(<span style=\"color: #00ffff; text-decoration-color: #00ffff\">self</span>, view, save_dir)                                   <span style=\"color: #800000; text-decoration-color: #800000\">│</span>\n",
       "<span style=\"color: #800000; text-decoration-color: #800000\">│</span>   <span style=\"color: #7f7f7f; text-decoration-color: #7f7f7f\">494 </span><span style=\"color: #7f7f7f; text-decoration-color: #7f7f7f\">│   </span>                                                                                       <span style=\"color: #800000; text-decoration-color: #800000\">│</span>\n",
       "<span style=\"color: #800000; text-decoration-color: #800000\">│</span>   <span style=\"color: #7f7f7f; text-decoration-color: #7f7f7f\">495 </span><span style=\"color: #7f7f7f; text-decoration-color: #7f7f7f\">│   </span><span style=\"color: #0000ff; text-decoration-color: #0000ff\">def</span> <span style=\"color: #00ff00; text-decoration-color: #00ff00\">tune</span>(<span style=\"color: #00ffff; text-decoration-color: #00ffff\">self</span>) -&gt; <span style=\"color: #0000ff; text-decoration-color: #0000ff\">None</span>:                                                                <span style=\"color: #800000; text-decoration-color: #800000\">│</span>\n",
       "<span style=\"color: #800000; text-decoration-color: #800000\">│</span>   <span style=\"color: #7f7f7f; text-decoration-color: #7f7f7f\">496 </span><span style=\"color: #bfbfbf; text-decoration-color: #bfbfbf\">│   │   </span><span style=\"color: #808000; text-decoration-color: #808000\">\"\"\"Runs Optuna tuning of hyperparameters.\"\"\"</span>                                       <span style=\"color: #800000; text-decoration-color: #800000\">│</span>\n",
       "<span style=\"color: #800000; text-decoration-color: #800000\">│</span>                                                                                                  <span style=\"color: #800000; text-decoration-color: #800000\">│</span>\n",
       "<span style=\"color: #800000; text-decoration-color: #800000\">│</span> <span style=\"color: #bfbf7f; text-decoration-color: #bfbf7f\">/opt/conda/lib/python3.11/site-packages/luxonis_train/core/utils/</span><span style=\"color: #808000; text-decoration-color: #808000; font-weight: bold\">infer_utils.py</span>:<span style=\"color: #0000ff; text-decoration-color: #0000ff\">183</span> in           <span style=\"color: #800000; text-decoration-color: #800000\">│</span>\n",
       "<span style=\"color: #800000; text-decoration-color: #800000\">│</span> <span style=\"color: #00ff00; text-decoration-color: #00ff00\">infer_from_dataset</span>                                                                               <span style=\"color: #800000; text-decoration-color: #800000\">│</span>\n",
       "<span style=\"color: #800000; text-decoration-color: #800000\">│</span>                                                                                                  <span style=\"color: #800000; text-decoration-color: #800000\">│</span>\n",
       "<span style=\"color: #800000; text-decoration-color: #800000\">│</span>   <span style=\"color: #7f7f7f; text-decoration-color: #7f7f7f\">180 </span><span style=\"color: #7f7f7f; text-decoration-color: #7f7f7f\">│   │   </span>                                                                                   <span style=\"color: #800000; text-decoration-color: #800000\">│</span>\n",
       "<span style=\"color: #800000; text-decoration-color: #800000\">│</span>   <span style=\"color: #7f7f7f; text-decoration-color: #7f7f7f\">181 </span><span style=\"color: #7f7f7f; text-decoration-color: #7f7f7f\">│   │   </span>images = get_denormalized_images(model.cfg, inputs)                                <span style=\"color: #800000; text-decoration-color: #800000\">│</span>\n",
       "<span style=\"color: #800000; text-decoration-color: #800000\">│</span>   <span style=\"color: #7f7f7f; text-decoration-color: #7f7f7f\">182 </span><span style=\"color: #7f7f7f; text-decoration-color: #7f7f7f\">│   │   </span>batch_size = images.shape[<span style=\"color: #0000ff; text-decoration-color: #0000ff\">0</span>]                                                       <span style=\"color: #800000; text-decoration-color: #800000\">│</span>\n",
       "<span style=\"color: #800000; text-decoration-color: #800000\">│</span> <span style=\"color: #800000; text-decoration-color: #800000\">❱ </span>183 <span style=\"color: #7f7f7f; text-decoration-color: #7f7f7f\">│   │   </span>outputs = model.lightning_module.forward(                                          <span style=\"color: #800000; text-decoration-color: #800000\">│</span>\n",
       "<span style=\"color: #800000; text-decoration-color: #800000\">│</span>   <span style=\"color: #7f7f7f; text-decoration-color: #7f7f7f\">184 </span><span style=\"color: #7f7f7f; text-decoration-color: #7f7f7f\">│   │   │   </span>inputs, labels, images=images, compute_visualizations=<span style=\"color: #0000ff; text-decoration-color: #0000ff\">True</span>                     <span style=\"color: #800000; text-decoration-color: #800000\">│</span>\n",
       "<span style=\"color: #800000; text-decoration-color: #800000\">│</span>   <span style=\"color: #7f7f7f; text-decoration-color: #7f7f7f\">185 </span><span style=\"color: #7f7f7f; text-decoration-color: #7f7f7f\">│   │   </span>)                                                                                  <span style=\"color: #800000; text-decoration-color: #800000\">│</span>\n",
       "<span style=\"color: #800000; text-decoration-color: #800000\">│</span>   <span style=\"color: #7f7f7f; text-decoration-color: #7f7f7f\">186 </span><span style=\"color: #7f7f7f; text-decoration-color: #7f7f7f\">│   │   </span>renders = process_visualizations(                                                  <span style=\"color: #800000; text-decoration-color: #800000\">│</span>\n",
       "<span style=\"color: #800000; text-decoration-color: #800000\">│</span>                                                                                                  <span style=\"color: #800000; text-decoration-color: #800000\">│</span>\n",
       "<span style=\"color: #800000; text-decoration-color: #800000\">│</span> <span style=\"color: #bfbf7f; text-decoration-color: #bfbf7f\">/opt/conda/lib/python3.11/site-packages/luxonis_train/models/</span><span style=\"color: #808000; text-decoration-color: #808000; font-weight: bold\">luxonis_lightning.py</span>:<span style=\"color: #0000ff; text-decoration-color: #0000ff\">404</span> in <span style=\"color: #00ff00; text-decoration-color: #00ff00\">forward</span> <span style=\"color: #800000; text-decoration-color: #800000\">│</span>\n",
       "<span style=\"color: #800000; text-decoration-color: #800000\">│</span>                                                                                                  <span style=\"color: #800000; text-decoration-color: #800000\">│</span>\n",
       "<span style=\"color: #800000; text-decoration-color: #800000\">│</span>   <span style=\"color: #7f7f7f; text-decoration-color: #7f7f7f\">401 </span><span style=\"color: #7f7f7f; text-decoration-color: #7f7f7f\">│   │   │   │   </span><span style=\"color: #ff00ff; text-decoration-color: #ff00ff\">and</span> labels <span style=\"color: #ff00ff; text-decoration-color: #ff00ff\">is</span> <span style=\"color: #ff00ff; text-decoration-color: #ff00ff\">not</span> <span style=\"color: #0000ff; text-decoration-color: #0000ff\">None</span>                                                     <span style=\"color: #800000; text-decoration-color: #800000\">│</span>\n",
       "<span style=\"color: #800000; text-decoration-color: #800000\">│</span>   <span style=\"color: #7f7f7f; text-decoration-color: #7f7f7f\">402 </span><span style=\"color: #7f7f7f; text-decoration-color: #7f7f7f\">│   │   │   </span>):                                                                             <span style=\"color: #800000; text-decoration-color: #800000\">│</span>\n",
       "<span style=\"color: #800000; text-decoration-color: #800000\">│</span>   <span style=\"color: #7f7f7f; text-decoration-color: #7f7f7f\">403 </span><span style=\"color: #7f7f7f; text-decoration-color: #7f7f7f\">│   │   │   │   </span><span style=\"color: #0000ff; text-decoration-color: #0000ff\">for</span> loss_name, loss <span style=\"color: #ff00ff; text-decoration-color: #ff00ff\">in</span> <span style=\"color: #00ffff; text-decoration-color: #00ffff\">self</span>.losses[node_name].items():                     <span style=\"color: #800000; text-decoration-color: #800000\">│</span>\n",
       "<span style=\"color: #800000; text-decoration-color: #800000\">│</span> <span style=\"color: #800000; text-decoration-color: #800000\">❱ </span>404 <span style=\"color: #7f7f7f; text-decoration-color: #7f7f7f\">│   │   │   │   │   </span>losses[node_name][loss_name] = loss.run(outputs, labels)               <span style=\"color: #800000; text-decoration-color: #800000\">│</span>\n",
       "<span style=\"color: #800000; text-decoration-color: #800000\">│</span>   <span style=\"color: #7f7f7f; text-decoration-color: #7f7f7f\">405 </span><span style=\"color: #7f7f7f; text-decoration-color: #7f7f7f\">│   │   │   </span>                                                                               <span style=\"color: #800000; text-decoration-color: #800000\">│</span>\n",
       "<span style=\"color: #800000; text-decoration-color: #800000\">│</span>   <span style=\"color: #7f7f7f; text-decoration-color: #7f7f7f\">406 </span><span style=\"color: #7f7f7f; text-decoration-color: #7f7f7f\">│   │   │   </span><span style=\"color: #0000ff; text-decoration-color: #0000ff\">if</span> (                                                                           <span style=\"color: #800000; text-decoration-color: #800000\">│</span>\n",
       "<span style=\"color: #800000; text-decoration-color: #800000\">│</span>   <span style=\"color: #7f7f7f; text-decoration-color: #7f7f7f\">407 </span><span style=\"color: #7f7f7f; text-decoration-color: #7f7f7f\">│   │   │   │   </span>compute_metrics                                                            <span style=\"color: #800000; text-decoration-color: #800000\">│</span>\n",
       "<span style=\"color: #800000; text-decoration-color: #800000\">│</span>                                                                                                  <span style=\"color: #800000; text-decoration-color: #800000\">│</span>\n",
       "<span style=\"color: #800000; text-decoration-color: #800000\">│</span> <span style=\"color: #bfbf7f; text-decoration-color: #bfbf7f\">/opt/conda/lib/python3.11/site-packages/luxonis_train/attached_modules/losses/</span><span style=\"color: #808000; text-decoration-color: #808000; font-weight: bold\">base_loss.py</span>:<span style=\"color: #0000ff; text-decoration-color: #0000ff\">58</span> in <span style=\"color: #800000; text-decoration-color: #800000\">│</span>\n",
       "<span style=\"color: #800000; text-decoration-color: #800000\">│</span> <span style=\"color: #00ff00; text-decoration-color: #00ff00\">run</span>                                                                                              <span style=\"color: #800000; text-decoration-color: #800000\">│</span>\n",
       "<span style=\"color: #800000; text-decoration-color: #800000\">│</span>                                                                                                  <span style=\"color: #800000; text-decoration-color: #800000\">│</span>\n",
       "<span style=\"color: #800000; text-decoration-color: #800000\">│</span>   <span style=\"color: #7f7f7f; text-decoration-color: #7f7f7f\">55 </span><span style=\"color: #bfbf7f; text-decoration-color: #bfbf7f\">│   │   </span><span style=\"color: #808000; text-decoration-color: #808000\">@raises IncompatibleException: If the inputs are not compatible</span>                     <span style=\"color: #800000; text-decoration-color: #800000\">│</span>\n",
       "<span style=\"color: #800000; text-decoration-color: #800000\">│</span>   <span style=\"color: #7f7f7f; text-decoration-color: #7f7f7f\">56 </span><span style=\"color: #bfbf7f; text-decoration-color: #bfbf7f\">│   │   │   </span><span style=\"color: #808000; text-decoration-color: #808000\">with the module.</span>                                                                <span style=\"color: #800000; text-decoration-color: #800000\">│</span>\n",
       "<span style=\"color: #800000; text-decoration-color: #800000\">│</span>   <span style=\"color: #7f7f7f; text-decoration-color: #7f7f7f\">57 </span><span style=\"color: #bfbf7f; text-decoration-color: #bfbf7f\">│   │   </span><span style=\"color: #808000; text-decoration-color: #808000\">\"\"\"</span>                                                                                 <span style=\"color: #800000; text-decoration-color: #800000\">│</span>\n",
       "<span style=\"color: #800000; text-decoration-color: #800000\">│</span> <span style=\"color: #800000; text-decoration-color: #800000\">❱ </span>58 <span style=\"color: #7f7f7f; text-decoration-color: #7f7f7f\">│   │   </span><span style=\"color: #0000ff; text-decoration-color: #0000ff\">return</span> <span style=\"color: #00ffff; text-decoration-color: #00ffff\">self</span>(*<span style=\"color: #00ffff; text-decoration-color: #00ffff\">self</span>.prepare(inputs, labels))                                          <span style=\"color: #800000; text-decoration-color: #800000\">│</span>\n",
       "<span style=\"color: #800000; text-decoration-color: #800000\">│</span>   <span style=\"color: #7f7f7f; text-decoration-color: #7f7f7f\">59 </span>                                                                                            <span style=\"color: #800000; text-decoration-color: #800000\">│</span>\n",
       "<span style=\"color: #800000; text-decoration-color: #800000\">│</span>                                                                                                  <span style=\"color: #800000; text-decoration-color: #800000\">│</span>\n",
       "<span style=\"color: #800000; text-decoration-color: #800000\">│</span> <span style=\"color: #bfbf7f; text-decoration-color: #bfbf7f\">/opt/conda/lib/python3.11/site-packages/luxonis_train/attached_modules/losses/</span><span style=\"color: #808000; text-decoration-color: #808000; font-weight: bold\">adaptive_detection</span> <span style=\"color: #800000; text-decoration-color: #800000\">│</span>\n",
       "<span style=\"color: #800000; text-decoration-color: #800000\">│</span> <span style=\"color: #808000; text-decoration-color: #808000; font-weight: bold\">_loss.py</span>:<span style=\"color: #0000ff; text-decoration-color: #0000ff\">97</span> in <span style=\"color: #00ff00; text-decoration-color: #00ff00\">prepare</span>                                                                           <span style=\"color: #800000; text-decoration-color: #800000\">│</span>\n",
       "<span style=\"color: #800000; text-decoration-color: #800000\">│</span>                                                                                                  <span style=\"color: #800000; text-decoration-color: #800000\">│</span>\n",
       "<span style=\"color: #800000; text-decoration-color: #800000\">│</span>   <span style=\"color: #7f7f7f; text-decoration-color: #7f7f7f\"> 94 </span><span style=\"color: #7f7f7f; text-decoration-color: #7f7f7f\">│   │   </span>                                                                                   <span style=\"color: #800000; text-decoration-color: #800000\">│</span>\n",
       "<span style=\"color: #800000; text-decoration-color: #800000\">│</span>   <span style=\"color: #7f7f7f; text-decoration-color: #7f7f7f\"> 95 </span><span style=\"color: #7f7f7f; text-decoration-color: #7f7f7f\">│   │   </span><span style=\"color: #00ffff; text-decoration-color: #00ffff\">self</span>._init_parameters(feats)                                                       <span style=\"color: #800000; text-decoration-color: #800000\">│</span>\n",
       "<span style=\"color: #800000; text-decoration-color: #800000\">│</span>   <span style=\"color: #7f7f7f; text-decoration-color: #7f7f7f\"> 96 </span><span style=\"color: #7f7f7f; text-decoration-color: #7f7f7f\">│   │   </span>                                                                                   <span style=\"color: #800000; text-decoration-color: #800000\">│</span>\n",
       "<span style=\"color: #800000; text-decoration-color: #800000\">│</span> <span style=\"color: #800000; text-decoration-color: #800000\">❱ </span> 97 <span style=\"color: #7f7f7f; text-decoration-color: #7f7f7f\">│   │   </span>target = <span style=\"color: #00ffff; text-decoration-color: #00ffff\">self</span>._preprocess_bbox_target(target, batch_size)                          <span style=\"color: #800000; text-decoration-color: #800000\">│</span>\n",
       "<span style=\"color: #800000; text-decoration-color: #800000\">│</span>   <span style=\"color: #7f7f7f; text-decoration-color: #7f7f7f\"> 98 </span><span style=\"color: #7f7f7f; text-decoration-color: #7f7f7f\">│   │   </span>pred_bboxes = dist2bbox(pred_distri, <span style=\"color: #00ffff; text-decoration-color: #00ffff\">self</span>.anchor_points_strided)                   <span style=\"color: #800000; text-decoration-color: #800000\">│</span>\n",
       "<span style=\"color: #800000; text-decoration-color: #800000\">│</span>   <span style=\"color: #7f7f7f; text-decoration-color: #7f7f7f\"> 99 </span><span style=\"color: #7f7f7f; text-decoration-color: #7f7f7f\">│   │   </span>                                                                                   <span style=\"color: #800000; text-decoration-color: #800000\">│</span>\n",
       "<span style=\"color: #800000; text-decoration-color: #800000\">│</span>   <span style=\"color: #7f7f7f; text-decoration-color: #7f7f7f\">100 </span><span style=\"color: #7f7f7f; text-decoration-color: #7f7f7f\">│   │   </span>gt_labels = target[:, :, :<span style=\"color: #0000ff; text-decoration-color: #0000ff\">1</span>]                                                       <span style=\"color: #800000; text-decoration-color: #800000\">│</span>\n",
       "<span style=\"color: #800000; text-decoration-color: #800000\">│</span>                                                                                                  <span style=\"color: #800000; text-decoration-color: #800000\">│</span>\n",
       "<span style=\"color: #800000; text-decoration-color: #800000\">│</span> <span style=\"color: #bfbf7f; text-decoration-color: #bfbf7f\">/opt/conda/lib/python3.11/site-packages/luxonis_train/attached_modules/losses/</span><span style=\"color: #808000; text-decoration-color: #808000; font-weight: bold\">adaptive_detection</span> <span style=\"color: #800000; text-decoration-color: #800000\">│</span>\n",
       "<span style=\"color: #800000; text-decoration-color: #800000\">│</span> <span style=\"color: #808000; text-decoration-color: #808000; font-weight: bold\">_loss.py</span>:<span style=\"color: #0000ff; text-decoration-color: #0000ff\">234</span> in <span style=\"color: #00ff00; text-decoration-color: #00ff00\">_preprocess_bbox_target</span>                                                          <span style=\"color: #800000; text-decoration-color: #800000\">│</span>\n",
       "<span style=\"color: #800000; text-decoration-color: #800000\">│</span>                                                                                                  <span style=\"color: #800000; text-decoration-color: #800000\">│</span>\n",
       "<span style=\"color: #800000; text-decoration-color: #800000\">│</span>   <span style=\"color: #7f7f7f; text-decoration-color: #7f7f7f\">231 </span><span style=\"color: #7f7f7f; text-decoration-color: #7f7f7f\">│   │   </span><span style=\"color: #0000ff; text-decoration-color: #0000ff\">for</span> <span style=\"color: #00ffff; text-decoration-color: #00ffff\">id</span>, count <span style=\"color: #ff00ff; text-decoration-color: #ff00ff\">in</span> <span style=\"color: #00ffff; text-decoration-color: #00ffff\">zip</span>(sample_ids, counts):                                          <span style=\"color: #800000; text-decoration-color: #800000\">│</span>\n",
       "<span style=\"color: #800000; text-decoration-color: #800000\">│</span>   <span style=\"color: #7f7f7f; text-decoration-color: #7f7f7f\">232 </span><span style=\"color: #7f7f7f; text-decoration-color: #7f7f7f\">│   │   │   </span>out_target[<span style=\"color: #00ffff; text-decoration-color: #00ffff\">id</span>, :count] = target[target[:, <span style=\"color: #0000ff; text-decoration-color: #0000ff\">0</span>] == <span style=\"color: #00ffff; text-decoration-color: #00ffff\">id</span>][:, <span style=\"color: #0000ff; text-decoration-color: #0000ff\">1</span>:]                     <span style=\"color: #800000; text-decoration-color: #800000\">│</span>\n",
       "<span style=\"color: #800000; text-decoration-color: #800000\">│</span>   <span style=\"color: #7f7f7f; text-decoration-color: #7f7f7f\">233 </span><span style=\"color: #7f7f7f; text-decoration-color: #7f7f7f\">│   │   </span>                                                                                   <span style=\"color: #800000; text-decoration-color: #800000\">│</span>\n",
       "<span style=\"color: #800000; text-decoration-color: #800000\">│</span> <span style=\"color: #800000; text-decoration-color: #800000\">❱ </span>234 <span style=\"color: #7f7f7f; text-decoration-color: #7f7f7f\">│   │   </span>scaled_target = out_target[:, :, <span style=\"color: #0000ff; text-decoration-color: #0000ff\">1</span>:<span style=\"color: #0000ff; text-decoration-color: #0000ff\">5</span>] * <span style=\"color: #00ffff; text-decoration-color: #00ffff\">self</span>.gt_bboxes_scale                       <span style=\"color: #800000; text-decoration-color: #800000\">│</span>\n",
       "<span style=\"color: #800000; text-decoration-color: #800000\">│</span>   <span style=\"color: #7f7f7f; text-decoration-color: #7f7f7f\">235 </span><span style=\"color: #7f7f7f; text-decoration-color: #7f7f7f\">│   │   </span>out_target[..., <span style=\"color: #0000ff; text-decoration-color: #0000ff\">1</span>:] = box_convert(scaled_target, <span style=\"color: #808000; text-decoration-color: #808000\">\"xywh\"</span>, <span style=\"color: #808000; text-decoration-color: #808000\">\"xyxy\"</span>)                   <span style=\"color: #800000; text-decoration-color: #800000\">│</span>\n",
       "<span style=\"color: #800000; text-decoration-color: #800000\">│</span>   <span style=\"color: #7f7f7f; text-decoration-color: #7f7f7f\">236 </span><span style=\"color: #7f7f7f; text-decoration-color: #7f7f7f\">│   │   </span><span style=\"color: #0000ff; text-decoration-color: #0000ff\">return</span> out_target                                                                  <span style=\"color: #800000; text-decoration-color: #800000\">│</span>\n",
       "<span style=\"color: #800000; text-decoration-color: #800000\">│</span>   <span style=\"color: #7f7f7f; text-decoration-color: #7f7f7f\">237 </span>                                                                                           <span style=\"color: #800000; text-decoration-color: #800000\">│</span>\n",
       "<span style=\"color: #800000; text-decoration-color: #800000\">╰──────────────────────────────────────────────────────────────────────────────────────────────────╯</span>\n",
       "<span style=\"color: #ff0000; text-decoration-color: #ff0000; font-weight: bold\">RuntimeError: </span>Expected all tensors to be on the same device, but found at least two devices, cu<span style=\"color: #00ff00; text-decoration-color: #00ff00; font-weight: bold\">da:0</span> and cpu!\n",
       "</pre>\n"
      ],
      "text/plain": [
       "\u001b[31m╭─\u001b[0m\u001b[31m──────────────────────────────\u001b[0m\u001b[31m \u001b[0m\u001b[1;31mTraceback \u001b[0m\u001b[1;2;31m(most recent call last)\u001b[0m\u001b[31m \u001b[0m\u001b[31m───────────────────────────────\u001b[0m\u001b[31m─╮\u001b[0m\n",
       "\u001b[31m│\u001b[0m in \u001b[92m<module>\u001b[0m:\u001b[94m1\u001b[0m                                                                                    \u001b[31m│\u001b[0m\n",
       "\u001b[31m│\u001b[0m                                                                                                  \u001b[31m│\u001b[0m\n",
       "\u001b[31m│\u001b[0m \u001b[31m❱ \u001b[0m1 luxonis_model.infer(                                                                         \u001b[31m│\u001b[0m\n",
       "\u001b[31m│\u001b[0m   \u001b[2m2 \u001b[0m\u001b[2m│   \u001b[0mweights=weights,                                                                         \u001b[31m│\u001b[0m\n",
       "\u001b[31m│\u001b[0m   \u001b[2m3 \u001b[0m\u001b[2m│   \u001b[0mview=\u001b[33m\"\u001b[0m\u001b[33mtest\u001b[0m\u001b[33m\"\u001b[0m                                                                              \u001b[31m│\u001b[0m\n",
       "\u001b[31m│\u001b[0m   \u001b[2m4 \u001b[0m)                                                                                            \u001b[31m│\u001b[0m\n",
       "\u001b[31m│\u001b[0m                                                                                                  \u001b[31m│\u001b[0m\n",
       "\u001b[31m│\u001b[0m \u001b[2;33m/opt/conda/lib/python3.11/site-packages/luxonis_train/core/\u001b[0m\u001b[1;33mcore.py\u001b[0m:\u001b[94m493\u001b[0m in \u001b[92minfer\u001b[0m                  \u001b[31m│\u001b[0m\n",
       "\u001b[31m│\u001b[0m                                                                                                  \u001b[31m│\u001b[0m\n",
       "\u001b[31m│\u001b[0m   \u001b[2m490 \u001b[0m\u001b[2m│   │   │   │   │   │   \u001b[0m\u001b[33mf\u001b[0m\u001b[33m\"\u001b[0m\u001b[33mSource path \u001b[0m\u001b[33m{\u001b[0msource_path\u001b[33m}\u001b[0m\u001b[33m is not a valid file or directory.\u001b[0m\u001b[33m\"\u001b[0m     \u001b[31m│\u001b[0m\n",
       "\u001b[31m│\u001b[0m   \u001b[2m491 \u001b[0m\u001b[2m│   │   │   │   │   \u001b[0m)                                                                      \u001b[31m│\u001b[0m\n",
       "\u001b[31m│\u001b[0m   \u001b[2m492 \u001b[0m\u001b[2m│   │   │   \u001b[0m\u001b[94melse\u001b[0m:                                                                          \u001b[31m│\u001b[0m\n",
       "\u001b[31m│\u001b[0m \u001b[31m❱ \u001b[0m493 \u001b[2m│   │   │   │   \u001b[0minfer_from_dataset(\u001b[96mself\u001b[0m, view, save_dir)                                   \u001b[31m│\u001b[0m\n",
       "\u001b[31m│\u001b[0m   \u001b[2m494 \u001b[0m\u001b[2m│   \u001b[0m                                                                                       \u001b[31m│\u001b[0m\n",
       "\u001b[31m│\u001b[0m   \u001b[2m495 \u001b[0m\u001b[2m│   \u001b[0m\u001b[94mdef\u001b[0m \u001b[92mtune\u001b[0m(\u001b[96mself\u001b[0m) -> \u001b[94mNone\u001b[0m:                                                                \u001b[31m│\u001b[0m\n",
       "\u001b[31m│\u001b[0m   \u001b[2m496 \u001b[0m\u001b[2;90m│   │   \u001b[0m\u001b[33m\"\"\"Runs Optuna tuning of hyperparameters.\"\"\"\u001b[0m                                       \u001b[31m│\u001b[0m\n",
       "\u001b[31m│\u001b[0m                                                                                                  \u001b[31m│\u001b[0m\n",
       "\u001b[31m│\u001b[0m \u001b[2;33m/opt/conda/lib/python3.11/site-packages/luxonis_train/core/utils/\u001b[0m\u001b[1;33minfer_utils.py\u001b[0m:\u001b[94m183\u001b[0m in           \u001b[31m│\u001b[0m\n",
       "\u001b[31m│\u001b[0m \u001b[92minfer_from_dataset\u001b[0m                                                                               \u001b[31m│\u001b[0m\n",
       "\u001b[31m│\u001b[0m                                                                                                  \u001b[31m│\u001b[0m\n",
       "\u001b[31m│\u001b[0m   \u001b[2m180 \u001b[0m\u001b[2m│   │   \u001b[0m                                                                                   \u001b[31m│\u001b[0m\n",
       "\u001b[31m│\u001b[0m   \u001b[2m181 \u001b[0m\u001b[2m│   │   \u001b[0mimages = get_denormalized_images(model.cfg, inputs)                                \u001b[31m│\u001b[0m\n",
       "\u001b[31m│\u001b[0m   \u001b[2m182 \u001b[0m\u001b[2m│   │   \u001b[0mbatch_size = images.shape[\u001b[94m0\u001b[0m]                                                       \u001b[31m│\u001b[0m\n",
       "\u001b[31m│\u001b[0m \u001b[31m❱ \u001b[0m183 \u001b[2m│   │   \u001b[0moutputs = model.lightning_module.forward(                                          \u001b[31m│\u001b[0m\n",
       "\u001b[31m│\u001b[0m   \u001b[2m184 \u001b[0m\u001b[2m│   │   │   \u001b[0minputs, labels, images=images, compute_visualizations=\u001b[94mTrue\u001b[0m                     \u001b[31m│\u001b[0m\n",
       "\u001b[31m│\u001b[0m   \u001b[2m185 \u001b[0m\u001b[2m│   │   \u001b[0m)                                                                                  \u001b[31m│\u001b[0m\n",
       "\u001b[31m│\u001b[0m   \u001b[2m186 \u001b[0m\u001b[2m│   │   \u001b[0mrenders = process_visualizations(                                                  \u001b[31m│\u001b[0m\n",
       "\u001b[31m│\u001b[0m                                                                                                  \u001b[31m│\u001b[0m\n",
       "\u001b[31m│\u001b[0m \u001b[2;33m/opt/conda/lib/python3.11/site-packages/luxonis_train/models/\u001b[0m\u001b[1;33mluxonis_lightning.py\u001b[0m:\u001b[94m404\u001b[0m in \u001b[92mforward\u001b[0m \u001b[31m│\u001b[0m\n",
       "\u001b[31m│\u001b[0m                                                                                                  \u001b[31m│\u001b[0m\n",
       "\u001b[31m│\u001b[0m   \u001b[2m401 \u001b[0m\u001b[2m│   │   │   │   \u001b[0m\u001b[95mand\u001b[0m labels \u001b[95mis\u001b[0m \u001b[95mnot\u001b[0m \u001b[94mNone\u001b[0m                                                     \u001b[31m│\u001b[0m\n",
       "\u001b[31m│\u001b[0m   \u001b[2m402 \u001b[0m\u001b[2m│   │   │   \u001b[0m):                                                                             \u001b[31m│\u001b[0m\n",
       "\u001b[31m│\u001b[0m   \u001b[2m403 \u001b[0m\u001b[2m│   │   │   │   \u001b[0m\u001b[94mfor\u001b[0m loss_name, loss \u001b[95min\u001b[0m \u001b[96mself\u001b[0m.losses[node_name].items():                     \u001b[31m│\u001b[0m\n",
       "\u001b[31m│\u001b[0m \u001b[31m❱ \u001b[0m404 \u001b[2m│   │   │   │   │   \u001b[0mlosses[node_name][loss_name] = loss.run(outputs, labels)               \u001b[31m│\u001b[0m\n",
       "\u001b[31m│\u001b[0m   \u001b[2m405 \u001b[0m\u001b[2m│   │   │   \u001b[0m                                                                               \u001b[31m│\u001b[0m\n",
       "\u001b[31m│\u001b[0m   \u001b[2m406 \u001b[0m\u001b[2m│   │   │   \u001b[0m\u001b[94mif\u001b[0m (                                                                           \u001b[31m│\u001b[0m\n",
       "\u001b[31m│\u001b[0m   \u001b[2m407 \u001b[0m\u001b[2m│   │   │   │   \u001b[0mcompute_metrics                                                            \u001b[31m│\u001b[0m\n",
       "\u001b[31m│\u001b[0m                                                                                                  \u001b[31m│\u001b[0m\n",
       "\u001b[31m│\u001b[0m \u001b[2;33m/opt/conda/lib/python3.11/site-packages/luxonis_train/attached_modules/losses/\u001b[0m\u001b[1;33mbase_loss.py\u001b[0m:\u001b[94m58\u001b[0m in \u001b[31m│\u001b[0m\n",
       "\u001b[31m│\u001b[0m \u001b[92mrun\u001b[0m                                                                                              \u001b[31m│\u001b[0m\n",
       "\u001b[31m│\u001b[0m                                                                                                  \u001b[31m│\u001b[0m\n",
       "\u001b[31m│\u001b[0m   \u001b[2m55 \u001b[0m\u001b[2;33m│   │   \u001b[0m\u001b[33m@raises IncompatibleException: If the inputs are not compatible\u001b[0m                     \u001b[31m│\u001b[0m\n",
       "\u001b[31m│\u001b[0m   \u001b[2m56 \u001b[0m\u001b[2;33m│   │   │   \u001b[0m\u001b[33mwith the module.\u001b[0m                                                                \u001b[31m│\u001b[0m\n",
       "\u001b[31m│\u001b[0m   \u001b[2m57 \u001b[0m\u001b[2;33m│   │   \u001b[0m\u001b[33m\"\"\"\u001b[0m                                                                                 \u001b[31m│\u001b[0m\n",
       "\u001b[31m│\u001b[0m \u001b[31m❱ \u001b[0m58 \u001b[2m│   │   \u001b[0m\u001b[94mreturn\u001b[0m \u001b[96mself\u001b[0m(*\u001b[96mself\u001b[0m.prepare(inputs, labels))                                          \u001b[31m│\u001b[0m\n",
       "\u001b[31m│\u001b[0m   \u001b[2m59 \u001b[0m                                                                                            \u001b[31m│\u001b[0m\n",
       "\u001b[31m│\u001b[0m                                                                                                  \u001b[31m│\u001b[0m\n",
       "\u001b[31m│\u001b[0m \u001b[2;33m/opt/conda/lib/python3.11/site-packages/luxonis_train/attached_modules/losses/\u001b[0m\u001b[1;33madaptive_detection\u001b[0m \u001b[31m│\u001b[0m\n",
       "\u001b[31m│\u001b[0m \u001b[1;33m_loss.py\u001b[0m:\u001b[94m97\u001b[0m in \u001b[92mprepare\u001b[0m                                                                           \u001b[31m│\u001b[0m\n",
       "\u001b[31m│\u001b[0m                                                                                                  \u001b[31m│\u001b[0m\n",
       "\u001b[31m│\u001b[0m   \u001b[2m 94 \u001b[0m\u001b[2m│   │   \u001b[0m                                                                                   \u001b[31m│\u001b[0m\n",
       "\u001b[31m│\u001b[0m   \u001b[2m 95 \u001b[0m\u001b[2m│   │   \u001b[0m\u001b[96mself\u001b[0m._init_parameters(feats)                                                       \u001b[31m│\u001b[0m\n",
       "\u001b[31m│\u001b[0m   \u001b[2m 96 \u001b[0m\u001b[2m│   │   \u001b[0m                                                                                   \u001b[31m│\u001b[0m\n",
       "\u001b[31m│\u001b[0m \u001b[31m❱ \u001b[0m 97 \u001b[2m│   │   \u001b[0mtarget = \u001b[96mself\u001b[0m._preprocess_bbox_target(target, batch_size)                          \u001b[31m│\u001b[0m\n",
       "\u001b[31m│\u001b[0m   \u001b[2m 98 \u001b[0m\u001b[2m│   │   \u001b[0mpred_bboxes = dist2bbox(pred_distri, \u001b[96mself\u001b[0m.anchor_points_strided)                   \u001b[31m│\u001b[0m\n",
       "\u001b[31m│\u001b[0m   \u001b[2m 99 \u001b[0m\u001b[2m│   │   \u001b[0m                                                                                   \u001b[31m│\u001b[0m\n",
       "\u001b[31m│\u001b[0m   \u001b[2m100 \u001b[0m\u001b[2m│   │   \u001b[0mgt_labels = target[:, :, :\u001b[94m1\u001b[0m]                                                       \u001b[31m│\u001b[0m\n",
       "\u001b[31m│\u001b[0m                                                                                                  \u001b[31m│\u001b[0m\n",
       "\u001b[31m│\u001b[0m \u001b[2;33m/opt/conda/lib/python3.11/site-packages/luxonis_train/attached_modules/losses/\u001b[0m\u001b[1;33madaptive_detection\u001b[0m \u001b[31m│\u001b[0m\n",
       "\u001b[31m│\u001b[0m \u001b[1;33m_loss.py\u001b[0m:\u001b[94m234\u001b[0m in \u001b[92m_preprocess_bbox_target\u001b[0m                                                          \u001b[31m│\u001b[0m\n",
       "\u001b[31m│\u001b[0m                                                                                                  \u001b[31m│\u001b[0m\n",
       "\u001b[31m│\u001b[0m   \u001b[2m231 \u001b[0m\u001b[2m│   │   \u001b[0m\u001b[94mfor\u001b[0m \u001b[96mid\u001b[0m, count \u001b[95min\u001b[0m \u001b[96mzip\u001b[0m(sample_ids, counts):                                          \u001b[31m│\u001b[0m\n",
       "\u001b[31m│\u001b[0m   \u001b[2m232 \u001b[0m\u001b[2m│   │   │   \u001b[0mout_target[\u001b[96mid\u001b[0m, :count] = target[target[:, \u001b[94m0\u001b[0m] == \u001b[96mid\u001b[0m][:, \u001b[94m1\u001b[0m:]                     \u001b[31m│\u001b[0m\n",
       "\u001b[31m│\u001b[0m   \u001b[2m233 \u001b[0m\u001b[2m│   │   \u001b[0m                                                                                   \u001b[31m│\u001b[0m\n",
       "\u001b[31m│\u001b[0m \u001b[31m❱ \u001b[0m234 \u001b[2m│   │   \u001b[0mscaled_target = out_target[:, :, \u001b[94m1\u001b[0m:\u001b[94m5\u001b[0m] * \u001b[96mself\u001b[0m.gt_bboxes_scale                       \u001b[31m│\u001b[0m\n",
       "\u001b[31m│\u001b[0m   \u001b[2m235 \u001b[0m\u001b[2m│   │   \u001b[0mout_target[..., \u001b[94m1\u001b[0m:] = box_convert(scaled_target, \u001b[33m\"\u001b[0m\u001b[33mxywh\u001b[0m\u001b[33m\"\u001b[0m, \u001b[33m\"\u001b[0m\u001b[33mxyxy\u001b[0m\u001b[33m\"\u001b[0m)                   \u001b[31m│\u001b[0m\n",
       "\u001b[31m│\u001b[0m   \u001b[2m236 \u001b[0m\u001b[2m│   │   \u001b[0m\u001b[94mreturn\u001b[0m out_target                                                                  \u001b[31m│\u001b[0m\n",
       "\u001b[31m│\u001b[0m   \u001b[2m237 \u001b[0m                                                                                           \u001b[31m│\u001b[0m\n",
       "\u001b[31m╰──────────────────────────────────────────────────────────────────────────────────────────────────╯\u001b[0m\n",
       "\u001b[1;91mRuntimeError: \u001b[0mExpected all tensors to be on the same device, but found at least two devices, cu\u001b[1;92mda:0\u001b[0m and cpu!\n"
      ]
     },
     "metadata": {},
     "output_type": "display_data"
    }
   ],
   "source": [
    "luxonis_model.infer(\n",
    "    weights=weights,\n",
    "    view=\"test\"\n",
    ")\n",
    "\n",
    "# NOTE: If you are using Google Colab use this and images will be saved to \"infer_results\" directory\n",
    "# luxonis_model.infer(weights=weights, save_dir=\"infer_results\") "
   ]
  },
  {
   "cell_type": "markdown",
   "metadata": {},
   "source": [
    "## 🗂️ Export and Archive"
   ]
  },
  {
   "cell_type": "markdown",
   "metadata": {},
   "source": [
    "Once the model is trained and tested, we want to prepare it for deployment on the device. This preparation consists of 2 steps. First, we want to export the model that was trained with PyTorch to a more general format called ONNX. Then, we want to package this exported model with all the metadata that holds information about the inputs, outputs, and training configuration used. This is called archiving. These steps can be easily done by just one command in LuxonisTrain."
   ]
  },
  {
   "cell_type": "code",
   "execution_count": 13,
   "metadata": {},
   "outputs": [
    {
     "data": {
      "text/html": [
       "<pre style=\"white-space:pre;overflow-x:auto;line-height:normal;font-family:Menlo,'DejaVu Sans Mono',consolas,'Courier New',monospace\"><span style=\"color: #008000; text-decoration-color: #008000\">INFO    </span> Loaded checkpoint from                                                            <a href=\"file:///opt/conda/lib/python3.11/site-packages/luxonis_train/models/luxonis_lightning.py\" target=\"_blank\"><span style=\"color: #7f7f7f; text-decoration-color: #7f7f7f\">luxonis_lightning.py</span></a><span style=\"color: #7f7f7f; text-decoration-color: #7f7f7f\">:</span><a href=\"file:///opt/conda/lib/python3.11/site-packages/luxonis_train/models/luxonis_lightning.py#860\" target=\"_blank\"><span style=\"color: #7f7f7f; text-decoration-color: #7f7f7f\">860</span></a>\n",
       "         <span style=\"color: #800080; text-decoration-color: #800080\">/home/jovyan/output/19-rose-vulture/min_val_loss/</span><span style=\"color: #ff00ff; text-decoration-color: #ff00ff\">cat_dog_detection_model_loss</span>=<span style=\"color: #008080; text-decoration-color: #008080; font-weight: bold\">1.</span>3 <span style=\"color: #7f7f7f; text-decoration-color: #7f7f7f\">                        </span>\n",
       "         451_179.ckpt.                                                                     <span style=\"color: #7f7f7f; text-decoration-color: #7f7f7f\">                        </span>\n",
       "</pre>\n"
      ],
      "text/plain": [
       "\u001b[32mINFO    \u001b[0m Loaded checkpoint from                                                            \u001b]8;id=766542;file:///opt/conda/lib/python3.11/site-packages/luxonis_train/models/luxonis_lightning.py\u001b\\\u001b[2mluxonis_lightning.py\u001b[0m\u001b]8;;\u001b\\\u001b[2m:\u001b[0m\u001b]8;id=38974;file:///opt/conda/lib/python3.11/site-packages/luxonis_train/models/luxonis_lightning.py#860\u001b\\\u001b[2m860\u001b[0m\u001b]8;;\u001b\\\n",
       "         \u001b[35m/home/jovyan/output/19-rose-vulture/min_val_loss/\u001b[0m\u001b[95mcat_dog_detection_model_loss\u001b[0m=\u001b[1;36m1\u001b[0m\u001b[1;36m.\u001b[0m3 \u001b[2m                        \u001b[0m\n",
       "         451_179.ckpt.                                                                     \u001b[2m                        \u001b[0m\n"
      ]
     },
     "metadata": {},
     "output_type": "display_data"
    },
    {
     "data": {
      "text/html": [
       "<pre style=\"white-space:pre;overflow-x:auto;line-height:normal;font-family:Menlo,'DejaVu Sans Mono',consolas,'Courier New',monospace\"><span style=\"color: #808000; text-decoration-color: #808000\">WARNING </span> No model executable specified for archiving.                                                   <a href=\"file:///opt/conda/lib/python3.11/site-packages/luxonis_train/core/core.py\" target=\"_blank\"><span style=\"color: #7f7f7f; text-decoration-color: #7f7f7f\">core.py</span></a><span style=\"color: #7f7f7f; text-decoration-color: #7f7f7f\">:</span><a href=\"file:///opt/conda/lib/python3.11/site-packages/luxonis_train/core/core.py#689\" target=\"_blank\"><span style=\"color: #7f7f7f; text-decoration-color: #7f7f7f\">689</span></a>\n",
       "</pre>\n"
      ],
      "text/plain": [
       "\u001b[33mWARNING \u001b[0m No model executable specified for archiving.                                                   \u001b]8;id=494496;file:///opt/conda/lib/python3.11/site-packages/luxonis_train/core/core.py\u001b\\\u001b[2mcore.py\u001b[0m\u001b]8;;\u001b\\\u001b[2m:\u001b[0m\u001b]8;id=815865;file:///opt/conda/lib/python3.11/site-packages/luxonis_train/core/core.py#689\u001b\\\u001b[2m689\u001b[0m\u001b]8;;\u001b\\\n"
      ]
     },
     "metadata": {},
     "output_type": "display_data"
    },
    {
     "data": {
      "text/html": [
       "<pre style=\"white-space:pre;overflow-x:auto;line-height:normal;font-family:Menlo,'DejaVu Sans Mono',consolas,'Courier New',monospace\"><span style=\"color: #008000; text-decoration-color: #008000\">INFO    </span> Exporting model to ONNX<span style=\"color: #808000; text-decoration-color: #808000\">...</span>                                                                     <a href=\"file:///opt/conda/lib/python3.11/site-packages/luxonis_train/core/core.py\" target=\"_blank\"><span style=\"color: #7f7f7f; text-decoration-color: #7f7f7f\">core.py</span></a><span style=\"color: #7f7f7f; text-decoration-color: #7f7f7f\">:</span><a href=\"file:///opt/conda/lib/python3.11/site-packages/luxonis_train/core/core.py#691\" target=\"_blank\"><span style=\"color: #7f7f7f; text-decoration-color: #7f7f7f\">691</span></a>\n",
       "</pre>\n"
      ],
      "text/plain": [
       "\u001b[32mINFO    \u001b[0m Exporting model to ONNX\u001b[33m...\u001b[0m                                                                     \u001b]8;id=322414;file:///opt/conda/lib/python3.11/site-packages/luxonis_train/core/core.py\u001b\\\u001b[2mcore.py\u001b[0m\u001b]8;;\u001b\\\u001b[2m:\u001b[0m\u001b]8;id=27766;file:///opt/conda/lib/python3.11/site-packages/luxonis_train/core/core.py#691\u001b\\\u001b[2m691\u001b[0m\u001b]8;;\u001b\\\n"
      ]
     },
     "metadata": {},
     "output_type": "display_data"
    },
    {
     "data": {
      "text/html": [
       "<pre style=\"white-space:pre;overflow-x:auto;line-height:normal;font-family:Menlo,'DejaVu Sans Mono',consolas,'Courier New',monospace\"><span style=\"color: #808000; text-decoration-color: #808000\">WARNING </span> No model weights specified. Exporting model without weights.                                   <a href=\"file:///opt/conda/lib/python3.11/site-packages/luxonis_train/core/core.py\" target=\"_blank\"><span style=\"color: #7f7f7f; text-decoration-color: #7f7f7f\">core.py</span></a><span style=\"color: #7f7f7f; text-decoration-color: #7f7f7f\">:</span><a href=\"file:///opt/conda/lib/python3.11/site-packages/luxonis_train/core/core.py#310\" target=\"_blank\"><span style=\"color: #7f7f7f; text-decoration-color: #7f7f7f\">310</span></a>\n",
       "</pre>\n"
      ],
      "text/plain": [
       "\u001b[33mWARNING \u001b[0m No model weights specified. Exporting model without weights.                                   \u001b]8;id=119409;file:///opt/conda/lib/python3.11/site-packages/luxonis_train/core/core.py\u001b\\\u001b[2mcore.py\u001b[0m\u001b]8;;\u001b\\\u001b[2m:\u001b[0m\u001b]8;id=395662;file:///opt/conda/lib/python3.11/site-packages/luxonis_train/core/core.py#310\u001b\\\u001b[2m310\u001b[0m\u001b]8;;\u001b\\\n"
      ]
     },
     "metadata": {},
     "output_type": "display_data"
    },
    {
     "data": {
      "text/html": [
       "<pre style=\"white-space:pre;overflow-x:auto;line-height:normal;font-family:Menlo,'DejaVu Sans Mono',consolas,'Courier New',monospace\"><span style=\"color: #008000; text-decoration-color: #008000\">INFO    </span> Reparametrizing <span style=\"color: #008000; text-decoration-color: #008000\">'EfficientRep'</span>.                                                        <a href=\"file:///opt/conda/lib/python3.11/site-packages/luxonis_train/nodes/backbones/efficientrep/efficientrep.py\" target=\"_blank\"><span style=\"color: #7f7f7f; text-decoration-color: #7f7f7f\">efficientrep.py</span></a><span style=\"color: #7f7f7f; text-decoration-color: #7f7f7f\">:</span><a href=\"file:///opt/conda/lib/python3.11/site-packages/luxonis_train/nodes/backbones/efficientrep/efficientrep.py#134\" target=\"_blank\"><span style=\"color: #7f7f7f; text-decoration-color: #7f7f7f\">134</span></a>\n",
       "</pre>\n"
      ],
      "text/plain": [
       "\u001b[32mINFO    \u001b[0m Reparametrizing \u001b[32m'EfficientRep'\u001b[0m.                                                        \u001b]8;id=523399;file:///opt/conda/lib/python3.11/site-packages/luxonis_train/nodes/backbones/efficientrep/efficientrep.py\u001b\\\u001b[2mefficientrep.py\u001b[0m\u001b]8;;\u001b\\\u001b[2m:\u001b[0m\u001b]8;id=975794;file:///opt/conda/lib/python3.11/site-packages/luxonis_train/nodes/backbones/efficientrep/efficientrep.py#134\u001b\\\u001b[2m134\u001b[0m\u001b]8;;\u001b\\\n"
      ]
     },
     "metadata": {},
     "output_type": "display_data"
    },
    {
     "data": {
      "text/html": [
       "<pre style=\"white-space:pre;overflow-x:auto;line-height:normal;font-family:Menlo,'DejaVu Sans Mono',consolas,'Courier New',monospace\"><span style=\"color: #008000; text-decoration-color: #008000\">INFO    </span> Reparametrizing <span style=\"color: #008000; text-decoration-color: #008000\">'RepPANNeck'</span>.                                                           <a href=\"file:///opt/conda/lib/python3.11/site-packages/luxonis_train/nodes/necks/reppan_neck/reppan_neck.py\" target=\"_blank\"><span style=\"color: #7f7f7f; text-decoration-color: #7f7f7f\">reppan_neck.py</span></a><span style=\"color: #7f7f7f; text-decoration-color: #7f7f7f\">:</span><a href=\"file:///opt/conda/lib/python3.11/site-packages/luxonis_train/nodes/necks/reppan_neck/reppan_neck.py#191\" target=\"_blank\"><span style=\"color: #7f7f7f; text-decoration-color: #7f7f7f\">191</span></a>\n",
       "</pre>\n"
      ],
      "text/plain": [
       "\u001b[32mINFO    \u001b[0m Reparametrizing \u001b[32m'RepPANNeck'\u001b[0m.                                                           \u001b]8;id=26328;file:///opt/conda/lib/python3.11/site-packages/luxonis_train/nodes/necks/reppan_neck/reppan_neck.py\u001b\\\u001b[2mreppan_neck.py\u001b[0m\u001b]8;;\u001b\\\u001b[2m:\u001b[0m\u001b]8;id=170901;file:///opt/conda/lib/python3.11/site-packages/luxonis_train/nodes/necks/reppan_neck/reppan_neck.py#191\u001b\\\u001b[2m191\u001b[0m\u001b]8;;\u001b\\\n"
      ]
     },
     "metadata": {},
     "output_type": "display_data"
    },
    {
     "data": {
      "text/html": [
       "<pre style=\"white-space:pre;overflow-x:auto;line-height:normal;font-family:Menlo,'DejaVu Sans Mono',consolas,'Courier New',monospace\"><span style=\"color: #008000; text-decoration-color: #008000\">INFO    </span> Model exported to output/<span style=\"color: #008080; text-decoration-color: #008080; font-weight: bold\">19</span>-rose-vulture/export/cat_dog_detection_model.onnx      <a href=\"file:///opt/conda/lib/python3.11/site-packages/luxonis_train/models/luxonis_lightning.py\" target=\"_blank\"><span style=\"color: #7f7f7f; text-decoration-color: #7f7f7f\">luxonis_lightning.py</span></a><span style=\"color: #7f7f7f; text-decoration-color: #7f7f7f\">:</span><a href=\"file:///opt/conda/lib/python3.11/site-packages/luxonis_train/models/luxonis_lightning.py#575\" target=\"_blank\"><span style=\"color: #7f7f7f; text-decoration-color: #7f7f7f\">575</span></a>\n",
       "</pre>\n"
      ],
      "text/plain": [
       "\u001b[32mINFO    \u001b[0m Model exported to output/\u001b[1;36m19\u001b[0m-rose-vulture/export/cat_dog_detection_model.onnx      \u001b]8;id=847442;file:///opt/conda/lib/python3.11/site-packages/luxonis_train/models/luxonis_lightning.py\u001b\\\u001b[2mluxonis_lightning.py\u001b[0m\u001b]8;;\u001b\\\u001b[2m:\u001b[0m\u001b]8;id=702212;file:///opt/conda/lib/python3.11/site-packages/luxonis_train/models/luxonis_lightning.py#575\u001b\\\u001b[2m575\u001b[0m\u001b]8;;\u001b\\\n"
      ]
     },
     "metadata": {},
     "output_type": "display_data"
    },
    {
     "data": {
      "text/html": [
       "<pre style=\"white-space:pre;overflow-x:auto;line-height:normal;font-family:Menlo,'DejaVu Sans Mono',consolas,'Courier New',monospace\"><span style=\"color: #008000; text-decoration-color: #008000\">INFO    </span> Simplifying ONNX model<span style=\"color: #808000; text-decoration-color: #808000\">...</span>                                                               <a href=\"file:///opt/conda/lib/python3.11/site-packages/luxonis_train/core/utils/export_utils.py\" target=\"_blank\"><span style=\"color: #7f7f7f; text-decoration-color: #7f7f7f\">export_utils.py</span></a><span style=\"color: #7f7f7f; text-decoration-color: #7f7f7f\">:</span><a href=\"file:///opt/conda/lib/python3.11/site-packages/luxonis_train/core/utils/export_utils.py#41\" target=\"_blank\"><span style=\"color: #7f7f7f; text-decoration-color: #7f7f7f\">41</span></a>\n",
       "</pre>\n"
      ],
      "text/plain": [
       "\u001b[32mINFO    \u001b[0m Simplifying ONNX model\u001b[33m...\u001b[0m                                                               \u001b]8;id=960300;file:///opt/conda/lib/python3.11/site-packages/luxonis_train/core/utils/export_utils.py\u001b\\\u001b[2mexport_utils.py\u001b[0m\u001b]8;;\u001b\\\u001b[2m:\u001b[0m\u001b]8;id=225329;file:///opt/conda/lib/python3.11/site-packages/luxonis_train/core/utils/export_utils.py#41\u001b\\\u001b[2m41\u001b[0m\u001b]8;;\u001b\\\n"
      ]
     },
     "metadata": {},
     "output_type": "display_data"
    },
    {
     "data": {
      "text/html": [
       "<pre style=\"white-space:pre;overflow-x:auto;line-height:normal;font-family:Menlo,'DejaVu Sans Mono',consolas,'Courier New',monospace\"><span style=\"color: #008000; text-decoration-color: #008000\">INFO    </span> ONNX model saved to output/<span style=\"color: #008080; text-decoration-color: #008080; font-weight: bold\">19</span>-rose-vulture/export/cat_dog_detection_model.onnx          <a href=\"file:///opt/conda/lib/python3.11/site-packages/luxonis_train/core/utils/export_utils.py\" target=\"_blank\"><span style=\"color: #7f7f7f; text-decoration-color: #7f7f7f\">export_utils.py</span></a><span style=\"color: #7f7f7f; text-decoration-color: #7f7f7f\">:</span><a href=\"file:///opt/conda/lib/python3.11/site-packages/luxonis_train/core/utils/export_utils.py#47\" target=\"_blank\"><span style=\"color: #7f7f7f; text-decoration-color: #7f7f7f\">47</span></a>\n",
       "</pre>\n"
      ],
      "text/plain": [
       "\u001b[32mINFO    \u001b[0m ONNX model saved to output/\u001b[1;36m19\u001b[0m-rose-vulture/export/cat_dog_detection_model.onnx          \u001b]8;id=489210;file:///opt/conda/lib/python3.11/site-packages/luxonis_train/core/utils/export_utils.py\u001b\\\u001b[2mexport_utils.py\u001b[0m\u001b]8;;\u001b\\\u001b[2m:\u001b[0m\u001b]8;id=64761;file:///opt/conda/lib/python3.11/site-packages/luxonis_train/core/utils/export_utils.py#47\u001b\\\u001b[2m47\u001b[0m\u001b]8;;\u001b\\\n"
      ]
     },
     "metadata": {},
     "output_type": "display_data"
    },
    {
     "data": {
      "text/html": [
       "<pre style=\"white-space:pre;overflow-x:auto;line-height:normal;font-family:Menlo,'DejaVu Sans Mono',consolas,'Courier New',monospace\"><span style=\"color: #008000; text-decoration-color: #008000\">INFO    </span> NN Archive saved to output/<span style=\"color: #008080; text-decoration-color: #008080; font-weight: bold\">19</span>-rose-vulture/archive/cat_dog_detection_model.onnx.tar.xz         <a href=\"file:///opt/conda/lib/python3.11/site-packages/luxonis_train/core/core.py\" target=\"_blank\"><span style=\"color: #7f7f7f; text-decoration-color: #7f7f7f\">core.py</span></a><span style=\"color: #7f7f7f; text-decoration-color: #7f7f7f\">:</span><a href=\"file:///opt/conda/lib/python3.11/site-packages/luxonis_train/core/core.py#765\" target=\"_blank\"><span style=\"color: #7f7f7f; text-decoration-color: #7f7f7f\">765</span></a>\n",
       "</pre>\n"
      ],
      "text/plain": [
       "\u001b[32mINFO    \u001b[0m NN Archive saved to output/\u001b[1;36m19\u001b[0m-rose-vulture/archive/cat_dog_detection_model.onnx.tar.xz         \u001b]8;id=71438;file:///opt/conda/lib/python3.11/site-packages/luxonis_train/core/core.py\u001b\\\u001b[2mcore.py\u001b[0m\u001b]8;;\u001b\\\u001b[2m:\u001b[0m\u001b]8;id=996688;file:///opt/conda/lib/python3.11/site-packages/luxonis_train/core/core.py#765\u001b\\\u001b[2m765\u001b[0m\u001b]8;;\u001b\\\n"
      ]
     },
     "metadata": {},
     "output_type": "display_data"
    },
    {
     "data": {
      "text/html": [
       "<pre style=\"white-space:pre;overflow-x:auto;line-height:normal;font-family:Menlo,'DejaVu Sans Mono',consolas,'Courier New',monospace\"><span style=\"color: #800000; text-decoration-color: #800000; font-weight: bold\">ERROR   </span> Failed to strictly load old weights. The model likely underwent re-parametrization,     <a href=\"file:///opt/conda/lib/python3.11/site-packages/luxonis_train/core/utils/export_utils.py\" target=\"_blank\"><span style=\"color: #7f7f7f; text-decoration-color: #7f7f7f\">export_utils.py</span></a><span style=\"color: #7f7f7f; text-decoration-color: #7f7f7f\">:</span><a href=\"file:///opt/conda/lib/python3.11/site-packages/luxonis_train/core/utils/export_utils.py#27\" target=\"_blank\"><span style=\"color: #7f7f7f; text-decoration-color: #7f7f7f\">27</span></a>\n",
       "         which is a destructive operation. Loading old weights with <span style=\"color: #808000; text-decoration-color: #808000\">strict</span>=<span style=\"color: #ff0000; text-decoration-color: #ff0000; font-style: italic\">False</span>.                <span style=\"color: #7f7f7f; text-decoration-color: #7f7f7f\">                  </span>\n",
       "</pre>\n"
      ],
      "text/plain": [
       "\u001b[1;31mERROR   \u001b[0m Failed to strictly load old weights. The model likely underwent re-parametrization,     \u001b]8;id=495647;file:///opt/conda/lib/python3.11/site-packages/luxonis_train/core/utils/export_utils.py\u001b\\\u001b[2mexport_utils.py\u001b[0m\u001b]8;;\u001b\\\u001b[2m:\u001b[0m\u001b]8;id=269725;file:///opt/conda/lib/python3.11/site-packages/luxonis_train/core/utils/export_utils.py#27\u001b\\\u001b[2m27\u001b[0m\u001b]8;;\u001b\\\n",
       "         which is a destructive operation. Loading old weights with \u001b[33mstrict\u001b[0m=\u001b[3;91mFalse\u001b[0m.                \u001b[2m                  \u001b[0m\n"
      ]
     },
     "metadata": {},
     "output_type": "display_data"
    },
    {
     "name": "stdout",
     "output_type": "stream",
     "text": [
      "Model archieved to: output/19-rose-vulture/archive/cat_dog_detection_model.onnx.tar.xz\n"
     ]
    }
   ],
   "source": [
    "archieve_path = luxonis_model.archive(weights=weights)\n",
    "print(\"Model archieved to:\", archieve_path)"
   ]
  },
  {
   "cell_type": "markdown",
   "metadata": {},
   "source": [
    "Notice that two new folders were created in our run directory. One is called `export` and has an ONNX model while the other is called `archive` which has `.tar.xz` file. The tar file is a compressed file which holds aforementioned ONNX model with all the metadata of the model."
   ]
  },
  {
   "cell_type": "markdown",
   "metadata": {},
   "source": [
    "## 🤖 Deploy"
   ]
  },
  {
   "cell_type": "markdown",
   "metadata": {},
   "source": [
    "We have the exported model, and the goal is to deploy it to the Luxonis device. The model's specific format depends on the Luxonis device series you have. To simplify the process, we recommend you use our [`HubAI`](https://hub.luxonis.com) platform. You can log in, navigate to the AI section, and click the `+ Add Model` button. \n",
    "\n",
    "<img src=\"./media/first_page.png\" alt=\"first page\" width=\"800\">\n",
    "\n",
    "Once there, you'll want to click `Custom,` and then fill out the form to provide some description of your model. At the bottom, you can upload the actual model files. Since we have already generated an `NNArchive` (our .tar.xz file), please add it here by clicking `Add`. \n",
    "\n",
    "<img src=\"./media/model_description.png\" alt=\"model description\" width=\"400\">\n",
    "\n",
    "Once the model is uploaded, you will see it under `Team's Models`, and when you click it, you can export it for your specific Luxonis device version. \n",
    "\n",
    "<img src=\"./media/convert.png\" alt=\"convert\" width=\"800\">\n",
    "\n",
    "The process might take some time; after it's finished, we can download and use the model with our DepthAI script. We'll use RVC2 in this tutorial, but you can follow the same process for other versions. All that is left to do is create a DepthAI script and deploy the model to the device. We already made such an example below. You need to populate two variables, though:\n",
    "- `ModelSlug`: This is a string representation of your model version based on which DepthAI can download it. You can get it by clicking the `Copy Slug` button next to the `Convert` you used before.\n",
    "- `ApiToken`: Since this model is private to your team, you need a token to access it. To generate the token, we navigate to team settings and click `+ Create API Token`. We then copy and paste it into the script below. \n",
    "\n",
    "<img src=\"./media/model_slug.png\" alt=\"model_slug\" width=\"400\">\n",
    "\n",
    "<img src=\"./media/api_token.png\" alt=\"api_token\" width=\"400\">"
   ]
  },
  {
   "cell_type": "markdown",
   "metadata": {},
   "source": [
    "### 📷 DepthAI Script"
   ]
  },
  {
   "cell_type": "code",
   "execution_count": 14,
   "metadata": {},
   "outputs": [],
   "source": [
    "MODEL_SLUG = \"fruit-detection-model:model-version-1\" # TODO: Insert your model slug\n",
    "API_TOKEN = \"insert_your_token_here\" # TODO: Insert your API Token\n",
    "API_TOKEN = \"tapi.o0M6yGp4pI_JSUKjdBTzKg.WOaw2jbrgPcHkX4GZfbn0pElq9wQNqUzvxmjjeHhfMjOfFrW-6XqP0sVGL58iLlNGJY9OTsBFuWKziXfcYOEDw\" "
   ]
  },
  {
   "cell_type": "markdown",
   "metadata": {},
   "source": [
    "To run the DepthAI script we need to install it. Also note that this script must be run locally and needs a Luxonis device connected to your machine. "
   ]
  },
  {
   "cell_type": "code",
   "execution_count": 15,
   "metadata": {},
   "outputs": [
    {
     "name": "stdout",
     "output_type": "stream",
     "text": [
      "Looking in indexes: https://pypi.org/simple, https://pypi.ngc.nvidia.com, https://artifacts.luxonis.com/artifactory/luxonis-python-release-local/\n",
      "Collecting depthai==3.0.0a4\n",
      "  Downloading https://artifacts.luxonis.com/artifactory/luxonis-python-release-local/depthai/depthai-3.0.0a4-cp311-cp311-manylinux_2_17_x86_64.manylinux2014_x86_64.whl (85.7 MB)\n",
      "\u001b[2K     \u001b[90m━━━━━━━━━━━━━━━━━━━━━━━━━━━━━━━━━━━━━━━━\u001b[0m \u001b[32m85.7/85.7 MB\u001b[0m \u001b[31m26.1 MB/s\u001b[0m eta \u001b[36m0:00:00\u001b[0m00:01\u001b[0m00:01\u001b[0m\n",
      "\u001b[?25hInstalling collected packages: depthai\n",
      "Successfully installed depthai-3.0.0a4\n",
      "\n",
      "\u001b[1m[\u001b[0m\u001b[34;49mnotice\u001b[0m\u001b[1;39;49m]\u001b[0m\u001b[39;49m A new release of pip is available: \u001b[0m\u001b[31;49m24.0\u001b[0m\u001b[39;49m -> \u001b[0m\u001b[32;49m24.3.1\u001b[0m\n",
      "\u001b[1m[\u001b[0m\u001b[34;49mnotice\u001b[0m\u001b[1;39;49m]\u001b[0m\u001b[39;49m To update, run: \u001b[0m\u001b[32;49mpip install --upgrade pip\u001b[0m\n",
      "Note: you may need to restart the kernel to use updated packages.\n"
     ]
    }
   ],
   "source": [
    "%pip install --extra-index-url https://artifacts.luxonis.com/artifactory/luxonis-python-release-local/ depthai==3.0.0a4"
   ]
  },
  {
   "cell_type": "code",
   "execution_count": 16,
   "metadata": {},
   "outputs": [
    {
     "name": "stdout",
     "output_type": "stream",
     "text": [
      "[2024-11-03 20:25:25.401] [depthai] [warning] USB protocol not available - If running in a container, make sure that the following is set: \"-v /dev/bus/usb:/dev/bus/usb --device-cgroup-rule='c 189:* rmw'\"\n"
     ]
    },
    {
     "data": {
      "text/html": [
       "<pre style=\"white-space:pre;overflow-x:auto;line-height:normal;font-family:Menlo,'DejaVu Sans Mono',consolas,'Courier New',monospace\"><span style=\"color: #800000; text-decoration-color: #800000\">╭─────────────────────────────── </span><span style=\"color: #800000; text-decoration-color: #800000; font-weight: bold\">Traceback </span><span style=\"color: #bf7f7f; text-decoration-color: #bf7f7f; font-weight: bold\">(most recent call last)</span><span style=\"color: #800000; text-decoration-color: #800000\"> ────────────────────────────────╮</span>\n",
       "<span style=\"color: #800000; text-decoration-color: #800000\">│</span> in <span style=\"color: #00ff00; text-decoration-color: #00ff00\">&lt;module&gt;</span>:<span style=\"color: #0000ff; text-decoration-color: #0000ff\">20</span>                                                                                   <span style=\"color: #800000; text-decoration-color: #800000\">│</span>\n",
       "<span style=\"color: #800000; text-decoration-color: #800000\">│</span>                                                                                                  <span style=\"color: #800000; text-decoration-color: #800000\">│</span>\n",
       "<span style=\"color: #800000; text-decoration-color: #800000\">│</span>   <span style=\"color: #7f7f7f; text-decoration-color: #7f7f7f\">17 </span>                                                                                            <span style=\"color: #800000; text-decoration-color: #800000\">│</span>\n",
       "<span style=\"color: #800000; text-decoration-color: #800000\">│</span>   <span style=\"color: #7f7f7f; text-decoration-color: #7f7f7f\">18 </span>labels = [<span style=\"color: #808000; text-decoration-color: #808000\">\"cat\"</span>, <span style=\"color: #808000; text-decoration-color: #808000\">\"dog\"</span>]                                                                     <span style=\"color: #800000; text-decoration-color: #800000\">│</span>\n",
       "<span style=\"color: #800000; text-decoration-color: #800000\">│</span>   <span style=\"color: #7f7f7f; text-decoration-color: #7f7f7f\">19 </span>                                                                                            <span style=\"color: #800000; text-decoration-color: #800000\">│</span>\n",
       "<span style=\"color: #800000; text-decoration-color: #800000\">│</span> <span style=\"color: #800000; text-decoration-color: #800000\">❱ </span>20 <span style=\"color: #0000ff; text-decoration-color: #0000ff\">with</span> dai.Pipeline() <span style=\"color: #0000ff; text-decoration-color: #0000ff\">as</span> pipeline:                                                            <span style=\"color: #800000; text-decoration-color: #800000\">│</span>\n",
       "<span style=\"color: #800000; text-decoration-color: #800000\">│</span>   <span style=\"color: #7f7f7f; text-decoration-color: #7f7f7f\">21 </span><span style=\"color: #7f7f7f; text-decoration-color: #7f7f7f\">│   </span>camera_node = pipeline.create(dai.node.Camera).build()                                  <span style=\"color: #800000; text-decoration-color: #800000\">│</span>\n",
       "<span style=\"color: #800000; text-decoration-color: #800000\">│</span>   <span style=\"color: #7f7f7f; text-decoration-color: #7f7f7f\">22 </span><span style=\"color: #7f7f7f; text-decoration-color: #7f7f7f\">│   </span>                                                                                        <span style=\"color: #800000; text-decoration-color: #800000\">│</span>\n",
       "<span style=\"color: #800000; text-decoration-color: #800000\">│</span>   <span style=\"color: #7f7f7f; text-decoration-color: #7f7f7f\">23 </span><span style=\"color: #7f7f7f; text-decoration-color: #7f7f7f\">│   </span>model_slug, model_version_slug = parse_model_slug(MODEL_SLUG)                           <span style=\"color: #800000; text-decoration-color: #800000\">│</span>\n",
       "<span style=\"color: #800000; text-decoration-color: #800000\">╰──────────────────────────────────────────────────────────────────────────────────────────────────╯</span>\n",
       "<span style=\"color: #ff0000; text-decoration-color: #ff0000; font-weight: bold\">RuntimeError: </span>No available devices\n",
       "</pre>\n"
      ],
      "text/plain": [
       "\u001b[31m╭─\u001b[0m\u001b[31m──────────────────────────────\u001b[0m\u001b[31m \u001b[0m\u001b[1;31mTraceback \u001b[0m\u001b[1;2;31m(most recent call last)\u001b[0m\u001b[31m \u001b[0m\u001b[31m───────────────────────────────\u001b[0m\u001b[31m─╮\u001b[0m\n",
       "\u001b[31m│\u001b[0m in \u001b[92m<module>\u001b[0m:\u001b[94m20\u001b[0m                                                                                   \u001b[31m│\u001b[0m\n",
       "\u001b[31m│\u001b[0m                                                                                                  \u001b[31m│\u001b[0m\n",
       "\u001b[31m│\u001b[0m   \u001b[2m17 \u001b[0m                                                                                            \u001b[31m│\u001b[0m\n",
       "\u001b[31m│\u001b[0m   \u001b[2m18 \u001b[0mlabels = [\u001b[33m\"\u001b[0m\u001b[33mcat\u001b[0m\u001b[33m\"\u001b[0m, \u001b[33m\"\u001b[0m\u001b[33mdog\u001b[0m\u001b[33m\"\u001b[0m]                                                                     \u001b[31m│\u001b[0m\n",
       "\u001b[31m│\u001b[0m   \u001b[2m19 \u001b[0m                                                                                            \u001b[31m│\u001b[0m\n",
       "\u001b[31m│\u001b[0m \u001b[31m❱ \u001b[0m20 \u001b[94mwith\u001b[0m dai.Pipeline() \u001b[94mas\u001b[0m pipeline:                                                            \u001b[31m│\u001b[0m\n",
       "\u001b[31m│\u001b[0m   \u001b[2m21 \u001b[0m\u001b[2m│   \u001b[0mcamera_node = pipeline.create(dai.node.Camera).build()                                  \u001b[31m│\u001b[0m\n",
       "\u001b[31m│\u001b[0m   \u001b[2m22 \u001b[0m\u001b[2m│   \u001b[0m                                                                                        \u001b[31m│\u001b[0m\n",
       "\u001b[31m│\u001b[0m   \u001b[2m23 \u001b[0m\u001b[2m│   \u001b[0mmodel_slug, model_version_slug = parse_model_slug(MODEL_SLUG)                           \u001b[31m│\u001b[0m\n",
       "\u001b[31m╰──────────────────────────────────────────────────────────────────────────────────────────────────╯\u001b[0m\n",
       "\u001b[1;91mRuntimeError: \u001b[0mNo available devices\n"
      ]
     },
     "metadata": {},
     "output_type": "display_data"
    }
   ],
   "source": [
    "from typing import Tuple\n",
    "import depthai as dai\n",
    "import os\n",
    "\n",
    "os.environ[\"DEPTHAI_TOKEN\"] = API_TOKEN\n",
    "\n",
    "def parse_model_slug(full_slug) -> Tuple[str, str]:\n",
    "    if \":\" not in full_slug:\n",
    "        raise NameError(\n",
    "            \"Please provide the model slug in the format of 'model_slug:model_version_slug'\"\n",
    "        )\n",
    "    model_slug_parts = full_slug.split(\":\")\n",
    "    model_slug = model_slug_parts[0]\n",
    "    model_version_slug = model_slug_parts[1]\n",
    "\n",
    "    return model_slug, model_version_slug\n",
    "\n",
    "labels = [\"cat\", \"dog\"]\n",
    "\n",
    "with dai.Pipeline() as pipeline:\n",
    "    camera_node = pipeline.create(dai.node.Camera).build()\n",
    "\n",
    "    model_slug, model_version_slug = parse_model_slug(MODEL_SLUG)\n",
    "    model = dai.NNModelDescription(\n",
    "        modelSlug=model_slug, modelVersionSlug=model_version_slug\n",
    "    )\n",
    "\n",
    "    detection_nn = pipeline.create(dai.node.DetectionNetwork).build(camera_node, model)\n",
    "\n",
    "    frame_queue = detection_nn.passthrough.createOutputQueue()\n",
    "    detection_queue = detection_nn.out.createOutputQueue()\n",
    "\n",
    "    pipeline.start()\n",
    "\n",
    "    while pipeline.isRunning():\n",
    "        frame: np.ndarray = frame_queue.get().getCvFrame()\n",
    "        nn_output: dai.ImgDetections = detection_queue.get()\n",
    "\n",
    "        for detection in nn_output.detections:\n",
    "            xmin, ymin, xmax, ymax = (\n",
    "                detection.xmin,\n",
    "                detection.ymin,\n",
    "                detection.xmax,\n",
    "                detection.ymax,\n",
    "            )\n",
    "\n",
    "            xmin = int(xmin * frame.shape[1])\n",
    "            ymin = int(ymin * frame.shape[0])\n",
    "            xmax = int(xmax * frame.shape[1])\n",
    "            ymax = int(ymax * frame.shape[0])\n",
    "\n",
    "            cv2.rectangle(\n",
    "                frame, (int(xmin), int(ymin)), (int(xmax), int(ymax)), (255, 0, 0), 2\n",
    "            )\n",
    "            cv2.putText(\n",
    "                frame,\n",
    "                f\"{detection.confidence * 100:.2f}%\",\n",
    "                (int(xmin) + 10, int(ymin) + 20),\n",
    "                cv2.FONT_HERSHEY_TRIPLEX,\n",
    "                0.5,\n",
    "                255,\n",
    "            )\n",
    "            cv2.putText(\n",
    "                frame,\n",
    "                labels[detection.label],\n",
    "                (int(xmin) + 10, int(ymin) + 40),\n",
    "                cv2.FONT_HERSHEY_TRIPLEX,\n",
    "                0.5,\n",
    "                255,\n",
    "            )\n",
    "\n",
    "        cv2.imshow(\"Detections\", frame)\n",
    "        key = cv2.waitKey(1)\n",
    "        if key == ord(\"q\"):\n",
    "            pipeline.stop()\n",
    "            break"
   ]
  },
  {
   "cell_type": "code",
   "execution_count": null,
   "metadata": {},
   "outputs": [],
   "source": []
  }
 ],
 "metadata": {
  "kernelspec": {
   "display_name": "Python 3 (ipykernel)",
   "language": "python",
   "name": "python3"
  },
  "language_info": {
   "codemirror_mode": {
    "name": "ipython",
    "version": 3
   },
   "file_extension": ".py",
   "mimetype": "text/x-python",
   "name": "python",
   "nbconvert_exporter": "python",
   "pygments_lexer": "ipython3",
   "version": "3.11.7"
  }
 },
 "nbformat": 4,
 "nbformat_minor": 4
}
