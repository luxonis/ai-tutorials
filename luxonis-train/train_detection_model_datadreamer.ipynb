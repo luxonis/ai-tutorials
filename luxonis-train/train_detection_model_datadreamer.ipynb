{
 "cells": [
  {
   "cell_type": "markdown",
   "metadata": {},
   "source": [
    "# Training an Object Detection Model\n",
    "\n",
    "## 🌟 Overview\n",
    "In this tutorial we'll go through the process of training a custom object detection model. We'll first create a dataset, setup the training configuration and then use it to train our own NN model. We'll also validate the performance of our model, export it and make it ready for a deployment on a Luxonis device.\n",
    "\n",
    "## 📜 Table of Contents\n",
    "- [🛠️ Installation](#️-installation)\n",
    "- [🗃️ Data Preparation](#️-data-preparation)\n",
    "    - [🧐 Generating Object Detection Annotation](#-generating-object-detection-annotation)\n",
    "    - [💾 LuxonisDataset](#-luxonisdataset)\n",
    "- [🏋️‍♂️ Training](#️️-training)\n",
    "    - [⚙️ Configuration](#️-configuration)\n",
    "    - [🦾 Train](#-train)\n",
    "- [✍ Test](#-test)\n",
    "    - [🧠 Infer](#-infer)\n",
    "- [🗂️ Export and Archive](#️-export-and-archive)\n",
    "- [🤖 Deploy](#-deploy)\n",
    "- [📷 DepthAI Script](#-depthai-script)\n"
   ]
  },
  {
   "cell_type": "markdown",
   "metadata": {},
   "source": [
    "## 🛠️ Installation"
   ]
  },
  {
   "cell_type": "markdown",
   "metadata": {},
   "source": [
    "The main focus of this tutorial is using [`LuxonisTrain`](https://github.com/luxonis/luxonis-train) together with [`DataDreamer`](https://github.com/luxonis/datadreamer). [`LuxonisTrain`](https://github.com/luxonis/luxonis-train) is a user-friendly tool designed to streamline the training of deep learning models, especially for edge devices. [`DataDreamer`](https://github.com/luxonis/datadreamer) is an advanced toolkit for generating synthetic datasets and annotating images using the latest foundational models. We'll download our images from [`Kaggle`](https://www.kaggle.com/), generate annotations and store it in `LuxonisDataset`."
   ]
  },
  {
   "cell_type": "code",
   "execution_count": null,
   "metadata": {},
   "outputs": [
    {
     "name": "stdout",
     "output_type": "stream",
     "text": [
      "\n",
      "\u001b[1m[\u001b[0m\u001b[34;49mnotice\u001b[0m\u001b[1;39;49m]\u001b[0m\u001b[39;49m A new release of pip is available: \u001b[0m\u001b[31;49m24.0\u001b[0m\u001b[39;49m -> \u001b[0m\u001b[32;49m24.3.1\u001b[0m\n",
      "\u001b[1m[\u001b[0m\u001b[34;49mnotice\u001b[0m\u001b[1;39;49m]\u001b[0m\u001b[39;49m To update, run: \u001b[0m\u001b[32;49mpip install --upgrade pip\u001b[0m\n"
     ]
    }
   ],
   "source": [
    "!pip install -q kaggle datadreamer@git+https://github.com/luxonis/datadreamer.git@dev luxonis-train@git+https://github.com/luxonis/luxonis-train.git@main luxonis-ml==0.5.0"
   ]
  },
  {
   "cell_type": "markdown",
   "metadata": {},
   "source": [
    "## 🗃️ Data Preparation"
   ]
  },
  {
   "cell_type": "markdown",
   "metadata": {},
   "source": [
    "First, we need to download and prepare our dataset. For this example, we'll use a publicly available dataset from Kaggle called [`Cats and Dogs 40`](https://www.kaggle.com/datasets/stefancomanita/cats-and-dogs-40). This dataset is originally an image classification dataset. However, we will utilize the aforementioned [`DataDreamer`](https://github.com/luxonis/datadreamer) toolkit to generate object detection annotation for the images. Therefore, our task is to train a model that is able to detect cats and dogs. \n",
    "\n",
    "To download the dataset, we'll run this:"
   ]
  },
  {
   "cell_type": "code",
   "execution_count": null,
   "metadata": {},
   "outputs": [
    {
     "name": "stdout",
     "output_type": "stream",
     "text": [
      "Dataset URL: https://www.kaggle.com/datasets/stefancomanita/cats-and-dogs-40\n",
      "License(s): CC0-1.0\n",
      "Downloading cats-and-dogs-40.zip to data\n",
      "  0%|                                                | 0.00/445k [00:00<?, ?B/s]\n",
      "100%|████████████████████████████████████████| 445k/445k [00:00<00:00, 18.0MB/s]\n"
     ]
    }
   ],
   "source": [
    "# !rm -r ./data/catsAndDogs40/ # Run if you want to re-download the dataset\n",
    "!kaggle datasets download -d stefancomanita/cats-and-dogs-40 -p data --unzip"
   ]
  },
  {
   "cell_type": "markdown",
   "metadata": {},
   "source": [
    "We'll move images to one place:"
   ]
  },
  {
   "cell_type": "code",
   "execution_count": 3,
   "metadata": {},
   "outputs": [
    {
     "name": "stdout",
     "output_type": "stream",
     "text": [
      "80\n"
     ]
    }
   ],
   "source": [
    "!rm -r catdogs_dataset/\n",
    "!mkdir catdogs_dataset\n",
    "!for file in ./data/catsAndDogs40/train/cat/*.jpg; do mv \"$file\" \"${file%.*}_train_cat.${file##*.}\"; done && cp ./data/catsAndDogs40/train/cat/*.jpg ./catdogs_dataset/\n",
    "!for file in ./data/catsAndDogs40/train/dog/*.jpg; do mv \"$file\" \"${file%.*}_train_dog.${file##*.}\"; done && cp ./data/catsAndDogs40/train/dog/*.jpg ./catdogs_dataset/\n",
    "!for file in ./data/catsAndDogs40/test/cat/*.jpg; do mv \"$file\" \"${file%.*}_test_cat.${file##*.}\"; done && cp ./data/catsAndDogs40/test/cat/*.jpg ./catdogs_dataset/\n",
    "!for file in ./data/catsAndDogs40/test/dog/*.jpg; do mv \"$file\" \"${file%.*}_test_dog.${file##*.}\"; done && cp ./data/catsAndDogs40/test/dog/*.jpg ./catdogs_dataset/\n",
    "!ls ./catdogs_dataset/ | wc -l"
   ]
  },
  {
   "cell_type": "markdown",
   "metadata": {},
   "source": [
    "### 🧐 Generating Object Detection Annotation"
   ]
  },
  {
   "cell_type": "markdown",
   "metadata": {},
   "source": [
    "Now, we will use the [`DataDreamer`](https://github.com/luxonis/datadreamer) toolkit to annotate the `80` images. The toolkit will detect cats and dogs in each image and generate bounding boxes for each animal. Furthermore, using `--dataset_format luxonis-dataset` will convert the data to the correct format: `LuxonisDataset`, which we need for the training.\n",
    "\n",
    "To discover all available DataDreamer arguments, please refer to [here](https://github.com/luxonis/datadreamer?tab=readme-ov-file#-main-parameters)."
   ]
  },
  {
   "cell_type": "code",
   "execution_count": null,
   "metadata": {},
   "outputs": [
    {
     "name": "stdout",
     "output_type": "stream",
     "text": [
      "2024-11-10 23:15:05.452583: I tensorflow/core/util/port.cc:113] oneDNN custom operations are on. You may see slightly different numerical results due to floating-point round-off errors from different computation orders. To turn them off, set the environment variable `TF_ENABLE_ONEDNN_OPTS=0`.\n",
      "2024-11-10 23:15:05.509911: E external/local_xla/xla/stream_executor/cuda/cuda_dnn.cc:9261] Unable to register cuDNN factory: Attempting to register factory for plugin cuDNN when one has already been registered\n",
      "2024-11-10 23:15:05.509964: E external/local_xla/xla/stream_executor/cuda/cuda_fft.cc:607] Unable to register cuFFT factory: Attempting to register factory for plugin cuFFT when one has already been registered\n",
      "2024-11-10 23:15:05.511762: E external/local_xla/xla/stream_executor/cuda/cuda_blas.cc:1515] Unable to register cuBLAS factory: Attempting to register factory for plugin cuBLAS when one has already been registered\n",
      "2024-11-10 23:15:05.520739: I tensorflow/core/platform/cpu_feature_guard.cc:182] This TensorFlow binary is optimized to use available CPU instructions in performance-critical operations.\n",
      "To enable the following instructions: AVX2 AVX512F AVX512_VNNI FMA, in other operations, rebuild TensorFlow with the appropriate compiler flags.\n",
      "2024-11-10 23:15:06.488422: W tensorflow/compiler/tf2tensorrt/utils/py_utils.cc:38] TF-TRT Warning: Could not find TensorRT\n",
      "[nltk_data] Downloading package wordnet to /home/jovyan/nltk_data...\n",
      "[nltk_data]   Package wordnet is already up-to-date!\n",
      "\u001b[32mINFO    \u001b[0m Profanity filter is checking classes: \u001b[1m[\u001b[0m\u001b[32m'cat'\u001b[0m,   \u001b]8;id=112931;file:///opt/conda/lib/python3.11/site-packages/datadreamer/prompt_generation/profanity_filter.py\u001b\\\u001b[2mprofanity_filter.py\u001b[0m\u001b]8;;\u001b\\\u001b[2m:\u001b[0m\u001b]8;id=879234;file:///opt/conda/lib/python3.11/site-packages/datadreamer/prompt_generation/profanity_filter.py#170\u001b\\\u001b[2m170\u001b[0m\u001b]8;;\u001b\\\n",
      "         \u001b[32m'dog'\u001b[0m\u001b[1m]\u001b[0m                                          \u001b[2m                       \u001b[0m\n",
      "Generating synonyms: 100%|████████████████████████| 2/2 [00:02<00:00,  1.50s/it]\n",
      "\u001b[32mINFO    \u001b[0m Initializing OWLv2 large model\u001b[33m...\u001b[0m                 \u001b]8;id=348334;file:///opt/conda/lib/python3.11/site-packages/datadreamer/dataset_annotation/owlv2_annotator.py\u001b\\\u001b[2mowlv2_annotator.py\u001b[0m\u001b]8;;\u001b\\\u001b[2m:\u001b[0m\u001b]8;id=357352;file:///opt/conda/lib/python3.11/site-packages/datadreamer/dataset_annotation/owlv2_annotator.py#60\u001b\\\u001b[2m60\u001b[0m\u001b]8;;\u001b\\\n",
      "Annotating images: 100%|████████████████████████| 80/80 [02:07<00:00,  1.59s/it]\n",
      "\u001b[32mINFO    \u001b[0m Deleted dataset cat_dogs_dataset                 \u001b]8;id=350010;file:///opt/conda/lib/python3.11/site-packages/luxonis_ml/data/datasets/luxonis_dataset.py\u001b\\\u001b[2mluxonis_dataset.py\u001b[0m\u001b]8;;\u001b\\\u001b[2m:\u001b[0m\u001b]8;id=735775;file:///opt/conda/lib/python3.11/site-packages/luxonis_ml/data/datasets/luxonis_dataset.py#377\u001b\\\u001b[2m377\u001b[0m\u001b]8;;\u001b\\\n",
      "\u001b[32mINFO    \u001b[0m Using local dataset                    \u001b]8;id=91869;file:///opt/conda/lib/python3.11/site-packages/datadreamer/utils/luxonis_dataset_converter.py\u001b\\\u001b[2mluxonis_dataset_converter.py\u001b[0m\u001b]8;;\u001b\\\u001b[2m:\u001b[0m\u001b]8;id=921310;file:///opt/conda/lib/python3.11/site-packages/datadreamer/utils/luxonis_dataset_converter.py#160\u001b\\\u001b[2m160\u001b[0m\u001b]8;;\u001b\\\n",
      "\u001b[32mINFO    \u001b[0m Class \u001b[3;31mdog\u001b[0m\u001b[39;49m doesn't belong to any existing task. \u001b[0m  \u001b]8;id=767598;file:///opt/conda/lib/python3.11/site-packages/luxonis_ml/data/datasets/luxonis_dataset.py\u001b\\\u001b[2mluxonis_dataset.py\u001b[0m\u001b]8;;\u001b\\\u001b[2m:\u001b[0m\u001b]8;id=470099;file:///opt/conda/lib/python3.11/site-packages/luxonis_ml/data/datasets/luxonis_dataset.py#403\u001b\\\u001b[2m403\u001b[0m\u001b]8;;\u001b\\\n",
      "         \u001b[39;49mAutogenerated task \u001b[0m\u001b[3;35;49mclassification\u001b[0m\u001b[39;49m will be used.\u001b[0m  \u001b[2m                      \u001b[0m\n",
      "\u001b[32mINFO    \u001b[0m Class \u001b[3;31mdog\u001b[0m\u001b[39;49m doesn't belong to any existing task. \u001b[0m  \u001b]8;id=699545;file:///opt/conda/lib/python3.11/site-packages/luxonis_ml/data/datasets/luxonis_dataset.py\u001b\\\u001b[2mluxonis_dataset.py\u001b[0m\u001b]8;;\u001b\\\u001b[2m:\u001b[0m\u001b]8;id=149081;file:///opt/conda/lib/python3.11/site-packages/luxonis_ml/data/datasets/luxonis_dataset.py#403\u001b\\\u001b[2m403\u001b[0m\u001b]8;;\u001b\\\n",
      "         \u001b[39;49mAutogenerated task \u001b[0m\u001b[3;35;49mboundingbox\u001b[0m\u001b[39;49m will be used.\u001b[0m     \u001b[2m                      \u001b[0m\n",
      "\u001b[32mINFO    \u001b[0m Class \u001b[3;31mcat\u001b[0m\u001b[39;49m doesn't belong to any existing task. \u001b[0m  \u001b]8;id=305976;file:///opt/conda/lib/python3.11/site-packages/luxonis_ml/data/datasets/luxonis_dataset.py\u001b\\\u001b[2mluxonis_dataset.py\u001b[0m\u001b]8;;\u001b\\\u001b[2m:\u001b[0m\u001b]8;id=955410;file:///opt/conda/lib/python3.11/site-packages/luxonis_ml/data/datasets/luxonis_dataset.py#403\u001b\\\u001b[2m403\u001b[0m\u001b]8;;\u001b\\\n",
      "         \u001b[39;49mAutogenerated task \u001b[0m\u001b[3;35;49mclassification\u001b[0m\u001b[39;49m will be used.\u001b[0m  \u001b[2m                      \u001b[0m\n",
      "\u001b[32mINFO    \u001b[0m Class \u001b[3;31mcat\u001b[0m\u001b[39;49m doesn't belong to any existing task. \u001b[0m  \u001b]8;id=492089;file:///opt/conda/lib/python3.11/site-packages/luxonis_ml/data/datasets/luxonis_dataset.py\u001b\\\u001b[2mluxonis_dataset.py\u001b[0m\u001b]8;;\u001b\\\u001b[2m:\u001b[0m\u001b]8;id=878536;file:///opt/conda/lib/python3.11/site-packages/luxonis_ml/data/datasets/luxonis_dataset.py#403\u001b\\\u001b[2m403\u001b[0m\u001b]8;;\u001b\\\n",
      "         \u001b[39;49mAutogenerated task \u001b[0m\u001b[3;35;49mboundingbox\u001b[0m\u001b[39;49m will be used.\u001b[0m     \u001b[2m                      \u001b[0m\n",
      "\u001b[32mINFO    \u001b[0m Generating UUIDs\u001b[33m...\u001b[0m                              \u001b]8;id=840430;file:///opt/conda/lib/python3.11/site-packages/luxonis_ml/data/datasets/luxonis_dataset.py\u001b\\\u001b[2mluxonis_dataset.py\u001b[0m\u001b]8;;\u001b\\\u001b[2m:\u001b[0m\u001b]8;id=506421;file:///opt/conda/lib/python3.11/site-packages/luxonis_ml/data/datasets/luxonis_dataset.py#482\u001b\\\u001b[2m482\u001b[0m\u001b]8;;\u001b\\\n",
      "\u001b[32mINFO    \u001b[0m Checking arrays\u001b[33m...\u001b[0m                               \u001b]8;id=592250;file:///opt/conda/lib/python3.11/site-packages/luxonis_ml/data/datasets/luxonis_dataset.py\u001b\\\u001b[2mluxonis_dataset.py\u001b[0m\u001b]8;;\u001b\\\u001b[2m:\u001b[0m\u001b]8;id=848652;file:///opt/conda/lib/python3.11/site-packages/luxonis_ml/data/datasets/luxonis_dataset.py#442\u001b\\\u001b[2m442\u001b[0m\u001b]8;;\u001b\\\n",
      "\u001b[2K\u001b[35mProcessing arrays...\u001b[0m \u001b[90m━━━━━━━━━━━━━━━━━━━━━━━━━━━━━━━━━━━━━━\u001b[0m \u001b[35m100%\u001b[0m \u001b[32m188/188\u001b[0m \u001b[36m0:00:00\u001b[0m0m\n",
      "\u001b[?25h\u001b[32mINFO    \u001b[0m Saving annotations\u001b[33m...\u001b[0m                            \u001b]8;id=677542;file:///opt/conda/lib/python3.11/site-packages/luxonis_ml/data/datasets/luxonis_dataset.py\u001b\\\u001b[2mluxonis_dataset.py\u001b[0m\u001b]8;;\u001b\\\u001b[2m:\u001b[0m\u001b]8;id=537659;file:///opt/conda/lib/python3.11/site-packages/luxonis_ml/data/datasets/luxonis_dataset.py#501\u001b\\\u001b[2m501\u001b[0m\u001b]8;;\u001b\\\n",
      "\u001b[2K\u001b[35mProcessing data...\u001b[0m \u001b[90m━━━━━━━━━━━━━━━━━━━━━━━━━━━━━━━━━━━━━━━━\u001b[0m \u001b[35m100%\u001b[0m \u001b[32m188/188\u001b[0m \u001b[36m0:00:00\u001b[0m\n",
      "\u001b[?25h\u001b[32mINFO    \u001b[0m Detected new classes for task classification:    \u001b]8;id=699041;file:///opt/conda/lib/python3.11/site-packages/luxonis_ml/data/datasets/luxonis_dataset.py\u001b\\\u001b[2mluxonis_dataset.py\u001b[0m\u001b]8;;\u001b\\\u001b[2m:\u001b[0m\u001b]8;id=625480;file:///opt/conda/lib/python3.11/site-packages/luxonis_ml/data/datasets/luxonis_dataset.py#588\u001b\\\u001b[2m588\u001b[0m\u001b]8;;\u001b\\\n",
      "         \u001b[1m[\u001b[0m\u001b[32m'dog'\u001b[0m, \u001b[32m'cat'\u001b[0m\u001b[1m]\u001b[0m                                   \u001b[2m                      \u001b[0m\n",
      "\u001b[32mINFO    \u001b[0m Detected new classes for task boundingbox:       \u001b]8;id=700941;file:///opt/conda/lib/python3.11/site-packages/luxonis_ml/data/datasets/luxonis_dataset.py\u001b\\\u001b[2mluxonis_dataset.py\u001b[0m\u001b]8;;\u001b\\\u001b[2m:\u001b[0m\u001b]8;id=439873;file:///opt/conda/lib/python3.11/site-packages/luxonis_ml/data/datasets/luxonis_dataset.py#588\u001b\\\u001b[2m588\u001b[0m\u001b]8;;\u001b\\\n",
      "         \u001b[1m[\u001b[0m\u001b[32m'dog'\u001b[0m, \u001b[32m'cat'\u001b[0m\u001b[1m]\u001b[0m                                   \u001b[2m                      \u001b[0m\n"
     ]
    }
   ],
   "source": [
    "!datadreamer --save_dir catdogs_dataset \\\n",
    "            --class_names cat dog \\\n",
    "            --prompts_number 80 \\\n",
    "            --num_objects_range 1 1 \\\n",
    "            --synonym_generator wordnet \\\n",
    "            --image_annotator owlv2 \\\n",
    "            --annotator_size large \\\n",
    "            --annotate_only \\\n",
    "            --disable_lm_filter \\\n",
    "            --conf_threshold 0.4 \\\n",
    "            --annotation_iou_threshold 0.5 \\\n",
    "            --dataset_name cat_dogs_dataset \\\n",
    "            --dataset_format luxonis-dataset \\\n",
    "            --split_ratios 0.7 0.15 0.15 \\\n",
    "            --seed 123"
   ]
  },
  {
   "cell_type": "markdown",
   "metadata": {},
   "source": [
    "Now, let's visualize the generated bounding boxes for one image."
   ]
  },
  {
   "cell_type": "code",
   "execution_count": null,
   "metadata": {},
   "outputs": [
    {
     "data": {
      "image/jpeg": "[encoded data removed]",
      "text/plain": [
       "<IPython.core.display.Image object>"
      ]
     },
     "execution_count": 5,
     "metadata": {},
     "output_type": "execute_result"
    }
   ],
   "source": [
    "from IPython.display import Image\n",
    "Image(filename='catdogs_dataset/bboxes_visualization/bbox_5.jpg')"
   ]
  },
  {
   "cell_type": "markdown",
   "metadata": {},
   "source": [
    "### 💾 LuxonisDataset"
   ]
  },
  {
   "cell_type": "markdown",
   "metadata": {},
   "source": [
    "Thanks to the `DataDreamer`, our dataset is already in the correct format: `LuxonisDataset`."
   ]
  },
  {
   "cell_type": "markdown",
   "metadata": {},
   "source": [
    "To verify that the data is correctly loaded and split into subsets we can check the dataset's information and visualizations of the annotations."
   ]
  },
  {
   "cell_type": "code",
   "execution_count": null,
   "metadata": {},
   "outputs": [
    {
     "name": "stdout",
     "output_type": "stream",
     "text": [
      "╭────────── Dataset Info ──────────╮\n",
      "│ \u001b[1;35mName: \u001b[0m\u001b[36mcat_dogs_dataset\u001b[0m           │\n",
      "│                                  │\n",
      "│ ╭─ Split Sizes ─╮                │\n",
      "│ │ \u001b[1;35mtrain: \u001b[0m\u001b[36m56\u001b[0m     │                │\n",
      "│ │ \u001b[1;35mval: \u001b[0m\u001b[36m12\u001b[0m       │                │\n",
      "│ │ \u001b[1;35mtest: \u001b[0m\u001b[36m12\u001b[0m      │                │\n",
      "│ │ \u001b[92m─────────────\u001b[0m │                │\n",
      "│ │ \u001b[1;35mTotal: \u001b[0m\u001b[36m80\u001b[0m     │                │\n",
      "│ ╰───────────────╯                │\n",
      "│ \u001b[3m            Classes             \u001b[0m │\n",
      "│ ╭────────────────┬─────────────╮ │\n",
      "│ │\u001b[1;3;35m \u001b[0m\u001b[1;3;35mTask          \u001b[0m\u001b[1;3;35m \u001b[0m│\u001b[1;3;35m \u001b[0m\u001b[1;3;35mClass Names\u001b[0m\u001b[1;3;35m \u001b[0m│ │\n",
      "│ ├────────────────┼─────────────┤ │\n",
      "│ │\u001b[33m \u001b[0m\u001b[33mclassification\u001b[0m\u001b[33m \u001b[0m│\u001b[33m \u001b[0m\u001b[33mcat, dog   \u001b[0m\u001b[33m \u001b[0m│ │\n",
      "│ │\u001b[36m \u001b[0m\u001b[36mboundingbox   \u001b[0m\u001b[36m \u001b[0m│\u001b[36m \u001b[0m\u001b[36mcat, dog   \u001b[0m\u001b[36m \u001b[0m│ │\n",
      "│ ╰────────────────┴─────────────╯ │\n",
      "╰──────────────────────────────────╯\n"
     ]
    }
   ],
   "source": [
    "!luxonis_ml data info cat_dogs_dataset"
   ]
  },
  {
   "cell_type": "code",
   "execution_count": null,
   "metadata": {},
   "outputs": [],
   "source": [
    "!luxonis_ml data inspect cat_dogs_dataset # NOTE: If you are on Google Colab this command will not work"
   ]
  },
  {
   "cell_type": "markdown",
   "metadata": {},
   "source": [
    "## 🏋️‍♂️ Training"
   ]
  },
  {
   "cell_type": "markdown",
   "metadata": {},
   "source": [
    "### ⚙️ Configuration"
   ]
  },
  {
   "cell_type": "markdown",
   "metadata": {},
   "source": [
    "We have prepared the dataset, and we are almost ready for the actual training. The last step is just to set up our training configuration file. The whole training process in `LuxonisTrain` doesn't require any coding. We advise you to take one of the base configuration files from [here](https://github.com/luxonis/luxonis-train/tree/main/configs) depending on the task and then edit you to fit your needs.\n",
    "\n",
    "In our case we are training an object detection and thus we'll take a [`detection_light_model.yaml`](https://github.com/luxonis/luxonis-train/blob/main/configs/detection_light_model.yaml) as a starting point, which downloads a pretrained COCO weights and so it is ideal for fine tuning. There are a lot of parameters that we can change, and we advise you to go through the [`documentation`](https://github.com/luxonis/luxonis-train/blob/main/configs/README.md) to find all of them. In this tutorial, we'll only go through some basic ones to get you started on your journey.\n",
    "\n",
    "#### Model\n",
    "In this section, you can either choose one of the predefined architectures (all of them listed [here](https://github.com/luxonis/luxonis-train/tree/main/luxonis_train/config/predefined_models)) or create a completely custom neural network by connection different nodes, losses, metrics, and visualizers together. We'll go with the predefined `DetectionModel`.\n",
    "\n",
    "#### Loader\n",
    "This section of the config referes to the data loading. You can either set up your custom Loader or use the default one with the `LuxonisDataset`. In our case, we'll go with the second option, and all we need to do is to set `dataset_name` to `cat_dogs_dataset`.\n",
    "\n",
    "#### Trainer\n",
    "In this section, we can set up everything connected to actual training. You can change preprocessing, batch size, epochs, add callbacks, augmentations, change optimizers, schedulers and many more. Please refer to the [full documentation](https://github.com/luxonis/luxonis-train/tree/main/configs). \n",
    "\n",
    "**Augmentations**\n",
    "In our case, we'll leave most of the things as they are; the only change will be adding some augmentations. We use [`Albumentations`](https://albumentations.ai/) for our augmentations with the addition of some custom ones like Mosaic4 and MixUp. You can use [this demo](https://demo.albumentations.ai/) to experiment and find those that work for your specific training run. We can add some Affine transforms; for this specific training run, we'll add some Affine transforms, HorizontalFlip, ColorJitter, and Sharpen, but feel free to edit this.\n",
    "\n",
    "**Callbacks**\n",
    "Callbacks are very helpful when we want to merge more functionalities into a single training run. For example, we want first to train the model then evaluate it on test subset, export it and create an archive. All of these steps can be defined through the config and done by a single call. For the purpose of a nicer explanation we won't be using them in this tutorial but feel free to set them up on your own. You can check out all the available callbacks [here](https://github.com/luxonis/luxonis-train/tree/main/luxonis_train/callbacks)"
   ]
  },
  {
   "cell_type": "markdown",
   "metadata": {},
   "source": [
    "Below is a starting point for your config. As mentioned we already made some changes to it so it works with this tutorial (change of model name, dataset name and addition of augmentations) but feel free to edit it further and make it your own. When you are done editing you can just execute the cell and the file will be written and ready to use.\n",
    "\n",
    "**Note**: In case you don't have enough compute on your machine you can either use [Google Colab](https://colab.research.google.com/) (with GPU enabled) or you can try lowering number of epochs and/or batch size but in that case performance might drop."
   ]
  },
  {
   "cell_type": "code",
   "execution_count": 7,
   "metadata": {},
   "outputs": [
    {
     "name": "stdout",
     "output_type": "stream",
     "text": [
      "Overwriting cat_dog_detection_config.yaml\n"
     ]
    }
   ],
   "source": [
    "%%writefile cat_dog_detection_config.yaml\n",
    "model:\n",
    "  name: cat_dog_detection_model\n",
    "  predefined_model:\n",
    "    name: DetectionModel\n",
    "    params:\n",
    "      variant: light\n",
    "\n",
    "loader:\n",
    "  params:\n",
    "    dataset_name: cat_dogs_dataset\n",
    "\n",
    "trainer:\n",
    "  preprocessing:\n",
    "    train_image_size: [320, 320]\n",
    "    keep_aspect_ratio: true\n",
    "    normalize:\n",
    "      active: true\n",
    "\n",
    "    augmentations:\n",
    "      - name: Affine\n",
    "        params:\n",
    "          scale: [0.7, 1.7]\n",
    "          rotate: 20\n",
    "          shear: 5\n",
    "          p: 0.3\n",
    "      - name: HorizontalFlip\n",
    "        params:\n",
    "          p: 0.3\n",
    "      - name: ColorJitter\n",
    "        params:\n",
    "          brightness: [0.8, 1.2]\n",
    "          contrast: [0.8, 1.2]\n",
    "          saturation: [0.8, 1.2]\n",
    "          hue: 0\n",
    "          p: 0.2\n",
    "      - name: Sharpen\n",
    "        params:\n",
    "          p: 0.3\n",
    "\n",
    "  batch_size: 8\n",
    "  epochs: &epochs 50\n",
    "  n_workers: 8\n",
    "  validation_interval: 10\n",
    "  n_log_images: 8\n",
    "\n",
    "  optimizer:\n",
    "    name: SGD\n",
    "    params:\n",
    "      lr: 0.0002           \n",
    "      momentum: 0.843      \n",
    "      weight_decay: 0.00036 \n",
    "      dampening: 0.0        \n",
    "      nesterov: true    \n",
    "\n",
    "  scheduler:\n",
    "    name: CosineAnnealingLR\n",
    "    params:\n",
    "      T_max: *epochs         \n",
    "      eta_min: 0.00001\n",
    "\n",
    "  callbacks:\n",
    "    - name: EMACallback\n",
    "      params:\n",
    "        decay: 0.9999 \n",
    "        use_dynamic_decay: True \n",
    "        decay_tau: 2000"
   ]
  },
  {
   "cell_type": "markdown",
   "metadata": {},
   "source": [
    "### 🦾 Train"
   ]
  },
  {
   "cell_type": "markdown",
   "metadata": {},
   "source": [
    "To start the training we just need to initialize the `LuxonisModel`, pass it the path to the configuration file and call the `train()` method on it.\n",
    "\n",
    "**Note**: LuxonisTrain also supports all these commands through usage of its CLI ([docs here](https://github.com/luxonis/luxonis-train/tree/main?tab=readme-ov-file#-cli)), no code required. We won't use them for tutorial purposes but when you do it yourself feel free to use them."
   ]
  },
  {
   "cell_type": "code",
   "execution_count": null,
   "metadata": {},
   "outputs": [],
   "source": [
    "from luxonis_train import LuxonisModel\n",
    "\n",
    "config_path = \"cat_dog_detection_config.yaml\"\n",
    "\n",
    "luxonis_model = LuxonisModel(config_path)\n",
    "luxonis_model.train()"
   ]
  },
  {
   "cell_type": "markdown",
   "metadata": {},
   "source": [
    "`LuxonisTrain` already implements automatic tracking of our training runs. By default, `Tensorboard` is used, and to look at the losses, metrics, and visualizations during training, we can inspect the logs. If you check the `output` folder, you'll see that every run creates a new directory in it, and each run also has its own training logs in the `./output/tensorboard_logs` where the name of the folder matches the run's name. To make all the subsequent commands work automatically, please set the name of your run below."
   ]
  },
  {
   "cell_type": "code",
   "execution_count": 9,
   "metadata": {},
   "outputs": [],
   "source": [
    "RUN_NAME = \"79-blush-viper\""
   ]
  },
  {
   "cell_type": "code",
   "execution_count": null,
   "metadata": {},
   "outputs": [],
   "source": [
    "%load_ext tensorboard\n",
    "%tensorboard --logdir output/tensorboard_logs/{RUN_NAME}/ # TODO: Change the name of the training run"
   ]
  },
  {
   "cell_type": "markdown",
   "metadata": {},
   "source": [
    "## ✍ Test"
   ]
  },
  {
   "cell_type": "markdown",
   "metadata": {},
   "source": [
    "Now we have a model that we are happy with, that seems to perform well on the validation set. The next step is to check its performance on the testing set. This is a collection of images that we've kept hidden from the model so far and should be only used to objectively evaluate if the model is good or not. Since this is an object detection task we use mean average precision metric to quantitatively check the model performance.\n",
    "\n",
    "If you check out ran directory you'll see two folders inside: `best_val_metric` and `min_val_loss`. Both of these have checkpoint files that were generated during trainig based on best validation metric performance and minimal validation loss respectively. For evaluation we'll want to use one of these checkpoints, we recommend you use one that has lowest validation loss."
   ]
  },
  {
   "cell_type": "code",
   "execution_count": 11,
   "metadata": {},
   "outputs": [
    {
     "data": {
      "text/html": [
       "<pre style=\"white-space:pre;overflow-x:auto;line-height:normal;font-family:Menlo,'DejaVu Sans Mono',consolas,'Courier New',monospace\"><span style=\"color: #008000; text-decoration-color: #008000\">INFO    </span> Loaded checkpoint from                                                            <a href=\"file:///opt/conda/lib/python3.11/site-packages/luxonis_train/models/luxonis_lightning.py\" target=\"_blank\"><span style=\"color: #7f7f7f; text-decoration-color: #7f7f7f\">luxonis_lightning.py</span></a><span style=\"color: #7f7f7f; text-decoration-color: #7f7f7f\">:</span><a href=\"file:///opt/conda/lib/python3.11/site-packages/luxonis_train/models/luxonis_lightning.py#937\" target=\"_blank\"><span style=\"color: #7f7f7f; text-decoration-color: #7f7f7f\">937</span></a>\n",
       "         <span style=\"color: #800080; text-decoration-color: #800080\">/home/jovyan/output/79-blush-viper/min_val_loss/</span><span style=\"color: #ff00ff; text-decoration-color: #ff00ff\">cat_dog_detection_model_loss</span>=<span style=\"color: #008080; text-decoration-color: #008080; font-weight: bold\">0.</span>72 <span style=\"color: #7f7f7f; text-decoration-color: #7f7f7f\">                        </span>\n",
       "         17_49.ckpt.                                                                       <span style=\"color: #7f7f7f; text-decoration-color: #7f7f7f\">                        </span>\n",
       "</pre>\n"
      ],
      "text/plain": [
       "\u001b[32mINFO    \u001b[0m Loaded checkpoint from                                                            \u001b]8;id=590588;file:///opt/conda/lib/python3.11/site-packages/luxonis_train/models/luxonis_lightning.py\u001b\\\u001b[2mluxonis_lightning.py\u001b[0m\u001b]8;;\u001b\\\u001b[2m:\u001b[0m\u001b]8;id=833434;file:///opt/conda/lib/python3.11/site-packages/luxonis_train/models/luxonis_lightning.py#937\u001b\\\u001b[2m937\u001b[0m\u001b]8;;\u001b\\\n",
       "         \u001b[35m/home/jovyan/output/79-blush-viper/min_val_loss/\u001b[0m\u001b[95mcat_dog_detection_model_loss\u001b[0m=\u001b[1;36m0\u001b[0m\u001b[1;36m.\u001b[0m72 \u001b[2m                        \u001b[0m\n",
       "         17_49.ckpt.                                                                       \u001b[2m                        \u001b[0m\n"
      ]
     },
     "metadata": {},
     "output_type": "display_data"
    },
    {
     "data": {
      "text/html": [
       "<pre style=\"white-space:pre;overflow-x:auto;line-height:normal;font-family:Menlo,'DejaVu Sans Mono',consolas,'Courier New',monospace\"><span style=\"color: #008000; text-decoration-color: #008000\">INFO    </span> The following callbacks returned in `LightningModule.configure_callbacks` will override    <a href=\"file:///opt/conda/lib/python3.11/site-packages/lightning_utilities/core/rank_zero.py\" target=\"_blank\"><span style=\"color: #7f7f7f; text-decoration-color: #7f7f7f\">rank_zero.py</span></a><span style=\"color: #7f7f7f; text-decoration-color: #7f7f7f\">:</span><a href=\"file:///opt/conda/lib/python3.11/site-packages/lightning_utilities/core/rank_zero.py#64\" target=\"_blank\"><span style=\"color: #7f7f7f; text-decoration-color: #7f7f7f\">64</span></a>\n",
       "         existing callbacks passed to Trainer: EMACallback, ModelCheckpoint, RichModelSummary       <span style=\"color: #7f7f7f; text-decoration-color: #7f7f7f\">               </span>\n",
       "</pre>\n"
      ],
      "text/plain": [
       "\u001b[32mINFO    \u001b[0m The following callbacks returned in `LightningModule.configure_callbacks` will override    \u001b]8;id=863017;file:///opt/conda/lib/python3.11/site-packages/lightning_utilities/core/rank_zero.py\u001b\\\u001b[2mrank_zero.py\u001b[0m\u001b]8;;\u001b\\\u001b[2m:\u001b[0m\u001b]8;id=131333;file:///opt/conda/lib/python3.11/site-packages/lightning_utilities/core/rank_zero.py#64\u001b\\\u001b[2m64\u001b[0m\u001b]8;;\u001b\\\n",
       "         existing callbacks passed to Trainer: EMACallback, ModelCheckpoint, RichModelSummary       \u001b[2m               \u001b[0m\n"
      ]
     },
     "metadata": {},
     "output_type": "display_data"
    },
    {
     "name": "stderr",
     "output_type": "stream",
     "text": [
      "LOCAL_RANK: 0 - CUDA_VISIBLE_DEVICES: [0]\n"
     ]
    },
    {
     "data": {
      "application/vnd.jupyter.widget-view+json": {
       "model_id": "352aed178b254a209329456d2001a60e",
       "version_major": 2,
       "version_minor": 0
      },
      "text/plain": [
       "Output()"
      ]
     },
     "metadata": {},
     "output_type": "display_data"
    },
    {
     "data": {
      "text/html": [
       "<pre style=\"white-space:pre;overflow-x:auto;line-height:normal;font-family:Menlo,'DejaVu Sans Mono',consolas,'Courier New',monospace\"><span style=\"color: #008000; text-decoration-color: #008000\">INFO    </span> Computing metrics on test subset <span style=\"color: #808000; text-decoration-color: #808000\">...</span>                                              <a href=\"file:///opt/conda/lib/python3.11/site-packages/luxonis_train/models/luxonis_lightning.py\" target=\"_blank\"><span style=\"color: #7f7f7f; text-decoration-color: #7f7f7f\">luxonis_lightning.py</span></a><span style=\"color: #7f7f7f; text-decoration-color: #7f7f7f\">:</span><a href=\"file:///opt/conda/lib/python3.11/site-packages/luxonis_train/models/luxonis_lightning.py#785\" target=\"_blank\"><span style=\"color: #7f7f7f; text-decoration-color: #7f7f7f\">785</span></a>\n",
       "</pre>\n"
      ],
      "text/plain": [
       "\u001b[32mINFO    \u001b[0m Computing metrics on test subset \u001b[33m...\u001b[0m                                              \u001b]8;id=135393;file:///opt/conda/lib/python3.11/site-packages/luxonis_train/models/luxonis_lightning.py\u001b\\\u001b[2mluxonis_lightning.py\u001b[0m\u001b]8;;\u001b\\\u001b[2m:\u001b[0m\u001b]8;id=24954;file:///opt/conda/lib/python3.11/site-packages/luxonis_train/models/luxonis_lightning.py#785\u001b\\\u001b[2m785\u001b[0m\u001b]8;;\u001b\\\n"
      ]
     },
     "metadata": {},
     "output_type": "display_data"
    },
    {
     "data": {
      "text/html": [
       "<pre style=\"white-space:pre;overflow-x:auto;line-height:normal;font-family:Menlo,'DejaVu Sans Mono',consolas,'Courier New',monospace\"><span style=\"color: #008000; text-decoration-color: #008000\">INFO    </span> Metrics computed.                                                                 <a href=\"file:///opt/conda/lib/python3.11/site-packages/luxonis_train/models/luxonis_lightning.py\" target=\"_blank\"><span style=\"color: #7f7f7f; text-decoration-color: #7f7f7f\">luxonis_lightning.py</span></a><span style=\"color: #7f7f7f; text-decoration-color: #7f7f7f\">:</span><a href=\"file:///opt/conda/lib/python3.11/site-packages/luxonis_train/models/luxonis_lightning.py#787\" target=\"_blank\"><span style=\"color: #7f7f7f; text-decoration-color: #7f7f7f\">787</span></a>\n",
       "</pre>\n"
      ],
      "text/plain": [
       "\u001b[32mINFO    \u001b[0m Metrics computed.                                                                 \u001b]8;id=158226;file:///opt/conda/lib/python3.11/site-packages/luxonis_train/models/luxonis_lightning.py\u001b\\\u001b[2mluxonis_lightning.py\u001b[0m\u001b]8;;\u001b\\\u001b[2m:\u001b[0m\u001b]8;id=943289;file:///opt/conda/lib/python3.11/site-packages/luxonis_train/models/luxonis_lightning.py#787\u001b\\\u001b[2m787\u001b[0m\u001b]8;;\u001b\\\n"
      ]
     },
     "metadata": {},
     "output_type": "display_data"
    },
    {
     "data": {
      "text/html": [
       "<pre style=\"white-space:pre;overflow-x:auto;line-height:normal;font-family:Menlo,'DejaVu Sans Mono',consolas,'Courier New',monospace\"><span style=\"color: #008000; text-decoration-color: #008000\">INFO    </span> Test loss: <span style=\"color: #008080; text-decoration-color: #008080; font-weight: bold\">1.1702</span>                                                                 <a href=\"file:///opt/conda/lib/python3.11/site-packages/luxonis_train/models/luxonis_lightning.py\" target=\"_blank\"><span style=\"color: #7f7f7f; text-decoration-color: #7f7f7f\">luxonis_lightning.py</span></a><span style=\"color: #7f7f7f; text-decoration-color: #7f7f7f\">:</span><a href=\"file:///opt/conda/lib/python3.11/site-packages/luxonis_train/models/luxonis_lightning.py#992\" target=\"_blank\"><span style=\"color: #7f7f7f; text-decoration-color: #7f7f7f\">992</span></a>\n",
       "</pre>\n"
      ],
      "text/plain": [
       "\u001b[32mINFO    \u001b[0m Test loss: \u001b[1;36m1.1702\u001b[0m                                                                 \u001b]8;id=270508;file:///opt/conda/lib/python3.11/site-packages/luxonis_train/models/luxonis_lightning.py\u001b\\\u001b[2mluxonis_lightning.py\u001b[0m\u001b]8;;\u001b\\\u001b[2m:\u001b[0m\u001b]8;id=721017;file:///opt/conda/lib/python3.11/site-packages/luxonis_train/models/luxonis_lightning.py#992\u001b\\\u001b[2m992\u001b[0m\u001b]8;;\u001b\\\n"
      ]
     },
     "metadata": {},
     "output_type": "display_data"
    },
    {
     "data": {
      "text/html": [
       "<pre style=\"white-space:pre;overflow-x:auto;line-height:normal;font-family:Menlo,'DejaVu Sans Mono',consolas,'Courier New',monospace\"><span style=\"color: #800080; text-decoration-color: #800080; font-weight: bold\">────────────────────────────────────────────────────── </span>Test<span style=\"color: #800080; text-decoration-color: #800080; font-weight: bold\"> ───────────────────────────────────────────────────────</span>\n",
       "</pre>\n"
      ],
      "text/plain": [
       "\u001b[1;35m────────────────────────────────────────────────────── \u001b[0mTest\u001b[1;35m ───────────────────────────────────────────────────────\u001b[0m\n"
      ]
     },
     "metadata": {},
     "output_type": "display_data"
    },
    {
     "data": {
      "text/html": [
       "<pre style=\"white-space:pre;overflow-x:auto;line-height:normal;font-family:Menlo,'DejaVu Sans Mono',consolas,'Courier New',monospace\"><span style=\"color: #800080; text-decoration-color: #800080; font-weight: bold\">Loss:</span> <span style=\"color: #c0c0c0; text-decoration-color: #c0c0c0; font-weight: bold\">1.1702080368995667</span>\n",
       "</pre>\n"
      ],
      "text/plain": [
       "\u001b[1;35mLoss:\u001b[0m \u001b[1;37m1.1702080368995667\u001b[0m\n"
      ]
     },
     "metadata": {},
     "output_type": "display_data"
    },
    {
     "data": {
      "text/html": [
       "<pre style=\"white-space:pre;overflow-x:auto;line-height:normal;font-family:Menlo,'DejaVu Sans Mono',consolas,'Courier New',monospace\"><span style=\"color: #800080; text-decoration-color: #800080; font-weight: bold\">Metrics:</span>\n",
       "</pre>\n"
      ],
      "text/plain": [
       "\u001b[1;35mMetrics:\u001b[0m\n"
      ]
     },
     "metadata": {},
     "output_type": "display_data"
    },
    {
     "data": {
      "text/html": [
       "<pre style=\"white-space:pre;overflow-x:auto;line-height:normal;font-family:Menlo,'DejaVu Sans Mono',consolas,'Courier New',monospace\"><span style=\"font-style: italic\">         EfficientBBoxHead-boundingbox         </span>\n",
       "┏━━━━━━━━━━━━━━━━━━━━━━━━━━━━━━━━━━┳━━━━━━━━━━┓\n",
       "┃<span style=\"color: #800080; text-decoration-color: #800080; font-weight: bold\"> Name                             </span>┃<span style=\"color: #800080; text-decoration-color: #800080; font-weight: bold\"> Value    </span>┃\n",
       "┡━━━━━━━━━━━━━━━━━━━━━━━━━━━━━━━━━━╇━━━━━━━━━━┩\n",
       "│<span style=\"color: #800080; text-decoration-color: #800080\"> MeanAveragePrecision-boundingbox </span>│<span style=\"color: #c0c0c0; text-decoration-color: #c0c0c0\"> 0.83024  </span>│\n",
       "│<span style=\"color: #800080; text-decoration-color: #800080\"> map_50                           </span>│<span style=\"color: #c0c0c0; text-decoration-color: #c0c0c0\"> 0.93564  </span>│\n",
       "│<span style=\"color: #800080; text-decoration-color: #800080\"> map_75                           </span>│<span style=\"color: #c0c0c0; text-decoration-color: #c0c0c0\"> 0.93564  </span>│\n",
       "│<span style=\"color: #800080; text-decoration-color: #800080\"> map_small                        </span>│<span style=\"color: #c0c0c0; text-decoration-color: #c0c0c0\"> -1.00000 </span>│\n",
       "│<span style=\"color: #800080; text-decoration-color: #800080\"> map_medium                       </span>│<span style=\"color: #c0c0c0; text-decoration-color: #c0c0c0\"> 0.00000  </span>│\n",
       "│<span style=\"color: #800080; text-decoration-color: #800080\"> map_large                        </span>│<span style=\"color: #c0c0c0; text-decoration-color: #c0c0c0\"> 0.88727  </span>│\n",
       "│<span style=\"color: #800080; text-decoration-color: #800080\"> mar_1                            </span>│<span style=\"color: #c0c0c0; text-decoration-color: #c0c0c0\"> 0.77500  </span>│\n",
       "│<span style=\"color: #800080; text-decoration-color: #800080\"> mar_10                           </span>│<span style=\"color: #c0c0c0; text-decoration-color: #c0c0c0\"> 0.85000  </span>│\n",
       "│<span style=\"color: #800080; text-decoration-color: #800080\"> mar_100                          </span>│<span style=\"color: #c0c0c0; text-decoration-color: #c0c0c0\"> 0.85000  </span>│\n",
       "│<span style=\"color: #800080; text-decoration-color: #800080\"> mar_small                        </span>│<span style=\"color: #c0c0c0; text-decoration-color: #c0c0c0\"> -1.00000 </span>│\n",
       "│<span style=\"color: #800080; text-decoration-color: #800080\"> mar_medium                       </span>│<span style=\"color: #c0c0c0; text-decoration-color: #c0c0c0\"> 0.00000  </span>│\n",
       "│<span style=\"color: #800080; text-decoration-color: #800080\"> mar_large                        </span>│<span style=\"color: #c0c0c0; text-decoration-color: #c0c0c0\"> 0.90714  </span>│\n",
       "│<span style=\"color: #800080; text-decoration-color: #800080\"> f1_small                         </span>│<span style=\"color: #c0c0c0; text-decoration-color: #c0c0c0\"> -1.00000 </span>│\n",
       "│<span style=\"color: #800080; text-decoration-color: #800080\"> f1_medium                        </span>│<span style=\"color: #c0c0c0; text-decoration-color: #c0c0c0\"> nan      </span>│\n",
       "│<span style=\"color: #800080; text-decoration-color: #800080\"> f1_large                         </span>│<span style=\"color: #c0c0c0; text-decoration-color: #c0c0c0\"> 0.89710  </span>│\n",
       "└──────────────────────────────────┴──────────┘\n",
       "</pre>\n"
      ],
      "text/plain": [
       "\u001b[3m         EfficientBBoxHead-boundingbox         \u001b[0m\n",
       "┏━━━━━━━━━━━━━━━━━━━━━━━━━━━━━━━━━━┳━━━━━━━━━━┓\n",
       "┃\u001b[1;35m \u001b[0m\u001b[1;35mName                            \u001b[0m\u001b[1;35m \u001b[0m┃\u001b[1;35m \u001b[0m\u001b[1;35mValue   \u001b[0m\u001b[1;35m \u001b[0m┃\n",
       "┡━━━━━━━━━━━━━━━━━━━━━━━━━━━━━━━━━━╇━━━━━━━━━━┩\n",
       "│\u001b[35m \u001b[0m\u001b[35mMeanAveragePrecision-boundingbox\u001b[0m\u001b[35m \u001b[0m│\u001b[37m \u001b[0m\u001b[37m0.83024 \u001b[0m\u001b[37m \u001b[0m│\n",
       "│\u001b[35m \u001b[0m\u001b[35mmap_50                          \u001b[0m\u001b[35m \u001b[0m│\u001b[37m \u001b[0m\u001b[37m0.93564 \u001b[0m\u001b[37m \u001b[0m│\n",
       "│\u001b[35m \u001b[0m\u001b[35mmap_75                          \u001b[0m\u001b[35m \u001b[0m│\u001b[37m \u001b[0m\u001b[37m0.93564 \u001b[0m\u001b[37m \u001b[0m│\n",
       "│\u001b[35m \u001b[0m\u001b[35mmap_small                       \u001b[0m\u001b[35m \u001b[0m│\u001b[37m \u001b[0m\u001b[37m-1.00000\u001b[0m\u001b[37m \u001b[0m│\n",
       "│\u001b[35m \u001b[0m\u001b[35mmap_medium                      \u001b[0m\u001b[35m \u001b[0m│\u001b[37m \u001b[0m\u001b[37m0.00000 \u001b[0m\u001b[37m \u001b[0m│\n",
       "│\u001b[35m \u001b[0m\u001b[35mmap_large                       \u001b[0m\u001b[35m \u001b[0m│\u001b[37m \u001b[0m\u001b[37m0.88727 \u001b[0m\u001b[37m \u001b[0m│\n",
       "│\u001b[35m \u001b[0m\u001b[35mmar_1                           \u001b[0m\u001b[35m \u001b[0m│\u001b[37m \u001b[0m\u001b[37m0.77500 \u001b[0m\u001b[37m \u001b[0m│\n",
       "│\u001b[35m \u001b[0m\u001b[35mmar_10                          \u001b[0m\u001b[35m \u001b[0m│\u001b[37m \u001b[0m\u001b[37m0.85000 \u001b[0m\u001b[37m \u001b[0m│\n",
       "│\u001b[35m \u001b[0m\u001b[35mmar_100                         \u001b[0m\u001b[35m \u001b[0m│\u001b[37m \u001b[0m\u001b[37m0.85000 \u001b[0m\u001b[37m \u001b[0m│\n",
       "│\u001b[35m \u001b[0m\u001b[35mmar_small                       \u001b[0m\u001b[35m \u001b[0m│\u001b[37m \u001b[0m\u001b[37m-1.00000\u001b[0m\u001b[37m \u001b[0m│\n",
       "│\u001b[35m \u001b[0m\u001b[35mmar_medium                      \u001b[0m\u001b[35m \u001b[0m│\u001b[37m \u001b[0m\u001b[37m0.00000 \u001b[0m\u001b[37m \u001b[0m│\n",
       "│\u001b[35m \u001b[0m\u001b[35mmar_large                       \u001b[0m\u001b[35m \u001b[0m│\u001b[37m \u001b[0m\u001b[37m0.90714 \u001b[0m\u001b[37m \u001b[0m│\n",
       "│\u001b[35m \u001b[0m\u001b[35mf1_small                        \u001b[0m\u001b[35m \u001b[0m│\u001b[37m \u001b[0m\u001b[37m-1.00000\u001b[0m\u001b[37m \u001b[0m│\n",
       "│\u001b[35m \u001b[0m\u001b[35mf1_medium                       \u001b[0m\u001b[35m \u001b[0m│\u001b[37m \u001b[0m\u001b[37mnan     \u001b[0m\u001b[37m \u001b[0m│\n",
       "│\u001b[35m \u001b[0m\u001b[35mf1_large                        \u001b[0m\u001b[35m \u001b[0m│\u001b[37m \u001b[0m\u001b[37m0.89710 \u001b[0m\u001b[37m \u001b[0m│\n",
       "└──────────────────────────────────┴──────────┘\n"
      ]
     },
     "metadata": {},
     "output_type": "display_data"
    },
    {
     "data": {
      "text/html": [
       "<pre style=\"white-space:pre;overflow-x:auto;line-height:normal;font-family:Menlo,'DejaVu Sans Mono',consolas,'Courier New',monospace\"><span style=\"color: #800080; text-decoration-color: #800080; font-weight: bold\">───────────────────────────────────────────────────────────────────────────────────────────────────────────────────</span>\n",
       "</pre>\n"
      ],
      "text/plain": [
       "\u001b[1;35m───────────────────────────────────────────────────────────────────────────────────────────────────────────────────\u001b[0m\n"
      ]
     },
     "metadata": {},
     "output_type": "display_data"
    },
    {
     "data": {
      "text/html": [
       "<pre style=\"white-space:pre;overflow-x:auto;line-height:normal;font-family:Menlo,'DejaVu Sans Mono',consolas,'Courier New',monospace\"><span style=\"color: #008000; text-decoration-color: #008000\">INFO    </span> Test main metric                                                                 <a href=\"file:///opt/conda/lib/python3.11/site-packages/luxonis_train/models/luxonis_lightning.py\" target=\"_blank\"><span style=\"color: #7f7f7f; text-decoration-color: #7f7f7f\">luxonis_lightning.py</span></a><span style=\"color: #7f7f7f; text-decoration-color: #7f7f7f\">:</span><a href=\"file:///opt/conda/lib/python3.11/site-packages/luxonis_train/models/luxonis_lightning.py#1001\" target=\"_blank\"><span style=\"color: #7f7f7f; text-decoration-color: #7f7f7f\">1001</span></a>\n",
       "         <span style=\"font-weight: bold\">(</span>EfficientBBoxHead-boundingbox/MeanAveragePrecision-boundingbox<span style=\"font-weight: bold\">)</span>: <span style=\"color: #008080; text-decoration-color: #008080; font-weight: bold\">0.8302</span>         <span style=\"color: #7f7f7f; text-decoration-color: #7f7f7f\">                         </span>\n",
       "</pre>\n"
      ],
      "text/plain": [
       "\u001b[32mINFO    \u001b[0m Test main metric                                                                 \u001b]8;id=236797;file:///opt/conda/lib/python3.11/site-packages/luxonis_train/models/luxonis_lightning.py\u001b\\\u001b[2mluxonis_lightning.py\u001b[0m\u001b]8;;\u001b\\\u001b[2m:\u001b[0m\u001b]8;id=655870;file:///opt/conda/lib/python3.11/site-packages/luxonis_train/models/luxonis_lightning.py#1001\u001b\\\u001b[2m1001\u001b[0m\u001b]8;;\u001b\\\n",
       "         \u001b[1m(\u001b[0mEfficientBBoxHead-boundingbox/MeanAveragePrecision-boundingbox\u001b[1m)\u001b[0m: \u001b[1;36m0.8302\u001b[0m         \u001b[2m                         \u001b[0m\n"
      ]
     },
     "metadata": {},
     "output_type": "display_data"
    },
    {
     "data": {
      "text/html": [
       "<pre style=\"white-space:pre;overflow-x:auto;line-height:normal;font-family:Menlo,'DejaVu Sans Mono',consolas,'Courier New',monospace\">┏━━━━━━━━━━━━━━━━━━━━━━━━━━━━━━━━━━━━━━━━━━━━━━━━━━━━━━━━┳━━━━━━━━━━━━━━━━━━━━━━━━━━━━━━━━━━━━━━━━━━━━━━━━━━━━━━━━┓\n",
       "┃<span style=\"font-weight: bold\">                      Test metric                       </span>┃<span style=\"font-weight: bold\">                      DataLoader 0                      </span>┃\n",
       "┡━━━━━━━━━━━━━━━━━━━━━━━━━━━━━━━━━━━━━━━━━━━━━━━━━━━━━━━━╇━━━━━━━━━━━━━━━━━━━━━━━━━━━━━━━━━━━━━━━━━━━━━━━━━━━━━━━━┩\n",
       "│<span style=\"color: #008080; text-decoration-color: #008080\">                       test/loss                        </span>│<span style=\"color: #800080; text-decoration-color: #800080\">                   1.1702079772949219                   </span>│\n",
       "│<span style=\"color: #008080; text-decoration-color: #008080\"> test/loss/EfficientBBoxHead-boundingbox/AdaptiveDetec… </span>│<span style=\"color: #800080; text-decoration-color: #800080\">                   1.1702079772949219                   </span>│\n",
       "│<span style=\"color: #008080; text-decoration-color: #008080\"> test/loss/EfficientBBoxHead-boundingbox/AdaptiveDetec… </span>│<span style=\"color: #800080; text-decoration-color: #800080\">                   0.9317578077316284                   </span>│\n",
       "│<span style=\"color: #008080; text-decoration-color: #008080\"> test/loss/EfficientBBoxHead-boundingbox/AdaptiveDetec… </span>│<span style=\"color: #800080; text-decoration-color: #800080\">                  0.09538006782531738                   </span>│\n",
       "│<span style=\"color: #008080; text-decoration-color: #008080\"> test/metric/EfficientBBoxHead-boundingbox/MeanAverage… </span>│<span style=\"color: #800080; text-decoration-color: #800080\">                   0.8302392959594727                   </span>│\n",
       "│<span style=\"color: #008080; text-decoration-color: #008080\">   test/metric/EfficientBBoxHead-boundingbox/f1_large   </span>│<span style=\"color: #800080; text-decoration-color: #800080\">                   0.8970958590507507                   </span>│\n",
       "│<span style=\"color: #008080; text-decoration-color: #008080\">  test/metric/EfficientBBoxHead-boundingbox/f1_medium   </span>│<span style=\"color: #800080; text-decoration-color: #800080\">                          nan                           </span>│\n",
       "│<span style=\"color: #008080; text-decoration-color: #008080\">   test/metric/EfficientBBoxHead-boundingbox/f1_small   </span>│<span style=\"color: #800080; text-decoration-color: #800080\">                          -1.0                          </span>│\n",
       "│<span style=\"color: #008080; text-decoration-color: #008080\">    test/metric/EfficientBBoxHead-boundingbox/map_50    </span>│<span style=\"color: #800080; text-decoration-color: #800080\">                   0.9356435537338257                   </span>│\n",
       "│<span style=\"color: #008080; text-decoration-color: #008080\">    test/metric/EfficientBBoxHead-boundingbox/map_75    </span>│<span style=\"color: #800080; text-decoration-color: #800080\">                   0.9356435537338257                   </span>│\n",
       "│<span style=\"color: #008080; text-decoration-color: #008080\">  test/metric/EfficientBBoxHead-boundingbox/map_large   </span>│<span style=\"color: #800080; text-decoration-color: #800080\">                   0.8872689604759216                   </span>│\n",
       "│<span style=\"color: #008080; text-decoration-color: #008080\">  test/metric/EfficientBBoxHead-boundingbox/map_medium  </span>│<span style=\"color: #800080; text-decoration-color: #800080\">                          0.0                           </span>│\n",
       "│<span style=\"color: #008080; text-decoration-color: #008080\">  test/metric/EfficientBBoxHead-boundingbox/map_small   </span>│<span style=\"color: #800080; text-decoration-color: #800080\">                          -1.0                          </span>│\n",
       "│<span style=\"color: #008080; text-decoration-color: #008080\">    test/metric/EfficientBBoxHead-boundingbox/mar_1     </span>│<span style=\"color: #800080; text-decoration-color: #800080\">                   0.7749999761581421                   </span>│\n",
       "│<span style=\"color: #008080; text-decoration-color: #008080\">    test/metric/EfficientBBoxHead-boundingbox/mar_10    </span>│<span style=\"color: #800080; text-decoration-color: #800080\">                   0.8500000238418579                   </span>│\n",
       "│<span style=\"color: #008080; text-decoration-color: #008080\">   test/metric/EfficientBBoxHead-boundingbox/mar_100    </span>│<span style=\"color: #800080; text-decoration-color: #800080\">                   0.8500000238418579                   </span>│\n",
       "│<span style=\"color: #008080; text-decoration-color: #008080\">  test/metric/EfficientBBoxHead-boundingbox/mar_large   </span>│<span style=\"color: #800080; text-decoration-color: #800080\">                   0.9071428775787354                   </span>│\n",
       "│<span style=\"color: #008080; text-decoration-color: #008080\">  test/metric/EfficientBBoxHead-boundingbox/mar_medium  </span>│<span style=\"color: #800080; text-decoration-color: #800080\">                          0.0                           </span>│\n",
       "│<span style=\"color: #008080; text-decoration-color: #008080\">  test/metric/EfficientBBoxHead-boundingbox/mar_small   </span>│<span style=\"color: #800080; text-decoration-color: #800080\">                          -1.0                          </span>│\n",
       "└────────────────────────────────────────────────────────┴────────────────────────────────────────────────────────┘\n",
       "</pre>\n"
      ],
      "text/plain": [
       "┏━━━━━━━━━━━━━━━━━━━━━━━━━━━━━━━━━━━━━━━━━━━━━━━━━━━━━━━━┳━━━━━━━━━━━━━━━━━━━━━━━━━━━━━━━━━━━━━━━━━━━━━━━━━━━━━━━━┓\n",
       "┃\u001b[1m \u001b[0m\u001b[1m                     Test metric                      \u001b[0m\u001b[1m \u001b[0m┃\u001b[1m \u001b[0m\u001b[1m                     DataLoader 0                     \u001b[0m\u001b[1m \u001b[0m┃\n",
       "┡━━━━━━━━━━━━━━━━━━━━━━━━━━━━━━━━━━━━━━━━━━━━━━━━━━━━━━━━╇━━━━━━━━━━━━━━━━━━━━━━━━━━━━━━━━━━━━━━━━━━━━━━━━━━━━━━━━┩\n",
       "│\u001b[36m \u001b[0m\u001b[36m                      test/loss                       \u001b[0m\u001b[36m \u001b[0m│\u001b[35m \u001b[0m\u001b[35m                  1.1702079772949219                  \u001b[0m\u001b[35m \u001b[0m│\n",
       "│\u001b[36m \u001b[0m\u001b[36mtest/loss/EfficientBBoxHead-boundingbox/AdaptiveDetec…\u001b[0m\u001b[36m \u001b[0m│\u001b[35m \u001b[0m\u001b[35m                  1.1702079772949219                  \u001b[0m\u001b[35m \u001b[0m│\n",
       "│\u001b[36m \u001b[0m\u001b[36mtest/loss/EfficientBBoxHead-boundingbox/AdaptiveDetec…\u001b[0m\u001b[36m \u001b[0m│\u001b[35m \u001b[0m\u001b[35m                  0.9317578077316284                  \u001b[0m\u001b[35m \u001b[0m│\n",
       "│\u001b[36m \u001b[0m\u001b[36mtest/loss/EfficientBBoxHead-boundingbox/AdaptiveDetec…\u001b[0m\u001b[36m \u001b[0m│\u001b[35m \u001b[0m\u001b[35m                 0.09538006782531738                  \u001b[0m\u001b[35m \u001b[0m│\n",
       "│\u001b[36m \u001b[0m\u001b[36mtest/metric/EfficientBBoxHead-boundingbox/MeanAverage…\u001b[0m\u001b[36m \u001b[0m│\u001b[35m \u001b[0m\u001b[35m                  0.8302392959594727                  \u001b[0m\u001b[35m \u001b[0m│\n",
       "│\u001b[36m \u001b[0m\u001b[36m  test/metric/EfficientBBoxHead-boundingbox/f1_large  \u001b[0m\u001b[36m \u001b[0m│\u001b[35m \u001b[0m\u001b[35m                  0.8970958590507507                  \u001b[0m\u001b[35m \u001b[0m│\n",
       "│\u001b[36m \u001b[0m\u001b[36m test/metric/EfficientBBoxHead-boundingbox/f1_medium  \u001b[0m\u001b[36m \u001b[0m│\u001b[35m \u001b[0m\u001b[35m                         nan                          \u001b[0m\u001b[35m \u001b[0m│\n",
       "│\u001b[36m \u001b[0m\u001b[36m  test/metric/EfficientBBoxHead-boundingbox/f1_small  \u001b[0m\u001b[36m \u001b[0m│\u001b[35m \u001b[0m\u001b[35m                         -1.0                         \u001b[0m\u001b[35m \u001b[0m│\n",
       "│\u001b[36m \u001b[0m\u001b[36m   test/metric/EfficientBBoxHead-boundingbox/map_50   \u001b[0m\u001b[36m \u001b[0m│\u001b[35m \u001b[0m\u001b[35m                  0.9356435537338257                  \u001b[0m\u001b[35m \u001b[0m│\n",
       "│\u001b[36m \u001b[0m\u001b[36m   test/metric/EfficientBBoxHead-boundingbox/map_75   \u001b[0m\u001b[36m \u001b[0m│\u001b[35m \u001b[0m\u001b[35m                  0.9356435537338257                  \u001b[0m\u001b[35m \u001b[0m│\n",
       "│\u001b[36m \u001b[0m\u001b[36m test/metric/EfficientBBoxHead-boundingbox/map_large  \u001b[0m\u001b[36m \u001b[0m│\u001b[35m \u001b[0m\u001b[35m                  0.8872689604759216                  \u001b[0m\u001b[35m \u001b[0m│\n",
       "│\u001b[36m \u001b[0m\u001b[36m test/metric/EfficientBBoxHead-boundingbox/map_medium \u001b[0m\u001b[36m \u001b[0m│\u001b[35m \u001b[0m\u001b[35m                         0.0                          \u001b[0m\u001b[35m \u001b[0m│\n",
       "│\u001b[36m \u001b[0m\u001b[36m test/metric/EfficientBBoxHead-boundingbox/map_small  \u001b[0m\u001b[36m \u001b[0m│\u001b[35m \u001b[0m\u001b[35m                         -1.0                         \u001b[0m\u001b[35m \u001b[0m│\n",
       "│\u001b[36m \u001b[0m\u001b[36m   test/metric/EfficientBBoxHead-boundingbox/mar_1    \u001b[0m\u001b[36m \u001b[0m│\u001b[35m \u001b[0m\u001b[35m                  0.7749999761581421                  \u001b[0m\u001b[35m \u001b[0m│\n",
       "│\u001b[36m \u001b[0m\u001b[36m   test/metric/EfficientBBoxHead-boundingbox/mar_10   \u001b[0m\u001b[36m \u001b[0m│\u001b[35m \u001b[0m\u001b[35m                  0.8500000238418579                  \u001b[0m\u001b[35m \u001b[0m│\n",
       "│\u001b[36m \u001b[0m\u001b[36m  test/metric/EfficientBBoxHead-boundingbox/mar_100   \u001b[0m\u001b[36m \u001b[0m│\u001b[35m \u001b[0m\u001b[35m                  0.8500000238418579                  \u001b[0m\u001b[35m \u001b[0m│\n",
       "│\u001b[36m \u001b[0m\u001b[36m test/metric/EfficientBBoxHead-boundingbox/mar_large  \u001b[0m\u001b[36m \u001b[0m│\u001b[35m \u001b[0m\u001b[35m                  0.9071428775787354                  \u001b[0m\u001b[35m \u001b[0m│\n",
       "│\u001b[36m \u001b[0m\u001b[36m test/metric/EfficientBBoxHead-boundingbox/mar_medium \u001b[0m\u001b[36m \u001b[0m│\u001b[35m \u001b[0m\u001b[35m                         0.0                          \u001b[0m\u001b[35m \u001b[0m│\n",
       "│\u001b[36m \u001b[0m\u001b[36m test/metric/EfficientBBoxHead-boundingbox/mar_small  \u001b[0m\u001b[36m \u001b[0m│\u001b[35m \u001b[0m\u001b[35m                         -1.0                         \u001b[0m\u001b[35m \u001b[0m│\n",
       "└────────────────────────────────────────────────────────┴────────────────────────────────────────────────────────┘\n"
      ]
     },
     "metadata": {},
     "output_type": "display_data"
    },
    {
     "data": {
      "text/html": [
       "<pre style=\"white-space:pre;overflow-x:auto;line-height:normal;font-family:Menlo,'DejaVu Sans Mono',consolas,'Courier New',monospace\"></pre>\n"
      ],
      "text/plain": []
     },
     "metadata": {},
     "output_type": "display_data"
    },
    {
     "data": {
      "text/html": [
       "<pre style=\"white-space:pre;overflow-x:auto;line-height:normal;font-family:Menlo,'DejaVu Sans Mono',consolas,'Courier New',monospace\">\n",
       "</pre>\n"
      ],
      "text/plain": [
       "\n"
      ]
     },
     "metadata": {},
     "output_type": "display_data"
    }
   ],
   "source": [
    "weights = luxonis_model.get_min_loss_checkpoint_path() # gets checkpoint where validation loss was the lowest\n",
    "# weights = luxonis_model.get_best_metric_checkpoint_path() # gets checkpoint where validation metric was the highest\n",
    "\n",
    "metrics = luxonis_model.test(view=\"test\", weights=weights)"
   ]
  },
  {
   "cell_type": "markdown",
   "metadata": {},
   "source": [
    "### 🧠 Infer"
   ]
  },
  {
   "cell_type": "markdown",
   "metadata": {},
   "source": [
    "Usually, we also want to check the qualitative performance of our model, i.e., how well it visually predicts on the test images. This is called inference, and we can perform it either on one of the views (e.g., test) or a random image, directory of images, or whole video (for more details, refer to the [docs](https://github.com/luxonis/luxonis-train/tree/main?tab=readme-ov-file#inference)). In our case, we'll infer or test images."
   ]
  },
  {
   "cell_type": "code",
   "execution_count": null,
   "metadata": {},
   "outputs": [
    {
     "data": {
      "text/html": [
       "<pre style=\"white-space:pre;overflow-x:auto;line-height:normal;font-family:Menlo,'DejaVu Sans Mono',consolas,'Courier New',monospace\"><span style=\"color: #008000; text-decoration-color: #008000\">INFO    </span> Loaded checkpoint from                                                            <a href=\"file:///opt/conda/lib/python3.11/site-packages/luxonis_train/models/luxonis_lightning.py\" target=\"_blank\"><span style=\"color: #7f7f7f; text-decoration-color: #7f7f7f\">luxonis_lightning.py</span></a><span style=\"color: #7f7f7f; text-decoration-color: #7f7f7f\">:</span><a href=\"file:///opt/conda/lib/python3.11/site-packages/luxonis_train/models/luxonis_lightning.py#937\" target=\"_blank\"><span style=\"color: #7f7f7f; text-decoration-color: #7f7f7f\">937</span></a>\n",
       "         <span style=\"color: #800080; text-decoration-color: #800080\">/home/jovyan/output/79-blush-viper/min_val_loss/</span><span style=\"color: #ff00ff; text-decoration-color: #ff00ff\">cat_dog_detection_model_loss</span>=<span style=\"color: #008080; text-decoration-color: #008080; font-weight: bold\">0.</span>72 <span style=\"color: #7f7f7f; text-decoration-color: #7f7f7f\">                        </span>\n",
       "         17_49.ckpt.                                                                       <span style=\"color: #7f7f7f; text-decoration-color: #7f7f7f\">                        </span>\n",
       "</pre>\n"
      ],
      "text/plain": [
       "\u001b[32mINFO    \u001b[0m Loaded checkpoint from                                                            \u001b]8;id=5859;file:///opt/conda/lib/python3.11/site-packages/luxonis_train/models/luxonis_lightning.py\u001b\\\u001b[2mluxonis_lightning.py\u001b[0m\u001b]8;;\u001b\\\u001b[2m:\u001b[0m\u001b]8;id=567578;file:///opt/conda/lib/python3.11/site-packages/luxonis_train/models/luxonis_lightning.py#937\u001b\\\u001b[2m937\u001b[0m\u001b]8;;\u001b\\\n",
       "         \u001b[35m/home/jovyan/output/79-blush-viper/min_val_loss/\u001b[0m\u001b[95mcat_dog_detection_model_loss\u001b[0m=\u001b[1;36m0\u001b[0m\u001b[1;36m.\u001b[0m72 \u001b[2m                        \u001b[0m\n",
       "         17_49.ckpt.                                                                       \u001b[2m                        \u001b[0m\n"
      ]
     },
     "metadata": {},
     "output_type": "display_data"
    },
    {
     "data": {
      "text/html": [
       "<pre style=\"white-space:pre;overflow-x:auto;line-height:normal;font-family:Menlo,'DejaVu Sans Mono',consolas,'Courier New',monospace\"><span style=\"color: #008000; text-decoration-color: #008000\">INFO    </span> The following callbacks returned in `LightningModule.configure_callbacks` will override    <a href=\"file:///opt/conda/lib/python3.11/site-packages/lightning_utilities/core/rank_zero.py\" target=\"_blank\"><span style=\"color: #7f7f7f; text-decoration-color: #7f7f7f\">rank_zero.py</span></a><span style=\"color: #7f7f7f; text-decoration-color: #7f7f7f\">:</span><a href=\"file:///opt/conda/lib/python3.11/site-packages/lightning_utilities/core/rank_zero.py#64\" target=\"_blank\"><span style=\"color: #7f7f7f; text-decoration-color: #7f7f7f\">64</span></a>\n",
       "         existing callbacks passed to Trainer: EMACallback, ModelCheckpoint, RichModelSummary       <span style=\"color: #7f7f7f; text-decoration-color: #7f7f7f\">               </span>\n",
       "</pre>\n"
      ],
      "text/plain": [
       "\u001b[32mINFO    \u001b[0m The following callbacks returned in `LightningModule.configure_callbacks` will override    \u001b]8;id=767927;file:///opt/conda/lib/python3.11/site-packages/lightning_utilities/core/rank_zero.py\u001b\\\u001b[2mrank_zero.py\u001b[0m\u001b]8;;\u001b\\\u001b[2m:\u001b[0m\u001b]8;id=379852;file:///opt/conda/lib/python3.11/site-packages/lightning_utilities/core/rank_zero.py#64\u001b\\\u001b[2m64\u001b[0m\u001b]8;;\u001b\\\n",
       "         existing callbacks passed to Trainer: EMACallback, ModelCheckpoint, RichModelSummary       \u001b[2m               \u001b[0m\n"
      ]
     },
     "metadata": {},
     "output_type": "display_data"
    },
    {
     "name": "stderr",
     "output_type": "stream",
     "text": [
      "LOCAL_RANK: 0 - CUDA_VISIBLE_DEVICES: [0]\n"
     ]
    },
    {
     "data": {
      "application/vnd.jupyter.widget-view+json": {
       "model_id": "b2199f66d3724a12b8d3b1d83c7175ed",
       "version_major": 2,
       "version_minor": 0
      },
      "text/plain": [
       "Output()"
      ]
     },
     "metadata": {},
     "output_type": "display_data"
    },
    {
     "data": {
      "text/html": [
       "<pre style=\"white-space:pre;overflow-x:auto;line-height:normal;font-family:Menlo,'DejaVu Sans Mono',consolas,'Courier New',monospace\"></pre>\n"
      ],
      "text/plain": []
     },
     "metadata": {},
     "output_type": "display_data"
    },
    {
     "data": {
      "text/html": [
       "<pre style=\"white-space:pre;overflow-x:auto;line-height:normal;font-family:Menlo,'DejaVu Sans Mono',consolas,'Courier New',monospace\">\n",
       "</pre>\n"
      ],
      "text/plain": [
       "\n"
      ]
     },
     "metadata": {},
     "output_type": "display_data"
    }
   ],
   "source": [
    "luxonis_model.infer(\n",
    "    weights=weights,\n",
    "    view=\"test\"\n",
    ")\n",
    "\n",
    "# NOTE: If you are using Google Colab use this and images will be saved to \"infer_results\" directory\n",
    "# luxonis_model.infer(weights=weights, save_dir=\"infer_results\")"
   ]
  },
  {
   "cell_type": "markdown",
   "metadata": {},
   "source": [
    "## 🗂️ Export and Archive"
   ]
  },
  {
   "cell_type": "markdown",
   "metadata": {},
   "source": [
    "Once the model is trained and tested, we want to prepare it for deployment on the device. This preparation consists of 2 steps. First, we want to export the model that was trained with PyTorch to a more general format called ONNX. Then, we want to package this exported model with all the metadata that holds information about the inputs, outputs, and training configuration used. This is called archiving. These steps can be easily done by just one command in LuxonisTrain."
   ]
  },
  {
   "cell_type": "code",
   "execution_count": 13,
   "metadata": {},
   "outputs": [
    {
     "data": {
      "text/html": [
       "<pre style=\"white-space:pre;overflow-x:auto;line-height:normal;font-family:Menlo,'DejaVu Sans Mono',consolas,'Courier New',monospace\"><span style=\"color: #008000; text-decoration-color: #008000\">INFO    </span> Loaded checkpoint from                                                            <a href=\"file:///opt/conda/lib/python3.11/site-packages/luxonis_train/models/luxonis_lightning.py\" target=\"_blank\"><span style=\"color: #7f7f7f; text-decoration-color: #7f7f7f\">luxonis_lightning.py</span></a><span style=\"color: #7f7f7f; text-decoration-color: #7f7f7f\">:</span><a href=\"file:///opt/conda/lib/python3.11/site-packages/luxonis_train/models/luxonis_lightning.py#937\" target=\"_blank\"><span style=\"color: #7f7f7f; text-decoration-color: #7f7f7f\">937</span></a>\n",
       "         <span style=\"color: #800080; text-decoration-color: #800080\">/home/jovyan/output/79-blush-viper/min_val_loss/</span><span style=\"color: #ff00ff; text-decoration-color: #ff00ff\">cat_dog_detection_model_loss</span>=<span style=\"color: #008080; text-decoration-color: #008080; font-weight: bold\">0.</span>72 <span style=\"color: #7f7f7f; text-decoration-color: #7f7f7f\">                        </span>\n",
       "         17_49.ckpt.                                                                       <span style=\"color: #7f7f7f; text-decoration-color: #7f7f7f\">                        </span>\n",
       "</pre>\n"
      ],
      "text/plain": [
       "\u001b[32mINFO    \u001b[0m Loaded checkpoint from                                                            \u001b]8;id=103749;file:///opt/conda/lib/python3.11/site-packages/luxonis_train/models/luxonis_lightning.py\u001b\\\u001b[2mluxonis_lightning.py\u001b[0m\u001b]8;;\u001b\\\u001b[2m:\u001b[0m\u001b]8;id=649675;file:///opt/conda/lib/python3.11/site-packages/luxonis_train/models/luxonis_lightning.py#937\u001b\\\u001b[2m937\u001b[0m\u001b]8;;\u001b\\\n",
       "         \u001b[35m/home/jovyan/output/79-blush-viper/min_val_loss/\u001b[0m\u001b[95mcat_dog_detection_model_loss\u001b[0m=\u001b[1;36m0\u001b[0m\u001b[1;36m.\u001b[0m72 \u001b[2m                        \u001b[0m\n",
       "         17_49.ckpt.                                                                       \u001b[2m                        \u001b[0m\n"
      ]
     },
     "metadata": {},
     "output_type": "display_data"
    },
    {
     "data": {
      "text/html": [
       "<pre style=\"white-space:pre;overflow-x:auto;line-height:normal;font-family:Menlo,'DejaVu Sans Mono',consolas,'Courier New',monospace\"><span style=\"color: #808000; text-decoration-color: #808000\">WARNING </span> No model executable specified for archiving.                                                   <a href=\"file:///opt/conda/lib/python3.11/site-packages/luxonis_train/core/core.py\" target=\"_blank\"><span style=\"color: #7f7f7f; text-decoration-color: #7f7f7f\">core.py</span></a><span style=\"color: #7f7f7f; text-decoration-color: #7f7f7f\">:</span><a href=\"file:///opt/conda/lib/python3.11/site-packages/luxonis_train/core/core.py#716\" target=\"_blank\"><span style=\"color: #7f7f7f; text-decoration-color: #7f7f7f\">716</span></a>\n",
       "</pre>\n"
      ],
      "text/plain": [
       "\u001b[33mWARNING \u001b[0m No model executable specified for archiving.                                                   \u001b]8;id=580629;file:///opt/conda/lib/python3.11/site-packages/luxonis_train/core/core.py\u001b\\\u001b[2mcore.py\u001b[0m\u001b]8;;\u001b\\\u001b[2m:\u001b[0m\u001b]8;id=640460;file:///opt/conda/lib/python3.11/site-packages/luxonis_train/core/core.py#716\u001b\\\u001b[2m716\u001b[0m\u001b]8;;\u001b\\\n"
      ]
     },
     "metadata": {},
     "output_type": "display_data"
    },
    {
     "data": {
      "text/html": [
       "<pre style=\"white-space:pre;overflow-x:auto;line-height:normal;font-family:Menlo,'DejaVu Sans Mono',consolas,'Courier New',monospace\"><span style=\"color: #008000; text-decoration-color: #008000\">INFO    </span> Exporting model to ONNX<span style=\"color: #808000; text-decoration-color: #808000\">...</span>                                                                     <a href=\"file:///opt/conda/lib/python3.11/site-packages/luxonis_train/core/core.py\" target=\"_blank\"><span style=\"color: #7f7f7f; text-decoration-color: #7f7f7f\">core.py</span></a><span style=\"color: #7f7f7f; text-decoration-color: #7f7f7f\">:</span><a href=\"file:///opt/conda/lib/python3.11/site-packages/luxonis_train/core/core.py#718\" target=\"_blank\"><span style=\"color: #7f7f7f; text-decoration-color: #7f7f7f\">718</span></a>\n",
       "</pre>\n"
      ],
      "text/plain": [
       "\u001b[32mINFO    \u001b[0m Exporting model to ONNX\u001b[33m...\u001b[0m                                                                     \u001b]8;id=772664;file:///opt/conda/lib/python3.11/site-packages/luxonis_train/core/core.py\u001b\\\u001b[2mcore.py\u001b[0m\u001b]8;;\u001b\\\u001b[2m:\u001b[0m\u001b]8;id=753924;file:///opt/conda/lib/python3.11/site-packages/luxonis_train/core/core.py#718\u001b\\\u001b[2m718\u001b[0m\u001b]8;;\u001b\\\n"
      ]
     },
     "metadata": {},
     "output_type": "display_data"
    },
    {
     "data": {
      "text/html": [
       "<pre style=\"white-space:pre;overflow-x:auto;line-height:normal;font-family:Menlo,'DejaVu Sans Mono',consolas,'Courier New',monospace\"><span style=\"color: #808000; text-decoration-color: #808000\">WARNING </span> No model weights specified. Exporting model without weights.                                   <a href=\"file:///opt/conda/lib/python3.11/site-packages/luxonis_train/core/core.py\" target=\"_blank\"><span style=\"color: #7f7f7f; text-decoration-color: #7f7f7f\">core.py</span></a><span style=\"color: #7f7f7f; text-decoration-color: #7f7f7f\">:</span><a href=\"file:///opt/conda/lib/python3.11/site-packages/luxonis_train/core/core.py#335\" target=\"_blank\"><span style=\"color: #7f7f7f; text-decoration-color: #7f7f7f\">335</span></a>\n",
       "</pre>\n"
      ],
      "text/plain": [
       "\u001b[33mWARNING \u001b[0m No model weights specified. Exporting model without weights.                                   \u001b]8;id=997791;file:///opt/conda/lib/python3.11/site-packages/luxonis_train/core/core.py\u001b\\\u001b[2mcore.py\u001b[0m\u001b]8;;\u001b\\\u001b[2m:\u001b[0m\u001b]8;id=196704;file:///opt/conda/lib/python3.11/site-packages/luxonis_train/core/core.py#335\u001b\\\u001b[2m335\u001b[0m\u001b]8;;\u001b\\\n"
      ]
     },
     "metadata": {},
     "output_type": "display_data"
    },
    {
     "data": {
      "text/html": [
       "<pre style=\"white-space:pre;overflow-x:auto;line-height:normal;font-family:Menlo,'DejaVu Sans Mono',consolas,'Courier New',monospace\"><span style=\"color: #008000; text-decoration-color: #008000\">INFO    </span> Reparametrizing <span style=\"color: #008000; text-decoration-color: #008000\">'EfficientRep'</span>.                                                        <a href=\"file:///opt/conda/lib/python3.11/site-packages/luxonis_train/nodes/backbones/efficientrep/efficientrep.py\" target=\"_blank\"><span style=\"color: #7f7f7f; text-decoration-color: #7f7f7f\">efficientrep.py</span></a><span style=\"color: #7f7f7f; text-decoration-color: #7f7f7f\">:</span><a href=\"file:///opt/conda/lib/python3.11/site-packages/luxonis_train/nodes/backbones/efficientrep/efficientrep.py#140\" target=\"_blank\"><span style=\"color: #7f7f7f; text-decoration-color: #7f7f7f\">140</span></a>\n",
       "</pre>\n"
      ],
      "text/plain": [
       "\u001b[32mINFO    \u001b[0m Reparametrizing \u001b[32m'EfficientRep'\u001b[0m.                                                        \u001b]8;id=702483;file:///opt/conda/lib/python3.11/site-packages/luxonis_train/nodes/backbones/efficientrep/efficientrep.py\u001b\\\u001b[2mefficientrep.py\u001b[0m\u001b]8;;\u001b\\\u001b[2m:\u001b[0m\u001b]8;id=924336;file:///opt/conda/lib/python3.11/site-packages/luxonis_train/nodes/backbones/efficientrep/efficientrep.py#140\u001b\\\u001b[2m140\u001b[0m\u001b]8;;\u001b\\\n"
      ]
     },
     "metadata": {},
     "output_type": "display_data"
    },
    {
     "data": {
      "text/html": [
       "<pre style=\"white-space:pre;overflow-x:auto;line-height:normal;font-family:Menlo,'DejaVu Sans Mono',consolas,'Courier New',monospace\"><span style=\"color: #008000; text-decoration-color: #008000\">INFO    </span> Reparametrizing <span style=\"color: #008000; text-decoration-color: #008000\">'RepPANNeck'</span>.                                                           <a href=\"file:///opt/conda/lib/python3.11/site-packages/luxonis_train/nodes/necks/reppan_neck/reppan_neck.py\" target=\"_blank\"><span style=\"color: #7f7f7f; text-decoration-color: #7f7f7f\">reppan_neck.py</span></a><span style=\"color: #7f7f7f; text-decoration-color: #7f7f7f\">:</span><a href=\"file:///opt/conda/lib/python3.11/site-packages/luxonis_train/nodes/necks/reppan_neck/reppan_neck.py#197\" target=\"_blank\"><span style=\"color: #7f7f7f; text-decoration-color: #7f7f7f\">197</span></a>\n",
       "</pre>\n"
      ],
      "text/plain": [
       "\u001b[32mINFO    \u001b[0m Reparametrizing \u001b[32m'RepPANNeck'\u001b[0m.                                                           \u001b]8;id=705450;file:///opt/conda/lib/python3.11/site-packages/luxonis_train/nodes/necks/reppan_neck/reppan_neck.py\u001b\\\u001b[2mreppan_neck.py\u001b[0m\u001b]8;;\u001b\\\u001b[2m:\u001b[0m\u001b]8;id=220863;file:///opt/conda/lib/python3.11/site-packages/luxonis_train/nodes/necks/reppan_neck/reppan_neck.py#197\u001b\\\u001b[2m197\u001b[0m\u001b]8;;\u001b\\\n"
      ]
     },
     "metadata": {},
     "output_type": "display_data"
    },
    {
     "data": {
      "text/html": [
       "<pre style=\"white-space:pre;overflow-x:auto;line-height:normal;font-family:Menlo,'DejaVu Sans Mono',consolas,'Courier New',monospace\"><span style=\"color: #008000; text-decoration-color: #008000\">INFO    </span> Model exported to output/<span style=\"color: #008080; text-decoration-color: #008080; font-weight: bold\">79</span>-blush-viper/export/cat_dog_detection_model.onnx       <a href=\"file:///opt/conda/lib/python3.11/site-packages/luxonis_train/models/luxonis_lightning.py\" target=\"_blank\"><span style=\"color: #7f7f7f; text-decoration-color: #7f7f7f\">luxonis_lightning.py</span></a><span style=\"color: #7f7f7f; text-decoration-color: #7f7f7f\">:</span><a href=\"file:///opt/conda/lib/python3.11/site-packages/luxonis_train/models/luxonis_lightning.py#612\" target=\"_blank\"><span style=\"color: #7f7f7f; text-decoration-color: #7f7f7f\">612</span></a>\n",
       "</pre>\n"
      ],
      "text/plain": [
       "\u001b[32mINFO    \u001b[0m Model exported to output/\u001b[1;36m79\u001b[0m-blush-viper/export/cat_dog_detection_model.onnx       \u001b]8;id=405175;file:///opt/conda/lib/python3.11/site-packages/luxonis_train/models/luxonis_lightning.py\u001b\\\u001b[2mluxonis_lightning.py\u001b[0m\u001b]8;;\u001b\\\u001b[2m:\u001b[0m\u001b]8;id=681665;file:///opt/conda/lib/python3.11/site-packages/luxonis_train/models/luxonis_lightning.py#612\u001b\\\u001b[2m612\u001b[0m\u001b]8;;\u001b\\\n"
      ]
     },
     "metadata": {},
     "output_type": "display_data"
    },
    {
     "data": {
      "text/html": [
       "<pre style=\"white-space:pre;overflow-x:auto;line-height:normal;font-family:Menlo,'DejaVu Sans Mono',consolas,'Courier New',monospace\"><span style=\"color: #008000; text-decoration-color: #008000\">INFO    </span> Simplifying ONNX model<span style=\"color: #808000; text-decoration-color: #808000\">...</span>                                                               <a href=\"file:///opt/conda/lib/python3.11/site-packages/luxonis_train/core/utils/export_utils.py\" target=\"_blank\"><span style=\"color: #7f7f7f; text-decoration-color: #7f7f7f\">export_utils.py</span></a><span style=\"color: #7f7f7f; text-decoration-color: #7f7f7f\">:</span><a href=\"file:///opt/conda/lib/python3.11/site-packages/luxonis_train/core/utils/export_utils.py#41\" target=\"_blank\"><span style=\"color: #7f7f7f; text-decoration-color: #7f7f7f\">41</span></a>\n",
       "</pre>\n"
      ],
      "text/plain": [
       "\u001b[32mINFO    \u001b[0m Simplifying ONNX model\u001b[33m...\u001b[0m                                                               \u001b]8;id=85338;file:///opt/conda/lib/python3.11/site-packages/luxonis_train/core/utils/export_utils.py\u001b\\\u001b[2mexport_utils.py\u001b[0m\u001b]8;;\u001b\\\u001b[2m:\u001b[0m\u001b]8;id=671589;file:///opt/conda/lib/python3.11/site-packages/luxonis_train/core/utils/export_utils.py#41\u001b\\\u001b[2m41\u001b[0m\u001b]8;;\u001b\\\n"
      ]
     },
     "metadata": {},
     "output_type": "display_data"
    },
    {
     "data": {
      "text/html": [
       "<pre style=\"white-space:pre;overflow-x:auto;line-height:normal;font-family:Menlo,'DejaVu Sans Mono',consolas,'Courier New',monospace\"><span style=\"color: #008000; text-decoration-color: #008000\">INFO    </span> ONNX model saved to output/<span style=\"color: #008080; text-decoration-color: #008080; font-weight: bold\">79</span>-blush-viper/export/cat_dog_detection_model.onnx           <a href=\"file:///opt/conda/lib/python3.11/site-packages/luxonis_train/core/utils/export_utils.py\" target=\"_blank\"><span style=\"color: #7f7f7f; text-decoration-color: #7f7f7f\">export_utils.py</span></a><span style=\"color: #7f7f7f; text-decoration-color: #7f7f7f\">:</span><a href=\"file:///opt/conda/lib/python3.11/site-packages/luxonis_train/core/utils/export_utils.py#47\" target=\"_blank\"><span style=\"color: #7f7f7f; text-decoration-color: #7f7f7f\">47</span></a>\n",
       "</pre>\n"
      ],
      "text/plain": [
       "\u001b[32mINFO    \u001b[0m ONNX model saved to output/\u001b[1;36m79\u001b[0m-blush-viper/export/cat_dog_detection_model.onnx           \u001b]8;id=69758;file:///opt/conda/lib/python3.11/site-packages/luxonis_train/core/utils/export_utils.py\u001b\\\u001b[2mexport_utils.py\u001b[0m\u001b]8;;\u001b\\\u001b[2m:\u001b[0m\u001b]8;id=31773;file:///opt/conda/lib/python3.11/site-packages/luxonis_train/core/utils/export_utils.py#47\u001b\\\u001b[2m47\u001b[0m\u001b]8;;\u001b\\\n"
      ]
     },
     "metadata": {},
     "output_type": "display_data"
    },
    {
     "data": {
      "text/html": [
       "<pre style=\"white-space:pre;overflow-x:auto;line-height:normal;font-family:Menlo,'DejaVu Sans Mono',consolas,'Courier New',monospace\"><span style=\"color: #008000; text-decoration-color: #008000\">INFO    </span> NN Archive saved to output/<span style=\"color: #008080; text-decoration-color: #008080; font-weight: bold\">79</span>-blush-viper/archive/cat_dog_detection_model.onnx.tar.xz          <a href=\"file:///opt/conda/lib/python3.11/site-packages/luxonis_train/core/core.py\" target=\"_blank\"><span style=\"color: #7f7f7f; text-decoration-color: #7f7f7f\">core.py</span></a><span style=\"color: #7f7f7f; text-decoration-color: #7f7f7f\">:</span><a href=\"file:///opt/conda/lib/python3.11/site-packages/luxonis_train/core/core.py#793\" target=\"_blank\"><span style=\"color: #7f7f7f; text-decoration-color: #7f7f7f\">793</span></a>\n",
       "</pre>\n"
      ],
      "text/plain": [
       "\u001b[32mINFO    \u001b[0m NN Archive saved to output/\u001b[1;36m79\u001b[0m-blush-viper/archive/cat_dog_detection_model.onnx.tar.xz          \u001b]8;id=552679;file:///opt/conda/lib/python3.11/site-packages/luxonis_train/core/core.py\u001b\\\u001b[2mcore.py\u001b[0m\u001b]8;;\u001b\\\u001b[2m:\u001b[0m\u001b]8;id=169045;file:///opt/conda/lib/python3.11/site-packages/luxonis_train/core/core.py#793\u001b\\\u001b[2m793\u001b[0m\u001b]8;;\u001b\\\n"
      ]
     },
     "metadata": {},
     "output_type": "display_data"
    },
    {
     "data": {
      "text/html": [
       "<pre style=\"white-space:pre;overflow-x:auto;line-height:normal;font-family:Menlo,'DejaVu Sans Mono',consolas,'Courier New',monospace\"><span style=\"color: #800000; text-decoration-color: #800000; font-weight: bold\">ERROR   </span> Failed to strictly load old weights. The model likely underwent re-parametrization,     <a href=\"file:///opt/conda/lib/python3.11/site-packages/luxonis_train/core/utils/export_utils.py\" target=\"_blank\"><span style=\"color: #7f7f7f; text-decoration-color: #7f7f7f\">export_utils.py</span></a><span style=\"color: #7f7f7f; text-decoration-color: #7f7f7f\">:</span><a href=\"file:///opt/conda/lib/python3.11/site-packages/luxonis_train/core/utils/export_utils.py#27\" target=\"_blank\"><span style=\"color: #7f7f7f; text-decoration-color: #7f7f7f\">27</span></a>\n",
       "         which is a destructive operation. Loading old weights with <span style=\"color: #808000; text-decoration-color: #808000\">strict</span>=<span style=\"color: #ff0000; text-decoration-color: #ff0000; font-style: italic\">False</span>.                <span style=\"color: #7f7f7f; text-decoration-color: #7f7f7f\">                  </span>\n",
       "</pre>\n"
      ],
      "text/plain": [
       "\u001b[1;31mERROR   \u001b[0m Failed to strictly load old weights. The model likely underwent re-parametrization,     \u001b]8;id=953426;file:///opt/conda/lib/python3.11/site-packages/luxonis_train/core/utils/export_utils.py\u001b\\\u001b[2mexport_utils.py\u001b[0m\u001b]8;;\u001b\\\u001b[2m:\u001b[0m\u001b]8;id=151626;file:///opt/conda/lib/python3.11/site-packages/luxonis_train/core/utils/export_utils.py#27\u001b\\\u001b[2m27\u001b[0m\u001b]8;;\u001b\\\n",
       "         which is a destructive operation. Loading old weights with \u001b[33mstrict\u001b[0m=\u001b[3;91mFalse\u001b[0m.                \u001b[2m                  \u001b[0m\n"
      ]
     },
     "metadata": {},
     "output_type": "display_data"
    },
    {
     "name": "stdout",
     "output_type": "stream",
     "text": [
      "Model archieved to: output/79-blush-viper/archive/cat_dog_detection_model.onnx.tar.xz\n"
     ]
    }
   ],
   "source": [
    "archieve_path = luxonis_model.archive(weights=weights)\n",
    "print(\"Model archieved to:\", archieve_path)"
   ]
  },
  {
   "cell_type": "markdown",
   "metadata": {},
   "source": [
    "Notice that two new folders were created in our run directory. One is called `export` and has an ONNX model while the other is called `archive` which has `.tar.xz` file. The tar file is a compressed file which holds aforementioned ONNX model with all the metadata of the model."
   ]
  },
  {
   "cell_type": "markdown",
   "metadata": {},
   "source": [
    "## 🤖 Deploy"
   ]
  },
  {
   "cell_type": "markdown",
   "metadata": {},
   "source": [
    "We have the exported model, and the goal is to deploy it to the Luxonis device. The model's specific format depends on the Luxonis device series you have. To simplify the process, we recommend you use our [`HubAI`](https://hub.luxonis.com) platform. You can log in, navigate to the AI section, and click the `+ Add Model` button. \n",
    "\n",
    "<img src=\"./media/first_page.png\" alt=\"first page\" width=\"800\">\n",
    "\n",
    "Once there, you'll want to click `Custom,` and then fill out the form to provide some description of your model. At the bottom, you can upload the actual model files. Since we have already generated an `NNArchive` (our .tar.xz file), please add it here by clicking `Add`. \n",
    "\n",
    "<img src=\"./media/cat_dog_model_desctiption.png\" alt=\"model description\" width=\"400\">\n",
    "\n",
    "Once the model is uploaded, you will see it under `Team's Models`, and when you click it, you can export it for your specific Luxonis device version. \n",
    "\n",
    "<img src=\"./media/cat_dog_convert.png\" alt=\"convert\" width=\"800\">\n",
    "\n",
    "The process might take some time; after it's finished, we can download and use the model with our DepthAI script. We'll use RVC2 in this tutorial, but you can follow the same process for other versions. All that is left to do is create a DepthAI script and deploy the model to the device. We already made such an example below. You need to populate two variables, though:\n",
    "- `ModelSlug`: This is a string representation of your model version based on which DepthAI can download it. You can get it by clicking the `Copy` button next to the `Convert` you used before.\n",
    "- `ApiToken`: Since this model is private to your team, you need a token to access it. To generate the token, we navigate to team settings and click `+ Create API Token`. We then copy and paste it into the script below. \n",
    "\n",
    "<img src=\"./media/cat_dog_model_slug.png\" alt=\"model_slug\" width=\"400\">\n",
    "\n",
    "<img src=\"./media/api_token.png\" alt=\"api_token\" width=\"400\">"
   ]
  },
  {
   "cell_type": "markdown",
   "metadata": {},
   "source": [
    "### 📷 DepthAI Script"
   ]
  },
  {
   "cell_type": "code",
   "execution_count": null,
   "metadata": {},
   "outputs": [],
   "source": [
    "MODEL_SLUG = \"cat-dog-detection-model:model-variant-1\" # TODO: Insert your model slug\n",
    "API_TOKEN = \"insert_your_token_here\" # TODO: Insert your API Token"
   ]
  },
  {
   "cell_type": "markdown",
   "metadata": {},
   "source": [
    "To run the DepthAI script we need to install it. Also note that this script must be run locally and needs a Luxonis device connected to your machine. "
   ]
  },
  {
   "cell_type": "code",
   "execution_count": 2,
   "metadata": {},
   "outputs": [
    {
     "name": "stdout",
     "output_type": "stream",
     "text": [
      "Looking in indexes: https://pypi.org/simple, https://artifacts.luxonis.com/artifactory/luxonis-python-release-local/\n",
      "Collecting depthai==3.0.0a6\n",
      "  Downloading https://artifacts.luxonis.com/artifactory/luxonis-python-release-local/depthai/depthai-3.0.0a6-cp311-cp311-macosx_11_0_arm64.whl (69.1 MB)\n",
      "\u001b[2K     \u001b[90m━━━━━━━━━━━━━━━━━━━━━━━━━━━━━━━━━━━━━━━━\u001b[0m \u001b[32m69.1/69.1 MB\u001b[0m \u001b[31m23.3 MB/s\u001b[0m eta \u001b[36m0:00:00\u001b[0m00:01\u001b[0m00:01\u001b[0m\n",
      "\u001b[?25hInstalling collected packages: depthai\n",
      "Successfully installed depthai-3.0.0a6\n",
      "\n",
      "\u001b[1m[\u001b[0m\u001b[34;49mnotice\u001b[0m\u001b[1;39;49m]\u001b[0m\u001b[39;49m A new release of pip is available: \u001b[0m\u001b[31;49m24.2\u001b[0m\u001b[39;49m -> \u001b[0m\u001b[32;49m24.3.1\u001b[0m\n",
      "\u001b[1m[\u001b[0m\u001b[34;49mnotice\u001b[0m\u001b[1;39;49m]\u001b[0m\u001b[39;49m To update, run: \u001b[0m\u001b[32;49mpython3.11 -m pip install --upgrade pip\u001b[0m\n",
      "Note: you may need to restart the kernel to use updated packages.\n"
     ]
    }
   ],
   "source": [
    "%pip install --extra-index-url https://artifacts.luxonis.com/artifactory/luxonis-python-release-local/ depthai==3.0.0a6"
   ]
  },
  {
   "cell_type": "code",
   "execution_count": null,
   "metadata": {},
   "outputs": [],
   "source": [
    "import cv2\n",
    "import depthai as dai\n",
    "import numpy as np\n",
    "import os\n",
    "\n",
    "\n",
    "os.environ[\"DEPTHAI_HUB_API_KEY\"] = API_TOKEN\n",
    "\n",
    "labels = [\"cat\", \"dog\"]\n",
    "\n",
    "with dai.Pipeline() as pipeline:\n",
    "    camera_node = pipeline.create(dai.node.Camera).build()\n",
    "\n",
    "    model = dai.NNModelDescription(MODEL_SLUG)\n",
    "\n",
    "    detection_nn = pipeline.create(dai.node.DetectionNetwork).build(camera_node, model)\n",
    "\n",
    "    frame_queue = detection_nn.passthrough.createOutputQueue()\n",
    "    detection_queue = detection_nn.out.createOutputQueue()\n",
    "\n",
    "    pipeline.start()\n",
    "\n",
    "    while pipeline.isRunning():\n",
    "        frame: np.ndarray = frame_queue.get().getCvFrame()\n",
    "        nn_output: dai.ImgDetections = detection_queue.get()\n",
    "\n",
    "        for detection in nn_output.detections:\n",
    "            xmin, ymin, xmax, ymax = (\n",
    "                detection.xmin,\n",
    "                detection.ymin,\n",
    "                detection.xmax,\n",
    "                detection.ymax,\n",
    "            )\n",
    "\n",
    "            xmin = int(xmin * frame.shape[1])\n",
    "            ymin = int(ymin * frame.shape[0])\n",
    "            xmax = int(xmax * frame.shape[1])\n",
    "            ymax = int(ymax * frame.shape[0])\n",
    "\n",
    "            cv2.rectangle(\n",
    "                frame, (int(xmin), int(ymin)), (int(xmax), int(ymax)), (255, 0, 0), 2\n",
    "            )\n",
    "            cv2.putText(\n",
    "                frame,\n",
    "                f\"{detection.confidence * 100:.2f}%\",\n",
    "                (int(xmin) + 10, int(ymin) + 20),\n",
    "                cv2.FONT_HERSHEY_TRIPLEX,\n",
    "                0.5,\n",
    "                255,\n",
    "            )\n",
    "            cv2.putText(\n",
    "                frame,\n",
    "                labels[detection.label],\n",
    "                (int(xmin) + 10, int(ymin) + 40),\n",
    "                cv2.FONT_HERSHEY_TRIPLEX,\n",
    "                0.5,\n",
    "                255,\n",
    "            )\n",
    "\n",
    "        cv2.imshow(\"Detections\", frame)\n",
    "        key = cv2.waitKey(1)\n",
    "        if key == ord(\"q\"):\n",
    "            pipeline.stop()\n",
    "            break"
   ]
  },
  {
   "cell_type": "code",
   "execution_count": null,
   "metadata": {},
   "outputs": [],
   "source": []
  }
 ],
 "metadata": {
  "kernelspec": {
   "display_name": "Python 3",
   "language": "python",
   "name": "python3"
  },
  "language_info": {
   "codemirror_mode": {
    "name": "ipython",
    "version": 3
   },
   "file_extension": ".py",
   "mimetype": "text/x-python",
   "name": "python",
   "nbconvert_exporter": "python",
   "pygments_lexer": "ipython3",
   "version": "3.11.10"
  }
 },
 "nbformat": 4,
 "nbformat_minor": 4
}
