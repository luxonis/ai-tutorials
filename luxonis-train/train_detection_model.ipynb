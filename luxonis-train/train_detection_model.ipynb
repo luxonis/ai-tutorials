{
 "cells": [
  {
   "cell_type": "markdown",
   "metadata": {},
   "source": [
    "# Training an Object Detection Model\n",
    "\n",
    "## 🌟 Overview\n",
    "In this tutorial we'll go through the process of training a custom object detection model. We'll first create a dataset, setup the training configuration and then use it to train our own NN model. We'll also validate the performance of our model, export it and make it ready for a deployment on a Luxonis device.\n",
    "\n",
    "## 📜 Table of Contents\n",
    "- [🛠️ Installation](#️-installation)\n",
    "- [🗃️ Data Preparation](#️-data-preparation)\n",
    "    - [🧐 Parsing the Data](#-parsing-the-data)\n",
    "    - [💾 LuxonisDataset](#-luxonisdataset)\n",
    "- [🏋️‍♂️ Training](#️️-training)\n",
    "    - [⚙️ Configuration](#️-configuration)\n",
    "    - [🦾 Train](#-train)\n",
    "- [✍ Test](#-test)\n",
    "    - [🧠 Infer](#-infer)\n",
    "- [🗂️ Export and Archive](#️-export-and-archive)\n",
    "- [🤖 Deploy](#-deploy)\n",
    "- [📷 DepthAI Script](#-depthai-script)\n"
   ]
  },
  {
   "cell_type": "markdown",
   "metadata": {},
   "source": [
    "## 🛠️ Installation"
   ]
  },
  {
   "cell_type": "markdown",
   "metadata": {},
   "source": [
    "The main focus of this tutorial is using [`LuxonisTrain`](https://github.com/luxonis/luxonis-train) which is a user-friendly tool designed to streamline the training of deep learning models, especially for edge devices. We'll also use [`LuxonisML`](https://github.com/luxonis/luxonis-ml) since it provides us with a collection of utility functionality and an easy way of creating and managing computer vision datasets callend `LuxonisDatasetFormat`. And lastly we'll download [`Kaggle`](https://www.kaggle.com/) package, which is where our data will come from."
   ]
  },
  {
   "cell_type": "code",
   "execution_count": 1,
   "metadata": {},
   "outputs": [
    {
     "name": "stdout",
     "output_type": "stream",
     "text": [
      "Requirement already satisfied: luxonis-train in /home/klemen/luxonis/depthai-ml-training/tutorial_env/lib/python3.10/site-packages (0.1.0)\n",
      "Requirement already satisfied: kaggle in /home/klemen/luxonis/depthai-ml-training/tutorial_env/lib/python3.10/site-packages (1.6.17)\n",
      "Requirement already satisfied: blobconverter>=1.4.2 in /home/klemen/luxonis/depthai-ml-training/tutorial_env/lib/python3.10/site-packages (from luxonis-train) (1.4.3)\n",
      "Requirement already satisfied: rich>=13.0.0 in /home/klemen/luxonis/depthai-ml-training/tutorial_env/lib/python3.10/site-packages (from luxonis-train) (13.9.3)\n",
      "Requirement already satisfied: tensorboard>=2.10.1 in /home/klemen/luxonis/depthai-ml-training/tutorial_env/lib/python3.10/site-packages (from luxonis-train) (2.18.0)\n",
      "Requirement already satisfied: s3fs>=2023.0.0 in /home/klemen/luxonis/depthai-ml-training/tutorial_env/lib/python3.10/site-packages (from luxonis-train) (2024.10.0)\n",
      "Requirement already satisfied: lightning>=2.4.0 in /home/klemen/luxonis/depthai-ml-training/tutorial_env/lib/python3.10/site-packages (from luxonis-train) (2.4.0)\n",
      "Requirement already satisfied: luxonis-ml[data,tracker]>=0.4.0 in /home/klemen/luxonis/depthai-ml-training/tutorial_env/lib/python3.10/site-packages (from luxonis-train) (0.4.1)\n",
      "Requirement already satisfied: onnx>=1.12.0 in /home/klemen/luxonis/depthai-ml-training/tutorial_env/lib/python3.10/site-packages (from luxonis-train) (1.17.0)\n",
      "Requirement already satisfied: pycocotools>=2.0.7 in /home/klemen/luxonis/depthai-ml-training/tutorial_env/lib/python3.10/site-packages (from luxonis-train) (2.0.8)\n",
      "Requirement already satisfied: onnxruntime>=1.13.1 in /home/klemen/luxonis/depthai-ml-training/tutorial_env/lib/python3.10/site-packages (from luxonis-train) (1.19.2)\n",
      "Requirement already satisfied: psutil>=5.0.0 in /home/klemen/luxonis/depthai-ml-training/tutorial_env/lib/python3.10/site-packages (from luxonis-train) (6.1.0)\n",
      "Requirement already satisfied: typer>=0.9.0 in /home/klemen/luxonis/depthai-ml-training/tutorial_env/lib/python3.10/site-packages (from luxonis-train) (0.12.5)\n",
      "Requirement already satisfied: parameterized>=0.9.0 in /home/klemen/luxonis/depthai-ml-training/tutorial_env/lib/python3.10/site-packages (from luxonis-train) (0.9.0)\n",
      "Requirement already satisfied: optuna-integration>=3.6.0 in /home/klemen/luxonis/depthai-ml-training/tutorial_env/lib/python3.10/site-packages (from luxonis-train) (4.0.0)\n",
      "Requirement already satisfied: onnxsim>=0.4.10 in /home/klemen/luxonis/depthai-ml-training/tutorial_env/lib/python3.10/site-packages (from luxonis-train) (0.4.36)\n",
      "Requirement already satisfied: torchvision>=0.16.0 in /home/klemen/luxonis/depthai-ml-training/tutorial_env/lib/python3.10/site-packages (from luxonis-train) (0.20.0)\n",
      "Requirement already satisfied: psycopg2-binary>=2.9.1 in /home/klemen/luxonis/depthai-ml-training/tutorial_env/lib/python3.10/site-packages (from luxonis-train) (2.9.10)\n",
      "Requirement already satisfied: optuna>=3.6.0 in /home/klemen/luxonis/depthai-ml-training/tutorial_env/lib/python3.10/site-packages (from luxonis-train) (4.0.0)\n",
      "Requirement already satisfied: mlflow>=2.10.0 in /home/klemen/luxonis/depthai-ml-training/tutorial_env/lib/python3.10/site-packages (from luxonis-train) (2.17.1)\n",
      "Requirement already satisfied: tabulate>=0.9.0 in /home/klemen/luxonis/depthai-ml-training/tutorial_env/lib/python3.10/site-packages (from luxonis-train) (0.9.0)\n",
      "Requirement already satisfied: bleach in /home/klemen/luxonis/depthai-ml-training/tutorial_env/lib/python3.10/site-packages (from kaggle) (6.1.0)\n",
      "Requirement already satisfied: certifi>=2023.7.22 in /home/klemen/luxonis/depthai-ml-training/tutorial_env/lib/python3.10/site-packages (from kaggle) (2024.8.30)\n",
      "Requirement already satisfied: python-dateutil in /home/klemen/luxonis/depthai-ml-training/tutorial_env/lib/python3.10/site-packages (from kaggle) (2.9.0.post0)\n",
      "Requirement already satisfied: python-slugify in /home/klemen/luxonis/depthai-ml-training/tutorial_env/lib/python3.10/site-packages (from kaggle) (8.0.4)\n",
      "Requirement already satisfied: requests in /home/klemen/luxonis/depthai-ml-training/tutorial_env/lib/python3.10/site-packages (from kaggle) (2.32.3)\n",
      "Requirement already satisfied: six>=1.10 in /home/klemen/luxonis/depthai-ml-training/tutorial_env/lib/python3.10/site-packages (from kaggle) (1.16.0)\n",
      "Requirement already satisfied: tqdm in /home/klemen/luxonis/depthai-ml-training/tutorial_env/lib/python3.10/site-packages (from kaggle) (4.66.5)\n",
      "Requirement already satisfied: urllib3 in /home/klemen/luxonis/depthai-ml-training/tutorial_env/lib/python3.10/site-packages (from kaggle) (2.2.3)\n",
      "Requirement already satisfied: PyYAML in /home/klemen/luxonis/depthai-ml-training/tutorial_env/lib/python3.10/site-packages (from blobconverter>=1.4.2->luxonis-train) (6.0.2)\n",
      "Requirement already satisfied: lightning-utilities<2.0,>=0.10.0 in /home/klemen/luxonis/depthai-ml-training/tutorial_env/lib/python3.10/site-packages (from lightning>=2.4.0->luxonis-train) (0.11.8)\n",
      "Requirement already satisfied: torchmetrics<3.0,>=0.7.0 in /home/klemen/luxonis/depthai-ml-training/tutorial_env/lib/python3.10/site-packages (from lightning>=2.4.0->luxonis-train) (1.5.1)\n",
      "Requirement already satisfied: pytorch-lightning in /home/klemen/luxonis/depthai-ml-training/tutorial_env/lib/python3.10/site-packages (from lightning>=2.4.0->luxonis-train) (2.4.0)\n",
      "Requirement already satisfied: packaging<25.0,>=20.0 in /home/klemen/luxonis/depthai-ml-training/tutorial_env/lib/python3.10/site-packages (from lightning>=2.4.0->luxonis-train) (24.1)\n",
      "Requirement already satisfied: fsspec[http]<2026.0,>=2022.5.0 in /home/klemen/luxonis/depthai-ml-training/tutorial_env/lib/python3.10/site-packages (from lightning>=2.4.0->luxonis-train) (2024.10.0)\n",
      "Requirement already satisfied: typing-extensions<6.0,>=4.4.0 in /home/klemen/luxonis/depthai-ml-training/tutorial_env/lib/python3.10/site-packages (from lightning>=2.4.0->luxonis-train) (4.12.2)\n",
      "Requirement already satisfied: torch<4.0,>=2.1.0 in /home/klemen/luxonis/depthai-ml-training/tutorial_env/lib/python3.10/site-packages (from lightning>=2.4.0->luxonis-train) (2.5.0)\n",
      "Requirement already satisfied: pydantic>=2.4.0 in /home/klemen/luxonis/depthai-ml-training/tutorial_env/lib/python3.10/site-packages (from luxonis-ml[data,tracker]>=0.4.0->luxonis-train) (2.9.2)\n",
      "Requirement already satisfied: pydantic-settings>=2.1.0 in /home/klemen/luxonis/depthai-ml-training/tutorial_env/lib/python3.10/site-packages (from luxonis-ml[data,tracker]>=0.4.0->luxonis-train) (2.6.0)\n",
      "Requirement already satisfied: typeguard>=4.1.0 in /home/klemen/luxonis/depthai-ml-training/tutorial_env/lib/python3.10/site-packages (from luxonis-ml[data,tracker]>=0.4.0->luxonis-train) (4.4.0)\n",
      "Requirement already satisfied: unique-names-generator>=1.0.2 in /home/klemen/luxonis/depthai-ml-training/tutorial_env/lib/python3.10/site-packages (from luxonis-ml[data,tracker]>=0.4.0->luxonis-train) (1.0.2)\n",
      "Requirement already satisfied: numpy>=1.22 in /home/klemen/luxonis/depthai-ml-training/tutorial_env/lib/python3.10/site-packages (from luxonis-ml[data,tracker]>=0.4.0->luxonis-train) (1.26.4)\n",
      "Requirement already satisfied: albumentations<1.4.0,>=1.3.1 in /home/klemen/luxonis/depthai-ml-training/tutorial_env/lib/python3.10/site-packages (from luxonis-ml[data,tracker]>=0.4.0->luxonis-train) (1.3.1)\n",
      "Requirement already satisfied: opencv-python>=4.10.0 in /home/klemen/luxonis/depthai-ml-training/tutorial_env/lib/python3.10/site-packages (from luxonis-ml[data,tracker]>=0.4.0->luxonis-train) (4.10.0.84)\n",
      "Requirement already satisfied: ordered-set>=4.0.0 in /home/klemen/luxonis/depthai-ml-training/tutorial_env/lib/python3.10/site-packages (from luxonis-ml[data,tracker]>=0.4.0->luxonis-train) (4.1.0)\n",
      "Requirement already satisfied: pandas>=2.0.0 in /home/klemen/luxonis/depthai-ml-training/tutorial_env/lib/python3.10/site-packages (from luxonis-ml[data,tracker]>=0.4.0->luxonis-train) (2.2.3)\n",
      "Requirement already satisfied: pyarrow>=13.0.0 in /home/klemen/luxonis/depthai-ml-training/tutorial_env/lib/python3.10/site-packages (from luxonis-ml[data,tracker]>=0.4.0->luxonis-train) (17.0.0)\n",
      "Requirement already satisfied: polars[timezone]>=0.20.31 in /home/klemen/luxonis/depthai-ml-training/tutorial_env/lib/python3.10/site-packages (from luxonis-ml[data,tracker]>=0.4.0->luxonis-train) (1.12.0)\n",
      "Requirement already satisfied: label-studio-sdk>=0.0.28 in /home/klemen/luxonis/depthai-ml-training/tutorial_env/lib/python3.10/site-packages (from luxonis-ml[data,tracker]>=0.4.0->luxonis-train) (1.0.5)\n",
      "Requirement already satisfied: markdown<4,>=3.3 in /home/klemen/luxonis/depthai-ml-training/tutorial_env/lib/python3.10/site-packages (from mlflow>=2.10.0->luxonis-train) (3.7)\n",
      "Requirement already satisfied: alembic!=1.10.0,<2 in /home/klemen/luxonis/depthai-ml-training/tutorial_env/lib/python3.10/site-packages (from mlflow>=2.10.0->luxonis-train) (1.13.3)\n",
      "Requirement already satisfied: scipy<2 in /home/klemen/luxonis/depthai-ml-training/tutorial_env/lib/python3.10/site-packages (from mlflow>=2.10.0->luxonis-train) (1.14.1)\n",
      "Requirement already satisfied: matplotlib<4 in /home/klemen/luxonis/depthai-ml-training/tutorial_env/lib/python3.10/site-packages (from mlflow>=2.10.0->luxonis-train) (3.9.2)\n",
      "Requirement already satisfied: mlflow-skinny==2.17.1 in /home/klemen/luxonis/depthai-ml-training/tutorial_env/lib/python3.10/site-packages (from mlflow>=2.10.0->luxonis-train) (2.17.1)\n",
      "Requirement already satisfied: scikit-learn<2 in /home/klemen/luxonis/depthai-ml-training/tutorial_env/lib/python3.10/site-packages (from mlflow>=2.10.0->luxonis-train) (1.5.2)\n",
      "Requirement already satisfied: sqlalchemy<3,>=1.4.0 in /home/klemen/luxonis/depthai-ml-training/tutorial_env/lib/python3.10/site-packages (from mlflow>=2.10.0->luxonis-train) (2.0.36)\n",
      "Requirement already satisfied: docker<8,>=4.0.0 in /home/klemen/luxonis/depthai-ml-training/tutorial_env/lib/python3.10/site-packages (from mlflow>=2.10.0->luxonis-train) (7.1.0)\n",
      "Requirement already satisfied: Jinja2<4,>=2.11 in /home/klemen/luxonis/depthai-ml-training/tutorial_env/lib/python3.10/site-packages (from mlflow>=2.10.0->luxonis-train) (3.1.4)\n",
      "Requirement already satisfied: Flask<4 in /home/klemen/luxonis/depthai-ml-training/tutorial_env/lib/python3.10/site-packages (from mlflow>=2.10.0->luxonis-train) (3.0.3)\n",
      "Requirement already satisfied: gunicorn<24 in /home/klemen/luxonis/depthai-ml-training/tutorial_env/lib/python3.10/site-packages (from mlflow>=2.10.0->luxonis-train) (23.0.0)\n",
      "Requirement already satisfied: graphene<4 in /home/klemen/luxonis/depthai-ml-training/tutorial_env/lib/python3.10/site-packages (from mlflow>=2.10.0->luxonis-train) (3.4.1)\n",
      "Requirement already satisfied: cloudpickle<4 in /home/klemen/luxonis/depthai-ml-training/tutorial_env/lib/python3.10/site-packages (from mlflow-skinny==2.17.1->mlflow>=2.10.0->luxonis-train) (3.1.0)\n",
      "Requirement already satisfied: databricks-sdk<1,>=0.20.0 in /home/klemen/luxonis/depthai-ml-training/tutorial_env/lib/python3.10/site-packages (from mlflow-skinny==2.17.1->mlflow>=2.10.0->luxonis-train) (0.36.0)\n",
      "Requirement already satisfied: cachetools<6,>=5.0.0 in /home/klemen/luxonis/depthai-ml-training/tutorial_env/lib/python3.10/site-packages (from mlflow-skinny==2.17.1->mlflow>=2.10.0->luxonis-train) (5.5.0)\n",
      "Requirement already satisfied: opentelemetry-api<3,>=1.9.0 in /home/klemen/luxonis/depthai-ml-training/tutorial_env/lib/python3.10/site-packages (from mlflow-skinny==2.17.1->mlflow>=2.10.0->luxonis-train) (1.27.0)\n",
      "Requirement already satisfied: gitpython<4,>=3.1.9 in /home/klemen/luxonis/depthai-ml-training/tutorial_env/lib/python3.10/site-packages (from mlflow-skinny==2.17.1->mlflow>=2.10.0->luxonis-train) (3.1.43)\n",
      "Requirement already satisfied: protobuf<6,>=3.12.0 in /home/klemen/luxonis/depthai-ml-training/tutorial_env/lib/python3.10/site-packages (from mlflow-skinny==2.17.1->mlflow>=2.10.0->luxonis-train) (5.28.3)\n",
      "Requirement already satisfied: importlib-metadata!=4.7.0,<9,>=3.7.0 in /home/klemen/luxonis/depthai-ml-training/tutorial_env/lib/python3.10/site-packages (from mlflow-skinny==2.17.1->mlflow>=2.10.0->luxonis-train) (8.4.0)\n",
      "Requirement already satisfied: click<9,>=7.0 in /home/klemen/luxonis/depthai-ml-training/tutorial_env/lib/python3.10/site-packages (from mlflow-skinny==2.17.1->mlflow>=2.10.0->luxonis-train) (8.1.7)\n",
      "Requirement already satisfied: sqlparse<1,>=0.4.0 in /home/klemen/luxonis/depthai-ml-training/tutorial_env/lib/python3.10/site-packages (from mlflow-skinny==2.17.1->mlflow>=2.10.0->luxonis-train) (0.5.1)\n",
      "Requirement already satisfied: opentelemetry-sdk<3,>=1.9.0 in /home/klemen/luxonis/depthai-ml-training/tutorial_env/lib/python3.10/site-packages (from mlflow-skinny==2.17.1->mlflow>=2.10.0->luxonis-train) (1.27.0)\n",
      "Requirement already satisfied: flatbuffers in /home/klemen/luxonis/depthai-ml-training/tutorial_env/lib/python3.10/site-packages (from onnxruntime>=1.13.1->luxonis-train) (24.3.25)\n",
      "Requirement already satisfied: sympy in /home/klemen/luxonis/depthai-ml-training/tutorial_env/lib/python3.10/site-packages (from onnxruntime>=1.13.1->luxonis-train) (1.13.1)\n",
      "Requirement already satisfied: coloredlogs in /home/klemen/luxonis/depthai-ml-training/tutorial_env/lib/python3.10/site-packages (from onnxruntime>=1.13.1->luxonis-train) (15.0.1)\n",
      "Requirement already satisfied: colorlog in /home/klemen/luxonis/depthai-ml-training/tutorial_env/lib/python3.10/site-packages (from optuna>=3.6.0->luxonis-train) (6.8.2)\n",
      "Requirement already satisfied: idna<4,>=2.5 in /home/klemen/luxonis/depthai-ml-training/tutorial_env/lib/python3.10/site-packages (from requests->kaggle) (3.10)\n",
      "Requirement already satisfied: charset-normalizer<4,>=2 in /home/klemen/luxonis/depthai-ml-training/tutorial_env/lib/python3.10/site-packages (from requests->kaggle) (3.4.0)\n",
      "Requirement already satisfied: pygments<3.0.0,>=2.13.0 in /home/klemen/luxonis/depthai-ml-training/tutorial_env/lib/python3.10/site-packages (from rich>=13.0.0->luxonis-train) (2.18.0)\n",
      "Requirement already satisfied: markdown-it-py>=2.2.0 in /home/klemen/luxonis/depthai-ml-training/tutorial_env/lib/python3.10/site-packages (from rich>=13.0.0->luxonis-train) (3.0.0)\n",
      "Requirement already satisfied: aiobotocore<3.0.0,>=2.5.4 in /home/klemen/luxonis/depthai-ml-training/tutorial_env/lib/python3.10/site-packages (from s3fs>=2023.0.0->luxonis-train) (2.15.2)\n",
      "Requirement already satisfied: aiohttp!=4.0.0a0,!=4.0.0a1 in /home/klemen/luxonis/depthai-ml-training/tutorial_env/lib/python3.10/site-packages (from s3fs>=2023.0.0->luxonis-train) (3.10.10)\n",
      "Requirement already satisfied: tensorboard-data-server<0.8.0,>=0.7.0 in /home/klemen/luxonis/depthai-ml-training/tutorial_env/lib/python3.10/site-packages (from tensorboard>=2.10.1->luxonis-train) (0.7.2)\n",
      "Requirement already satisfied: grpcio>=1.48.2 in /home/klemen/luxonis/depthai-ml-training/tutorial_env/lib/python3.10/site-packages (from tensorboard>=2.10.1->luxonis-train) (1.67.0)\n",
      "Requirement already satisfied: setuptools>=41.0.0 in /home/klemen/luxonis/depthai-ml-training/tutorial_env/lib/python3.10/site-packages (from tensorboard>=2.10.1->luxonis-train) (59.6.0)\n",
      "Requirement already satisfied: absl-py>=0.4 in /home/klemen/luxonis/depthai-ml-training/tutorial_env/lib/python3.10/site-packages (from tensorboard>=2.10.1->luxonis-train) (2.1.0)\n",
      "Requirement already satisfied: werkzeug>=1.0.1 in /home/klemen/luxonis/depthai-ml-training/tutorial_env/lib/python3.10/site-packages (from tensorboard>=2.10.1->luxonis-train) (3.0.6)\n",
      "Requirement already satisfied: pillow!=8.3.*,>=5.3.0 in /home/klemen/luxonis/depthai-ml-training/tutorial_env/lib/python3.10/site-packages (from torchvision>=0.16.0->luxonis-train) (11.0.0)\n",
      "Requirement already satisfied: nvidia-curand-cu12==10.3.5.147 in /home/klemen/luxonis/depthai-ml-training/tutorial_env/lib/python3.10/site-packages (from torch<4.0,>=2.1.0->lightning>=2.4.0->luxonis-train) (10.3.5.147)\n",
      "Requirement already satisfied: networkx in /home/klemen/luxonis/depthai-ml-training/tutorial_env/lib/python3.10/site-packages (from torch<4.0,>=2.1.0->lightning>=2.4.0->luxonis-train) (3.4.2)\n",
      "Requirement already satisfied: nvidia-cublas-cu12==12.4.5.8 in /home/klemen/luxonis/depthai-ml-training/tutorial_env/lib/python3.10/site-packages (from torch<4.0,>=2.1.0->lightning>=2.4.0->luxonis-train) (12.4.5.8)\n",
      "Requirement already satisfied: nvidia-nvjitlink-cu12==12.4.127 in /home/klemen/luxonis/depthai-ml-training/tutorial_env/lib/python3.10/site-packages (from torch<4.0,>=2.1.0->lightning>=2.4.0->luxonis-train) (12.4.127)\n",
      "Requirement already satisfied: nvidia-cusolver-cu12==11.6.1.9 in /home/klemen/luxonis/depthai-ml-training/tutorial_env/lib/python3.10/site-packages (from torch<4.0,>=2.1.0->lightning>=2.4.0->luxonis-train) (11.6.1.9)\n",
      "Requirement already satisfied: nvidia-cudnn-cu12==9.1.0.70 in /home/klemen/luxonis/depthai-ml-training/tutorial_env/lib/python3.10/site-packages (from torch<4.0,>=2.1.0->lightning>=2.4.0->luxonis-train) (9.1.0.70)\n",
      "Requirement already satisfied: nvidia-cuda-nvrtc-cu12==12.4.127 in /home/klemen/luxonis/depthai-ml-training/tutorial_env/lib/python3.10/site-packages (from torch<4.0,>=2.1.0->lightning>=2.4.0->luxonis-train) (12.4.127)\n",
      "Requirement already satisfied: filelock in /home/klemen/luxonis/depthai-ml-training/tutorial_env/lib/python3.10/site-packages (from torch<4.0,>=2.1.0->lightning>=2.4.0->luxonis-train) (3.16.1)\n",
      "Requirement already satisfied: triton==3.1.0 in /home/klemen/luxonis/depthai-ml-training/tutorial_env/lib/python3.10/site-packages (from torch<4.0,>=2.1.0->lightning>=2.4.0->luxonis-train) (3.1.0)\n",
      "Requirement already satisfied: nvidia-cuda-cupti-cu12==12.4.127 in /home/klemen/luxonis/depthai-ml-training/tutorial_env/lib/python3.10/site-packages (from torch<4.0,>=2.1.0->lightning>=2.4.0->luxonis-train) (12.4.127)\n",
      "Requirement already satisfied: nvidia-cufft-cu12==11.2.1.3 in /home/klemen/luxonis/depthai-ml-training/tutorial_env/lib/python3.10/site-packages (from torch<4.0,>=2.1.0->lightning>=2.4.0->luxonis-train) (11.2.1.3)\n",
      "Requirement already satisfied: nvidia-nccl-cu12==2.21.5 in /home/klemen/luxonis/depthai-ml-training/tutorial_env/lib/python3.10/site-packages (from torch<4.0,>=2.1.0->lightning>=2.4.0->luxonis-train) (2.21.5)\n",
      "Requirement already satisfied: nvidia-nvtx-cu12==12.4.127 in /home/klemen/luxonis/depthai-ml-training/tutorial_env/lib/python3.10/site-packages (from torch<4.0,>=2.1.0->lightning>=2.4.0->luxonis-train) (12.4.127)\n",
      "Requirement already satisfied: nvidia-cuda-runtime-cu12==12.4.127 in /home/klemen/luxonis/depthai-ml-training/tutorial_env/lib/python3.10/site-packages (from torch<4.0,>=2.1.0->lightning>=2.4.0->luxonis-train) (12.4.127)\n",
      "Requirement already satisfied: nvidia-cusparse-cu12==12.3.1.170 in /home/klemen/luxonis/depthai-ml-training/tutorial_env/lib/python3.10/site-packages (from torch<4.0,>=2.1.0->lightning>=2.4.0->luxonis-train) (12.3.1.170)\n",
      "Requirement already satisfied: mpmath<1.4,>=1.1.0 in /home/klemen/luxonis/depthai-ml-training/tutorial_env/lib/python3.10/site-packages (from sympy->onnxruntime>=1.13.1->luxonis-train) (1.3.0)\n",
      "Requirement already satisfied: shellingham>=1.3.0 in /home/klemen/luxonis/depthai-ml-training/tutorial_env/lib/python3.10/site-packages (from typer>=0.9.0->luxonis-train) (1.5.4)\n",
      "Requirement already satisfied: webencodings in /home/klemen/luxonis/depthai-ml-training/tutorial_env/lib/python3.10/site-packages (from bleach->kaggle) (0.5.1)\n",
      "Requirement already satisfied: text-unidecode>=1.3 in /home/klemen/luxonis/depthai-ml-training/tutorial_env/lib/python3.10/site-packages (from python-slugify->kaggle) (1.3)\n",
      "Requirement already satisfied: aioitertools<1.0.0,>=0.5.1 in /home/klemen/luxonis/depthai-ml-training/tutorial_env/lib/python3.10/site-packages (from aiobotocore<3.0.0,>=2.5.4->s3fs>=2023.0.0->luxonis-train) (0.12.0)\n",
      "Requirement already satisfied: wrapt<2.0.0,>=1.10.10 in /home/klemen/luxonis/depthai-ml-training/tutorial_env/lib/python3.10/site-packages (from aiobotocore<3.0.0,>=2.5.4->s3fs>=2023.0.0->luxonis-train) (1.16.0)\n",
      "Requirement already satisfied: botocore<1.35.37,>=1.35.16 in /home/klemen/luxonis/depthai-ml-training/tutorial_env/lib/python3.10/site-packages (from aiobotocore<3.0.0,>=2.5.4->s3fs>=2023.0.0->luxonis-train) (1.35.36)\n",
      "Requirement already satisfied: multidict<7.0,>=4.5 in /home/klemen/luxonis/depthai-ml-training/tutorial_env/lib/python3.10/site-packages (from aiohttp!=4.0.0a0,!=4.0.0a1->s3fs>=2023.0.0->luxonis-train) (6.1.0)\n",
      "Requirement already satisfied: aiohappyeyeballs>=2.3.0 in /home/klemen/luxonis/depthai-ml-training/tutorial_env/lib/python3.10/site-packages (from aiohttp!=4.0.0a0,!=4.0.0a1->s3fs>=2023.0.0->luxonis-train) (2.4.3)\n",
      "Requirement already satisfied: aiosignal>=1.1.2 in /home/klemen/luxonis/depthai-ml-training/tutorial_env/lib/python3.10/site-packages (from aiohttp!=4.0.0a0,!=4.0.0a1->s3fs>=2023.0.0->luxonis-train) (1.3.1)\n",
      "Requirement already satisfied: async-timeout<5.0,>=4.0 in /home/klemen/luxonis/depthai-ml-training/tutorial_env/lib/python3.10/site-packages (from aiohttp!=4.0.0a0,!=4.0.0a1->s3fs>=2023.0.0->luxonis-train) (4.0.3)\n",
      "Requirement already satisfied: attrs>=17.3.0 in /home/klemen/luxonis/depthai-ml-training/tutorial_env/lib/python3.10/site-packages (from aiohttp!=4.0.0a0,!=4.0.0a1->s3fs>=2023.0.0->luxonis-train) (24.2.0)\n",
      "Requirement already satisfied: yarl<2.0,>=1.12.0 in /home/klemen/luxonis/depthai-ml-training/tutorial_env/lib/python3.10/site-packages (from aiohttp!=4.0.0a0,!=4.0.0a1->s3fs>=2023.0.0->luxonis-train) (1.16.0)\n",
      "Requirement already satisfied: frozenlist>=1.1.1 in /home/klemen/luxonis/depthai-ml-training/tutorial_env/lib/python3.10/site-packages (from aiohttp!=4.0.0a0,!=4.0.0a1->s3fs>=2023.0.0->luxonis-train) (1.5.0)\n",
      "Requirement already satisfied: scikit-image>=0.16.1 in /home/klemen/luxonis/depthai-ml-training/tutorial_env/lib/python3.10/site-packages (from albumentations<1.4.0,>=1.3.1->luxonis-ml[data,tracker]>=0.4.0->luxonis-train) (0.24.0)\n",
      "Requirement already satisfied: qudida>=0.0.4 in /home/klemen/luxonis/depthai-ml-training/tutorial_env/lib/python3.10/site-packages (from albumentations<1.4.0,>=1.3.1->luxonis-ml[data,tracker]>=0.4.0->luxonis-train) (0.0.4)\n",
      "Requirement already satisfied: opencv-python-headless>=4.1.1 in /home/klemen/luxonis/depthai-ml-training/tutorial_env/lib/python3.10/site-packages (from albumentations<1.4.0,>=1.3.1->luxonis-ml[data,tracker]>=0.4.0->luxonis-train) (4.10.0.84)\n",
      "Requirement already satisfied: Mako in /home/klemen/luxonis/depthai-ml-training/tutorial_env/lib/python3.10/site-packages (from alembic!=1.10.0,<2->mlflow>=2.10.0->luxonis-train) (1.3.6)\n",
      "Requirement already satisfied: blinker>=1.6.2 in /home/klemen/luxonis/depthai-ml-training/tutorial_env/lib/python3.10/site-packages (from Flask<4->mlflow>=2.10.0->luxonis-train) (1.8.2)\n",
      "Requirement already satisfied: itsdangerous>=2.1.2 in /home/klemen/luxonis/depthai-ml-training/tutorial_env/lib/python3.10/site-packages (from Flask<4->mlflow>=2.10.0->luxonis-train) (2.2.0)\n",
      "Requirement already satisfied: graphql-relay<3.3,>=3.1 in /home/klemen/luxonis/depthai-ml-training/tutorial_env/lib/python3.10/site-packages (from graphene<4->mlflow>=2.10.0->luxonis-train) (3.2.0)\n",
      "Requirement already satisfied: graphql-core<3.3,>=3.1 in /home/klemen/luxonis/depthai-ml-training/tutorial_env/lib/python3.10/site-packages (from graphene<4->mlflow>=2.10.0->luxonis-train) (3.2.5)\n",
      "Requirement already satisfied: MarkupSafe>=2.0 in /home/klemen/luxonis/depthai-ml-training/tutorial_env/lib/python3.10/site-packages (from Jinja2<4,>=2.11->mlflow>=2.10.0->luxonis-train) (3.0.2)\n",
      "Requirement already satisfied: nltk<4.0.0,>=3.8.2 in /home/klemen/luxonis/depthai-ml-training/tutorial_env/lib/python3.10/site-packages (from label-studio-sdk>=0.0.28->luxonis-ml[data,tracker]>=0.4.0->luxonis-train) (3.9.1)\n",
      "Requirement already satisfied: xmljson==0.2.1 in /home/klemen/luxonis/depthai-ml-training/tutorial_env/lib/python3.10/site-packages (from label-studio-sdk>=0.0.28->luxonis-ml[data,tracker]>=0.4.0->luxonis-train) (0.2.1)\n",
      "Requirement already satisfied: jsonschema==3.2.0 in /home/klemen/luxonis/depthai-ml-training/tutorial_env/lib/python3.10/site-packages (from label-studio-sdk>=0.0.28->luxonis-ml[data,tracker]>=0.4.0->luxonis-train) (3.2.0)\n",
      "Requirement already satisfied: httpx>=0.21.2 in /home/klemen/luxonis/depthai-ml-training/tutorial_env/lib/python3.10/site-packages (from label-studio-sdk>=0.0.28->luxonis-ml[data,tracker]>=0.4.0->luxonis-train) (0.27.2)\n",
      "Requirement already satisfied: lxml>=4.2.5 in /home/klemen/luxonis/depthai-ml-training/tutorial_env/lib/python3.10/site-packages (from label-studio-sdk>=0.0.28->luxonis-ml[data,tracker]>=0.4.0->luxonis-train) (5.3.0)\n",
      "Requirement already satisfied: requests-mock==1.12.1 in /home/klemen/luxonis/depthai-ml-training/tutorial_env/lib/python3.10/site-packages (from label-studio-sdk>=0.0.28->luxonis-ml[data,tracker]>=0.4.0->luxonis-train) (1.12.1)\n",
      "Requirement already satisfied: ijson>=3.2.3 in /home/klemen/luxonis/depthai-ml-training/tutorial_env/lib/python3.10/site-packages (from label-studio-sdk>=0.0.28->luxonis-ml[data,tracker]>=0.4.0->luxonis-train) (3.3.0)\n",
      "Requirement already satisfied: ujson>=5.8.0 in /home/klemen/luxonis/depthai-ml-training/tutorial_env/lib/python3.10/site-packages (from label-studio-sdk>=0.0.28->luxonis-ml[data,tracker]>=0.4.0->luxonis-train) (5.10.0)\n",
      "Requirement already satisfied: appdirs>=1.4.3 in /home/klemen/luxonis/depthai-ml-training/tutorial_env/lib/python3.10/site-packages (from label-studio-sdk>=0.0.28->luxonis-ml[data,tracker]>=0.4.0->luxonis-train) (1.4.4)\n",
      "Requirement already satisfied: pyrsistent>=0.14.0 in /home/klemen/luxonis/depthai-ml-training/tutorial_env/lib/python3.10/site-packages (from jsonschema==3.2.0->label-studio-sdk>=0.0.28->luxonis-ml[data,tracker]>=0.4.0->luxonis-train) (0.20.0)\n",
      "Requirement already satisfied: mdurl~=0.1 in /home/klemen/luxonis/depthai-ml-training/tutorial_env/lib/python3.10/site-packages (from markdown-it-py>=2.2.0->rich>=13.0.0->luxonis-train) (0.1.2)\n",
      "Requirement already satisfied: kiwisolver>=1.3.1 in /home/klemen/luxonis/depthai-ml-training/tutorial_env/lib/python3.10/site-packages (from matplotlib<4->mlflow>=2.10.0->luxonis-train) (1.4.7)\n",
      "Requirement already satisfied: pyparsing>=2.3.1 in /home/klemen/luxonis/depthai-ml-training/tutorial_env/lib/python3.10/site-packages (from matplotlib<4->mlflow>=2.10.0->luxonis-train) (3.2.0)\n",
      "Requirement already satisfied: cycler>=0.10 in /home/klemen/luxonis/depthai-ml-training/tutorial_env/lib/python3.10/site-packages (from matplotlib<4->mlflow>=2.10.0->luxonis-train) (0.12.1)\n",
      "Requirement already satisfied: fonttools>=4.22.0 in /home/klemen/luxonis/depthai-ml-training/tutorial_env/lib/python3.10/site-packages (from matplotlib<4->mlflow>=2.10.0->luxonis-train) (4.54.1)\n",
      "Requirement already satisfied: contourpy>=1.0.1 in /home/klemen/luxonis/depthai-ml-training/tutorial_env/lib/python3.10/site-packages (from matplotlib<4->mlflow>=2.10.0->luxonis-train) (1.3.0)\n",
      "Requirement already satisfied: pytz>=2020.1 in /home/klemen/luxonis/depthai-ml-training/tutorial_env/lib/python3.10/site-packages (from pandas>=2.0.0->luxonis-ml[data,tracker]>=0.4.0->luxonis-train) (2024.2)\n",
      "Requirement already satisfied: tzdata>=2022.7 in /home/klemen/luxonis/depthai-ml-training/tutorial_env/lib/python3.10/site-packages (from pandas>=2.0.0->luxonis-ml[data,tracker]>=0.4.0->luxonis-train) (2024.2)\n",
      "Requirement already satisfied: pydantic-core==2.23.4 in /home/klemen/luxonis/depthai-ml-training/tutorial_env/lib/python3.10/site-packages (from pydantic>=2.4.0->luxonis-ml[data,tracker]>=0.4.0->luxonis-train) (2.23.4)\n",
      "Requirement already satisfied: annotated-types>=0.6.0 in /home/klemen/luxonis/depthai-ml-training/tutorial_env/lib/python3.10/site-packages (from pydantic>=2.4.0->luxonis-ml[data,tracker]>=0.4.0->luxonis-train) (0.7.0)\n",
      "Requirement already satisfied: python-dotenv>=0.21.0 in /home/klemen/luxonis/depthai-ml-training/tutorial_env/lib/python3.10/site-packages (from pydantic-settings>=2.1.0->luxonis-ml[data,tracker]>=0.4.0->luxonis-train) (1.0.1)\n",
      "Requirement already satisfied: joblib>=1.2.0 in /home/klemen/luxonis/depthai-ml-training/tutorial_env/lib/python3.10/site-packages (from scikit-learn<2->mlflow>=2.10.0->luxonis-train) (1.4.2)\n",
      "Requirement already satisfied: threadpoolctl>=3.1.0 in /home/klemen/luxonis/depthai-ml-training/tutorial_env/lib/python3.10/site-packages (from scikit-learn<2->mlflow>=2.10.0->luxonis-train) (3.5.0)\n",
      "Requirement already satisfied: greenlet!=0.4.17 in /home/klemen/luxonis/depthai-ml-training/tutorial_env/lib/python3.10/site-packages (from sqlalchemy<3,>=1.4.0->mlflow>=2.10.0->luxonis-train) (3.1.1)\n",
      "Requirement already satisfied: humanfriendly>=9.1 in /home/klemen/luxonis/depthai-ml-training/tutorial_env/lib/python3.10/site-packages (from coloredlogs->onnxruntime>=1.13.1->luxonis-train) (10.0)\n",
      "Requirement already satisfied: jmespath<2.0.0,>=0.7.1 in /home/klemen/luxonis/depthai-ml-training/tutorial_env/lib/python3.10/site-packages (from botocore<1.35.37,>=1.35.16->aiobotocore<3.0.0,>=2.5.4->s3fs>=2023.0.0->luxonis-train) (1.0.1)\n",
      "Requirement already satisfied: google-auth~=2.0 in /home/klemen/luxonis/depthai-ml-training/tutorial_env/lib/python3.10/site-packages (from databricks-sdk<1,>=0.20.0->mlflow-skinny==2.17.1->mlflow>=2.10.0->luxonis-train) (2.35.0)\n",
      "Requirement already satisfied: gitdb<5,>=4.0.1 in /home/klemen/luxonis/depthai-ml-training/tutorial_env/lib/python3.10/site-packages (from gitpython<4,>=3.1.9->mlflow-skinny==2.17.1->mlflow>=2.10.0->luxonis-train) (4.0.11)\n",
      "Requirement already satisfied: sniffio in /home/klemen/luxonis/depthai-ml-training/tutorial_env/lib/python3.10/site-packages (from httpx>=0.21.2->label-studio-sdk>=0.0.28->luxonis-ml[data,tracker]>=0.4.0->luxonis-train) (1.3.1)\n",
      "Requirement already satisfied: httpcore==1.* in /home/klemen/luxonis/depthai-ml-training/tutorial_env/lib/python3.10/site-packages (from httpx>=0.21.2->label-studio-sdk>=0.0.28->luxonis-ml[data,tracker]>=0.4.0->luxonis-train) (1.0.6)\n",
      "Requirement already satisfied: anyio in /home/klemen/luxonis/depthai-ml-training/tutorial_env/lib/python3.10/site-packages (from httpx>=0.21.2->label-studio-sdk>=0.0.28->luxonis-ml[data,tracker]>=0.4.0->luxonis-train) (4.6.2.post1)\n",
      "Requirement already satisfied: h11<0.15,>=0.13 in /home/klemen/luxonis/depthai-ml-training/tutorial_env/lib/python3.10/site-packages (from httpcore==1.*->httpx>=0.21.2->label-studio-sdk>=0.0.28->luxonis-ml[data,tracker]>=0.4.0->luxonis-train) (0.14.0)\n",
      "Requirement already satisfied: zipp>=0.5 in /home/klemen/luxonis/depthai-ml-training/tutorial_env/lib/python3.10/site-packages (from importlib-metadata!=4.7.0,<9,>=3.7.0->mlflow-skinny==2.17.1->mlflow>=2.10.0->luxonis-train) (3.20.2)\n",
      "Requirement already satisfied: regex>=2021.8.3 in /home/klemen/luxonis/depthai-ml-training/tutorial_env/lib/python3.10/site-packages (from nltk<4.0.0,>=3.8.2->label-studio-sdk>=0.0.28->luxonis-ml[data,tracker]>=0.4.0->luxonis-train) (2024.9.11)\n",
      "Requirement already satisfied: deprecated>=1.2.6 in /home/klemen/luxonis/depthai-ml-training/tutorial_env/lib/python3.10/site-packages (from opentelemetry-api<3,>=1.9.0->mlflow-skinny==2.17.1->mlflow>=2.10.0->luxonis-train) (1.2.14)\n",
      "Requirement already satisfied: opentelemetry-semantic-conventions==0.48b0 in /home/klemen/luxonis/depthai-ml-training/tutorial_env/lib/python3.10/site-packages (from opentelemetry-sdk<3,>=1.9.0->mlflow-skinny==2.17.1->mlflow>=2.10.0->luxonis-train) (0.48b0)\n",
      "Requirement already satisfied: imageio>=2.33 in /home/klemen/luxonis/depthai-ml-training/tutorial_env/lib/python3.10/site-packages (from scikit-image>=0.16.1->albumentations<1.4.0,>=1.3.1->luxonis-ml[data,tracker]>=0.4.0->luxonis-train) (2.36.0)\n",
      "Requirement already satisfied: lazy-loader>=0.4 in /home/klemen/luxonis/depthai-ml-training/tutorial_env/lib/python3.10/site-packages (from scikit-image>=0.16.1->albumentations<1.4.0,>=1.3.1->luxonis-ml[data,tracker]>=0.4.0->luxonis-train) (0.4)\n",
      "Requirement already satisfied: tifffile>=2022.8.12 in /home/klemen/luxonis/depthai-ml-training/tutorial_env/lib/python3.10/site-packages (from scikit-image>=0.16.1->albumentations<1.4.0,>=1.3.1->luxonis-ml[data,tracker]>=0.4.0->luxonis-train) (2024.9.20)\n",
      "Requirement already satisfied: propcache>=0.2.0 in /home/klemen/luxonis/depthai-ml-training/tutorial_env/lib/python3.10/site-packages (from yarl<2.0,>=1.12.0->aiohttp!=4.0.0a0,!=4.0.0a1->s3fs>=2023.0.0->luxonis-train) (0.2.0)\n",
      "Requirement already satisfied: smmap<6,>=3.0.1 in /home/klemen/luxonis/depthai-ml-training/tutorial_env/lib/python3.10/site-packages (from gitdb<5,>=4.0.1->gitpython<4,>=3.1.9->mlflow-skinny==2.17.1->mlflow>=2.10.0->luxonis-train) (5.0.1)\n",
      "Requirement already satisfied: pyasn1-modules>=0.2.1 in /home/klemen/luxonis/depthai-ml-training/tutorial_env/lib/python3.10/site-packages (from google-auth~=2.0->databricks-sdk<1,>=0.20.0->mlflow-skinny==2.17.1->mlflow>=2.10.0->luxonis-train) (0.4.1)\n",
      "Requirement already satisfied: rsa<5,>=3.1.4 in /home/klemen/luxonis/depthai-ml-training/tutorial_env/lib/python3.10/site-packages (from google-auth~=2.0->databricks-sdk<1,>=0.20.0->mlflow-skinny==2.17.1->mlflow>=2.10.0->luxonis-train) (4.9)\n",
      "Requirement already satisfied: exceptiongroup>=1.0.2 in /home/klemen/luxonis/depthai-ml-training/tutorial_env/lib/python3.10/site-packages (from anyio->httpx>=0.21.2->label-studio-sdk>=0.0.28->luxonis-ml[data,tracker]>=0.4.0->luxonis-train) (1.2.2)\n",
      "Requirement already satisfied: pyasn1<0.7.0,>=0.4.6 in /home/klemen/luxonis/depthai-ml-training/tutorial_env/lib/python3.10/site-packages (from pyasn1-modules>=0.2.1->google-auth~=2.0->databricks-sdk<1,>=0.20.0->mlflow-skinny==2.17.1->mlflow>=2.10.0->luxonis-train) (0.6.1)\n",
      "Note: you may need to restart the kernel to use updated packages.\n"
     ]
    }
   ],
   "source": [
    "%pip install luxonis-train kaggle"
   ]
  },
  {
   "cell_type": "markdown",
   "metadata": {},
   "source": [
    "## 🗃️ Data Preparation"
   ]
  },
  {
   "cell_type": "markdown",
   "metadata": {},
   "source": [
    "First we need to download and prepare our dataset. For this example we'll use a publicly available dataset from Kaggle called [`Fruit Images for Object Detection`](https://www.kaggle.com/datasets/mbkinaci/fruit-images-for-object-detection). Our task is to train a model that is able to detect apples, bananas and oranges. \n",
    "\n",
    "To download the dataset we'll run this:"
   ]
  },
  {
   "cell_type": "code",
   "execution_count": 5,
   "metadata": {},
   "outputs": [
    {
     "name": "stdout",
     "output_type": "stream",
     "text": [
      "Dataset URL: https://www.kaggle.com/datasets/mbkinaci/fruit-images-for-object-detection\n",
      "License(s): CC0-1.0\n",
      "Downloading fruit-images-for-object-detection.zip to data\n",
      " 99%|█████████████████████████████████████▌| 28.0M/28.4M [00:04<00:00, 6.54MB/s]\n",
      "100%|██████████████████████████████████████| 28.4M/28.4M [00:04<00:00, 6.77MB/s]\n"
     ]
    }
   ],
   "source": [
    "!kaggle datasets download -d mbkinaci/fruit-images-for-object-detection -p data --unzip"
   ]
  },
  {
   "cell_type": "markdown",
   "metadata": {},
   "source": [
    "### 🧐 Parsing the Data"
   ]
  },
  {
   "cell_type": "markdown",
   "metadata": {},
   "source": [
    "Before we create a dataset it is advised we first look into the data and inspect what we have. In our case we have `train` and `test` folders that have images and their respective annotations in xml format. To make sure we understand how to parse this data we'll first write a simple script that takes one image and visualizes the labels on to it."
   ]
  },
  {
   "cell_type": "code",
   "execution_count": 2,
   "metadata": {},
   "outputs": [
    {
     "data": {
      "image/png": "[encoded data removed]",
      "text/plain": [
       "<Figure size 640x480 with 1 Axes>"
      ]
     },
     "metadata": {},
     "output_type": "display_data"
    }
   ],
   "source": [
    "import xml.etree.ElementTree as ET\n",
    "import cv2\n",
    "import matplotlib.pyplot as plt\n",
    "\n",
    "IMG_PATH = \"./data/train_zip/train/apple_1.jpg\"\n",
    "ANN_PATH = \"./data/train_zip/train/apple_1.xml\"\n",
    "\n",
    "def xml_find(root: ET.Element, tag: str) -> str:\n",
    "    item = root.find(tag)\n",
    "    if item is not None and item.text is not None:\n",
    "        return item.text\n",
    "    raise ValueError(f\"Could not find {tag} in {root}\")\n",
    "\n",
    "\n",
    "img = cv2.imread(IMG_PATH)\n",
    "img = cv2.cvtColor(img, cv2.COLOR_BGR2RGB)\n",
    "\n",
    "annotation_data = ET.parse(ANN_PATH)\n",
    "root = annotation_data.getroot()\n",
    "for object_item in root.findall(\"object\"):\n",
    "    class_name = xml_find(object_item, \"name\")\n",
    "    bbox_info = object_item.find(\"bndbox\")\n",
    "\n",
    "    bbox_xyxy = [\n",
    "        int(xml_find(bbox_info, \"xmin\")),\n",
    "        int(xml_find(bbox_info, \"ymin\")),\n",
    "        int(xml_find(bbox_info, \"xmax\")),\n",
    "        int(xml_find(bbox_info, \"ymax\"))\n",
    "    ]\n",
    "    img = cv2.rectangle(img, bbox_xyxy[:2], bbox_xyxy[2:], 255, 2)\n",
    "    img = cv2.putText(img, class_name, (bbox_xyxy[0]+5, bbox_xyxy[1]+15), 1, 1, 255, 1)\n",
    "\n",
    "plt.imshow(img)\n",
    "plt.show()"
   ]
  },
  {
   "cell_type": "markdown",
   "metadata": {},
   "source": [
    "### 💾 LuxonisDataset"
   ]
  },
  {
   "cell_type": "markdown",
   "metadata": {},
   "source": [
    "Now that we are fimilar with the data we can start creating a `LuxonisDataset`. First we need to create a dataset instance which we'll call `fruit_dataset`."
   ]
  },
  {
   "cell_type": "code",
   "execution_count": 3,
   "metadata": {},
   "outputs": [],
   "source": [
    "from luxonis_ml.data import LuxonisDataset\n",
    "\n",
    "dataset = LuxonisDataset(dataset_name=\"fruit_dataset\", delete_existing=True) # if dataset with this name already exists then we delete the old instance"
   ]
  },
  {
   "cell_type": "markdown",
   "metadata": {},
   "source": [
    "To add data to LuxonisDataset you need to create a generator function which yields annotations in the correct format. For object detection the annotations should be in `[x_min, y_min, width, height] normalized format` which means all values should be normalized between [0,1]. As mentioned before we have `train` and `test` subsets already created by the data providers but we also want to have a `val` subset that is used to monitor our training run. In order to make it, we'll use 20% of the training subset for validation. \n",
    "\n",
    "Let's now first create a function called `process_dir` which will get a path to the directory and return generator function of type DatasetIterator and a list of paths of added images."
   ]
  },
  {
   "cell_type": "code",
   "execution_count": 4,
   "metadata": {},
   "outputs": [],
   "source": [
    "from luxonis_ml.data import DatasetIterator\n",
    "from pathlib import Path\n",
    "import numpy as np\n",
    "\n",
    "def process_dir(dir_path: Path) -> tuple[DatasetIterator, list[str]]:\n",
    "    images = [str(i.absolute().resolve()) for i in dir_path.glob(\"*.jpg\")]\n",
    "    \n",
    "    def generator() -> DatasetIterator:\n",
    "        for img_path in images:\n",
    "            ann_path = Path(img_path).with_suffix(\".xml\")\n",
    "            annotation_data = ET.parse(ann_path)\n",
    "            root = annotation_data.getroot()\n",
    "            \n",
    "            height, width, _ = cv2.imread(img_path).shape\n",
    "            \n",
    "            for object_item in root.findall(\"object\"):\n",
    "                class_name = xml_find(object_item, \"name\")\n",
    "\n",
    "                bbox_info = object_item.find(\"bndbox\")\n",
    "                if bbox_info is not None:\n",
    "                    bbox_xywh = np.array(\n",
    "                        [\n",
    "                            float(xml_find(bbox_info, \"xmin\")),\n",
    "                            float(xml_find(bbox_info, \"ymin\")),\n",
    "                            float(xml_find(bbox_info, \"xmax\"))\n",
    "                            - float(xml_find(bbox_info, \"xmin\")),\n",
    "                            float(xml_find(bbox_info, \"ymax\"))\n",
    "                            - float(xml_find(bbox_info, \"ymin\")),\n",
    "                        ]\n",
    "                    )\n",
    "                    bbox_xywh[::2] /= width\n",
    "                    bbox_xywh[1::2] /= height\n",
    "\n",
    "                    yield {\n",
    "                        \"file\": img_path,\n",
    "                        \"annotation\": {\n",
    "                            \"type\": \"boundingbox\",\n",
    "                            \"class\": class_name,\n",
    "                            \"x\": bbox_xywh[0],\n",
    "                            \"y\": bbox_xywh[1],\n",
    "                            \"w\": bbox_xywh[2],\n",
    "                            \"h\": bbox_xywh[3]\n",
    "                        }\n",
    "                    }\n",
    "    \n",
    "    return generator(), images"
   ]
  },
  {
   "cell_type": "markdown",
   "metadata": {},
   "source": [
    "We can now use this function to process both train and test directories and add them to our LuxonisDataset instance. "
   ]
  },
  {
   "cell_type": "code",
   "execution_count": 5,
   "metadata": {},
   "outputs": [
    {
     "name": "stderr",
     "output_type": "stream",
     "text": [
      "libpng warning: iCCP: known incorrect sRGB profile\n",
      "libpng warning: iCCP: known incorrect sRGB profile\n",
      "libpng warning: iCCP: known incorrect sRGB profile\n",
      "libpng warning: iCCP: known incorrect sRGB profile\n"
     ]
    },
    {
     "data": {
      "text/html": [
       "<pre style=\"white-space:pre;overflow-x:auto;line-height:normal;font-family:Menlo,'DejaVu Sans Mono',consolas,'Courier New',monospace\">/home/klemen/luxonis/depthai-ml-training/tutorial_env/lib/python3.10/site-packages/rich/live.py:231: UserWarning: \n",
       "install \"ipywidgets\" for Jupyter support\n",
       "  warnings.warn('install \"ipywidgets\" for Jupyter support')\n",
       "</pre>\n"
      ],
      "text/plain": [
       "/home/klemen/luxonis/depthai-ml-training/tutorial_env/lib/python3.10/site-packages/rich/live.py:231: UserWarning: \n",
       "install \"ipywidgets\" for Jupyter support\n",
       "  warnings.warn('install \"ipywidgets\" for Jupyter support')\n"
      ]
     },
     "metadata": {},
     "output_type": "display_data"
    },
    {
     "data": {
      "text/html": [
       "<pre style=\"white-space:pre;overflow-x:auto;line-height:normal;font-family:Menlo,'DejaVu Sans Mono',consolas,'Courier New',monospace\"></pre>\n"
      ],
      "text/plain": []
     },
     "metadata": {},
     "output_type": "display_data"
    },
    {
     "data": {
      "text/html": [
       "<pre style=\"white-space:pre;overflow-x:auto;line-height:normal;font-family:Menlo,'DejaVu Sans Mono',consolas,'Courier New',monospace\"></pre>\n"
      ],
      "text/plain": []
     },
     "metadata": {},
     "output_type": "display_data"
    },
    {
     "name": "stderr",
     "output_type": "stream",
     "text": [
      "libpng warning: iCCP: known incorrect sRGB profile\n"
     ]
    },
    {
     "data": {
      "text/html": [
       "<pre style=\"white-space:pre;overflow-x:auto;line-height:normal;font-family:Menlo,'DejaVu Sans Mono',consolas,'Courier New',monospace\"></pre>\n"
      ],
      "text/plain": []
     },
     "metadata": {},
     "output_type": "display_data"
    },
    {
     "data": {
      "text/html": [
       "<pre style=\"white-space:pre;overflow-x:auto;line-height:normal;font-family:Menlo,'DejaVu Sans Mono',consolas,'Courier New',monospace\"></pre>\n"
      ],
      "text/plain": []
     },
     "metadata": {},
     "output_type": "display_data"
    }
   ],
   "source": [
    "train_dir_path = Path(\"data/train_zip/train\")\n",
    "train_gen, train_images = process_dir(dir_path=train_dir_path)\n",
    "\n",
    "test_dir_path = Path(\"data/test_zip/test\")\n",
    "test_gen, test_images = process_dir(dir_path=test_dir_path)\n",
    "\n",
    "# Add data to the dataset\n",
    "dataset = dataset.add(train_gen)\n",
    "dataset = dataset.add(test_gen)"
   ]
  },
  {
   "cell_type": "markdown",
   "metadata": {},
   "source": [
    "Last step is to split the data into `train`, `val` and `test` subsets. And as mentioned before we'll use 20% of the training data as validation since this is not already present in the original data."
   ]
  },
  {
   "cell_type": "code",
   "execution_count": 6,
   "metadata": {},
   "outputs": [],
   "source": [
    "from random import shuffle\n",
    "\n",
    "shuffle(train_images) # shuffle the images\n",
    "split_idx = int(len(train_images) * 0.8)\n",
    "actual_train_images = train_images[:split_idx]\n",
    "actual_val_images = train_images[split_idx:]\n",
    "\n",
    "dataset.make_splits(\n",
    "    splits={\n",
    "        \"train\": actual_train_images,\n",
    "        \"val\": actual_val_images,\n",
    "        \"test\": test_images\n",
    "    }\n",
    ")"
   ]
  },
  {
   "cell_type": "markdown",
   "metadata": {},
   "source": [
    "To varify that the data is correctly loaded and split into subsets we can check the dataset's information and visualizations of the annotations."
   ]
  },
  {
   "cell_type": "code",
   "execution_count": 7,
   "metadata": {},
   "outputs": [
    {
     "name": "stdout",
     "output_type": "stream",
     "text": [
      "╭───────────── Dataset Info ──────────────╮\n",
      "│ \u001b[1;35mName: \u001b[0m\u001b[36mfruit_dataset\u001b[0m                     │\n",
      "│                                         │\n",
      "│ ╭─ Split Sizes ─╮                       │\n",
      "│ │ \u001b[1;35mtrain: \u001b[0m\u001b[36m192\u001b[0m    │                       │\n",
      "│ │ \u001b[1;35mval: \u001b[0m\u001b[36m48\u001b[0m       │                       │\n",
      "│ │ \u001b[1;35mtest: \u001b[0m\u001b[36m60\u001b[0m      │                       │\n",
      "│ │ \u001b[92m─────────────\u001b[0m │                       │\n",
      "│ │ \u001b[1;35mTotal: \u001b[0m\u001b[36m300\u001b[0m    │                       │\n",
      "│ ╰───────────────╯                       │\n",
      "│ \u001b[3m                Classes                \u001b[0m │\n",
      "│ ╭─────────────┬───────────────────────╮ │\n",
      "│ │\u001b[1;3;35m \u001b[0m\u001b[1;3;35mTask       \u001b[0m\u001b[1;3;35m \u001b[0m│\u001b[1;3;35m \u001b[0m\u001b[1;3;35mClass Names          \u001b[0m\u001b[1;3;35m \u001b[0m│ │\n",
      "│ ├─────────────┼───────────────────────┤ │\n",
      "│ │\u001b[33m \u001b[0m\u001b[33mboundingbox\u001b[0m\u001b[33m \u001b[0m│\u001b[33m \u001b[0m\u001b[33mapple, orange, banana\u001b[0m\u001b[33m \u001b[0m│ │\n",
      "│ ╰─────────────┴───────────────────────╯ │\n",
      "╰─────────────────────────────────────────╯\n"
     ]
    }
   ],
   "source": [
    "!luxonis_ml data info fruit_dataset"
   ]
  },
  {
   "cell_type": "code",
   "execution_count": 61,
   "metadata": {},
   "outputs": [],
   "source": [
    "!luxonis_ml data inspect fruit_dataset # NOTE: If you are on Google Colab this command will not work"
   ]
  },
  {
   "cell_type": "markdown",
   "metadata": {},
   "source": [
    "## 🏋️‍♂️ Training"
   ]
  },
  {
   "cell_type": "markdown",
   "metadata": {},
   "source": [
    "### ⚙️ Configuration"
   ]
  },
  {
   "cell_type": "markdown",
   "metadata": {},
   "source": [
    "We have the dataset prepared and now we are almost ready for the actual training. The last step is just to set up our training configuration file. The whole training process in `LuxonisTrain` doesn't require any coding. We advise you that you take one of the base configuration files from [here](https://github.com/luxonis/luxonis-train/tree/main/configs) depending on the task and then edit you to fit your needs.\n",
    "\n",
    "In our case we are training an object detection and thus we'll take a [`detection_light_model.yaml`](https://github.com/luxonis/luxonis-train/blob/main/configs/detection_light_model.yaml) as a starting point. There is a lot of parameters that we can change and we advise you to go through the [`documentation`](https://github.com/luxonis/luxonis-train/blob/main/configs/README.md) to find all of them. In this tutorial we'll only go through some of the basic ones to get you started on your journey.\n",
    "\n",
    "#### Model\n",
    "In this section you can either choose one of the predefined architectures (all of them listed [here](https://github.com/luxonis/luxonis-train/tree/main/luxonis_train/config/predefined_models)) or create a complitely custom neural network by connection different nodes, losses, metrics and visualizers together. We'll go with the predefined `DetectionModel`.\n",
    "\n",
    "#### Loader\n",
    "This section of the config referes to the data loading. You can either setup your custom Loader or just use the default one with the LuxonisDataset. In our case we'll go with the seconf option and all we need to do is to set `dataset_name` to `fruit_dataset`\n",
    "\n",
    "#### Trainer\n",
    "In this section we can set up everything connected to actual training. You can change preprocessing, batch size, epochs, add callbacks, augmentations, change optimizers, schedulers and many more. For full list please refer to the [full documentation](https://github.com/luxonis/luxonis-train/tree/main/configs). \n",
    "\n",
    "**Augmentations**\n",
    "In our case we'll leave most of the things as they are, the only change will be adding some augmentations. We use [`Albumentations`](https://albumentations.ai/) for our augmentations with additional of some custom ones like Mosaic4 and MixUp. You can use [this demo](https://demo.albumentations.ai/) to experiment and find those that work for your specific training run. We can add some Affine transforms, For this specific training run we'll add some Affine transforms, HorizontalFlip and ColorJitter but feel free to edit this.\n",
    "\n",
    "**Callbacks**\n",
    "Callbacks are very helpful when we want to merge more functionalities into a single training run. For example, we want to first train the model then evaluate it on test subset, export it and create an archive. All of these steps can be defined through the config and done by a single call. For the purpose of a nicer explanation we won't be using them in this tutorial but feel free to set them up on your own. You can check out all the available callbacks [here](https://github.com/luxonis/luxonis-train/tree/main/luxonis_train/callbacks)"
   ]
  },
  {
   "cell_type": "markdown",
   "metadata": {},
   "source": [
    "Below is a starting point for your config. As mentioned we already made some changes to it so it works with this tutorial (change of model name, dataset name and addition of augmentations) but feel free to edit it further and make it your own. When you are done editing you can just execute the cell and the file will be written and ready to use.\n",
    "\n",
    "**Note**: In case you don't have enough compute on your machine you can either use [Google Colab](https://colab.research.google.com/) (with GPU enabled) or you can try lowering number of epochs and/or batch size but in that case performance might drop."
   ]
  },
  {
   "cell_type": "code",
   "execution_count": 68,
   "metadata": {},
   "outputs": [
    {
     "name": "stdout",
     "output_type": "stream",
     "text": [
      "Overwriting fruit_detection_config.yaml\n"
     ]
    }
   ],
   "source": [
    "%%writefile fruit_detection_config.yaml\n",
    "model:\n",
    "  name: fruit_detection_model\n",
    "  predefined_model:\n",
    "    name: DetectionModel\n",
    "    params:\n",
    "      variant: light\n",
    "\n",
    "loader:\n",
    "  params:\n",
    "    dataset_name: fruit_dataset\n",
    "\n",
    "trainer:\n",
    "  preprocessing:\n",
    "    train_image_size: [384, 512]\n",
    "    keep_aspect_ratio: true\n",
    "    normalize:\n",
    "      active: true\n",
    "\n",
    "    augmentations:\n",
    "      - name: Affine\n",
    "        params:\n",
    "          scale: [0.7, 1.7]\n",
    "          rotate: 20\n",
    "          shear: 5\n",
    "          p: 0.3\n",
    "      - name: HorizontalFlip\n",
    "        params:\n",
    "          p: 0.3\n",
    "      - name: ColorJitter\n",
    "        params:\n",
    "          brightness: [0.8, 1.2]\n",
    "          contrast: [0.8, 1.2]\n",
    "          saturation: [0.8, 1.2]\n",
    "          hue: 0\n",
    "          p: 0.2\n",
    "\n",
    "  batch_size: 8\n",
    "  epochs: &epochs 200\n",
    "  n_workers: 8\n",
    "  validation_interval: 10\n",
    "  n_log_images: 8\n",
    "\n",
    "  optimizer:\n",
    "    name: SGD\n",
    "    params:\n",
    "      lr: 0.02\n",
    "      momentum: 0.937\n",
    "      weight_decay: 0.0005\n",
    "      dampening: 0.0\n",
    "      nesterov: true\n",
    "\n",
    "  scheduler:\n",
    "    name: CosineAnnealingLR\n",
    "    params:\n",
    "      T_max: *epochs\n",
    "      eta_min: 0.0002\n",
    "      last_epoch: -1"
   ]
  },
  {
   "cell_type": "markdown",
   "metadata": {},
   "source": [
    "### 🦾 Train"
   ]
  },
  {
   "cell_type": "markdown",
   "metadata": {},
   "source": [
    "To start the training we just need to initialize the `LuxonisModel`, pass it the path to the configuration file and call the `train()` method on it.\n",
    "\n",
    "**Note**: LuxonisTrain also supports all these commands through usage of its CLI ([docs here](https://github.com/luxonis/luxonis-train/tree/main?tab=readme-ov-file#-cli)), no code required. We won't use them for tutorial purposes but when you do it yourself feel free to use them."
   ]
  },
  {
   "cell_type": "code",
   "execution_count": 69,
   "metadata": {},
   "outputs": [
    {
     "data": {
      "text/html": [
       "<pre style=\"white-space:pre;overflow-x:auto;line-height:normal;font-family:Menlo,'DejaVu Sans Mono',consolas,'Courier New',monospace\"><span style=\"color: #008000; text-decoration-color: #008000\">INFO    </span> Using predefined model: `DetectionModel`                                                     <a href=\"file:///home/klemen/luxonis/luxonis-train/luxonis_train/config/config.py\" target=\"_blank\"><span style=\"color: #7f7f7f; text-decoration-color: #7f7f7f\">config.py</span></a><span style=\"color: #7f7f7f; text-decoration-color: #7f7f7f\">:</span><a href=\"file:///home/klemen/luxonis/luxonis-train/luxonis_train/config/config.py#131\" target=\"_blank\"><span style=\"color: #7f7f7f; text-decoration-color: #7f7f7f\">131</span></a>\n",
       "</pre>\n"
      ],
      "text/plain": [
       "\u001b[32mINFO    \u001b[0m Using predefined model: `DetectionModel`                                                     \u001b]8;id=936591;file:///home/klemen/luxonis/luxonis-train/luxonis_train/config/config.py\u001b\\\u001b[2mconfig.py\u001b[0m\u001b]8;;\u001b\\\u001b[2m:\u001b[0m\u001b]8;id=464143;file:///home/klemen/luxonis/luxonis-train/luxonis_train/config/config.py#131\u001b\\\u001b[2m131\u001b[0m\u001b]8;;\u001b\\\n"
      ]
     },
     "metadata": {},
     "output_type": "display_data"
    },
    {
     "data": {
      "text/html": [
       "<pre style=\"white-space:pre;overflow-x:auto;line-height:normal;font-family:Menlo,'DejaVu Sans Mono',consolas,'Courier New',monospace\"><span style=\"color: #008000; text-decoration-color: #008000\">INFO    </span> Main metric: `MeanAveragePrecision`                                                          <a href=\"file:///home/klemen/luxonis/luxonis-train/luxonis_train/config/config.py\" target=\"_blank\"><span style=\"color: #7f7f7f; text-decoration-color: #7f7f7f\">config.py</span></a><span style=\"color: #7f7f7f; text-decoration-color: #7f7f7f\">:</span><a href=\"file:///home/klemen/luxonis/luxonis-train/luxonis_train/config/config.py#154\" target=\"_blank\"><span style=\"color: #7f7f7f; text-decoration-color: #7f7f7f\">154</span></a>\n",
       "</pre>\n"
      ],
      "text/plain": [
       "\u001b[32mINFO    \u001b[0m Main metric: `MeanAveragePrecision`                                                          \u001b]8;id=755922;file:///home/klemen/luxonis/luxonis-train/luxonis_train/config/config.py\u001b\\\u001b[2mconfig.py\u001b[0m\u001b]8;;\u001b\\\u001b[2m:\u001b[0m\u001b]8;id=55480;file:///home/klemen/luxonis/luxonis-train/luxonis_train/config/config.py#154\u001b\\\u001b[2m154\u001b[0m\u001b]8;;\u001b\\\n"
      ]
     },
     "metadata": {},
     "output_type": "display_data"
    },
    {
     "data": {
      "text/html": [
       "<pre style=\"white-space:pre;overflow-x:auto;line-height:normal;font-family:Menlo,'DejaVu Sans Mono',consolas,'Courier New',monospace\"><span style=\"color: #008000; text-decoration-color: #008000\">INFO    </span> GPU available: <span style=\"color: #00ff00; text-decoration-color: #00ff00; font-style: italic\">True</span> <span style=\"font-weight: bold\">(</span>cuda<span style=\"font-weight: bold\">)</span>, used: <span style=\"color: #00ff00; text-decoration-color: #00ff00; font-style: italic\">True</span>                                                     <a href=\"file:///home/klemen/envs/luxonis/lib/python3.10/site-packages/lightning_utilities/core/rank_zero.py\" target=\"_blank\"><span style=\"color: #7f7f7f; text-decoration-color: #7f7f7f\">rank_zero.py</span></a><span style=\"color: #7f7f7f; text-decoration-color: #7f7f7f\">:</span><a href=\"file:///home/klemen/envs/luxonis/lib/python3.10/site-packages/lightning_utilities/core/rank_zero.py#63\" target=\"_blank\"><span style=\"color: #7f7f7f; text-decoration-color: #7f7f7f\">63</span></a>\n",
       "</pre>\n"
      ],
      "text/plain": [
       "\u001b[32mINFO    \u001b[0m GPU available: \u001b[3;92mTrue\u001b[0m \u001b[1m(\u001b[0mcuda\u001b[1m)\u001b[0m, used: \u001b[3;92mTrue\u001b[0m                                                     \u001b]8;id=126039;file:///home/klemen/envs/luxonis/lib/python3.10/site-packages/lightning_utilities/core/rank_zero.py\u001b\\\u001b[2mrank_zero.py\u001b[0m\u001b]8;;\u001b\\\u001b[2m:\u001b[0m\u001b]8;id=830880;file:///home/klemen/envs/luxonis/lib/python3.10/site-packages/lightning_utilities/core/rank_zero.py#63\u001b\\\u001b[2m63\u001b[0m\u001b]8;;\u001b\\\n"
      ]
     },
     "metadata": {},
     "output_type": "display_data"
    },
    {
     "data": {
      "text/html": [
       "<pre style=\"white-space:pre;overflow-x:auto;line-height:normal;font-family:Menlo,'DejaVu Sans Mono',consolas,'Courier New',monospace\"><span style=\"color: #008000; text-decoration-color: #008000\">INFO    </span> TPU available: <span style=\"color: #ff0000; text-decoration-color: #ff0000; font-style: italic\">False</span>, using: <span style=\"color: #008080; text-decoration-color: #008080; font-weight: bold\">0</span> TPU cores                                                   <a href=\"file:///home/klemen/envs/luxonis/lib/python3.10/site-packages/lightning_utilities/core/rank_zero.py\" target=\"_blank\"><span style=\"color: #7f7f7f; text-decoration-color: #7f7f7f\">rank_zero.py</span></a><span style=\"color: #7f7f7f; text-decoration-color: #7f7f7f\">:</span><a href=\"file:///home/klemen/envs/luxonis/lib/python3.10/site-packages/lightning_utilities/core/rank_zero.py#63\" target=\"_blank\"><span style=\"color: #7f7f7f; text-decoration-color: #7f7f7f\">63</span></a>\n",
       "</pre>\n"
      ],
      "text/plain": [
       "\u001b[32mINFO    \u001b[0m TPU available: \u001b[3;91mFalse\u001b[0m, using: \u001b[1;36m0\u001b[0m TPU cores                                                   \u001b]8;id=590430;file:///home/klemen/envs/luxonis/lib/python3.10/site-packages/lightning_utilities/core/rank_zero.py\u001b\\\u001b[2mrank_zero.py\u001b[0m\u001b]8;;\u001b\\\u001b[2m:\u001b[0m\u001b]8;id=204464;file:///home/klemen/envs/luxonis/lib/python3.10/site-packages/lightning_utilities/core/rank_zero.py#63\u001b\\\u001b[2m63\u001b[0m\u001b]8;;\u001b\\\n"
      ]
     },
     "metadata": {},
     "output_type": "display_data"
    },
    {
     "data": {
      "text/html": [
       "<pre style=\"white-space:pre;overflow-x:auto;line-height:normal;font-family:Menlo,'DejaVu Sans Mono',consolas,'Courier New',monospace\"><span style=\"color: #008000; text-decoration-color: #008000\">INFO    </span> HPU available: <span style=\"color: #ff0000; text-decoration-color: #ff0000; font-style: italic\">False</span>, using: <span style=\"color: #008080; text-decoration-color: #008080; font-weight: bold\">0</span> HPUs                                                        <a href=\"file:///home/klemen/envs/luxonis/lib/python3.10/site-packages/lightning_utilities/core/rank_zero.py\" target=\"_blank\"><span style=\"color: #7f7f7f; text-decoration-color: #7f7f7f\">rank_zero.py</span></a><span style=\"color: #7f7f7f; text-decoration-color: #7f7f7f\">:</span><a href=\"file:///home/klemen/envs/luxonis/lib/python3.10/site-packages/lightning_utilities/core/rank_zero.py#63\" target=\"_blank\"><span style=\"color: #7f7f7f; text-decoration-color: #7f7f7f\">63</span></a>\n",
       "</pre>\n"
      ],
      "text/plain": [
       "\u001b[32mINFO    \u001b[0m HPU available: \u001b[3;91mFalse\u001b[0m, using: \u001b[1;36m0\u001b[0m HPUs                                                        \u001b]8;id=97497;file:///home/klemen/envs/luxonis/lib/python3.10/site-packages/lightning_utilities/core/rank_zero.py\u001b\\\u001b[2mrank_zero.py\u001b[0m\u001b]8;;\u001b\\\u001b[2m:\u001b[0m\u001b]8;id=344995;file:///home/klemen/envs/luxonis/lib/python3.10/site-packages/lightning_utilities/core/rank_zero.py#63\u001b\\\u001b[2m63\u001b[0m\u001b]8;;\u001b\\\n"
      ]
     },
     "metadata": {},
     "output_type": "display_data"
    },
    {
     "data": {
      "text/html": [
       "<pre style=\"white-space:pre;overflow-x:auto;line-height:normal;font-family:Menlo,'DejaVu Sans Mono',consolas,'Courier New',monospace\"><span style=\"color: #008000; text-decoration-color: #008000\">INFO    </span> Train loader - splits: <span style=\"font-weight: bold\">[</span><span style=\"color: #008000; text-decoration-color: #008000\">'train'</span><span style=\"font-weight: bold\">]</span>, size: <span style=\"color: #008080; text-decoration-color: #008080; font-weight: bold\">192</span>                                                    <a href=\"file:///home/klemen/luxonis/luxonis-train/luxonis_train/core/core.py\" target=\"_blank\"><span style=\"color: #7f7f7f; text-decoration-color: #7f7f7f\">core.py</span></a><span style=\"color: #7f7f7f; text-decoration-color: #7f7f7f\">:</span><a href=\"file:///home/klemen/luxonis/luxonis-train/luxonis_train/core/core.py#156\" target=\"_blank\"><span style=\"color: #7f7f7f; text-decoration-color: #7f7f7f\">156</span></a>\n",
       "</pre>\n"
      ],
      "text/plain": [
       "\u001b[32mINFO    \u001b[0m Train loader - splits: \u001b[1m[\u001b[0m\u001b[32m'train'\u001b[0m\u001b[1m]\u001b[0m, size: \u001b[1;36m192\u001b[0m                                                    \u001b]8;id=676833;file:///home/klemen/luxonis/luxonis-train/luxonis_train/core/core.py\u001b\\\u001b[2mcore.py\u001b[0m\u001b]8;;\u001b\\\u001b[2m:\u001b[0m\u001b]8;id=775787;file:///home/klemen/luxonis/luxonis-train/luxonis_train/core/core.py#156\u001b\\\u001b[2m156\u001b[0m\u001b]8;;\u001b\\\n"
      ]
     },
     "metadata": {},
     "output_type": "display_data"
    },
    {
     "data": {
      "text/html": [
       "<pre style=\"white-space:pre;overflow-x:auto;line-height:normal;font-family:Menlo,'DejaVu Sans Mono',consolas,'Courier New',monospace\"><span style=\"color: #008000; text-decoration-color: #008000\">INFO    </span> Val loader - splits: <span style=\"font-weight: bold\">[</span><span style=\"color: #008000; text-decoration-color: #008000\">'val'</span><span style=\"font-weight: bold\">]</span>, size: <span style=\"color: #008080; text-decoration-color: #008080; font-weight: bold\">48</span>                                                         <a href=\"file:///home/klemen/luxonis/luxonis-train/luxonis_train/core/core.py\" target=\"_blank\"><span style=\"color: #7f7f7f; text-decoration-color: #7f7f7f\">core.py</span></a><span style=\"color: #7f7f7f; text-decoration-color: #7f7f7f\">:</span><a href=\"file:///home/klemen/luxonis/luxonis-train/luxonis_train/core/core.py#156\" target=\"_blank\"><span style=\"color: #7f7f7f; text-decoration-color: #7f7f7f\">156</span></a>\n",
       "</pre>\n"
      ],
      "text/plain": [
       "\u001b[32mINFO    \u001b[0m Val loader - splits: \u001b[1m[\u001b[0m\u001b[32m'val'\u001b[0m\u001b[1m]\u001b[0m, size: \u001b[1;36m48\u001b[0m                                                         \u001b]8;id=21770;file:///home/klemen/luxonis/luxonis-train/luxonis_train/core/core.py\u001b\\\u001b[2mcore.py\u001b[0m\u001b]8;;\u001b\\\u001b[2m:\u001b[0m\u001b]8;id=156142;file:///home/klemen/luxonis/luxonis-train/luxonis_train/core/core.py#156\u001b\\\u001b[2m156\u001b[0m\u001b]8;;\u001b\\\n"
      ]
     },
     "metadata": {},
     "output_type": "display_data"
    },
    {
     "data": {
      "text/html": [
       "<pre style=\"white-space:pre;overflow-x:auto;line-height:normal;font-family:Menlo,'DejaVu Sans Mono',consolas,'Courier New',monospace\"><span style=\"color: #008000; text-decoration-color: #008000\">INFO    </span> Test loader - splits: <span style=\"font-weight: bold\">[</span><span style=\"color: #008000; text-decoration-color: #008000\">'test'</span><span style=\"font-weight: bold\">]</span>, size: <span style=\"color: #008080; text-decoration-color: #008080; font-weight: bold\">60</span>                                                       <a href=\"file:///home/klemen/luxonis/luxonis-train/luxonis_train/core/core.py\" target=\"_blank\"><span style=\"color: #7f7f7f; text-decoration-color: #7f7f7f\">core.py</span></a><span style=\"color: #7f7f7f; text-decoration-color: #7f7f7f\">:</span><a href=\"file:///home/klemen/luxonis/luxonis-train/luxonis_train/core/core.py#156\" target=\"_blank\"><span style=\"color: #7f7f7f; text-decoration-color: #7f7f7f\">156</span></a>\n",
       "</pre>\n"
      ],
      "text/plain": [
       "\u001b[32mINFO    \u001b[0m Test loader - splits: \u001b[1m[\u001b[0m\u001b[32m'test'\u001b[0m\u001b[1m]\u001b[0m, size: \u001b[1;36m60\u001b[0m                                                       \u001b]8;id=785666;file:///home/klemen/luxonis/luxonis-train/luxonis_train/core/core.py\u001b\\\u001b[2mcore.py\u001b[0m\u001b]8;;\u001b\\\u001b[2m:\u001b[0m\u001b]8;id=582462;file:///home/klemen/luxonis/luxonis-train/luxonis_train/core/core.py#156\u001b\\\u001b[2m156\u001b[0m\u001b]8;;\u001b\\\n"
      ]
     },
     "metadata": {},
     "output_type": "display_data"
    },
    {
     "data": {
      "text/html": [
       "<pre style=\"white-space:pre;overflow-x:auto;line-height:normal;font-family:Menlo,'DejaVu Sans Mono',consolas,'Courier New',monospace\"><span style=\"color: #008000; text-decoration-color: #008000\">INFO    </span> Checkpoints will be saved in: output/<span style=\"color: #008080; text-decoration-color: #008080; font-weight: bold\">1</span>-fuchsia-jaguar                                          <a href=\"file:///home/klemen/luxonis/luxonis-train/luxonis_train/core/core.py\" target=\"_blank\"><span style=\"color: #7f7f7f; text-decoration-color: #7f7f7f\">core.py</span></a><span style=\"color: #7f7f7f; text-decoration-color: #7f7f7f\">:</span><a href=\"file:///home/klemen/luxonis/luxonis-train/luxonis_train/core/core.py#257\" target=\"_blank\"><span style=\"color: #7f7f7f; text-decoration-color: #7f7f7f\">257</span></a>\n",
       "</pre>\n"
      ],
      "text/plain": [
       "\u001b[32mINFO    \u001b[0m Checkpoints will be saved in: output/\u001b[1;36m1\u001b[0m-fuchsia-jaguar                                          \u001b]8;id=294589;file:///home/klemen/luxonis/luxonis-train/luxonis_train/core/core.py\u001b\\\u001b[2mcore.py\u001b[0m\u001b]8;;\u001b\\\u001b[2m:\u001b[0m\u001b]8;id=494107;file:///home/klemen/luxonis/luxonis-train/luxonis_train/core/core.py#257\u001b\\\u001b[2m257\u001b[0m\u001b]8;;\u001b\\\n"
      ]
     },
     "metadata": {},
     "output_type": "display_data"
    },
    {
     "data": {
      "text/html": [
       "<pre style=\"white-space:pre;overflow-x:auto;line-height:normal;font-family:Menlo,'DejaVu Sans Mono',consolas,'Courier New',monospace\"><span style=\"color: #008000; text-decoration-color: #008000\">INFO    </span> Starting training<span style=\"color: #808000; text-decoration-color: #808000\">...</span>                                                                           <a href=\"file:///home/klemen/luxonis/luxonis-train/luxonis_train/core/core.py\" target=\"_blank\"><span style=\"color: #7f7f7f; text-decoration-color: #7f7f7f\">core.py</span></a><span style=\"color: #7f7f7f; text-decoration-color: #7f7f7f\">:</span><a href=\"file:///home/klemen/luxonis/luxonis-train/luxonis_train/core/core.py#258\" target=\"_blank\"><span style=\"color: #7f7f7f; text-decoration-color: #7f7f7f\">258</span></a>\n",
       "</pre>\n"
      ],
      "text/plain": [
       "\u001b[32mINFO    \u001b[0m Starting training\u001b[33m...\u001b[0m                                                                           \u001b]8;id=270537;file:///home/klemen/luxonis/luxonis-train/luxonis_train/core/core.py\u001b\\\u001b[2mcore.py\u001b[0m\u001b]8;;\u001b\\\u001b[2m:\u001b[0m\u001b]8;id=924801;file:///home/klemen/luxonis/luxonis-train/luxonis_train/core/core.py#258\u001b\\\u001b[2m258\u001b[0m\u001b]8;;\u001b\\\n"
      ]
     },
     "metadata": {},
     "output_type": "display_data"
    },
    {
     "data": {
      "text/html": [
       "<pre style=\"white-space:pre;overflow-x:auto;line-height:normal;font-family:Menlo,'DejaVu Sans Mono',consolas,'Courier New',monospace\"><span style=\"color: #008000; text-decoration-color: #008000\">INFO    </span> The following callbacks returned in `LightningModule.configure_callbacks` will override    <a href=\"file:///home/klemen/envs/luxonis/lib/python3.10/site-packages/lightning_utilities/core/rank_zero.py\" target=\"_blank\"><span style=\"color: #7f7f7f; text-decoration-color: #7f7f7f\">rank_zero.py</span></a><span style=\"color: #7f7f7f; text-decoration-color: #7f7f7f\">:</span><a href=\"file:///home/klemen/envs/luxonis/lib/python3.10/site-packages/lightning_utilities/core/rank_zero.py#63\" target=\"_blank\"><span style=\"color: #7f7f7f; text-decoration-color: #7f7f7f\">63</span></a>\n",
       "         existing callbacks passed to Trainer: ModelCheckpoint, RichModelSummary                    <span style=\"color: #7f7f7f; text-decoration-color: #7f7f7f\">               </span>\n",
       "</pre>\n"
      ],
      "text/plain": [
       "\u001b[32mINFO    \u001b[0m The following callbacks returned in `LightningModule.configure_callbacks` will override    \u001b]8;id=366985;file:///home/klemen/envs/luxonis/lib/python3.10/site-packages/lightning_utilities/core/rank_zero.py\u001b\\\u001b[2mrank_zero.py\u001b[0m\u001b]8;;\u001b\\\u001b[2m:\u001b[0m\u001b]8;id=662922;file:///home/klemen/envs/luxonis/lib/python3.10/site-packages/lightning_utilities/core/rank_zero.py#63\u001b\\\u001b[2m63\u001b[0m\u001b]8;;\u001b\\\n",
       "         existing callbacks passed to Trainer: ModelCheckpoint, RichModelSummary                    \u001b[2m               \u001b[0m\n"
      ]
     },
     "metadata": {},
     "output_type": "display_data"
    },
    {
     "name": "stderr",
     "output_type": "stream",
     "text": [
      "LOCAL_RANK: 0 - CUDA_VISIBLE_DEVICES: [0]\n"
     ]
    },
    {
     "data": {
      "text/html": [
       "<pre style=\"white-space:pre;overflow-x:auto;line-height:normal;font-family:Menlo,'DejaVu Sans Mono',consolas,'Courier New',monospace\">┏━━━┳━━━━━━━━━━━━━━━━━━━━━━━━━━━━┳━━━━━━━━━━━━━━━━━━━┳━━━━━━━━┳━━━━━━━┓\n",
       "┃<span style=\"color: #800080; text-decoration-color: #800080; font-weight: bold\">   </span>┃<span style=\"color: #800080; text-decoration-color: #800080; font-weight: bold\"> Name                       </span>┃<span style=\"color: #800080; text-decoration-color: #800080; font-weight: bold\"> Type              </span>┃<span style=\"color: #800080; text-decoration-color: #800080; font-weight: bold\"> Params </span>┃<span style=\"color: #800080; text-decoration-color: #800080; font-weight: bold\"> Mode  </span>┃\n",
       "┡━━━╇━━━━━━━━━━━━━━━━━━━━━━━━━━━━╇━━━━━━━━━━━━━━━━━━━╇━━━━━━━━╇━━━━━━━┩\n",
       "│<span style=\"color: #7f7f7f; text-decoration-color: #7f7f7f\"> 0 </span>│ nodes                      │ ModuleDict        │  4.7 M │ train │\n",
       "│<span style=\"color: #7f7f7f; text-decoration-color: #7f7f7f\"> 1 </span>│ nodes.detection_backbone   │ EfficientRep      │  3.1 M │ train │\n",
       "│<span style=\"color: #7f7f7f; text-decoration-color: #7f7f7f\"> 2 </span>│ nodes.detection_neck       │ RepPANNeck        │  1.2 M │ train │\n",
       "│<span style=\"color: #7f7f7f; text-decoration-color: #7f7f7f\"> 3 </span>│ nodes.detection_head       │ EfficientBBoxHead │  411 K │ train │\n",
       "│<span style=\"color: #7f7f7f; text-decoration-color: #7f7f7f\"> 4 </span>│ losses                     │ ModuleDict        │  411 K │ train │\n",
       "│<span style=\"color: #7f7f7f; text-decoration-color: #7f7f7f\"> 5 </span>│ losses.detection_head      │ ModuleDict        │  411 K │ train │\n",
       "│<span style=\"color: #7f7f7f; text-decoration-color: #7f7f7f\"> 6 </span>│ metrics                    │ ModuleDict        │  411 K │ train │\n",
       "│<span style=\"color: #7f7f7f; text-decoration-color: #7f7f7f\"> 7 </span>│ metrics.detection_head     │ ModuleDict        │  411 K │ train │\n",
       "│<span style=\"color: #7f7f7f; text-decoration-color: #7f7f7f\"> 8 </span>│ visualizers                │ ModuleDict        │  411 K │ train │\n",
       "│<span style=\"color: #7f7f7f; text-decoration-color: #7f7f7f\"> 9 </span>│ visualizers.detection_head │ ModuleDict        │  411 K │ train │\n",
       "└───┴────────────────────────────┴───────────────────┴────────┴───────┘\n",
       "</pre>\n"
      ],
      "text/plain": [
       "┏━━━┳━━━━━━━━━━━━━━━━━━━━━━━━━━━━┳━━━━━━━━━━━━━━━━━━━┳━━━━━━━━┳━━━━━━━┓\n",
       "┃\u001b[1;35m \u001b[0m\u001b[1;35m \u001b[0m\u001b[1;35m \u001b[0m┃\u001b[1;35m \u001b[0m\u001b[1;35mName                      \u001b[0m\u001b[1;35m \u001b[0m┃\u001b[1;35m \u001b[0m\u001b[1;35mType             \u001b[0m\u001b[1;35m \u001b[0m┃\u001b[1;35m \u001b[0m\u001b[1;35mParams\u001b[0m\u001b[1;35m \u001b[0m┃\u001b[1;35m \u001b[0m\u001b[1;35mMode \u001b[0m\u001b[1;35m \u001b[0m┃\n",
       "┡━━━╇━━━━━━━━━━━━━━━━━━━━━━━━━━━━╇━━━━━━━━━━━━━━━━━━━╇━━━━━━━━╇━━━━━━━┩\n",
       "│\u001b[2m \u001b[0m\u001b[2m0\u001b[0m\u001b[2m \u001b[0m│ nodes                      │ ModuleDict        │  4.7 M │ train │\n",
       "│\u001b[2m \u001b[0m\u001b[2m1\u001b[0m\u001b[2m \u001b[0m│ nodes.detection_backbone   │ EfficientRep      │  3.1 M │ train │\n",
       "│\u001b[2m \u001b[0m\u001b[2m2\u001b[0m\u001b[2m \u001b[0m│ nodes.detection_neck       │ RepPANNeck        │  1.2 M │ train │\n",
       "│\u001b[2m \u001b[0m\u001b[2m3\u001b[0m\u001b[2m \u001b[0m│ nodes.detection_head       │ EfficientBBoxHead │  411 K │ train │\n",
       "│\u001b[2m \u001b[0m\u001b[2m4\u001b[0m\u001b[2m \u001b[0m│ losses                     │ ModuleDict        │  411 K │ train │\n",
       "│\u001b[2m \u001b[0m\u001b[2m5\u001b[0m\u001b[2m \u001b[0m│ losses.detection_head      │ ModuleDict        │  411 K │ train │\n",
       "│\u001b[2m \u001b[0m\u001b[2m6\u001b[0m\u001b[2m \u001b[0m│ metrics                    │ ModuleDict        │  411 K │ train │\n",
       "│\u001b[2m \u001b[0m\u001b[2m7\u001b[0m\u001b[2m \u001b[0m│ metrics.detection_head     │ ModuleDict        │  411 K │ train │\n",
       "│\u001b[2m \u001b[0m\u001b[2m8\u001b[0m\u001b[2m \u001b[0m│ visualizers                │ ModuleDict        │  411 K │ train │\n",
       "│\u001b[2m \u001b[0m\u001b[2m9\u001b[0m\u001b[2m \u001b[0m│ visualizers.detection_head │ ModuleDict        │  411 K │ train │\n",
       "└───┴────────────────────────────┴───────────────────┴────────┴───────┘\n"
      ]
     },
     "metadata": {},
     "output_type": "display_data"
    },
    {
     "data": {
      "text/html": [
       "<pre style=\"white-space:pre;overflow-x:auto;line-height:normal;font-family:Menlo,'DejaVu Sans Mono',consolas,'Courier New',monospace\"><span style=\"font-weight: bold\">Trainable params</span>: 4.7 M                                                                                            \n",
       "<span style=\"font-weight: bold\">Non-trainable params</span>: 0                                                                                            \n",
       "<span style=\"font-weight: bold\">Total params</span>: 4.7 M                                                                                                \n",
       "<span style=\"font-weight: bold\">Total estimated model params size (MB)</span>: 18                                                                         \n",
       "<span style=\"font-weight: bold\">Modules in train mode</span>: 537                                                                                         \n",
       "<span style=\"font-weight: bold\">Modules in eval mode</span>: 0                                                                                            \n",
       "</pre>\n"
      ],
      "text/plain": [
       "\u001b[1mTrainable params\u001b[0m: 4.7 M                                                                                            \n",
       "\u001b[1mNon-trainable params\u001b[0m: 0                                                                                            \n",
       "\u001b[1mTotal params\u001b[0m: 4.7 M                                                                                                \n",
       "\u001b[1mTotal estimated model params size (MB)\u001b[0m: 18                                                                         \n",
       "\u001b[1mModules in train mode\u001b[0m: 537                                                                                         \n",
       "\u001b[1mModules in eval mode\u001b[0m: 0                                                                                            \n"
      ]
     },
     "metadata": {},
     "output_type": "display_data"
    },
    {
     "data": {
      "text/html": [
       "<pre style=\"white-space:pre;overflow-x:auto;line-height:normal;font-family:Menlo,'DejaVu Sans Mono',consolas,'Courier New',monospace\"><span style=\"color: #808000; text-decoration-color: #808000\">WARNING </span> <span style=\"color: #800080; text-decoration-color: #800080\">/home/klemen/envs/luxonis/lib/python3.10/site-packages/rich/</span><span style=\"color: #ff00ff; text-decoration-color: #ff00ff\">live.py</span>:<span style=\"color: #008080; text-decoration-color: #008080; font-weight: bold\">231</span>: UserWarning:       <a href=\"file:///home/klemen/luxonis/luxonis-ml/luxonis_ml/utils/logging.py\" target=\"_blank\"><span style=\"color: #7f7f7f; text-decoration-color: #7f7f7f\">logging.py</span></a><span style=\"color: #7f7f7f; text-decoration-color: #7f7f7f\">:</span><a href=\"file:///home/klemen/luxonis/luxonis-ml/luxonis_ml/utils/logging.py#121\" target=\"_blank\"><span style=\"color: #7f7f7f; text-decoration-color: #7f7f7f\">121</span></a>\n",
       "         install <span style=\"color: #008000; text-decoration-color: #008000\">\"ipywidgets\"</span> for Jupyter support                                                    <span style=\"color: #7f7f7f; text-decoration-color: #7f7f7f\">              </span>\n",
       "           <span style=\"color: #800080; text-decoration-color: #800080; font-weight: bold\">warnings.warn</span><span style=\"font-weight: bold\">(</span><span style=\"color: #008000; text-decoration-color: #008000\">'install \"ipywidgets\" for Jupyter support'</span><span style=\"font-weight: bold\">)</span>                                 <span style=\"color: #7f7f7f; text-decoration-color: #7f7f7f\">              </span>\n",
       "                                                                                                     <span style=\"color: #7f7f7f; text-decoration-color: #7f7f7f\">              </span>\n",
       "</pre>\n"
      ],
      "text/plain": [
       "\u001b[33mWARNING \u001b[0m \u001b[35m/home/klemen/envs/luxonis/lib/python3.10/site-packages/rich/\u001b[0m\u001b[95mlive.py\u001b[0m:\u001b[1;36m231\u001b[0m: UserWarning:       \u001b]8;id=343221;file:///home/klemen/luxonis/luxonis-ml/luxonis_ml/utils/logging.py\u001b\\\u001b[2mlogging.py\u001b[0m\u001b]8;;\u001b\\\u001b[2m:\u001b[0m\u001b]8;id=391247;file:///home/klemen/luxonis/luxonis-ml/luxonis_ml/utils/logging.py#121\u001b\\\u001b[2m121\u001b[0m\u001b]8;;\u001b\\\n",
       "         install \u001b[32m\"ipywidgets\"\u001b[0m for Jupyter support                                                    \u001b[2m              \u001b[0m\n",
       "           \u001b[1;35mwarnings.warn\u001b[0m\u001b[1m(\u001b[0m\u001b[32m'install \"ipywidgets\" for Jupyter support'\u001b[0m\u001b[1m)\u001b[0m                                 \u001b[2m              \u001b[0m\n",
       "                                                                                                     \u001b[2m              \u001b[0m\n"
      ]
     },
     "metadata": {},
     "output_type": "display_data"
    },
    {
     "data": {
      "text/html": [
       "<pre style=\"white-space:pre;overflow-x:auto;line-height:normal;font-family:Menlo,'DejaVu Sans Mono',consolas,'Courier New',monospace\"><span style=\"color: #008000; text-decoration-color: #008000\">INFO    </span> Switching to Task Aligned Assigner after <span style=\"color: #008080; text-decoration-color: #008080; font-weight: bold\">0</span> warmup epochs.                   <a href=\"file:///home/klemen/luxonis/luxonis-train/luxonis_train/attached_modules/losses/adaptive_detection_loss.py\" target=\"_blank\"><span style=\"color: #7f7f7f; text-decoration-color: #7f7f7f\">adaptive_detection_loss.py</span></a><span style=\"color: #7f7f7f; text-decoration-color: #7f7f7f\">:</span><a href=\"file:///home/klemen/luxonis/luxonis-train/luxonis_train/attached_modules/losses/adaptive_detection_loss.py#209\" target=\"_blank\"><span style=\"color: #7f7f7f; text-decoration-color: #7f7f7f\">209</span></a>\n",
       "</pre>\n"
      ],
      "text/plain": [
       "\u001b[32mINFO    \u001b[0m Switching to Task Aligned Assigner after \u001b[1;36m0\u001b[0m warmup epochs.                   \u001b]8;id=540500;file:///home/klemen/luxonis/luxonis-train/luxonis_train/attached_modules/losses/adaptive_detection_loss.py\u001b\\\u001b[2madaptive_detection_loss.py\u001b[0m\u001b]8;;\u001b\\\u001b[2m:\u001b[0m\u001b]8;id=423091;file:///home/klemen/luxonis/luxonis-train/luxonis_train/attached_modules/losses/adaptive_detection_loss.py#209\u001b\\\u001b[2m209\u001b[0m\u001b]8;;\u001b\\\n"
      ]
     },
     "metadata": {},
     "output_type": "display_data"
    },
    {
     "data": {
      "text/html": [
       "<pre style=\"white-space:pre;overflow-x:auto;line-height:normal;font-family:Menlo,'DejaVu Sans Mono',consolas,'Courier New',monospace\"><span style=\"color: #808000; text-decoration-color: #808000\">WARNING </span> <span style=\"color: #800080; text-decoration-color: #800080\">/home/klemen/envs/luxonis/lib/python3.10/site-packages/torchvision/</span><span style=\"color: #ff00ff; text-decoration-color: #ff00ff\">utils.py</span>:<span style=\"color: #008080; text-decoration-color: #008080; font-weight: bold\">211</span>:            <a href=\"file:///home/klemen/luxonis/luxonis-ml/luxonis_ml/utils/logging.py\" target=\"_blank\"><span style=\"color: #7f7f7f; text-decoration-color: #7f7f7f\">logging.py</span></a><span style=\"color: #7f7f7f; text-decoration-color: #7f7f7f\">:</span><a href=\"file:///home/klemen/luxonis/luxonis-ml/luxonis_ml/utils/logging.py#121\" target=\"_blank\"><span style=\"color: #7f7f7f; text-decoration-color: #7f7f7f\">121</span></a>\n",
       "         UserWarning: boxes doesn't contain any box. No box was drawn                                <span style=\"color: #7f7f7f; text-decoration-color: #7f7f7f\">              </span>\n",
       "           <span style=\"color: #800080; text-decoration-color: #800080; font-weight: bold\">warnings.warn</span><span style=\"font-weight: bold\">(</span><span style=\"color: #008000; text-decoration-color: #008000\">\"boxes doesn't contain any box. No box was drawn\"</span><span style=\"font-weight: bold\">)</span>                          <span style=\"color: #7f7f7f; text-decoration-color: #7f7f7f\">              </span>\n",
       "                                                                                                     <span style=\"color: #7f7f7f; text-decoration-color: #7f7f7f\">              </span>\n",
       "</pre>\n"
      ],
      "text/plain": [
       "\u001b[33mWARNING \u001b[0m \u001b[35m/home/klemen/envs/luxonis/lib/python3.10/site-packages/torchvision/\u001b[0m\u001b[95mutils.py\u001b[0m:\u001b[1;36m211\u001b[0m:            \u001b]8;id=895806;file:///home/klemen/luxonis/luxonis-ml/luxonis_ml/utils/logging.py\u001b\\\u001b[2mlogging.py\u001b[0m\u001b]8;;\u001b\\\u001b[2m:\u001b[0m\u001b]8;id=62834;file:///home/klemen/luxonis/luxonis-ml/luxonis_ml/utils/logging.py#121\u001b\\\u001b[2m121\u001b[0m\u001b]8;;\u001b\\\n",
       "         UserWarning: boxes doesn't contain any box. No box was drawn                                \u001b[2m              \u001b[0m\n",
       "           \u001b[1;35mwarnings.warn\u001b[0m\u001b[1m(\u001b[0m\u001b[32m\"boxes doesn't contain any box. No box was drawn\"\u001b[0m\u001b[1m)\u001b[0m                          \u001b[2m              \u001b[0m\n",
       "                                                                                                     \u001b[2m              \u001b[0m\n"
      ]
     },
     "metadata": {},
     "output_type": "display_data"
    },
    {
     "name": "stderr",
     "output_type": "stream",
     "text": [
      "libpng warning: iCCP: known incorrect sRGB profile\n",
      "libpng warning: iCCP: known incorrect sRGB profile\n",
      "libpng warning: iCCP: known incorrect sRGB profile\n"
     ]
    },
    {
     "data": {
      "text/html": [
       "<pre style=\"white-space:pre;overflow-x:auto;line-height:normal;font-family:Menlo,'DejaVu Sans Mono',consolas,'Courier New',monospace\"><span style=\"color: #008000; text-decoration-color: #008000\">INFO    </span> Computing metrics on val subset <span style=\"color: #808000; text-decoration-color: #808000\">...</span>                                               <a href=\"file:///home/klemen/luxonis/luxonis-train/luxonis_train/models/luxonis_lightning.py\" target=\"_blank\"><span style=\"color: #7f7f7f; text-decoration-color: #7f7f7f\">luxonis_lightning.py</span></a><span style=\"color: #7f7f7f; text-decoration-color: #7f7f7f\">:</span><a href=\"file:///home/klemen/luxonis/luxonis-train/luxonis_train/models/luxonis_lightning.py#770\" target=\"_blank\"><span style=\"color: #7f7f7f; text-decoration-color: #7f7f7f\">770</span></a>\n",
       "</pre>\n"
      ],
      "text/plain": [
       "\u001b[32mINFO    \u001b[0m Computing metrics on val subset \u001b[33m...\u001b[0m                                               \u001b]8;id=169941;file:///home/klemen/luxonis/luxonis-train/luxonis_train/models/luxonis_lightning.py\u001b\\\u001b[2mluxonis_lightning.py\u001b[0m\u001b]8;;\u001b\\\u001b[2m:\u001b[0m\u001b]8;id=238795;file:///home/klemen/luxonis/luxonis-train/luxonis_train/models/luxonis_lightning.py#770\u001b\\\u001b[2m770\u001b[0m\u001b]8;;\u001b\\\n"
      ]
     },
     "metadata": {},
     "output_type": "display_data"
    },
    {
     "data": {
      "text/html": [
       "<pre style=\"white-space:pre;overflow-x:auto;line-height:normal;font-family:Menlo,'DejaVu Sans Mono',consolas,'Courier New',monospace\"><span style=\"color: #008000; text-decoration-color: #008000\">INFO    </span> Metrics computed.                                                                 <a href=\"file:///home/klemen/luxonis/luxonis-train/luxonis_train/models/luxonis_lightning.py\" target=\"_blank\"><span style=\"color: #7f7f7f; text-decoration-color: #7f7f7f\">luxonis_lightning.py</span></a><span style=\"color: #7f7f7f; text-decoration-color: #7f7f7f\">:</span><a href=\"file:///home/klemen/luxonis/luxonis-train/luxonis_train/models/luxonis_lightning.py#772\" target=\"_blank\"><span style=\"color: #7f7f7f; text-decoration-color: #7f7f7f\">772</span></a>\n",
       "</pre>\n"
      ],
      "text/plain": [
       "\u001b[32mINFO    \u001b[0m Metrics computed.                                                                 \u001b]8;id=804068;file:///home/klemen/luxonis/luxonis-train/luxonis_train/models/luxonis_lightning.py\u001b\\\u001b[2mluxonis_lightning.py\u001b[0m\u001b]8;;\u001b\\\u001b[2m:\u001b[0m\u001b]8;id=414427;file:///home/klemen/luxonis/luxonis-train/luxonis_train/models/luxonis_lightning.py#772\u001b\\\u001b[2m772\u001b[0m\u001b]8;;\u001b\\\n"
      ]
     },
     "metadata": {},
     "output_type": "display_data"
    },
    {
     "data": {
      "text/html": [
       "<pre style=\"white-space:pre;overflow-x:auto;line-height:normal;font-family:Menlo,'DejaVu Sans Mono',consolas,'Courier New',monospace\"><span style=\"color: #008000; text-decoration-color: #008000\">INFO    </span> Validation loss: <span style=\"color: #008080; text-decoration-color: #008080; font-weight: bold\">2.7598</span>                                                           <a href=\"file:///home/klemen/luxonis/luxonis-train/luxonis_train/models/luxonis_lightning.py\" target=\"_blank\"><span style=\"color: #7f7f7f; text-decoration-color: #7f7f7f\">luxonis_lightning.py</span></a><span style=\"color: #7f7f7f; text-decoration-color: #7f7f7f\">:</span><a href=\"file:///home/klemen/luxonis/luxonis-train/luxonis_train/models/luxonis_lightning.py#977\" target=\"_blank\"><span style=\"color: #7f7f7f; text-decoration-color: #7f7f7f\">977</span></a>\n",
       "</pre>\n"
      ],
      "text/plain": [
       "\u001b[32mINFO    \u001b[0m Validation loss: \u001b[1;36m2.7598\u001b[0m                                                           \u001b]8;id=897996;file:///home/klemen/luxonis/luxonis-train/luxonis_train/models/luxonis_lightning.py\u001b\\\u001b[2mluxonis_lightning.py\u001b[0m\u001b]8;;\u001b\\\u001b[2m:\u001b[0m\u001b]8;id=698961;file:///home/klemen/luxonis/luxonis-train/luxonis_train/models/luxonis_lightning.py#977\u001b\\\u001b[2m977\u001b[0m\u001b]8;;\u001b\\\n"
      ]
     },
     "metadata": {},
     "output_type": "display_data"
    },
    {
     "data": {
      "text/html": [
       "<pre style=\"white-space:pre;overflow-x:auto;line-height:normal;font-family:Menlo,'DejaVu Sans Mono',consolas,'Courier New',monospace\"><span style=\"color: #800080; text-decoration-color: #800080; font-weight: bold\">─────────────────────────────────────────────────── </span>Validation<span style=\"color: #800080; text-decoration-color: #800080; font-weight: bold\"> ────────────────────────────────────────────────────</span>\n",
       "</pre>\n"
      ],
      "text/plain": [
       "\u001b[1;35m─────────────────────────────────────────────────── \u001b[0mValidation\u001b[1;35m ────────────────────────────────────────────────────\u001b[0m\n"
      ]
     },
     "metadata": {},
     "output_type": "display_data"
    },
    {
     "data": {
      "text/html": [
       "<pre style=\"white-space:pre;overflow-x:auto;line-height:normal;font-family:Menlo,'DejaVu Sans Mono',consolas,'Courier New',monospace\"><span style=\"color: #800080; text-decoration-color: #800080; font-weight: bold\">Loss:</span> <span style=\"color: #c0c0c0; text-decoration-color: #c0c0c0; font-weight: bold\">2.7597849369049072</span>\n",
       "</pre>\n"
      ],
      "text/plain": [
       "\u001b[1;35mLoss:\u001b[0m \u001b[1;37m2.7597849369049072\u001b[0m\n"
      ]
     },
     "metadata": {},
     "output_type": "display_data"
    },
    {
     "data": {
      "text/html": [
       "<pre style=\"white-space:pre;overflow-x:auto;line-height:normal;font-family:Menlo,'DejaVu Sans Mono',consolas,'Courier New',monospace\"><span style=\"color: #800080; text-decoration-color: #800080; font-weight: bold\">Metrics:</span>\n",
       "</pre>\n"
      ],
      "text/plain": [
       "\u001b[1;35mMetrics:\u001b[0m\n"
      ]
     },
     "metadata": {},
     "output_type": "display_data"
    },
    {
     "data": {
      "text/html": [
       "<pre style=\"white-space:pre;overflow-x:auto;line-height:normal;font-family:Menlo,'DejaVu Sans Mono',consolas,'Courier New',monospace\"><span style=\"font-style: italic\">       detection_head       </span>\n",
       "┏━━━━━━━━━━━━━━━┳━━━━━━━━━━┓\n",
       "┃<span style=\"color: #800080; text-decoration-color: #800080; font-weight: bold\"> Name          </span>┃<span style=\"color: #800080; text-decoration-color: #800080; font-weight: bold\"> Value    </span>┃\n",
       "┡━━━━━━━━━━━━━━━╇━━━━━━━━━━┩\n",
       "│<span style=\"color: #800080; text-decoration-color: #800080\"> detection_map </span>│<span style=\"color: #c0c0c0; text-decoration-color: #c0c0c0\"> 0.00000  </span>│\n",
       "│<span style=\"color: #800080; text-decoration-color: #800080\"> map_50        </span>│<span style=\"color: #c0c0c0; text-decoration-color: #c0c0c0\"> 0.00000  </span>│\n",
       "│<span style=\"color: #800080; text-decoration-color: #800080\"> map_75        </span>│<span style=\"color: #c0c0c0; text-decoration-color: #c0c0c0\"> 0.00000  </span>│\n",
       "│<span style=\"color: #800080; text-decoration-color: #800080\"> map_small     </span>│<span style=\"color: #c0c0c0; text-decoration-color: #c0c0c0\"> -1.00000 </span>│\n",
       "│<span style=\"color: #800080; text-decoration-color: #800080\"> map_medium    </span>│<span style=\"color: #c0c0c0; text-decoration-color: #c0c0c0\"> -1.00000 </span>│\n",
       "│<span style=\"color: #800080; text-decoration-color: #800080\"> map_large     </span>│<span style=\"color: #c0c0c0; text-decoration-color: #c0c0c0\"> 0.00000  </span>│\n",
       "│<span style=\"color: #800080; text-decoration-color: #800080\"> mar_1         </span>│<span style=\"color: #c0c0c0; text-decoration-color: #c0c0c0\"> 0.00000  </span>│\n",
       "│<span style=\"color: #800080; text-decoration-color: #800080\"> mar_10        </span>│<span style=\"color: #c0c0c0; text-decoration-color: #c0c0c0\"> 0.00000  </span>│\n",
       "│<span style=\"color: #800080; text-decoration-color: #800080\"> mar_100       </span>│<span style=\"color: #c0c0c0; text-decoration-color: #c0c0c0\"> 0.00000  </span>│\n",
       "│<span style=\"color: #800080; text-decoration-color: #800080\"> mar_small     </span>│<span style=\"color: #c0c0c0; text-decoration-color: #c0c0c0\"> -1.00000 </span>│\n",
       "│<span style=\"color: #800080; text-decoration-color: #800080\"> mar_medium    </span>│<span style=\"color: #c0c0c0; text-decoration-color: #c0c0c0\"> -1.00000 </span>│\n",
       "│<span style=\"color: #800080; text-decoration-color: #800080\"> mar_large     </span>│<span style=\"color: #c0c0c0; text-decoration-color: #c0c0c0\"> 0.00000  </span>│\n",
       "│<span style=\"color: #800080; text-decoration-color: #800080\"> f1_small      </span>│<span style=\"color: #c0c0c0; text-decoration-color: #c0c0c0\"> -1.00000 </span>│\n",
       "│<span style=\"color: #800080; text-decoration-color: #800080\"> f1_medium     </span>│<span style=\"color: #c0c0c0; text-decoration-color: #c0c0c0\"> -1.00000 </span>│\n",
       "│<span style=\"color: #800080; text-decoration-color: #800080\"> f1_large      </span>│<span style=\"color: #c0c0c0; text-decoration-color: #c0c0c0\"> nan      </span>│\n",
       "└───────────────┴──────────┘\n",
       "</pre>\n"
      ],
      "text/plain": [
       "\u001b[3m       detection_head       \u001b[0m\n",
       "┏━━━━━━━━━━━━━━━┳━━━━━━━━━━┓\n",
       "┃\u001b[1;35m \u001b[0m\u001b[1;35mName         \u001b[0m\u001b[1;35m \u001b[0m┃\u001b[1;35m \u001b[0m\u001b[1;35mValue   \u001b[0m\u001b[1;35m \u001b[0m┃\n",
       "┡━━━━━━━━━━━━━━━╇━━━━━━━━━━┩\n",
       "│\u001b[35m \u001b[0m\u001b[35mdetection_map\u001b[0m\u001b[35m \u001b[0m│\u001b[37m \u001b[0m\u001b[37m0.00000 \u001b[0m\u001b[37m \u001b[0m│\n",
       "│\u001b[35m \u001b[0m\u001b[35mmap_50       \u001b[0m\u001b[35m \u001b[0m│\u001b[37m \u001b[0m\u001b[37m0.00000 \u001b[0m\u001b[37m \u001b[0m│\n",
       "│\u001b[35m \u001b[0m\u001b[35mmap_75       \u001b[0m\u001b[35m \u001b[0m│\u001b[37m \u001b[0m\u001b[37m0.00000 \u001b[0m\u001b[37m \u001b[0m│\n",
       "│\u001b[35m \u001b[0m\u001b[35mmap_small    \u001b[0m\u001b[35m \u001b[0m│\u001b[37m \u001b[0m\u001b[37m-1.00000\u001b[0m\u001b[37m \u001b[0m│\n",
       "│\u001b[35m \u001b[0m\u001b[35mmap_medium   \u001b[0m\u001b[35m \u001b[0m│\u001b[37m \u001b[0m\u001b[37m-1.00000\u001b[0m\u001b[37m \u001b[0m│\n",
       "│\u001b[35m \u001b[0m\u001b[35mmap_large    \u001b[0m\u001b[35m \u001b[0m│\u001b[37m \u001b[0m\u001b[37m0.00000 \u001b[0m\u001b[37m \u001b[0m│\n",
       "│\u001b[35m \u001b[0m\u001b[35mmar_1        \u001b[0m\u001b[35m \u001b[0m│\u001b[37m \u001b[0m\u001b[37m0.00000 \u001b[0m\u001b[37m \u001b[0m│\n",
       "│\u001b[35m \u001b[0m\u001b[35mmar_10       \u001b[0m\u001b[35m \u001b[0m│\u001b[37m \u001b[0m\u001b[37m0.00000 \u001b[0m\u001b[37m \u001b[0m│\n",
       "│\u001b[35m \u001b[0m\u001b[35mmar_100      \u001b[0m\u001b[35m \u001b[0m│\u001b[37m \u001b[0m\u001b[37m0.00000 \u001b[0m\u001b[37m \u001b[0m│\n",
       "│\u001b[35m \u001b[0m\u001b[35mmar_small    \u001b[0m\u001b[35m \u001b[0m│\u001b[37m \u001b[0m\u001b[37m-1.00000\u001b[0m\u001b[37m \u001b[0m│\n",
       "│\u001b[35m \u001b[0m\u001b[35mmar_medium   \u001b[0m\u001b[35m \u001b[0m│\u001b[37m \u001b[0m\u001b[37m-1.00000\u001b[0m\u001b[37m \u001b[0m│\n",
       "│\u001b[35m \u001b[0m\u001b[35mmar_large    \u001b[0m\u001b[35m \u001b[0m│\u001b[37m \u001b[0m\u001b[37m0.00000 \u001b[0m\u001b[37m \u001b[0m│\n",
       "│\u001b[35m \u001b[0m\u001b[35mf1_small     \u001b[0m\u001b[35m \u001b[0m│\u001b[37m \u001b[0m\u001b[37m-1.00000\u001b[0m\u001b[37m \u001b[0m│\n",
       "│\u001b[35m \u001b[0m\u001b[35mf1_medium    \u001b[0m\u001b[35m \u001b[0m│\u001b[37m \u001b[0m\u001b[37m-1.00000\u001b[0m\u001b[37m \u001b[0m│\n",
       "│\u001b[35m \u001b[0m\u001b[35mf1_large     \u001b[0m\u001b[35m \u001b[0m│\u001b[37m \u001b[0m\u001b[37mnan     \u001b[0m\u001b[37m \u001b[0m│\n",
       "└───────────────┴──────────┘\n"
      ]
     },
     "metadata": {},
     "output_type": "display_data"
    },
    {
     "data": {
      "text/html": [
       "<pre style=\"white-space:pre;overflow-x:auto;line-height:normal;font-family:Menlo,'DejaVu Sans Mono',consolas,'Courier New',monospace\"><span style=\"color: #800080; text-decoration-color: #800080; font-weight: bold\">───────────────────────────────────────────────────────────────────────────────────────────────────────────────────</span>\n",
       "</pre>\n"
      ],
      "text/plain": [
       "\u001b[1;35m───────────────────────────────────────────────────────────────────────────────────────────────────────────────────\u001b[0m\n"
      ]
     },
     "metadata": {},
     "output_type": "display_data"
    },
    {
     "data": {
      "text/html": [
       "<pre style=\"white-space:pre;overflow-x:auto;line-height:normal;font-family:Menlo,'DejaVu Sans Mono',consolas,'Courier New',monospace\"><span style=\"color: #008000; text-decoration-color: #008000\">INFO    </span> Validation main metric <span style=\"font-weight: bold\">(</span>detection_head/detection_map<span style=\"font-weight: bold\">)</span>: <span style=\"color: #008080; text-decoration-color: #008080; font-weight: bold\">0.0000</span>                     <a href=\"file:///home/klemen/luxonis/luxonis-train/luxonis_train/models/luxonis_lightning.py\" target=\"_blank\"><span style=\"color: #7f7f7f; text-decoration-color: #7f7f7f\">luxonis_lightning.py</span></a><span style=\"color: #7f7f7f; text-decoration-color: #7f7f7f\">:</span><a href=\"file:///home/klemen/luxonis/luxonis-train/luxonis_train/models/luxonis_lightning.py#986\" target=\"_blank\"><span style=\"color: #7f7f7f; text-decoration-color: #7f7f7f\">986</span></a>\n",
       "</pre>\n"
      ],
      "text/plain": [
       "\u001b[32mINFO    \u001b[0m Validation main metric \u001b[1m(\u001b[0mdetection_head/detection_map\u001b[1m)\u001b[0m: \u001b[1;36m0.0000\u001b[0m                     \u001b]8;id=291048;file:///home/klemen/luxonis/luxonis-train/luxonis_train/models/luxonis_lightning.py\u001b\\\u001b[2mluxonis_lightning.py\u001b[0m\u001b]8;;\u001b\\\u001b[2m:\u001b[0m\u001b]8;id=358798;file:///home/klemen/luxonis/luxonis-train/luxonis_train/models/luxonis_lightning.py#986\u001b\\\u001b[2m986\u001b[0m\u001b]8;;\u001b\\\n"
      ]
     },
     "metadata": {},
     "output_type": "display_data"
    },
    {
     "data": {
      "text/html": [
       "<pre style=\"white-space:pre;overflow-x:auto;line-height:normal;font-family:Menlo,'DejaVu Sans Mono',consolas,'Courier New',monospace\"><span style=\"color: #808000; text-decoration-color: #808000\">WARNING </span> <span style=\"color: #800080; text-decoration-color: #800080\">/home/klemen/envs/luxonis/lib/python3.10/site-packages/lightning/pytorch/loops/</span><span style=\"color: #ff00ff; text-decoration-color: #ff00ff\">fit_loop.py</span>: <a href=\"file:///home/klemen/luxonis/luxonis-ml/luxonis_ml/utils/logging.py\" target=\"_blank\"><span style=\"color: #7f7f7f; text-decoration-color: #7f7f7f\">logging.py</span></a><span style=\"color: #7f7f7f; text-decoration-color: #7f7f7f\">:</span><a href=\"file:///home/klemen/luxonis/luxonis-ml/luxonis_ml/utils/logging.py#121\" target=\"_blank\"><span style=\"color: #7f7f7f; text-decoration-color: #7f7f7f\">121</span></a>\n",
       "         <span style=\"color: #008080; text-decoration-color: #008080; font-weight: bold\">298</span>: The number of training batches <span style=\"font-weight: bold\">(</span><span style=\"color: #008080; text-decoration-color: #008080; font-weight: bold\">24</span><span style=\"font-weight: bold\">)</span> is smaller than the logging interval               <span style=\"color: #7f7f7f; text-decoration-color: #7f7f7f\">              </span>\n",
       "         <span style=\"color: #800080; text-decoration-color: #800080; font-weight: bold\">Trainer</span><span style=\"font-weight: bold\">(</span><span style=\"color: #808000; text-decoration-color: #808000\">log_every_n_steps</span>=<span style=\"color: #008080; text-decoration-color: #008080; font-weight: bold\">50</span><span style=\"font-weight: bold\">)</span>. Set a lower value for log_every_n_steps if you want to see   <span style=\"color: #7f7f7f; text-decoration-color: #7f7f7f\">              </span>\n",
       "         logs for the training epoch.                                                                <span style=\"color: #7f7f7f; text-decoration-color: #7f7f7f\">              </span>\n",
       "                                                                                                     <span style=\"color: #7f7f7f; text-decoration-color: #7f7f7f\">              </span>\n",
       "</pre>\n"
      ],
      "text/plain": [
       "\u001b[33mWARNING \u001b[0m \u001b[35m/home/klemen/envs/luxonis/lib/python3.10/site-packages/lightning/pytorch/loops/\u001b[0m\u001b[95mfit_loop.py\u001b[0m: \u001b]8;id=343221;file:///home/klemen/luxonis/luxonis-ml/luxonis_ml/utils/logging.py\u001b\\\u001b[2mlogging.py\u001b[0m\u001b]8;;\u001b\\\u001b[2m:\u001b[0m\u001b]8;id=391247;file:///home/klemen/luxonis/luxonis-ml/luxonis_ml/utils/logging.py#121\u001b\\\u001b[2m121\u001b[0m\u001b]8;;\u001b\\\n",
       "         \u001b[1;36m298\u001b[0m: The number of training batches \u001b[1m(\u001b[0m\u001b[1;36m24\u001b[0m\u001b[1m)\u001b[0m is smaller than the logging interval               \u001b[2m              \u001b[0m\n",
       "         \u001b[1;35mTrainer\u001b[0m\u001b[1m(\u001b[0m\u001b[33mlog_every_n_steps\u001b[0m=\u001b[1;36m50\u001b[0m\u001b[1m)\u001b[0m. Set a lower value for log_every_n_steps if you want to see   \u001b[2m              \u001b[0m\n",
       "         logs for the training epoch.                                                                \u001b[2m              \u001b[0m\n",
       "                                                                                                     \u001b[2m              \u001b[0m\n"
      ]
     },
     "metadata": {},
     "output_type": "display_data"
    },
    {
     "name": "stderr",
     "output_type": "stream",
     "text": [
      "libpng warning: iCCP: known incorrect sRGB profile\n"
     ]
    },
    {
     "data": {
      "text/html": [
       "<pre style=\"white-space:pre;overflow-x:auto;line-height:normal;font-family:Menlo,'DejaVu Sans Mono',consolas,'Courier New',monospace\"></pre>\n"
      ],
      "text/plain": []
     },
     "metadata": {},
     "output_type": "display_data"
    },
    {
     "data": {
      "text/html": [
       "<pre style=\"white-space:pre;overflow-x:auto;line-height:normal;font-family:Menlo,'DejaVu Sans Mono',consolas,'Courier New',monospace\">\n",
       "</pre>\n"
      ],
      "text/plain": [
       "\n"
      ]
     },
     "metadata": {},
     "output_type": "display_data"
    },
    {
     "name": "stderr",
     "output_type": "stream",
     "text": [
      "libpng warning: iCCP: known incorrect sRGB profile\n"
     ]
    },
    {
     "data": {
      "text/html": [
       "<pre style=\"white-space:pre;overflow-x:auto;line-height:normal;font-family:Menlo,'DejaVu Sans Mono',consolas,'Courier New',monospace\"></pre>\n"
      ],
      "text/plain": []
     },
     "metadata": {},
     "output_type": "display_data"
    },
    {
     "data": {
      "text/html": [
       "<pre style=\"white-space:pre;overflow-x:auto;line-height:normal;font-family:Menlo,'DejaVu Sans Mono',consolas,'Courier New',monospace\">\n",
       "</pre>\n"
      ],
      "text/plain": [
       "\n"
      ]
     },
     "metadata": {},
     "output_type": "display_data"
    },
    {
     "name": "stderr",
     "output_type": "stream",
     "text": [
      "libpng warning: iCCP: known incorrect sRGB profile\n"
     ]
    },
    {
     "data": {
      "text/html": [
       "<pre style=\"white-space:pre;overflow-x:auto;line-height:normal;font-family:Menlo,'DejaVu Sans Mono',consolas,'Courier New',monospace\"></pre>\n"
      ],
      "text/plain": []
     },
     "metadata": {},
     "output_type": "display_data"
    },
    {
     "data": {
      "text/html": [
       "<pre style=\"white-space:pre;overflow-x:auto;line-height:normal;font-family:Menlo,'DejaVu Sans Mono',consolas,'Courier New',monospace\">\n",
       "</pre>\n"
      ],
      "text/plain": [
       "\n"
      ]
     },
     "metadata": {},
     "output_type": "display_data"
    },
    {
     "name": "stderr",
     "output_type": "stream",
     "text": [
      "libpng warning: iCCP: known incorrect sRGB profile\n"
     ]
    },
    {
     "data": {
      "text/html": [
       "<pre style=\"white-space:pre;overflow-x:auto;line-height:normal;font-family:Menlo,'DejaVu Sans Mono',consolas,'Courier New',monospace\"></pre>\n"
      ],
      "text/plain": []
     },
     "metadata": {},
     "output_type": "display_data"
    },
    {
     "data": {
      "text/html": [
       "<pre style=\"white-space:pre;overflow-x:auto;line-height:normal;font-family:Menlo,'DejaVu Sans Mono',consolas,'Courier New',monospace\">\n",
       "</pre>\n"
      ],
      "text/plain": [
       "\n"
      ]
     },
     "metadata": {},
     "output_type": "display_data"
    },
    {
     "name": "stderr",
     "output_type": "stream",
     "text": [
      "libpng warning: iCCP: known incorrect sRGB profile\n"
     ]
    },
    {
     "data": {
      "text/html": [
       "<pre style=\"white-space:pre;overflow-x:auto;line-height:normal;font-family:Menlo,'DejaVu Sans Mono',consolas,'Courier New',monospace\"></pre>\n"
      ],
      "text/plain": []
     },
     "metadata": {},
     "output_type": "display_data"
    },
    {
     "data": {
      "text/html": [
       "<pre style=\"white-space:pre;overflow-x:auto;line-height:normal;font-family:Menlo,'DejaVu Sans Mono',consolas,'Courier New',monospace\">\n",
       "</pre>\n"
      ],
      "text/plain": [
       "\n"
      ]
     },
     "metadata": {},
     "output_type": "display_data"
    },
    {
     "name": "stderr",
     "output_type": "stream",
     "text": [
      "libpng warning: iCCP: known incorrect sRGB profile\n"
     ]
    },
    {
     "data": {
      "text/html": [
       "<pre style=\"white-space:pre;overflow-x:auto;line-height:normal;font-family:Menlo,'DejaVu Sans Mono',consolas,'Courier New',monospace\"></pre>\n"
      ],
      "text/plain": []
     },
     "metadata": {},
     "output_type": "display_data"
    },
    {
     "data": {
      "text/html": [
       "<pre style=\"white-space:pre;overflow-x:auto;line-height:normal;font-family:Menlo,'DejaVu Sans Mono',consolas,'Courier New',monospace\">\n",
       "</pre>\n"
      ],
      "text/plain": [
       "\n"
      ]
     },
     "metadata": {},
     "output_type": "display_data"
    },
    {
     "name": "stderr",
     "output_type": "stream",
     "text": [
      "libpng warning: iCCP: known incorrect sRGB profile\n"
     ]
    },
    {
     "data": {
      "text/html": [
       "<pre style=\"white-space:pre;overflow-x:auto;line-height:normal;font-family:Menlo,'DejaVu Sans Mono',consolas,'Courier New',monospace\"></pre>\n"
      ],
      "text/plain": []
     },
     "metadata": {},
     "output_type": "display_data"
    },
    {
     "data": {
      "text/html": [
       "<pre style=\"white-space:pre;overflow-x:auto;line-height:normal;font-family:Menlo,'DejaVu Sans Mono',consolas,'Courier New',monospace\">\n",
       "</pre>\n"
      ],
      "text/plain": [
       "\n"
      ]
     },
     "metadata": {},
     "output_type": "display_data"
    },
    {
     "name": "stderr",
     "output_type": "stream",
     "text": [
      "libpng warning: iCCP: known incorrect sRGB profile\n"
     ]
    },
    {
     "data": {
      "text/html": [
       "<pre style=\"white-space:pre;overflow-x:auto;line-height:normal;font-family:Menlo,'DejaVu Sans Mono',consolas,'Courier New',monospace\"></pre>\n"
      ],
      "text/plain": []
     },
     "metadata": {},
     "output_type": "display_data"
    },
    {
     "data": {
      "text/html": [
       "<pre style=\"white-space:pre;overflow-x:auto;line-height:normal;font-family:Menlo,'DejaVu Sans Mono',consolas,'Courier New',monospace\">\n",
       "</pre>\n"
      ],
      "text/plain": [
       "\n"
      ]
     },
     "metadata": {},
     "output_type": "display_data"
    },
    {
     "name": "stderr",
     "output_type": "stream",
     "text": [
      "libpng warning: iCCP: known incorrect sRGB profile\n"
     ]
    },
    {
     "data": {
      "text/html": [
       "<pre style=\"white-space:pre;overflow-x:auto;line-height:normal;font-family:Menlo,'DejaVu Sans Mono',consolas,'Courier New',monospace\"></pre>\n"
      ],
      "text/plain": []
     },
     "metadata": {},
     "output_type": "display_data"
    },
    {
     "data": {
      "text/html": [
       "<pre style=\"white-space:pre;overflow-x:auto;line-height:normal;font-family:Menlo,'DejaVu Sans Mono',consolas,'Courier New',monospace\">\n",
       "</pre>\n"
      ],
      "text/plain": [
       "\n"
      ]
     },
     "metadata": {},
     "output_type": "display_data"
    },
    {
     "name": "stderr",
     "output_type": "stream",
     "text": [
      "libpng warning: iCCP: known incorrect sRGB profile\n",
      "libpng warning: iCCP: known incorrect sRGB profile\n",
      "libpng warning: iCCP: known incorrect sRGB profile\n",
      "libpng warning: iCCP: known incorrect sRGB profile\n"
     ]
    },
    {
     "data": {
      "text/html": [
       "<pre style=\"white-space:pre;overflow-x:auto;line-height:normal;font-family:Menlo,'DejaVu Sans Mono',consolas,'Courier New',monospace\"><span style=\"color: #008000; text-decoration-color: #008000\">INFO    </span> Computing metrics on val subset <span style=\"color: #808000; text-decoration-color: #808000\">...</span>                                               <a href=\"file:///home/klemen/luxonis/luxonis-train/luxonis_train/models/luxonis_lightning.py\" target=\"_blank\"><span style=\"color: #7f7f7f; text-decoration-color: #7f7f7f\">luxonis_lightning.py</span></a><span style=\"color: #7f7f7f; text-decoration-color: #7f7f7f\">:</span><a href=\"file:///home/klemen/luxonis/luxonis-train/luxonis_train/models/luxonis_lightning.py#770\" target=\"_blank\"><span style=\"color: #7f7f7f; text-decoration-color: #7f7f7f\">770</span></a>\n",
       "</pre>\n"
      ],
      "text/plain": [
       "\u001b[32mINFO    \u001b[0m Computing metrics on val subset \u001b[33m...\u001b[0m                                               \u001b]8;id=540500;file:///home/klemen/luxonis/luxonis-train/luxonis_train/models/luxonis_lightning.py\u001b\\\u001b[2mluxonis_lightning.py\u001b[0m\u001b]8;;\u001b\\\u001b[2m:\u001b[0m\u001b]8;id=423091;file:///home/klemen/luxonis/luxonis-train/luxonis_train/models/luxonis_lightning.py#770\u001b\\\u001b[2m770\u001b[0m\u001b]8;;\u001b\\\n"
      ]
     },
     "metadata": {},
     "output_type": "display_data"
    },
    {
     "data": {
      "text/html": [
       "<pre style=\"white-space:pre;overflow-x:auto;line-height:normal;font-family:Menlo,'DejaVu Sans Mono',consolas,'Courier New',monospace\"><span style=\"color: #008000; text-decoration-color: #008000\">INFO    </span> Metrics computed.                                                                 <a href=\"file:///home/klemen/luxonis/luxonis-train/luxonis_train/models/luxonis_lightning.py\" target=\"_blank\"><span style=\"color: #7f7f7f; text-decoration-color: #7f7f7f\">luxonis_lightning.py</span></a><span style=\"color: #7f7f7f; text-decoration-color: #7f7f7f\">:</span><a href=\"file:///home/klemen/luxonis/luxonis-train/luxonis_train/models/luxonis_lightning.py#772\" target=\"_blank\"><span style=\"color: #7f7f7f; text-decoration-color: #7f7f7f\">772</span></a>\n",
       "</pre>\n"
      ],
      "text/plain": [
       "\u001b[32mINFO    \u001b[0m Metrics computed.                                                                 \u001b]8;id=895806;file:///home/klemen/luxonis/luxonis-train/luxonis_train/models/luxonis_lightning.py\u001b\\\u001b[2mluxonis_lightning.py\u001b[0m\u001b]8;;\u001b\\\u001b[2m:\u001b[0m\u001b]8;id=62834;file:///home/klemen/luxonis/luxonis-train/luxonis_train/models/luxonis_lightning.py#772\u001b\\\u001b[2m772\u001b[0m\u001b]8;;\u001b\\\n"
      ]
     },
     "metadata": {},
     "output_type": "display_data"
    },
    {
     "data": {
      "text/html": [
       "<pre style=\"white-space:pre;overflow-x:auto;line-height:normal;font-family:Menlo,'DejaVu Sans Mono',consolas,'Courier New',monospace\"><span style=\"color: #008000; text-decoration-color: #008000\">INFO    </span> Validation loss: <span style=\"color: #008080; text-decoration-color: #008080; font-weight: bold\">1.9817</span>                                                           <a href=\"file:///home/klemen/luxonis/luxonis-train/luxonis_train/models/luxonis_lightning.py\" target=\"_blank\"><span style=\"color: #7f7f7f; text-decoration-color: #7f7f7f\">luxonis_lightning.py</span></a><span style=\"color: #7f7f7f; text-decoration-color: #7f7f7f\">:</span><a href=\"file:///home/klemen/luxonis/luxonis-train/luxonis_train/models/luxonis_lightning.py#977\" target=\"_blank\"><span style=\"color: #7f7f7f; text-decoration-color: #7f7f7f\">977</span></a>\n",
       "</pre>\n"
      ],
      "text/plain": [
       "\u001b[32mINFO    \u001b[0m Validation loss: \u001b[1;36m1.9817\u001b[0m                                                           \u001b]8;id=169941;file:///home/klemen/luxonis/luxonis-train/luxonis_train/models/luxonis_lightning.py\u001b\\\u001b[2mluxonis_lightning.py\u001b[0m\u001b]8;;\u001b\\\u001b[2m:\u001b[0m\u001b]8;id=238795;file:///home/klemen/luxonis/luxonis-train/luxonis_train/models/luxonis_lightning.py#977\u001b\\\u001b[2m977\u001b[0m\u001b]8;;\u001b\\\n"
      ]
     },
     "metadata": {},
     "output_type": "display_data"
    },
    {
     "data": {
      "text/html": [
       "<pre style=\"white-space:pre;overflow-x:auto;line-height:normal;font-family:Menlo,'DejaVu Sans Mono',consolas,'Courier New',monospace\"><span style=\"color: #800080; text-decoration-color: #800080; font-weight: bold\">─────────────────────────────────────────────────── </span>Validation<span style=\"color: #800080; text-decoration-color: #800080; font-weight: bold\"> ────────────────────────────────────────────────────</span>\n",
       "</pre>\n"
      ],
      "text/plain": [
       "\u001b[1;35m─────────────────────────────────────────────────── \u001b[0mValidation\u001b[1;35m ────────────────────────────────────────────────────\u001b[0m\n"
      ]
     },
     "metadata": {},
     "output_type": "display_data"
    },
    {
     "data": {
      "text/html": [
       "<pre style=\"white-space:pre;overflow-x:auto;line-height:normal;font-family:Menlo,'DejaVu Sans Mono',consolas,'Courier New',monospace\"><span style=\"color: #800080; text-decoration-color: #800080; font-weight: bold\">Loss:</span> <span style=\"color: #c0c0c0; text-decoration-color: #c0c0c0; font-weight: bold\">1.9817423224449158</span>\n",
       "</pre>\n"
      ],
      "text/plain": [
       "\u001b[1;35mLoss:\u001b[0m \u001b[1;37m1.9817423224449158\u001b[0m\n"
      ]
     },
     "metadata": {},
     "output_type": "display_data"
    },
    {
     "data": {
      "text/html": [
       "<pre style=\"white-space:pre;overflow-x:auto;line-height:normal;font-family:Menlo,'DejaVu Sans Mono',consolas,'Courier New',monospace\"><span style=\"color: #800080; text-decoration-color: #800080; font-weight: bold\">Metrics:</span>\n",
       "</pre>\n"
      ],
      "text/plain": [
       "\u001b[1;35mMetrics:\u001b[0m\n"
      ]
     },
     "metadata": {},
     "output_type": "display_data"
    },
    {
     "data": {
      "text/html": [
       "<pre style=\"white-space:pre;overflow-x:auto;line-height:normal;font-family:Menlo,'DejaVu Sans Mono',consolas,'Courier New',monospace\"><span style=\"font-style: italic\">       detection_head       </span>\n",
       "┏━━━━━━━━━━━━━━━┳━━━━━━━━━━┓\n",
       "┃<span style=\"color: #800080; text-decoration-color: #800080; font-weight: bold\"> Name          </span>┃<span style=\"color: #800080; text-decoration-color: #800080; font-weight: bold\"> Value    </span>┃\n",
       "┡━━━━━━━━━━━━━━━╇━━━━━━━━━━┩\n",
       "│<span style=\"color: #800080; text-decoration-color: #800080\"> detection_map </span>│<span style=\"color: #c0c0c0; text-decoration-color: #c0c0c0\"> 0.01352  </span>│\n",
       "│<span style=\"color: #800080; text-decoration-color: #800080\"> map_50        </span>│<span style=\"color: #c0c0c0; text-decoration-color: #c0c0c0\"> 0.05655  </span>│\n",
       "│<span style=\"color: #800080; text-decoration-color: #800080\"> map_75        </span>│<span style=\"color: #c0c0c0; text-decoration-color: #c0c0c0\"> 0.00290  </span>│\n",
       "│<span style=\"color: #800080; text-decoration-color: #800080\"> map_small     </span>│<span style=\"color: #c0c0c0; text-decoration-color: #c0c0c0\"> -1.00000 </span>│\n",
       "│<span style=\"color: #800080; text-decoration-color: #800080\"> map_medium    </span>│<span style=\"color: #c0c0c0; text-decoration-color: #c0c0c0\"> 0.00000  </span>│\n",
       "│<span style=\"color: #800080; text-decoration-color: #800080\"> map_large     </span>│<span style=\"color: #c0c0c0; text-decoration-color: #c0c0c0\"> 0.01394  </span>│\n",
       "│<span style=\"color: #800080; text-decoration-color: #800080\"> mar_1         </span>│<span style=\"color: #c0c0c0; text-decoration-color: #c0c0c0\"> 0.04500  </span>│\n",
       "│<span style=\"color: #800080; text-decoration-color: #800080\"> mar_10        </span>│<span style=\"color: #c0c0c0; text-decoration-color: #c0c0c0\"> 0.05357  </span>│\n",
       "│<span style=\"color: #800080; text-decoration-color: #800080\"> mar_100       </span>│<span style=\"color: #c0c0c0; text-decoration-color: #c0c0c0\"> 0.05357  </span>│\n",
       "│<span style=\"color: #800080; text-decoration-color: #800080\"> mar_small     </span>│<span style=\"color: #c0c0c0; text-decoration-color: #c0c0c0\"> -1.00000 </span>│\n",
       "│<span style=\"color: #800080; text-decoration-color: #800080\"> mar_medium    </span>│<span style=\"color: #c0c0c0; text-decoration-color: #c0c0c0\"> 0.00000  </span>│\n",
       "│<span style=\"color: #800080; text-decoration-color: #800080\"> mar_large     </span>│<span style=\"color: #c0c0c0; text-decoration-color: #c0c0c0\"> 0.05549  </span>│\n",
       "│<span style=\"color: #800080; text-decoration-color: #800080\"> f1_small      </span>│<span style=\"color: #c0c0c0; text-decoration-color: #c0c0c0\"> -1.00000 </span>│\n",
       "│<span style=\"color: #800080; text-decoration-color: #800080\"> f1_medium     </span>│<span style=\"color: #c0c0c0; text-decoration-color: #c0c0c0\"> nan      </span>│\n",
       "│<span style=\"color: #800080; text-decoration-color: #800080\"> f1_large      </span>│<span style=\"color: #c0c0c0; text-decoration-color: #c0c0c0\"> 0.02229  </span>│\n",
       "└───────────────┴──────────┘\n",
       "</pre>\n"
      ],
      "text/plain": [
       "\u001b[3m       detection_head       \u001b[0m\n",
       "┏━━━━━━━━━━━━━━━┳━━━━━━━━━━┓\n",
       "┃\u001b[1;35m \u001b[0m\u001b[1;35mName         \u001b[0m\u001b[1;35m \u001b[0m┃\u001b[1;35m \u001b[0m\u001b[1;35mValue   \u001b[0m\u001b[1;35m \u001b[0m┃\n",
       "┡━━━━━━━━━━━━━━━╇━━━━━━━━━━┩\n",
       "│\u001b[35m \u001b[0m\u001b[35mdetection_map\u001b[0m\u001b[35m \u001b[0m│\u001b[37m \u001b[0m\u001b[37m0.01352 \u001b[0m\u001b[37m \u001b[0m│\n",
       "│\u001b[35m \u001b[0m\u001b[35mmap_50       \u001b[0m\u001b[35m \u001b[0m│\u001b[37m \u001b[0m\u001b[37m0.05655 \u001b[0m\u001b[37m \u001b[0m│\n",
       "│\u001b[35m \u001b[0m\u001b[35mmap_75       \u001b[0m\u001b[35m \u001b[0m│\u001b[37m \u001b[0m\u001b[37m0.00290 \u001b[0m\u001b[37m \u001b[0m│\n",
       "│\u001b[35m \u001b[0m\u001b[35mmap_small    \u001b[0m\u001b[35m \u001b[0m│\u001b[37m \u001b[0m\u001b[37m-1.00000\u001b[0m\u001b[37m \u001b[0m│\n",
       "│\u001b[35m \u001b[0m\u001b[35mmap_medium   \u001b[0m\u001b[35m \u001b[0m│\u001b[37m \u001b[0m\u001b[37m0.00000 \u001b[0m\u001b[37m \u001b[0m│\n",
       "│\u001b[35m \u001b[0m\u001b[35mmap_large    \u001b[0m\u001b[35m \u001b[0m│\u001b[37m \u001b[0m\u001b[37m0.01394 \u001b[0m\u001b[37m \u001b[0m│\n",
       "│\u001b[35m \u001b[0m\u001b[35mmar_1        \u001b[0m\u001b[35m \u001b[0m│\u001b[37m \u001b[0m\u001b[37m0.04500 \u001b[0m\u001b[37m \u001b[0m│\n",
       "│\u001b[35m \u001b[0m\u001b[35mmar_10       \u001b[0m\u001b[35m \u001b[0m│\u001b[37m \u001b[0m\u001b[37m0.05357 \u001b[0m\u001b[37m \u001b[0m│\n",
       "│\u001b[35m \u001b[0m\u001b[35mmar_100      \u001b[0m\u001b[35m \u001b[0m│\u001b[37m \u001b[0m\u001b[37m0.05357 \u001b[0m\u001b[37m \u001b[0m│\n",
       "│\u001b[35m \u001b[0m\u001b[35mmar_small    \u001b[0m\u001b[35m \u001b[0m│\u001b[37m \u001b[0m\u001b[37m-1.00000\u001b[0m\u001b[37m \u001b[0m│\n",
       "│\u001b[35m \u001b[0m\u001b[35mmar_medium   \u001b[0m\u001b[35m \u001b[0m│\u001b[37m \u001b[0m\u001b[37m0.00000 \u001b[0m\u001b[37m \u001b[0m│\n",
       "│\u001b[35m \u001b[0m\u001b[35mmar_large    \u001b[0m\u001b[35m \u001b[0m│\u001b[37m \u001b[0m\u001b[37m0.05549 \u001b[0m\u001b[37m \u001b[0m│\n",
       "│\u001b[35m \u001b[0m\u001b[35mf1_small     \u001b[0m\u001b[35m \u001b[0m│\u001b[37m \u001b[0m\u001b[37m-1.00000\u001b[0m\u001b[37m \u001b[0m│\n",
       "│\u001b[35m \u001b[0m\u001b[35mf1_medium    \u001b[0m\u001b[35m \u001b[0m│\u001b[37m \u001b[0m\u001b[37mnan     \u001b[0m\u001b[37m \u001b[0m│\n",
       "│\u001b[35m \u001b[0m\u001b[35mf1_large     \u001b[0m\u001b[35m \u001b[0m│\u001b[37m \u001b[0m\u001b[37m0.02229 \u001b[0m\u001b[37m \u001b[0m│\n",
       "└───────────────┴──────────┘\n"
      ]
     },
     "metadata": {},
     "output_type": "display_data"
    },
    {
     "data": {
      "text/html": [
       "<pre style=\"white-space:pre;overflow-x:auto;line-height:normal;font-family:Menlo,'DejaVu Sans Mono',consolas,'Courier New',monospace\"><span style=\"color: #800080; text-decoration-color: #800080; font-weight: bold\">───────────────────────────────────────────────────────────────────────────────────────────────────────────────────</span>\n",
       "</pre>\n"
      ],
      "text/plain": [
       "\u001b[1;35m───────────────────────────────────────────────────────────────────────────────────────────────────────────────────\u001b[0m\n"
      ]
     },
     "metadata": {},
     "output_type": "display_data"
    },
    {
     "data": {
      "text/html": [
       "<pre style=\"white-space:pre;overflow-x:auto;line-height:normal;font-family:Menlo,'DejaVu Sans Mono',consolas,'Courier New',monospace\"><span style=\"color: #008000; text-decoration-color: #008000\">INFO    </span> Validation main metric <span style=\"font-weight: bold\">(</span>detection_head/detection_map<span style=\"font-weight: bold\">)</span>: <span style=\"color: #008080; text-decoration-color: #008080; font-weight: bold\">0.0135</span>                     <a href=\"file:///home/klemen/luxonis/luxonis-train/luxonis_train/models/luxonis_lightning.py\" target=\"_blank\"><span style=\"color: #7f7f7f; text-decoration-color: #7f7f7f\">luxonis_lightning.py</span></a><span style=\"color: #7f7f7f; text-decoration-color: #7f7f7f\">:</span><a href=\"file:///home/klemen/luxonis/luxonis-train/luxonis_train/models/luxonis_lightning.py#986\" target=\"_blank\"><span style=\"color: #7f7f7f; text-decoration-color: #7f7f7f\">986</span></a>\n",
       "</pre>\n"
      ],
      "text/plain": [
       "\u001b[32mINFO    \u001b[0m Validation main metric \u001b[1m(\u001b[0mdetection_head/detection_map\u001b[1m)\u001b[0m: \u001b[1;36m0.0135\u001b[0m                     \u001b]8;id=804068;file:///home/klemen/luxonis/luxonis-train/luxonis_train/models/luxonis_lightning.py\u001b\\\u001b[2mluxonis_lightning.py\u001b[0m\u001b]8;;\u001b\\\u001b[2m:\u001b[0m\u001b]8;id=414427;file:///home/klemen/luxonis/luxonis-train/luxonis_train/models/luxonis_lightning.py#986\u001b\\\u001b[2m986\u001b[0m\u001b]8;;\u001b\\\n"
      ]
     },
     "metadata": {},
     "output_type": "display_data"
    },
    {
     "data": {
      "text/html": [
       "<pre style=\"white-space:pre;overflow-x:auto;line-height:normal;font-family:Menlo,'DejaVu Sans Mono',consolas,'Courier New',monospace\"></pre>\n"
      ],
      "text/plain": []
     },
     "metadata": {},
     "output_type": "display_data"
    },
    {
     "data": {
      "text/html": [
       "<pre style=\"white-space:pre;overflow-x:auto;line-height:normal;font-family:Menlo,'DejaVu Sans Mono',consolas,'Courier New',monospace\">\n",
       "</pre>\n"
      ],
      "text/plain": [
       "\n"
      ]
     },
     "metadata": {},
     "output_type": "display_data"
    },
    {
     "name": "stderr",
     "output_type": "stream",
     "text": [
      "libpng warning: iCCP: known incorrect sRGB profile\n"
     ]
    },
    {
     "data": {
      "text/html": [
       "<pre style=\"white-space:pre;overflow-x:auto;line-height:normal;font-family:Menlo,'DejaVu Sans Mono',consolas,'Courier New',monospace\"></pre>\n"
      ],
      "text/plain": []
     },
     "metadata": {},
     "output_type": "display_data"
    },
    {
     "data": {
      "text/html": [
       "<pre style=\"white-space:pre;overflow-x:auto;line-height:normal;font-family:Menlo,'DejaVu Sans Mono',consolas,'Courier New',monospace\">\n",
       "</pre>\n"
      ],
      "text/plain": [
       "\n"
      ]
     },
     "metadata": {},
     "output_type": "display_data"
    },
    {
     "name": "stderr",
     "output_type": "stream",
     "text": [
      "libpng warning: iCCP: known incorrect sRGB profile\n"
     ]
    },
    {
     "data": {
      "text/html": [
       "<pre style=\"white-space:pre;overflow-x:auto;line-height:normal;font-family:Menlo,'DejaVu Sans Mono',consolas,'Courier New',monospace\"></pre>\n"
      ],
      "text/plain": []
     },
     "metadata": {},
     "output_type": "display_data"
    },
    {
     "data": {
      "text/html": [
       "<pre style=\"white-space:pre;overflow-x:auto;line-height:normal;font-family:Menlo,'DejaVu Sans Mono',consolas,'Courier New',monospace\">\n",
       "</pre>\n"
      ],
      "text/plain": [
       "\n"
      ]
     },
     "metadata": {},
     "output_type": "display_data"
    },
    {
     "name": "stderr",
     "output_type": "stream",
     "text": [
      "libpng warning: iCCP: known incorrect sRGB profile\n"
     ]
    },
    {
     "data": {
      "text/html": [
       "<pre style=\"white-space:pre;overflow-x:auto;line-height:normal;font-family:Menlo,'DejaVu Sans Mono',consolas,'Courier New',monospace\"></pre>\n"
      ],
      "text/plain": []
     },
     "metadata": {},
     "output_type": "display_data"
    },
    {
     "data": {
      "text/html": [
       "<pre style=\"white-space:pre;overflow-x:auto;line-height:normal;font-family:Menlo,'DejaVu Sans Mono',consolas,'Courier New',monospace\">\n",
       "</pre>\n"
      ],
      "text/plain": [
       "\n"
      ]
     },
     "metadata": {},
     "output_type": "display_data"
    },
    {
     "name": "stderr",
     "output_type": "stream",
     "text": [
      "libpng warning: iCCP: known incorrect sRGB profile\n"
     ]
    },
    {
     "data": {
      "text/html": [
       "<pre style=\"white-space:pre;overflow-x:auto;line-height:normal;font-family:Menlo,'DejaVu Sans Mono',consolas,'Courier New',monospace\"></pre>\n"
      ],
      "text/plain": []
     },
     "metadata": {},
     "output_type": "display_data"
    },
    {
     "data": {
      "text/html": [
       "<pre style=\"white-space:pre;overflow-x:auto;line-height:normal;font-family:Menlo,'DejaVu Sans Mono',consolas,'Courier New',monospace\">\n",
       "</pre>\n"
      ],
      "text/plain": [
       "\n"
      ]
     },
     "metadata": {},
     "output_type": "display_data"
    },
    {
     "name": "stderr",
     "output_type": "stream",
     "text": [
      "libpng warning: iCCP: known incorrect sRGB profile\n"
     ]
    },
    {
     "data": {
      "text/html": [
       "<pre style=\"white-space:pre;overflow-x:auto;line-height:normal;font-family:Menlo,'DejaVu Sans Mono',consolas,'Courier New',monospace\"></pre>\n"
      ],
      "text/plain": []
     },
     "metadata": {},
     "output_type": "display_data"
    },
    {
     "data": {
      "text/html": [
       "<pre style=\"white-space:pre;overflow-x:auto;line-height:normal;font-family:Menlo,'DejaVu Sans Mono',consolas,'Courier New',monospace\">\n",
       "</pre>\n"
      ],
      "text/plain": [
       "\n"
      ]
     },
     "metadata": {},
     "output_type": "display_data"
    },
    {
     "name": "stderr",
     "output_type": "stream",
     "text": [
      "libpng warning: iCCP: known incorrect sRGB profile\n"
     ]
    },
    {
     "data": {
      "text/html": [
       "<pre style=\"white-space:pre;overflow-x:auto;line-height:normal;font-family:Menlo,'DejaVu Sans Mono',consolas,'Courier New',monospace\"></pre>\n"
      ],
      "text/plain": []
     },
     "metadata": {},
     "output_type": "display_data"
    },
    {
     "data": {
      "text/html": [
       "<pre style=\"white-space:pre;overflow-x:auto;line-height:normal;font-family:Menlo,'DejaVu Sans Mono',consolas,'Courier New',monospace\">\n",
       "</pre>\n"
      ],
      "text/plain": [
       "\n"
      ]
     },
     "metadata": {},
     "output_type": "display_data"
    },
    {
     "name": "stderr",
     "output_type": "stream",
     "text": [
      "libpng warning: iCCP: known incorrect sRGB profile\n"
     ]
    },
    {
     "data": {
      "text/html": [
       "<pre style=\"white-space:pre;overflow-x:auto;line-height:normal;font-family:Menlo,'DejaVu Sans Mono',consolas,'Courier New',monospace\"></pre>\n"
      ],
      "text/plain": []
     },
     "metadata": {},
     "output_type": "display_data"
    },
    {
     "data": {
      "text/html": [
       "<pre style=\"white-space:pre;overflow-x:auto;line-height:normal;font-family:Menlo,'DejaVu Sans Mono',consolas,'Courier New',monospace\">\n",
       "</pre>\n"
      ],
      "text/plain": [
       "\n"
      ]
     },
     "metadata": {},
     "output_type": "display_data"
    },
    {
     "name": "stderr",
     "output_type": "stream",
     "text": [
      "libpng warning: iCCP: known incorrect sRGB profile\n"
     ]
    },
    {
     "data": {
      "text/html": [
       "<pre style=\"white-space:pre;overflow-x:auto;line-height:normal;font-family:Menlo,'DejaVu Sans Mono',consolas,'Courier New',monospace\"></pre>\n"
      ],
      "text/plain": []
     },
     "metadata": {},
     "output_type": "display_data"
    },
    {
     "data": {
      "text/html": [
       "<pre style=\"white-space:pre;overflow-x:auto;line-height:normal;font-family:Menlo,'DejaVu Sans Mono',consolas,'Courier New',monospace\">\n",
       "</pre>\n"
      ],
      "text/plain": [
       "\n"
      ]
     },
     "metadata": {},
     "output_type": "display_data"
    },
    {
     "name": "stderr",
     "output_type": "stream",
     "text": [
      "libpng warning: iCCP: known incorrect sRGB profile\n"
     ]
    },
    {
     "data": {
      "text/html": [
       "<pre style=\"white-space:pre;overflow-x:auto;line-height:normal;font-family:Menlo,'DejaVu Sans Mono',consolas,'Courier New',monospace\"></pre>\n"
      ],
      "text/plain": []
     },
     "metadata": {},
     "output_type": "display_data"
    },
    {
     "data": {
      "text/html": [
       "<pre style=\"white-space:pre;overflow-x:auto;line-height:normal;font-family:Menlo,'DejaVu Sans Mono',consolas,'Courier New',monospace\">\n",
       "</pre>\n"
      ],
      "text/plain": [
       "\n"
      ]
     },
     "metadata": {},
     "output_type": "display_data"
    },
    {
     "name": "stderr",
     "output_type": "stream",
     "text": [
      "libpng warning: iCCP: known incorrect sRGB profile\n",
      "libpng warning: iCCP: known incorrect sRGB profile\n",
      "libpng warning: iCCP: known incorrect sRGB profile\n",
      "libpng warning: iCCP: known incorrect sRGB profile\n"
     ]
    },
    {
     "data": {
      "text/html": [
       "<pre style=\"white-space:pre;overflow-x:auto;line-height:normal;font-family:Menlo,'DejaVu Sans Mono',consolas,'Courier New',monospace\"><span style=\"color: #008000; text-decoration-color: #008000\">INFO    </span> Computing metrics on val subset <span style=\"color: #808000; text-decoration-color: #808000\">...</span>                                               <a href=\"file:///home/klemen/luxonis/luxonis-train/luxonis_train/models/luxonis_lightning.py\" target=\"_blank\"><span style=\"color: #7f7f7f; text-decoration-color: #7f7f7f\">luxonis_lightning.py</span></a><span style=\"color: #7f7f7f; text-decoration-color: #7f7f7f\">:</span><a href=\"file:///home/klemen/luxonis/luxonis-train/luxonis_train/models/luxonis_lightning.py#770\" target=\"_blank\"><span style=\"color: #7f7f7f; text-decoration-color: #7f7f7f\">770</span></a>\n",
       "</pre>\n"
      ],
      "text/plain": [
       "\u001b[32mINFO    \u001b[0m Computing metrics on val subset \u001b[33m...\u001b[0m                                               \u001b]8;id=897996;file:///home/klemen/luxonis/luxonis-train/luxonis_train/models/luxonis_lightning.py\u001b\\\u001b[2mluxonis_lightning.py\u001b[0m\u001b]8;;\u001b\\\u001b[2m:\u001b[0m\u001b]8;id=698961;file:///home/klemen/luxonis/luxonis-train/luxonis_train/models/luxonis_lightning.py#770\u001b\\\u001b[2m770\u001b[0m\u001b]8;;\u001b\\\n"
      ]
     },
     "metadata": {},
     "output_type": "display_data"
    },
    {
     "data": {
      "text/html": [
       "<pre style=\"white-space:pre;overflow-x:auto;line-height:normal;font-family:Menlo,'DejaVu Sans Mono',consolas,'Courier New',monospace\"><span style=\"color: #008000; text-decoration-color: #008000\">INFO    </span> Metrics computed.                                                                 <a href=\"file:///home/klemen/luxonis/luxonis-train/luxonis_train/models/luxonis_lightning.py\" target=\"_blank\"><span style=\"color: #7f7f7f; text-decoration-color: #7f7f7f\">luxonis_lightning.py</span></a><span style=\"color: #7f7f7f; text-decoration-color: #7f7f7f\">:</span><a href=\"file:///home/klemen/luxonis/luxonis-train/luxonis_train/models/luxonis_lightning.py#772\" target=\"_blank\"><span style=\"color: #7f7f7f; text-decoration-color: #7f7f7f\">772</span></a>\n",
       "</pre>\n"
      ],
      "text/plain": [
       "\u001b[32mINFO    \u001b[0m Metrics computed.                                                                 \u001b]8;id=291048;file:///home/klemen/luxonis/luxonis-train/luxonis_train/models/luxonis_lightning.py\u001b\\\u001b[2mluxonis_lightning.py\u001b[0m\u001b]8;;\u001b\\\u001b[2m:\u001b[0m\u001b]8;id=358798;file:///home/klemen/luxonis/luxonis-train/luxonis_train/models/luxonis_lightning.py#772\u001b\\\u001b[2m772\u001b[0m\u001b]8;;\u001b\\\n"
      ]
     },
     "metadata": {},
     "output_type": "display_data"
    },
    {
     "data": {
      "text/html": [
       "<pre style=\"white-space:pre;overflow-x:auto;line-height:normal;font-family:Menlo,'DejaVu Sans Mono',consolas,'Courier New',monospace\"><span style=\"color: #008000; text-decoration-color: #008000\">INFO    </span> Validation loss: <span style=\"color: #008080; text-decoration-color: #008080; font-weight: bold\">1.8111</span>                                                           <a href=\"file:///home/klemen/luxonis/luxonis-train/luxonis_train/models/luxonis_lightning.py\" target=\"_blank\"><span style=\"color: #7f7f7f; text-decoration-color: #7f7f7f\">luxonis_lightning.py</span></a><span style=\"color: #7f7f7f; text-decoration-color: #7f7f7f\">:</span><a href=\"file:///home/klemen/luxonis/luxonis-train/luxonis_train/models/luxonis_lightning.py#977\" target=\"_blank\"><span style=\"color: #7f7f7f; text-decoration-color: #7f7f7f\">977</span></a>\n",
       "</pre>\n"
      ],
      "text/plain": [
       "\u001b[32mINFO    \u001b[0m Validation loss: \u001b[1;36m1.8111\u001b[0m                                                           \u001b]8;id=113935;file:///home/klemen/luxonis/luxonis-train/luxonis_train/models/luxonis_lightning.py\u001b\\\u001b[2mluxonis_lightning.py\u001b[0m\u001b]8;;\u001b\\\u001b[2m:\u001b[0m\u001b]8;id=854145;file:///home/klemen/luxonis/luxonis-train/luxonis_train/models/luxonis_lightning.py#977\u001b\\\u001b[2m977\u001b[0m\u001b]8;;\u001b\\\n"
      ]
     },
     "metadata": {},
     "output_type": "display_data"
    },
    {
     "data": {
      "text/html": [
       "<pre style=\"white-space:pre;overflow-x:auto;line-height:normal;font-family:Menlo,'DejaVu Sans Mono',consolas,'Courier New',monospace\"><span style=\"color: #800080; text-decoration-color: #800080; font-weight: bold\">─────────────────────────────────────────────────── </span>Validation<span style=\"color: #800080; text-decoration-color: #800080; font-weight: bold\"> ────────────────────────────────────────────────────</span>\n",
       "</pre>\n"
      ],
      "text/plain": [
       "\u001b[1;35m─────────────────────────────────────────────────── \u001b[0mValidation\u001b[1;35m ────────────────────────────────────────────────────\u001b[0m\n"
      ]
     },
     "metadata": {},
     "output_type": "display_data"
    },
    {
     "data": {
      "text/html": [
       "<pre style=\"white-space:pre;overflow-x:auto;line-height:normal;font-family:Menlo,'DejaVu Sans Mono',consolas,'Courier New',monospace\"><span style=\"color: #800080; text-decoration-color: #800080; font-weight: bold\">Loss:</span> <span style=\"color: #c0c0c0; text-decoration-color: #c0c0c0; font-weight: bold\">1.811083734035492</span>\n",
       "</pre>\n"
      ],
      "text/plain": [
       "\u001b[1;35mLoss:\u001b[0m \u001b[1;37m1.811083734035492\u001b[0m\n"
      ]
     },
     "metadata": {},
     "output_type": "display_data"
    },
    {
     "data": {
      "text/html": [
       "<pre style=\"white-space:pre;overflow-x:auto;line-height:normal;font-family:Menlo,'DejaVu Sans Mono',consolas,'Courier New',monospace\"><span style=\"color: #800080; text-decoration-color: #800080; font-weight: bold\">Metrics:</span>\n",
       "</pre>\n"
      ],
      "text/plain": [
       "\u001b[1;35mMetrics:\u001b[0m\n"
      ]
     },
     "metadata": {},
     "output_type": "display_data"
    },
    {
     "data": {
      "text/html": [
       "<pre style=\"white-space:pre;overflow-x:auto;line-height:normal;font-family:Menlo,'DejaVu Sans Mono',consolas,'Courier New',monospace\"><span style=\"font-style: italic\">       detection_head       </span>\n",
       "┏━━━━━━━━━━━━━━━┳━━━━━━━━━━┓\n",
       "┃<span style=\"color: #800080; text-decoration-color: #800080; font-weight: bold\"> Name          </span>┃<span style=\"color: #800080; text-decoration-color: #800080; font-weight: bold\"> Value    </span>┃\n",
       "┡━━━━━━━━━━━━━━━╇━━━━━━━━━━┩\n",
       "│<span style=\"color: #800080; text-decoration-color: #800080\"> detection_map </span>│<span style=\"color: #c0c0c0; text-decoration-color: #c0c0c0\"> 0.12047  </span>│\n",
       "│<span style=\"color: #800080; text-decoration-color: #800080\"> map_50        </span>│<span style=\"color: #c0c0c0; text-decoration-color: #c0c0c0\"> 0.27009  </span>│\n",
       "│<span style=\"color: #800080; text-decoration-color: #800080\"> map_75        </span>│<span style=\"color: #c0c0c0; text-decoration-color: #c0c0c0\"> 0.09577  </span>│\n",
       "│<span style=\"color: #800080; text-decoration-color: #800080\"> map_small     </span>│<span style=\"color: #c0c0c0; text-decoration-color: #c0c0c0\"> -1.00000 </span>│\n",
       "│<span style=\"color: #800080; text-decoration-color: #800080\"> map_medium    </span>│<span style=\"color: #c0c0c0; text-decoration-color: #c0c0c0\"> 0.00000  </span>│\n",
       "│<span style=\"color: #800080; text-decoration-color: #800080\"> map_large     </span>│<span style=\"color: #c0c0c0; text-decoration-color: #c0c0c0\"> 0.12992  </span>│\n",
       "│<span style=\"color: #800080; text-decoration-color: #800080\"> mar_1         </span>│<span style=\"color: #c0c0c0; text-decoration-color: #c0c0c0\"> 0.14570  </span>│\n",
       "│<span style=\"color: #800080; text-decoration-color: #800080\"> mar_10        </span>│<span style=\"color: #c0c0c0; text-decoration-color: #c0c0c0\"> 0.19365  </span>│\n",
       "│<span style=\"color: #800080; text-decoration-color: #800080\"> mar_100       </span>│<span style=\"color: #c0c0c0; text-decoration-color: #c0c0c0\"> 0.19365  </span>│\n",
       "│<span style=\"color: #800080; text-decoration-color: #800080\"> mar_small     </span>│<span style=\"color: #c0c0c0; text-decoration-color: #c0c0c0\"> -1.00000 </span>│\n",
       "│<span style=\"color: #800080; text-decoration-color: #800080\"> mar_medium    </span>│<span style=\"color: #c0c0c0; text-decoration-color: #c0c0c0\"> 0.00000  </span>│\n",
       "│<span style=\"color: #800080; text-decoration-color: #800080\"> mar_large     </span>│<span style=\"color: #c0c0c0; text-decoration-color: #c0c0c0\"> 0.20868  </span>│\n",
       "│<span style=\"color: #800080; text-decoration-color: #800080\"> f1_small      </span>│<span style=\"color: #c0c0c0; text-decoration-color: #c0c0c0\"> -1.00000 </span>│\n",
       "│<span style=\"color: #800080; text-decoration-color: #800080\"> f1_medium     </span>│<span style=\"color: #c0c0c0; text-decoration-color: #c0c0c0\"> nan      </span>│\n",
       "│<span style=\"color: #800080; text-decoration-color: #800080\"> f1_large      </span>│<span style=\"color: #c0c0c0; text-decoration-color: #c0c0c0\"> 0.16014  </span>│\n",
       "└───────────────┴──────────┘\n",
       "</pre>\n"
      ],
      "text/plain": [
       "\u001b[3m       detection_head       \u001b[0m\n",
       "┏━━━━━━━━━━━━━━━┳━━━━━━━━━━┓\n",
       "┃\u001b[1;35m \u001b[0m\u001b[1;35mName         \u001b[0m\u001b[1;35m \u001b[0m┃\u001b[1;35m \u001b[0m\u001b[1;35mValue   \u001b[0m\u001b[1;35m \u001b[0m┃\n",
       "┡━━━━━━━━━━━━━━━╇━━━━━━━━━━┩\n",
       "│\u001b[35m \u001b[0m\u001b[35mdetection_map\u001b[0m\u001b[35m \u001b[0m│\u001b[37m \u001b[0m\u001b[37m0.12047 \u001b[0m\u001b[37m \u001b[0m│\n",
       "│\u001b[35m \u001b[0m\u001b[35mmap_50       \u001b[0m\u001b[35m \u001b[0m│\u001b[37m \u001b[0m\u001b[37m0.27009 \u001b[0m\u001b[37m \u001b[0m│\n",
       "│\u001b[35m \u001b[0m\u001b[35mmap_75       \u001b[0m\u001b[35m \u001b[0m│\u001b[37m \u001b[0m\u001b[37m0.09577 \u001b[0m\u001b[37m \u001b[0m│\n",
       "│\u001b[35m \u001b[0m\u001b[35mmap_small    \u001b[0m\u001b[35m \u001b[0m│\u001b[37m \u001b[0m\u001b[37m-1.00000\u001b[0m\u001b[37m \u001b[0m│\n",
       "│\u001b[35m \u001b[0m\u001b[35mmap_medium   \u001b[0m\u001b[35m \u001b[0m│\u001b[37m \u001b[0m\u001b[37m0.00000 \u001b[0m\u001b[37m \u001b[0m│\n",
       "│\u001b[35m \u001b[0m\u001b[35mmap_large    \u001b[0m\u001b[35m \u001b[0m│\u001b[37m \u001b[0m\u001b[37m0.12992 \u001b[0m\u001b[37m \u001b[0m│\n",
       "│\u001b[35m \u001b[0m\u001b[35mmar_1        \u001b[0m\u001b[35m \u001b[0m│\u001b[37m \u001b[0m\u001b[37m0.14570 \u001b[0m\u001b[37m \u001b[0m│\n",
       "│\u001b[35m \u001b[0m\u001b[35mmar_10       \u001b[0m\u001b[35m \u001b[0m│\u001b[37m \u001b[0m\u001b[37m0.19365 \u001b[0m\u001b[37m \u001b[0m│\n",
       "│\u001b[35m \u001b[0m\u001b[35mmar_100      \u001b[0m\u001b[35m \u001b[0m│\u001b[37m \u001b[0m\u001b[37m0.19365 \u001b[0m\u001b[37m \u001b[0m│\n",
       "│\u001b[35m \u001b[0m\u001b[35mmar_small    \u001b[0m\u001b[35m \u001b[0m│\u001b[37m \u001b[0m\u001b[37m-1.00000\u001b[0m\u001b[37m \u001b[0m│\n",
       "│\u001b[35m \u001b[0m\u001b[35mmar_medium   \u001b[0m\u001b[35m \u001b[0m│\u001b[37m \u001b[0m\u001b[37m0.00000 \u001b[0m\u001b[37m \u001b[0m│\n",
       "│\u001b[35m \u001b[0m\u001b[35mmar_large    \u001b[0m\u001b[35m \u001b[0m│\u001b[37m \u001b[0m\u001b[37m0.20868 \u001b[0m\u001b[37m \u001b[0m│\n",
       "│\u001b[35m \u001b[0m\u001b[35mf1_small     \u001b[0m\u001b[35m \u001b[0m│\u001b[37m \u001b[0m\u001b[37m-1.00000\u001b[0m\u001b[37m \u001b[0m│\n",
       "│\u001b[35m \u001b[0m\u001b[35mf1_medium    \u001b[0m\u001b[35m \u001b[0m│\u001b[37m \u001b[0m\u001b[37mnan     \u001b[0m\u001b[37m \u001b[0m│\n",
       "│\u001b[35m \u001b[0m\u001b[35mf1_large     \u001b[0m\u001b[35m \u001b[0m│\u001b[37m \u001b[0m\u001b[37m0.16014 \u001b[0m\u001b[37m \u001b[0m│\n",
       "└───────────────┴──────────┘\n"
      ]
     },
     "metadata": {},
     "output_type": "display_data"
    },
    {
     "data": {
      "text/html": [
       "<pre style=\"white-space:pre;overflow-x:auto;line-height:normal;font-family:Menlo,'DejaVu Sans Mono',consolas,'Courier New',monospace\"><span style=\"color: #800080; text-decoration-color: #800080; font-weight: bold\">───────────────────────────────────────────────────────────────────────────────────────────────────────────────────</span>\n",
       "</pre>\n"
      ],
      "text/plain": [
       "\u001b[1;35m───────────────────────────────────────────────────────────────────────────────────────────────────────────────────\u001b[0m\n"
      ]
     },
     "metadata": {},
     "output_type": "display_data"
    },
    {
     "data": {
      "text/html": [
       "<pre style=\"white-space:pre;overflow-x:auto;line-height:normal;font-family:Menlo,'DejaVu Sans Mono',consolas,'Courier New',monospace\"><span style=\"color: #008000; text-decoration-color: #008000\">INFO    </span> Validation main metric <span style=\"font-weight: bold\">(</span>detection_head/detection_map<span style=\"font-weight: bold\">)</span>: <span style=\"color: #008080; text-decoration-color: #008080; font-weight: bold\">0.1205</span>                     <a href=\"file:///home/klemen/luxonis/luxonis-train/luxonis_train/models/luxonis_lightning.py\" target=\"_blank\"><span style=\"color: #7f7f7f; text-decoration-color: #7f7f7f\">luxonis_lightning.py</span></a><span style=\"color: #7f7f7f; text-decoration-color: #7f7f7f\">:</span><a href=\"file:///home/klemen/luxonis/luxonis-train/luxonis_train/models/luxonis_lightning.py#986\" target=\"_blank\"><span style=\"color: #7f7f7f; text-decoration-color: #7f7f7f\">986</span></a>\n",
       "</pre>\n"
      ],
      "text/plain": [
       "\u001b[32mINFO    \u001b[0m Validation main metric \u001b[1m(\u001b[0mdetection_head/detection_map\u001b[1m)\u001b[0m: \u001b[1;36m0.1205\u001b[0m                     \u001b]8;id=346802;file:///home/klemen/luxonis/luxonis-train/luxonis_train/models/luxonis_lightning.py\u001b\\\u001b[2mluxonis_lightning.py\u001b[0m\u001b]8;;\u001b\\\u001b[2m:\u001b[0m\u001b]8;id=308160;file:///home/klemen/luxonis/luxonis-train/luxonis_train/models/luxonis_lightning.py#986\u001b\\\u001b[2m986\u001b[0m\u001b]8;;\u001b\\\n"
      ]
     },
     "metadata": {},
     "output_type": "display_data"
    },
    {
     "data": {
      "text/html": [
       "<pre style=\"white-space:pre;overflow-x:auto;line-height:normal;font-family:Menlo,'DejaVu Sans Mono',consolas,'Courier New',monospace\"></pre>\n"
      ],
      "text/plain": []
     },
     "metadata": {},
     "output_type": "display_data"
    },
    {
     "data": {
      "text/html": [
       "<pre style=\"white-space:pre;overflow-x:auto;line-height:normal;font-family:Menlo,'DejaVu Sans Mono',consolas,'Courier New',monospace\">\n",
       "</pre>\n"
      ],
      "text/plain": [
       "\n"
      ]
     },
     "metadata": {},
     "output_type": "display_data"
    },
    {
     "name": "stderr",
     "output_type": "stream",
     "text": [
      "libpng warning: iCCP: known incorrect sRGB profile\n"
     ]
    },
    {
     "data": {
      "text/html": [
       "<pre style=\"white-space:pre;overflow-x:auto;line-height:normal;font-family:Menlo,'DejaVu Sans Mono',consolas,'Courier New',monospace\"></pre>\n"
      ],
      "text/plain": []
     },
     "metadata": {},
     "output_type": "display_data"
    },
    {
     "data": {
      "text/html": [
       "<pre style=\"white-space:pre;overflow-x:auto;line-height:normal;font-family:Menlo,'DejaVu Sans Mono',consolas,'Courier New',monospace\">\n",
       "</pre>\n"
      ],
      "text/plain": [
       "\n"
      ]
     },
     "metadata": {},
     "output_type": "display_data"
    },
    {
     "name": "stderr",
     "output_type": "stream",
     "text": [
      "libpng warning: iCCP: known incorrect sRGB profile\n"
     ]
    },
    {
     "data": {
      "text/html": [
       "<pre style=\"white-space:pre;overflow-x:auto;line-height:normal;font-family:Menlo,'DejaVu Sans Mono',consolas,'Courier New',monospace\"></pre>\n"
      ],
      "text/plain": []
     },
     "metadata": {},
     "output_type": "display_data"
    },
    {
     "data": {
      "text/html": [
       "<pre style=\"white-space:pre;overflow-x:auto;line-height:normal;font-family:Menlo,'DejaVu Sans Mono',consolas,'Courier New',monospace\">\n",
       "</pre>\n"
      ],
      "text/plain": [
       "\n"
      ]
     },
     "metadata": {},
     "output_type": "display_data"
    },
    {
     "name": "stderr",
     "output_type": "stream",
     "text": [
      "libpng warning: iCCP: known incorrect sRGB profile\n"
     ]
    },
    {
     "data": {
      "text/html": [
       "<pre style=\"white-space:pre;overflow-x:auto;line-height:normal;font-family:Menlo,'DejaVu Sans Mono',consolas,'Courier New',monospace\"></pre>\n"
      ],
      "text/plain": []
     },
     "metadata": {},
     "output_type": "display_data"
    },
    {
     "data": {
      "text/html": [
       "<pre style=\"white-space:pre;overflow-x:auto;line-height:normal;font-family:Menlo,'DejaVu Sans Mono',consolas,'Courier New',monospace\">\n",
       "</pre>\n"
      ],
      "text/plain": [
       "\n"
      ]
     },
     "metadata": {},
     "output_type": "display_data"
    },
    {
     "name": "stderr",
     "output_type": "stream",
     "text": [
      "libpng warning: iCCP: known incorrect sRGB profile\n"
     ]
    },
    {
     "data": {
      "text/html": [
       "<pre style=\"white-space:pre;overflow-x:auto;line-height:normal;font-family:Menlo,'DejaVu Sans Mono',consolas,'Courier New',monospace\"></pre>\n"
      ],
      "text/plain": []
     },
     "metadata": {},
     "output_type": "display_data"
    },
    {
     "data": {
      "text/html": [
       "<pre style=\"white-space:pre;overflow-x:auto;line-height:normal;font-family:Menlo,'DejaVu Sans Mono',consolas,'Courier New',monospace\">\n",
       "</pre>\n"
      ],
      "text/plain": [
       "\n"
      ]
     },
     "metadata": {},
     "output_type": "display_data"
    },
    {
     "name": "stderr",
     "output_type": "stream",
     "text": [
      "libpng warning: iCCP: known incorrect sRGB profile\n"
     ]
    },
    {
     "data": {
      "text/html": [
       "<pre style=\"white-space:pre;overflow-x:auto;line-height:normal;font-family:Menlo,'DejaVu Sans Mono',consolas,'Courier New',monospace\"></pre>\n"
      ],
      "text/plain": []
     },
     "metadata": {},
     "output_type": "display_data"
    },
    {
     "data": {
      "text/html": [
       "<pre style=\"white-space:pre;overflow-x:auto;line-height:normal;font-family:Menlo,'DejaVu Sans Mono',consolas,'Courier New',monospace\">\n",
       "</pre>\n"
      ],
      "text/plain": [
       "\n"
      ]
     },
     "metadata": {},
     "output_type": "display_data"
    },
    {
     "name": "stderr",
     "output_type": "stream",
     "text": [
      "libpng warning: iCCP: known incorrect sRGB profile\n"
     ]
    },
    {
     "data": {
      "text/html": [
       "<pre style=\"white-space:pre;overflow-x:auto;line-height:normal;font-family:Menlo,'DejaVu Sans Mono',consolas,'Courier New',monospace\"></pre>\n"
      ],
      "text/plain": []
     },
     "metadata": {},
     "output_type": "display_data"
    },
    {
     "data": {
      "text/html": [
       "<pre style=\"white-space:pre;overflow-x:auto;line-height:normal;font-family:Menlo,'DejaVu Sans Mono',consolas,'Courier New',monospace\">\n",
       "</pre>\n"
      ],
      "text/plain": [
       "\n"
      ]
     },
     "metadata": {},
     "output_type": "display_data"
    },
    {
     "name": "stderr",
     "output_type": "stream",
     "text": [
      "libpng warning: iCCP: known incorrect sRGB profile\n"
     ]
    },
    {
     "data": {
      "text/html": [
       "<pre style=\"white-space:pre;overflow-x:auto;line-height:normal;font-family:Menlo,'DejaVu Sans Mono',consolas,'Courier New',monospace\"></pre>\n"
      ],
      "text/plain": []
     },
     "metadata": {},
     "output_type": "display_data"
    },
    {
     "data": {
      "text/html": [
       "<pre style=\"white-space:pre;overflow-x:auto;line-height:normal;font-family:Menlo,'DejaVu Sans Mono',consolas,'Courier New',monospace\">\n",
       "</pre>\n"
      ],
      "text/plain": [
       "\n"
      ]
     },
     "metadata": {},
     "output_type": "display_data"
    },
    {
     "name": "stderr",
     "output_type": "stream",
     "text": [
      "libpng warning: iCCP: known incorrect sRGB profile\n"
     ]
    },
    {
     "data": {
      "text/html": [
       "<pre style=\"white-space:pre;overflow-x:auto;line-height:normal;font-family:Menlo,'DejaVu Sans Mono',consolas,'Courier New',monospace\"></pre>\n"
      ],
      "text/plain": []
     },
     "metadata": {},
     "output_type": "display_data"
    },
    {
     "data": {
      "text/html": [
       "<pre style=\"white-space:pre;overflow-x:auto;line-height:normal;font-family:Menlo,'DejaVu Sans Mono',consolas,'Courier New',monospace\">\n",
       "</pre>\n"
      ],
      "text/plain": [
       "\n"
      ]
     },
     "metadata": {},
     "output_type": "display_data"
    },
    {
     "name": "stderr",
     "output_type": "stream",
     "text": [
      "libpng warning: iCCP: known incorrect sRGB profile\n"
     ]
    },
    {
     "data": {
      "text/html": [
       "<pre style=\"white-space:pre;overflow-x:auto;line-height:normal;font-family:Menlo,'DejaVu Sans Mono',consolas,'Courier New',monospace\"></pre>\n"
      ],
      "text/plain": []
     },
     "metadata": {},
     "output_type": "display_data"
    },
    {
     "data": {
      "text/html": [
       "<pre style=\"white-space:pre;overflow-x:auto;line-height:normal;font-family:Menlo,'DejaVu Sans Mono',consolas,'Courier New',monospace\">\n",
       "</pre>\n"
      ],
      "text/plain": [
       "\n"
      ]
     },
     "metadata": {},
     "output_type": "display_data"
    },
    {
     "name": "stderr",
     "output_type": "stream",
     "text": [
      "libpng warning: iCCP: known incorrect sRGB profile\n",
      "libpng warning: iCCP: known incorrect sRGB profile\n",
      "libpng warning: iCCP: known incorrect sRGB profile\n",
      "libpng warning: iCCP: known incorrect sRGB profile\n"
     ]
    },
    {
     "data": {
      "text/html": [
       "<pre style=\"white-space:pre;overflow-x:auto;line-height:normal;font-family:Menlo,'DejaVu Sans Mono',consolas,'Courier New',monospace\"><span style=\"color: #008000; text-decoration-color: #008000\">INFO    </span> Computing metrics on val subset <span style=\"color: #808000; text-decoration-color: #808000\">...</span>                                               <a href=\"file:///home/klemen/luxonis/luxonis-train/luxonis_train/models/luxonis_lightning.py\" target=\"_blank\"><span style=\"color: #7f7f7f; text-decoration-color: #7f7f7f\">luxonis_lightning.py</span></a><span style=\"color: #7f7f7f; text-decoration-color: #7f7f7f\">:</span><a href=\"file:///home/klemen/luxonis/luxonis-train/luxonis_train/models/luxonis_lightning.py#770\" target=\"_blank\"><span style=\"color: #7f7f7f; text-decoration-color: #7f7f7f\">770</span></a>\n",
       "</pre>\n"
      ],
      "text/plain": [
       "\u001b[32mINFO    \u001b[0m Computing metrics on val subset \u001b[33m...\u001b[0m                                               \u001b]8;id=972474;file:///home/klemen/luxonis/luxonis-train/luxonis_train/models/luxonis_lightning.py\u001b\\\u001b[2mluxonis_lightning.py\u001b[0m\u001b]8;;\u001b\\\u001b[2m:\u001b[0m\u001b]8;id=373101;file:///home/klemen/luxonis/luxonis-train/luxonis_train/models/luxonis_lightning.py#770\u001b\\\u001b[2m770\u001b[0m\u001b]8;;\u001b\\\n"
      ]
     },
     "metadata": {},
     "output_type": "display_data"
    },
    {
     "data": {
      "text/html": [
       "<pre style=\"white-space:pre;overflow-x:auto;line-height:normal;font-family:Menlo,'DejaVu Sans Mono',consolas,'Courier New',monospace\"><span style=\"color: #008000; text-decoration-color: #008000\">INFO    </span> Metrics computed.                                                                 <a href=\"file:///home/klemen/luxonis/luxonis-train/luxonis_train/models/luxonis_lightning.py\" target=\"_blank\"><span style=\"color: #7f7f7f; text-decoration-color: #7f7f7f\">luxonis_lightning.py</span></a><span style=\"color: #7f7f7f; text-decoration-color: #7f7f7f\">:</span><a href=\"file:///home/klemen/luxonis/luxonis-train/luxonis_train/models/luxonis_lightning.py#772\" target=\"_blank\"><span style=\"color: #7f7f7f; text-decoration-color: #7f7f7f\">772</span></a>\n",
       "</pre>\n"
      ],
      "text/plain": [
       "\u001b[32mINFO    \u001b[0m Metrics computed.                                                                 \u001b]8;id=192752;file:///home/klemen/luxonis/luxonis-train/luxonis_train/models/luxonis_lightning.py\u001b\\\u001b[2mluxonis_lightning.py\u001b[0m\u001b]8;;\u001b\\\u001b[2m:\u001b[0m\u001b]8;id=344458;file:///home/klemen/luxonis/luxonis-train/luxonis_train/models/luxonis_lightning.py#772\u001b\\\u001b[2m772\u001b[0m\u001b]8;;\u001b\\\n"
      ]
     },
     "metadata": {},
     "output_type": "display_data"
    },
    {
     "data": {
      "text/html": [
       "<pre style=\"white-space:pre;overflow-x:auto;line-height:normal;font-family:Menlo,'DejaVu Sans Mono',consolas,'Courier New',monospace\"><span style=\"color: #008000; text-decoration-color: #008000\">INFO    </span> Validation loss: <span style=\"color: #008080; text-decoration-color: #008080; font-weight: bold\">1.7555</span>                                                           <a href=\"file:///home/klemen/luxonis/luxonis-train/luxonis_train/models/luxonis_lightning.py\" target=\"_blank\"><span style=\"color: #7f7f7f; text-decoration-color: #7f7f7f\">luxonis_lightning.py</span></a><span style=\"color: #7f7f7f; text-decoration-color: #7f7f7f\">:</span><a href=\"file:///home/klemen/luxonis/luxonis-train/luxonis_train/models/luxonis_lightning.py#977\" target=\"_blank\"><span style=\"color: #7f7f7f; text-decoration-color: #7f7f7f\">977</span></a>\n",
       "</pre>\n"
      ],
      "text/plain": [
       "\u001b[32mINFO    \u001b[0m Validation loss: \u001b[1;36m1.7555\u001b[0m                                                           \u001b]8;id=923238;file:///home/klemen/luxonis/luxonis-train/luxonis_train/models/luxonis_lightning.py\u001b\\\u001b[2mluxonis_lightning.py\u001b[0m\u001b]8;;\u001b\\\u001b[2m:\u001b[0m\u001b]8;id=107263;file:///home/klemen/luxonis/luxonis-train/luxonis_train/models/luxonis_lightning.py#977\u001b\\\u001b[2m977\u001b[0m\u001b]8;;\u001b\\\n"
      ]
     },
     "metadata": {},
     "output_type": "display_data"
    },
    {
     "data": {
      "text/html": [
       "<pre style=\"white-space:pre;overflow-x:auto;line-height:normal;font-family:Menlo,'DejaVu Sans Mono',consolas,'Courier New',monospace\"><span style=\"color: #800080; text-decoration-color: #800080; font-weight: bold\">─────────────────────────────────────────────────── </span>Validation<span style=\"color: #800080; text-decoration-color: #800080; font-weight: bold\"> ────────────────────────────────────────────────────</span>\n",
       "</pre>\n"
      ],
      "text/plain": [
       "\u001b[1;35m─────────────────────────────────────────────────── \u001b[0mValidation\u001b[1;35m ────────────────────────────────────────────────────\u001b[0m\n"
      ]
     },
     "metadata": {},
     "output_type": "display_data"
    },
    {
     "data": {
      "text/html": [
       "<pre style=\"white-space:pre;overflow-x:auto;line-height:normal;font-family:Menlo,'DejaVu Sans Mono',consolas,'Courier New',monospace\"><span style=\"color: #800080; text-decoration-color: #800080; font-weight: bold\">Loss:</span> <span style=\"color: #c0c0c0; text-decoration-color: #c0c0c0; font-weight: bold\">1.7555031975110371</span>\n",
       "</pre>\n"
      ],
      "text/plain": [
       "\u001b[1;35mLoss:\u001b[0m \u001b[1;37m1.7555031975110371\u001b[0m\n"
      ]
     },
     "metadata": {},
     "output_type": "display_data"
    },
    {
     "data": {
      "text/html": [
       "<pre style=\"white-space:pre;overflow-x:auto;line-height:normal;font-family:Menlo,'DejaVu Sans Mono',consolas,'Courier New',monospace\"><span style=\"color: #800080; text-decoration-color: #800080; font-weight: bold\">Metrics:</span>\n",
       "</pre>\n"
      ],
      "text/plain": [
       "\u001b[1;35mMetrics:\u001b[0m\n"
      ]
     },
     "metadata": {},
     "output_type": "display_data"
    },
    {
     "data": {
      "text/html": [
       "<pre style=\"white-space:pre;overflow-x:auto;line-height:normal;font-family:Menlo,'DejaVu Sans Mono',consolas,'Courier New',monospace\"><span style=\"font-style: italic\">       detection_head       </span>\n",
       "┏━━━━━━━━━━━━━━━┳━━━━━━━━━━┓\n",
       "┃<span style=\"color: #800080; text-decoration-color: #800080; font-weight: bold\"> Name          </span>┃<span style=\"color: #800080; text-decoration-color: #800080; font-weight: bold\"> Value    </span>┃\n",
       "┡━━━━━━━━━━━━━━━╇━━━━━━━━━━┩\n",
       "│<span style=\"color: #800080; text-decoration-color: #800080\"> detection_map </span>│<span style=\"color: #c0c0c0; text-decoration-color: #c0c0c0\"> 0.14980  </span>│\n",
       "│<span style=\"color: #800080; text-decoration-color: #800080\"> map_50        </span>│<span style=\"color: #c0c0c0; text-decoration-color: #c0c0c0\"> 0.38456  </span>│\n",
       "│<span style=\"color: #800080; text-decoration-color: #800080\"> map_75        </span>│<span style=\"color: #c0c0c0; text-decoration-color: #c0c0c0\"> 0.07869  </span>│\n",
       "│<span style=\"color: #800080; text-decoration-color: #800080\"> map_small     </span>│<span style=\"color: #c0c0c0; text-decoration-color: #c0c0c0\"> -1.00000 </span>│\n",
       "│<span style=\"color: #800080; text-decoration-color: #800080\"> map_medium    </span>│<span style=\"color: #c0c0c0; text-decoration-color: #c0c0c0\"> 0.00000  </span>│\n",
       "│<span style=\"color: #800080; text-decoration-color: #800080\"> map_large     </span>│<span style=\"color: #c0c0c0; text-decoration-color: #c0c0c0\"> 0.16100  </span>│\n",
       "│<span style=\"color: #800080; text-decoration-color: #800080\"> mar_1         </span>│<span style=\"color: #c0c0c0; text-decoration-color: #c0c0c0\"> 0.19273  </span>│\n",
       "│<span style=\"color: #800080; text-decoration-color: #800080\"> mar_10        </span>│<span style=\"color: #c0c0c0; text-decoration-color: #c0c0c0\"> 0.25395  </span>│\n",
       "│<span style=\"color: #800080; text-decoration-color: #800080\"> mar_100       </span>│<span style=\"color: #c0c0c0; text-decoration-color: #c0c0c0\"> 0.25395  </span>│\n",
       "│<span style=\"color: #800080; text-decoration-color: #800080\"> mar_small     </span>│<span style=\"color: #c0c0c0; text-decoration-color: #c0c0c0\"> -1.00000 </span>│\n",
       "│<span style=\"color: #800080; text-decoration-color: #800080\"> mar_medium    </span>│<span style=\"color: #c0c0c0; text-decoration-color: #c0c0c0\"> 0.00000  </span>│\n",
       "│<span style=\"color: #800080; text-decoration-color: #800080\"> mar_large     </span>│<span style=\"color: #c0c0c0; text-decoration-color: #c0c0c0\"> 0.27458  </span>│\n",
       "│<span style=\"color: #800080; text-decoration-color: #800080\"> f1_small      </span>│<span style=\"color: #c0c0c0; text-decoration-color: #c0c0c0\"> -1.00000 </span>│\n",
       "│<span style=\"color: #800080; text-decoration-color: #800080\"> f1_medium     </span>│<span style=\"color: #c0c0c0; text-decoration-color: #c0c0c0\"> nan      </span>│\n",
       "│<span style=\"color: #800080; text-decoration-color: #800080\"> f1_large      </span>│<span style=\"color: #c0c0c0; text-decoration-color: #c0c0c0\"> 0.20298  </span>│\n",
       "└───────────────┴──────────┘\n",
       "</pre>\n"
      ],
      "text/plain": [
       "\u001b[3m       detection_head       \u001b[0m\n",
       "┏━━━━━━━━━━━━━━━┳━━━━━━━━━━┓\n",
       "┃\u001b[1;35m \u001b[0m\u001b[1;35mName         \u001b[0m\u001b[1;35m \u001b[0m┃\u001b[1;35m \u001b[0m\u001b[1;35mValue   \u001b[0m\u001b[1;35m \u001b[0m┃\n",
       "┡━━━━━━━━━━━━━━━╇━━━━━━━━━━┩\n",
       "│\u001b[35m \u001b[0m\u001b[35mdetection_map\u001b[0m\u001b[35m \u001b[0m│\u001b[37m \u001b[0m\u001b[37m0.14980 \u001b[0m\u001b[37m \u001b[0m│\n",
       "│\u001b[35m \u001b[0m\u001b[35mmap_50       \u001b[0m\u001b[35m \u001b[0m│\u001b[37m \u001b[0m\u001b[37m0.38456 \u001b[0m\u001b[37m \u001b[0m│\n",
       "│\u001b[35m \u001b[0m\u001b[35mmap_75       \u001b[0m\u001b[35m \u001b[0m│\u001b[37m \u001b[0m\u001b[37m0.07869 \u001b[0m\u001b[37m \u001b[0m│\n",
       "│\u001b[35m \u001b[0m\u001b[35mmap_small    \u001b[0m\u001b[35m \u001b[0m│\u001b[37m \u001b[0m\u001b[37m-1.00000\u001b[0m\u001b[37m \u001b[0m│\n",
       "│\u001b[35m \u001b[0m\u001b[35mmap_medium   \u001b[0m\u001b[35m \u001b[0m│\u001b[37m \u001b[0m\u001b[37m0.00000 \u001b[0m\u001b[37m \u001b[0m│\n",
       "│\u001b[35m \u001b[0m\u001b[35mmap_large    \u001b[0m\u001b[35m \u001b[0m│\u001b[37m \u001b[0m\u001b[37m0.16100 \u001b[0m\u001b[37m \u001b[0m│\n",
       "│\u001b[35m \u001b[0m\u001b[35mmar_1        \u001b[0m\u001b[35m \u001b[0m│\u001b[37m \u001b[0m\u001b[37m0.19273 \u001b[0m\u001b[37m \u001b[0m│\n",
       "│\u001b[35m \u001b[0m\u001b[35mmar_10       \u001b[0m\u001b[35m \u001b[0m│\u001b[37m \u001b[0m\u001b[37m0.25395 \u001b[0m\u001b[37m \u001b[0m│\n",
       "│\u001b[35m \u001b[0m\u001b[35mmar_100      \u001b[0m\u001b[35m \u001b[0m│\u001b[37m \u001b[0m\u001b[37m0.25395 \u001b[0m\u001b[37m \u001b[0m│\n",
       "│\u001b[35m \u001b[0m\u001b[35mmar_small    \u001b[0m\u001b[35m \u001b[0m│\u001b[37m \u001b[0m\u001b[37m-1.00000\u001b[0m\u001b[37m \u001b[0m│\n",
       "│\u001b[35m \u001b[0m\u001b[35mmar_medium   \u001b[0m\u001b[35m \u001b[0m│\u001b[37m \u001b[0m\u001b[37m0.00000 \u001b[0m\u001b[37m \u001b[0m│\n",
       "│\u001b[35m \u001b[0m\u001b[35mmar_large    \u001b[0m\u001b[35m \u001b[0m│\u001b[37m \u001b[0m\u001b[37m0.27458 \u001b[0m\u001b[37m \u001b[0m│\n",
       "│\u001b[35m \u001b[0m\u001b[35mf1_small     \u001b[0m\u001b[35m \u001b[0m│\u001b[37m \u001b[0m\u001b[37m-1.00000\u001b[0m\u001b[37m \u001b[0m│\n",
       "│\u001b[35m \u001b[0m\u001b[35mf1_medium    \u001b[0m\u001b[35m \u001b[0m│\u001b[37m \u001b[0m\u001b[37mnan     \u001b[0m\u001b[37m \u001b[0m│\n",
       "│\u001b[35m \u001b[0m\u001b[35mf1_large     \u001b[0m\u001b[35m \u001b[0m│\u001b[37m \u001b[0m\u001b[37m0.20298 \u001b[0m\u001b[37m \u001b[0m│\n",
       "└───────────────┴──────────┘\n"
      ]
     },
     "metadata": {},
     "output_type": "display_data"
    },
    {
     "data": {
      "text/html": [
       "<pre style=\"white-space:pre;overflow-x:auto;line-height:normal;font-family:Menlo,'DejaVu Sans Mono',consolas,'Courier New',monospace\"><span style=\"color: #800080; text-decoration-color: #800080; font-weight: bold\">───────────────────────────────────────────────────────────────────────────────────────────────────────────────────</span>\n",
       "</pre>\n"
      ],
      "text/plain": [
       "\u001b[1;35m───────────────────────────────────────────────────────────────────────────────────────────────────────────────────\u001b[0m\n"
      ]
     },
     "metadata": {},
     "output_type": "display_data"
    },
    {
     "data": {
      "text/html": [
       "<pre style=\"white-space:pre;overflow-x:auto;line-height:normal;font-family:Menlo,'DejaVu Sans Mono',consolas,'Courier New',monospace\"><span style=\"color: #008000; text-decoration-color: #008000\">INFO    </span> Validation main metric <span style=\"font-weight: bold\">(</span>detection_head/detection_map<span style=\"font-weight: bold\">)</span>: <span style=\"color: #008080; text-decoration-color: #008080; font-weight: bold\">0.1498</span>                     <a href=\"file:///home/klemen/luxonis/luxonis-train/luxonis_train/models/luxonis_lightning.py\" target=\"_blank\"><span style=\"color: #7f7f7f; text-decoration-color: #7f7f7f\">luxonis_lightning.py</span></a><span style=\"color: #7f7f7f; text-decoration-color: #7f7f7f\">:</span><a href=\"file:///home/klemen/luxonis/luxonis-train/luxonis_train/models/luxonis_lightning.py#986\" target=\"_blank\"><span style=\"color: #7f7f7f; text-decoration-color: #7f7f7f\">986</span></a>\n",
       "</pre>\n"
      ],
      "text/plain": [
       "\u001b[32mINFO    \u001b[0m Validation main metric \u001b[1m(\u001b[0mdetection_head/detection_map\u001b[1m)\u001b[0m: \u001b[1;36m0.1498\u001b[0m                     \u001b]8;id=510886;file:///home/klemen/luxonis/luxonis-train/luxonis_train/models/luxonis_lightning.py\u001b\\\u001b[2mluxonis_lightning.py\u001b[0m\u001b]8;;\u001b\\\u001b[2m:\u001b[0m\u001b]8;id=840986;file:///home/klemen/luxonis/luxonis-train/luxonis_train/models/luxonis_lightning.py#986\u001b\\\u001b[2m986\u001b[0m\u001b]8;;\u001b\\\n"
      ]
     },
     "metadata": {},
     "output_type": "display_data"
    },
    {
     "data": {
      "text/html": [
       "<pre style=\"white-space:pre;overflow-x:auto;line-height:normal;font-family:Menlo,'DejaVu Sans Mono',consolas,'Courier New',monospace\"></pre>\n"
      ],
      "text/plain": []
     },
     "metadata": {},
     "output_type": "display_data"
    },
    {
     "data": {
      "text/html": [
       "<pre style=\"white-space:pre;overflow-x:auto;line-height:normal;font-family:Menlo,'DejaVu Sans Mono',consolas,'Courier New',monospace\">\n",
       "</pre>\n"
      ],
      "text/plain": [
       "\n"
      ]
     },
     "metadata": {},
     "output_type": "display_data"
    },
    {
     "name": "stderr",
     "output_type": "stream",
     "text": [
      "libpng warning: iCCP: known incorrect sRGB profile\n"
     ]
    },
    {
     "data": {
      "text/html": [
       "<pre style=\"white-space:pre;overflow-x:auto;line-height:normal;font-family:Menlo,'DejaVu Sans Mono',consolas,'Courier New',monospace\"></pre>\n"
      ],
      "text/plain": []
     },
     "metadata": {},
     "output_type": "display_data"
    },
    {
     "data": {
      "text/html": [
       "<pre style=\"white-space:pre;overflow-x:auto;line-height:normal;font-family:Menlo,'DejaVu Sans Mono',consolas,'Courier New',monospace\">\n",
       "</pre>\n"
      ],
      "text/plain": [
       "\n"
      ]
     },
     "metadata": {},
     "output_type": "display_data"
    },
    {
     "name": "stderr",
     "output_type": "stream",
     "text": [
      "libpng warning: iCCP: known incorrect sRGB profile\n"
     ]
    },
    {
     "data": {
      "text/html": [
       "<pre style=\"white-space:pre;overflow-x:auto;line-height:normal;font-family:Menlo,'DejaVu Sans Mono',consolas,'Courier New',monospace\"></pre>\n"
      ],
      "text/plain": []
     },
     "metadata": {},
     "output_type": "display_data"
    },
    {
     "data": {
      "text/html": [
       "<pre style=\"white-space:pre;overflow-x:auto;line-height:normal;font-family:Menlo,'DejaVu Sans Mono',consolas,'Courier New',monospace\">\n",
       "</pre>\n"
      ],
      "text/plain": [
       "\n"
      ]
     },
     "metadata": {},
     "output_type": "display_data"
    },
    {
     "name": "stderr",
     "output_type": "stream",
     "text": [
      "libpng warning: iCCP: known incorrect sRGB profile\n"
     ]
    },
    {
     "data": {
      "text/html": [
       "<pre style=\"white-space:pre;overflow-x:auto;line-height:normal;font-family:Menlo,'DejaVu Sans Mono',consolas,'Courier New',monospace\"></pre>\n"
      ],
      "text/plain": []
     },
     "metadata": {},
     "output_type": "display_data"
    },
    {
     "data": {
      "text/html": [
       "<pre style=\"white-space:pre;overflow-x:auto;line-height:normal;font-family:Menlo,'DejaVu Sans Mono',consolas,'Courier New',monospace\">\n",
       "</pre>\n"
      ],
      "text/plain": [
       "\n"
      ]
     },
     "metadata": {},
     "output_type": "display_data"
    },
    {
     "name": "stderr",
     "output_type": "stream",
     "text": [
      "libpng warning: iCCP: known incorrect sRGB profile\n"
     ]
    },
    {
     "data": {
      "text/html": [
       "<pre style=\"white-space:pre;overflow-x:auto;line-height:normal;font-family:Menlo,'DejaVu Sans Mono',consolas,'Courier New',monospace\"></pre>\n"
      ],
      "text/plain": []
     },
     "metadata": {},
     "output_type": "display_data"
    },
    {
     "data": {
      "text/html": [
       "<pre style=\"white-space:pre;overflow-x:auto;line-height:normal;font-family:Menlo,'DejaVu Sans Mono',consolas,'Courier New',monospace\">\n",
       "</pre>\n"
      ],
      "text/plain": [
       "\n"
      ]
     },
     "metadata": {},
     "output_type": "display_data"
    },
    {
     "name": "stderr",
     "output_type": "stream",
     "text": [
      "libpng warning: iCCP: known incorrect sRGB profile\n"
     ]
    },
    {
     "data": {
      "text/html": [
       "<pre style=\"white-space:pre;overflow-x:auto;line-height:normal;font-family:Menlo,'DejaVu Sans Mono',consolas,'Courier New',monospace\"></pre>\n"
      ],
      "text/plain": []
     },
     "metadata": {},
     "output_type": "display_data"
    },
    {
     "data": {
      "text/html": [
       "<pre style=\"white-space:pre;overflow-x:auto;line-height:normal;font-family:Menlo,'DejaVu Sans Mono',consolas,'Courier New',monospace\">\n",
       "</pre>\n"
      ],
      "text/plain": [
       "\n"
      ]
     },
     "metadata": {},
     "output_type": "display_data"
    },
    {
     "name": "stderr",
     "output_type": "stream",
     "text": [
      "libpng warning: iCCP: known incorrect sRGB profile\n"
     ]
    },
    {
     "data": {
      "text/html": [
       "<pre style=\"white-space:pre;overflow-x:auto;line-height:normal;font-family:Menlo,'DejaVu Sans Mono',consolas,'Courier New',monospace\"></pre>\n"
      ],
      "text/plain": []
     },
     "metadata": {},
     "output_type": "display_data"
    },
    {
     "data": {
      "text/html": [
       "<pre style=\"white-space:pre;overflow-x:auto;line-height:normal;font-family:Menlo,'DejaVu Sans Mono',consolas,'Courier New',monospace\">\n",
       "</pre>\n"
      ],
      "text/plain": [
       "\n"
      ]
     },
     "metadata": {},
     "output_type": "display_data"
    },
    {
     "name": "stderr",
     "output_type": "stream",
     "text": [
      "libpng warning: iCCP: known incorrect sRGB profile\n"
     ]
    },
    {
     "data": {
      "text/html": [
       "<pre style=\"white-space:pre;overflow-x:auto;line-height:normal;font-family:Menlo,'DejaVu Sans Mono',consolas,'Courier New',monospace\"></pre>\n"
      ],
      "text/plain": []
     },
     "metadata": {},
     "output_type": "display_data"
    },
    {
     "data": {
      "text/html": [
       "<pre style=\"white-space:pre;overflow-x:auto;line-height:normal;font-family:Menlo,'DejaVu Sans Mono',consolas,'Courier New',monospace\">\n",
       "</pre>\n"
      ],
      "text/plain": [
       "\n"
      ]
     },
     "metadata": {},
     "output_type": "display_data"
    },
    {
     "name": "stderr",
     "output_type": "stream",
     "text": [
      "libpng warning: iCCP: known incorrect sRGB profile\n"
     ]
    },
    {
     "data": {
      "text/html": [
       "<pre style=\"white-space:pre;overflow-x:auto;line-height:normal;font-family:Menlo,'DejaVu Sans Mono',consolas,'Courier New',monospace\"></pre>\n"
      ],
      "text/plain": []
     },
     "metadata": {},
     "output_type": "display_data"
    },
    {
     "data": {
      "text/html": [
       "<pre style=\"white-space:pre;overflow-x:auto;line-height:normal;font-family:Menlo,'DejaVu Sans Mono',consolas,'Courier New',monospace\">\n",
       "</pre>\n"
      ],
      "text/plain": [
       "\n"
      ]
     },
     "metadata": {},
     "output_type": "display_data"
    },
    {
     "name": "stderr",
     "output_type": "stream",
     "text": [
      "libpng warning: iCCP: known incorrect sRGB profile\n"
     ]
    },
    {
     "data": {
      "text/html": [
       "<pre style=\"white-space:pre;overflow-x:auto;line-height:normal;font-family:Menlo,'DejaVu Sans Mono',consolas,'Courier New',monospace\"></pre>\n"
      ],
      "text/plain": []
     },
     "metadata": {},
     "output_type": "display_data"
    },
    {
     "data": {
      "text/html": [
       "<pre style=\"white-space:pre;overflow-x:auto;line-height:normal;font-family:Menlo,'DejaVu Sans Mono',consolas,'Courier New',monospace\">\n",
       "</pre>\n"
      ],
      "text/plain": [
       "\n"
      ]
     },
     "metadata": {},
     "output_type": "display_data"
    },
    {
     "name": "stderr",
     "output_type": "stream",
     "text": [
      "libpng warning: iCCP: known incorrect sRGB profile\n",
      "libpng warning: iCCP: known incorrect sRGB profile\n",
      "libpng warning: iCCP: known incorrect sRGB profile\n",
      "libpng warning: iCCP: known incorrect sRGB profile\n"
     ]
    },
    {
     "data": {
      "text/html": [
       "<pre style=\"white-space:pre;overflow-x:auto;line-height:normal;font-family:Menlo,'DejaVu Sans Mono',consolas,'Courier New',monospace\"><span style=\"color: #008000; text-decoration-color: #008000\">INFO    </span> Computing metrics on val subset <span style=\"color: #808000; text-decoration-color: #808000\">...</span>                                               <a href=\"file:///home/klemen/luxonis/luxonis-train/luxonis_train/models/luxonis_lightning.py\" target=\"_blank\"><span style=\"color: #7f7f7f; text-decoration-color: #7f7f7f\">luxonis_lightning.py</span></a><span style=\"color: #7f7f7f; text-decoration-color: #7f7f7f\">:</span><a href=\"file:///home/klemen/luxonis/luxonis-train/luxonis_train/models/luxonis_lightning.py#770\" target=\"_blank\"><span style=\"color: #7f7f7f; text-decoration-color: #7f7f7f\">770</span></a>\n",
       "</pre>\n"
      ],
      "text/plain": [
       "\u001b[32mINFO    \u001b[0m Computing metrics on val subset \u001b[33m...\u001b[0m                                               \u001b]8;id=381606;file:///home/klemen/luxonis/luxonis-train/luxonis_train/models/luxonis_lightning.py\u001b\\\u001b[2mluxonis_lightning.py\u001b[0m\u001b]8;;\u001b\\\u001b[2m:\u001b[0m\u001b]8;id=496845;file:///home/klemen/luxonis/luxonis-train/luxonis_train/models/luxonis_lightning.py#770\u001b\\\u001b[2m770\u001b[0m\u001b]8;;\u001b\\\n"
      ]
     },
     "metadata": {},
     "output_type": "display_data"
    },
    {
     "data": {
      "text/html": [
       "<pre style=\"white-space:pre;overflow-x:auto;line-height:normal;font-family:Menlo,'DejaVu Sans Mono',consolas,'Courier New',monospace\"><span style=\"color: #008000; text-decoration-color: #008000\">INFO    </span> Metrics computed.                                                                 <a href=\"file:///home/klemen/luxonis/luxonis-train/luxonis_train/models/luxonis_lightning.py\" target=\"_blank\"><span style=\"color: #7f7f7f; text-decoration-color: #7f7f7f\">luxonis_lightning.py</span></a><span style=\"color: #7f7f7f; text-decoration-color: #7f7f7f\">:</span><a href=\"file:///home/klemen/luxonis/luxonis-train/luxonis_train/models/luxonis_lightning.py#772\" target=\"_blank\"><span style=\"color: #7f7f7f; text-decoration-color: #7f7f7f\">772</span></a>\n",
       "</pre>\n"
      ],
      "text/plain": [
       "\u001b[32mINFO    \u001b[0m Metrics computed.                                                                 \u001b]8;id=173887;file:///home/klemen/luxonis/luxonis-train/luxonis_train/models/luxonis_lightning.py\u001b\\\u001b[2mluxonis_lightning.py\u001b[0m\u001b]8;;\u001b\\\u001b[2m:\u001b[0m\u001b]8;id=348413;file:///home/klemen/luxonis/luxonis-train/luxonis_train/models/luxonis_lightning.py#772\u001b\\\u001b[2m772\u001b[0m\u001b]8;;\u001b\\\n"
      ]
     },
     "metadata": {},
     "output_type": "display_data"
    },
    {
     "data": {
      "text/html": [
       "<pre style=\"white-space:pre;overflow-x:auto;line-height:normal;font-family:Menlo,'DejaVu Sans Mono',consolas,'Courier New',monospace\"><span style=\"color: #008000; text-decoration-color: #008000\">INFO    </span> Validation loss: <span style=\"color: #008080; text-decoration-color: #008080; font-weight: bold\">1.6920</span>                                                           <a href=\"file:///home/klemen/luxonis/luxonis-train/luxonis_train/models/luxonis_lightning.py\" target=\"_blank\"><span style=\"color: #7f7f7f; text-decoration-color: #7f7f7f\">luxonis_lightning.py</span></a><span style=\"color: #7f7f7f; text-decoration-color: #7f7f7f\">:</span><a href=\"file:///home/klemen/luxonis/luxonis-train/luxonis_train/models/luxonis_lightning.py#977\" target=\"_blank\"><span style=\"color: #7f7f7f; text-decoration-color: #7f7f7f\">977</span></a>\n",
       "</pre>\n"
      ],
      "text/plain": [
       "\u001b[32mINFO    \u001b[0m Validation loss: \u001b[1;36m1.6920\u001b[0m                                                           \u001b]8;id=45807;file:///home/klemen/luxonis/luxonis-train/luxonis_train/models/luxonis_lightning.py\u001b\\\u001b[2mluxonis_lightning.py\u001b[0m\u001b]8;;\u001b\\\u001b[2m:\u001b[0m\u001b]8;id=143710;file:///home/klemen/luxonis/luxonis-train/luxonis_train/models/luxonis_lightning.py#977\u001b\\\u001b[2m977\u001b[0m\u001b]8;;\u001b\\\n"
      ]
     },
     "metadata": {},
     "output_type": "display_data"
    },
    {
     "data": {
      "text/html": [
       "<pre style=\"white-space:pre;overflow-x:auto;line-height:normal;font-family:Menlo,'DejaVu Sans Mono',consolas,'Courier New',monospace\"><span style=\"color: #800080; text-decoration-color: #800080; font-weight: bold\">─────────────────────────────────────────────────── </span>Validation<span style=\"color: #800080; text-decoration-color: #800080; font-weight: bold\"> ────────────────────────────────────────────────────</span>\n",
       "</pre>\n"
      ],
      "text/plain": [
       "\u001b[1;35m─────────────────────────────────────────────────── \u001b[0mValidation\u001b[1;35m ────────────────────────────────────────────────────\u001b[0m\n"
      ]
     },
     "metadata": {},
     "output_type": "display_data"
    },
    {
     "data": {
      "text/html": [
       "<pre style=\"white-space:pre;overflow-x:auto;line-height:normal;font-family:Menlo,'DejaVu Sans Mono',consolas,'Courier New',monospace\"><span style=\"color: #800080; text-decoration-color: #800080; font-weight: bold\">Loss:</span> <span style=\"color: #c0c0c0; text-decoration-color: #c0c0c0; font-weight: bold\">1.6919527649879456</span>\n",
       "</pre>\n"
      ],
      "text/plain": [
       "\u001b[1;35mLoss:\u001b[0m \u001b[1;37m1.6919527649879456\u001b[0m\n"
      ]
     },
     "metadata": {},
     "output_type": "display_data"
    },
    {
     "data": {
      "text/html": [
       "<pre style=\"white-space:pre;overflow-x:auto;line-height:normal;font-family:Menlo,'DejaVu Sans Mono',consolas,'Courier New',monospace\"><span style=\"color: #800080; text-decoration-color: #800080; font-weight: bold\">Metrics:</span>\n",
       "</pre>\n"
      ],
      "text/plain": [
       "\u001b[1;35mMetrics:\u001b[0m\n"
      ]
     },
     "metadata": {},
     "output_type": "display_data"
    },
    {
     "data": {
      "text/html": [
       "<pre style=\"white-space:pre;overflow-x:auto;line-height:normal;font-family:Menlo,'DejaVu Sans Mono',consolas,'Courier New',monospace\"><span style=\"font-style: italic\">       detection_head       </span>\n",
       "┏━━━━━━━━━━━━━━━┳━━━━━━━━━━┓\n",
       "┃<span style=\"color: #800080; text-decoration-color: #800080; font-weight: bold\"> Name          </span>┃<span style=\"color: #800080; text-decoration-color: #800080; font-weight: bold\"> Value    </span>┃\n",
       "┡━━━━━━━━━━━━━━━╇━━━━━━━━━━┩\n",
       "│<span style=\"color: #800080; text-decoration-color: #800080\"> detection_map </span>│<span style=\"color: #c0c0c0; text-decoration-color: #c0c0c0\"> 0.19730  </span>│\n",
       "│<span style=\"color: #800080; text-decoration-color: #800080\"> map_50        </span>│<span style=\"color: #c0c0c0; text-decoration-color: #c0c0c0\"> 0.42760  </span>│\n",
       "│<span style=\"color: #800080; text-decoration-color: #800080\"> map_75        </span>│<span style=\"color: #c0c0c0; text-decoration-color: #c0c0c0\"> 0.13573  </span>│\n",
       "│<span style=\"color: #800080; text-decoration-color: #800080\"> map_small     </span>│<span style=\"color: #c0c0c0; text-decoration-color: #c0c0c0\"> -1.00000 </span>│\n",
       "│<span style=\"color: #800080; text-decoration-color: #800080\"> map_medium    </span>│<span style=\"color: #c0c0c0; text-decoration-color: #c0c0c0\"> 0.00000  </span>│\n",
       "│<span style=\"color: #800080; text-decoration-color: #800080\"> map_large     </span>│<span style=\"color: #c0c0c0; text-decoration-color: #c0c0c0\"> 0.21331  </span>│\n",
       "│<span style=\"color: #800080; text-decoration-color: #800080\"> mar_1         </span>│<span style=\"color: #c0c0c0; text-decoration-color: #c0c0c0\"> 0.19173  </span>│\n",
       "│<span style=\"color: #800080; text-decoration-color: #800080\"> mar_10        </span>│<span style=\"color: #c0c0c0; text-decoration-color: #c0c0c0\"> 0.29159  </span>│\n",
       "│<span style=\"color: #800080; text-decoration-color: #800080\"> mar_100       </span>│<span style=\"color: #c0c0c0; text-decoration-color: #c0c0c0\"> 0.29159  </span>│\n",
       "│<span style=\"color: #800080; text-decoration-color: #800080\"> mar_small     </span>│<span style=\"color: #c0c0c0; text-decoration-color: #c0c0c0\"> -1.00000 </span>│\n",
       "│<span style=\"color: #800080; text-decoration-color: #800080\"> mar_medium    </span>│<span style=\"color: #c0c0c0; text-decoration-color: #c0c0c0\"> 0.00000  </span>│\n",
       "│<span style=\"color: #800080; text-decoration-color: #800080\"> mar_large     </span>│<span style=\"color: #c0c0c0; text-decoration-color: #c0c0c0\"> 0.31597  </span>│\n",
       "│<span style=\"color: #800080; text-decoration-color: #800080\"> f1_small      </span>│<span style=\"color: #c0c0c0; text-decoration-color: #c0c0c0\"> -1.00000 </span>│\n",
       "│<span style=\"color: #800080; text-decoration-color: #800080\"> f1_medium     </span>│<span style=\"color: #c0c0c0; text-decoration-color: #c0c0c0\"> nan      </span>│\n",
       "│<span style=\"color: #800080; text-decoration-color: #800080\"> f1_large      </span>│<span style=\"color: #c0c0c0; text-decoration-color: #c0c0c0\"> 0.25468  </span>│\n",
       "└───────────────┴──────────┘\n",
       "</pre>\n"
      ],
      "text/plain": [
       "\u001b[3m       detection_head       \u001b[0m\n",
       "┏━━━━━━━━━━━━━━━┳━━━━━━━━━━┓\n",
       "┃\u001b[1;35m \u001b[0m\u001b[1;35mName         \u001b[0m\u001b[1;35m \u001b[0m┃\u001b[1;35m \u001b[0m\u001b[1;35mValue   \u001b[0m\u001b[1;35m \u001b[0m┃\n",
       "┡━━━━━━━━━━━━━━━╇━━━━━━━━━━┩\n",
       "│\u001b[35m \u001b[0m\u001b[35mdetection_map\u001b[0m\u001b[35m \u001b[0m│\u001b[37m \u001b[0m\u001b[37m0.19730 \u001b[0m\u001b[37m \u001b[0m│\n",
       "│\u001b[35m \u001b[0m\u001b[35mmap_50       \u001b[0m\u001b[35m \u001b[0m│\u001b[37m \u001b[0m\u001b[37m0.42760 \u001b[0m\u001b[37m \u001b[0m│\n",
       "│\u001b[35m \u001b[0m\u001b[35mmap_75       \u001b[0m\u001b[35m \u001b[0m│\u001b[37m \u001b[0m\u001b[37m0.13573 \u001b[0m\u001b[37m \u001b[0m│\n",
       "│\u001b[35m \u001b[0m\u001b[35mmap_small    \u001b[0m\u001b[35m \u001b[0m│\u001b[37m \u001b[0m\u001b[37m-1.00000\u001b[0m\u001b[37m \u001b[0m│\n",
       "│\u001b[35m \u001b[0m\u001b[35mmap_medium   \u001b[0m\u001b[35m \u001b[0m│\u001b[37m \u001b[0m\u001b[37m0.00000 \u001b[0m\u001b[37m \u001b[0m│\n",
       "│\u001b[35m \u001b[0m\u001b[35mmap_large    \u001b[0m\u001b[35m \u001b[0m│\u001b[37m \u001b[0m\u001b[37m0.21331 \u001b[0m\u001b[37m \u001b[0m│\n",
       "│\u001b[35m \u001b[0m\u001b[35mmar_1        \u001b[0m\u001b[35m \u001b[0m│\u001b[37m \u001b[0m\u001b[37m0.19173 \u001b[0m\u001b[37m \u001b[0m│\n",
       "│\u001b[35m \u001b[0m\u001b[35mmar_10       \u001b[0m\u001b[35m \u001b[0m│\u001b[37m \u001b[0m\u001b[37m0.29159 \u001b[0m\u001b[37m \u001b[0m│\n",
       "│\u001b[35m \u001b[0m\u001b[35mmar_100      \u001b[0m\u001b[35m \u001b[0m│\u001b[37m \u001b[0m\u001b[37m0.29159 \u001b[0m\u001b[37m \u001b[0m│\n",
       "│\u001b[35m \u001b[0m\u001b[35mmar_small    \u001b[0m\u001b[35m \u001b[0m│\u001b[37m \u001b[0m\u001b[37m-1.00000\u001b[0m\u001b[37m \u001b[0m│\n",
       "│\u001b[35m \u001b[0m\u001b[35mmar_medium   \u001b[0m\u001b[35m \u001b[0m│\u001b[37m \u001b[0m\u001b[37m0.00000 \u001b[0m\u001b[37m \u001b[0m│\n",
       "│\u001b[35m \u001b[0m\u001b[35mmar_large    \u001b[0m\u001b[35m \u001b[0m│\u001b[37m \u001b[0m\u001b[37m0.31597 \u001b[0m\u001b[37m \u001b[0m│\n",
       "│\u001b[35m \u001b[0m\u001b[35mf1_small     \u001b[0m\u001b[35m \u001b[0m│\u001b[37m \u001b[0m\u001b[37m-1.00000\u001b[0m\u001b[37m \u001b[0m│\n",
       "│\u001b[35m \u001b[0m\u001b[35mf1_medium    \u001b[0m\u001b[35m \u001b[0m│\u001b[37m \u001b[0m\u001b[37mnan     \u001b[0m\u001b[37m \u001b[0m│\n",
       "│\u001b[35m \u001b[0m\u001b[35mf1_large     \u001b[0m\u001b[35m \u001b[0m│\u001b[37m \u001b[0m\u001b[37m0.25468 \u001b[0m\u001b[37m \u001b[0m│\n",
       "└───────────────┴──────────┘\n"
      ]
     },
     "metadata": {},
     "output_type": "display_data"
    },
    {
     "data": {
      "text/html": [
       "<pre style=\"white-space:pre;overflow-x:auto;line-height:normal;font-family:Menlo,'DejaVu Sans Mono',consolas,'Courier New',monospace\"><span style=\"color: #800080; text-decoration-color: #800080; font-weight: bold\">───────────────────────────────────────────────────────────────────────────────────────────────────────────────────</span>\n",
       "</pre>\n"
      ],
      "text/plain": [
       "\u001b[1;35m───────────────────────────────────────────────────────────────────────────────────────────────────────────────────\u001b[0m\n"
      ]
     },
     "metadata": {},
     "output_type": "display_data"
    },
    {
     "data": {
      "text/html": [
       "<pre style=\"white-space:pre;overflow-x:auto;line-height:normal;font-family:Menlo,'DejaVu Sans Mono',consolas,'Courier New',monospace\"><span style=\"color: #008000; text-decoration-color: #008000\">INFO    </span> Validation main metric <span style=\"font-weight: bold\">(</span>detection_head/detection_map<span style=\"font-weight: bold\">)</span>: <span style=\"color: #008080; text-decoration-color: #008080; font-weight: bold\">0.1973</span>                     <a href=\"file:///home/klemen/luxonis/luxonis-train/luxonis_train/models/luxonis_lightning.py\" target=\"_blank\"><span style=\"color: #7f7f7f; text-decoration-color: #7f7f7f\">luxonis_lightning.py</span></a><span style=\"color: #7f7f7f; text-decoration-color: #7f7f7f\">:</span><a href=\"file:///home/klemen/luxonis/luxonis-train/luxonis_train/models/luxonis_lightning.py#986\" target=\"_blank\"><span style=\"color: #7f7f7f; text-decoration-color: #7f7f7f\">986</span></a>\n",
       "</pre>\n"
      ],
      "text/plain": [
       "\u001b[32mINFO    \u001b[0m Validation main metric \u001b[1m(\u001b[0mdetection_head/detection_map\u001b[1m)\u001b[0m: \u001b[1;36m0.1973\u001b[0m                     \u001b]8;id=35113;file:///home/klemen/luxonis/luxonis-train/luxonis_train/models/luxonis_lightning.py\u001b\\\u001b[2mluxonis_lightning.py\u001b[0m\u001b]8;;\u001b\\\u001b[2m:\u001b[0m\u001b]8;id=478944;file:///home/klemen/luxonis/luxonis-train/luxonis_train/models/luxonis_lightning.py#986\u001b\\\u001b[2m986\u001b[0m\u001b]8;;\u001b\\\n"
      ]
     },
     "metadata": {},
     "output_type": "display_data"
    },
    {
     "data": {
      "text/html": [
       "<pre style=\"white-space:pre;overflow-x:auto;line-height:normal;font-family:Menlo,'DejaVu Sans Mono',consolas,'Courier New',monospace\"></pre>\n"
      ],
      "text/plain": []
     },
     "metadata": {},
     "output_type": "display_data"
    },
    {
     "data": {
      "text/html": [
       "<pre style=\"white-space:pre;overflow-x:auto;line-height:normal;font-family:Menlo,'DejaVu Sans Mono',consolas,'Courier New',monospace\">\n",
       "</pre>\n"
      ],
      "text/plain": [
       "\n"
      ]
     },
     "metadata": {},
     "output_type": "display_data"
    },
    {
     "name": "stderr",
     "output_type": "stream",
     "text": [
      "libpng warning: iCCP: known incorrect sRGB profile\n"
     ]
    },
    {
     "data": {
      "text/html": [
       "<pre style=\"white-space:pre;overflow-x:auto;line-height:normal;font-family:Menlo,'DejaVu Sans Mono',consolas,'Courier New',monospace\"></pre>\n"
      ],
      "text/plain": []
     },
     "metadata": {},
     "output_type": "display_data"
    },
    {
     "data": {
      "text/html": [
       "<pre style=\"white-space:pre;overflow-x:auto;line-height:normal;font-family:Menlo,'DejaVu Sans Mono',consolas,'Courier New',monospace\">\n",
       "</pre>\n"
      ],
      "text/plain": [
       "\n"
      ]
     },
     "metadata": {},
     "output_type": "display_data"
    },
    {
     "name": "stderr",
     "output_type": "stream",
     "text": [
      "libpng warning: iCCP: known incorrect sRGB profile\n"
     ]
    },
    {
     "data": {
      "text/html": [
       "<pre style=\"white-space:pre;overflow-x:auto;line-height:normal;font-family:Menlo,'DejaVu Sans Mono',consolas,'Courier New',monospace\"></pre>\n"
      ],
      "text/plain": []
     },
     "metadata": {},
     "output_type": "display_data"
    },
    {
     "data": {
      "text/html": [
       "<pre style=\"white-space:pre;overflow-x:auto;line-height:normal;font-family:Menlo,'DejaVu Sans Mono',consolas,'Courier New',monospace\">\n",
       "</pre>\n"
      ],
      "text/plain": [
       "\n"
      ]
     },
     "metadata": {},
     "output_type": "display_data"
    },
    {
     "name": "stderr",
     "output_type": "stream",
     "text": [
      "libpng warning: iCCP: known incorrect sRGB profile\n"
     ]
    },
    {
     "data": {
      "text/html": [
       "<pre style=\"white-space:pre;overflow-x:auto;line-height:normal;font-family:Menlo,'DejaVu Sans Mono',consolas,'Courier New',monospace\"></pre>\n"
      ],
      "text/plain": []
     },
     "metadata": {},
     "output_type": "display_data"
    },
    {
     "data": {
      "text/html": [
       "<pre style=\"white-space:pre;overflow-x:auto;line-height:normal;font-family:Menlo,'DejaVu Sans Mono',consolas,'Courier New',monospace\">\n",
       "</pre>\n"
      ],
      "text/plain": [
       "\n"
      ]
     },
     "metadata": {},
     "output_type": "display_data"
    },
    {
     "name": "stderr",
     "output_type": "stream",
     "text": [
      "libpng warning: iCCP: known incorrect sRGB profile\n"
     ]
    },
    {
     "data": {
      "text/html": [
       "<pre style=\"white-space:pre;overflow-x:auto;line-height:normal;font-family:Menlo,'DejaVu Sans Mono',consolas,'Courier New',monospace\"></pre>\n"
      ],
      "text/plain": []
     },
     "metadata": {},
     "output_type": "display_data"
    },
    {
     "data": {
      "text/html": [
       "<pre style=\"white-space:pre;overflow-x:auto;line-height:normal;font-family:Menlo,'DejaVu Sans Mono',consolas,'Courier New',monospace\">\n",
       "</pre>\n"
      ],
      "text/plain": [
       "\n"
      ]
     },
     "metadata": {},
     "output_type": "display_data"
    },
    {
     "name": "stderr",
     "output_type": "stream",
     "text": [
      "libpng warning: iCCP: known incorrect sRGB profile\n"
     ]
    },
    {
     "data": {
      "text/html": [
       "<pre style=\"white-space:pre;overflow-x:auto;line-height:normal;font-family:Menlo,'DejaVu Sans Mono',consolas,'Courier New',monospace\"></pre>\n"
      ],
      "text/plain": []
     },
     "metadata": {},
     "output_type": "display_data"
    },
    {
     "data": {
      "text/html": [
       "<pre style=\"white-space:pre;overflow-x:auto;line-height:normal;font-family:Menlo,'DejaVu Sans Mono',consolas,'Courier New',monospace\">\n",
       "</pre>\n"
      ],
      "text/plain": [
       "\n"
      ]
     },
     "metadata": {},
     "output_type": "display_data"
    },
    {
     "name": "stderr",
     "output_type": "stream",
     "text": [
      "libpng warning: iCCP: known incorrect sRGB profile\n"
     ]
    },
    {
     "data": {
      "text/html": [
       "<pre style=\"white-space:pre;overflow-x:auto;line-height:normal;font-family:Menlo,'DejaVu Sans Mono',consolas,'Courier New',monospace\"></pre>\n"
      ],
      "text/plain": []
     },
     "metadata": {},
     "output_type": "display_data"
    },
    {
     "data": {
      "text/html": [
       "<pre style=\"white-space:pre;overflow-x:auto;line-height:normal;font-family:Menlo,'DejaVu Sans Mono',consolas,'Courier New',monospace\">\n",
       "</pre>\n"
      ],
      "text/plain": [
       "\n"
      ]
     },
     "metadata": {},
     "output_type": "display_data"
    },
    {
     "name": "stderr",
     "output_type": "stream",
     "text": [
      "libpng warning: iCCP: known incorrect sRGB profile\n"
     ]
    },
    {
     "data": {
      "text/html": [
       "<pre style=\"white-space:pre;overflow-x:auto;line-height:normal;font-family:Menlo,'DejaVu Sans Mono',consolas,'Courier New',monospace\"></pre>\n"
      ],
      "text/plain": []
     },
     "metadata": {},
     "output_type": "display_data"
    },
    {
     "data": {
      "text/html": [
       "<pre style=\"white-space:pre;overflow-x:auto;line-height:normal;font-family:Menlo,'DejaVu Sans Mono',consolas,'Courier New',monospace\">\n",
       "</pre>\n"
      ],
      "text/plain": [
       "\n"
      ]
     },
     "metadata": {},
     "output_type": "display_data"
    },
    {
     "name": "stderr",
     "output_type": "stream",
     "text": [
      "libpng warning: iCCP: known incorrect sRGB profile\n"
     ]
    },
    {
     "data": {
      "text/html": [
       "<pre style=\"white-space:pre;overflow-x:auto;line-height:normal;font-family:Menlo,'DejaVu Sans Mono',consolas,'Courier New',monospace\"></pre>\n"
      ],
      "text/plain": []
     },
     "metadata": {},
     "output_type": "display_data"
    },
    {
     "data": {
      "text/html": [
       "<pre style=\"white-space:pre;overflow-x:auto;line-height:normal;font-family:Menlo,'DejaVu Sans Mono',consolas,'Courier New',monospace\">\n",
       "</pre>\n"
      ],
      "text/plain": [
       "\n"
      ]
     },
     "metadata": {},
     "output_type": "display_data"
    },
    {
     "name": "stderr",
     "output_type": "stream",
     "text": [
      "libpng warning: iCCP: known incorrect sRGB profile\n"
     ]
    },
    {
     "data": {
      "text/html": [
       "<pre style=\"white-space:pre;overflow-x:auto;line-height:normal;font-family:Menlo,'DejaVu Sans Mono',consolas,'Courier New',monospace\"></pre>\n"
      ],
      "text/plain": []
     },
     "metadata": {},
     "output_type": "display_data"
    },
    {
     "data": {
      "text/html": [
       "<pre style=\"white-space:pre;overflow-x:auto;line-height:normal;font-family:Menlo,'DejaVu Sans Mono',consolas,'Courier New',monospace\">\n",
       "</pre>\n"
      ],
      "text/plain": [
       "\n"
      ]
     },
     "metadata": {},
     "output_type": "display_data"
    },
    {
     "name": "stderr",
     "output_type": "stream",
     "text": [
      "libpng warning: iCCP: known incorrect sRGB profile\n",
      "libpng warning: iCCP: known incorrect sRGB profile\n",
      "libpng warning: iCCP: known incorrect sRGB profile\n",
      "libpng warning: iCCP: known incorrect sRGB profile\n"
     ]
    },
    {
     "data": {
      "text/html": [
       "<pre style=\"white-space:pre;overflow-x:auto;line-height:normal;font-family:Menlo,'DejaVu Sans Mono',consolas,'Courier New',monospace\"><span style=\"color: #008000; text-decoration-color: #008000\">INFO    </span> Computing metrics on val subset <span style=\"color: #808000; text-decoration-color: #808000\">...</span>                                               <a href=\"file:///home/klemen/luxonis/luxonis-train/luxonis_train/models/luxonis_lightning.py\" target=\"_blank\"><span style=\"color: #7f7f7f; text-decoration-color: #7f7f7f\">luxonis_lightning.py</span></a><span style=\"color: #7f7f7f; text-decoration-color: #7f7f7f\">:</span><a href=\"file:///home/klemen/luxonis/luxonis-train/luxonis_train/models/luxonis_lightning.py#770\" target=\"_blank\"><span style=\"color: #7f7f7f; text-decoration-color: #7f7f7f\">770</span></a>\n",
       "</pre>\n"
      ],
      "text/plain": [
       "\u001b[32mINFO    \u001b[0m Computing metrics on val subset \u001b[33m...\u001b[0m                                               \u001b]8;id=557877;file:///home/klemen/luxonis/luxonis-train/luxonis_train/models/luxonis_lightning.py\u001b\\\u001b[2mluxonis_lightning.py\u001b[0m\u001b]8;;\u001b\\\u001b[2m:\u001b[0m\u001b]8;id=338273;file:///home/klemen/luxonis/luxonis-train/luxonis_train/models/luxonis_lightning.py#770\u001b\\\u001b[2m770\u001b[0m\u001b]8;;\u001b\\\n"
      ]
     },
     "metadata": {},
     "output_type": "display_data"
    },
    {
     "data": {
      "text/html": [
       "<pre style=\"white-space:pre;overflow-x:auto;line-height:normal;font-family:Menlo,'DejaVu Sans Mono',consolas,'Courier New',monospace\"><span style=\"color: #008000; text-decoration-color: #008000\">INFO    </span> Metrics computed.                                                                 <a href=\"file:///home/klemen/luxonis/luxonis-train/luxonis_train/models/luxonis_lightning.py\" target=\"_blank\"><span style=\"color: #7f7f7f; text-decoration-color: #7f7f7f\">luxonis_lightning.py</span></a><span style=\"color: #7f7f7f; text-decoration-color: #7f7f7f\">:</span><a href=\"file:///home/klemen/luxonis/luxonis-train/luxonis_train/models/luxonis_lightning.py#772\" target=\"_blank\"><span style=\"color: #7f7f7f; text-decoration-color: #7f7f7f\">772</span></a>\n",
       "</pre>\n"
      ],
      "text/plain": [
       "\u001b[32mINFO    \u001b[0m Metrics computed.                                                                 \u001b]8;id=895179;file:///home/klemen/luxonis/luxonis-train/luxonis_train/models/luxonis_lightning.py\u001b\\\u001b[2mluxonis_lightning.py\u001b[0m\u001b]8;;\u001b\\\u001b[2m:\u001b[0m\u001b]8;id=589465;file:///home/klemen/luxonis/luxonis-train/luxonis_train/models/luxonis_lightning.py#772\u001b\\\u001b[2m772\u001b[0m\u001b]8;;\u001b\\\n"
      ]
     },
     "metadata": {},
     "output_type": "display_data"
    },
    {
     "data": {
      "text/html": [
       "<pre style=\"white-space:pre;overflow-x:auto;line-height:normal;font-family:Menlo,'DejaVu Sans Mono',consolas,'Courier New',monospace\"><span style=\"color: #008000; text-decoration-color: #008000\">INFO    </span> Validation loss: <span style=\"color: #008080; text-decoration-color: #008080; font-weight: bold\">1.6896</span>                                                           <a href=\"file:///home/klemen/luxonis/luxonis-train/luxonis_train/models/luxonis_lightning.py\" target=\"_blank\"><span style=\"color: #7f7f7f; text-decoration-color: #7f7f7f\">luxonis_lightning.py</span></a><span style=\"color: #7f7f7f; text-decoration-color: #7f7f7f\">:</span><a href=\"file:///home/klemen/luxonis/luxonis-train/luxonis_train/models/luxonis_lightning.py#977\" target=\"_blank\"><span style=\"color: #7f7f7f; text-decoration-color: #7f7f7f\">977</span></a>\n",
       "</pre>\n"
      ],
      "text/plain": [
       "\u001b[32mINFO    \u001b[0m Validation loss: \u001b[1;36m1.6896\u001b[0m                                                           \u001b]8;id=900581;file:///home/klemen/luxonis/luxonis-train/luxonis_train/models/luxonis_lightning.py\u001b\\\u001b[2mluxonis_lightning.py\u001b[0m\u001b]8;;\u001b\\\u001b[2m:\u001b[0m\u001b]8;id=663284;file:///home/klemen/luxonis/luxonis-train/luxonis_train/models/luxonis_lightning.py#977\u001b\\\u001b[2m977\u001b[0m\u001b]8;;\u001b\\\n"
      ]
     },
     "metadata": {},
     "output_type": "display_data"
    },
    {
     "data": {
      "text/html": [
       "<pre style=\"white-space:pre;overflow-x:auto;line-height:normal;font-family:Menlo,'DejaVu Sans Mono',consolas,'Courier New',monospace\"><span style=\"color: #800080; text-decoration-color: #800080; font-weight: bold\">─────────────────────────────────────────────────── </span>Validation<span style=\"color: #800080; text-decoration-color: #800080; font-weight: bold\"> ────────────────────────────────────────────────────</span>\n",
       "</pre>\n"
      ],
      "text/plain": [
       "\u001b[1;35m─────────────────────────────────────────────────── \u001b[0mValidation\u001b[1;35m ────────────────────────────────────────────────────\u001b[0m\n"
      ]
     },
     "metadata": {},
     "output_type": "display_data"
    },
    {
     "data": {
      "text/html": [
       "<pre style=\"white-space:pre;overflow-x:auto;line-height:normal;font-family:Menlo,'DejaVu Sans Mono',consolas,'Courier New',monospace\"><span style=\"color: #800080; text-decoration-color: #800080; font-weight: bold\">Loss:</span> <span style=\"color: #c0c0c0; text-decoration-color: #c0c0c0; font-weight: bold\">1.6895812153816223</span>\n",
       "</pre>\n"
      ],
      "text/plain": [
       "\u001b[1;35mLoss:\u001b[0m \u001b[1;37m1.6895812153816223\u001b[0m\n"
      ]
     },
     "metadata": {},
     "output_type": "display_data"
    },
    {
     "data": {
      "text/html": [
       "<pre style=\"white-space:pre;overflow-x:auto;line-height:normal;font-family:Menlo,'DejaVu Sans Mono',consolas,'Courier New',monospace\"><span style=\"color: #800080; text-decoration-color: #800080; font-weight: bold\">Metrics:</span>\n",
       "</pre>\n"
      ],
      "text/plain": [
       "\u001b[1;35mMetrics:\u001b[0m\n"
      ]
     },
     "metadata": {},
     "output_type": "display_data"
    },
    {
     "data": {
      "text/html": [
       "<pre style=\"white-space:pre;overflow-x:auto;line-height:normal;font-family:Menlo,'DejaVu Sans Mono',consolas,'Courier New',monospace\"><span style=\"font-style: italic\">       detection_head       </span>\n",
       "┏━━━━━━━━━━━━━━━┳━━━━━━━━━━┓\n",
       "┃<span style=\"color: #800080; text-decoration-color: #800080; font-weight: bold\"> Name          </span>┃<span style=\"color: #800080; text-decoration-color: #800080; font-weight: bold\"> Value    </span>┃\n",
       "┡━━━━━━━━━━━━━━━╇━━━━━━━━━━┩\n",
       "│<span style=\"color: #800080; text-decoration-color: #800080\"> detection_map </span>│<span style=\"color: #c0c0c0; text-decoration-color: #c0c0c0\"> 0.20915  </span>│\n",
       "│<span style=\"color: #800080; text-decoration-color: #800080\"> map_50        </span>│<span style=\"color: #c0c0c0; text-decoration-color: #c0c0c0\"> 0.49184  </span>│\n",
       "│<span style=\"color: #800080; text-decoration-color: #800080\"> map_75        </span>│<span style=\"color: #c0c0c0; text-decoration-color: #c0c0c0\"> 0.11970  </span>│\n",
       "│<span style=\"color: #800080; text-decoration-color: #800080\"> map_small     </span>│<span style=\"color: #c0c0c0; text-decoration-color: #c0c0c0\"> -1.00000 </span>│\n",
       "│<span style=\"color: #800080; text-decoration-color: #800080\"> map_medium    </span>│<span style=\"color: #c0c0c0; text-decoration-color: #c0c0c0\"> 0.00000  </span>│\n",
       "│<span style=\"color: #800080; text-decoration-color: #800080\"> map_large     </span>│<span style=\"color: #c0c0c0; text-decoration-color: #c0c0c0\"> 0.22525  </span>│\n",
       "│<span style=\"color: #800080; text-decoration-color: #800080\"> mar_1         </span>│<span style=\"color: #c0c0c0; text-decoration-color: #c0c0c0\"> 0.22391  </span>│\n",
       "│<span style=\"color: #800080; text-decoration-color: #800080\"> mar_10        </span>│<span style=\"color: #c0c0c0; text-decoration-color: #c0c0c0\"> 0.30974  </span>│\n",
       "│<span style=\"color: #800080; text-decoration-color: #800080\"> mar_100       </span>│<span style=\"color: #c0c0c0; text-decoration-color: #c0c0c0\"> 0.30974  </span>│\n",
       "│<span style=\"color: #800080; text-decoration-color: #800080\"> mar_small     </span>│<span style=\"color: #c0c0c0; text-decoration-color: #c0c0c0\"> -1.00000 </span>│\n",
       "│<span style=\"color: #800080; text-decoration-color: #800080\"> mar_medium    </span>│<span style=\"color: #c0c0c0; text-decoration-color: #c0c0c0\"> 0.00000  </span>│\n",
       "│<span style=\"color: #800080; text-decoration-color: #800080\"> mar_large     </span>│<span style=\"color: #c0c0c0; text-decoration-color: #c0c0c0\"> 0.33337  </span>│\n",
       "│<span style=\"color: #800080; text-decoration-color: #800080\"> f1_small      </span>│<span style=\"color: #c0c0c0; text-decoration-color: #c0c0c0\"> -1.00000 </span>│\n",
       "│<span style=\"color: #800080; text-decoration-color: #800080\"> f1_medium     </span>│<span style=\"color: #c0c0c0; text-decoration-color: #c0c0c0\"> nan      </span>│\n",
       "│<span style=\"color: #800080; text-decoration-color: #800080\"> f1_large      </span>│<span style=\"color: #c0c0c0; text-decoration-color: #c0c0c0\"> 0.26885  </span>│\n",
       "└───────────────┴──────────┘\n",
       "</pre>\n"
      ],
      "text/plain": [
       "\u001b[3m       detection_head       \u001b[0m\n",
       "┏━━━━━━━━━━━━━━━┳━━━━━━━━━━┓\n",
       "┃\u001b[1;35m \u001b[0m\u001b[1;35mName         \u001b[0m\u001b[1;35m \u001b[0m┃\u001b[1;35m \u001b[0m\u001b[1;35mValue   \u001b[0m\u001b[1;35m \u001b[0m┃\n",
       "┡━━━━━━━━━━━━━━━╇━━━━━━━━━━┩\n",
       "│\u001b[35m \u001b[0m\u001b[35mdetection_map\u001b[0m\u001b[35m \u001b[0m│\u001b[37m \u001b[0m\u001b[37m0.20915 \u001b[0m\u001b[37m \u001b[0m│\n",
       "│\u001b[35m \u001b[0m\u001b[35mmap_50       \u001b[0m\u001b[35m \u001b[0m│\u001b[37m \u001b[0m\u001b[37m0.49184 \u001b[0m\u001b[37m \u001b[0m│\n",
       "│\u001b[35m \u001b[0m\u001b[35mmap_75       \u001b[0m\u001b[35m \u001b[0m│\u001b[37m \u001b[0m\u001b[37m0.11970 \u001b[0m\u001b[37m \u001b[0m│\n",
       "│\u001b[35m \u001b[0m\u001b[35mmap_small    \u001b[0m\u001b[35m \u001b[0m│\u001b[37m \u001b[0m\u001b[37m-1.00000\u001b[0m\u001b[37m \u001b[0m│\n",
       "│\u001b[35m \u001b[0m\u001b[35mmap_medium   \u001b[0m\u001b[35m \u001b[0m│\u001b[37m \u001b[0m\u001b[37m0.00000 \u001b[0m\u001b[37m \u001b[0m│\n",
       "│\u001b[35m \u001b[0m\u001b[35mmap_large    \u001b[0m\u001b[35m \u001b[0m│\u001b[37m \u001b[0m\u001b[37m0.22525 \u001b[0m\u001b[37m \u001b[0m│\n",
       "│\u001b[35m \u001b[0m\u001b[35mmar_1        \u001b[0m\u001b[35m \u001b[0m│\u001b[37m \u001b[0m\u001b[37m0.22391 \u001b[0m\u001b[37m \u001b[0m│\n",
       "│\u001b[35m \u001b[0m\u001b[35mmar_10       \u001b[0m\u001b[35m \u001b[0m│\u001b[37m \u001b[0m\u001b[37m0.30974 \u001b[0m\u001b[37m \u001b[0m│\n",
       "│\u001b[35m \u001b[0m\u001b[35mmar_100      \u001b[0m\u001b[35m \u001b[0m│\u001b[37m \u001b[0m\u001b[37m0.30974 \u001b[0m\u001b[37m \u001b[0m│\n",
       "│\u001b[35m \u001b[0m\u001b[35mmar_small    \u001b[0m\u001b[35m \u001b[0m│\u001b[37m \u001b[0m\u001b[37m-1.00000\u001b[0m\u001b[37m \u001b[0m│\n",
       "│\u001b[35m \u001b[0m\u001b[35mmar_medium   \u001b[0m\u001b[35m \u001b[0m│\u001b[37m \u001b[0m\u001b[37m0.00000 \u001b[0m\u001b[37m \u001b[0m│\n",
       "│\u001b[35m \u001b[0m\u001b[35mmar_large    \u001b[0m\u001b[35m \u001b[0m│\u001b[37m \u001b[0m\u001b[37m0.33337 \u001b[0m\u001b[37m \u001b[0m│\n",
       "│\u001b[35m \u001b[0m\u001b[35mf1_small     \u001b[0m\u001b[35m \u001b[0m│\u001b[37m \u001b[0m\u001b[37m-1.00000\u001b[0m\u001b[37m \u001b[0m│\n",
       "│\u001b[35m \u001b[0m\u001b[35mf1_medium    \u001b[0m\u001b[35m \u001b[0m│\u001b[37m \u001b[0m\u001b[37mnan     \u001b[0m\u001b[37m \u001b[0m│\n",
       "│\u001b[35m \u001b[0m\u001b[35mf1_large     \u001b[0m\u001b[35m \u001b[0m│\u001b[37m \u001b[0m\u001b[37m0.26885 \u001b[0m\u001b[37m \u001b[0m│\n",
       "└───────────────┴──────────┘\n"
      ]
     },
     "metadata": {},
     "output_type": "display_data"
    },
    {
     "data": {
      "text/html": [
       "<pre style=\"white-space:pre;overflow-x:auto;line-height:normal;font-family:Menlo,'DejaVu Sans Mono',consolas,'Courier New',monospace\"><span style=\"color: #800080; text-decoration-color: #800080; font-weight: bold\">───────────────────────────────────────────────────────────────────────────────────────────────────────────────────</span>\n",
       "</pre>\n"
      ],
      "text/plain": [
       "\u001b[1;35m───────────────────────────────────────────────────────────────────────────────────────────────────────────────────\u001b[0m\n"
      ]
     },
     "metadata": {},
     "output_type": "display_data"
    },
    {
     "data": {
      "text/html": [
       "<pre style=\"white-space:pre;overflow-x:auto;line-height:normal;font-family:Menlo,'DejaVu Sans Mono',consolas,'Courier New',monospace\"><span style=\"color: #008000; text-decoration-color: #008000\">INFO    </span> Validation main metric <span style=\"font-weight: bold\">(</span>detection_head/detection_map<span style=\"font-weight: bold\">)</span>: <span style=\"color: #008080; text-decoration-color: #008080; font-weight: bold\">0.2092</span>                     <a href=\"file:///home/klemen/luxonis/luxonis-train/luxonis_train/models/luxonis_lightning.py\" target=\"_blank\"><span style=\"color: #7f7f7f; text-decoration-color: #7f7f7f\">luxonis_lightning.py</span></a><span style=\"color: #7f7f7f; text-decoration-color: #7f7f7f\">:</span><a href=\"file:///home/klemen/luxonis/luxonis-train/luxonis_train/models/luxonis_lightning.py#986\" target=\"_blank\"><span style=\"color: #7f7f7f; text-decoration-color: #7f7f7f\">986</span></a>\n",
       "</pre>\n"
      ],
      "text/plain": [
       "\u001b[32mINFO    \u001b[0m Validation main metric \u001b[1m(\u001b[0mdetection_head/detection_map\u001b[1m)\u001b[0m: \u001b[1;36m0.2092\u001b[0m                     \u001b]8;id=995485;file:///home/klemen/luxonis/luxonis-train/luxonis_train/models/luxonis_lightning.py\u001b\\\u001b[2mluxonis_lightning.py\u001b[0m\u001b]8;;\u001b\\\u001b[2m:\u001b[0m\u001b]8;id=55457;file:///home/klemen/luxonis/luxonis-train/luxonis_train/models/luxonis_lightning.py#986\u001b\\\u001b[2m986\u001b[0m\u001b]8;;\u001b\\\n"
      ]
     },
     "metadata": {},
     "output_type": "display_data"
    },
    {
     "data": {
      "text/html": [
       "<pre style=\"white-space:pre;overflow-x:auto;line-height:normal;font-family:Menlo,'DejaVu Sans Mono',consolas,'Courier New',monospace\"></pre>\n"
      ],
      "text/plain": []
     },
     "metadata": {},
     "output_type": "display_data"
    },
    {
     "data": {
      "text/html": [
       "<pre style=\"white-space:pre;overflow-x:auto;line-height:normal;font-family:Menlo,'DejaVu Sans Mono',consolas,'Courier New',monospace\">\n",
       "</pre>\n"
      ],
      "text/plain": [
       "\n"
      ]
     },
     "metadata": {},
     "output_type": "display_data"
    },
    {
     "name": "stderr",
     "output_type": "stream",
     "text": [
      "libpng warning: iCCP: known incorrect sRGB profile\n"
     ]
    },
    {
     "data": {
      "text/html": [
       "<pre style=\"white-space:pre;overflow-x:auto;line-height:normal;font-family:Menlo,'DejaVu Sans Mono',consolas,'Courier New',monospace\"></pre>\n"
      ],
      "text/plain": []
     },
     "metadata": {},
     "output_type": "display_data"
    },
    {
     "data": {
      "text/html": [
       "<pre style=\"white-space:pre;overflow-x:auto;line-height:normal;font-family:Menlo,'DejaVu Sans Mono',consolas,'Courier New',monospace\">\n",
       "</pre>\n"
      ],
      "text/plain": [
       "\n"
      ]
     },
     "metadata": {},
     "output_type": "display_data"
    },
    {
     "name": "stderr",
     "output_type": "stream",
     "text": [
      "libpng warning: iCCP: known incorrect sRGB profile\n"
     ]
    },
    {
     "data": {
      "text/html": [
       "<pre style=\"white-space:pre;overflow-x:auto;line-height:normal;font-family:Menlo,'DejaVu Sans Mono',consolas,'Courier New',monospace\"></pre>\n"
      ],
      "text/plain": []
     },
     "metadata": {},
     "output_type": "display_data"
    },
    {
     "data": {
      "text/html": [
       "<pre style=\"white-space:pre;overflow-x:auto;line-height:normal;font-family:Menlo,'DejaVu Sans Mono',consolas,'Courier New',monospace\">\n",
       "</pre>\n"
      ],
      "text/plain": [
       "\n"
      ]
     },
     "metadata": {},
     "output_type": "display_data"
    },
    {
     "name": "stderr",
     "output_type": "stream",
     "text": [
      "libpng warning: iCCP: known incorrect sRGB profile\n"
     ]
    },
    {
     "data": {
      "text/html": [
       "<pre style=\"white-space:pre;overflow-x:auto;line-height:normal;font-family:Menlo,'DejaVu Sans Mono',consolas,'Courier New',monospace\"></pre>\n"
      ],
      "text/plain": []
     },
     "metadata": {},
     "output_type": "display_data"
    },
    {
     "data": {
      "text/html": [
       "<pre style=\"white-space:pre;overflow-x:auto;line-height:normal;font-family:Menlo,'DejaVu Sans Mono',consolas,'Courier New',monospace\">\n",
       "</pre>\n"
      ],
      "text/plain": [
       "\n"
      ]
     },
     "metadata": {},
     "output_type": "display_data"
    },
    {
     "name": "stderr",
     "output_type": "stream",
     "text": [
      "libpng warning: iCCP: known incorrect sRGB profile\n"
     ]
    },
    {
     "data": {
      "text/html": [
       "<pre style=\"white-space:pre;overflow-x:auto;line-height:normal;font-family:Menlo,'DejaVu Sans Mono',consolas,'Courier New',monospace\"></pre>\n"
      ],
      "text/plain": []
     },
     "metadata": {},
     "output_type": "display_data"
    },
    {
     "data": {
      "text/html": [
       "<pre style=\"white-space:pre;overflow-x:auto;line-height:normal;font-family:Menlo,'DejaVu Sans Mono',consolas,'Courier New',monospace\">\n",
       "</pre>\n"
      ],
      "text/plain": [
       "\n"
      ]
     },
     "metadata": {},
     "output_type": "display_data"
    },
    {
     "name": "stderr",
     "output_type": "stream",
     "text": [
      "libpng warning: iCCP: known incorrect sRGB profile\n"
     ]
    },
    {
     "data": {
      "text/html": [
       "<pre style=\"white-space:pre;overflow-x:auto;line-height:normal;font-family:Menlo,'DejaVu Sans Mono',consolas,'Courier New',monospace\"></pre>\n"
      ],
      "text/plain": []
     },
     "metadata": {},
     "output_type": "display_data"
    },
    {
     "data": {
      "text/html": [
       "<pre style=\"white-space:pre;overflow-x:auto;line-height:normal;font-family:Menlo,'DejaVu Sans Mono',consolas,'Courier New',monospace\">\n",
       "</pre>\n"
      ],
      "text/plain": [
       "\n"
      ]
     },
     "metadata": {},
     "output_type": "display_data"
    },
    {
     "name": "stderr",
     "output_type": "stream",
     "text": [
      "libpng warning: iCCP: known incorrect sRGB profile\n"
     ]
    },
    {
     "data": {
      "text/html": [
       "<pre style=\"white-space:pre;overflow-x:auto;line-height:normal;font-family:Menlo,'DejaVu Sans Mono',consolas,'Courier New',monospace\"></pre>\n"
      ],
      "text/plain": []
     },
     "metadata": {},
     "output_type": "display_data"
    },
    {
     "data": {
      "text/html": [
       "<pre style=\"white-space:pre;overflow-x:auto;line-height:normal;font-family:Menlo,'DejaVu Sans Mono',consolas,'Courier New',monospace\">\n",
       "</pre>\n"
      ],
      "text/plain": [
       "\n"
      ]
     },
     "metadata": {},
     "output_type": "display_data"
    },
    {
     "name": "stderr",
     "output_type": "stream",
     "text": [
      "libpng warning: iCCP: known incorrect sRGB profile\n"
     ]
    },
    {
     "data": {
      "text/html": [
       "<pre style=\"white-space:pre;overflow-x:auto;line-height:normal;font-family:Menlo,'DejaVu Sans Mono',consolas,'Courier New',monospace\"></pre>\n"
      ],
      "text/plain": []
     },
     "metadata": {},
     "output_type": "display_data"
    },
    {
     "data": {
      "text/html": [
       "<pre style=\"white-space:pre;overflow-x:auto;line-height:normal;font-family:Menlo,'DejaVu Sans Mono',consolas,'Courier New',monospace\">\n",
       "</pre>\n"
      ],
      "text/plain": [
       "\n"
      ]
     },
     "metadata": {},
     "output_type": "display_data"
    },
    {
     "name": "stderr",
     "output_type": "stream",
     "text": [
      "libpng warning: iCCP: known incorrect sRGB profile\n"
     ]
    },
    {
     "data": {
      "text/html": [
       "<pre style=\"white-space:pre;overflow-x:auto;line-height:normal;font-family:Menlo,'DejaVu Sans Mono',consolas,'Courier New',monospace\"></pre>\n"
      ],
      "text/plain": []
     },
     "metadata": {},
     "output_type": "display_data"
    },
    {
     "data": {
      "text/html": [
       "<pre style=\"white-space:pre;overflow-x:auto;line-height:normal;font-family:Menlo,'DejaVu Sans Mono',consolas,'Courier New',monospace\">\n",
       "</pre>\n"
      ],
      "text/plain": [
       "\n"
      ]
     },
     "metadata": {},
     "output_type": "display_data"
    },
    {
     "name": "stderr",
     "output_type": "stream",
     "text": [
      "libpng warning: iCCP: known incorrect sRGB profile\n"
     ]
    },
    {
     "data": {
      "text/html": [
       "<pre style=\"white-space:pre;overflow-x:auto;line-height:normal;font-family:Menlo,'DejaVu Sans Mono',consolas,'Courier New',monospace\"></pre>\n"
      ],
      "text/plain": []
     },
     "metadata": {},
     "output_type": "display_data"
    },
    {
     "data": {
      "text/html": [
       "<pre style=\"white-space:pre;overflow-x:auto;line-height:normal;font-family:Menlo,'DejaVu Sans Mono',consolas,'Courier New',monospace\">\n",
       "</pre>\n"
      ],
      "text/plain": [
       "\n"
      ]
     },
     "metadata": {},
     "output_type": "display_data"
    },
    {
     "name": "stderr",
     "output_type": "stream",
     "text": [
      "libpng warning: iCCP: known incorrect sRGB profile\n",
      "libpng warning: iCCP: known incorrect sRGB profile\n",
      "libpng warning: iCCP: known incorrect sRGB profile\n",
      "libpng warning: iCCP: known incorrect sRGB profile\n"
     ]
    },
    {
     "data": {
      "text/html": [
       "<pre style=\"white-space:pre;overflow-x:auto;line-height:normal;font-family:Menlo,'DejaVu Sans Mono',consolas,'Courier New',monospace\"><span style=\"color: #008000; text-decoration-color: #008000\">INFO    </span> Computing metrics on val subset <span style=\"color: #808000; text-decoration-color: #808000\">...</span>                                               <a href=\"file:///home/klemen/luxonis/luxonis-train/luxonis_train/models/luxonis_lightning.py\" target=\"_blank\"><span style=\"color: #7f7f7f; text-decoration-color: #7f7f7f\">luxonis_lightning.py</span></a><span style=\"color: #7f7f7f; text-decoration-color: #7f7f7f\">:</span><a href=\"file:///home/klemen/luxonis/luxonis-train/luxonis_train/models/luxonis_lightning.py#770\" target=\"_blank\"><span style=\"color: #7f7f7f; text-decoration-color: #7f7f7f\">770</span></a>\n",
       "</pre>\n"
      ],
      "text/plain": [
       "\u001b[32mINFO    \u001b[0m Computing metrics on val subset \u001b[33m...\u001b[0m                                               \u001b]8;id=776502;file:///home/klemen/luxonis/luxonis-train/luxonis_train/models/luxonis_lightning.py\u001b\\\u001b[2mluxonis_lightning.py\u001b[0m\u001b]8;;\u001b\\\u001b[2m:\u001b[0m\u001b]8;id=534123;file:///home/klemen/luxonis/luxonis-train/luxonis_train/models/luxonis_lightning.py#770\u001b\\\u001b[2m770\u001b[0m\u001b]8;;\u001b\\\n"
      ]
     },
     "metadata": {},
     "output_type": "display_data"
    },
    {
     "data": {
      "text/html": [
       "<pre style=\"white-space:pre;overflow-x:auto;line-height:normal;font-family:Menlo,'DejaVu Sans Mono',consolas,'Courier New',monospace\"><span style=\"color: #008000; text-decoration-color: #008000\">INFO    </span> Metrics computed.                                                                 <a href=\"file:///home/klemen/luxonis/luxonis-train/luxonis_train/models/luxonis_lightning.py\" target=\"_blank\"><span style=\"color: #7f7f7f; text-decoration-color: #7f7f7f\">luxonis_lightning.py</span></a><span style=\"color: #7f7f7f; text-decoration-color: #7f7f7f\">:</span><a href=\"file:///home/klemen/luxonis/luxonis-train/luxonis_train/models/luxonis_lightning.py#772\" target=\"_blank\"><span style=\"color: #7f7f7f; text-decoration-color: #7f7f7f\">772</span></a>\n",
       "</pre>\n"
      ],
      "text/plain": [
       "\u001b[32mINFO    \u001b[0m Metrics computed.                                                                 \u001b]8;id=87985;file:///home/klemen/luxonis/luxonis-train/luxonis_train/models/luxonis_lightning.py\u001b\\\u001b[2mluxonis_lightning.py\u001b[0m\u001b]8;;\u001b\\\u001b[2m:\u001b[0m\u001b]8;id=185696;file:///home/klemen/luxonis/luxonis-train/luxonis_train/models/luxonis_lightning.py#772\u001b\\\u001b[2m772\u001b[0m\u001b]8;;\u001b\\\n"
      ]
     },
     "metadata": {},
     "output_type": "display_data"
    },
    {
     "data": {
      "text/html": [
       "<pre style=\"white-space:pre;overflow-x:auto;line-height:normal;font-family:Menlo,'DejaVu Sans Mono',consolas,'Courier New',monospace\"><span style=\"color: #008000; text-decoration-color: #008000\">INFO    </span> Validation loss: <span style=\"color: #008080; text-decoration-color: #008080; font-weight: bold\">1.6631</span>                                                           <a href=\"file:///home/klemen/luxonis/luxonis-train/luxonis_train/models/luxonis_lightning.py\" target=\"_blank\"><span style=\"color: #7f7f7f; text-decoration-color: #7f7f7f\">luxonis_lightning.py</span></a><span style=\"color: #7f7f7f; text-decoration-color: #7f7f7f\">:</span><a href=\"file:///home/klemen/luxonis/luxonis-train/luxonis_train/models/luxonis_lightning.py#977\" target=\"_blank\"><span style=\"color: #7f7f7f; text-decoration-color: #7f7f7f\">977</span></a>\n",
       "</pre>\n"
      ],
      "text/plain": [
       "\u001b[32mINFO    \u001b[0m Validation loss: \u001b[1;36m1.6631\u001b[0m                                                           \u001b]8;id=234264;file:///home/klemen/luxonis/luxonis-train/luxonis_train/models/luxonis_lightning.py\u001b\\\u001b[2mluxonis_lightning.py\u001b[0m\u001b]8;;\u001b\\\u001b[2m:\u001b[0m\u001b]8;id=258490;file:///home/klemen/luxonis/luxonis-train/luxonis_train/models/luxonis_lightning.py#977\u001b\\\u001b[2m977\u001b[0m\u001b]8;;\u001b\\\n"
      ]
     },
     "metadata": {},
     "output_type": "display_data"
    },
    {
     "data": {
      "text/html": [
       "<pre style=\"white-space:pre;overflow-x:auto;line-height:normal;font-family:Menlo,'DejaVu Sans Mono',consolas,'Courier New',monospace\"><span style=\"color: #800080; text-decoration-color: #800080; font-weight: bold\">─────────────────────────────────────────────────── </span>Validation<span style=\"color: #800080; text-decoration-color: #800080; font-weight: bold\"> ────────────────────────────────────────────────────</span>\n",
       "</pre>\n"
      ],
      "text/plain": [
       "\u001b[1;35m─────────────────────────────────────────────────── \u001b[0mValidation\u001b[1;35m ────────────────────────────────────────────────────\u001b[0m\n"
      ]
     },
     "metadata": {},
     "output_type": "display_data"
    },
    {
     "data": {
      "text/html": [
       "<pre style=\"white-space:pre;overflow-x:auto;line-height:normal;font-family:Menlo,'DejaVu Sans Mono',consolas,'Courier New',monospace\"><span style=\"color: #800080; text-decoration-color: #800080; font-weight: bold\">Loss:</span> <span style=\"color: #c0c0c0; text-decoration-color: #c0c0c0; font-weight: bold\">1.6631345947583516</span>\n",
       "</pre>\n"
      ],
      "text/plain": [
       "\u001b[1;35mLoss:\u001b[0m \u001b[1;37m1.6631345947583516\u001b[0m\n"
      ]
     },
     "metadata": {},
     "output_type": "display_data"
    },
    {
     "data": {
      "text/html": [
       "<pre style=\"white-space:pre;overflow-x:auto;line-height:normal;font-family:Menlo,'DejaVu Sans Mono',consolas,'Courier New',monospace\"><span style=\"color: #800080; text-decoration-color: #800080; font-weight: bold\">Metrics:</span>\n",
       "</pre>\n"
      ],
      "text/plain": [
       "\u001b[1;35mMetrics:\u001b[0m\n"
      ]
     },
     "metadata": {},
     "output_type": "display_data"
    },
    {
     "data": {
      "text/html": [
       "<pre style=\"white-space:pre;overflow-x:auto;line-height:normal;font-family:Menlo,'DejaVu Sans Mono',consolas,'Courier New',monospace\"><span style=\"font-style: italic\">       detection_head       </span>\n",
       "┏━━━━━━━━━━━━━━━┳━━━━━━━━━━┓\n",
       "┃<span style=\"color: #800080; text-decoration-color: #800080; font-weight: bold\"> Name          </span>┃<span style=\"color: #800080; text-decoration-color: #800080; font-weight: bold\"> Value    </span>┃\n",
       "┡━━━━━━━━━━━━━━━╇━━━━━━━━━━┩\n",
       "│<span style=\"color: #800080; text-decoration-color: #800080\"> detection_map </span>│<span style=\"color: #c0c0c0; text-decoration-color: #c0c0c0\"> 0.24216  </span>│\n",
       "│<span style=\"color: #800080; text-decoration-color: #800080\"> map_50        </span>│<span style=\"color: #c0c0c0; text-decoration-color: #c0c0c0\"> 0.51871  </span>│\n",
       "│<span style=\"color: #800080; text-decoration-color: #800080\"> map_75        </span>│<span style=\"color: #c0c0c0; text-decoration-color: #c0c0c0\"> 0.23415  </span>│\n",
       "│<span style=\"color: #800080; text-decoration-color: #800080\"> map_small     </span>│<span style=\"color: #c0c0c0; text-decoration-color: #c0c0c0\"> -1.00000 </span>│\n",
       "│<span style=\"color: #800080; text-decoration-color: #800080\"> map_medium    </span>│<span style=\"color: #c0c0c0; text-decoration-color: #c0c0c0\"> 0.15099  </span>│\n",
       "│<span style=\"color: #800080; text-decoration-color: #800080\"> map_large     </span>│<span style=\"color: #c0c0c0; text-decoration-color: #c0c0c0\"> 0.25547  </span>│\n",
       "│<span style=\"color: #800080; text-decoration-color: #800080\"> mar_1         </span>│<span style=\"color: #c0c0c0; text-decoration-color: #c0c0c0\"> 0.24356  </span>│\n",
       "│<span style=\"color: #800080; text-decoration-color: #800080\"> mar_10        </span>│<span style=\"color: #c0c0c0; text-decoration-color: #c0c0c0\"> 0.34492  </span>│\n",
       "│<span style=\"color: #800080; text-decoration-color: #800080\"> mar_100       </span>│<span style=\"color: #c0c0c0; text-decoration-color: #c0c0c0\"> 0.34492  </span>│\n",
       "│<span style=\"color: #800080; text-decoration-color: #800080\"> mar_small     </span>│<span style=\"color: #c0c0c0; text-decoration-color: #c0c0c0\"> -1.00000 </span>│\n",
       "│<span style=\"color: #800080; text-decoration-color: #800080\"> mar_medium    </span>│<span style=\"color: #c0c0c0; text-decoration-color: #c0c0c0\"> 0.15000  </span>│\n",
       "│<span style=\"color: #800080; text-decoration-color: #800080\"> mar_large     </span>│<span style=\"color: #c0c0c0; text-decoration-color: #c0c0c0\"> 0.36267  </span>│\n",
       "│<span style=\"color: #800080; text-decoration-color: #800080\"> f1_small      </span>│<span style=\"color: #c0c0c0; text-decoration-color: #c0c0c0\"> -1.00000 </span>│\n",
       "│<span style=\"color: #800080; text-decoration-color: #800080\"> f1_medium     </span>│<span style=\"color: #c0c0c0; text-decoration-color: #c0c0c0\"> 0.15049  </span>│\n",
       "│<span style=\"color: #800080; text-decoration-color: #800080\"> f1_large      </span>│<span style=\"color: #c0c0c0; text-decoration-color: #c0c0c0\"> 0.29978  </span>│\n",
       "└───────────────┴──────────┘\n",
       "</pre>\n"
      ],
      "text/plain": [
       "\u001b[3m       detection_head       \u001b[0m\n",
       "┏━━━━━━━━━━━━━━━┳━━━━━━━━━━┓\n",
       "┃\u001b[1;35m \u001b[0m\u001b[1;35mName         \u001b[0m\u001b[1;35m \u001b[0m┃\u001b[1;35m \u001b[0m\u001b[1;35mValue   \u001b[0m\u001b[1;35m \u001b[0m┃\n",
       "┡━━━━━━━━━━━━━━━╇━━━━━━━━━━┩\n",
       "│\u001b[35m \u001b[0m\u001b[35mdetection_map\u001b[0m\u001b[35m \u001b[0m│\u001b[37m \u001b[0m\u001b[37m0.24216 \u001b[0m\u001b[37m \u001b[0m│\n",
       "│\u001b[35m \u001b[0m\u001b[35mmap_50       \u001b[0m\u001b[35m \u001b[0m│\u001b[37m \u001b[0m\u001b[37m0.51871 \u001b[0m\u001b[37m \u001b[0m│\n",
       "│\u001b[35m \u001b[0m\u001b[35mmap_75       \u001b[0m\u001b[35m \u001b[0m│\u001b[37m \u001b[0m\u001b[37m0.23415 \u001b[0m\u001b[37m \u001b[0m│\n",
       "│\u001b[35m \u001b[0m\u001b[35mmap_small    \u001b[0m\u001b[35m \u001b[0m│\u001b[37m \u001b[0m\u001b[37m-1.00000\u001b[0m\u001b[37m \u001b[0m│\n",
       "│\u001b[35m \u001b[0m\u001b[35mmap_medium   \u001b[0m\u001b[35m \u001b[0m│\u001b[37m \u001b[0m\u001b[37m0.15099 \u001b[0m\u001b[37m \u001b[0m│\n",
       "│\u001b[35m \u001b[0m\u001b[35mmap_large    \u001b[0m\u001b[35m \u001b[0m│\u001b[37m \u001b[0m\u001b[37m0.25547 \u001b[0m\u001b[37m \u001b[0m│\n",
       "│\u001b[35m \u001b[0m\u001b[35mmar_1        \u001b[0m\u001b[35m \u001b[0m│\u001b[37m \u001b[0m\u001b[37m0.24356 \u001b[0m\u001b[37m \u001b[0m│\n",
       "│\u001b[35m \u001b[0m\u001b[35mmar_10       \u001b[0m\u001b[35m \u001b[0m│\u001b[37m \u001b[0m\u001b[37m0.34492 \u001b[0m\u001b[37m \u001b[0m│\n",
       "│\u001b[35m \u001b[0m\u001b[35mmar_100      \u001b[0m\u001b[35m \u001b[0m│\u001b[37m \u001b[0m\u001b[37m0.34492 \u001b[0m\u001b[37m \u001b[0m│\n",
       "│\u001b[35m \u001b[0m\u001b[35mmar_small    \u001b[0m\u001b[35m \u001b[0m│\u001b[37m \u001b[0m\u001b[37m-1.00000\u001b[0m\u001b[37m \u001b[0m│\n",
       "│\u001b[35m \u001b[0m\u001b[35mmar_medium   \u001b[0m\u001b[35m \u001b[0m│\u001b[37m \u001b[0m\u001b[37m0.15000 \u001b[0m\u001b[37m \u001b[0m│\n",
       "│\u001b[35m \u001b[0m\u001b[35mmar_large    \u001b[0m\u001b[35m \u001b[0m│\u001b[37m \u001b[0m\u001b[37m0.36267 \u001b[0m\u001b[37m \u001b[0m│\n",
       "│\u001b[35m \u001b[0m\u001b[35mf1_small     \u001b[0m\u001b[35m \u001b[0m│\u001b[37m \u001b[0m\u001b[37m-1.00000\u001b[0m\u001b[37m \u001b[0m│\n",
       "│\u001b[35m \u001b[0m\u001b[35mf1_medium    \u001b[0m\u001b[35m \u001b[0m│\u001b[37m \u001b[0m\u001b[37m0.15049 \u001b[0m\u001b[37m \u001b[0m│\n",
       "│\u001b[35m \u001b[0m\u001b[35mf1_large     \u001b[0m\u001b[35m \u001b[0m│\u001b[37m \u001b[0m\u001b[37m0.29978 \u001b[0m\u001b[37m \u001b[0m│\n",
       "└───────────────┴──────────┘\n"
      ]
     },
     "metadata": {},
     "output_type": "display_data"
    },
    {
     "data": {
      "text/html": [
       "<pre style=\"white-space:pre;overflow-x:auto;line-height:normal;font-family:Menlo,'DejaVu Sans Mono',consolas,'Courier New',monospace\"><span style=\"color: #800080; text-decoration-color: #800080; font-weight: bold\">───────────────────────────────────────────────────────────────────────────────────────────────────────────────────</span>\n",
       "</pre>\n"
      ],
      "text/plain": [
       "\u001b[1;35m───────────────────────────────────────────────────────────────────────────────────────────────────────────────────\u001b[0m\n"
      ]
     },
     "metadata": {},
     "output_type": "display_data"
    },
    {
     "data": {
      "text/html": [
       "<pre style=\"white-space:pre;overflow-x:auto;line-height:normal;font-family:Menlo,'DejaVu Sans Mono',consolas,'Courier New',monospace\"><span style=\"color: #008000; text-decoration-color: #008000\">INFO    </span> Validation main metric <span style=\"font-weight: bold\">(</span>detection_head/detection_map<span style=\"font-weight: bold\">)</span>: <span style=\"color: #008080; text-decoration-color: #008080; font-weight: bold\">0.2422</span>                     <a href=\"file:///home/klemen/luxonis/luxonis-train/luxonis_train/models/luxonis_lightning.py\" target=\"_blank\"><span style=\"color: #7f7f7f; text-decoration-color: #7f7f7f\">luxonis_lightning.py</span></a><span style=\"color: #7f7f7f; text-decoration-color: #7f7f7f\">:</span><a href=\"file:///home/klemen/luxonis/luxonis-train/luxonis_train/models/luxonis_lightning.py#986\" target=\"_blank\"><span style=\"color: #7f7f7f; text-decoration-color: #7f7f7f\">986</span></a>\n",
       "</pre>\n"
      ],
      "text/plain": [
       "\u001b[32mINFO    \u001b[0m Validation main metric \u001b[1m(\u001b[0mdetection_head/detection_map\u001b[1m)\u001b[0m: \u001b[1;36m0.2422\u001b[0m                     \u001b]8;id=416767;file:///home/klemen/luxonis/luxonis-train/luxonis_train/models/luxonis_lightning.py\u001b\\\u001b[2mluxonis_lightning.py\u001b[0m\u001b]8;;\u001b\\\u001b[2m:\u001b[0m\u001b]8;id=317739;file:///home/klemen/luxonis/luxonis-train/luxonis_train/models/luxonis_lightning.py#986\u001b\\\u001b[2m986\u001b[0m\u001b]8;;\u001b\\\n"
      ]
     },
     "metadata": {},
     "output_type": "display_data"
    },
    {
     "data": {
      "text/html": [
       "<pre style=\"white-space:pre;overflow-x:auto;line-height:normal;font-family:Menlo,'DejaVu Sans Mono',consolas,'Courier New',monospace\"></pre>\n"
      ],
      "text/plain": []
     },
     "metadata": {},
     "output_type": "display_data"
    },
    {
     "data": {
      "text/html": [
       "<pre style=\"white-space:pre;overflow-x:auto;line-height:normal;font-family:Menlo,'DejaVu Sans Mono',consolas,'Courier New',monospace\">\n",
       "</pre>\n"
      ],
      "text/plain": [
       "\n"
      ]
     },
     "metadata": {},
     "output_type": "display_data"
    },
    {
     "name": "stderr",
     "output_type": "stream",
     "text": [
      "libpng warning: iCCP: known incorrect sRGB profile\n"
     ]
    },
    {
     "data": {
      "text/html": [
       "<pre style=\"white-space:pre;overflow-x:auto;line-height:normal;font-family:Menlo,'DejaVu Sans Mono',consolas,'Courier New',monospace\"></pre>\n"
      ],
      "text/plain": []
     },
     "metadata": {},
     "output_type": "display_data"
    },
    {
     "data": {
      "text/html": [
       "<pre style=\"white-space:pre;overflow-x:auto;line-height:normal;font-family:Menlo,'DejaVu Sans Mono',consolas,'Courier New',monospace\">\n",
       "</pre>\n"
      ],
      "text/plain": [
       "\n"
      ]
     },
     "metadata": {},
     "output_type": "display_data"
    },
    {
     "name": "stderr",
     "output_type": "stream",
     "text": [
      "libpng warning: iCCP: known incorrect sRGB profile\n"
     ]
    },
    {
     "data": {
      "text/html": [
       "<pre style=\"white-space:pre;overflow-x:auto;line-height:normal;font-family:Menlo,'DejaVu Sans Mono',consolas,'Courier New',monospace\"></pre>\n"
      ],
      "text/plain": []
     },
     "metadata": {},
     "output_type": "display_data"
    },
    {
     "data": {
      "text/html": [
       "<pre style=\"white-space:pre;overflow-x:auto;line-height:normal;font-family:Menlo,'DejaVu Sans Mono',consolas,'Courier New',monospace\">\n",
       "</pre>\n"
      ],
      "text/plain": [
       "\n"
      ]
     },
     "metadata": {},
     "output_type": "display_data"
    },
    {
     "name": "stderr",
     "output_type": "stream",
     "text": [
      "libpng warning: iCCP: known incorrect sRGB profile\n"
     ]
    },
    {
     "data": {
      "text/html": [
       "<pre style=\"white-space:pre;overflow-x:auto;line-height:normal;font-family:Menlo,'DejaVu Sans Mono',consolas,'Courier New',monospace\"></pre>\n"
      ],
      "text/plain": []
     },
     "metadata": {},
     "output_type": "display_data"
    },
    {
     "data": {
      "text/html": [
       "<pre style=\"white-space:pre;overflow-x:auto;line-height:normal;font-family:Menlo,'DejaVu Sans Mono',consolas,'Courier New',monospace\">\n",
       "</pre>\n"
      ],
      "text/plain": [
       "\n"
      ]
     },
     "metadata": {},
     "output_type": "display_data"
    },
    {
     "name": "stderr",
     "output_type": "stream",
     "text": [
      "libpng warning: iCCP: known incorrect sRGB profile\n"
     ]
    },
    {
     "data": {
      "text/html": [
       "<pre style=\"white-space:pre;overflow-x:auto;line-height:normal;font-family:Menlo,'DejaVu Sans Mono',consolas,'Courier New',monospace\"></pre>\n"
      ],
      "text/plain": []
     },
     "metadata": {},
     "output_type": "display_data"
    },
    {
     "data": {
      "text/html": [
       "<pre style=\"white-space:pre;overflow-x:auto;line-height:normal;font-family:Menlo,'DejaVu Sans Mono',consolas,'Courier New',monospace\">\n",
       "</pre>\n"
      ],
      "text/plain": [
       "\n"
      ]
     },
     "metadata": {},
     "output_type": "display_data"
    },
    {
     "name": "stderr",
     "output_type": "stream",
     "text": [
      "libpng warning: iCCP: known incorrect sRGB profile\n"
     ]
    },
    {
     "data": {
      "text/html": [
       "<pre style=\"white-space:pre;overflow-x:auto;line-height:normal;font-family:Menlo,'DejaVu Sans Mono',consolas,'Courier New',monospace\"></pre>\n"
      ],
      "text/plain": []
     },
     "metadata": {},
     "output_type": "display_data"
    },
    {
     "data": {
      "text/html": [
       "<pre style=\"white-space:pre;overflow-x:auto;line-height:normal;font-family:Menlo,'DejaVu Sans Mono',consolas,'Courier New',monospace\">\n",
       "</pre>\n"
      ],
      "text/plain": [
       "\n"
      ]
     },
     "metadata": {},
     "output_type": "display_data"
    },
    {
     "name": "stderr",
     "output_type": "stream",
     "text": [
      "libpng warning: iCCP: known incorrect sRGB profile\n"
     ]
    },
    {
     "data": {
      "text/html": [
       "<pre style=\"white-space:pre;overflow-x:auto;line-height:normal;font-family:Menlo,'DejaVu Sans Mono',consolas,'Courier New',monospace\"></pre>\n"
      ],
      "text/plain": []
     },
     "metadata": {},
     "output_type": "display_data"
    },
    {
     "data": {
      "text/html": [
       "<pre style=\"white-space:pre;overflow-x:auto;line-height:normal;font-family:Menlo,'DejaVu Sans Mono',consolas,'Courier New',monospace\">\n",
       "</pre>\n"
      ],
      "text/plain": [
       "\n"
      ]
     },
     "metadata": {},
     "output_type": "display_data"
    },
    {
     "name": "stderr",
     "output_type": "stream",
     "text": [
      "libpng warning: iCCP: known incorrect sRGB profile\n"
     ]
    },
    {
     "data": {
      "text/html": [
       "<pre style=\"white-space:pre;overflow-x:auto;line-height:normal;font-family:Menlo,'DejaVu Sans Mono',consolas,'Courier New',monospace\"></pre>\n"
      ],
      "text/plain": []
     },
     "metadata": {},
     "output_type": "display_data"
    },
    {
     "data": {
      "text/html": [
       "<pre style=\"white-space:pre;overflow-x:auto;line-height:normal;font-family:Menlo,'DejaVu Sans Mono',consolas,'Courier New',monospace\">\n",
       "</pre>\n"
      ],
      "text/plain": [
       "\n"
      ]
     },
     "metadata": {},
     "output_type": "display_data"
    },
    {
     "name": "stderr",
     "output_type": "stream",
     "text": [
      "libpng warning: iCCP: known incorrect sRGB profile\n"
     ]
    },
    {
     "data": {
      "text/html": [
       "<pre style=\"white-space:pre;overflow-x:auto;line-height:normal;font-family:Menlo,'DejaVu Sans Mono',consolas,'Courier New',monospace\"></pre>\n"
      ],
      "text/plain": []
     },
     "metadata": {},
     "output_type": "display_data"
    },
    {
     "data": {
      "text/html": [
       "<pre style=\"white-space:pre;overflow-x:auto;line-height:normal;font-family:Menlo,'DejaVu Sans Mono',consolas,'Courier New',monospace\">\n",
       "</pre>\n"
      ],
      "text/plain": [
       "\n"
      ]
     },
     "metadata": {},
     "output_type": "display_data"
    },
    {
     "name": "stderr",
     "output_type": "stream",
     "text": [
      "libpng warning: iCCP: known incorrect sRGB profile\n"
     ]
    },
    {
     "data": {
      "text/html": [
       "<pre style=\"white-space:pre;overflow-x:auto;line-height:normal;font-family:Menlo,'DejaVu Sans Mono',consolas,'Courier New',monospace\"></pre>\n"
      ],
      "text/plain": []
     },
     "metadata": {},
     "output_type": "display_data"
    },
    {
     "data": {
      "text/html": [
       "<pre style=\"white-space:pre;overflow-x:auto;line-height:normal;font-family:Menlo,'DejaVu Sans Mono',consolas,'Courier New',monospace\">\n",
       "</pre>\n"
      ],
      "text/plain": [
       "\n"
      ]
     },
     "metadata": {},
     "output_type": "display_data"
    },
    {
     "name": "stderr",
     "output_type": "stream",
     "text": [
      "libpng warning: iCCP: known incorrect sRGB profile\n",
      "libpng warning: iCCP: known incorrect sRGB profile\n",
      "libpng warning: iCCP: known incorrect sRGB profile\n",
      "libpng warning: iCCP: known incorrect sRGB profile\n"
     ]
    },
    {
     "data": {
      "text/html": [
       "<pre style=\"white-space:pre;overflow-x:auto;line-height:normal;font-family:Menlo,'DejaVu Sans Mono',consolas,'Courier New',monospace\"><span style=\"color: #008000; text-decoration-color: #008000\">INFO    </span> Computing metrics on val subset <span style=\"color: #808000; text-decoration-color: #808000\">...</span>                                               <a href=\"file:///home/klemen/luxonis/luxonis-train/luxonis_train/models/luxonis_lightning.py\" target=\"_blank\"><span style=\"color: #7f7f7f; text-decoration-color: #7f7f7f\">luxonis_lightning.py</span></a><span style=\"color: #7f7f7f; text-decoration-color: #7f7f7f\">:</span><a href=\"file:///home/klemen/luxonis/luxonis-train/luxonis_train/models/luxonis_lightning.py#770\" target=\"_blank\"><span style=\"color: #7f7f7f; text-decoration-color: #7f7f7f\">770</span></a>\n",
       "</pre>\n"
      ],
      "text/plain": [
       "\u001b[32mINFO    \u001b[0m Computing metrics on val subset \u001b[33m...\u001b[0m                                               \u001b]8;id=980741;file:///home/klemen/luxonis/luxonis-train/luxonis_train/models/luxonis_lightning.py\u001b\\\u001b[2mluxonis_lightning.py\u001b[0m\u001b]8;;\u001b\\\u001b[2m:\u001b[0m\u001b]8;id=673981;file:///home/klemen/luxonis/luxonis-train/luxonis_train/models/luxonis_lightning.py#770\u001b\\\u001b[2m770\u001b[0m\u001b]8;;\u001b\\\n"
      ]
     },
     "metadata": {},
     "output_type": "display_data"
    },
    {
     "data": {
      "text/html": [
       "<pre style=\"white-space:pre;overflow-x:auto;line-height:normal;font-family:Menlo,'DejaVu Sans Mono',consolas,'Courier New',monospace\"><span style=\"color: #008000; text-decoration-color: #008000\">INFO    </span> Metrics computed.                                                                 <a href=\"file:///home/klemen/luxonis/luxonis-train/luxonis_train/models/luxonis_lightning.py\" target=\"_blank\"><span style=\"color: #7f7f7f; text-decoration-color: #7f7f7f\">luxonis_lightning.py</span></a><span style=\"color: #7f7f7f; text-decoration-color: #7f7f7f\">:</span><a href=\"file:///home/klemen/luxonis/luxonis-train/luxonis_train/models/luxonis_lightning.py#772\" target=\"_blank\"><span style=\"color: #7f7f7f; text-decoration-color: #7f7f7f\">772</span></a>\n",
       "</pre>\n"
      ],
      "text/plain": [
       "\u001b[32mINFO    \u001b[0m Metrics computed.                                                                 \u001b]8;id=648282;file:///home/klemen/luxonis/luxonis-train/luxonis_train/models/luxonis_lightning.py\u001b\\\u001b[2mluxonis_lightning.py\u001b[0m\u001b]8;;\u001b\\\u001b[2m:\u001b[0m\u001b]8;id=892856;file:///home/klemen/luxonis/luxonis-train/luxonis_train/models/luxonis_lightning.py#772\u001b\\\u001b[2m772\u001b[0m\u001b]8;;\u001b\\\n"
      ]
     },
     "metadata": {},
     "output_type": "display_data"
    },
    {
     "data": {
      "text/html": [
       "<pre style=\"white-space:pre;overflow-x:auto;line-height:normal;font-family:Menlo,'DejaVu Sans Mono',consolas,'Courier New',monospace\"><span style=\"color: #008000; text-decoration-color: #008000\">INFO    </span> Validation loss: <span style=\"color: #008080; text-decoration-color: #008080; font-weight: bold\">1.6541</span>                                                           <a href=\"file:///home/klemen/luxonis/luxonis-train/luxonis_train/models/luxonis_lightning.py\" target=\"_blank\"><span style=\"color: #7f7f7f; text-decoration-color: #7f7f7f\">luxonis_lightning.py</span></a><span style=\"color: #7f7f7f; text-decoration-color: #7f7f7f\">:</span><a href=\"file:///home/klemen/luxonis/luxonis-train/luxonis_train/models/luxonis_lightning.py#977\" target=\"_blank\"><span style=\"color: #7f7f7f; text-decoration-color: #7f7f7f\">977</span></a>\n",
       "</pre>\n"
      ],
      "text/plain": [
       "\u001b[32mINFO    \u001b[0m Validation loss: \u001b[1;36m1.6541\u001b[0m                                                           \u001b]8;id=271245;file:///home/klemen/luxonis/luxonis-train/luxonis_train/models/luxonis_lightning.py\u001b\\\u001b[2mluxonis_lightning.py\u001b[0m\u001b]8;;\u001b\\\u001b[2m:\u001b[0m\u001b]8;id=932804;file:///home/klemen/luxonis/luxonis-train/luxonis_train/models/luxonis_lightning.py#977\u001b\\\u001b[2m977\u001b[0m\u001b]8;;\u001b\\\n"
      ]
     },
     "metadata": {},
     "output_type": "display_data"
    },
    {
     "data": {
      "text/html": [
       "<pre style=\"white-space:pre;overflow-x:auto;line-height:normal;font-family:Menlo,'DejaVu Sans Mono',consolas,'Courier New',monospace\"><span style=\"color: #800080; text-decoration-color: #800080; font-weight: bold\">─────────────────────────────────────────────────── </span>Validation<span style=\"color: #800080; text-decoration-color: #800080; font-weight: bold\"> ────────────────────────────────────────────────────</span>\n",
       "</pre>\n"
      ],
      "text/plain": [
       "\u001b[1;35m─────────────────────────────────────────────────── \u001b[0mValidation\u001b[1;35m ────────────────────────────────────────────────────\u001b[0m\n"
      ]
     },
     "metadata": {},
     "output_type": "display_data"
    },
    {
     "data": {
      "text/html": [
       "<pre style=\"white-space:pre;overflow-x:auto;line-height:normal;font-family:Menlo,'DejaVu Sans Mono',consolas,'Courier New',monospace\"><span style=\"color: #800080; text-decoration-color: #800080; font-weight: bold\">Loss:</span> <span style=\"color: #c0c0c0; text-decoration-color: #c0c0c0; font-weight: bold\">1.654067615667979</span>\n",
       "</pre>\n"
      ],
      "text/plain": [
       "\u001b[1;35mLoss:\u001b[0m \u001b[1;37m1.654067615667979\u001b[0m\n"
      ]
     },
     "metadata": {},
     "output_type": "display_data"
    },
    {
     "data": {
      "text/html": [
       "<pre style=\"white-space:pre;overflow-x:auto;line-height:normal;font-family:Menlo,'DejaVu Sans Mono',consolas,'Courier New',monospace\"><span style=\"color: #800080; text-decoration-color: #800080; font-weight: bold\">Metrics:</span>\n",
       "</pre>\n"
      ],
      "text/plain": [
       "\u001b[1;35mMetrics:\u001b[0m\n"
      ]
     },
     "metadata": {},
     "output_type": "display_data"
    },
    {
     "data": {
      "text/html": [
       "<pre style=\"white-space:pre;overflow-x:auto;line-height:normal;font-family:Menlo,'DejaVu Sans Mono',consolas,'Courier New',monospace\"><span style=\"font-style: italic\">       detection_head       </span>\n",
       "┏━━━━━━━━━━━━━━━┳━━━━━━━━━━┓\n",
       "┃<span style=\"color: #800080; text-decoration-color: #800080; font-weight: bold\"> Name          </span>┃<span style=\"color: #800080; text-decoration-color: #800080; font-weight: bold\"> Value    </span>┃\n",
       "┡━━━━━━━━━━━━━━━╇━━━━━━━━━━┩\n",
       "│<span style=\"color: #800080; text-decoration-color: #800080\"> detection_map </span>│<span style=\"color: #c0c0c0; text-decoration-color: #c0c0c0\"> 0.25430  </span>│\n",
       "│<span style=\"color: #800080; text-decoration-color: #800080\"> map_50        </span>│<span style=\"color: #c0c0c0; text-decoration-color: #c0c0c0\"> 0.50395  </span>│\n",
       "│<span style=\"color: #800080; text-decoration-color: #800080\"> map_75        </span>│<span style=\"color: #c0c0c0; text-decoration-color: #c0c0c0\"> 0.25367  </span>│\n",
       "│<span style=\"color: #800080; text-decoration-color: #800080\"> map_small     </span>│<span style=\"color: #c0c0c0; text-decoration-color: #c0c0c0\"> -1.00000 </span>│\n",
       "│<span style=\"color: #800080; text-decoration-color: #800080\"> map_medium    </span>│<span style=\"color: #c0c0c0; text-decoration-color: #c0c0c0\"> 0.17574  </span>│\n",
       "│<span style=\"color: #800080; text-decoration-color: #800080\"> map_large     </span>│<span style=\"color: #c0c0c0; text-decoration-color: #c0c0c0\"> 0.26965  </span>│\n",
       "│<span style=\"color: #800080; text-decoration-color: #800080\"> mar_1         </span>│<span style=\"color: #c0c0c0; text-decoration-color: #c0c0c0\"> 0.25567  </span>│\n",
       "│<span style=\"color: #800080; text-decoration-color: #800080\"> mar_10        </span>│<span style=\"color: #c0c0c0; text-decoration-color: #c0c0c0\"> 0.33328  </span>│\n",
       "│<span style=\"color: #800080; text-decoration-color: #800080\"> mar_100       </span>│<span style=\"color: #c0c0c0; text-decoration-color: #c0c0c0\"> 0.33328  </span>│\n",
       "│<span style=\"color: #800080; text-decoration-color: #800080\"> mar_small     </span>│<span style=\"color: #c0c0c0; text-decoration-color: #c0c0c0\"> -1.00000 </span>│\n",
       "│<span style=\"color: #800080; text-decoration-color: #800080\"> mar_medium    </span>│<span style=\"color: #c0c0c0; text-decoration-color: #c0c0c0\"> 0.17500  </span>│\n",
       "│<span style=\"color: #800080; text-decoration-color: #800080\"> mar_large     </span>│<span style=\"color: #c0c0c0; text-decoration-color: #c0c0c0\"> 0.35070  </span>│\n",
       "│<span style=\"color: #800080; text-decoration-color: #800080\"> f1_small      </span>│<span style=\"color: #c0c0c0; text-decoration-color: #c0c0c0\"> -1.00000 </span>│\n",
       "│<span style=\"color: #800080; text-decoration-color: #800080\"> f1_medium     </span>│<span style=\"color: #c0c0c0; text-decoration-color: #c0c0c0\"> 0.17537  </span>│\n",
       "│<span style=\"color: #800080; text-decoration-color: #800080\"> f1_large      </span>│<span style=\"color: #c0c0c0; text-decoration-color: #c0c0c0\"> 0.30488  </span>│\n",
       "└───────────────┴──────────┘\n",
       "</pre>\n"
      ],
      "text/plain": [
       "\u001b[3m       detection_head       \u001b[0m\n",
       "┏━━━━━━━━━━━━━━━┳━━━━━━━━━━┓\n",
       "┃\u001b[1;35m \u001b[0m\u001b[1;35mName         \u001b[0m\u001b[1;35m \u001b[0m┃\u001b[1;35m \u001b[0m\u001b[1;35mValue   \u001b[0m\u001b[1;35m \u001b[0m┃\n",
       "┡━━━━━━━━━━━━━━━╇━━━━━━━━━━┩\n",
       "│\u001b[35m \u001b[0m\u001b[35mdetection_map\u001b[0m\u001b[35m \u001b[0m│\u001b[37m \u001b[0m\u001b[37m0.25430 \u001b[0m\u001b[37m \u001b[0m│\n",
       "│\u001b[35m \u001b[0m\u001b[35mmap_50       \u001b[0m\u001b[35m \u001b[0m│\u001b[37m \u001b[0m\u001b[37m0.50395 \u001b[0m\u001b[37m \u001b[0m│\n",
       "│\u001b[35m \u001b[0m\u001b[35mmap_75       \u001b[0m\u001b[35m \u001b[0m│\u001b[37m \u001b[0m\u001b[37m0.25367 \u001b[0m\u001b[37m \u001b[0m│\n",
       "│\u001b[35m \u001b[0m\u001b[35mmap_small    \u001b[0m\u001b[35m \u001b[0m│\u001b[37m \u001b[0m\u001b[37m-1.00000\u001b[0m\u001b[37m \u001b[0m│\n",
       "│\u001b[35m \u001b[0m\u001b[35mmap_medium   \u001b[0m\u001b[35m \u001b[0m│\u001b[37m \u001b[0m\u001b[37m0.17574 \u001b[0m\u001b[37m \u001b[0m│\n",
       "│\u001b[35m \u001b[0m\u001b[35mmap_large    \u001b[0m\u001b[35m \u001b[0m│\u001b[37m \u001b[0m\u001b[37m0.26965 \u001b[0m\u001b[37m \u001b[0m│\n",
       "│\u001b[35m \u001b[0m\u001b[35mmar_1        \u001b[0m\u001b[35m \u001b[0m│\u001b[37m \u001b[0m\u001b[37m0.25567 \u001b[0m\u001b[37m \u001b[0m│\n",
       "│\u001b[35m \u001b[0m\u001b[35mmar_10       \u001b[0m\u001b[35m \u001b[0m│\u001b[37m \u001b[0m\u001b[37m0.33328 \u001b[0m\u001b[37m \u001b[0m│\n",
       "│\u001b[35m \u001b[0m\u001b[35mmar_100      \u001b[0m\u001b[35m \u001b[0m│\u001b[37m \u001b[0m\u001b[37m0.33328 \u001b[0m\u001b[37m \u001b[0m│\n",
       "│\u001b[35m \u001b[0m\u001b[35mmar_small    \u001b[0m\u001b[35m \u001b[0m│\u001b[37m \u001b[0m\u001b[37m-1.00000\u001b[0m\u001b[37m \u001b[0m│\n",
       "│\u001b[35m \u001b[0m\u001b[35mmar_medium   \u001b[0m\u001b[35m \u001b[0m│\u001b[37m \u001b[0m\u001b[37m0.17500 \u001b[0m\u001b[37m \u001b[0m│\n",
       "│\u001b[35m \u001b[0m\u001b[35mmar_large    \u001b[0m\u001b[35m \u001b[0m│\u001b[37m \u001b[0m\u001b[37m0.35070 \u001b[0m\u001b[37m \u001b[0m│\n",
       "│\u001b[35m \u001b[0m\u001b[35mf1_small     \u001b[0m\u001b[35m \u001b[0m│\u001b[37m \u001b[0m\u001b[37m-1.00000\u001b[0m\u001b[37m \u001b[0m│\n",
       "│\u001b[35m \u001b[0m\u001b[35mf1_medium    \u001b[0m\u001b[35m \u001b[0m│\u001b[37m \u001b[0m\u001b[37m0.17537 \u001b[0m\u001b[37m \u001b[0m│\n",
       "│\u001b[35m \u001b[0m\u001b[35mf1_large     \u001b[0m\u001b[35m \u001b[0m│\u001b[37m \u001b[0m\u001b[37m0.30488 \u001b[0m\u001b[37m \u001b[0m│\n",
       "└───────────────┴──────────┘\n"
      ]
     },
     "metadata": {},
     "output_type": "display_data"
    },
    {
     "data": {
      "text/html": [
       "<pre style=\"white-space:pre;overflow-x:auto;line-height:normal;font-family:Menlo,'DejaVu Sans Mono',consolas,'Courier New',monospace\"><span style=\"color: #800080; text-decoration-color: #800080; font-weight: bold\">───────────────────────────────────────────────────────────────────────────────────────────────────────────────────</span>\n",
       "</pre>\n"
      ],
      "text/plain": [
       "\u001b[1;35m───────────────────────────────────────────────────────────────────────────────────────────────────────────────────\u001b[0m\n"
      ]
     },
     "metadata": {},
     "output_type": "display_data"
    },
    {
     "data": {
      "text/html": [
       "<pre style=\"white-space:pre;overflow-x:auto;line-height:normal;font-family:Menlo,'DejaVu Sans Mono',consolas,'Courier New',monospace\"><span style=\"color: #008000; text-decoration-color: #008000\">INFO    </span> Validation main metric <span style=\"font-weight: bold\">(</span>detection_head/detection_map<span style=\"font-weight: bold\">)</span>: <span style=\"color: #008080; text-decoration-color: #008080; font-weight: bold\">0.2543</span>                     <a href=\"file:///home/klemen/luxonis/luxonis-train/luxonis_train/models/luxonis_lightning.py\" target=\"_blank\"><span style=\"color: #7f7f7f; text-decoration-color: #7f7f7f\">luxonis_lightning.py</span></a><span style=\"color: #7f7f7f; text-decoration-color: #7f7f7f\">:</span><a href=\"file:///home/klemen/luxonis/luxonis-train/luxonis_train/models/luxonis_lightning.py#986\" target=\"_blank\"><span style=\"color: #7f7f7f; text-decoration-color: #7f7f7f\">986</span></a>\n",
       "</pre>\n"
      ],
      "text/plain": [
       "\u001b[32mINFO    \u001b[0m Validation main metric \u001b[1m(\u001b[0mdetection_head/detection_map\u001b[1m)\u001b[0m: \u001b[1;36m0.2543\u001b[0m                     \u001b]8;id=481766;file:///home/klemen/luxonis/luxonis-train/luxonis_train/models/luxonis_lightning.py\u001b\\\u001b[2mluxonis_lightning.py\u001b[0m\u001b]8;;\u001b\\\u001b[2m:\u001b[0m\u001b]8;id=736667;file:///home/klemen/luxonis/luxonis-train/luxonis_train/models/luxonis_lightning.py#986\u001b\\\u001b[2m986\u001b[0m\u001b]8;;\u001b\\\n"
      ]
     },
     "metadata": {},
     "output_type": "display_data"
    },
    {
     "data": {
      "text/html": [
       "<pre style=\"white-space:pre;overflow-x:auto;line-height:normal;font-family:Menlo,'DejaVu Sans Mono',consolas,'Courier New',monospace\"></pre>\n"
      ],
      "text/plain": []
     },
     "metadata": {},
     "output_type": "display_data"
    },
    {
     "data": {
      "text/html": [
       "<pre style=\"white-space:pre;overflow-x:auto;line-height:normal;font-family:Menlo,'DejaVu Sans Mono',consolas,'Courier New',monospace\">\n",
       "</pre>\n"
      ],
      "text/plain": [
       "\n"
      ]
     },
     "metadata": {},
     "output_type": "display_data"
    },
    {
     "name": "stderr",
     "output_type": "stream",
     "text": [
      "libpng warning: iCCP: known incorrect sRGB profile\n"
     ]
    },
    {
     "data": {
      "text/html": [
       "<pre style=\"white-space:pre;overflow-x:auto;line-height:normal;font-family:Menlo,'DejaVu Sans Mono',consolas,'Courier New',monospace\"></pre>\n"
      ],
      "text/plain": []
     },
     "metadata": {},
     "output_type": "display_data"
    },
    {
     "data": {
      "text/html": [
       "<pre style=\"white-space:pre;overflow-x:auto;line-height:normal;font-family:Menlo,'DejaVu Sans Mono',consolas,'Courier New',monospace\">\n",
       "</pre>\n"
      ],
      "text/plain": [
       "\n"
      ]
     },
     "metadata": {},
     "output_type": "display_data"
    },
    {
     "name": "stderr",
     "output_type": "stream",
     "text": [
      "libpng warning: iCCP: known incorrect sRGB profile\n"
     ]
    },
    {
     "data": {
      "text/html": [
       "<pre style=\"white-space:pre;overflow-x:auto;line-height:normal;font-family:Menlo,'DejaVu Sans Mono',consolas,'Courier New',monospace\"></pre>\n"
      ],
      "text/plain": []
     },
     "metadata": {},
     "output_type": "display_data"
    },
    {
     "data": {
      "text/html": [
       "<pre style=\"white-space:pre;overflow-x:auto;line-height:normal;font-family:Menlo,'DejaVu Sans Mono',consolas,'Courier New',monospace\">\n",
       "</pre>\n"
      ],
      "text/plain": [
       "\n"
      ]
     },
     "metadata": {},
     "output_type": "display_data"
    },
    {
     "name": "stderr",
     "output_type": "stream",
     "text": [
      "libpng warning: iCCP: known incorrect sRGB profile\n"
     ]
    },
    {
     "data": {
      "text/html": [
       "<pre style=\"white-space:pre;overflow-x:auto;line-height:normal;font-family:Menlo,'DejaVu Sans Mono',consolas,'Courier New',monospace\"></pre>\n"
      ],
      "text/plain": []
     },
     "metadata": {},
     "output_type": "display_data"
    },
    {
     "data": {
      "text/html": [
       "<pre style=\"white-space:pre;overflow-x:auto;line-height:normal;font-family:Menlo,'DejaVu Sans Mono',consolas,'Courier New',monospace\">\n",
       "</pre>\n"
      ],
      "text/plain": [
       "\n"
      ]
     },
     "metadata": {},
     "output_type": "display_data"
    },
    {
     "name": "stderr",
     "output_type": "stream",
     "text": [
      "libpng warning: iCCP: known incorrect sRGB profile\n"
     ]
    },
    {
     "data": {
      "text/html": [
       "<pre style=\"white-space:pre;overflow-x:auto;line-height:normal;font-family:Menlo,'DejaVu Sans Mono',consolas,'Courier New',monospace\"></pre>\n"
      ],
      "text/plain": []
     },
     "metadata": {},
     "output_type": "display_data"
    },
    {
     "data": {
      "text/html": [
       "<pre style=\"white-space:pre;overflow-x:auto;line-height:normal;font-family:Menlo,'DejaVu Sans Mono',consolas,'Courier New',monospace\">\n",
       "</pre>\n"
      ],
      "text/plain": [
       "\n"
      ]
     },
     "metadata": {},
     "output_type": "display_data"
    },
    {
     "name": "stderr",
     "output_type": "stream",
     "text": [
      "libpng warning: iCCP: known incorrect sRGB profile\n"
     ]
    },
    {
     "data": {
      "text/html": [
       "<pre style=\"white-space:pre;overflow-x:auto;line-height:normal;font-family:Menlo,'DejaVu Sans Mono',consolas,'Courier New',monospace\"></pre>\n"
      ],
      "text/plain": []
     },
     "metadata": {},
     "output_type": "display_data"
    },
    {
     "data": {
      "text/html": [
       "<pre style=\"white-space:pre;overflow-x:auto;line-height:normal;font-family:Menlo,'DejaVu Sans Mono',consolas,'Courier New',monospace\">\n",
       "</pre>\n"
      ],
      "text/plain": [
       "\n"
      ]
     },
     "metadata": {},
     "output_type": "display_data"
    },
    {
     "name": "stderr",
     "output_type": "stream",
     "text": [
      "libpng warning: iCCP: known incorrect sRGB profile\n"
     ]
    },
    {
     "data": {
      "text/html": [
       "<pre style=\"white-space:pre;overflow-x:auto;line-height:normal;font-family:Menlo,'DejaVu Sans Mono',consolas,'Courier New',monospace\"></pre>\n"
      ],
      "text/plain": []
     },
     "metadata": {},
     "output_type": "display_data"
    },
    {
     "data": {
      "text/html": [
       "<pre style=\"white-space:pre;overflow-x:auto;line-height:normal;font-family:Menlo,'DejaVu Sans Mono',consolas,'Courier New',monospace\">\n",
       "</pre>\n"
      ],
      "text/plain": [
       "\n"
      ]
     },
     "metadata": {},
     "output_type": "display_data"
    },
    {
     "name": "stderr",
     "output_type": "stream",
     "text": [
      "libpng warning: iCCP: known incorrect sRGB profile\n"
     ]
    },
    {
     "data": {
      "text/html": [
       "<pre style=\"white-space:pre;overflow-x:auto;line-height:normal;font-family:Menlo,'DejaVu Sans Mono',consolas,'Courier New',monospace\"></pre>\n"
      ],
      "text/plain": []
     },
     "metadata": {},
     "output_type": "display_data"
    },
    {
     "data": {
      "text/html": [
       "<pre style=\"white-space:pre;overflow-x:auto;line-height:normal;font-family:Menlo,'DejaVu Sans Mono',consolas,'Courier New',monospace\">\n",
       "</pre>\n"
      ],
      "text/plain": [
       "\n"
      ]
     },
     "metadata": {},
     "output_type": "display_data"
    },
    {
     "name": "stderr",
     "output_type": "stream",
     "text": [
      "libpng warning: iCCP: known incorrect sRGB profile\n"
     ]
    },
    {
     "data": {
      "text/html": [
       "<pre style=\"white-space:pre;overflow-x:auto;line-height:normal;font-family:Menlo,'DejaVu Sans Mono',consolas,'Courier New',monospace\"></pre>\n"
      ],
      "text/plain": []
     },
     "metadata": {},
     "output_type": "display_data"
    },
    {
     "data": {
      "text/html": [
       "<pre style=\"white-space:pre;overflow-x:auto;line-height:normal;font-family:Menlo,'DejaVu Sans Mono',consolas,'Courier New',monospace\">\n",
       "</pre>\n"
      ],
      "text/plain": [
       "\n"
      ]
     },
     "metadata": {},
     "output_type": "display_data"
    },
    {
     "name": "stderr",
     "output_type": "stream",
     "text": [
      "libpng warning: iCCP: known incorrect sRGB profile\n"
     ]
    },
    {
     "data": {
      "text/html": [
       "<pre style=\"white-space:pre;overflow-x:auto;line-height:normal;font-family:Menlo,'DejaVu Sans Mono',consolas,'Courier New',monospace\"></pre>\n"
      ],
      "text/plain": []
     },
     "metadata": {},
     "output_type": "display_data"
    },
    {
     "data": {
      "text/html": [
       "<pre style=\"white-space:pre;overflow-x:auto;line-height:normal;font-family:Menlo,'DejaVu Sans Mono',consolas,'Courier New',monospace\">\n",
       "</pre>\n"
      ],
      "text/plain": [
       "\n"
      ]
     },
     "metadata": {},
     "output_type": "display_data"
    },
    {
     "name": "stderr",
     "output_type": "stream",
     "text": [
      "libpng warning: iCCP: known incorrect sRGB profile\n",
      "libpng warning: iCCP: known incorrect sRGB profile\n",
      "libpng warning: iCCP: known incorrect sRGB profile\n",
      "libpng warning: iCCP: known incorrect sRGB profile\n"
     ]
    },
    {
     "data": {
      "text/html": [
       "<pre style=\"white-space:pre;overflow-x:auto;line-height:normal;font-family:Menlo,'DejaVu Sans Mono',consolas,'Courier New',monospace\"><span style=\"color: #008000; text-decoration-color: #008000\">INFO    </span> Computing metrics on val subset <span style=\"color: #808000; text-decoration-color: #808000\">...</span>                                               <a href=\"file:///home/klemen/luxonis/luxonis-train/luxonis_train/models/luxonis_lightning.py\" target=\"_blank\"><span style=\"color: #7f7f7f; text-decoration-color: #7f7f7f\">luxonis_lightning.py</span></a><span style=\"color: #7f7f7f; text-decoration-color: #7f7f7f\">:</span><a href=\"file:///home/klemen/luxonis/luxonis-train/luxonis_train/models/luxonis_lightning.py#770\" target=\"_blank\"><span style=\"color: #7f7f7f; text-decoration-color: #7f7f7f\">770</span></a>\n",
       "</pre>\n"
      ],
      "text/plain": [
       "\u001b[32mINFO    \u001b[0m Computing metrics on val subset \u001b[33m...\u001b[0m                                               \u001b]8;id=742240;file:///home/klemen/luxonis/luxonis-train/luxonis_train/models/luxonis_lightning.py\u001b\\\u001b[2mluxonis_lightning.py\u001b[0m\u001b]8;;\u001b\\\u001b[2m:\u001b[0m\u001b]8;id=345463;file:///home/klemen/luxonis/luxonis-train/luxonis_train/models/luxonis_lightning.py#770\u001b\\\u001b[2m770\u001b[0m\u001b]8;;\u001b\\\n"
      ]
     },
     "metadata": {},
     "output_type": "display_data"
    },
    {
     "data": {
      "text/html": [
       "<pre style=\"white-space:pre;overflow-x:auto;line-height:normal;font-family:Menlo,'DejaVu Sans Mono',consolas,'Courier New',monospace\"><span style=\"color: #008000; text-decoration-color: #008000\">INFO    </span> Metrics computed.                                                                 <a href=\"file:///home/klemen/luxonis/luxonis-train/luxonis_train/models/luxonis_lightning.py\" target=\"_blank\"><span style=\"color: #7f7f7f; text-decoration-color: #7f7f7f\">luxonis_lightning.py</span></a><span style=\"color: #7f7f7f; text-decoration-color: #7f7f7f\">:</span><a href=\"file:///home/klemen/luxonis/luxonis-train/luxonis_train/models/luxonis_lightning.py#772\" target=\"_blank\"><span style=\"color: #7f7f7f; text-decoration-color: #7f7f7f\">772</span></a>\n",
       "</pre>\n"
      ],
      "text/plain": [
       "\u001b[32mINFO    \u001b[0m Metrics computed.                                                                 \u001b]8;id=240187;file:///home/klemen/luxonis/luxonis-train/luxonis_train/models/luxonis_lightning.py\u001b\\\u001b[2mluxonis_lightning.py\u001b[0m\u001b]8;;\u001b\\\u001b[2m:\u001b[0m\u001b]8;id=926580;file:///home/klemen/luxonis/luxonis-train/luxonis_train/models/luxonis_lightning.py#772\u001b\\\u001b[2m772\u001b[0m\u001b]8;;\u001b\\\n"
      ]
     },
     "metadata": {},
     "output_type": "display_data"
    },
    {
     "data": {
      "text/html": [
       "<pre style=\"white-space:pre;overflow-x:auto;line-height:normal;font-family:Menlo,'DejaVu Sans Mono',consolas,'Courier New',monospace\"><span style=\"color: #008000; text-decoration-color: #008000\">INFO    </span> Validation loss: <span style=\"color: #008080; text-decoration-color: #008080; font-weight: bold\">1.5932</span>                                                           <a href=\"file:///home/klemen/luxonis/luxonis-train/luxonis_train/models/luxonis_lightning.py\" target=\"_blank\"><span style=\"color: #7f7f7f; text-decoration-color: #7f7f7f\">luxonis_lightning.py</span></a><span style=\"color: #7f7f7f; text-decoration-color: #7f7f7f\">:</span><a href=\"file:///home/klemen/luxonis/luxonis-train/luxonis_train/models/luxonis_lightning.py#977\" target=\"_blank\"><span style=\"color: #7f7f7f; text-decoration-color: #7f7f7f\">977</span></a>\n",
       "</pre>\n"
      ],
      "text/plain": [
       "\u001b[32mINFO    \u001b[0m Validation loss: \u001b[1;36m1.5932\u001b[0m                                                           \u001b]8;id=566968;file:///home/klemen/luxonis/luxonis-train/luxonis_train/models/luxonis_lightning.py\u001b\\\u001b[2mluxonis_lightning.py\u001b[0m\u001b]8;;\u001b\\\u001b[2m:\u001b[0m\u001b]8;id=840420;file:///home/klemen/luxonis/luxonis-train/luxonis_train/models/luxonis_lightning.py#977\u001b\\\u001b[2m977\u001b[0m\u001b]8;;\u001b\\\n"
      ]
     },
     "metadata": {},
     "output_type": "display_data"
    },
    {
     "data": {
      "text/html": [
       "<pre style=\"white-space:pre;overflow-x:auto;line-height:normal;font-family:Menlo,'DejaVu Sans Mono',consolas,'Courier New',monospace\"><span style=\"color: #800080; text-decoration-color: #800080; font-weight: bold\">─────────────────────────────────────────────────── </span>Validation<span style=\"color: #800080; text-decoration-color: #800080; font-weight: bold\"> ────────────────────────────────────────────────────</span>\n",
       "</pre>\n"
      ],
      "text/plain": [
       "\u001b[1;35m─────────────────────────────────────────────────── \u001b[0mValidation\u001b[1;35m ────────────────────────────────────────────────────\u001b[0m\n"
      ]
     },
     "metadata": {},
     "output_type": "display_data"
    },
    {
     "data": {
      "text/html": [
       "<pre style=\"white-space:pre;overflow-x:auto;line-height:normal;font-family:Menlo,'DejaVu Sans Mono',consolas,'Courier New',monospace\"><span style=\"color: #800080; text-decoration-color: #800080; font-weight: bold\">Loss:</span> <span style=\"color: #c0c0c0; text-decoration-color: #c0c0c0; font-weight: bold\">1.5932127038637798</span>\n",
       "</pre>\n"
      ],
      "text/plain": [
       "\u001b[1;35mLoss:\u001b[0m \u001b[1;37m1.5932127038637798\u001b[0m\n"
      ]
     },
     "metadata": {},
     "output_type": "display_data"
    },
    {
     "data": {
      "text/html": [
       "<pre style=\"white-space:pre;overflow-x:auto;line-height:normal;font-family:Menlo,'DejaVu Sans Mono',consolas,'Courier New',monospace\"><span style=\"color: #800080; text-decoration-color: #800080; font-weight: bold\">Metrics:</span>\n",
       "</pre>\n"
      ],
      "text/plain": [
       "\u001b[1;35mMetrics:\u001b[0m\n"
      ]
     },
     "metadata": {},
     "output_type": "display_data"
    },
    {
     "data": {
      "text/html": [
       "<pre style=\"white-space:pre;overflow-x:auto;line-height:normal;font-family:Menlo,'DejaVu Sans Mono',consolas,'Courier New',monospace\"><span style=\"font-style: italic\">       detection_head       </span>\n",
       "┏━━━━━━━━━━━━━━━┳━━━━━━━━━━┓\n",
       "┃<span style=\"color: #800080; text-decoration-color: #800080; font-weight: bold\"> Name          </span>┃<span style=\"color: #800080; text-decoration-color: #800080; font-weight: bold\"> Value    </span>┃\n",
       "┡━━━━━━━━━━━━━━━╇━━━━━━━━━━┩\n",
       "│<span style=\"color: #800080; text-decoration-color: #800080\"> detection_map </span>│<span style=\"color: #c0c0c0; text-decoration-color: #c0c0c0\"> 0.28190  </span>│\n",
       "│<span style=\"color: #800080; text-decoration-color: #800080\"> map_50        </span>│<span style=\"color: #c0c0c0; text-decoration-color: #c0c0c0\"> 0.54175  </span>│\n",
       "│<span style=\"color: #800080; text-decoration-color: #800080\"> map_75        </span>│<span style=\"color: #c0c0c0; text-decoration-color: #c0c0c0\"> 0.29591  </span>│\n",
       "│<span style=\"color: #800080; text-decoration-color: #800080\"> map_small     </span>│<span style=\"color: #c0c0c0; text-decoration-color: #c0c0c0\"> -1.00000 </span>│\n",
       "│<span style=\"color: #800080; text-decoration-color: #800080\"> map_medium    </span>│<span style=\"color: #c0c0c0; text-decoration-color: #c0c0c0\"> 0.10050  </span>│\n",
       "│<span style=\"color: #800080; text-decoration-color: #800080\"> map_large     </span>│<span style=\"color: #c0c0c0; text-decoration-color: #c0c0c0\"> 0.30037  </span>│\n",
       "│<span style=\"color: #800080; text-decoration-color: #800080\"> mar_1         </span>│<span style=\"color: #c0c0c0; text-decoration-color: #c0c0c0\"> 0.27782  </span>│\n",
       "│<span style=\"color: #800080; text-decoration-color: #800080\"> mar_10        </span>│<span style=\"color: #c0c0c0; text-decoration-color: #c0c0c0\"> 0.37034  </span>│\n",
       "│<span style=\"color: #800080; text-decoration-color: #800080\"> mar_100       </span>│<span style=\"color: #c0c0c0; text-decoration-color: #c0c0c0\"> 0.37034  </span>│\n",
       "│<span style=\"color: #800080; text-decoration-color: #800080\"> mar_small     </span>│<span style=\"color: #c0c0c0; text-decoration-color: #c0c0c0\"> -1.00000 </span>│\n",
       "│<span style=\"color: #800080; text-decoration-color: #800080\"> mar_medium    </span>│<span style=\"color: #c0c0c0; text-decoration-color: #c0c0c0\"> 0.10000  </span>│\n",
       "│<span style=\"color: #800080; text-decoration-color: #800080\"> mar_large     </span>│<span style=\"color: #c0c0c0; text-decoration-color: #c0c0c0\"> 0.39348  </span>│\n",
       "│<span style=\"color: #800080; text-decoration-color: #800080\"> f1_small      </span>│<span style=\"color: #c0c0c0; text-decoration-color: #c0c0c0\"> -1.00000 </span>│\n",
       "│<span style=\"color: #800080; text-decoration-color: #800080\"> f1_medium     </span>│<span style=\"color: #c0c0c0; text-decoration-color: #c0c0c0\"> 0.10025  </span>│\n",
       "│<span style=\"color: #800080; text-decoration-color: #800080\"> f1_large      </span>│<span style=\"color: #c0c0c0; text-decoration-color: #c0c0c0\"> 0.34068  </span>│\n",
       "└───────────────┴──────────┘\n",
       "</pre>\n"
      ],
      "text/plain": [
       "\u001b[3m       detection_head       \u001b[0m\n",
       "┏━━━━━━━━━━━━━━━┳━━━━━━━━━━┓\n",
       "┃\u001b[1;35m \u001b[0m\u001b[1;35mName         \u001b[0m\u001b[1;35m \u001b[0m┃\u001b[1;35m \u001b[0m\u001b[1;35mValue   \u001b[0m\u001b[1;35m \u001b[0m┃\n",
       "┡━━━━━━━━━━━━━━━╇━━━━━━━━━━┩\n",
       "│\u001b[35m \u001b[0m\u001b[35mdetection_map\u001b[0m\u001b[35m \u001b[0m│\u001b[37m \u001b[0m\u001b[37m0.28190 \u001b[0m\u001b[37m \u001b[0m│\n",
       "│\u001b[35m \u001b[0m\u001b[35mmap_50       \u001b[0m\u001b[35m \u001b[0m│\u001b[37m \u001b[0m\u001b[37m0.54175 \u001b[0m\u001b[37m \u001b[0m│\n",
       "│\u001b[35m \u001b[0m\u001b[35mmap_75       \u001b[0m\u001b[35m \u001b[0m│\u001b[37m \u001b[0m\u001b[37m0.29591 \u001b[0m\u001b[37m \u001b[0m│\n",
       "│\u001b[35m \u001b[0m\u001b[35mmap_small    \u001b[0m\u001b[35m \u001b[0m│\u001b[37m \u001b[0m\u001b[37m-1.00000\u001b[0m\u001b[37m \u001b[0m│\n",
       "│\u001b[35m \u001b[0m\u001b[35mmap_medium   \u001b[0m\u001b[35m \u001b[0m│\u001b[37m \u001b[0m\u001b[37m0.10050 \u001b[0m\u001b[37m \u001b[0m│\n",
       "│\u001b[35m \u001b[0m\u001b[35mmap_large    \u001b[0m\u001b[35m \u001b[0m│\u001b[37m \u001b[0m\u001b[37m0.30037 \u001b[0m\u001b[37m \u001b[0m│\n",
       "│\u001b[35m \u001b[0m\u001b[35mmar_1        \u001b[0m\u001b[35m \u001b[0m│\u001b[37m \u001b[0m\u001b[37m0.27782 \u001b[0m\u001b[37m \u001b[0m│\n",
       "│\u001b[35m \u001b[0m\u001b[35mmar_10       \u001b[0m\u001b[35m \u001b[0m│\u001b[37m \u001b[0m\u001b[37m0.37034 \u001b[0m\u001b[37m \u001b[0m│\n",
       "│\u001b[35m \u001b[0m\u001b[35mmar_100      \u001b[0m\u001b[35m \u001b[0m│\u001b[37m \u001b[0m\u001b[37m0.37034 \u001b[0m\u001b[37m \u001b[0m│\n",
       "│\u001b[35m \u001b[0m\u001b[35mmar_small    \u001b[0m\u001b[35m \u001b[0m│\u001b[37m \u001b[0m\u001b[37m-1.00000\u001b[0m\u001b[37m \u001b[0m│\n",
       "│\u001b[35m \u001b[0m\u001b[35mmar_medium   \u001b[0m\u001b[35m \u001b[0m│\u001b[37m \u001b[0m\u001b[37m0.10000 \u001b[0m\u001b[37m \u001b[0m│\n",
       "│\u001b[35m \u001b[0m\u001b[35mmar_large    \u001b[0m\u001b[35m \u001b[0m│\u001b[37m \u001b[0m\u001b[37m0.39348 \u001b[0m\u001b[37m \u001b[0m│\n",
       "│\u001b[35m \u001b[0m\u001b[35mf1_small     \u001b[0m\u001b[35m \u001b[0m│\u001b[37m \u001b[0m\u001b[37m-1.00000\u001b[0m\u001b[37m \u001b[0m│\n",
       "│\u001b[35m \u001b[0m\u001b[35mf1_medium    \u001b[0m\u001b[35m \u001b[0m│\u001b[37m \u001b[0m\u001b[37m0.10025 \u001b[0m\u001b[37m \u001b[0m│\n",
       "│\u001b[35m \u001b[0m\u001b[35mf1_large     \u001b[0m\u001b[35m \u001b[0m│\u001b[37m \u001b[0m\u001b[37m0.34068 \u001b[0m\u001b[37m \u001b[0m│\n",
       "└───────────────┴──────────┘\n"
      ]
     },
     "metadata": {},
     "output_type": "display_data"
    },
    {
     "data": {
      "text/html": [
       "<pre style=\"white-space:pre;overflow-x:auto;line-height:normal;font-family:Menlo,'DejaVu Sans Mono',consolas,'Courier New',monospace\"><span style=\"color: #800080; text-decoration-color: #800080; font-weight: bold\">───────────────────────────────────────────────────────────────────────────────────────────────────────────────────</span>\n",
       "</pre>\n"
      ],
      "text/plain": [
       "\u001b[1;35m───────────────────────────────────────────────────────────────────────────────────────────────────────────────────\u001b[0m\n"
      ]
     },
     "metadata": {},
     "output_type": "display_data"
    },
    {
     "data": {
      "text/html": [
       "<pre style=\"white-space:pre;overflow-x:auto;line-height:normal;font-family:Menlo,'DejaVu Sans Mono',consolas,'Courier New',monospace\"><span style=\"color: #008000; text-decoration-color: #008000\">INFO    </span> Validation main metric <span style=\"font-weight: bold\">(</span>detection_head/detection_map<span style=\"font-weight: bold\">)</span>: <span style=\"color: #008080; text-decoration-color: #008080; font-weight: bold\">0.2819</span>                     <a href=\"file:///home/klemen/luxonis/luxonis-train/luxonis_train/models/luxonis_lightning.py\" target=\"_blank\"><span style=\"color: #7f7f7f; text-decoration-color: #7f7f7f\">luxonis_lightning.py</span></a><span style=\"color: #7f7f7f; text-decoration-color: #7f7f7f\">:</span><a href=\"file:///home/klemen/luxonis/luxonis-train/luxonis_train/models/luxonis_lightning.py#986\" target=\"_blank\"><span style=\"color: #7f7f7f; text-decoration-color: #7f7f7f\">986</span></a>\n",
       "</pre>\n"
      ],
      "text/plain": [
       "\u001b[32mINFO    \u001b[0m Validation main metric \u001b[1m(\u001b[0mdetection_head/detection_map\u001b[1m)\u001b[0m: \u001b[1;36m0.2819\u001b[0m                     \u001b]8;id=465145;file:///home/klemen/luxonis/luxonis-train/luxonis_train/models/luxonis_lightning.py\u001b\\\u001b[2mluxonis_lightning.py\u001b[0m\u001b]8;;\u001b\\\u001b[2m:\u001b[0m\u001b]8;id=443334;file:///home/klemen/luxonis/luxonis-train/luxonis_train/models/luxonis_lightning.py#986\u001b\\\u001b[2m986\u001b[0m\u001b]8;;\u001b\\\n"
      ]
     },
     "metadata": {},
     "output_type": "display_data"
    },
    {
     "data": {
      "text/html": [
       "<pre style=\"white-space:pre;overflow-x:auto;line-height:normal;font-family:Menlo,'DejaVu Sans Mono',consolas,'Courier New',monospace\"></pre>\n"
      ],
      "text/plain": []
     },
     "metadata": {},
     "output_type": "display_data"
    },
    {
     "data": {
      "text/html": [
       "<pre style=\"white-space:pre;overflow-x:auto;line-height:normal;font-family:Menlo,'DejaVu Sans Mono',consolas,'Courier New',monospace\">\n",
       "</pre>\n"
      ],
      "text/plain": [
       "\n"
      ]
     },
     "metadata": {},
     "output_type": "display_data"
    },
    {
     "name": "stderr",
     "output_type": "stream",
     "text": [
      "libpng warning: iCCP: known incorrect sRGB profile\n"
     ]
    },
    {
     "data": {
      "text/html": [
       "<pre style=\"white-space:pre;overflow-x:auto;line-height:normal;font-family:Menlo,'DejaVu Sans Mono',consolas,'Courier New',monospace\"></pre>\n"
      ],
      "text/plain": []
     },
     "metadata": {},
     "output_type": "display_data"
    },
    {
     "data": {
      "text/html": [
       "<pre style=\"white-space:pre;overflow-x:auto;line-height:normal;font-family:Menlo,'DejaVu Sans Mono',consolas,'Courier New',monospace\">\n",
       "</pre>\n"
      ],
      "text/plain": [
       "\n"
      ]
     },
     "metadata": {},
     "output_type": "display_data"
    },
    {
     "name": "stderr",
     "output_type": "stream",
     "text": [
      "libpng warning: iCCP: known incorrect sRGB profile\n"
     ]
    },
    {
     "data": {
      "text/html": [
       "<pre style=\"white-space:pre;overflow-x:auto;line-height:normal;font-family:Menlo,'DejaVu Sans Mono',consolas,'Courier New',monospace\"></pre>\n"
      ],
      "text/plain": []
     },
     "metadata": {},
     "output_type": "display_data"
    },
    {
     "data": {
      "text/html": [
       "<pre style=\"white-space:pre;overflow-x:auto;line-height:normal;font-family:Menlo,'DejaVu Sans Mono',consolas,'Courier New',monospace\">\n",
       "</pre>\n"
      ],
      "text/plain": [
       "\n"
      ]
     },
     "metadata": {},
     "output_type": "display_data"
    },
    {
     "name": "stderr",
     "output_type": "stream",
     "text": [
      "libpng warning: iCCP: known incorrect sRGB profile\n"
     ]
    },
    {
     "data": {
      "text/html": [
       "<pre style=\"white-space:pre;overflow-x:auto;line-height:normal;font-family:Menlo,'DejaVu Sans Mono',consolas,'Courier New',monospace\"></pre>\n"
      ],
      "text/plain": []
     },
     "metadata": {},
     "output_type": "display_data"
    },
    {
     "data": {
      "text/html": [
       "<pre style=\"white-space:pre;overflow-x:auto;line-height:normal;font-family:Menlo,'DejaVu Sans Mono',consolas,'Courier New',monospace\">\n",
       "</pre>\n"
      ],
      "text/plain": [
       "\n"
      ]
     },
     "metadata": {},
     "output_type": "display_data"
    },
    {
     "name": "stderr",
     "output_type": "stream",
     "text": [
      "libpng warning: iCCP: known incorrect sRGB profile\n"
     ]
    },
    {
     "data": {
      "text/html": [
       "<pre style=\"white-space:pre;overflow-x:auto;line-height:normal;font-family:Menlo,'DejaVu Sans Mono',consolas,'Courier New',monospace\"></pre>\n"
      ],
      "text/plain": []
     },
     "metadata": {},
     "output_type": "display_data"
    },
    {
     "data": {
      "text/html": [
       "<pre style=\"white-space:pre;overflow-x:auto;line-height:normal;font-family:Menlo,'DejaVu Sans Mono',consolas,'Courier New',monospace\">\n",
       "</pre>\n"
      ],
      "text/plain": [
       "\n"
      ]
     },
     "metadata": {},
     "output_type": "display_data"
    },
    {
     "name": "stderr",
     "output_type": "stream",
     "text": [
      "libpng warning: iCCP: known incorrect sRGB profile\n"
     ]
    },
    {
     "data": {
      "text/html": [
       "<pre style=\"white-space:pre;overflow-x:auto;line-height:normal;font-family:Menlo,'DejaVu Sans Mono',consolas,'Courier New',monospace\"></pre>\n"
      ],
      "text/plain": []
     },
     "metadata": {},
     "output_type": "display_data"
    },
    {
     "data": {
      "text/html": [
       "<pre style=\"white-space:pre;overflow-x:auto;line-height:normal;font-family:Menlo,'DejaVu Sans Mono',consolas,'Courier New',monospace\">\n",
       "</pre>\n"
      ],
      "text/plain": [
       "\n"
      ]
     },
     "metadata": {},
     "output_type": "display_data"
    },
    {
     "name": "stderr",
     "output_type": "stream",
     "text": [
      "libpng warning: iCCP: known incorrect sRGB profile\n"
     ]
    },
    {
     "data": {
      "text/html": [
       "<pre style=\"white-space:pre;overflow-x:auto;line-height:normal;font-family:Menlo,'DejaVu Sans Mono',consolas,'Courier New',monospace\"></pre>\n"
      ],
      "text/plain": []
     },
     "metadata": {},
     "output_type": "display_data"
    },
    {
     "data": {
      "text/html": [
       "<pre style=\"white-space:pre;overflow-x:auto;line-height:normal;font-family:Menlo,'DejaVu Sans Mono',consolas,'Courier New',monospace\">\n",
       "</pre>\n"
      ],
      "text/plain": [
       "\n"
      ]
     },
     "metadata": {},
     "output_type": "display_data"
    },
    {
     "name": "stderr",
     "output_type": "stream",
     "text": [
      "libpng warning: iCCP: known incorrect sRGB profile\n"
     ]
    },
    {
     "data": {
      "text/html": [
       "<pre style=\"white-space:pre;overflow-x:auto;line-height:normal;font-family:Menlo,'DejaVu Sans Mono',consolas,'Courier New',monospace\"></pre>\n"
      ],
      "text/plain": []
     },
     "metadata": {},
     "output_type": "display_data"
    },
    {
     "data": {
      "text/html": [
       "<pre style=\"white-space:pre;overflow-x:auto;line-height:normal;font-family:Menlo,'DejaVu Sans Mono',consolas,'Courier New',monospace\">\n",
       "</pre>\n"
      ],
      "text/plain": [
       "\n"
      ]
     },
     "metadata": {},
     "output_type": "display_data"
    },
    {
     "name": "stderr",
     "output_type": "stream",
     "text": [
      "libpng warning: iCCP: known incorrect sRGB profile\n"
     ]
    },
    {
     "data": {
      "text/html": [
       "<pre style=\"white-space:pre;overflow-x:auto;line-height:normal;font-family:Menlo,'DejaVu Sans Mono',consolas,'Courier New',monospace\"></pre>\n"
      ],
      "text/plain": []
     },
     "metadata": {},
     "output_type": "display_data"
    },
    {
     "data": {
      "text/html": [
       "<pre style=\"white-space:pre;overflow-x:auto;line-height:normal;font-family:Menlo,'DejaVu Sans Mono',consolas,'Courier New',monospace\">\n",
       "</pre>\n"
      ],
      "text/plain": [
       "\n"
      ]
     },
     "metadata": {},
     "output_type": "display_data"
    },
    {
     "name": "stderr",
     "output_type": "stream",
     "text": [
      "libpng warning: iCCP: known incorrect sRGB profile\n"
     ]
    },
    {
     "data": {
      "text/html": [
       "<pre style=\"white-space:pre;overflow-x:auto;line-height:normal;font-family:Menlo,'DejaVu Sans Mono',consolas,'Courier New',monospace\"></pre>\n"
      ],
      "text/plain": []
     },
     "metadata": {},
     "output_type": "display_data"
    },
    {
     "data": {
      "text/html": [
       "<pre style=\"white-space:pre;overflow-x:auto;line-height:normal;font-family:Menlo,'DejaVu Sans Mono',consolas,'Courier New',monospace\">\n",
       "</pre>\n"
      ],
      "text/plain": [
       "\n"
      ]
     },
     "metadata": {},
     "output_type": "display_data"
    },
    {
     "name": "stderr",
     "output_type": "stream",
     "text": [
      "libpng warning: iCCP: known incorrect sRGB profile\n",
      "libpng warning: iCCP: known incorrect sRGB profile\n",
      "libpng warning: iCCP: known incorrect sRGB profile\n",
      "libpng warning: iCCP: known incorrect sRGB profile\n"
     ]
    },
    {
     "data": {
      "text/html": [
       "<pre style=\"white-space:pre;overflow-x:auto;line-height:normal;font-family:Menlo,'DejaVu Sans Mono',consolas,'Courier New',monospace\"><span style=\"color: #008000; text-decoration-color: #008000\">INFO    </span> Computing metrics on val subset <span style=\"color: #808000; text-decoration-color: #808000\">...</span>                                               <a href=\"file:///home/klemen/luxonis/luxonis-train/luxonis_train/models/luxonis_lightning.py\" target=\"_blank\"><span style=\"color: #7f7f7f; text-decoration-color: #7f7f7f\">luxonis_lightning.py</span></a><span style=\"color: #7f7f7f; text-decoration-color: #7f7f7f\">:</span><a href=\"file:///home/klemen/luxonis/luxonis-train/luxonis_train/models/luxonis_lightning.py#770\" target=\"_blank\"><span style=\"color: #7f7f7f; text-decoration-color: #7f7f7f\">770</span></a>\n",
       "</pre>\n"
      ],
      "text/plain": [
       "\u001b[32mINFO    \u001b[0m Computing metrics on val subset \u001b[33m...\u001b[0m                                               \u001b]8;id=145076;file:///home/klemen/luxonis/luxonis-train/luxonis_train/models/luxonis_lightning.py\u001b\\\u001b[2mluxonis_lightning.py\u001b[0m\u001b]8;;\u001b\\\u001b[2m:\u001b[0m\u001b]8;id=93645;file:///home/klemen/luxonis/luxonis-train/luxonis_train/models/luxonis_lightning.py#770\u001b\\\u001b[2m770\u001b[0m\u001b]8;;\u001b\\\n"
      ]
     },
     "metadata": {},
     "output_type": "display_data"
    },
    {
     "data": {
      "text/html": [
       "<pre style=\"white-space:pre;overflow-x:auto;line-height:normal;font-family:Menlo,'DejaVu Sans Mono',consolas,'Courier New',monospace\"><span style=\"color: #008000; text-decoration-color: #008000\">INFO    </span> Metrics computed.                                                                 <a href=\"file:///home/klemen/luxonis/luxonis-train/luxonis_train/models/luxonis_lightning.py\" target=\"_blank\"><span style=\"color: #7f7f7f; text-decoration-color: #7f7f7f\">luxonis_lightning.py</span></a><span style=\"color: #7f7f7f; text-decoration-color: #7f7f7f\">:</span><a href=\"file:///home/klemen/luxonis/luxonis-train/luxonis_train/models/luxonis_lightning.py#772\" target=\"_blank\"><span style=\"color: #7f7f7f; text-decoration-color: #7f7f7f\">772</span></a>\n",
       "</pre>\n"
      ],
      "text/plain": [
       "\u001b[32mINFO    \u001b[0m Metrics computed.                                                                 \u001b]8;id=313089;file:///home/klemen/luxonis/luxonis-train/luxonis_train/models/luxonis_lightning.py\u001b\\\u001b[2mluxonis_lightning.py\u001b[0m\u001b]8;;\u001b\\\u001b[2m:\u001b[0m\u001b]8;id=389416;file:///home/klemen/luxonis/luxonis-train/luxonis_train/models/luxonis_lightning.py#772\u001b\\\u001b[2m772\u001b[0m\u001b]8;;\u001b\\\n"
      ]
     },
     "metadata": {},
     "output_type": "display_data"
    },
    {
     "data": {
      "text/html": [
       "<pre style=\"white-space:pre;overflow-x:auto;line-height:normal;font-family:Menlo,'DejaVu Sans Mono',consolas,'Courier New',monospace\"><span style=\"color: #008000; text-decoration-color: #008000\">INFO    </span> Validation loss: <span style=\"color: #008080; text-decoration-color: #008080; font-weight: bold\">1.5835</span>                                                           <a href=\"file:///home/klemen/luxonis/luxonis-train/luxonis_train/models/luxonis_lightning.py\" target=\"_blank\"><span style=\"color: #7f7f7f; text-decoration-color: #7f7f7f\">luxonis_lightning.py</span></a><span style=\"color: #7f7f7f; text-decoration-color: #7f7f7f\">:</span><a href=\"file:///home/klemen/luxonis/luxonis-train/luxonis_train/models/luxonis_lightning.py#977\" target=\"_blank\"><span style=\"color: #7f7f7f; text-decoration-color: #7f7f7f\">977</span></a>\n",
       "</pre>\n"
      ],
      "text/plain": [
       "\u001b[32mINFO    \u001b[0m Validation loss: \u001b[1;36m1.5835\u001b[0m                                                           \u001b]8;id=731864;file:///home/klemen/luxonis/luxonis-train/luxonis_train/models/luxonis_lightning.py\u001b\\\u001b[2mluxonis_lightning.py\u001b[0m\u001b]8;;\u001b\\\u001b[2m:\u001b[0m\u001b]8;id=451150;file:///home/klemen/luxonis/luxonis-train/luxonis_train/models/luxonis_lightning.py#977\u001b\\\u001b[2m977\u001b[0m\u001b]8;;\u001b\\\n"
      ]
     },
     "metadata": {},
     "output_type": "display_data"
    },
    {
     "data": {
      "text/html": [
       "<pre style=\"white-space:pre;overflow-x:auto;line-height:normal;font-family:Menlo,'DejaVu Sans Mono',consolas,'Courier New',monospace\"><span style=\"color: #800080; text-decoration-color: #800080; font-weight: bold\">─────────────────────────────────────────────────── </span>Validation<span style=\"color: #800080; text-decoration-color: #800080; font-weight: bold\"> ────────────────────────────────────────────────────</span>\n",
       "</pre>\n"
      ],
      "text/plain": [
       "\u001b[1;35m─────────────────────────────────────────────────── \u001b[0mValidation\u001b[1;35m ────────────────────────────────────────────────────\u001b[0m\n"
      ]
     },
     "metadata": {},
     "output_type": "display_data"
    },
    {
     "data": {
      "text/html": [
       "<pre style=\"white-space:pre;overflow-x:auto;line-height:normal;font-family:Menlo,'DejaVu Sans Mono',consolas,'Courier New',monospace\"><span style=\"color: #800080; text-decoration-color: #800080; font-weight: bold\">Loss:</span> <span style=\"color: #c0c0c0; text-decoration-color: #c0c0c0; font-weight: bold\">1.583452006181081</span>\n",
       "</pre>\n"
      ],
      "text/plain": [
       "\u001b[1;35mLoss:\u001b[0m \u001b[1;37m1.583452006181081\u001b[0m\n"
      ]
     },
     "metadata": {},
     "output_type": "display_data"
    },
    {
     "data": {
      "text/html": [
       "<pre style=\"white-space:pre;overflow-x:auto;line-height:normal;font-family:Menlo,'DejaVu Sans Mono',consolas,'Courier New',monospace\"><span style=\"color: #800080; text-decoration-color: #800080; font-weight: bold\">Metrics:</span>\n",
       "</pre>\n"
      ],
      "text/plain": [
       "\u001b[1;35mMetrics:\u001b[0m\n"
      ]
     },
     "metadata": {},
     "output_type": "display_data"
    },
    {
     "data": {
      "text/html": [
       "<pre style=\"white-space:pre;overflow-x:auto;line-height:normal;font-family:Menlo,'DejaVu Sans Mono',consolas,'Courier New',monospace\"><span style=\"font-style: italic\">       detection_head       </span>\n",
       "┏━━━━━━━━━━━━━━━┳━━━━━━━━━━┓\n",
       "┃<span style=\"color: #800080; text-decoration-color: #800080; font-weight: bold\"> Name          </span>┃<span style=\"color: #800080; text-decoration-color: #800080; font-weight: bold\"> Value    </span>┃\n",
       "┡━━━━━━━━━━━━━━━╇━━━━━━━━━━┩\n",
       "│<span style=\"color: #800080; text-decoration-color: #800080\"> detection_map </span>│<span style=\"color: #c0c0c0; text-decoration-color: #c0c0c0\"> 0.29452  </span>│\n",
       "│<span style=\"color: #800080; text-decoration-color: #800080\"> map_50        </span>│<span style=\"color: #c0c0c0; text-decoration-color: #c0c0c0\"> 0.57223  </span>│\n",
       "│<span style=\"color: #800080; text-decoration-color: #800080\"> map_75        </span>│<span style=\"color: #c0c0c0; text-decoration-color: #c0c0c0\"> 0.24686  </span>│\n",
       "│<span style=\"color: #800080; text-decoration-color: #800080\"> map_small     </span>│<span style=\"color: #c0c0c0; text-decoration-color: #c0c0c0\"> -1.00000 </span>│\n",
       "│<span style=\"color: #800080; text-decoration-color: #800080\"> map_medium    </span>│<span style=\"color: #c0c0c0; text-decoration-color: #c0c0c0\"> 0.02525  </span>│\n",
       "│<span style=\"color: #800080; text-decoration-color: #800080\"> map_large     </span>│<span style=\"color: #c0c0c0; text-decoration-color: #c0c0c0\"> 0.31608  </span>│\n",
       "│<span style=\"color: #800080; text-decoration-color: #800080\"> mar_1         </span>│<span style=\"color: #c0c0c0; text-decoration-color: #c0c0c0\"> 0.28166  </span>│\n",
       "│<span style=\"color: #800080; text-decoration-color: #800080\"> mar_10        </span>│<span style=\"color: #c0c0c0; text-decoration-color: #c0c0c0\"> 0.35415  </span>│\n",
       "│<span style=\"color: #800080; text-decoration-color: #800080\"> mar_100       </span>│<span style=\"color: #c0c0c0; text-decoration-color: #c0c0c0\"> 0.35415  </span>│\n",
       "│<span style=\"color: #800080; text-decoration-color: #800080\"> mar_small     </span>│<span style=\"color: #c0c0c0; text-decoration-color: #c0c0c0\"> -1.00000 </span>│\n",
       "│<span style=\"color: #800080; text-decoration-color: #800080\"> mar_medium    </span>│<span style=\"color: #c0c0c0; text-decoration-color: #c0c0c0\"> 0.02500  </span>│\n",
       "│<span style=\"color: #800080; text-decoration-color: #800080\"> mar_large     </span>│<span style=\"color: #c0c0c0; text-decoration-color: #c0c0c0\"> 0.38114  </span>│\n",
       "│<span style=\"color: #800080; text-decoration-color: #800080\"> f1_small      </span>│<span style=\"color: #c0c0c0; text-decoration-color: #c0c0c0\"> -1.00000 </span>│\n",
       "│<span style=\"color: #800080; text-decoration-color: #800080\"> f1_medium     </span>│<span style=\"color: #c0c0c0; text-decoration-color: #c0c0c0\"> 0.02512  </span>│\n",
       "│<span style=\"color: #800080; text-decoration-color: #800080\"> f1_large      </span>│<span style=\"color: #c0c0c0; text-decoration-color: #c0c0c0\"> 0.34557  </span>│\n",
       "└───────────────┴──────────┘\n",
       "</pre>\n"
      ],
      "text/plain": [
       "\u001b[3m       detection_head       \u001b[0m\n",
       "┏━━━━━━━━━━━━━━━┳━━━━━━━━━━┓\n",
       "┃\u001b[1;35m \u001b[0m\u001b[1;35mName         \u001b[0m\u001b[1;35m \u001b[0m┃\u001b[1;35m \u001b[0m\u001b[1;35mValue   \u001b[0m\u001b[1;35m \u001b[0m┃\n",
       "┡━━━━━━━━━━━━━━━╇━━━━━━━━━━┩\n",
       "│\u001b[35m \u001b[0m\u001b[35mdetection_map\u001b[0m\u001b[35m \u001b[0m│\u001b[37m \u001b[0m\u001b[37m0.29452 \u001b[0m\u001b[37m \u001b[0m│\n",
       "│\u001b[35m \u001b[0m\u001b[35mmap_50       \u001b[0m\u001b[35m \u001b[0m│\u001b[37m \u001b[0m\u001b[37m0.57223 \u001b[0m\u001b[37m \u001b[0m│\n",
       "│\u001b[35m \u001b[0m\u001b[35mmap_75       \u001b[0m\u001b[35m \u001b[0m│\u001b[37m \u001b[0m\u001b[37m0.24686 \u001b[0m\u001b[37m \u001b[0m│\n",
       "│\u001b[35m \u001b[0m\u001b[35mmap_small    \u001b[0m\u001b[35m \u001b[0m│\u001b[37m \u001b[0m\u001b[37m-1.00000\u001b[0m\u001b[37m \u001b[0m│\n",
       "│\u001b[35m \u001b[0m\u001b[35mmap_medium   \u001b[0m\u001b[35m \u001b[0m│\u001b[37m \u001b[0m\u001b[37m0.02525 \u001b[0m\u001b[37m \u001b[0m│\n",
       "│\u001b[35m \u001b[0m\u001b[35mmap_large    \u001b[0m\u001b[35m \u001b[0m│\u001b[37m \u001b[0m\u001b[37m0.31608 \u001b[0m\u001b[37m \u001b[0m│\n",
       "│\u001b[35m \u001b[0m\u001b[35mmar_1        \u001b[0m\u001b[35m \u001b[0m│\u001b[37m \u001b[0m\u001b[37m0.28166 \u001b[0m\u001b[37m \u001b[0m│\n",
       "│\u001b[35m \u001b[0m\u001b[35mmar_10       \u001b[0m\u001b[35m \u001b[0m│\u001b[37m \u001b[0m\u001b[37m0.35415 \u001b[0m\u001b[37m \u001b[0m│\n",
       "│\u001b[35m \u001b[0m\u001b[35mmar_100      \u001b[0m\u001b[35m \u001b[0m│\u001b[37m \u001b[0m\u001b[37m0.35415 \u001b[0m\u001b[37m \u001b[0m│\n",
       "│\u001b[35m \u001b[0m\u001b[35mmar_small    \u001b[0m\u001b[35m \u001b[0m│\u001b[37m \u001b[0m\u001b[37m-1.00000\u001b[0m\u001b[37m \u001b[0m│\n",
       "│\u001b[35m \u001b[0m\u001b[35mmar_medium   \u001b[0m\u001b[35m \u001b[0m│\u001b[37m \u001b[0m\u001b[37m0.02500 \u001b[0m\u001b[37m \u001b[0m│\n",
       "│\u001b[35m \u001b[0m\u001b[35mmar_large    \u001b[0m\u001b[35m \u001b[0m│\u001b[37m \u001b[0m\u001b[37m0.38114 \u001b[0m\u001b[37m \u001b[0m│\n",
       "│\u001b[35m \u001b[0m\u001b[35mf1_small     \u001b[0m\u001b[35m \u001b[0m│\u001b[37m \u001b[0m\u001b[37m-1.00000\u001b[0m\u001b[37m \u001b[0m│\n",
       "│\u001b[35m \u001b[0m\u001b[35mf1_medium    \u001b[0m\u001b[35m \u001b[0m│\u001b[37m \u001b[0m\u001b[37m0.02512 \u001b[0m\u001b[37m \u001b[0m│\n",
       "│\u001b[35m \u001b[0m\u001b[35mf1_large     \u001b[0m\u001b[35m \u001b[0m│\u001b[37m \u001b[0m\u001b[37m0.34557 \u001b[0m\u001b[37m \u001b[0m│\n",
       "└───────────────┴──────────┘\n"
      ]
     },
     "metadata": {},
     "output_type": "display_data"
    },
    {
     "data": {
      "text/html": [
       "<pre style=\"white-space:pre;overflow-x:auto;line-height:normal;font-family:Menlo,'DejaVu Sans Mono',consolas,'Courier New',monospace\"><span style=\"color: #800080; text-decoration-color: #800080; font-weight: bold\">───────────────────────────────────────────────────────────────────────────────────────────────────────────────────</span>\n",
       "</pre>\n"
      ],
      "text/plain": [
       "\u001b[1;35m───────────────────────────────────────────────────────────────────────────────────────────────────────────────────\u001b[0m\n"
      ]
     },
     "metadata": {},
     "output_type": "display_data"
    },
    {
     "data": {
      "text/html": [
       "<pre style=\"white-space:pre;overflow-x:auto;line-height:normal;font-family:Menlo,'DejaVu Sans Mono',consolas,'Courier New',monospace\"><span style=\"color: #008000; text-decoration-color: #008000\">INFO    </span> Validation main metric <span style=\"font-weight: bold\">(</span>detection_head/detection_map<span style=\"font-weight: bold\">)</span>: <span style=\"color: #008080; text-decoration-color: #008080; font-weight: bold\">0.2945</span>                     <a href=\"file:///home/klemen/luxonis/luxonis-train/luxonis_train/models/luxonis_lightning.py\" target=\"_blank\"><span style=\"color: #7f7f7f; text-decoration-color: #7f7f7f\">luxonis_lightning.py</span></a><span style=\"color: #7f7f7f; text-decoration-color: #7f7f7f\">:</span><a href=\"file:///home/klemen/luxonis/luxonis-train/luxonis_train/models/luxonis_lightning.py#986\" target=\"_blank\"><span style=\"color: #7f7f7f; text-decoration-color: #7f7f7f\">986</span></a>\n",
       "</pre>\n"
      ],
      "text/plain": [
       "\u001b[32mINFO    \u001b[0m Validation main metric \u001b[1m(\u001b[0mdetection_head/detection_map\u001b[1m)\u001b[0m: \u001b[1;36m0.2945\u001b[0m                     \u001b]8;id=893305;file:///home/klemen/luxonis/luxonis-train/luxonis_train/models/luxonis_lightning.py\u001b\\\u001b[2mluxonis_lightning.py\u001b[0m\u001b]8;;\u001b\\\u001b[2m:\u001b[0m\u001b]8;id=67394;file:///home/klemen/luxonis/luxonis-train/luxonis_train/models/luxonis_lightning.py#986\u001b\\\u001b[2m986\u001b[0m\u001b]8;;\u001b\\\n"
      ]
     },
     "metadata": {},
     "output_type": "display_data"
    },
    {
     "data": {
      "text/html": [
       "<pre style=\"white-space:pre;overflow-x:auto;line-height:normal;font-family:Menlo,'DejaVu Sans Mono',consolas,'Courier New',monospace\"></pre>\n"
      ],
      "text/plain": []
     },
     "metadata": {},
     "output_type": "display_data"
    },
    {
     "data": {
      "text/html": [
       "<pre style=\"white-space:pre;overflow-x:auto;line-height:normal;font-family:Menlo,'DejaVu Sans Mono',consolas,'Courier New',monospace\">\n",
       "</pre>\n"
      ],
      "text/plain": [
       "\n"
      ]
     },
     "metadata": {},
     "output_type": "display_data"
    },
    {
     "name": "stderr",
     "output_type": "stream",
     "text": [
      "libpng warning: iCCP: known incorrect sRGB profile\n"
     ]
    },
    {
     "data": {
      "text/html": [
       "<pre style=\"white-space:pre;overflow-x:auto;line-height:normal;font-family:Menlo,'DejaVu Sans Mono',consolas,'Courier New',monospace\"></pre>\n"
      ],
      "text/plain": []
     },
     "metadata": {},
     "output_type": "display_data"
    },
    {
     "data": {
      "text/html": [
       "<pre style=\"white-space:pre;overflow-x:auto;line-height:normal;font-family:Menlo,'DejaVu Sans Mono',consolas,'Courier New',monospace\">\n",
       "</pre>\n"
      ],
      "text/plain": [
       "\n"
      ]
     },
     "metadata": {},
     "output_type": "display_data"
    },
    {
     "name": "stderr",
     "output_type": "stream",
     "text": [
      "libpng warning: iCCP: known incorrect sRGB profile\n"
     ]
    },
    {
     "data": {
      "text/html": [
       "<pre style=\"white-space:pre;overflow-x:auto;line-height:normal;font-family:Menlo,'DejaVu Sans Mono',consolas,'Courier New',monospace\"></pre>\n"
      ],
      "text/plain": []
     },
     "metadata": {},
     "output_type": "display_data"
    },
    {
     "data": {
      "text/html": [
       "<pre style=\"white-space:pre;overflow-x:auto;line-height:normal;font-family:Menlo,'DejaVu Sans Mono',consolas,'Courier New',monospace\">\n",
       "</pre>\n"
      ],
      "text/plain": [
       "\n"
      ]
     },
     "metadata": {},
     "output_type": "display_data"
    },
    {
     "name": "stderr",
     "output_type": "stream",
     "text": [
      "libpng warning: iCCP: known incorrect sRGB profile\n"
     ]
    },
    {
     "data": {
      "text/html": [
       "<pre style=\"white-space:pre;overflow-x:auto;line-height:normal;font-family:Menlo,'DejaVu Sans Mono',consolas,'Courier New',monospace\"></pre>\n"
      ],
      "text/plain": []
     },
     "metadata": {},
     "output_type": "display_data"
    },
    {
     "data": {
      "text/html": [
       "<pre style=\"white-space:pre;overflow-x:auto;line-height:normal;font-family:Menlo,'DejaVu Sans Mono',consolas,'Courier New',monospace\">\n",
       "</pre>\n"
      ],
      "text/plain": [
       "\n"
      ]
     },
     "metadata": {},
     "output_type": "display_data"
    },
    {
     "name": "stderr",
     "output_type": "stream",
     "text": [
      "libpng warning: iCCP: known incorrect sRGB profile\n"
     ]
    },
    {
     "data": {
      "text/html": [
       "<pre style=\"white-space:pre;overflow-x:auto;line-height:normal;font-family:Menlo,'DejaVu Sans Mono',consolas,'Courier New',monospace\"></pre>\n"
      ],
      "text/plain": []
     },
     "metadata": {},
     "output_type": "display_data"
    },
    {
     "data": {
      "text/html": [
       "<pre style=\"white-space:pre;overflow-x:auto;line-height:normal;font-family:Menlo,'DejaVu Sans Mono',consolas,'Courier New',monospace\">\n",
       "</pre>\n"
      ],
      "text/plain": [
       "\n"
      ]
     },
     "metadata": {},
     "output_type": "display_data"
    },
    {
     "name": "stderr",
     "output_type": "stream",
     "text": [
      "libpng warning: iCCP: known incorrect sRGB profile\n"
     ]
    },
    {
     "data": {
      "text/html": [
       "<pre style=\"white-space:pre;overflow-x:auto;line-height:normal;font-family:Menlo,'DejaVu Sans Mono',consolas,'Courier New',monospace\"></pre>\n"
      ],
      "text/plain": []
     },
     "metadata": {},
     "output_type": "display_data"
    },
    {
     "data": {
      "text/html": [
       "<pre style=\"white-space:pre;overflow-x:auto;line-height:normal;font-family:Menlo,'DejaVu Sans Mono',consolas,'Courier New',monospace\">\n",
       "</pre>\n"
      ],
      "text/plain": [
       "\n"
      ]
     },
     "metadata": {},
     "output_type": "display_data"
    },
    {
     "name": "stderr",
     "output_type": "stream",
     "text": [
      "libpng warning: iCCP: known incorrect sRGB profile\n"
     ]
    },
    {
     "data": {
      "text/html": [
       "<pre style=\"white-space:pre;overflow-x:auto;line-height:normal;font-family:Menlo,'DejaVu Sans Mono',consolas,'Courier New',monospace\"></pre>\n"
      ],
      "text/plain": []
     },
     "metadata": {},
     "output_type": "display_data"
    },
    {
     "data": {
      "text/html": [
       "<pre style=\"white-space:pre;overflow-x:auto;line-height:normal;font-family:Menlo,'DejaVu Sans Mono',consolas,'Courier New',monospace\">\n",
       "</pre>\n"
      ],
      "text/plain": [
       "\n"
      ]
     },
     "metadata": {},
     "output_type": "display_data"
    },
    {
     "name": "stderr",
     "output_type": "stream",
     "text": [
      "libpng warning: iCCP: known incorrect sRGB profile\n"
     ]
    },
    {
     "data": {
      "text/html": [
       "<pre style=\"white-space:pre;overflow-x:auto;line-height:normal;font-family:Menlo,'DejaVu Sans Mono',consolas,'Courier New',monospace\"></pre>\n"
      ],
      "text/plain": []
     },
     "metadata": {},
     "output_type": "display_data"
    },
    {
     "data": {
      "text/html": [
       "<pre style=\"white-space:pre;overflow-x:auto;line-height:normal;font-family:Menlo,'DejaVu Sans Mono',consolas,'Courier New',monospace\">\n",
       "</pre>\n"
      ],
      "text/plain": [
       "\n"
      ]
     },
     "metadata": {},
     "output_type": "display_data"
    },
    {
     "name": "stderr",
     "output_type": "stream",
     "text": [
      "libpng warning: iCCP: known incorrect sRGB profile\n"
     ]
    },
    {
     "data": {
      "text/html": [
       "<pre style=\"white-space:pre;overflow-x:auto;line-height:normal;font-family:Menlo,'DejaVu Sans Mono',consolas,'Courier New',monospace\"></pre>\n"
      ],
      "text/plain": []
     },
     "metadata": {},
     "output_type": "display_data"
    },
    {
     "data": {
      "text/html": [
       "<pre style=\"white-space:pre;overflow-x:auto;line-height:normal;font-family:Menlo,'DejaVu Sans Mono',consolas,'Courier New',monospace\">\n",
       "</pre>\n"
      ],
      "text/plain": [
       "\n"
      ]
     },
     "metadata": {},
     "output_type": "display_data"
    },
    {
     "name": "stderr",
     "output_type": "stream",
     "text": [
      "libpng warning: iCCP: known incorrect sRGB profile\n"
     ]
    },
    {
     "data": {
      "text/html": [
       "<pre style=\"white-space:pre;overflow-x:auto;line-height:normal;font-family:Menlo,'DejaVu Sans Mono',consolas,'Courier New',monospace\"></pre>\n"
      ],
      "text/plain": []
     },
     "metadata": {},
     "output_type": "display_data"
    },
    {
     "data": {
      "text/html": [
       "<pre style=\"white-space:pre;overflow-x:auto;line-height:normal;font-family:Menlo,'DejaVu Sans Mono',consolas,'Courier New',monospace\">\n",
       "</pre>\n"
      ],
      "text/plain": [
       "\n"
      ]
     },
     "metadata": {},
     "output_type": "display_data"
    },
    {
     "name": "stderr",
     "output_type": "stream",
     "text": [
      "libpng warning: iCCP: known incorrect sRGB profile\n",
      "libpng warning: iCCP: known incorrect sRGB profile\n",
      "libpng warning: iCCP: known incorrect sRGB profile\n",
      "libpng warning: iCCP: known incorrect sRGB profile\n"
     ]
    },
    {
     "data": {
      "text/html": [
       "<pre style=\"white-space:pre;overflow-x:auto;line-height:normal;font-family:Menlo,'DejaVu Sans Mono',consolas,'Courier New',monospace\"><span style=\"color: #008000; text-decoration-color: #008000\">INFO    </span> Computing metrics on val subset <span style=\"color: #808000; text-decoration-color: #808000\">...</span>                                               <a href=\"file:///home/klemen/luxonis/luxonis-train/luxonis_train/models/luxonis_lightning.py\" target=\"_blank\"><span style=\"color: #7f7f7f; text-decoration-color: #7f7f7f\">luxonis_lightning.py</span></a><span style=\"color: #7f7f7f; text-decoration-color: #7f7f7f\">:</span><a href=\"file:///home/klemen/luxonis/luxonis-train/luxonis_train/models/luxonis_lightning.py#770\" target=\"_blank\"><span style=\"color: #7f7f7f; text-decoration-color: #7f7f7f\">770</span></a>\n",
       "</pre>\n"
      ],
      "text/plain": [
       "\u001b[32mINFO    \u001b[0m Computing metrics on val subset \u001b[33m...\u001b[0m                                               \u001b]8;id=326189;file:///home/klemen/luxonis/luxonis-train/luxonis_train/models/luxonis_lightning.py\u001b\\\u001b[2mluxonis_lightning.py\u001b[0m\u001b]8;;\u001b\\\u001b[2m:\u001b[0m\u001b]8;id=797488;file:///home/klemen/luxonis/luxonis-train/luxonis_train/models/luxonis_lightning.py#770\u001b\\\u001b[2m770\u001b[0m\u001b]8;;\u001b\\\n"
      ]
     },
     "metadata": {},
     "output_type": "display_data"
    },
    {
     "data": {
      "text/html": [
       "<pre style=\"white-space:pre;overflow-x:auto;line-height:normal;font-family:Menlo,'DejaVu Sans Mono',consolas,'Courier New',monospace\"><span style=\"color: #008000; text-decoration-color: #008000\">INFO    </span> Metrics computed.                                                                 <a href=\"file:///home/klemen/luxonis/luxonis-train/luxonis_train/models/luxonis_lightning.py\" target=\"_blank\"><span style=\"color: #7f7f7f; text-decoration-color: #7f7f7f\">luxonis_lightning.py</span></a><span style=\"color: #7f7f7f; text-decoration-color: #7f7f7f\">:</span><a href=\"file:///home/klemen/luxonis/luxonis-train/luxonis_train/models/luxonis_lightning.py#772\" target=\"_blank\"><span style=\"color: #7f7f7f; text-decoration-color: #7f7f7f\">772</span></a>\n",
       "</pre>\n"
      ],
      "text/plain": [
       "\u001b[32mINFO    \u001b[0m Metrics computed.                                                                 \u001b]8;id=641926;file:///home/klemen/luxonis/luxonis-train/luxonis_train/models/luxonis_lightning.py\u001b\\\u001b[2mluxonis_lightning.py\u001b[0m\u001b]8;;\u001b\\\u001b[2m:\u001b[0m\u001b]8;id=964248;file:///home/klemen/luxonis/luxonis-train/luxonis_train/models/luxonis_lightning.py#772\u001b\\\u001b[2m772\u001b[0m\u001b]8;;\u001b\\\n"
      ]
     },
     "metadata": {},
     "output_type": "display_data"
    },
    {
     "data": {
      "text/html": [
       "<pre style=\"white-space:pre;overflow-x:auto;line-height:normal;font-family:Menlo,'DejaVu Sans Mono',consolas,'Courier New',monospace\"><span style=\"color: #008000; text-decoration-color: #008000\">INFO    </span> Validation loss: <span style=\"color: #008080; text-decoration-color: #008080; font-weight: bold\">1.5140</span>                                                           <a href=\"file:///home/klemen/luxonis/luxonis-train/luxonis_train/models/luxonis_lightning.py\" target=\"_blank\"><span style=\"color: #7f7f7f; text-decoration-color: #7f7f7f\">luxonis_lightning.py</span></a><span style=\"color: #7f7f7f; text-decoration-color: #7f7f7f\">:</span><a href=\"file:///home/klemen/luxonis/luxonis-train/luxonis_train/models/luxonis_lightning.py#977\" target=\"_blank\"><span style=\"color: #7f7f7f; text-decoration-color: #7f7f7f\">977</span></a>\n",
       "</pre>\n"
      ],
      "text/plain": [
       "\u001b[32mINFO    \u001b[0m Validation loss: \u001b[1;36m1.5140\u001b[0m                                                           \u001b]8;id=330362;file:///home/klemen/luxonis/luxonis-train/luxonis_train/models/luxonis_lightning.py\u001b\\\u001b[2mluxonis_lightning.py\u001b[0m\u001b]8;;\u001b\\\u001b[2m:\u001b[0m\u001b]8;id=179464;file:///home/klemen/luxonis/luxonis-train/luxonis_train/models/luxonis_lightning.py#977\u001b\\\u001b[2m977\u001b[0m\u001b]8;;\u001b\\\n"
      ]
     },
     "metadata": {},
     "output_type": "display_data"
    },
    {
     "data": {
      "text/html": [
       "<pre style=\"white-space:pre;overflow-x:auto;line-height:normal;font-family:Menlo,'DejaVu Sans Mono',consolas,'Courier New',monospace\"><span style=\"color: #800080; text-decoration-color: #800080; font-weight: bold\">─────────────────────────────────────────────────── </span>Validation<span style=\"color: #800080; text-decoration-color: #800080; font-weight: bold\"> ────────────────────────────────────────────────────</span>\n",
       "</pre>\n"
      ],
      "text/plain": [
       "\u001b[1;35m─────────────────────────────────────────────────── \u001b[0mValidation\u001b[1;35m ────────────────────────────────────────────────────\u001b[0m\n"
      ]
     },
     "metadata": {},
     "output_type": "display_data"
    },
    {
     "data": {
      "text/html": [
       "<pre style=\"white-space:pre;overflow-x:auto;line-height:normal;font-family:Menlo,'DejaVu Sans Mono',consolas,'Courier New',monospace\"><span style=\"color: #800080; text-decoration-color: #800080; font-weight: bold\">Loss:</span> <span style=\"color: #c0c0c0; text-decoration-color: #c0c0c0; font-weight: bold\">1.514047344525655</span>\n",
       "</pre>\n"
      ],
      "text/plain": [
       "\u001b[1;35mLoss:\u001b[0m \u001b[1;37m1.514047344525655\u001b[0m\n"
      ]
     },
     "metadata": {},
     "output_type": "display_data"
    },
    {
     "data": {
      "text/html": [
       "<pre style=\"white-space:pre;overflow-x:auto;line-height:normal;font-family:Menlo,'DejaVu Sans Mono',consolas,'Courier New',monospace\"><span style=\"color: #800080; text-decoration-color: #800080; font-weight: bold\">Metrics:</span>\n",
       "</pre>\n"
      ],
      "text/plain": [
       "\u001b[1;35mMetrics:\u001b[0m\n"
      ]
     },
     "metadata": {},
     "output_type": "display_data"
    },
    {
     "data": {
      "text/html": [
       "<pre style=\"white-space:pre;overflow-x:auto;line-height:normal;font-family:Menlo,'DejaVu Sans Mono',consolas,'Courier New',monospace\"><span style=\"font-style: italic\">       detection_head       </span>\n",
       "┏━━━━━━━━━━━━━━━┳━━━━━━━━━━┓\n",
       "┃<span style=\"color: #800080; text-decoration-color: #800080; font-weight: bold\"> Name          </span>┃<span style=\"color: #800080; text-decoration-color: #800080; font-weight: bold\"> Value    </span>┃\n",
       "┡━━━━━━━━━━━━━━━╇━━━━━━━━━━┩\n",
       "│<span style=\"color: #800080; text-decoration-color: #800080\"> detection_map </span>│<span style=\"color: #c0c0c0; text-decoration-color: #c0c0c0\"> 0.31032  </span>│\n",
       "│<span style=\"color: #800080; text-decoration-color: #800080\"> map_50        </span>│<span style=\"color: #c0c0c0; text-decoration-color: #c0c0c0\"> 0.58520  </span>│\n",
       "│<span style=\"color: #800080; text-decoration-color: #800080\"> map_75        </span>│<span style=\"color: #c0c0c0; text-decoration-color: #c0c0c0\"> 0.29600  </span>│\n",
       "│<span style=\"color: #800080; text-decoration-color: #800080\"> map_small     </span>│<span style=\"color: #c0c0c0; text-decoration-color: #c0c0c0\"> -1.00000 </span>│\n",
       "│<span style=\"color: #800080; text-decoration-color: #800080\"> map_medium    </span>│<span style=\"color: #c0c0c0; text-decoration-color: #c0c0c0\"> 0.07574  </span>│\n",
       "│<span style=\"color: #800080; text-decoration-color: #800080\"> map_large     </span>│<span style=\"color: #c0c0c0; text-decoration-color: #c0c0c0\"> 0.33171  </span>│\n",
       "│<span style=\"color: #800080; text-decoration-color: #800080\"> mar_1         </span>│<span style=\"color: #c0c0c0; text-decoration-color: #c0c0c0\"> 0.29672  </span>│\n",
       "│<span style=\"color: #800080; text-decoration-color: #800080\"> mar_10        </span>│<span style=\"color: #c0c0c0; text-decoration-color: #c0c0c0\"> 0.36727  </span>│\n",
       "│<span style=\"color: #800080; text-decoration-color: #800080\"> mar_100       </span>│<span style=\"color: #c0c0c0; text-decoration-color: #c0c0c0\"> 0.36727  </span>│\n",
       "│<span style=\"color: #800080; text-decoration-color: #800080\"> mar_small     </span>│<span style=\"color: #c0c0c0; text-decoration-color: #c0c0c0\"> -1.00000 </span>│\n",
       "│<span style=\"color: #800080; text-decoration-color: #800080\"> mar_medium    </span>│<span style=\"color: #c0c0c0; text-decoration-color: #c0c0c0\"> 0.07500  </span>│\n",
       "│<span style=\"color: #800080; text-decoration-color: #800080\"> mar_large     </span>│<span style=\"color: #c0c0c0; text-decoration-color: #c0c0c0\"> 0.39370  </span>│\n",
       "│<span style=\"color: #800080; text-decoration-color: #800080\"> f1_small      </span>│<span style=\"color: #c0c0c0; text-decoration-color: #c0c0c0\"> -1.00000 </span>│\n",
       "│<span style=\"color: #800080; text-decoration-color: #800080\"> f1_medium     </span>│<span style=\"color: #c0c0c0; text-decoration-color: #c0c0c0\"> 0.07537  </span>│\n",
       "│<span style=\"color: #800080; text-decoration-color: #800080\"> f1_large      </span>│<span style=\"color: #c0c0c0; text-decoration-color: #c0c0c0\"> 0.36006  </span>│\n",
       "└───────────────┴──────────┘\n",
       "</pre>\n"
      ],
      "text/plain": [
       "\u001b[3m       detection_head       \u001b[0m\n",
       "┏━━━━━━━━━━━━━━━┳━━━━━━━━━━┓\n",
       "┃\u001b[1;35m \u001b[0m\u001b[1;35mName         \u001b[0m\u001b[1;35m \u001b[0m┃\u001b[1;35m \u001b[0m\u001b[1;35mValue   \u001b[0m\u001b[1;35m \u001b[0m┃\n",
       "┡━━━━━━━━━━━━━━━╇━━━━━━━━━━┩\n",
       "│\u001b[35m \u001b[0m\u001b[35mdetection_map\u001b[0m\u001b[35m \u001b[0m│\u001b[37m \u001b[0m\u001b[37m0.31032 \u001b[0m\u001b[37m \u001b[0m│\n",
       "│\u001b[35m \u001b[0m\u001b[35mmap_50       \u001b[0m\u001b[35m \u001b[0m│\u001b[37m \u001b[0m\u001b[37m0.58520 \u001b[0m\u001b[37m \u001b[0m│\n",
       "│\u001b[35m \u001b[0m\u001b[35mmap_75       \u001b[0m\u001b[35m \u001b[0m│\u001b[37m \u001b[0m\u001b[37m0.29600 \u001b[0m\u001b[37m \u001b[0m│\n",
       "│\u001b[35m \u001b[0m\u001b[35mmap_small    \u001b[0m\u001b[35m \u001b[0m│\u001b[37m \u001b[0m\u001b[37m-1.00000\u001b[0m\u001b[37m \u001b[0m│\n",
       "│\u001b[35m \u001b[0m\u001b[35mmap_medium   \u001b[0m\u001b[35m \u001b[0m│\u001b[37m \u001b[0m\u001b[37m0.07574 \u001b[0m\u001b[37m \u001b[0m│\n",
       "│\u001b[35m \u001b[0m\u001b[35mmap_large    \u001b[0m\u001b[35m \u001b[0m│\u001b[37m \u001b[0m\u001b[37m0.33171 \u001b[0m\u001b[37m \u001b[0m│\n",
       "│\u001b[35m \u001b[0m\u001b[35mmar_1        \u001b[0m\u001b[35m \u001b[0m│\u001b[37m \u001b[0m\u001b[37m0.29672 \u001b[0m\u001b[37m \u001b[0m│\n",
       "│\u001b[35m \u001b[0m\u001b[35mmar_10       \u001b[0m\u001b[35m \u001b[0m│\u001b[37m \u001b[0m\u001b[37m0.36727 \u001b[0m\u001b[37m \u001b[0m│\n",
       "│\u001b[35m \u001b[0m\u001b[35mmar_100      \u001b[0m\u001b[35m \u001b[0m│\u001b[37m \u001b[0m\u001b[37m0.36727 \u001b[0m\u001b[37m \u001b[0m│\n",
       "│\u001b[35m \u001b[0m\u001b[35mmar_small    \u001b[0m\u001b[35m \u001b[0m│\u001b[37m \u001b[0m\u001b[37m-1.00000\u001b[0m\u001b[37m \u001b[0m│\n",
       "│\u001b[35m \u001b[0m\u001b[35mmar_medium   \u001b[0m\u001b[35m \u001b[0m│\u001b[37m \u001b[0m\u001b[37m0.07500 \u001b[0m\u001b[37m \u001b[0m│\n",
       "│\u001b[35m \u001b[0m\u001b[35mmar_large    \u001b[0m\u001b[35m \u001b[0m│\u001b[37m \u001b[0m\u001b[37m0.39370 \u001b[0m\u001b[37m \u001b[0m│\n",
       "│\u001b[35m \u001b[0m\u001b[35mf1_small     \u001b[0m\u001b[35m \u001b[0m│\u001b[37m \u001b[0m\u001b[37m-1.00000\u001b[0m\u001b[37m \u001b[0m│\n",
       "│\u001b[35m \u001b[0m\u001b[35mf1_medium    \u001b[0m\u001b[35m \u001b[0m│\u001b[37m \u001b[0m\u001b[37m0.07537 \u001b[0m\u001b[37m \u001b[0m│\n",
       "│\u001b[35m \u001b[0m\u001b[35mf1_large     \u001b[0m\u001b[35m \u001b[0m│\u001b[37m \u001b[0m\u001b[37m0.36006 \u001b[0m\u001b[37m \u001b[0m│\n",
       "└───────────────┴──────────┘\n"
      ]
     },
     "metadata": {},
     "output_type": "display_data"
    },
    {
     "data": {
      "text/html": [
       "<pre style=\"white-space:pre;overflow-x:auto;line-height:normal;font-family:Menlo,'DejaVu Sans Mono',consolas,'Courier New',monospace\"><span style=\"color: #800080; text-decoration-color: #800080; font-weight: bold\">───────────────────────────────────────────────────────────────────────────────────────────────────────────────────</span>\n",
       "</pre>\n"
      ],
      "text/plain": [
       "\u001b[1;35m───────────────────────────────────────────────────────────────────────────────────────────────────────────────────\u001b[0m\n"
      ]
     },
     "metadata": {},
     "output_type": "display_data"
    },
    {
     "data": {
      "text/html": [
       "<pre style=\"white-space:pre;overflow-x:auto;line-height:normal;font-family:Menlo,'DejaVu Sans Mono',consolas,'Courier New',monospace\"><span style=\"color: #008000; text-decoration-color: #008000\">INFO    </span> Validation main metric <span style=\"font-weight: bold\">(</span>detection_head/detection_map<span style=\"font-weight: bold\">)</span>: <span style=\"color: #008080; text-decoration-color: #008080; font-weight: bold\">0.3103</span>                     <a href=\"file:///home/klemen/luxonis/luxonis-train/luxonis_train/models/luxonis_lightning.py\" target=\"_blank\"><span style=\"color: #7f7f7f; text-decoration-color: #7f7f7f\">luxonis_lightning.py</span></a><span style=\"color: #7f7f7f; text-decoration-color: #7f7f7f\">:</span><a href=\"file:///home/klemen/luxonis/luxonis-train/luxonis_train/models/luxonis_lightning.py#986\" target=\"_blank\"><span style=\"color: #7f7f7f; text-decoration-color: #7f7f7f\">986</span></a>\n",
       "</pre>\n"
      ],
      "text/plain": [
       "\u001b[32mINFO    \u001b[0m Validation main metric \u001b[1m(\u001b[0mdetection_head/detection_map\u001b[1m)\u001b[0m: \u001b[1;36m0.3103\u001b[0m                     \u001b]8;id=457482;file:///home/klemen/luxonis/luxonis-train/luxonis_train/models/luxonis_lightning.py\u001b\\\u001b[2mluxonis_lightning.py\u001b[0m\u001b]8;;\u001b\\\u001b[2m:\u001b[0m\u001b]8;id=690985;file:///home/klemen/luxonis/luxonis-train/luxonis_train/models/luxonis_lightning.py#986\u001b\\\u001b[2m986\u001b[0m\u001b]8;;\u001b\\\n"
      ]
     },
     "metadata": {},
     "output_type": "display_data"
    },
    {
     "data": {
      "text/html": [
       "<pre style=\"white-space:pre;overflow-x:auto;line-height:normal;font-family:Menlo,'DejaVu Sans Mono',consolas,'Courier New',monospace\"></pre>\n"
      ],
      "text/plain": []
     },
     "metadata": {},
     "output_type": "display_data"
    },
    {
     "data": {
      "text/html": [
       "<pre style=\"white-space:pre;overflow-x:auto;line-height:normal;font-family:Menlo,'DejaVu Sans Mono',consolas,'Courier New',monospace\">\n",
       "</pre>\n"
      ],
      "text/plain": [
       "\n"
      ]
     },
     "metadata": {},
     "output_type": "display_data"
    },
    {
     "name": "stderr",
     "output_type": "stream",
     "text": [
      "libpng warning: iCCP: known incorrect sRGB profile\n"
     ]
    },
    {
     "data": {
      "text/html": [
       "<pre style=\"white-space:pre;overflow-x:auto;line-height:normal;font-family:Menlo,'DejaVu Sans Mono',consolas,'Courier New',monospace\"></pre>\n"
      ],
      "text/plain": []
     },
     "metadata": {},
     "output_type": "display_data"
    },
    {
     "data": {
      "text/html": [
       "<pre style=\"white-space:pre;overflow-x:auto;line-height:normal;font-family:Menlo,'DejaVu Sans Mono',consolas,'Courier New',monospace\">\n",
       "</pre>\n"
      ],
      "text/plain": [
       "\n"
      ]
     },
     "metadata": {},
     "output_type": "display_data"
    },
    {
     "name": "stderr",
     "output_type": "stream",
     "text": [
      "libpng warning: iCCP: known incorrect sRGB profile\n"
     ]
    },
    {
     "data": {
      "text/html": [
       "<pre style=\"white-space:pre;overflow-x:auto;line-height:normal;font-family:Menlo,'DejaVu Sans Mono',consolas,'Courier New',monospace\"></pre>\n"
      ],
      "text/plain": []
     },
     "metadata": {},
     "output_type": "display_data"
    },
    {
     "data": {
      "text/html": [
       "<pre style=\"white-space:pre;overflow-x:auto;line-height:normal;font-family:Menlo,'DejaVu Sans Mono',consolas,'Courier New',monospace\">\n",
       "</pre>\n"
      ],
      "text/plain": [
       "\n"
      ]
     },
     "metadata": {},
     "output_type": "display_data"
    },
    {
     "name": "stderr",
     "output_type": "stream",
     "text": [
      "libpng warning: iCCP: known incorrect sRGB profile\n"
     ]
    },
    {
     "data": {
      "text/html": [
       "<pre style=\"white-space:pre;overflow-x:auto;line-height:normal;font-family:Menlo,'DejaVu Sans Mono',consolas,'Courier New',monospace\"></pre>\n"
      ],
      "text/plain": []
     },
     "metadata": {},
     "output_type": "display_data"
    },
    {
     "data": {
      "text/html": [
       "<pre style=\"white-space:pre;overflow-x:auto;line-height:normal;font-family:Menlo,'DejaVu Sans Mono',consolas,'Courier New',monospace\">\n",
       "</pre>\n"
      ],
      "text/plain": [
       "\n"
      ]
     },
     "metadata": {},
     "output_type": "display_data"
    },
    {
     "name": "stderr",
     "output_type": "stream",
     "text": [
      "libpng warning: iCCP: known incorrect sRGB profile\n"
     ]
    },
    {
     "data": {
      "text/html": [
       "<pre style=\"white-space:pre;overflow-x:auto;line-height:normal;font-family:Menlo,'DejaVu Sans Mono',consolas,'Courier New',monospace\"></pre>\n"
      ],
      "text/plain": []
     },
     "metadata": {},
     "output_type": "display_data"
    },
    {
     "data": {
      "text/html": [
       "<pre style=\"white-space:pre;overflow-x:auto;line-height:normal;font-family:Menlo,'DejaVu Sans Mono',consolas,'Courier New',monospace\">\n",
       "</pre>\n"
      ],
      "text/plain": [
       "\n"
      ]
     },
     "metadata": {},
     "output_type": "display_data"
    },
    {
     "name": "stderr",
     "output_type": "stream",
     "text": [
      "libpng warning: iCCP: known incorrect sRGB profile\n"
     ]
    },
    {
     "data": {
      "text/html": [
       "<pre style=\"white-space:pre;overflow-x:auto;line-height:normal;font-family:Menlo,'DejaVu Sans Mono',consolas,'Courier New',monospace\"></pre>\n"
      ],
      "text/plain": []
     },
     "metadata": {},
     "output_type": "display_data"
    },
    {
     "data": {
      "text/html": [
       "<pre style=\"white-space:pre;overflow-x:auto;line-height:normal;font-family:Menlo,'DejaVu Sans Mono',consolas,'Courier New',monospace\">\n",
       "</pre>\n"
      ],
      "text/plain": [
       "\n"
      ]
     },
     "metadata": {},
     "output_type": "display_data"
    },
    {
     "name": "stderr",
     "output_type": "stream",
     "text": [
      "libpng warning: iCCP: known incorrect sRGB profile\n"
     ]
    },
    {
     "data": {
      "text/html": [
       "<pre style=\"white-space:pre;overflow-x:auto;line-height:normal;font-family:Menlo,'DejaVu Sans Mono',consolas,'Courier New',monospace\"></pre>\n"
      ],
      "text/plain": []
     },
     "metadata": {},
     "output_type": "display_data"
    },
    {
     "data": {
      "text/html": [
       "<pre style=\"white-space:pre;overflow-x:auto;line-height:normal;font-family:Menlo,'DejaVu Sans Mono',consolas,'Courier New',monospace\">\n",
       "</pre>\n"
      ],
      "text/plain": [
       "\n"
      ]
     },
     "metadata": {},
     "output_type": "display_data"
    },
    {
     "name": "stderr",
     "output_type": "stream",
     "text": [
      "libpng warning: iCCP: known incorrect sRGB profile\n"
     ]
    },
    {
     "data": {
      "text/html": [
       "<pre style=\"white-space:pre;overflow-x:auto;line-height:normal;font-family:Menlo,'DejaVu Sans Mono',consolas,'Courier New',monospace\"></pre>\n"
      ],
      "text/plain": []
     },
     "metadata": {},
     "output_type": "display_data"
    },
    {
     "data": {
      "text/html": [
       "<pre style=\"white-space:pre;overflow-x:auto;line-height:normal;font-family:Menlo,'DejaVu Sans Mono',consolas,'Courier New',monospace\">\n",
       "</pre>\n"
      ],
      "text/plain": [
       "\n"
      ]
     },
     "metadata": {},
     "output_type": "display_data"
    },
    {
     "name": "stderr",
     "output_type": "stream",
     "text": [
      "libpng warning: iCCP: known incorrect sRGB profile\n"
     ]
    },
    {
     "data": {
      "text/html": [
       "<pre style=\"white-space:pre;overflow-x:auto;line-height:normal;font-family:Menlo,'DejaVu Sans Mono',consolas,'Courier New',monospace\"></pre>\n"
      ],
      "text/plain": []
     },
     "metadata": {},
     "output_type": "display_data"
    },
    {
     "data": {
      "text/html": [
       "<pre style=\"white-space:pre;overflow-x:auto;line-height:normal;font-family:Menlo,'DejaVu Sans Mono',consolas,'Courier New',monospace\">\n",
       "</pre>\n"
      ],
      "text/plain": [
       "\n"
      ]
     },
     "metadata": {},
     "output_type": "display_data"
    },
    {
     "name": "stderr",
     "output_type": "stream",
     "text": [
      "libpng warning: iCCP: known incorrect sRGB profile\n"
     ]
    },
    {
     "data": {
      "text/html": [
       "<pre style=\"white-space:pre;overflow-x:auto;line-height:normal;font-family:Menlo,'DejaVu Sans Mono',consolas,'Courier New',monospace\"></pre>\n"
      ],
      "text/plain": []
     },
     "metadata": {},
     "output_type": "display_data"
    },
    {
     "data": {
      "text/html": [
       "<pre style=\"white-space:pre;overflow-x:auto;line-height:normal;font-family:Menlo,'DejaVu Sans Mono',consolas,'Courier New',monospace\">\n",
       "</pre>\n"
      ],
      "text/plain": [
       "\n"
      ]
     },
     "metadata": {},
     "output_type": "display_data"
    },
    {
     "name": "stderr",
     "output_type": "stream",
     "text": [
      "libpng warning: iCCP: known incorrect sRGB profile\n",
      "libpng warning: iCCP: known incorrect sRGB profile\n",
      "libpng warning: iCCP: known incorrect sRGB profile\n",
      "libpng warning: iCCP: known incorrect sRGB profile\n"
     ]
    },
    {
     "data": {
      "text/html": [
       "<pre style=\"white-space:pre;overflow-x:auto;line-height:normal;font-family:Menlo,'DejaVu Sans Mono',consolas,'Courier New',monospace\"><span style=\"color: #008000; text-decoration-color: #008000\">INFO    </span> Computing metrics on val subset <span style=\"color: #808000; text-decoration-color: #808000\">...</span>                                               <a href=\"file:///home/klemen/luxonis/luxonis-train/luxonis_train/models/luxonis_lightning.py\" target=\"_blank\"><span style=\"color: #7f7f7f; text-decoration-color: #7f7f7f\">luxonis_lightning.py</span></a><span style=\"color: #7f7f7f; text-decoration-color: #7f7f7f\">:</span><a href=\"file:///home/klemen/luxonis/luxonis-train/luxonis_train/models/luxonis_lightning.py#770\" target=\"_blank\"><span style=\"color: #7f7f7f; text-decoration-color: #7f7f7f\">770</span></a>\n",
       "</pre>\n"
      ],
      "text/plain": [
       "\u001b[32mINFO    \u001b[0m Computing metrics on val subset \u001b[33m...\u001b[0m                                               \u001b]8;id=824285;file:///home/klemen/luxonis/luxonis-train/luxonis_train/models/luxonis_lightning.py\u001b\\\u001b[2mluxonis_lightning.py\u001b[0m\u001b]8;;\u001b\\\u001b[2m:\u001b[0m\u001b]8;id=39009;file:///home/klemen/luxonis/luxonis-train/luxonis_train/models/luxonis_lightning.py#770\u001b\\\u001b[2m770\u001b[0m\u001b]8;;\u001b\\\n"
      ]
     },
     "metadata": {},
     "output_type": "display_data"
    },
    {
     "data": {
      "text/html": [
       "<pre style=\"white-space:pre;overflow-x:auto;line-height:normal;font-family:Menlo,'DejaVu Sans Mono',consolas,'Courier New',monospace\"><span style=\"color: #008000; text-decoration-color: #008000\">INFO    </span> Metrics computed.                                                                 <a href=\"file:///home/klemen/luxonis/luxonis-train/luxonis_train/models/luxonis_lightning.py\" target=\"_blank\"><span style=\"color: #7f7f7f; text-decoration-color: #7f7f7f\">luxonis_lightning.py</span></a><span style=\"color: #7f7f7f; text-decoration-color: #7f7f7f\">:</span><a href=\"file:///home/klemen/luxonis/luxonis-train/luxonis_train/models/luxonis_lightning.py#772\" target=\"_blank\"><span style=\"color: #7f7f7f; text-decoration-color: #7f7f7f\">772</span></a>\n",
       "</pre>\n"
      ],
      "text/plain": [
       "\u001b[32mINFO    \u001b[0m Metrics computed.                                                                 \u001b]8;id=967603;file:///home/klemen/luxonis/luxonis-train/luxonis_train/models/luxonis_lightning.py\u001b\\\u001b[2mluxonis_lightning.py\u001b[0m\u001b]8;;\u001b\\\u001b[2m:\u001b[0m\u001b]8;id=43403;file:///home/klemen/luxonis/luxonis-train/luxonis_train/models/luxonis_lightning.py#772\u001b\\\u001b[2m772\u001b[0m\u001b]8;;\u001b\\\n"
      ]
     },
     "metadata": {},
     "output_type": "display_data"
    },
    {
     "data": {
      "text/html": [
       "<pre style=\"white-space:pre;overflow-x:auto;line-height:normal;font-family:Menlo,'DejaVu Sans Mono',consolas,'Courier New',monospace\"><span style=\"color: #008000; text-decoration-color: #008000\">INFO    </span> Validation loss: <span style=\"color: #008080; text-decoration-color: #008080; font-weight: bold\">1.5454</span>                                                           <a href=\"file:///home/klemen/luxonis/luxonis-train/luxonis_train/models/luxonis_lightning.py\" target=\"_blank\"><span style=\"color: #7f7f7f; text-decoration-color: #7f7f7f\">luxonis_lightning.py</span></a><span style=\"color: #7f7f7f; text-decoration-color: #7f7f7f\">:</span><a href=\"file:///home/klemen/luxonis/luxonis-train/luxonis_train/models/luxonis_lightning.py#977\" target=\"_blank\"><span style=\"color: #7f7f7f; text-decoration-color: #7f7f7f\">977</span></a>\n",
       "</pre>\n"
      ],
      "text/plain": [
       "\u001b[32mINFO    \u001b[0m Validation loss: \u001b[1;36m1.5454\u001b[0m                                                           \u001b]8;id=941910;file:///home/klemen/luxonis/luxonis-train/luxonis_train/models/luxonis_lightning.py\u001b\\\u001b[2mluxonis_lightning.py\u001b[0m\u001b]8;;\u001b\\\u001b[2m:\u001b[0m\u001b]8;id=978940;file:///home/klemen/luxonis/luxonis-train/luxonis_train/models/luxonis_lightning.py#977\u001b\\\u001b[2m977\u001b[0m\u001b]8;;\u001b\\\n"
      ]
     },
     "metadata": {},
     "output_type": "display_data"
    },
    {
     "data": {
      "text/html": [
       "<pre style=\"white-space:pre;overflow-x:auto;line-height:normal;font-family:Menlo,'DejaVu Sans Mono',consolas,'Courier New',monospace\"><span style=\"color: #800080; text-decoration-color: #800080; font-weight: bold\">─────────────────────────────────────────────────── </span>Validation<span style=\"color: #800080; text-decoration-color: #800080; font-weight: bold\"> ────────────────────────────────────────────────────</span>\n",
       "</pre>\n"
      ],
      "text/plain": [
       "\u001b[1;35m─────────────────────────────────────────────────── \u001b[0mValidation\u001b[1;35m ────────────────────────────────────────────────────\u001b[0m\n"
      ]
     },
     "metadata": {},
     "output_type": "display_data"
    },
    {
     "data": {
      "text/html": [
       "<pre style=\"white-space:pre;overflow-x:auto;line-height:normal;font-family:Menlo,'DejaVu Sans Mono',consolas,'Courier New',monospace\"><span style=\"color: #800080; text-decoration-color: #800080; font-weight: bold\">Loss:</span> <span style=\"color: #c0c0c0; text-decoration-color: #c0c0c0; font-weight: bold\">1.545415222644806</span>\n",
       "</pre>\n"
      ],
      "text/plain": [
       "\u001b[1;35mLoss:\u001b[0m \u001b[1;37m1.545415222644806\u001b[0m\n"
      ]
     },
     "metadata": {},
     "output_type": "display_data"
    },
    {
     "data": {
      "text/html": [
       "<pre style=\"white-space:pre;overflow-x:auto;line-height:normal;font-family:Menlo,'DejaVu Sans Mono',consolas,'Courier New',monospace\"><span style=\"color: #800080; text-decoration-color: #800080; font-weight: bold\">Metrics:</span>\n",
       "</pre>\n"
      ],
      "text/plain": [
       "\u001b[1;35mMetrics:\u001b[0m\n"
      ]
     },
     "metadata": {},
     "output_type": "display_data"
    },
    {
     "data": {
      "text/html": [
       "<pre style=\"white-space:pre;overflow-x:auto;line-height:normal;font-family:Menlo,'DejaVu Sans Mono',consolas,'Courier New',monospace\"><span style=\"font-style: italic\">       detection_head       </span>\n",
       "┏━━━━━━━━━━━━━━━┳━━━━━━━━━━┓\n",
       "┃<span style=\"color: #800080; text-decoration-color: #800080; font-weight: bold\"> Name          </span>┃<span style=\"color: #800080; text-decoration-color: #800080; font-weight: bold\"> Value    </span>┃\n",
       "┡━━━━━━━━━━━━━━━╇━━━━━━━━━━┩\n",
       "│<span style=\"color: #800080; text-decoration-color: #800080\"> detection_map </span>│<span style=\"color: #c0c0c0; text-decoration-color: #c0c0c0\"> 0.31152  </span>│\n",
       "│<span style=\"color: #800080; text-decoration-color: #800080\"> map_50        </span>│<span style=\"color: #c0c0c0; text-decoration-color: #c0c0c0\"> 0.57303  </span>│\n",
       "│<span style=\"color: #800080; text-decoration-color: #800080\"> map_75        </span>│<span style=\"color: #c0c0c0; text-decoration-color: #c0c0c0\"> 0.27960  </span>│\n",
       "│<span style=\"color: #800080; text-decoration-color: #800080\"> map_small     </span>│<span style=\"color: #c0c0c0; text-decoration-color: #c0c0c0\"> -1.00000 </span>│\n",
       "│<span style=\"color: #800080; text-decoration-color: #800080\"> map_medium    </span>│<span style=\"color: #c0c0c0; text-decoration-color: #c0c0c0\"> 0.10099  </span>│\n",
       "│<span style=\"color: #800080; text-decoration-color: #800080\"> map_large     </span>│<span style=\"color: #c0c0c0; text-decoration-color: #c0c0c0\"> 0.33270  </span>│\n",
       "│<span style=\"color: #800080; text-decoration-color: #800080\"> mar_1         </span>│<span style=\"color: #c0c0c0; text-decoration-color: #c0c0c0\"> 0.29447  </span>│\n",
       "│<span style=\"color: #800080; text-decoration-color: #800080\"> mar_10        </span>│<span style=\"color: #c0c0c0; text-decoration-color: #c0c0c0\"> 0.36794  </span>│\n",
       "│<span style=\"color: #800080; text-decoration-color: #800080\"> mar_100       </span>│<span style=\"color: #c0c0c0; text-decoration-color: #c0c0c0\"> 0.36794  </span>│\n",
       "│<span style=\"color: #800080; text-decoration-color: #800080\"> mar_small     </span>│<span style=\"color: #c0c0c0; text-decoration-color: #c0c0c0\"> -1.00000 </span>│\n",
       "│<span style=\"color: #800080; text-decoration-color: #800080\"> mar_medium    </span>│<span style=\"color: #c0c0c0; text-decoration-color: #c0c0c0\"> 0.10000  </span>│\n",
       "│<span style=\"color: #800080; text-decoration-color: #800080\"> mar_large     </span>│<span style=\"color: #c0c0c0; text-decoration-color: #c0c0c0\"> 0.39377  </span>│\n",
       "│<span style=\"color: #800080; text-decoration-color: #800080\"> f1_small      </span>│<span style=\"color: #c0c0c0; text-decoration-color: #c0c0c0\"> -1.00000 </span>│\n",
       "│<span style=\"color: #800080; text-decoration-color: #800080\"> f1_medium     </span>│<span style=\"color: #c0c0c0; text-decoration-color: #c0c0c0\"> 0.10049  </span>│\n",
       "│<span style=\"color: #800080; text-decoration-color: #800080\"> f1_large      </span>│<span style=\"color: #c0c0c0; text-decoration-color: #c0c0c0\"> 0.36067  </span>│\n",
       "└───────────────┴──────────┘\n",
       "</pre>\n"
      ],
      "text/plain": [
       "\u001b[3m       detection_head       \u001b[0m\n",
       "┏━━━━━━━━━━━━━━━┳━━━━━━━━━━┓\n",
       "┃\u001b[1;35m \u001b[0m\u001b[1;35mName         \u001b[0m\u001b[1;35m \u001b[0m┃\u001b[1;35m \u001b[0m\u001b[1;35mValue   \u001b[0m\u001b[1;35m \u001b[0m┃\n",
       "┡━━━━━━━━━━━━━━━╇━━━━━━━━━━┩\n",
       "│\u001b[35m \u001b[0m\u001b[35mdetection_map\u001b[0m\u001b[35m \u001b[0m│\u001b[37m \u001b[0m\u001b[37m0.31152 \u001b[0m\u001b[37m \u001b[0m│\n",
       "│\u001b[35m \u001b[0m\u001b[35mmap_50       \u001b[0m\u001b[35m \u001b[0m│\u001b[37m \u001b[0m\u001b[37m0.57303 \u001b[0m\u001b[37m \u001b[0m│\n",
       "│\u001b[35m \u001b[0m\u001b[35mmap_75       \u001b[0m\u001b[35m \u001b[0m│\u001b[37m \u001b[0m\u001b[37m0.27960 \u001b[0m\u001b[37m \u001b[0m│\n",
       "│\u001b[35m \u001b[0m\u001b[35mmap_small    \u001b[0m\u001b[35m \u001b[0m│\u001b[37m \u001b[0m\u001b[37m-1.00000\u001b[0m\u001b[37m \u001b[0m│\n",
       "│\u001b[35m \u001b[0m\u001b[35mmap_medium   \u001b[0m\u001b[35m \u001b[0m│\u001b[37m \u001b[0m\u001b[37m0.10099 \u001b[0m\u001b[37m \u001b[0m│\n",
       "│\u001b[35m \u001b[0m\u001b[35mmap_large    \u001b[0m\u001b[35m \u001b[0m│\u001b[37m \u001b[0m\u001b[37m0.33270 \u001b[0m\u001b[37m \u001b[0m│\n",
       "│\u001b[35m \u001b[0m\u001b[35mmar_1        \u001b[0m\u001b[35m \u001b[0m│\u001b[37m \u001b[0m\u001b[37m0.29447 \u001b[0m\u001b[37m \u001b[0m│\n",
       "│\u001b[35m \u001b[0m\u001b[35mmar_10       \u001b[0m\u001b[35m \u001b[0m│\u001b[37m \u001b[0m\u001b[37m0.36794 \u001b[0m\u001b[37m \u001b[0m│\n",
       "│\u001b[35m \u001b[0m\u001b[35mmar_100      \u001b[0m\u001b[35m \u001b[0m│\u001b[37m \u001b[0m\u001b[37m0.36794 \u001b[0m\u001b[37m \u001b[0m│\n",
       "│\u001b[35m \u001b[0m\u001b[35mmar_small    \u001b[0m\u001b[35m \u001b[0m│\u001b[37m \u001b[0m\u001b[37m-1.00000\u001b[0m\u001b[37m \u001b[0m│\n",
       "│\u001b[35m \u001b[0m\u001b[35mmar_medium   \u001b[0m\u001b[35m \u001b[0m│\u001b[37m \u001b[0m\u001b[37m0.10000 \u001b[0m\u001b[37m \u001b[0m│\n",
       "│\u001b[35m \u001b[0m\u001b[35mmar_large    \u001b[0m\u001b[35m \u001b[0m│\u001b[37m \u001b[0m\u001b[37m0.39377 \u001b[0m\u001b[37m \u001b[0m│\n",
       "│\u001b[35m \u001b[0m\u001b[35mf1_small     \u001b[0m\u001b[35m \u001b[0m│\u001b[37m \u001b[0m\u001b[37m-1.00000\u001b[0m\u001b[37m \u001b[0m│\n",
       "│\u001b[35m \u001b[0m\u001b[35mf1_medium    \u001b[0m\u001b[35m \u001b[0m│\u001b[37m \u001b[0m\u001b[37m0.10049 \u001b[0m\u001b[37m \u001b[0m│\n",
       "│\u001b[35m \u001b[0m\u001b[35mf1_large     \u001b[0m\u001b[35m \u001b[0m│\u001b[37m \u001b[0m\u001b[37m0.36067 \u001b[0m\u001b[37m \u001b[0m│\n",
       "└───────────────┴──────────┘\n"
      ]
     },
     "metadata": {},
     "output_type": "display_data"
    },
    {
     "data": {
      "text/html": [
       "<pre style=\"white-space:pre;overflow-x:auto;line-height:normal;font-family:Menlo,'DejaVu Sans Mono',consolas,'Courier New',monospace\"><span style=\"color: #800080; text-decoration-color: #800080; font-weight: bold\">───────────────────────────────────────────────────────────────────────────────────────────────────────────────────</span>\n",
       "</pre>\n"
      ],
      "text/plain": [
       "\u001b[1;35m───────────────────────────────────────────────────────────────────────────────────────────────────────────────────\u001b[0m\n"
      ]
     },
     "metadata": {},
     "output_type": "display_data"
    },
    {
     "data": {
      "text/html": [
       "<pre style=\"white-space:pre;overflow-x:auto;line-height:normal;font-family:Menlo,'DejaVu Sans Mono',consolas,'Courier New',monospace\"><span style=\"color: #008000; text-decoration-color: #008000\">INFO    </span> Validation main metric <span style=\"font-weight: bold\">(</span>detection_head/detection_map<span style=\"font-weight: bold\">)</span>: <span style=\"color: #008080; text-decoration-color: #008080; font-weight: bold\">0.3115</span>                     <a href=\"file:///home/klemen/luxonis/luxonis-train/luxonis_train/models/luxonis_lightning.py\" target=\"_blank\"><span style=\"color: #7f7f7f; text-decoration-color: #7f7f7f\">luxonis_lightning.py</span></a><span style=\"color: #7f7f7f; text-decoration-color: #7f7f7f\">:</span><a href=\"file:///home/klemen/luxonis/luxonis-train/luxonis_train/models/luxonis_lightning.py#986\" target=\"_blank\"><span style=\"color: #7f7f7f; text-decoration-color: #7f7f7f\">986</span></a>\n",
       "</pre>\n"
      ],
      "text/plain": [
       "\u001b[32mINFO    \u001b[0m Validation main metric \u001b[1m(\u001b[0mdetection_head/detection_map\u001b[1m)\u001b[0m: \u001b[1;36m0.3115\u001b[0m                     \u001b]8;id=468886;file:///home/klemen/luxonis/luxonis-train/luxonis_train/models/luxonis_lightning.py\u001b\\\u001b[2mluxonis_lightning.py\u001b[0m\u001b]8;;\u001b\\\u001b[2m:\u001b[0m\u001b]8;id=926881;file:///home/klemen/luxonis/luxonis-train/luxonis_train/models/luxonis_lightning.py#986\u001b\\\u001b[2m986\u001b[0m\u001b]8;;\u001b\\\n"
      ]
     },
     "metadata": {},
     "output_type": "display_data"
    },
    {
     "data": {
      "text/html": [
       "<pre style=\"white-space:pre;overflow-x:auto;line-height:normal;font-family:Menlo,'DejaVu Sans Mono',consolas,'Courier New',monospace\"></pre>\n"
      ],
      "text/plain": []
     },
     "metadata": {},
     "output_type": "display_data"
    },
    {
     "data": {
      "text/html": [
       "<pre style=\"white-space:pre;overflow-x:auto;line-height:normal;font-family:Menlo,'DejaVu Sans Mono',consolas,'Courier New',monospace\">\n",
       "</pre>\n"
      ],
      "text/plain": [
       "\n"
      ]
     },
     "metadata": {},
     "output_type": "display_data"
    },
    {
     "name": "stderr",
     "output_type": "stream",
     "text": [
      "libpng warning: iCCP: known incorrect sRGB profile\n"
     ]
    },
    {
     "data": {
      "text/html": [
       "<pre style=\"white-space:pre;overflow-x:auto;line-height:normal;font-family:Menlo,'DejaVu Sans Mono',consolas,'Courier New',monospace\"></pre>\n"
      ],
      "text/plain": []
     },
     "metadata": {},
     "output_type": "display_data"
    },
    {
     "data": {
      "text/html": [
       "<pre style=\"white-space:pre;overflow-x:auto;line-height:normal;font-family:Menlo,'DejaVu Sans Mono',consolas,'Courier New',monospace\">\n",
       "</pre>\n"
      ],
      "text/plain": [
       "\n"
      ]
     },
     "metadata": {},
     "output_type": "display_data"
    },
    {
     "name": "stderr",
     "output_type": "stream",
     "text": [
      "libpng warning: iCCP: known incorrect sRGB profile\n"
     ]
    },
    {
     "data": {
      "text/html": [
       "<pre style=\"white-space:pre;overflow-x:auto;line-height:normal;font-family:Menlo,'DejaVu Sans Mono',consolas,'Courier New',monospace\"></pre>\n"
      ],
      "text/plain": []
     },
     "metadata": {},
     "output_type": "display_data"
    },
    {
     "data": {
      "text/html": [
       "<pre style=\"white-space:pre;overflow-x:auto;line-height:normal;font-family:Menlo,'DejaVu Sans Mono',consolas,'Courier New',monospace\">\n",
       "</pre>\n"
      ],
      "text/plain": [
       "\n"
      ]
     },
     "metadata": {},
     "output_type": "display_data"
    },
    {
     "name": "stderr",
     "output_type": "stream",
     "text": [
      "libpng warning: iCCP: known incorrect sRGB profile\n"
     ]
    },
    {
     "data": {
      "text/html": [
       "<pre style=\"white-space:pre;overflow-x:auto;line-height:normal;font-family:Menlo,'DejaVu Sans Mono',consolas,'Courier New',monospace\"></pre>\n"
      ],
      "text/plain": []
     },
     "metadata": {},
     "output_type": "display_data"
    },
    {
     "data": {
      "text/html": [
       "<pre style=\"white-space:pre;overflow-x:auto;line-height:normal;font-family:Menlo,'DejaVu Sans Mono',consolas,'Courier New',monospace\">\n",
       "</pre>\n"
      ],
      "text/plain": [
       "\n"
      ]
     },
     "metadata": {},
     "output_type": "display_data"
    },
    {
     "name": "stderr",
     "output_type": "stream",
     "text": [
      "libpng warning: iCCP: known incorrect sRGB profile\n"
     ]
    },
    {
     "data": {
      "text/html": [
       "<pre style=\"white-space:pre;overflow-x:auto;line-height:normal;font-family:Menlo,'DejaVu Sans Mono',consolas,'Courier New',monospace\"></pre>\n"
      ],
      "text/plain": []
     },
     "metadata": {},
     "output_type": "display_data"
    },
    {
     "data": {
      "text/html": [
       "<pre style=\"white-space:pre;overflow-x:auto;line-height:normal;font-family:Menlo,'DejaVu Sans Mono',consolas,'Courier New',monospace\">\n",
       "</pre>\n"
      ],
      "text/plain": [
       "\n"
      ]
     },
     "metadata": {},
     "output_type": "display_data"
    },
    {
     "name": "stderr",
     "output_type": "stream",
     "text": [
      "libpng warning: iCCP: known incorrect sRGB profile\n"
     ]
    },
    {
     "data": {
      "text/html": [
       "<pre style=\"white-space:pre;overflow-x:auto;line-height:normal;font-family:Menlo,'DejaVu Sans Mono',consolas,'Courier New',monospace\"></pre>\n"
      ],
      "text/plain": []
     },
     "metadata": {},
     "output_type": "display_data"
    },
    {
     "data": {
      "text/html": [
       "<pre style=\"white-space:pre;overflow-x:auto;line-height:normal;font-family:Menlo,'DejaVu Sans Mono',consolas,'Courier New',monospace\">\n",
       "</pre>\n"
      ],
      "text/plain": [
       "\n"
      ]
     },
     "metadata": {},
     "output_type": "display_data"
    },
    {
     "name": "stderr",
     "output_type": "stream",
     "text": [
      "libpng warning: iCCP: known incorrect sRGB profile\n"
     ]
    },
    {
     "data": {
      "text/html": [
       "<pre style=\"white-space:pre;overflow-x:auto;line-height:normal;font-family:Menlo,'DejaVu Sans Mono',consolas,'Courier New',monospace\"></pre>\n"
      ],
      "text/plain": []
     },
     "metadata": {},
     "output_type": "display_data"
    },
    {
     "data": {
      "text/html": [
       "<pre style=\"white-space:pre;overflow-x:auto;line-height:normal;font-family:Menlo,'DejaVu Sans Mono',consolas,'Courier New',monospace\">\n",
       "</pre>\n"
      ],
      "text/plain": [
       "\n"
      ]
     },
     "metadata": {},
     "output_type": "display_data"
    },
    {
     "name": "stderr",
     "output_type": "stream",
     "text": [
      "libpng warning: iCCP: known incorrect sRGB profile\n"
     ]
    },
    {
     "data": {
      "text/html": [
       "<pre style=\"white-space:pre;overflow-x:auto;line-height:normal;font-family:Menlo,'DejaVu Sans Mono',consolas,'Courier New',monospace\"></pre>\n"
      ],
      "text/plain": []
     },
     "metadata": {},
     "output_type": "display_data"
    },
    {
     "data": {
      "text/html": [
       "<pre style=\"white-space:pre;overflow-x:auto;line-height:normal;font-family:Menlo,'DejaVu Sans Mono',consolas,'Courier New',monospace\">\n",
       "</pre>\n"
      ],
      "text/plain": [
       "\n"
      ]
     },
     "metadata": {},
     "output_type": "display_data"
    },
    {
     "name": "stderr",
     "output_type": "stream",
     "text": [
      "libpng warning: iCCP: known incorrect sRGB profile\n"
     ]
    },
    {
     "data": {
      "text/html": [
       "<pre style=\"white-space:pre;overflow-x:auto;line-height:normal;font-family:Menlo,'DejaVu Sans Mono',consolas,'Courier New',monospace\"></pre>\n"
      ],
      "text/plain": []
     },
     "metadata": {},
     "output_type": "display_data"
    },
    {
     "data": {
      "text/html": [
       "<pre style=\"white-space:pre;overflow-x:auto;line-height:normal;font-family:Menlo,'DejaVu Sans Mono',consolas,'Courier New',monospace\">\n",
       "</pre>\n"
      ],
      "text/plain": [
       "\n"
      ]
     },
     "metadata": {},
     "output_type": "display_data"
    },
    {
     "name": "stderr",
     "output_type": "stream",
     "text": [
      "libpng warning: iCCP: known incorrect sRGB profile\n"
     ]
    },
    {
     "data": {
      "text/html": [
       "<pre style=\"white-space:pre;overflow-x:auto;line-height:normal;font-family:Menlo,'DejaVu Sans Mono',consolas,'Courier New',monospace\"></pre>\n"
      ],
      "text/plain": []
     },
     "metadata": {},
     "output_type": "display_data"
    },
    {
     "data": {
      "text/html": [
       "<pre style=\"white-space:pre;overflow-x:auto;line-height:normal;font-family:Menlo,'DejaVu Sans Mono',consolas,'Courier New',monospace\">\n",
       "</pre>\n"
      ],
      "text/plain": [
       "\n"
      ]
     },
     "metadata": {},
     "output_type": "display_data"
    },
    {
     "name": "stderr",
     "output_type": "stream",
     "text": [
      "libpng warning: iCCP: known incorrect sRGB profile\n",
      "libpng warning: iCCP: known incorrect sRGB profile\n",
      "libpng warning: iCCP: known incorrect sRGB profile\n",
      "libpng warning: iCCP: known incorrect sRGB profile\n"
     ]
    },
    {
     "data": {
      "text/html": [
       "<pre style=\"white-space:pre;overflow-x:auto;line-height:normal;font-family:Menlo,'DejaVu Sans Mono',consolas,'Courier New',monospace\"><span style=\"color: #008000; text-decoration-color: #008000\">INFO    </span> Computing metrics on val subset <span style=\"color: #808000; text-decoration-color: #808000\">...</span>                                               <a href=\"file:///home/klemen/luxonis/luxonis-train/luxonis_train/models/luxonis_lightning.py\" target=\"_blank\"><span style=\"color: #7f7f7f; text-decoration-color: #7f7f7f\">luxonis_lightning.py</span></a><span style=\"color: #7f7f7f; text-decoration-color: #7f7f7f\">:</span><a href=\"file:///home/klemen/luxonis/luxonis-train/luxonis_train/models/luxonis_lightning.py#770\" target=\"_blank\"><span style=\"color: #7f7f7f; text-decoration-color: #7f7f7f\">770</span></a>\n",
       "</pre>\n"
      ],
      "text/plain": [
       "\u001b[32mINFO    \u001b[0m Computing metrics on val subset \u001b[33m...\u001b[0m                                               \u001b]8;id=180876;file:///home/klemen/luxonis/luxonis-train/luxonis_train/models/luxonis_lightning.py\u001b\\\u001b[2mluxonis_lightning.py\u001b[0m\u001b]8;;\u001b\\\u001b[2m:\u001b[0m\u001b]8;id=268034;file:///home/klemen/luxonis/luxonis-train/luxonis_train/models/luxonis_lightning.py#770\u001b\\\u001b[2m770\u001b[0m\u001b]8;;\u001b\\\n"
      ]
     },
     "metadata": {},
     "output_type": "display_data"
    },
    {
     "data": {
      "text/html": [
       "<pre style=\"white-space:pre;overflow-x:auto;line-height:normal;font-family:Menlo,'DejaVu Sans Mono',consolas,'Courier New',monospace\"><span style=\"color: #008000; text-decoration-color: #008000\">INFO    </span> Metrics computed.                                                                 <a href=\"file:///home/klemen/luxonis/luxonis-train/luxonis_train/models/luxonis_lightning.py\" target=\"_blank\"><span style=\"color: #7f7f7f; text-decoration-color: #7f7f7f\">luxonis_lightning.py</span></a><span style=\"color: #7f7f7f; text-decoration-color: #7f7f7f\">:</span><a href=\"file:///home/klemen/luxonis/luxonis-train/luxonis_train/models/luxonis_lightning.py#772\" target=\"_blank\"><span style=\"color: #7f7f7f; text-decoration-color: #7f7f7f\">772</span></a>\n",
       "</pre>\n"
      ],
      "text/plain": [
       "\u001b[32mINFO    \u001b[0m Metrics computed.                                                                 \u001b]8;id=317988;file:///home/klemen/luxonis/luxonis-train/luxonis_train/models/luxonis_lightning.py\u001b\\\u001b[2mluxonis_lightning.py\u001b[0m\u001b]8;;\u001b\\\u001b[2m:\u001b[0m\u001b]8;id=37540;file:///home/klemen/luxonis/luxonis-train/luxonis_train/models/luxonis_lightning.py#772\u001b\\\u001b[2m772\u001b[0m\u001b]8;;\u001b\\\n"
      ]
     },
     "metadata": {},
     "output_type": "display_data"
    },
    {
     "data": {
      "text/html": [
       "<pre style=\"white-space:pre;overflow-x:auto;line-height:normal;font-family:Menlo,'DejaVu Sans Mono',consolas,'Courier New',monospace\"><span style=\"color: #008000; text-decoration-color: #008000\">INFO    </span> Validation loss: <span style=\"color: #008080; text-decoration-color: #008080; font-weight: bold\">1.5655</span>                                                           <a href=\"file:///home/klemen/luxonis/luxonis-train/luxonis_train/models/luxonis_lightning.py\" target=\"_blank\"><span style=\"color: #7f7f7f; text-decoration-color: #7f7f7f\">luxonis_lightning.py</span></a><span style=\"color: #7f7f7f; text-decoration-color: #7f7f7f\">:</span><a href=\"file:///home/klemen/luxonis/luxonis-train/luxonis_train/models/luxonis_lightning.py#977\" target=\"_blank\"><span style=\"color: #7f7f7f; text-decoration-color: #7f7f7f\">977</span></a>\n",
       "</pre>\n"
      ],
      "text/plain": [
       "\u001b[32mINFO    \u001b[0m Validation loss: \u001b[1;36m1.5655\u001b[0m                                                           \u001b]8;id=214743;file:///home/klemen/luxonis/luxonis-train/luxonis_train/models/luxonis_lightning.py\u001b\\\u001b[2mluxonis_lightning.py\u001b[0m\u001b]8;;\u001b\\\u001b[2m:\u001b[0m\u001b]8;id=808944;file:///home/klemen/luxonis/luxonis-train/luxonis_train/models/luxonis_lightning.py#977\u001b\\\u001b[2m977\u001b[0m\u001b]8;;\u001b\\\n"
      ]
     },
     "metadata": {},
     "output_type": "display_data"
    },
    {
     "data": {
      "text/html": [
       "<pre style=\"white-space:pre;overflow-x:auto;line-height:normal;font-family:Menlo,'DejaVu Sans Mono',consolas,'Courier New',monospace\"><span style=\"color: #800080; text-decoration-color: #800080; font-weight: bold\">─────────────────────────────────────────────────── </span>Validation<span style=\"color: #800080; text-decoration-color: #800080; font-weight: bold\"> ────────────────────────────────────────────────────</span>\n",
       "</pre>\n"
      ],
      "text/plain": [
       "\u001b[1;35m─────────────────────────────────────────────────── \u001b[0mValidation\u001b[1;35m ────────────────────────────────────────────────────\u001b[0m\n"
      ]
     },
     "metadata": {},
     "output_type": "display_data"
    },
    {
     "data": {
      "text/html": [
       "<pre style=\"white-space:pre;overflow-x:auto;line-height:normal;font-family:Menlo,'DejaVu Sans Mono',consolas,'Courier New',monospace\"><span style=\"color: #800080; text-decoration-color: #800080; font-weight: bold\">Loss:</span> <span style=\"color: #c0c0c0; text-decoration-color: #c0c0c0; font-weight: bold\">1.565459132194519</span>\n",
       "</pre>\n"
      ],
      "text/plain": [
       "\u001b[1;35mLoss:\u001b[0m \u001b[1;37m1.565459132194519\u001b[0m\n"
      ]
     },
     "metadata": {},
     "output_type": "display_data"
    },
    {
     "data": {
      "text/html": [
       "<pre style=\"white-space:pre;overflow-x:auto;line-height:normal;font-family:Menlo,'DejaVu Sans Mono',consolas,'Courier New',monospace\"><span style=\"color: #800080; text-decoration-color: #800080; font-weight: bold\">Metrics:</span>\n",
       "</pre>\n"
      ],
      "text/plain": [
       "\u001b[1;35mMetrics:\u001b[0m\n"
      ]
     },
     "metadata": {},
     "output_type": "display_data"
    },
    {
     "data": {
      "text/html": [
       "<pre style=\"white-space:pre;overflow-x:auto;line-height:normal;font-family:Menlo,'DejaVu Sans Mono',consolas,'Courier New',monospace\"><span style=\"font-style: italic\">       detection_head       </span>\n",
       "┏━━━━━━━━━━━━━━━┳━━━━━━━━━━┓\n",
       "┃<span style=\"color: #800080; text-decoration-color: #800080; font-weight: bold\"> Name          </span>┃<span style=\"color: #800080; text-decoration-color: #800080; font-weight: bold\"> Value    </span>┃\n",
       "┡━━━━━━━━━━━━━━━╇━━━━━━━━━━┩\n",
       "│<span style=\"color: #800080; text-decoration-color: #800080\"> detection_map </span>│<span style=\"color: #c0c0c0; text-decoration-color: #c0c0c0\"> 0.29256  </span>│\n",
       "│<span style=\"color: #800080; text-decoration-color: #800080\"> map_50        </span>│<span style=\"color: #c0c0c0; text-decoration-color: #c0c0c0\"> 0.57683  </span>│\n",
       "│<span style=\"color: #800080; text-decoration-color: #800080\"> map_75        </span>│<span style=\"color: #c0c0c0; text-decoration-color: #c0c0c0\"> 0.27229  </span>│\n",
       "│<span style=\"color: #800080; text-decoration-color: #800080\"> map_small     </span>│<span style=\"color: #c0c0c0; text-decoration-color: #c0c0c0\"> -1.00000 </span>│\n",
       "│<span style=\"color: #800080; text-decoration-color: #800080\"> map_medium    </span>│<span style=\"color: #c0c0c0; text-decoration-color: #c0c0c0\"> 0.12624  </span>│\n",
       "│<span style=\"color: #800080; text-decoration-color: #800080\"> map_large     </span>│<span style=\"color: #c0c0c0; text-decoration-color: #c0c0c0\"> 0.31063  </span>│\n",
       "│<span style=\"color: #800080; text-decoration-color: #800080\"> mar_1         </span>│<span style=\"color: #c0c0c0; text-decoration-color: #c0c0c0\"> 0.28360  </span>│\n",
       "│<span style=\"color: #800080; text-decoration-color: #800080\"> mar_10        </span>│<span style=\"color: #c0c0c0; text-decoration-color: #c0c0c0\"> 0.35970  </span>│\n",
       "│<span style=\"color: #800080; text-decoration-color: #800080\"> mar_100       </span>│<span style=\"color: #c0c0c0; text-decoration-color: #c0c0c0\"> 0.35970  </span>│\n",
       "│<span style=\"color: #800080; text-decoration-color: #800080\"> mar_small     </span>│<span style=\"color: #c0c0c0; text-decoration-color: #c0c0c0\"> -1.00000 </span>│\n",
       "│<span style=\"color: #800080; text-decoration-color: #800080\"> mar_medium    </span>│<span style=\"color: #c0c0c0; text-decoration-color: #c0c0c0\"> 0.12500  </span>│\n",
       "│<span style=\"color: #800080; text-decoration-color: #800080\"> mar_large     </span>│<span style=\"color: #c0c0c0; text-decoration-color: #c0c0c0\"> 0.38212  </span>│\n",
       "│<span style=\"color: #800080; text-decoration-color: #800080\"> f1_small      </span>│<span style=\"color: #c0c0c0; text-decoration-color: #c0c0c0\"> -1.00000 </span>│\n",
       "│<span style=\"color: #800080; text-decoration-color: #800080\"> f1_medium     </span>│<span style=\"color: #c0c0c0; text-decoration-color: #c0c0c0\"> 0.12562  </span>│\n",
       "│<span style=\"color: #800080; text-decoration-color: #800080\"> f1_large      </span>│<span style=\"color: #c0c0c0; text-decoration-color: #c0c0c0\"> 0.34269  </span>│\n",
       "└───────────────┴──────────┘\n",
       "</pre>\n"
      ],
      "text/plain": [
       "\u001b[3m       detection_head       \u001b[0m\n",
       "┏━━━━━━━━━━━━━━━┳━━━━━━━━━━┓\n",
       "┃\u001b[1;35m \u001b[0m\u001b[1;35mName         \u001b[0m\u001b[1;35m \u001b[0m┃\u001b[1;35m \u001b[0m\u001b[1;35mValue   \u001b[0m\u001b[1;35m \u001b[0m┃\n",
       "┡━━━━━━━━━━━━━━━╇━━━━━━━━━━┩\n",
       "│\u001b[35m \u001b[0m\u001b[35mdetection_map\u001b[0m\u001b[35m \u001b[0m│\u001b[37m \u001b[0m\u001b[37m0.29256 \u001b[0m\u001b[37m \u001b[0m│\n",
       "│\u001b[35m \u001b[0m\u001b[35mmap_50       \u001b[0m\u001b[35m \u001b[0m│\u001b[37m \u001b[0m\u001b[37m0.57683 \u001b[0m\u001b[37m \u001b[0m│\n",
       "│\u001b[35m \u001b[0m\u001b[35mmap_75       \u001b[0m\u001b[35m \u001b[0m│\u001b[37m \u001b[0m\u001b[37m0.27229 \u001b[0m\u001b[37m \u001b[0m│\n",
       "│\u001b[35m \u001b[0m\u001b[35mmap_small    \u001b[0m\u001b[35m \u001b[0m│\u001b[37m \u001b[0m\u001b[37m-1.00000\u001b[0m\u001b[37m \u001b[0m│\n",
       "│\u001b[35m \u001b[0m\u001b[35mmap_medium   \u001b[0m\u001b[35m \u001b[0m│\u001b[37m \u001b[0m\u001b[37m0.12624 \u001b[0m\u001b[37m \u001b[0m│\n",
       "│\u001b[35m \u001b[0m\u001b[35mmap_large    \u001b[0m\u001b[35m \u001b[0m│\u001b[37m \u001b[0m\u001b[37m0.31063 \u001b[0m\u001b[37m \u001b[0m│\n",
       "│\u001b[35m \u001b[0m\u001b[35mmar_1        \u001b[0m\u001b[35m \u001b[0m│\u001b[37m \u001b[0m\u001b[37m0.28360 \u001b[0m\u001b[37m \u001b[0m│\n",
       "│\u001b[35m \u001b[0m\u001b[35mmar_10       \u001b[0m\u001b[35m \u001b[0m│\u001b[37m \u001b[0m\u001b[37m0.35970 \u001b[0m\u001b[37m \u001b[0m│\n",
       "│\u001b[35m \u001b[0m\u001b[35mmar_100      \u001b[0m\u001b[35m \u001b[0m│\u001b[37m \u001b[0m\u001b[37m0.35970 \u001b[0m\u001b[37m \u001b[0m│\n",
       "│\u001b[35m \u001b[0m\u001b[35mmar_small    \u001b[0m\u001b[35m \u001b[0m│\u001b[37m \u001b[0m\u001b[37m-1.00000\u001b[0m\u001b[37m \u001b[0m│\n",
       "│\u001b[35m \u001b[0m\u001b[35mmar_medium   \u001b[0m\u001b[35m \u001b[0m│\u001b[37m \u001b[0m\u001b[37m0.12500 \u001b[0m\u001b[37m \u001b[0m│\n",
       "│\u001b[35m \u001b[0m\u001b[35mmar_large    \u001b[0m\u001b[35m \u001b[0m│\u001b[37m \u001b[0m\u001b[37m0.38212 \u001b[0m\u001b[37m \u001b[0m│\n",
       "│\u001b[35m \u001b[0m\u001b[35mf1_small     \u001b[0m\u001b[35m \u001b[0m│\u001b[37m \u001b[0m\u001b[37m-1.00000\u001b[0m\u001b[37m \u001b[0m│\n",
       "│\u001b[35m \u001b[0m\u001b[35mf1_medium    \u001b[0m\u001b[35m \u001b[0m│\u001b[37m \u001b[0m\u001b[37m0.12562 \u001b[0m\u001b[37m \u001b[0m│\n",
       "│\u001b[35m \u001b[0m\u001b[35mf1_large     \u001b[0m\u001b[35m \u001b[0m│\u001b[37m \u001b[0m\u001b[37m0.34269 \u001b[0m\u001b[37m \u001b[0m│\n",
       "└───────────────┴──────────┘\n"
      ]
     },
     "metadata": {},
     "output_type": "display_data"
    },
    {
     "data": {
      "text/html": [
       "<pre style=\"white-space:pre;overflow-x:auto;line-height:normal;font-family:Menlo,'DejaVu Sans Mono',consolas,'Courier New',monospace\"><span style=\"color: #800080; text-decoration-color: #800080; font-weight: bold\">───────────────────────────────────────────────────────────────────────────────────────────────────────────────────</span>\n",
       "</pre>\n"
      ],
      "text/plain": [
       "\u001b[1;35m───────────────────────────────────────────────────────────────────────────────────────────────────────────────────\u001b[0m\n"
      ]
     },
     "metadata": {},
     "output_type": "display_data"
    },
    {
     "data": {
      "text/html": [
       "<pre style=\"white-space:pre;overflow-x:auto;line-height:normal;font-family:Menlo,'DejaVu Sans Mono',consolas,'Courier New',monospace\"><span style=\"color: #008000; text-decoration-color: #008000\">INFO    </span> Validation main metric <span style=\"font-weight: bold\">(</span>detection_head/detection_map<span style=\"font-weight: bold\">)</span>: <span style=\"color: #008080; text-decoration-color: #008080; font-weight: bold\">0.2926</span>                     <a href=\"file:///home/klemen/luxonis/luxonis-train/luxonis_train/models/luxonis_lightning.py\" target=\"_blank\"><span style=\"color: #7f7f7f; text-decoration-color: #7f7f7f\">luxonis_lightning.py</span></a><span style=\"color: #7f7f7f; text-decoration-color: #7f7f7f\">:</span><a href=\"file:///home/klemen/luxonis/luxonis-train/luxonis_train/models/luxonis_lightning.py#986\" target=\"_blank\"><span style=\"color: #7f7f7f; text-decoration-color: #7f7f7f\">986</span></a>\n",
       "</pre>\n"
      ],
      "text/plain": [
       "\u001b[32mINFO    \u001b[0m Validation main metric \u001b[1m(\u001b[0mdetection_head/detection_map\u001b[1m)\u001b[0m: \u001b[1;36m0.2926\u001b[0m                     \u001b]8;id=214123;file:///home/klemen/luxonis/luxonis-train/luxonis_train/models/luxonis_lightning.py\u001b\\\u001b[2mluxonis_lightning.py\u001b[0m\u001b]8;;\u001b\\\u001b[2m:\u001b[0m\u001b]8;id=291453;file:///home/klemen/luxonis/luxonis-train/luxonis_train/models/luxonis_lightning.py#986\u001b\\\u001b[2m986\u001b[0m\u001b]8;;\u001b\\\n"
      ]
     },
     "metadata": {},
     "output_type": "display_data"
    },
    {
     "data": {
      "text/html": [
       "<pre style=\"white-space:pre;overflow-x:auto;line-height:normal;font-family:Menlo,'DejaVu Sans Mono',consolas,'Courier New',monospace\"></pre>\n"
      ],
      "text/plain": []
     },
     "metadata": {},
     "output_type": "display_data"
    },
    {
     "data": {
      "text/html": [
       "<pre style=\"white-space:pre;overflow-x:auto;line-height:normal;font-family:Menlo,'DejaVu Sans Mono',consolas,'Courier New',monospace\">\n",
       "</pre>\n"
      ],
      "text/plain": [
       "\n"
      ]
     },
     "metadata": {},
     "output_type": "display_data"
    },
    {
     "name": "stderr",
     "output_type": "stream",
     "text": [
      "libpng warning: iCCP: known incorrect sRGB profile\n"
     ]
    },
    {
     "data": {
      "text/html": [
       "<pre style=\"white-space:pre;overflow-x:auto;line-height:normal;font-family:Menlo,'DejaVu Sans Mono',consolas,'Courier New',monospace\"></pre>\n"
      ],
      "text/plain": []
     },
     "metadata": {},
     "output_type": "display_data"
    },
    {
     "data": {
      "text/html": [
       "<pre style=\"white-space:pre;overflow-x:auto;line-height:normal;font-family:Menlo,'DejaVu Sans Mono',consolas,'Courier New',monospace\">\n",
       "</pre>\n"
      ],
      "text/plain": [
       "\n"
      ]
     },
     "metadata": {},
     "output_type": "display_data"
    },
    {
     "name": "stderr",
     "output_type": "stream",
     "text": [
      "libpng warning: iCCP: known incorrect sRGB profile\n"
     ]
    },
    {
     "data": {
      "text/html": [
       "<pre style=\"white-space:pre;overflow-x:auto;line-height:normal;font-family:Menlo,'DejaVu Sans Mono',consolas,'Courier New',monospace\"></pre>\n"
      ],
      "text/plain": []
     },
     "metadata": {},
     "output_type": "display_data"
    },
    {
     "data": {
      "text/html": [
       "<pre style=\"white-space:pre;overflow-x:auto;line-height:normal;font-family:Menlo,'DejaVu Sans Mono',consolas,'Courier New',monospace\">\n",
       "</pre>\n"
      ],
      "text/plain": [
       "\n"
      ]
     },
     "metadata": {},
     "output_type": "display_data"
    },
    {
     "name": "stderr",
     "output_type": "stream",
     "text": [
      "libpng warning: iCCP: known incorrect sRGB profile\n"
     ]
    },
    {
     "data": {
      "text/html": [
       "<pre style=\"white-space:pre;overflow-x:auto;line-height:normal;font-family:Menlo,'DejaVu Sans Mono',consolas,'Courier New',monospace\"></pre>\n"
      ],
      "text/plain": []
     },
     "metadata": {},
     "output_type": "display_data"
    },
    {
     "data": {
      "text/html": [
       "<pre style=\"white-space:pre;overflow-x:auto;line-height:normal;font-family:Menlo,'DejaVu Sans Mono',consolas,'Courier New',monospace\">\n",
       "</pre>\n"
      ],
      "text/plain": [
       "\n"
      ]
     },
     "metadata": {},
     "output_type": "display_data"
    },
    {
     "name": "stderr",
     "output_type": "stream",
     "text": [
      "libpng warning: iCCP: known incorrect sRGB profile\n"
     ]
    },
    {
     "data": {
      "text/html": [
       "<pre style=\"white-space:pre;overflow-x:auto;line-height:normal;font-family:Menlo,'DejaVu Sans Mono',consolas,'Courier New',monospace\"></pre>\n"
      ],
      "text/plain": []
     },
     "metadata": {},
     "output_type": "display_data"
    },
    {
     "data": {
      "text/html": [
       "<pre style=\"white-space:pre;overflow-x:auto;line-height:normal;font-family:Menlo,'DejaVu Sans Mono',consolas,'Courier New',monospace\">\n",
       "</pre>\n"
      ],
      "text/plain": [
       "\n"
      ]
     },
     "metadata": {},
     "output_type": "display_data"
    },
    {
     "name": "stderr",
     "output_type": "stream",
     "text": [
      "libpng warning: iCCP: known incorrect sRGB profile\n"
     ]
    },
    {
     "data": {
      "text/html": [
       "<pre style=\"white-space:pre;overflow-x:auto;line-height:normal;font-family:Menlo,'DejaVu Sans Mono',consolas,'Courier New',monospace\"></pre>\n"
      ],
      "text/plain": []
     },
     "metadata": {},
     "output_type": "display_data"
    },
    {
     "data": {
      "text/html": [
       "<pre style=\"white-space:pre;overflow-x:auto;line-height:normal;font-family:Menlo,'DejaVu Sans Mono',consolas,'Courier New',monospace\">\n",
       "</pre>\n"
      ],
      "text/plain": [
       "\n"
      ]
     },
     "metadata": {},
     "output_type": "display_data"
    },
    {
     "name": "stderr",
     "output_type": "stream",
     "text": [
      "libpng warning: iCCP: known incorrect sRGB profile\n"
     ]
    },
    {
     "data": {
      "text/html": [
       "<pre style=\"white-space:pre;overflow-x:auto;line-height:normal;font-family:Menlo,'DejaVu Sans Mono',consolas,'Courier New',monospace\"></pre>\n"
      ],
      "text/plain": []
     },
     "metadata": {},
     "output_type": "display_data"
    },
    {
     "data": {
      "text/html": [
       "<pre style=\"white-space:pre;overflow-x:auto;line-height:normal;font-family:Menlo,'DejaVu Sans Mono',consolas,'Courier New',monospace\">\n",
       "</pre>\n"
      ],
      "text/plain": [
       "\n"
      ]
     },
     "metadata": {},
     "output_type": "display_data"
    },
    {
     "name": "stderr",
     "output_type": "stream",
     "text": [
      "libpng warning: iCCP: known incorrect sRGB profile\n"
     ]
    },
    {
     "data": {
      "text/html": [
       "<pre style=\"white-space:pre;overflow-x:auto;line-height:normal;font-family:Menlo,'DejaVu Sans Mono',consolas,'Courier New',monospace\"></pre>\n"
      ],
      "text/plain": []
     },
     "metadata": {},
     "output_type": "display_data"
    },
    {
     "data": {
      "text/html": [
       "<pre style=\"white-space:pre;overflow-x:auto;line-height:normal;font-family:Menlo,'DejaVu Sans Mono',consolas,'Courier New',monospace\">\n",
       "</pre>\n"
      ],
      "text/plain": [
       "\n"
      ]
     },
     "metadata": {},
     "output_type": "display_data"
    },
    {
     "name": "stderr",
     "output_type": "stream",
     "text": [
      "libpng warning: iCCP: known incorrect sRGB profile\n"
     ]
    },
    {
     "data": {
      "text/html": [
       "<pre style=\"white-space:pre;overflow-x:auto;line-height:normal;font-family:Menlo,'DejaVu Sans Mono',consolas,'Courier New',monospace\"></pre>\n"
      ],
      "text/plain": []
     },
     "metadata": {},
     "output_type": "display_data"
    },
    {
     "data": {
      "text/html": [
       "<pre style=\"white-space:pre;overflow-x:auto;line-height:normal;font-family:Menlo,'DejaVu Sans Mono',consolas,'Courier New',monospace\">\n",
       "</pre>\n"
      ],
      "text/plain": [
       "\n"
      ]
     },
     "metadata": {},
     "output_type": "display_data"
    },
    {
     "name": "stderr",
     "output_type": "stream",
     "text": [
      "libpng warning: iCCP: known incorrect sRGB profile\n"
     ]
    },
    {
     "data": {
      "text/html": [
       "<pre style=\"white-space:pre;overflow-x:auto;line-height:normal;font-family:Menlo,'DejaVu Sans Mono',consolas,'Courier New',monospace\"></pre>\n"
      ],
      "text/plain": []
     },
     "metadata": {},
     "output_type": "display_data"
    },
    {
     "data": {
      "text/html": [
       "<pre style=\"white-space:pre;overflow-x:auto;line-height:normal;font-family:Menlo,'DejaVu Sans Mono',consolas,'Courier New',monospace\">\n",
       "</pre>\n"
      ],
      "text/plain": [
       "\n"
      ]
     },
     "metadata": {},
     "output_type": "display_data"
    },
    {
     "name": "stderr",
     "output_type": "stream",
     "text": [
      "libpng warning: iCCP: known incorrect sRGB profile\n",
      "libpng warning: iCCP: known incorrect sRGB profile\n",
      "libpng warning: iCCP: known incorrect sRGB profile\n",
      "libpng warning: iCCP: known incorrect sRGB profile\n"
     ]
    },
    {
     "data": {
      "text/html": [
       "<pre style=\"white-space:pre;overflow-x:auto;line-height:normal;font-family:Menlo,'DejaVu Sans Mono',consolas,'Courier New',monospace\"><span style=\"color: #008000; text-decoration-color: #008000\">INFO    </span> Computing metrics on val subset <span style=\"color: #808000; text-decoration-color: #808000\">...</span>                                               <a href=\"file:///home/klemen/luxonis/luxonis-train/luxonis_train/models/luxonis_lightning.py\" target=\"_blank\"><span style=\"color: #7f7f7f; text-decoration-color: #7f7f7f\">luxonis_lightning.py</span></a><span style=\"color: #7f7f7f; text-decoration-color: #7f7f7f\">:</span><a href=\"file:///home/klemen/luxonis/luxonis-train/luxonis_train/models/luxonis_lightning.py#770\" target=\"_blank\"><span style=\"color: #7f7f7f; text-decoration-color: #7f7f7f\">770</span></a>\n",
       "</pre>\n"
      ],
      "text/plain": [
       "\u001b[32mINFO    \u001b[0m Computing metrics on val subset \u001b[33m...\u001b[0m                                               \u001b]8;id=634293;file:///home/klemen/luxonis/luxonis-train/luxonis_train/models/luxonis_lightning.py\u001b\\\u001b[2mluxonis_lightning.py\u001b[0m\u001b]8;;\u001b\\\u001b[2m:\u001b[0m\u001b]8;id=765278;file:///home/klemen/luxonis/luxonis-train/luxonis_train/models/luxonis_lightning.py#770\u001b\\\u001b[2m770\u001b[0m\u001b]8;;\u001b\\\n"
      ]
     },
     "metadata": {},
     "output_type": "display_data"
    },
    {
     "data": {
      "text/html": [
       "<pre style=\"white-space:pre;overflow-x:auto;line-height:normal;font-family:Menlo,'DejaVu Sans Mono',consolas,'Courier New',monospace\"><span style=\"color: #008000; text-decoration-color: #008000\">INFO    </span> Metrics computed.                                                                 <a href=\"file:///home/klemen/luxonis/luxonis-train/luxonis_train/models/luxonis_lightning.py\" target=\"_blank\"><span style=\"color: #7f7f7f; text-decoration-color: #7f7f7f\">luxonis_lightning.py</span></a><span style=\"color: #7f7f7f; text-decoration-color: #7f7f7f\">:</span><a href=\"file:///home/klemen/luxonis/luxonis-train/luxonis_train/models/luxonis_lightning.py#772\" target=\"_blank\"><span style=\"color: #7f7f7f; text-decoration-color: #7f7f7f\">772</span></a>\n",
       "</pre>\n"
      ],
      "text/plain": [
       "\u001b[32mINFO    \u001b[0m Metrics computed.                                                                 \u001b]8;id=478220;file:///home/klemen/luxonis/luxonis-train/luxonis_train/models/luxonis_lightning.py\u001b\\\u001b[2mluxonis_lightning.py\u001b[0m\u001b]8;;\u001b\\\u001b[2m:\u001b[0m\u001b]8;id=122409;file:///home/klemen/luxonis/luxonis-train/luxonis_train/models/luxonis_lightning.py#772\u001b\\\u001b[2m772\u001b[0m\u001b]8;;\u001b\\\n"
      ]
     },
     "metadata": {},
     "output_type": "display_data"
    },
    {
     "data": {
      "text/html": [
       "<pre style=\"white-space:pre;overflow-x:auto;line-height:normal;font-family:Menlo,'DejaVu Sans Mono',consolas,'Courier New',monospace\"><span style=\"color: #008000; text-decoration-color: #008000\">INFO    </span> Validation loss: <span style=\"color: #008080; text-decoration-color: #008080; font-weight: bold\">1.5355</span>                                                           <a href=\"file:///home/klemen/luxonis/luxonis-train/luxonis_train/models/luxonis_lightning.py\" target=\"_blank\"><span style=\"color: #7f7f7f; text-decoration-color: #7f7f7f\">luxonis_lightning.py</span></a><span style=\"color: #7f7f7f; text-decoration-color: #7f7f7f\">:</span><a href=\"file:///home/klemen/luxonis/luxonis-train/luxonis_train/models/luxonis_lightning.py#977\" target=\"_blank\"><span style=\"color: #7f7f7f; text-decoration-color: #7f7f7f\">977</span></a>\n",
       "</pre>\n"
      ],
      "text/plain": [
       "\u001b[32mINFO    \u001b[0m Validation loss: \u001b[1;36m1.5355\u001b[0m                                                           \u001b]8;id=414999;file:///home/klemen/luxonis/luxonis-train/luxonis_train/models/luxonis_lightning.py\u001b\\\u001b[2mluxonis_lightning.py\u001b[0m\u001b]8;;\u001b\\\u001b[2m:\u001b[0m\u001b]8;id=299178;file:///home/klemen/luxonis/luxonis-train/luxonis_train/models/luxonis_lightning.py#977\u001b\\\u001b[2m977\u001b[0m\u001b]8;;\u001b\\\n"
      ]
     },
     "metadata": {},
     "output_type": "display_data"
    },
    {
     "data": {
      "text/html": [
       "<pre style=\"white-space:pre;overflow-x:auto;line-height:normal;font-family:Menlo,'DejaVu Sans Mono',consolas,'Courier New',monospace\"><span style=\"color: #800080; text-decoration-color: #800080; font-weight: bold\">─────────────────────────────────────────────────── </span>Validation<span style=\"color: #800080; text-decoration-color: #800080; font-weight: bold\"> ────────────────────────────────────────────────────</span>\n",
       "</pre>\n"
      ],
      "text/plain": [
       "\u001b[1;35m─────────────────────────────────────────────────── \u001b[0mValidation\u001b[1;35m ────────────────────────────────────────────────────\u001b[0m\n"
      ]
     },
     "metadata": {},
     "output_type": "display_data"
    },
    {
     "data": {
      "text/html": [
       "<pre style=\"white-space:pre;overflow-x:auto;line-height:normal;font-family:Menlo,'DejaVu Sans Mono',consolas,'Courier New',monospace\"><span style=\"color: #800080; text-decoration-color: #800080; font-weight: bold\">Loss:</span> <span style=\"color: #c0c0c0; text-decoration-color: #c0c0c0; font-weight: bold\">1.5354879299799602</span>\n",
       "</pre>\n"
      ],
      "text/plain": [
       "\u001b[1;35mLoss:\u001b[0m \u001b[1;37m1.5354879299799602\u001b[0m\n"
      ]
     },
     "metadata": {},
     "output_type": "display_data"
    },
    {
     "data": {
      "text/html": [
       "<pre style=\"white-space:pre;overflow-x:auto;line-height:normal;font-family:Menlo,'DejaVu Sans Mono',consolas,'Courier New',monospace\"><span style=\"color: #800080; text-decoration-color: #800080; font-weight: bold\">Metrics:</span>\n",
       "</pre>\n"
      ],
      "text/plain": [
       "\u001b[1;35mMetrics:\u001b[0m\n"
      ]
     },
     "metadata": {},
     "output_type": "display_data"
    },
    {
     "data": {
      "text/html": [
       "<pre style=\"white-space:pre;overflow-x:auto;line-height:normal;font-family:Menlo,'DejaVu Sans Mono',consolas,'Courier New',monospace\"><span style=\"font-style: italic\">       detection_head       </span>\n",
       "┏━━━━━━━━━━━━━━━┳━━━━━━━━━━┓\n",
       "┃<span style=\"color: #800080; text-decoration-color: #800080; font-weight: bold\"> Name          </span>┃<span style=\"color: #800080; text-decoration-color: #800080; font-weight: bold\"> Value    </span>┃\n",
       "┡━━━━━━━━━━━━━━━╇━━━━━━━━━━┩\n",
       "│<span style=\"color: #800080; text-decoration-color: #800080\"> detection_map </span>│<span style=\"color: #c0c0c0; text-decoration-color: #c0c0c0\"> 0.32265  </span>│\n",
       "│<span style=\"color: #800080; text-decoration-color: #800080\"> map_50        </span>│<span style=\"color: #c0c0c0; text-decoration-color: #c0c0c0\"> 0.55454  </span>│\n",
       "│<span style=\"color: #800080; text-decoration-color: #800080\"> map_75        </span>│<span style=\"color: #c0c0c0; text-decoration-color: #c0c0c0\"> 0.36932  </span>│\n",
       "│<span style=\"color: #800080; text-decoration-color: #800080\"> map_small     </span>│<span style=\"color: #c0c0c0; text-decoration-color: #c0c0c0\"> -1.00000 </span>│\n",
       "│<span style=\"color: #800080; text-decoration-color: #800080\"> map_medium    </span>│<span style=\"color: #c0c0c0; text-decoration-color: #c0c0c0\"> 0.12624  </span>│\n",
       "│<span style=\"color: #800080; text-decoration-color: #800080\"> map_large     </span>│<span style=\"color: #c0c0c0; text-decoration-color: #c0c0c0\"> 0.34353  </span>│\n",
       "│<span style=\"color: #800080; text-decoration-color: #800080\"> mar_1         </span>│<span style=\"color: #c0c0c0; text-decoration-color: #c0c0c0\"> 0.30451  </span>│\n",
       "│<span style=\"color: #800080; text-decoration-color: #800080\"> mar_10        </span>│<span style=\"color: #c0c0c0; text-decoration-color: #c0c0c0\"> 0.38806  </span>│\n",
       "│<span style=\"color: #800080; text-decoration-color: #800080\"> mar_100       </span>│<span style=\"color: #c0c0c0; text-decoration-color: #c0c0c0\"> 0.38806  </span>│\n",
       "│<span style=\"color: #800080; text-decoration-color: #800080\"> mar_small     </span>│<span style=\"color: #c0c0c0; text-decoration-color: #c0c0c0\"> -1.00000 </span>│\n",
       "│<span style=\"color: #800080; text-decoration-color: #800080\"> mar_medium    </span>│<span style=\"color: #c0c0c0; text-decoration-color: #c0c0c0\"> 0.12500  </span>│\n",
       "│<span style=\"color: #800080; text-decoration-color: #800080\"> mar_large     </span>│<span style=\"color: #c0c0c0; text-decoration-color: #c0c0c0\"> 0.41286  </span>│\n",
       "│<span style=\"color: #800080; text-decoration-color: #800080\"> f1_small      </span>│<span style=\"color: #c0c0c0; text-decoration-color: #c0c0c0\"> -1.00000 </span>│\n",
       "│<span style=\"color: #800080; text-decoration-color: #800080\"> f1_medium     </span>│<span style=\"color: #c0c0c0; text-decoration-color: #c0c0c0\"> 0.12562  </span>│\n",
       "│<span style=\"color: #800080; text-decoration-color: #800080\"> f1_large      </span>│<span style=\"color: #c0c0c0; text-decoration-color: #c0c0c0\"> 0.37502  </span>│\n",
       "└───────────────┴──────────┘\n",
       "</pre>\n"
      ],
      "text/plain": [
       "\u001b[3m       detection_head       \u001b[0m\n",
       "┏━━━━━━━━━━━━━━━┳━━━━━━━━━━┓\n",
       "┃\u001b[1;35m \u001b[0m\u001b[1;35mName         \u001b[0m\u001b[1;35m \u001b[0m┃\u001b[1;35m \u001b[0m\u001b[1;35mValue   \u001b[0m\u001b[1;35m \u001b[0m┃\n",
       "┡━━━━━━━━━━━━━━━╇━━━━━━━━━━┩\n",
       "│\u001b[35m \u001b[0m\u001b[35mdetection_map\u001b[0m\u001b[35m \u001b[0m│\u001b[37m \u001b[0m\u001b[37m0.32265 \u001b[0m\u001b[37m \u001b[0m│\n",
       "│\u001b[35m \u001b[0m\u001b[35mmap_50       \u001b[0m\u001b[35m \u001b[0m│\u001b[37m \u001b[0m\u001b[37m0.55454 \u001b[0m\u001b[37m \u001b[0m│\n",
       "│\u001b[35m \u001b[0m\u001b[35mmap_75       \u001b[0m\u001b[35m \u001b[0m│\u001b[37m \u001b[0m\u001b[37m0.36932 \u001b[0m\u001b[37m \u001b[0m│\n",
       "│\u001b[35m \u001b[0m\u001b[35mmap_small    \u001b[0m\u001b[35m \u001b[0m│\u001b[37m \u001b[0m\u001b[37m-1.00000\u001b[0m\u001b[37m \u001b[0m│\n",
       "│\u001b[35m \u001b[0m\u001b[35mmap_medium   \u001b[0m\u001b[35m \u001b[0m│\u001b[37m \u001b[0m\u001b[37m0.12624 \u001b[0m\u001b[37m \u001b[0m│\n",
       "│\u001b[35m \u001b[0m\u001b[35mmap_large    \u001b[0m\u001b[35m \u001b[0m│\u001b[37m \u001b[0m\u001b[37m0.34353 \u001b[0m\u001b[37m \u001b[0m│\n",
       "│\u001b[35m \u001b[0m\u001b[35mmar_1        \u001b[0m\u001b[35m \u001b[0m│\u001b[37m \u001b[0m\u001b[37m0.30451 \u001b[0m\u001b[37m \u001b[0m│\n",
       "│\u001b[35m \u001b[0m\u001b[35mmar_10       \u001b[0m\u001b[35m \u001b[0m│\u001b[37m \u001b[0m\u001b[37m0.38806 \u001b[0m\u001b[37m \u001b[0m│\n",
       "│\u001b[35m \u001b[0m\u001b[35mmar_100      \u001b[0m\u001b[35m \u001b[0m│\u001b[37m \u001b[0m\u001b[37m0.38806 \u001b[0m\u001b[37m \u001b[0m│\n",
       "│\u001b[35m \u001b[0m\u001b[35mmar_small    \u001b[0m\u001b[35m \u001b[0m│\u001b[37m \u001b[0m\u001b[37m-1.00000\u001b[0m\u001b[37m \u001b[0m│\n",
       "│\u001b[35m \u001b[0m\u001b[35mmar_medium   \u001b[0m\u001b[35m \u001b[0m│\u001b[37m \u001b[0m\u001b[37m0.12500 \u001b[0m\u001b[37m \u001b[0m│\n",
       "│\u001b[35m \u001b[0m\u001b[35mmar_large    \u001b[0m\u001b[35m \u001b[0m│\u001b[37m \u001b[0m\u001b[37m0.41286 \u001b[0m\u001b[37m \u001b[0m│\n",
       "│\u001b[35m \u001b[0m\u001b[35mf1_small     \u001b[0m\u001b[35m \u001b[0m│\u001b[37m \u001b[0m\u001b[37m-1.00000\u001b[0m\u001b[37m \u001b[0m│\n",
       "│\u001b[35m \u001b[0m\u001b[35mf1_medium    \u001b[0m\u001b[35m \u001b[0m│\u001b[37m \u001b[0m\u001b[37m0.12562 \u001b[0m\u001b[37m \u001b[0m│\n",
       "│\u001b[35m \u001b[0m\u001b[35mf1_large     \u001b[0m\u001b[35m \u001b[0m│\u001b[37m \u001b[0m\u001b[37m0.37502 \u001b[0m\u001b[37m \u001b[0m│\n",
       "└───────────────┴──────────┘\n"
      ]
     },
     "metadata": {},
     "output_type": "display_data"
    },
    {
     "data": {
      "text/html": [
       "<pre style=\"white-space:pre;overflow-x:auto;line-height:normal;font-family:Menlo,'DejaVu Sans Mono',consolas,'Courier New',monospace\"><span style=\"color: #800080; text-decoration-color: #800080; font-weight: bold\">───────────────────────────────────────────────────────────────────────────────────────────────────────────────────</span>\n",
       "</pre>\n"
      ],
      "text/plain": [
       "\u001b[1;35m───────────────────────────────────────────────────────────────────────────────────────────────────────────────────\u001b[0m\n"
      ]
     },
     "metadata": {},
     "output_type": "display_data"
    },
    {
     "data": {
      "text/html": [
       "<pre style=\"white-space:pre;overflow-x:auto;line-height:normal;font-family:Menlo,'DejaVu Sans Mono',consolas,'Courier New',monospace\"><span style=\"color: #008000; text-decoration-color: #008000\">INFO    </span> Validation main metric <span style=\"font-weight: bold\">(</span>detection_head/detection_map<span style=\"font-weight: bold\">)</span>: <span style=\"color: #008080; text-decoration-color: #008080; font-weight: bold\">0.3227</span>                     <a href=\"file:///home/klemen/luxonis/luxonis-train/luxonis_train/models/luxonis_lightning.py\" target=\"_blank\"><span style=\"color: #7f7f7f; text-decoration-color: #7f7f7f\">luxonis_lightning.py</span></a><span style=\"color: #7f7f7f; text-decoration-color: #7f7f7f\">:</span><a href=\"file:///home/klemen/luxonis/luxonis-train/luxonis_train/models/luxonis_lightning.py#986\" target=\"_blank\"><span style=\"color: #7f7f7f; text-decoration-color: #7f7f7f\">986</span></a>\n",
       "</pre>\n"
      ],
      "text/plain": [
       "\u001b[32mINFO    \u001b[0m Validation main metric \u001b[1m(\u001b[0mdetection_head/detection_map\u001b[1m)\u001b[0m: \u001b[1;36m0.3227\u001b[0m                     \u001b]8;id=101462;file:///home/klemen/luxonis/luxonis-train/luxonis_train/models/luxonis_lightning.py\u001b\\\u001b[2mluxonis_lightning.py\u001b[0m\u001b]8;;\u001b\\\u001b[2m:\u001b[0m\u001b]8;id=631648;file:///home/klemen/luxonis/luxonis-train/luxonis_train/models/luxonis_lightning.py#986\u001b\\\u001b[2m986\u001b[0m\u001b]8;;\u001b\\\n"
      ]
     },
     "metadata": {},
     "output_type": "display_data"
    },
    {
     "data": {
      "text/html": [
       "<pre style=\"white-space:pre;overflow-x:auto;line-height:normal;font-family:Menlo,'DejaVu Sans Mono',consolas,'Courier New',monospace\"></pre>\n"
      ],
      "text/plain": []
     },
     "metadata": {},
     "output_type": "display_data"
    },
    {
     "data": {
      "text/html": [
       "<pre style=\"white-space:pre;overflow-x:auto;line-height:normal;font-family:Menlo,'DejaVu Sans Mono',consolas,'Courier New',monospace\">\n",
       "</pre>\n"
      ],
      "text/plain": [
       "\n"
      ]
     },
     "metadata": {},
     "output_type": "display_data"
    },
    {
     "name": "stderr",
     "output_type": "stream",
     "text": [
      "libpng warning: iCCP: known incorrect sRGB profile\n"
     ]
    },
    {
     "data": {
      "text/html": [
       "<pre style=\"white-space:pre;overflow-x:auto;line-height:normal;font-family:Menlo,'DejaVu Sans Mono',consolas,'Courier New',monospace\"></pre>\n"
      ],
      "text/plain": []
     },
     "metadata": {},
     "output_type": "display_data"
    },
    {
     "data": {
      "text/html": [
       "<pre style=\"white-space:pre;overflow-x:auto;line-height:normal;font-family:Menlo,'DejaVu Sans Mono',consolas,'Courier New',monospace\">\n",
       "</pre>\n"
      ],
      "text/plain": [
       "\n"
      ]
     },
     "metadata": {},
     "output_type": "display_data"
    },
    {
     "name": "stderr",
     "output_type": "stream",
     "text": [
      "libpng warning: iCCP: known incorrect sRGB profile\n"
     ]
    },
    {
     "data": {
      "text/html": [
       "<pre style=\"white-space:pre;overflow-x:auto;line-height:normal;font-family:Menlo,'DejaVu Sans Mono',consolas,'Courier New',monospace\"></pre>\n"
      ],
      "text/plain": []
     },
     "metadata": {},
     "output_type": "display_data"
    },
    {
     "data": {
      "text/html": [
       "<pre style=\"white-space:pre;overflow-x:auto;line-height:normal;font-family:Menlo,'DejaVu Sans Mono',consolas,'Courier New',monospace\">\n",
       "</pre>\n"
      ],
      "text/plain": [
       "\n"
      ]
     },
     "metadata": {},
     "output_type": "display_data"
    },
    {
     "name": "stderr",
     "output_type": "stream",
     "text": [
      "libpng warning: iCCP: known incorrect sRGB profile\n"
     ]
    },
    {
     "data": {
      "text/html": [
       "<pre style=\"white-space:pre;overflow-x:auto;line-height:normal;font-family:Menlo,'DejaVu Sans Mono',consolas,'Courier New',monospace\"></pre>\n"
      ],
      "text/plain": []
     },
     "metadata": {},
     "output_type": "display_data"
    },
    {
     "data": {
      "text/html": [
       "<pre style=\"white-space:pre;overflow-x:auto;line-height:normal;font-family:Menlo,'DejaVu Sans Mono',consolas,'Courier New',monospace\">\n",
       "</pre>\n"
      ],
      "text/plain": [
       "\n"
      ]
     },
     "metadata": {},
     "output_type": "display_data"
    },
    {
     "name": "stderr",
     "output_type": "stream",
     "text": [
      "libpng warning: iCCP: known incorrect sRGB profile\n"
     ]
    },
    {
     "data": {
      "text/html": [
       "<pre style=\"white-space:pre;overflow-x:auto;line-height:normal;font-family:Menlo,'DejaVu Sans Mono',consolas,'Courier New',monospace\"></pre>\n"
      ],
      "text/plain": []
     },
     "metadata": {},
     "output_type": "display_data"
    },
    {
     "data": {
      "text/html": [
       "<pre style=\"white-space:pre;overflow-x:auto;line-height:normal;font-family:Menlo,'DejaVu Sans Mono',consolas,'Courier New',monospace\">\n",
       "</pre>\n"
      ],
      "text/plain": [
       "\n"
      ]
     },
     "metadata": {},
     "output_type": "display_data"
    },
    {
     "name": "stderr",
     "output_type": "stream",
     "text": [
      "libpng warning: iCCP: known incorrect sRGB profile\n"
     ]
    },
    {
     "data": {
      "text/html": [
       "<pre style=\"white-space:pre;overflow-x:auto;line-height:normal;font-family:Menlo,'DejaVu Sans Mono',consolas,'Courier New',monospace\"></pre>\n"
      ],
      "text/plain": []
     },
     "metadata": {},
     "output_type": "display_data"
    },
    {
     "data": {
      "text/html": [
       "<pre style=\"white-space:pre;overflow-x:auto;line-height:normal;font-family:Menlo,'DejaVu Sans Mono',consolas,'Courier New',monospace\">\n",
       "</pre>\n"
      ],
      "text/plain": [
       "\n"
      ]
     },
     "metadata": {},
     "output_type": "display_data"
    },
    {
     "name": "stderr",
     "output_type": "stream",
     "text": [
      "libpng warning: iCCP: known incorrect sRGB profile\n"
     ]
    },
    {
     "data": {
      "text/html": [
       "<pre style=\"white-space:pre;overflow-x:auto;line-height:normal;font-family:Menlo,'DejaVu Sans Mono',consolas,'Courier New',monospace\"></pre>\n"
      ],
      "text/plain": []
     },
     "metadata": {},
     "output_type": "display_data"
    },
    {
     "data": {
      "text/html": [
       "<pre style=\"white-space:pre;overflow-x:auto;line-height:normal;font-family:Menlo,'DejaVu Sans Mono',consolas,'Courier New',monospace\">\n",
       "</pre>\n"
      ],
      "text/plain": [
       "\n"
      ]
     },
     "metadata": {},
     "output_type": "display_data"
    },
    {
     "name": "stderr",
     "output_type": "stream",
     "text": [
      "libpng warning: iCCP: known incorrect sRGB profile\n"
     ]
    },
    {
     "data": {
      "text/html": [
       "<pre style=\"white-space:pre;overflow-x:auto;line-height:normal;font-family:Menlo,'DejaVu Sans Mono',consolas,'Courier New',monospace\"></pre>\n"
      ],
      "text/plain": []
     },
     "metadata": {},
     "output_type": "display_data"
    },
    {
     "data": {
      "text/html": [
       "<pre style=\"white-space:pre;overflow-x:auto;line-height:normal;font-family:Menlo,'DejaVu Sans Mono',consolas,'Courier New',monospace\">\n",
       "</pre>\n"
      ],
      "text/plain": [
       "\n"
      ]
     },
     "metadata": {},
     "output_type": "display_data"
    },
    {
     "name": "stderr",
     "output_type": "stream",
     "text": [
      "libpng warning: iCCP: known incorrect sRGB profile\n"
     ]
    },
    {
     "data": {
      "text/html": [
       "<pre style=\"white-space:pre;overflow-x:auto;line-height:normal;font-family:Menlo,'DejaVu Sans Mono',consolas,'Courier New',monospace\"></pre>\n"
      ],
      "text/plain": []
     },
     "metadata": {},
     "output_type": "display_data"
    },
    {
     "data": {
      "text/html": [
       "<pre style=\"white-space:pre;overflow-x:auto;line-height:normal;font-family:Menlo,'DejaVu Sans Mono',consolas,'Courier New',monospace\">\n",
       "</pre>\n"
      ],
      "text/plain": [
       "\n"
      ]
     },
     "metadata": {},
     "output_type": "display_data"
    },
    {
     "name": "stderr",
     "output_type": "stream",
     "text": [
      "libpng warning: iCCP: known incorrect sRGB profile\n"
     ]
    },
    {
     "data": {
      "text/html": [
       "<pre style=\"white-space:pre;overflow-x:auto;line-height:normal;font-family:Menlo,'DejaVu Sans Mono',consolas,'Courier New',monospace\"></pre>\n"
      ],
      "text/plain": []
     },
     "metadata": {},
     "output_type": "display_data"
    },
    {
     "data": {
      "text/html": [
       "<pre style=\"white-space:pre;overflow-x:auto;line-height:normal;font-family:Menlo,'DejaVu Sans Mono',consolas,'Courier New',monospace\">\n",
       "</pre>\n"
      ],
      "text/plain": [
       "\n"
      ]
     },
     "metadata": {},
     "output_type": "display_data"
    },
    {
     "name": "stderr",
     "output_type": "stream",
     "text": [
      "libpng warning: iCCP: known incorrect sRGB profile\n",
      "libpng warning: iCCP: known incorrect sRGB profile\n",
      "libpng warning: iCCP: known incorrect sRGB profile\n",
      "libpng warning: iCCP: known incorrect sRGB profile\n"
     ]
    },
    {
     "data": {
      "text/html": [
       "<pre style=\"white-space:pre;overflow-x:auto;line-height:normal;font-family:Menlo,'DejaVu Sans Mono',consolas,'Courier New',monospace\"><span style=\"color: #008000; text-decoration-color: #008000\">INFO    </span> Computing metrics on val subset <span style=\"color: #808000; text-decoration-color: #808000\">...</span>                                               <a href=\"file:///home/klemen/luxonis/luxonis-train/luxonis_train/models/luxonis_lightning.py\" target=\"_blank\"><span style=\"color: #7f7f7f; text-decoration-color: #7f7f7f\">luxonis_lightning.py</span></a><span style=\"color: #7f7f7f; text-decoration-color: #7f7f7f\">:</span><a href=\"file:///home/klemen/luxonis/luxonis-train/luxonis_train/models/luxonis_lightning.py#770\" target=\"_blank\"><span style=\"color: #7f7f7f; text-decoration-color: #7f7f7f\">770</span></a>\n",
       "</pre>\n"
      ],
      "text/plain": [
       "\u001b[32mINFO    \u001b[0m Computing metrics on val subset \u001b[33m...\u001b[0m                                               \u001b]8;id=607372;file:///home/klemen/luxonis/luxonis-train/luxonis_train/models/luxonis_lightning.py\u001b\\\u001b[2mluxonis_lightning.py\u001b[0m\u001b]8;;\u001b\\\u001b[2m:\u001b[0m\u001b]8;id=493307;file:///home/klemen/luxonis/luxonis-train/luxonis_train/models/luxonis_lightning.py#770\u001b\\\u001b[2m770\u001b[0m\u001b]8;;\u001b\\\n"
      ]
     },
     "metadata": {},
     "output_type": "display_data"
    },
    {
     "data": {
      "text/html": [
       "<pre style=\"white-space:pre;overflow-x:auto;line-height:normal;font-family:Menlo,'DejaVu Sans Mono',consolas,'Courier New',monospace\"><span style=\"color: #008000; text-decoration-color: #008000\">INFO    </span> Metrics computed.                                                                 <a href=\"file:///home/klemen/luxonis/luxonis-train/luxonis_train/models/luxonis_lightning.py\" target=\"_blank\"><span style=\"color: #7f7f7f; text-decoration-color: #7f7f7f\">luxonis_lightning.py</span></a><span style=\"color: #7f7f7f; text-decoration-color: #7f7f7f\">:</span><a href=\"file:///home/klemen/luxonis/luxonis-train/luxonis_train/models/luxonis_lightning.py#772\" target=\"_blank\"><span style=\"color: #7f7f7f; text-decoration-color: #7f7f7f\">772</span></a>\n",
       "</pre>\n"
      ],
      "text/plain": [
       "\u001b[32mINFO    \u001b[0m Metrics computed.                                                                 \u001b]8;id=739336;file:///home/klemen/luxonis/luxonis-train/luxonis_train/models/luxonis_lightning.py\u001b\\\u001b[2mluxonis_lightning.py\u001b[0m\u001b]8;;\u001b\\\u001b[2m:\u001b[0m\u001b]8;id=889533;file:///home/klemen/luxonis/luxonis-train/luxonis_train/models/luxonis_lightning.py#772\u001b\\\u001b[2m772\u001b[0m\u001b]8;;\u001b\\\n"
      ]
     },
     "metadata": {},
     "output_type": "display_data"
    },
    {
     "data": {
      "text/html": [
       "<pre style=\"white-space:pre;overflow-x:auto;line-height:normal;font-family:Menlo,'DejaVu Sans Mono',consolas,'Courier New',monospace\"><span style=\"color: #008000; text-decoration-color: #008000\">INFO    </span> Validation loss: <span style=\"color: #008080; text-decoration-color: #008080; font-weight: bold\">1.4767</span>                                                           <a href=\"file:///home/klemen/luxonis/luxonis-train/luxonis_train/models/luxonis_lightning.py\" target=\"_blank\"><span style=\"color: #7f7f7f; text-decoration-color: #7f7f7f\">luxonis_lightning.py</span></a><span style=\"color: #7f7f7f; text-decoration-color: #7f7f7f\">:</span><a href=\"file:///home/klemen/luxonis/luxonis-train/luxonis_train/models/luxonis_lightning.py#977\" target=\"_blank\"><span style=\"color: #7f7f7f; text-decoration-color: #7f7f7f\">977</span></a>\n",
       "</pre>\n"
      ],
      "text/plain": [
       "\u001b[32mINFO    \u001b[0m Validation loss: \u001b[1;36m1.4767\u001b[0m                                                           \u001b]8;id=694238;file:///home/klemen/luxonis/luxonis-train/luxonis_train/models/luxonis_lightning.py\u001b\\\u001b[2mluxonis_lightning.py\u001b[0m\u001b]8;;\u001b\\\u001b[2m:\u001b[0m\u001b]8;id=854205;file:///home/klemen/luxonis/luxonis-train/luxonis_train/models/luxonis_lightning.py#977\u001b\\\u001b[2m977\u001b[0m\u001b]8;;\u001b\\\n"
      ]
     },
     "metadata": {},
     "output_type": "display_data"
    },
    {
     "data": {
      "text/html": [
       "<pre style=\"white-space:pre;overflow-x:auto;line-height:normal;font-family:Menlo,'DejaVu Sans Mono',consolas,'Courier New',monospace\"><span style=\"color: #800080; text-decoration-color: #800080; font-weight: bold\">─────────────────────────────────────────────────── </span>Validation<span style=\"color: #800080; text-decoration-color: #800080; font-weight: bold\"> ────────────────────────────────────────────────────</span>\n",
       "</pre>\n"
      ],
      "text/plain": [
       "\u001b[1;35m─────────────────────────────────────────────────── \u001b[0mValidation\u001b[1;35m ────────────────────────────────────────────────────\u001b[0m\n"
      ]
     },
     "metadata": {},
     "output_type": "display_data"
    },
    {
     "data": {
      "text/html": [
       "<pre style=\"white-space:pre;overflow-x:auto;line-height:normal;font-family:Menlo,'DejaVu Sans Mono',consolas,'Courier New',monospace\"><span style=\"color: #800080; text-decoration-color: #800080; font-weight: bold\">Loss:</span> <span style=\"color: #c0c0c0; text-decoration-color: #c0c0c0; font-weight: bold\">1.4767261147499084</span>\n",
       "</pre>\n"
      ],
      "text/plain": [
       "\u001b[1;35mLoss:\u001b[0m \u001b[1;37m1.4767261147499084\u001b[0m\n"
      ]
     },
     "metadata": {},
     "output_type": "display_data"
    },
    {
     "data": {
      "text/html": [
       "<pre style=\"white-space:pre;overflow-x:auto;line-height:normal;font-family:Menlo,'DejaVu Sans Mono',consolas,'Courier New',monospace\"><span style=\"color: #800080; text-decoration-color: #800080; font-weight: bold\">Metrics:</span>\n",
       "</pre>\n"
      ],
      "text/plain": [
       "\u001b[1;35mMetrics:\u001b[0m\n"
      ]
     },
     "metadata": {},
     "output_type": "display_data"
    },
    {
     "data": {
      "text/html": [
       "<pre style=\"white-space:pre;overflow-x:auto;line-height:normal;font-family:Menlo,'DejaVu Sans Mono',consolas,'Courier New',monospace\"><span style=\"font-style: italic\">       detection_head       </span>\n",
       "┏━━━━━━━━━━━━━━━┳━━━━━━━━━━┓\n",
       "┃<span style=\"color: #800080; text-decoration-color: #800080; font-weight: bold\"> Name          </span>┃<span style=\"color: #800080; text-decoration-color: #800080; font-weight: bold\"> Value    </span>┃\n",
       "┡━━━━━━━━━━━━━━━╇━━━━━━━━━━┩\n",
       "│<span style=\"color: #800080; text-decoration-color: #800080\"> detection_map </span>│<span style=\"color: #c0c0c0; text-decoration-color: #c0c0c0\"> 0.35183  </span>│\n",
       "│<span style=\"color: #800080; text-decoration-color: #800080\"> map_50        </span>│<span style=\"color: #c0c0c0; text-decoration-color: #c0c0c0\"> 0.60020  </span>│\n",
       "│<span style=\"color: #800080; text-decoration-color: #800080\"> map_75        </span>│<span style=\"color: #c0c0c0; text-decoration-color: #c0c0c0\"> 0.38340  </span>│\n",
       "│<span style=\"color: #800080; text-decoration-color: #800080\"> map_small     </span>│<span style=\"color: #c0c0c0; text-decoration-color: #c0c0c0\"> -1.00000 </span>│\n",
       "│<span style=\"color: #800080; text-decoration-color: #800080\"> map_medium    </span>│<span style=\"color: #c0c0c0; text-decoration-color: #c0c0c0\"> 0.17673  </span>│\n",
       "│<span style=\"color: #800080; text-decoration-color: #800080\"> map_large     </span>│<span style=\"color: #c0c0c0; text-decoration-color: #c0c0c0\"> 0.37177  </span>│\n",
       "│<span style=\"color: #800080; text-decoration-color: #800080\"> mar_1         </span>│<span style=\"color: #c0c0c0; text-decoration-color: #c0c0c0\"> 0.31485  </span>│\n",
       "│<span style=\"color: #800080; text-decoration-color: #800080\"> mar_10        </span>│<span style=\"color: #c0c0c0; text-decoration-color: #c0c0c0\"> 0.41599  </span>│\n",
       "│<span style=\"color: #800080; text-decoration-color: #800080\"> mar_100       </span>│<span style=\"color: #c0c0c0; text-decoration-color: #c0c0c0\"> 0.41599  </span>│\n",
       "│<span style=\"color: #800080; text-decoration-color: #800080\"> mar_small     </span>│<span style=\"color: #c0c0c0; text-decoration-color: #c0c0c0\"> -1.00000 </span>│\n",
       "│<span style=\"color: #800080; text-decoration-color: #800080\"> mar_medium    </span>│<span style=\"color: #c0c0c0; text-decoration-color: #c0c0c0\"> 0.17500  </span>│\n",
       "│<span style=\"color: #800080; text-decoration-color: #800080\"> mar_large     </span>│<span style=\"color: #c0c0c0; text-decoration-color: #c0c0c0\"> 0.44037  </span>│\n",
       "│<span style=\"color: #800080; text-decoration-color: #800080\"> f1_small      </span>│<span style=\"color: #c0c0c0; text-decoration-color: #c0c0c0\"> -1.00000 </span>│\n",
       "│<span style=\"color: #800080; text-decoration-color: #800080\"> f1_medium     </span>│<span style=\"color: #c0c0c0; text-decoration-color: #c0c0c0\"> 0.17586  </span>│\n",
       "│<span style=\"color: #800080; text-decoration-color: #800080\"> f1_large      </span>│<span style=\"color: #c0c0c0; text-decoration-color: #c0c0c0\"> 0.40317  </span>│\n",
       "└───────────────┴──────────┘\n",
       "</pre>\n"
      ],
      "text/plain": [
       "\u001b[3m       detection_head       \u001b[0m\n",
       "┏━━━━━━━━━━━━━━━┳━━━━━━━━━━┓\n",
       "┃\u001b[1;35m \u001b[0m\u001b[1;35mName         \u001b[0m\u001b[1;35m \u001b[0m┃\u001b[1;35m \u001b[0m\u001b[1;35mValue   \u001b[0m\u001b[1;35m \u001b[0m┃\n",
       "┡━━━━━━━━━━━━━━━╇━━━━━━━━━━┩\n",
       "│\u001b[35m \u001b[0m\u001b[35mdetection_map\u001b[0m\u001b[35m \u001b[0m│\u001b[37m \u001b[0m\u001b[37m0.35183 \u001b[0m\u001b[37m \u001b[0m│\n",
       "│\u001b[35m \u001b[0m\u001b[35mmap_50       \u001b[0m\u001b[35m \u001b[0m│\u001b[37m \u001b[0m\u001b[37m0.60020 \u001b[0m\u001b[37m \u001b[0m│\n",
       "│\u001b[35m \u001b[0m\u001b[35mmap_75       \u001b[0m\u001b[35m \u001b[0m│\u001b[37m \u001b[0m\u001b[37m0.38340 \u001b[0m\u001b[37m \u001b[0m│\n",
       "│\u001b[35m \u001b[0m\u001b[35mmap_small    \u001b[0m\u001b[35m \u001b[0m│\u001b[37m \u001b[0m\u001b[37m-1.00000\u001b[0m\u001b[37m \u001b[0m│\n",
       "│\u001b[35m \u001b[0m\u001b[35mmap_medium   \u001b[0m\u001b[35m \u001b[0m│\u001b[37m \u001b[0m\u001b[37m0.17673 \u001b[0m\u001b[37m \u001b[0m│\n",
       "│\u001b[35m \u001b[0m\u001b[35mmap_large    \u001b[0m\u001b[35m \u001b[0m│\u001b[37m \u001b[0m\u001b[37m0.37177 \u001b[0m\u001b[37m \u001b[0m│\n",
       "│\u001b[35m \u001b[0m\u001b[35mmar_1        \u001b[0m\u001b[35m \u001b[0m│\u001b[37m \u001b[0m\u001b[37m0.31485 \u001b[0m\u001b[37m \u001b[0m│\n",
       "│\u001b[35m \u001b[0m\u001b[35mmar_10       \u001b[0m\u001b[35m \u001b[0m│\u001b[37m \u001b[0m\u001b[37m0.41599 \u001b[0m\u001b[37m \u001b[0m│\n",
       "│\u001b[35m \u001b[0m\u001b[35mmar_100      \u001b[0m\u001b[35m \u001b[0m│\u001b[37m \u001b[0m\u001b[37m0.41599 \u001b[0m\u001b[37m \u001b[0m│\n",
       "│\u001b[35m \u001b[0m\u001b[35mmar_small    \u001b[0m\u001b[35m \u001b[0m│\u001b[37m \u001b[0m\u001b[37m-1.00000\u001b[0m\u001b[37m \u001b[0m│\n",
       "│\u001b[35m \u001b[0m\u001b[35mmar_medium   \u001b[0m\u001b[35m \u001b[0m│\u001b[37m \u001b[0m\u001b[37m0.17500 \u001b[0m\u001b[37m \u001b[0m│\n",
       "│\u001b[35m \u001b[0m\u001b[35mmar_large    \u001b[0m\u001b[35m \u001b[0m│\u001b[37m \u001b[0m\u001b[37m0.44037 \u001b[0m\u001b[37m \u001b[0m│\n",
       "│\u001b[35m \u001b[0m\u001b[35mf1_small     \u001b[0m\u001b[35m \u001b[0m│\u001b[37m \u001b[0m\u001b[37m-1.00000\u001b[0m\u001b[37m \u001b[0m│\n",
       "│\u001b[35m \u001b[0m\u001b[35mf1_medium    \u001b[0m\u001b[35m \u001b[0m│\u001b[37m \u001b[0m\u001b[37m0.17586 \u001b[0m\u001b[37m \u001b[0m│\n",
       "│\u001b[35m \u001b[0m\u001b[35mf1_large     \u001b[0m\u001b[35m \u001b[0m│\u001b[37m \u001b[0m\u001b[37m0.40317 \u001b[0m\u001b[37m \u001b[0m│\n",
       "└───────────────┴──────────┘\n"
      ]
     },
     "metadata": {},
     "output_type": "display_data"
    },
    {
     "data": {
      "text/html": [
       "<pre style=\"white-space:pre;overflow-x:auto;line-height:normal;font-family:Menlo,'DejaVu Sans Mono',consolas,'Courier New',monospace\"><span style=\"color: #800080; text-decoration-color: #800080; font-weight: bold\">───────────────────────────────────────────────────────────────────────────────────────────────────────────────────</span>\n",
       "</pre>\n"
      ],
      "text/plain": [
       "\u001b[1;35m───────────────────────────────────────────────────────────────────────────────────────────────────────────────────\u001b[0m\n"
      ]
     },
     "metadata": {},
     "output_type": "display_data"
    },
    {
     "data": {
      "text/html": [
       "<pre style=\"white-space:pre;overflow-x:auto;line-height:normal;font-family:Menlo,'DejaVu Sans Mono',consolas,'Courier New',monospace\"><span style=\"color: #008000; text-decoration-color: #008000\">INFO    </span> Validation main metric <span style=\"font-weight: bold\">(</span>detection_head/detection_map<span style=\"font-weight: bold\">)</span>: <span style=\"color: #008080; text-decoration-color: #008080; font-weight: bold\">0.3518</span>                     <a href=\"file:///home/klemen/luxonis/luxonis-train/luxonis_train/models/luxonis_lightning.py\" target=\"_blank\"><span style=\"color: #7f7f7f; text-decoration-color: #7f7f7f\">luxonis_lightning.py</span></a><span style=\"color: #7f7f7f; text-decoration-color: #7f7f7f\">:</span><a href=\"file:///home/klemen/luxonis/luxonis-train/luxonis_train/models/luxonis_lightning.py#986\" target=\"_blank\"><span style=\"color: #7f7f7f; text-decoration-color: #7f7f7f\">986</span></a>\n",
       "</pre>\n"
      ],
      "text/plain": [
       "\u001b[32mINFO    \u001b[0m Validation main metric \u001b[1m(\u001b[0mdetection_head/detection_map\u001b[1m)\u001b[0m: \u001b[1;36m0.3518\u001b[0m                     \u001b]8;id=832851;file:///home/klemen/luxonis/luxonis-train/luxonis_train/models/luxonis_lightning.py\u001b\\\u001b[2mluxonis_lightning.py\u001b[0m\u001b]8;;\u001b\\\u001b[2m:\u001b[0m\u001b]8;id=807501;file:///home/klemen/luxonis/luxonis-train/luxonis_train/models/luxonis_lightning.py#986\u001b\\\u001b[2m986\u001b[0m\u001b]8;;\u001b\\\n"
      ]
     },
     "metadata": {},
     "output_type": "display_data"
    },
    {
     "data": {
      "text/html": [
       "<pre style=\"white-space:pre;overflow-x:auto;line-height:normal;font-family:Menlo,'DejaVu Sans Mono',consolas,'Courier New',monospace\"></pre>\n"
      ],
      "text/plain": []
     },
     "metadata": {},
     "output_type": "display_data"
    },
    {
     "data": {
      "text/html": [
       "<pre style=\"white-space:pre;overflow-x:auto;line-height:normal;font-family:Menlo,'DejaVu Sans Mono',consolas,'Courier New',monospace\">\n",
       "</pre>\n"
      ],
      "text/plain": [
       "\n"
      ]
     },
     "metadata": {},
     "output_type": "display_data"
    },
    {
     "name": "stderr",
     "output_type": "stream",
     "text": [
      "libpng warning: iCCP: known incorrect sRGB profile\n"
     ]
    },
    {
     "data": {
      "text/html": [
       "<pre style=\"white-space:pre;overflow-x:auto;line-height:normal;font-family:Menlo,'DejaVu Sans Mono',consolas,'Courier New',monospace\"></pre>\n"
      ],
      "text/plain": []
     },
     "metadata": {},
     "output_type": "display_data"
    },
    {
     "data": {
      "text/html": [
       "<pre style=\"white-space:pre;overflow-x:auto;line-height:normal;font-family:Menlo,'DejaVu Sans Mono',consolas,'Courier New',monospace\">\n",
       "</pre>\n"
      ],
      "text/plain": [
       "\n"
      ]
     },
     "metadata": {},
     "output_type": "display_data"
    },
    {
     "name": "stderr",
     "output_type": "stream",
     "text": [
      "libpng warning: iCCP: known incorrect sRGB profile\n"
     ]
    },
    {
     "data": {
      "text/html": [
       "<pre style=\"white-space:pre;overflow-x:auto;line-height:normal;font-family:Menlo,'DejaVu Sans Mono',consolas,'Courier New',monospace\"></pre>\n"
      ],
      "text/plain": []
     },
     "metadata": {},
     "output_type": "display_data"
    },
    {
     "data": {
      "text/html": [
       "<pre style=\"white-space:pre;overflow-x:auto;line-height:normal;font-family:Menlo,'DejaVu Sans Mono',consolas,'Courier New',monospace\">\n",
       "</pre>\n"
      ],
      "text/plain": [
       "\n"
      ]
     },
     "metadata": {},
     "output_type": "display_data"
    },
    {
     "name": "stderr",
     "output_type": "stream",
     "text": [
      "libpng warning: iCCP: known incorrect sRGB profile\n"
     ]
    },
    {
     "data": {
      "text/html": [
       "<pre style=\"white-space:pre;overflow-x:auto;line-height:normal;font-family:Menlo,'DejaVu Sans Mono',consolas,'Courier New',monospace\"></pre>\n"
      ],
      "text/plain": []
     },
     "metadata": {},
     "output_type": "display_data"
    },
    {
     "data": {
      "text/html": [
       "<pre style=\"white-space:pre;overflow-x:auto;line-height:normal;font-family:Menlo,'DejaVu Sans Mono',consolas,'Courier New',monospace\">\n",
       "</pre>\n"
      ],
      "text/plain": [
       "\n"
      ]
     },
     "metadata": {},
     "output_type": "display_data"
    },
    {
     "name": "stderr",
     "output_type": "stream",
     "text": [
      "libpng warning: iCCP: known incorrect sRGB profile\n"
     ]
    },
    {
     "data": {
      "text/html": [
       "<pre style=\"white-space:pre;overflow-x:auto;line-height:normal;font-family:Menlo,'DejaVu Sans Mono',consolas,'Courier New',monospace\"></pre>\n"
      ],
      "text/plain": []
     },
     "metadata": {},
     "output_type": "display_data"
    },
    {
     "data": {
      "text/html": [
       "<pre style=\"white-space:pre;overflow-x:auto;line-height:normal;font-family:Menlo,'DejaVu Sans Mono',consolas,'Courier New',monospace\">\n",
       "</pre>\n"
      ],
      "text/plain": [
       "\n"
      ]
     },
     "metadata": {},
     "output_type": "display_data"
    },
    {
     "name": "stderr",
     "output_type": "stream",
     "text": [
      "libpng warning: iCCP: known incorrect sRGB profile\n"
     ]
    },
    {
     "data": {
      "text/html": [
       "<pre style=\"white-space:pre;overflow-x:auto;line-height:normal;font-family:Menlo,'DejaVu Sans Mono',consolas,'Courier New',monospace\"></pre>\n"
      ],
      "text/plain": []
     },
     "metadata": {},
     "output_type": "display_data"
    },
    {
     "data": {
      "text/html": [
       "<pre style=\"white-space:pre;overflow-x:auto;line-height:normal;font-family:Menlo,'DejaVu Sans Mono',consolas,'Courier New',monospace\">\n",
       "</pre>\n"
      ],
      "text/plain": [
       "\n"
      ]
     },
     "metadata": {},
     "output_type": "display_data"
    },
    {
     "name": "stderr",
     "output_type": "stream",
     "text": [
      "libpng warning: iCCP: known incorrect sRGB profile\n"
     ]
    },
    {
     "data": {
      "text/html": [
       "<pre style=\"white-space:pre;overflow-x:auto;line-height:normal;font-family:Menlo,'DejaVu Sans Mono',consolas,'Courier New',monospace\"></pre>\n"
      ],
      "text/plain": []
     },
     "metadata": {},
     "output_type": "display_data"
    },
    {
     "data": {
      "text/html": [
       "<pre style=\"white-space:pre;overflow-x:auto;line-height:normal;font-family:Menlo,'DejaVu Sans Mono',consolas,'Courier New',monospace\">\n",
       "</pre>\n"
      ],
      "text/plain": [
       "\n"
      ]
     },
     "metadata": {},
     "output_type": "display_data"
    },
    {
     "name": "stderr",
     "output_type": "stream",
     "text": [
      "libpng warning: iCCP: known incorrect sRGB profile\n"
     ]
    },
    {
     "data": {
      "text/html": [
       "<pre style=\"white-space:pre;overflow-x:auto;line-height:normal;font-family:Menlo,'DejaVu Sans Mono',consolas,'Courier New',monospace\"></pre>\n"
      ],
      "text/plain": []
     },
     "metadata": {},
     "output_type": "display_data"
    },
    {
     "data": {
      "text/html": [
       "<pre style=\"white-space:pre;overflow-x:auto;line-height:normal;font-family:Menlo,'DejaVu Sans Mono',consolas,'Courier New',monospace\">\n",
       "</pre>\n"
      ],
      "text/plain": [
       "\n"
      ]
     },
     "metadata": {},
     "output_type": "display_data"
    },
    {
     "name": "stderr",
     "output_type": "stream",
     "text": [
      "libpng warning: iCCP: known incorrect sRGB profile\n"
     ]
    },
    {
     "data": {
      "text/html": [
       "<pre style=\"white-space:pre;overflow-x:auto;line-height:normal;font-family:Menlo,'DejaVu Sans Mono',consolas,'Courier New',monospace\"></pre>\n"
      ],
      "text/plain": []
     },
     "metadata": {},
     "output_type": "display_data"
    },
    {
     "data": {
      "text/html": [
       "<pre style=\"white-space:pre;overflow-x:auto;line-height:normal;font-family:Menlo,'DejaVu Sans Mono',consolas,'Courier New',monospace\">\n",
       "</pre>\n"
      ],
      "text/plain": [
       "\n"
      ]
     },
     "metadata": {},
     "output_type": "display_data"
    },
    {
     "name": "stderr",
     "output_type": "stream",
     "text": [
      "libpng warning: iCCP: known incorrect sRGB profile\n"
     ]
    },
    {
     "data": {
      "text/html": [
       "<pre style=\"white-space:pre;overflow-x:auto;line-height:normal;font-family:Menlo,'DejaVu Sans Mono',consolas,'Courier New',monospace\"></pre>\n"
      ],
      "text/plain": []
     },
     "metadata": {},
     "output_type": "display_data"
    },
    {
     "data": {
      "text/html": [
       "<pre style=\"white-space:pre;overflow-x:auto;line-height:normal;font-family:Menlo,'DejaVu Sans Mono',consolas,'Courier New',monospace\">\n",
       "</pre>\n"
      ],
      "text/plain": [
       "\n"
      ]
     },
     "metadata": {},
     "output_type": "display_data"
    },
    {
     "name": "stderr",
     "output_type": "stream",
     "text": [
      "libpng warning: iCCP: known incorrect sRGB profile\n",
      "libpng warning: iCCP: known incorrect sRGB profile\n",
      "libpng warning: iCCP: known incorrect sRGB profile\n",
      "libpng warning: iCCP: known incorrect sRGB profile\n"
     ]
    },
    {
     "data": {
      "text/html": [
       "<pre style=\"white-space:pre;overflow-x:auto;line-height:normal;font-family:Menlo,'DejaVu Sans Mono',consolas,'Courier New',monospace\"><span style=\"color: #008000; text-decoration-color: #008000\">INFO    </span> Computing metrics on val subset <span style=\"color: #808000; text-decoration-color: #808000\">...</span>                                               <a href=\"file:///home/klemen/luxonis/luxonis-train/luxonis_train/models/luxonis_lightning.py\" target=\"_blank\"><span style=\"color: #7f7f7f; text-decoration-color: #7f7f7f\">luxonis_lightning.py</span></a><span style=\"color: #7f7f7f; text-decoration-color: #7f7f7f\">:</span><a href=\"file:///home/klemen/luxonis/luxonis-train/luxonis_train/models/luxonis_lightning.py#770\" target=\"_blank\"><span style=\"color: #7f7f7f; text-decoration-color: #7f7f7f\">770</span></a>\n",
       "</pre>\n"
      ],
      "text/plain": [
       "\u001b[32mINFO    \u001b[0m Computing metrics on val subset \u001b[33m...\u001b[0m                                               \u001b]8;id=760602;file:///home/klemen/luxonis/luxonis-train/luxonis_train/models/luxonis_lightning.py\u001b\\\u001b[2mluxonis_lightning.py\u001b[0m\u001b]8;;\u001b\\\u001b[2m:\u001b[0m\u001b]8;id=966078;file:///home/klemen/luxonis/luxonis-train/luxonis_train/models/luxonis_lightning.py#770\u001b\\\u001b[2m770\u001b[0m\u001b]8;;\u001b\\\n"
      ]
     },
     "metadata": {},
     "output_type": "display_data"
    },
    {
     "data": {
      "text/html": [
       "<pre style=\"white-space:pre;overflow-x:auto;line-height:normal;font-family:Menlo,'DejaVu Sans Mono',consolas,'Courier New',monospace\"><span style=\"color: #008000; text-decoration-color: #008000\">INFO    </span> Metrics computed.                                                                 <a href=\"file:///home/klemen/luxonis/luxonis-train/luxonis_train/models/luxonis_lightning.py\" target=\"_blank\"><span style=\"color: #7f7f7f; text-decoration-color: #7f7f7f\">luxonis_lightning.py</span></a><span style=\"color: #7f7f7f; text-decoration-color: #7f7f7f\">:</span><a href=\"file:///home/klemen/luxonis/luxonis-train/luxonis_train/models/luxonis_lightning.py#772\" target=\"_blank\"><span style=\"color: #7f7f7f; text-decoration-color: #7f7f7f\">772</span></a>\n",
       "</pre>\n"
      ],
      "text/plain": [
       "\u001b[32mINFO    \u001b[0m Metrics computed.                                                                 \u001b]8;id=150132;file:///home/klemen/luxonis/luxonis-train/luxonis_train/models/luxonis_lightning.py\u001b\\\u001b[2mluxonis_lightning.py\u001b[0m\u001b]8;;\u001b\\\u001b[2m:\u001b[0m\u001b]8;id=809515;file:///home/klemen/luxonis/luxonis-train/luxonis_train/models/luxonis_lightning.py#772\u001b\\\u001b[2m772\u001b[0m\u001b]8;;\u001b\\\n"
      ]
     },
     "metadata": {},
     "output_type": "display_data"
    },
    {
     "data": {
      "text/html": [
       "<pre style=\"white-space:pre;overflow-x:auto;line-height:normal;font-family:Menlo,'DejaVu Sans Mono',consolas,'Courier New',monospace\"><span style=\"color: #008000; text-decoration-color: #008000\">INFO    </span> Validation loss: <span style=\"color: #008080; text-decoration-color: #008080; font-weight: bold\">1.4989</span>                                                           <a href=\"file:///home/klemen/luxonis/luxonis-train/luxonis_train/models/luxonis_lightning.py\" target=\"_blank\"><span style=\"color: #7f7f7f; text-decoration-color: #7f7f7f\">luxonis_lightning.py</span></a><span style=\"color: #7f7f7f; text-decoration-color: #7f7f7f\">:</span><a href=\"file:///home/klemen/luxonis/luxonis-train/luxonis_train/models/luxonis_lightning.py#977\" target=\"_blank\"><span style=\"color: #7f7f7f; text-decoration-color: #7f7f7f\">977</span></a>\n",
       "</pre>\n"
      ],
      "text/plain": [
       "\u001b[32mINFO    \u001b[0m Validation loss: \u001b[1;36m1.4989\u001b[0m                                                           \u001b]8;id=227553;file:///home/klemen/luxonis/luxonis-train/luxonis_train/models/luxonis_lightning.py\u001b\\\u001b[2mluxonis_lightning.py\u001b[0m\u001b]8;;\u001b\\\u001b[2m:\u001b[0m\u001b]8;id=118499;file:///home/klemen/luxonis/luxonis-train/luxonis_train/models/luxonis_lightning.py#977\u001b\\\u001b[2m977\u001b[0m\u001b]8;;\u001b\\\n"
      ]
     },
     "metadata": {},
     "output_type": "display_data"
    },
    {
     "data": {
      "text/html": [
       "<pre style=\"white-space:pre;overflow-x:auto;line-height:normal;font-family:Menlo,'DejaVu Sans Mono',consolas,'Courier New',monospace\"><span style=\"color: #800080; text-decoration-color: #800080; font-weight: bold\">─────────────────────────────────────────────────── </span>Validation<span style=\"color: #800080; text-decoration-color: #800080; font-weight: bold\"> ────────────────────────────────────────────────────</span>\n",
       "</pre>\n"
      ],
      "text/plain": [
       "\u001b[1;35m─────────────────────────────────────────────────── \u001b[0mValidation\u001b[1;35m ────────────────────────────────────────────────────\u001b[0m\n"
      ]
     },
     "metadata": {},
     "output_type": "display_data"
    },
    {
     "data": {
      "text/html": [
       "<pre style=\"white-space:pre;overflow-x:auto;line-height:normal;font-family:Menlo,'DejaVu Sans Mono',consolas,'Courier New',monospace\"><span style=\"color: #800080; text-decoration-color: #800080; font-weight: bold\">Loss:</span> <span style=\"color: #c0c0c0; text-decoration-color: #c0c0c0; font-weight: bold\">1.4988666971524556</span>\n",
       "</pre>\n"
      ],
      "text/plain": [
       "\u001b[1;35mLoss:\u001b[0m \u001b[1;37m1.4988666971524556\u001b[0m\n"
      ]
     },
     "metadata": {},
     "output_type": "display_data"
    },
    {
     "data": {
      "text/html": [
       "<pre style=\"white-space:pre;overflow-x:auto;line-height:normal;font-family:Menlo,'DejaVu Sans Mono',consolas,'Courier New',monospace\"><span style=\"color: #800080; text-decoration-color: #800080; font-weight: bold\">Metrics:</span>\n",
       "</pre>\n"
      ],
      "text/plain": [
       "\u001b[1;35mMetrics:\u001b[0m\n"
      ]
     },
     "metadata": {},
     "output_type": "display_data"
    },
    {
     "data": {
      "text/html": [
       "<pre style=\"white-space:pre;overflow-x:auto;line-height:normal;font-family:Menlo,'DejaVu Sans Mono',consolas,'Courier New',monospace\"><span style=\"font-style: italic\">       detection_head       </span>\n",
       "┏━━━━━━━━━━━━━━━┳━━━━━━━━━━┓\n",
       "┃<span style=\"color: #800080; text-decoration-color: #800080; font-weight: bold\"> Name          </span>┃<span style=\"color: #800080; text-decoration-color: #800080; font-weight: bold\"> Value    </span>┃\n",
       "┡━━━━━━━━━━━━━━━╇━━━━━━━━━━┩\n",
       "│<span style=\"color: #800080; text-decoration-color: #800080\"> detection_map </span>│<span style=\"color: #c0c0c0; text-decoration-color: #c0c0c0\"> 0.34699  </span>│\n",
       "│<span style=\"color: #800080; text-decoration-color: #800080\"> map_50        </span>│<span style=\"color: #c0c0c0; text-decoration-color: #c0c0c0\"> 0.59989  </span>│\n",
       "│<span style=\"color: #800080; text-decoration-color: #800080\"> map_75        </span>│<span style=\"color: #c0c0c0; text-decoration-color: #c0c0c0\"> 0.36182  </span>│\n",
       "│<span style=\"color: #800080; text-decoration-color: #800080\"> map_small     </span>│<span style=\"color: #c0c0c0; text-decoration-color: #c0c0c0\"> -1.00000 </span>│\n",
       "│<span style=\"color: #800080; text-decoration-color: #800080\"> map_medium    </span>│<span style=\"color: #c0c0c0; text-decoration-color: #c0c0c0\"> 0.22624  </span>│\n",
       "│<span style=\"color: #800080; text-decoration-color: #800080\"> map_large     </span>│<span style=\"color: #c0c0c0; text-decoration-color: #c0c0c0\"> 0.36597  </span>│\n",
       "│<span style=\"color: #800080; text-decoration-color: #800080\"> mar_1         </span>│<span style=\"color: #c0c0c0; text-decoration-color: #c0c0c0\"> 0.32718  </span>│\n",
       "│<span style=\"color: #800080; text-decoration-color: #800080\"> mar_10        </span>│<span style=\"color: #c0c0c0; text-decoration-color: #c0c0c0\"> 0.42276  </span>│\n",
       "│<span style=\"color: #800080; text-decoration-color: #800080\"> mar_100       </span>│<span style=\"color: #c0c0c0; text-decoration-color: #c0c0c0\"> 0.42276  </span>│\n",
       "│<span style=\"color: #800080; text-decoration-color: #800080\"> mar_small     </span>│<span style=\"color: #c0c0c0; text-decoration-color: #c0c0c0\"> -1.00000 </span>│\n",
       "│<span style=\"color: #800080; text-decoration-color: #800080\"> mar_medium    </span>│<span style=\"color: #c0c0c0; text-decoration-color: #c0c0c0\"> 0.22500  </span>│\n",
       "│<span style=\"color: #800080; text-decoration-color: #800080\"> mar_large     </span>│<span style=\"color: #c0c0c0; text-decoration-color: #c0c0c0\"> 0.44623  </span>│\n",
       "│<span style=\"color: #800080; text-decoration-color: #800080\"> f1_small      </span>│<span style=\"color: #c0c0c0; text-decoration-color: #c0c0c0\"> -1.00000 </span>│\n",
       "│<span style=\"color: #800080; text-decoration-color: #800080\"> f1_medium     </span>│<span style=\"color: #c0c0c0; text-decoration-color: #c0c0c0\"> 0.22562  </span>│\n",
       "│<span style=\"color: #800080; text-decoration-color: #800080\"> f1_large      </span>│<span style=\"color: #c0c0c0; text-decoration-color: #c0c0c0\"> 0.40213  </span>│\n",
       "└───────────────┴──────────┘\n",
       "</pre>\n"
      ],
      "text/plain": [
       "\u001b[3m       detection_head       \u001b[0m\n",
       "┏━━━━━━━━━━━━━━━┳━━━━━━━━━━┓\n",
       "┃\u001b[1;35m \u001b[0m\u001b[1;35mName         \u001b[0m\u001b[1;35m \u001b[0m┃\u001b[1;35m \u001b[0m\u001b[1;35mValue   \u001b[0m\u001b[1;35m \u001b[0m┃\n",
       "┡━━━━━━━━━━━━━━━╇━━━━━━━━━━┩\n",
       "│\u001b[35m \u001b[0m\u001b[35mdetection_map\u001b[0m\u001b[35m \u001b[0m│\u001b[37m \u001b[0m\u001b[37m0.34699 \u001b[0m\u001b[37m \u001b[0m│\n",
       "│\u001b[35m \u001b[0m\u001b[35mmap_50       \u001b[0m\u001b[35m \u001b[0m│\u001b[37m \u001b[0m\u001b[37m0.59989 \u001b[0m\u001b[37m \u001b[0m│\n",
       "│\u001b[35m \u001b[0m\u001b[35mmap_75       \u001b[0m\u001b[35m \u001b[0m│\u001b[37m \u001b[0m\u001b[37m0.36182 \u001b[0m\u001b[37m \u001b[0m│\n",
       "│\u001b[35m \u001b[0m\u001b[35mmap_small    \u001b[0m\u001b[35m \u001b[0m│\u001b[37m \u001b[0m\u001b[37m-1.00000\u001b[0m\u001b[37m \u001b[0m│\n",
       "│\u001b[35m \u001b[0m\u001b[35mmap_medium   \u001b[0m\u001b[35m \u001b[0m│\u001b[37m \u001b[0m\u001b[37m0.22624 \u001b[0m\u001b[37m \u001b[0m│\n",
       "│\u001b[35m \u001b[0m\u001b[35mmap_large    \u001b[0m\u001b[35m \u001b[0m│\u001b[37m \u001b[0m\u001b[37m0.36597 \u001b[0m\u001b[37m \u001b[0m│\n",
       "│\u001b[35m \u001b[0m\u001b[35mmar_1        \u001b[0m\u001b[35m \u001b[0m│\u001b[37m \u001b[0m\u001b[37m0.32718 \u001b[0m\u001b[37m \u001b[0m│\n",
       "│\u001b[35m \u001b[0m\u001b[35mmar_10       \u001b[0m\u001b[35m \u001b[0m│\u001b[37m \u001b[0m\u001b[37m0.42276 \u001b[0m\u001b[37m \u001b[0m│\n",
       "│\u001b[35m \u001b[0m\u001b[35mmar_100      \u001b[0m\u001b[35m \u001b[0m│\u001b[37m \u001b[0m\u001b[37m0.42276 \u001b[0m\u001b[37m \u001b[0m│\n",
       "│\u001b[35m \u001b[0m\u001b[35mmar_small    \u001b[0m\u001b[35m \u001b[0m│\u001b[37m \u001b[0m\u001b[37m-1.00000\u001b[0m\u001b[37m \u001b[0m│\n",
       "│\u001b[35m \u001b[0m\u001b[35mmar_medium   \u001b[0m\u001b[35m \u001b[0m│\u001b[37m \u001b[0m\u001b[37m0.22500 \u001b[0m\u001b[37m \u001b[0m│\n",
       "│\u001b[35m \u001b[0m\u001b[35mmar_large    \u001b[0m\u001b[35m \u001b[0m│\u001b[37m \u001b[0m\u001b[37m0.44623 \u001b[0m\u001b[37m \u001b[0m│\n",
       "│\u001b[35m \u001b[0m\u001b[35mf1_small     \u001b[0m\u001b[35m \u001b[0m│\u001b[37m \u001b[0m\u001b[37m-1.00000\u001b[0m\u001b[37m \u001b[0m│\n",
       "│\u001b[35m \u001b[0m\u001b[35mf1_medium    \u001b[0m\u001b[35m \u001b[0m│\u001b[37m \u001b[0m\u001b[37m0.22562 \u001b[0m\u001b[37m \u001b[0m│\n",
       "│\u001b[35m \u001b[0m\u001b[35mf1_large     \u001b[0m\u001b[35m \u001b[0m│\u001b[37m \u001b[0m\u001b[37m0.40213 \u001b[0m\u001b[37m \u001b[0m│\n",
       "└───────────────┴──────────┘\n"
      ]
     },
     "metadata": {},
     "output_type": "display_data"
    },
    {
     "data": {
      "text/html": [
       "<pre style=\"white-space:pre;overflow-x:auto;line-height:normal;font-family:Menlo,'DejaVu Sans Mono',consolas,'Courier New',monospace\"><span style=\"color: #800080; text-decoration-color: #800080; font-weight: bold\">───────────────────────────────────────────────────────────────────────────────────────────────────────────────────</span>\n",
       "</pre>\n"
      ],
      "text/plain": [
       "\u001b[1;35m───────────────────────────────────────────────────────────────────────────────────────────────────────────────────\u001b[0m\n"
      ]
     },
     "metadata": {},
     "output_type": "display_data"
    },
    {
     "data": {
      "text/html": [
       "<pre style=\"white-space:pre;overflow-x:auto;line-height:normal;font-family:Menlo,'DejaVu Sans Mono',consolas,'Courier New',monospace\"><span style=\"color: #008000; text-decoration-color: #008000\">INFO    </span> Validation main metric <span style=\"font-weight: bold\">(</span>detection_head/detection_map<span style=\"font-weight: bold\">)</span>: <span style=\"color: #008080; text-decoration-color: #008080; font-weight: bold\">0.3470</span>                     <a href=\"file:///home/klemen/luxonis/luxonis-train/luxonis_train/models/luxonis_lightning.py\" target=\"_blank\"><span style=\"color: #7f7f7f; text-decoration-color: #7f7f7f\">luxonis_lightning.py</span></a><span style=\"color: #7f7f7f; text-decoration-color: #7f7f7f\">:</span><a href=\"file:///home/klemen/luxonis/luxonis-train/luxonis_train/models/luxonis_lightning.py#986\" target=\"_blank\"><span style=\"color: #7f7f7f; text-decoration-color: #7f7f7f\">986</span></a>\n",
       "</pre>\n"
      ],
      "text/plain": [
       "\u001b[32mINFO    \u001b[0m Validation main metric \u001b[1m(\u001b[0mdetection_head/detection_map\u001b[1m)\u001b[0m: \u001b[1;36m0.3470\u001b[0m                     \u001b]8;id=932622;file:///home/klemen/luxonis/luxonis-train/luxonis_train/models/luxonis_lightning.py\u001b\\\u001b[2mluxonis_lightning.py\u001b[0m\u001b]8;;\u001b\\\u001b[2m:\u001b[0m\u001b]8;id=865157;file:///home/klemen/luxonis/luxonis-train/luxonis_train/models/luxonis_lightning.py#986\u001b\\\u001b[2m986\u001b[0m\u001b]8;;\u001b\\\n"
      ]
     },
     "metadata": {},
     "output_type": "display_data"
    },
    {
     "data": {
      "text/html": [
       "<pre style=\"white-space:pre;overflow-x:auto;line-height:normal;font-family:Menlo,'DejaVu Sans Mono',consolas,'Courier New',monospace\"></pre>\n"
      ],
      "text/plain": []
     },
     "metadata": {},
     "output_type": "display_data"
    },
    {
     "data": {
      "text/html": [
       "<pre style=\"white-space:pre;overflow-x:auto;line-height:normal;font-family:Menlo,'DejaVu Sans Mono',consolas,'Courier New',monospace\">\n",
       "</pre>\n"
      ],
      "text/plain": [
       "\n"
      ]
     },
     "metadata": {},
     "output_type": "display_data"
    },
    {
     "name": "stderr",
     "output_type": "stream",
     "text": [
      "libpng warning: iCCP: known incorrect sRGB profile\n"
     ]
    },
    {
     "data": {
      "text/html": [
       "<pre style=\"white-space:pre;overflow-x:auto;line-height:normal;font-family:Menlo,'DejaVu Sans Mono',consolas,'Courier New',monospace\"></pre>\n"
      ],
      "text/plain": []
     },
     "metadata": {},
     "output_type": "display_data"
    },
    {
     "data": {
      "text/html": [
       "<pre style=\"white-space:pre;overflow-x:auto;line-height:normal;font-family:Menlo,'DejaVu Sans Mono',consolas,'Courier New',monospace\">\n",
       "</pre>\n"
      ],
      "text/plain": [
       "\n"
      ]
     },
     "metadata": {},
     "output_type": "display_data"
    },
    {
     "name": "stderr",
     "output_type": "stream",
     "text": [
      "libpng warning: iCCP: known incorrect sRGB profile\n"
     ]
    },
    {
     "data": {
      "text/html": [
       "<pre style=\"white-space:pre;overflow-x:auto;line-height:normal;font-family:Menlo,'DejaVu Sans Mono',consolas,'Courier New',monospace\"></pre>\n"
      ],
      "text/plain": []
     },
     "metadata": {},
     "output_type": "display_data"
    },
    {
     "data": {
      "text/html": [
       "<pre style=\"white-space:pre;overflow-x:auto;line-height:normal;font-family:Menlo,'DejaVu Sans Mono',consolas,'Courier New',monospace\">\n",
       "</pre>\n"
      ],
      "text/plain": [
       "\n"
      ]
     },
     "metadata": {},
     "output_type": "display_data"
    },
    {
     "name": "stderr",
     "output_type": "stream",
     "text": [
      "libpng warning: iCCP: known incorrect sRGB profile\n"
     ]
    },
    {
     "data": {
      "text/html": [
       "<pre style=\"white-space:pre;overflow-x:auto;line-height:normal;font-family:Menlo,'DejaVu Sans Mono',consolas,'Courier New',monospace\"></pre>\n"
      ],
      "text/plain": []
     },
     "metadata": {},
     "output_type": "display_data"
    },
    {
     "data": {
      "text/html": [
       "<pre style=\"white-space:pre;overflow-x:auto;line-height:normal;font-family:Menlo,'DejaVu Sans Mono',consolas,'Courier New',monospace\">\n",
       "</pre>\n"
      ],
      "text/plain": [
       "\n"
      ]
     },
     "metadata": {},
     "output_type": "display_data"
    },
    {
     "name": "stderr",
     "output_type": "stream",
     "text": [
      "libpng warning: iCCP: known incorrect sRGB profile\n"
     ]
    },
    {
     "data": {
      "text/html": [
       "<pre style=\"white-space:pre;overflow-x:auto;line-height:normal;font-family:Menlo,'DejaVu Sans Mono',consolas,'Courier New',monospace\"></pre>\n"
      ],
      "text/plain": []
     },
     "metadata": {},
     "output_type": "display_data"
    },
    {
     "data": {
      "text/html": [
       "<pre style=\"white-space:pre;overflow-x:auto;line-height:normal;font-family:Menlo,'DejaVu Sans Mono',consolas,'Courier New',monospace\">\n",
       "</pre>\n"
      ],
      "text/plain": [
       "\n"
      ]
     },
     "metadata": {},
     "output_type": "display_data"
    },
    {
     "name": "stderr",
     "output_type": "stream",
     "text": [
      "libpng warning: iCCP: known incorrect sRGB profile\n"
     ]
    },
    {
     "data": {
      "text/html": [
       "<pre style=\"white-space:pre;overflow-x:auto;line-height:normal;font-family:Menlo,'DejaVu Sans Mono',consolas,'Courier New',monospace\"></pre>\n"
      ],
      "text/plain": []
     },
     "metadata": {},
     "output_type": "display_data"
    },
    {
     "data": {
      "text/html": [
       "<pre style=\"white-space:pre;overflow-x:auto;line-height:normal;font-family:Menlo,'DejaVu Sans Mono',consolas,'Courier New',monospace\">\n",
       "</pre>\n"
      ],
      "text/plain": [
       "\n"
      ]
     },
     "metadata": {},
     "output_type": "display_data"
    },
    {
     "name": "stderr",
     "output_type": "stream",
     "text": [
      "libpng warning: iCCP: known incorrect sRGB profile\n"
     ]
    },
    {
     "data": {
      "text/html": [
       "<pre style=\"white-space:pre;overflow-x:auto;line-height:normal;font-family:Menlo,'DejaVu Sans Mono',consolas,'Courier New',monospace\"></pre>\n"
      ],
      "text/plain": []
     },
     "metadata": {},
     "output_type": "display_data"
    },
    {
     "data": {
      "text/html": [
       "<pre style=\"white-space:pre;overflow-x:auto;line-height:normal;font-family:Menlo,'DejaVu Sans Mono',consolas,'Courier New',monospace\">\n",
       "</pre>\n"
      ],
      "text/plain": [
       "\n"
      ]
     },
     "metadata": {},
     "output_type": "display_data"
    },
    {
     "name": "stderr",
     "output_type": "stream",
     "text": [
      "libpng warning: iCCP: known incorrect sRGB profile\n"
     ]
    },
    {
     "data": {
      "text/html": [
       "<pre style=\"white-space:pre;overflow-x:auto;line-height:normal;font-family:Menlo,'DejaVu Sans Mono',consolas,'Courier New',monospace\"></pre>\n"
      ],
      "text/plain": []
     },
     "metadata": {},
     "output_type": "display_data"
    },
    {
     "data": {
      "text/html": [
       "<pre style=\"white-space:pre;overflow-x:auto;line-height:normal;font-family:Menlo,'DejaVu Sans Mono',consolas,'Courier New',monospace\">\n",
       "</pre>\n"
      ],
      "text/plain": [
       "\n"
      ]
     },
     "metadata": {},
     "output_type": "display_data"
    },
    {
     "name": "stderr",
     "output_type": "stream",
     "text": [
      "libpng warning: iCCP: known incorrect sRGB profile\n"
     ]
    },
    {
     "data": {
      "text/html": [
       "<pre style=\"white-space:pre;overflow-x:auto;line-height:normal;font-family:Menlo,'DejaVu Sans Mono',consolas,'Courier New',monospace\"></pre>\n"
      ],
      "text/plain": []
     },
     "metadata": {},
     "output_type": "display_data"
    },
    {
     "data": {
      "text/html": [
       "<pre style=\"white-space:pre;overflow-x:auto;line-height:normal;font-family:Menlo,'DejaVu Sans Mono',consolas,'Courier New',monospace\">\n",
       "</pre>\n"
      ],
      "text/plain": [
       "\n"
      ]
     },
     "metadata": {},
     "output_type": "display_data"
    },
    {
     "name": "stderr",
     "output_type": "stream",
     "text": [
      "libpng warning: iCCP: known incorrect sRGB profile\n"
     ]
    },
    {
     "data": {
      "text/html": [
       "<pre style=\"white-space:pre;overflow-x:auto;line-height:normal;font-family:Menlo,'DejaVu Sans Mono',consolas,'Courier New',monospace\"></pre>\n"
      ],
      "text/plain": []
     },
     "metadata": {},
     "output_type": "display_data"
    },
    {
     "data": {
      "text/html": [
       "<pre style=\"white-space:pre;overflow-x:auto;line-height:normal;font-family:Menlo,'DejaVu Sans Mono',consolas,'Courier New',monospace\">\n",
       "</pre>\n"
      ],
      "text/plain": [
       "\n"
      ]
     },
     "metadata": {},
     "output_type": "display_data"
    },
    {
     "name": "stderr",
     "output_type": "stream",
     "text": [
      "libpng warning: iCCP: known incorrect sRGB profile\n",
      "libpng warning: iCCP: known incorrect sRGB profile\n",
      "libpng warning: iCCP: known incorrect sRGB profile\n",
      "libpng warning: iCCP: known incorrect sRGB profile\n"
     ]
    },
    {
     "data": {
      "text/html": [
       "<pre style=\"white-space:pre;overflow-x:auto;line-height:normal;font-family:Menlo,'DejaVu Sans Mono',consolas,'Courier New',monospace\"><span style=\"color: #008000; text-decoration-color: #008000\">INFO    </span> Computing metrics on val subset <span style=\"color: #808000; text-decoration-color: #808000\">...</span>                                               <a href=\"file:///home/klemen/luxonis/luxonis-train/luxonis_train/models/luxonis_lightning.py\" target=\"_blank\"><span style=\"color: #7f7f7f; text-decoration-color: #7f7f7f\">luxonis_lightning.py</span></a><span style=\"color: #7f7f7f; text-decoration-color: #7f7f7f\">:</span><a href=\"file:///home/klemen/luxonis/luxonis-train/luxonis_train/models/luxonis_lightning.py#770\" target=\"_blank\"><span style=\"color: #7f7f7f; text-decoration-color: #7f7f7f\">770</span></a>\n",
       "</pre>\n"
      ],
      "text/plain": [
       "\u001b[32mINFO    \u001b[0m Computing metrics on val subset \u001b[33m...\u001b[0m                                               \u001b]8;id=296753;file:///home/klemen/luxonis/luxonis-train/luxonis_train/models/luxonis_lightning.py\u001b\\\u001b[2mluxonis_lightning.py\u001b[0m\u001b]8;;\u001b\\\u001b[2m:\u001b[0m\u001b]8;id=168382;file:///home/klemen/luxonis/luxonis-train/luxonis_train/models/luxonis_lightning.py#770\u001b\\\u001b[2m770\u001b[0m\u001b]8;;\u001b\\\n"
      ]
     },
     "metadata": {},
     "output_type": "display_data"
    },
    {
     "data": {
      "text/html": [
       "<pre style=\"white-space:pre;overflow-x:auto;line-height:normal;font-family:Menlo,'DejaVu Sans Mono',consolas,'Courier New',monospace\"><span style=\"color: #008000; text-decoration-color: #008000\">INFO    </span> Metrics computed.                                                                 <a href=\"file:///home/klemen/luxonis/luxonis-train/luxonis_train/models/luxonis_lightning.py\" target=\"_blank\"><span style=\"color: #7f7f7f; text-decoration-color: #7f7f7f\">luxonis_lightning.py</span></a><span style=\"color: #7f7f7f; text-decoration-color: #7f7f7f\">:</span><a href=\"file:///home/klemen/luxonis/luxonis-train/luxonis_train/models/luxonis_lightning.py#772\" target=\"_blank\"><span style=\"color: #7f7f7f; text-decoration-color: #7f7f7f\">772</span></a>\n",
       "</pre>\n"
      ],
      "text/plain": [
       "\u001b[32mINFO    \u001b[0m Metrics computed.                                                                 \u001b]8;id=412140;file:///home/klemen/luxonis/luxonis-train/luxonis_train/models/luxonis_lightning.py\u001b\\\u001b[2mluxonis_lightning.py\u001b[0m\u001b]8;;\u001b\\\u001b[2m:\u001b[0m\u001b]8;id=493578;file:///home/klemen/luxonis/luxonis-train/luxonis_train/models/luxonis_lightning.py#772\u001b\\\u001b[2m772\u001b[0m\u001b]8;;\u001b\\\n"
      ]
     },
     "metadata": {},
     "output_type": "display_data"
    },
    {
     "data": {
      "text/html": [
       "<pre style=\"white-space:pre;overflow-x:auto;line-height:normal;font-family:Menlo,'DejaVu Sans Mono',consolas,'Courier New',monospace\"><span style=\"color: #008000; text-decoration-color: #008000\">INFO    </span> Validation loss: <span style=\"color: #008080; text-decoration-color: #008080; font-weight: bold\">1.4793</span>                                                           <a href=\"file:///home/klemen/luxonis/luxonis-train/luxonis_train/models/luxonis_lightning.py\" target=\"_blank\"><span style=\"color: #7f7f7f; text-decoration-color: #7f7f7f\">luxonis_lightning.py</span></a><span style=\"color: #7f7f7f; text-decoration-color: #7f7f7f\">:</span><a href=\"file:///home/klemen/luxonis/luxonis-train/luxonis_train/models/luxonis_lightning.py#977\" target=\"_blank\"><span style=\"color: #7f7f7f; text-decoration-color: #7f7f7f\">977</span></a>\n",
       "</pre>\n"
      ],
      "text/plain": [
       "\u001b[32mINFO    \u001b[0m Validation loss: \u001b[1;36m1.4793\u001b[0m                                                           \u001b]8;id=54314;file:///home/klemen/luxonis/luxonis-train/luxonis_train/models/luxonis_lightning.py\u001b\\\u001b[2mluxonis_lightning.py\u001b[0m\u001b]8;;\u001b\\\u001b[2m:\u001b[0m\u001b]8;id=173098;file:///home/klemen/luxonis/luxonis-train/luxonis_train/models/luxonis_lightning.py#977\u001b\\\u001b[2m977\u001b[0m\u001b]8;;\u001b\\\n"
      ]
     },
     "metadata": {},
     "output_type": "display_data"
    },
    {
     "data": {
      "text/html": [
       "<pre style=\"white-space:pre;overflow-x:auto;line-height:normal;font-family:Menlo,'DejaVu Sans Mono',consolas,'Courier New',monospace\"><span style=\"color: #800080; text-decoration-color: #800080; font-weight: bold\">─────────────────────────────────────────────────── </span>Validation<span style=\"color: #800080; text-decoration-color: #800080; font-weight: bold\"> ────────────────────────────────────────────────────</span>\n",
       "</pre>\n"
      ],
      "text/plain": [
       "\u001b[1;35m─────────────────────────────────────────────────── \u001b[0mValidation\u001b[1;35m ────────────────────────────────────────────────────\u001b[0m\n"
      ]
     },
     "metadata": {},
     "output_type": "display_data"
    },
    {
     "data": {
      "text/html": [
       "<pre style=\"white-space:pre;overflow-x:auto;line-height:normal;font-family:Menlo,'DejaVu Sans Mono',consolas,'Courier New',monospace\"><span style=\"color: #800080; text-decoration-color: #800080; font-weight: bold\">Loss:</span> <span style=\"color: #c0c0c0; text-decoration-color: #c0c0c0; font-weight: bold\">1.4793418049812317</span>\n",
       "</pre>\n"
      ],
      "text/plain": [
       "\u001b[1;35mLoss:\u001b[0m \u001b[1;37m1.4793418049812317\u001b[0m\n"
      ]
     },
     "metadata": {},
     "output_type": "display_data"
    },
    {
     "data": {
      "text/html": [
       "<pre style=\"white-space:pre;overflow-x:auto;line-height:normal;font-family:Menlo,'DejaVu Sans Mono',consolas,'Courier New',monospace\"><span style=\"color: #800080; text-decoration-color: #800080; font-weight: bold\">Metrics:</span>\n",
       "</pre>\n"
      ],
      "text/plain": [
       "\u001b[1;35mMetrics:\u001b[0m\n"
      ]
     },
     "metadata": {},
     "output_type": "display_data"
    },
    {
     "data": {
      "text/html": [
       "<pre style=\"white-space:pre;overflow-x:auto;line-height:normal;font-family:Menlo,'DejaVu Sans Mono',consolas,'Courier New',monospace\"><span style=\"font-style: italic\">       detection_head       </span>\n",
       "┏━━━━━━━━━━━━━━━┳━━━━━━━━━━┓\n",
       "┃<span style=\"color: #800080; text-decoration-color: #800080; font-weight: bold\"> Name          </span>┃<span style=\"color: #800080; text-decoration-color: #800080; font-weight: bold\"> Value    </span>┃\n",
       "┡━━━━━━━━━━━━━━━╇━━━━━━━━━━┩\n",
       "│<span style=\"color: #800080; text-decoration-color: #800080\"> detection_map </span>│<span style=\"color: #c0c0c0; text-decoration-color: #c0c0c0\"> 0.34894  </span>│\n",
       "│<span style=\"color: #800080; text-decoration-color: #800080\"> map_50        </span>│<span style=\"color: #c0c0c0; text-decoration-color: #c0c0c0\"> 0.61631  </span>│\n",
       "│<span style=\"color: #800080; text-decoration-color: #800080\"> map_75        </span>│<span style=\"color: #c0c0c0; text-decoration-color: #c0c0c0\"> 0.35067  </span>│\n",
       "│<span style=\"color: #800080; text-decoration-color: #800080\"> map_small     </span>│<span style=\"color: #c0c0c0; text-decoration-color: #c0c0c0\"> -1.00000 </span>│\n",
       "│<span style=\"color: #800080; text-decoration-color: #800080\"> map_medium    </span>│<span style=\"color: #c0c0c0; text-decoration-color: #c0c0c0\"> 0.11221  </span>│\n",
       "│<span style=\"color: #800080; text-decoration-color: #800080\"> map_large     </span>│<span style=\"color: #c0c0c0; text-decoration-color: #c0c0c0\"> 0.37169  </span>│\n",
       "│<span style=\"color: #800080; text-decoration-color: #800080\"> mar_1         </span>│<span style=\"color: #c0c0c0; text-decoration-color: #c0c0c0\"> 0.31707  </span>│\n",
       "│<span style=\"color: #800080; text-decoration-color: #800080\"> mar_10        </span>│<span style=\"color: #c0c0c0; text-decoration-color: #c0c0c0\"> 0.41602  </span>│\n",
       "│<span style=\"color: #800080; text-decoration-color: #800080\"> mar_100       </span>│<span style=\"color: #c0c0c0; text-decoration-color: #c0c0c0\"> 0.41602  </span>│\n",
       "│<span style=\"color: #800080; text-decoration-color: #800080\"> mar_small     </span>│<span style=\"color: #c0c0c0; text-decoration-color: #c0c0c0\"> -1.00000 </span>│\n",
       "│<span style=\"color: #800080; text-decoration-color: #800080\"> mar_medium    </span>│<span style=\"color: #c0c0c0; text-decoration-color: #c0c0c0\"> 0.13333  </span>│\n",
       "│<span style=\"color: #800080; text-decoration-color: #800080\"> mar_large     </span>│<span style=\"color: #c0c0c0; text-decoration-color: #c0c0c0\"> 0.44198  </span>│\n",
       "│<span style=\"color: #800080; text-decoration-color: #800080\"> f1_small      </span>│<span style=\"color: #c0c0c0; text-decoration-color: #c0c0c0\"> -1.00000 </span>│\n",
       "│<span style=\"color: #800080; text-decoration-color: #800080\"> f1_medium     </span>│<span style=\"color: #c0c0c0; text-decoration-color: #c0c0c0\"> 0.12186  </span>│\n",
       "│<span style=\"color: #800080; text-decoration-color: #800080\"> f1_large      </span>│<span style=\"color: #c0c0c0; text-decoration-color: #c0c0c0\"> 0.40380  </span>│\n",
       "└───────────────┴──────────┘\n",
       "</pre>\n"
      ],
      "text/plain": [
       "\u001b[3m       detection_head       \u001b[0m\n",
       "┏━━━━━━━━━━━━━━━┳━━━━━━━━━━┓\n",
       "┃\u001b[1;35m \u001b[0m\u001b[1;35mName         \u001b[0m\u001b[1;35m \u001b[0m┃\u001b[1;35m \u001b[0m\u001b[1;35mValue   \u001b[0m\u001b[1;35m \u001b[0m┃\n",
       "┡━━━━━━━━━━━━━━━╇━━━━━━━━━━┩\n",
       "│\u001b[35m \u001b[0m\u001b[35mdetection_map\u001b[0m\u001b[35m \u001b[0m│\u001b[37m \u001b[0m\u001b[37m0.34894 \u001b[0m\u001b[37m \u001b[0m│\n",
       "│\u001b[35m \u001b[0m\u001b[35mmap_50       \u001b[0m\u001b[35m \u001b[0m│\u001b[37m \u001b[0m\u001b[37m0.61631 \u001b[0m\u001b[37m \u001b[0m│\n",
       "│\u001b[35m \u001b[0m\u001b[35mmap_75       \u001b[0m\u001b[35m \u001b[0m│\u001b[37m \u001b[0m\u001b[37m0.35067 \u001b[0m\u001b[37m \u001b[0m│\n",
       "│\u001b[35m \u001b[0m\u001b[35mmap_small    \u001b[0m\u001b[35m \u001b[0m│\u001b[37m \u001b[0m\u001b[37m-1.00000\u001b[0m\u001b[37m \u001b[0m│\n",
       "│\u001b[35m \u001b[0m\u001b[35mmap_medium   \u001b[0m\u001b[35m \u001b[0m│\u001b[37m \u001b[0m\u001b[37m0.11221 \u001b[0m\u001b[37m \u001b[0m│\n",
       "│\u001b[35m \u001b[0m\u001b[35mmap_large    \u001b[0m\u001b[35m \u001b[0m│\u001b[37m \u001b[0m\u001b[37m0.37169 \u001b[0m\u001b[37m \u001b[0m│\n",
       "│\u001b[35m \u001b[0m\u001b[35mmar_1        \u001b[0m\u001b[35m \u001b[0m│\u001b[37m \u001b[0m\u001b[37m0.31707 \u001b[0m\u001b[37m \u001b[0m│\n",
       "│\u001b[35m \u001b[0m\u001b[35mmar_10       \u001b[0m\u001b[35m \u001b[0m│\u001b[37m \u001b[0m\u001b[37m0.41602 \u001b[0m\u001b[37m \u001b[0m│\n",
       "│\u001b[35m \u001b[0m\u001b[35mmar_100      \u001b[0m\u001b[35m \u001b[0m│\u001b[37m \u001b[0m\u001b[37m0.41602 \u001b[0m\u001b[37m \u001b[0m│\n",
       "│\u001b[35m \u001b[0m\u001b[35mmar_small    \u001b[0m\u001b[35m \u001b[0m│\u001b[37m \u001b[0m\u001b[37m-1.00000\u001b[0m\u001b[37m \u001b[0m│\n",
       "│\u001b[35m \u001b[0m\u001b[35mmar_medium   \u001b[0m\u001b[35m \u001b[0m│\u001b[37m \u001b[0m\u001b[37m0.13333 \u001b[0m\u001b[37m \u001b[0m│\n",
       "│\u001b[35m \u001b[0m\u001b[35mmar_large    \u001b[0m\u001b[35m \u001b[0m│\u001b[37m \u001b[0m\u001b[37m0.44198 \u001b[0m\u001b[37m \u001b[0m│\n",
       "│\u001b[35m \u001b[0m\u001b[35mf1_small     \u001b[0m\u001b[35m \u001b[0m│\u001b[37m \u001b[0m\u001b[37m-1.00000\u001b[0m\u001b[37m \u001b[0m│\n",
       "│\u001b[35m \u001b[0m\u001b[35mf1_medium    \u001b[0m\u001b[35m \u001b[0m│\u001b[37m \u001b[0m\u001b[37m0.12186 \u001b[0m\u001b[37m \u001b[0m│\n",
       "│\u001b[35m \u001b[0m\u001b[35mf1_large     \u001b[0m\u001b[35m \u001b[0m│\u001b[37m \u001b[0m\u001b[37m0.40380 \u001b[0m\u001b[37m \u001b[0m│\n",
       "└───────────────┴──────────┘\n"
      ]
     },
     "metadata": {},
     "output_type": "display_data"
    },
    {
     "data": {
      "text/html": [
       "<pre style=\"white-space:pre;overflow-x:auto;line-height:normal;font-family:Menlo,'DejaVu Sans Mono',consolas,'Courier New',monospace\"><span style=\"color: #800080; text-decoration-color: #800080; font-weight: bold\">───────────────────────────────────────────────────────────────────────────────────────────────────────────────────</span>\n",
       "</pre>\n"
      ],
      "text/plain": [
       "\u001b[1;35m───────────────────────────────────────────────────────────────────────────────────────────────────────────────────\u001b[0m\n"
      ]
     },
     "metadata": {},
     "output_type": "display_data"
    },
    {
     "data": {
      "text/html": [
       "<pre style=\"white-space:pre;overflow-x:auto;line-height:normal;font-family:Menlo,'DejaVu Sans Mono',consolas,'Courier New',monospace\"><span style=\"color: #008000; text-decoration-color: #008000\">INFO    </span> Validation main metric <span style=\"font-weight: bold\">(</span>detection_head/detection_map<span style=\"font-weight: bold\">)</span>: <span style=\"color: #008080; text-decoration-color: #008080; font-weight: bold\">0.3489</span>                     <a href=\"file:///home/klemen/luxonis/luxonis-train/luxonis_train/models/luxonis_lightning.py\" target=\"_blank\"><span style=\"color: #7f7f7f; text-decoration-color: #7f7f7f\">luxonis_lightning.py</span></a><span style=\"color: #7f7f7f; text-decoration-color: #7f7f7f\">:</span><a href=\"file:///home/klemen/luxonis/luxonis-train/luxonis_train/models/luxonis_lightning.py#986\" target=\"_blank\"><span style=\"color: #7f7f7f; text-decoration-color: #7f7f7f\">986</span></a>\n",
       "</pre>\n"
      ],
      "text/plain": [
       "\u001b[32mINFO    \u001b[0m Validation main metric \u001b[1m(\u001b[0mdetection_head/detection_map\u001b[1m)\u001b[0m: \u001b[1;36m0.3489\u001b[0m                     \u001b]8;id=593475;file:///home/klemen/luxonis/luxonis-train/luxonis_train/models/luxonis_lightning.py\u001b\\\u001b[2mluxonis_lightning.py\u001b[0m\u001b]8;;\u001b\\\u001b[2m:\u001b[0m\u001b]8;id=713759;file:///home/klemen/luxonis/luxonis-train/luxonis_train/models/luxonis_lightning.py#986\u001b\\\u001b[2m986\u001b[0m\u001b]8;;\u001b\\\n"
      ]
     },
     "metadata": {},
     "output_type": "display_data"
    },
    {
     "data": {
      "text/html": [
       "<pre style=\"white-space:pre;overflow-x:auto;line-height:normal;font-family:Menlo,'DejaVu Sans Mono',consolas,'Courier New',monospace\"></pre>\n"
      ],
      "text/plain": []
     },
     "metadata": {},
     "output_type": "display_data"
    },
    {
     "data": {
      "text/html": [
       "<pre style=\"white-space:pre;overflow-x:auto;line-height:normal;font-family:Menlo,'DejaVu Sans Mono',consolas,'Courier New',monospace\">\n",
       "</pre>\n"
      ],
      "text/plain": [
       "\n"
      ]
     },
     "metadata": {},
     "output_type": "display_data"
    },
    {
     "name": "stderr",
     "output_type": "stream",
     "text": [
      "libpng warning: iCCP: known incorrect sRGB profile\n"
     ]
    },
    {
     "data": {
      "text/html": [
       "<pre style=\"white-space:pre;overflow-x:auto;line-height:normal;font-family:Menlo,'DejaVu Sans Mono',consolas,'Courier New',monospace\"></pre>\n"
      ],
      "text/plain": []
     },
     "metadata": {},
     "output_type": "display_data"
    },
    {
     "data": {
      "text/html": [
       "<pre style=\"white-space:pre;overflow-x:auto;line-height:normal;font-family:Menlo,'DejaVu Sans Mono',consolas,'Courier New',monospace\">\n",
       "</pre>\n"
      ],
      "text/plain": [
       "\n"
      ]
     },
     "metadata": {},
     "output_type": "display_data"
    },
    {
     "name": "stderr",
     "output_type": "stream",
     "text": [
      "libpng warning: iCCP: known incorrect sRGB profile\n"
     ]
    },
    {
     "data": {
      "text/html": [
       "<pre style=\"white-space:pre;overflow-x:auto;line-height:normal;font-family:Menlo,'DejaVu Sans Mono',consolas,'Courier New',monospace\"></pre>\n"
      ],
      "text/plain": []
     },
     "metadata": {},
     "output_type": "display_data"
    },
    {
     "data": {
      "text/html": [
       "<pre style=\"white-space:pre;overflow-x:auto;line-height:normal;font-family:Menlo,'DejaVu Sans Mono',consolas,'Courier New',monospace\">\n",
       "</pre>\n"
      ],
      "text/plain": [
       "\n"
      ]
     },
     "metadata": {},
     "output_type": "display_data"
    },
    {
     "name": "stderr",
     "output_type": "stream",
     "text": [
      "libpng warning: iCCP: known incorrect sRGB profile\n"
     ]
    },
    {
     "data": {
      "text/html": [
       "<pre style=\"white-space:pre;overflow-x:auto;line-height:normal;font-family:Menlo,'DejaVu Sans Mono',consolas,'Courier New',monospace\"></pre>\n"
      ],
      "text/plain": []
     },
     "metadata": {},
     "output_type": "display_data"
    },
    {
     "data": {
      "text/html": [
       "<pre style=\"white-space:pre;overflow-x:auto;line-height:normal;font-family:Menlo,'DejaVu Sans Mono',consolas,'Courier New',monospace\">\n",
       "</pre>\n"
      ],
      "text/plain": [
       "\n"
      ]
     },
     "metadata": {},
     "output_type": "display_data"
    },
    {
     "name": "stderr",
     "output_type": "stream",
     "text": [
      "libpng warning: iCCP: known incorrect sRGB profile\n"
     ]
    },
    {
     "data": {
      "text/html": [
       "<pre style=\"white-space:pre;overflow-x:auto;line-height:normal;font-family:Menlo,'DejaVu Sans Mono',consolas,'Courier New',monospace\"></pre>\n"
      ],
      "text/plain": []
     },
     "metadata": {},
     "output_type": "display_data"
    },
    {
     "data": {
      "text/html": [
       "<pre style=\"white-space:pre;overflow-x:auto;line-height:normal;font-family:Menlo,'DejaVu Sans Mono',consolas,'Courier New',monospace\">\n",
       "</pre>\n"
      ],
      "text/plain": [
       "\n"
      ]
     },
     "metadata": {},
     "output_type": "display_data"
    },
    {
     "name": "stderr",
     "output_type": "stream",
     "text": [
      "libpng warning: iCCP: known incorrect sRGB profile\n"
     ]
    },
    {
     "data": {
      "text/html": [
       "<pre style=\"white-space:pre;overflow-x:auto;line-height:normal;font-family:Menlo,'DejaVu Sans Mono',consolas,'Courier New',monospace\"></pre>\n"
      ],
      "text/plain": []
     },
     "metadata": {},
     "output_type": "display_data"
    },
    {
     "data": {
      "text/html": [
       "<pre style=\"white-space:pre;overflow-x:auto;line-height:normal;font-family:Menlo,'DejaVu Sans Mono',consolas,'Courier New',monospace\">\n",
       "</pre>\n"
      ],
      "text/plain": [
       "\n"
      ]
     },
     "metadata": {},
     "output_type": "display_data"
    },
    {
     "name": "stderr",
     "output_type": "stream",
     "text": [
      "libpng warning: iCCP: known incorrect sRGB profile\n"
     ]
    },
    {
     "data": {
      "text/html": [
       "<pre style=\"white-space:pre;overflow-x:auto;line-height:normal;font-family:Menlo,'DejaVu Sans Mono',consolas,'Courier New',monospace\"></pre>\n"
      ],
      "text/plain": []
     },
     "metadata": {},
     "output_type": "display_data"
    },
    {
     "data": {
      "text/html": [
       "<pre style=\"white-space:pre;overflow-x:auto;line-height:normal;font-family:Menlo,'DejaVu Sans Mono',consolas,'Courier New',monospace\">\n",
       "</pre>\n"
      ],
      "text/plain": [
       "\n"
      ]
     },
     "metadata": {},
     "output_type": "display_data"
    },
    {
     "name": "stderr",
     "output_type": "stream",
     "text": [
      "libpng warning: iCCP: known incorrect sRGB profile\n"
     ]
    },
    {
     "data": {
      "text/html": [
       "<pre style=\"white-space:pre;overflow-x:auto;line-height:normal;font-family:Menlo,'DejaVu Sans Mono',consolas,'Courier New',monospace\"></pre>\n"
      ],
      "text/plain": []
     },
     "metadata": {},
     "output_type": "display_data"
    },
    {
     "data": {
      "text/html": [
       "<pre style=\"white-space:pre;overflow-x:auto;line-height:normal;font-family:Menlo,'DejaVu Sans Mono',consolas,'Courier New',monospace\">\n",
       "</pre>\n"
      ],
      "text/plain": [
       "\n"
      ]
     },
     "metadata": {},
     "output_type": "display_data"
    },
    {
     "name": "stderr",
     "output_type": "stream",
     "text": [
      "libpng warning: iCCP: known incorrect sRGB profile\n"
     ]
    },
    {
     "data": {
      "text/html": [
       "<pre style=\"white-space:pre;overflow-x:auto;line-height:normal;font-family:Menlo,'DejaVu Sans Mono',consolas,'Courier New',monospace\"></pre>\n"
      ],
      "text/plain": []
     },
     "metadata": {},
     "output_type": "display_data"
    },
    {
     "data": {
      "text/html": [
       "<pre style=\"white-space:pre;overflow-x:auto;line-height:normal;font-family:Menlo,'DejaVu Sans Mono',consolas,'Courier New',monospace\">\n",
       "</pre>\n"
      ],
      "text/plain": [
       "\n"
      ]
     },
     "metadata": {},
     "output_type": "display_data"
    },
    {
     "name": "stderr",
     "output_type": "stream",
     "text": [
      "libpng warning: iCCP: known incorrect sRGB profile\n"
     ]
    },
    {
     "data": {
      "text/html": [
       "<pre style=\"white-space:pre;overflow-x:auto;line-height:normal;font-family:Menlo,'DejaVu Sans Mono',consolas,'Courier New',monospace\"></pre>\n"
      ],
      "text/plain": []
     },
     "metadata": {},
     "output_type": "display_data"
    },
    {
     "data": {
      "text/html": [
       "<pre style=\"white-space:pre;overflow-x:auto;line-height:normal;font-family:Menlo,'DejaVu Sans Mono',consolas,'Courier New',monospace\">\n",
       "</pre>\n"
      ],
      "text/plain": [
       "\n"
      ]
     },
     "metadata": {},
     "output_type": "display_data"
    },
    {
     "name": "stderr",
     "output_type": "stream",
     "text": [
      "libpng warning: iCCP: known incorrect sRGB profile\n",
      "libpng warning: iCCP: known incorrect sRGB profile\n",
      "libpng warning: iCCP: known incorrect sRGB profile\n",
      "libpng warning: iCCP: known incorrect sRGB profile\n"
     ]
    },
    {
     "data": {
      "text/html": [
       "<pre style=\"white-space:pre;overflow-x:auto;line-height:normal;font-family:Menlo,'DejaVu Sans Mono',consolas,'Courier New',monospace\"><span style=\"color: #008000; text-decoration-color: #008000\">INFO    </span> Computing metrics on val subset <span style=\"color: #808000; text-decoration-color: #808000\">...</span>                                               <a href=\"file:///home/klemen/luxonis/luxonis-train/luxonis_train/models/luxonis_lightning.py\" target=\"_blank\"><span style=\"color: #7f7f7f; text-decoration-color: #7f7f7f\">luxonis_lightning.py</span></a><span style=\"color: #7f7f7f; text-decoration-color: #7f7f7f\">:</span><a href=\"file:///home/klemen/luxonis/luxonis-train/luxonis_train/models/luxonis_lightning.py#770\" target=\"_blank\"><span style=\"color: #7f7f7f; text-decoration-color: #7f7f7f\">770</span></a>\n",
       "</pre>\n"
      ],
      "text/plain": [
       "\u001b[32mINFO    \u001b[0m Computing metrics on val subset \u001b[33m...\u001b[0m                                               \u001b]8;id=735917;file:///home/klemen/luxonis/luxonis-train/luxonis_train/models/luxonis_lightning.py\u001b\\\u001b[2mluxonis_lightning.py\u001b[0m\u001b]8;;\u001b\\\u001b[2m:\u001b[0m\u001b]8;id=860911;file:///home/klemen/luxonis/luxonis-train/luxonis_train/models/luxonis_lightning.py#770\u001b\\\u001b[2m770\u001b[0m\u001b]8;;\u001b\\\n"
      ]
     },
     "metadata": {},
     "output_type": "display_data"
    },
    {
     "data": {
      "text/html": [
       "<pre style=\"white-space:pre;overflow-x:auto;line-height:normal;font-family:Menlo,'DejaVu Sans Mono',consolas,'Courier New',monospace\"><span style=\"color: #008000; text-decoration-color: #008000\">INFO    </span> Metrics computed.                                                                 <a href=\"file:///home/klemen/luxonis/luxonis-train/luxonis_train/models/luxonis_lightning.py\" target=\"_blank\"><span style=\"color: #7f7f7f; text-decoration-color: #7f7f7f\">luxonis_lightning.py</span></a><span style=\"color: #7f7f7f; text-decoration-color: #7f7f7f\">:</span><a href=\"file:///home/klemen/luxonis/luxonis-train/luxonis_train/models/luxonis_lightning.py#772\" target=\"_blank\"><span style=\"color: #7f7f7f; text-decoration-color: #7f7f7f\">772</span></a>\n",
       "</pre>\n"
      ],
      "text/plain": [
       "\u001b[32mINFO    \u001b[0m Metrics computed.                                                                 \u001b]8;id=625207;file:///home/klemen/luxonis/luxonis-train/luxonis_train/models/luxonis_lightning.py\u001b\\\u001b[2mluxonis_lightning.py\u001b[0m\u001b]8;;\u001b\\\u001b[2m:\u001b[0m\u001b]8;id=519549;file:///home/klemen/luxonis/luxonis-train/luxonis_train/models/luxonis_lightning.py#772\u001b\\\u001b[2m772\u001b[0m\u001b]8;;\u001b\\\n"
      ]
     },
     "metadata": {},
     "output_type": "display_data"
    },
    {
     "data": {
      "text/html": [
       "<pre style=\"white-space:pre;overflow-x:auto;line-height:normal;font-family:Menlo,'DejaVu Sans Mono',consolas,'Courier New',monospace\"><span style=\"color: #008000; text-decoration-color: #008000\">INFO    </span> Validation loss: <span style=\"color: #008080; text-decoration-color: #008080; font-weight: bold\">1.4643</span>                                                           <a href=\"file:///home/klemen/luxonis/luxonis-train/luxonis_train/models/luxonis_lightning.py\" target=\"_blank\"><span style=\"color: #7f7f7f; text-decoration-color: #7f7f7f\">luxonis_lightning.py</span></a><span style=\"color: #7f7f7f; text-decoration-color: #7f7f7f\">:</span><a href=\"file:///home/klemen/luxonis/luxonis-train/luxonis_train/models/luxonis_lightning.py#977\" target=\"_blank\"><span style=\"color: #7f7f7f; text-decoration-color: #7f7f7f\">977</span></a>\n",
       "</pre>\n"
      ],
      "text/plain": [
       "\u001b[32mINFO    \u001b[0m Validation loss: \u001b[1;36m1.4643\u001b[0m                                                           \u001b]8;id=489389;file:///home/klemen/luxonis/luxonis-train/luxonis_train/models/luxonis_lightning.py\u001b\\\u001b[2mluxonis_lightning.py\u001b[0m\u001b]8;;\u001b\\\u001b[2m:\u001b[0m\u001b]8;id=376393;file:///home/klemen/luxonis/luxonis-train/luxonis_train/models/luxonis_lightning.py#977\u001b\\\u001b[2m977\u001b[0m\u001b]8;;\u001b\\\n"
      ]
     },
     "metadata": {},
     "output_type": "display_data"
    },
    {
     "data": {
      "text/html": [
       "<pre style=\"white-space:pre;overflow-x:auto;line-height:normal;font-family:Menlo,'DejaVu Sans Mono',consolas,'Courier New',monospace\"><span style=\"color: #800080; text-decoration-color: #800080; font-weight: bold\">─────────────────────────────────────────────────── </span>Validation<span style=\"color: #800080; text-decoration-color: #800080; font-weight: bold\"> ────────────────────────────────────────────────────</span>\n",
       "</pre>\n"
      ],
      "text/plain": [
       "\u001b[1;35m─────────────────────────────────────────────────── \u001b[0mValidation\u001b[1;35m ────────────────────────────────────────────────────\u001b[0m\n"
      ]
     },
     "metadata": {},
     "output_type": "display_data"
    },
    {
     "data": {
      "text/html": [
       "<pre style=\"white-space:pre;overflow-x:auto;line-height:normal;font-family:Menlo,'DejaVu Sans Mono',consolas,'Courier New',monospace\"><span style=\"color: #800080; text-decoration-color: #800080; font-weight: bold\">Loss:</span> <span style=\"color: #c0c0c0; text-decoration-color: #c0c0c0; font-weight: bold\">1.4642782807350159</span>\n",
       "</pre>\n"
      ],
      "text/plain": [
       "\u001b[1;35mLoss:\u001b[0m \u001b[1;37m1.4642782807350159\u001b[0m\n"
      ]
     },
     "metadata": {},
     "output_type": "display_data"
    },
    {
     "data": {
      "text/html": [
       "<pre style=\"white-space:pre;overflow-x:auto;line-height:normal;font-family:Menlo,'DejaVu Sans Mono',consolas,'Courier New',monospace\"><span style=\"color: #800080; text-decoration-color: #800080; font-weight: bold\">Metrics:</span>\n",
       "</pre>\n"
      ],
      "text/plain": [
       "\u001b[1;35mMetrics:\u001b[0m\n"
      ]
     },
     "metadata": {},
     "output_type": "display_data"
    },
    {
     "data": {
      "text/html": [
       "<pre style=\"white-space:pre;overflow-x:auto;line-height:normal;font-family:Menlo,'DejaVu Sans Mono',consolas,'Courier New',monospace\"><span style=\"font-style: italic\">       detection_head       </span>\n",
       "┏━━━━━━━━━━━━━━━┳━━━━━━━━━━┓\n",
       "┃<span style=\"color: #800080; text-decoration-color: #800080; font-weight: bold\"> Name          </span>┃<span style=\"color: #800080; text-decoration-color: #800080; font-weight: bold\"> Value    </span>┃\n",
       "┡━━━━━━━━━━━━━━━╇━━━━━━━━━━┩\n",
       "│<span style=\"color: #800080; text-decoration-color: #800080\"> detection_map </span>│<span style=\"color: #c0c0c0; text-decoration-color: #c0c0c0\"> 0.36695  </span>│\n",
       "│<span style=\"color: #800080; text-decoration-color: #800080\"> map_50        </span>│<span style=\"color: #c0c0c0; text-decoration-color: #c0c0c0\"> 0.60935  </span>│\n",
       "│<span style=\"color: #800080; text-decoration-color: #800080\"> map_75        </span>│<span style=\"color: #c0c0c0; text-decoration-color: #c0c0c0\"> 0.38825  </span>│\n",
       "│<span style=\"color: #800080; text-decoration-color: #800080\"> map_small     </span>│<span style=\"color: #c0c0c0; text-decoration-color: #c0c0c0\"> -1.00000 </span>│\n",
       "│<span style=\"color: #800080; text-decoration-color: #800080\"> map_medium    </span>│<span style=\"color: #c0c0c0; text-decoration-color: #c0c0c0\"> 0.17624  </span>│\n",
       "│<span style=\"color: #800080; text-decoration-color: #800080\"> map_large     </span>│<span style=\"color: #c0c0c0; text-decoration-color: #c0c0c0\"> 0.38955  </span>│\n",
       "│<span style=\"color: #800080; text-decoration-color: #800080\"> mar_1         </span>│<span style=\"color: #c0c0c0; text-decoration-color: #c0c0c0\"> 0.34091  </span>│\n",
       "│<span style=\"color: #800080; text-decoration-color: #800080\"> mar_10        </span>│<span style=\"color: #c0c0c0; text-decoration-color: #c0c0c0\"> 0.42903  </span>│\n",
       "│<span style=\"color: #800080; text-decoration-color: #800080\"> mar_100       </span>│<span style=\"color: #c0c0c0; text-decoration-color: #c0c0c0\"> 0.42903  </span>│\n",
       "│<span style=\"color: #800080; text-decoration-color: #800080\"> mar_small     </span>│<span style=\"color: #c0c0c0; text-decoration-color: #c0c0c0\"> -1.00000 </span>│\n",
       "│<span style=\"color: #800080; text-decoration-color: #800080\"> mar_medium    </span>│<span style=\"color: #c0c0c0; text-decoration-color: #c0c0c0\"> 0.17500  </span>│\n",
       "│<span style=\"color: #800080; text-decoration-color: #800080\"> mar_large     </span>│<span style=\"color: #c0c0c0; text-decoration-color: #c0c0c0\"> 0.45443  </span>│\n",
       "│<span style=\"color: #800080; text-decoration-color: #800080\"> f1_small      </span>│<span style=\"color: #c0c0c0; text-decoration-color: #c0c0c0\"> -1.00000 </span>│\n",
       "│<span style=\"color: #800080; text-decoration-color: #800080\"> f1_medium     </span>│<span style=\"color: #c0c0c0; text-decoration-color: #c0c0c0\"> 0.17562  </span>│\n",
       "│<span style=\"color: #800080; text-decoration-color: #800080\"> f1_large      </span>│<span style=\"color: #c0c0c0; text-decoration-color: #c0c0c0\"> 0.41950  </span>│\n",
       "└───────────────┴──────────┘\n",
       "</pre>\n"
      ],
      "text/plain": [
       "\u001b[3m       detection_head       \u001b[0m\n",
       "┏━━━━━━━━━━━━━━━┳━━━━━━━━━━┓\n",
       "┃\u001b[1;35m \u001b[0m\u001b[1;35mName         \u001b[0m\u001b[1;35m \u001b[0m┃\u001b[1;35m \u001b[0m\u001b[1;35mValue   \u001b[0m\u001b[1;35m \u001b[0m┃\n",
       "┡━━━━━━━━━━━━━━━╇━━━━━━━━━━┩\n",
       "│\u001b[35m \u001b[0m\u001b[35mdetection_map\u001b[0m\u001b[35m \u001b[0m│\u001b[37m \u001b[0m\u001b[37m0.36695 \u001b[0m\u001b[37m \u001b[0m│\n",
       "│\u001b[35m \u001b[0m\u001b[35mmap_50       \u001b[0m\u001b[35m \u001b[0m│\u001b[37m \u001b[0m\u001b[37m0.60935 \u001b[0m\u001b[37m \u001b[0m│\n",
       "│\u001b[35m \u001b[0m\u001b[35mmap_75       \u001b[0m\u001b[35m \u001b[0m│\u001b[37m \u001b[0m\u001b[37m0.38825 \u001b[0m\u001b[37m \u001b[0m│\n",
       "│\u001b[35m \u001b[0m\u001b[35mmap_small    \u001b[0m\u001b[35m \u001b[0m│\u001b[37m \u001b[0m\u001b[37m-1.00000\u001b[0m\u001b[37m \u001b[0m│\n",
       "│\u001b[35m \u001b[0m\u001b[35mmap_medium   \u001b[0m\u001b[35m \u001b[0m│\u001b[37m \u001b[0m\u001b[37m0.17624 \u001b[0m\u001b[37m \u001b[0m│\n",
       "│\u001b[35m \u001b[0m\u001b[35mmap_large    \u001b[0m\u001b[35m \u001b[0m│\u001b[37m \u001b[0m\u001b[37m0.38955 \u001b[0m\u001b[37m \u001b[0m│\n",
       "│\u001b[35m \u001b[0m\u001b[35mmar_1        \u001b[0m\u001b[35m \u001b[0m│\u001b[37m \u001b[0m\u001b[37m0.34091 \u001b[0m\u001b[37m \u001b[0m│\n",
       "│\u001b[35m \u001b[0m\u001b[35mmar_10       \u001b[0m\u001b[35m \u001b[0m│\u001b[37m \u001b[0m\u001b[37m0.42903 \u001b[0m\u001b[37m \u001b[0m│\n",
       "│\u001b[35m \u001b[0m\u001b[35mmar_100      \u001b[0m\u001b[35m \u001b[0m│\u001b[37m \u001b[0m\u001b[37m0.42903 \u001b[0m\u001b[37m \u001b[0m│\n",
       "│\u001b[35m \u001b[0m\u001b[35mmar_small    \u001b[0m\u001b[35m \u001b[0m│\u001b[37m \u001b[0m\u001b[37m-1.00000\u001b[0m\u001b[37m \u001b[0m│\n",
       "│\u001b[35m \u001b[0m\u001b[35mmar_medium   \u001b[0m\u001b[35m \u001b[0m│\u001b[37m \u001b[0m\u001b[37m0.17500 \u001b[0m\u001b[37m \u001b[0m│\n",
       "│\u001b[35m \u001b[0m\u001b[35mmar_large    \u001b[0m\u001b[35m \u001b[0m│\u001b[37m \u001b[0m\u001b[37m0.45443 \u001b[0m\u001b[37m \u001b[0m│\n",
       "│\u001b[35m \u001b[0m\u001b[35mf1_small     \u001b[0m\u001b[35m \u001b[0m│\u001b[37m \u001b[0m\u001b[37m-1.00000\u001b[0m\u001b[37m \u001b[0m│\n",
       "│\u001b[35m \u001b[0m\u001b[35mf1_medium    \u001b[0m\u001b[35m \u001b[0m│\u001b[37m \u001b[0m\u001b[37m0.17562 \u001b[0m\u001b[37m \u001b[0m│\n",
       "│\u001b[35m \u001b[0m\u001b[35mf1_large     \u001b[0m\u001b[35m \u001b[0m│\u001b[37m \u001b[0m\u001b[37m0.41950 \u001b[0m\u001b[37m \u001b[0m│\n",
       "└───────────────┴──────────┘\n"
      ]
     },
     "metadata": {},
     "output_type": "display_data"
    },
    {
     "data": {
      "text/html": [
       "<pre style=\"white-space:pre;overflow-x:auto;line-height:normal;font-family:Menlo,'DejaVu Sans Mono',consolas,'Courier New',monospace\"><span style=\"color: #800080; text-decoration-color: #800080; font-weight: bold\">───────────────────────────────────────────────────────────────────────────────────────────────────────────────────</span>\n",
       "</pre>\n"
      ],
      "text/plain": [
       "\u001b[1;35m───────────────────────────────────────────────────────────────────────────────────────────────────────────────────\u001b[0m\n"
      ]
     },
     "metadata": {},
     "output_type": "display_data"
    },
    {
     "data": {
      "text/html": [
       "<pre style=\"white-space:pre;overflow-x:auto;line-height:normal;font-family:Menlo,'DejaVu Sans Mono',consolas,'Courier New',monospace\"><span style=\"color: #008000; text-decoration-color: #008000\">INFO    </span> Validation main metric <span style=\"font-weight: bold\">(</span>detection_head/detection_map<span style=\"font-weight: bold\">)</span>: <span style=\"color: #008080; text-decoration-color: #008080; font-weight: bold\">0.3669</span>                     <a href=\"file:///home/klemen/luxonis/luxonis-train/luxonis_train/models/luxonis_lightning.py\" target=\"_blank\"><span style=\"color: #7f7f7f; text-decoration-color: #7f7f7f\">luxonis_lightning.py</span></a><span style=\"color: #7f7f7f; text-decoration-color: #7f7f7f\">:</span><a href=\"file:///home/klemen/luxonis/luxonis-train/luxonis_train/models/luxonis_lightning.py#986\" target=\"_blank\"><span style=\"color: #7f7f7f; text-decoration-color: #7f7f7f\">986</span></a>\n",
       "</pre>\n"
      ],
      "text/plain": [
       "\u001b[32mINFO    \u001b[0m Validation main metric \u001b[1m(\u001b[0mdetection_head/detection_map\u001b[1m)\u001b[0m: \u001b[1;36m0.3669\u001b[0m                     \u001b]8;id=408468;file:///home/klemen/luxonis/luxonis-train/luxonis_train/models/luxonis_lightning.py\u001b\\\u001b[2mluxonis_lightning.py\u001b[0m\u001b]8;;\u001b\\\u001b[2m:\u001b[0m\u001b]8;id=425935;file:///home/klemen/luxonis/luxonis-train/luxonis_train/models/luxonis_lightning.py#986\u001b\\\u001b[2m986\u001b[0m\u001b]8;;\u001b\\\n"
      ]
     },
     "metadata": {},
     "output_type": "display_data"
    },
    {
     "data": {
      "text/html": [
       "<pre style=\"white-space:pre;overflow-x:auto;line-height:normal;font-family:Menlo,'DejaVu Sans Mono',consolas,'Courier New',monospace\"></pre>\n"
      ],
      "text/plain": []
     },
     "metadata": {},
     "output_type": "display_data"
    },
    {
     "data": {
      "text/html": [
       "<pre style=\"white-space:pre;overflow-x:auto;line-height:normal;font-family:Menlo,'DejaVu Sans Mono',consolas,'Courier New',monospace\">\n",
       "</pre>\n"
      ],
      "text/plain": [
       "\n"
      ]
     },
     "metadata": {},
     "output_type": "display_data"
    },
    {
     "name": "stderr",
     "output_type": "stream",
     "text": [
      "libpng warning: iCCP: known incorrect sRGB profile\n"
     ]
    },
    {
     "data": {
      "text/html": [
       "<pre style=\"white-space:pre;overflow-x:auto;line-height:normal;font-family:Menlo,'DejaVu Sans Mono',consolas,'Courier New',monospace\"></pre>\n"
      ],
      "text/plain": []
     },
     "metadata": {},
     "output_type": "display_data"
    },
    {
     "data": {
      "text/html": [
       "<pre style=\"white-space:pre;overflow-x:auto;line-height:normal;font-family:Menlo,'DejaVu Sans Mono',consolas,'Courier New',monospace\">\n",
       "</pre>\n"
      ],
      "text/plain": [
       "\n"
      ]
     },
     "metadata": {},
     "output_type": "display_data"
    },
    {
     "name": "stderr",
     "output_type": "stream",
     "text": [
      "libpng warning: iCCP: known incorrect sRGB profile\n"
     ]
    },
    {
     "data": {
      "text/html": [
       "<pre style=\"white-space:pre;overflow-x:auto;line-height:normal;font-family:Menlo,'DejaVu Sans Mono',consolas,'Courier New',monospace\"></pre>\n"
      ],
      "text/plain": []
     },
     "metadata": {},
     "output_type": "display_data"
    },
    {
     "data": {
      "text/html": [
       "<pre style=\"white-space:pre;overflow-x:auto;line-height:normal;font-family:Menlo,'DejaVu Sans Mono',consolas,'Courier New',monospace\">\n",
       "</pre>\n"
      ],
      "text/plain": [
       "\n"
      ]
     },
     "metadata": {},
     "output_type": "display_data"
    },
    {
     "name": "stderr",
     "output_type": "stream",
     "text": [
      "libpng warning: iCCP: known incorrect sRGB profile\n"
     ]
    },
    {
     "data": {
      "text/html": [
       "<pre style=\"white-space:pre;overflow-x:auto;line-height:normal;font-family:Menlo,'DejaVu Sans Mono',consolas,'Courier New',monospace\"></pre>\n"
      ],
      "text/plain": []
     },
     "metadata": {},
     "output_type": "display_data"
    },
    {
     "data": {
      "text/html": [
       "<pre style=\"white-space:pre;overflow-x:auto;line-height:normal;font-family:Menlo,'DejaVu Sans Mono',consolas,'Courier New',monospace\">\n",
       "</pre>\n"
      ],
      "text/plain": [
       "\n"
      ]
     },
     "metadata": {},
     "output_type": "display_data"
    },
    {
     "name": "stderr",
     "output_type": "stream",
     "text": [
      "libpng warning: iCCP: known incorrect sRGB profile\n"
     ]
    },
    {
     "data": {
      "text/html": [
       "<pre style=\"white-space:pre;overflow-x:auto;line-height:normal;font-family:Menlo,'DejaVu Sans Mono',consolas,'Courier New',monospace\"></pre>\n"
      ],
      "text/plain": []
     },
     "metadata": {},
     "output_type": "display_data"
    },
    {
     "data": {
      "text/html": [
       "<pre style=\"white-space:pre;overflow-x:auto;line-height:normal;font-family:Menlo,'DejaVu Sans Mono',consolas,'Courier New',monospace\">\n",
       "</pre>\n"
      ],
      "text/plain": [
       "\n"
      ]
     },
     "metadata": {},
     "output_type": "display_data"
    },
    {
     "name": "stderr",
     "output_type": "stream",
     "text": [
      "libpng warning: iCCP: known incorrect sRGB profile\n"
     ]
    },
    {
     "data": {
      "text/html": [
       "<pre style=\"white-space:pre;overflow-x:auto;line-height:normal;font-family:Menlo,'DejaVu Sans Mono',consolas,'Courier New',monospace\"></pre>\n"
      ],
      "text/plain": []
     },
     "metadata": {},
     "output_type": "display_data"
    },
    {
     "data": {
      "text/html": [
       "<pre style=\"white-space:pre;overflow-x:auto;line-height:normal;font-family:Menlo,'DejaVu Sans Mono',consolas,'Courier New',monospace\">\n",
       "</pre>\n"
      ],
      "text/plain": [
       "\n"
      ]
     },
     "metadata": {},
     "output_type": "display_data"
    },
    {
     "name": "stderr",
     "output_type": "stream",
     "text": [
      "libpng warning: iCCP: known incorrect sRGB profile\n"
     ]
    },
    {
     "data": {
      "text/html": [
       "<pre style=\"white-space:pre;overflow-x:auto;line-height:normal;font-family:Menlo,'DejaVu Sans Mono',consolas,'Courier New',monospace\"></pre>\n"
      ],
      "text/plain": []
     },
     "metadata": {},
     "output_type": "display_data"
    },
    {
     "data": {
      "text/html": [
       "<pre style=\"white-space:pre;overflow-x:auto;line-height:normal;font-family:Menlo,'DejaVu Sans Mono',consolas,'Courier New',monospace\">\n",
       "</pre>\n"
      ],
      "text/plain": [
       "\n"
      ]
     },
     "metadata": {},
     "output_type": "display_data"
    },
    {
     "name": "stderr",
     "output_type": "stream",
     "text": [
      "libpng warning: iCCP: known incorrect sRGB profile\n"
     ]
    },
    {
     "data": {
      "text/html": [
       "<pre style=\"white-space:pre;overflow-x:auto;line-height:normal;font-family:Menlo,'DejaVu Sans Mono',consolas,'Courier New',monospace\"></pre>\n"
      ],
      "text/plain": []
     },
     "metadata": {},
     "output_type": "display_data"
    },
    {
     "data": {
      "text/html": [
       "<pre style=\"white-space:pre;overflow-x:auto;line-height:normal;font-family:Menlo,'DejaVu Sans Mono',consolas,'Courier New',monospace\">\n",
       "</pre>\n"
      ],
      "text/plain": [
       "\n"
      ]
     },
     "metadata": {},
     "output_type": "display_data"
    },
    {
     "name": "stderr",
     "output_type": "stream",
     "text": [
      "libpng warning: iCCP: known incorrect sRGB profile\n"
     ]
    },
    {
     "data": {
      "text/html": [
       "<pre style=\"white-space:pre;overflow-x:auto;line-height:normal;font-family:Menlo,'DejaVu Sans Mono',consolas,'Courier New',monospace\"></pre>\n"
      ],
      "text/plain": []
     },
     "metadata": {},
     "output_type": "display_data"
    },
    {
     "data": {
      "text/html": [
       "<pre style=\"white-space:pre;overflow-x:auto;line-height:normal;font-family:Menlo,'DejaVu Sans Mono',consolas,'Courier New',monospace\">\n",
       "</pre>\n"
      ],
      "text/plain": [
       "\n"
      ]
     },
     "metadata": {},
     "output_type": "display_data"
    },
    {
     "name": "stderr",
     "output_type": "stream",
     "text": [
      "libpng warning: iCCP: known incorrect sRGB profile\n"
     ]
    },
    {
     "data": {
      "text/html": [
       "<pre style=\"white-space:pre;overflow-x:auto;line-height:normal;font-family:Menlo,'DejaVu Sans Mono',consolas,'Courier New',monospace\"></pre>\n"
      ],
      "text/plain": []
     },
     "metadata": {},
     "output_type": "display_data"
    },
    {
     "data": {
      "text/html": [
       "<pre style=\"white-space:pre;overflow-x:auto;line-height:normal;font-family:Menlo,'DejaVu Sans Mono',consolas,'Courier New',monospace\">\n",
       "</pre>\n"
      ],
      "text/plain": [
       "\n"
      ]
     },
     "metadata": {},
     "output_type": "display_data"
    },
    {
     "name": "stderr",
     "output_type": "stream",
     "text": [
      "libpng warning: iCCP: known incorrect sRGB profile\n",
      "libpng warning: iCCP: known incorrect sRGB profile\n",
      "libpng warning: iCCP: known incorrect sRGB profile\n",
      "libpng warning: iCCP: known incorrect sRGB profile\n"
     ]
    },
    {
     "data": {
      "text/html": [
       "<pre style=\"white-space:pre;overflow-x:auto;line-height:normal;font-family:Menlo,'DejaVu Sans Mono',consolas,'Courier New',monospace\"><span style=\"color: #008000; text-decoration-color: #008000\">INFO    </span> Computing metrics on val subset <span style=\"color: #808000; text-decoration-color: #808000\">...</span>                                               <a href=\"file:///home/klemen/luxonis/luxonis-train/luxonis_train/models/luxonis_lightning.py\" target=\"_blank\"><span style=\"color: #7f7f7f; text-decoration-color: #7f7f7f\">luxonis_lightning.py</span></a><span style=\"color: #7f7f7f; text-decoration-color: #7f7f7f\">:</span><a href=\"file:///home/klemen/luxonis/luxonis-train/luxonis_train/models/luxonis_lightning.py#770\" target=\"_blank\"><span style=\"color: #7f7f7f; text-decoration-color: #7f7f7f\">770</span></a>\n",
       "</pre>\n"
      ],
      "text/plain": [
       "\u001b[32mINFO    \u001b[0m Computing metrics on val subset \u001b[33m...\u001b[0m                                               \u001b]8;id=970925;file:///home/klemen/luxonis/luxonis-train/luxonis_train/models/luxonis_lightning.py\u001b\\\u001b[2mluxonis_lightning.py\u001b[0m\u001b]8;;\u001b\\\u001b[2m:\u001b[0m\u001b]8;id=492228;file:///home/klemen/luxonis/luxonis-train/luxonis_train/models/luxonis_lightning.py#770\u001b\\\u001b[2m770\u001b[0m\u001b]8;;\u001b\\\n"
      ]
     },
     "metadata": {},
     "output_type": "display_data"
    },
    {
     "data": {
      "text/html": [
       "<pre style=\"white-space:pre;overflow-x:auto;line-height:normal;font-family:Menlo,'DejaVu Sans Mono',consolas,'Courier New',monospace\"><span style=\"color: #008000; text-decoration-color: #008000\">INFO    </span> Metrics computed.                                                                 <a href=\"file:///home/klemen/luxonis/luxonis-train/luxonis_train/models/luxonis_lightning.py\" target=\"_blank\"><span style=\"color: #7f7f7f; text-decoration-color: #7f7f7f\">luxonis_lightning.py</span></a><span style=\"color: #7f7f7f; text-decoration-color: #7f7f7f\">:</span><a href=\"file:///home/klemen/luxonis/luxonis-train/luxonis_train/models/luxonis_lightning.py#772\" target=\"_blank\"><span style=\"color: #7f7f7f; text-decoration-color: #7f7f7f\">772</span></a>\n",
       "</pre>\n"
      ],
      "text/plain": [
       "\u001b[32mINFO    \u001b[0m Metrics computed.                                                                 \u001b]8;id=903894;file:///home/klemen/luxonis/luxonis-train/luxonis_train/models/luxonis_lightning.py\u001b\\\u001b[2mluxonis_lightning.py\u001b[0m\u001b]8;;\u001b\\\u001b[2m:\u001b[0m\u001b]8;id=768850;file:///home/klemen/luxonis/luxonis-train/luxonis_train/models/luxonis_lightning.py#772\u001b\\\u001b[2m772\u001b[0m\u001b]8;;\u001b\\\n"
      ]
     },
     "metadata": {},
     "output_type": "display_data"
    },
    {
     "data": {
      "text/html": [
       "<pre style=\"white-space:pre;overflow-x:auto;line-height:normal;font-family:Menlo,'DejaVu Sans Mono',consolas,'Courier New',monospace\"><span style=\"color: #008000; text-decoration-color: #008000\">INFO    </span> Validation loss: <span style=\"color: #008080; text-decoration-color: #008080; font-weight: bold\">1.4563</span>                                                           <a href=\"file:///home/klemen/luxonis/luxonis-train/luxonis_train/models/luxonis_lightning.py\" target=\"_blank\"><span style=\"color: #7f7f7f; text-decoration-color: #7f7f7f\">luxonis_lightning.py</span></a><span style=\"color: #7f7f7f; text-decoration-color: #7f7f7f\">:</span><a href=\"file:///home/klemen/luxonis/luxonis-train/luxonis_train/models/luxonis_lightning.py#977\" target=\"_blank\"><span style=\"color: #7f7f7f; text-decoration-color: #7f7f7f\">977</span></a>\n",
       "</pre>\n"
      ],
      "text/plain": [
       "\u001b[32mINFO    \u001b[0m Validation loss: \u001b[1;36m1.4563\u001b[0m                                                           \u001b]8;id=516173;file:///home/klemen/luxonis/luxonis-train/luxonis_train/models/luxonis_lightning.py\u001b\\\u001b[2mluxonis_lightning.py\u001b[0m\u001b]8;;\u001b\\\u001b[2m:\u001b[0m\u001b]8;id=336558;file:///home/klemen/luxonis/luxonis-train/luxonis_train/models/luxonis_lightning.py#977\u001b\\\u001b[2m977\u001b[0m\u001b]8;;\u001b\\\n"
      ]
     },
     "metadata": {},
     "output_type": "display_data"
    },
    {
     "data": {
      "text/html": [
       "<pre style=\"white-space:pre;overflow-x:auto;line-height:normal;font-family:Menlo,'DejaVu Sans Mono',consolas,'Courier New',monospace\"><span style=\"color: #800080; text-decoration-color: #800080; font-weight: bold\">─────────────────────────────────────────────────── </span>Validation<span style=\"color: #800080; text-decoration-color: #800080; font-weight: bold\"> ────────────────────────────────────────────────────</span>\n",
       "</pre>\n"
      ],
      "text/plain": [
       "\u001b[1;35m─────────────────────────────────────────────────── \u001b[0mValidation\u001b[1;35m ────────────────────────────────────────────────────\u001b[0m\n"
      ]
     },
     "metadata": {},
     "output_type": "display_data"
    },
    {
     "data": {
      "text/html": [
       "<pre style=\"white-space:pre;overflow-x:auto;line-height:normal;font-family:Menlo,'DejaVu Sans Mono',consolas,'Courier New',monospace\"><span style=\"color: #800080; text-decoration-color: #800080; font-weight: bold\">Loss:</span> <span style=\"color: #c0c0c0; text-decoration-color: #c0c0c0; font-weight: bold\">1.456320842107137</span>\n",
       "</pre>\n"
      ],
      "text/plain": [
       "\u001b[1;35mLoss:\u001b[0m \u001b[1;37m1.456320842107137\u001b[0m\n"
      ]
     },
     "metadata": {},
     "output_type": "display_data"
    },
    {
     "data": {
      "text/html": [
       "<pre style=\"white-space:pre;overflow-x:auto;line-height:normal;font-family:Menlo,'DejaVu Sans Mono',consolas,'Courier New',monospace\"><span style=\"color: #800080; text-decoration-color: #800080; font-weight: bold\">Metrics:</span>\n",
       "</pre>\n"
      ],
      "text/plain": [
       "\u001b[1;35mMetrics:\u001b[0m\n"
      ]
     },
     "metadata": {},
     "output_type": "display_data"
    },
    {
     "data": {
      "text/html": [
       "<pre style=\"white-space:pre;overflow-x:auto;line-height:normal;font-family:Menlo,'DejaVu Sans Mono',consolas,'Courier New',monospace\"><span style=\"font-style: italic\">       detection_head       </span>\n",
       "┏━━━━━━━━━━━━━━━┳━━━━━━━━━━┓\n",
       "┃<span style=\"color: #800080; text-decoration-color: #800080; font-weight: bold\"> Name          </span>┃<span style=\"color: #800080; text-decoration-color: #800080; font-weight: bold\"> Value    </span>┃\n",
       "┡━━━━━━━━━━━━━━━╇━━━━━━━━━━┩\n",
       "│<span style=\"color: #800080; text-decoration-color: #800080\"> detection_map </span>│<span style=\"color: #c0c0c0; text-decoration-color: #c0c0c0\"> 0.35617  </span>│\n",
       "│<span style=\"color: #800080; text-decoration-color: #800080\"> map_50        </span>│<span style=\"color: #c0c0c0; text-decoration-color: #c0c0c0\"> 0.62730  </span>│\n",
       "│<span style=\"color: #800080; text-decoration-color: #800080\"> map_75        </span>│<span style=\"color: #c0c0c0; text-decoration-color: #c0c0c0\"> 0.36941  </span>│\n",
       "│<span style=\"color: #800080; text-decoration-color: #800080\"> map_small     </span>│<span style=\"color: #c0c0c0; text-decoration-color: #c0c0c0\"> -1.00000 </span>│\n",
       "│<span style=\"color: #800080; text-decoration-color: #800080\"> map_medium    </span>│<span style=\"color: #c0c0c0; text-decoration-color: #c0c0c0\"> 0.25099  </span>│\n",
       "│<span style=\"color: #800080; text-decoration-color: #800080\"> map_large     </span>│<span style=\"color: #c0c0c0; text-decoration-color: #c0c0c0\"> 0.37476  </span>│\n",
       "│<span style=\"color: #800080; text-decoration-color: #800080\"> mar_1         </span>│<span style=\"color: #c0c0c0; text-decoration-color: #c0c0c0\"> 0.31833  </span>│\n",
       "│<span style=\"color: #800080; text-decoration-color: #800080\"> mar_10        </span>│<span style=\"color: #c0c0c0; text-decoration-color: #c0c0c0\"> 0.42891  </span>│\n",
       "│<span style=\"color: #800080; text-decoration-color: #800080\"> mar_100       </span>│<span style=\"color: #c0c0c0; text-decoration-color: #c0c0c0\"> 0.42891  </span>│\n",
       "│<span style=\"color: #800080; text-decoration-color: #800080\"> mar_small     </span>│<span style=\"color: #c0c0c0; text-decoration-color: #c0c0c0\"> -1.00000 </span>│\n",
       "│<span style=\"color: #800080; text-decoration-color: #800080\"> mar_medium    </span>│<span style=\"color: #c0c0c0; text-decoration-color: #c0c0c0\"> 0.25000  </span>│\n",
       "│<span style=\"color: #800080; text-decoration-color: #800080\"> mar_large     </span>│<span style=\"color: #c0c0c0; text-decoration-color: #c0c0c0\"> 0.45132  </span>│\n",
       "│<span style=\"color: #800080; text-decoration-color: #800080\"> f1_small      </span>│<span style=\"color: #c0c0c0; text-decoration-color: #c0c0c0\"> -1.00000 </span>│\n",
       "│<span style=\"color: #800080; text-decoration-color: #800080\"> f1_medium     </span>│<span style=\"color: #c0c0c0; text-decoration-color: #c0c0c0\"> 0.25049  </span>│\n",
       "│<span style=\"color: #800080; text-decoration-color: #800080\"> f1_large      </span>│<span style=\"color: #c0c0c0; text-decoration-color: #c0c0c0\"> 0.40949  </span>│\n",
       "└───────────────┴──────────┘\n",
       "</pre>\n"
      ],
      "text/plain": [
       "\u001b[3m       detection_head       \u001b[0m\n",
       "┏━━━━━━━━━━━━━━━┳━━━━━━━━━━┓\n",
       "┃\u001b[1;35m \u001b[0m\u001b[1;35mName         \u001b[0m\u001b[1;35m \u001b[0m┃\u001b[1;35m \u001b[0m\u001b[1;35mValue   \u001b[0m\u001b[1;35m \u001b[0m┃\n",
       "┡━━━━━━━━━━━━━━━╇━━━━━━━━━━┩\n",
       "│\u001b[35m \u001b[0m\u001b[35mdetection_map\u001b[0m\u001b[35m \u001b[0m│\u001b[37m \u001b[0m\u001b[37m0.35617 \u001b[0m\u001b[37m \u001b[0m│\n",
       "│\u001b[35m \u001b[0m\u001b[35mmap_50       \u001b[0m\u001b[35m \u001b[0m│\u001b[37m \u001b[0m\u001b[37m0.62730 \u001b[0m\u001b[37m \u001b[0m│\n",
       "│\u001b[35m \u001b[0m\u001b[35mmap_75       \u001b[0m\u001b[35m \u001b[0m│\u001b[37m \u001b[0m\u001b[37m0.36941 \u001b[0m\u001b[37m \u001b[0m│\n",
       "│\u001b[35m \u001b[0m\u001b[35mmap_small    \u001b[0m\u001b[35m \u001b[0m│\u001b[37m \u001b[0m\u001b[37m-1.00000\u001b[0m\u001b[37m \u001b[0m│\n",
       "│\u001b[35m \u001b[0m\u001b[35mmap_medium   \u001b[0m\u001b[35m \u001b[0m│\u001b[37m \u001b[0m\u001b[37m0.25099 \u001b[0m\u001b[37m \u001b[0m│\n",
       "│\u001b[35m \u001b[0m\u001b[35mmap_large    \u001b[0m\u001b[35m \u001b[0m│\u001b[37m \u001b[0m\u001b[37m0.37476 \u001b[0m\u001b[37m \u001b[0m│\n",
       "│\u001b[35m \u001b[0m\u001b[35mmar_1        \u001b[0m\u001b[35m \u001b[0m│\u001b[37m \u001b[0m\u001b[37m0.31833 \u001b[0m\u001b[37m \u001b[0m│\n",
       "│\u001b[35m \u001b[0m\u001b[35mmar_10       \u001b[0m\u001b[35m \u001b[0m│\u001b[37m \u001b[0m\u001b[37m0.42891 \u001b[0m\u001b[37m \u001b[0m│\n",
       "│\u001b[35m \u001b[0m\u001b[35mmar_100      \u001b[0m\u001b[35m \u001b[0m│\u001b[37m \u001b[0m\u001b[37m0.42891 \u001b[0m\u001b[37m \u001b[0m│\n",
       "│\u001b[35m \u001b[0m\u001b[35mmar_small    \u001b[0m\u001b[35m \u001b[0m│\u001b[37m \u001b[0m\u001b[37m-1.00000\u001b[0m\u001b[37m \u001b[0m│\n",
       "│\u001b[35m \u001b[0m\u001b[35mmar_medium   \u001b[0m\u001b[35m \u001b[0m│\u001b[37m \u001b[0m\u001b[37m0.25000 \u001b[0m\u001b[37m \u001b[0m│\n",
       "│\u001b[35m \u001b[0m\u001b[35mmar_large    \u001b[0m\u001b[35m \u001b[0m│\u001b[37m \u001b[0m\u001b[37m0.45132 \u001b[0m\u001b[37m \u001b[0m│\n",
       "│\u001b[35m \u001b[0m\u001b[35mf1_small     \u001b[0m\u001b[35m \u001b[0m│\u001b[37m \u001b[0m\u001b[37m-1.00000\u001b[0m\u001b[37m \u001b[0m│\n",
       "│\u001b[35m \u001b[0m\u001b[35mf1_medium    \u001b[0m\u001b[35m \u001b[0m│\u001b[37m \u001b[0m\u001b[37m0.25049 \u001b[0m\u001b[37m \u001b[0m│\n",
       "│\u001b[35m \u001b[0m\u001b[35mf1_large     \u001b[0m\u001b[35m \u001b[0m│\u001b[37m \u001b[0m\u001b[37m0.40949 \u001b[0m\u001b[37m \u001b[0m│\n",
       "└───────────────┴──────────┘\n"
      ]
     },
     "metadata": {},
     "output_type": "display_data"
    },
    {
     "data": {
      "text/html": [
       "<pre style=\"white-space:pre;overflow-x:auto;line-height:normal;font-family:Menlo,'DejaVu Sans Mono',consolas,'Courier New',monospace\"><span style=\"color: #800080; text-decoration-color: #800080; font-weight: bold\">───────────────────────────────────────────────────────────────────────────────────────────────────────────────────</span>\n",
       "</pre>\n"
      ],
      "text/plain": [
       "\u001b[1;35m───────────────────────────────────────────────────────────────────────────────────────────────────────────────────\u001b[0m\n"
      ]
     },
     "metadata": {},
     "output_type": "display_data"
    },
    {
     "data": {
      "text/html": [
       "<pre style=\"white-space:pre;overflow-x:auto;line-height:normal;font-family:Menlo,'DejaVu Sans Mono',consolas,'Courier New',monospace\"><span style=\"color: #008000; text-decoration-color: #008000\">INFO    </span> Validation main metric <span style=\"font-weight: bold\">(</span>detection_head/detection_map<span style=\"font-weight: bold\">)</span>: <span style=\"color: #008080; text-decoration-color: #008080; font-weight: bold\">0.3562</span>                     <a href=\"file:///home/klemen/luxonis/luxonis-train/luxonis_train/models/luxonis_lightning.py\" target=\"_blank\"><span style=\"color: #7f7f7f; text-decoration-color: #7f7f7f\">luxonis_lightning.py</span></a><span style=\"color: #7f7f7f; text-decoration-color: #7f7f7f\">:</span><a href=\"file:///home/klemen/luxonis/luxonis-train/luxonis_train/models/luxonis_lightning.py#986\" target=\"_blank\"><span style=\"color: #7f7f7f; text-decoration-color: #7f7f7f\">986</span></a>\n",
       "</pre>\n"
      ],
      "text/plain": [
       "\u001b[32mINFO    \u001b[0m Validation main metric \u001b[1m(\u001b[0mdetection_head/detection_map\u001b[1m)\u001b[0m: \u001b[1;36m0.3562\u001b[0m                     \u001b]8;id=746669;file:///home/klemen/luxonis/luxonis-train/luxonis_train/models/luxonis_lightning.py\u001b\\\u001b[2mluxonis_lightning.py\u001b[0m\u001b]8;;\u001b\\\u001b[2m:\u001b[0m\u001b]8;id=533819;file:///home/klemen/luxonis/luxonis-train/luxonis_train/models/luxonis_lightning.py#986\u001b\\\u001b[2m986\u001b[0m\u001b]8;;\u001b\\\n"
      ]
     },
     "metadata": {},
     "output_type": "display_data"
    },
    {
     "data": {
      "text/html": [
       "<pre style=\"white-space:pre;overflow-x:auto;line-height:normal;font-family:Menlo,'DejaVu Sans Mono',consolas,'Courier New',monospace\"></pre>\n"
      ],
      "text/plain": []
     },
     "metadata": {},
     "output_type": "display_data"
    },
    {
     "data": {
      "text/html": [
       "<pre style=\"white-space:pre;overflow-x:auto;line-height:normal;font-family:Menlo,'DejaVu Sans Mono',consolas,'Courier New',monospace\">\n",
       "</pre>\n"
      ],
      "text/plain": [
       "\n"
      ]
     },
     "metadata": {},
     "output_type": "display_data"
    },
    {
     "name": "stderr",
     "output_type": "stream",
     "text": [
      "libpng warning: iCCP: known incorrect sRGB profile\n"
     ]
    },
    {
     "data": {
      "text/html": [
       "<pre style=\"white-space:pre;overflow-x:auto;line-height:normal;font-family:Menlo,'DejaVu Sans Mono',consolas,'Courier New',monospace\"></pre>\n"
      ],
      "text/plain": []
     },
     "metadata": {},
     "output_type": "display_data"
    },
    {
     "data": {
      "text/html": [
       "<pre style=\"white-space:pre;overflow-x:auto;line-height:normal;font-family:Menlo,'DejaVu Sans Mono',consolas,'Courier New',monospace\">\n",
       "</pre>\n"
      ],
      "text/plain": [
       "\n"
      ]
     },
     "metadata": {},
     "output_type": "display_data"
    },
    {
     "name": "stderr",
     "output_type": "stream",
     "text": [
      "libpng warning: iCCP: known incorrect sRGB profile\n"
     ]
    },
    {
     "data": {
      "text/html": [
       "<pre style=\"white-space:pre;overflow-x:auto;line-height:normal;font-family:Menlo,'DejaVu Sans Mono',consolas,'Courier New',monospace\"></pre>\n"
      ],
      "text/plain": []
     },
     "metadata": {},
     "output_type": "display_data"
    },
    {
     "data": {
      "text/html": [
       "<pre style=\"white-space:pre;overflow-x:auto;line-height:normal;font-family:Menlo,'DejaVu Sans Mono',consolas,'Courier New',monospace\">\n",
       "</pre>\n"
      ],
      "text/plain": [
       "\n"
      ]
     },
     "metadata": {},
     "output_type": "display_data"
    },
    {
     "name": "stderr",
     "output_type": "stream",
     "text": [
      "libpng warning: iCCP: known incorrect sRGB profile\n"
     ]
    },
    {
     "data": {
      "text/html": [
       "<pre style=\"white-space:pre;overflow-x:auto;line-height:normal;font-family:Menlo,'DejaVu Sans Mono',consolas,'Courier New',monospace\"></pre>\n"
      ],
      "text/plain": []
     },
     "metadata": {},
     "output_type": "display_data"
    },
    {
     "data": {
      "text/html": [
       "<pre style=\"white-space:pre;overflow-x:auto;line-height:normal;font-family:Menlo,'DejaVu Sans Mono',consolas,'Courier New',monospace\">\n",
       "</pre>\n"
      ],
      "text/plain": [
       "\n"
      ]
     },
     "metadata": {},
     "output_type": "display_data"
    },
    {
     "name": "stderr",
     "output_type": "stream",
     "text": [
      "libpng warning: iCCP: known incorrect sRGB profile\n"
     ]
    },
    {
     "data": {
      "text/html": [
       "<pre style=\"white-space:pre;overflow-x:auto;line-height:normal;font-family:Menlo,'DejaVu Sans Mono',consolas,'Courier New',monospace\"></pre>\n"
      ],
      "text/plain": []
     },
     "metadata": {},
     "output_type": "display_data"
    },
    {
     "data": {
      "text/html": [
       "<pre style=\"white-space:pre;overflow-x:auto;line-height:normal;font-family:Menlo,'DejaVu Sans Mono',consolas,'Courier New',monospace\">\n",
       "</pre>\n"
      ],
      "text/plain": [
       "\n"
      ]
     },
     "metadata": {},
     "output_type": "display_data"
    },
    {
     "name": "stderr",
     "output_type": "stream",
     "text": [
      "libpng warning: iCCP: known incorrect sRGB profile\n"
     ]
    },
    {
     "data": {
      "text/html": [
       "<pre style=\"white-space:pre;overflow-x:auto;line-height:normal;font-family:Menlo,'DejaVu Sans Mono',consolas,'Courier New',monospace\"></pre>\n"
      ],
      "text/plain": []
     },
     "metadata": {},
     "output_type": "display_data"
    },
    {
     "data": {
      "text/html": [
       "<pre style=\"white-space:pre;overflow-x:auto;line-height:normal;font-family:Menlo,'DejaVu Sans Mono',consolas,'Courier New',monospace\">\n",
       "</pre>\n"
      ],
      "text/plain": [
       "\n"
      ]
     },
     "metadata": {},
     "output_type": "display_data"
    },
    {
     "name": "stderr",
     "output_type": "stream",
     "text": [
      "libpng warning: iCCP: known incorrect sRGB profile\n"
     ]
    },
    {
     "data": {
      "text/html": [
       "<pre style=\"white-space:pre;overflow-x:auto;line-height:normal;font-family:Menlo,'DejaVu Sans Mono',consolas,'Courier New',monospace\"></pre>\n"
      ],
      "text/plain": []
     },
     "metadata": {},
     "output_type": "display_data"
    },
    {
     "data": {
      "text/html": [
       "<pre style=\"white-space:pre;overflow-x:auto;line-height:normal;font-family:Menlo,'DejaVu Sans Mono',consolas,'Courier New',monospace\">\n",
       "</pre>\n"
      ],
      "text/plain": [
       "\n"
      ]
     },
     "metadata": {},
     "output_type": "display_data"
    },
    {
     "name": "stderr",
     "output_type": "stream",
     "text": [
      "libpng warning: iCCP: known incorrect sRGB profile\n"
     ]
    },
    {
     "data": {
      "text/html": [
       "<pre style=\"white-space:pre;overflow-x:auto;line-height:normal;font-family:Menlo,'DejaVu Sans Mono',consolas,'Courier New',monospace\"></pre>\n"
      ],
      "text/plain": []
     },
     "metadata": {},
     "output_type": "display_data"
    },
    {
     "data": {
      "text/html": [
       "<pre style=\"white-space:pre;overflow-x:auto;line-height:normal;font-family:Menlo,'DejaVu Sans Mono',consolas,'Courier New',monospace\">\n",
       "</pre>\n"
      ],
      "text/plain": [
       "\n"
      ]
     },
     "metadata": {},
     "output_type": "display_data"
    },
    {
     "name": "stderr",
     "output_type": "stream",
     "text": [
      "libpng warning: iCCP: known incorrect sRGB profile\n"
     ]
    },
    {
     "data": {
      "text/html": [
       "<pre style=\"white-space:pre;overflow-x:auto;line-height:normal;font-family:Menlo,'DejaVu Sans Mono',consolas,'Courier New',monospace\"></pre>\n"
      ],
      "text/plain": []
     },
     "metadata": {},
     "output_type": "display_data"
    },
    {
     "data": {
      "text/html": [
       "<pre style=\"white-space:pre;overflow-x:auto;line-height:normal;font-family:Menlo,'DejaVu Sans Mono',consolas,'Courier New',monospace\">\n",
       "</pre>\n"
      ],
      "text/plain": [
       "\n"
      ]
     },
     "metadata": {},
     "output_type": "display_data"
    },
    {
     "name": "stderr",
     "output_type": "stream",
     "text": [
      "libpng warning: iCCP: known incorrect sRGB profile\n"
     ]
    },
    {
     "data": {
      "text/html": [
       "<pre style=\"white-space:pre;overflow-x:auto;line-height:normal;font-family:Menlo,'DejaVu Sans Mono',consolas,'Courier New',monospace\"></pre>\n"
      ],
      "text/plain": []
     },
     "metadata": {},
     "output_type": "display_data"
    },
    {
     "data": {
      "text/html": [
       "<pre style=\"white-space:pre;overflow-x:auto;line-height:normal;font-family:Menlo,'DejaVu Sans Mono',consolas,'Courier New',monospace\">\n",
       "</pre>\n"
      ],
      "text/plain": [
       "\n"
      ]
     },
     "metadata": {},
     "output_type": "display_data"
    },
    {
     "name": "stderr",
     "output_type": "stream",
     "text": [
      "libpng warning: iCCP: known incorrect sRGB profile\n",
      "libpng warning: iCCP: known incorrect sRGB profile\n",
      "libpng warning: iCCP: known incorrect sRGB profile\n",
      "libpng warning: iCCP: known incorrect sRGB profile\n"
     ]
    },
    {
     "data": {
      "text/html": [
       "<pre style=\"white-space:pre;overflow-x:auto;line-height:normal;font-family:Menlo,'DejaVu Sans Mono',consolas,'Courier New',monospace\"><span style=\"color: #008000; text-decoration-color: #008000\">INFO    </span> Computing metrics on val subset <span style=\"color: #808000; text-decoration-color: #808000\">...</span>                                               <a href=\"file:///home/klemen/luxonis/luxonis-train/luxonis_train/models/luxonis_lightning.py\" target=\"_blank\"><span style=\"color: #7f7f7f; text-decoration-color: #7f7f7f\">luxonis_lightning.py</span></a><span style=\"color: #7f7f7f; text-decoration-color: #7f7f7f\">:</span><a href=\"file:///home/klemen/luxonis/luxonis-train/luxonis_train/models/luxonis_lightning.py#770\" target=\"_blank\"><span style=\"color: #7f7f7f; text-decoration-color: #7f7f7f\">770</span></a>\n",
       "</pre>\n"
      ],
      "text/plain": [
       "\u001b[32mINFO    \u001b[0m Computing metrics on val subset \u001b[33m...\u001b[0m                                               \u001b]8;id=702375;file:///home/klemen/luxonis/luxonis-train/luxonis_train/models/luxonis_lightning.py\u001b\\\u001b[2mluxonis_lightning.py\u001b[0m\u001b]8;;\u001b\\\u001b[2m:\u001b[0m\u001b]8;id=362336;file:///home/klemen/luxonis/luxonis-train/luxonis_train/models/luxonis_lightning.py#770\u001b\\\u001b[2m770\u001b[0m\u001b]8;;\u001b\\\n"
      ]
     },
     "metadata": {},
     "output_type": "display_data"
    },
    {
     "data": {
      "text/html": [
       "<pre style=\"white-space:pre;overflow-x:auto;line-height:normal;font-family:Menlo,'DejaVu Sans Mono',consolas,'Courier New',monospace\"><span style=\"color: #008000; text-decoration-color: #008000\">INFO    </span> Metrics computed.                                                                 <a href=\"file:///home/klemen/luxonis/luxonis-train/luxonis_train/models/luxonis_lightning.py\" target=\"_blank\"><span style=\"color: #7f7f7f; text-decoration-color: #7f7f7f\">luxonis_lightning.py</span></a><span style=\"color: #7f7f7f; text-decoration-color: #7f7f7f\">:</span><a href=\"file:///home/klemen/luxonis/luxonis-train/luxonis_train/models/luxonis_lightning.py#772\" target=\"_blank\"><span style=\"color: #7f7f7f; text-decoration-color: #7f7f7f\">772</span></a>\n",
       "</pre>\n"
      ],
      "text/plain": [
       "\u001b[32mINFO    \u001b[0m Metrics computed.                                                                 \u001b]8;id=761382;file:///home/klemen/luxonis/luxonis-train/luxonis_train/models/luxonis_lightning.py\u001b\\\u001b[2mluxonis_lightning.py\u001b[0m\u001b]8;;\u001b\\\u001b[2m:\u001b[0m\u001b]8;id=290735;file:///home/klemen/luxonis/luxonis-train/luxonis_train/models/luxonis_lightning.py#772\u001b\\\u001b[2m772\u001b[0m\u001b]8;;\u001b\\\n"
      ]
     },
     "metadata": {},
     "output_type": "display_data"
    },
    {
     "data": {
      "text/html": [
       "<pre style=\"white-space:pre;overflow-x:auto;line-height:normal;font-family:Menlo,'DejaVu Sans Mono',consolas,'Courier New',monospace\"><span style=\"color: #008000; text-decoration-color: #008000\">INFO    </span> Validation loss: <span style=\"color: #008080; text-decoration-color: #008080; font-weight: bold\">1.4579</span>                                                           <a href=\"file:///home/klemen/luxonis/luxonis-train/luxonis_train/models/luxonis_lightning.py\" target=\"_blank\"><span style=\"color: #7f7f7f; text-decoration-color: #7f7f7f\">luxonis_lightning.py</span></a><span style=\"color: #7f7f7f; text-decoration-color: #7f7f7f\">:</span><a href=\"file:///home/klemen/luxonis/luxonis-train/luxonis_train/models/luxonis_lightning.py#977\" target=\"_blank\"><span style=\"color: #7f7f7f; text-decoration-color: #7f7f7f\">977</span></a>\n",
       "</pre>\n"
      ],
      "text/plain": [
       "\u001b[32mINFO    \u001b[0m Validation loss: \u001b[1;36m1.4579\u001b[0m                                                           \u001b]8;id=412553;file:///home/klemen/luxonis/luxonis-train/luxonis_train/models/luxonis_lightning.py\u001b\\\u001b[2mluxonis_lightning.py\u001b[0m\u001b]8;;\u001b\\\u001b[2m:\u001b[0m\u001b]8;id=641392;file:///home/klemen/luxonis/luxonis-train/luxonis_train/models/luxonis_lightning.py#977\u001b\\\u001b[2m977\u001b[0m\u001b]8;;\u001b\\\n"
      ]
     },
     "metadata": {},
     "output_type": "display_data"
    },
    {
     "data": {
      "text/html": [
       "<pre style=\"white-space:pre;overflow-x:auto;line-height:normal;font-family:Menlo,'DejaVu Sans Mono',consolas,'Courier New',monospace\"><span style=\"color: #800080; text-decoration-color: #800080; font-weight: bold\">─────────────────────────────────────────────────── </span>Validation<span style=\"color: #800080; text-decoration-color: #800080; font-weight: bold\"> ────────────────────────────────────────────────────</span>\n",
       "</pre>\n"
      ],
      "text/plain": [
       "\u001b[1;35m─────────────────────────────────────────────────── \u001b[0mValidation\u001b[1;35m ────────────────────────────────────────────────────\u001b[0m\n"
      ]
     },
     "metadata": {},
     "output_type": "display_data"
    },
    {
     "data": {
      "text/html": [
       "<pre style=\"white-space:pre;overflow-x:auto;line-height:normal;font-family:Menlo,'DejaVu Sans Mono',consolas,'Courier New',monospace\"><span style=\"color: #800080; text-decoration-color: #800080; font-weight: bold\">Loss:</span> <span style=\"color: #c0c0c0; text-decoration-color: #c0c0c0; font-weight: bold\">1.457924981911977</span>\n",
       "</pre>\n"
      ],
      "text/plain": [
       "\u001b[1;35mLoss:\u001b[0m \u001b[1;37m1.457924981911977\u001b[0m\n"
      ]
     },
     "metadata": {},
     "output_type": "display_data"
    },
    {
     "data": {
      "text/html": [
       "<pre style=\"white-space:pre;overflow-x:auto;line-height:normal;font-family:Menlo,'DejaVu Sans Mono',consolas,'Courier New',monospace\"><span style=\"color: #800080; text-decoration-color: #800080; font-weight: bold\">Metrics:</span>\n",
       "</pre>\n"
      ],
      "text/plain": [
       "\u001b[1;35mMetrics:\u001b[0m\n"
      ]
     },
     "metadata": {},
     "output_type": "display_data"
    },
    {
     "data": {
      "text/html": [
       "<pre style=\"white-space:pre;overflow-x:auto;line-height:normal;font-family:Menlo,'DejaVu Sans Mono',consolas,'Courier New',monospace\"><span style=\"font-style: italic\">       detection_head       </span>\n",
       "┏━━━━━━━━━━━━━━━┳━━━━━━━━━━┓\n",
       "┃<span style=\"color: #800080; text-decoration-color: #800080; font-weight: bold\"> Name          </span>┃<span style=\"color: #800080; text-decoration-color: #800080; font-weight: bold\"> Value    </span>┃\n",
       "┡━━━━━━━━━━━━━━━╇━━━━━━━━━━┩\n",
       "│<span style=\"color: #800080; text-decoration-color: #800080\"> detection_map </span>│<span style=\"color: #c0c0c0; text-decoration-color: #c0c0c0\"> 0.35791  </span>│\n",
       "│<span style=\"color: #800080; text-decoration-color: #800080\"> map_50        </span>│<span style=\"color: #c0c0c0; text-decoration-color: #c0c0c0\"> 0.61152  </span>│\n",
       "│<span style=\"color: #800080; text-decoration-color: #800080\"> map_75        </span>│<span style=\"color: #c0c0c0; text-decoration-color: #c0c0c0\"> 0.37898  </span>│\n",
       "│<span style=\"color: #800080; text-decoration-color: #800080\"> map_small     </span>│<span style=\"color: #c0c0c0; text-decoration-color: #c0c0c0\"> -1.00000 </span>│\n",
       "│<span style=\"color: #800080; text-decoration-color: #800080\"> map_medium    </span>│<span style=\"color: #c0c0c0; text-decoration-color: #c0c0c0\"> 0.22574  </span>│\n",
       "│<span style=\"color: #800080; text-decoration-color: #800080\"> map_large     </span>│<span style=\"color: #c0c0c0; text-decoration-color: #c0c0c0\"> 0.37764  </span>│\n",
       "│<span style=\"color: #800080; text-decoration-color: #800080\"> mar_1         </span>│<span style=\"color: #c0c0c0; text-decoration-color: #c0c0c0\"> 0.31631  </span>│\n",
       "│<span style=\"color: #800080; text-decoration-color: #800080\"> mar_10        </span>│<span style=\"color: #c0c0c0; text-decoration-color: #c0c0c0\"> 0.42756  </span>│\n",
       "│<span style=\"color: #800080; text-decoration-color: #800080\"> mar_100       </span>│<span style=\"color: #c0c0c0; text-decoration-color: #c0c0c0\"> 0.42756  </span>│\n",
       "│<span style=\"color: #800080; text-decoration-color: #800080\"> mar_small     </span>│<span style=\"color: #c0c0c0; text-decoration-color: #c0c0c0\"> -1.00000 </span>│\n",
       "│<span style=\"color: #800080; text-decoration-color: #800080\"> mar_medium    </span>│<span style=\"color: #c0c0c0; text-decoration-color: #c0c0c0\"> 0.22500  </span>│\n",
       "│<span style=\"color: #800080; text-decoration-color: #800080\"> mar_large     </span>│<span style=\"color: #c0c0c0; text-decoration-color: #c0c0c0\"> 0.45099  </span>│\n",
       "│<span style=\"color: #800080; text-decoration-color: #800080\"> f1_small      </span>│<span style=\"color: #c0c0c0; text-decoration-color: #c0c0c0\"> -1.00000 </span>│\n",
       "│<span style=\"color: #800080; text-decoration-color: #800080\"> f1_medium     </span>│<span style=\"color: #c0c0c0; text-decoration-color: #c0c0c0\"> 0.22537  </span>│\n",
       "│<span style=\"color: #800080; text-decoration-color: #800080\"> f1_large      </span>│<span style=\"color: #c0c0c0; text-decoration-color: #c0c0c0\"> 0.41107  </span>│\n",
       "└───────────────┴──────────┘\n",
       "</pre>\n"
      ],
      "text/plain": [
       "\u001b[3m       detection_head       \u001b[0m\n",
       "┏━━━━━━━━━━━━━━━┳━━━━━━━━━━┓\n",
       "┃\u001b[1;35m \u001b[0m\u001b[1;35mName         \u001b[0m\u001b[1;35m \u001b[0m┃\u001b[1;35m \u001b[0m\u001b[1;35mValue   \u001b[0m\u001b[1;35m \u001b[0m┃\n",
       "┡━━━━━━━━━━━━━━━╇━━━━━━━━━━┩\n",
       "│\u001b[35m \u001b[0m\u001b[35mdetection_map\u001b[0m\u001b[35m \u001b[0m│\u001b[37m \u001b[0m\u001b[37m0.35791 \u001b[0m\u001b[37m \u001b[0m│\n",
       "│\u001b[35m \u001b[0m\u001b[35mmap_50       \u001b[0m\u001b[35m \u001b[0m│\u001b[37m \u001b[0m\u001b[37m0.61152 \u001b[0m\u001b[37m \u001b[0m│\n",
       "│\u001b[35m \u001b[0m\u001b[35mmap_75       \u001b[0m\u001b[35m \u001b[0m│\u001b[37m \u001b[0m\u001b[37m0.37898 \u001b[0m\u001b[37m \u001b[0m│\n",
       "│\u001b[35m \u001b[0m\u001b[35mmap_small    \u001b[0m\u001b[35m \u001b[0m│\u001b[37m \u001b[0m\u001b[37m-1.00000\u001b[0m\u001b[37m \u001b[0m│\n",
       "│\u001b[35m \u001b[0m\u001b[35mmap_medium   \u001b[0m\u001b[35m \u001b[0m│\u001b[37m \u001b[0m\u001b[37m0.22574 \u001b[0m\u001b[37m \u001b[0m│\n",
       "│\u001b[35m \u001b[0m\u001b[35mmap_large    \u001b[0m\u001b[35m \u001b[0m│\u001b[37m \u001b[0m\u001b[37m0.37764 \u001b[0m\u001b[37m \u001b[0m│\n",
       "│\u001b[35m \u001b[0m\u001b[35mmar_1        \u001b[0m\u001b[35m \u001b[0m│\u001b[37m \u001b[0m\u001b[37m0.31631 \u001b[0m\u001b[37m \u001b[0m│\n",
       "│\u001b[35m \u001b[0m\u001b[35mmar_10       \u001b[0m\u001b[35m \u001b[0m│\u001b[37m \u001b[0m\u001b[37m0.42756 \u001b[0m\u001b[37m \u001b[0m│\n",
       "│\u001b[35m \u001b[0m\u001b[35mmar_100      \u001b[0m\u001b[35m \u001b[0m│\u001b[37m \u001b[0m\u001b[37m0.42756 \u001b[0m\u001b[37m \u001b[0m│\n",
       "│\u001b[35m \u001b[0m\u001b[35mmar_small    \u001b[0m\u001b[35m \u001b[0m│\u001b[37m \u001b[0m\u001b[37m-1.00000\u001b[0m\u001b[37m \u001b[0m│\n",
       "│\u001b[35m \u001b[0m\u001b[35mmar_medium   \u001b[0m\u001b[35m \u001b[0m│\u001b[37m \u001b[0m\u001b[37m0.22500 \u001b[0m\u001b[37m \u001b[0m│\n",
       "│\u001b[35m \u001b[0m\u001b[35mmar_large    \u001b[0m\u001b[35m \u001b[0m│\u001b[37m \u001b[0m\u001b[37m0.45099 \u001b[0m\u001b[37m \u001b[0m│\n",
       "│\u001b[35m \u001b[0m\u001b[35mf1_small     \u001b[0m\u001b[35m \u001b[0m│\u001b[37m \u001b[0m\u001b[37m-1.00000\u001b[0m\u001b[37m \u001b[0m│\n",
       "│\u001b[35m \u001b[0m\u001b[35mf1_medium    \u001b[0m\u001b[35m \u001b[0m│\u001b[37m \u001b[0m\u001b[37m0.22537 \u001b[0m\u001b[37m \u001b[0m│\n",
       "│\u001b[35m \u001b[0m\u001b[35mf1_large     \u001b[0m\u001b[35m \u001b[0m│\u001b[37m \u001b[0m\u001b[37m0.41107 \u001b[0m\u001b[37m \u001b[0m│\n",
       "└───────────────┴──────────┘\n"
      ]
     },
     "metadata": {},
     "output_type": "display_data"
    },
    {
     "data": {
      "text/html": [
       "<pre style=\"white-space:pre;overflow-x:auto;line-height:normal;font-family:Menlo,'DejaVu Sans Mono',consolas,'Courier New',monospace\"><span style=\"color: #800080; text-decoration-color: #800080; font-weight: bold\">───────────────────────────────────────────────────────────────────────────────────────────────────────────────────</span>\n",
       "</pre>\n"
      ],
      "text/plain": [
       "\u001b[1;35m───────────────────────────────────────────────────────────────────────────────────────────────────────────────────\u001b[0m\n"
      ]
     },
     "metadata": {},
     "output_type": "display_data"
    },
    {
     "data": {
      "text/html": [
       "<pre style=\"white-space:pre;overflow-x:auto;line-height:normal;font-family:Menlo,'DejaVu Sans Mono',consolas,'Courier New',monospace\"><span style=\"color: #008000; text-decoration-color: #008000\">INFO    </span> Validation main metric <span style=\"font-weight: bold\">(</span>detection_head/detection_map<span style=\"font-weight: bold\">)</span>: <span style=\"color: #008080; text-decoration-color: #008080; font-weight: bold\">0.3579</span>                     <a href=\"file:///home/klemen/luxonis/luxonis-train/luxonis_train/models/luxonis_lightning.py\" target=\"_blank\"><span style=\"color: #7f7f7f; text-decoration-color: #7f7f7f\">luxonis_lightning.py</span></a><span style=\"color: #7f7f7f; text-decoration-color: #7f7f7f\">:</span><a href=\"file:///home/klemen/luxonis/luxonis-train/luxonis_train/models/luxonis_lightning.py#986\" target=\"_blank\"><span style=\"color: #7f7f7f; text-decoration-color: #7f7f7f\">986</span></a>\n",
       "</pre>\n"
      ],
      "text/plain": [
       "\u001b[32mINFO    \u001b[0m Validation main metric \u001b[1m(\u001b[0mdetection_head/detection_map\u001b[1m)\u001b[0m: \u001b[1;36m0.3579\u001b[0m                     \u001b]8;id=547804;file:///home/klemen/luxonis/luxonis-train/luxonis_train/models/luxonis_lightning.py\u001b\\\u001b[2mluxonis_lightning.py\u001b[0m\u001b]8;;\u001b\\\u001b[2m:\u001b[0m\u001b]8;id=892588;file:///home/klemen/luxonis/luxonis-train/luxonis_train/models/luxonis_lightning.py#986\u001b\\\u001b[2m986\u001b[0m\u001b]8;;\u001b\\\n"
      ]
     },
     "metadata": {},
     "output_type": "display_data"
    },
    {
     "data": {
      "text/html": [
       "<pre style=\"white-space:pre;overflow-x:auto;line-height:normal;font-family:Menlo,'DejaVu Sans Mono',consolas,'Courier New',monospace\"></pre>\n"
      ],
      "text/plain": []
     },
     "metadata": {},
     "output_type": "display_data"
    },
    {
     "data": {
      "text/html": [
       "<pre style=\"white-space:pre;overflow-x:auto;line-height:normal;font-family:Menlo,'DejaVu Sans Mono',consolas,'Courier New',monospace\">\n",
       "</pre>\n"
      ],
      "text/plain": [
       "\n"
      ]
     },
     "metadata": {},
     "output_type": "display_data"
    },
    {
     "name": "stderr",
     "output_type": "stream",
     "text": [
      "libpng warning: iCCP: known incorrect sRGB profile\n"
     ]
    },
    {
     "data": {
      "text/html": [
       "<pre style=\"white-space:pre;overflow-x:auto;line-height:normal;font-family:Menlo,'DejaVu Sans Mono',consolas,'Courier New',monospace\"></pre>\n"
      ],
      "text/plain": []
     },
     "metadata": {},
     "output_type": "display_data"
    },
    {
     "data": {
      "text/html": [
       "<pre style=\"white-space:pre;overflow-x:auto;line-height:normal;font-family:Menlo,'DejaVu Sans Mono',consolas,'Courier New',monospace\">\n",
       "</pre>\n"
      ],
      "text/plain": [
       "\n"
      ]
     },
     "metadata": {},
     "output_type": "display_data"
    },
    {
     "name": "stderr",
     "output_type": "stream",
     "text": [
      "libpng warning: iCCP: known incorrect sRGB profile\n"
     ]
    },
    {
     "data": {
      "text/html": [
       "<pre style=\"white-space:pre;overflow-x:auto;line-height:normal;font-family:Menlo,'DejaVu Sans Mono',consolas,'Courier New',monospace\"></pre>\n"
      ],
      "text/plain": []
     },
     "metadata": {},
     "output_type": "display_data"
    },
    {
     "data": {
      "text/html": [
       "<pre style=\"white-space:pre;overflow-x:auto;line-height:normal;font-family:Menlo,'DejaVu Sans Mono',consolas,'Courier New',monospace\">\n",
       "</pre>\n"
      ],
      "text/plain": [
       "\n"
      ]
     },
     "metadata": {},
     "output_type": "display_data"
    },
    {
     "name": "stderr",
     "output_type": "stream",
     "text": [
      "libpng warning: iCCP: known incorrect sRGB profile\n"
     ]
    },
    {
     "data": {
      "text/html": [
       "<pre style=\"white-space:pre;overflow-x:auto;line-height:normal;font-family:Menlo,'DejaVu Sans Mono',consolas,'Courier New',monospace\"></pre>\n"
      ],
      "text/plain": []
     },
     "metadata": {},
     "output_type": "display_data"
    },
    {
     "data": {
      "text/html": [
       "<pre style=\"white-space:pre;overflow-x:auto;line-height:normal;font-family:Menlo,'DejaVu Sans Mono',consolas,'Courier New',monospace\">\n",
       "</pre>\n"
      ],
      "text/plain": [
       "\n"
      ]
     },
     "metadata": {},
     "output_type": "display_data"
    },
    {
     "name": "stderr",
     "output_type": "stream",
     "text": [
      "libpng warning: iCCP: known incorrect sRGB profile\n"
     ]
    },
    {
     "data": {
      "text/html": [
       "<pre style=\"white-space:pre;overflow-x:auto;line-height:normal;font-family:Menlo,'DejaVu Sans Mono',consolas,'Courier New',monospace\"></pre>\n"
      ],
      "text/plain": []
     },
     "metadata": {},
     "output_type": "display_data"
    },
    {
     "data": {
      "text/html": [
       "<pre style=\"white-space:pre;overflow-x:auto;line-height:normal;font-family:Menlo,'DejaVu Sans Mono',consolas,'Courier New',monospace\">\n",
       "</pre>\n"
      ],
      "text/plain": [
       "\n"
      ]
     },
     "metadata": {},
     "output_type": "display_data"
    },
    {
     "name": "stderr",
     "output_type": "stream",
     "text": [
      "libpng warning: iCCP: known incorrect sRGB profile\n"
     ]
    },
    {
     "data": {
      "text/html": [
       "<pre style=\"white-space:pre;overflow-x:auto;line-height:normal;font-family:Menlo,'DejaVu Sans Mono',consolas,'Courier New',monospace\"></pre>\n"
      ],
      "text/plain": []
     },
     "metadata": {},
     "output_type": "display_data"
    },
    {
     "data": {
      "text/html": [
       "<pre style=\"white-space:pre;overflow-x:auto;line-height:normal;font-family:Menlo,'DejaVu Sans Mono',consolas,'Courier New',monospace\">\n",
       "</pre>\n"
      ],
      "text/plain": [
       "\n"
      ]
     },
     "metadata": {},
     "output_type": "display_data"
    },
    {
     "name": "stderr",
     "output_type": "stream",
     "text": [
      "libpng warning: iCCP: known incorrect sRGB profile\n"
     ]
    },
    {
     "data": {
      "text/html": [
       "<pre style=\"white-space:pre;overflow-x:auto;line-height:normal;font-family:Menlo,'DejaVu Sans Mono',consolas,'Courier New',monospace\"></pre>\n"
      ],
      "text/plain": []
     },
     "metadata": {},
     "output_type": "display_data"
    },
    {
     "data": {
      "text/html": [
       "<pre style=\"white-space:pre;overflow-x:auto;line-height:normal;font-family:Menlo,'DejaVu Sans Mono',consolas,'Courier New',monospace\">\n",
       "</pre>\n"
      ],
      "text/plain": [
       "\n"
      ]
     },
     "metadata": {},
     "output_type": "display_data"
    },
    {
     "name": "stderr",
     "output_type": "stream",
     "text": [
      "libpng warning: iCCP: known incorrect sRGB profile\n"
     ]
    },
    {
     "data": {
      "text/html": [
       "<pre style=\"white-space:pre;overflow-x:auto;line-height:normal;font-family:Menlo,'DejaVu Sans Mono',consolas,'Courier New',monospace\"></pre>\n"
      ],
      "text/plain": []
     },
     "metadata": {},
     "output_type": "display_data"
    },
    {
     "data": {
      "text/html": [
       "<pre style=\"white-space:pre;overflow-x:auto;line-height:normal;font-family:Menlo,'DejaVu Sans Mono',consolas,'Courier New',monospace\">\n",
       "</pre>\n"
      ],
      "text/plain": [
       "\n"
      ]
     },
     "metadata": {},
     "output_type": "display_data"
    },
    {
     "name": "stderr",
     "output_type": "stream",
     "text": [
      "libpng warning: iCCP: known incorrect sRGB profile\n"
     ]
    },
    {
     "data": {
      "text/html": [
       "<pre style=\"white-space:pre;overflow-x:auto;line-height:normal;font-family:Menlo,'DejaVu Sans Mono',consolas,'Courier New',monospace\"></pre>\n"
      ],
      "text/plain": []
     },
     "metadata": {},
     "output_type": "display_data"
    },
    {
     "data": {
      "text/html": [
       "<pre style=\"white-space:pre;overflow-x:auto;line-height:normal;font-family:Menlo,'DejaVu Sans Mono',consolas,'Courier New',monospace\">\n",
       "</pre>\n"
      ],
      "text/plain": [
       "\n"
      ]
     },
     "metadata": {},
     "output_type": "display_data"
    },
    {
     "name": "stderr",
     "output_type": "stream",
     "text": [
      "libpng warning: iCCP: known incorrect sRGB profile\n"
     ]
    },
    {
     "data": {
      "text/html": [
       "<pre style=\"white-space:pre;overflow-x:auto;line-height:normal;font-family:Menlo,'DejaVu Sans Mono',consolas,'Courier New',monospace\"></pre>\n"
      ],
      "text/plain": []
     },
     "metadata": {},
     "output_type": "display_data"
    },
    {
     "data": {
      "text/html": [
       "<pre style=\"white-space:pre;overflow-x:auto;line-height:normal;font-family:Menlo,'DejaVu Sans Mono',consolas,'Courier New',monospace\">\n",
       "</pre>\n"
      ],
      "text/plain": [
       "\n"
      ]
     },
     "metadata": {},
     "output_type": "display_data"
    },
    {
     "name": "stderr",
     "output_type": "stream",
     "text": [
      "libpng warning: iCCP: known incorrect sRGB profile\n",
      "libpng warning: iCCP: known incorrect sRGB profile\n",
      "libpng warning: iCCP: known incorrect sRGB profile\n",
      "libpng warning: iCCP: known incorrect sRGB profile\n"
     ]
    },
    {
     "data": {
      "text/html": [
       "<pre style=\"white-space:pre;overflow-x:auto;line-height:normal;font-family:Menlo,'DejaVu Sans Mono',consolas,'Courier New',monospace\"><span style=\"color: #008000; text-decoration-color: #008000\">INFO    </span> Computing metrics on val subset <span style=\"color: #808000; text-decoration-color: #808000\">...</span>                                               <a href=\"file:///home/klemen/luxonis/luxonis-train/luxonis_train/models/luxonis_lightning.py\" target=\"_blank\"><span style=\"color: #7f7f7f; text-decoration-color: #7f7f7f\">luxonis_lightning.py</span></a><span style=\"color: #7f7f7f; text-decoration-color: #7f7f7f\">:</span><a href=\"file:///home/klemen/luxonis/luxonis-train/luxonis_train/models/luxonis_lightning.py#770\" target=\"_blank\"><span style=\"color: #7f7f7f; text-decoration-color: #7f7f7f\">770</span></a>\n",
       "</pre>\n"
      ],
      "text/plain": [
       "\u001b[32mINFO    \u001b[0m Computing metrics on val subset \u001b[33m...\u001b[0m                                               \u001b]8;id=69828;file:///home/klemen/luxonis/luxonis-train/luxonis_train/models/luxonis_lightning.py\u001b\\\u001b[2mluxonis_lightning.py\u001b[0m\u001b]8;;\u001b\\\u001b[2m:\u001b[0m\u001b]8;id=255799;file:///home/klemen/luxonis/luxonis-train/luxonis_train/models/luxonis_lightning.py#770\u001b\\\u001b[2m770\u001b[0m\u001b]8;;\u001b\\\n"
      ]
     },
     "metadata": {},
     "output_type": "display_data"
    },
    {
     "data": {
      "text/html": [
       "<pre style=\"white-space:pre;overflow-x:auto;line-height:normal;font-family:Menlo,'DejaVu Sans Mono',consolas,'Courier New',monospace\"><span style=\"color: #008000; text-decoration-color: #008000\">INFO    </span> Metrics computed.                                                                 <a href=\"file:///home/klemen/luxonis/luxonis-train/luxonis_train/models/luxonis_lightning.py\" target=\"_blank\"><span style=\"color: #7f7f7f; text-decoration-color: #7f7f7f\">luxonis_lightning.py</span></a><span style=\"color: #7f7f7f; text-decoration-color: #7f7f7f\">:</span><a href=\"file:///home/klemen/luxonis/luxonis-train/luxonis_train/models/luxonis_lightning.py#772\" target=\"_blank\"><span style=\"color: #7f7f7f; text-decoration-color: #7f7f7f\">772</span></a>\n",
       "</pre>\n"
      ],
      "text/plain": [
       "\u001b[32mINFO    \u001b[0m Metrics computed.                                                                 \u001b]8;id=733640;file:///home/klemen/luxonis/luxonis-train/luxonis_train/models/luxonis_lightning.py\u001b\\\u001b[2mluxonis_lightning.py\u001b[0m\u001b]8;;\u001b\\\u001b[2m:\u001b[0m\u001b]8;id=17762;file:///home/klemen/luxonis/luxonis-train/luxonis_train/models/luxonis_lightning.py#772\u001b\\\u001b[2m772\u001b[0m\u001b]8;;\u001b\\\n"
      ]
     },
     "metadata": {},
     "output_type": "display_data"
    },
    {
     "data": {
      "text/html": [
       "<pre style=\"white-space:pre;overflow-x:auto;line-height:normal;font-family:Menlo,'DejaVu Sans Mono',consolas,'Courier New',monospace\"><span style=\"color: #008000; text-decoration-color: #008000\">INFO    </span> Validation loss: <span style=\"color: #008080; text-decoration-color: #008080; font-weight: bold\">1.4470</span>                                                           <a href=\"file:///home/klemen/luxonis/luxonis-train/luxonis_train/models/luxonis_lightning.py\" target=\"_blank\"><span style=\"color: #7f7f7f; text-decoration-color: #7f7f7f\">luxonis_lightning.py</span></a><span style=\"color: #7f7f7f; text-decoration-color: #7f7f7f\">:</span><a href=\"file:///home/klemen/luxonis/luxonis-train/luxonis_train/models/luxonis_lightning.py#977\" target=\"_blank\"><span style=\"color: #7f7f7f; text-decoration-color: #7f7f7f\">977</span></a>\n",
       "</pre>\n"
      ],
      "text/plain": [
       "\u001b[32mINFO    \u001b[0m Validation loss: \u001b[1;36m1.4470\u001b[0m                                                           \u001b]8;id=647958;file:///home/klemen/luxonis/luxonis-train/luxonis_train/models/luxonis_lightning.py\u001b\\\u001b[2mluxonis_lightning.py\u001b[0m\u001b]8;;\u001b\\\u001b[2m:\u001b[0m\u001b]8;id=148366;file:///home/klemen/luxonis/luxonis-train/luxonis_train/models/luxonis_lightning.py#977\u001b\\\u001b[2m977\u001b[0m\u001b]8;;\u001b\\\n"
      ]
     },
     "metadata": {},
     "output_type": "display_data"
    },
    {
     "data": {
      "text/html": [
       "<pre style=\"white-space:pre;overflow-x:auto;line-height:normal;font-family:Menlo,'DejaVu Sans Mono',consolas,'Courier New',monospace\"><span style=\"color: #800080; text-decoration-color: #800080; font-weight: bold\">─────────────────────────────────────────────────── </span>Validation<span style=\"color: #800080; text-decoration-color: #800080; font-weight: bold\"> ────────────────────────────────────────────────────</span>\n",
       "</pre>\n"
      ],
      "text/plain": [
       "\u001b[1;35m─────────────────────────────────────────────────── \u001b[0mValidation\u001b[1;35m ────────────────────────────────────────────────────\u001b[0m\n"
      ]
     },
     "metadata": {},
     "output_type": "display_data"
    },
    {
     "data": {
      "text/html": [
       "<pre style=\"white-space:pre;overflow-x:auto;line-height:normal;font-family:Menlo,'DejaVu Sans Mono',consolas,'Courier New',monospace\"><span style=\"color: #800080; text-decoration-color: #800080; font-weight: bold\">Loss:</span> <span style=\"color: #c0c0c0; text-decoration-color: #c0c0c0; font-weight: bold\">1.4470344583193462</span>\n",
       "</pre>\n"
      ],
      "text/plain": [
       "\u001b[1;35mLoss:\u001b[0m \u001b[1;37m1.4470344583193462\u001b[0m\n"
      ]
     },
     "metadata": {},
     "output_type": "display_data"
    },
    {
     "data": {
      "text/html": [
       "<pre style=\"white-space:pre;overflow-x:auto;line-height:normal;font-family:Menlo,'DejaVu Sans Mono',consolas,'Courier New',monospace\"><span style=\"color: #800080; text-decoration-color: #800080; font-weight: bold\">Metrics:</span>\n",
       "</pre>\n"
      ],
      "text/plain": [
       "\u001b[1;35mMetrics:\u001b[0m\n"
      ]
     },
     "metadata": {},
     "output_type": "display_data"
    },
    {
     "data": {
      "text/html": [
       "<pre style=\"white-space:pre;overflow-x:auto;line-height:normal;font-family:Menlo,'DejaVu Sans Mono',consolas,'Courier New',monospace\"><span style=\"font-style: italic\">       detection_head       </span>\n",
       "┏━━━━━━━━━━━━━━━┳━━━━━━━━━━┓\n",
       "┃<span style=\"color: #800080; text-decoration-color: #800080; font-weight: bold\"> Name          </span>┃<span style=\"color: #800080; text-decoration-color: #800080; font-weight: bold\"> Value    </span>┃\n",
       "┡━━━━━━━━━━━━━━━╇━━━━━━━━━━┩\n",
       "│<span style=\"color: #800080; text-decoration-color: #800080\"> detection_map </span>│<span style=\"color: #c0c0c0; text-decoration-color: #c0c0c0\"> 0.36553  </span>│\n",
       "│<span style=\"color: #800080; text-decoration-color: #800080\"> map_50        </span>│<span style=\"color: #c0c0c0; text-decoration-color: #c0c0c0\"> 0.62095  </span>│\n",
       "│<span style=\"color: #800080; text-decoration-color: #800080\"> map_75        </span>│<span style=\"color: #c0c0c0; text-decoration-color: #c0c0c0\"> 0.39748  </span>│\n",
       "│<span style=\"color: #800080; text-decoration-color: #800080\"> map_small     </span>│<span style=\"color: #c0c0c0; text-decoration-color: #c0c0c0\"> -1.00000 </span>│\n",
       "│<span style=\"color: #800080; text-decoration-color: #800080\"> map_medium    </span>│<span style=\"color: #c0c0c0; text-decoration-color: #c0c0c0\"> 0.23135  </span>│\n",
       "│<span style=\"color: #800080; text-decoration-color: #800080\"> map_large     </span>│<span style=\"color: #c0c0c0; text-decoration-color: #c0c0c0\"> 0.38416  </span>│\n",
       "│<span style=\"color: #800080; text-decoration-color: #800080\"> mar_1         </span>│<span style=\"color: #c0c0c0; text-decoration-color: #c0c0c0\"> 0.33278  </span>│\n",
       "│<span style=\"color: #800080; text-decoration-color: #800080\"> mar_10        </span>│<span style=\"color: #c0c0c0; text-decoration-color: #c0c0c0\"> 0.43196  </span>│\n",
       "│<span style=\"color: #800080; text-decoration-color: #800080\"> mar_100       </span>│<span style=\"color: #c0c0c0; text-decoration-color: #c0c0c0\"> 0.43196  </span>│\n",
       "│<span style=\"color: #800080; text-decoration-color: #800080\"> mar_small     </span>│<span style=\"color: #c0c0c0; text-decoration-color: #c0c0c0\"> -1.00000 </span>│\n",
       "│<span style=\"color: #800080; text-decoration-color: #800080\"> mar_medium    </span>│<span style=\"color: #c0c0c0; text-decoration-color: #c0c0c0\"> 0.24167  </span>│\n",
       "│<span style=\"color: #800080; text-decoration-color: #800080\"> mar_large     </span>│<span style=\"color: #c0c0c0; text-decoration-color: #c0c0c0\"> 0.45451  </span>│\n",
       "│<span style=\"color: #800080; text-decoration-color: #800080\"> f1_small      </span>│<span style=\"color: #c0c0c0; text-decoration-color: #c0c0c0\"> -1.00000 </span>│\n",
       "│<span style=\"color: #800080; text-decoration-color: #800080\"> f1_medium     </span>│<span style=\"color: #c0c0c0; text-decoration-color: #c0c0c0\"> 0.23640  </span>│\n",
       "│<span style=\"color: #800080; text-decoration-color: #800080\"> f1_large      </span>│<span style=\"color: #c0c0c0; text-decoration-color: #c0c0c0\"> 0.41638  </span>│\n",
       "└───────────────┴──────────┘\n",
       "</pre>\n"
      ],
      "text/plain": [
       "\u001b[3m       detection_head       \u001b[0m\n",
       "┏━━━━━━━━━━━━━━━┳━━━━━━━━━━┓\n",
       "┃\u001b[1;35m \u001b[0m\u001b[1;35mName         \u001b[0m\u001b[1;35m \u001b[0m┃\u001b[1;35m \u001b[0m\u001b[1;35mValue   \u001b[0m\u001b[1;35m \u001b[0m┃\n",
       "┡━━━━━━━━━━━━━━━╇━━━━━━━━━━┩\n",
       "│\u001b[35m \u001b[0m\u001b[35mdetection_map\u001b[0m\u001b[35m \u001b[0m│\u001b[37m \u001b[0m\u001b[37m0.36553 \u001b[0m\u001b[37m \u001b[0m│\n",
       "│\u001b[35m \u001b[0m\u001b[35mmap_50       \u001b[0m\u001b[35m \u001b[0m│\u001b[37m \u001b[0m\u001b[37m0.62095 \u001b[0m\u001b[37m \u001b[0m│\n",
       "│\u001b[35m \u001b[0m\u001b[35mmap_75       \u001b[0m\u001b[35m \u001b[0m│\u001b[37m \u001b[0m\u001b[37m0.39748 \u001b[0m\u001b[37m \u001b[0m│\n",
       "│\u001b[35m \u001b[0m\u001b[35mmap_small    \u001b[0m\u001b[35m \u001b[0m│\u001b[37m \u001b[0m\u001b[37m-1.00000\u001b[0m\u001b[37m \u001b[0m│\n",
       "│\u001b[35m \u001b[0m\u001b[35mmap_medium   \u001b[0m\u001b[35m \u001b[0m│\u001b[37m \u001b[0m\u001b[37m0.23135 \u001b[0m\u001b[37m \u001b[0m│\n",
       "│\u001b[35m \u001b[0m\u001b[35mmap_large    \u001b[0m\u001b[35m \u001b[0m│\u001b[37m \u001b[0m\u001b[37m0.38416 \u001b[0m\u001b[37m \u001b[0m│\n",
       "│\u001b[35m \u001b[0m\u001b[35mmar_1        \u001b[0m\u001b[35m \u001b[0m│\u001b[37m \u001b[0m\u001b[37m0.33278 \u001b[0m\u001b[37m \u001b[0m│\n",
       "│\u001b[35m \u001b[0m\u001b[35mmar_10       \u001b[0m\u001b[35m \u001b[0m│\u001b[37m \u001b[0m\u001b[37m0.43196 \u001b[0m\u001b[37m \u001b[0m│\n",
       "│\u001b[35m \u001b[0m\u001b[35mmar_100      \u001b[0m\u001b[35m \u001b[0m│\u001b[37m \u001b[0m\u001b[37m0.43196 \u001b[0m\u001b[37m \u001b[0m│\n",
       "│\u001b[35m \u001b[0m\u001b[35mmar_small    \u001b[0m\u001b[35m \u001b[0m│\u001b[37m \u001b[0m\u001b[37m-1.00000\u001b[0m\u001b[37m \u001b[0m│\n",
       "│\u001b[35m \u001b[0m\u001b[35mmar_medium   \u001b[0m\u001b[35m \u001b[0m│\u001b[37m \u001b[0m\u001b[37m0.24167 \u001b[0m\u001b[37m \u001b[0m│\n",
       "│\u001b[35m \u001b[0m\u001b[35mmar_large    \u001b[0m\u001b[35m \u001b[0m│\u001b[37m \u001b[0m\u001b[37m0.45451 \u001b[0m\u001b[37m \u001b[0m│\n",
       "│\u001b[35m \u001b[0m\u001b[35mf1_small     \u001b[0m\u001b[35m \u001b[0m│\u001b[37m \u001b[0m\u001b[37m-1.00000\u001b[0m\u001b[37m \u001b[0m│\n",
       "│\u001b[35m \u001b[0m\u001b[35mf1_medium    \u001b[0m\u001b[35m \u001b[0m│\u001b[37m \u001b[0m\u001b[37m0.23640 \u001b[0m\u001b[37m \u001b[0m│\n",
       "│\u001b[35m \u001b[0m\u001b[35mf1_large     \u001b[0m\u001b[35m \u001b[0m│\u001b[37m \u001b[0m\u001b[37m0.41638 \u001b[0m\u001b[37m \u001b[0m│\n",
       "└───────────────┴──────────┘\n"
      ]
     },
     "metadata": {},
     "output_type": "display_data"
    },
    {
     "data": {
      "text/html": [
       "<pre style=\"white-space:pre;overflow-x:auto;line-height:normal;font-family:Menlo,'DejaVu Sans Mono',consolas,'Courier New',monospace\"><span style=\"color: #800080; text-decoration-color: #800080; font-weight: bold\">───────────────────────────────────────────────────────────────────────────────────────────────────────────────────</span>\n",
       "</pre>\n"
      ],
      "text/plain": [
       "\u001b[1;35m───────────────────────────────────────────────────────────────────────────────────────────────────────────────────\u001b[0m\n"
      ]
     },
     "metadata": {},
     "output_type": "display_data"
    },
    {
     "data": {
      "text/html": [
       "<pre style=\"white-space:pre;overflow-x:auto;line-height:normal;font-family:Menlo,'DejaVu Sans Mono',consolas,'Courier New',monospace\"><span style=\"color: #008000; text-decoration-color: #008000\">INFO    </span> Validation main metric <span style=\"font-weight: bold\">(</span>detection_head/detection_map<span style=\"font-weight: bold\">)</span>: <span style=\"color: #008080; text-decoration-color: #008080; font-weight: bold\">0.3655</span>                     <a href=\"file:///home/klemen/luxonis/luxonis-train/luxonis_train/models/luxonis_lightning.py\" target=\"_blank\"><span style=\"color: #7f7f7f; text-decoration-color: #7f7f7f\">luxonis_lightning.py</span></a><span style=\"color: #7f7f7f; text-decoration-color: #7f7f7f\">:</span><a href=\"file:///home/klemen/luxonis/luxonis-train/luxonis_train/models/luxonis_lightning.py#986\" target=\"_blank\"><span style=\"color: #7f7f7f; text-decoration-color: #7f7f7f\">986</span></a>\n",
       "</pre>\n"
      ],
      "text/plain": [
       "\u001b[32mINFO    \u001b[0m Validation main metric \u001b[1m(\u001b[0mdetection_head/detection_map\u001b[1m)\u001b[0m: \u001b[1;36m0.3655\u001b[0m                     \u001b]8;id=141395;file:///home/klemen/luxonis/luxonis-train/luxonis_train/models/luxonis_lightning.py\u001b\\\u001b[2mluxonis_lightning.py\u001b[0m\u001b]8;;\u001b\\\u001b[2m:\u001b[0m\u001b]8;id=77027;file:///home/klemen/luxonis/luxonis-train/luxonis_train/models/luxonis_lightning.py#986\u001b\\\u001b[2m986\u001b[0m\u001b]8;;\u001b\\\n"
      ]
     },
     "metadata": {},
     "output_type": "display_data"
    },
    {
     "data": {
      "text/html": [
       "<pre style=\"white-space:pre;overflow-x:auto;line-height:normal;font-family:Menlo,'DejaVu Sans Mono',consolas,'Courier New',monospace\"><span style=\"color: #008000; text-decoration-color: #008000\">INFO    </span> `Trainer.fit` stopped: `<span style=\"color: #808000; text-decoration-color: #808000\">max_epochs</span>=<span style=\"color: #008080; text-decoration-color: #008080; font-weight: bold\">200</span>` reached.                                           <a href=\"file:///home/klemen/envs/luxonis/lib/python3.10/site-packages/lightning_utilities/core/rank_zero.py\" target=\"_blank\"><span style=\"color: #7f7f7f; text-decoration-color: #7f7f7f\">rank_zero.py</span></a><span style=\"color: #7f7f7f; text-decoration-color: #7f7f7f\">:</span><a href=\"file:///home/klemen/envs/luxonis/lib/python3.10/site-packages/lightning_utilities/core/rank_zero.py#63\" target=\"_blank\"><span style=\"color: #7f7f7f; text-decoration-color: #7f7f7f\">63</span></a>\n",
       "</pre>\n"
      ],
      "text/plain": [
       "\u001b[32mINFO    \u001b[0m `Trainer.fit` stopped: `\u001b[33mmax_epochs\u001b[0m=\u001b[1;36m200\u001b[0m` reached.                                           \u001b]8;id=189954;file:///home/klemen/envs/luxonis/lib/python3.10/site-packages/lightning_utilities/core/rank_zero.py\u001b\\\u001b[2mrank_zero.py\u001b[0m\u001b]8;;\u001b\\\u001b[2m:\u001b[0m\u001b]8;id=136515;file:///home/klemen/envs/luxonis/lib/python3.10/site-packages/lightning_utilities/core/rank_zero.py#63\u001b\\\u001b[2m63\u001b[0m\u001b]8;;\u001b\\\n"
      ]
     },
     "metadata": {},
     "output_type": "display_data"
    },
    {
     "data": {
      "text/html": [
       "<pre style=\"white-space:pre;overflow-x:auto;line-height:normal;font-family:Menlo,'DejaVu Sans Mono',consolas,'Courier New',monospace\"></pre>\n"
      ],
      "text/plain": []
     },
     "metadata": {},
     "output_type": "display_data"
    },
    {
     "data": {
      "text/html": [
       "<pre style=\"white-space:pre;overflow-x:auto;line-height:normal;font-family:Menlo,'DejaVu Sans Mono',consolas,'Courier New',monospace\">\n",
       "</pre>\n"
      ],
      "text/plain": [
       "\n"
      ]
     },
     "metadata": {},
     "output_type": "display_data"
    },
    {
     "data": {
      "text/html": [
       "<pre style=\"white-space:pre;overflow-x:auto;line-height:normal;font-family:Menlo,'DejaVu Sans Mono',consolas,'Courier New',monospace\"><span style=\"color: #008000; text-decoration-color: #008000\">INFO    </span> Training finished                                                                              <a href=\"file:///home/klemen/luxonis/luxonis-train/luxonis_train/core/core.py\" target=\"_blank\"><span style=\"color: #7f7f7f; text-decoration-color: #7f7f7f\">core.py</span></a><span style=\"color: #7f7f7f; text-decoration-color: #7f7f7f\">:</span><a href=\"file:///home/klemen/luxonis/luxonis-train/luxonis_train/core/core.py#265\" target=\"_blank\"><span style=\"color: #7f7f7f; text-decoration-color: #7f7f7f\">265</span></a>\n",
       "</pre>\n"
      ],
      "text/plain": [
       "\u001b[32mINFO    \u001b[0m Training finished                                                                              \u001b]8;id=150731;file:///home/klemen/luxonis/luxonis-train/luxonis_train/core/core.py\u001b\\\u001b[2mcore.py\u001b[0m\u001b]8;;\u001b\\\u001b[2m:\u001b[0m\u001b]8;id=20142;file:///home/klemen/luxonis/luxonis-train/luxonis_train/core/core.py#265\u001b\\\u001b[2m265\u001b[0m\u001b]8;;\u001b\\\n"
      ]
     },
     "metadata": {},
     "output_type": "display_data"
    },
    {
     "data": {
      "text/html": [
       "<pre style=\"white-space:pre;overflow-x:auto;line-height:normal;font-family:Menlo,'DejaVu Sans Mono',consolas,'Courier New',monospace\"><span style=\"color: #008000; text-decoration-color: #008000\">INFO    </span> Checkpoints saved in: output/<span style=\"color: #008080; text-decoration-color: #008080; font-weight: bold\">1</span>-fuchsia-jaguar                                                  <a href=\"file:///home/klemen/luxonis/luxonis-train/luxonis_train/core/core.py\" target=\"_blank\"><span style=\"color: #7f7f7f; text-decoration-color: #7f7f7f\">core.py</span></a><span style=\"color: #7f7f7f; text-decoration-color: #7f7f7f\">:</span><a href=\"file:///home/klemen/luxonis/luxonis-train/luxonis_train/core/core.py#266\" target=\"_blank\"><span style=\"color: #7f7f7f; text-decoration-color: #7f7f7f\">266</span></a>\n",
       "</pre>\n"
      ],
      "text/plain": [
       "\u001b[32mINFO    \u001b[0m Checkpoints saved in: output/\u001b[1;36m1\u001b[0m-fuchsia-jaguar                                                  \u001b]8;id=924351;file:///home/klemen/luxonis/luxonis-train/luxonis_train/core/core.py\u001b\\\u001b[2mcore.py\u001b[0m\u001b]8;;\u001b\\\u001b[2m:\u001b[0m\u001b]8;id=950034;file:///home/klemen/luxonis/luxonis-train/luxonis_train/core/core.py#266\u001b\\\u001b[2m266\u001b[0m\u001b]8;;\u001b\\\n"
      ]
     },
     "metadata": {},
     "output_type": "display_data"
    }
   ],
   "source": [
    "from luxonis_train import LuxonisModel\n",
    "\n",
    "config_path = \"fruit_detection_config.yaml\"\n",
    "\n",
    "luxonis_model = LuxonisModel(config_path)\n",
    "luxonis_model.train()"
   ]
  },
  {
   "cell_type": "markdown",
   "metadata": {},
   "source": [
    "`LuxonisTrain` also already implements automatic tracking of our training runs. By default `Tensorboard` is used and to look at the losses, metrics and visualizations during training we can inspect the logs. If you check the `output` folder you'll see that every run creates a new directory in it and each run has also its own training logs in the `./output/tensorboard_logs` where name of the folder mathes the run's name. To make all the subsequent commands work automatically please set the name of your run below."
   ]
  },
  {
   "cell_type": "code",
   "execution_count": 70,
   "metadata": {},
   "outputs": [],
   "source": [
    "RUN_NAME = \"1-fuchsia-jaguar\""
   ]
  },
  {
   "cell_type": "code",
   "execution_count": 72,
   "metadata": {},
   "outputs": [
    {
     "name": "stdout",
     "output_type": "stream",
     "text": [
      "The tensorboard extension is already loaded. To reload it, use:\n",
      "  %reload_ext tensorboard\n"
     ]
    },
    {
     "data": {
      "text/plain": [
       "Reusing TensorBoard on port 6007 (pid 210252), started 0:00:03 ago. (Use '!kill 210252' to kill it.)"
      ]
     },
     "metadata": {},
     "output_type": "display_data"
    },
    {
     "data": {
      "text/html": [
       "\n",
       "      <iframe id=\"tensorboard-frame-4521cfd021d9286\" width=\"100%\" height=\"800\" frameborder=\"0\">\n",
       "      </iframe>\n",
       "      <script>\n",
       "        (function() {\n",
       "          const frame = document.getElementById(\"tensorboard-frame-4521cfd021d9286\");\n",
       "          const url = new URL(\"http://localhost\");\n",
       "          const port = 6007;\n",
       "          if (port) {\n",
       "            url.port = port;\n",
       "          }\n",
       "          frame.src = url;\n",
       "        })();\n",
       "      </script>\n",
       "    "
      ],
      "text/plain": [
       "<IPython.core.display.HTML object>"
      ]
     },
     "metadata": {},
     "output_type": "display_data"
    }
   ],
   "source": [
    "%load_ext tensorboard\n",
    "%tensorboard --logdir output/tensorboard_logs/{RUN_NAME}/ # TODO: Change the name of the training run"
   ]
  },
  {
   "cell_type": "markdown",
   "metadata": {},
   "source": [
    "## ✍ Test"
   ]
  },
  {
   "cell_type": "markdown",
   "metadata": {},
   "source": [
    "Now we have a model that we are happy with, that seems to perform well on the validation set. The next step is to check its performance on the testing set. This is a collection of images that we've kept hidden from the model so far and should be only used to objectively evaluate if the model is good or not. Since this is an object detection task we use mean average precision metric to quantitatively check the model performance.\n",
    "\n",
    "If you check out ran directory you'll see two folders inside: `best_val_metric` and `min_val_loss`. Both of these have checkpoint files that were generated during trainig based on best validation metric performance and minimal validation loss respectively. For evaluation we'll want to use one of these checkpoints, we recommend you use one that has lowest validation loss."
   ]
  },
  {
   "cell_type": "code",
   "execution_count": 75,
   "metadata": {},
   "outputs": [
    {
     "data": {
      "text/html": [
       "<pre style=\"white-space:pre;overflow-x:auto;line-height:normal;font-family:Menlo,'DejaVu Sans Mono',consolas,'Courier New',monospace\"><span style=\"color: #008000; text-decoration-color: #008000\">INFO    </span> The following callbacks returned in `LightningModule.configure_callbacks` will override    <a href=\"file:///home/klemen/envs/luxonis/lib/python3.10/site-packages/lightning_utilities/core/rank_zero.py\" target=\"_blank\"><span style=\"color: #7f7f7f; text-decoration-color: #7f7f7f\">rank_zero.py</span></a><span style=\"color: #7f7f7f; text-decoration-color: #7f7f7f\">:</span><a href=\"file:///home/klemen/envs/luxonis/lib/python3.10/site-packages/lightning_utilities/core/rank_zero.py#63\" target=\"_blank\"><span style=\"color: #7f7f7f; text-decoration-color: #7f7f7f\">63</span></a>\n",
       "         existing callbacks passed to Trainer: ModelCheckpoint, RichModelSummary                    <span style=\"color: #7f7f7f; text-decoration-color: #7f7f7f\">               </span>\n",
       "</pre>\n"
      ],
      "text/plain": [
       "\u001b[32mINFO    \u001b[0m The following callbacks returned in `LightningModule.configure_callbacks` will override    \u001b]8;id=390266;file:///home/klemen/envs/luxonis/lib/python3.10/site-packages/lightning_utilities/core/rank_zero.py\u001b\\\u001b[2mrank_zero.py\u001b[0m\u001b]8;;\u001b\\\u001b[2m:\u001b[0m\u001b]8;id=645106;file:///home/klemen/envs/luxonis/lib/python3.10/site-packages/lightning_utilities/core/rank_zero.py#63\u001b\\\u001b[2m63\u001b[0m\u001b]8;;\u001b\\\n",
       "         existing callbacks passed to Trainer: ModelCheckpoint, RichModelSummary                    \u001b[2m               \u001b[0m\n"
      ]
     },
     "metadata": {},
     "output_type": "display_data"
    },
    {
     "name": "stderr",
     "output_type": "stream",
     "text": [
      "LOCAL_RANK: 0 - CUDA_VISIBLE_DEVICES: [0]\n"
     ]
    },
    {
     "data": {
      "text/html": [
       "<pre style=\"white-space:pre;overflow-x:auto;line-height:normal;font-family:Menlo,'DejaVu Sans Mono',consolas,'Courier New',monospace\"><span style=\"color: #808000; text-decoration-color: #808000\">WARNING </span> <span style=\"color: #800080; text-decoration-color: #800080\">/home/klemen/envs/luxonis/lib/python3.10/site-packages/rich/</span><span style=\"color: #ff00ff; text-decoration-color: #ff00ff\">live.py</span>:<span style=\"color: #008080; text-decoration-color: #008080; font-weight: bold\">231</span>: UserWarning:       <a href=\"file:///home/klemen/luxonis/luxonis-ml/luxonis_ml/utils/logging.py\" target=\"_blank\"><span style=\"color: #7f7f7f; text-decoration-color: #7f7f7f\">logging.py</span></a><span style=\"color: #7f7f7f; text-decoration-color: #7f7f7f\">:</span><a href=\"file:///home/klemen/luxonis/luxonis-ml/luxonis_ml/utils/logging.py#121\" target=\"_blank\"><span style=\"color: #7f7f7f; text-decoration-color: #7f7f7f\">121</span></a>\n",
       "         install <span style=\"color: #008000; text-decoration-color: #008000\">\"ipywidgets\"</span> for Jupyter support                                                    <span style=\"color: #7f7f7f; text-decoration-color: #7f7f7f\">              </span>\n",
       "           <span style=\"color: #800080; text-decoration-color: #800080; font-weight: bold\">warnings.warn</span><span style=\"font-weight: bold\">(</span><span style=\"color: #008000; text-decoration-color: #008000\">'install \"ipywidgets\" for Jupyter support'</span><span style=\"font-weight: bold\">)</span>                                 <span style=\"color: #7f7f7f; text-decoration-color: #7f7f7f\">              </span>\n",
       "                                                                                                     <span style=\"color: #7f7f7f; text-decoration-color: #7f7f7f\">              </span>\n",
       "</pre>\n"
      ],
      "text/plain": [
       "\u001b[33mWARNING \u001b[0m \u001b[35m/home/klemen/envs/luxonis/lib/python3.10/site-packages/rich/\u001b[0m\u001b[95mlive.py\u001b[0m:\u001b[1;36m231\u001b[0m: UserWarning:       \u001b]8;id=703340;file:///home/klemen/luxonis/luxonis-ml/luxonis_ml/utils/logging.py\u001b\\\u001b[2mlogging.py\u001b[0m\u001b]8;;\u001b\\\u001b[2m:\u001b[0m\u001b]8;id=284081;file:///home/klemen/luxonis/luxonis-ml/luxonis_ml/utils/logging.py#121\u001b\\\u001b[2m121\u001b[0m\u001b]8;;\u001b\\\n",
       "         install \u001b[32m\"ipywidgets\"\u001b[0m for Jupyter support                                                    \u001b[2m              \u001b[0m\n",
       "           \u001b[1;35mwarnings.warn\u001b[0m\u001b[1m(\u001b[0m\u001b[32m'install \"ipywidgets\" for Jupyter support'\u001b[0m\u001b[1m)\u001b[0m                                 \u001b[2m              \u001b[0m\n",
       "                                                                                                     \u001b[2m              \u001b[0m\n"
      ]
     },
     "metadata": {},
     "output_type": "display_data"
    },
    {
     "name": "stderr",
     "output_type": "stream",
     "text": [
      "libpng warning: iCCP: known incorrect sRGB profile\n"
     ]
    },
    {
     "data": {
      "text/html": [
       "<pre style=\"white-space:pre;overflow-x:auto;line-height:normal;font-family:Menlo,'DejaVu Sans Mono',consolas,'Courier New',monospace\"><span style=\"color: #008000; text-decoration-color: #008000\">INFO    </span> Computing metrics on test subset <span style=\"color: #808000; text-decoration-color: #808000\">...</span>                                              <a href=\"file:///home/klemen/luxonis/luxonis-train/luxonis_train/models/luxonis_lightning.py\" target=\"_blank\"><span style=\"color: #7f7f7f; text-decoration-color: #7f7f7f\">luxonis_lightning.py</span></a><span style=\"color: #7f7f7f; text-decoration-color: #7f7f7f\">:</span><a href=\"file:///home/klemen/luxonis/luxonis-train/luxonis_train/models/luxonis_lightning.py#770\" target=\"_blank\"><span style=\"color: #7f7f7f; text-decoration-color: #7f7f7f\">770</span></a>\n",
       "</pre>\n"
      ],
      "text/plain": [
       "\u001b[32mINFO    \u001b[0m Computing metrics on test subset \u001b[33m...\u001b[0m                                              \u001b]8;id=167419;file:///home/klemen/luxonis/luxonis-train/luxonis_train/models/luxonis_lightning.py\u001b\\\u001b[2mluxonis_lightning.py\u001b[0m\u001b]8;;\u001b\\\u001b[2m:\u001b[0m\u001b]8;id=405023;file:///home/klemen/luxonis/luxonis-train/luxonis_train/models/luxonis_lightning.py#770\u001b\\\u001b[2m770\u001b[0m\u001b]8;;\u001b\\\n"
      ]
     },
     "metadata": {},
     "output_type": "display_data"
    },
    {
     "data": {
      "text/html": [
       "<pre style=\"white-space:pre;overflow-x:auto;line-height:normal;font-family:Menlo,'DejaVu Sans Mono',consolas,'Courier New',monospace\"><span style=\"color: #008000; text-decoration-color: #008000\">INFO    </span> Metrics computed.                                                                 <a href=\"file:///home/klemen/luxonis/luxonis-train/luxonis_train/models/luxonis_lightning.py\" target=\"_blank\"><span style=\"color: #7f7f7f; text-decoration-color: #7f7f7f\">luxonis_lightning.py</span></a><span style=\"color: #7f7f7f; text-decoration-color: #7f7f7f\">:</span><a href=\"file:///home/klemen/luxonis/luxonis-train/luxonis_train/models/luxonis_lightning.py#772\" target=\"_blank\"><span style=\"color: #7f7f7f; text-decoration-color: #7f7f7f\">772</span></a>\n",
       "</pre>\n"
      ],
      "text/plain": [
       "\u001b[32mINFO    \u001b[0m Metrics computed.                                                                 \u001b]8;id=547295;file:///home/klemen/luxonis/luxonis-train/luxonis_train/models/luxonis_lightning.py\u001b\\\u001b[2mluxonis_lightning.py\u001b[0m\u001b]8;;\u001b\\\u001b[2m:\u001b[0m\u001b]8;id=41672;file:///home/klemen/luxonis/luxonis-train/luxonis_train/models/luxonis_lightning.py#772\u001b\\\u001b[2m772\u001b[0m\u001b]8;;\u001b\\\n"
      ]
     },
     "metadata": {},
     "output_type": "display_data"
    },
    {
     "data": {
      "text/html": [
       "<pre style=\"white-space:pre;overflow-x:auto;line-height:normal;font-family:Menlo,'DejaVu Sans Mono',consolas,'Courier New',monospace\"><span style=\"color: #008000; text-decoration-color: #008000\">INFO    </span> Test loss: <span style=\"color: #008080; text-decoration-color: #008080; font-weight: bold\">1.4543</span>                                                                 <a href=\"file:///home/klemen/luxonis/luxonis-train/luxonis_train/models/luxonis_lightning.py\" target=\"_blank\"><span style=\"color: #7f7f7f; text-decoration-color: #7f7f7f\">luxonis_lightning.py</span></a><span style=\"color: #7f7f7f; text-decoration-color: #7f7f7f\">:</span><a href=\"file:///home/klemen/luxonis/luxonis-train/luxonis_train/models/luxonis_lightning.py#977\" target=\"_blank\"><span style=\"color: #7f7f7f; text-decoration-color: #7f7f7f\">977</span></a>\n",
       "</pre>\n"
      ],
      "text/plain": [
       "\u001b[32mINFO    \u001b[0m Test loss: \u001b[1;36m1.4543\u001b[0m                                                                 \u001b]8;id=143508;file:///home/klemen/luxonis/luxonis-train/luxonis_train/models/luxonis_lightning.py\u001b\\\u001b[2mluxonis_lightning.py\u001b[0m\u001b]8;;\u001b\\\u001b[2m:\u001b[0m\u001b]8;id=756191;file:///home/klemen/luxonis/luxonis-train/luxonis_train/models/luxonis_lightning.py#977\u001b\\\u001b[2m977\u001b[0m\u001b]8;;\u001b\\\n"
      ]
     },
     "metadata": {},
     "output_type": "display_data"
    },
    {
     "data": {
      "text/html": [
       "<pre style=\"white-space:pre;overflow-x:auto;line-height:normal;font-family:Menlo,'DejaVu Sans Mono',consolas,'Courier New',monospace\"><span style=\"color: #800080; text-decoration-color: #800080; font-weight: bold\">────────────────────────────────────────────────────── </span>Test<span style=\"color: #800080; text-decoration-color: #800080; font-weight: bold\"> ───────────────────────────────────────────────────────</span>\n",
       "</pre>\n"
      ],
      "text/plain": [
       "\u001b[1;35m────────────────────────────────────────────────────── \u001b[0mTest\u001b[1;35m ───────────────────────────────────────────────────────\u001b[0m\n"
      ]
     },
     "metadata": {},
     "output_type": "display_data"
    },
    {
     "data": {
      "text/html": [
       "<pre style=\"white-space:pre;overflow-x:auto;line-height:normal;font-family:Menlo,'DejaVu Sans Mono',consolas,'Courier New',monospace\"><span style=\"color: #800080; text-decoration-color: #800080; font-weight: bold\">Loss:</span> <span style=\"color: #c0c0c0; text-decoration-color: #c0c0c0; font-weight: bold\">1.4542963057756424</span>\n",
       "</pre>\n"
      ],
      "text/plain": [
       "\u001b[1;35mLoss:\u001b[0m \u001b[1;37m1.4542963057756424\u001b[0m\n"
      ]
     },
     "metadata": {},
     "output_type": "display_data"
    },
    {
     "data": {
      "text/html": [
       "<pre style=\"white-space:pre;overflow-x:auto;line-height:normal;font-family:Menlo,'DejaVu Sans Mono',consolas,'Courier New',monospace\"><span style=\"color: #800080; text-decoration-color: #800080; font-weight: bold\">Metrics:</span>\n",
       "</pre>\n"
      ],
      "text/plain": [
       "\u001b[1;35mMetrics:\u001b[0m\n"
      ]
     },
     "metadata": {},
     "output_type": "display_data"
    },
    {
     "data": {
      "text/html": [
       "<pre style=\"white-space:pre;overflow-x:auto;line-height:normal;font-family:Menlo,'DejaVu Sans Mono',consolas,'Courier New',monospace\"><span style=\"font-style: italic\">       detection_head       </span>\n",
       "┏━━━━━━━━━━━━━━━┳━━━━━━━━━━┓\n",
       "┃<span style=\"color: #800080; text-decoration-color: #800080; font-weight: bold\"> Name          </span>┃<span style=\"color: #800080; text-decoration-color: #800080; font-weight: bold\"> Value    </span>┃\n",
       "┡━━━━━━━━━━━━━━━╇━━━━━━━━━━┩\n",
       "│<span style=\"color: #800080; text-decoration-color: #800080\"> detection_map </span>│<span style=\"color: #c0c0c0; text-decoration-color: #c0c0c0\"> 0.34228  </span>│\n",
       "│<span style=\"color: #800080; text-decoration-color: #800080\"> map_50        </span>│<span style=\"color: #c0c0c0; text-decoration-color: #c0c0c0\"> 0.61233  </span>│\n",
       "│<span style=\"color: #800080; text-decoration-color: #800080\"> map_75        </span>│<span style=\"color: #c0c0c0; text-decoration-color: #c0c0c0\"> 0.35792  </span>│\n",
       "│<span style=\"color: #800080; text-decoration-color: #800080\"> map_small     </span>│<span style=\"color: #c0c0c0; text-decoration-color: #c0c0c0\"> -1.00000 </span>│\n",
       "│<span style=\"color: #800080; text-decoration-color: #800080\"> map_medium    </span>│<span style=\"color: #c0c0c0; text-decoration-color: #c0c0c0\"> 0.10908  </span>│\n",
       "│<span style=\"color: #800080; text-decoration-color: #800080\"> map_large     </span>│<span style=\"color: #c0c0c0; text-decoration-color: #c0c0c0\"> 0.35900  </span>│\n",
       "│<span style=\"color: #800080; text-decoration-color: #800080\"> mar_1         </span>│<span style=\"color: #c0c0c0; text-decoration-color: #c0c0c0\"> 0.31421  </span>│\n",
       "│<span style=\"color: #800080; text-decoration-color: #800080\"> mar_10        </span>│<span style=\"color: #c0c0c0; text-decoration-color: #c0c0c0\"> 0.39095  </span>│\n",
       "│<span style=\"color: #800080; text-decoration-color: #800080\"> mar_100       </span>│<span style=\"color: #c0c0c0; text-decoration-color: #c0c0c0\"> 0.39095  </span>│\n",
       "│<span style=\"color: #800080; text-decoration-color: #800080\"> mar_small     </span>│<span style=\"color: #c0c0c0; text-decoration-color: #c0c0c0\"> -1.00000 </span>│\n",
       "│<span style=\"color: #800080; text-decoration-color: #800080\"> mar_medium    </span>│<span style=\"color: #c0c0c0; text-decoration-color: #c0c0c0\"> 0.20000  </span>│\n",
       "│<span style=\"color: #800080; text-decoration-color: #800080\"> mar_large     </span>│<span style=\"color: #c0c0c0; text-decoration-color: #c0c0c0\"> 0.40594  </span>│\n",
       "│<span style=\"color: #800080; text-decoration-color: #800080\"> f1_small      </span>│<span style=\"color: #c0c0c0; text-decoration-color: #c0c0c0\"> -1.00000 </span>│\n",
       "│<span style=\"color: #800080; text-decoration-color: #800080\"> f1_medium     </span>│<span style=\"color: #c0c0c0; text-decoration-color: #c0c0c0\"> 0.14116  </span>│\n",
       "│<span style=\"color: #800080; text-decoration-color: #800080\"> f1_large      </span>│<span style=\"color: #c0c0c0; text-decoration-color: #c0c0c0\"> 0.38103  </span>│\n",
       "└───────────────┴──────────┘\n",
       "</pre>\n"
      ],
      "text/plain": [
       "\u001b[3m       detection_head       \u001b[0m\n",
       "┏━━━━━━━━━━━━━━━┳━━━━━━━━━━┓\n",
       "┃\u001b[1;35m \u001b[0m\u001b[1;35mName         \u001b[0m\u001b[1;35m \u001b[0m┃\u001b[1;35m \u001b[0m\u001b[1;35mValue   \u001b[0m\u001b[1;35m \u001b[0m┃\n",
       "┡━━━━━━━━━━━━━━━╇━━━━━━━━━━┩\n",
       "│\u001b[35m \u001b[0m\u001b[35mdetection_map\u001b[0m\u001b[35m \u001b[0m│\u001b[37m \u001b[0m\u001b[37m0.34228 \u001b[0m\u001b[37m \u001b[0m│\n",
       "│\u001b[35m \u001b[0m\u001b[35mmap_50       \u001b[0m\u001b[35m \u001b[0m│\u001b[37m \u001b[0m\u001b[37m0.61233 \u001b[0m\u001b[37m \u001b[0m│\n",
       "│\u001b[35m \u001b[0m\u001b[35mmap_75       \u001b[0m\u001b[35m \u001b[0m│\u001b[37m \u001b[0m\u001b[37m0.35792 \u001b[0m\u001b[37m \u001b[0m│\n",
       "│\u001b[35m \u001b[0m\u001b[35mmap_small    \u001b[0m\u001b[35m \u001b[0m│\u001b[37m \u001b[0m\u001b[37m-1.00000\u001b[0m\u001b[37m \u001b[0m│\n",
       "│\u001b[35m \u001b[0m\u001b[35mmap_medium   \u001b[0m\u001b[35m \u001b[0m│\u001b[37m \u001b[0m\u001b[37m0.10908 \u001b[0m\u001b[37m \u001b[0m│\n",
       "│\u001b[35m \u001b[0m\u001b[35mmap_large    \u001b[0m\u001b[35m \u001b[0m│\u001b[37m \u001b[0m\u001b[37m0.35900 \u001b[0m\u001b[37m \u001b[0m│\n",
       "│\u001b[35m \u001b[0m\u001b[35mmar_1        \u001b[0m\u001b[35m \u001b[0m│\u001b[37m \u001b[0m\u001b[37m0.31421 \u001b[0m\u001b[37m \u001b[0m│\n",
       "│\u001b[35m \u001b[0m\u001b[35mmar_10       \u001b[0m\u001b[35m \u001b[0m│\u001b[37m \u001b[0m\u001b[37m0.39095 \u001b[0m\u001b[37m \u001b[0m│\n",
       "│\u001b[35m \u001b[0m\u001b[35mmar_100      \u001b[0m\u001b[35m \u001b[0m│\u001b[37m \u001b[0m\u001b[37m0.39095 \u001b[0m\u001b[37m \u001b[0m│\n",
       "│\u001b[35m \u001b[0m\u001b[35mmar_small    \u001b[0m\u001b[35m \u001b[0m│\u001b[37m \u001b[0m\u001b[37m-1.00000\u001b[0m\u001b[37m \u001b[0m│\n",
       "│\u001b[35m \u001b[0m\u001b[35mmar_medium   \u001b[0m\u001b[35m \u001b[0m│\u001b[37m \u001b[0m\u001b[37m0.20000 \u001b[0m\u001b[37m \u001b[0m│\n",
       "│\u001b[35m \u001b[0m\u001b[35mmar_large    \u001b[0m\u001b[35m \u001b[0m│\u001b[37m \u001b[0m\u001b[37m0.40594 \u001b[0m\u001b[37m \u001b[0m│\n",
       "│\u001b[35m \u001b[0m\u001b[35mf1_small     \u001b[0m\u001b[35m \u001b[0m│\u001b[37m \u001b[0m\u001b[37m-1.00000\u001b[0m\u001b[37m \u001b[0m│\n",
       "│\u001b[35m \u001b[0m\u001b[35mf1_medium    \u001b[0m\u001b[35m \u001b[0m│\u001b[37m \u001b[0m\u001b[37m0.14116 \u001b[0m\u001b[37m \u001b[0m│\n",
       "│\u001b[35m \u001b[0m\u001b[35mf1_large     \u001b[0m\u001b[35m \u001b[0m│\u001b[37m \u001b[0m\u001b[37m0.38103 \u001b[0m\u001b[37m \u001b[0m│\n",
       "└───────────────┴──────────┘\n"
      ]
     },
     "metadata": {},
     "output_type": "display_data"
    },
    {
     "data": {
      "text/html": [
       "<pre style=\"white-space:pre;overflow-x:auto;line-height:normal;font-family:Menlo,'DejaVu Sans Mono',consolas,'Courier New',monospace\"><span style=\"color: #800080; text-decoration-color: #800080; font-weight: bold\">───────────────────────────────────────────────────────────────────────────────────────────────────────────────────</span>\n",
       "</pre>\n"
      ],
      "text/plain": [
       "\u001b[1;35m───────────────────────────────────────────────────────────────────────────────────────────────────────────────────\u001b[0m\n"
      ]
     },
     "metadata": {},
     "output_type": "display_data"
    },
    {
     "data": {
      "text/html": [
       "<pre style=\"white-space:pre;overflow-x:auto;line-height:normal;font-family:Menlo,'DejaVu Sans Mono',consolas,'Courier New',monospace\"><span style=\"color: #008000; text-decoration-color: #008000\">INFO    </span> Test main metric <span style=\"font-weight: bold\">(</span>detection_head/detection_map<span style=\"font-weight: bold\">)</span>: <span style=\"color: #008080; text-decoration-color: #008080; font-weight: bold\">0.3423</span>                           <a href=\"file:///home/klemen/luxonis/luxonis-train/luxonis_train/models/luxonis_lightning.py\" target=\"_blank\"><span style=\"color: #7f7f7f; text-decoration-color: #7f7f7f\">luxonis_lightning.py</span></a><span style=\"color: #7f7f7f; text-decoration-color: #7f7f7f\">:</span><a href=\"file:///home/klemen/luxonis/luxonis-train/luxonis_train/models/luxonis_lightning.py#986\" target=\"_blank\"><span style=\"color: #7f7f7f; text-decoration-color: #7f7f7f\">986</span></a>\n",
       "</pre>\n"
      ],
      "text/plain": [
       "\u001b[32mINFO    \u001b[0m Test main metric \u001b[1m(\u001b[0mdetection_head/detection_map\u001b[1m)\u001b[0m: \u001b[1;36m0.3423\u001b[0m                           \u001b]8;id=86328;file:///home/klemen/luxonis/luxonis-train/luxonis_train/models/luxonis_lightning.py\u001b\\\u001b[2mluxonis_lightning.py\u001b[0m\u001b]8;;\u001b\\\u001b[2m:\u001b[0m\u001b]8;id=716761;file:///home/klemen/luxonis/luxonis-train/luxonis_train/models/luxonis_lightning.py#986\u001b\\\u001b[2m986\u001b[0m\u001b]8;;\u001b\\\n"
      ]
     },
     "metadata": {},
     "output_type": "display_data"
    },
    {
     "data": {
      "text/html": [
       "<pre style=\"white-space:pre;overflow-x:auto;line-height:normal;font-family:Menlo,'DejaVu Sans Mono',consolas,'Courier New',monospace\">┏━━━━━━━━━━━━━━━━━━━━━━━━━━━━━━━━━━━━━━━━━━━━━━━┳━━━━━━━━━━━━━━━━━━━━━━━━━━━━━━━━━━━━━━━━━━━━━━━┓\n",
       "┃<span style=\"font-weight: bold\">                  Test metric                  </span>┃<span style=\"font-weight: bold\">                 DataLoader 0                  </span>┃\n",
       "┡━━━━━━━━━━━━━━━━━━━━━━━━━━━━━━━━━━━━━━━━━━━━━━━╇━━━━━━━━━━━━━━━━━━━━━━━━━━━━━━━━━━━━━━━━━━━━━━━┩\n",
       "│<span style=\"color: #008080; text-decoration-color: #008080\">                   test/loss                   </span>│<span style=\"color: #800080; text-decoration-color: #800080\">               1.454296350479126               </span>│\n",
       "│<span style=\"color: #008080; text-decoration-color: #008080\">    test/loss/detection_head/detection_loss    </span>│<span style=\"color: #800080; text-decoration-color: #800080\">               1.454296350479126               </span>│\n",
       "│<span style=\"color: #008080; text-decoration-color: #008080\"> test/loss/detection_head/detection_loss/class </span>│<span style=\"color: #800080; text-decoration-color: #800080\">              0.8418028354644775               </span>│\n",
       "│<span style=\"color: #008080; text-decoration-color: #008080\">  test/loss/detection_head/detection_loss/iou  </span>│<span style=\"color: #800080; text-decoration-color: #800080\">              0.24499739706516266              </span>│\n",
       "│<span style=\"color: #008080; text-decoration-color: #008080\">   test/metric/detection_head/detection_map    </span>│<span style=\"color: #800080; text-decoration-color: #800080\">              0.3422822058200836               </span>│\n",
       "│<span style=\"color: #008080; text-decoration-color: #008080\">      test/metric/detection_head/f1_large      </span>│<span style=\"color: #800080; text-decoration-color: #800080\">              0.3810286223888397               </span>│\n",
       "│<span style=\"color: #008080; text-decoration-color: #008080\">     test/metric/detection_head/f1_medium      </span>│<span style=\"color: #800080; text-decoration-color: #800080\">              0.1411639153957367               </span>│\n",
       "│<span style=\"color: #008080; text-decoration-color: #008080\">      test/metric/detection_head/f1_small      </span>│<span style=\"color: #800080; text-decoration-color: #800080\">                     -1.0                      </span>│\n",
       "│<span style=\"color: #008080; text-decoration-color: #008080\">       test/metric/detection_head/map_50       </span>│<span style=\"color: #800080; text-decoration-color: #800080\">              0.6123259663581848               </span>│\n",
       "│<span style=\"color: #008080; text-decoration-color: #008080\">       test/metric/detection_head/map_75       </span>│<span style=\"color: #800080; text-decoration-color: #800080\">              0.3579201102256775               </span>│\n",
       "│<span style=\"color: #008080; text-decoration-color: #008080\">     test/metric/detection_head/map_large      </span>│<span style=\"color: #800080; text-decoration-color: #800080\">              0.3590008616447449               </span>│\n",
       "│<span style=\"color: #008080; text-decoration-color: #008080\">     test/metric/detection_head/map_medium     </span>│<span style=\"color: #800080; text-decoration-color: #800080\">              0.10907590389251709              </span>│\n",
       "│<span style=\"color: #008080; text-decoration-color: #008080\">     test/metric/detection_head/map_small      </span>│<span style=\"color: #800080; text-decoration-color: #800080\">                     -1.0                      </span>│\n",
       "│<span style=\"color: #008080; text-decoration-color: #008080\">       test/metric/detection_head/mar_1        </span>│<span style=\"color: #800080; text-decoration-color: #800080\">              0.3142063617706299               </span>│\n",
       "│<span style=\"color: #008080; text-decoration-color: #008080\">       test/metric/detection_head/mar_10       </span>│<span style=\"color: #800080; text-decoration-color: #800080\">              0.39095237851142883              </span>│\n",
       "│<span style=\"color: #008080; text-decoration-color: #008080\">      test/metric/detection_head/mar_100       </span>│<span style=\"color: #800080; text-decoration-color: #800080\">              0.39095237851142883              </span>│\n",
       "│<span style=\"color: #008080; text-decoration-color: #008080\">     test/metric/detection_head/mar_large      </span>│<span style=\"color: #800080; text-decoration-color: #800080\">              0.4059363007545471               </span>│\n",
       "│<span style=\"color: #008080; text-decoration-color: #008080\">     test/metric/detection_head/mar_medium     </span>│<span style=\"color: #800080; text-decoration-color: #800080\">              0.20000000298023224              </span>│\n",
       "│<span style=\"color: #008080; text-decoration-color: #008080\">     test/metric/detection_head/mar_small      </span>│<span style=\"color: #800080; text-decoration-color: #800080\">                     -1.0                      </span>│\n",
       "└───────────────────────────────────────────────┴───────────────────────────────────────────────┘\n",
       "</pre>\n"
      ],
      "text/plain": [
       "┏━━━━━━━━━━━━━━━━━━━━━━━━━━━━━━━━━━━━━━━━━━━━━━━┳━━━━━━━━━━━━━━━━━━━━━━━━━━━━━━━━━━━━━━━━━━━━━━━┓\n",
       "┃\u001b[1m \u001b[0m\u001b[1m                 Test metric                 \u001b[0m\u001b[1m \u001b[0m┃\u001b[1m \u001b[0m\u001b[1m                DataLoader 0                 \u001b[0m\u001b[1m \u001b[0m┃\n",
       "┡━━━━━━━━━━━━━━━━━━━━━━━━━━━━━━━━━━━━━━━━━━━━━━━╇━━━━━━━━━━━━━━━━━━━━━━━━━━━━━━━━━━━━━━━━━━━━━━━┩\n",
       "│\u001b[36m \u001b[0m\u001b[36m                  test/loss                  \u001b[0m\u001b[36m \u001b[0m│\u001b[35m \u001b[0m\u001b[35m              1.454296350479126              \u001b[0m\u001b[35m \u001b[0m│\n",
       "│\u001b[36m \u001b[0m\u001b[36m   test/loss/detection_head/detection_loss   \u001b[0m\u001b[36m \u001b[0m│\u001b[35m \u001b[0m\u001b[35m              1.454296350479126              \u001b[0m\u001b[35m \u001b[0m│\n",
       "│\u001b[36m \u001b[0m\u001b[36mtest/loss/detection_head/detection_loss/class\u001b[0m\u001b[36m \u001b[0m│\u001b[35m \u001b[0m\u001b[35m             0.8418028354644775              \u001b[0m\u001b[35m \u001b[0m│\n",
       "│\u001b[36m \u001b[0m\u001b[36m test/loss/detection_head/detection_loss/iou \u001b[0m\u001b[36m \u001b[0m│\u001b[35m \u001b[0m\u001b[35m             0.24499739706516266             \u001b[0m\u001b[35m \u001b[0m│\n",
       "│\u001b[36m \u001b[0m\u001b[36m  test/metric/detection_head/detection_map   \u001b[0m\u001b[36m \u001b[0m│\u001b[35m \u001b[0m\u001b[35m             0.3422822058200836              \u001b[0m\u001b[35m \u001b[0m│\n",
       "│\u001b[36m \u001b[0m\u001b[36m     test/metric/detection_head/f1_large     \u001b[0m\u001b[36m \u001b[0m│\u001b[35m \u001b[0m\u001b[35m             0.3810286223888397              \u001b[0m\u001b[35m \u001b[0m│\n",
       "│\u001b[36m \u001b[0m\u001b[36m    test/metric/detection_head/f1_medium     \u001b[0m\u001b[36m \u001b[0m│\u001b[35m \u001b[0m\u001b[35m             0.1411639153957367              \u001b[0m\u001b[35m \u001b[0m│\n",
       "│\u001b[36m \u001b[0m\u001b[36m     test/metric/detection_head/f1_small     \u001b[0m\u001b[36m \u001b[0m│\u001b[35m \u001b[0m\u001b[35m                    -1.0                     \u001b[0m\u001b[35m \u001b[0m│\n",
       "│\u001b[36m \u001b[0m\u001b[36m      test/metric/detection_head/map_50      \u001b[0m\u001b[36m \u001b[0m│\u001b[35m \u001b[0m\u001b[35m             0.6123259663581848              \u001b[0m\u001b[35m \u001b[0m│\n",
       "│\u001b[36m \u001b[0m\u001b[36m      test/metric/detection_head/map_75      \u001b[0m\u001b[36m \u001b[0m│\u001b[35m \u001b[0m\u001b[35m             0.3579201102256775              \u001b[0m\u001b[35m \u001b[0m│\n",
       "│\u001b[36m \u001b[0m\u001b[36m    test/metric/detection_head/map_large     \u001b[0m\u001b[36m \u001b[0m│\u001b[35m \u001b[0m\u001b[35m             0.3590008616447449              \u001b[0m\u001b[35m \u001b[0m│\n",
       "│\u001b[36m \u001b[0m\u001b[36m    test/metric/detection_head/map_medium    \u001b[0m\u001b[36m \u001b[0m│\u001b[35m \u001b[0m\u001b[35m             0.10907590389251709             \u001b[0m\u001b[35m \u001b[0m│\n",
       "│\u001b[36m \u001b[0m\u001b[36m    test/metric/detection_head/map_small     \u001b[0m\u001b[36m \u001b[0m│\u001b[35m \u001b[0m\u001b[35m                    -1.0                     \u001b[0m\u001b[35m \u001b[0m│\n",
       "│\u001b[36m \u001b[0m\u001b[36m      test/metric/detection_head/mar_1       \u001b[0m\u001b[36m \u001b[0m│\u001b[35m \u001b[0m\u001b[35m             0.3142063617706299              \u001b[0m\u001b[35m \u001b[0m│\n",
       "│\u001b[36m \u001b[0m\u001b[36m      test/metric/detection_head/mar_10      \u001b[0m\u001b[36m \u001b[0m│\u001b[35m \u001b[0m\u001b[35m             0.39095237851142883             \u001b[0m\u001b[35m \u001b[0m│\n",
       "│\u001b[36m \u001b[0m\u001b[36m     test/metric/detection_head/mar_100      \u001b[0m\u001b[36m \u001b[0m│\u001b[35m \u001b[0m\u001b[35m             0.39095237851142883             \u001b[0m\u001b[35m \u001b[0m│\n",
       "│\u001b[36m \u001b[0m\u001b[36m    test/metric/detection_head/mar_large     \u001b[0m\u001b[36m \u001b[0m│\u001b[35m \u001b[0m\u001b[35m             0.4059363007545471              \u001b[0m\u001b[35m \u001b[0m│\n",
       "│\u001b[36m \u001b[0m\u001b[36m    test/metric/detection_head/mar_medium    \u001b[0m\u001b[36m \u001b[0m│\u001b[35m \u001b[0m\u001b[35m             0.20000000298023224             \u001b[0m\u001b[35m \u001b[0m│\n",
       "│\u001b[36m \u001b[0m\u001b[36m    test/metric/detection_head/mar_small     \u001b[0m\u001b[36m \u001b[0m│\u001b[35m \u001b[0m\u001b[35m                    -1.0                     \u001b[0m\u001b[35m \u001b[0m│\n",
       "└───────────────────────────────────────────────┴───────────────────────────────────────────────┘\n"
      ]
     },
     "metadata": {},
     "output_type": "display_data"
    },
    {
     "data": {
      "text/html": [
       "<pre style=\"white-space:pre;overflow-x:auto;line-height:normal;font-family:Menlo,'DejaVu Sans Mono',consolas,'Courier New',monospace\"></pre>\n"
      ],
      "text/plain": []
     },
     "metadata": {},
     "output_type": "display_data"
    },
    {
     "data": {
      "text/html": [
       "<pre style=\"white-space:pre;overflow-x:auto;line-height:normal;font-family:Menlo,'DejaVu Sans Mono',consolas,'Courier New',monospace\">\n",
       "</pre>\n"
      ],
      "text/plain": [
       "\n"
      ]
     },
     "metadata": {},
     "output_type": "display_data"
    }
   ],
   "source": [
    "weights = luxonis_model.get_min_loss_checkpoint_path() # gets checkpoint where validation loss was the lowest\n",
    "# weights = luxonis_model.get_best_metric_checkpoint_path() # gets checkpoint where validation metric was the highest\n",
    "\n",
    "metrics = luxonis_model.test(view=\"test\", weights=weights)"
   ]
  },
  {
   "cell_type": "markdown",
   "metadata": {},
   "source": [
    "### 🧠 Infer"
   ]
  },
  {
   "cell_type": "markdown",
   "metadata": {},
   "source": [
    "Usually we also want to check qulitative performance of our model ie. how well does it visually predict on the test images. This is called inference and we can perform it either on one of the views (e.g. test) or on a random image, directory of images or whole video (for more details refer to the [docs](https://github.com/luxonis/luxonis-train/tree/main?tab=readme-ov-file#inference)). In our case we'll infer or test images."
   ]
  },
  {
   "cell_type": "code",
   "execution_count": 76,
   "metadata": {},
   "outputs": [
    {
     "name": "stderr",
     "output_type": "stream",
     "text": [
      "libpng warning: iCCP: known incorrect sRGB profile\n"
     ]
    },
    {
     "data": {
      "text/html": [
       "<pre style=\"white-space:pre;overflow-x:auto;line-height:normal;font-family:Menlo,'DejaVu Sans Mono',consolas,'Courier New',monospace\"><span style=\"color: #800000; text-decoration-color: #800000\">╭─────────────────────────────── </span><span style=\"color: #800000; text-decoration-color: #800000; font-weight: bold\">Traceback </span><span style=\"color: #bf7f7f; text-decoration-color: #bf7f7f; font-weight: bold\">(most recent call last)</span><span style=\"color: #800000; text-decoration-color: #800000\"> ────────────────────────────────╮</span>\n",
       "<span style=\"color: #800000; text-decoration-color: #800000\">│</span> in <span style=\"color: #00ff00; text-decoration-color: #00ff00\">&lt;module&gt;</span>:<span style=\"color: #0000ff; text-decoration-color: #0000ff\">1</span>                                                                                    <span style=\"color: #800000; text-decoration-color: #800000\">│</span>\n",
       "<span style=\"color: #800000; text-decoration-color: #800000\">│</span>                                                                                                  <span style=\"color: #800000; text-decoration-color: #800000\">│</span>\n",
       "<span style=\"color: #800000; text-decoration-color: #800000\">│</span> <span style=\"color: #800000; text-decoration-color: #800000\">❱ </span>1 luxonis_model.infer(                                                                         <span style=\"color: #800000; text-decoration-color: #800000\">│</span>\n",
       "<span style=\"color: #800000; text-decoration-color: #800000\">│</span>   <span style=\"color: #7f7f7f; text-decoration-color: #7f7f7f\">2 </span><span style=\"color: #7f7f7f; text-decoration-color: #7f7f7f\">│   </span>weights=weights,                                                                         <span style=\"color: #800000; text-decoration-color: #800000\">│</span>\n",
       "<span style=\"color: #800000; text-decoration-color: #800000\">│</span>   <span style=\"color: #7f7f7f; text-decoration-color: #7f7f7f\">3 </span><span style=\"color: #7f7f7f; text-decoration-color: #7f7f7f\">│   </span>view=<span style=\"color: #808000; text-decoration-color: #808000\">\"test\"</span>                                                                              <span style=\"color: #800000; text-decoration-color: #800000\">│</span>\n",
       "<span style=\"color: #800000; text-decoration-color: #800000\">│</span>   <span style=\"color: #7f7f7f; text-decoration-color: #7f7f7f\">4 </span>)                                                                                            <span style=\"color: #800000; text-decoration-color: #800000\">│</span>\n",
       "<span style=\"color: #800000; text-decoration-color: #800000\">│</span>                                                                                                  <span style=\"color: #800000; text-decoration-color: #800000\">│</span>\n",
       "<span style=\"color: #800000; text-decoration-color: #800000\">│</span> <span style=\"color: #bfbf7f; text-decoration-color: #bfbf7f\">/home/klemen/luxonis/luxonis-train/luxonis_train/core/</span><span style=\"color: #808000; text-decoration-color: #808000; font-weight: bold\">core.py</span>:<span style=\"color: #0000ff; text-decoration-color: #0000ff\">493</span> in <span style=\"color: #00ff00; text-decoration-color: #00ff00\">infer</span>                       <span style=\"color: #800000; text-decoration-color: #800000\">│</span>\n",
       "<span style=\"color: #800000; text-decoration-color: #800000\">│</span>                                                                                                  <span style=\"color: #800000; text-decoration-color: #800000\">│</span>\n",
       "<span style=\"color: #800000; text-decoration-color: #800000\">│</span>   <span style=\"color: #7f7f7f; text-decoration-color: #7f7f7f\">490 </span><span style=\"color: #7f7f7f; text-decoration-color: #7f7f7f\">│   │   │   │   │   │   </span><span style=\"color: #808000; text-decoration-color: #808000\">f\"Source path {</span>source_path<span style=\"color: #808000; text-decoration-color: #808000\">} is not a valid file or directory.\"</span>     <span style=\"color: #800000; text-decoration-color: #800000\">│</span>\n",
       "<span style=\"color: #800000; text-decoration-color: #800000\">│</span>   <span style=\"color: #7f7f7f; text-decoration-color: #7f7f7f\">491 </span><span style=\"color: #7f7f7f; text-decoration-color: #7f7f7f\">│   │   │   │   │   </span>)                                                                      <span style=\"color: #800000; text-decoration-color: #800000\">│</span>\n",
       "<span style=\"color: #800000; text-decoration-color: #800000\">│</span>   <span style=\"color: #7f7f7f; text-decoration-color: #7f7f7f\">492 </span><span style=\"color: #7f7f7f; text-decoration-color: #7f7f7f\">│   │   │   </span><span style=\"color: #0000ff; text-decoration-color: #0000ff\">else</span>:                                                                          <span style=\"color: #800000; text-decoration-color: #800000\">│</span>\n",
       "<span style=\"color: #800000; text-decoration-color: #800000\">│</span> <span style=\"color: #800000; text-decoration-color: #800000\">❱ </span>493 <span style=\"color: #7f7f7f; text-decoration-color: #7f7f7f\">│   │   │   │   </span>infer_from_dataset(<span style=\"color: #00ffff; text-decoration-color: #00ffff\">self</span>, view, save_dir)                                   <span style=\"color: #800000; text-decoration-color: #800000\">│</span>\n",
       "<span style=\"color: #800000; text-decoration-color: #800000\">│</span>   <span style=\"color: #7f7f7f; text-decoration-color: #7f7f7f\">494 </span><span style=\"color: #7f7f7f; text-decoration-color: #7f7f7f\">│   </span>                                                                                       <span style=\"color: #800000; text-decoration-color: #800000\">│</span>\n",
       "<span style=\"color: #800000; text-decoration-color: #800000\">│</span>   <span style=\"color: #7f7f7f; text-decoration-color: #7f7f7f\">495 </span><span style=\"color: #7f7f7f; text-decoration-color: #7f7f7f\">│   </span><span style=\"color: #0000ff; text-decoration-color: #0000ff\">def</span> <span style=\"color: #00ff00; text-decoration-color: #00ff00\">tune</span>(<span style=\"color: #00ffff; text-decoration-color: #00ffff\">self</span>) -&gt; <span style=\"color: #0000ff; text-decoration-color: #0000ff\">None</span>:                                                                <span style=\"color: #800000; text-decoration-color: #800000\">│</span>\n",
       "<span style=\"color: #800000; text-decoration-color: #800000\">│</span>   <span style=\"color: #7f7f7f; text-decoration-color: #7f7f7f\">496 </span><span style=\"color: #bfbfbf; text-decoration-color: #bfbfbf\">│   │   </span><span style=\"color: #808000; text-decoration-color: #808000\">\"\"\"Runs Optuna tuning of hyperparameters.\"\"\"</span>                                       <span style=\"color: #800000; text-decoration-color: #800000\">│</span>\n",
       "<span style=\"color: #800000; text-decoration-color: #800000\">│</span>                                                                                                  <span style=\"color: #800000; text-decoration-color: #800000\">│</span>\n",
       "<span style=\"color: #800000; text-decoration-color: #800000\">│</span> <span style=\"color: #bfbf7f; text-decoration-color: #bfbf7f\">/home/klemen/luxonis/luxonis-train/luxonis_train/core/utils/</span><span style=\"color: #808000; text-decoration-color: #808000; font-weight: bold\">infer_utils.py</span>:<span style=\"color: #0000ff; text-decoration-color: #0000ff\">183</span> in                <span style=\"color: #800000; text-decoration-color: #800000\">│</span>\n",
       "<span style=\"color: #800000; text-decoration-color: #800000\">│</span> <span style=\"color: #00ff00; text-decoration-color: #00ff00\">infer_from_dataset</span>                                                                               <span style=\"color: #800000; text-decoration-color: #800000\">│</span>\n",
       "<span style=\"color: #800000; text-decoration-color: #800000\">│</span>                                                                                                  <span style=\"color: #800000; text-decoration-color: #800000\">│</span>\n",
       "<span style=\"color: #800000; text-decoration-color: #800000\">│</span>   <span style=\"color: #7f7f7f; text-decoration-color: #7f7f7f\">180 </span><span style=\"color: #7f7f7f; text-decoration-color: #7f7f7f\">│   │   </span>                                                                                   <span style=\"color: #800000; text-decoration-color: #800000\">│</span>\n",
       "<span style=\"color: #800000; text-decoration-color: #800000\">│</span>   <span style=\"color: #7f7f7f; text-decoration-color: #7f7f7f\">181 </span><span style=\"color: #7f7f7f; text-decoration-color: #7f7f7f\">│   │   </span>images = get_denormalized_images(model.cfg, inputs)                                <span style=\"color: #800000; text-decoration-color: #800000\">│</span>\n",
       "<span style=\"color: #800000; text-decoration-color: #800000\">│</span>   <span style=\"color: #7f7f7f; text-decoration-color: #7f7f7f\">182 </span><span style=\"color: #7f7f7f; text-decoration-color: #7f7f7f\">│   │   </span>batch_size = images.shape[<span style=\"color: #0000ff; text-decoration-color: #0000ff\">0</span>]                                                       <span style=\"color: #800000; text-decoration-color: #800000\">│</span>\n",
       "<span style=\"color: #800000; text-decoration-color: #800000\">│</span> <span style=\"color: #800000; text-decoration-color: #800000\">❱ </span>183 <span style=\"color: #7f7f7f; text-decoration-color: #7f7f7f\">│   │   </span>outputs = model.lightning_module.forward(                                          <span style=\"color: #800000; text-decoration-color: #800000\">│</span>\n",
       "<span style=\"color: #800000; text-decoration-color: #800000\">│</span>   <span style=\"color: #7f7f7f; text-decoration-color: #7f7f7f\">184 </span><span style=\"color: #7f7f7f; text-decoration-color: #7f7f7f\">│   │   │   </span>inputs, labels, images=images, compute_visualizations=<span style=\"color: #0000ff; text-decoration-color: #0000ff\">True</span>                     <span style=\"color: #800000; text-decoration-color: #800000\">│</span>\n",
       "<span style=\"color: #800000; text-decoration-color: #800000\">│</span>   <span style=\"color: #7f7f7f; text-decoration-color: #7f7f7f\">185 </span><span style=\"color: #7f7f7f; text-decoration-color: #7f7f7f\">│   │   </span>)                                                                                  <span style=\"color: #800000; text-decoration-color: #800000\">│</span>\n",
       "<span style=\"color: #800000; text-decoration-color: #800000\">│</span>   <span style=\"color: #7f7f7f; text-decoration-color: #7f7f7f\">186 </span><span style=\"color: #7f7f7f; text-decoration-color: #7f7f7f\">│   │   </span>renders = process_visualizations(                                                  <span style=\"color: #800000; text-decoration-color: #800000\">│</span>\n",
       "<span style=\"color: #800000; text-decoration-color: #800000\">│</span>                                                                                                  <span style=\"color: #800000; text-decoration-color: #800000\">│</span>\n",
       "<span style=\"color: #800000; text-decoration-color: #800000\">│</span> <span style=\"color: #bfbf7f; text-decoration-color: #bfbf7f\">/home/klemen/luxonis/luxonis-train/luxonis_train/models/</span><span style=\"color: #808000; text-decoration-color: #808000; font-weight: bold\">luxonis_lightning.py</span>:<span style=\"color: #0000ff; text-decoration-color: #0000ff\">404</span> in <span style=\"color: #00ff00; text-decoration-color: #00ff00\">forward</span>      <span style=\"color: #800000; text-decoration-color: #800000\">│</span>\n",
       "<span style=\"color: #800000; text-decoration-color: #800000\">│</span>                                                                                                  <span style=\"color: #800000; text-decoration-color: #800000\">│</span>\n",
       "<span style=\"color: #800000; text-decoration-color: #800000\">│</span>   <span style=\"color: #7f7f7f; text-decoration-color: #7f7f7f\"> 401 </span><span style=\"color: #7f7f7f; text-decoration-color: #7f7f7f\">│   │   │   │   </span><span style=\"color: #ff00ff; text-decoration-color: #ff00ff\">and</span> labels <span style=\"color: #ff00ff; text-decoration-color: #ff00ff\">is</span> <span style=\"color: #ff00ff; text-decoration-color: #ff00ff\">not</span> <span style=\"color: #0000ff; text-decoration-color: #0000ff\">None</span>                                                    <span style=\"color: #800000; text-decoration-color: #800000\">│</span>\n",
       "<span style=\"color: #800000; text-decoration-color: #800000\">│</span>   <span style=\"color: #7f7f7f; text-decoration-color: #7f7f7f\"> 402 </span><span style=\"color: #7f7f7f; text-decoration-color: #7f7f7f\">│   │   │   </span>):                                                                            <span style=\"color: #800000; text-decoration-color: #800000\">│</span>\n",
       "<span style=\"color: #800000; text-decoration-color: #800000\">│</span>   <span style=\"color: #7f7f7f; text-decoration-color: #7f7f7f\"> 403 </span><span style=\"color: #7f7f7f; text-decoration-color: #7f7f7f\">│   │   │   │   </span><span style=\"color: #0000ff; text-decoration-color: #0000ff\">for</span> loss_name, loss <span style=\"color: #ff00ff; text-decoration-color: #ff00ff\">in</span> <span style=\"color: #00ffff; text-decoration-color: #00ffff\">self</span>.losses[node_name].items():                    <span style=\"color: #800000; text-decoration-color: #800000\">│</span>\n",
       "<span style=\"color: #800000; text-decoration-color: #800000\">│</span> <span style=\"color: #800000; text-decoration-color: #800000\">❱ </span> 404 <span style=\"color: #7f7f7f; text-decoration-color: #7f7f7f\">│   │   │   │   │   </span>losses[node_name][loss_name] = loss.run(outputs, labels)              <span style=\"color: #800000; text-decoration-color: #800000\">│</span>\n",
       "<span style=\"color: #800000; text-decoration-color: #800000\">│</span>   <span style=\"color: #7f7f7f; text-decoration-color: #7f7f7f\"> 405 </span><span style=\"color: #7f7f7f; text-decoration-color: #7f7f7f\">│   │   │   </span>                                                                              <span style=\"color: #800000; text-decoration-color: #800000\">│</span>\n",
       "<span style=\"color: #800000; text-decoration-color: #800000\">│</span>   <span style=\"color: #7f7f7f; text-decoration-color: #7f7f7f\"> 406 </span><span style=\"color: #7f7f7f; text-decoration-color: #7f7f7f\">│   │   │   </span><span style=\"color: #0000ff; text-decoration-color: #0000ff\">if</span> (                                                                          <span style=\"color: #800000; text-decoration-color: #800000\">│</span>\n",
       "<span style=\"color: #800000; text-decoration-color: #800000\">│</span>   <span style=\"color: #7f7f7f; text-decoration-color: #7f7f7f\"> 407 </span><span style=\"color: #7f7f7f; text-decoration-color: #7f7f7f\">│   │   │   │   </span>compute_metrics                                                           <span style=\"color: #800000; text-decoration-color: #800000\">│</span>\n",
       "<span style=\"color: #800000; text-decoration-color: #800000\">│</span>                                                                                                  <span style=\"color: #800000; text-decoration-color: #800000\">│</span>\n",
       "<span style=\"color: #800000; text-decoration-color: #800000\">│</span> <span style=\"color: #bfbf7f; text-decoration-color: #bfbf7f\">/home/klemen/luxonis/luxonis-train/luxonis_train/attached_modules/losses/</span><span style=\"color: #808000; text-decoration-color: #808000; font-weight: bold\">base_loss.py</span>:<span style=\"color: #0000ff; text-decoration-color: #0000ff\">58</span> in <span style=\"color: #00ff00; text-decoration-color: #00ff00\">run</span>  <span style=\"color: #800000; text-decoration-color: #800000\">│</span>\n",
       "<span style=\"color: #800000; text-decoration-color: #800000\">│</span>                                                                                                  <span style=\"color: #800000; text-decoration-color: #800000\">│</span>\n",
       "<span style=\"color: #800000; text-decoration-color: #800000\">│</span>   <span style=\"color: #7f7f7f; text-decoration-color: #7f7f7f\">55 </span><span style=\"color: #bfbf7f; text-decoration-color: #bfbf7f\">│   │   </span><span style=\"color: #808000; text-decoration-color: #808000\">@raises IncompatibleException: If the inputs are not compatible</span>                     <span style=\"color: #800000; text-decoration-color: #800000\">│</span>\n",
       "<span style=\"color: #800000; text-decoration-color: #800000\">│</span>   <span style=\"color: #7f7f7f; text-decoration-color: #7f7f7f\">56 </span><span style=\"color: #bfbf7f; text-decoration-color: #bfbf7f\">│   │   │   </span><span style=\"color: #808000; text-decoration-color: #808000\">with the module.</span>                                                                <span style=\"color: #800000; text-decoration-color: #800000\">│</span>\n",
       "<span style=\"color: #800000; text-decoration-color: #800000\">│</span>   <span style=\"color: #7f7f7f; text-decoration-color: #7f7f7f\">57 </span><span style=\"color: #bfbf7f; text-decoration-color: #bfbf7f\">│   │   </span><span style=\"color: #808000; text-decoration-color: #808000\">\"\"\"</span>                                                                                 <span style=\"color: #800000; text-decoration-color: #800000\">│</span>\n",
       "<span style=\"color: #800000; text-decoration-color: #800000\">│</span> <span style=\"color: #800000; text-decoration-color: #800000\">❱ </span>58 <span style=\"color: #7f7f7f; text-decoration-color: #7f7f7f\">│   │   </span><span style=\"color: #0000ff; text-decoration-color: #0000ff\">return</span> <span style=\"color: #00ffff; text-decoration-color: #00ffff\">self</span>(*<span style=\"color: #00ffff; text-decoration-color: #00ffff\">self</span>.prepare(inputs, labels))                                          <span style=\"color: #800000; text-decoration-color: #800000\">│</span>\n",
       "<span style=\"color: #800000; text-decoration-color: #800000\">│</span>   <span style=\"color: #7f7f7f; text-decoration-color: #7f7f7f\">59 </span>                                                                                            <span style=\"color: #800000; text-decoration-color: #800000\">│</span>\n",
       "<span style=\"color: #800000; text-decoration-color: #800000\">│</span>                                                                                                  <span style=\"color: #800000; text-decoration-color: #800000\">│</span>\n",
       "<span style=\"color: #800000; text-decoration-color: #800000\">│</span> <span style=\"color: #bfbf7f; text-decoration-color: #bfbf7f\">/home/klemen/luxonis/luxonis-train/luxonis_train/attached_modules/losses/</span><span style=\"color: #808000; text-decoration-color: #808000; font-weight: bold\">adaptive_detection_loss</span> <span style=\"color: #800000; text-decoration-color: #800000\">│</span>\n",
       "<span style=\"color: #800000; text-decoration-color: #800000\">│</span> <span style=\"color: #808000; text-decoration-color: #808000; font-weight: bold\">.py</span>:<span style=\"color: #0000ff; text-decoration-color: #0000ff\">97</span> in <span style=\"color: #00ff00; text-decoration-color: #00ff00\">prepare</span>                                                                                <span style=\"color: #800000; text-decoration-color: #800000\">│</span>\n",
       "<span style=\"color: #800000; text-decoration-color: #800000\">│</span>                                                                                                  <span style=\"color: #800000; text-decoration-color: #800000\">│</span>\n",
       "<span style=\"color: #800000; text-decoration-color: #800000\">│</span>   <span style=\"color: #7f7f7f; text-decoration-color: #7f7f7f\"> 94 </span><span style=\"color: #7f7f7f; text-decoration-color: #7f7f7f\">│   │   </span>                                                                                   <span style=\"color: #800000; text-decoration-color: #800000\">│</span>\n",
       "<span style=\"color: #800000; text-decoration-color: #800000\">│</span>   <span style=\"color: #7f7f7f; text-decoration-color: #7f7f7f\"> 95 </span><span style=\"color: #7f7f7f; text-decoration-color: #7f7f7f\">│   │   </span><span style=\"color: #00ffff; text-decoration-color: #00ffff\">self</span>._init_parameters(feats)                                                       <span style=\"color: #800000; text-decoration-color: #800000\">│</span>\n",
       "<span style=\"color: #800000; text-decoration-color: #800000\">│</span>   <span style=\"color: #7f7f7f; text-decoration-color: #7f7f7f\"> 96 </span><span style=\"color: #7f7f7f; text-decoration-color: #7f7f7f\">│   │   </span>                                                                                   <span style=\"color: #800000; text-decoration-color: #800000\">│</span>\n",
       "<span style=\"color: #800000; text-decoration-color: #800000\">│</span> <span style=\"color: #800000; text-decoration-color: #800000\">❱ </span> 97 <span style=\"color: #7f7f7f; text-decoration-color: #7f7f7f\">│   │   </span>target = <span style=\"color: #00ffff; text-decoration-color: #00ffff\">self</span>._preprocess_bbox_target(target, batch_size)                          <span style=\"color: #800000; text-decoration-color: #800000\">│</span>\n",
       "<span style=\"color: #800000; text-decoration-color: #800000\">│</span>   <span style=\"color: #7f7f7f; text-decoration-color: #7f7f7f\"> 98 </span><span style=\"color: #7f7f7f; text-decoration-color: #7f7f7f\">│   │   </span>pred_bboxes = dist2bbox(pred_distri, <span style=\"color: #00ffff; text-decoration-color: #00ffff\">self</span>.anchor_points_strided)                   <span style=\"color: #800000; text-decoration-color: #800000\">│</span>\n",
       "<span style=\"color: #800000; text-decoration-color: #800000\">│</span>   <span style=\"color: #7f7f7f; text-decoration-color: #7f7f7f\"> 99 </span><span style=\"color: #7f7f7f; text-decoration-color: #7f7f7f\">│   │   </span>                                                                                   <span style=\"color: #800000; text-decoration-color: #800000\">│</span>\n",
       "<span style=\"color: #800000; text-decoration-color: #800000\">│</span>   <span style=\"color: #7f7f7f; text-decoration-color: #7f7f7f\">100 </span><span style=\"color: #7f7f7f; text-decoration-color: #7f7f7f\">│   │   </span>gt_labels = target[:, :, :<span style=\"color: #0000ff; text-decoration-color: #0000ff\">1</span>]                                                       <span style=\"color: #800000; text-decoration-color: #800000\">│</span>\n",
       "<span style=\"color: #800000; text-decoration-color: #800000\">│</span>                                                                                                  <span style=\"color: #800000; text-decoration-color: #800000\">│</span>\n",
       "<span style=\"color: #800000; text-decoration-color: #800000\">│</span> <span style=\"color: #bfbf7f; text-decoration-color: #bfbf7f\">/home/klemen/luxonis/luxonis-train/luxonis_train/attached_modules/losses/</span><span style=\"color: #808000; text-decoration-color: #808000; font-weight: bold\">adaptive_detection_loss</span> <span style=\"color: #800000; text-decoration-color: #800000\">│</span>\n",
       "<span style=\"color: #800000; text-decoration-color: #800000\">│</span> <span style=\"color: #808000; text-decoration-color: #808000; font-weight: bold\">.py</span>:<span style=\"color: #0000ff; text-decoration-color: #0000ff\">234</span> in <span style=\"color: #00ff00; text-decoration-color: #00ff00\">_preprocess_bbox_target</span>                                                               <span style=\"color: #800000; text-decoration-color: #800000\">│</span>\n",
       "<span style=\"color: #800000; text-decoration-color: #800000\">│</span>                                                                                                  <span style=\"color: #800000; text-decoration-color: #800000\">│</span>\n",
       "<span style=\"color: #800000; text-decoration-color: #800000\">│</span>   <span style=\"color: #7f7f7f; text-decoration-color: #7f7f7f\">231 </span><span style=\"color: #7f7f7f; text-decoration-color: #7f7f7f\">│   │   </span><span style=\"color: #0000ff; text-decoration-color: #0000ff\">for</span> <span style=\"color: #00ffff; text-decoration-color: #00ffff\">id</span>, count <span style=\"color: #ff00ff; text-decoration-color: #ff00ff\">in</span> <span style=\"color: #00ffff; text-decoration-color: #00ffff\">zip</span>(sample_ids, counts):                                          <span style=\"color: #800000; text-decoration-color: #800000\">│</span>\n",
       "<span style=\"color: #800000; text-decoration-color: #800000\">│</span>   <span style=\"color: #7f7f7f; text-decoration-color: #7f7f7f\">232 </span><span style=\"color: #7f7f7f; text-decoration-color: #7f7f7f\">│   │   │   </span>out_target[<span style=\"color: #00ffff; text-decoration-color: #00ffff\">id</span>, :count] = target[target[:, <span style=\"color: #0000ff; text-decoration-color: #0000ff\">0</span>] == <span style=\"color: #00ffff; text-decoration-color: #00ffff\">id</span>][:, <span style=\"color: #0000ff; text-decoration-color: #0000ff\">1</span>:]                     <span style=\"color: #800000; text-decoration-color: #800000\">│</span>\n",
       "<span style=\"color: #800000; text-decoration-color: #800000\">│</span>   <span style=\"color: #7f7f7f; text-decoration-color: #7f7f7f\">233 </span><span style=\"color: #7f7f7f; text-decoration-color: #7f7f7f\">│   │   </span>                                                                                   <span style=\"color: #800000; text-decoration-color: #800000\">│</span>\n",
       "<span style=\"color: #800000; text-decoration-color: #800000\">│</span> <span style=\"color: #800000; text-decoration-color: #800000\">❱ </span>234 <span style=\"color: #7f7f7f; text-decoration-color: #7f7f7f\">│   │   </span>scaled_target = out_target[:, :, <span style=\"color: #0000ff; text-decoration-color: #0000ff\">1</span>:<span style=\"color: #0000ff; text-decoration-color: #0000ff\">5</span>] * <span style=\"color: #00ffff; text-decoration-color: #00ffff\">self</span>.gt_bboxes_scale                       <span style=\"color: #800000; text-decoration-color: #800000\">│</span>\n",
       "<span style=\"color: #800000; text-decoration-color: #800000\">│</span>   <span style=\"color: #7f7f7f; text-decoration-color: #7f7f7f\">235 </span><span style=\"color: #7f7f7f; text-decoration-color: #7f7f7f\">│   │   </span>out_target[..., <span style=\"color: #0000ff; text-decoration-color: #0000ff\">1</span>:] = box_convert(scaled_target, <span style=\"color: #808000; text-decoration-color: #808000\">\"xywh\"</span>, <span style=\"color: #808000; text-decoration-color: #808000\">\"xyxy\"</span>)                   <span style=\"color: #800000; text-decoration-color: #800000\">│</span>\n",
       "<span style=\"color: #800000; text-decoration-color: #800000\">│</span>   <span style=\"color: #7f7f7f; text-decoration-color: #7f7f7f\">236 </span><span style=\"color: #7f7f7f; text-decoration-color: #7f7f7f\">│   │   </span><span style=\"color: #0000ff; text-decoration-color: #0000ff\">return</span> out_target                                                                  <span style=\"color: #800000; text-decoration-color: #800000\">│</span>\n",
       "<span style=\"color: #800000; text-decoration-color: #800000\">│</span>   <span style=\"color: #7f7f7f; text-decoration-color: #7f7f7f\">237 </span>                                                                                           <span style=\"color: #800000; text-decoration-color: #800000\">│</span>\n",
       "<span style=\"color: #800000; text-decoration-color: #800000\">╰──────────────────────────────────────────────────────────────────────────────────────────────────╯</span>\n",
       "<span style=\"color: #ff0000; text-decoration-color: #ff0000; font-weight: bold\">RuntimeError: </span>Expected all tensors to be on the same device, but found at least two devices, cu<span style=\"color: #00ff00; text-decoration-color: #00ff00; font-weight: bold\">da:0</span> and cpu!\n",
       "</pre>\n"
      ],
      "text/plain": [
       "\u001b[31m╭─\u001b[0m\u001b[31m──────────────────────────────\u001b[0m\u001b[31m \u001b[0m\u001b[1;31mTraceback \u001b[0m\u001b[1;2;31m(most recent call last)\u001b[0m\u001b[31m \u001b[0m\u001b[31m───────────────────────────────\u001b[0m\u001b[31m─╮\u001b[0m\n",
       "\u001b[31m│\u001b[0m in \u001b[92m<module>\u001b[0m:\u001b[94m1\u001b[0m                                                                                    \u001b[31m│\u001b[0m\n",
       "\u001b[31m│\u001b[0m                                                                                                  \u001b[31m│\u001b[0m\n",
       "\u001b[31m│\u001b[0m \u001b[31m❱ \u001b[0m1 luxonis_model.infer(                                                                         \u001b[31m│\u001b[0m\n",
       "\u001b[31m│\u001b[0m   \u001b[2m2 \u001b[0m\u001b[2m│   \u001b[0mweights=weights,                                                                         \u001b[31m│\u001b[0m\n",
       "\u001b[31m│\u001b[0m   \u001b[2m3 \u001b[0m\u001b[2m│   \u001b[0mview=\u001b[33m\"\u001b[0m\u001b[33mtest\u001b[0m\u001b[33m\"\u001b[0m                                                                              \u001b[31m│\u001b[0m\n",
       "\u001b[31m│\u001b[0m   \u001b[2m4 \u001b[0m)                                                                                            \u001b[31m│\u001b[0m\n",
       "\u001b[31m│\u001b[0m                                                                                                  \u001b[31m│\u001b[0m\n",
       "\u001b[31m│\u001b[0m \u001b[2;33m/home/klemen/luxonis/luxonis-train/luxonis_train/core/\u001b[0m\u001b[1;33mcore.py\u001b[0m:\u001b[94m493\u001b[0m in \u001b[92minfer\u001b[0m                       \u001b[31m│\u001b[0m\n",
       "\u001b[31m│\u001b[0m                                                                                                  \u001b[31m│\u001b[0m\n",
       "\u001b[31m│\u001b[0m   \u001b[2m490 \u001b[0m\u001b[2m│   │   │   │   │   │   \u001b[0m\u001b[33mf\u001b[0m\u001b[33m\"\u001b[0m\u001b[33mSource path \u001b[0m\u001b[33m{\u001b[0msource_path\u001b[33m}\u001b[0m\u001b[33m is not a valid file or directory.\u001b[0m\u001b[33m\"\u001b[0m     \u001b[31m│\u001b[0m\n",
       "\u001b[31m│\u001b[0m   \u001b[2m491 \u001b[0m\u001b[2m│   │   │   │   │   \u001b[0m)                                                                      \u001b[31m│\u001b[0m\n",
       "\u001b[31m│\u001b[0m   \u001b[2m492 \u001b[0m\u001b[2m│   │   │   \u001b[0m\u001b[94melse\u001b[0m:                                                                          \u001b[31m│\u001b[0m\n",
       "\u001b[31m│\u001b[0m \u001b[31m❱ \u001b[0m493 \u001b[2m│   │   │   │   \u001b[0minfer_from_dataset(\u001b[96mself\u001b[0m, view, save_dir)                                   \u001b[31m│\u001b[0m\n",
       "\u001b[31m│\u001b[0m   \u001b[2m494 \u001b[0m\u001b[2m│   \u001b[0m                                                                                       \u001b[31m│\u001b[0m\n",
       "\u001b[31m│\u001b[0m   \u001b[2m495 \u001b[0m\u001b[2m│   \u001b[0m\u001b[94mdef\u001b[0m \u001b[92mtune\u001b[0m(\u001b[96mself\u001b[0m) -> \u001b[94mNone\u001b[0m:                                                                \u001b[31m│\u001b[0m\n",
       "\u001b[31m│\u001b[0m   \u001b[2m496 \u001b[0m\u001b[2;90m│   │   \u001b[0m\u001b[33m\"\"\"Runs Optuna tuning of hyperparameters.\"\"\"\u001b[0m                                       \u001b[31m│\u001b[0m\n",
       "\u001b[31m│\u001b[0m                                                                                                  \u001b[31m│\u001b[0m\n",
       "\u001b[31m│\u001b[0m \u001b[2;33m/home/klemen/luxonis/luxonis-train/luxonis_train/core/utils/\u001b[0m\u001b[1;33minfer_utils.py\u001b[0m:\u001b[94m183\u001b[0m in                \u001b[31m│\u001b[0m\n",
       "\u001b[31m│\u001b[0m \u001b[92minfer_from_dataset\u001b[0m                                                                               \u001b[31m│\u001b[0m\n",
       "\u001b[31m│\u001b[0m                                                                                                  \u001b[31m│\u001b[0m\n",
       "\u001b[31m│\u001b[0m   \u001b[2m180 \u001b[0m\u001b[2m│   │   \u001b[0m                                                                                   \u001b[31m│\u001b[0m\n",
       "\u001b[31m│\u001b[0m   \u001b[2m181 \u001b[0m\u001b[2m│   │   \u001b[0mimages = get_denormalized_images(model.cfg, inputs)                                \u001b[31m│\u001b[0m\n",
       "\u001b[31m│\u001b[0m   \u001b[2m182 \u001b[0m\u001b[2m│   │   \u001b[0mbatch_size = images.shape[\u001b[94m0\u001b[0m]                                                       \u001b[31m│\u001b[0m\n",
       "\u001b[31m│\u001b[0m \u001b[31m❱ \u001b[0m183 \u001b[2m│   │   \u001b[0moutputs = model.lightning_module.forward(                                          \u001b[31m│\u001b[0m\n",
       "\u001b[31m│\u001b[0m   \u001b[2m184 \u001b[0m\u001b[2m│   │   │   \u001b[0minputs, labels, images=images, compute_visualizations=\u001b[94mTrue\u001b[0m                     \u001b[31m│\u001b[0m\n",
       "\u001b[31m│\u001b[0m   \u001b[2m185 \u001b[0m\u001b[2m│   │   \u001b[0m)                                                                                  \u001b[31m│\u001b[0m\n",
       "\u001b[31m│\u001b[0m   \u001b[2m186 \u001b[0m\u001b[2m│   │   \u001b[0mrenders = process_visualizations(                                                  \u001b[31m│\u001b[0m\n",
       "\u001b[31m│\u001b[0m                                                                                                  \u001b[31m│\u001b[0m\n",
       "\u001b[31m│\u001b[0m \u001b[2;33m/home/klemen/luxonis/luxonis-train/luxonis_train/models/\u001b[0m\u001b[1;33mluxonis_lightning.py\u001b[0m:\u001b[94m404\u001b[0m in \u001b[92mforward\u001b[0m      \u001b[31m│\u001b[0m\n",
       "\u001b[31m│\u001b[0m                                                                                                  \u001b[31m│\u001b[0m\n",
       "\u001b[31m│\u001b[0m   \u001b[2m 401 \u001b[0m\u001b[2m│   │   │   │   \u001b[0m\u001b[95mand\u001b[0m labels \u001b[95mis\u001b[0m \u001b[95mnot\u001b[0m \u001b[94mNone\u001b[0m                                                    \u001b[31m│\u001b[0m\n",
       "\u001b[31m│\u001b[0m   \u001b[2m 402 \u001b[0m\u001b[2m│   │   │   \u001b[0m):                                                                            \u001b[31m│\u001b[0m\n",
       "\u001b[31m│\u001b[0m   \u001b[2m 403 \u001b[0m\u001b[2m│   │   │   │   \u001b[0m\u001b[94mfor\u001b[0m loss_name, loss \u001b[95min\u001b[0m \u001b[96mself\u001b[0m.losses[node_name].items():                    \u001b[31m│\u001b[0m\n",
       "\u001b[31m│\u001b[0m \u001b[31m❱ \u001b[0m 404 \u001b[2m│   │   │   │   │   \u001b[0mlosses[node_name][loss_name] = loss.run(outputs, labels)              \u001b[31m│\u001b[0m\n",
       "\u001b[31m│\u001b[0m   \u001b[2m 405 \u001b[0m\u001b[2m│   │   │   \u001b[0m                                                                              \u001b[31m│\u001b[0m\n",
       "\u001b[31m│\u001b[0m   \u001b[2m 406 \u001b[0m\u001b[2m│   │   │   \u001b[0m\u001b[94mif\u001b[0m (                                                                          \u001b[31m│\u001b[0m\n",
       "\u001b[31m│\u001b[0m   \u001b[2m 407 \u001b[0m\u001b[2m│   │   │   │   \u001b[0mcompute_metrics                                                           \u001b[31m│\u001b[0m\n",
       "\u001b[31m│\u001b[0m                                                                                                  \u001b[31m│\u001b[0m\n",
       "\u001b[31m│\u001b[0m \u001b[2;33m/home/klemen/luxonis/luxonis-train/luxonis_train/attached_modules/losses/\u001b[0m\u001b[1;33mbase_loss.py\u001b[0m:\u001b[94m58\u001b[0m in \u001b[92mrun\u001b[0m  \u001b[31m│\u001b[0m\n",
       "\u001b[31m│\u001b[0m                                                                                                  \u001b[31m│\u001b[0m\n",
       "\u001b[31m│\u001b[0m   \u001b[2m55 \u001b[0m\u001b[2;33m│   │   \u001b[0m\u001b[33m@raises IncompatibleException: If the inputs are not compatible\u001b[0m                     \u001b[31m│\u001b[0m\n",
       "\u001b[31m│\u001b[0m   \u001b[2m56 \u001b[0m\u001b[2;33m│   │   │   \u001b[0m\u001b[33mwith the module.\u001b[0m                                                                \u001b[31m│\u001b[0m\n",
       "\u001b[31m│\u001b[0m   \u001b[2m57 \u001b[0m\u001b[2;33m│   │   \u001b[0m\u001b[33m\"\"\"\u001b[0m                                                                                 \u001b[31m│\u001b[0m\n",
       "\u001b[31m│\u001b[0m \u001b[31m❱ \u001b[0m58 \u001b[2m│   │   \u001b[0m\u001b[94mreturn\u001b[0m \u001b[96mself\u001b[0m(*\u001b[96mself\u001b[0m.prepare(inputs, labels))                                          \u001b[31m│\u001b[0m\n",
       "\u001b[31m│\u001b[0m   \u001b[2m59 \u001b[0m                                                                                            \u001b[31m│\u001b[0m\n",
       "\u001b[31m│\u001b[0m                                                                                                  \u001b[31m│\u001b[0m\n",
       "\u001b[31m│\u001b[0m \u001b[2;33m/home/klemen/luxonis/luxonis-train/luxonis_train/attached_modules/losses/\u001b[0m\u001b[1;33madaptive_detection_loss\u001b[0m \u001b[31m│\u001b[0m\n",
       "\u001b[31m│\u001b[0m \u001b[1;33m.py\u001b[0m:\u001b[94m97\u001b[0m in \u001b[92mprepare\u001b[0m                                                                                \u001b[31m│\u001b[0m\n",
       "\u001b[31m│\u001b[0m                                                                                                  \u001b[31m│\u001b[0m\n",
       "\u001b[31m│\u001b[0m   \u001b[2m 94 \u001b[0m\u001b[2m│   │   \u001b[0m                                                                                   \u001b[31m│\u001b[0m\n",
       "\u001b[31m│\u001b[0m   \u001b[2m 95 \u001b[0m\u001b[2m│   │   \u001b[0m\u001b[96mself\u001b[0m._init_parameters(feats)                                                       \u001b[31m│\u001b[0m\n",
       "\u001b[31m│\u001b[0m   \u001b[2m 96 \u001b[0m\u001b[2m│   │   \u001b[0m                                                                                   \u001b[31m│\u001b[0m\n",
       "\u001b[31m│\u001b[0m \u001b[31m❱ \u001b[0m 97 \u001b[2m│   │   \u001b[0mtarget = \u001b[96mself\u001b[0m._preprocess_bbox_target(target, batch_size)                          \u001b[31m│\u001b[0m\n",
       "\u001b[31m│\u001b[0m   \u001b[2m 98 \u001b[0m\u001b[2m│   │   \u001b[0mpred_bboxes = dist2bbox(pred_distri, \u001b[96mself\u001b[0m.anchor_points_strided)                   \u001b[31m│\u001b[0m\n",
       "\u001b[31m│\u001b[0m   \u001b[2m 99 \u001b[0m\u001b[2m│   │   \u001b[0m                                                                                   \u001b[31m│\u001b[0m\n",
       "\u001b[31m│\u001b[0m   \u001b[2m100 \u001b[0m\u001b[2m│   │   \u001b[0mgt_labels = target[:, :, :\u001b[94m1\u001b[0m]                                                       \u001b[31m│\u001b[0m\n",
       "\u001b[31m│\u001b[0m                                                                                                  \u001b[31m│\u001b[0m\n",
       "\u001b[31m│\u001b[0m \u001b[2;33m/home/klemen/luxonis/luxonis-train/luxonis_train/attached_modules/losses/\u001b[0m\u001b[1;33madaptive_detection_loss\u001b[0m \u001b[31m│\u001b[0m\n",
       "\u001b[31m│\u001b[0m \u001b[1;33m.py\u001b[0m:\u001b[94m234\u001b[0m in \u001b[92m_preprocess_bbox_target\u001b[0m                                                               \u001b[31m│\u001b[0m\n",
       "\u001b[31m│\u001b[0m                                                                                                  \u001b[31m│\u001b[0m\n",
       "\u001b[31m│\u001b[0m   \u001b[2m231 \u001b[0m\u001b[2m│   │   \u001b[0m\u001b[94mfor\u001b[0m \u001b[96mid\u001b[0m, count \u001b[95min\u001b[0m \u001b[96mzip\u001b[0m(sample_ids, counts):                                          \u001b[31m│\u001b[0m\n",
       "\u001b[31m│\u001b[0m   \u001b[2m232 \u001b[0m\u001b[2m│   │   │   \u001b[0mout_target[\u001b[96mid\u001b[0m, :count] = target[target[:, \u001b[94m0\u001b[0m] == \u001b[96mid\u001b[0m][:, \u001b[94m1\u001b[0m:]                     \u001b[31m│\u001b[0m\n",
       "\u001b[31m│\u001b[0m   \u001b[2m233 \u001b[0m\u001b[2m│   │   \u001b[0m                                                                                   \u001b[31m│\u001b[0m\n",
       "\u001b[31m│\u001b[0m \u001b[31m❱ \u001b[0m234 \u001b[2m│   │   \u001b[0mscaled_target = out_target[:, :, \u001b[94m1\u001b[0m:\u001b[94m5\u001b[0m] * \u001b[96mself\u001b[0m.gt_bboxes_scale                       \u001b[31m│\u001b[0m\n",
       "\u001b[31m│\u001b[0m   \u001b[2m235 \u001b[0m\u001b[2m│   │   \u001b[0mout_target[..., \u001b[94m1\u001b[0m:] = box_convert(scaled_target, \u001b[33m\"\u001b[0m\u001b[33mxywh\u001b[0m\u001b[33m\"\u001b[0m, \u001b[33m\"\u001b[0m\u001b[33mxyxy\u001b[0m\u001b[33m\"\u001b[0m)                   \u001b[31m│\u001b[0m\n",
       "\u001b[31m│\u001b[0m   \u001b[2m236 \u001b[0m\u001b[2m│   │   \u001b[0m\u001b[94mreturn\u001b[0m out_target                                                                  \u001b[31m│\u001b[0m\n",
       "\u001b[31m│\u001b[0m   \u001b[2m237 \u001b[0m                                                                                           \u001b[31m│\u001b[0m\n",
       "\u001b[31m╰──────────────────────────────────────────────────────────────────────────────────────────────────╯\u001b[0m\n",
       "\u001b[1;91mRuntimeError: \u001b[0mExpected all tensors to be on the same device, but found at least two devices, cu\u001b[1;92mda:0\u001b[0m and cpu!\n"
      ]
     },
     "metadata": {},
     "output_type": "display_data"
    }
   ],
   "source": [
    "luxonis_model.infer(\n",
    "    weights=weights,\n",
    "    view=\"test\"\n",
    ")\n",
    "\n",
    "# NOTE: If you are using Google Colab use this and images will be saved to \"infer_results\" directory\n",
    "# luxonis_model.infer(weights=weights, save_dir=\"infer_results\") "
   ]
  },
  {
   "cell_type": "markdown",
   "metadata": {},
   "source": [
    "## 🗂️ Export and Archive"
   ]
  },
  {
   "cell_type": "markdown",
   "metadata": {},
   "source": [
    "Once the model is trained and tested we want to prepare it for deployment on the device. This preparation consists of 2 steps. First we want to export the model that was trained with PyTorch to a more general format called ONNX. And then we want to package this exported model with all the metadata that holds information about inputs, outputs and training configuration that was used. This is called archiving. Both of these steps can be easily done by just one command in LuxonisTrain."
   ]
  },
  {
   "cell_type": "code",
   "execution_count": 78,
   "metadata": {},
   "outputs": [
    {
     "data": {
      "text/html": [
       "<pre style=\"white-space:pre;overflow-x:auto;line-height:normal;font-family:Menlo,'DejaVu Sans Mono',consolas,'Courier New',monospace\"><span style=\"color: #808000; text-decoration-color: #808000\">WARNING </span> No model executable specified for archiving.                                                   <a href=\"file:///home/klemen/luxonis/luxonis-train/luxonis_train/core/core.py\" target=\"_blank\"><span style=\"color: #7f7f7f; text-decoration-color: #7f7f7f\">core.py</span></a><span style=\"color: #7f7f7f; text-decoration-color: #7f7f7f\">:</span><a href=\"file:///home/klemen/luxonis/luxonis-train/luxonis_train/core/core.py#689\" target=\"_blank\"><span style=\"color: #7f7f7f; text-decoration-color: #7f7f7f\">689</span></a>\n",
       "</pre>\n"
      ],
      "text/plain": [
       "\u001b[33mWARNING \u001b[0m No model executable specified for archiving.                                                   \u001b]8;id=910709;file:///home/klemen/luxonis/luxonis-train/luxonis_train/core/core.py\u001b\\\u001b[2mcore.py\u001b[0m\u001b]8;;\u001b\\\u001b[2m:\u001b[0m\u001b]8;id=558230;file:///home/klemen/luxonis/luxonis-train/luxonis_train/core/core.py#689\u001b\\\u001b[2m689\u001b[0m\u001b]8;;\u001b\\\n"
      ]
     },
     "metadata": {},
     "output_type": "display_data"
    },
    {
     "data": {
      "text/html": [
       "<pre style=\"white-space:pre;overflow-x:auto;line-height:normal;font-family:Menlo,'DejaVu Sans Mono',consolas,'Courier New',monospace\"><span style=\"color: #008000; text-decoration-color: #008000\">INFO    </span> NN Archive saved to output/<span style=\"color: #008080; text-decoration-color: #008080; font-weight: bold\">1</span>-fuchsia-jaguar/archive/fruit_detection_model.onnx.tar.xz          <a href=\"file:///home/klemen/luxonis/luxonis-train/luxonis_train/core/core.py\" target=\"_blank\"><span style=\"color: #7f7f7f; text-decoration-color: #7f7f7f\">core.py</span></a><span style=\"color: #7f7f7f; text-decoration-color: #7f7f7f\">:</span><a href=\"file:///home/klemen/luxonis/luxonis-train/luxonis_train/core/core.py#765\" target=\"_blank\"><span style=\"color: #7f7f7f; text-decoration-color: #7f7f7f\">765</span></a>\n",
       "</pre>\n"
      ],
      "text/plain": [
       "\u001b[32mINFO    \u001b[0m NN Archive saved to output/\u001b[1;36m1\u001b[0m-fuchsia-jaguar/archive/fruit_detection_model.onnx.tar.xz          \u001b]8;id=166781;file:///home/klemen/luxonis/luxonis-train/luxonis_train/core/core.py\u001b\\\u001b[2mcore.py\u001b[0m\u001b]8;;\u001b\\\u001b[2m:\u001b[0m\u001b]8;id=907728;file:///home/klemen/luxonis/luxonis-train/luxonis_train/core/core.py#765\u001b\\\u001b[2m765\u001b[0m\u001b]8;;\u001b\\\n"
      ]
     },
     "metadata": {},
     "output_type": "display_data"
    },
    {
     "name": "stdout",
     "output_type": "stream",
     "text": [
      "Model exported to: output/1-fuchsia-jaguar/archive/fruit_detection_model.onnx.tar.xz\n"
     ]
    }
   ],
   "source": [
    "archieve_path = luxonis_model.archive(weights=weights)\n",
    "print(\"Model archieved to:\", archieve_path)"
   ]
  },
  {
   "cell_type": "markdown",
   "metadata": {},
   "source": [
    "Notice that two new folders were created in our run directory. One is called `export` and has an ONNX model while the other is called `archive` which has `.tar.xz` file. The tar file is a compressed file which holds aforementioned ONNX model with all the metadata of the model."
   ]
  },
  {
   "cell_type": "markdown",
   "metadata": {},
   "source": [
    "## 🤖 Deploy"
   ]
  },
  {
   "cell_type": "markdown",
   "metadata": {},
   "source": [
    "We have the exported model and now the goal is to deploy it on the Luxonis device. The specific format of the model depends on the series of the Luxonis device you have. To make the process simple we recommend you use our [`HubAI`](https://hub.luxonis.com) platform. You can login, navigate to AI section and then click the button `+ Add Model`. \n",
    "\n",
    "<img src=\"./media/first_page.png\" alt=\"first page\" width=\"800\">\n",
    "\n",
    "Once there you'll want to click `Custom` and after that you'll fill out the form to provide some description of your model. And at the bottom you can appload the actual model files. Since we already generated an `NNArchive` (our .tar.xz file) feel free to add it here and click `Add`. \n",
    "\n",
    "<img src=\"./media/model_description.png\" alt=\"model description\" width=\"400\">\n",
    "\n",
    "Once model is uploaded you are able to see it under `Team's Models` and when you click it you can export it for your specific Luxonis device version. \n",
    "\n",
    "<img src=\"./media/convert.png\" alt=\"convert\" width=\"800\">\n",
    "\n",
    "The process might take some time and after it's finished we are able to download the model and use it with our DepthAI script. In this tutorial we'll use RVC2 but you can follow the same process for other versions. All that is now left to do is to create a DepthAI script and deploy the model to the device. We already made such example below. There are two variables that you need to populate though:\n",
    "- `ModelSlug`: This is a string representation of your model version based on which DepthAI can download it. You can get it by clicking the `Copy Slug` button right next to the `Convert` that you used before.\n",
    "- `ApiToken`: Since this model is private to your team you need to have an token in order to access it. To generate the token we navigate to team settings and click `+ Create API Token`. We then just copy and paste it in the script below. \n",
    "\n",
    "<img src=\"./media/model_slug.png\" alt=\"model_slug\" width=\"400\">\n",
    "\n",
    "<img src=\"./media/api_token.png\" alt=\"api_token\" width=\"400\">"
   ]
  },
  {
   "cell_type": "markdown",
   "metadata": {},
   "source": [
    "### 📷 DepthAI Script"
   ]
  },
  {
   "cell_type": "code",
   "execution_count": 79,
   "metadata": {},
   "outputs": [],
   "source": [
    "MODEL_SLUG = \"fruit-detection-model:model-version-1\" # TODO: Insert your model slug\n",
    "API_TOKEN = \"insert_your_token_here\" # TODO: Insert your API Token\n",
    "API_TOKEN = \"tapi.o0M6yGp4pI_JSUKjdBTzKg.WOaw2jbrgPcHkX4GZfbn0pElq9wQNqUzvxmjjeHhfMjOfFrW-6XqP0sVGL58iLlNGJY9OTsBFuWKziXfcYOEDw\" "
   ]
  },
  {
   "cell_type": "markdown",
   "metadata": {},
   "source": [
    "To run the DepthAI script we need to install it. Also note that this script must be run locally and needs a Luxonis device connected to your machine. "
   ]
  },
  {
   "cell_type": "code",
   "execution_count": 80,
   "metadata": {},
   "outputs": [
    {
     "name": "stdout",
     "output_type": "stream",
     "text": [
      "Looking in indexes: https://pypi.org/simple, https://artifacts.luxonis.com/artifactory/luxonis-python-release-local/\n",
      "\u001b[33mDEPRECATION: The HTML index page being used (https://artifacts.luxonis.com/artifactory/luxonis-python-release-local/depthai/) is not a proper HTML 5 document. This is in violation of PEP 503 which requires these pages to be well-formed HTML 5 documents. Please reach out to the owners of this index page, and ask them to update this index page to a valid HTML 5 document. pip 22.2 will enforce this behaviour change. Discussion can be found at https://github.com/pypa/pip/issues/10825\u001b[0m\u001b[33m\n",
      "\u001b[0mCollecting depthai==3.0.0a4\n",
      "  Downloading https://artifacts.luxonis.com/artifactory/luxonis-python-release-local/depthai/depthai-3.0.0a4-cp310-cp310-manylinux_2_17_x86_64.manylinux2014_x86_64.whl (85.7 MB)\n",
      "\u001b[2K     \u001b[38;2;114;156;31m━━━━━━━━━━━━━━━━━━━━━━━━━━━━━━━━━━━━━━━━\u001b[0m \u001b[32m85.7/85.7 MB\u001b[0m \u001b[31m9.6 MB/s\u001b[0m eta \u001b[36m0:00:00\u001b[0m0m eta \u001b[36m0:00:01\u001b[0m[36m0:00:01\u001b[0m\n",
      "\u001b[?25hInstalling collected packages: depthai\n",
      "  Attempting uninstall: depthai\n",
      "    Found existing installation: depthai 2.28.0.0\n",
      "    Uninstalling depthai-2.28.0.0:\n",
      "      Successfully uninstalled depthai-2.28.0.0\n",
      "Successfully installed depthai-3.0.0a4\n",
      "Note: you may need to restart the kernel to use updated packages.\n"
     ]
    }
   ],
   "source": [
    "%pip install --extra-index-url https://artifacts.luxonis.com/artifactory/luxonis-python-release-local/ depthai==3.0.0a4"
   ]
  },
  {
   "cell_type": "code",
   "execution_count": 84,
   "metadata": {},
   "outputs": [
    {
     "data": {
      "text/html": [
       "<pre style=\"white-space:pre;overflow-x:auto;line-height:normal;font-family:Menlo,'DejaVu Sans Mono',consolas,'Courier New',monospace\"><span style=\"color: #800000; text-decoration-color: #800000\">╭─────────────────────────────── </span><span style=\"color: #800000; text-decoration-color: #800000; font-weight: bold\">Traceback </span><span style=\"color: #bf7f7f; text-decoration-color: #bf7f7f; font-weight: bold\">(most recent call last)</span><span style=\"color: #800000; text-decoration-color: #800000\"> ────────────────────────────────╮</span>\n",
       "<span style=\"color: #800000; text-decoration-color: #800000\">│</span> in <span style=\"color: #00ff00; text-decoration-color: #00ff00\">&lt;module&gt;</span>:<span style=\"color: #0000ff; text-decoration-color: #0000ff\">20</span>                                                                                   <span style=\"color: #800000; text-decoration-color: #800000\">│</span>\n",
       "<span style=\"color: #800000; text-decoration-color: #800000\">│</span>                                                                                                  <span style=\"color: #800000; text-decoration-color: #800000\">│</span>\n",
       "<span style=\"color: #800000; text-decoration-color: #800000\">│</span>   <span style=\"color: #7f7f7f; text-decoration-color: #7f7f7f\">17 </span>                                                                                            <span style=\"color: #800000; text-decoration-color: #800000\">│</span>\n",
       "<span style=\"color: #800000; text-decoration-color: #800000\">│</span>   <span style=\"color: #7f7f7f; text-decoration-color: #7f7f7f\">18 </span>labels = [<span style=\"color: #808000; text-decoration-color: #808000\">\"apple\"</span>, <span style=\"color: #808000; text-decoration-color: #808000\">\"orange\"</span>, <span style=\"color: #808000; text-decoration-color: #808000\">\"banana\"</span>]                                                      <span style=\"color: #800000; text-decoration-color: #800000\">│</span>\n",
       "<span style=\"color: #800000; text-decoration-color: #800000\">│</span>   <span style=\"color: #7f7f7f; text-decoration-color: #7f7f7f\">19 </span>                                                                                            <span style=\"color: #800000; text-decoration-color: #800000\">│</span>\n",
       "<span style=\"color: #800000; text-decoration-color: #800000\">│</span> <span style=\"color: #800000; text-decoration-color: #800000\">❱ </span>20 <span style=\"color: #0000ff; text-decoration-color: #0000ff\">with</span> dai.Pipeline() <span style=\"color: #0000ff; text-decoration-color: #0000ff\">as</span> pipeline:                                                            <span style=\"color: #800000; text-decoration-color: #800000\">│</span>\n",
       "<span style=\"color: #800000; text-decoration-color: #800000\">│</span>   <span style=\"color: #7f7f7f; text-decoration-color: #7f7f7f\">21 </span><span style=\"color: #7f7f7f; text-decoration-color: #7f7f7f\">│   </span>camera_node = pipeline.create(dai.node.Camera).build()                                  <span style=\"color: #800000; text-decoration-color: #800000\">│</span>\n",
       "<span style=\"color: #800000; text-decoration-color: #800000\">│</span>   <span style=\"color: #7f7f7f; text-decoration-color: #7f7f7f\">22 </span><span style=\"color: #7f7f7f; text-decoration-color: #7f7f7f\">│   </span>                                                                                        <span style=\"color: #800000; text-decoration-color: #800000\">│</span>\n",
       "<span style=\"color: #800000; text-decoration-color: #800000\">│</span>   <span style=\"color: #7f7f7f; text-decoration-color: #7f7f7f\">23 </span><span style=\"color: #7f7f7f; text-decoration-color: #7f7f7f\">│   </span>model_slug, model_version_slug = parse_model_slug(MODEL_SLUG)                           <span style=\"color: #800000; text-decoration-color: #800000\">│</span>\n",
       "<span style=\"color: #800000; text-decoration-color: #800000\">╰──────────────────────────────────────────────────────────────────────────────────────────────────╯</span>\n",
       "<span style=\"color: #ff0000; text-decoration-color: #ff0000; font-weight: bold\">RuntimeError: </span>Failed to connect to device, error message: X_LINK_DEVICE_ALREADY_IN_USE\n",
       "</pre>\n"
      ],
      "text/plain": [
       "\u001b[31m╭─\u001b[0m\u001b[31m──────────────────────────────\u001b[0m\u001b[31m \u001b[0m\u001b[1;31mTraceback \u001b[0m\u001b[1;2;31m(most recent call last)\u001b[0m\u001b[31m \u001b[0m\u001b[31m───────────────────────────────\u001b[0m\u001b[31m─╮\u001b[0m\n",
       "\u001b[31m│\u001b[0m in \u001b[92m<module>\u001b[0m:\u001b[94m20\u001b[0m                                                                                   \u001b[31m│\u001b[0m\n",
       "\u001b[31m│\u001b[0m                                                                                                  \u001b[31m│\u001b[0m\n",
       "\u001b[31m│\u001b[0m   \u001b[2m17 \u001b[0m                                                                                            \u001b[31m│\u001b[0m\n",
       "\u001b[31m│\u001b[0m   \u001b[2m18 \u001b[0mlabels = [\u001b[33m\"\u001b[0m\u001b[33mapple\u001b[0m\u001b[33m\"\u001b[0m, \u001b[33m\"\u001b[0m\u001b[33morange\u001b[0m\u001b[33m\"\u001b[0m, \u001b[33m\"\u001b[0m\u001b[33mbanana\u001b[0m\u001b[33m\"\u001b[0m]                                                      \u001b[31m│\u001b[0m\n",
       "\u001b[31m│\u001b[0m   \u001b[2m19 \u001b[0m                                                                                            \u001b[31m│\u001b[0m\n",
       "\u001b[31m│\u001b[0m \u001b[31m❱ \u001b[0m20 \u001b[94mwith\u001b[0m dai.Pipeline() \u001b[94mas\u001b[0m pipeline:                                                            \u001b[31m│\u001b[0m\n",
       "\u001b[31m│\u001b[0m   \u001b[2m21 \u001b[0m\u001b[2m│   \u001b[0mcamera_node = pipeline.create(dai.node.Camera).build()                                  \u001b[31m│\u001b[0m\n",
       "\u001b[31m│\u001b[0m   \u001b[2m22 \u001b[0m\u001b[2m│   \u001b[0m                                                                                        \u001b[31m│\u001b[0m\n",
       "\u001b[31m│\u001b[0m   \u001b[2m23 \u001b[0m\u001b[2m│   \u001b[0mmodel_slug, model_version_slug = parse_model_slug(MODEL_SLUG)                           \u001b[31m│\u001b[0m\n",
       "\u001b[31m╰──────────────────────────────────────────────────────────────────────────────────────────────────╯\u001b[0m\n",
       "\u001b[1;91mRuntimeError: \u001b[0mFailed to connect to device, error message: X_LINK_DEVICE_ALREADY_IN_USE\n"
      ]
     },
     "metadata": {},
     "output_type": "display_data"
    }
   ],
   "source": [
    "from typing import Tuple\n",
    "import depthai as dai\n",
    "import os\n",
    "\n",
    "os.environ[\"DEPTHAI_TOKEN\"] = API_TOKEN\n",
    "\n",
    "def parse_model_slug(full_slug) -> Tuple[str, str]:\n",
    "    if \":\" not in full_slug:\n",
    "        raise NameError(\n",
    "            \"Please provide the model slug in the format of 'model_slug:model_version_slug'\"\n",
    "        )\n",
    "    model_slug_parts = full_slug.split(\":\")\n",
    "    model_slug = model_slug_parts[0]\n",
    "    model_version_slug = model_slug_parts[1]\n",
    "\n",
    "    return model_slug, model_version_slug\n",
    "\n",
    "labels = [\"apple\", \"orange\", \"banana\"]\n",
    "\n",
    "with dai.Pipeline() as pipeline:\n",
    "    camera_node = pipeline.create(dai.node.Camera).build()\n",
    "\n",
    "    model_slug, model_version_slug = parse_model_slug(MODEL_SLUG)\n",
    "    model = dai.NNModelDescription(\n",
    "        modelSlug=model_slug, modelVersionSlug=model_version_slug\n",
    "    )\n",
    "\n",
    "    detection_nn = pipeline.create(dai.node.DetectionNetwork).build(camera_node, model)\n",
    "\n",
    "    frame_queue = detection_nn.passthrough.createOutputQueue()\n",
    "    detection_queue = detection_nn.out.createOutputQueue()\n",
    "\n",
    "    pipeline.start()\n",
    "\n",
    "    while pipeline.isRunning():\n",
    "        frame: np.ndarray = frame_queue.get().getCvFrame()\n",
    "        nn_output: dai.ImgDetections = detection_queue.get()\n",
    "\n",
    "        for detection in nn_output.detections:\n",
    "            xmin, ymin, xmax, ymax = (\n",
    "                detection.xmin,\n",
    "                detection.ymin,\n",
    "                detection.xmax,\n",
    "                detection.ymax,\n",
    "            )\n",
    "\n",
    "            xmin = int(xmin * frame.shape[1])\n",
    "            ymin = int(ymin * frame.shape[0])\n",
    "            xmax = int(xmax * frame.shape[1])\n",
    "            ymax = int(ymax * frame.shape[0])\n",
    "\n",
    "            cv2.rectangle(\n",
    "                frame, (int(xmin), int(ymin)), (int(xmax), int(ymax)), (255, 0, 0), 2\n",
    "            )\n",
    "            cv2.putText(\n",
    "                frame,\n",
    "                f\"{detection.confidence * 100:.2f}%\",\n",
    "                (int(xmin) + 10, int(ymin) + 20),\n",
    "                cv2.FONT_HERSHEY_TRIPLEX,\n",
    "                0.5,\n",
    "                255,\n",
    "            )\n",
    "            cv2.putText(\n",
    "                frame,\n",
    "                labels[detection.label],\n",
    "                (int(xmin) + 10, int(ymin) + 40),\n",
    "                cv2.FONT_HERSHEY_TRIPLEX,\n",
    "                0.5,\n",
    "                255,\n",
    "            )\n",
    "\n",
    "        cv2.imshow(\"Detections\", frame)\n",
    "        key = cv2.waitKey(1)\n",
    "        if key == ord(\"q\"):\n",
    "            pipeline.stop()\n",
    "            break"
   ]
  }
 ],
 "metadata": {
  "kernelspec": {
   "display_name": "tutorial_env",
   "language": "python",
   "name": "python3"
  },
  "language_info": {
   "codemirror_mode": {
    "name": "ipython",
    "version": 3
   },
   "file_extension": ".py",
   "mimetype": "text/x-python",
   "name": "python",
   "nbconvert_exporter": "python",
   "pygments_lexer": "ipython3",
   "version": "3.10.12"
  }
 },
 "nbformat": 4,
 "nbformat_minor": 2
}
