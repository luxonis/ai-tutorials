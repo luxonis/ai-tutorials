{
 "cells": [
  {
   "cell_type": "markdown",
   "id": "f9de6101",
   "metadata": {},
   "source": [
    "<img src=\"https://www.luxonis.com/logo.svg\" width=\"400\">\n",
    "\n",
    "# 📦 Creating an LDF Dataset Using the Luxonis-ML Parser\n",
    "\n",
    "## 🌟 Overview\n",
    "In this tutorial, we'll walk through the process of creating a Luxonis Dataset Format (LDF) that can be used to train AI models. We'll use the parser provided by `luxonis-ml` for quick and easy dataset creation—no need to build a custom generator.\n",
    "\n",
    "---\n",
    "\n",
    "## 📜 Table of Contents\n",
    "\n",
    "- [🛠️ Installation](#installation)\n",
    "- [📥 Download COCO People Subset Dataset](#download-coco-people-subset-dataset)\n",
    "- [🏋️‍♂️ Parsing the Dataset](#parsing-the-dataset)\n",
    "- [📊 Inspecting the Dataset via Loader](#inspecting-the-dataset-via-loader)\n"
   ]
  },
  {
   "cell_type": "markdown",
   "id": "dec68085",
   "metadata": {},
   "source": [
    "<a name=\"️installation\"></a>\n",
    "\n",
    "## 🛠️ Installation"
   ]
  },
  {
   "cell_type": "markdown",
   "id": "ca790137",
   "metadata": {},
   "source": [
    "The primary goal of this tutorial is to demonstrate how to use [`LuxonisML`](https://github.com/luxonis/luxonis-ml) to create computer vision datasets in the Luxonis Data Format (LDF), without the need for a custom generator function.\n"
   ]
  },
  {
   "cell_type": "code",
   "execution_count": null,
   "id": "ca4d55c3",
   "metadata": {},
   "outputs": [],
   "source": [
    "%pip install -q luxonis-ml[data]>=0.7.0"
   ]
  },
  {
   "cell_type": "code",
   "execution_count": null,
   "id": "4c06d8fc",
   "metadata": {},
   "outputs": [],
   "source": [
    "import os\n",
    "import zipfile\n",
    "from pathlib import Path\n",
    "\n",
    "import cv2\n",
    "import gdown\n",
    "import matplotlib.pyplot as plt\n",
    "import numpy as np\n",
    "\n",
    "from luxonis_ml.data import LuxonisLoader, LuxonisParser"
   ]
  },
  {
   "cell_type": "markdown",
   "id": "367d02c5",
   "metadata": {},
   "source": [
    "<a name=\"download-coco-people-subset-dataset\"></a>\n",
    "\n",
    "## 📥 Download COCO People Subset Dataset"
   ]
  },
  {
   "cell_type": "code",
   "execution_count": null,
   "id": "5cc9ddf2",
   "metadata": {
    "scrolled": true
   },
   "outputs": [],
   "source": [
    "url = \"https://drive.google.com/uc?id=1XlvFK7aRmt8op6-hHkWVKIJQeDtOwoRT\"\n",
    "output_zip = \"../data/COCO_people_subset.zip\"\n",
    "dataset_dir = \"../data/coco_test\"\n",
    "\n",
    "if not os.path.exists(dataset_dir):\n",
    "    Path(dataset_dir).mkdir(parents=True)\n",
    "\n",
    "if not os.path.exists(output_zip):\n",
    "    gdown.download(url, output_zip, quiet=False)\n",
    "\n",
    "with zipfile.ZipFile(output_zip, \"r\") as zip_ref:\n",
    "    zip_ref.extractall(dataset_dir)"
   ]
  },
  {
   "cell_type": "markdown",
   "id": "6a1868cb",
   "metadata": {},
   "source": [
    "<a name=\"parsing-the-dataset\"></a>\n",
    "\n",
    "## 🏋️‍♂️ Parsing the Dataset"
   ]
  },
  {
   "cell_type": "markdown",
   "id": "2befa6b3",
   "metadata": {},
   "source": [
    "If your data is in one of the supported formats below, `LuxonisML` provides automatic parsers to easily add it to a `LuxonisDataset`:\n",
    "\n",
    "- COCO  \n",
    "- YOLO  \n",
    "- VOC  \n",
    "- Darknet  \n",
    "- CreateML  \n",
    "- ...and more!\n",
    "\n",
    "👉 For a full list of available parsers, check out the [LuxonisML Parser Reference](https://github.com/luxonis/luxonis-ml/blob/main/luxonis_ml/data/README.md#luxonisparser).\n",
    "\n",
    "\n",
    "In the following example, we’ll demonstrate how to convert a dataset from the COCO format."
   ]
  },
  {
   "cell_type": "code",
   "execution_count": null,
   "id": "4404049f",
   "metadata": {},
   "outputs": [],
   "source": [
    "dataset_name = \"coco_test\"\n",
    "parser = LuxonisParser(\n",
    "    dataset_dir, dataset_name=dataset_name, delete_local=True\n",
    ")\n",
    "dataset = parser.parse(random_split=True)"
   ]
  },
  {
   "cell_type": "markdown",
   "id": "73c0755a",
   "metadata": {},
   "source": [
    "<a name=\"inspecting-the-dataset-via-loader\"></a>\n",
    "\n",
    "## 📊 Inspecting the Dataset via Loader\n"
   ]
  },
  {
   "cell_type": "markdown",
   "id": "5e2f579a",
   "metadata": {},
   "source": [
    "You can inspect a dataset directly from the command line:\n",
    "\n",
    "```bash\n",
    "luxonis_ml data inspect <dataset_name>\n",
    "```\n",
    "\n",
    "Other useful commands:\n",
    "\n",
    "- `luxonis_ml data health` — run a health-check and spot common annotation issues  \n",
    "- `luxonis_ml data info`   — print summary statistics and metadata\n",
    "\n",
    "\n",
    "👉 For a full list of CLI commands, check out the [LuxonisML CLI Documentation](https://github.com/luxonis/luxonis-ml/blob/main/luxonis_ml/data/datasets/README.md#luxonisml-cli).\n"
   ]
  },
  {
   "cell_type": "markdown",
   "id": "05e4b31b",
   "metadata": {},
   "source": [
    "Using the Python API instead of the CLI\n",
    "In the example below we skip the CLI and traverse the train split with `LuxonisLoader`, then visualise bounding boxes, masks and key-points:"
   ]
  },
  {
   "cell_type": "code",
   "execution_count": null,
   "id": "fda91cd6-9fe5-43ee-ab88-3dfc57ff89ef",
   "metadata": {},
   "outputs": [],
   "source": [
    "loader = LuxonisLoader(dataset, view=\"train\")\n",
    "for image, ann in loader:\n",
    "    cls = ann[\"/classification\"]\n",
    "    box = ann[\"/boundingbox\"]\n",
    "    seg = ann[\"/segmentation\"]\n",
    "    kps = ann[\"/keypoints\"]\n",
    "\n",
    "    h, w, _ = image.shape\n",
    "    for b in box:\n",
    "        cv2.rectangle(\n",
    "            image,\n",
    "            (int(b[1] * w), int(b[2] * h)),\n",
    "            (int(b[1] * w + b[3] * w), int(b[2] * h + b[4] * h)),\n",
    "            (255, 0, 0),\n",
    "            2,\n",
    "        )\n",
    "    mask_viz = np.zeros((h, w, 3)).astype(np.uint8)\n",
    "    for mask in seg:\n",
    "        mask_viz[mask == 1, 2] = 255\n",
    "    image = cv2.addWeighted(image, 0.5, mask_viz, 0.5, 0)\n",
    "\n",
    "    for kp in kps:\n",
    "        kp = kp.reshape(-1, 3)\n",
    "        for k in kp:\n",
    "            cv2.circle(\n",
    "                image, (int(k[0] * w), int(k[1] * h)), 2, (0, 255, 0), 2\n",
    "            )\n",
    "\n",
    "    plt.imshow(image)\n",
    "    plt.axis(\"off\")\n",
    "    plt.show()"
   ]
  }
 ],
 "metadata": {
  "kernelspec": {
   "display_name": ".venv",
   "language": "python",
   "name": "python3"
  },
  "language_info": {
   "codemirror_mode": {
    "name": "ipython",
    "version": 3
   },
   "file_extension": ".py",
   "mimetype": "text/x-python",
   "name": "python",
   "nbconvert_exporter": "python",
   "pygments_lexer": "ipython3",
   "version": "3.10.11"
  }
 },
 "nbformat": 4,
 "nbformat_minor": 5
}
